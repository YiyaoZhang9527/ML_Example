{
 "cells": [
  {
   "cell_type": "code",
   "execution_count": 1,
   "metadata": {},
   "outputs": [
    {
     "output_type": "stream",
     "name": "stdout",
     "text": "前序遍历：\nD\nB\nA\nC\nE\nG\nF\n\n\n中序遍历：\nA\nB\nC\nD\nE\nF\nG\n\n\n后序遍历：\nA\nC\nB\nF\nG\nE\nD\n\n\n"
    }
   ],
   "source": [
    "class Node:  \n",
    "    def __init__(self,value=None,left=None,right=None):  \n",
    "         self.value=value  \n",
    "         self.left=left    #左子树\n",
    "         self.right=right  #右子树\n",
    "def preTraverse(root):  \n",
    "    '''\n",
    "    前序遍历\n",
    "    '''\n",
    "    if root==None:  \n",
    "        return  \n",
    "    print(root.value)  \n",
    "    preTraverse(root.left)  \n",
    "    preTraverse(root.right)  \n",
    " \n",
    "def midTraverse(root): \n",
    "    '''\n",
    "    中序遍历\n",
    "    '''\n",
    "    if root==None:  \n",
    "        return  \n",
    "    midTraverse(root.left)  \n",
    "    print(root.value)  \n",
    "    midTraverse(root.right)  \n",
    "  \n",
    "def afterTraverse(root):  \n",
    "    '''\n",
    "    后序遍历\n",
    "    '''\n",
    "    if root==None:  \n",
    "        return  \n",
    "    afterTraverse(root.left)  \n",
    "    afterTraverse(root.right)  \n",
    "    print(root.value)\n",
    "    \n",
    "if __name__=='__main__':\n",
    "    root=Node('D',Node('B',Node('A'),Node('C')),Node('E',right=Node('G',Node('F'))))\n",
    "    print('前序遍历：')\n",
    "    preTraverse(root)\n",
    "    print('\\n')\n",
    "    print('中序遍历：')\n",
    "    midTraverse(root)\n",
    "    print('\\n')\n",
    "    print('后序遍历：')\n",
    "    afterTraverse(root)\n",
    "    print('\\n')\n",
    " "
   ]
  }
 ],
 "metadata": {
  "language_info": {
   "codemirror_mode": {
    "name": "ipython",
    "version": 3
   },
   "file_extension": ".py",
   "mimetype": "text/x-python",
   "name": "python",
   "nbconvert_exporter": "python",
   "pygments_lexer": "ipython3",
   "version": "3.7.6-final"
  },
  "orig_nbformat": 2,
  "kernelspec": {
   "name": "python37464bitf10adaa3efab4e6fa8988dc159616146",
   "display_name": "Python 3.7.4 64-bit"
  }
 },
 "nbformat": 4,
 "nbformat_minor": 2
}