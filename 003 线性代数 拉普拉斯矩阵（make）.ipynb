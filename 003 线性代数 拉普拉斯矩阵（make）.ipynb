{
 "cells": [
  {
   "cell_type": "code",
   "execution_count": 1,
   "metadata": {},
   "outputs": [],
   "source": [
    "#laplacian矩阵\n",
    "import numpy as np\n",
    "def unnormalized_laplacian(adj_matrix):\n",
    "    # 先求度矩阵\n",
    "    R = np.sum(adj_matrix, axis=1)\n",
    "    degreeMatrix = np.diag(R)\n",
    "    return degreeMatrix - adj_matrix\n",
    "    \n",
    "def normalized_laplacian(adj_matrix):\n",
    "    R = np.sum(adj_matrix, axis=1)\n",
    "    R_sqrt = 1/np.sqrt(R)\n",
    "    D_sqrt = np.diag(R_sqrt)\n",
    "    I = np.eye(adj_matrix.shape[0])\n",
    "    return I - D_sqrt * adj_matrix * D_sqrt"
   ]
  },
  {
   "cell_type": "code",
   "execution_count": null,
   "metadata": {},
   "outputs": [],
   "source": []
  }
 ],
 "metadata": {
  "kernelspec": {
   "display_name": "Python [conda env:deepintorch]",
   "language": "python",
   "name": "conda-env-deepintorch-py"
  },
  "language_info": {
   "codemirror_mode": {
    "name": "ipython",
    "version": 3
   },
   "file_extension": ".py",
   "mimetype": "text/x-python",
   "name": "python",
   "nbconvert_exporter": "python",
   "pygments_lexer": "ipython3",
   "version": "3.7.9"
  }
 },
 "nbformat": 4,
 "nbformat_minor": 4
}
