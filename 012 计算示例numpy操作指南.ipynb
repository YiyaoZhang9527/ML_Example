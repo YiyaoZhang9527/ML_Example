{
 "cells": [
  {
   "cell_type": "code",
   "execution_count": null,
   "metadata": {},
   "outputs": [],
   "source": [
    "import numpy as np"
   ]
  },
  {
   "cell_type": "markdown",
   "metadata": {},
   "source": [
    "# 数据降维"
   ]
  },
  {
   "cell_type": "code",
   "execution_count": null,
   "metadata": {},
   "outputs": [],
   "source": [
    "data = np.random.sample(25).reshape(5,5)\n",
    "data"
   ]
  },
  {
   "cell_type": "markdown",
   "metadata": {},
   "source": [
    "### ravel（）：将多维数组拉平（一维"
   ]
  },
  {
   "cell_type": "code",
   "execution_count": 3,
   "metadata": {},
   "outputs": [
    {
     "data": {
      "text/plain": [
       "((25,),\n",
       " array([0.18649757, 0.29237399, 0.58509222, 0.54510117, 0.37490166,\n",
       "        0.20775867, 0.85581441, 0.4105886 , 0.17944988, 0.77170904,\n",
       "        0.81442329, 0.36202312, 0.21916587, 0.18036198, 0.88763079,\n",
       "        0.09028589, 0.42987495, 0.51014615, 0.66066771, 0.77963908,\n",
       "        0.88643493, 0.92678445, 0.53231555, 0.90859962, 0.72073564]))"
      ]
     },
     "execution_count": 3,
     "metadata": {},
     "output_type": "execute_result"
    }
   ],
   "source": [
    "ravel_data  = data.ravel()\n",
    "ravel_data.shape,ravel_data"
   ]
  },
  {
   "cell_type": "markdown",
   "metadata": {},
   "source": [
    "### flatten（）：将多维数组拉平，并拷贝一份"
   ]
  },
  {
   "cell_type": "code",
   "execution_count": 4,
   "metadata": {},
   "outputs": [
    {
     "data": {
      "text/plain": [
       "((25,),\n",
       " array([0.20942935, 0.17581654, 0.44319106, 0.31029511, 0.94056989,\n",
       "        0.95059799, 0.98693219, 0.69740365, 0.39118591, 0.18458124,\n",
       "        0.61969717, 0.19585185, 0.81275703, 0.05781043, 0.1909073 ,\n",
       "        0.71683451, 0.23418919, 0.48037881, 0.88687435, 0.74391817,\n",
       "        0.34058106, 0.66231198, 0.9390865 , 0.22934223, 0.17320936]),\n",
       " array([[0.20942935, 0.17581654, 0.44319106, 0.31029511, 0.94056989],\n",
       "        [0.95059799, 0.98693219, 0.69740365, 0.39118591, 0.18458124],\n",
       "        [0.61969717, 0.19585185, 0.81275703, 0.05781043, 0.1909073 ],\n",
       "        [0.71683451, 0.23418919, 0.48037881, 0.88687435, 0.74391817],\n",
       "        [0.34058106, 0.66231198, 0.9390865 , 0.22934223, 0.17320936]]))"
      ]
     },
     "execution_count": 4,
     "metadata": {},
     "output_type": "execute_result"
    }
   ],
   "source": [
    "data = np.random.sample(25).reshape(5,5)\n",
    "flatten_data  = data.flatten()\n",
    "flatten_data.shape,flatten_data,data"
   ]
  },
  {
   "cell_type": "markdown",
   "metadata": {},
   "source": [
    "### squeeze（）"
   ]
  },
  {
   "cell_type": "code",
   "execution_count": 5,
   "metadata": {},
   "outputs": [
    {
     "data": {
      "text/plain": [
       "(array([[0.97917812],\n",
       "        [0.13892362],\n",
       "        [0.10398234],\n",
       "        [0.49306868],\n",
       "        [0.07606387],\n",
       "        [0.45136543],\n",
       "        [0.96658451],\n",
       "        [0.09141648],\n",
       "        [0.45686105],\n",
       "        [0.88096246],\n",
       "        [0.38392692],\n",
       "        [0.78433091],\n",
       "        [0.05726751],\n",
       "        [0.38695177],\n",
       "        [0.53607228],\n",
       "        [0.63012438],\n",
       "        [0.65716081],\n",
       "        [0.5188168 ],\n",
       "        [0.99950264],\n",
       "        [0.54053806],\n",
       "        [0.16373098],\n",
       "        [0.02414993],\n",
       "        [0.41694845],\n",
       "        [0.20364878],\n",
       "        [0.25510467]]),\n",
       " array([0.97917812, 0.13892362, 0.10398234, 0.49306868, 0.07606387,\n",
       "        0.45136543, 0.96658451, 0.09141648, 0.45686105, 0.88096246,\n",
       "        0.38392692, 0.78433091, 0.05726751, 0.38695177, 0.53607228,\n",
       "        0.63012438, 0.65716081, 0.5188168 , 0.99950264, 0.54053806,\n",
       "        0.16373098, 0.02414993, 0.41694845, 0.20364878, 0.25510467]))"
      ]
     },
     "execution_count": 5,
     "metadata": {},
     "output_type": "execute_result"
    }
   ],
   "source": [
    "data = np.random.sample(25)[:,None]\n",
    "data,np.squeeze(data)"
   ]
  },
  {
   "cell_type": "markdown",
   "metadata": {},
   "source": [
    "### reshape（-1）：多维数组，拉平"
   ]
  },
  {
   "cell_type": "code",
   "execution_count": 6,
   "metadata": {},
   "outputs": [
    {
     "data": {
      "text/plain": [
       "array([[0.97917812, 0.13892362, 0.10398234, 0.49306868, 0.07606387,\n",
       "        0.45136543, 0.96658451, 0.09141648, 0.45686105, 0.88096246,\n",
       "        0.38392692, 0.78433091, 0.05726751, 0.38695177, 0.53607228,\n",
       "        0.63012438, 0.65716081, 0.5188168 , 0.99950264, 0.54053806,\n",
       "        0.16373098, 0.02414993, 0.41694845, 0.20364878, 0.25510467]])"
      ]
     },
     "execution_count": 6,
     "metadata": {},
     "output_type": "execute_result"
    }
   ],
   "source": [
    "data.reshape(-1,25)"
   ]
  }
 ],
 "metadata": {
  "file_extension": ".py",
  "kernelspec": {
   "display_name": "Python 3",
   "language": "python",
   "name": "python3"
  },
  "language_info": {
   "codemirror_mode": {
    "name": "ipython",
    "version": 3
   },
   "file_extension": ".py",
   "mimetype": "text/x-python",
   "name": "python",
   "nbconvert_exporter": "python",
   "pygments_lexer": "ipython3",
   "version": "3.7.9"
  },
  "mimetype": "text/x-python",
  "name": "python",
  "npconvert_exporter": "python",
  "pygments_lexer": "ipython3",
  "version": 3
 },
 "nbformat": 4,
 "nbformat_minor": 4
}
