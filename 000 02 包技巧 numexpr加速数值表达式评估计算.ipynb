{
 "cells": [
  {
   "cell_type": "code",
   "execution_count": 1,
   "metadata": {},
   "outputs": [],
   "source": [
    "import numpy as np\n",
    "import numexpr as en"
   ]
  },
  {
   "cell_type": "code",
   "execution_count": 2,
   "metadata": {},
   "outputs": [],
   "source": [
    "a , b = np.arange(1e6),np.arange(1e6)"
   ]
  },
  {
   "cell_type": "code",
   "execution_count": 3,
   "metadata": {
    "tags": []
   },
   "outputs": [
    {
     "output_type": "stream",
     "name": "stdout",
     "text": "CPU times: user 2.83 ms, sys: 3.25 ms, total: 6.08 ms\nWall time: 5.09 ms\n"
    },
    {
     "output_type": "execute_result",
     "data": {
      "text/plain": "array([1.00000e+00, 2.00000e+00, 3.00000e+00, ..., 9.99998e+05,\n       9.99999e+05, 1.00000e+06])"
     },
     "metadata": {},
     "execution_count": 3
    }
   ],
   "source": [
    "%%time\n",
    "a+1"
   ]
  },
  {
   "cell_type": "code",
   "execution_count": 4,
   "metadata": {
    "tags": []
   },
   "outputs": [
    {
     "output_type": "stream",
     "name": "stdout",
     "text": "CPU times: user 5.47 ms, sys: 8.79 ms, total: 14.3 ms\nWall time: 4.51 ms\n"
    },
    {
     "output_type": "execute_result",
     "data": {
      "text/plain": "array([1.00000e+00, 2.00000e+00, 3.00000e+00, ..., 9.99998e+05,\n       9.99999e+05, 1.00000e+06])"
     },
     "metadata": {},
     "execution_count": 4
    }
   ],
   "source": [
    "%%time\n",
    "en.evaluate(\"a+1\")"
   ]
  },
  {
   "cell_type": "code",
   "execution_count": 5,
   "metadata": {
    "tags": []
   },
   "outputs": [
    {
     "output_type": "stream",
     "name": "stdout",
     "text": "CPU times: user 7.18 ms, sys: 6.35 ms, total: 13.5 ms\nWall time: 11.8 ms\n"
    },
    {
     "output_type": "execute_result",
     "data": {
      "text/plain": "array([0.000000e+00, 5.000000e+00, 1.000000e+01, ..., 4.999985e+06,\n       4.999990e+06, 4.999995e+06])"
     },
     "metadata": {},
     "execution_count": 5
    }
   ],
   "source": [
    "%%time\n",
    "2*a+3*b"
   ]
  },
  {
   "cell_type": "code",
   "execution_count": 6,
   "metadata": {
    "tags": []
   },
   "outputs": [
    {
     "output_type": "stream",
     "name": "stdout",
     "text": "CPU times: user 10.3 ms, sys: 1.08 ms, total: 11.4 ms\nWall time: 14.7 ms\n"
    },
    {
     "output_type": "execute_result",
     "data": {
      "text/plain": "array([0.000000e+00, 5.000000e+00, 1.000000e+01, ..., 4.999985e+06,\n       4.999990e+06, 4.999995e+06])"
     },
     "metadata": {},
     "execution_count": 6
    }
   ],
   "source": [
    "%%time\n",
    "en.evaluate(\"2*a+3*b\")"
   ]
  },
  {
   "cell_type": "code",
   "execution_count": 7,
   "metadata": {
    "tags": []
   },
   "outputs": [
    {
     "output_type": "stream",
     "name": "stdout",
     "text": "CPU times: user 22.9 ms, sys: 3.88 ms, total: 26.8 ms\nWall time: 43.5 ms\n"
    },
    {
     "output_type": "execute_result",
     "data": {
      "text/plain": "array([ 0.,  1., 16., ..., inf, inf, inf])"
     },
     "metadata": {},
     "execution_count": 7
    }
   ],
   "source": [
    "%%time\n",
    "a**b*a*b"
   ]
  },
  {
   "cell_type": "code",
   "execution_count": 8,
   "metadata": {
    "tags": []
   },
   "outputs": [
    {
     "output_type": "stream",
     "name": "stdout",
     "text": "CPU times: user 268 ms, sys: 9.53 ms, total: 277 ms\nWall time: 71.6 ms\n"
    },
    {
     "output_type": "execute_result",
     "data": {
      "text/plain": "array([ 0.,  1., 16., ..., inf, inf, inf])"
     },
     "metadata": {},
     "execution_count": 8
    }
   ],
   "source": [
    "%%time\n",
    "en.evaluate(\"a**b*a*b\")"
   ]
  },
  {
   "cell_type": "code",
   "execution_count": 9,
   "metadata": {
    "tags": []
   },
   "outputs": [
    {
     "output_type": "stream",
     "name": "stdout",
     "text": "CPU times: user 2.99 ms, sys: 2.05 ms, total: 5.04 ms\nWall time: 11.8 ms\n"
    },
    {
     "output_type": "execute_result",
     "data": {
      "text/plain": "3.3333283333349997e+17"
     },
     "metadata": {},
     "execution_count": 9
    }
   ],
   "source": [
    "%%time\n",
    "a.dot(b)"
   ]
  },
  {
   "cell_type": "markdown",
   "metadata": {},
   "source": [
    "# 线程池配置\n",
    "线程在导入时产生，其数量由环境变量设置NUMEXPR_MAX_THREADS。默认的最大线程数为64。产生比计算节点上可用的虚拟核心数量更多的线程没有优势。实际上，NumExpr 仅在非常大的矩阵（> 2 ** 22）上才能以大线程数（> 8）进行缩放。生成大量线程不是免费的，并且会增加NumExpr或导入该线程的包（例如Pandas或PyTables）的导入时间。\n",
    "\n",
    "如果需要，可以通过环境变量NUMEXPR_NUM_THREADS（首选）或来调整使用的池中的线程数OMP_NUM_THREADS。通常，仅设置NUMEXPR_MAX_THREADS就足够了；所使用的线程数可以通过进行动态调整numexpr.set_num_threads(int)。线程数不能超过设置的数量NUMEXPR_MAX_THREADS。\n",
    "\n",
    "如果用户在导入NumExpr之前未配置环境，则将生成信息日志，并且已使用的线程的初始数量_被设置为系统中检测到的内核数或8，以较小者为准。\n",
    "\n",
    "用法："
   ]
  },
  {
   "cell_type": "code",
   "execution_count": 10,
   "metadata": {},
   "outputs": [
    {
     "output_type": "execute_result",
     "data": {
      "text/plain": "array([False, False, False, ...,  True,  True,  True])"
     },
     "metadata": {},
     "execution_count": 10
    }
   ],
   "source": [
    "import os\n",
    "os.environ['NUMEXPR_MAX_THREADS'] = '16'\n",
    "os.environ['NUMEXPR_NUM_THREADS'] = '8'\n",
    "import numexpr as ne\n",
    "\n",
    "A = a>a.mean()\n",
    "A"
   ]
  },
  {
   "cell_type": "markdown",
   "metadata": {},
   "source": [
    "# 临时设置线程操作\n",
    "设置要在操作中使用的线程数。返回线程数的先前设置。请参阅下面的注释，以了解如何通过环境变量设置线程数。\n",
    "\n",
    "如果使用的是VML，则可能要使用set_vml_num_threads（nthreads）来执行与VML的并行作业。但是，使用VML优化的函数应该会获得非常相似的性能，并且VML的并行器不能处理（x + 1）*（x-2）之类的常见表达式，而NumExpr的并行表达式可以。"
   ]
  },
  {
   "cell_type": "code",
   "execution_count": 11,
   "metadata": {},
   "outputs": [
    {
     "output_type": "execute_result",
     "data": {
      "text/plain": "8"
     },
     "metadata": {},
     "execution_count": 11
    }
   ],
   "source": [
    "en.set_num_threads(8)"
   ]
  },
  {
   "cell_type": "code",
   "execution_count": 12,
   "metadata": {},
   "outputs": [
    {
     "output_type": "execute_result",
     "data": {
      "text/plain": "array([ 0.,  1., 16., ..., inf, inf, inf])"
     },
     "metadata": {},
     "execution_count": 12
    }
   ],
   "source": [
    "en.evaluate(\"a**b*a*b\")"
   ]
  },
  {
   "cell_type": "markdown",
   "metadata": {},
   "source": [
    "NumExpr支持以下列出的一组运算符：\n",
    "\n",
    "逻辑运算符： &, |, ~\n",
    "比较运算符： <, <=, ==, !=, >=, >\n",
    "一元算术运算符： -\n",
    "二进制算术运算符： +, -, *, /, **, %, <<, >>"
   ]
  },
  {
   "cell_type": "code",
   "execution_count": 13,
   "metadata": {},
   "outputs": [
    {
     "output_type": "execute_result",
     "data": {
      "text/plain": "array([ 0.        ,  0.84147098,  0.90929743, ...,  0.21429647,\n       -0.70613761, -0.97735203])"
     },
     "metadata": {},
     "execution_count": 13
    }
   ],
   "source": [
    "ne.evaluate(\"sin(a)\")"
   ]
  },
  {
   "cell_type": "markdown",
   "metadata": {},
   "source": [
    "## 检测系统上的内核数。"
   ]
  },
  {
   "cell_type": "code",
   "execution_count": 14,
   "metadata": {},
   "outputs": [
    {
     "output_type": "execute_result",
     "data": {
      "text/plain": "8"
     },
     "metadata": {},
     "execution_count": 14
    }
   ],
   "source": [
    "en.detect_number_of_cores()"
   ]
  },
  {
   "cell_type": "markdown",
   "metadata": {},
   "source": [
    "# 查表操作"
   ]
  },
  {
   "cell_type": "code",
   "execution_count": 15,
   "metadata": {},
   "outputs": [
    {
     "output_type": "execute_result",
     "data": {
      "text/plain": "(array([False, False, False, ...,  True,  True,  True]),\n array([0.00000e+00, 1.00000e+00, 2.00000e+00, ..., 9.99997e+05,\n        9.99998e+05, 9.99999e+05]))"
     },
     "metadata": {},
     "execution_count": 15
    }
   ],
   "source": [
    "ne.evaluate(\"where(True,A,b)\"),ne.evaluate(\"where(False,A,b)\")"
   ]
  },
  {
   "cell_type": "markdown",
   "metadata": {},
   "source": [
    "## –三角正弦，余弦或正切。"
   ]
  },
  {
   "cell_type": "code",
   "execution_count": 16,
   "metadata": {},
   "outputs": [
    {
     "output_type": "execute_result",
     "data": {
      "text/plain": "(array([ 0.        ,  0.84147098,  0.90929743, ...,  0.21429647,\n        -0.70613761, -0.97735203]),\n array([ 1.        ,  0.54030231, -0.41614684, ..., -0.97676866,\n        -0.70807463,  0.21161996]),\n array([ 0.        ,  1.55740772, -2.18503986, ..., -0.21939327,\n         0.99726439, -4.61843033]))"
     },
     "metadata": {},
     "execution_count": 16
    }
   ],
   "source": [
    "en.evaluate('sin(a)'),en.evaluate(\"cos(a)\"),en.evaluate(\"tan(a)\")"
   ]
  },
  {
   "cell_type": "markdown",
   "metadata": {},
   "source": [
    "## 三角反正弦，余弦或正切。"
   ]
  },
  {
   "cell_type": "code",
   "execution_count": 17,
   "metadata": {},
   "outputs": [
    {
     "output_type": "execute_result",
     "data": {
      "text/plain": "(array([0.        , 1.57079633,        nan, ...,        nan,        nan,\n               nan]),\n array([1.57079633, 0.        ,        nan, ...,        nan,        nan,\n               nan]),\n array([0.        , 0.78539816, 1.10714872, ..., 1.57079533, 1.57079533,\n        1.57079533]))"
     },
     "metadata": {},
     "execution_count": 17
    }
   ],
   "source": [
    "en.evaluate(\"arcsin(a)\"),en.evaluate(\"arccos(a)\"),en.evaluate(\"arctan(a)\")"
   ]
  },
  {
   "cell_type": "markdown",
   "metadata": {},
   "source": [
    "## float1 / float2的三角反正切。"
   ]
  },
  {
   "cell_type": "code",
   "execution_count": 18,
   "metadata": {},
   "outputs": [
    {
     "output_type": "execute_result",
     "data": {
      "text/plain": "array([0.        , 0.78539816, 0.78539816, ..., 0.78539816, 0.78539816,\n       0.78539816])"
     },
     "metadata": {},
     "execution_count": 18
    }
   ],
   "source": [
    "en.evaluate(\"arctan2(a,b)\")"
   ]
  },
  {
   "cell_type": "markdown",
   "metadata": {},
   "source": [
    "## 双曲反正弦，余弦或正切。"
   ]
  },
  {
   "cell_type": "code",
   "execution_count": 19,
   "metadata": {},
   "outputs": [
    {
     "output_type": "execute_result",
     "data": {
      "text/plain": "(array([ 0.        ,  0.88137359,  1.44363548, ..., 14.50865474,\n        14.50865574, 14.50865674]),\n array([        nan,  0.        ,  1.3169579 , ..., 14.50865474,\n        14.50865574, 14.50865674]),\n array([ 0., inf, nan, ..., nan, nan, nan]))"
     },
     "metadata": {},
     "execution_count": 19
    }
   ],
   "source": [
    "en.evaluate(\"arcsinh(a)\"),en.evaluate(\"arccosh(a)\"),en.evaluate(\"arctanh(a)\")"
   ]
  },
  {
   "cell_type": "markdown",
   "metadata": {},
   "source": [
    "## 自然，以10为底和log（1 + x）对数"
   ]
  },
  {
   "cell_type": "code",
   "execution_count": 20,
   "metadata": {},
   "outputs": [
    {
     "output_type": "execute_result",
     "data": {
      "text/plain": "(array([       -inf,  0.        ,  0.69314718, ..., 13.81550756,\n        13.81550856, 13.81550956]),\n array([      -inf, 0.        , 0.30103   , ..., 5.9999987 , 5.99999913,\n        5.99999957]),\n array([ 0.        ,  0.69314718,  1.09861229, ..., 13.81550856,\n        13.81550956, 13.81551056]))"
     },
     "metadata": {},
     "execution_count": 20
    }
   ],
   "source": [
    "en.evaluate(\"log(a)\"),en.evaluate(\"log10(a)\"),en.evaluate(\"log1p(a)\")"
   ]
  },
  {
   "cell_type": "markdown",
   "metadata": {},
   "source": [
    "## 指数和指数减一。"
   ]
  },
  {
   "cell_type": "code",
   "execution_count": 21,
   "metadata": {},
   "outputs": [
    {
     "output_type": "execute_result",
     "data": {
      "text/plain": "(array([1.        , 2.71828183, 7.3890561 , ...,        inf,        inf,\n               inf]),\n array([0.        , 1.71828183, 6.3890561 , ...,        inf,        inf,\n               inf]))"
     },
     "metadata": {},
     "execution_count": 21
    }
   ],
   "source": [
    "en.evaluate(\"exp(a)\"),en.evaluate(\"expm1(a)\")"
   ]
  },
  {
   "cell_type": "markdown",
   "metadata": {},
   "source": [
    "## 平方根"
   ]
  },
  {
   "cell_type": "code",
   "execution_count": 22,
   "metadata": {},
   "outputs": [
    {
     "output_type": "execute_result",
     "data": {
      "text/plain": "array([  0.        ,   1.        ,   1.41421356, ..., 999.9985    ,\n       999.999     , 999.9995    ])"
     },
     "metadata": {},
     "execution_count": 22
    }
   ],
   "source": [
    "en.evaluate(\"sqrt(a)\")"
   ]
  },
  {
   "cell_type": "markdown",
   "metadata": {},
   "source": [
    "## 绝对值。"
   ]
  },
  {
   "cell_type": "code",
   "execution_count": 23,
   "metadata": {},
   "outputs": [
    {
     "output_type": "execute_result",
     "data": {
      "text/plain": "array([0.00000e+00, 1.00000e+00, 2.00000e+00, ..., 9.99997e+05,\n       9.99998e+05, 9.99999e+05])"
     },
     "metadata": {},
     "execution_count": 23
    }
   ],
   "source": [
    "en.evaluate(\"abs(a)\")"
   ]
  },
  {
   "cell_type": "markdown",
   "metadata": {},
   "source": [
    "## 共轭值"
   ]
  },
  {
   "cell_type": "code",
   "execution_count": 24,
   "metadata": {},
   "outputs": [
    {
     "output_type": "execute_result",
     "data": {
      "text/plain": "array([0.00000e+00-0.j, 1.00000e+00-0.j, 2.00000e+00-0.j, ...,\n       9.99997e+05-0.j, 9.99998e+05-0.j, 9.99999e+05-0.j])"
     },
     "metadata": {},
     "execution_count": 24
    }
   ],
   "source": [
    "en.evaluate(\"conj(a)\")"
   ]
  },
  {
   "cell_type": "markdown",
   "metadata": {},
   "source": [
    "## 复数的实部或虚部。"
   ]
  },
  {
   "cell_type": "code",
   "execution_count": 25,
   "metadata": {},
   "outputs": [
    {
     "output_type": "execute_result",
     "data": {
      "text/plain": "(array([0.00000e+00, 1.00000e+00, 2.00000e+00, ..., 9.99997e+05,\n        9.99998e+05, 9.99999e+05]),\n array([0., 0., 0., ..., 0., 0., 0.]))"
     },
     "metadata": {},
     "execution_count": 25
    }
   ],
   "source": [
    "en.evaluate(\"real(a)\"),en.evaluate(\"imag(a)\")"
   ]
  },
  {
   "cell_type": "markdown",
   "metadata": {},
   "source": [
    "## 由实部和虚部组成"
   ]
  },
  {
   "cell_type": "code",
   "execution_count": 26,
   "metadata": {},
   "outputs": [
    {
     "output_type": "execute_result",
     "data": {
      "text/plain": "array([0.00000e+00+0.00000e+00j, 1.00000e+00+1.00000e+00j,\n       2.00000e+00+2.00000e+00j, ..., 9.99997e+05+9.99997e+05j,\n       9.99998e+05+9.99998e+05j, 9.99999e+05+9.99999e+05j])"
     },
     "metadata": {},
     "execution_count": 26
    }
   ],
   "source": [
    "en.evaluate(\"complex(a,b)\")"
   ]
  },
  {
   "cell_type": "markdown",
   "metadata": {},
   "source": [
    "## 包含的每个字符串，返回True"
   ]
  },
  {
   "cell_type": "code",
   "execution_count": 27,
   "metadata": {},
   "outputs": [
    {
     "output_type": "execute_result",
     "data": {
      "text/plain": "array(True)"
     },
     "metadata": {},
     "execution_count": 27
    }
   ],
   "source": [
    "en.evaluate(\"contains('a,b,c','a,b,c')\")"
   ]
  },
  {
   "cell_type": "markdown",
   "metadata": {},
   "source": [
    "## 给定轴上的数组元素的总和。不支持负轴"
   ]
  },
  {
   "cell_type": "code",
   "execution_count": 28,
   "metadata": {},
   "outputs": [
    {
     "output_type": "execute_result",
     "data": {
      "text/plain": "('竖轴',\n array([450, 460, 470, 480, 490, 500, 510, 520, 530, 540], dtype=int64),\n '横轴',\n array([ 45, 145, 245, 345, 445, 545, 645, 745, 845, 945], dtype=int64))"
     },
     "metadata": {},
     "execution_count": 28
    }
   ],
   "source": [
    "B = np.arange(100).reshape(10,10)\n",
    "\"竖轴\",en.evaluate(\"sum(B, axis=0)\"),\"横轴\",en.evaluate(\"sum(B, axis=1)\")"
   ]
  },
  {
   "cell_type": "markdown",
   "metadata": {},
   "source": [
    "## 给定轴上数组元素的乘积。不支持负轴"
   ]
  },
  {
   "cell_type": "code",
   "execution_count": 29,
   "metadata": {},
   "outputs": [
    {
     "output_type": "execute_result",
     "data": {
      "text/plain": "('竖轴',\n array([                0,   478015854767451,  1242688846823424,\n         2394832584543399,  4060162871525376,  6393838623046875,\n         9585618768101376, 13865696119905399, 19511273389031424,\n        26853950884211451], dtype=int64),\n '横轴',\n array([                  0,        335221286400,      72684900288000,\n           2306992893004800,   29820834418636800,  227991539359584000,\n        1233909752121446400, 5227941748053024000,    5769992716765184,\n        1193853638847869952], dtype=int64))"
     },
     "metadata": {},
     "execution_count": 29
    }
   ],
   "source": [
    "\"竖轴\",en.evaluate(\"prod(B, axis=0)\"),\"横轴\",en.evaluate(\"prod(B, axis=1)\")"
   ]
  },
  {
   "cell_type": "markdown",
   "metadata": {},
   "source": [
    "## 重新评估最后一个数组表达式，而不进行任何检查。这是为了加速循环，该循环将重复地重新计算相同的表达式，而不更改操作数。如果不确定，请使用更安全的valuate（）。"
   ]
  },
  {
   "cell_type": "code",
   "execution_count": 30,
   "metadata": {},
   "outputs": [
    {
     "output_type": "execute_result",
     "data": {
      "text/plain": "array([                  0,        335221286400,      72684900288000,\n          2306992893004800,   29820834418636800,  227991539359584000,\n       1233909752121446400, 5227941748053024000,    5769992716765184,\n       1193853638847869952], dtype=int64)"
     },
     "metadata": {},
     "execution_count": 30
    }
   ],
   "source": [
    "en.re_evaluate(local_dict=None)"
   ]
  },
  {
   "cell_type": "code",
   "execution_count": 31,
   "metadata": {
    "tags": []
   },
   "outputs": [
    {
     "output_type": "stream",
     "name": "stderr",
     "text": "..-=-=-=-=-=-=-=-=-=-=-=-=-=-=-=-=-=-=-=-=-=-=-=-=-=-=-=-=-=-=-=-=-=-=-=-=-=-=\nNumexpr version:   2.7.1\nNumPy version:     1.18.1\nPython version:    3.7.6 (default, Jan  8 2020, 13:42:34) \n[Clang 4.0.1 (tags/RELEASE_401/final)]\nPlatform:          darwin-x86_64-Darwin Kernel Version 19.6.0: Thu Jun 18 20:49:00 PDT 2020; root:xnu-6153.141.1~1/RELEASE_X86_64\nVML available?     True\nVML/MKL version:   Intel(R) Math Kernel Library Version 2019.0.4 Product Build 20190411 for Intel(R) 64 architecture applications\nNumber of threads used by default: 8 (out of 8 detected cores)\nMaximum number of threads: 64\n-=-=-=-=-=-=-=-=-=-=-=-=-=-=-=-=-=-=-=-=-=-=-=-=-=-=-=-=-=-=-=-=-=-=-=-=-=-=\n............................................................................................................................................................................................................................................................................................................................................................................................................................................................................................................................................................................................................................................................................................................................................................................................................................................................................................................................................................................................................................................................................................................................................................................................................................................................................................................................................................................................................................................................................................................................................................................................................................................................................................................................................................................................................................................................................................................................................................................................................................................................................................................................................................................................................................................................................................................................................................................................................................................................................................................................................................................................................................................................................................................................................................................................................................................................................................................................................................................................................................................................................................................................................................................................................................................................................................................................................................................................................................................................................................................................................................................................................................................................................................................................................................................................................................................................................................................................................................................................................................................................................................................................................................................................................................................................................................................................................................................................................................................................................................................................................................................................................................................................................................................................................................................................................................................................................................................................................................................................................................................................................................................................................................................................................................................................................................................................................................................................................................................................................................................................................................................................................................................................................................................................................F...\n======================================================================\nFAIL: test_omp_num_threads (numexpr.tests.test_numexpr.test_threading_config)\n----------------------------------------------------------------------\nTraceback (most recent call last):\n  File \"/Users/zhangjing/opt/anaconda3/lib/python3.7/site-packages/numexpr/tests/test_numexpr.py\", line 991, in test_omp_num_threads\n    self.assertEqual(5, numexpr._init_num_threads())\nAssertionError: 5 != 8\n\n----------------------------------------------------------------------\nRan 5522 tests in 18.358s\n\nFAILED (failures=1)\n"
    },
    {
     "output_type": "execute_result",
     "data": {
      "text/plain": "<unittest.runner.TextTestResult run=5522 errors=0 failures=1>"
     },
     "metadata": {},
     "execution_count": 31
    }
   ],
   "source": [
    "en.test()"
   ]
  },
  {
   "cell_type": "code",
   "execution_count": 32,
   "metadata": {
    "tags": []
   },
   "outputs": [
    {
     "output_type": "stream",
     "name": "stdout",
     "text": "-=-=-=-=-=-=-=-=-=-=-=-=-=-=-=-=-=-=-=-=-=-=-=-=-=-=-=-=-=-=-=-=-=-=-=-=-=-=\nNumexpr version:   2.7.1\nNumPy version:     1.18.1\nPython version:    3.7.6 (default, Jan  8 2020, 13:42:34) \n[Clang 4.0.1 (tags/RELEASE_401/final)]\nPlatform:          darwin-x86_64-Darwin Kernel Version 19.6.0: Thu Jun 18 20:49:00 PDT 2020; root:xnu-6153.141.1~1/RELEASE_X86_64\nVML available?     True\nVML/MKL version:   Intel(R) Math Kernel Library Version 2019.0.4 Product Build 20190411 for Intel(R) 64 architecture applications\nNumber of threads used by default: 8 (out of 8 detected cores)\nMaximum number of threads: 64\n-=-=-=-=-=-=-=-=-=-=-=-=-=-=-=-=-=-=-=-=-=-=-=-=-=-=-=-=-=-=-=-=-=-=-=-=-=-=\n"
    }
   ],
   "source": [
    "en.print_versions()"
   ]
  },
  {
   "cell_type": "code",
   "execution_count": 33,
   "metadata": {},
   "outputs": [
    {
     "output_type": "execute_result",
     "data": {
      "text/plain": "'Intel(R) Math Kernel Library Version 2019.0.4 Product Build 20190411 for Intel(R) 64 architecture applications'"
     },
     "metadata": {},
     "execution_count": 33
    }
   ],
   "source": [
    "en.get_vml_version()"
   ]
  },
  {
   "cell_type": "markdown",
   "metadata": {},
   "source": [
    "## 将使用E. <variable>变量构建的表达式编译为函数。\n",
    "\n",
    "ex也可以指定为字符串“ 2 * a + 3 * b”。\n",
    "\n",
    "可以使用签名参数指定输入变量及其类型的顺序，签名参数是（名称，类型）对的列表。\n",
    "\n",
    "返回包含已编译函数的NumExpr对象。"
   ]
  },
  {
   "cell_type": "code",
   "execution_count": 34,
   "metadata": {},
   "outputs": [],
   "source": [
    "n = ne.NumExpr(\"a+b\")"
   ]
  },
  {
   "cell_type": "markdown",
   "metadata": {},
   "source": [
    "## 给定一个NumExpr对象，返回一个列表，该列表是被反汇编的程序。"
   ]
  },
  {
   "cell_type": "code",
   "execution_count": 35,
   "metadata": {},
   "outputs": [
    {
     "output_type": "execute_result",
     "data": {
      "text/plain": "[(b'add_ddd', b'r0', b'r1[a]', b'r2[b]')]"
     },
     "metadata": {},
     "execution_count": 35
    }
   ],
   "source": [
    "ne.disassemble(n)"
   ]
  },
  {
   "cell_type": "markdown",
   "metadata": {},
   "source": [
    "## 检测到的（虚拟）核心数。"
   ]
  },
  {
   "cell_type": "code",
   "execution_count": 36,
   "metadata": {},
   "outputs": [
    {
     "output_type": "execute_result",
     "data": {
      "text/plain": "8"
     },
     "metadata": {},
     "execution_count": 36
    }
   ],
   "source": [
    "ne.ncores"
   ]
  },
  {
   "cell_type": "markdown",
   "metadata": {},
   "source": [
    "## 当前正在使用的线程数"
   ]
  },
  {
   "cell_type": "code",
   "execution_count": 37,
   "metadata": {},
   "outputs": [
    {
     "output_type": "execute_result",
     "data": {
      "text/plain": "8"
     },
     "metadata": {},
     "execution_count": 37
    }
   ],
   "source": [
    "ne.nthreads"
   ]
  },
  {
   "cell_type": "markdown",
   "metadata": {},
   "source": [
    "## 由环境变量设置的最大线程数"
   ]
  },
  {
   "cell_type": "code",
   "execution_count": 38,
   "metadata": {},
   "outputs": [
    {
     "output_type": "execute_result",
     "data": {
      "text/plain": "64"
     },
     "metadata": {},
     "execution_count": 38
    }
   ],
   "source": [
    "ne.MAX_THREADS"
   ]
  },
  {
   "cell_type": "code",
   "execution_count": null,
   "metadata": {},
   "outputs": [],
   "source": []
  }
 ],
 "metadata": {
  "language_info": {
   "codemirror_mode": {
    "name": "ipython",
    "version": 3
   },
   "file_extension": ".py",
   "mimetype": "text/x-python",
   "name": "python",
   "nbconvert_exporter": "python",
   "pygments_lexer": "ipython3",
   "version": "3.7.6-final"
  },
  "orig_nbformat": 2,
  "kernelspec": {
   "name": "python_defaultSpec_1599433937085",
   "display_name": "Python 3.7.6 64-bit ('base': conda)"
  }
 },
 "nbformat": 4,
 "nbformat_minor": 2
}