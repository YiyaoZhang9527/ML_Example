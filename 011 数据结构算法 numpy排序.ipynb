{
 "cells": [
  {
   "cell_type": "code",
   "execution_count": 14,
   "metadata": {},
   "outputs": [
    {
     "output_type": "stream",
     "name": "stdout",
     "text": "数组:\n[[3 7]\n [9 1]]\n\n\n排序:\n[[3 7]\n [1 9]]\n\n\n轴 0 排序:\n[[3 1]\n [9 7]]\n\n\n数组:\n[(b'kevin', 21) (b'peter', 25) (b'tony', 17) (b'mike', 27)]\n\n\n按 name 排序:\n[(b'kevin', 21) (b'mike', 27) (b'peter', 25) (b'tony', 17)]\n"
    }
   ],
   "source": [
    "import numpy as np  \n",
    "a = np.array([[3,7],[9,1]]) \n",
    "\n",
    "print ('数组:' )\n",
    "print (a) \n",
    "print ('\\n')\n",
    "\n",
    "print ('排序:' )\n",
    "print (np.sort(a)) \n",
    "print ('\\n') \n",
    "  \n",
    "print ('轴 0 排序:') \n",
    "print (np.sort(a, axis = 0)) \n",
    "print ('\\n')  \n",
    "\n",
    "# 排序函数中的顺序参数\n",
    "dt = np.dtype([('name', 'S10'),('age', int)]) \n",
    "a = np.array([(\"kevin\", 21),(\"peter\",25),(\"tony\", 17), (\"mike\",27)], dtype = dt) \n",
    "\n",
    "print ('数组:') \n",
    "print (a) \n",
    "print ('\\n')  \n",
    "\n",
    "print ('按 name 排序:') \n",
    "print (np.sort(a, order = 'name'))\n",
    "\n"
   ]
  },
  {
   "cell_type": "markdown",
   "metadata": {},
   "source": [
    "numpy.argsort()\n",
    "该函数先对数组进行排序，然后提取排序后的数组索引，以数组形式返回，原数组不会被修改，通过索引可以得到排序结果。"
   ]
  },
  {
   "cell_type": "code",
   "execution_count": 15,
   "metadata": {},
   "outputs": [
    {
     "output_type": "stream",
     "name": "stdout",
     "text": "数组x:\n[3 1 2]\n\n\n将argsort()应用于x:\n[1 2 0]\n\n\n按排序顺序重建原始数组:\n[1 2 3]\n\n\n使用循环重构原始数组:\n1\n2\n3\n"
    }
   ],
   "source": [
    "import numpy as np \n",
    "x = np.array([3, 1, 2]) \n",
    "\n",
    "print ('数组x:') \n",
    "print (x) \n",
    "print ('\\n')  \n",
    "\n",
    "print ('将argsort()应用于x:') \n",
    "y = np.argsort(x) \n",
    "print (y) \n",
    "print ('\\n')  \n",
    "\n",
    "print ('按排序顺序重建原始数组:' )\n",
    "print (x[y]) \n",
    "print ('\\n')  \n",
    "\n",
    "print ('使用循环重构原始数组:') \n",
    "for i in y: \n",
    "   print (x[i])\n",
    "\n"
   ]
  },
  {
   "cell_type": "markdown",
   "metadata": {},
   "source": [
    "numpy.lexsort()\n",
    "\n",
    "用于对多个序列进行排序，类似于SQL中的ORDERBY多个字段：ORDER BY 字段1， 字段2， 字段3。可以想象成对电子表格进行排序，每一列代表一个序列，越后面的列优先级越高。\n",
    "\n",
    "原数组不会被修改，该函数提取排序后的数组索引，以数组形式返回，通过索引可以得到排序结果。"
   ]
  },
  {
   "cell_type": "code",
   "execution_count": 16,
   "metadata": {},
   "outputs": [
    {
     "output_type": "stream",
     "name": "stdout",
     "text": "打印排序后的数组索引:\n[0 3 1 4 2]\n使用索引对数组排序:\na 12\nd 12\nb 90\ne 211\nc 380\n"
    }
   ],
   "source": [
    "import numpy as np  \n",
    "  \n",
    "a = np.array(['a','b','c','d','e'])  \n",
    "  \n",
    "b = np.array([12, 90, 380, 12, 211])  \n",
    "  \n",
    "ind = np.lexsort((a,b))  \n",
    "  \n",
    "print(\"打印排序后的数组索引:\")  \n",
    "  \n",
    "print(ind)  \n",
    "  \n",
    "print(\"使用索引对数组排序:\")  \n",
    "  \n",
    "for i in ind:  \n",
    "    print(a[i],b[i])  \n",
    "\n"
   ]
  },
  {
   "cell_type": "markdown",
   "metadata": {},
   "source": [
    "numpy.argmax() 与 numpy.argmin()\n",
    "这两个函数分别返回指定轴上，最大和最小元素的索引。"
   ]
  },
  {
   "cell_type": "code",
   "execution_count": 17,
   "metadata": {},
   "outputs": [
    {
     "output_type": "stream",
     "name": "stdout",
     "text": "数组:\n[[30 40 70]\n [80 20 10]\n [50 90 60]]\n\n\n应用argmax()函数:\n[1 2 0]\n\n\n应用argmin()函数:\n[0 1 1]\n\n\n"
    }
   ],
   "source": [
    "import numpy as np \n",
    "a = np.array([[30,40,70],[80,20,10],[50,90,60]]) \n",
    "\n",
    "print ('数组:') \n",
    "print (a) \n",
    "print ('\\n') \n",
    "\n",
    "print ('应用argmax()函数:') \n",
    "print (np.argmax(a, 0)) \n",
    "print ('\\n')  \n",
    "\n",
    "print ('应用argmin()函数:') \n",
    "print (np.argmin(a, 0) ) \n",
    "print ('\\n')  \n",
    "\n",
    "\n"
   ]
  },
  {
   "cell_type": "markdown",
   "metadata": {},
   "source": [
    "numpy.nonzero()\n",
    "该函数返回数组中非零元素的索引。"
   ]
  },
  {
   "cell_type": "code",
   "execution_count": 18,
   "metadata": {},
   "outputs": [
    {
     "output_type": "stream",
     "name": "stdout",
     "text": "打印原始数组\n [ 12  90 380  12 211]\n\n\n打印非零元素的位置\n(array([0, 1, 2, 3, 4]),)\n"
    }
   ],
   "source": [
    "import numpy as np  \n",
    "  \n",
    "b = np.array([12, 90, 380, 12, 211])  \n",
    "  \n",
    "print(\"打印原始数组\\n\", b)  \n",
    "print ('\\n') \n",
    "  \n",
    "print(\"打印非零元素的位置\")  \n",
    "print(b.nonzero())  \n",
    "\n"
   ]
  },
  {
   "cell_type": "markdown",
   "metadata": {},
   "source": [
    "numpy.where()\n",
    "该函数查找数组中符合条件的元素，返回其索引。"
   ]
  },
  {
   "cell_type": "code",
   "execution_count": 19,
   "metadata": {},
   "outputs": [
    {
     "output_type": "stream",
     "name": "stdout",
     "text": "(array([1, 2, 4]),)\n(array([0, 1, 1]), array([1, 0, 1]))\n"
    }
   ],
   "source": [
    "import numpy as np  \n",
    "  \n",
    "b = np.array([12, 90, 380, 12, 211])  \n",
    "print(np.where(b>12))  \n",
    "c = np.array([[20, 24],[21, 23]])  \n",
    "print(np.where(c>20))  "
   ]
  },
  {
   "cell_type": "markdown",
   "metadata": {},
   "source": [
    "numpy.extract()\n",
    "该函数返回数组中符合条件的元素。"
   ]
  },
  {
   "cell_type": "markdown",
   "metadata": {},
   "source": [
    "## 该函数返回数组中符合条件的元素。"
   ]
  },
  {
   "cell_type": "code",
   "execution_count": 20,
   "metadata": {},
   "outputs": [
    {
     "output_type": "stream",
     "name": "stdout",
     "text": "[ 90 380 211]\n[24 21 23]\n"
    }
   ],
   "source": [
    "import numpy as np  \n",
    "  \n",
    "b = np.array([12, 90, 380, 12, 211])  \n",
    "  \n",
    "print(np.extract(b>12, b))  \n",
    "  \n",
    "c = np.array([[20, 24],[21, 23]])  \n",
    "  \n",
    "print(np.extract(c>20, c))  \n"
   ]
  },
  {
   "cell_type": "code",
   "execution_count": 21,
   "metadata": {},
   "outputs": [
    {
     "output_type": "execute_result",
     "data": {
      "text/plain": "3"
     },
     "metadata": {},
     "execution_count": 21
    }
   ],
   "source": [
    "xw = np.array([0, 1, 1, 3, 2, 1, 7, 23])\n",
    "np.amax(x)"
   ]
  },
  {
   "cell_type": "code",
   "execution_count": 22,
   "metadata": {},
   "outputs": [
    {
     "output_type": "execute_result",
     "data": {
      "text/plain": "array([1, 3, 1, 1, 0, 0, 0, 1])"
     },
     "metadata": {},
     "execution_count": 22
    }
   ],
   "source": [
    "np.bincount(np.array([0, 1, 1, 3, 2, 1, 7]))"
   ]
  },
  {
   "cell_type": "code",
   "execution_count": null,
   "metadata": {},
   "outputs": [],
   "source": []
  }
 ],
 "metadata": {
  "language_info": {
   "codemirror_mode": {
    "name": "ipython",
    "version": 3
   },
   "file_extension": ".py",
   "mimetype": "text/x-python",
   "name": "python",
   "nbconvert_exporter": "python",
   "pygments_lexer": "ipython3",
   "version": "3.7.6-final"
  },
  "orig_nbformat": 2,
  "kernelspec": {
   "name": "python37464bitf10adaa3efab4e6fa8988dc159616146",
   "display_name": "Python 3.7.4 64-bit"
  }
 },
 "nbformat": 4,
 "nbformat_minor": 2
}