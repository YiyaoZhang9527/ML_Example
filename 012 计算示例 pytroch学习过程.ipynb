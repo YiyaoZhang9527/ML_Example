{
 "cells": [
  {
   "cell_type": "code",
   "execution_count": 1,
   "metadata": {},
   "outputs": [
    {
     "output_type": "execute_result",
     "data": {
      "text/plain": "tensor([[1.4569e-19, 6.7421e+22, 6.4610e+19],\n        [2.0618e-19, 1.8545e+25, 6.9767e+22],\n        [5.0850e+31, 6.4600e+19, 1.8888e+31],\n        [1.6581e+25, 1.8611e+34, 1.9005e-19],\n        [1.0999e-32, 1.3563e-19, 7.2127e+22]])"
     },
     "metadata": {},
     "execution_count": 1
    }
   ],
   "source": [
    "from __future__ import print_function\n",
    "import torch\n",
    "#构造一个5×3矩阵，不初始化。\n",
    "\n",
    "x = torch.empty(5, 3)\n",
    "x"
   ]
  },
  {
   "cell_type": "markdown",
   "metadata": {},
   "source": [
    "# 构造一个随机初始化的矩阵："
   ]
  },
  {
   "cell_type": "code",
   "execution_count": 2,
   "metadata": {},
   "outputs": [
    {
     "output_type": "execute_result",
     "data": {
      "text/plain": "tensor([[0.8086, 0.1484, 0.6253],\n        [0.6596, 0.1254, 0.1727],\n        [0.8466, 0.2532, 0.0372],\n        [0.9924, 0.1261, 0.0618],\n        [0.0305, 0.3132, 0.8291]])"
     },
     "metadata": {},
     "execution_count": 2
    }
   ],
   "source": [
    "x = torch.rand(5, 3)\n",
    "x"
   ]
  },
  {
   "cell_type": "markdown",
   "metadata": {},
   "source": [
    "# 构造一个矩阵全为 0，而且数据类型是 long.\n",
    "#Construct a matrix filled zeros and of dtype long:"
   ]
  },
  {
   "cell_type": "code",
   "execution_count": 5,
   "metadata": {},
   "outputs": [
    {
     "output_type": "execute_result",
     "data": {
      "text/plain": "tensor([[0, 0, 0],\n        [0, 0, 0],\n        [0, 0, 0],\n        [0, 0, 0],\n        [0, 0, 0]])"
     },
     "metadata": {},
     "execution_count": 5
    }
   ],
   "source": [
    "x = torch.zeros(5, 3, dtype=torch.long)\n",
    "x"
   ]
  },
  {
   "cell_type": "markdown",
   "metadata": {},
   "source": [
    "# 构造一个张量，直接使用数据："
   ]
  },
  {
   "cell_type": "code",
   "execution_count": 6,
   "metadata": {},
   "outputs": [
    {
     "output_type": "stream",
     "name": "stdout",
     "text": "tensor([5.5000, 3.0000])\n"
    }
   ],
   "source": [
    "x = torch.tensor([5.5, 3])\n",
    "print(x)"
   ]
  },
  {
   "cell_type": "markdown",
   "metadata": {},
   "source": [
    "# 创建一个 tensor 基于已经存在的 tensor。"
   ]
  },
  {
   "cell_type": "code",
   "execution_count": 14,
   "metadata": {},
   "outputs": [
    {
     "output_type": "execute_result",
     "data": {
      "text/plain": "tensor([[1., 1., 1.],\n        [1., 1., 1.],\n        [1., 1., 1.],\n        [1., 1., 1.],\n        [1., 1., 1.]], dtype=torch.float64)"
     },
     "metadata": {},
     "execution_count": 14
    }
   ],
   "source": [
    "x = x.new_ones(5, 3, dtype=torch.double)\n",
    "x"
   ]
  },
  {
   "cell_type": "code",
   "execution_count": 18,
   "metadata": {},
   "outputs": [
    {
     "output_type": "execute_result",
     "data": {
      "text/plain": "tensor([[ 0.5744,  0.0324, -0.0569],\n        [ 0.7678,  0.2430, -0.0499],\n        [-0.7561, -0.6234, -0.2322],\n        [ 1.0049, -1.0375,  0.9175],\n        [-2.0694,  0.5427, -0.6764]])"
     },
     "metadata": {},
     "execution_count": 18
    }
   ],
   "source": [
    "x = torch.randn_like(x, dtype=torch.float)\n",
    "x"
   ]
  },
  {
   "cell_type": "markdown",
   "metadata": {},
   "source": [
    "# 获取它的维度信息:"
   ]
  },
  {
   "cell_type": "code",
   "execution_count": 20,
   "metadata": {},
   "outputs": [
    {
     "output_type": "execute_result",
     "data": {
      "text/plain": "(torch.Size([5, 3]), 5, 3)"
     },
     "metadata": {},
     "execution_count": 20
    }
   ],
   "source": [
    "xsize =x.size()\n",
    "m,n= xsize\n",
    "xsize,m,n"
   ]
  },
  {
   "cell_type": "markdown",
   "metadata": {},
   "source": [
    "# 加法:"
   ]
  },
  {
   "cell_type": "code",
   "execution_count": 26,
   "metadata": {},
   "outputs": [
    {
     "output_type": "execute_result",
     "data": {
      "text/plain": "tensor([[0.5352, 0.3723, 0.9230],\n        [0.8223, 0.4149, 0.8590],\n        [0.8955, 0.6095, 0.7083],\n        [0.0465, 0.4798, 0.0076],\n        [0.4696, 0.1007, 0.7653]])"
     },
     "metadata": {},
     "execution_count": 26
    }
   ],
   "source": [
    "y = torch.rand(5,3)\n",
    "y"
   ]
  },
  {
   "cell_type": "code",
   "execution_count": 27,
   "metadata": {},
   "outputs": [
    {
     "output_type": "execute_result",
     "data": {
      "text/plain": "tensor([[ 1.1095,  0.4048,  0.8660],\n        [ 1.5900,  0.6579,  0.8091],\n        [ 0.1394, -0.0139,  0.4761],\n        [ 1.0513, -0.5577,  0.9251],\n        [-1.5998,  0.6434,  0.0889]])"
     },
     "metadata": {},
     "execution_count": 27
    }
   ],
   "source": [
    "x+y"
   ]
  },
  {
   "cell_type": "code",
   "execution_count": 28,
   "metadata": {},
   "outputs": [
    {
     "output_type": "execute_result",
     "data": {
      "text/plain": "tensor([[ 1.1095,  0.4048,  0.8660],\n        [ 1.5900,  0.6579,  0.8091],\n        [ 0.1394, -0.0139,  0.4761],\n        [ 1.0513, -0.5577,  0.9251],\n        [-1.5998,  0.6434,  0.0889]])"
     },
     "metadata": {},
     "execution_count": 28
    }
   ],
   "source": [
    "torch.add(x,y)"
   ]
  },
  {
   "cell_type": "markdown",
   "metadata": {},
   "source": [
    "# 加法: 提供一个输出 tensor 作为参数"
   ]
  },
  {
   "cell_type": "code",
   "execution_count": 29,
   "metadata": {},
   "outputs": [
    {
     "output_type": "execute_result",
     "data": {
      "text/plain": "tensor([[ 1.1095,  0.4048,  0.8660],\n        [ 1.5900,  0.6579,  0.8091],\n        [ 0.1394, -0.0139,  0.4761],\n        [ 1.0513, -0.5577,  0.9251],\n        [-1.5998,  0.6434,  0.0889]])"
     },
     "metadata": {},
     "execution_count": 29
    }
   ],
   "source": [
    "result = torch.empty(5, 3)\n",
    "torch.add(x, y, out=result)"
   ]
  },
  {
   "cell_type": "code",
   "execution_count": 34,
   "metadata": {},
   "outputs": [
    {
     "output_type": "execute_result",
     "data": {
      "text/plain": "tensor([[ 1.1095,  0.4048,  0.8660],\n        [ 1.5900,  0.6579,  0.8091],\n        [ 0.1394, -0.0139,  0.4761],\n        [ 1.0513, -0.5577,  0.9251],\n        [-1.5998,  0.6434,  0.0889]])"
     },
     "metadata": {},
     "execution_count": 34
    }
   ],
   "source": [
    "y.add_(x)\n",
    "y"
   ]
  },
  {
   "cell_type": "markdown",
   "metadata": {},
   "source": [
    "# 任何使张量会发生变化的操作都有一个前缀 ‘_’。例如：x.copy_(y), x.t_(), 将会改变 x.你可以使用标准的  NumPy 类似的索引操作"
   ]
  },
  {
   "cell_type": "code",
   "execution_count": 38,
   "metadata": {},
   "outputs": [
    {
     "output_type": "execute_result",
     "data": {
      "text/plain": "tensor([[ 0.5744],\n        [ 0.7678],\n        [-0.7561],\n        [ 1.0049],\n        [-2.0694]])"
     },
     "metadata": {},
     "execution_count": 38
    }
   ],
   "source": [
    "x[:,:1]"
   ]
  },
  {
   "cell_type": "code",
   "execution_count": 40,
   "metadata": {},
   "outputs": [
    {
     "output_type": "execute_result",
     "data": {
      "text/plain": "tensor([[ 0.5744,  0.7678, -0.7561,  1.0049, -2.0694],\n        [ 0.0324,  0.2430, -0.6234, -1.0375,  0.5427],\n        [-0.0569, -0.0499, -0.2322,  0.9175, -0.6764]])"
     },
     "metadata": {},
     "execution_count": 40
    }
   ],
   "source": [
    "x.t_()"
   ]
  },
  {
   "cell_type": "markdown",
   "metadata": {},
   "source": [
    "# 改变大小：如果你想改变一个 tensor 的大小或者形状，你可以使用 torch.view:"
   ]
  },
  {
   "cell_type": "code",
   "execution_count": 41,
   "metadata": {},
   "outputs": [
    {
     "output_type": "execute_result",
     "data": {
      "text/plain": "(torch.Size([4, 4]), torch.Size([16]), torch.Size([2, 8]))"
     },
     "metadata": {},
     "execution_count": 41
    }
   ],
   "source": [
    "x = torch.randn(4, 4)\n",
    "y = x.view(16)\n",
    "z = x.view(-1, 8)  # the size -1 is inferred from other dimensions\n",
    "x.size(), y.size(), z.size()"
   ]
  },
  {
   "cell_type": "code",
   "execution_count": 42,
   "metadata": {},
   "outputs": [
    {
     "output_type": "execute_result",
     "data": {
      "text/plain": "tensor([[ 0.6241, -1.7628, -0.3089, -0.7421],\n        [ 1.2275,  0.0935, -0.4188, -0.9336],\n        [ 1.9370,  1.1478, -1.5731, -2.7789],\n        [-1.1168,  2.1390, -0.4523,  1.0072]])"
     },
     "metadata": {},
     "execution_count": 42
    }
   ],
   "source": [
    "x"
   ]
  },
  {
   "cell_type": "code",
   "execution_count": 43,
   "metadata": {},
   "outputs": [
    {
     "output_type": "execute_result",
     "data": {
      "text/plain": "tensor([ 0.6241, -1.7628, -0.3089, -0.7421,  1.2275,  0.0935, -0.4188, -0.9336,\n         1.9370,  1.1478, -1.5731, -2.7789, -1.1168,  2.1390, -0.4523,  1.0072])"
     },
     "metadata": {},
     "execution_count": 43
    }
   ],
   "source": [
    "y"
   ]
  },
  {
   "cell_type": "code",
   "execution_count": 44,
   "metadata": {},
   "outputs": [
    {
     "output_type": "execute_result",
     "data": {
      "text/plain": "tensor([[ 0.6241, -1.7628, -0.3089, -0.7421,  1.2275,  0.0935, -0.4188, -0.9336],\n        [ 1.9370,  1.1478, -1.5731, -2.7789, -1.1168,  2.1390, -0.4523,  1.0072]])"
     },
     "metadata": {},
     "execution_count": 44
    }
   ],
   "source": [
    "z"
   ]
  },
  {
   "cell_type": "code",
   "execution_count": 49,
   "metadata": {},
   "outputs": [
    {
     "output_type": "execute_result",
     "data": {
      "text/plain": "tensor([[ 0.6241, -1.7628],\n        [-0.3089, -0.7421],\n        [ 1.2275,  0.0935],\n        [-0.4188, -0.9336],\n        [ 1.9370,  1.1478],\n        [-1.5731, -2.7789],\n        [-1.1168,  2.1390],\n        [-0.4523,  1.0072]])"
     },
     "metadata": {},
     "execution_count": 49
    }
   ],
   "source": [
    "x.view(8,2)"
   ]
  },
  {
   "cell_type": "code",
   "execution_count": null,
   "metadata": {},
   "outputs": [],
   "source": []
  }
 ],
 "metadata": {
  "language_info": {
   "codemirror_mode": {
    "name": "ipython",
    "version": 3
   },
   "file_extension": ".py",
   "mimetype": "text/x-python",
   "name": "python",
   "nbconvert_exporter": "python",
   "pygments_lexer": "ipython3",
   "version": "3.7.6-final"
  },
  "orig_nbformat": 2,
  "kernelspec": {
   "name": "pycharm-66c53067",
   "display_name": "PyCharm (InferenceSystem)"
  }
 },
 "nbformat": 4,
 "nbformat_minor": 2
}