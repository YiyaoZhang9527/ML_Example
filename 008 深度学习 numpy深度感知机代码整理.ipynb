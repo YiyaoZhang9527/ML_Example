{
 "cells": [
  {
   "cell_type": "code",
   "execution_count": 111,
   "metadata": {},
   "outputs": [],
   "source": [
    "import numpy as np\n",
    "import pandas as pd"
   ]
  },
  {
   "cell_type": "code",
   "execution_count": 112,
   "metadata": {},
   "outputs": [
    {
     "output_type": "execute_result",
     "data": {
      "text/plain": "array([[0, 0, 1],\n       [1, 1, 1],\n       [1, 0, 1],\n       [0, 1, 1]])"
     },
     "metadata": {},
     "execution_count": 112
    }
   ],
   "source": [
    "X = np.array([[0,0,1],[1,1,1],[1,0,1],[0,1,1]])\n",
    "X"
   ]
  },
  {
   "cell_type": "code",
   "execution_count": 113,
   "metadata": {},
   "outputs": [
    {
     "output_type": "execute_result",
     "data": {
      "text/plain": "array([[0],\n       [1],\n       [1],\n       [0]])"
     },
     "metadata": {},
     "execution_count": 113
    }
   ],
   "source": [
    "Y = np.array([[0],[1],[1],[0]])\n",
    "Y"
   ]
  },
  {
   "cell_type": "code",
   "execution_count": 114,
   "metadata": {},
   "outputs": [],
   "source": [
    "def sigmoid(z):\n",
    "    return 1/(1+np.exp(-z))"
   ]
  },
  {
   "cell_type": "markdown",
   "metadata": {},
   "source": [
    "### 前向传播"
   ]
  },
  {
   "cell_type": "code",
   "execution_count": 115,
   "metadata": {},
   "outputs": [],
   "source": [
    "def fp(X,weights): \n",
    "    z = -np.dot(X,weights)\n",
    "    return sigmoid(z)"
   ]
  },
  {
   "cell_type": "markdown",
   "metadata": {},
   "source": [
    "### 反项传播"
   ]
  },
  {
   "cell_type": "code",
   "execution_count": 116,
   "metadata": {},
   "outputs": [],
   "source": [
    "def bp(y,output):\n",
    "    error = y-output\n",
    "    '''斜率或者导数'''\n",
    "    slope = output*(1-output)\n",
    "    return error*slope"
   ]
  },
  {
   "cell_type": "markdown",
   "metadata": {},
   "source": [
    "### 初始化参数"
   ]
  },
  {
   "cell_type": "code",
   "execution_count": 117,
   "metadata": {},
   "outputs": [],
   "source": [
    "def startWeights():\n",
    "    m,n = X.shape\n",
    "    np.random.seed(1)\n",
    "    return 2 * np.random.random((n,1))-1 "
   ]
  },
  {
   "cell_type": "code",
   "execution_count": 118,
   "metadata": {},
   "outputs": [],
   "source": [
    "def network(X,y,newX):\n",
    "    weights =  startWeights()\n",
    "    for it in range(10000):\n",
    "        output = fp(X,weights)\n",
    "        delta = bp(y,output)\n",
    "        weights = weights +  np.dot(X.T,delta)\n",
    "    return format(float(fp(newX,weights)),'.5f'),weights,fp(newX,weights)"
   ]
  },
  {
   "cell_type": "code",
   "execution_count": 119,
   "metadata": {},
   "outputs": [
    {
     "output_type": "execute_result",
     "data": {
      "text/plain": "('0.99991',\n array([[ 0.6231004 ],\n        [-1.90655099],\n        [-9.36811556]]),\n array([[0.9999146]]))"
     },
     "metadata": {},
     "execution_count": 119
    }
   ],
   "source": [
    "network(X,Y,np.array([[0,0,1]]) )"
   ]
  },
  {
   "cell_type": "markdown",
   "metadata": {},
   "source": [
    "# 上面这种一个神经元的神经网络的限制是，一个神经元，只能解决线性关系，无法解决「异或关系」"
   ]
  }
 ],
 "metadata": {
  "language_info": {
   "codemirror_mode": {
    "name": "ipython",
    "version": 3
   },
   "file_extension": ".py",
   "mimetype": "text/x-python",
   "name": "python",
   "nbconvert_exporter": "python",
   "pygments_lexer": "ipython3",
   "version": "3.7.6-final"
  },
  "orig_nbformat": 2,
  "kernelspec": {
   "name": "pycharm-66c53067",
   "display_name": "PyCharm (InferenceSystem)"
  }
 },
 "nbformat": 4,
 "nbformat_minor": 2
}