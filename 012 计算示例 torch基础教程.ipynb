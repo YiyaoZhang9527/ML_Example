{
 "cells": [
  {
   "cell_type": "code",
   "execution_count": 28,
   "metadata": {},
   "outputs": [],
   "source": [
    "import torch"
   ]
  },
  {
   "cell_type": "markdown",
   "metadata": {},
   "source": [
    "## where函数"
   ]
  },
  {
   "cell_type": "code",
   "execution_count": 29,
   "metadata": {},
   "outputs": [],
   "source": [
    "cond = torch.rand(10).reshape(2,5).T\n",
    "a = torch.zeros(10).reshape(2,5).T\n",
    "b = torch.ones(10).reshape(2,5).T"
   ]
  },
  {
   "cell_type": "code",
   "execution_count": 30,
   "metadata": {},
   "outputs": [
    {
     "output_type": "execute_result",
     "data": {
      "text/plain": "(tensor([[0., 0.],\n         [0., 0.],\n         [0., 0.],\n         [0., 0.],\n         [0., 0.]]),\n tensor([[1., 1.],\n         [1., 1.],\n         [1., 1.],\n         [1., 1.],\n         [1., 1.]]),\n tensor([[0.3121, 0.3069],\n         [0.9294, 0.5010],\n         [0.9739, 0.6194],\n         [0.7536, 0.3758],\n         [0.5175, 0.4614]]))"
     },
     "metadata": {},
     "execution_count": 30
    }
   ],
   "source": [
    "a,b,cond"
   ]
  },
  {
   "cell_type": "code",
   "execution_count": 31,
   "metadata": {},
   "outputs": [
    {
     "output_type": "execute_result",
     "data": {
      "text/plain": "tensor([[0., 0.],\n        [1., 1.],\n        [1., 1.],\n        [1., 0.],\n        [1., 0.]])"
     },
     "metadata": {},
     "execution_count": 31
    }
   ],
   "source": [
    "torch.where(cond>0.5,b,a)"
   ]
  },
  {
   "cell_type": "markdown",
   "metadata": {},
   "source": [
    "## gather 收集函数"
   ]
  },
  {
   "cell_type": "code",
   "execution_count": 32,
   "metadata": {},
   "outputs": [
    {
     "output_type": "error",
     "ename": "ValueError",
     "evalue": "too many dimensions 'str'",
     "traceback": [
      "\u001b[0;31m---------------------------------------------------------------------------\u001b[0m",
      "\u001b[0;31mValueError\u001b[0m                                Traceback (most recent call last)",
      "\u001b[0;32m<ipython-input-32-05dc1a900f2d>\u001b[0m in \u001b[0;36m<module>\u001b[0;34m\u001b[0m\n\u001b[0;32m----> 1\u001b[0;31m \u001b[0mtable\u001b[0m \u001b[0;34m=\u001b[0m \u001b[0mtorch\u001b[0m\u001b[0;34m.\u001b[0m\u001b[0mTensor\u001b[0m\u001b[0;34m(\u001b[0m\u001b[0;34m[\u001b[0m\u001b[0;34m'dog'\u001b[0m\u001b[0;34m,\u001b[0m\u001b[0;34m'cat'\u001b[0m\u001b[0;34m,\u001b[0m\u001b[0;34m'whell'\u001b[0m\u001b[0;34m]\u001b[0m\u001b[0;34m)\u001b[0m\u001b[0;34m\u001b[0m\u001b[0;34m\u001b[0m\u001b[0m\n\u001b[0m",
      "\u001b[0;31mValueError\u001b[0m: too many dimensions 'str'"
     ]
    }
   ],
   "source": [
    "table = torch.Tensor(['dog','cat','whell'])"
   ]
  },
  {
   "cell_type": "code",
   "execution_count": 33,
   "metadata": {},
   "outputs": [
    {
     "output_type": "execute_result",
     "data": {
      "text/plain": "tensor([[ 1.0513, -0.2772, -0.7542,  1.2767,  2.2565, -0.0973, -0.3973,  0.4521,\n         -1.4197, -1.1632],\n        [-0.1986,  1.0548, -0.3634, -2.0970,  1.0908,  0.5647,  0.1142, -0.1241,\n          0.4667, -0.7398],\n        [ 0.4075, -0.5110, -0.6078,  0.3151,  0.3472, -0.0765, -0.3105, -1.2856,\n          1.7716,  1.0432],\n        [ 1.9569,  0.2987, -0.8352, -0.2443, -0.8445,  1.1098,  0.6245,  0.2825,\n          1.3719, -2.5992]])"
     },
     "metadata": {},
     "execution_count": 33
    }
   ],
   "source": [
    "prob = torch.randn(4,10)\n",
    "prob"
   ]
  },
  {
   "cell_type": "code",
   "execution_count": 34,
   "metadata": {},
   "outputs": [
    {
     "output_type": "execute_result",
     "data": {
      "text/plain": "torch.return_types.topk(\nvalues=tensor([[2.2565, 1.2767, 1.0513],\n        [1.0908, 1.0548, 0.5647],\n        [1.7716, 1.0432, 0.4075],\n        [1.9569, 1.3719, 1.1098]]),\nindices=tensor([[4, 3, 0],\n        [4, 1, 5],\n        [8, 9, 0],\n        [0, 8, 5]]))"
     },
     "metadata": {},
     "execution_count": 34
    }
   ],
   "source": [
    "idx = prob.topk(dim=1,k=3)#k选择最有可能的几种情况\n",
    "idx"
   ]
  },
  {
   "cell_type": "code",
   "execution_count": 35,
   "metadata": {},
   "outputs": [
    {
     "output_type": "execute_result",
     "data": {
      "text/plain": "tensor([[4, 3, 0],\n        [4, 1, 5],\n        [8, 9, 0],\n        [0, 8, 5]])"
     },
     "metadata": {},
     "execution_count": 35
    }
   ],
   "source": [
    "idx=idx[1]\n",
    "idx"
   ]
  },
  {
   "cell_type": "code",
   "execution_count": 36,
   "metadata": {},
   "outputs": [
    {
     "output_type": "execute_result",
     "data": {
      "text/plain": "tensor([100, 101, 102, 103, 104, 105, 106, 107, 108, 109])"
     },
     "metadata": {},
     "execution_count": 36
    }
   ],
   "source": [
    "label = torch.arange(10)+100\n",
    "label"
   ]
  },
  {
   "cell_type": "code",
   "execution_count": 37,
   "metadata": {},
   "outputs": [
    {
     "output_type": "execute_result",
     "data": {
      "text/plain": "tensor([[100, 101, 102, 103, 104, 105, 106, 107, 108, 109],\n        [100, 101, 102, 103, 104, 105, 106, 107, 108, 109],\n        [100, 101, 102, 103, 104, 105, 106, 107, 108, 109],\n        [100, 101, 102, 103, 104, 105, 106, 107, 108, 109]])"
     },
     "metadata": {},
     "execution_count": 37
    }
   ],
   "source": [
    "label.expand(4,10) #全局表复制四次"
   ]
  },
  {
   "cell_type": "code",
   "execution_count": 38,
   "metadata": {},
   "outputs": [
    {
     "output_type": "execute_result",
     "data": {
      "text/plain": "tensor([[104, 103, 100],\n        [104, 101, 105],\n        [108, 109, 100],\n        [100, 108, 105]])"
     },
     "metadata": {},
     "execution_count": 38
    }
   ],
   "source": [
    "torch.gather(label.expand(4,10),dim=1,index=idx.long())"
   ]
  },
  {
   "cell_type": "markdown",
   "metadata": {},
   "source": [
    "## 梯度其实就是偏微分组合的向量(每一个轴是每一个轴组合的偏微分)\n",
    "## $ z=y2-x2 $\n",
    "## $ \\partial z / \\partial x = -2x $\n",
    "## $ \\partial z / \\partial y = 2y $"
   ]
  }
 ],
 "metadata": {
  "language_info": {
   "codemirror_mode": {
    "name": "ipython",
    "version": 3
   },
   "file_extension": ".py",
   "mimetype": "text/x-python",
   "name": "python",
   "nbconvert_exporter": "python",
   "pygments_lexer": "ipython3",
   "version": "3.7.6-final"
  },
  "orig_nbformat": 2,
  "kernelspec": {
   "name": "python37464bitf10adaa3efab4e6fa8988dc159616146",
   "display_name": "Python 3.7.4 64-bit"
  }
 },
 "nbformat": 4,
 "nbformat_minor": 2
}