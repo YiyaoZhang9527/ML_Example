{
 "cells": [
  {
   "cell_type": "markdown",
   "metadata": {},
   "source": [
    "2.3 数学期望\n",
    "\n",
    "某城市有10万个家庭，没有孩子的家庭有1000个，有一个孩子的家庭有9万个，有两个孩子的家庭有6000个，有3个孩子的家庭有3000个。\n",
    "\n",
    "则此城市中任一个家庭中孩子的数目是一个随机变量，记为X。它可取值0，1，2，3。\n",
    "\n",
    "其中，X取0的概率为0.01（没孩子的概率），取1的概率为0.9（1个孩子的概率），取2的概率为0.06（2个孩子的概率），取3的概率为0.03（3个孩子的概率）。\n",
    "\n",
    "则，它的数学期望\n",
    "\n",
    "E(x) = 0 x 0.01 + 1 x 0.9 + 2 x0.06 + 3 x 0.03 = 1.11\n",
    "————————————————\n",
    "版权声明：本文为CSDN博主「小嗷的日常」的原创文章，遵循 CC 4.0 BY-SA 版权协议，转载请附上原文出处链接及本声明。\n",
    "原文链接：https://blog.csdn.net/baidu_24919727/article/details/82079865"
   ]
  },
  {
   "cell_type": "code",
   "execution_count": 1,
   "metadata": {},
   "outputs": [],
   "source": [
    "import numpy as np\n",
    "import random"
   ]
  },
  {
   "cell_type": "code",
   "execution_count": 2,
   "metadata": {},
   "outputs": [],
   "source": [
    "Epython = lambda Plist,numberlist : sum([P*N for P,N in zip(Plist,numberlist)])"
   ]
  },
  {
   "cell_type": "code",
   "execution_count": 3,
   "metadata": {},
   "outputs": [
    {
     "output_type": "execute_result",
     "data": {
      "text/plain": "7428.7171860000735"
     },
     "metadata": {},
     "execution_count": 3
    }
   ],
   "source": [
    "Plist = [random.random() for i in range(1000)]\n",
    "numberlist = [random.randint(10,20) for i in range(1000)]\n",
    "Epython(Plist,numberlist)"
   ]
  },
  {
   "cell_type": "code",
   "execution_count": 4,
   "metadata": {},
   "outputs": [
    {
     "output_type": "execute_result",
     "data": {
      "text/plain": "7428.7171860000772"
     },
     "metadata": {},
     "execution_count": 4
    }
   ],
   "source": [
    "def E(P,N):\n",
    "    P,N = np.array(P),np.array(N)\n",
    "    return np.dot(P,N.T)\n",
    "E(Plist,numberlist)"
   ]
  }
 ],
 "metadata": {
  "language_info": {
   "name": "python",
   "codemirror_mode": {
    "name": "ipython",
    "version": 3
   },
   "version": "3.6.2-final"
  },
  "orig_nbformat": 2,
  "file_extension": ".py",
  "mimetype": "text/x-python",
  "name": "python",
  "npconvert_exporter": "python",
  "pygments_lexer": "ipython3",
  "version": 3,
  "kernelspec": {
   "name": "python36264bitdeeplearningconda291cf55c2ab64e6699f94edfaa9453b1",
   "display_name": "Python 3.6.2 64-bit ('deeplearning': conda)"
  }
 },
 "nbformat": 4,
 "nbformat_minor": 2
}