{
 "cells": [
  {
   "cell_type": "code",
   "execution_count": 35,
   "metadata": {},
   "outputs": [],
   "source": [
    "import numpy as np\n",
    "from scipy import stats as st"
   ]
  },
  {
   "cell_type": "markdown",
   "metadata": {},
   "source": [
    "## 点积"
   ]
  },
  {
   "cell_type": "code",
   "execution_count": 36,
   "metadata": {},
   "outputs": [
    {
     "output_type": "execute_result",
     "data": {
      "text/plain": "(array([[1, 2],\n        [3, 4]]),\n array([[11, 12],\n        [13, 14]]))"
     },
     "metadata": {},
     "execution_count": 36
    }
   ],
   "source": [
    "a = np.array([[1,2],[3,4]]) \n",
    "b = np.array([[11,12],[13,14]]) \n",
    "a,b"
   ]
  },
  {
   "cell_type": "code",
   "execution_count": 37,
   "metadata": {},
   "outputs": [
    {
     "output_type": "execute_result",
     "data": {
      "text/plain": "130"
     },
     "metadata": {},
     "execution_count": 37
    }
   ],
   "source": [
    "np.vdot(a,b)"
   ]
  },
  {
   "cell_type": "markdown",
   "metadata": {},
   "source": [
    "## 内积 $$ [[1*11+2*12, 1*13+2*14][3*11+4*12, 3*13+4*14]] $$"
   ]
  },
  {
   "cell_type": "code",
   "execution_count": 38,
   "metadata": {},
   "outputs": [
    {
     "output_type": "execute_result",
     "data": {
      "text/plain": "array([[35, 41],\n       [81, 95]])"
     },
     "metadata": {},
     "execution_count": 38
    }
   ],
   "source": [
    "np.inner(a,b)"
   ]
  },
  {
   "cell_type": "markdown",
   "metadata": {},
   "source": [
    "## 广播函数"
   ]
  },
  {
   "cell_type": "code",
   "execution_count": 39,
   "metadata": {},
   "outputs": [],
   "source": [
    "import numpy.matlib \n",
    "import numpy as np "
   ]
  },
  {
   "cell_type": "code",
   "execution_count": 40,
   "metadata": {},
   "outputs": [],
   "source": [
    "a = [[1,0],[0,1]] \n",
    "b = [[4,1],[2,2]] "
   ]
  },
  {
   "cell_type": "code",
   "execution_count": 41,
   "metadata": {},
   "outputs": [
    {
     "output_type": "execute_result",
     "data": {
      "text/plain": "array([[4, 1],\n       [2, 2]])"
     },
     "metadata": {},
     "execution_count": 41
    }
   ],
   "source": [
    "np.matmul(a,b)"
   ]
  },
  {
   "cell_type": "code",
   "execution_count": 42,
   "metadata": {},
   "outputs": [],
   "source": [
    "a1 = [[1,0],[1,2],[1,3],[1,4]]\n",
    "b1 = [1,1] "
   ]
  },
  {
   "cell_type": "code",
   "execution_count": 43,
   "metadata": {},
   "outputs": [
    {
     "output_type": "execute_result",
     "data": {
      "text/plain": "array([1, 3, 4, 5])"
     },
     "metadata": {},
     "execution_count": 43
    }
   ],
   "source": [
    "np.matmul(a1,b1)"
   ]
  },
  {
   "cell_type": "markdown",
   "metadata": {},
   "source": [
    "## 高维广播函数"
   ]
  },
  {
   "cell_type": "code",
   "execution_count": 44,
   "metadata": {},
   "outputs": [
    {
     "output_type": "execute_result",
     "data": {
      "text/plain": "(array([[[ 2,  3],\n         [ 6, 11]],\n \n        [[10, 19],\n         [14, 27]]]),\n array([[[0, 1],\n         [2, 3]],\n \n        [[4, 5],\n         [6, 7]]]),\n array([[0, 1],\n        [2, 3]]))"
     },
     "metadata": {},
     "execution_count": 44
    }
   ],
   "source": [
    "a2 = np.arange(8).reshape(2,2,2)\n",
    "b2 = np.arange(4).reshape(2,2)\n",
    "np.matmul(a2,b2),a2,b2"
   ]
  },
  {
   "cell_type": "markdown",
   "metadata": {},
   "source": [
    "## numpy.linalg.det() 函数计算输入矩阵的行列式。"
   ]
  },
  {
   "cell_type": "markdown",
   "metadata": {},
   "source": [
    "## 它从方阵的对角元素计算。 对于 2×2 矩阵，它是左上和右下元素的乘积与其他两个的乘积的差。\n",
    "换句话说，对于矩阵[[a，b]，[c，d]]，行列式计算为 ad-bc。 较大的方阵被认为是 2×2 矩阵的组合。\n"
   ]
  },
  {
   "cell_type": "code",
   "execution_count": 45,
   "metadata": {
    "tags": []
   },
   "outputs": [
    {
     "output_type": "stream",
     "name": "stdout",
     "text": "[[1 2]\n [3 4]]\n"
    },
    {
     "output_type": "execute_result",
     "data": {
      "text/plain": "1.0"
     },
     "metadata": {},
     "execution_count": 45
    }
   ],
   "source": [
    "a3 = np.array([[1,2], [3,4]])\n",
    "print(a3)\n",
    "np.linalg.det(a)"
   ]
  },
  {
   "cell_type": "code",
   "execution_count": 74,
   "metadata": {},
   "outputs": [
    {
     "output_type": "stream",
     "name": "stdout",
     "text": "[[ 6  1  1]\n [ 4 -2  5]\n [ 2  8  7]]\n-306.0\n"
    }
   ],
   "source": []
  },
  {
   "cell_type": "markdown",
   "metadata": {},
   "source": [
    "## 从这儿就可以理解函数的计算过程了"
   ]
  },
  {
   "cell_type": "code",
   "execution_count": 46,
   "metadata": {
    "tags": []
   },
   "outputs": [
    {
     "output_type": "stream",
     "name": "stdout",
     "text": "-306\n[[ 6  1  1]\n [ 4 -2  5]\n [ 2  8  7]]\n-306.0\n"
    }
   ],
   "source": [
    "print (6*(-2*7 - 5*8) - 1*(4*7 - 5*2) + 1*(4*8 - -2*2))\n",
    "b = np.array([[6,1,1], [4, -2, 5], [2,8,7]]) \n",
    "print (b)\n",
    "print (np.linalg.det(b))"
   ]
  },
  {
   "cell_type": "markdown",
   "metadata": {},
   "source": [
    "## 求逆"
   ]
  },
  {
   "cell_type": "code",
   "execution_count": 47,
   "metadata": {
    "tags": []
   },
   "outputs": [
    {
     "output_type": "stream",
     "name": "stdout",
     "text": "[[1 2]\n [3 4]]\n[[-2.   1. ]\n [ 1.5 -0.5]]\n[[1.0000000e+00 0.0000000e+00]\n [8.8817842e-16 1.0000000e+00]]\n"
    }
   ],
   "source": [
    "x = np.array([[1,2],[3,4]])\n",
    "y = np.linalg.inv(x)\n",
    "print (x)\n",
    "print (y)\n",
    "print (np.dot(x,y))"
   ]
  },
  {
   "cell_type": "markdown",
   "metadata": {},
   "source": [
    "## 解方程"
   ]
  },
  {
   "cell_type": "code",
   "execution_count": 48,
   "metadata": {
    "tags": []
   },
   "outputs": [
    {
     "output_type": "stream",
     "name": "stdout",
     "text": "数组 a：\n[[ 1  1  1]\n [ 0  2  5]\n [ 2  5 -1]]\na 的逆：\n[[ 1.28571429 -0.28571429 -0.14285714]\n [-0.47619048  0.14285714  0.23809524]\n [ 0.19047619  0.14285714 -0.0952381 ]]\n矩阵 b：\n[[ 6]\n [-4]\n [27]]\n计算：A^(-1)B：\n[[ 5.]\n [ 3.]\n [-2.]]\n"
    }
   ],
   "source": [
    "import numpy as np \n",
    " \n",
    "a = np.array([[1,1,1],[0,2,5],[2,5,-1]]) \n",
    " \n",
    "print ('数组 a：')\n",
    "print (a)\n",
    "ainv = np.linalg.inv(a) \n",
    " \n",
    "print ('a 的逆：')\n",
    "print (ainv)\n",
    " \n",
    "print ('矩阵 b：')\n",
    "b = np.array([[6],[-4],[27]]) \n",
    "print (b)\n",
    " \n",
    "print ('计算：A^(-1)B：')\n",
    "x = np.linalg.solve(a,b) \n",
    "print (x)\n",
    "# 这就是线性方向 x = 5, y = 3, z = -2 的解"
   ]
  },
  {
   "cell_type": "code",
   "execution_count": 49,
   "metadata": {},
   "outputs": [
    {
     "output_type": "execute_result",
     "data": {
      "text/plain": "array([[ 5.],\n       [ 3.],\n       [-2.]])"
     },
     "metadata": {},
     "execution_count": 49
    }
   ],
   "source": [
    "x = np.dot(ainv,b)\n",
    "x"
   ]
  },
  {
   "cell_type": "code",
   "execution_count": null,
   "metadata": {},
   "outputs": [],
   "source": []
  }
 ],
 "metadata": {
  "language_info": {
   "name": "python",
   "codemirror_mode": {
    "name": "ipython",
    "version": 3
   },
   "version": "3.5.6-final"
  },
  "orig_nbformat": 2,
  "file_extension": ".py",
  "mimetype": "text/x-python",
  "name": "python",
  "npconvert_exporter": "python",
  "pygments_lexer": "ipython3",
  "version": 3,
  "kernelspec": {
   "name": "pycharm-66c53067",
   "display_name": "PyCharm (InferenceSystem)"
  }
 },
 "nbformat": 4,
 "nbformat_minor": 2
}