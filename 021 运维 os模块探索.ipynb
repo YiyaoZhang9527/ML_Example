{
 "cells": [
  {
   "cell_type": "code",
   "execution_count": 82,
   "metadata": {},
   "outputs": [],
   "source": [
    "import os\n",
    "import sys"
   ]
  },
  {
   "cell_type": "code",
   "execution_count": 83,
   "metadata": {},
   "outputs": [
    {
     "output_type": "execute_result",
     "data": {
      "text/plain": "posix.DirEntry"
     },
     "metadata": {},
     "execution_count": 83
    }
   ],
   "source": [
    "os.DirEntry"
   ]
  },
  {
   "cell_type": "code",
   "execution_count": 84,
   "metadata": {},
   "outputs": [
    {
     "output_type": "execute_result",
     "data": {
      "text/plain": "'/Users/manmanzhang/Library/Mobile Documents/com~apple~CloudDocs/MyProject/InferenceSystem/src/I4_models/class_web_crawler'"
     },
     "metadata": {},
     "execution_count": 84
    }
   ],
   "source": [
    "now = os.getcwd()\n",
    "now"
   ]
  },
  {
   "cell_type": "markdown",
   "metadata": {},
   "source": [
    "### 路径是否存在"
   ]
  },
  {
   "cell_type": "code",
   "execution_count": 85,
   "metadata": {},
   "outputs": [
    {
     "output_type": "execute_result",
     "data": {
      "text/plain": "True"
     },
     "metadata": {},
     "execution_count": 85
    }
   ],
   "source": [
    "os.access(os.getcwd(), os.F_OK)"
   ]
  },
  {
   "cell_type": "code",
   "execution_count": 86,
   "metadata": {},
   "outputs": [
    {
     "output_type": "execute_result",
     "data": {
      "text/plain": "True"
     },
     "metadata": {},
     "execution_count": 86
    }
   ],
   "source": [
    "os.access(os.getcwd(), os.R_OK)"
   ]
  },
  {
   "cell_type": "code",
   "execution_count": 106,
   "metadata": {},
   "outputs": [
    {
     "output_type": "execute_result",
     "data": {
      "text/plain": "True"
     },
     "metadata": {},
     "execution_count": 106
    }
   ],
   "source": [
    "import webbrowser as web\n",
    "h = '/Users/manmanzhang/Library/Mobile Documents/com~apple~CloudDocs/MyProject/InferenceSystem/src/I5_algorithm/bar3d_base.html'\n",
    "web.open('file://'+h)"
   ]
  },
  {
   "cell_type": "code",
   "execution_count": 107,
   "metadata": {},
   "outputs": [],
   "source": [
    "\n",
    "if (os.access(h, os.F_OK) and h[-5:]=='.html'):\n",
    "        web.open(os.path.abspath('file://'+h))\n",
    "else:\n",
    "    'can\\'t find file,please check you code '"
   ]
  },
  {
   "cell_type": "markdown",
   "metadata": {},
   "source": [
    "### 路径是否可写"
   ]
  },
  {
   "cell_type": "code",
   "execution_count": 89,
   "metadata": {},
   "outputs": [
    {
     "output_type": "execute_result",
     "data": {
      "text/plain": "True"
     },
     "metadata": {},
     "execution_count": 89
    }
   ],
   "source": [
    "os.access(os.getcwd(), os.W_OK)"
   ]
  },
  {
   "cell_type": "markdown",
   "metadata": {},
   "source": [
    "### 路径是否可执行"
   ]
  },
  {
   "cell_type": "code",
   "execution_count": 90,
   "metadata": {},
   "outputs": [
    {
     "output_type": "execute_result",
     "data": {
      "text/plain": "True"
     },
     "metadata": {},
     "execution_count": 90
    }
   ],
   "source": [
    "os.access(os.getcwd(),os.X_OK)"
   ]
  },
  {
   "cell_type": "markdown",
   "metadata": {},
   "source": [
    "### 改变当前目录路径"
   ]
  },
  {
   "cell_type": "code",
   "execution_count": 91,
   "metadata": {},
   "outputs": [
    {
     "output_type": "stream",
     "name": "stdout",
     "text": "['home', 'usr', '.DS_Store', 'bin', 'sbin', '.file', 'etc', 'var', 'Library', 'System', '.VolumeIcon.icns', '.fseventsd', 'private', '.vol', 'Users', 'Applications', 'opt', 'dev', 'Volumes', 'tmp', 'cores']\n"
    },
    {
     "output_type": "execute_result",
     "data": {
      "text/plain": "'/Users/manmanzhang/Library/Mobile Documents/com~apple~CloudDocs/MyProject/InferenceSystem/src/I4_models/class_web_crawler'"
     },
     "metadata": {},
     "execution_count": 91
    }
   ],
   "source": [
    "os.chdir(\"/\")\n",
    "print(os.listdir())\n",
    "os.chdir(now)\n",
    "os.getcwd()"
   ]
  },
  {
   "cell_type": "markdown",
   "metadata": {},
   "source": [
    "## chmod()方法语法格式如下：\n",
    "os.chmod(path, mode)\n",
    "\n",
    "### stat.S_IXOTH: 其他用户有执行权0o001\n",
    "### stat.S_IWOTH: 其他用户有写权限0o002\n",
    "### stat.S_IROTH: 其他用户有读权限0o004\n",
    "### stat.S_IRWXO: 其他用户有全部权限(权限掩码)0o007\n",
    "### stat.S_IXGRP: 组用户有执行权限0o010\n",
    "### stat.S_IWGRP: 组用户有写权限0o020\n",
    "### stat.S_IRGRP: 组用户有读权限0o040\n",
    "### stat.S_IRWXG: 组用户有全部权限(权限掩码)0o070\n",
    "### stat.S_IXUSR: 拥有者具有执行权限0o100\n",
    "### stat.S_IWUSR: 拥有者具有写权限0o200\n",
    "### stat.S_IRUSR: 拥有者具有读权限0o400\n",
    "### stat.S_IRWXU: 拥有者有全部权限(权限掩码)0o700\n",
    "### stat.S_ISVTX: 目录里文件目录只有拥有者才可删除更改0o1000\n",
    "### stat.S_ISGID: 执行此文件其进程有效组为文件所在组0o2000\n",
    "### stat.S_ISUID: 执行此文件其进程有效用户为文件所有者0o4000\n",
    "### stat.S_IREAD: windows下设为只读\n",
    "### stat.S_IWRITE: windows下取消只读\n"
   ]
  },
  {
   "cell_type": "code",
   "execution_count": 92,
   "metadata": {},
   "outputs": [],
   "source": [
    "import os, sys, stat\n",
    "\n",
    "pathstring = \"/Users/manmanzhang/Library/Mobile Documents/com~apple~CloudDocs/MyProject/InferenceSystem/src/I4_models/class_web_crawler/os模块探索.ipynb\"\n",
    "os.chmod(pathstring, stat.S_IXGRP)\n",
    "os.chmod(pathstring,stat.S_IRWXU)"
   ]
  },
  {
   "cell_type": "markdown",
   "metadata": {},
   "source": [
    "### os.openpty() 方法用于打开一个新的伪终端对。返回 pty 和 tty的文件描述符"
   ]
  },
  {
   "cell_type": "code",
   "execution_count": 93,
   "metadata": {},
   "outputs": [],
   "source": [
    "m,s = os.openpty()"
   ]
  },
  {
   "cell_type": "code",
   "execution_count": 94,
   "metadata": {},
   "outputs": [
    {
     "output_type": "execute_result",
     "data": {
      "text/plain": "'/dev/ttys010'"
     },
     "metadata": {},
     "execution_count": 94
    }
   ],
   "source": [
    "os.ttyname(s)"
   ]
  },
  {
   "cell_type": "code",
   "execution_count": 95,
   "metadata": {},
   "outputs": [
    {
     "output_type": "error",
     "ename": "SyntaxError",
     "evalue": "invalid syntax (<ipython-input-95-3caafc2d7ca8>, line 4)",
     "traceback": [
      "\u001b[0;36m  File \u001b[0;32m\"<ipython-input-95-3caafc2d7ca8>\"\u001b[0;36m, line \u001b[0;32m4\u001b[0m\n\u001b[0;31m    elif 'os模块探索.ipynb' not in os.getcwd():\u001b[0m\n\u001b[0m       ^\u001b[0m\n\u001b[0;31mSyntaxError\u001b[0m\u001b[0;31m:\u001b[0m invalid syntax\n"
     ]
    }
   ],
   "source": [
    "def testRename():\n",
    "    if 'os模块探索.ipynb' in os.getcwd():\n",
    "        os.rename('os模块探索.ipynb', 'os模块探索1.ipynb'\n",
    "    elif 'os模块探索.ipynb' not in os.getcwd():\n",
    "        os.rename('os模块探索.ipynb1', 'os模块探索.ipynb')\n",
    "testRename()  "
   ]
  },
  {
   "cell_type": "code",
   "execution_count": 96,
   "metadata": {},
   "outputs": [
    {
     "output_type": "execute_result",
     "data": {
      "text/plain": "['class_xinan.py',\n 'map_globe_base.html',\n 'analysis_google_map.html',\n 'datafromwiki2020-04-01-23-58-47.html',\n '世界疫情看板.ipynb',\n 'USATable.csv',\n '.DS_Store',\n 'wuhanoutbreakdatabase',\n 'attachment',\n 'news_of_this_world.csv',\n 'class_agouwang.py',\n 'class_Virus2019_nCoV.py',\n '__pycache__',\n '世界疫情词云图.npg',\n 'zhihu.csv',\n '疫情coder.ipynb',\n 'datafromgoogle2020-04-01-23-58-55.html',\n 'china_gdp_from_1993_to_2018.html',\n 'class_jongdong.py',\n 'Class_one_country.py',\n 'datafromwiki2020-04-01-23-58-55.html',\n 'calss_get_Photo_from_baidu.py',\n '花式地理看图实例.csv',\n '飞常淮航班数据验证爬虫www.variflight.com',\n 'test.html',\n 'pandas使用教程.ipynb',\n '未命名.ipynb',\n '花式地理看图实例.ipynb',\n '十六进制分析.ipynb',\n 'Urls_of_Virus2019_nCov.csv',\n '文字转矩阵.ipynb',\n '百度图片搜索',\n 'class_anjuke.py',\n 'log',\n 'map_world.npg',\n '世界疫情词云图.html',\n '.ipynb_checkpoints',\n 'render.html',\n 'PLOT_OF_MeanReversion',\n 'class_stock.py',\n 'class_word_table_for_virus2019_ncov.py',\n '世界疫情数据存储历史记录(来源：google，wiki，丁香医生)',\n 'class_city58.py',\n 'wuhan',\n 'class_A_nCoV_2019_for_world.py',\n 'lagoudatabase',\n 'os模块探索.ipynb',\n '中国gdp1993-2018.ipynb',\n 'class_VirusTrajectory.py',\n 'plot_file',\n 'map_world.html']"
     },
     "metadata": {},
     "execution_count": 96
    }
   ],
   "source": [
    "os.listdir()"
   ]
  },
  {
   "cell_type": "code",
   "execution_count": 97,
   "metadata": {},
   "outputs": [
    {
     "output_type": "execute_result",
     "data": {
      "text/plain": "False"
     },
     "metadata": {},
     "execution_count": 97
    }
   ],
   "source": [
    "os.path.isfile(os.getcwd())"
   ]
  },
  {
   "cell_type": "code",
   "execution_count": 98,
   "metadata": {},
   "outputs": [
    {
     "output_type": "execute_result",
     "data": {
      "text/plain": "{'PC_ALLOC_SIZE_MIN': 16,\n 'PC_ASYNC_IO': 17,\n 'PC_CHOWN_RESTRICTED': 7,\n 'PC_FILESIZEBITS': 18,\n 'PC_LINK_MAX': 1,\n 'PC_MAX_CANON': 2,\n 'PC_MAX_INPUT': 3,\n 'PC_NAME_MAX': 4,\n 'PC_NO_TRUNC': 8,\n 'PC_PATH_MAX': 5,\n 'PC_PIPE_BUF': 6,\n 'PC_PRIO_IO': 19,\n 'PC_REC_INCR_XFER_SIZE': 20,\n 'PC_REC_MAX_XFER_SIZE': 21,\n 'PC_REC_MIN_XFER_SIZE': 22,\n 'PC_REC_XFER_ALIGN': 23,\n 'PC_SYMLINK_MAX': 24,\n 'PC_SYNC_IO': 25,\n 'PC_VDISABLE': 9}"
     },
     "metadata": {},
     "execution_count": 98
    }
   ],
   "source": [
    "os.pathconf_names"
   ]
  },
  {
   "cell_type": "code",
   "execution_count": 99,
   "metadata": {},
   "outputs": [
    {
     "output_type": "execute_result",
     "data": {
      "text/plain": "0"
     },
     "metadata": {},
     "execution_count": 99
    }
   ],
   "source": [
    "os.system('htop')"
   ]
  },
  {
   "cell_type": "markdown",
   "metadata": {},
   "source": [
    "### abspath 返回目标地址"
   ]
  },
  {
   "cell_type": "code",
   "execution_count": 100,
   "metadata": {},
   "outputs": [
    {
     "output_type": "execute_result",
     "data": {
      "text/plain": "'/Users/manmanzhang/Library/Mobile Documents/com~apple~CloudDocs/MyProject/InferenceSystem/src/I4_models/class_web_crawler/chrome'"
     },
     "metadata": {},
     "execution_count": 100
    }
   ],
   "source": [
    "os.path.abspath('chrome')"
   ]
  },
  {
   "cell_type": "markdown",
   "metadata": {},
   "source": [
    "### realpath 返回的是 使用软链 的真实地址"
   ]
  },
  {
   "cell_type": "code",
   "execution_count": 101,
   "metadata": {},
   "outputs": [
    {
     "output_type": "execute_result",
     "data": {
      "text/plain": "'/Users/manmanzhang/Library/Mobile Documents/com~apple~CloudDocs/MyProject/InferenceSystem/src/I4_models/class_web_crawler/chrome'"
     },
     "metadata": {},
     "execution_count": 101
    }
   ],
   "source": [
    "os.path.realpath('chrome')"
   ]
  },
  {
   "cell_type": "markdown",
   "metadata": {},
   "source": [
    "# 分割地址和文件名"
   ]
  },
  {
   "cell_type": "code",
   "execution_count": 1,
   "metadata": {},
   "outputs": [
    {
     "output_type": "execute_result",
     "data": {
      "text/plain": "('/Users/manmanzhang/Library/Mobile Documents/com~apple~CloudDocs/MyProject/InferenceSystem/src/I5_algorithm',\n '000 02 包技巧 低代码 数据探索.ipynb')"
     },
     "metadata": {},
     "execution_count": 1
    }
   ],
   "source": [
    "os.path.split(\"/Users/manmanzhang/Library/Mobile Documents/com~apple~CloudDocs/MyProject/InferenceSystem/src/I5_algorithm/000 02 包技巧 低代码 数据探索.ipynb\")"
   ]
  },
  {
   "cell_type": "markdown",
   "metadata": {},
   "source": [
    "## 查看系统进程"
   ]
  },
  {
   "cell_type": "code",
   "execution_count": 2,
   "metadata": {},
   "outputs": [
    {
     "output_type": "execute_result",
     "data": {
      "text/plain": "{'进程号': '34548', '进程状态': 'S'}"
     },
     "metadata": {},
     "execution_count": 2
    }
   ],
   "source": [
    "import subprocess\n",
    "s = subprocess.getoutput('ps aux | grep scray_example_demo')\n",
    "stat = s.split()\n",
    "action = {\"进程号\":stat[1],\"进程状态\":stat[7]}\n",
    "action"
   ]
  },
  {
   "cell_type": "code",
   "execution_count": null,
   "metadata": {},
   "outputs": [],
   "source": []
  }
 ],
 "metadata": {
  "language_info": {
   "codemirror_mode": {
    "name": "ipython",
    "version": 3
   },
   "file_extension": ".py",
   "mimetype": "text/x-python",
   "name": "python",
   "nbconvert_exporter": "python",
   "pygments_lexer": "ipython3",
   "version": "3.5.6-final"
  },
  "orig_nbformat": 2,
  "kernelspec": {
   "name": "python35664bitdeeplearningconda49c51f4718784ba4ab06df616fe53864",
   "display_name": "Python 3.5.6 64-bit ('deeplearning': conda)"
  }
 },
 "nbformat": 4,
 "nbformat_minor": 2
}