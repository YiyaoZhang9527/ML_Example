{
 "cells": [
  {
   "cell_type": "markdown",
   "metadata": {},
   "source": [
    "# X,y 分别为训练数据集的数据和标签，XX为测试数据默认为5"
   ]
  },
  {
   "cell_type": "markdown",
   "metadata": {},
   "source": [
    "## KNN"
   ]
  },
  {
   "cell_type": "code",
   "execution_count": 1,
   "metadata": {},
   "outputs": [],
   "source": [
    "from sklearn.neighbors import KNeighborsClassifier\n",
    "import numpy as np\n",
    "\n",
    "\n",
    "def KNN(X,y,XX):#X,y 分别为训练数据集的数据和标签，XX为测试数据\n",
    "    model = KNeighborsClassifier(n_neighbors=10)\n",
    "    model.fit(X,y)\n",
    "    predicted = model.predict(XX)\n",
    "    return predicted"
   ]
  },
  {
   "cell_type": "markdown",
   "metadata": {},
   "source": [
    "## SVM"
   ]
  },
  {
   "cell_type": "code",
   "execution_count": 2,
   "metadata": {},
   "outputs": [],
   "source": [
    "from sklearn.svm import SVC\n",
    "def SVM(X,y,XX):\n",
    "    model = SVC(c=5.0)\n",
    "    model.fit(X,y)\n",
    "    predicted = model.predict(XX)\n",
    "    return predicted"
   ]
  },
  {
   "cell_type": "markdown",
   "metadata": {},
   "source": [
    "## SVM Classifier using cross validation"
   ]
  },
  {
   "cell_type": "code",
   "execution_count": 3,
   "metadata": {},
   "outputs": [],
   "source": [
    "def svm_cross_validation(train_x, train_y):\n",
    "    from sklearn.grid_search import GridSearchCV\n",
    "    from sklearn.svm import SVC\n",
    "    model = SVC(kernel='rbf', probability=True)\n",
    "    param_grid = {'C': [1e-3, 1e-2, 1e-1, 1, 10, 100, 1000], 'gamma':       [0.001, 0.0001]}\n",
    "    grid_search = GridSearchCV(model, param_grid, n_jobs = 1, verbose=1)\n",
    "    grid_search.fit(train_x, train_y)\n",
    "    best_parameters = grid_search.best_estimator_.get_params()\n",
    "    for para, val in list(best_parameters.items()):\n",
    "        print(para, val)\n",
    "        model = SVC(kernel='rbf', C=best_parameters['C'],gamma=best_parameters['gamma'], probability=True)\n",
    "        model.fit(train_x, train_y)\n",
    "    return model"
   ]
  },
  {
   "cell_type": "markdown",
   "metadata": {},
   "source": [
    "## LR"
   ]
  },
  {
   "cell_type": "code",
   "execution_count": 4,
   "metadata": {},
   "outputs": [],
   "source": [
    "from sklearn.linear_model import LogisticRegression\n",
    "\n",
    "def LR(X,y,XX):\n",
    "    model = LogisticRegression()\n",
    "    model.fit(X,y)\n",
    "    predicted = model.predict(XX)\n",
    "    return predicted"
   ]
  },
  {
   "cell_type": "markdown",
   "metadata": {},
   "source": [
    "## 决策树(CART)"
   ]
  },
  {
   "cell_type": "code",
   "execution_count": 5,
   "metadata": {},
   "outputs": [],
   "source": [
    "from sklearn.tree import DecisionTreeClassifier\n",
    "\n",
    "def CTRA(X,y,XX):\n",
    "    model = DecisionTreeClassifier()\n",
    "    model.fit(X,y)\n",
    "    predicted = model.predict(XX)\n",
    "    return predicted"
   ]
  },
  {
   "cell_type": "markdown",
   "metadata": {},
   "source": [
    "## 随机森林"
   ]
  },
  {
   "cell_type": "code",
   "execution_count": 6,
   "metadata": {},
   "outputs": [],
   "source": [
    "from sklearn.ensemble import RandomForestClassifier\n",
    "\n",
    "def CTRA(X,y,XX):\n",
    "    model = RandomForestClassifier()\n",
    "    model.fit(X,y)\n",
    "    predicted = model.predict(XX)\n",
    "    return predicted"
   ]
  },
  {
   "cell_type": "markdown",
   "metadata": {},
   "source": [
    "## 梯度增强决策树 GBDT (Gradient Boosting Decision Tree)"
   ]
  },
  {
   "cell_type": "code",
   "execution_count": 7,
   "metadata": {},
   "outputs": [],
   "source": [
    "from sklearn.ensemble import GradientBoostingClassifier\n",
    "\n",
    "def CTRA(X,y,XX):\n",
    "    model = GradientBoostingClassifier()\n",
    "    model.fit(X,y)\n",
    "    predicted = model.predict(XX)\n",
    "    return predicted"
   ]
  },
  {
   "cell_type": "markdown",
   "metadata": {},
   "source": [
    "## 朴素贝叶斯：一个是基于高斯分布求概率，一个是基于多项式分布求概率，一个是基于伯努利分布求概率。"
   ]
  },
  {
   "cell_type": "markdown",
   "metadata": {},
   "source": [
    "https://www.toutiao.com/a6670372412833399308/不同贝叶斯算法的解释"
   ]
  },
  {
   "cell_type": "code",
   "execution_count": 8,
   "metadata": {},
   "outputs": [],
   "source": [
    "from sklearn.naive_bayes import GaussianNB\n",
    "from sklearn.naive_bayes import MultinomialNB\n",
    "from sklearn.naive_bayes import BernoulliNB\n",
    "\n",
    "def GNB(X,y,XX):\n",
    "    model =GaussianNB()\n",
    "    model.fit(X,y)\n",
    "    predicted = model.predict(XX)\n",
    "    return predicted\n",
    "\n",
    "def MNB(X,y,XX):\n",
    "    model = MultinomialNB()\n",
    "    model.fit(X,y)\n",
    "    predicted = model.predict(XX)\n",
    "    return predicted\n",
    "def BNB(X,y,XX):\n",
    "    model = BernoulliNB()\n",
    "    model.fit(X,y)\n",
    "    predicted = model.predict(XX)\n",
    "    return predicted"
   ]
  },
  {
   "cell_type": "code",
   "execution_count": null,
   "metadata": {},
   "outputs": [],
   "source": []
  }
 ],
 "metadata": {
  "language_info": {
   "codemirror_mode": {
    "name": "ipython",
    "version": 3
   },
   "file_extension": ".py",
   "mimetype": "text/x-python",
   "name": "python",
   "nbconvert_exporter": "python",
   "pygments_lexer": "ipython3",
   "version": "3.6.10-final"
  },
  "orig_nbformat": 2,
  "kernelspec": {
   "name": "python36264bitdeeplearningconda291cf55c2ab64e6699f94edfaa9453b1",
   "display_name": "Python 3.6.2 64-bit ('deeplearning': conda)"
  }
 },
 "nbformat": 4,
 "nbformat_minor": 2
}