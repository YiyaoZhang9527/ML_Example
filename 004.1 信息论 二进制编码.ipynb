{
 "cells": [
  {
   "cell_type": "markdown",
   "metadata": {},
   "source": [
    "# 将一个十进制数除以二，得到的商再除以二，以此类推，直到商等于一或零时为止，然后依照倒序取除得的余数，即换算为二进制数的结果。比如32除以2，商是16，余数是0，然后再用商16除以2，得到余数0，以此类推，得到6个余数，再倒序排列，就是100000。要点是：除二取余，倒序排列。将一个十进制数除以二，得到的商再除以二，以此类推，直到商等于一或零时为止，然后依照倒序取除得的余数，即换算为二进制数的结果。比如32除以2，商是16，余数是0，然后再用商16除以2，得到余数0，以此类推，得到6个余数，再倒序排列，就是100000。要点是：除二取余，倒序排列。"
   ]
  },
  {
   "cell_type": "code",
   "execution_count": 27,
   "metadata": {},
   "outputs": [],
   "source": [
    "def binary(quotient):\n",
    "    result = []\n",
    "    while quotient > 0:  \n",
    "        quotient,remainder=divmod(quotient,2)\n",
    "        result.append(remainder.__str__())\n",
    "    return eval(\"{}{}{}\".format(\"b'\",\"\".join(result[::-1]),\"'\"))"
   ]
  },
  {
   "cell_type": "code",
   "execution_count": 33,
   "metadata": {},
   "outputs": [
    {
     "data": {
      "text/plain": [
       "(100, b'1100100')"
      ]
     },
     "execution_count": 33,
     "metadata": {},
     "output_type": "execute_result"
    }
   ],
   "source": [
    "int(binary(100),2),binary(100)"
   ]
  },
  {
   "cell_type": "code",
   "execution_count": null,
   "metadata": {},
   "outputs": [],
   "source": []
  }
 ],
 "metadata": {
  "kernelspec": {
   "display_name": "kiteENV",
   "language": "python",
   "name": "kiteenv"
  },
  "language_info": {
   "codemirror_mode": {
    "name": "ipython",
    "version": 3
   },
   "file_extension": ".py",
   "mimetype": "text/x-python",
   "name": "python",
   "nbconvert_exporter": "python",
   "pygments_lexer": "ipython3",
   "version": "3.8.10"
  }
 },
 "nbformat": 4,
 "nbformat_minor": 4
}
