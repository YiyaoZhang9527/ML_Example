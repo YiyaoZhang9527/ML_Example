{
 "cells": [
  {
   "cell_type": "code",
   "execution_count": 1,
   "metadata": {},
   "outputs": [
    {
     "name": "stderr",
     "output_type": "stream",
     "text": [
      "Duplicate key in file PosixPath('/home/manman/anaconda3/lib/python3.8/site-packages/matplotlib/mpl-data/matplotlibrc'), line 649 ('axes.unicode_minus  : True   ')\n",
      "Duplicate key in file PosixPath('/home/manman/anaconda3/lib/python3.8/site-packages/matplotlib/mpl-data/matplotlibrc'), line 650 ('font.family         : sans-serif')\n",
      "Duplicate key in file PosixPath('/home/manman/anaconda3/lib/python3.8/site-packages/matplotlib/mpl-data/matplotlibrc'), line 651 ('font.sans-serif     : Microsoft YaHei, SimHei, KaiTi_GB2312, DejaVu Sans, Bitstream Vera Sans, ...`')\n"
     ]
    }
   ],
   "source": [
    "import numpy as np\n",
    "import matplotlib.pyplot as plt"
   ]
  },
  {
   "cell_type": "code",
   "execution_count": 2,
   "metadata": {},
   "outputs": [
    {
     "data": {
      "text/plain": [
       "(array([-100,  -99,  -98,  -97,  -96,  -95,  -94,  -93,  -92,  -91,  -90,\n",
       "         -89,  -88,  -87,  -86,  -85,  -84,  -83,  -82,  -81,  -80,  -79,\n",
       "         -78,  -77,  -76,  -75,  -74,  -73,  -72,  -71,  -70,  -69,  -68,\n",
       "         -67,  -66,  -65,  -64,  -63,  -62,  -61,  -60,  -59,  -58,  -57,\n",
       "         -56,  -55,  -54,  -53,  -52,  -51,  -50,  -49,  -48,  -47,  -46,\n",
       "         -45,  -44,  -43,  -42,  -41,  -40,  -39,  -38,  -37,  -36,  -35,\n",
       "         -34,  -33,  -32,  -31,  -30,  -29,  -28,  -27,  -26,  -25,  -24,\n",
       "         -23,  -22,  -21,  -20,  -19,  -18,  -17,  -16,  -15,  -14,  -13,\n",
       "         -12,  -11,  -10,   -9,   -8,   -7,   -6,   -5,   -4,   -3,   -2,\n",
       "          -1,    0,    1,    2,    3,    4,    5,    6,    7,    8,    9,\n",
       "          10,   11,   12,   13,   14,   15,   16,   17,   18,   19,   20,\n",
       "          21,   22,   23,   24,   25,   26,   27,   28,   29,   30,   31,\n",
       "          32,   33,   34,   35,   36,   37,   38,   39,   40,   41,   42,\n",
       "          43,   44,   45,   46,   47,   48,   49,   50,   51,   52,   53,\n",
       "          54,   55,   56,   57,   58,   59,   60,   61,   62,   63,   64,\n",
       "          65,   66,   67,   68,   69,   70,   71,   72,   73,   74,   75,\n",
       "          76,   77,   78,   79,   80,   81,   82,   83,   84,   85,   86,\n",
       "          87,   88,   89,   90,   91,   92,   93,   94,   95,   96,   97,\n",
       "          98,   99]),\n",
       " array([100,  99,  98,  97,  96,  95,  94,  93,  92,  91,  90,  89,  88,\n",
       "         87,  86,  85,  84,  83,  82,  81,  80,  79,  78,  77,  76,  75,\n",
       "         74,  73,  72,  71,  70,  69,  68,  67,  66,  65,  64,  63,  62,\n",
       "         61,  60,  59,  58,  57,  56,  55,  54,  53,  52,  51,  50,  49,\n",
       "         48,  47,  46,  45,  44,  43,  42,  41,  40,  39,  38,  37,  36,\n",
       "         35,  34,  33,  32,  31,  30,  29,  28,  27,  26,  25,  24,  23,\n",
       "         22,  21,  20,  19,  18,  17,  16,  15,  14,  13,  12,  11,  10,\n",
       "          9,   8,   7,   6,   5,   4,   3,   2,   1,   0,  -1,  -2,  -3,\n",
       "         -4,  -5,  -6,  -7,  -8,  -9, -10, -11, -12, -13, -14, -15, -16,\n",
       "        -17, -18, -19, -20, -21, -22, -23, -24, -25, -26, -27, -28, -29,\n",
       "        -30, -31, -32, -33, -34, -35, -36, -37, -38, -39, -40, -41, -42,\n",
       "        -43, -44, -45, -46, -47, -48, -49, -50, -51, -52, -53, -54, -55,\n",
       "        -56, -57, -58, -59, -60, -61, -62, -63, -64, -65, -66, -67, -68,\n",
       "        -69, -70, -71, -72, -73, -74, -75, -76, -77, -78, -79, -80, -81,\n",
       "        -82, -83, -84, -85, -86, -87, -88, -89, -90, -91, -92, -93, -94,\n",
       "        -95, -96, -97, -98, -99]))"
      ]
     },
     "execution_count": 2,
     "metadata": {},
     "output_type": "execute_result"
    }
   ],
   "source": [
    "a,b=np.arange(-100,100),np.arange(-100,100)*-1\n",
    "a,b"
   ]
  },
  {
   "cell_type": "markdown",
   "metadata": {},
   "source": [
    "# 欧几里得度量\n",
    "###（euclidean metric）（也称欧氏距离）是一个通常采用的距离定义，指在m维空间中两个点之间的真实距离，或者向量的自然长度（即该点到原点的距离）。在二维和三维空间中的欧氏距离就是两点之间的实际距离。\n",
    "### $$ d(x,y)= \\sqrt{\\sum_i{(x_i-y_i)^2}} $$"
   ]
  },
  {
   "cell_type": "code",
   "execution_count": 3,
   "metadata": {},
   "outputs": [
    {
     "data": {
      "text/plain": [
       "[<matplotlib.lines.Line2D at 0x7fbee41e6790>]"
      ]
     },
     "execution_count": 3,
     "metadata": {},
     "output_type": "execute_result"
    },
    {
     "data": {
      "image/png": "[encoded data removed]",
      "text/plain": [
       "<Figure size 432x288 with 1 Axes>"
      ]
     },
     "metadata": {
      "needs_background": "light"
     },
     "output_type": "display_data"
    }
   ],
   "source": [
    "def euclidean(x, y):\n",
    "    return np.sqrt(np.sum((x - y)**2))\n",
    "\n",
    "plt.plot([euclidean(i,j) for i,j in zip(a,b)])"
   ]
  },
  {
   "cell_type": "markdown",
   "metadata": {},
   "source": [
    "# 曼哈顿距离\n",
    "### 想象你在曼哈顿要从一个十字路口开车到另外一个十字路口，驾驶距离是两点间的直线距离吗？显然不是，除非你能穿越大楼。实际驾驶距离就是这个“曼哈顿距离”。而这也是曼哈顿距离名称的来源， 曼哈顿距离也称为城市街区距离(City Block distance)。\n",
    "$$ d(x,y) = \\sum_i{|x_i-y_i|} $$"
   ]
  },
  {
   "cell_type": "code",
   "execution_count": 4,
   "metadata": {},
   "outputs": [
    {
     "data": {
      "text/plain": [
       "[<matplotlib.lines.Line2D at 0x7fbee3fb3190>]"
      ]
     },
     "execution_count": 4,
     "metadata": {},
     "output_type": "execute_result"
    },
    {
     "data": {
      "image/png": "[encoded data removed]",
      "text/plain": [
       "<Figure size 432x288 with 1 Axes>"
      ]
     },
     "metadata": {
      "needs_background": "light"
     },
     "output_type": "display_data"
    }
   ],
   "source": [
    "def manhattan(x, y):\n",
    "    return np.sum(np.abs(x - y))\n",
    "\n",
    "plt.plot([manhattan(i,j) for i,j in zip(a,b)])"
   ]
  },
  {
   "cell_type": "markdown",
   "metadata": {},
   "source": [
    "# 切比雪夫距离\n",
    "### 在数学中，切比雪夫距离（Chebyshev distance）或是L∞度量，是向量空间中的一种度量，二个点之间的距离定义是其各坐标数值差绝对值的最大值。以数学的观点来看，切比雪夫距离是由一致范数（uniform norm）（或称为上确界范数）所衍生的度量，也是超凸度量（injective metric space）的一种。\n",
    "### $$ d(x,y) = max_i{|x-y|}$$ "
   ]
  },
  {
   "cell_type": "code",
   "execution_count": 5,
   "metadata": {},
   "outputs": [
    {
     "data": {
      "text/plain": [
       "[<matplotlib.lines.Line2D at 0x7fbee3f11dc0>]"
      ]
     },
     "execution_count": 5,
     "metadata": {},
     "output_type": "execute_result"
    },
    {
     "data": {
      "image/png": "[encoded data removed]",
      "text/plain": [
       "<Figure size 432x288 with 1 Axes>"
      ]
     },
     "metadata": {
      "needs_background": "light"
     },
     "output_type": "display_data"
    }
   ],
   "source": [
    "def chebyshev(x, y):\n",
    "    return np.max(np.abs(x - y))\n",
    "plt.plot([chebyshev(i,j) for i,j in zip(a,b)])"
   ]
  },
  {
   "cell_type": "markdown",
   "metadata": {},
   "source": [
    "#  闵可夫斯基距离\n",
    "### 闵氏空间指狭义相对论中由一个时间维和三个空间维组成的时空，为俄裔德国数学家闵可夫斯基(H.Minkowski,1864-1909)最先表述。他的平坦空间（即假设没有重力，曲率为零的空间）的概念以及表示为特殊距离量的几何学是与狭义相对论的要求相一致的。闵可夫斯基空间不同于牛顿力学的平坦空间。\n",
    "\n",
    "### $$ d(x,y)={(\\sum{|x_i,y_i|^p})}^{1/p} $$"
   ]
  },
  {
   "cell_type": "code",
   "execution_count": 6,
   "metadata": {},
   "outputs": [],
   "source": [
    "def minkowski(x, y, p):\n",
    "    return np.sum(np.abs(x - y) ** p) ** (1 / p)"
   ]
  },
  {
   "cell_type": "markdown",
   "metadata": {},
   "source": [
    "# 汉明距离\n",
    "### 汉明距离是使用在数据传输差错控制编码里面的，汉明距离是一个概念，它表示两个（相同长度）字对应位不同的数量，我们以$d(x,y)$表示两个字$x,y$之间的汉明距离。对两个字符串进行异或运算，并统计结果为1的个数，那么这个数就是汉明距离.\n",
    "\n",
    "$$ d(x,y)= 1/N \\sum_i{x_i \\neq y_i} $$"
   ]
  },
  {
   "cell_type": "code",
   "execution_count": 7,
   "metadata": {},
   "outputs": [],
   "source": [
    "def hamming(x, y):\n",
    "    return sum(x!=y)/len(x)"
   ]
  },
  {
   "cell_type": "code",
   "execution_count": null,
   "metadata": {},
   "outputs": [],
   "source": []
  },
  {
   "cell_type": "code",
   "execution_count": null,
   "metadata": {},
   "outputs": [],
   "source": []
  }
 ],
 "metadata": {
  "file_extension": ".py",
  "kernelspec": {
   "display_name": "Python 3 (ipykernel)",
   "language": "python",
   "name": "python3"
  },
  "language_info": {
   "codemirror_mode": {
    "name": "ipython",
    "version": 3
   },
   "file_extension": ".py",
   "mimetype": "text/x-python",
   "name": "python",
   "nbconvert_exporter": "python",
   "pygments_lexer": "ipython3",
   "version": "3.8.10"
  },
  "mimetype": "text/x-python",
  "name": "python",
  "npconvert_exporter": "python",
  "pygments_lexer": "ipython3",
  "version": 3
 },
 "nbformat": 4,
 "nbformat_minor": 4
}
