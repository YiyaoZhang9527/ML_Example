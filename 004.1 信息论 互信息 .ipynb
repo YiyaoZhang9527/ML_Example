{
 "cells": [
  {
   "cell_type": "code",
   "execution_count": 2,
   "metadata": {},
   "outputs": [
    {
     "ename": "ModuleNotFoundError",
     "evalue": "No module named 'torch'",
     "output_type": "error",
     "traceback": [
      "\u001b[0;31m---------------------------------------------------------------------------\u001b[0m",
      "\u001b[0;31mModuleNotFoundError\u001b[0m                       Traceback (most recent call last)",
      "Input \u001b[0;32mIn [2]\u001b[0m, in \u001b[0;36m<cell line: 4>\u001b[0;34m()\u001b[0m\n\u001b[1;32m      2\u001b[0m \u001b[38;5;28;01mimport\u001b[39;00m \u001b[38;5;21;01mmatplotlib\u001b[39;00m\u001b[38;5;21;01m.\u001b[39;00m\u001b[38;5;21;01mpyplot\u001b[39;00m \u001b[38;5;28;01mas\u001b[39;00m \u001b[38;5;21;01mplt\u001b[39;00m\n\u001b[1;32m      3\u001b[0m \u001b[38;5;28;01mimport\u001b[39;00m \u001b[38;5;21;01mseaborn\u001b[39;00m \u001b[38;5;28;01mas\u001b[39;00m \u001b[38;5;21;01msns\u001b[39;00m\n\u001b[0;32m----> 4\u001b[0m \u001b[38;5;28;01mimport\u001b[39;00m \u001b[38;5;21;01mtorch\u001b[39;00m\n\u001b[1;32m      5\u001b[0m \u001b[38;5;28;01mimport\u001b[39;00m \u001b[38;5;21;01mnumexpr\u001b[39;00m \u001b[38;5;28;01mas\u001b[39;00m \u001b[38;5;21;01men\u001b[39;00m\n\u001b[1;32m      6\u001b[0m sns\u001b[38;5;241m.\u001b[39mset()\n",
      "\u001b[0;31mModuleNotFoundError\u001b[0m: No module named 'torch'"
     ]
    }
   ],
   "source": [
    "import numpy as np\n",
    "import matplotlib.pyplot as plt\n",
    "import seaborn as sns\n",
    "import torch\n",
    "import numexpr as en\n",
    "sns.set()"
   ]
  },
  {
   "cell_type": "markdown",
   "metadata": {},
   "source": []
  },
  {
   "cell_type": "code",
   "execution_count": 2,
   "metadata": {},
   "outputs": [
    {
     "data": {
      "text/plain": [
       "array([[1, 1],\n",
       "       [1, 2],\n",
       "       [2, 1],\n",
       "       [2, 2]])"
      ]
     },
     "execution_count": 2,
     "metadata": {},
     "output_type": "execute_result"
    }
   ],
   "source": [
    "from itertools import product\n",
    "def combinationL(loop_val): \n",
    "    return np.array(list({i for i in product(*loop_val)}))\n",
    "combinationL(([1,1,2,1],[1,1,2,1]))"
   ]
  },
  {
   "cell_type": "markdown",
   "metadata": {},
   "source": [
    "## 创建数据"
   ]
  },
  {
   "cell_type": "code",
   "execution_count": 1,
   "metadata": {},
   "outputs": [
    {
     "ename": "NameError",
     "evalue": "name 'np' is not defined",
     "output_type": "error",
     "traceback": [
      "\u001b[0;31m---------------------------------------------------------------------------\u001b[0m",
      "\u001b[0;31mNameError\u001b[0m                                 Traceback (most recent call last)",
      "Input \u001b[0;32mIn [1]\u001b[0m, in \u001b[0;36m<cell line: 1>\u001b[0;34m()\u001b[0m\n\u001b[0;32m----> 1\u001b[0m X \u001b[38;5;241m=\u001b[39m \u001b[43mnp\u001b[49m\u001b[38;5;241m.\u001b[39marray([\u001b[38;5;241m1\u001b[39m,\u001b[38;5;241m0\u001b[39m,\u001b[38;5;241m1\u001b[39m,\u001b[38;5;241m1\u001b[39m,\u001b[38;5;241m0\u001b[39m])\n\u001b[1;32m      2\u001b[0m Y \u001b[38;5;241m=\u001b[39m np\u001b[38;5;241m.\u001b[39marray([\u001b[38;5;241m1\u001b[39m,\u001b[38;5;241m1\u001b[39m,\u001b[38;5;241m1\u001b[39m,\u001b[38;5;241m0\u001b[39m,\u001b[38;5;241m0\u001b[39m])\n\u001b[1;32m      3\u001b[0m A,B \u001b[38;5;241m=\u001b[39m np\u001b[38;5;241m.\u001b[39marray([\u001b[38;5;241m0\u001b[39m,\u001b[38;5;241m0\u001b[39m]),np\u001b[38;5;241m.\u001b[39marray([\u001b[38;5;241m1\u001b[39m,\u001b[38;5;241m1\u001b[39m])\n",
      "\u001b[0;31mNameError\u001b[0m: name 'np' is not defined"
     ]
    }
   ],
   "source": [
    "X = np.array([1,0,1,1,0])\n",
    "Y = np.array([1,1,1,0,0])\n",
    "A,B = np.array([0,0]),np.array([1,1]) "
   ]
  },
  {
   "cell_type": "markdown",
   "metadata": {},
   "source": [
    "## numpy list 转torch"
   ]
  },
  {
   "cell_type": "code",
   "execution_count": 4,
   "metadata": {},
   "outputs": [],
   "source": [
    "def checkType(X):\n",
    "    if isinstance(X,(np.ndarray,list,tuple)):\n",
    "        return torch.FloatTensor(X)\n",
    "    elif isinstance(X,(torch.TensorType,torch.FloatType)):\n",
    "        return X\n",
    "    else:\n",
    "        print(\"Type Error\")"
   ]
  },
  {
   "cell_type": "markdown",
   "metadata": {},
   "source": [
    "# numpy 评估表达式求概率"
   ]
  },
  {
   "cell_type": "code",
   "execution_count": 5,
   "metadata": {},
   "outputs": [],
   "source": [
    "def NumpyProb(X,symbol,x):\n",
    "    n = X.size\n",
    "    Lambda = \"{}{}{}\".format(\"X\",symbol,\"x\")\n",
    "    expr = en.evaluate(Lambda)\n",
    "    return (expr).dot(np.ones(n))/n"
   ]
  },
  {
   "cell_type": "markdown",
   "metadata": {},
   "source": [
    "# numpy 求解信息熵"
   ]
  },
  {
   "cell_type": "code",
   "execution_count": 6,
   "metadata": {
    "tags": []
   },
   "outputs": [
    {
     "data": {
      "text/plain": [
       "0.0"
      ]
     },
     "execution_count": 6,
     "metadata": {},
     "output_type": "execute_result"
    }
   ],
   "source": [
    "def NumpyEntropy(X):\n",
    "    NE = 0\n",
    "    for x in np.unique(X):\n",
    "        PX = NumpyProb(X,'==',x)\n",
    "        NE += (- PX * np.log2(PX))\n",
    "    return NE\n",
    "NumpyEntropy(A)"
   ]
  },
  {
   "cell_type": "markdown",
   "metadata": {},
   "source": [
    "# torch求解信息熵"
   ]
  },
  {
   "cell_type": "code",
   "execution_count": 7,
   "metadata": {
    "tags": []
   },
   "outputs": [
    {
     "data": {
      "text/plain": [
       "(array([0.5, 0.5]), array([0.2, 0.4, 0.2, 0.2]))"
      ]
     },
     "execution_count": 7,
     "metadata": {},
     "output_type": "execute_result"
    }
   ],
   "source": [
    "def NumpyJointProb(X,Y):\n",
    "    init_XY = np.c_[X,Y]\n",
    "    distionXY = combinationL(init_XY.T)\n",
    "    m,n = init_XY.shape\n",
    "    dm,dn = distionXY.shape\n",
    "    if dm ==1:\n",
    "        distionXY = np.repeat(distionXY,dn,axis=0).T\n",
    "        return np.array([((init_XY.T==xy).dot(np.ones(n))==n).dot(np.ones(m))/m for xy in distionXY])\n",
    "    elif dm > 1:\n",
    "        return np.array([((init_XY==xy).dot(np.ones(n))==n).dot(np.ones(m))/m for xy in distionXY])\n",
    "\n",
    "NumpyJointProb(A,B),NumpyJointProb(X,Y)"
   ]
  },
  {
   "cell_type": "markdown",
   "metadata": {},
   "source": [
    "# numpy求联合概率"
   ]
  },
  {
   "cell_type": "code",
   "execution_count": 8,
   "metadata": {},
   "outputs": [
    {
     "data": {
      "text/plain": [
       "(array([0.5, 0.5]), array([0.2, 0.4, 0.2, 0.2]))"
      ]
     },
     "execution_count": 8,
     "metadata": {},
     "output_type": "execute_result"
    }
   ],
   "source": [
    "def NumpyJointProb(X,Y):\n",
    "    init_XY = np.c_[X,Y]\n",
    "    distionXY = combinationL(init_XY.T)\n",
    "    m,n = init_XY.shape\n",
    "    dm,dn = distionXY.shape\n",
    "    if dm ==1:\n",
    "        distionXY = np.repeat(distionXY,dn,axis=0).T\n",
    "        return np.array([((init_XY.T==xy).dot(np.ones(n))==n).dot(np.ones(m))/m for xy in distionXY])\n",
    "    elif dm > 1:\n",
    "        return np.array([((init_XY==xy).dot(np.ones(n))==n).dot(np.ones(m))/m for xy in distionXY])\n",
    "\n",
    "NumpyJointProb(A,B),NumpyJointProb(X,Y)"
   ]
  },
  {
   "cell_type": "markdown",
   "metadata": {},
   "source": [
    "# numpy求解联合熵\n",
    "# $$ H(X,Y) = - \\sum_{x \\in X} \\sum_{y \\in Y} P(x,y)logP(x,y)  $$"
   ]
  },
  {
   "cell_type": "code",
   "execution_count": 9,
   "metadata": {
    "tags": []
   },
   "outputs": [
    {
     "data": {
      "text/plain": [
       "(1.9219280948873623, 1.0)"
      ]
     },
     "execution_count": 9,
     "metadata": {},
     "output_type": "execute_result"
    }
   ],
   "source": [
    "def NumpyJointEntropy(X,Y):\n",
    "    PXY = NumpyJointProb(X,Y)\n",
    "    return (-PXY*np.log2(PXY)).sum()\n",
    "    \n",
    "NumpyJointEntropy(X,Y),NumpyJointEntropy(A,B)"
   ]
  },
  {
   "cell_type": "code",
   "execution_count": 10,
   "metadata": {
    "tags": []
   },
   "outputs": [
    {
     "data": {
      "text/plain": [
       "(1.0, 0.0, 0.0)"
      ]
     },
     "execution_count": 10,
     "metadata": {},
     "output_type": "execute_result"
    }
   ],
   "source": [
    "NumpyJointEntropy(A,B),NumpyEntropy(A),NumpyEntropy(B)"
   ]
  },
  {
   "cell_type": "markdown",
   "metadata": {},
   "source": [
    "# torch 求解联合概率"
   ]
  },
  {
   "cell_type": "code",
   "execution_count": 11,
   "metadata": {
    "tags": []
   },
   "outputs": [
    {
     "data": {
      "text/plain": [
       "(tensor([0.5000, 0.5000]), tensor([0.2000, 0.4000, 0.2000, 0.2000]))"
      ]
     },
     "execution_count": 11,
     "metadata": {},
     "output_type": "execute_result"
    }
   ],
   "source": [
    "def TorchJointProb(X,Y):\n",
    "    init_XY = np.c_[X,Y]\n",
    "    distionXY = combinationL(init_XY.T)\n",
    "    m,n = init_XY.shape\n",
    "    dm,dn = distionXY.shape\n",
    "\n",
    "    init_XY , distionXY = checkType(init_XY),checkType(distionXY)\n",
    "\n",
    "    if dm ==1:\n",
    "        distionXY = torch.repeat_interleave(distionXY,repeats=dn,dim=-1).reshape(n,-1)\n",
    "        return torch.tensor([((init_XY.T==xy).float().matmul(torch.ones(n))==2).float().sum()/m for xy in distionXY])\n",
    "    elif dm > 1:\n",
    "        return torch.tensor([(((init_XY==xy).float().mm(torch.ones(n)[:,None]))==n).sum().float()/m for xy in distionXY])\n",
    "\n",
    "TorchJointProb(A,B),TorchJointProb(X,Y),"
   ]
  },
  {
   "cell_type": "markdown",
   "metadata": {},
   "source": [
    "# torch 求解联合熵"
   ]
  },
  {
   "cell_type": "code",
   "execution_count": 12,
   "metadata": {
    "tags": []
   },
   "outputs": [
    {
     "data": {
      "text/plain": [
       "(tensor(1.9219), tensor(1.))"
      ]
     },
     "execution_count": 12,
     "metadata": {},
     "output_type": "execute_result"
    }
   ],
   "source": [
    "def TorchJointEntropy(X,Y):\n",
    "    PXY = TorchJointProb(X,Y)\n",
    "    return (-PXY*torch.log2(PXY)).sum()\n",
    "TorchJointEntropy(X,Y),TorchJointEntropy(A,B)"
   ]
  },
  {
   "cell_type": "markdown",
   "metadata": {},
   "source": [
    "# 求解互信息"
   ]
  },
  {
   "cell_type": "code",
   "execution_count": 13,
   "metadata": {},
   "outputs": [],
   "source": [
    "def MutualInfo(X,Y,keyelement=\"X<->Y\",keyType='numpy'):\n",
    "    if keyType == 'numpy':\n",
    "        HX,HY,HXY = NumpyEntropy(X),NumpyEntropy(Y),NumpyJointEntropy(X,Y)\n",
    "    elif keyType == \"torch\":\n",
    "        HX,HY,HXY =  TorchEntropy(X), TorchEntropy(Y),TorchJointEntropy(X,Y)    \n",
    "    return {\"X<-Y\":HX-HXY,\"X->Y\":HY-HXY,\"X<->Y\":HX+HY-HXY}[keyelement]"
   ]
  },
  {
   "cell_type": "markdown",
   "metadata": {},
   "source": [
    "## $$ I(X;Y) = H(X)+H(Y)-H(X,Y) $$\n",
    "## 可以通过韦恩图换算得到"
   ]
  },
  {
   "cell_type": "code",
   "execution_count": 14,
   "metadata": {},
   "outputs": [
    {
     "ename": "NameError",
     "evalue": "name 'TorchEntropy' is not defined",
     "output_type": "error",
     "traceback": [
      "\u001b[0;31m---------------------------------------------------------------------------\u001b[0m",
      "\u001b[0;31mNameError\u001b[0m                                 Traceback (most recent call last)",
      "\u001b[0;32m<ipython-input-14-a463d72889d9>\u001b[0m in \u001b[0;36m<module>\u001b[0;34m\u001b[0m\n\u001b[0;32m----> 1\u001b[0;31m \u001b[0mMutualInfo\u001b[0m\u001b[0;34m(\u001b[0m\u001b[0mX\u001b[0m\u001b[0;34m,\u001b[0m\u001b[0mY\u001b[0m\u001b[0;34m,\u001b[0m\u001b[0mkeyelement\u001b[0m\u001b[0;34m=\u001b[0m\u001b[0;34m'X<->Y'\u001b[0m\u001b[0;34m,\u001b[0m\u001b[0mkeyType\u001b[0m\u001b[0;34m=\u001b[0m\u001b[0;34m'torch'\u001b[0m\u001b[0;34m)\u001b[0m\u001b[0;34m\u001b[0m\u001b[0;34m\u001b[0m\u001b[0m\n\u001b[0m",
      "\u001b[0;32m<ipython-input-13-e4319a59d637>\u001b[0m in \u001b[0;36mMutualInfo\u001b[0;34m(X, Y, keyelement, keyType)\u001b[0m\n\u001b[1;32m      3\u001b[0m         \u001b[0mHX\u001b[0m\u001b[0;34m,\u001b[0m\u001b[0mHY\u001b[0m\u001b[0;34m,\u001b[0m\u001b[0mHXY\u001b[0m \u001b[0;34m=\u001b[0m \u001b[0mNumpyEntropy\u001b[0m\u001b[0;34m(\u001b[0m\u001b[0mX\u001b[0m\u001b[0;34m)\u001b[0m\u001b[0;34m,\u001b[0m\u001b[0mNumpyEntropy\u001b[0m\u001b[0;34m(\u001b[0m\u001b[0mY\u001b[0m\u001b[0;34m)\u001b[0m\u001b[0;34m,\u001b[0m\u001b[0mNumpyJointEntropy\u001b[0m\u001b[0;34m(\u001b[0m\u001b[0mX\u001b[0m\u001b[0;34m,\u001b[0m\u001b[0mY\u001b[0m\u001b[0;34m)\u001b[0m\u001b[0;34m\u001b[0m\u001b[0;34m\u001b[0m\u001b[0m\n\u001b[1;32m      4\u001b[0m     \u001b[0;32melif\u001b[0m \u001b[0mkeyType\u001b[0m \u001b[0;34m==\u001b[0m \u001b[0;34m\"torch\"\u001b[0m\u001b[0;34m:\u001b[0m\u001b[0;34m\u001b[0m\u001b[0;34m\u001b[0m\u001b[0m\n\u001b[0;32m----> 5\u001b[0;31m         \u001b[0mHX\u001b[0m\u001b[0;34m,\u001b[0m\u001b[0mHY\u001b[0m\u001b[0;34m,\u001b[0m\u001b[0mHXY\u001b[0m \u001b[0;34m=\u001b[0m  \u001b[0mTorchEntropy\u001b[0m\u001b[0;34m(\u001b[0m\u001b[0mX\u001b[0m\u001b[0;34m)\u001b[0m\u001b[0;34m,\u001b[0m \u001b[0mTorchEntropy\u001b[0m\u001b[0;34m(\u001b[0m\u001b[0mY\u001b[0m\u001b[0;34m)\u001b[0m\u001b[0;34m,\u001b[0m\u001b[0mTorchJointEntropy\u001b[0m\u001b[0;34m(\u001b[0m\u001b[0mX\u001b[0m\u001b[0;34m,\u001b[0m\u001b[0mY\u001b[0m\u001b[0;34m)\u001b[0m\u001b[0;34m\u001b[0m\u001b[0;34m\u001b[0m\u001b[0m\n\u001b[0m\u001b[1;32m      6\u001b[0m     \u001b[0;32mreturn\u001b[0m \u001b[0;34m{\u001b[0m\u001b[0;34m\"X<-Y\"\u001b[0m\u001b[0;34m:\u001b[0m\u001b[0mHX\u001b[0m\u001b[0;34m-\u001b[0m\u001b[0mHXY\u001b[0m\u001b[0;34m,\u001b[0m\u001b[0;34m\"X->Y\"\u001b[0m\u001b[0;34m:\u001b[0m\u001b[0mHY\u001b[0m\u001b[0;34m-\u001b[0m\u001b[0mHXY\u001b[0m\u001b[0;34m,\u001b[0m\u001b[0;34m\"X<->Y\"\u001b[0m\u001b[0;34m:\u001b[0m\u001b[0mHX\u001b[0m\u001b[0;34m+\u001b[0m\u001b[0mHY\u001b[0m\u001b[0;34m-\u001b[0m\u001b[0mHXY\u001b[0m\u001b[0;34m}\u001b[0m\u001b[0;34m[\u001b[0m\u001b[0mkeyelement\u001b[0m\u001b[0;34m]\u001b[0m\u001b[0;34m\u001b[0m\u001b[0;34m\u001b[0m\u001b[0m\n",
      "\u001b[0;31mNameError\u001b[0m: name 'TorchEntropy' is not defined"
     ]
    }
   ],
   "source": [
    "MutualInfo(X,Y,keyelement='X<->Y',keyType='torch')"
   ]
  },
  {
   "cell_type": "markdown",
   "metadata": {},
   "source": [
    "\n",
    "## $$ I(X;Y) = H(Y)-H(X,Y) $$\n",
    "## 表示知道随机变量X 随机变量Y熵的减少"
   ]
  },
  {
   "cell_type": "code",
   "execution_count": 15,
   "metadata": {},
   "outputs": [
    {
     "ename": "NameError",
     "evalue": "name 'TorchEntropy' is not defined",
     "output_type": "error",
     "traceback": [
      "\u001b[0;31m---------------------------------------------------------------------------\u001b[0m",
      "\u001b[0;31mNameError\u001b[0m                                 Traceback (most recent call last)",
      "\u001b[0;32m<ipython-input-15-02ebf124cf44>\u001b[0m in \u001b[0;36m<module>\u001b[0;34m\u001b[0m\n\u001b[0;32m----> 1\u001b[0;31m \u001b[0mMutualInfo\u001b[0m\u001b[0;34m(\u001b[0m\u001b[0mX\u001b[0m\u001b[0;34m,\u001b[0m\u001b[0mY\u001b[0m\u001b[0;34m,\u001b[0m\u001b[0mkeyelement\u001b[0m\u001b[0;34m=\u001b[0m\u001b[0;34m'X->Y'\u001b[0m\u001b[0;34m,\u001b[0m\u001b[0mkeyType\u001b[0m\u001b[0;34m=\u001b[0m\u001b[0;34m'torch'\u001b[0m\u001b[0;34m)\u001b[0m\u001b[0;34m\u001b[0m\u001b[0;34m\u001b[0m\u001b[0m\n\u001b[0m",
      "\u001b[0;32m<ipython-input-13-e4319a59d637>\u001b[0m in \u001b[0;36mMutualInfo\u001b[0;34m(X, Y, keyelement, keyType)\u001b[0m\n\u001b[1;32m      3\u001b[0m         \u001b[0mHX\u001b[0m\u001b[0;34m,\u001b[0m\u001b[0mHY\u001b[0m\u001b[0;34m,\u001b[0m\u001b[0mHXY\u001b[0m \u001b[0;34m=\u001b[0m \u001b[0mNumpyEntropy\u001b[0m\u001b[0;34m(\u001b[0m\u001b[0mX\u001b[0m\u001b[0;34m)\u001b[0m\u001b[0;34m,\u001b[0m\u001b[0mNumpyEntropy\u001b[0m\u001b[0;34m(\u001b[0m\u001b[0mY\u001b[0m\u001b[0;34m)\u001b[0m\u001b[0;34m,\u001b[0m\u001b[0mNumpyJointEntropy\u001b[0m\u001b[0;34m(\u001b[0m\u001b[0mX\u001b[0m\u001b[0;34m,\u001b[0m\u001b[0mY\u001b[0m\u001b[0;34m)\u001b[0m\u001b[0;34m\u001b[0m\u001b[0;34m\u001b[0m\u001b[0m\n\u001b[1;32m      4\u001b[0m     \u001b[0;32melif\u001b[0m \u001b[0mkeyType\u001b[0m \u001b[0;34m==\u001b[0m \u001b[0;34m\"torch\"\u001b[0m\u001b[0;34m:\u001b[0m\u001b[0;34m\u001b[0m\u001b[0;34m\u001b[0m\u001b[0m\n\u001b[0;32m----> 5\u001b[0;31m         \u001b[0mHX\u001b[0m\u001b[0;34m,\u001b[0m\u001b[0mHY\u001b[0m\u001b[0;34m,\u001b[0m\u001b[0mHXY\u001b[0m \u001b[0;34m=\u001b[0m  \u001b[0mTorchEntropy\u001b[0m\u001b[0;34m(\u001b[0m\u001b[0mX\u001b[0m\u001b[0;34m)\u001b[0m\u001b[0;34m,\u001b[0m \u001b[0mTorchEntropy\u001b[0m\u001b[0;34m(\u001b[0m\u001b[0mY\u001b[0m\u001b[0;34m)\u001b[0m\u001b[0;34m,\u001b[0m\u001b[0mTorchJointEntropy\u001b[0m\u001b[0;34m(\u001b[0m\u001b[0mX\u001b[0m\u001b[0;34m,\u001b[0m\u001b[0mY\u001b[0m\u001b[0;34m)\u001b[0m\u001b[0;34m\u001b[0m\u001b[0;34m\u001b[0m\u001b[0m\n\u001b[0m\u001b[1;32m      6\u001b[0m     \u001b[0;32mreturn\u001b[0m \u001b[0;34m{\u001b[0m\u001b[0;34m\"X<-Y\"\u001b[0m\u001b[0;34m:\u001b[0m\u001b[0mHX\u001b[0m\u001b[0;34m-\u001b[0m\u001b[0mHXY\u001b[0m\u001b[0;34m,\u001b[0m\u001b[0;34m\"X->Y\"\u001b[0m\u001b[0;34m:\u001b[0m\u001b[0mHY\u001b[0m\u001b[0;34m-\u001b[0m\u001b[0mHXY\u001b[0m\u001b[0;34m,\u001b[0m\u001b[0;34m\"X<->Y\"\u001b[0m\u001b[0;34m:\u001b[0m\u001b[0mHX\u001b[0m\u001b[0;34m+\u001b[0m\u001b[0mHY\u001b[0m\u001b[0;34m-\u001b[0m\u001b[0mHXY\u001b[0m\u001b[0;34m}\u001b[0m\u001b[0;34m[\u001b[0m\u001b[0mkeyelement\u001b[0m\u001b[0;34m]\u001b[0m\u001b[0;34m\u001b[0m\u001b[0;34m\u001b[0m\u001b[0m\n",
      "\u001b[0;31mNameError\u001b[0m: name 'TorchEntropy' is not defined"
     ]
    }
   ],
   "source": [
    "MutualInfo(X,Y,keyelement='X->Y',keyType='torch')"
   ]
  },
  {
   "cell_type": "markdown",
   "metadata": {},
   "source": [
    "## $$ I(X;Y) = H(X)-H(X,Y) $$\n",
    "## 表示知道随机变量Y 随机变量X熵的减少 "
   ]
  },
  {
   "cell_type": "code",
   "execution_count": 16,
   "metadata": {},
   "outputs": [
    {
     "ename": "NameError",
     "evalue": "name 'TorchEntropy' is not defined",
     "output_type": "error",
     "traceback": [
      "\u001b[0;31m---------------------------------------------------------------------------\u001b[0m",
      "\u001b[0;31mNameError\u001b[0m                                 Traceback (most recent call last)",
      "\u001b[0;32m<ipython-input-16-83ac96d8f431>\u001b[0m in \u001b[0;36m<module>\u001b[0;34m\u001b[0m\n\u001b[0;32m----> 1\u001b[0;31m \u001b[0mMutualInfo\u001b[0m\u001b[0;34m(\u001b[0m\u001b[0mX\u001b[0m\u001b[0;34m,\u001b[0m\u001b[0mY\u001b[0m\u001b[0;34m,\u001b[0m\u001b[0mkeyelement\u001b[0m\u001b[0;34m=\u001b[0m\u001b[0;34m'X<-Y'\u001b[0m\u001b[0;34m,\u001b[0m\u001b[0mkeyType\u001b[0m\u001b[0;34m=\u001b[0m\u001b[0;34m'torch'\u001b[0m\u001b[0;34m)\u001b[0m\u001b[0;34m\u001b[0m\u001b[0;34m\u001b[0m\u001b[0m\n\u001b[0m",
      "\u001b[0;32m<ipython-input-13-e4319a59d637>\u001b[0m in \u001b[0;36mMutualInfo\u001b[0;34m(X, Y, keyelement, keyType)\u001b[0m\n\u001b[1;32m      3\u001b[0m         \u001b[0mHX\u001b[0m\u001b[0;34m,\u001b[0m\u001b[0mHY\u001b[0m\u001b[0;34m,\u001b[0m\u001b[0mHXY\u001b[0m \u001b[0;34m=\u001b[0m \u001b[0mNumpyEntropy\u001b[0m\u001b[0;34m(\u001b[0m\u001b[0mX\u001b[0m\u001b[0;34m)\u001b[0m\u001b[0;34m,\u001b[0m\u001b[0mNumpyEntropy\u001b[0m\u001b[0;34m(\u001b[0m\u001b[0mY\u001b[0m\u001b[0;34m)\u001b[0m\u001b[0;34m,\u001b[0m\u001b[0mNumpyJointEntropy\u001b[0m\u001b[0;34m(\u001b[0m\u001b[0mX\u001b[0m\u001b[0;34m,\u001b[0m\u001b[0mY\u001b[0m\u001b[0;34m)\u001b[0m\u001b[0;34m\u001b[0m\u001b[0;34m\u001b[0m\u001b[0m\n\u001b[1;32m      4\u001b[0m     \u001b[0;32melif\u001b[0m \u001b[0mkeyType\u001b[0m \u001b[0;34m==\u001b[0m \u001b[0;34m\"torch\"\u001b[0m\u001b[0;34m:\u001b[0m\u001b[0;34m\u001b[0m\u001b[0;34m\u001b[0m\u001b[0m\n\u001b[0;32m----> 5\u001b[0;31m         \u001b[0mHX\u001b[0m\u001b[0;34m,\u001b[0m\u001b[0mHY\u001b[0m\u001b[0;34m,\u001b[0m\u001b[0mHXY\u001b[0m \u001b[0;34m=\u001b[0m  \u001b[0mTorchEntropy\u001b[0m\u001b[0;34m(\u001b[0m\u001b[0mX\u001b[0m\u001b[0;34m)\u001b[0m\u001b[0;34m,\u001b[0m \u001b[0mTorchEntropy\u001b[0m\u001b[0;34m(\u001b[0m\u001b[0mY\u001b[0m\u001b[0;34m)\u001b[0m\u001b[0;34m,\u001b[0m\u001b[0mTorchJointEntropy\u001b[0m\u001b[0;34m(\u001b[0m\u001b[0mX\u001b[0m\u001b[0;34m,\u001b[0m\u001b[0mY\u001b[0m\u001b[0;34m)\u001b[0m\u001b[0;34m\u001b[0m\u001b[0;34m\u001b[0m\u001b[0m\n\u001b[0m\u001b[1;32m      6\u001b[0m     \u001b[0;32mreturn\u001b[0m \u001b[0;34m{\u001b[0m\u001b[0;34m\"X<-Y\"\u001b[0m\u001b[0;34m:\u001b[0m\u001b[0mHX\u001b[0m\u001b[0;34m-\u001b[0m\u001b[0mHXY\u001b[0m\u001b[0;34m,\u001b[0m\u001b[0;34m\"X->Y\"\u001b[0m\u001b[0;34m:\u001b[0m\u001b[0mHY\u001b[0m\u001b[0;34m-\u001b[0m\u001b[0mHXY\u001b[0m\u001b[0;34m,\u001b[0m\u001b[0;34m\"X<->Y\"\u001b[0m\u001b[0;34m:\u001b[0m\u001b[0mHX\u001b[0m\u001b[0;34m+\u001b[0m\u001b[0mHY\u001b[0m\u001b[0;34m-\u001b[0m\u001b[0mHXY\u001b[0m\u001b[0;34m}\u001b[0m\u001b[0;34m[\u001b[0m\u001b[0mkeyelement\u001b[0m\u001b[0;34m]\u001b[0m\u001b[0;34m\u001b[0m\u001b[0;34m\u001b[0m\u001b[0m\n",
      "\u001b[0;31mNameError\u001b[0m: name 'TorchEntropy' is not defined"
     ]
    }
   ],
   "source": [
    "MutualInfo(X,Y,keyelement='X<-Y',keyType='torch')"
   ]
  },
  {
   "cell_type": "markdown",
   "metadata": {},
   "source": [
    "https://www.bilibili.com/video/BV194411X7Jg?p=1&share_medium=ipad&share_plat=ios&share_source=QQ&share_tag=s_i&timestamp=1593860517&unique_k=gWqiA3"
   ]
  },
  {
   "cell_type": "markdown",
   "metadata": {},
   "source": [
    "# 2.0表达式求解互信息\n",
    "\n",
    "# $$ I(X:Y) = \\sum{ P(x,y)log\\frac{p(x,y)}{p(x)p(y)} } $$ "
   ]
  },
  {
   "cell_type": "markdown",
   "metadata": {},
   "source": [
    "# 求联合概率"
   ]
  },
  {
   "cell_type": "code",
   "execution_count": 17,
   "metadata": {
    "tags": []
   },
   "outputs": [
    {
     "data": {
      "text/plain": [
       "(array([0.6, 0.4]), array([0.5, 0.5]))"
      ]
     },
     "execution_count": 17,
     "metadata": {},
     "output_type": "execute_result"
    }
   ],
   "source": [
    "def MarginalProb(X,Y):\n",
    "    init_JP = NumpyJointProb(X,Y).reshape(2,-1).T\n",
    "    dm,dn = init_JP.shape\n",
    "    if dm == 1:\n",
    "        return init_JP[0]\n",
    "    else:\n",
    "        return sum(init_JP)\n",
    "MarginalProb(X,Y),MarginalProb(A,B)"
   ]
  },
  {
   "cell_type": "markdown",
   "metadata": {},
   "source": [
    "# 求互信息"
   ]
  },
  {
   "cell_type": "code",
   "execution_count": 86,
   "metadata": {
    "tags": []
   },
   "outputs": [
    {
     "data": {
      "text/plain": [
       "(array([0.2, 0.2, 0.2, 0.4]), 0.4, 0.6000000000000001)"
      ]
     },
     "execution_count": 86,
     "metadata": {},
     "output_type": "execute_result"
    }
   ],
   "source": [
    "def MutualInfoExpr(X,Y):\n",
    "    PXY = NumpyJointProb(X,Y)\n",
    "    PX,PY = tuple(MarginalProb(X,Y))\n",
    "    return PXY,PX,PY\n",
    "MutualInfoExpr(X,Y)"
   ]
  },
  {
   "cell_type": "code",
   "execution_count": 87,
   "metadata": {
    "tags": []
   },
   "outputs": [
    {
     "data": {
      "text/plain": [
       "((array([0.5, 0.5]), 0.5, 0.5), tensor(-1.))"
      ]
     },
     "execution_count": 87,
     "metadata": {},
     "output_type": "execute_result"
    }
   ],
   "source": [
    "MutualInfoExpr(A,B),MutualInfo(A,B,keyelement=\"X<->Y\",keyType='torch')"
   ]
  },
  {
   "cell_type": "code",
   "execution_count": 88,
   "metadata": {},
   "outputs": [
    {
     "data": {
      "text/plain": [
       "array([0.5, 0.5])"
      ]
     },
     "execution_count": 88,
     "metadata": {},
     "output_type": "execute_result"
    }
   ],
   "source": [
    "NumpyJointProb(A,B)"
   ]
  },
  {
   "cell_type": "code",
   "execution_count": 89,
   "metadata": {},
   "outputs": [
    {
     "data": {
      "text/plain": [
       "(0.4, 0.6, 0.4, 0.6)"
      ]
     },
     "execution_count": 89,
     "metadata": {},
     "output_type": "execute_result"
    }
   ],
   "source": [
    "NumpyProb(X,'==',0),NumpyProb(X,'==',1),NumpyProb(Y,'==',0),NumpyProb(Y,'==',1)"
   ]
  },
  {
   "cell_type": "code",
   "execution_count": 90,
   "metadata": {},
   "outputs": [
    {
     "data": {
      "text/plain": [
       "0.21058650025961645"
      ]
     },
     "execution_count": 90,
     "metadata": {},
     "output_type": "execute_result"
    }
   ],
   "source": [
    "((0.2+0.4)*(0.2+0.4))*np.log2((0.2+0.4)*(0.2+0.4)/(0.4*0.6))"
   ]
  },
  {
   "cell_type": "code",
   "execution_count": null,
   "metadata": {},
   "outputs": [],
   "source": []
  }
 ],
 "metadata": {
  "kernelspec": {
   "display_name": "Python 3 (ipykernel)",
   "language": "python",
   "name": "python3"
  },
  "language_info": {
   "codemirror_mode": {
    "name": "ipython",
    "version": 3
   },
   "file_extension": ".py",
   "mimetype": "text/x-python",
   "name": "python",
   "nbconvert_exporter": "python",
   "pygments_lexer": "ipython3",
   "version": "3.8.10"
  }
 },
 "nbformat": 4,
 "nbformat_minor": 4
}
