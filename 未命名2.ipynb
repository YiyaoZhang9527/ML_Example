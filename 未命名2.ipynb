{
 "cells": [
  {
   "cell_type": "code",
   "execution_count": 61,
   "metadata": {},
   "outputs": [],
   "source": [
    "import numpy as np\n",
    "import scipy\n",
    "from scipy import stats"
   ]
  },
  {
   "cell_type": "markdown",
   "metadata": {},
   "source": [
    "## $ N(\\mu ,\\sigma^2) $\n",
    "## $ \\mu 是分布期望 , \\sigma^2 是方差 $"
   ]
  },
  {
   "cell_type": "markdown",
   "metadata": {},
   "source": [
    "## 高斯分布函数\n",
    "## $ P_G(z) = (1 /(\\sigma\\sqrt{2\\pi})^e)^{-(z-\\mu)^2/(2\\sigma)^2} $"
   ]
  },
  {
   "cell_type": "code",
   "execution_count": 62,
   "metadata": {},
   "outputs": [],
   "source": [
    "# 给数据加指定SNR的高斯噪声\n",
    "signal = np.arange(100).reshape(2,50)\n",
    "SNR = 5\n",
    "noise = np.random.randn(signal.shape[0],signal.shape[1]) \t#产生N(0,1)噪声数据\n",
    "noise = noise-np.mean(noise) \t\t\t\t\t\t\t\t#均值为0\n",
    "signal_power = np.linalg.norm( signal )**2 / signal.size\t#此处是信号的std**2\n",
    "noise_variance = signal_power/np.power(10,(SNR/10))         #此处是噪声的std**2\n",
    "noise = (np.sqrt(noise_variance) / np.std(noise) )*noise    ##此处是噪声的std**2\n",
    "signal_noise = noise + signal\n",
    "\n",
    "Ps = ( np.linalg.norm(signal - signal.mean()) )**2          #signal power\n",
    "Pn = ( np.linalg.norm(signal - signal_noise ) )**2          #noise power\n",
    "snr = 10*np.log10(Ps/Pn)"
   ]
  },
  {
   "cell_type": "code",
   "execution_count": 63,
   "metadata": {},
   "outputs": [
    {
     "output_type": "execute_result",
     "data": {
      "text/plain": "-0.9556169829104516"
     },
     "metadata": {},
     "execution_count": 63
    }
   ],
   "source": [
    "snr"
   ]
  },
  {
   "cell_type": "markdown",
   "metadata": {},
   "source": [
    "$ noise = std * N(0,1) + mean $"
   ]
  },
  {
   "cell_type": "code",
   "execution_count": 64,
   "metadata": {},
   "outputs": [],
   "source": [
    "x = np.random.random(100).reshape(2,50).T\n",
    "y = np.random.random(50)[:,None]"
   ]
  },
  {
   "cell_type": "code",
   "execution_count": 77,
   "metadata": {},
   "outputs": [
    {
     "output_type": "execute_result",
     "data": {
      "text/plain": "(array([[0.5488135 ],\n        [0.71518937]]),\n array([[0.60276338]]))"
     },
     "metadata": {},
     "execution_count": 77
    }
   ],
   "source": [
    "np.random.seed(0)\n",
    "w = np.random.random(x.shape[1])[:,None]\n",
    "b = np.random.random(1)[:,None]\n",
    "w,b"
   ]
  },
  {
   "cell_type": "code",
   "execution_count": 74,
   "metadata": {},
   "outputs": [
    {
     "output_type": "execute_result",
     "data": {
      "text/plain": "array([[0.3622001 ],\n       [0.33902189],\n       [0.90754348],\n       [0.59654181],\n       [0.5080954 ],\n       [0.77937912],\n       [0.73770341],\n       [0.16241269],\n       [0.8719145 ],\n       [0.20825797],\n       [0.75911217],\n       [0.37779207],\n       [0.38028819],\n       [0.71721665],\n       [0.77531608],\n       [0.95503061],\n       [0.84352393],\n       [1.06971217],\n       [0.6582827 ],\n       [0.46887956],\n       [0.78722815],\n       [0.21187475],\n       [0.39780443],\n       [0.35897891],\n       [1.04686105],\n       [0.1685073 ],\n       [0.68328124],\n       [0.16013735],\n       [0.06589015],\n       [0.57422138],\n       [0.84830069],\n       [0.60638654],\n       [0.45538264],\n       [0.72045405],\n       [0.65055656],\n       [0.78649331],\n       [0.72979818],\n       [0.57507301],\n       [0.22518932],\n       [0.74342282],\n       [0.31462509],\n       [0.84722587],\n       [1.00531634],\n       [0.93611709],\n       [0.54876801],\n       [0.75154076],\n       [0.29037073],\n       [1.02987105],\n       [0.37975621],\n       [0.50574958]])"
     },
     "metadata": {},
     "execution_count": 74
    }
   ],
   "source": [
    "x.dot(w)"
   ]
  },
  {
   "cell_type": "code",
   "execution_count": 80,
   "metadata": {},
   "outputs": [
    {
     "output_type": "stream",
     "name": "stdout",
     "text": "[[-2.97698723e+01 -1.24824377e+01]\n [-8.74960974e+00 -5.05342965e+01]\n [-2.54011943e+01 -2.50232580e+00]\n [-1.23019833e+01 -1.14388875e+01]\n [-2.62611544e+01 -8.07053015e+00]\n [-8.03155142e+00 -6.55890272e+00]\n [-3.07530251e+00 -2.12925707e+01]\n [-1.32001753e+05 -3.63880431e+03]\n [-8.61381543e+00 -3.20884484e+00]\n [-3.31817223e+03 -1.75313657e+03]\n [-3.29259136e+00 -6.11516233e+00]\n [-3.17233121e+01 -3.31107408e+02]\n [-6.68344179e+00 -3.55251164e+02]\n [-1.94875018e+02 -3.23201362e+00]\n [-1.03387272e+02 -2.10389940e+00]\n [-5.67681187e+00 -1.74423222e+00]\n [-1.45237932e+01 -2.32617194e+00]\n [-3.21397867e+00 -5.18802905e+00]\n [-3.81742772e+00 -2.41886138e+01]\n [-3.75801691e+00 -6.46119086e+02]\n [-2.50552455e+00 -1.29979954e+01]\n [-1.76491801e+02 -3.03579920e+01]\n [-9.23182835e+00 -1.14628121e+03]\n [-9.61967830e+00 -3.11665188e+02]\n [-2.40659212e+00 -4.41516997e+00]\n [-1.28224857e+01 -1.60696672e+02]\n [-1.26881643e+02 -4.58697511e+00]\n [-5.75368052e+01 -3.66710929e+01]\n [-2.43991334e+08 -4.94456389e+02]\n [-2.48526594e+00 -8.26295244e+02]\n [-3.50630145e+00 -3.48641009e+00]\n [-3.53845332e+00 -4.67137801e+01]\n [-1.96865791e+01 -9.49888763e+00]\n [-7.00491499e+00 -7.84178882e+00]\n [-8.91552488e+01 -2.19792798e+00]\n [-7.54353366e+00 -3.47532853e+00]\n [-1.94460416e+00 -2.21804416e+01]\n [-3.07096217e+00 -6.62760602e+02]\n [-1.34984809e+01 -2.02175383e+02]\n [-2.08208344e+00 -2.03014282e+01]\n [-1.16019303e+02 -7.62079576e+01]\n [-2.88075198e+00 -1.77811817e+01]\n [-1.97993357e+00 -3.60813569e+00]\n [-2.42809885e+00 -3.10157060e+00]\n [-5.63965842e+00 -3.32389657e+01]\n [-2.58715920e+00 -1.38364716e+01]\n [-1.47758829e+01 -3.07624712e+01]\n [-3.00502010e+00 -3.51006347e+00]\n [-3.83170369e+00 -8.20462979e+01]\n [-6.10862258e+04 -4.12922378e+00]]\n"
    },
    {
     "output_type": "error",
     "ename": "ValueError",
     "evalue": "shapes (50,2) and (50,2) not aligned: 2 (dim 1) != 50 (dim 0)",
     "traceback": [
      "\u001b[0;31m---------------------------------------------------------------------------\u001b[0m",
      "\u001b[0;31mValueError\u001b[0m                                Traceback (most recent call last)",
      "\u001b[0;32m<ipython-input-80-316f1113d620>\u001b[0m in \u001b[0;36m<module>\u001b[0;34m\u001b[0m\n\u001b[1;32m      1\u001b[0m \u001b[0;32mfor\u001b[0m \u001b[0mi\u001b[0m \u001b[0;32min\u001b[0m \u001b[0mrange\u001b[0m\u001b[0;34m(\u001b[0m\u001b[0;36m10\u001b[0m\u001b[0;34m)\u001b[0m\u001b[0;34m:\u001b[0m\u001b[0;34m\u001b[0m\u001b[0;34m\u001b[0m\u001b[0m\n\u001b[0;32m----> 2\u001b[0;31m     \u001b[0mw\u001b[0m \u001b[0;34m=\u001b[0m \u001b[0;36m0.000001\u001b[0m\u001b[0;34m-\u001b[0m\u001b[0;36m1\u001b[0m\u001b[0;34m/\u001b[0m\u001b[0;36m2\u001b[0m\u001b[0;34m*\u001b[0m\u001b[0mx\u001b[0m\u001b[0;34m.\u001b[0m\u001b[0mshape\u001b[0m\u001b[0;34m[\u001b[0m\u001b[0;36m0\u001b[0m\u001b[0;34m]\u001b[0m\u001b[0;34m/\u001b[0m\u001b[0;34m(\u001b[0m\u001b[0;34m(\u001b[0m\u001b[0mnp\u001b[0m\u001b[0;34m.\u001b[0m\u001b[0mdot\u001b[0m\u001b[0;34m(\u001b[0m\u001b[0mx\u001b[0m\u001b[0;34m,\u001b[0m\u001b[0mw\u001b[0m\u001b[0;34m)\u001b[0m\u001b[0;34m+\u001b[0m\u001b[0mb\u001b[0m\u001b[0;34m-\u001b[0m\u001b[0my\u001b[0m\u001b[0;34m)\u001b[0m\u001b[0;34m**\u001b[0m\u001b[0;36m2\u001b[0m\u001b[0;34m)\u001b[0m\u001b[0;34m\u001b[0m\u001b[0;34m\u001b[0m\u001b[0m\n\u001b[0m\u001b[1;32m      3\u001b[0m     \u001b[0mprint\u001b[0m\u001b[0;34m(\u001b[0m\u001b[0mw\u001b[0m\u001b[0;34m)\u001b[0m\u001b[0;34m\u001b[0m\u001b[0;34m\u001b[0m\u001b[0m\n",
      "\u001b[0;32m<__array_function__ internals>\u001b[0m in \u001b[0;36mdot\u001b[0;34m(*args, **kwargs)\u001b[0m\n",
      "\u001b[0;31mValueError\u001b[0m: shapes (50,2) and (50,2) not aligned: 2 (dim 1) != 50 (dim 0)"
     ]
    }
   ],
   "source": [
    "for i in range(10):\n",
    "    w = 0.000001-1/2*x.shape[0]/((np.dot(x,w)+b-y)**2)\n",
    "    print(w)"
   ]
  },
  {
   "cell_type": "code",
   "execution_count": null,
   "metadata": {},
   "outputs": [],
   "source": [
    "from selenium.webdriver import ChromeOptionsoption = ChromeOptions()option.add_experimental_option('excludeSwitches',['enable-automation'])#开启实验性功能\n",
    "browser=webdriver.Chrome(options=option)# 修改get方法\n",
    "script = '''Object.defineProperty(navigator, 'webdriver', {get: () => undefined})'''browser.execute_cdp_cmd(\"Page.addScriptToEvaluateOnNewDocument\", {\"source\": script})"
   ]
  }
 ],
 "metadata": {
  "kernelspec": {
   "name": "python38264bitpython38conda49c00079017641f7821c3448fb931956",
   "display_name": "Python 3.8.2 64-bit ('python38': conda)"
  }
 },
 "nbformat": 4,
 "nbformat_minor": 2
}