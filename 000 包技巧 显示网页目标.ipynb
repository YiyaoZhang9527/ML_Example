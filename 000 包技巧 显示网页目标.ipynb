{
 "cells": [
  {
   "cell_type": "code",
   "execution_count": 1,
   "metadata": {
    "scrolled": false
   },
   "outputs": [
    {
     "output_type": "execute_result",
     "data": {
      "text/plain": "<IPython.lib.display.IFrame at 0x7f9d4af2d190>",
      "text/html": "\n        <iframe\n            width=\"800\"\n            height=\"600\"\n            src=\"https://www.toutiao.com/a6784645333738586636/?tt_from=mobile_qq&utm_campaign=client_share&timestamp=1592712919&app=news_article_social&utm_source=mobile_qq&utm_medium=toutiao_ios&use_new_style=0&req_id=2020062112151901001104823127158790&group_id=6784645333738586636\"\n            frameborder=\"0\"\n            allowfullscreen\n        ></iframe>\n        "
     },
     "metadata": {},
     "execution_count": 1
    }
   ],
   "source": [
    "from IPython.display import IFrame\n",
    "IFrame(src=\"https://www.toutiao.com/a6784645333738586636/?tt_from=mobile_qq&utm_campaign=client_share&timestamp=1592712919&app=news_article_social&utm_source=mobile_qq&utm_medium=toutiao_ios&use_new_style=0&req_id=2020062112151901001104823127158790&group_id=6784645333738586636\", width=800, height=600)"
   ]
  },
  {
   "cell_type": "code",
   "execution_count": null,
   "metadata": {},
   "outputs": [],
   "source": []
  }
 ],
 "metadata": {
  "kernelspec": {
   "display_name": "Python 3.8.5 64-bit ('deepintorch': conda)",
   "language": "python",
   "name": "python_defaultSpec_1599410169119"
  },
  "language_info": {
   "codemirror_mode": {
    "name": "ipython",
    "version": 3
   },
   "file_extension": ".py",
   "mimetype": "text/x-python",
   "name": "python",
   "nbconvert_exporter": "python",
   "pygments_lexer": "ipython3",
   "version": "3.8.5-final"
  }
 },
 "nbformat": 4,
 "nbformat_minor": 2
}