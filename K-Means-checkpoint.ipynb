{
 "cells": [
  {
   "cell_type": "code",
   "execution_count": 1,
   "metadata": {},
   "outputs": [],
   "source": [
    "import numpy as np\n",
    "import math\n",
    "import matplotlib.pyplot as plt\n",
    "np.set_printoptions(suppress=True)"
   ]
  },
  {
   "cell_type": "code",
   "execution_count": 4,
   "metadata": {},
   "outputs": [
    {
     "data": {
      "text/plain": [
       "array([0.42118123, 0.60717119, 9.15796803, 9.23510404, 4.39178201,\n",
       "       6.70638493, 7.85527983, 4.73348146, 2.3540471 , 8.58551125,\n",
       "       0.03725536, 5.01504574, 5.34316339, 4.95711459, 9.88150354,\n",
       "       7.42004954, 6.68480507, 8.35987   , 0.9299239 , 0.31743987,\n",
       "       2.51174904, 3.86013136, 9.07083114, 0.49839704, 2.1280123 ,\n",
       "       1.16636014, 5.75551713, 7.46537313, 6.67138274, 9.81573958,\n",
       "       9.11494733, 9.88747698, 9.60067145, 8.25067595, 9.64456977,\n",
       "       1.38157089, 5.73331007, 7.62637719, 4.23935284, 7.55319447,\n",
       "       9.3833358 , 2.37666514, 0.95534121, 0.60904559, 4.7386269 ,\n",
       "       2.87849817, 1.23131714, 0.26403996, 2.3340334 , 3.95332084,\n",
       "       4.41169772, 6.72417923, 7.69031533, 5.0044697 , 1.41292151,\n",
       "       3.83342156, 9.62697734, 0.96383512, 6.57956754, 8.15685475,\n",
       "       7.28180758, 1.4087972 , 0.42922765, 2.71373149, 1.28951676,\n",
       "       1.9168865 , 1.07305432, 8.25686935, 4.05126188, 1.56580053,\n",
       "       3.47586244, 1.81343755, 2.08895731, 0.64299617, 9.8405039 ,\n",
       "       2.48619707, 4.53631339, 7.9073585 , 5.97228174, 5.78057437,\n",
       "       5.73632192, 3.06802041, 5.31784217, 1.33547041, 7.75347629,\n",
       "       0.82698161, 4.59638677, 8.207888  , 6.86543333, 0.4678957 ,\n",
       "       7.98292388, 9.58284876, 8.88082238, 6.87420958, 6.22446799,\n",
       "       1.68176024, 2.93708093, 9.71390104, 5.93226152, 7.97842932])"
      ]
     },
     "execution_count": 4,
     "metadata": {},
     "output_type": "execute_result"
    }
   ],
   "source": [
    "src_data = np.random.random(100) * 10\n",
    "src_data"
   ]
  },
  {
   "cell_type": "code",
   "execution_count": 5,
   "metadata": {},
   "outputs": [
    {
     "data": {
      "text/plain": [
       "matrix([[0.        , 0.42118123],\n",
       "        [0.1       , 0.60717119],\n",
       "        [0.2       , 9.15796803],\n",
       "        [0.3       , 9.23510404],\n",
       "        [0.4       , 4.39178201],\n",
       "        [0.5       , 6.70638493],\n",
       "        [0.6       , 7.85527983],\n",
       "        [0.7       , 4.73348146],\n",
       "        [0.8       , 2.3540471 ],\n",
       "        [0.9       , 8.58551125],\n",
       "        [1.        , 0.03725536],\n",
       "        [1.1       , 5.01504574],\n",
       "        [1.2       , 5.34316339],\n",
       "        [1.3       , 4.95711459],\n",
       "        [1.4       , 9.88150354],\n",
       "        [1.5       , 7.42004954],\n",
       "        [1.6       , 6.68480507],\n",
       "        [1.7       , 8.35987   ],\n",
       "        [1.8       , 0.9299239 ],\n",
       "        [1.9       , 0.31743987],\n",
       "        [2.        , 2.51174904],\n",
       "        [2.1       , 3.86013136],\n",
       "        [2.2       , 9.07083114],\n",
       "        [2.3       , 0.49839704],\n",
       "        [2.4       , 2.1280123 ],\n",
       "        [2.5       , 1.16636014],\n",
       "        [2.6       , 5.75551713],\n",
       "        [2.7       , 7.46537313],\n",
       "        [2.8       , 6.67138274],\n",
       "        [2.9       , 9.81573958],\n",
       "        [3.        , 9.11494733],\n",
       "        [3.1       , 9.88747698],\n",
       "        [3.2       , 9.60067145],\n",
       "        [3.3       , 8.25067595],\n",
       "        [3.4       , 9.64456977],\n",
       "        [3.5       , 1.38157089],\n",
       "        [3.6       , 5.73331007],\n",
       "        [3.7       , 7.62637719],\n",
       "        [3.8       , 4.23935284],\n",
       "        [3.9       , 7.55319447],\n",
       "        [4.        , 9.3833358 ],\n",
       "        [4.1       , 2.37666514],\n",
       "        [4.2       , 0.95534121],\n",
       "        [4.3       , 0.60904559],\n",
       "        [4.4       , 4.7386269 ],\n",
       "        [4.5       , 2.87849817],\n",
       "        [4.6       , 1.23131714],\n",
       "        [4.7       , 0.26403996],\n",
       "        [4.8       , 2.3340334 ],\n",
       "        [4.9       , 3.95332084],\n",
       "        [5.        , 4.41169772],\n",
       "        [5.1       , 6.72417923],\n",
       "        [5.2       , 7.69031533],\n",
       "        [5.3       , 5.0044697 ],\n",
       "        [5.4       , 1.41292151],\n",
       "        [5.5       , 3.83342156],\n",
       "        [5.6       , 9.62697734],\n",
       "        [5.7       , 0.96383512],\n",
       "        [5.8       , 6.57956754],\n",
       "        [5.9       , 8.15685475],\n",
       "        [6.        , 7.28180758],\n",
       "        [6.1       , 1.4087972 ],\n",
       "        [6.2       , 0.42922765],\n",
       "        [6.3       , 2.71373149],\n",
       "        [6.4       , 1.28951676],\n",
       "        [6.5       , 1.9168865 ],\n",
       "        [6.6       , 1.07305432],\n",
       "        [6.7       , 8.25686935],\n",
       "        [6.8       , 4.05126188],\n",
       "        [6.9       , 1.56580053],\n",
       "        [7.        , 3.47586244],\n",
       "        [7.1       , 1.81343755],\n",
       "        [7.2       , 2.08895731],\n",
       "        [7.3       , 0.64299617],\n",
       "        [7.4       , 9.8405039 ],\n",
       "        [7.5       , 2.48619707],\n",
       "        [7.6       , 4.53631339],\n",
       "        [7.7       , 7.9073585 ],\n",
       "        [7.8       , 5.97228174],\n",
       "        [7.9       , 5.78057437],\n",
       "        [8.        , 5.73632192],\n",
       "        [8.1       , 3.06802041],\n",
       "        [8.2       , 5.31784217],\n",
       "        [8.3       , 1.33547041],\n",
       "        [8.4       , 7.75347629],\n",
       "        [8.5       , 0.82698161],\n",
       "        [8.6       , 4.59638677],\n",
       "        [8.7       , 8.207888  ],\n",
       "        [8.8       , 6.86543333],\n",
       "        [8.9       , 0.4678957 ],\n",
       "        [9.        , 7.98292388],\n",
       "        [9.1       , 9.58284876],\n",
       "        [9.2       , 8.88082238],\n",
       "        [9.3       , 6.87420958],\n",
       "        [9.4       , 6.22446799],\n",
       "        [9.5       , 1.68176024],\n",
       "        [9.6       , 2.93708093],\n",
       "        [9.7       , 9.71390104],\n",
       "        [9.8       , 5.93226152],\n",
       "        [9.9       , 7.97842932]])"
      ]
     },
     "execution_count": 5,
     "metadata": {},
     "output_type": "execute_result"
    }
   ],
   "source": [
    "data = np.mat([[i/10,src_data[i]] for i in range(len(src_data))])\n",
    "data"
   ]
  },
  {
   "cell_type": "code",
   "execution_count": 6,
   "metadata": {},
   "outputs": [
    {
     "data": {
      "text/plain": [
       "<matplotlib.collections.PathCollection at 0x11bcc84a8>"
      ]
     },
     "execution_count": 6,
     "metadata": {},
     "output_type": "execute_result"
    },
    {
     "data": {
      "image/png": "[encoded data removed]",
      "text/plain": [
       "<Figure size 432x288 with 1 Axes>"
      ]
     },
     "metadata": {
      "needs_background": "light"
     },
     "output_type": "display_data"
    }
   ],
   "source": [
    "plt.scatter(np.squeeze(np.array(data[:,0:1])),np.squeeze(np.array(data[:,-1:])))"
   ]
  },
  {
   "cell_type": "code",
   "execution_count": 7,
   "metadata": {},
   "outputs": [],
   "source": [
    "def quarterback_method(vector):\n",
    "    '''四分位法'''\n",
    "    lower_q=np.quantile(vector,0.25,interpolation='lower')#下四分卫数\n",
    "    higher_q=np.quantile(vector,0.75,interpolation='higher')#上四分位数\n",
    "    middle_q = np.median(vector) #中位数\n",
    "    int_r=higher_q-lower_q#四分位距\n",
    "    numbers = [lower_q,middle_q,higher_q,int_r] #分位数整理\n",
    "    data = [vector[vector<i] for i in numbers][:-1] #前75%分位的数\n",
    "    new_data = np.setdiff1d(vector,np.hstack((data[1],data[2]))) #后25分位的数\n",
    "    return numbers,data+[new_data] #分位数和四分位后的数据"
   ]
  },
  {
   "cell_type": "code",
   "execution_count": 8,
   "metadata": {},
   "outputs": [
    {
     "name": "stdout",
     "output_type": "stream",
     "text": [
      "[array([5.2       , 7.69031533]), array([9.2       , 8.88082238]), array([0.        , 0.42118123]), array([6.        , 7.28180758]), array([5.3      , 5.0044697]), array([5.2       , 7.69031533])]\n"
     ]
    }
   ],
   "source": [
    "\n",
    "def K_point(number):\n",
    "    '''随机选择K中心'''\n",
    "    K = lambda : data[np.random.randint(len(data))]\n",
    "    return [np.array(K())[0] for i in range(number)]   \n",
    "#K_point(4)\n",
    "k_of_constant = K_point(6)\n",
    "print(k_of_constant)"
   ]
  },
  {
   "cell_type": "code",
   "execution_count": 9,
   "metadata": {},
   "outputs": [
    {
     "data": {
      "text/plain": [
       "array([6.39720422, 6.2035814 , 6.75033939, 6.73463054, 4.60004311,\n",
       "       5.05129581, 5.58733011, 4.31202328, 4.67695693, 5.85070247,\n",
       "       5.92754131, 3.94639441, 3.91249643, 3.7399839 , 6.54818874,\n",
       "       4.61521188, 4.0898676 , 5.14568405, 4.72892683, 5.1354598 ,\n",
       "       3.55102872, 2.95198669, 5.43576344, 4.75435823, 3.46052295,\n",
       "       4.09661031, 2.75060913, 3.82294827, 3.15375592, 5.79772959,\n",
       "       5.11082742, 5.7960468 , 5.49230811, 4.19854187, 5.47201516,\n",
       "       3.38107507, 1.9252686 , 3.46758765, 1.21231298, 3.32851346,\n",
       "       5.07121141, 2.22516463, 3.54773172, 3.8665441 , 0.68328815,\n",
       "       1.61266886, 3.20543611, 4.15849311, 2.08726832, 0.46915814,\n",
       "       0.        , 2.31464268, 3.28471207, 0.66436332, 3.02533614,\n",
       "       0.76446276, 5.24968014, 3.51820359, 2.31077033, 3.85177896,\n",
       "       3.03933062, 3.19803245, 4.15933502, 2.13847827, 3.42169753,\n",
       "       2.91102783, 3.70223443, 4.20420562, 1.83573255, 3.42186072,\n",
       "       2.20811858, 3.34080169, 3.19923788, 4.41510038, 5.93564963,\n",
       "       3.15555902, 2.60298465, 4.4169723 , 3.20552999, 3.20684008,\n",
       "       3.27942514, 3.37867854, 3.32582287, 4.51144926, 4.76733511,\n",
       "       5.01000894, 3.60473439, 5.30104335, 4.52336362, 5.54649208,\n",
       "       5.36224359, 6.59930323, 6.13294996, 4.95519572, 4.75879565,\n",
       "       5.26332201, 4.83057913, 7.08543295, 5.03508831, 6.06065791])"
      ]
     },
     "execution_count": 9,
     "metadata": {},
     "output_type": "execute_result"
    }
   ],
   "source": [
    "def euclidean_distance(pointA,pointB):\n",
    "    '''欧式距离计算公式'''\n",
    "    return np.array(np.sqrt(np.dot(np.power((pointA-pointB),2),np.ones(2))))[0]\n",
    "euclidean_distance(data,K_point(4)[0])"
   ]
  },
  {
   "cell_type": "code",
   "execution_count": 10,
   "metadata": {},
   "outputs": [
    {
     "data": {
      "text/plain": [
       "array([4.95      , 4.94594045])"
      ]
     },
     "execution_count": 10,
     "metadata": {},
     "output_type": "execute_result"
    }
   ],
   "source": [
    "def mean_point(dataset):\n",
    "    '''求中心点'''\n",
    "    x_mean = np.array(sum(dataset[:,0:1])/len(dataset))[0,0]\n",
    "    y_mean = np.array(sum(dataset[:,-1:])/len(dataset))[0,0]\n",
    "    return np.array([x_mean,y_mean])\n",
    "\n",
    "mean_point(data)"
   ]
  },
  {
   "cell_type": "markdown",
   "metadata": {},
   "source": [
    "$$\\bar{X}=\\frac{1}{r} \\sum_{i=1}^{r} \\bar{X}_{i}=\\frac{1}{n} \\sum_{i=1}^{r} \\sum_{j=1}^{n_{i}} X_{i j}$$"
   ]
  },
  {
   "cell_type": "code",
   "execution_count": 11,
   "metadata": {},
   "outputs": [],
   "source": [
    "def error_sum_of_squares(data,K):\n",
    "    '''误差平方和'''\n",
    "    return  np.array([sum(euclidean_distance(i,j)**2) for i,j in zip(data,K)])"
   ]
  },
  {
   "cell_type": "code",
   "execution_count": 12,
   "metadata": {},
   "outputs": [],
   "source": [
    "def K_means(dataset,K_point,restart=0):\n",
    "    '''\n",
    "    递归完成K-means,2维数据\n",
    "    '''\n",
    "    print('restart',restart)\n",
    "\n",
    "    expr1 = [( np.array(i)[0] ,[euclidean_distance(j,np.array(i)) for j in K_point]  ) for i in dataset]\n",
    "    #nearly = sorted([( expr1[i][-1].index(min(expr1[i][-1])) , list(np.array(dataset[i])[0]) ) for i in range(len(expr1))]) #最近的点的下标\n",
    "    \n",
    "    NK = -1\n",
    "    classified_of_data = []\n",
    "    new_K_point = []\n",
    "    for kindex in range(len(K_point)):\n",
    "        NK+=1\n",
    "        kindex = []\n",
    "        for i in range(len(expr1)):\n",
    "            Name = expr1[i][-1].index(min(expr1[i][-1]))\n",
    "            data = list(np.array(dataset[i])[0]) #最近的点的下标\n",
    "            if Name == NK:\n",
    "                kindex.append(data)\n",
    "            else:\n",
    "                pass\n",
    "\n",
    "        new_K_point.append(mean_point(np.mat(kindex))) #新的k点整理数据结构\n",
    "        classified_of_data.append(np.mat(kindex)) \n",
    "\n",
    "\n",
    "    comparison_of_K = (np.array(K_point)==np.array(new_K_point)).astype(int)#比较两次K点组，并将结果布尔值转为整数\n",
    "    \n",
    "    restart_time = 0\n",
    "\n",
    "    if sum(np.dot(comparison_of_K,np.array([1,1])))==len(K_point)*2: #如果满足分类条件则输出结果\n",
    "        print('Ok')\n",
    "        return np.array(new_K_point),classified_of_data\n",
    "    else: #如果不满足分类条件，则递归继续\n",
    "        restart += 1\n",
    "        return K_means(dataset,new_K_point,restart)\n",
    "        "
   ]
  },
  {
   "cell_type": "code",
   "execution_count": 13,
   "metadata": {},
   "outputs": [
    {
     "name": "stdout",
     "output_type": "stream",
     "text": [
      "restart 0\n",
      "restart 1\n",
      "restart 2\n",
      "restart 3\n",
      "restart 4\n",
      "restart 5\n",
      "restart 6\n",
      "restart 7\n",
      "restart 8\n",
      "restart 9\n",
      "restart 10\n",
      "restart 11\n",
      "restart 12\n",
      "restart 13\n",
      "restart 14\n",
      "restart 15\n",
      "Ok\n"
     ]
    },
    {
     "data": {
      "image/png": "[encoded data removed]",
      "text/plain": [
       "<Figure size 432x288 with 1 Axes>"
      ]
     },
     "metadata": {
      "needs_background": "light"
     },
     "output_type": "display_data"
    },
    {
     "data": {
      "text/plain": [
       "(array([[2.48823529, 1.27350873],\n",
       "        [2.00740741, 7.70989467],\n",
       "        [7.255     , 1.67992155],\n",
       "        [7.75      , 8.49006975],\n",
       "        [4.95833333, 4.54014499],\n",
       "        [8.54      , 5.78360928]]), [matrix([[0.        , 0.42118123],\n",
       "          [0.1       , 0.60717119],\n",
       "          [0.8       , 2.3540471 ],\n",
       "          [1.        , 0.03725536],\n",
       "          [1.8       , 0.9299239 ],\n",
       "          [1.9       , 0.31743987],\n",
       "          [2.        , 2.51174904],\n",
       "          [2.1       , 3.86013136],\n",
       "          [2.3       , 0.49839704],\n",
       "          [2.4       , 2.1280123 ],\n",
       "          [2.5       , 1.16636014],\n",
       "          [3.5       , 1.38157089],\n",
       "          [4.1       , 2.37666514],\n",
       "          [4.2       , 0.95534121],\n",
       "          [4.3       , 0.60904559],\n",
       "          [4.6       , 1.23131714],\n",
       "          [4.7       , 0.26403996]]), matrix([[0.2       , 9.15796803],\n",
       "          [0.3       , 9.23510404],\n",
       "          [0.4       , 4.39178201],\n",
       "          [0.5       , 6.70638493],\n",
       "          [0.6       , 7.85527983],\n",
       "          [0.7       , 4.73348146],\n",
       "          [0.9       , 8.58551125],\n",
       "          [1.1       , 5.01504574],\n",
       "          [1.2       , 5.34316339],\n",
       "          [1.3       , 4.95711459],\n",
       "          [1.4       , 9.88150354],\n",
       "          [1.5       , 7.42004954],\n",
       "          [1.6       , 6.68480507],\n",
       "          [1.7       , 8.35987   ],\n",
       "          [2.2       , 9.07083114],\n",
       "          [2.6       , 5.75551713],\n",
       "          [2.7       , 7.46537313],\n",
       "          [2.8       , 6.67138274],\n",
       "          [2.9       , 9.81573958],\n",
       "          [3.        , 9.11494733],\n",
       "          [3.1       , 9.88747698],\n",
       "          [3.2       , 9.60067145],\n",
       "          [3.3       , 8.25067595],\n",
       "          [3.4       , 9.64456977],\n",
       "          [3.7       , 7.62637719],\n",
       "          [3.9       , 7.55319447],\n",
       "          [4.        , 9.3833358 ]]), matrix([[5.4       , 1.41292151],\n",
       "          [5.7       , 0.96383512],\n",
       "          [6.1       , 1.4087972 ],\n",
       "          [6.2       , 0.42922765],\n",
       "          [6.3       , 2.71373149],\n",
       "          [6.4       , 1.28951676],\n",
       "          [6.5       , 1.9168865 ],\n",
       "          [6.6       , 1.07305432],\n",
       "          [6.9       , 1.56580053],\n",
       "          [7.        , 3.47586244],\n",
       "          [7.1       , 1.81343755],\n",
       "          [7.2       , 2.08895731],\n",
       "          [7.3       , 0.64299617],\n",
       "          [7.5       , 2.48619707],\n",
       "          [8.1       , 3.06802041],\n",
       "          [8.3       , 1.33547041],\n",
       "          [8.5       , 0.82698161],\n",
       "          [8.9       , 0.4678957 ],\n",
       "          [9.5       , 1.68176024],\n",
       "          [9.6       , 2.93708093]]), matrix([[5.2       , 7.69031533],\n",
       "          [5.6       , 9.62697734],\n",
       "          [5.9       , 8.15685475],\n",
       "          [6.        , 7.28180758],\n",
       "          [6.7       , 8.25686935],\n",
       "          [7.4       , 9.8405039 ],\n",
       "          [7.7       , 7.9073585 ],\n",
       "          [8.4       , 7.75347629],\n",
       "          [8.7       , 8.207888  ],\n",
       "          [9.        , 7.98292388],\n",
       "          [9.1       , 9.58284876],\n",
       "          [9.2       , 8.88082238],\n",
       "          [9.7       , 9.71390104],\n",
       "          [9.9       , 7.97842932]]), matrix([[3.6       , 5.73331007],\n",
       "          [3.8       , 4.23935284],\n",
       "          [4.4       , 4.7386269 ],\n",
       "          [4.5       , 2.87849817],\n",
       "          [4.8       , 2.3340334 ],\n",
       "          [4.9       , 3.95332084],\n",
       "          [5.        , 4.41169772],\n",
       "          [5.1       , 6.72417923],\n",
       "          [5.3       , 5.0044697 ],\n",
       "          [5.5       , 3.83342156],\n",
       "          [5.8       , 6.57956754],\n",
       "          [6.8       , 4.05126188]]), matrix([[7.6       , 4.53631339],\n",
       "          [7.8       , 5.97228174],\n",
       "          [7.9       , 5.78057437],\n",
       "          [8.        , 5.73632192],\n",
       "          [8.2       , 5.31784217],\n",
       "          [8.6       , 4.59638677],\n",
       "          [8.8       , 6.86543333],\n",
       "          [9.3       , 6.87420958],\n",
       "          [9.4       , 6.22446799],\n",
       "          [9.8       , 5.93226152]])])"
      ]
     },
     "execution_count": 13,
     "metadata": {},
     "output_type": "execute_result"
    }
   ],
   "source": [
    "def K_means_run(class_number,all_datas,drawing=False):\n",
    "    k_of_constant = K_point(class_number)\n",
    "    result = K_means(all_datas,k_of_constant,0)\n",
    "\n",
    "    if drawing == True:\n",
    "        for data,k in zip(result[-1],result[0]):\n",
    "            x ,y  = np.squeeze(np.array(data[:,0:1])),np.squeeze(np.array(data[:,-1:]))#,\n",
    "            plt.scatter(x,y)\n",
    "            plt.scatter(k[0],k[-1],c='black',marker='x',alpha=1.0)\n",
    "        plt.show()\n",
    "        plt.close()\n",
    "    else:\n",
    "        pass\n",
    "    return result\n",
    "\n",
    "K_means_run(6,data,True)"
   ]
  },
  {
   "cell_type": "code",
   "execution_count": null,
   "metadata": {},
   "outputs": [],
   "source": [
    "\n",
    "\n",
    "def K_means2(distances = distance_classification(data,4)):\n",
    "    '''标准计算循环完成K-means'''\n",
    "    structure , dataset = list(distances[0]),distances[-1]\n",
    "    K = [i[0] for i in structure] #K点们\n",
    "    data_of_Ks = [i[-1] for i in structure]#分类好的数据\n",
    "\n",
    "    #原始中心点距离的误差平方和\n",
    "    E1 = error_sum_of_squares(data_of_Ks,K)\n",
    "    \n",
    "\n",
    "    #计算当前分类的中心点\n",
    "    return [mean_point(i) for i in data_of_Ks]\n",
    "\n",
    "\n",
    "    \n",
    "    #return np.mat([euclidean_distance(all_data,i) for i in K]).T\n",
    " \n",
    "\n"
   ]
  },
  {
   "cell_type": "code",
   "execution_count": null,
   "metadata": {},
   "outputs": [],
   "source": []
  }
 ],
 "metadata": {
  "file_extension": ".py",
  "kernelspec": {
   "display_name": "PyCharm (InferenceSystem)",
   "language": "python",
   "name": "pycharm-e0540ed6"
  },
  "language_info": {
   "codemirror_mode": {
    "name": "ipython",
    "version": 3
   },
   "file_extension": ".py",
   "mimetype": "text/x-python",
   "name": "python",
   "nbconvert_exporter": "python",
   "pygments_lexer": "ipython3",
   "version": "3.7.3"
  },
  "mimetype": "text/x-python",
  "name": "python",
  "npconvert_exporter": "python",
  "pygments_lexer": "ipython3",
  "version": 3
 },
 "nbformat": 4,
 "nbformat_minor": 2
}
