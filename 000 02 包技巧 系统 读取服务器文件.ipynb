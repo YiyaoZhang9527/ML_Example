{
 "cells": [
  {
   "cell_type": "code",
   "execution_count": 1,
   "metadata": {},
   "outputs": [],
   "source": [
    "import os\n",
    "import paramiko\n",
    "\n",
    "#服务器信息，主机名（IP地址）、端口号、用户名及密码\n",
    "hostname = \"\"\n",
    "port = 22\n",
    "username = \"root\"\n",
    "password = \"\"\n",
    "\n",
    "class optServer:\n",
    "\n",
    "    def __init__(self,hostname,port,username,password):\n",
    "        #访问linux文件\n",
    "        self.client = paramiko.SSHClient()\n",
    "        self.client.set_missing_host_key_policy(paramiko.AutoAddPolicy())\n",
    "        self.client.connect(hostname, port, username, password, compress=True)\n",
    "        self.sftp_client = self.client.open_sftp()\n",
    "        #交互式shell\n",
    "        self.channel = self.client.invoke_shell() # 在SSH server端创建一个交互式的shell\n",
    "        #上传下载\n",
    "        self.transport = paramiko.Transport((hostname, port))\n",
    "        self.transport.connect(username = username, password = password)\n",
    "        self.sftp = paramiko.SFTPClient.from_transport(self.transport)\n",
    "    \n",
    "    def makedirInServers(self,dirNames):\n",
    "        try :\n",
    "            self.sftp_client.mkdir(dirNames)\n",
    "            return \"{}{}{}\".format(\"folder \",dirName,\" was created successfully\")\n",
    "        except Exception as Error:\n",
    "            name = [name for name in self.sftp_client.listdir() if dirNames in name][0]\n",
    "            return \"{}{}\".format(name,' is in here')\n",
    "    \n",
    "    def listFlieFromServers(self,path,fileType):\n",
    "        return [\"{}{}\".format(path,i) for i in self.sftp_client.listdir(path) if fileType in i]\n",
    "    \n",
    "    def cmd(self,cmd):\n",
    "        self.client.exec_command(cmd)\n",
    "\n",
    "    def delFlie(self,filePath):\n",
    "        splitpath = filePath.split('/')\n",
    "        dirpath = \"\".join([\"{0}{1}{0}\".format('/',i) for i in splitpath[:-1] if i != ''])\n",
    "        fileName = splitpath[-1]\n",
    "        self.client.exec_command('rm'+dirpath+\"rf\"+fileName)\n",
    "        check = sum([1 if i==fileName else 0 for i in self.sftp_client.listdir(dirpath)])\n",
    "        return \"{}{}{}\".format('the file ',fileName,' has been deleted')\n",
    "\n",
    "    def downloadFile(self,filePath,local_path=os.getcwd()):\n",
    "        name = filePath.split('/')[-1]\n",
    "        local_path = \"{}{}{}\".format(local_path,'/',name)\n",
    "        self.sftp.get(filePath,local_path)\n",
    "        return local_path\n",
    "    \n",
    "    def createFilePath(self,filepath):\n",
    "        checkpath,checkname = self.split_opt_func(filepath) \n",
    "        create_path_cmd = \"{}{}\".format(\"mkdir \",checkpath)\n",
    "        create_file_cmd = \"{}{}{}{}\".format(\"touch \",checkpath,\"/\",checkname)\n",
    "        self.cmd(create_path_cmd)\n",
    "        self.cmd(create_file_cmd)\n",
    "        check_createrd = self.listFlieFromServers(checkpath,checkname)[0]\n",
    "        return \"{}{}{}\".format(\"file \",check_createrd,\" created successfully\")\n",
    "    \n",
    "    def checkFile(self,file_path):\n",
    "        checkpath , checkname = self.split_opt_func(file_path) \n",
    "        check_file_numbers = len(self.listFlieFromServers(checkpath , checkname))\n",
    "        return check_file_numbers > 0 and True or False\n",
    "\n",
    "    def putFile(self,local_path,file_path):\n",
    "        self.sftp.put(local_path,file_path)\n",
    "        return self.checkFile(file_path) == True and 'file \"'+file_path+'\" has been uploaded successfully' or 'file \"'+file_path+'\" upload failed'\n",
    "\n",
    "    def split_opt_func(self,filepath):\n",
    "        splitpath = filepath.split('/')\n",
    "        filename = splitpath[-1]\n",
    "        checkpath = \"\".join([\"{}{}\".format(\"/\",path) for path in splitpath[:-1]][1:])\n",
    "        return checkpath,filename\n",
    "        \n",
    "    def __del__(self):\n",
    "        self.sftp_client.close()\n",
    "        self.sftp.close()\n",
    "        self.client.close()\n",
    "        print(hostname + \" is closed\")\n"
   ]
  },
  {
   "cell_type": "code",
   "execution_count": 2,
   "metadata": {
    "tags": []
   },
   "outputs": [
    {
     "output_type": "stream",
     "name": "stdout",
     "text": "['/root/爬虫数据/translationTable.csv', '/root/爬虫数据/拉钩网合肥数据分析.csv']\n"
    },
    {
     "output_type": "execute_result",
     "data": {
      "text/plain": "'file \"/root/爬虫数据/张足乐.html\" has been uploaded successfully'"
     },
     "metadata": {},
     "execution_count": 2
    }
   ],
   "source": [
    "server = optServer(hostname,port,username,password)\n",
    "#server.makedirInServers('拉勾网')\n",
    "print(server.listFlieFromServers('/root/爬虫数据/','csv'))\n",
    "#server.putToServers('/Users/manmanzhang/Library/Mobile Documents/com~apple~CloudDocs/MyProject/InferenceSystem/src/I5_algorithm/ 58同城房产.ipynb','/root/58同城房产.ipynb')\n",
    "#server.cmd('rm /root/ rf 58同城房产.ipynb ')\n",
    "#server.delFlie('/root/天下/class_A_gradient_descent_multiple_regression.py')\n",
    "#server.downloadFile(\"/root/拉钩网合肥数据产品经理.csv\")\n",
    "#server.downloadFile('/root/拉钩网合肥数据产品经理.csv')\n",
    "#server.createFilePath('/root/爬虫数据/testhostpython.py')\n",
    "#server.split_opt_func(\"/root/天下/拉钩网合肥数据产品经理.csv\")\n",
    "#server.split_opt_func(\"/root/天下/class_A_gradient_descent_multiple_regression.py\")\n",
    "#server.checkFile(\"/root/天下/class_A_gradient_descent_multiple_regression.py\")\n",
    "server.putFile(\"//Users/manmanzhang/Downloads/xpath遇到的问题/test.html\",\"/root/爬虫数据/张足乐.html\")\n",
    "#server.putFile(\"/Users/manmanzhang/Library/Mobile Documents/com~apple~CloudDocs/MyProject/InferenceSystem/src/I5_algorithm/梯度下降实现一元线性回归.py\",\"/root/天下/梯度下降实现一元线性回归.py\")"
   ]
  },
  {
   "cell_type": "code",
   "execution_count": 3,
   "metadata": {},
   "outputs": [
    {
     "output_type": "execute_result",
     "data": {
      "text/plain": "'/Users/manmanzhang/Library/Mobile Documents/com~apple~CloudDocs/MyProject/InferenceSystem/src/I5_algorithm/拉钩网合肥数据分析.csv'"
     },
     "metadata": {},
     "execution_count": 3
    }
   ],
   "source": [
    "server.downloadFile(server.listFlieFromServers('/root/爬虫数据/','csv')[-1],os.getcwd())"
   ]
  },
  {
   "cell_type": "code",
   "execution_count": null,
   "metadata": {},
   "outputs": [],
   "source": []
  }
 ],
 "metadata": {
  "language_info": {
   "codemirror_mode": {
    "name": "ipython",
    "version": 3
   },
   "file_extension": ".py",
   "mimetype": "text/x-python",
   "name": "python",
   "nbconvert_exporter": "python",
   "pygments_lexer": "ipython3",
   "version": "3.7.6-final"
  },
  "orig_nbformat": 2,
  "kernelspec": {
   "name": "pycharm-66c53067",
   "display_name": "PyCharm (InferenceSystem)"
  }
 },
 "nbformat": 4,
 "nbformat_minor": 2
}