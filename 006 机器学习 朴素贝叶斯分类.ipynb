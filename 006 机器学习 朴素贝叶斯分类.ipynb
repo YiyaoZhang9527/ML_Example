{
 "cells": [
  {
   "cell_type": "code",
   "execution_count": 1,
   "metadata": {},
   "outputs": [],
   "source": [
    "import jieba\n",
    "import numpy as np"
   ]
  },
  {
   "cell_type": "markdown",
   "metadata": {},
   "source": [
    "#### https://blog.csdn.net/zhengzhenxian/article/details/79052185?utm_medium=distribute.pc_relevant.none-task-blog-BlogCommendFromMachineLearnPai2-2.nonecase&depth_1-utm_source=distribute.pc_relevant.none-task-blog-BlogCommendFromMachineLearnPai2-2.nonecase\n",
    "\n",
    "## 朴素贝叶斯\n",
    "#### https://www.cnblogs.com/jpcflyer/p/11069659.html\n",
    "#### https://blog.csdn.net/zhengzhenxian/article/details/79052185?utm_medium=distribute.pc_relevant.none-task-blog-BlogCommendFromMachineLearnPai2-2.nonecase&depth_1-utm_source=distribute.pc_relevant.none-task-blog-BlogCommendFromMachineLearnPai2-2.nonecase"
   ]
  },
  {
   "cell_type": "markdown",
   "metadata": {},
   "source": [
    "## 朴素贝叶斯算法demo\n",
    "#### 比较好的教程：https://blog.csdn.net/u012162613/article/details/48323777"
   ]
  },
  {
   "cell_type": "code",
   "execution_count": 2,
   "metadata": {},
   "outputs": [],
   "source": [
    "import numpy as np\n",
    "import pandas as pd"
   ]
  },
  {
   "cell_type": "code",
   "execution_count": 3,
   "metadata": {},
   "outputs": [],
   "source": [
    "table1 = pd.DataFrame({\n",
    "    '身高':['高','高','中','中','矮','矮','矮','中']\n",
    "    ,'体重':['重','重','中','中','轻','轻','中','中']\n",
    "    ,'鞋码':['大','大','大','中','小','小','中','中']\n",
    "    ,'性别':['男','男','男','男','女','女','女','女']\n",
    "}) "
   ]
  },
  {
   "cell_type": "code",
   "execution_count": 4,
   "metadata": {},
   "outputs": [
    {
     "data": {
      "text/html": [
       "<div>\n",
       "<style scoped>\n",
       "    .dataframe tbody tr th:only-of-type {\n",
       "        vertical-align: middle;\n",
       "    }\n",
       "\n",
       "    .dataframe tbody tr th {\n",
       "        vertical-align: top;\n",
       "    }\n",
       "\n",
       "    .dataframe thead th {\n",
       "        text-align: right;\n",
       "    }\n",
       "</style>\n",
       "<table border=\"1\" class=\"dataframe\">\n",
       "  <thead>\n",
       "    <tr style=\"text-align: right;\">\n",
       "      <th></th>\n",
       "      <th>身高</th>\n",
       "      <th>体重</th>\n",
       "      <th>鞋码</th>\n",
       "      <th>性别</th>\n",
       "    </tr>\n",
       "  </thead>\n",
       "  <tbody>\n",
       "    <tr>\n",
       "      <th>0</th>\n",
       "      <td>高</td>\n",
       "      <td>重</td>\n",
       "      <td>大</td>\n",
       "      <td>男</td>\n",
       "    </tr>\n",
       "    <tr>\n",
       "      <th>1</th>\n",
       "      <td>高</td>\n",
       "      <td>重</td>\n",
       "      <td>大</td>\n",
       "      <td>男</td>\n",
       "    </tr>\n",
       "    <tr>\n",
       "      <th>2</th>\n",
       "      <td>中</td>\n",
       "      <td>中</td>\n",
       "      <td>大</td>\n",
       "      <td>男</td>\n",
       "    </tr>\n",
       "    <tr>\n",
       "      <th>3</th>\n",
       "      <td>中</td>\n",
       "      <td>中</td>\n",
       "      <td>中</td>\n",
       "      <td>男</td>\n",
       "    </tr>\n",
       "    <tr>\n",
       "      <th>4</th>\n",
       "      <td>矮</td>\n",
       "      <td>轻</td>\n",
       "      <td>小</td>\n",
       "      <td>女</td>\n",
       "    </tr>\n",
       "    <tr>\n",
       "      <th>5</th>\n",
       "      <td>矮</td>\n",
       "      <td>轻</td>\n",
       "      <td>小</td>\n",
       "      <td>女</td>\n",
       "    </tr>\n",
       "    <tr>\n",
       "      <th>6</th>\n",
       "      <td>矮</td>\n",
       "      <td>中</td>\n",
       "      <td>中</td>\n",
       "      <td>女</td>\n",
       "    </tr>\n",
       "    <tr>\n",
       "      <th>7</th>\n",
       "      <td>中</td>\n",
       "      <td>中</td>\n",
       "      <td>中</td>\n",
       "      <td>女</td>\n",
       "    </tr>\n",
       "  </tbody>\n",
       "</table>\n",
       "</div>"
      ],
      "text/plain": [
       "  身高 体重 鞋码 性别\n",
       "0  高  重  大  男\n",
       "1  高  重  大  男\n",
       "2  中  中  大  男\n",
       "3  中  中  中  男\n",
       "4  矮  轻  小  女\n",
       "5  矮  轻  小  女\n",
       "6  矮  中  中  女\n",
       "7  中  中  中  女"
      ]
     },
     "execution_count": 4,
     "metadata": {},
     "output_type": "execute_result"
    }
   ],
   "source": [
    "table1"
   ]
  },
  {
   "cell_type": "code",
   "execution_count": 5,
   "metadata": {},
   "outputs": [
    {
     "data": {
      "text/plain": [
       "array([['高', '重', '大', '男'],\n",
       "       ['高', '重', '大', '男'],\n",
       "       ['中', '中', '大', '男'],\n",
       "       ['中', '中', '中', '男'],\n",
       "       ['矮', '轻', '小', '女'],\n",
       "       ['矮', '轻', '小', '女'],\n",
       "       ['矮', '中', '中', '女'],\n",
       "       ['中', '中', '中', '女']], dtype=object)"
      ]
     },
     "execution_count": 5,
     "metadata": {},
     "output_type": "execute_result"
    }
   ],
   "source": [
    "data = table1.to_numpy()\n",
    "data"
   ]
  },
  {
   "cell_type": "markdown",
   "metadata": {},
   "source": [
    "## 求矩阵概率某中元素的概率\n",
    "## 输入A=数据矩阵或向量，a=待求概率条件"
   ]
  },
  {
   "cell_type": "code",
   "execution_count": 6,
   "metadata": {},
   "outputs": [],
   "source": [
    "def probability(A,a):\n",
    "    n=A.shape[0]\n",
    "    nm = np.cumproduct(np.array(A.shape))[0]\n",
    "    return (A==a).T.dot(np.ones(n))/n"
   ]
  },
  {
   "cell_type": "code",
   "execution_count": 7,
   "metadata": {},
   "outputs": [
    {
     "data": {
      "text/plain": [
       "array([0. , 0. , 0. , 0.5])"
      ]
     },
     "execution_count": 7,
     "metadata": {},
     "output_type": "execute_result"
    }
   ],
   "source": [
    "probability(data,'女')"
   ]
  },
  {
   "cell_type": "markdown",
   "metadata": {},
   "source": [
    "## 统计各列符合条件的的概率"
   ]
  },
  {
   "cell_type": "code",
   "execution_count": 8,
   "metadata": {},
   "outputs": [
    {
     "data": {
      "text/plain": [
       "array([0.25 , 0.5  , 0.375, 0.5  ])"
      ]
     },
     "execution_count": 8,
     "metadata": {},
     "output_type": "execute_result"
    }
   ],
   "source": [
    "def set_conditions(data,*conditions):\n",
    "    PAVector = [probability(data,conditions[i])[i] for i in range(len(conditions))]\n",
    "    return np.array(PAVector)\n",
    "set_conditions(data,'高','中','中','女')"
   ]
  },
  {
   "cell_type": "markdown",
   "metadata": {},
   "source": [
    "## 开始独立构建朴素贝叶斯分类器"
   ]
  },
  {
   "cell_type": "code",
   "execution_count": 9,
   "metadata": {},
   "outputs": [],
   "source": [
    "def bayes(data,*conditions,**cond):\n",
    "    '''\n",
    "    data 输入数据矩阵\n",
    "    *conditions 输入条件列\n",
    "    **cond 输入判定条件\n",
    "    返回贝叶斯推断概率\n",
    "    '''\n",
    "    m,n = data.shape\n",
    "    conditions_lenght = len(conditions)\n",
    "    ybool = data[:,-1]==cond['cond']\n",
    "    result = 0\n",
    "    for i in range((conditions_lenght)):\n",
    "        tmp = ((data[:,i]==conditions[i])&ybool)[ybool].sum()/m\n",
    "        result+=tmp\n",
    "    return result"
   ]
  },
  {
   "cell_type": "code",
   "execution_count": 10,
   "metadata": {},
   "outputs": [],
   "source": [
    "def naive_bayes(data,*conditions,**conds):\n",
    "    '''\n",
    "    data 输入数据矩阵\n",
    "    *conditions 输入条件列\n",
    "    **cond 输入判定条件\n",
    "    返回：分类结果 ，贝叶斯推断概率向量\n",
    "    '''\n",
    "    conds = np.array(conds['conds'])\n",
    "    expr = np.array([bayes(data,*conditions,cond=cond) for cond in conds])\n",
    "    return conds[expr==expr.max()][0],expr"
   ]
  },
  {
   "cell_type": "markdown",
   "metadata": {},
   "source": [
    "### 测试 bayes 函数，贝叶斯推断"
   ]
  },
  {
   "cell_type": "code",
   "execution_count": 11,
   "metadata": {},
   "outputs": [
    {
     "data": {
      "text/plain": [
       "0.5"
      ]
     },
     "execution_count": 11,
     "metadata": {},
     "output_type": "execute_result"
    }
   ],
   "source": [
    "bayes(data,'高','中','小',cond='女')"
   ]
  },
  {
   "cell_type": "markdown",
   "metadata": {},
   "source": [
    "### 测试贝叶斯分类器分类离散型数据 "
   ]
  },
  {
   "cell_type": "code",
   "execution_count": 12,
   "metadata": {},
   "outputs": [
    {
     "data": {
      "text/plain": [
       "('女', array([0.125, 0.625]))"
      ]
     },
     "execution_count": 12,
     "metadata": {},
     "output_type": "execute_result"
    }
   ],
   "source": [
    "naive_bayes(data,'矮','大','中',conds=['男','女'])"
   ]
  },
  {
   "cell_type": "code",
   "execution_count": 13,
   "metadata": {},
   "outputs": [
    {
     "data": {
      "text/plain": [
       "('男', array([0.25, 0.25]))"
      ]
     },
     "execution_count": 13,
     "metadata": {},
     "output_type": "execute_result"
    }
   ],
   "source": [
    "naive_bayes(data,'高','大','小',conds=['男','女'])"
   ]
  },
  {
   "cell_type": "code",
   "execution_count": null,
   "metadata": {},
   "outputs": [],
   "source": []
  },
  {
   "cell_type": "markdown",
   "metadata": {},
   "source": [
    "# 来自网络朴素贝叶斯分类侮辱性词汇\n",
    "https://blog.csdn.net/zhengzhenxian/article/details/79052185?utm_medium=distribute.pc_relevant.none-task-blog-BlogCommendFromMachineLearnPai2-2.nonecase&depth_1-utm_source=distribute.pc_relevant.none-task-blog-BlogCommendFromMachineLearnPai2-2.nonecase"
   ]
  },
  {
   "cell_type": "code",
   "execution_count": 14,
   "metadata": {},
   "outputs": [],
   "source": [
    "#---------------------------从文本中构建词条向量-------------------------\n",
    "#1 要从文本中获取特征，需要先拆分文本，这里特征是指来自文本的词条，每个词\n",
    "#条是字符的任意组合。词条可以理解为单词，当然也可以是非单词词条，比如URL\n",
    "#IP地址或者其他任意字符串 \n",
    "#  将文本拆分成词条向量后，将每一个文本片段表示为一个词条向量，值为1表示出现\n",
    "#在文档中，值为0表示词条未出现\n",
    " \n",
    " \n",
    "#导入numpy\n",
    "from numpy import *\n",
    " \n",
    "def loadDataSet():\n",
    "#词条切分后的文档集合，列表每一行代表一个文档\n",
    "    postingList=[['my','dog','has','flea',\\\n",
    "                  'problems','help','please'],\n",
    "                 ['maybe','not','take','him',\\\n",
    "                  'to','dog','park','stupid'],\n",
    "                 ['my','dalmation','is','so','cute',\n",
    "                  'I','love','him'],\n",
    "                 ['stop','posting','stupid','worthless','garbage'],\n",
    "                 ['my','licks','ate','my','steak','how',\\\n",
    "                  'to','stop','him'],\n",
    "                 ['quit','buying','worthless','dog','food','stupid']]\n",
    "    #由人工标注的每篇文档的类标签\n",
    "    classVec=[0,1,0,1,0,1]\n",
    "    return postingList,classVec\n",
    " \n",
    "#统计所有文档中出现的词条列表    \n",
    "def createVocabList(dataSet):\n",
    "    #新建一个存放词条的集合\n",
    "    vocabSet=set([])\n",
    "    #遍历文档集合中的每一篇文档\n",
    "    for document in dataSet:\n",
    "        #将文档列表转为集合的形式，保证每个词条的唯一性\n",
    "        #然后与vocabSet取并集，向vocabSet中添加没有出现\n",
    "        #的新的词条        \n",
    "        vocabSet=vocabSet|set(document)\n",
    "    #再将集合转化为列表，便于接下来的处理\n",
    "    return list(vocabSet)\n",
    " \n",
    "#根据词条列表中的词条是否在文档中出现(出现1，未出现0)，将文档转化为词条向量    \n",
    "def setOfWords2Vec(vocabSet,inputSet):\n",
    "    #新建一个长度为vocabSet的列表，并且各维度元素初始化为0\n",
    "    returnVec=[0]*len(vocabSet)\n",
    "    #遍历文档中的每一个词条\n",
    "    for word in inputSet:\n",
    "        #如果词条在词条列表中出现\n",
    "        if word in vocabSet:\n",
    "            #通过列表获取当前word的索引(下标)\n",
    "            #将词条向量中的对应下标的项由0改为1\n",
    "            returnVec[vocabSet.index(word)]=1\n",
    "        else: print('the word: %s is not in my vocabulary! '%'word')\n",
    "    #返回inputet转化后的词条向量\n",
    "    return returnVec\n",
    "#训练算法，从词向量计算概率p(w0|ci)...及p(ci)\n",
    "#@trainMatrix：由每篇文档的词条向量组成的文档矩阵\n",
    "#@trainCategory:每篇文档的类标签组成的向量\n",
    "def trainNB0(trainMatrix,trainCategory):\n",
    "    #获取文档矩阵中文档的数目\n",
    "    numTrainDocs=len(trainMatrix)\n",
    "    #获取词条向量的长度\n",
    "    numWords=len(trainMatrix[0])\n",
    "    #所有文档中属于类1所占的比例p(c=1)\n",
    "    pAbusive=sum(trainCategory)/float(numTrainDocs)\n",
    "    #创建一个长度为词条向量等长的列表\n",
    "    p0Num=zeros(numWords);p1Num=zeros(numWords)\n",
    "    p0Denom=0.0;p1Denom=0.0\n",
    "    #遍历每一篇文档的词条向量\n",
    "    for i in range(numTrainDocs):\n",
    "        #如果该词条向量对应的标签为1\n",
    "        if trainCategory[i]==1:\n",
    "            #统计所有类别为1的词条向量中各个词条出现的次数\n",
    "            p1Num+=trainMatrix[i]\n",
    "            #统计类别为1的词条向量中出现的所有词条的总数\n",
    "            #即统计类1所有文档中出现单词的数目\n",
    "            p1Denom+=sum(trainMatrix[i])\n",
    "        else:\n",
    "            #统计所有类别为0的词条向量中各个词条出现的次数\n",
    "            p0Num+=trainMatrix[i]\n",
    "            #统计类别为0的词条向量中出现的所有词条的总数\n",
    "            #即统计类0所有文档中出现单词的数目\n",
    "            p0Denom+=sum(trainMatrix[i])\n",
    "    #利用NumPy数组计算p(wi|c1)\n",
    "    p1Vect=p1Num/p1Denom  #为避免下溢出问题，后面会改为log()\n",
    "    #利用NumPy数组计算p(wi|c0)\n",
    "    p0Vect=p0Num/p0Denom  #为避免下溢出问题，后面会改为log()\n",
    "    return p0Vect,p1Vect,pAbusive\n",
    "#朴素贝叶斯分类函数\n",
    "#@vec2Classify:待测试分类的词条向量\n",
    "#@p0Vec:类别0所有文档中各个词条出现的频数p(wi|c0)\n",
    "#@p0Vec:类别1所有文档中各个词条出现的频数p(wi|c1)\n",
    "#@pClass1:类别为1的文档占文档总数比例\n",
    "def classifyNB(vec2Classify,p0Vec,p1Vec,pClass1):\n",
    "    #根据朴素贝叶斯分类函数分别计算待分类文档属于类1和类0的概率\n",
    "    p1=sum(vec2Classify*p1Vec)+log(pClass1)\n",
    "    p0=sum(vec2Classify*p0Vec)+log(1.0-pClass1)\n",
    "    if p1>p0:\n",
    "        return 1\n",
    "    else:\n",
    "        return 0\n",
    " \n",
    "#分类测试整体函数        \n",
    "def testingNB():\n",
    "    #由数据集获取文档矩阵和类标签向量\n",
    "    listOPosts,listClasses=loadDataSet()\n",
    "    #统计所有文档中出现的词条，存入词条列表\n",
    "    myVocabList=createVocabList(listOPosts)\n",
    "    #创建新的列表\n",
    "    trainMat=[]\n",
    "    for postinDoc in listOPosts:\n",
    "        #将每篇文档利用words2Vec函数转为词条向量，存入文档矩阵中\n",
    "        trainMat.append(setOfWords2Vec(myVocabList,postinDoc))\\\n",
    "    #将文档矩阵和类标签向量转为NumPy的数组形式，方便接下来的概率计算\n",
    "    #调用训练函数，得到相应概率值\n",
    "    p0V,p1V,pAb=trainNB0(array(trainMat),array(listClasses))\n",
    "    #测试文档\n",
    "    testEntry=['love','my','dalmation']\n",
    "    #将测试文档转为词条向量，并转为NumPy数组的形式\n",
    "    thisDoc=array(setOfWords2Vec(myVocabList,testEntry))\n",
    "    #利用贝叶斯分类函数对测试文档进行分类并打印\n",
    "    print(testEntry,'classified as:',classifyNB(thisDoc,p0V,p1V,pAb))\n",
    "    #第二个测试文档\n",
    "    testEntry1=['stupid','garbage']\n",
    "    #同样转为词条向量，并转为NumPy数组的形式\n",
    "    thisDoc1=array(setOfWords2Vec(myVocabList,testEntry1))\n",
    "    print(testEntry1,'classified as:',classifyNB(thisDoc1,p0V,p1V,pAb))\n",
    " \n",
    "def bagOfWords2VecMN(vocabList,inputSet):\n",
    "    #词袋向量\n",
    "    returnVec=[0]*len(vocabList)\n",
    "    for word in inputSet:\n",
    "        if word in vocabList:\n",
    "            #某词每出现一次，次数加1\n",
    "            returnVec[vocabList.index(word)]+=1\n",
    "    return returnVec"
   ]
  },
  {
   "cell_type": "code",
   "execution_count": 15,
   "metadata": {
    "tags": []
   },
   "outputs": [
    {
     "name": "stdout",
     "output_type": "stream",
     "text": [
      "['love', 'my', 'dalmation'] classified as: 0\n",
      "['stupid', 'garbage'] classified as: 1\n"
     ]
    }
   ],
   "source": [
    "testingNB()"
   ]
  },
  {
   "cell_type": "code",
   "execution_count": 16,
   "metadata": {},
   "outputs": [
    {
     "data": {
      "text/plain": [
       "'size(())'"
      ]
     },
     "execution_count": 16,
     "metadata": {},
     "output_type": "execute_result"
    }
   ],
   "source": [
    "\"size(())\""
   ]
  },
  {
   "cell_type": "code",
   "execution_count": null,
   "metadata": {},
   "outputs": [],
   "source": []
  }
 ],
 "metadata": {
  "kernelspec": {
   "display_name": "Python 3",
   "language": "python",
   "name": "python3"
  },
  "language_info": {
   "codemirror_mode": {
    "name": "ipython",
    "version": 3
   },
   "file_extension": ".py",
   "mimetype": "text/x-python",
   "name": "python",
   "nbconvert_exporter": "python",
   "pygments_lexer": "ipython3",
   "version": "3.8.5"
  }
 },
 "nbformat": 4,
 "nbformat_minor": 4
}
