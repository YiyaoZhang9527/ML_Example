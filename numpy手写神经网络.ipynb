{
 "cells": [
  {
   "cell_type": "code",
   "execution_count": 2,
   "id": "5d023c6a",
   "metadata": {},
   "outputs": [
    {
     "ename": "NameError",
     "evalue": "name 'analysis' is not defined",
     "output_type": "error",
     "traceback": [
      "\u001b[0;31m---------------------------------------------------------------------------\u001b[0m",
      "\u001b[0;31mNameError\u001b[0m                                 Traceback (most recent call last)",
      "Input \u001b[0;32mIn [2]\u001b[0m, in \u001b[0;36m<cell line: 89>\u001b[0;34m()\u001b[0m\n\u001b[1;32m     84\u001b[0m     \u001b[38;5;28mprint\u001b[39m(pd\u001b[38;5;241m.\u001b[39mDataFrame({\u001b[38;5;124m\"\u001b[39m\u001b[38;5;124mtrainX.shape\u001b[39m\u001b[38;5;124m\"\u001b[39m:trainX\u001b[38;5;241m.\u001b[39mshape\n\u001b[1;32m     85\u001b[0m               ,\u001b[38;5;124m\"\u001b[39m\u001b[38;5;124mtrainY.shape\u001b[39m\u001b[38;5;124m\"\u001b[39m:trainY\u001b[38;5;241m.\u001b[39mshape\n\u001b[1;32m     86\u001b[0m               ,\u001b[38;5;124m\"\u001b[39m\u001b[38;5;124mtestX.shape\u001b[39m\u001b[38;5;124m\"\u001b[39m:testX\u001b[38;5;241m.\u001b[39mshape\n\u001b[1;32m     87\u001b[0m               ,\u001b[38;5;124m\"\u001b[39m\u001b[38;5;124mtestY.shape\u001b[39m\u001b[38;5;124m\"\u001b[39m:testY\u001b[38;5;241m.\u001b[39mshape}))\n\u001b[1;32m     88\u001b[0m     \u001b[38;5;28;01mreturn\u001b[39;00m trainX,trainY,testX,testY,Y1\n\u001b[0;32m---> 89\u001b[0m Xnetwork,trainYnetwork,testXnetwork,testYnetwork,Y1 \u001b[38;5;241m=\u001b[39m \u001b[43msplitDataFroNetWork\u001b[49m\u001b[43m(\u001b[49m\u001b[38;5;241;43m1000\u001b[39;49m\u001b[43m)\u001b[49m\n\u001b[1;32m     90\u001b[0m trainXnetwork,score \u001b[38;5;241m=\u001b[39m standarize(X)\n\u001b[1;32m     92\u001b[0m \u001b[38;5;28;01mdef\u001b[39;00m \u001b[38;5;21mpredict4layer\u001b[39m(trainX,trainY,maxloop,NewX,neurons\u001b[38;5;241m=\u001b[39m\u001b[38;5;241m60\u001b[39m):\n",
      "Input \u001b[0;32mIn [2]\u001b[0m, in \u001b[0;36msplitDataFroNetWork\u001b[0;34m(kpoint)\u001b[0m\n\u001b[1;32m     79\u001b[0m \u001b[38;5;28;01mdef\u001b[39;00m \u001b[38;5;21msplitDataFroNetWork\u001b[39m(kpoint):\n\u001b[0;32m---> 80\u001b[0m     X1\u001b[38;5;241m=\u001b[39mnp\u001b[38;5;241m.\u001b[39marray(\u001b[43manalysis\u001b[49m)\u001b[38;5;241m.\u001b[39mastype(\u001b[38;5;28mfloat\u001b[39m)\n\u001b[1;32m     81\u001b[0m     Y1 \u001b[38;5;241m=\u001b[39m (np\u001b[38;5;241m.\u001b[39marray(dummy\u001b[38;5;241m.\u001b[39m工资低位)\u001b[38;5;241m.\u001b[39mastype(\u001b[38;5;28mint\u001b[39m))[:,\u001b[38;5;28;01mNone\u001b[39;00m]\n\u001b[1;32m     82\u001b[0m     trainX , trainY \u001b[38;5;241m=\u001b[39m X1[:kpoint] , Y1[:kpoint]\n",
      "\u001b[0;31mNameError\u001b[0m: name 'analysis' is not defined"
     ]
    }
   ],
   "source": [
    "import numpy as np\n",
    "\n",
    "def sigmoid4layer(z):\n",
    "    return 1/(1+np.exp(-z))\n",
    "\n",
    "def forward4layer(inputX,weighted0,weighted1,weighted2,weighted3): \n",
    "    \n",
    "    layer1 = sigmoid4layer(np.dot(inputX,weighted0))\n",
    "    layer2 = sigmoid4layer(np.dot(layer1,weighted1))\n",
    "    layer3 = sigmoid4layer(np.dot(layer2,weighted2)) #前向传播加一个就加一个l值\n",
    "    layer4 = sigmoid4layer(np.dot(layer3,weighted3))\n",
    "    \n",
    "    return layer1,layer2,layer3,layer4\n",
    "\n",
    "def back4layer(layer1,layer2,layer3,layer4,y,weighted1,weighted2,weighted3):\n",
    "    \n",
    "    error = y-layer4\n",
    "    slope = layer4 * ( 1 - layer4 )\n",
    "    layer3_delta = error*slope\n",
    "    \n",
    "    layer2_error = layer3_delta.dot(weighted3.T)\n",
    "    layer2_slope = layer3 * ( 1 - layer3 )\n",
    "    layer2_delta = layer2_slope * layer2_error\n",
    "    \n",
    "    layer1_error = layer2_delta.dot(weighted2.T)\n",
    "    layer1_slope = layer2 * ( 1 - layer2 )\n",
    "    layer1_delta = layer1_slope * layer1_error\n",
    "    \n",
    "    layer0_slope = layer1 * ( 1 - layer1 )\n",
    "    layer0_error = layer1_delta.dot(weighted1.T)\n",
    "    layer0_delta = layer0_slope * layer0_error \n",
    "    \n",
    "    return layer0_delta , layer1_delta ,layer2_delta ,layer3_delta\n",
    "\n",
    "def ReLU4layer(a,Inactive):\n",
    "    return (a.max() >= Inactive) and  a.max() or 0\n",
    "\n",
    "def netWork4layer(X,y,maxloop,newX,neurons):\n",
    "    m,n = X.shape\n",
    "    np.random.seed(1)\n",
    "    weighted0 = np.random.random((n,neurons)) * 2 -1 #三项矩阵乘积m，n对应\n",
    "    weighted1 = np.random.random((neurons,1)) * 2 -1\n",
    "    weighted2 = np.random.random((1,neurons)) * 2 -1\n",
    "    weighted3 = np.random.random((neurons,1)) * 2 -1\n",
    "    for it in range(maxloop):\n",
    "        layer0 = X\n",
    "        \n",
    "        layer1,layer2,layer3,layer4 = forward4layer(layer0,weighted0,weighted1,weighted2,weighted3)\n",
    "        \n",
    "        l0delta,l1delta,l2delta,l3delta = back4layer(layer1,layer2,layer3,layer4,y,weighted1,weighted2,weighted3)#delta增量\n",
    "        \n",
    "        weighted3 = weighted3 +  np.dot(layer3.T,l3delta)\n",
    "        weighted2 = weighted2 +  np.dot(layer2.T,l2delta)\n",
    "        weighted1 = weighted1 +  np.dot(layer1.T,l1delta)\n",
    "        weighted0 = weighted0 +  np.dot(layer0.T,l0delta)\n",
    "        \n",
    "    theta1,theta2,theta3,predictvalue = forward4layer(newX,weighted0,weighted1,weighted2,weighted3)\n",
    "    return predictvalue,theta1,theta2,theta3,weighted0,weighted1,weighted2,weighted3\n",
    "\n",
    "\n",
    "def standarize(X):\n",
    "    try:\n",
    "        m ,n = X.shape\n",
    "        values = {}\n",
    "        for j in range(n):\n",
    "            features = X[:,j]\n",
    "            meanVal = features.mean(axis=0)\n",
    "            stdVal = features.std(axis=0)\n",
    "            values[j] = [meanVal, stdVal]\n",
    "            if stdVal != 0:\n",
    "                X[:,j] = (features - meanVal) / stdVal\n",
    "            else:\n",
    "                X[:,j] = 0\n",
    "        return X, values\n",
    "    except Exception:\n",
    "        return None\n",
    "\n",
    "    \n",
    "def splitDataFroNetWork(kpoint):\n",
    "    X1=np.array(analysis).astype(float)\n",
    "    Y1 = (np.array(dummy.工资低位).astype(int))[:,None]\n",
    "    trainX , trainY = X1[:kpoint] , Y1[:kpoint]\n",
    "    testX , testY = X1[kpoint:] , Y1[kpoint:]\n",
    "    print(pd.DataFrame({\"trainX.shape\":trainX.shape\n",
    "              ,\"trainY.shape\":trainY.shape\n",
    "              ,\"testX.shape\":testX.shape\n",
    "              ,\"testY.shape\":testY.shape}))\n",
    "    return trainX,trainY,testX,testY,Y1\n",
    "Xnetwork,trainYnetwork,testXnetwork,testYnetwork,Y1 = splitDataFroNetWork(1000)\n",
    "trainXnetwork,score = standarize(X)\n",
    "\n",
    "def predict4layer(trainX,trainY,maxloop,NewX,neurons=60):\n",
    "    predictvalue,theta1,theta2,theta3,weighted0,weighted1,weighted2,weighted3 = netWork4layer(trainX,trainY,maxloop,NewX,neurons)\n",
    "    return predictvalue,weighted0,weighted1,weighted2,weighted3\n",
    "\n",
    "\n"
   ]
  },
  {
   "cell_type": "code",
   "execution_count": 54,
   "id": "ea694c66",
   "metadata": {},
   "outputs": [
    {
     "data": {
      "text/plain": [
       "(10, 30)"
      ]
     },
     "execution_count": 54,
     "metadata": {},
     "output_type": "execute_result"
    }
   ],
   "source": [
    "x = np.random.random((10,30))\n",
    "m,n = x.shape\n",
    "neurons = 8\n",
    "m,n"
   ]
  },
  {
   "cell_type": "code",
   "execution_count": 49,
   "id": "03df9006",
   "metadata": {},
   "outputs": [
    {
     "data": {
      "text/plain": [
       "(30, 8)"
      ]
     },
     "execution_count": 49,
     "metadata": {},
     "output_type": "execute_result"
    }
   ],
   "source": [
    "weights0 = np.random.random((n,neurons))\n",
    "weights0.shape"
   ]
  },
  {
   "cell_type": "code",
   "execution_count": 53,
   "id": "104cb7af",
   "metadata": {},
   "outputs": [
    {
     "data": {
      "text/plain": [
       "(10, 8)"
      ]
     },
     "execution_count": 53,
     "metadata": {},
     "output_type": "execute_result"
    }
   ],
   "source": [
    "layer1 = np.dot(x,weights0)\n",
    "layer1.shape"
   ]
  },
  {
   "cell_type": "code",
   "execution_count": 55,
   "id": "c3960267",
   "metadata": {},
   "outputs": [
    {
     "data": {
      "text/plain": [
       "(8, 1)"
      ]
     },
     "execution_count": 55,
     "metadata": {},
     "output_type": "execute_result"
    }
   ],
   "source": [
    "weights1 = np.random.random((neurons,1))\n",
    "weights1.shape"
   ]
  },
  {
   "cell_type": "code",
   "execution_count": 56,
   "id": "db5bfbb0",
   "metadata": {},
   "outputs": [
    {
     "data": {
      "text/plain": [
       "(10, 1)"
      ]
     },
     "execution_count": 56,
     "metadata": {},
     "output_type": "execute_result"
    }
   ],
   "source": [
    "np.dot(layer1,weights1).shape"
   ]
  },
  {
   "cell_type": "code",
   "execution_count": null,
   "id": "bb0cee26",
   "metadata": {},
   "outputs": [],
   "source": []
  }
 ],
 "metadata": {
  "kernelspec": {
   "display_name": "Python 3 (ipykernel)",
   "language": "python",
   "name": "python3"
  },
  "language_info": {
   "codemirror_mode": {
    "name": "ipython",
    "version": 3
   },
   "file_extension": ".py",
   "mimetype": "text/x-python",
   "name": "python",
   "nbconvert_exporter": "python",
   "pygments_lexer": "ipython3",
   "version": "3.8.10"
  }
 },
 "nbformat": 4,
 "nbformat_minor": 5
}
