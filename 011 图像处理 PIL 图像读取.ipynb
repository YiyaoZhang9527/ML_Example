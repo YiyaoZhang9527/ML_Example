{
 "cells": [
  {
   "cell_type": "code",
   "execution_count": 1,
   "metadata": {},
   "outputs": [
    {
     "output_type": "execute_result",
     "data": {
      "text/plain": "matrix([[162, 161, 161, ..., 170, 154, 129],\n        [161, 161, 161, ..., 173, 155, 125],\n        [161, 161, 162, ..., 170, 155, 128],\n        ...,\n        [ 43,  42,  51, ..., 103, 101,  98],\n        [ 40,  41,  55, ..., 102, 104, 106],\n        [ 41,  43,  57, ..., 101, 106, 109]])"
     },
     "metadata": {},
     "execution_count": 1
    }
   ],
   "source": [
    "from PIL import Image\n",
    "import numpy as np\n",
    "# import scipy\n",
    "\n",
    "def loadImage():\n",
    "    # 读取图片\n",
    "    im = Image.open(\"测试图片.jpg\")\n",
    "    # 显示图片\n",
    "    im.show() \n",
    "    im = im.convert(\"L\") \n",
    "    data = im.getdata()\n",
    "    data = np.matrix(data)\n",
    "    # 变换成512*512\n",
    "    data = np.reshape(data,(512,512))\n",
    "    #new_im = Image.fromarray(data)\n",
    "    #new_im.show()\n",
    "    return data\n",
    "\n",
    "loadImage()"
   ]
  },
  {
   "cell_type": "code",
   "execution_count": null,
   "metadata": {},
   "outputs": [],
   "source": []
  }
 ],
 "metadata": {
  "language_info": {
   "codemirror_mode": {
    "name": "ipython",
    "version": 3
   },
   "file_extension": ".py",
   "mimetype": "text/x-python",
   "name": "python",
   "nbconvert_exporter": "python",
   "pygments_lexer": "ipython3",
   "version": "3.7.6-final"
  },
  "orig_nbformat": 2,
  "kernelspec": {
   "name": "pycharm-66c53067",
   "display_name": "PyCharm (InferenceSystem)"
  }
 },
 "nbformat": 4,
 "nbformat_minor": 2
}