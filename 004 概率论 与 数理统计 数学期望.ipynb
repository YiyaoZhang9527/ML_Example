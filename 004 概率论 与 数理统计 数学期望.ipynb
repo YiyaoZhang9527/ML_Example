{
 "metadata": {
  "language_info": {
   "codemirror_mode": {
    "name": "ipython",
    "version": 3
   },
   "file_extension": ".py",
   "mimetype": "text/x-python",
   "name": "python",
   "nbconvert_exporter": "python",
   "pygments_lexer": "ipython3",
   "version": "3.7.6-final"
  },
  "orig_nbformat": 2,
  "kernelspec": {
   "name": "pycharm-66c53067",
   "display_name": "PyCharm (InferenceSystem)"
  }
 },
 "nbformat": 4,
 "nbformat_minor": 2,
 "cells": [
  {
   "cell_type": "code",
   "execution_count": 1,
   "metadata": {},
   "outputs": [],
   "source": [
    "import numpy as np\n",
    "import torch"
   ]
  },
  {
   "cell_type": "code",
   "execution_count": 2,
   "metadata": {},
   "outputs": [],
   "source": [
    "data = np.loadtxt(\"/Users/manmanzhang/Library/Mobile Documents/com~apple~CloudDocs/MyProject/InferenceSystem/src/I5_algorithm/武汉病毒基因组序列数据/MT259251.genome.fasta\",delimiter='\\t',dtype=str)"
   ]
  },
  {
   "cell_type": "markdown",
   "metadata": {},
   "source": [
    "#分割行"
   ]
  },
  {
   "cell_type": "code",
   "execution_count": 3,
   "metadata": {},
   "outputs": [
    {
     "output_type": "execute_result",
     "data": {
      "text/plain": "array(['C', 'C', 'T', 'T', 'T', 'A', 'A', 'C', 'T', 'T', 'T', 'C', 'G',\n       'A', 'T', 'C', 'T', 'C', 'T', 'T', 'G', 'T', 'A', 'G', 'A', 'T',\n       'C', 'T', 'G', 'T', 'T', 'C', 'T', 'C', 'T', 'A', 'A', 'A', 'C',\n       'G', 'A', 'A', 'C', 'T', 'T', 'T', 'A', 'A', 'A', 'A', 'T', 'C',\n       'T', 'G', 'T', 'G', 'T', 'G', 'G', 'C'], dtype='<U1')"
     },
     "metadata": {},
     "execution_count": 3
    }
   ],
   "source": [
    "def line(n):\n",
    "    return np.array(list(data[n]))\n",
    "line(1)"
   ]
  },
  {
   "cell_type": "markdown",
   "metadata": {},
   "source": [
    "# 计算概率"
   ]
  },
  {
   "cell_type": "code",
   "execution_count": 4,
   "metadata": {},
   "outputs": [
    {
     "output_type": "execute_result",
     "data": {
      "text/plain": "{'A': 0.23333333333333334, 'C': 0.21666666666666667, 'G': 0.15, 'T': 0.4}"
     },
     "metadata": {},
     "execution_count": 4
    }
   ],
   "source": [
    "def prob(SET):\n",
    "    m = SET.size\n",
    "    kind,count = np.unique(SET,return_counts=True)\n",
    "    return dict(zip(kind,count/m))\n",
    "prob(line(1))"
   ]
  },
  {
   "cell_type": "markdown",
   "metadata": {},
   "source": [
    "# 计算数学期望"
   ]
  },
  {
   "cell_type": "code",
   "execution_count": 5,
   "metadata": {},
   "outputs": [],
   "source": [
    "def ME(prob_dict,scores):\n",
    "    return { key:score*prob_ for key,prob_,score in zip(prob_dict.keys(),prob_dict.values(),scores) }"
   ]
  },
  {
   "cell_type": "markdown",
   "metadata": {},
   "source": [
    "# 测试代码"
   ]
  },
  {
   "cell_type": "code",
   "execution_count": 6,
   "metadata": {},
   "outputs": [
    {
     "output_type": "execute_result",
     "data": {
      "text/plain": "{'A': -0.16104288379275694,\n 'C': -0.020040996561319642,\n 'G': -0.01224564711776033,\n 'T': -0.5714005606142903}"
     },
     "metadata": {},
     "execution_count": 6
    }
   ],
   "source": [
    "P = prob(line(1))\n",
    "Score = np.random.randn(4)\n",
    "ME(P,Score)"
   ]
  },
  {
   "cell_type": "markdown",
   "metadata": {},
   "source": [
    "# 单行数学期望最大"
   ]
  },
  {
   "cell_type": "code",
   "execution_count": 7,
   "metadata": {},
   "outputs": [
    {
     "output_type": "execute_result",
     "data": {
      "text/plain": "('G', -0.01224564711776033)"
     },
     "metadata": {},
     "execution_count": 7
    }
   ],
   "source": [
    "sorted(ME(P,Score).items(), key=lambda x: x[1], reverse=True)[0]"
   ]
  },
  {
   "cell_type": "code",
   "execution_count": 63,
   "metadata": {},
   "outputs": [
    {
     "output_type": "execute_result",
     "data": {
      "text/plain": "{'A': 0.0, 'T': 0.0, 'C': 0.0, 'G': 0.0, 'M': 0.0}"
     },
     "metadata": {},
     "execution_count": 63
    }
   ],
   "source": []
  },
  {
   "cell_type": "code",
   "execution_count": 87,
   "metadata": {},
   "outputs": [],
   "source": [
    "def EM(data):\n",
    "    src = dict(enumerate(set(\"\".join(list(data)))))\n",
    "    S = dict(zip(src.values(),np.zeros(len(src))))\n",
    "    A,C,G,T = 0,0,0,0\n",
    "    for i in range(data.size):\n",
    "        P = ME(prob(line(i)),Score)\n",
    "        for key,value in P.items():\n",
    "            if key == \"A\":\n",
    "                S[\"A\"] += value\n",
    "            elif key == \"C\":\n",
    "                S[\"C\"] += value\n",
    "            elif key == \"G\":\n",
    "                S[\"G\"] += value\n",
    "            elif key == \"T\":\n",
    "                S[\"T\"] += value\n",
    "    compare = sorted(S.items(), key=lambda x: x[1], reverse=True)\n",
    "    return list(filter(lambda x : x[1] != 0,compare))[0],compare"
   ]
  },
  {
   "cell_type": "code",
   "execution_count": 88,
   "metadata": {
    "tags": []
   },
   "outputs": [
    {
     "output_type": "execute_result",
     "data": {
      "text/plain": "(('G', -7.971916273661977),\n [('M', 0.0),\n  ('G', -7.971916273661977),\n  ('C', -8.446509243036184),\n  ('A', -102.92940886982767),\n  ('T', -228.27452396540866)])"
     },
     "metadata": {},
     "execution_count": 88
    }
   ],
   "source": [
    "EM(data[1:])"
   ]
  },
  {
   "cell_type": "code",
   "execution_count": 51,
   "metadata": {},
   "outputs": [
    {
     "output_type": "execute_result",
     "data": {
      "text/plain": "{'A': 45, 'B': 45}"
     },
     "metadata": {},
     "execution_count": 51
    }
   ],
   "source": [
    "S = {\"A\":0,\"B\":0}\n",
    "for i in range(10):\n",
    "    S[\"A\"]+= i\n",
    "    S[\"B\"]+= i\n",
    "S"
   ]
  },
  {
   "cell_type": "code",
   "execution_count": null,
   "metadata": {},
   "outputs": [],
   "source": []
  }
 ]
}