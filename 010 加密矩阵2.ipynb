{
 "cells": [
  {
   "cell_type": "code",
   "execution_count": 34,
   "metadata": {},
   "outputs": [],
   "source": [
    "import numpy as np\n",
    "import datetime"
   ]
  },
  {
   "cell_type": "code",
   "execution_count": null,
   "metadata": {},
   "outputs": [],
   "source": []
  },
  {
   "cell_type": "code",
   "execution_count": 35,
   "metadata": {},
   "outputs": [],
   "source": [
    "def my_encode_mat(strings):\n",
    "    date = datetime.datetime.today()\n",
    "    w = np.array(date.__repr__().replace(' ','').split(',')[1:-1]).astype(int).max()\n",
    "    randomkey = [np.random.randint(0,10)+w for i in range(len(strings))]\n",
    "    matmsm = np.array([[ord(s),i,(len(strings)%randomkey[0])] for s,i     in zip(strings,randomkey)])\n",
    "    m,n = matmsm.shape\n",
    "    theta = np.ones((n))\n",
    "    stringsarray = np.log(np.dot(matmsm,theta))\n",
    "    key = np.c_[stringsarray,randomkey]\n",
    "    cipher = ''.join([''.join(list(map(lambda x : hex(ord(x))[2:] , '{}{}{}{}'.format(i.__repr__(),'-',format(date).split(' ')[0],'-'))))for i in stringsarray])\n",
    "    keyList = []\n",
    "    for i in key:\n",
    "        keyList+=list(i)\n",
    "    return keyList,cipher"
   ]
  },
  {
   "cell_type": "code",
   "execution_count": 36,
   "metadata": {},
   "outputs": [],
   "source": [
    "def my_decode_mat(keylist,cipher):\n",
    "    matkey = np.array([[keyList[i],keyList[i+1]] for i in range(len(keyList)) if i % 2 != 1])\n",
    "    stringsarray ,randomkey = matkey[:,0],matkey[:,1]\n",
    "    src = \"\".join([chr(int('{}{}'.format('0x',cipher[i:i+2]),16)) for i in range(0,len(cipher),2)]).split('-')\n",
    "    y = np.array([src[i] for i in range(len(src)) if i % 4 == 0][:-1]).astype(float)\n",
    "    encodedate = ''.join([\"{}{}\".format('-',j) for j in [src[i] for i in range(len(src)) if i % 4 != 0][:3]])[1:]\n",
    "    n3 = [len(randomkey)%randomkey[0]]*len(randomkey)\n",
    "    n2 = randomkey\n",
    "    return ''.join([chr(int(round(i))) for i in np.exp(y)-n2-n3]),encodedate"
   ]
  },
  {
   "cell_type": "code",
   "execution_count": 37,
   "metadata": {},
   "outputs": [
    {
     "output_type": "execute_result",
     "data": {
      "text/plain": "array([[ 4.87519732, 62.        ],\n       [ 5.22035583, 62.        ],\n       [ 5.12396398, 58.        ],\n       [ 5.21493576, 62.        ],\n       [ 5.19849703, 55.        ],\n       [ 5.13579844, 60.        ],\n       [ 5.22035583, 61.        ],\n       [ 5.22035583, 60.        ],\n       [ 4.82831374, 54.        ]])"
     },
     "metadata": {},
     "execution_count": 37
    }
   ],
   "source": [
    "key,cipher = my_encode_mat(\"<request>\")\n",
    "keyList = key\n",
    "matkey = np.array([[keyList[i],keyList[i+1]] for i in range(len(keyList)) if i % 2 != 1])\n",
    "matkey"
   ]
  },
  {
   "cell_type": "code",
   "execution_count": 38,
   "metadata": {},
   "outputs": [],
   "source": [
    "decode ,encodedate = my_decode_mat(key,cipher)"
   ]
  },
  {
   "cell_type": "code",
   "execution_count": 39,
   "metadata": {},
   "outputs": [
    {
     "output_type": "execute_result",
     "data": {
      "text/plain": "'<request>'"
     },
     "metadata": {},
     "execution_count": 39
    }
   ],
   "source": [
    "decode"
   ]
  },
  {
   "cell_type": "code",
   "execution_count": 40,
   "metadata": {},
   "outputs": [
    {
     "output_type": "execute_result",
     "data": {
      "text/plain": "'342e3837353139373332333230313135312d323032302d30382d32342d352e3232303335353832353037383332342d323032302d30382d32342d352e3132333936333937393430333235392d323032302d30382d32342d352e3231343933353735373630383938362d323032302d30382d32342d352e3139383439373033313236353832362d323032302d30382d32342d352e3133353739383433373035303236322d323032302d30382d32342d352e3232303335353832353037383332342d323032302d30382d32342d352e3232303335353832353037383332342d323032302d30382d32342d342e383238333133373337333032333031352d323032302d30382d32342d'"
     },
     "metadata": {},
     "execution_count": 40
    }
   ],
   "source": [
    "cipher"
   ]
  },
  {
   "cell_type": "code",
   "execution_count": 41,
   "metadata": {},
   "outputs": [
    {
     "output_type": "execute_result",
     "data": {
      "text/plain": "[4.875197323201151,\n 62.0,\n 5.220355825078324,\n 62.0,\n 5.123963979403259,\n 58.0,\n 5.214935757608986,\n 62.0,\n 5.198497031265826,\n 55.0,\n 5.135798437050262,\n 60.0,\n 5.220355825078324,\n 61.0,\n 5.220355825078324,\n 60.0,\n 4.8283137373023015,\n 54.0]"
     },
     "metadata": {},
     "execution_count": 41
    }
   ],
   "source": [
    "keyList"
   ]
  },
  {
   "cell_type": "code",
   "execution_count": 42,
   "metadata": {},
   "outputs": [
    {
     "output_type": "execute_result",
     "data": {
      "text/plain": "{'e': 9,\n '6': 6,\n '1': 11,\n '5': 25,\n '2': 95,\n '9': 10,\n '0': 41,\n '3': 237,\n '8': 23,\n '4': 18,\n 'd': 36,\n '7': 13}"
     },
     "metadata": {},
     "execution_count": 42
    }
   ],
   "source": [
    "frequency = {i:cipher.count(i) for i in set(cipher)}\n",
    "frequency"
   ]
  },
  {
   "cell_type": "code",
   "execution_count": 44,
   "metadata": {},
   "outputs": [
    {
     "output_type": "execute_result",
     "data": {
      "text/plain": "'2020-08-24'"
     },
     "metadata": {},
     "execution_count": 44
    }
   ],
   "source": [
    "encodedate"
   ]
  },
  {
   "cell_type": "code",
   "execution_count": null,
   "metadata": {},
   "outputs": [],
   "source": []
  }
 ],
 "metadata": {
  "language_info": {
   "codemirror_mode": {
    "name": "ipython",
    "version": 3
   },
   "file_extension": ".py",
   "mimetype": "text/x-python",
   "name": "python",
   "nbconvert_exporter": "python",
   "pygments_lexer": "ipython3",
   "version": "3.8.5-final"
  },
  "orig_nbformat": 2,
  "kernelspec": {
   "name": "python38564bithylangtorch38conda3e0562e6793640fcae46da99b7f6e472",
   "display_name": "Python 3.8.5 64-bit ('hylangtorch38': conda)"
  }
 },
 "nbformat": 4,
 "nbformat_minor": 2
}