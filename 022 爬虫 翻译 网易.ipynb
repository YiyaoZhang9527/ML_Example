{
 "metadata": {
  "language_info": {
   "codemirror_mode": {
    "name": "ipython",
    "version": 3
   },
   "file_extension": ".py",
   "mimetype": "text/x-python",
   "name": "python",
   "nbconvert_exporter": "python",
   "pygments_lexer": "ipython3",
   "version": 3
  },
  "orig_nbformat": 2
 },
 "nbformat": 4,
 "nbformat_minor": 2,
 "cells": [
  {
   "cell_type": "code",
   "execution_count": null,
   "metadata": {},
   "outputs": [],
   "source": [
    "#coding=utf-8\n",
    "import json\n",
    "import requests\n",
    "\n",
    "def translate(word):\n",
    "    url = 'http://fanyi.youdao.com/translate?smartresult=dict&smartresult=rule&smartresult=ugc&sessionFrom=null'\n",
    "    key = {\n",
    "        'type': \"AUTO\",\n",
    "        'i': word,\n",
    "        \"doctype\": \"json\",\n",
    "        \"version\": \"2.1\",\n",
    "        \"keyfrom\": \"fanyi.web\",\n",
    "        \"ue\": \"UTF-8\",\n",
    "        \"action\": \"FY_BY_CLICKBUTTON\",\n",
    "        \"typoResult\": \"true\"\n",
    "    }\n",
    "    response = requests.post(url, data=key)\n",
    "    if response.status_code == 200:\n",
    "        return response.text\n",
    "    else:\n",
    "        return 'Error ,can\\'t use it now'\n",
    "\n",
    "def reuslt(repsonse):\n",
    "    result = json.loads(repsonse)\n",
    "    print(\"input：%s\" % result['translateResult'][0][0]['src'])\n",
    "    print(\"translation：%s\" % result['translateResult'][0][0]['tgt'])\n",
    "    return result['translateResult'][0][0]['tgt']\n",
    "\n",
    "def main():\n",
    "    word = input('please enter a word or sentence：')\n",
    "    list_trans = translate(word)\n",
    "    reuslt(list_trans)\n",
    "\n",
    "def translateapi(word):\n",
    "    return {i:reuslt(translate(i)) for i in word}\n",
    "\n",
    "\n",
    "if __name__ == '__main__':\n",
    "    main()"
   ]
  }
 ]
}