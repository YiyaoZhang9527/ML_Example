{
 "cells": [
  {
   "cell_type": "code",
   "execution_count": 2,
   "metadata": {},
   "outputs": [
    {
     "name": "stdout",
     "output_type": "stream",
     "text": [
      "Collecting baostock\n",
      "  Using cached baostock-0.8.8-py3-none-any.whl (55 kB)\n",
      "Requirement already satisfied: pandas>=0.18.0 in /home/zhangmanman/anaconda3/envs/kiteENV/lib/python3.8/site-packages (from baostock) (1.4.3)\n",
      "Requirement already satisfied: python-dateutil>=2.8.1 in /home/zhangmanman/anaconda3/envs/kiteENV/lib/python3.8/site-packages (from pandas>=0.18.0->baostock) (2.8.2)\n",
      "Requirement already satisfied: pytz>=2020.1 in /home/zhangmanman/anaconda3/envs/kiteENV/lib/python3.8/site-packages (from pandas>=0.18.0->baostock) (2022.1)\n",
      "Requirement already satisfied: numpy>=1.18.5 in /home/zhangmanman/anaconda3/envs/kiteENV/lib/python3.8/site-packages (from pandas>=0.18.0->baostock) (1.22.3)\n",
      "Requirement already satisfied: six>=1.5 in /home/zhangmanman/anaconda3/envs/kiteENV/lib/python3.8/site-packages (from python-dateutil>=2.8.1->pandas>=0.18.0->baostock) (1.16.0)\n",
      "Installing collected packages: baostock\n",
      "Successfully installed baostock-0.8.8\n"
     ]
    }
   ],
   "source": [
    "! pip install baostock\n",
    "\n",
    "import baostock as bs\n",
    "import pandas as pd\n",
    "import datetime"
   ]
  },
  {
   "cell_type": "markdown",
   "metadata": {},
   "source": [
    "# 证券宝（网址www.baostock.com）是一个免费、开源的证券数据平台，最重要的是：无需注册。\n",
    "pip install baostock\n",
    "或使用国内源安装：\n",
    "pip install baostock -i https://pypi.tuna.tsinghua.edu.cn/simple/ --trusted-host pypi.tuna.tsinghua.edu.cn"
   ]
  },
  {
   "cell_type": "markdown",
   "metadata": {},
   "source": [
    "## 获取指定股票历史数据"
   ]
  },
  {
   "cell_type": "code",
   "execution_count": 15,
   "metadata": {},
   "outputs": [],
   "source": [
    "code = \"sz.002484\" #查询的股票代码\n",
    "datestart = '2016-07-01' #开始时间\n",
    "datetoday = datetime.datetime.today().strftime(\"%Y-%m-%d\")"
   ]
  },
  {
   "cell_type": "code",
   "execution_count": 16,
   "metadata": {},
   "outputs": [
    {
     "data": {
      "text/plain": [
       "'2023-08-31'"
      ]
     },
     "execution_count": 16,
     "metadata": {},
     "output_type": "execute_result"
    }
   ],
   "source": [
    "datetoday"
   ]
  },
  {
   "cell_type": "code",
   "execution_count": 17,
   "metadata": {},
   "outputs": [
    {
     "data": {
      "text/plain": [
       "'date,code,open,high,low,close,preclose,volume,amount,adjustflag,turn,tradestatus,pctChg,isST'"
      ]
     },
     "execution_count": 17,
     "metadata": {},
     "output_type": "execute_result"
    }
   ],
   "source": [
    "ShowList =\"date,code,open,high,low,close,preclose,volume,amount,adjustflag,turn,tradestatus,pctChg,isST\"\n",
    "ShowList"
   ]
  },
  {
   "cell_type": "markdown",
   "metadata": {},
   "source": [
    "## 获取记录，将记录合并在一起"
   ]
  },
  {
   "cell_type": "code",
   "execution_count": 18,
   "metadata": {},
   "outputs": [],
   "source": [
    "def ListToDf(rs):\n",
    "    data_list = []\n",
    "    while (rs.error_code == '0') & rs.next():\n",
    "        data_list.append(rs.get_row_data())\n",
    "        result = pd.DataFrame(data_list, columns=rs.fields)\n",
    "    return result"
   ]
  },
  {
   "cell_type": "markdown",
   "metadata": {},
   "source": [
    "## 登陆系统 "
   ]
  },
  {
   "cell_type": "code",
   "execution_count": 19,
   "metadata": {},
   "outputs": [
    {
     "name": "stdout",
     "output_type": "stream",
     "text": [
      "login success!\n",
      "login respond error_msg:success\n"
     ]
    }
   ],
   "source": [
    "lg = bs.login()\n",
    "\n",
    "print('login respond error_msg:'+lg.error_msg)"
   ]
  },
  {
   "cell_type": "code",
   "execution_count": 20,
   "metadata": {},
   "outputs": [],
   "source": [
    "rs = bs.query_history_k_data_plus(code,ShowList,start_date=datestart, end_date=datetoday,frequency=\"d\", adjustflag=\"3\")\n"
   ]
  },
  {
   "cell_type": "code",
   "execution_count": 21,
   "metadata": {},
   "outputs": [],
   "source": [
    "result = ListToDf(rs)"
   ]
  },
  {
   "cell_type": "markdown",
   "metadata": {},
   "source": [
    "## 获取沪深A股历史K线数据"
   ]
  },
  {
   "cell_type": "code",
   "execution_count": 22,
   "metadata": {},
   "outputs": [
    {
     "data": {
      "text/html": [
       "<div>\n",
       "<style scoped>\n",
       "    .dataframe tbody tr th:only-of-type {\n",
       "        vertical-align: middle;\n",
       "    }\n",
       "\n",
       "    .dataframe tbody tr th {\n",
       "        vertical-align: top;\n",
       "    }\n",
       "\n",
       "    .dataframe thead th {\n",
       "        text-align: right;\n",
       "    }\n",
       "</style>\n",
       "<table border=\"1\" class=\"dataframe\">\n",
       "  <thead>\n",
       "    <tr style=\"text-align: right;\">\n",
       "      <th></th>\n",
       "      <th>date</th>\n",
       "      <th>code</th>\n",
       "      <th>open</th>\n",
       "      <th>high</th>\n",
       "      <th>low</th>\n",
       "      <th>close</th>\n",
       "      <th>preclose</th>\n",
       "      <th>volume</th>\n",
       "      <th>amount</th>\n",
       "      <th>adjustflag</th>\n",
       "      <th>turn</th>\n",
       "      <th>tradestatus</th>\n",
       "      <th>pctChg</th>\n",
       "      <th>isST</th>\n",
       "    </tr>\n",
       "  </thead>\n",
       "  <tbody>\n",
       "    <tr>\n",
       "      <th>0</th>\n",
       "      <td>2016-07-01</td>\n",
       "      <td>sz.002484</td>\n",
       "      <td>15.3700</td>\n",
       "      <td>15.4900</td>\n",
       "      <td>15.0700</td>\n",
       "      <td>15.1900</td>\n",
       "      <td>15.2500</td>\n",
       "      <td>12385472</td>\n",
       "      <td>189022048.0000</td>\n",
       "      <td>3</td>\n",
       "      <td>2.530199</td>\n",
       "      <td>1</td>\n",
       "      <td>-0.393400</td>\n",
       "      <td>0</td>\n",
       "    </tr>\n",
       "    <tr>\n",
       "      <th>1</th>\n",
       "      <td>2016-07-04</td>\n",
       "      <td>sz.002484</td>\n",
       "      <td>15.0300</td>\n",
       "      <td>15.5900</td>\n",
       "      <td>15.0000</td>\n",
       "      <td>15.5900</td>\n",
       "      <td>15.1900</td>\n",
       "      <td>12657444</td>\n",
       "      <td>194466115.0000</td>\n",
       "      <td>3</td>\n",
       "      <td>2.585759</td>\n",
       "      <td>1</td>\n",
       "      <td>2.633300</td>\n",
       "      <td>0</td>\n",
       "    </tr>\n",
       "    <tr>\n",
       "      <th>2</th>\n",
       "      <td>2016-07-05</td>\n",
       "      <td>sz.002484</td>\n",
       "      <td>15.6200</td>\n",
       "      <td>15.6500</td>\n",
       "      <td>15.2300</td>\n",
       "      <td>15.3600</td>\n",
       "      <td>15.5900</td>\n",
       "      <td>9792592</td>\n",
       "      <td>151022382.0000</td>\n",
       "      <td>3</td>\n",
       "      <td>2.000505</td>\n",
       "      <td>1</td>\n",
       "      <td>-1.475300</td>\n",
       "      <td>0</td>\n",
       "    </tr>\n",
       "    <tr>\n",
       "      <th>3</th>\n",
       "      <td>2016-07-06</td>\n",
       "      <td>sz.002484</td>\n",
       "      <td>15.6000</td>\n",
       "      <td>15.6900</td>\n",
       "      <td>15.1900</td>\n",
       "      <td>15.2900</td>\n",
       "      <td>15.3600</td>\n",
       "      <td>11950247</td>\n",
       "      <td>184347510.0000</td>\n",
       "      <td>3</td>\n",
       "      <td>2.441288</td>\n",
       "      <td>1</td>\n",
       "      <td>-0.455700</td>\n",
       "      <td>0</td>\n",
       "    </tr>\n",
       "    <tr>\n",
       "      <th>4</th>\n",
       "      <td>2016-07-07</td>\n",
       "      <td>sz.002484</td>\n",
       "      <td>15.2300</td>\n",
       "      <td>15.5800</td>\n",
       "      <td>14.9000</td>\n",
       "      <td>15.4200</td>\n",
       "      <td>15.2900</td>\n",
       "      <td>13720338</td>\n",
       "      <td>208298739.0000</td>\n",
       "      <td>3</td>\n",
       "      <td>2.802895</td>\n",
       "      <td>1</td>\n",
       "      <td>0.850200</td>\n",
       "      <td>0</td>\n",
       "    </tr>\n",
       "    <tr>\n",
       "      <th>...</th>\n",
       "      <td>...</td>\n",
       "      <td>...</td>\n",
       "      <td>...</td>\n",
       "      <td>...</td>\n",
       "      <td>...</td>\n",
       "      <td>...</td>\n",
       "      <td>...</td>\n",
       "      <td>...</td>\n",
       "      <td>...</td>\n",
       "      <td>...</td>\n",
       "      <td>...</td>\n",
       "      <td>...</td>\n",
       "      <td>...</td>\n",
       "      <td>...</td>\n",
       "    </tr>\n",
       "    <tr>\n",
       "      <th>1739</th>\n",
       "      <td>2023-08-24</td>\n",
       "      <td>sz.002484</td>\n",
       "      <td>16.6500</td>\n",
       "      <td>17.0800</td>\n",
       "      <td>16.1600</td>\n",
       "      <td>16.7100</td>\n",
       "      <td>16.3200</td>\n",
       "      <td>12759522</td>\n",
       "      <td>211781082.7100</td>\n",
       "      <td>3</td>\n",
       "      <td>1.605700</td>\n",
       "      <td>1</td>\n",
       "      <td>2.389700</td>\n",
       "      <td>0</td>\n",
       "    </tr>\n",
       "    <tr>\n",
       "      <th>1740</th>\n",
       "      <td>2023-08-25</td>\n",
       "      <td>sz.002484</td>\n",
       "      <td>16.7600</td>\n",
       "      <td>17.0500</td>\n",
       "      <td>16.6300</td>\n",
       "      <td>16.7000</td>\n",
       "      <td>16.7100</td>\n",
       "      <td>9268913</td>\n",
       "      <td>155728267.6100</td>\n",
       "      <td>3</td>\n",
       "      <td>1.166400</td>\n",
       "      <td>1</td>\n",
       "      <td>-0.059800</td>\n",
       "      <td>0</td>\n",
       "    </tr>\n",
       "    <tr>\n",
       "      <th>1741</th>\n",
       "      <td>2023-08-28</td>\n",
       "      <td>sz.002484</td>\n",
       "      <td>17.9800</td>\n",
       "      <td>17.9800</td>\n",
       "      <td>17.1500</td>\n",
       "      <td>17.4300</td>\n",
       "      <td>16.7000</td>\n",
       "      <td>12986553</td>\n",
       "      <td>226330266.4500</td>\n",
       "      <td>3</td>\n",
       "      <td>1.634200</td>\n",
       "      <td>1</td>\n",
       "      <td>4.371300</td>\n",
       "      <td>0</td>\n",
       "    </tr>\n",
       "    <tr>\n",
       "      <th>1742</th>\n",
       "      <td>2023-08-29</td>\n",
       "      <td>sz.002484</td>\n",
       "      <td>17.3800</td>\n",
       "      <td>18.2100</td>\n",
       "      <td>17.2100</td>\n",
       "      <td>18.0900</td>\n",
       "      <td>17.4300</td>\n",
       "      <td>10706543</td>\n",
       "      <td>191029738.6400</td>\n",
       "      <td>3</td>\n",
       "      <td>1.347300</td>\n",
       "      <td>1</td>\n",
       "      <td>3.786600</td>\n",
       "      <td>0</td>\n",
       "    </tr>\n",
       "    <tr>\n",
       "      <th>1743</th>\n",
       "      <td>2023-08-30</td>\n",
       "      <td>sz.002484</td>\n",
       "      <td>18.2200</td>\n",
       "      <td>18.5500</td>\n",
       "      <td>18.0000</td>\n",
       "      <td>18.4500</td>\n",
       "      <td>18.0900</td>\n",
       "      <td>10571100</td>\n",
       "      <td>193369952.1600</td>\n",
       "      <td>3</td>\n",
       "      <td>1.330300</td>\n",
       "      <td>1</td>\n",
       "      <td>1.990000</td>\n",
       "      <td>0</td>\n",
       "    </tr>\n",
       "  </tbody>\n",
       "</table>\n",
       "<p>1744 rows × 14 columns</p>\n",
       "</div>"
      ],
      "text/plain": [
       "            date       code     open     high      low    close preclose  \\\n",
       "0     2016-07-01  sz.002484  15.3700  15.4900  15.0700  15.1900  15.2500   \n",
       "1     2016-07-04  sz.002484  15.0300  15.5900  15.0000  15.5900  15.1900   \n",
       "2     2016-07-05  sz.002484  15.6200  15.6500  15.2300  15.3600  15.5900   \n",
       "3     2016-07-06  sz.002484  15.6000  15.6900  15.1900  15.2900  15.3600   \n",
       "4     2016-07-07  sz.002484  15.2300  15.5800  14.9000  15.4200  15.2900   \n",
       "...          ...        ...      ...      ...      ...      ...      ...   \n",
       "1739  2023-08-24  sz.002484  16.6500  17.0800  16.1600  16.7100  16.3200   \n",
       "1740  2023-08-25  sz.002484  16.7600  17.0500  16.6300  16.7000  16.7100   \n",
       "1741  2023-08-28  sz.002484  17.9800  17.9800  17.1500  17.4300  16.7000   \n",
       "1742  2023-08-29  sz.002484  17.3800  18.2100  17.2100  18.0900  17.4300   \n",
       "1743  2023-08-30  sz.002484  18.2200  18.5500  18.0000  18.4500  18.0900   \n",
       "\n",
       "        volume          amount adjustflag      turn tradestatus     pctChg  \\\n",
       "0     12385472  189022048.0000          3  2.530199           1  -0.393400   \n",
       "1     12657444  194466115.0000          3  2.585759           1   2.633300   \n",
       "2      9792592  151022382.0000          3  2.000505           1  -1.475300   \n",
       "3     11950247  184347510.0000          3  2.441288           1  -0.455700   \n",
       "4     13720338  208298739.0000          3  2.802895           1   0.850200   \n",
       "...        ...             ...        ...       ...         ...        ...   \n",
       "1739  12759522  211781082.7100          3  1.605700           1   2.389700   \n",
       "1740   9268913  155728267.6100          3  1.166400           1  -0.059800   \n",
       "1741  12986553  226330266.4500          3  1.634200           1   4.371300   \n",
       "1742  10706543  191029738.6400          3  1.347300           1   3.786600   \n",
       "1743  10571100  193369952.1600          3  1.330300           1   1.990000   \n",
       "\n",
       "     isST  \n",
       "0       0  \n",
       "1       0  \n",
       "2       0  \n",
       "3       0  \n",
       "4       0  \n",
       "...   ...  \n",
       "1739    0  \n",
       "1740    0  \n",
       "1741    0  \n",
       "1742    0  \n",
       "1743    0  \n",
       "\n",
       "[1744 rows x 14 columns]"
      ]
     },
     "execution_count": 22,
     "metadata": {},
     "output_type": "execute_result"
    }
   ],
   "source": [
    "result"
   ]
  },
  {
   "cell_type": "code",
   "execution_count": 11,
   "metadata": {},
   "outputs": [
    {
     "name": "stdout",
     "output_type": "stream",
     "text": [
      "query_history_k_data_plus respond error_msg:success\n"
     ]
    }
   ],
   "source": [
    "print('query_history_k_data_plus respond error_msg:'+rs.error_msg)"
   ]
  },
  {
   "cell_type": "markdown",
   "metadata": {},
   "source": [
    "## 结果集输出到csv文件"
   ]
  },
  {
   "cell_type": "code",
   "execution_count": 12,
   "metadata": {},
   "outputs": [],
   "source": [
    "result.to_csv('history_A_stock_k_' + code + '.csv', index=False)"
   ]
  },
  {
   "cell_type": "code",
   "execution_count": 13,
   "metadata": {},
   "outputs": [
    {
     "data": {
      "text/html": [
       "<div>\n",
       "<style scoped>\n",
       "    .dataframe tbody tr th:only-of-type {\n",
       "        vertical-align: middle;\n",
       "    }\n",
       "\n",
       "    .dataframe tbody tr th {\n",
       "        vertical-align: top;\n",
       "    }\n",
       "\n",
       "    .dataframe thead th {\n",
       "        text-align: right;\n",
       "    }\n",
       "</style>\n",
       "<table border=\"1\" class=\"dataframe\">\n",
       "  <thead>\n",
       "    <tr style=\"text-align: right;\">\n",
       "      <th></th>\n",
       "      <th>date</th>\n",
       "      <th>code</th>\n",
       "      <th>open</th>\n",
       "      <th>high</th>\n",
       "      <th>low</th>\n",
       "      <th>close</th>\n",
       "      <th>preclose</th>\n",
       "      <th>volume</th>\n",
       "      <th>amount</th>\n",
       "      <th>adjustflag</th>\n",
       "      <th>turn</th>\n",
       "      <th>tradestatus</th>\n",
       "      <th>pctChg</th>\n",
       "      <th>isST</th>\n",
       "    </tr>\n",
       "  </thead>\n",
       "  <tbody>\n",
       "    <tr>\n",
       "      <th>0</th>\n",
       "      <td>2019-07-01</td>\n",
       "      <td>sz.002484</td>\n",
       "      <td>6.19</td>\n",
       "      <td>6.28</td>\n",
       "      <td>6.14</td>\n",
       "      <td>6.27</td>\n",
       "      <td>6.06</td>\n",
       "      <td>16357932</td>\n",
       "      <td>1.012276e+08</td>\n",
       "      <td>3</td>\n",
       "      <td>2.142080</td>\n",
       "      <td>1</td>\n",
       "      <td>3.465347</td>\n",
       "      <td>0</td>\n",
       "    </tr>\n",
       "    <tr>\n",
       "      <th>1</th>\n",
       "      <td>2019-07-02</td>\n",
       "      <td>sz.002484</td>\n",
       "      <td>6.27</td>\n",
       "      <td>6.29</td>\n",
       "      <td>6.19</td>\n",
       "      <td>6.23</td>\n",
       "      <td>6.27</td>\n",
       "      <td>10547447</td>\n",
       "      <td>6.576962e+07</td>\n",
       "      <td>3</td>\n",
       "      <td>1.381194</td>\n",
       "      <td>1</td>\n",
       "      <td>-0.637958</td>\n",
       "      <td>0</td>\n",
       "    </tr>\n",
       "    <tr>\n",
       "      <th>2</th>\n",
       "      <td>2019-07-03</td>\n",
       "      <td>sz.002484</td>\n",
       "      <td>6.22</td>\n",
       "      <td>6.22</td>\n",
       "      <td>6.08</td>\n",
       "      <td>6.10</td>\n",
       "      <td>6.23</td>\n",
       "      <td>6266504</td>\n",
       "      <td>3.835492e+07</td>\n",
       "      <td>3</td>\n",
       "      <td>0.820602</td>\n",
       "      <td>1</td>\n",
       "      <td>-2.086679</td>\n",
       "      <td>0</td>\n",
       "    </tr>\n",
       "    <tr>\n",
       "      <th>3</th>\n",
       "      <td>2019-07-04</td>\n",
       "      <td>sz.002484</td>\n",
       "      <td>6.11</td>\n",
       "      <td>6.14</td>\n",
       "      <td>6.06</td>\n",
       "      <td>6.08</td>\n",
       "      <td>6.10</td>\n",
       "      <td>3610427</td>\n",
       "      <td>2.201540e+07</td>\n",
       "      <td>3</td>\n",
       "      <td>0.472787</td>\n",
       "      <td>1</td>\n",
       "      <td>-0.327869</td>\n",
       "      <td>0</td>\n",
       "    </tr>\n",
       "    <tr>\n",
       "      <th>4</th>\n",
       "      <td>2019-07-05</td>\n",
       "      <td>sz.002484</td>\n",
       "      <td>6.09</td>\n",
       "      <td>6.38</td>\n",
       "      <td>6.05</td>\n",
       "      <td>6.17</td>\n",
       "      <td>6.08</td>\n",
       "      <td>8952717</td>\n",
       "      <td>5.530906e+07</td>\n",
       "      <td>3</td>\n",
       "      <td>1.172363</td>\n",
       "      <td>1</td>\n",
       "      <td>1.480266</td>\n",
       "      <td>0</td>\n",
       "    </tr>\n",
       "    <tr>\n",
       "      <th>...</th>\n",
       "      <td>...</td>\n",
       "      <td>...</td>\n",
       "      <td>...</td>\n",
       "      <td>...</td>\n",
       "      <td>...</td>\n",
       "      <td>...</td>\n",
       "      <td>...</td>\n",
       "      <td>...</td>\n",
       "      <td>...</td>\n",
       "      <td>...</td>\n",
       "      <td>...</td>\n",
       "      <td>...</td>\n",
       "      <td>...</td>\n",
       "      <td>...</td>\n",
       "    </tr>\n",
       "    <tr>\n",
       "      <th>1010</th>\n",
       "      <td>2023-08-24</td>\n",
       "      <td>sz.002484</td>\n",
       "      <td>16.65</td>\n",
       "      <td>17.08</td>\n",
       "      <td>16.16</td>\n",
       "      <td>16.71</td>\n",
       "      <td>16.32</td>\n",
       "      <td>12759522</td>\n",
       "      <td>2.117811e+08</td>\n",
       "      <td>3</td>\n",
       "      <td>1.605700</td>\n",
       "      <td>1</td>\n",
       "      <td>2.389700</td>\n",
       "      <td>0</td>\n",
       "    </tr>\n",
       "    <tr>\n",
       "      <th>1011</th>\n",
       "      <td>2023-08-25</td>\n",
       "      <td>sz.002484</td>\n",
       "      <td>16.76</td>\n",
       "      <td>17.05</td>\n",
       "      <td>16.63</td>\n",
       "      <td>16.70</td>\n",
       "      <td>16.71</td>\n",
       "      <td>9268913</td>\n",
       "      <td>1.557283e+08</td>\n",
       "      <td>3</td>\n",
       "      <td>1.166400</td>\n",
       "      <td>1</td>\n",
       "      <td>-0.059800</td>\n",
       "      <td>0</td>\n",
       "    </tr>\n",
       "    <tr>\n",
       "      <th>1012</th>\n",
       "      <td>2023-08-28</td>\n",
       "      <td>sz.002484</td>\n",
       "      <td>17.98</td>\n",
       "      <td>17.98</td>\n",
       "      <td>17.15</td>\n",
       "      <td>17.43</td>\n",
       "      <td>16.70</td>\n",
       "      <td>12986553</td>\n",
       "      <td>2.263303e+08</td>\n",
       "      <td>3</td>\n",
       "      <td>1.634200</td>\n",
       "      <td>1</td>\n",
       "      <td>4.371300</td>\n",
       "      <td>0</td>\n",
       "    </tr>\n",
       "    <tr>\n",
       "      <th>1013</th>\n",
       "      <td>2023-08-29</td>\n",
       "      <td>sz.002484</td>\n",
       "      <td>17.38</td>\n",
       "      <td>18.21</td>\n",
       "      <td>17.21</td>\n",
       "      <td>18.09</td>\n",
       "      <td>17.43</td>\n",
       "      <td>10706543</td>\n",
       "      <td>1.910297e+08</td>\n",
       "      <td>3</td>\n",
       "      <td>1.347300</td>\n",
       "      <td>1</td>\n",
       "      <td>3.786600</td>\n",
       "      <td>0</td>\n",
       "    </tr>\n",
       "    <tr>\n",
       "      <th>1014</th>\n",
       "      <td>2023-08-30</td>\n",
       "      <td>sz.002484</td>\n",
       "      <td>18.22</td>\n",
       "      <td>18.55</td>\n",
       "      <td>18.00</td>\n",
       "      <td>18.45</td>\n",
       "      <td>18.09</td>\n",
       "      <td>10571100</td>\n",
       "      <td>1.933700e+08</td>\n",
       "      <td>3</td>\n",
       "      <td>1.330300</td>\n",
       "      <td>1</td>\n",
       "      <td>1.990000</td>\n",
       "      <td>0</td>\n",
       "    </tr>\n",
       "  </tbody>\n",
       "</table>\n",
       "<p>1015 rows × 14 columns</p>\n",
       "</div>"
      ],
      "text/plain": [
       "            date       code   open   high    low  close  preclose    volume  \\\n",
       "0     2019-07-01  sz.002484   6.19   6.28   6.14   6.27      6.06  16357932   \n",
       "1     2019-07-02  sz.002484   6.27   6.29   6.19   6.23      6.27  10547447   \n",
       "2     2019-07-03  sz.002484   6.22   6.22   6.08   6.10      6.23   6266504   \n",
       "3     2019-07-04  sz.002484   6.11   6.14   6.06   6.08      6.10   3610427   \n",
       "4     2019-07-05  sz.002484   6.09   6.38   6.05   6.17      6.08   8952717   \n",
       "...          ...        ...    ...    ...    ...    ...       ...       ...   \n",
       "1010  2023-08-24  sz.002484  16.65  17.08  16.16  16.71     16.32  12759522   \n",
       "1011  2023-08-25  sz.002484  16.76  17.05  16.63  16.70     16.71   9268913   \n",
       "1012  2023-08-28  sz.002484  17.98  17.98  17.15  17.43     16.70  12986553   \n",
       "1013  2023-08-29  sz.002484  17.38  18.21  17.21  18.09     17.43  10706543   \n",
       "1014  2023-08-30  sz.002484  18.22  18.55  18.00  18.45     18.09  10571100   \n",
       "\n",
       "            amount  adjustflag      turn  tradestatus    pctChg  isST  \n",
       "0     1.012276e+08           3  2.142080            1  3.465347     0  \n",
       "1     6.576962e+07           3  1.381194            1 -0.637958     0  \n",
       "2     3.835492e+07           3  0.820602            1 -2.086679     0  \n",
       "3     2.201540e+07           3  0.472787            1 -0.327869     0  \n",
       "4     5.530906e+07           3  1.172363            1  1.480266     0  \n",
       "...            ...         ...       ...          ...       ...   ...  \n",
       "1010  2.117811e+08           3  1.605700            1  2.389700     0  \n",
       "1011  1.557283e+08           3  1.166400            1 -0.059800     0  \n",
       "1012  2.263303e+08           3  1.634200            1  4.371300     0  \n",
       "1013  1.910297e+08           3  1.347300            1  3.786600     0  \n",
       "1014  1.933700e+08           3  1.330300            1  1.990000     0  \n",
       "\n",
       "[1015 rows x 14 columns]"
      ]
     },
     "execution_count": 13,
     "metadata": {},
     "output_type": "execute_result"
    }
   ],
   "source": [
    "pd.read_csv('history_A_stock_k_' + code + '.csv')"
   ]
  },
  {
   "cell_type": "code",
   "execution_count": 14,
   "metadata": {},
   "outputs": [
    {
     "name": "stdout",
     "output_type": "stream",
     "text": [
      "logout success!\n"
     ]
    },
    {
     "data": {
      "text/plain": [
       "<baostock.data.resultset.ResultData at 0x7fa5212239a0>"
      ]
     },
     "execution_count": 14,
     "metadata": {},
     "output_type": "execute_result"
    }
   ],
   "source": [
    "bs.logout()"
   ]
  },
  {
   "cell_type": "code",
   "execution_count": 28,
   "metadata": {},
   "outputs": [
    {
     "data": {
      "text/plain": [
       "<matplotlib.collections.PathCollection at 0x7fa4f825ea90>"
      ]
     },
     "execution_count": 28,
     "metadata": {},
     "output_type": "execute_result"
    },
    {
     "data": {
      "image/png": "[encoded data removed]",
      "text/plain": [
       "<Figure size 1152x648 with 1 Axes>"
      ]
     },
     "metadata": {
      "needs_background": "light"
     },
     "output_type": "display_data"
    }
   ],
   "source": [
    "import matplotlib.pyplot as plt\n",
    "\n",
    "plt.figure(figsize=(16,9))\n",
    "plt.scatter(x=result.date,y=result.pctChg)"
   ]
  },
  {
   "cell_type": "code",
   "execution_count": null,
   "metadata": {},
   "outputs": [],
   "source": []
  }
 ],
 "metadata": {
  "file_extension": ".py",
  "kernelspec": {
   "display_name": "Python 3 (ipykernel)",
   "language": "python",
   "name": "python3"
  },
  "language_info": {
   "codemirror_mode": {
    "name": "ipython",
    "version": 3
   },
   "file_extension": ".py",
   "mimetype": "text/x-python",
   "name": "python",
   "nbconvert_exporter": "python",
   "pygments_lexer": "ipython3",
   "version": "3.8.10"
  },
  "mimetype": "text/x-python",
  "name": "python",
  "npconvert_exporter": "python",
  "pygments_lexer": "ipython3",
  "version": 3
 },
 "nbformat": 4,
 "nbformat_minor": 4
}
