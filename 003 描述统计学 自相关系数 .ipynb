{
 "cells": [
  {
   "cell_type": "markdown",
   "metadata": {},
   "source": [
    "# 自相关系数\n",
    "https://blog.csdn.net/qushoushi0594/article/details/80096213\n",
    "<img src = \"https://img-blog.csdn.net/20180427094041936?watermark/2/text/aHR0cHM6Ly9ibG9nLmNzZG4ubmV0L3F1c2hvdXNoaTA1OTQ=/font/5a6L5L2T/fontsize/400/fill/I0JBQkFCMA==/dissolve/70\"># 自相关系数"
   ]
  },
  {
   "cell_type": "code",
   "execution_count": 1,
   "metadata": {},
   "outputs": [
    {
     "data": {
      "text/plain": [
       "-0.0972972972972973"
      ]
     },
     "execution_count": 1,
     "metadata": {},
     "output_type": "execute_result"
    }
   ],
   "source": [
    "import numpy as np\n",
    "# 自相关系数\n",
    "def auto_corr(x,n=1,p=1):\n",
    "    xn_h = x[n:]\n",
    "    xnh = x[:-n]\n",
    "    mu = x.mean()\n",
    "    sigm = ((x-mu)**2).dot(np.ones_like(x))\n",
    "    return ((xn_h-mu)*(xnh-mu)/sigm).sum() \n",
    "\n",
    "auto_corr(np.array([2,3,4,3,7]),1,1)# 自相关系数"
   ]
  },
  {
   "cell_type": "code",
   "execution_count": null,
   "metadata": {},
   "outputs": [],
   "source": []
  }
 ],
 "metadata": {
  "kernelspec": {
   "display_name": "Python 3",
   "language": "python",
   "name": "python3"
  },
  "language_info": {
   "codemirror_mode": {
    "name": "ipython",
    "version": 3
   },
   "file_extension": ".py",
   "mimetype": "text/x-python",
   "name": "python",
   "nbconvert_exporter": "python",
   "pygments_lexer": "ipython3",
   "version": "3.8.5"
  }
 },
 "nbformat": 4,
 "nbformat_minor": 4
}
