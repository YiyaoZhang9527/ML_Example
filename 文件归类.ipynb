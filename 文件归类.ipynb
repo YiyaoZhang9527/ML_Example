{
 "cells": [
  {
   "cell_type": "code",
   "execution_count": 2,
   "metadata": {},
   "outputs": [],
   "source": [
    "import os\n",
    "import pandas as pd\n",
    "import numpy as np\n",
    "import matplotlib.pyplot as plt\n",
    "import seaborn as sns\n",
    "sns.set()"
   ]
  },
  {
   "cell_type": "code",
   "execution_count": 3,
   "metadata": {},
   "outputs": [
    {
     "name": "stderr",
     "output_type": "stream",
     "text": [
      "路径生成: 133159it [00:31, 4265.04it/s]\n"
     ]
    },
    {
     "data": {
      "text/html": [
       "<div>\n",
       "<style scoped>\n",
       "    .dataframe tbody tr th:only-of-type {\n",
       "        vertical-align: middle;\n",
       "    }\n",
       "\n",
       "    .dataframe tbody tr th {\n",
       "        vertical-align: top;\n",
       "    }\n",
       "\n",
       "    .dataframe thead th {\n",
       "        text-align: right;\n",
       "    }\n",
       "</style>\n",
       "<table border=\"1\" class=\"dataframe\">\n",
       "  <thead>\n",
       "    <tr style=\"text-align: right;\">\n",
       "      <th></th>\n",
       "      <th>csv</th>\n",
       "      <th>otherX</th>\n",
       "      <th>log</th>\n",
       "      <th>sh</th>\n",
       "      <th>txt</th>\n",
       "      <th>pyc</th>\n",
       "      <th>ini</th>\n",
       "      <th>josn</th>\n",
       "      <th>DS_Store</th>\n",
       "      <th>py</th>\n",
       "      <th>...</th>\n",
       "      <th>flv</th>\n",
       "      <th>mobi</th>\n",
       "      <th>xls</th>\n",
       "      <th>pynb</th>\n",
       "      <th>dms</th>\n",
       "      <th>CSV</th>\n",
       "      <th>deb</th>\n",
       "      <th>pptx</th>\n",
       "      <th>pkg</th>\n",
       "      <th>dmg</th>\n",
       "    </tr>\n",
       "  </thead>\n",
       "  <tbody>\n",
       "    <tr>\n",
       "      <th>0</th>\n",
       "      <td>/Users/zhangjing/tk.csv</td>\n",
       "      <td>/Users/zhangjing/.condarc</td>\n",
       "      <td>/Users/zhangjing/.mycli.log</td>\n",
       "      <td>/Users/zhangjing/menge.sh</td>\n",
       "      <td>/Users/zhangjing/ak.txt</td>\n",
       "      <td>/Users/zhangjing/linux_tools_for_chinese_histo...</td>\n",
       "      <td>/Users/zhangjing/linux_tools_for_chinese_histo...</td>\n",
       "      <td>/Users/zhangjing/linux_tools_for_chinese_histo...</td>\n",
       "      <td>/Users/zhangjing/.DS_Store</td>\n",
       "      <td>/Users/zhangjing/python_functionals.py</td>\n",
       "      <td>...</td>\n",
       "      <td>/Users/zhangjing/Documents/算法笔记/000_数据分析demo/华...</td>\n",
       "      <td>/Users/zhangjing/Documents/算法笔记/000_数据分析demo/华...</td>\n",
       "      <td>/Users/zhangjing/Documents/算法笔记/000_数据分析demo/华...</td>\n",
       "      <td>/Users/zhangjing/Documents/算法笔记/000_数据分析demo/华...</td>\n",
       "      <td>/Users/zhangjing/Documents/算法笔记/000_数据分析demo/华...</td>\n",
       "      <td>/Users/zhangjing/Documents/算法笔记/103_数据集/社工库set...</td>\n",
       "      <td>/Users/zhangjing/Downloads/electron-ssr-0.2.6.deb</td>\n",
       "      <td>/Users/zhangjing/Library/Group Containers/4K6F...</td>\n",
       "      <td>/Users/zhangjing/homebrew/Library/Homebrew/tes...</td>\n",
       "      <td>/Users/zhangjing/Downloads/NeteaseMusic2.3.3_8...</td>\n",
       "    </tr>\n",
       "    <tr>\n",
       "      <th>1</th>\n",
       "      <td>/Users/zhangjing/linux_tools_for_chinese_histo...</td>\n",
       "      <td>/Users/zhangjing/.zcompdump-zhangjingdeMacBook...</td>\n",
       "      <td>/Users/zhangjing/PyMinerdatapath.log</td>\n",
       "      <td>/Users/zhangjing/init_env.sh</td>\n",
       "      <td>/Users/zhangjing/linux_tools_for_chinese_histo...</td>\n",
       "      <td>/Users/zhangjing/linux_tools_for_chinese_histo...</td>\n",
       "      <td>/Users/zhangjing/linux_cmd_search_from_NL/Stat...</td>\n",
       "      <td>/Users/zhangjing/linux_tools_for_chinese_histo...</td>\n",
       "      <td>/Users/zhangjing/linux_tools_for_chinese_histo...</td>\n",
       "      <td>/Users/zhangjing/code_generation.py</td>\n",
       "      <td>...</td>\n",
       "      <td>/Users/zhangjing/Documents/算法笔记/101_书籍集合/网页书籍/...</td>\n",
       "      <td>False</td>\n",
       "      <td>/Users/zhangjing/Documents/算法笔记/103_数据集/社工库set...</td>\n",
       "      <td>/Users/zhangjing/Documents/算法笔记/101_书籍集合/MySel...</td>\n",
       "      <td>False</td>\n",
       "      <td>False</td>\n",
       "      <td>False</td>\n",
       "      <td>/Users/zhangjing/Library/Containers/com.tencen...</td>\n",
       "      <td>/Users/zhangjing/Library/Containers/com.tencen...</td>\n",
       "      <td>False</td>\n",
       "    </tr>\n",
       "    <tr>\n",
       "      <th>2</th>\n",
       "      <td>/Users/zhangjing/linux_tools_for_chinese_histo...</td>\n",
       "      <td>/Users/zhangjing/temp_cmds</td>\n",
       "      <td>/Users/zhangjing/my.log</td>\n",
       "      <td>/Users/zhangjing/ssh_start.sh</td>\n",
       "      <td>/Users/zhangjing/linux_tools_for_chinese_histo...</td>\n",
       "      <td>/Users/zhangjing/linux_tools_for_chinese_histo...</td>\n",
       "      <td>/Users/zhangjing/nltk_data/models/moses_sample...</td>\n",
       "      <td>/Users/zhangjing/linux_tools_for_chinese/0_dat...</td>\n",
       "      <td>/Users/zhangjing/linux_tools_for_chinese_histo...</td>\n",
       "      <td>/Users/zhangjing/file_tools.py</td>\n",
       "      <td>...</td>\n",
       "      <td>False</td>\n",
       "      <td>False</td>\n",
       "      <td>/Users/zhangjing/Documents/算法笔记/103_数据集/社工库set...</td>\n",
       "      <td>/Users/zhangjing/Documents/文稿 - 张晶的MacBook Pro...</td>\n",
       "      <td>False</td>\n",
       "      <td>False</td>\n",
       "      <td>False</td>\n",
       "      <td>/Users/zhangjing/Library/Containers/com.tencen...</td>\n",
       "      <td>/Users/zhangjing/Downloads/Zoom.pkg</td>\n",
       "      <td>False</td>\n",
       "    </tr>\n",
       "    <tr>\n",
       "      <th>3</th>\n",
       "      <td>/Users/zhangjing/linux_tools_for_chinese_histo...</td>\n",
       "      <td>/Users/zhangjing/怎么扫描本地端口</td>\n",
       "      <td>/Users/zhangjing/network_from_game.log</td>\n",
       "      <td>/Users/zhangjing/linux_tools_for_chinese_histo...</td>\n",
       "      <td>/Users/zhangjing/linux_tools_for_chinese_histo...</td>\n",
       "      <td>/Users/zhangjing/linux_tools_for_chinese_histo...</td>\n",
       "      <td>/Users/zhangjing/nltk_data/models/moses_sample...</td>\n",
       "      <td>/Users/zhangjing/linux_tools_for_chinese/0_dat...</td>\n",
       "      <td>/Users/zhangjing/linux_tools_for_chinese_histo...</td>\n",
       "      <td>/Users/zhangjing/test.py</td>\n",
       "      <td>...</td>\n",
       "      <td>False</td>\n",
       "      <td>False</td>\n",
       "      <td>/Users/zhangjing/Documents/算法笔记/103_数据集/社工库set...</td>\n",
       "      <td>/Users/zhangjing/Documents/文稿 - 张晶的MacBook Pro...</td>\n",
       "      <td>False</td>\n",
       "      <td>False</td>\n",
       "      <td>False</td>\n",
       "      <td>/Users/zhangjing/Library/Containers/com.tencen...</td>\n",
       "      <td>False</td>\n",
       "      <td>False</td>\n",
       "    </tr>\n",
       "    <tr>\n",
       "      <th>4</th>\n",
       "      <td>/Users/zhangjing/linux_tools_for_chinese_histo...</td>\n",
       "      <td>/Users/zhangjing/.mycli-history</td>\n",
       "      <td>/Users/zhangjing/history.log</td>\n",
       "      <td>/Users/zhangjing/linux_tools_for_chinese_histo...</td>\n",
       "      <td>/Users/zhangjing/linux_tools_for_chinese_histo...</td>\n",
       "      <td>/Users/zhangjing/linux_tools_for_chinese_histo...</td>\n",
       "      <td>/Users/zhangjing/nltk_data/models/moses_sample...</td>\n",
       "      <td>/Users/zhangjing/linux_for_chinese_history/lin...</td>\n",
       "      <td>/Users/zhangjing/Music/Music/.DS_Store</td>\n",
       "      <td>/Users/zhangjing/linux_tools_for_chinese_histo...</td>\n",
       "      <td>...</td>\n",
       "      <td>False</td>\n",
       "      <td>False</td>\n",
       "      <td>/Users/zhangjing/Documents/算法笔记/103_数据集/社工库set...</td>\n",
       "      <td>False</td>\n",
       "      <td>False</td>\n",
       "      <td>False</td>\n",
       "      <td>False</td>\n",
       "      <td>/Users/zhangjing/Library/Containers/com.tencen...</td>\n",
       "      <td>False</td>\n",
       "      <td>False</td>\n",
       "    </tr>\n",
       "    <tr>\n",
       "      <th>...</th>\n",
       "      <td>...</td>\n",
       "      <td>...</td>\n",
       "      <td>...</td>\n",
       "      <td>...</td>\n",
       "      <td>...</td>\n",
       "      <td>...</td>\n",
       "      <td>...</td>\n",
       "      <td>...</td>\n",
       "      <td>...</td>\n",
       "      <td>...</td>\n",
       "      <td>...</td>\n",
       "      <td>...</td>\n",
       "      <td>...</td>\n",
       "      <td>...</td>\n",
       "      <td>...</td>\n",
       "      <td>...</td>\n",
       "      <td>...</td>\n",
       "      <td>...</td>\n",
       "      <td>...</td>\n",
       "      <td>...</td>\n",
       "      <td>...</td>\n",
       "    </tr>\n",
       "    <tr>\n",
       "      <th>549880</th>\n",
       "      <td>False</td>\n",
       "      <td>/Users/zhangjing/.zsh_sessions/F82D7EE5-941A-4...</td>\n",
       "      <td>False</td>\n",
       "      <td>False</td>\n",
       "      <td>False</td>\n",
       "      <td>False</td>\n",
       "      <td>False</td>\n",
       "      <td>False</td>\n",
       "      <td>False</td>\n",
       "      <td>False</td>\n",
       "      <td>...</td>\n",
       "      <td>False</td>\n",
       "      <td>False</td>\n",
       "      <td>False</td>\n",
       "      <td>False</td>\n",
       "      <td>False</td>\n",
       "      <td>False</td>\n",
       "      <td>False</td>\n",
       "      <td>False</td>\n",
       "      <td>False</td>\n",
       "      <td>False</td>\n",
       "    </tr>\n",
       "    <tr>\n",
       "      <th>549881</th>\n",
       "      <td>False</td>\n",
       "      <td>/Users/zhangjing/.zsh_sessions/4A383041-71F1-4...</td>\n",
       "      <td>False</td>\n",
       "      <td>False</td>\n",
       "      <td>False</td>\n",
       "      <td>False</td>\n",
       "      <td>False</td>\n",
       "      <td>False</td>\n",
       "      <td>False</td>\n",
       "      <td>False</td>\n",
       "      <td>...</td>\n",
       "      <td>False</td>\n",
       "      <td>False</td>\n",
       "      <td>False</td>\n",
       "      <td>False</td>\n",
       "      <td>False</td>\n",
       "      <td>False</td>\n",
       "      <td>False</td>\n",
       "      <td>False</td>\n",
       "      <td>False</td>\n",
       "      <td>False</td>\n",
       "    </tr>\n",
       "    <tr>\n",
       "      <th>549882</th>\n",
       "      <td>False</td>\n",
       "      <td>/Users/zhangjing/.astropy/cache/download/py3/4...</td>\n",
       "      <td>False</td>\n",
       "      <td>False</td>\n",
       "      <td>False</td>\n",
       "      <td>False</td>\n",
       "      <td>False</td>\n",
       "      <td>False</td>\n",
       "      <td>False</td>\n",
       "      <td>False</td>\n",
       "      <td>...</td>\n",
       "      <td>False</td>\n",
       "      <td>False</td>\n",
       "      <td>False</td>\n",
       "      <td>False</td>\n",
       "      <td>False</td>\n",
       "      <td>False</td>\n",
       "      <td>False</td>\n",
       "      <td>False</td>\n",
       "      <td>False</td>\n",
       "      <td>False</td>\n",
       "    </tr>\n",
       "    <tr>\n",
       "      <th>549883</th>\n",
       "      <td>False</td>\n",
       "      <td>/Users/zhangjing/.astropy/config/astropy.cfg</td>\n",
       "      <td>False</td>\n",
       "      <td>False</td>\n",
       "      <td>False</td>\n",
       "      <td>False</td>\n",
       "      <td>False</td>\n",
       "      <td>False</td>\n",
       "      <td>False</td>\n",
       "      <td>False</td>\n",
       "      <td>...</td>\n",
       "      <td>False</td>\n",
       "      <td>False</td>\n",
       "      <td>False</td>\n",
       "      <td>False</td>\n",
       "      <td>False</td>\n",
       "      <td>False</td>\n",
       "      <td>False</td>\n",
       "      <td>False</td>\n",
       "      <td>False</td>\n",
       "      <td>False</td>\n",
       "    </tr>\n",
       "    <tr>\n",
       "      <th>549884</th>\n",
       "      <td>False</td>\n",
       "      <td>/Users/zhangjing/.astropy/config/astropy.4.0.1...</td>\n",
       "      <td>False</td>\n",
       "      <td>False</td>\n",
       "      <td>False</td>\n",
       "      <td>False</td>\n",
       "      <td>False</td>\n",
       "      <td>False</td>\n",
       "      <td>False</td>\n",
       "      <td>False</td>\n",
       "      <td>...</td>\n",
       "      <td>False</td>\n",
       "      <td>False</td>\n",
       "      <td>False</td>\n",
       "      <td>False</td>\n",
       "      <td>False</td>\n",
       "      <td>False</td>\n",
       "      <td>False</td>\n",
       "      <td>False</td>\n",
       "      <td>False</td>\n",
       "      <td>False</td>\n",
       "    </tr>\n",
       "  </tbody>\n",
       "</table>\n",
       "<p>549885 rows × 69 columns</p>\n",
       "</div>"
      ],
      "text/plain": [
       "                                                      csv  \\\n",
       "0                                 /Users/zhangjing/tk.csv   \n",
       "1       /Users/zhangjing/linux_tools_for_chinese_histo...   \n",
       "2       /Users/zhangjing/linux_tools_for_chinese_histo...   \n",
       "3       /Users/zhangjing/linux_tools_for_chinese_histo...   \n",
       "4       /Users/zhangjing/linux_tools_for_chinese_histo...   \n",
       "...                                                   ...   \n",
       "549880                                              False   \n",
       "549881                                              False   \n",
       "549882                                              False   \n",
       "549883                                              False   \n",
       "549884                                              False   \n",
       "\n",
       "                                                   otherX  \\\n",
       "0                               /Users/zhangjing/.condarc   \n",
       "1       /Users/zhangjing/.zcompdump-zhangjingdeMacBook...   \n",
       "2                              /Users/zhangjing/temp_cmds   \n",
       "3                               /Users/zhangjing/怎么扫描本地端口   \n",
       "4                         /Users/zhangjing/.mycli-history   \n",
       "...                                                   ...   \n",
       "549880  /Users/zhangjing/.zsh_sessions/F82D7EE5-941A-4...   \n",
       "549881  /Users/zhangjing/.zsh_sessions/4A383041-71F1-4...   \n",
       "549882  /Users/zhangjing/.astropy/cache/download/py3/4...   \n",
       "549883       /Users/zhangjing/.astropy/config/astropy.cfg   \n",
       "549884  /Users/zhangjing/.astropy/config/astropy.4.0.1...   \n",
       "\n",
       "                                           log  \\\n",
       "0                  /Users/zhangjing/.mycli.log   \n",
       "1         /Users/zhangjing/PyMinerdatapath.log   \n",
       "2                      /Users/zhangjing/my.log   \n",
       "3       /Users/zhangjing/network_from_game.log   \n",
       "4                 /Users/zhangjing/history.log   \n",
       "...                                        ...   \n",
       "549880                                   False   \n",
       "549881                                   False   \n",
       "549882                                   False   \n",
       "549883                                   False   \n",
       "549884                                   False   \n",
       "\n",
       "                                                       sh  \\\n",
       "0                               /Users/zhangjing/menge.sh   \n",
       "1                            /Users/zhangjing/init_env.sh   \n",
       "2                           /Users/zhangjing/ssh_start.sh   \n",
       "3       /Users/zhangjing/linux_tools_for_chinese_histo...   \n",
       "4       /Users/zhangjing/linux_tools_for_chinese_histo...   \n",
       "...                                                   ...   \n",
       "549880                                              False   \n",
       "549881                                              False   \n",
       "549882                                              False   \n",
       "549883                                              False   \n",
       "549884                                              False   \n",
       "\n",
       "                                                      txt  \\\n",
       "0                                 /Users/zhangjing/ak.txt   \n",
       "1       /Users/zhangjing/linux_tools_for_chinese_histo...   \n",
       "2       /Users/zhangjing/linux_tools_for_chinese_histo...   \n",
       "3       /Users/zhangjing/linux_tools_for_chinese_histo...   \n",
       "4       /Users/zhangjing/linux_tools_for_chinese_histo...   \n",
       "...                                                   ...   \n",
       "549880                                              False   \n",
       "549881                                              False   \n",
       "549882                                              False   \n",
       "549883                                              False   \n",
       "549884                                              False   \n",
       "\n",
       "                                                      pyc  \\\n",
       "0       /Users/zhangjing/linux_tools_for_chinese_histo...   \n",
       "1       /Users/zhangjing/linux_tools_for_chinese_histo...   \n",
       "2       /Users/zhangjing/linux_tools_for_chinese_histo...   \n",
       "3       /Users/zhangjing/linux_tools_for_chinese_histo...   \n",
       "4       /Users/zhangjing/linux_tools_for_chinese_histo...   \n",
       "...                                                   ...   \n",
       "549880                                              False   \n",
       "549881                                              False   \n",
       "549882                                              False   \n",
       "549883                                              False   \n",
       "549884                                              False   \n",
       "\n",
       "                                                      ini  \\\n",
       "0       /Users/zhangjing/linux_tools_for_chinese_histo...   \n",
       "1       /Users/zhangjing/linux_cmd_search_from_NL/Stat...   \n",
       "2       /Users/zhangjing/nltk_data/models/moses_sample...   \n",
       "3       /Users/zhangjing/nltk_data/models/moses_sample...   \n",
       "4       /Users/zhangjing/nltk_data/models/moses_sample...   \n",
       "...                                                   ...   \n",
       "549880                                              False   \n",
       "549881                                              False   \n",
       "549882                                              False   \n",
       "549883                                              False   \n",
       "549884                                              False   \n",
       "\n",
       "                                                     josn  \\\n",
       "0       /Users/zhangjing/linux_tools_for_chinese_histo...   \n",
       "1       /Users/zhangjing/linux_tools_for_chinese_histo...   \n",
       "2       /Users/zhangjing/linux_tools_for_chinese/0_dat...   \n",
       "3       /Users/zhangjing/linux_tools_for_chinese/0_dat...   \n",
       "4       /Users/zhangjing/linux_for_chinese_history/lin...   \n",
       "...                                                   ...   \n",
       "549880                                              False   \n",
       "549881                                              False   \n",
       "549882                                              False   \n",
       "549883                                              False   \n",
       "549884                                              False   \n",
       "\n",
       "                                                 DS_Store  \\\n",
       "0                              /Users/zhangjing/.DS_Store   \n",
       "1       /Users/zhangjing/linux_tools_for_chinese_histo...   \n",
       "2       /Users/zhangjing/linux_tools_for_chinese_histo...   \n",
       "3       /Users/zhangjing/linux_tools_for_chinese_histo...   \n",
       "4                  /Users/zhangjing/Music/Music/.DS_Store   \n",
       "...                                                   ...   \n",
       "549880                                              False   \n",
       "549881                                              False   \n",
       "549882                                              False   \n",
       "549883                                              False   \n",
       "549884                                              False   \n",
       "\n",
       "                                                       py  ...  \\\n",
       "0                  /Users/zhangjing/python_functionals.py  ...   \n",
       "1                     /Users/zhangjing/code_generation.py  ...   \n",
       "2                          /Users/zhangjing/file_tools.py  ...   \n",
       "3                                /Users/zhangjing/test.py  ...   \n",
       "4       /Users/zhangjing/linux_tools_for_chinese_histo...  ...   \n",
       "...                                                   ...  ...   \n",
       "549880                                              False  ...   \n",
       "549881                                              False  ...   \n",
       "549882                                              False  ...   \n",
       "549883                                              False  ...   \n",
       "549884                                              False  ...   \n",
       "\n",
       "                                                      flv  \\\n",
       "0       /Users/zhangjing/Documents/算法笔记/000_数据分析demo/华...   \n",
       "1       /Users/zhangjing/Documents/算法笔记/101_书籍集合/网页书籍/...   \n",
       "2                                                   False   \n",
       "3                                                   False   \n",
       "4                                                   False   \n",
       "...                                                   ...   \n",
       "549880                                              False   \n",
       "549881                                              False   \n",
       "549882                                              False   \n",
       "549883                                              False   \n",
       "549884                                              False   \n",
       "\n",
       "                                                     mobi  \\\n",
       "0       /Users/zhangjing/Documents/算法笔记/000_数据分析demo/华...   \n",
       "1                                                   False   \n",
       "2                                                   False   \n",
       "3                                                   False   \n",
       "4                                                   False   \n",
       "...                                                   ...   \n",
       "549880                                              False   \n",
       "549881                                              False   \n",
       "549882                                              False   \n",
       "549883                                              False   \n",
       "549884                                              False   \n",
       "\n",
       "                                                      xls  \\\n",
       "0       /Users/zhangjing/Documents/算法笔记/000_数据分析demo/华...   \n",
       "1       /Users/zhangjing/Documents/算法笔记/103_数据集/社工库set...   \n",
       "2       /Users/zhangjing/Documents/算法笔记/103_数据集/社工库set...   \n",
       "3       /Users/zhangjing/Documents/算法笔记/103_数据集/社工库set...   \n",
       "4       /Users/zhangjing/Documents/算法笔记/103_数据集/社工库set...   \n",
       "...                                                   ...   \n",
       "549880                                              False   \n",
       "549881                                              False   \n",
       "549882                                              False   \n",
       "549883                                              False   \n",
       "549884                                              False   \n",
       "\n",
       "                                                     pynb  \\\n",
       "0       /Users/zhangjing/Documents/算法笔记/000_数据分析demo/华...   \n",
       "1       /Users/zhangjing/Documents/算法笔记/101_书籍集合/MySel...   \n",
       "2       /Users/zhangjing/Documents/文稿 - 张晶的MacBook Pro...   \n",
       "3       /Users/zhangjing/Documents/文稿 - 张晶的MacBook Pro...   \n",
       "4                                                   False   \n",
       "...                                                   ...   \n",
       "549880                                              False   \n",
       "549881                                              False   \n",
       "549882                                              False   \n",
       "549883                                              False   \n",
       "549884                                              False   \n",
       "\n",
       "                                                      dms  \\\n",
       "0       /Users/zhangjing/Documents/算法笔记/000_数据分析demo/华...   \n",
       "1                                                   False   \n",
       "2                                                   False   \n",
       "3                                                   False   \n",
       "4                                                   False   \n",
       "...                                                   ...   \n",
       "549880                                              False   \n",
       "549881                                              False   \n",
       "549882                                              False   \n",
       "549883                                              False   \n",
       "549884                                              False   \n",
       "\n",
       "                                                      CSV  \\\n",
       "0       /Users/zhangjing/Documents/算法笔记/103_数据集/社工库set...   \n",
       "1                                                   False   \n",
       "2                                                   False   \n",
       "3                                                   False   \n",
       "4                                                   False   \n",
       "...                                                   ...   \n",
       "549880                                              False   \n",
       "549881                                              False   \n",
       "549882                                              False   \n",
       "549883                                              False   \n",
       "549884                                              False   \n",
       "\n",
       "                                                      deb  \\\n",
       "0       /Users/zhangjing/Downloads/electron-ssr-0.2.6.deb   \n",
       "1                                                   False   \n",
       "2                                                   False   \n",
       "3                                                   False   \n",
       "4                                                   False   \n",
       "...                                                   ...   \n",
       "549880                                              False   \n",
       "549881                                              False   \n",
       "549882                                              False   \n",
       "549883                                              False   \n",
       "549884                                              False   \n",
       "\n",
       "                                                     pptx  \\\n",
       "0       /Users/zhangjing/Library/Group Containers/4K6F...   \n",
       "1       /Users/zhangjing/Library/Containers/com.tencen...   \n",
       "2       /Users/zhangjing/Library/Containers/com.tencen...   \n",
       "3       /Users/zhangjing/Library/Containers/com.tencen...   \n",
       "4       /Users/zhangjing/Library/Containers/com.tencen...   \n",
       "...                                                   ...   \n",
       "549880                                              False   \n",
       "549881                                              False   \n",
       "549882                                              False   \n",
       "549883                                              False   \n",
       "549884                                              False   \n",
       "\n",
       "                                                      pkg  \\\n",
       "0       /Users/zhangjing/homebrew/Library/Homebrew/tes...   \n",
       "1       /Users/zhangjing/Library/Containers/com.tencen...   \n",
       "2                     /Users/zhangjing/Downloads/Zoom.pkg   \n",
       "3                                                   False   \n",
       "4                                                   False   \n",
       "...                                                   ...   \n",
       "549880                                              False   \n",
       "549881                                              False   \n",
       "549882                                              False   \n",
       "549883                                              False   \n",
       "549884                                              False   \n",
       "\n",
       "                                                      dmg  \n",
       "0       /Users/zhangjing/Downloads/NeteaseMusic2.3.3_8...  \n",
       "1                                                   False  \n",
       "2                                                   False  \n",
       "3                                                   False  \n",
       "4                                                   False  \n",
       "...                                                   ...  \n",
       "549880                                              False  \n",
       "549881                                              False  \n",
       "549882                                              False  \n",
       "549883                                              False  \n",
       "549884                                              False  \n",
       "\n",
       "[549885 rows x 69 columns]"
      ]
     },
     "execution_count": 3,
     "metadata": {},
     "output_type": "execute_result"
    }
   ],
   "source": [
    "from os import path, getcwd, walk, sep\n",
    "from tqdm import tqdm\n",
    "\n",
    "\n",
    "def check_file_type():\n",
    "    \"检查文件类型\"\n",
    "    filter_type = {}\n",
    "    for filename in path_table.otherX:\n",
    "        split_file_name = os.path.split(filename)[1].split(\".\")\n",
    "        suffix = split_file_name[-1]\n",
    "        if len(suffix)<6 and is_all_eng(suffix) and len(split_file_name) == 2:\n",
    "            filter_type.update({suffix:[]})\n",
    "    return filter_type\n",
    "\n",
    "def path_table_function(dirpath=path.expanduser(\"~/Downloads/\")\n",
    "               ,file_type_dict = {\n",
    "                   'csv': [], 'otherX': [], 'log': [],'sh': [],'txt': [], 'pyc': [],'ini': [], 'josn': [],'DS_Store': []\n",
    "                   ,'py': [], 'json': [], 'ipynb': [],\"pdf\":[],'html': [],'zshrc': [],'zip': [],'bash': [],'vimrc': []\n",
    "                   ,'xlsx': [],'pub': [],'db': [],'mmdb': [],'npy': [],'text': [],'xml': [],'dat': [],'doc': [],'png': []\n",
    "                   ,'jpeg': [],'JPG': [],'PNG': [],'JPEG': [],'git': [],'c': [],'DB': [],'token': [],'php': [],'xmind': []\n",
    "                   ,'tar': [],'hhc': [],'pyz': [],'pyi': [],'pyx': [],'pxi': [],'cat': [],'ie': [],'msg': [],'linux': []\n",
    "                   ,'gdb': [],'ptx': [],'model': [],'xrc': [],'hy': [],'ex': [],'exs': [],'RSA': [],'rs': [],'ppt': []\n",
    "                   ,'name': [],'flv': [],'mobi': [],'xls': [],'pynb': [],'dms': [],'CSV': [],\"deb\":[],\"pptx\":[],\"pkg\":[],\"dmg\":[]\n",
    "                                 }):\n",
    "    \n",
    "    for dir_, folder, files in tqdm(walk(dirpath), desc='路径生成'):\n",
    "        for file in files:\n",
    "            temp = path.join(dir_, file)\n",
    "            split_file_name = temp.split(\".\")\n",
    "            file_type = split_file_name[-1]\n",
    "            clearning_file_name = split_file_name[0]\n",
    "            if file_type in file_type_dict:\n",
    "                file_type_dict[file_type].append(temp)\n",
    "            else:\n",
    "                file_type_dict[\"otherX\"].append(temp)\n",
    "    \n",
    "    stats_table = {len(value):key for key,value in file_type_dict.items()}\n",
    "    \n",
    "    return pd.DataFrame({key :max(stats_table) != len(value) and value+[False]*(max(stats_table)-len(value)) or value  for key,value in file_type_dict.items()})\n",
    "\n",
    "\n",
    "path_table = path_table_function(path.expanduser(\"~/\"))\n",
    "path_table"
   ]
  },
  {
   "cell_type": "code",
   "execution_count": 4,
   "metadata": {},
   "outputs": [
    {
     "data": {
      "text/plain": [
       "False"
      ]
     },
     "execution_count": 4,
     "metadata": {},
     "output_type": "execute_result"
    }
   ],
   "source": [
    "\n",
    "def is_all_eng(strs):\n",
    "    import string\n",
    "    for i in strs:\n",
    "        if i not in string.ascii_lowercase+string.ascii_uppercase:\n",
    "            return False\n",
    "    return True\n",
    "\n",
    "is_all_eng(\"assadsad.\")"
   ]
  },
  {
   "cell_type": "code",
   "execution_count": null,
   "metadata": {},
   "outputs": [],
   "source": []
  },
  {
   "cell_type": "markdown",
   "metadata": {},
   "source": [
    "# 文件移动函数"
   ]
  },
  {
   "cell_type": "code",
   "execution_count": 5,
   "metadata": {},
   "outputs": [],
   "source": [
    "import shutil\n",
    "\n",
    "def move_file_function(path_table,file_type,target_address = \"/Users/zhangjing/Downloads/\"):\n",
    "    error_list = []\n",
    "    for src_path in tqdm(path_table[file_type]):\n",
    "        try:\n",
    "            filename = os.path.split(src_path)[1]\n",
    "            full_path = os.path.join(target_address,filename)\n",
    "            shutil.copyfile(src_path,full_path)\n",
    "        except Exception as e:\n",
    "            error_list.append(e)\n",
    "        finally:\n",
    "            pass\n",
    "\n",
    "#move_file_function(path_table,\"csv\",target_address=\"/Volumes/MAC系统空间/files/csv/\")"
   ]
  },
  {
   "cell_type": "code",
   "execution_count": 6,
   "metadata": {},
   "outputs": [],
   "source": [
    "#move_file_function(path_table,\"log\",target_address=\"/Volumes/MAC系统空间/files/log/\")"
   ]
  },
  {
   "cell_type": "markdown",
   "metadata": {},
   "source": [
    "# 创建文件夹"
   ]
  },
  {
   "cell_type": "code",
   "execution_count": 7,
   "metadata": {},
   "outputs": [
    {
     "name": "stdout",
     "output_type": "stream",
     "text": [
      "/Volumes/MAC系统空间/files/test/ 创建成功\n"
     ]
    },
    {
     "data": {
      "text/plain": [
       "True"
      ]
     },
     "execution_count": 7,
     "metadata": {},
     "output_type": "execute_result"
    }
   ],
   "source": [
    "def mkdir(path):\n",
    "    path=path.strip()\n",
    "    path=path.rstrip(\"\\\\\")\n",
    "    is_exists=os.path.exists(path)\n",
    "    if not is_exists:\n",
    "        os.makedirs(path) \n",
    "        print(path+' 创建成功')\n",
    "        return True\n",
    "    else:\n",
    "        print(path+' 目录已存在')\n",
    "        return False\n",
    "    \n",
    "    \n",
    "    \n",
    "mkdir(\"/Volumes/MAC系统空间/files/test/\")"
   ]
  },
  {
   "cell_type": "markdown",
   "metadata": {},
   "source": [
    "# 分批创建文件夹并归类文件类型"
   ]
  },
  {
   "cell_type": "code",
   "execution_count": 8,
   "metadata": {},
   "outputs": [
    {
     "name": "stderr",
     "output_type": "stream",
     "text": [
      "  0%|          | 44/549885 [00:00<22:03, 415.60it/s]"
     ]
    },
    {
     "name": "stdout",
     "output_type": "stream",
     "text": [
      "/Volumes/MAC系统空间/files/csv 创建成功\n"
     ]
    },
    {
     "name": "stderr",
     "output_type": "stream",
     "text": [
      "100%|██████████| 549885/549885 [01:14<00:00, 7368.82it/s] \n",
      "  0%|          | 0/549885 [00:00<?, ?it/s]"
     ]
    },
    {
     "name": "stdout",
     "output_type": "stream",
     "text": [
      "/Volumes/MAC系统空间/files/otherX 创建成功\n",
      "/Volumes/MAC系统空间/files/log 创建成功\n"
     ]
    },
    {
     "name": "stderr",
     "output_type": "stream",
     "text": [
      "100%|██████████| 549885/549885 [00:09<00:00, 58275.91it/s]\n",
      "  0%|          | 112/549885 [00:00<08:11, 1118.99it/s]"
     ]
    },
    {
     "name": "stdout",
     "output_type": "stream",
     "text": [
      "/Volumes/MAC系统空间/files/sh 创建成功\n"
     ]
    },
    {
     "name": "stderr",
     "output_type": "stream",
     "text": [
      "100%|██████████| 549885/549885 [00:06<00:00, 79842.71it/s]\n",
      "  0%|          | 28/549885 [00:00<34:41, 264.15it/s]"
     ]
    },
    {
     "name": "stdout",
     "output_type": "stream",
     "text": [
      "/Volumes/MAC系统空间/files/txt 创建成功\n"
     ]
    },
    {
     "name": "stderr",
     "output_type": "stream",
     "text": [
      "100%|██████████| 549885/549885 [01:06<00:00, 8308.05it/s] \n",
      "  0%|          | 186/549885 [00:00<04:55, 1858.36it/s]"
     ]
    },
    {
     "name": "stdout",
     "output_type": "stream",
     "text": [
      "/Volumes/MAC系统空间/files/pyc 创建成功\n"
     ]
    },
    {
     "name": "stderr",
     "output_type": "stream",
     "text": [
      "100%|██████████| 549885/549885 [01:21<00:00, 6737.53it/s] \n",
      "  0%|          | 102/549885 [00:00<09:02, 1014.26it/s]"
     ]
    },
    {
     "name": "stdout",
     "output_type": "stream",
     "text": [
      "/Volumes/MAC系统空间/files/ini 创建成功\n"
     ]
    },
    {
     "name": "stderr",
     "output_type": "stream",
     "text": [
      "100%|██████████| 549885/549885 [00:03<00:00, 144561.37it/s]\n",
      "  0%|          | 0/549885 [00:00<?, ?it/s]"
     ]
    },
    {
     "name": "stdout",
     "output_type": "stream",
     "text": [
      "/Volumes/MAC系统空间/files/josn 创建成功\n"
     ]
    },
    {
     "name": "stderr",
     "output_type": "stream",
     "text": [
      "100%|██████████| 549885/549885 [00:04<00:00, 136326.48it/s]\n",
      "  0%|          | 89/549885 [00:00<10:31, 870.66it/s]"
     ]
    },
    {
     "name": "stdout",
     "output_type": "stream",
     "text": [
      "/Volumes/MAC系统空间/files/DS_Store 创建成功\n"
     ]
    },
    {
     "name": "stderr",
     "output_type": "stream",
     "text": [
      "100%|██████████| 549885/549885 [00:04<00:00, 134450.16it/s]\n",
      "  0%|          | 212/549885 [00:00<04:19, 2116.38it/s]"
     ]
    },
    {
     "name": "stdout",
     "output_type": "stream",
     "text": [
      "/Volumes/MAC系统空间/files/py 创建成功\n"
     ]
    },
    {
     "name": "stderr",
     "output_type": "stream",
     "text": [
      "100%|██████████| 549885/549885 [01:28<00:00, 6234.36it/s] \n",
      "  0%|          | 0/549885 [00:00<?, ?it/s]"
     ]
    },
    {
     "name": "stdout",
     "output_type": "stream",
     "text": [
      "/Volumes/MAC系统空间/files/json 创建成功\n"
     ]
    },
    {
     "name": "stderr",
     "output_type": "stream",
     "text": [
      "100%|██████████| 549885/549885 [03:04<00:00, 2984.78it/s] \n",
      "  0%|          | 217/549885 [00:00<12:33, 729.14it/s]"
     ]
    },
    {
     "name": "stdout",
     "output_type": "stream",
     "text": [
      "/Volumes/MAC系统空间/files/ipynb 创建成功\n"
     ]
    },
    {
     "name": "stderr",
     "output_type": "stream",
     "text": [
      "100%|██████████| 549885/549885 [00:11<00:00, 48905.89it/s]\n",
      "  0%|          | 35/549885 [00:00<26:40, 343.46it/s]"
     ]
    },
    {
     "name": "stdout",
     "output_type": "stream",
     "text": [
      "/Volumes/MAC系统空间/files/pdf 创建成功\n"
     ]
    },
    {
     "name": "stderr",
     "output_type": "stream",
     "text": [
      "100%|██████████| 549885/549885 [00:21<00:00, 25448.40it/s]\n",
      "  0%|          | 152/549885 [00:00<06:07, 1497.64it/s]"
     ]
    },
    {
     "name": "stdout",
     "output_type": "stream",
     "text": [
      "/Volumes/MAC系统空间/files/html 创建成功\n"
     ]
    },
    {
     "name": "stderr",
     "output_type": "stream",
     "text": [
      "100%|██████████| 549885/549885 [00:07<00:00, 71731.50it/s] \n",
      "  0%|          | 0/549885 [00:00<?, ?it/s]"
     ]
    },
    {
     "name": "stdout",
     "output_type": "stream",
     "text": [
      "/Volumes/MAC系统空间/files/zshrc 创建成功\n"
     ]
    },
    {
     "name": "stderr",
     "output_type": "stream",
     "text": [
      "100%|██████████| 549885/549885 [00:03<00:00, 140987.07it/s]\n",
      "  0%|          | 1/549885 [00:00<17:35:19,  8.68it/s]"
     ]
    },
    {
     "name": "stdout",
     "output_type": "stream",
     "text": [
      "/Volumes/MAC系统空间/files/zip 创建成功\n"
     ]
    },
    {
     "name": "stderr",
     "output_type": "stream",
     "text": [
      "100%|██████████| 549885/549885 [00:08<00:00, 64892.15it/s]\n",
      "  0%|          | 0/549885 [00:00<?, ?it/s]"
     ]
    },
    {
     "name": "stdout",
     "output_type": "stream",
     "text": [
      "/Volumes/MAC系统空间/files/bash 创建成功\n"
     ]
    },
    {
     "name": "stderr",
     "output_type": "stream",
     "text": [
      "100%|██████████| 549885/549885 [00:03<00:00, 138682.67it/s]\n",
      " 11%|█▏        | 61937/549885 [00:01<00:10, 48747.64it/s] "
     ]
    },
    {
     "name": "stdout",
     "output_type": "stream",
     "text": [
      "/Volumes/MAC系统空间/files/vimrc 创建成功\n"
     ]
    },
    {
     "name": "stderr",
     "output_type": "stream",
     "text": [
      "100%|██████████| 549885/549885 [00:03<00:00, 140991.78it/s]\n",
      "  0%|          | 41/549885 [00:00<37:52, 241.91it/s]"
     ]
    },
    {
     "name": "stdout",
     "output_type": "stream",
     "text": [
      "/Volumes/MAC系统空间/files/xlsx 创建成功\n"
     ]
    },
    {
     "name": "stderr",
     "output_type": "stream",
     "text": [
      "100%|██████████| 549885/549885 [00:04<00:00, 130836.68it/s]\n",
      "  0%|          | 0/549885 [00:00<?, ?it/s]"
     ]
    },
    {
     "name": "stdout",
     "output_type": "stream",
     "text": [
      "/Volumes/MAC系统空间/files/pub 创建成功\n"
     ]
    },
    {
     "name": "stderr",
     "output_type": "stream",
     "text": [
      "100%|██████████| 549885/549885 [00:03<00:00, 139325.18it/s]\n",
      "  0%|          | 23/549885 [00:00<1:00:49, 150.65it/s]"
     ]
    },
    {
     "name": "stdout",
     "output_type": "stream",
     "text": [
      "/Volumes/MAC系统空间/files/db 创建成功\n"
     ]
    },
    {
     "name": "stderr",
     "output_type": "stream",
     "text": [
      "100%|██████████| 549885/549885 [00:05<00:00, 104505.25it/s]\n",
      "  0%|          | 1/549885 [00:00<23:15:35,  6.57it/s]"
     ]
    },
    {
     "name": "stdout",
     "output_type": "stream",
     "text": [
      "/Volumes/MAC系统空间/files/mmdb 创建成功\n"
     ]
    },
    {
     "name": "stderr",
     "output_type": "stream",
     "text": [
      "100%|██████████| 549885/549885 [00:06<00:00, 82290.59it/s]\n",
      "  0%|          | 72/549885 [00:00<12:49, 714.27it/s]"
     ]
    },
    {
     "name": "stdout",
     "output_type": "stream",
     "text": [
      "/Volumes/MAC系统空间/files/npy 创建成功\n"
     ]
    },
    {
     "name": "stderr",
     "output_type": "stream",
     "text": [
      "100%|██████████| 549885/549885 [00:05<00:00, 101208.90it/s]\n",
      "  0%|          | 136/549885 [00:00<10:37, 861.82it/s]"
     ]
    },
    {
     "name": "stdout",
     "output_type": "stream",
     "text": [
      "/Volumes/MAC系统空间/files/text 创建成功\n"
     ]
    },
    {
     "name": "stderr",
     "output_type": "stream",
     "text": [
      "100%|██████████| 549885/549885 [00:03<00:00, 143889.77it/s]\n",
      "  0%|          | 197/549885 [00:00<04:39, 1965.22it/s]"
     ]
    },
    {
     "name": "stdout",
     "output_type": "stream",
     "text": [
      "/Volumes/MAC系统空间/files/xml 创建成功\n"
     ]
    },
    {
     "name": "stderr",
     "output_type": "stream",
     "text": [
      "100%|██████████| 549885/549885 [00:39<00:00, 13920.44it/s]\n",
      "  0%|          | 16/549885 [00:00<58:34, 156.45it/s]"
     ]
    },
    {
     "name": "stdout",
     "output_type": "stream",
     "text": [
      "/Volumes/MAC系统空间/files/dat 创建成功\n"
     ]
    },
    {
     "name": "stderr",
     "output_type": "stream",
     "text": [
      "100%|██████████| 549885/549885 [00:05<00:00, 97270.69it/s]\n",
      " 13%|█▎        | 70953/549885 [00:01<00:05, 81355.48it/s] "
     ]
    },
    {
     "name": "stdout",
     "output_type": "stream",
     "text": [
      "/Volumes/MAC系统空间/files/doc 创建成功\n"
     ]
    },
    {
     "name": "stderr",
     "output_type": "stream",
     "text": [
      "100%|██████████| 549885/549885 [00:03<00:00, 161111.73it/s]\n",
      "  0%|          | 26/549885 [00:00<35:41, 256.78it/s]"
     ]
    },
    {
     "name": "stdout",
     "output_type": "stream",
     "text": [
      "/Volumes/MAC系统空间/files/png 创建成功\n"
     ]
    },
    {
     "name": "stderr",
     "output_type": "stream",
     "text": [
      "100%|██████████| 549885/549885 [00:23<00:00, 23885.93it/s] \n",
      "  0%|          | 29/549885 [00:00<32:24, 282.81it/s]"
     ]
    },
    {
     "name": "stdout",
     "output_type": "stream",
     "text": [
      "/Volumes/MAC系统空间/files/jpeg 创建成功\n"
     ]
    },
    {
     "name": "stderr",
     "output_type": "stream",
     "text": [
      "100%|██████████| 549885/549885 [00:29<00:00, 18678.61it/s]\n",
      "  0%|          | 34/549885 [00:00<27:28, 333.59it/s]"
     ]
    },
    {
     "name": "stdout",
     "output_type": "stream",
     "text": [
      "/Volumes/MAC系统空间/files/JPG 创建成功\n"
     ]
    },
    {
     "name": "stderr",
     "output_type": "stream",
     "text": [
      "100%|██████████| 549885/549885 [00:03<00:00, 145582.52it/s]\n",
      "  0%|          | 18/549885 [00:00<51:00, 179.64it/s]"
     ]
    },
    {
     "name": "stdout",
     "output_type": "stream",
     "text": [
      "/Volumes/MAC系统空间/files/PNG 目录已存在\n"
     ]
    },
    {
     "name": "stderr",
     "output_type": "stream",
     "text": [
      "100%|██████████| 549885/549885 [00:03<00:00, 141886.03it/s]\n",
      " 10%|█         | 55624/549885 [00:00<00:00, 555323.00it/s]"
     ]
    },
    {
     "name": "stdout",
     "output_type": "stream",
     "text": [
      "/Volumes/MAC系统空间/files/JPEG 目录已存在\n"
     ]
    },
    {
     "name": "stderr",
     "output_type": "stream",
     "text": [
      "100%|██████████| 549885/549885 [00:03<00:00, 152388.40it/s]\n",
      " 14%|█▎        | 75312/549885 [00:00<00:01, 252926.07it/s]"
     ]
    },
    {
     "name": "stdout",
     "output_type": "stream",
     "text": [
      "/Volumes/MAC系统空间/files/git 创建成功\n"
     ]
    },
    {
     "name": "stderr",
     "output_type": "stream",
     "text": [
      "100%|██████████| 549885/549885 [00:03<00:00, 157657.52it/s]\n",
      "  0%|          | 126/549885 [00:00<07:18, 1252.66it/s]"
     ]
    },
    {
     "name": "stdout",
     "output_type": "stream",
     "text": [
      "/Volumes/MAC系统空间/files/c 创建成功\n"
     ]
    },
    {
     "name": "stderr",
     "output_type": "stream",
     "text": [
      "100%|██████████| 549885/549885 [00:04<00:00, 130391.27it/s]\n",
      "  0%|          | 0/549885 [00:00<?, ?it/s]"
     ]
    },
    {
     "name": "stdout",
     "output_type": "stream",
     "text": [
      "/Volumes/MAC系统空间/files/DB 目录已存在\n"
     ]
    },
    {
     "name": "stderr",
     "output_type": "stream",
     "text": [
      "100%|██████████| 549885/549885 [00:03<00:00, 155893.85it/s]\n",
      " 12%|█▏        | 66173/549885 [00:00<00:09, 53344.12it/s] "
     ]
    },
    {
     "name": "stdout",
     "output_type": "stream",
     "text": [
      "/Volumes/MAC系统空间/files/token 创建成功\n"
     ]
    },
    {
     "name": "stderr",
     "output_type": "stream",
     "text": [
      "100%|██████████| 549885/549885 [00:03<00:00, 148888.51it/s]\n",
      " 13%|█▎        | 74177/549885 [00:00<00:01, 268296.85it/s]"
     ]
    },
    {
     "name": "stdout",
     "output_type": "stream",
     "text": [
      "/Volumes/MAC系统空间/files/php 创建成功\n"
     ]
    },
    {
     "name": "stderr",
     "output_type": "stream",
     "text": [
      "100%|██████████| 549885/549885 [00:03<00:00, 163712.56it/s]\n",
      "  0%|          | 61/549885 [00:00<15:14, 601.51it/s]"
     ]
    },
    {
     "name": "stdout",
     "output_type": "stream",
     "text": [
      "/Volumes/MAC系统空间/files/xmind 创建成功\n"
     ]
    },
    {
     "name": "stderr",
     "output_type": "stream",
     "text": [
      "100%|██████████| 549885/549885 [00:03<00:00, 143706.76it/s]\n",
      "  0%|          | 25/549885 [00:00<37:03, 247.31it/s]"
     ]
    },
    {
     "name": "stdout",
     "output_type": "stream",
     "text": [
      "/Volumes/MAC系统空间/files/tar 创建成功\n"
     ]
    },
    {
     "name": "stderr",
     "output_type": "stream",
     "text": [
      "100%|██████████| 549885/549885 [00:03<00:00, 152929.90it/s]\n",
      " 17%|█▋        | 93056/549885 [00:00<00:01, 454711.79it/s]"
     ]
    },
    {
     "name": "stdout",
     "output_type": "stream",
     "text": [
      "/Volumes/MAC系统空间/files/hhc 创建成功\n"
     ]
    },
    {
     "name": "stderr",
     "output_type": "stream",
     "text": [
      "100%|██████████| 549885/549885 [00:03<00:00, 153557.04it/s]\n",
      "  9%|▉         | 49107/549885 [00:00<00:01, 491064.61it/s]"
     ]
    },
    {
     "name": "stdout",
     "output_type": "stream",
     "text": [
      "/Volumes/MAC系统空间/files/pyz 创建成功\n"
     ]
    },
    {
     "name": "stderr",
     "output_type": "stream",
     "text": [
      "100%|██████████| 549885/549885 [00:03<00:00, 171418.60it/s]\n",
      "  0%|          | 315/549885 [00:00<06:05, 1504.13it/s]"
     ]
    },
    {
     "name": "stdout",
     "output_type": "stream",
     "text": [
      "/Volumes/MAC系统空间/files/pyi 创建成功\n"
     ]
    },
    {
     "name": "stderr",
     "output_type": "stream",
     "text": [
      "100%|██████████| 549885/549885 [00:10<00:00, 50102.77it/s] \n",
      "  0%|          | 153/549885 [00:00<06:02, 1516.47it/s]"
     ]
    },
    {
     "name": "stdout",
     "output_type": "stream",
     "text": [
      "/Volumes/MAC系统空间/files/pyx 创建成功\n"
     ]
    },
    {
     "name": "stderr",
     "output_type": "stream",
     "text": [
      "100%|██████████| 549885/549885 [00:03<00:00, 147698.72it/s]\n",
      " 16%|█▌        | 89252/549885 [00:00<00:01, 431825.28it/s]"
     ]
    },
    {
     "name": "stdout",
     "output_type": "stream",
     "text": [
      "/Volumes/MAC系统空间/files/pxi 创建成功\n"
     ]
    },
    {
     "name": "stderr",
     "output_type": "stream",
     "text": [
      "100%|██████████| 549885/549885 [00:03<00:00, 173123.05it/s]\n",
      " 10%|█         | 55426/549885 [00:00<00:10, 48974.56it/s] "
     ]
    },
    {
     "name": "stdout",
     "output_type": "stream",
     "text": [
      "/Volumes/MAC系统空间/files/cat 创建成功\n"
     ]
    },
    {
     "name": "stderr",
     "output_type": "stream",
     "text": [
      "100%|██████████| 549885/549885 [00:03<00:00, 143504.16it/s]\n",
      "  8%|▊         | 43084/549885 [00:00<00:01, 430836.30it/s]"
     ]
    },
    {
     "name": "stdout",
     "output_type": "stream",
     "text": [
      "/Volumes/MAC系统空间/files/ie 创建成功\n"
     ]
    },
    {
     "name": "stderr",
     "output_type": "stream",
     "text": [
      "100%|██████████| 549885/549885 [00:03<00:00, 159408.02it/s]\n",
      "  0%|          | 180/549885 [00:00<05:06, 1790.78it/s]"
     ]
    },
    {
     "name": "stdout",
     "output_type": "stream",
     "text": [
      "/Volumes/MAC系统空间/files/msg 创建成功\n"
     ]
    },
    {
     "name": "stderr",
     "output_type": "stream",
     "text": [
      "100%|██████████| 549885/549885 [00:04<00:00, 135967.39it/s]\n",
      " 17%|█▋        | 96202/549885 [00:00<00:01, 440180.59it/s]"
     ]
    },
    {
     "name": "stdout",
     "output_type": "stream",
     "text": [
      "/Volumes/MAC系统空间/files/linux 创建成功\n"
     ]
    },
    {
     "name": "stderr",
     "output_type": "stream",
     "text": [
      "100%|██████████| 549885/549885 [00:03<00:00, 157056.73it/s]\n",
      " 19%|█▊        | 102757/549885 [00:00<00:00, 507609.64it/s]"
     ]
    },
    {
     "name": "stdout",
     "output_type": "stream",
     "text": [
      "/Volumes/MAC系统空间/files/gdb 创建成功\n"
     ]
    },
    {
     "name": "stderr",
     "output_type": "stream",
     "text": [
      "100%|██████████| 549885/549885 [00:03<00:00, 180471.33it/s]\n",
      "  0%|          | 0/549885 [00:00<?, ?it/s]"
     ]
    },
    {
     "name": "stdout",
     "output_type": "stream",
     "text": [
      "/Volumes/MAC系统空间/files/ptx 创建成功\n"
     ]
    },
    {
     "name": "stderr",
     "output_type": "stream",
     "text": [
      "100%|██████████| 549885/549885 [00:03<00:00, 152273.95it/s]\n",
      "  0%|          | 0/549885 [00:00<?, ?it/s]"
     ]
    },
    {
     "name": "stdout",
     "output_type": "stream",
     "text": [
      "/Volumes/MAC系统空间/files/model 创建成功\n"
     ]
    },
    {
     "name": "stderr",
     "output_type": "stream",
     "text": [
      "100%|██████████| 549885/549885 [00:03<00:00, 149649.63it/s]\n",
      "  0%|          | 0/549885 [00:00<?, ?it/s]"
     ]
    },
    {
     "name": "stdout",
     "output_type": "stream",
     "text": [
      "/Volumes/MAC系统空间/files/xrc 创建成功\n"
     ]
    },
    {
     "name": "stderr",
     "output_type": "stream",
     "text": [
      "100%|██████████| 549885/549885 [00:03<00:00, 149785.77it/s]\n",
      "  0%|          | 0/549885 [00:00<?, ?it/s]"
     ]
    },
    {
     "name": "stdout",
     "output_type": "stream",
     "text": [
      "/Volumes/MAC系统空间/files/hy 创建成功\n"
     ]
    },
    {
     "name": "stderr",
     "output_type": "stream",
     "text": [
      "100%|██████████| 549885/549885 [00:03<00:00, 152516.63it/s]\n",
      "  0%|          | 239/549885 [00:00<03:50, 2387.82it/s]"
     ]
    },
    {
     "name": "stdout",
     "output_type": "stream",
     "text": [
      "/Volumes/MAC系统空间/files/ex 创建成功\n"
     ]
    },
    {
     "name": "stderr",
     "output_type": "stream",
     "text": [
      "100%|██████████| 549885/549885 [00:03<00:00, 148521.51it/s]\n",
      "  0%|          | 0/549885 [00:00<?, ?it/s]"
     ]
    },
    {
     "name": "stdout",
     "output_type": "stream",
     "text": [
      "/Volumes/MAC系统空间/files/exs 创建成功\n"
     ]
    },
    {
     "name": "stderr",
     "output_type": "stream",
     "text": [
      "100%|██████████| 549885/549885 [00:03<00:00, 151974.19it/s]\n",
      "  0%|          | 0/549885 [00:00<?, ?it/s]"
     ]
    },
    {
     "name": "stdout",
     "output_type": "stream",
     "text": [
      "/Volumes/MAC系统空间/files/RSA 创建成功\n"
     ]
    },
    {
     "name": "stderr",
     "output_type": "stream",
     "text": [
      "100%|██████████| 549885/549885 [00:03<00:00, 153643.37it/s]\n",
      "  0%|          | 0/549885 [00:00<?, ?it/s]"
     ]
    },
    {
     "name": "stdout",
     "output_type": "stream",
     "text": [
      "/Volumes/MAC系统空间/files/rs 创建成功\n"
     ]
    },
    {
     "name": "stderr",
     "output_type": "stream",
     "text": [
      "100%|██████████| 549885/549885 [00:03<00:00, 150455.81it/s]\n",
      "  0%|          | 0/549885 [00:00<?, ?it/s]"
     ]
    },
    {
     "name": "stdout",
     "output_type": "stream",
     "text": [
      "/Volumes/MAC系统空间/files/ppt 创建成功\n"
     ]
    },
    {
     "name": "stderr",
     "output_type": "stream",
     "text": [
      "100%|██████████| 549885/549885 [00:03<00:00, 149032.28it/s]\n",
      "  0%|          | 0/549885 [00:00<?, ?it/s]"
     ]
    },
    {
     "name": "stdout",
     "output_type": "stream",
     "text": [
      "/Volumes/MAC系统空间/files/name 创建成功\n"
     ]
    },
    {
     "name": "stderr",
     "output_type": "stream",
     "text": [
      "100%|██████████| 549885/549885 [00:03<00:00, 151859.73it/s]\n",
      "  0%|          | 0/549885 [00:00<?, ?it/s]"
     ]
    },
    {
     "name": "stdout",
     "output_type": "stream",
     "text": [
      "/Volumes/MAC系统空间/files/flv 创建成功\n"
     ]
    },
    {
     "name": "stderr",
     "output_type": "stream",
     "text": [
      "100%|██████████| 549885/549885 [00:03<00:00, 151272.73it/s]\n",
      "  0%|          | 0/549885 [00:00<?, ?it/s]"
     ]
    },
    {
     "name": "stdout",
     "output_type": "stream",
     "text": [
      "/Volumes/MAC系统空间/files/mobi 创建成功\n"
     ]
    },
    {
     "name": "stderr",
     "output_type": "stream",
     "text": [
      "100%|██████████| 549885/549885 [00:03<00:00, 149456.15it/s]\n",
      "  0%|          | 4/549885 [00:00<5:28:54, 27.86it/s]"
     ]
    },
    {
     "name": "stdout",
     "output_type": "stream",
     "text": [
      "/Volumes/MAC系统空间/files/xls 创建成功\n"
     ]
    },
    {
     "name": "stderr",
     "output_type": "stream",
     "text": [
      "100%|██████████| 549885/549885 [00:03<00:00, 144281.25it/s]\n",
      "  0%|          | 0/549885 [00:00<?, ?it/s]"
     ]
    },
    {
     "name": "stdout",
     "output_type": "stream",
     "text": [
      "/Volumes/MAC系统空间/files/pynb 创建成功\n"
     ]
    },
    {
     "name": "stderr",
     "output_type": "stream",
     "text": [
      "100%|██████████| 549885/549885 [00:03<00:00, 151496.79it/s]\n",
      "  0%|          | 0/549885 [00:00<?, ?it/s]"
     ]
    },
    {
     "name": "stdout",
     "output_type": "stream",
     "text": [
      "/Volumes/MAC系统空间/files/dms 创建成功\n"
     ]
    },
    {
     "name": "stderr",
     "output_type": "stream",
     "text": [
      "100%|██████████| 549885/549885 [00:03<00:00, 151024.87it/s]\n",
      "  0%|          | 0/549885 [00:00<?, ?it/s]"
     ]
    },
    {
     "name": "stdout",
     "output_type": "stream",
     "text": [
      "/Volumes/MAC系统空间/files/CSV 目录已存在\n"
     ]
    },
    {
     "name": "stderr",
     "output_type": "stream",
     "text": [
      "100%|██████████| 549885/549885 [00:03<00:00, 152604.92it/s]\n",
      "  0%|          | 0/549885 [00:00<?, ?it/s]"
     ]
    },
    {
     "name": "stdout",
     "output_type": "stream",
     "text": [
      "/Volumes/MAC系统空间/files/deb 创建成功\n"
     ]
    },
    {
     "name": "stderr",
     "output_type": "stream",
     "text": [
      "100%|██████████| 549885/549885 [00:03<00:00, 146080.20it/s]\n",
      "  0%|          | 0/549885 [00:00<?, ?it/s]"
     ]
    },
    {
     "name": "stdout",
     "output_type": "stream",
     "text": [
      "/Volumes/MAC系统空间/files/pptx 创建成功\n"
     ]
    },
    {
     "name": "stderr",
     "output_type": "stream",
     "text": [
      "100%|██████████| 549885/549885 [00:03<00:00, 148807.16it/s]\n",
      "  0%|          | 0/549885 [00:00<?, ?it/s]"
     ]
    },
    {
     "name": "stdout",
     "output_type": "stream",
     "text": [
      "/Volumes/MAC系统空间/files/pkg 创建成功\n"
     ]
    },
    {
     "name": "stderr",
     "output_type": "stream",
     "text": [
      "100%|██████████| 549885/549885 [00:03<00:00, 151709.88it/s]\n",
      "  0%|          | 0/549885 [00:00<?, ?it/s]"
     ]
    },
    {
     "name": "stdout",
     "output_type": "stream",
     "text": [
      "/Volumes/MAC系统空间/files/dmg 创建成功\n"
     ]
    },
    {
     "name": "stderr",
     "output_type": "stream",
     "text": [
      "100%|██████████| 549885/549885 [00:03<00:00, 149459.15it/s]\n"
     ]
    }
   ],
   "source": [
    "target_address=\"/Volumes/MAC系统空间/files/\"\n",
    "for exists in path_table.columns:\n",
    "    fullpath = path.join(target_address,exists)\n",
    "    test_mkdir = mkdir(fullpath)\n",
    "    if exists != \"otherX\":\n",
    "        move_file_function(path_table,exists,fullpath)"
   ]
  },
  {
   "cell_type": "code",
   "execution_count": null,
   "metadata": {},
   "outputs": [],
   "source": []
  },
  {
   "cell_type": "code",
   "execution_count": null,
   "metadata": {},
   "outputs": [],
   "source": []
  },
  {
   "cell_type": "code",
   "execution_count": null,
   "metadata": {},
   "outputs": [],
   "source": []
  },
  {
   "cell_type": "code",
   "execution_count": null,
   "metadata": {},
   "outputs": [],
   "source": []
  },
  {
   "cell_type": "code",
   "execution_count": null,
   "metadata": {},
   "outputs": [],
   "source": []
  },
  {
   "cell_type": "code",
   "execution_count": null,
   "metadata": {},
   "outputs": [],
   "source": []
  }
 ],
 "metadata": {
  "kernelspec": {
   "display_name": "Python 3",
   "language": "python",
   "name": "python3"
  },
  "language_info": {
   "codemirror_mode": {
    "name": "ipython",
    "version": 3
   },
   "file_extension": ".py",
   "mimetype": "text/x-python",
   "name": "python",
   "nbconvert_exporter": "python",
   "pygments_lexer": "ipython3",
   "version": "3.8.5"
  }
 },
 "nbformat": 4,
 "nbformat_minor": 4
}
