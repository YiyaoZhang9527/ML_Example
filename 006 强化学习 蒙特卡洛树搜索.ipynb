{
 "cells": [
  {
   "cell_type": "code",
   "execution_count": 211,
   "metadata": {},
   "outputs": [],
   "source": [
    "import numpy as np"
   ]
  },
  {
   "cell_type": "markdown",
   "metadata": {},
   "source": [
    "$$\n",
    "U C B 1\\left(S_{i}\\right)=\\overline{V_{i}}+c \\sqrt{\\frac{\\log N}{n_{i}}}, c=2\n",
    "$$"
   ]
  },
  {
   "cell_type": "code",
   "execution_count": 212,
   "metadata": {},
   "outputs": [],
   "source": [
    "class Borad_word:\n",
    "\n",
    "    def __init__(self,m,n):\n",
    "        self.m,self.n = m,n\n",
    "        self.board = self.creat_word(self.m,self.n)\n",
    "        self.Map = self.borad_map(self.m,self.n)\n",
    "\n",
    "    def creat_word(self,m,n):\n",
    "        return np.zeros((m,n)).astype(int).astype(str)\n",
    "    \n",
    "    def human(self,*location):\n",
    "        m,n = location[0],location[-1]\n",
    "        if self.check(m,n):\n",
    "            self.board[m,n] = 'h'\n",
    "            return self.board\n",
    "        return 'error'\n",
    "\n",
    "    def machine(self,*location):\n",
    "        m,n = location[0],location[-1]\n",
    "        if self.check(m,n):\n",
    "            self.board[location[0],location[-1]] = 'm'\n",
    "            return self.board\n",
    "        return 'error'\n",
    "\n",
    "    def check(self,m,n):\n",
    "        return self.board[m,n] == '0'\n",
    "\n",
    "    def borad_map(self,m,n):\n",
    "        x,y = np.mgrid[0:m,0:n]\n",
    "        return [tuple(zip(i,j)) for i,j in zip(x,y)]\n",
    "    \n",
    "    def temp_game(self,mm,mn):\n",
    "        for i in range(2):\n",
    "            if i==0:\n",
    "                m = int(input())-1\n",
    "                n = int(input())-1\n",
    "                if self.check(m,n):\n",
    "                    hum = self.human(m,n)\n",
    "            else:\n",
    "                if self.check(mm,mn):\n",
    "                    mach = self.machine(mm,mn)\n",
    "        return self.board\n",
    "\n",
    "    def search(self,b,xindex,yindex):\n",
    "        b = np.array(b)\n",
    "\n",
    "        check_dim = b.shape\n",
    "        if len(check_dim)==2:\n",
    "            m,n = check_dim    \n",
    "        m,n = check_dim[:2]\n",
    "\n",
    "        left_index , right_index , rows_index , column_index = [],[],[],[]\n",
    "\n",
    "        x = range(xindex-2,xindex+3)\n",
    "        y = range(yindex-2,yindex+3)\n",
    "        rey = range(yindex+2,-1*(yindex-1),-1)\n",
    "\n",
    "        for i,j,z in zip(x,y,rey):\n",
    "            if i < m and j < n:\n",
    "                left = b[i,j]\n",
    "                left_index.append(left)   \n",
    "            if i < n :\n",
    "                right =b[i,z]\n",
    "                right_index.append(right)\n",
    "            if j < m:\n",
    "                column = b[xindex,j]\n",
    "                column_index.append(column)\n",
    "            if i < m:\n",
    "                rows = b[i,yindex]\n",
    "                rows_index.append(rows)\n",
    "        return left_index,right_index,column_index,rows_index"
   ]
  },
  {
   "cell_type": "code",
   "execution_count": 213,
   "metadata": {},
   "outputs": [
    {
     "output_type": "execute_result",
     "data": {
      "text/plain": "(2, 3)"
     },
     "metadata": {},
     "execution_count": 213
    }
   ],
   "source": [
    "(2,3,4)[:2]"
   ]
  },
  {
   "cell_type": "code",
   "execution_count": 214,
   "metadata": {},
   "outputs": [
    {
     "output_type": "execute_result",
     "data": {
      "text/plain": "'error'"
     },
     "metadata": {},
     "execution_count": 214
    }
   ],
   "source": [
    "word = Borad_word(10,10)\n",
    "word.human(1,6)\n",
    "word.human(2,6)\n",
    "word.human(3,6)\n",
    "word.human(2,6)"
   ]
  },
  {
   "cell_type": "code",
   "execution_count": 215,
   "metadata": {},
   "outputs": [
    {
     "output_type": "execute_result",
     "data": {
      "text/plain": "array([['0', '0', '0', '0', '0', '0', '0', '0', '0', '0'],\n       ['0', '0', '0', '0', '0', '0', 'h', '0', '0', '0'],\n       ['0', '0', '0', '0', '0', '0', 'h', '0', '0', '0'],\n       ['0', '0', '0', '0', '0', '0', 'h', '0', '0', '0'],\n       ['0', '0', '0', '0', '0', '0', '0', '0', '0', '0'],\n       ['0', '0', '0', '0', '0', '0', '0', '0', '0', '0'],\n       ['0', '0', '0', '0', '0', '0', '0', '0', '0', '0'],\n       ['0', '0', '0', '0', '0', '0', '0', '0', '0', '0'],\n       ['0', '0', '0', '0', '0', '0', '0', '0', '0', '0'],\n       ['0', '0', '0', '0', '0', '0', '0', '0', '0', '0']], dtype='<U21')"
     },
     "metadata": {},
     "execution_count": 215
    }
   ],
   "source": [
    "word.board"
   ]
  },
  {
   "cell_type": "code",
   "execution_count": 216,
   "metadata": {},
   "outputs": [
    {
     "output_type": "execute_result",
     "data": {
      "text/plain": "([array([0, 0]), array([1, 1]), array([2, 2]), array([3, 3]), array([4, 4])],\n [array([0, 4]), array([1, 3]), array([2, 2]), array([3, 1]), array([4, 0])],\n [array([2, 0]), array([2, 1]), array([2, 2]), array([2, 3]), array([2, 4])],\n [array([0, 2]), array([1, 2]), array([2, 2]), array([3, 2]), array([4, 2])])"
     },
     "metadata": {},
     "execution_count": 216
    }
   ],
   "source": [
    "word.search(word.Map,2,2)"
   ]
  },
  {
   "cell_type": "code",
   "execution_count": 217,
   "metadata": {},
   "outputs": [
    {
     "output_type": "execute_result",
     "data": {
      "text/plain": "array([['0', 'h', '0', '0', '0', '0', '0', '0', '0', '0'],\n       ['0', '0', '0', '0', '0', '0', 'h', '0', '0', '0'],\n       ['0', '0', '0', '0', '0', '0', 'h', '0', '0', '0'],\n       ['0', '0', '0', '0', '0', '0', 'h', '0', '0', '0'],\n       ['0', '0', '0', 'm', '0', '0', '0', '0', '0', '0'],\n       ['0', '0', '0', '0', '0', '0', '0', '0', '0', '0'],\n       ['0', '0', '0', '0', '0', '0', '0', '0', '0', '0'],\n       ['0', '0', '0', '0', '0', '0', '0', '0', '0', '0'],\n       ['0', '0', '0', '0', '0', '0', '0', '0', '0', '0'],\n       ['0', '0', '0', '0', '0', '0', '0', '0', '0', '0']], dtype='<U21')"
     },
     "metadata": {},
     "execution_count": 217
    }
   ],
   "source": [
    "b1 = word.temp_game(np.random.randint(10),np.random.randint(10))\n",
    "b1"
   ]
  },
  {
   "cell_type": "code",
   "execution_count": 218,
   "metadata": {},
   "outputs": [
    {
     "output_type": "execute_result",
     "data": {
      "text/plain": "array([[ 0,  1,  2,  3,  4,  5,  6,  7,  8,  9],\n       [10, 11, 12, 13, 14, 15, 16, 17, 18, 19],\n       [20, 21, 22, 23, 24, 25, 26, 27, 28, 29],\n       [30, 31, 32, 33, 34, 35, 36, 37, 38, 39],\n       [40, 41, 42, 43, 44, 45, 46, 47, 48, 49],\n       [50, 51, 52, 53, 54, 55, 56, 57, 58, 59],\n       [60, 61, 62, 63, 64, 65, 66, 67, 68, 69],\n       [70, 71, 72, 73, 74, 75, 76, 77, 78, 79],\n       [80, 81, 82, 83, 84, 85, 86, 87, 88, 89],\n       [90, 91, 92, 93, 94, 95, 96, 97, 98, 99]])"
     },
     "metadata": {},
     "execution_count": 218
    }
   ],
   "source": [
    "b3 = np.arange(100).reshape(10,10)\n",
    "b3"
   ]
  },
  {
   "cell_type": "code",
   "execution_count": 219,
   "metadata": {},
   "outputs": [
    {
     "output_type": "execute_result",
     "data": {
      "text/plain": "[((0, 0), (0, 1), (0, 2), (0, 3), (0, 4)),\n ((1, 0), (1, 1), (1, 2), (1, 3), (1, 4)),\n ((2, 0), (2, 1), (2, 2), (2, 3), (2, 4)),\n ((3, 0), (3, 1), (3, 2), (3, 3), (3, 4)),\n ((4, 0), (4, 1), (4, 2), (4, 3), (4, 4))]"
     },
     "metadata": {},
     "execution_count": 219
    }
   ],
   "source": [
    "Map = word.borad_map(5,5)\n",
    "Map"
   ]
  },
  {
   "cell_type": "code",
   "execution_count": 223,
   "metadata": {},
   "outputs": [
    {
     "output_type": "execute_result",
     "data": {
      "text/plain": "([array([1, 0]), array([2, 1]), array([3, 2]), array([4, 3])],\n [array([1, 4]), array([2, 3]), array([3, 2]), array([4, 1])],\n [array([3, 0]), array([3, 1]), array([3, 2]), array([3, 3]), array([3, 4])],\n [array([1, 2]), array([2, 2]), array([3, 2]), array([4, 2])])"
     },
     "metadata": {},
     "execution_count": 223
    }
   ],
   "source": [
    "word.search(Map,3,2)"
   ]
  },
  {
   "cell_type": "code",
   "execution_count": 228,
   "metadata": {},
   "outputs": [
    {
     "output_type": "execute_result",
     "data": {
      "text/plain": "['020 画图操作 matplotlib使用案例集合.ipynb',\n '000 01 代码封装 常用数据结构代码.ipynb',\n '006 机器学习 numpy K-means误差平方和.ipynb',\n '006 机器学习 NLP N-garm.ipynb',\n '000 01 代码封装 基础算法 .ipynb',\n '000 01 不同激活函数的图像显示.ipynb',\n '008 深度学习  numpyBP.ipynb',\n '004 概率论 与 数理统计 几何分布.ipynb',\n '022 爬虫 完成.ipynb',\n '000 02 包技巧 代数系统symbols符号计算.ipynb',\n '006 机器学习 deeplearning （回归网络）莫烦动态神经网络学习.ipynb',\n '004 概率论 与 数理统计 张小伴的计算库 2.ipynb',\n '000 02 包技巧 re正则教程 文本处理.ipynb',\n '009 集成学习 Xbooting.ipynb',\n '003 线性代数的本质矩阵计算.ipynb',\n '000 01python 符号推理模块 .ipynb',\n '014 分析练习 网红分析小题.ipynb',\n '006 机器学习 numpy手写距离.ipynb',\n '001 理解线性回归.ipynb',\n '005离散数学 笛卡尔积.ipynb',\n '003 线性代数的本质，矩阵及随安.ipynb',\n '008 深度学习 pytroch RNN预测股票.ipynb',\n '004.1 信息论 二进制编码.ipynb',\n '006 机器学习 sklearn 多项式回归示例demo.ipynb',\n '004 概率论（信息论and概率论）.ipynb',\n '004 概率论 与 数理统计 马尔可夫链（预测行为demo）.ipynb',\n '000 包技巧 显示网页目标.ipynb',\n '004 概率论 与 数理统计 伯努利分布 和 柏松分布）.ipynb',\n '000 02 包技巧 系统 os等模块探索.ipynb',\n '004.1 信息论 条件熵.ipynb',\n '003 线性代数 矩阵的特征值和特征向量（make）.ipynb',\n '004 概率论 与 数理统计 正太分布密度.ipynb',\n '021 运维 os模块探索.ipynb',\n '008 深度学习 numpy多个神经元的神经网络.ipynb',\n '000 02 包技巧 系统 读取服务器文件.ipynb',\n '022 爬虫 探索.ipynb',\n '006 机器学习 梯度下降逻辑回归代码测试(SGD).ipynb',\n '000 01 语法 推导式.ipynb',\n '006 机器学习 复旦中文模型.ipynb',\n '006 机器学习 NLP 构建词向量示例.ipynb',\n '022 02 爬虫 scrapy实例.ipynb',\n '001 数学符号 01对数 .ipynb',\n '000 01 数学和 算法学习资料.ipynb',\n '006 机器学习 多种线性回归方法.ipynb',\n '000 02 包技巧 邮件收发smtplib.ipynb',\n '006 机器学习 时序模型AR.ipynb',\n '012 计算示例 日期处理.ipynb',\n '004.1 信息论 信息量.ipynb',\n '004 概率论 与 数理统计 且比雪夫大数定理.ipynb',\n '007 机器学习 sklearn 调库线性回归及画图.ipynb',\n '010 加密矩阵2.ipynb',\n '022 爬虫 cur 转代码.ipynb',\n '005 范畴论 动态规划（定价策略益最大化）.ipynb',\n '004.1 信息论 信息增益 .ipynb',\n '012 计算操作示例 numpy降维操作.ipynb',\n '000 元类编程实例.ipynb',\n '007 机器学习 sklearn 实现线性回归.ipynb',\n '010 RES加密算法大质数生成.ipynb',\n '012 计算操作示例 numpy集合操作.ipynb',\n '008 深度学习 优雅的写numpy前向神经网络 .ipynb',\n '004 信息论 草稿全集.ipynb',\n '003 描述统计学 自相关系数 .ipynb',\n '003 线性代数 拉普拉斯矩阵（make）.ipynb',\n '003 线性代数 凸优化 .ipynb',\n '004 0 描述统计学 自相关系数 .ipynb',\n '020 画图操作 seabron常用可视化.ipynb',\n '005 离散数学 基础集合运算.ipynb',\n '007 机器学习 Sklearn 分类算法集合.ipynb',\n '006 机器学习 卷积.ipynb',\n '004.1 信息论 KL散度.ipynb',\n '004 概率论 与 数理统计 02联合概率.ipynb',\n '000 02 包技巧 numpy骚操作.ipynb',\n '006 机器学习 梯度下降原理代码实现（for循环代码，成功）.ipynb',\n '000 练习数据 多维数值矩阵.ipynb',\n '003 线性代数的本质.ipynb',\n '006 深度学习（前向网络）神经网络入门神经网络入门(一个简单的前馈神经网络).ipynb',\n '003 线性代数 正定矩阵 .ipynb',\n '002 微积分 学习之指数函数.ipynb',\n '004 概率论 与 数理统计 03.ipynb',\n '006 机器学习 NER-NLP中文自然语言命名实体识别.ipynb',\n '020 画图操作 SNS.ipynb',\n '006 深度学习 详解神经网络(吴恩达).ipynb',\n '006 机器学习 推荐系统算法demo.ipynb',\n '001 理解正太分布.ipynb',\n '.020 画图示例.ipynb.icloud',\n '000 02 包技巧 pandas骚操作.ipynb',\n '007 机器学习 Sklearn OneClassSVM异常检测.ipynb',\n '020 画图操作 词云绘图-checkpoint.ipynb',\n '011 数据结构算法 numpy排序.ipynb',\n '008 深度学习 pytorchCNN调试.ipynb',\n '000 03 算法及分析技巧验证 常用防止过拟合技术 .ipynb',\n '007 机器学习 Skearn 12种聚类算法.ipynb',\n '006 机器学习 多分类逻辑回归.ipynb',\n '011 图像处理 openCV图片处理.ipynb',\n '012 计算示例 torch基础教程.ipynb',\n '001 数学符号 02自然常数.ipynb',\n '.004 概率论 与 数理统计 马尔科夫链-蒙特卡洛采样.ipynb.icloud',\n '006 机器学习 决策树ID3.ipynb',\n '000 02 包技巧 常用加解密库操作.ipynb',\n '006 机器学习 最大熵模型.ipynb',\n '008 深度学习 numpy深度感知机代码整理.ipynb',\n '008 深度学习 pytorch残差神经网络.ipynb',\n '003 线性代数的本质（矩阵的逆，秩，零空间）.ipynb',\n '005 范畴论 线性规划（投资收益最大化）.ipynb',\n '010 加密矩阵.ipynb',\n '002 微积分 学习，链式法则讲解.ipynb',\n '006 机器学习 NLP 中文转拼音（网络暗语近似查找） .ipynb',\n '.001 模拟正太分布.ipynb.icloud',\n '006 强化学习 蒙特卡洛树搜索.ipynb',\n '008 深度学习 numpy 单层bp神经网络（感知机）.ipynb',\n '022 爬虫 爬虫示例集合.ipynb',\n '001 数据 股票数据sockt.ipynb',\n '007 机器学习 Sklearn 12种聚类加说明.ipynb',\n '004 概率统计学习-checkpoint.ipynb',\n '006 机器学习 朴素贝叶斯分类.ipynb',\n '002 微积分 （数学分析）极限证明.ipynb',\n '004.1 信息论 互信息 .ipynb',\n '004 概率论 与 数理统计 逻辑斯蒂模型预测疫情.ipynb',\n '004 概率论 与 数理统计 基尼值，基尼系数.ipynb',\n '006 机器学习 时序模型 ARIMA.ipynb',\n '000 02 包技巧 低代码 建模pycaret.ipynb',\n '004.1 信息论 pytorch实现信息熵.ipynb',\n '003 线性回归方程解实现.ipynb',\n '006 机器学习 NLP 文本量化处理.ipynb',\n '022 新闻爬虫框架newspaper.ipynb',\n '020 画图操作 pyecharts 做图（词云图，地理图，柱状图，热源图） .ipynb',\n '008 深度学习 pytroch 自然语言demo.ipynb',\n '012 计算示例 pytroch学习过程.ipynb',\n '008 深度学习 神经网络入门神经网络入门(一个简单的前馈神经网络)-checkpoint.ipynb',\n '006 强化学习 Qlearning.ipynb',\n '011 数据结构算法 二叉树.ipynb',\n '000 02 包技巧 低代码 数据探索profiling.ipynb',\n '006 数学模型 人力资源初始权重计算.ipynb',\n '008 深度学习 初步学习pytroch.ipynb',\n '008 深度学习 LSTM 预测股票.ipynb',\n '000 02 包技巧 sklearn 官方示例.ipynb',\n '001 三角函数.ipynb',\n '002 微积分 的本质.ipynb',\n '004.1 信息论 联合熵 .ipynb',\n '004.1 信息论 霍夫曼编码.ipynb',\n '004 概率论 与 数理统计 3西格玛准则.ipynb',\n '.000 02 包技巧 低代码 数据探索.ipynb.icloud',\n '004 概率论 与 数理统计 基础概率计算.ipynb',\n '000 包技巧 numexpr.ipynb',\n '022 爬虫 淘宝验证 .ipynb',\n '000 01 数学思想及计算应用.ipynb',\n '006 机器学习 洪水填充.ipynb',\n '006 机器学习 逻辑回归实现.ipynb',\n '003 线性代数 解方程组.ipynb',\n '001 指数，对数，三角函数，阶乘的函数图像.ipynb',\n '003 线性回归方程解实现 2.ipynb',\n '000 数据获取 股票数据2.ipynb',\n '004 概率论 与 数理统计 计算包and信息论2.ipynb',\n '013 功能模块 地理坐标模块用法示例 2.ipynb',\n '003 线性代数 numpy 线性代数计算.ipynb',\n '007 机器学习 Sklearn 逻辑回归集合.ipynb',\n '006 机器学习 NLP 复旦中文模型.ipynb',\n '007 深度学习 目标检测（曹士同）.ipynb',\n '006 机器学习 NLP 中文情感分析库使用示例.ipynb',\n '000 代码技巧集合.ipynb',\n '004 概率论与数理统计 马尔科夫决策过程.ipynb',\n '008 深度学习 pytroch RNN 示例.ipynb',\n '011 图像处理 PIL 图像读取.ipynb',\n '004 概率论 与 数理统计 边缘概率.ipynb',\n '000 数据获取 股票数据baostock.ipynb',\n '.008 深度学习 pytorch实现CNN.ipynb.icloud',\n '006 机器学习 余弦相似度 调包实现 .ipynb',\n '005 离散数学 粗糙集2.0.ipynb',\n '001  sympy-数学符号计算.ipynb',\n '008 深度学习 初探pytorch.ipynb',\n '005 离散数学 粗糙集.ipynb',\n '006 机器学习 梯度下降逻辑回归代码测试(BGD).ipynb',\n '001 理解多项式回归.ipynb',\n '012 计算示例numpy操作指南.ipynb',\n '008 深度学习 pytroch的单变量回归神经网络.ipynb',\n '000 数学公式 markdown.ipynb',\n '006 机器学习 numpy梯度下降调试代码.ipynb',\n '002 微积分 （数学分析)求极限.ipynb',\n '004.1 信息论 AB测试 .ipynb',\n '004 概率论 与 数理统计 01条件概率.ipynb',\n '004 概率论 与 数理统计 马尔科夫决策过程.ipynb',\n '003 线性代数 解线性方程组.ipynb',\n '000 02 包技巧 系统 mysql操作.ipynb',\n '020 画图操作 地图可视化案例 pyecharts.ipynb',\n '006 机器学习 TF-IDF 算法.ipynb',\n '003 线性代数 scipy凸包算法，求不规则点的集合占据的体积或者面积.ipynb',\n '000 02 包技巧 requests .ipynb',\n '000 包技巧 requests .ipynb',\n '006 强化学习 马尔可夫过程.ipynb',\n '022 爬虫 代理集合完成.ipynb',\n '.020 画图操作 Plotly画出炫酷的数据可视化.ipynb.icloud',\n '006 机器学习 NLP jieba分词使用示例.ipynb',\n '004 概率统计学习.ipynb',\n '008 深度学习 pytorch优化器.ipynb',\n '000 02 包技巧 numexpr加速数值表达式评估计算.ipynb',\n '10001 机器学习 留言分类.ipynb',\n '012 计算操作示例  pandas操作示例.ipynb',\n '022 爬虫 西刺代理.ipynb',\n '000 数学符号理解手册.ipynb',\n '000 网页语言工具.ipynb',\n '004 概率论 与 数理统计 马尔科夫状态转移矩阵.ipynb',\n '000 00 资料 大站学习.ipynb',\n '010 函数图像.ipynb',\n '000 02 包技巧 语法学习资料.ipynb']"
     },
     "metadata": {},
     "execution_count": 228
    }
   ],
   "source": [
    "import os\n",
    "[i for i in os.listdir(\"/Users/manmanzhang/Library/Mobile Documents/com~apple~CloudDocs/MyProject/InferenceSystem/src/I5_algorithm\") if 'ipynb' in i and '0' in i]"
   ]
  },
  {
   "cell_type": "code",
   "execution_count": null,
   "metadata": {},
   "outputs": [],
   "source": []
  }
 ],
 "metadata": {
  "language_info": {
   "codemirror_mode": {
    "name": "ipython",
    "version": 3
   },
   "file_extension": ".py",
   "mimetype": "text/x-python",
   "name": "python",
   "nbconvert_exporter": "python",
   "pygments_lexer": "ipython3",
   "version": "3.7.3-final"
  },
  "orig_nbformat": 2,
  "kernelspec": {
   "name": "pycharm-66c53067",
   "display_name": "PyCharm (InferenceSystem)"
  }
 },
 "nbformat": 4,
 "nbformat_minor": 2
}