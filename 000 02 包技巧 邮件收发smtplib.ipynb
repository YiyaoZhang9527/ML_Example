{
 "cells": [
  {
   "cell_type": "code",
   "execution_count": 1,
   "metadata": {},
   "outputs": [],
   "source": [
    "import smtplib\n",
    "from email.mime.text import MIMEText"
   ]
  },
  {
   "cell_type": "markdown",
   "metadata": {},
   "source": [
    "# 发送者邮箱地址"
   ]
  },
  {
   "cell_type": "code",
   "execution_count": 2,
   "metadata": {},
   "outputs": [],
   "source": [
    "senderMail = '408903228@qq.com'"
   ]
  },
  {
   "cell_type": "markdown",
   "metadata": {},
   "source": [
    "# 发送者 QQ 邮箱授权码"
   ]
  },
  {
   "cell_type": "code",
   "execution_count": 3,
   "metadata": {},
   "outputs": [],
   "source": [
    "authCode = \"hbwihppowanbcaid\""
   ]
  },
  {
   "cell_type": "markdown",
   "metadata": {},
   "source": [
    "# 接收者邮箱地址"
   ]
  },
  {
   "cell_type": "code",
   "execution_count": 4,
   "metadata": {},
   "outputs": [],
   "source": [
    "receiverMail = \"330945237@qq.com\""
   ]
  },
  {
   "cell_type": "markdown",
   "metadata": {},
   "source": [
    "# 邮件主题"
   ]
  },
  {
   "cell_type": "code",
   "execution_count": 5,
   "metadata": {},
   "outputs": [],
   "source": [
    "subject = \"自动邮件测试\""
   ]
  },
  {
   "cell_type": "markdown",
   "metadata": {},
   "source": [
    "# 邮件内容"
   ]
  },
  {
   "cell_type": "code",
   "execution_count": 7,
   "metadata": {},
   "outputs": [],
   "source": [
    "content = \"hello dear\""
   ]
  },
  {
   "cell_type": "code",
   "execution_count": 8,
   "metadata": {},
   "outputs": [],
   "source": [
    "msg = MIMEText(content,\"plain\",\"utf-8\")"
   ]
  },
  {
   "cell_type": "code",
   "execution_count": 9,
   "metadata": {},
   "outputs": [],
   "source": [
    "msg['Subject'] = subject\n",
    "msg['From'] = senderMail\n",
    "msg['To'] = receiverMail"
   ]
  },
  {
   "cell_type": "code",
   "execution_count": 10,
   "metadata": {
    "tags": []
   },
   "outputs": [
    {
     "name": "stdout",
     "output_type": "stream",
     "text": [
      "成功连接到邮件服务器\n",
      "成功登录邮箱\n",
      "邮件发送成功\n"
     ]
    }
   ],
   "source": [
    "try:\n",
    "    server = smtplib.SMTP_SSL('smtp.qq.com', smtplib.SMTP_SSL_PORT)\n",
    "    print('成功连接到邮件服务器')\n",
    "    server.login(senderMail, authCode)\n",
    "    print('成功登录邮箱')\n",
    "    server.sendmail(senderMail, receiverMail, msg.as_string())\n",
    "    print('邮件发送成功')\n",
    "except smtplib.SMTPException as e:\n",
    "    print('邮件发送异常',e)\n",
    "finally:\n",
    "    server.quit()"
   ]
  },
  {
   "cell_type": "code",
   "execution_count": 11,
   "metadata": {},
   "outputs": [],
   "source": [
    "# 邮件发送代码封装"
   ]
  },
  {
   "cell_type": "code",
   "execution_count": 12,
   "metadata": {
    "tags": []
   },
   "outputs": [
    {
     "name": "stdout",
     "output_type": "stream",
     "text": [
      "成功连接到邮件服务器\n",
      "成功登录邮箱\n",
      "邮件发送成功\n"
     ]
    }
   ],
   "source": [
    "def put_mail(receiverMail=\"330945237@qq.com\"\n",
    "    ,subject = \"自动邮件测试\"\n",
    "    ,content = \"hello dear\"):\n",
    "    senderMail = '408903228@qq.com'\n",
    "    subject = \"自动邮件测试\"\n",
    "    content = \"hello dear\"\n",
    "    authCode = \"hbwihppowanbcaid\"\n",
    "    msg = MIMEText(content,\"plain\",\"utf-8\")\n",
    "    msg['Subject'] = subject\n",
    "    msg['From'] = senderMail\n",
    "    msg['To'] = receiverMail\n",
    "    try:\n",
    "        server = smtplib.SMTP_SSL('smtp.qq.com', smtplib.SMTP_SSL_PORT)\n",
    "        print('成功连接到邮件服务器')\n",
    "        server.login(senderMail, authCode)\n",
    "        print('成功登录邮箱')\n",
    "        server.sendmail(senderMail, receiverMail, msg.as_string())\n",
    "        print('邮件发送成功')\n",
    "    except smtplib.SMTPException as e:\n",
    "        print('邮件发送异常',e)\n",
    "    finally:\n",
    "        server.quit()\n",
    "put_mail()"
   ]
  },
  {
   "cell_type": "code",
   "execution_count": 13,
   "metadata": {
    "tags": []
   },
   "outputs": [
    {
     "name": "stdout",
     "output_type": "stream",
     "text": [
      "邮件数量:101  占用空间:3649207\n",
      "From: noreply <noreply@makeding.com>\n",
      "To: 408903228@qq.com <408903228@qq.com>\n",
      "Subject: 付款成功通知\n",
      "正文： 这是一个纯文本的身体在非营利的HTML电子邮件客户端\n",
      "\n",
      "\n",
      "正文： 尊敬的 18715545046 用户，您好：<br>感谢您在我公司购买软件，麦软商城登录账号：18715545046<br>订单号：202009272136004861<br>CleanMyMac X Chinese【标准版 + Mac】<br>购买数量：1 套<br>CleanMyMac X Chinese 产品手册<br>购买数量：1 套<br><br>登录后可在【订单中心】-【我的订单】查看购买信息：<a href='http://user.mairuan.com'>http://user.mairuan.com/orders</a><br><br>客服QQ：4008765888<br>客服电话：400-8765-888转2<br><br>更多正版软件，尽在<a target='_blank' href='http://www.mairuan.com/?utm_source=email&utm_medium=anchor&utm_campaign=pay'>麦软商城</a><br>关注“麦软商城”公众号了解更多详情<br><br>本邮件由系统自动发出，请勿直接回复！\n",
      "\n",
      "\n",
      "\n",
      "附件名列表： []\n"
     ]
    },
    {
     "data": {
      "text/plain": [
       "b'+OK Bye'"
      ]
     },
     "execution_count": 13,
     "metadata": {},
     "output_type": "execute_result"
    }
   ],
   "source": [
    "import poplib\n",
    "from email.parser import Parser\n",
    "from email.header import decode_header,Header\n",
    "from email.utils import parseaddr\n",
    "\n",
    "def print_email(msg):\n",
    "    for header in ['From', 'To', 'Subject']:\n",
    "        value = msg.get(header, '')\n",
    "        if value:\n",
    "            if header == 'Subject':\n",
    "                value = decode_str(value)\n",
    "            else:\n",
    "                hdr, addr = parseaddr(value)\n",
    "                name = decode_str(hdr)\n",
    "                value = u'%s <%s>' % (name, addr)\n",
    "        print('%s: %s' % (header, value))\n",
    "    # 获取邮件主体信息\n",
    "    attachment_files = []\n",
    "    for part in msg.walk():\n",
    "        # 获取附件名称类型\n",
    "        file_name = part.get_filename()\n",
    "        # 获取数据类型\n",
    "        contentType = part.get_content_type()\n",
    "        # 获取编码格式\n",
    "        mycode = part.get_content_charset()\n",
    "        if file_name:\n",
    "            h = Header(file_name)\n",
    "            # 对附件名称进行解码\n",
    "            dh = decode_header(h)\n",
    "            filename = dh[0][0]\n",
    "            if dh[0][1]:\n",
    "                # 将附件名称可读化\n",
    "                filename = decode_str(str(filename, dh[0][1]))\n",
    "            attachment_files.append(filename)\n",
    "            # 下载附件\n",
    "            data = part.get_payload(decode=True)\n",
    "            # 在当前目录下创建文件\n",
    "            with open(filename, 'wb') as f:\n",
    "                # 保存附件\n",
    "                f.write(data)\n",
    "        elif contentType == 'text/plain':\n",
    "            data = part.get_payload(decode=True)\n",
    "            content = data.decode(mycode)\n",
    "            print('正文：',content)\n",
    "        elif contentType == 'text/html':\n",
    "            data = part.get_payload(decode=True)\n",
    "            content = data.decode(mycode)\n",
    "            print('正文：', content)\n",
    "    print('附件名列表：', attachment_files)\n",
    "\n",
    "def decode_str(s):\n",
    "    value, charset = decode_header(s)[0]\n",
    "    if charset:\n",
    "        value = value.decode(charset)\n",
    "    return value\n",
    "\n",
    "# 接收者邮箱地址\n",
    "receiverMail = '408903228@qq.com'\n",
    "# 接收者 QQ 邮箱授权码\n",
    "authCode = 'hbwihppowanbcaid'\n",
    "pop3_server = 'pop.qq.com'\n",
    "# 连接到 POP3 服务器\n",
    "server = poplib.POP3_SSL(pop3_server, 995)\n",
    "# 身份认证\n",
    "server.user(receiverMail)\n",
    "server.pass_(authCode)\n",
    "# stat() 返回邮件数量和占用空间\n",
    "print('邮件数量:%s  占用空间:%s' % server.stat())\n",
    "# list() 返回所有邮件的编号，lines 存储了邮件的原始文本的每一行\n",
    "resp, mails, octets = server.list()\n",
    "index = len(mails)\n",
    "# 获取最新一封邮件\n",
    "resp, lines, octets = server.retr(index)\n",
    "msg_content = b'\\r\\n'.join(lines).decode('utf-8')\n",
    "# 解析邮件\n",
    "msg = Parser().parsestr(msg_content)\n",
    "print_email(msg)\n",
    "# 根据邮件索引号直接从服务器删除邮件\n",
    "# server.dele(1)\n",
    "# 关闭连接\n",
    "server.quit()"
   ]
  },
  {
   "cell_type": "markdown",
   "metadata": {},
   "source": [
    "# 发送复杂邮件"
   ]
  },
  {
   "cell_type": "code",
   "execution_count": 14,
   "metadata": {},
   "outputs": [
    {
     "ename": "FileNotFoundError",
     "evalue": "[Errno 2] No such file or directory: 'qrcode.jpg'",
     "output_type": "error",
     "traceback": [
      "\u001b[0;31m---------------------------------------------------------------------------\u001b[0m",
      "\u001b[0;31mFileNotFoundError\u001b[0m                         Traceback (most recent call last)",
      "\u001b[0;32m<ipython-input-14-3738b2c2b824>\u001b[0m in \u001b[0;36m<module>\u001b[0;34m\u001b[0m\n\u001b[1;32m     27\u001b[0m \u001b[0mhtml\u001b[0m \u001b[0;34m=\u001b[0m \u001b[0mMIMEText\u001b[0m\u001b[0;34m(\u001b[0m\u001b[0mhtml_content\u001b[0m\u001b[0;34m,\u001b[0m \u001b[0;34m'html'\u001b[0m\u001b[0;34m,\u001b[0m \u001b[0;34m'utf-8'\u001b[0m\u001b[0;34m)\u001b[0m\u001b[0;34m\u001b[0m\u001b[0;34m\u001b[0m\u001b[0m\n\u001b[1;32m     28\u001b[0m \u001b[0mmsgAtv\u001b[0m\u001b[0;34m.\u001b[0m\u001b[0mattach\u001b[0m\u001b[0;34m(\u001b[0m\u001b[0mhtml\u001b[0m\u001b[0;34m)\u001b[0m\u001b[0;34m\u001b[0m\u001b[0;34m\u001b[0m\u001b[0m\n\u001b[0;32m---> 29\u001b[0;31m \u001b[0mf\u001b[0m \u001b[0;34m=\u001b[0m \u001b[0mopen\u001b[0m\u001b[0;34m(\u001b[0m\u001b[0;34m'qrcode.jpg'\u001b[0m\u001b[0;34m,\u001b[0m \u001b[0;34m'rb'\u001b[0m\u001b[0;34m)\u001b[0m\u001b[0;34m\u001b[0m\u001b[0;34m\u001b[0m\u001b[0m\n\u001b[0m\u001b[1;32m     30\u001b[0m \u001b[0mmsgImage\u001b[0m \u001b[0;34m=\u001b[0m \u001b[0mMIMEImage\u001b[0m\u001b[0;34m(\u001b[0m\u001b[0mf\u001b[0m\u001b[0;34m.\u001b[0m\u001b[0mread\u001b[0m\u001b[0;34m(\u001b[0m\u001b[0;34m)\u001b[0m\u001b[0;34m)\u001b[0m\u001b[0;34m\u001b[0m\u001b[0;34m\u001b[0m\u001b[0m\n\u001b[1;32m     31\u001b[0m \u001b[0mf\u001b[0m\u001b[0;34m.\u001b[0m\u001b[0mclose\u001b[0m\u001b[0;34m(\u001b[0m\u001b[0;34m)\u001b[0m\u001b[0;34m\u001b[0m\u001b[0;34m\u001b[0m\u001b[0m\n",
      "\u001b[0;31mFileNotFoundError\u001b[0m: [Errno 2] No such file or directory: 'qrcode.jpg'"
     ]
    }
   ],
   "source": [
    "import smtplib\n",
    "from email.mime.multipart import MIMEMultipart\n",
    "from email.mime.text import MIMEText\n",
    "from email.mime.image import MIMEImage\n",
    "\n",
    "# 发送者邮箱地址\n",
    "senderMail = 'xxxxxx@qq.com'\n",
    "# 发送者 QQ 邮箱授权码\n",
    "authCode = 'xxxxxxxxx'\n",
    "# 接收者邮箱地址\n",
    "receiverMail = 'xxxxxx@qq.com'\n",
    "# 邮件主题\n",
    "subject = '复杂邮件测试'\n",
    "msgRoot = MIMEMultipart('related')\n",
    "msgRoot['Subject'] = subject\n",
    "msgRoot['From'] = senderMail\n",
    "msgRoot['To'] = receiverMail\n",
    "msgAtv = MIMEMultipart('alternative')\n",
    "msgRoot.attach(msgAtv)\n",
    "# html\n",
    "html_content = '''\n",
    "<p>我的博客地址：</p>\n",
    "<p><a href='https://blog.csdn.net/ityard'>点击进入我的CSDN</a></p>\n",
    "<p>我的公众号二维码：</p>\n",
    "<p><img src=\"cid:image\"></p>\n",
    "'''\n",
    "html = MIMEText(html_content, 'html', 'utf-8')\n",
    "msgAtv.attach(html)\n",
    "f = open('qrcode.jpg', 'rb')\n",
    "msgImage = MIMEImage(f.read())\n",
    "f.close()\n",
    "msgImage.add_header('Content-ID', '<image>')\n",
    "msgRoot.attach(msgImage)\n",
    "# 附件\n",
    "annex = MIMEText(open('test.txt', 'rb').read(), 'base64', 'utf-8')\n",
    "annex['Content-Type'] = 'application/octet-stream'\n",
    "annex['Content-Disposition'] = 'attachment; filename=\"test.txt\"'\n",
    "msgRoot.attach(annex)\n",
    "try:\n",
    "    server = smtplib.SMTP_SSL('smtp.qq.com', smtplib.SMTP_SSL_PORT)\n",
    "    print('成功连接到邮件服务器')\n",
    "    server.login(senderMail, authCode)\n",
    "    print('成功登录邮箱')\n",
    "    server.sendmail(senderMail, receiverMail, msgRoot.as_string())\n",
    "    print('邮件发送成功')\n",
    "except smtplib.SMTPException as e:\n",
    "    print('邮件发送异常')\n",
    "finally:\n",
    "    server.quit()"
   ]
  },
  {
   "cell_type": "code",
   "execution_count": null,
   "metadata": {},
   "outputs": [],
   "source": []
  }
 ],
 "metadata": {
  "kernelspec": {
   "display_name": "Python 3",
   "language": "python",
   "name": "python3"
  },
  "language_info": {
   "codemirror_mode": {
    "name": "ipython",
    "version": 3
   },
   "file_extension": ".py",
   "mimetype": "text/x-python",
   "name": "python",
   "nbconvert_exporter": "python",
   "pygments_lexer": "ipython3",
   "version": "3.8.3"
  }
 },
 "nbformat": 4,
 "nbformat_minor": 4
}
