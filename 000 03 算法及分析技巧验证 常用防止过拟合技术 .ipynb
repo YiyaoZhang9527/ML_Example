{
 "cells": [
  {
   "cell_type": "markdown",
   "metadata": {},
   "source": [
    "https://www.toutiao.com/a6836059220345881101/?tt_from=mobile_qq&utm_campaign=client_share&timestamp=1592503430&app=news_article_social&utm_source=mobile_qq&utm_medium=toutiao_ios&use_new_style=0&req_id=2020061902034901001504201522050757&group_id=6836059220345881101https://www.toutiao.com/a6836059220345881101/?tt_from=mobile_qq&utm_campaign=client_share&timestamp=1592503430&app=news_article_social&utm_source=mobile_qq&utm_medium=toutiao_ios&use_new_style=0&req_id=2020061902034901001504201522050757&group_id=6836059220345881101"
   ]
  }
 ],
 "metadata": {
  "language_info": {
   "codemirror_mode": {
    "name": "ipython",
    "version": 3
   },
   "file_extension": ".py",
   "mimetype": "text/x-python",
   "name": "python",
   "nbconvert_exporter": "python",
   "pygments_lexer": "ipython3",
   "version": 3
  },
  "orig_nbformat": 2
 },
 "nbformat": 4,
 "nbformat_minor": 2
}