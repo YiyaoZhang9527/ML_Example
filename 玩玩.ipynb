{
 "cells": [
  {
   "cell_type": "code",
   "execution_count": 2,
   "metadata": {},
   "outputs": [
    {
     "data": {
      "text/html": [
       "<div>\n",
       "<style scoped>\n",
       "    .dataframe tbody tr th:only-of-type {\n",
       "        vertical-align: middle;\n",
       "    }\n",
       "\n",
       "    .dataframe tbody tr th {\n",
       "        vertical-align: top;\n",
       "    }\n",
       "\n",
       "    .dataframe thead th {\n",
       "        text-align: right;\n",
       "    }\n",
       "</style>\n",
       "<table border=\"1\" class=\"dataframe\">\n",
       "  <thead>\n",
       "    <tr style=\"text-align: right;\">\n",
       "      <th></th>\n",
       "      <th>身高</th>\n",
       "      <th>体重</th>\n",
       "      <th>鞋码</th>\n",
       "      <th>性别</th>\n",
       "    </tr>\n",
       "  </thead>\n",
       "  <tbody>\n",
       "    <tr>\n",
       "      <th>0</th>\n",
       "      <td>高</td>\n",
       "      <td>重</td>\n",
       "      <td>大</td>\n",
       "      <td>男</td>\n",
       "    </tr>\n",
       "    <tr>\n",
       "      <th>1</th>\n",
       "      <td>高</td>\n",
       "      <td>重</td>\n",
       "      <td>大</td>\n",
       "      <td>男</td>\n",
       "    </tr>\n",
       "    <tr>\n",
       "      <th>2</th>\n",
       "      <td>中</td>\n",
       "      <td>中</td>\n",
       "      <td>大</td>\n",
       "      <td>男</td>\n",
       "    </tr>\n",
       "    <tr>\n",
       "      <th>3</th>\n",
       "      <td>中</td>\n",
       "      <td>中</td>\n",
       "      <td>中</td>\n",
       "      <td>男</td>\n",
       "    </tr>\n",
       "    <tr>\n",
       "      <th>4</th>\n",
       "      <td>矮</td>\n",
       "      <td>轻</td>\n",
       "      <td>小</td>\n",
       "      <td>女</td>\n",
       "    </tr>\n",
       "    <tr>\n",
       "      <th>5</th>\n",
       "      <td>矮</td>\n",
       "      <td>轻</td>\n",
       "      <td>小</td>\n",
       "      <td>女</td>\n",
       "    </tr>\n",
       "    <tr>\n",
       "      <th>6</th>\n",
       "      <td>矮</td>\n",
       "      <td>中</td>\n",
       "      <td>中</td>\n",
       "      <td>女</td>\n",
       "    </tr>\n",
       "    <tr>\n",
       "      <th>7</th>\n",
       "      <td>中</td>\n",
       "      <td>中</td>\n",
       "      <td>中</td>\n",
       "      <td>女</td>\n",
       "    </tr>\n",
       "  </tbody>\n",
       "</table>\n",
       "</div>"
      ],
      "text/plain": [
       "  身高 体重 鞋码 性别\n",
       "0  高  重  大  男\n",
       "1  高  重  大  男\n",
       "2  中  中  大  男\n",
       "3  中  中  中  男\n",
       "4  矮  轻  小  女\n",
       "5  矮  轻  小  女\n",
       "6  矮  中  中  女\n",
       "7  中  中  中  女"
      ]
     },
     "execution_count": 2,
     "metadata": {},
     "output_type": "execute_result"
    }
   ],
   "source": [
    "import numpy as np\n",
    "import pandas as pd\n",
    "table1 = pd.DataFrame({\n",
    "    '身高':['高','高','中','中','矮','矮','矮','中']\n",
    "    ,'体重':['重','重','中','中','轻','轻','中','中']\n",
    "    ,'鞋码':['大','大','大','中','小','小','中','中']\n",
    "    ,'性别':['男','男','男','男','女','女','女','女']\n",
    "}) \n",
    "table1\n"
   ]
  },
  {
   "cell_type": "code",
   "execution_count": 3,
   "metadata": {},
   "outputs": [
    {
     "data": {
      "text/plain": [
       "身高    0.0\n",
       "体重    0.0\n",
       "鞋码    0.0\n",
       "性别    0.5\n",
       "dtype: float64"
      ]
     },
     "execution_count": 3,
     "metadata": {},
     "output_type": "execute_result"
    }
   ],
   "source": [
    "def probability(data,x):\n",
    "    m,n = data.shape \n",
    "    return (data==x).sum()/m\n",
    "probability(table1,\"女\")    "
   ]
  },
  {
   "cell_type": "code",
   "execution_count": 4,
   "metadata": {},
   "outputs": [
    {
     "data": {
      "text/plain": [
       "array([0.25 , 0.25 , 0.375, 0.5  ])"
      ]
     },
     "execution_count": 4,
     "metadata": {},
     "output_type": "execute_result"
    }
   ],
   "source": [
    "def set_conditions(data,conditions):\n",
    "    n = len(conditions)\n",
    "    result = np.zeros(n)\n",
    "    for i in range(n):\n",
    "        result[i] = probability(data,conditions[i])[i]\n",
    "    return result\n",
    "\n",
    "set_conditions(table1,[\"高\",\"重\",\"大\",\"女\"])"
   ]
  }
 ],
 "metadata": {
  "interpreter": {
   "hash": "96f436a406a5f2700913a78b9cee4ebfeaf93d0631f6d9e4a782fff9b4ed3aea"
  },
  "kernelspec": {
   "display_name": "Python 3.8.5 64-bit ('base': conda)",
   "language": "python",
   "name": "python3"
  },
  "language_info": {
   "codemirror_mode": {
    "name": "ipython",
    "version": 3
   },
   "file_extension": ".py",
   "mimetype": "text/x-python",
   "name": "python",
   "nbconvert_exporter": "python",
   "pygments_lexer": "ipython3",
   "version": "3.8.5"
  },
  "orig_nbformat": 4
 },
 "nbformat": 4,
 "nbformat_minor": 2
}
