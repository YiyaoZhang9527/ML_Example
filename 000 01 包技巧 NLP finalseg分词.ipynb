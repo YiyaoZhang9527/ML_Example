{
 "cells": [
  {
   "cell_type": "code",
   "execution_count": 4,
   "metadata": {},
   "outputs": [
    {
     "name": "stdout",
     "output_type": "stream",
     "text": [
      "Collecting finalseg==0.11\n",
      "  Downloading finalseg-0.11.zip (1.6 MB)\n",
      "\u001b[K     |████████████████████████████████| 1.6 MB 28 kB/s eta 0:00:01\n",
      "\u001b[?25hBuilding wheels for collected packages: finalseg\n",
      "  Building wheel for finalseg (setup.py) ... \u001b[?25ldone\n",
      "\u001b[?25h  Created wheel for finalseg: filename=finalseg-0.11-py3-none-any.whl size=1573784 sha256=d9eba537f16de13e466f7931971ebd3a820e420bc2097f05e6ad52c88f347b77\n",
      "  Stored in directory: /home/manman/.cache/pip/wheels/f0/e6/ec/55c9e01a1f45535d60d044e9b3d9dd56358a84beb4a0497150\n",
      "Successfully built finalseg\n",
      "Installing collected packages: finalseg\n",
      "  Attempting uninstall: finalseg\n",
      "    Found existing installation: finalseg 0.1\n",
      "    Uninstalling finalseg-0.1:\n",
      "      Successfully uninstalled finalseg-0.1\n",
      "Successfully installed finalseg-0.11\n"
     ]
    },
    {
     "ename": "SyntaxError",
     "evalue": "invalid syntax (__init__.py, line 77)",
     "output_type": "error",
     "traceback": [
      "Traceback \u001b[0;36m(most recent call last)\u001b[0m:\n",
      "  File \u001b[1;32m\"/home/manman/anaconda3/lib/python3.8/site-packages/IPython/core/interactiveshell.py\"\u001b[0m, line \u001b[1;32m3417\u001b[0m, in \u001b[1;35mrun_code\u001b[0m\n    exec(code_obj, self.user_global_ns, self.user_ns)\n",
      "\u001b[0;36m  File \u001b[0;32m\"<ipython-input-4-07eb66a9cf06>\"\u001b[0;36m, line \u001b[0;32m2\u001b[0;36m, in \u001b[0;35m<module>\u001b[0;36m\u001b[0m\n\u001b[0;31m    import finalseg\u001b[0m\n",
      "\u001b[0;36m  File \u001b[0;32m\"/home/manman/anaconda3/lib/python3.8/site-packages/finalseg/__init__.py\"\u001b[0;36m, line \u001b[0;32m77\u001b[0m\n\u001b[0;31m    re_han, re_skip = re.compile(ur\"([\\u4E00-\\u9FA5]+)\"), re.compile(ur\"[^a-zA-Z0-9+#\\n]\")\u001b[0m\n\u001b[0m                                   ^\u001b[0m\n\u001b[0;31mSyntaxError\u001b[0m\u001b[0;31m:\u001b[0m invalid syntax\n"
     ]
    }
   ],
   "source": [
    "! pip install finalseg==0.11\n",
    "import finalseg"
   ]
  },
  {
   "cell_type": "code",
   "execution_count": 14,
   "metadata": {},
   "outputs": [
    {
     "ename": "TypeError",
     "evalue": "'dict' object is not callable",
     "output_type": "error",
     "traceback": [
      "\u001b[0;31m---------------------------------------------------------------------------\u001b[0m",
      "\u001b[0;31mTypeError\u001b[0m                                 Traceback (most recent call last)",
      "\u001b[0;32m<ipython-input-14-1870735d7fe8>\u001b[0m in \u001b[0;36m<module>\u001b[0;34m\u001b[0m\n\u001b[0;32m----> 1\u001b[0;31m \u001b[0mfinalseg\u001b[0m\u001b[0;34m.\u001b[0m\u001b[0mprob_emit\u001b[0m\u001b[0;34m(\u001b[0m\u001b[0;34m)\u001b[0m\u001b[0;34m\u001b[0m\u001b[0;34m\u001b[0m\u001b[0m\n\u001b[0m",
      "\u001b[0;31mTypeError\u001b[0m: 'dict' object is not callable"
     ]
    }
   ],
   "source": [
    "finalseg.prob_emit()"
   ]
  },
  {
   "cell_type": "code",
   "execution_count": 15,
   "metadata": {},
   "outputs": [
    {
     "ename": "NameError",
     "evalue": "name 'unicode' is not defined",
     "output_type": "error",
     "traceback": [
      "\u001b[0;31m---------------------------------------------------------------------------\u001b[0m",
      "\u001b[0;31mNameError\u001b[0m                                 Traceback (most recent call last)",
      "\u001b[0;32m<ipython-input-15-e8aee776322c>\u001b[0m in \u001b[0;36m<module>\u001b[0;34m\u001b[0m\n\u001b[1;32m      1\u001b[0m \u001b[0mtext\u001b[0m \u001b[0;34m=\u001b[0m \u001b[0;34m'对他们来说，只要日本不是逼太紧，也许拖是最好的办法，拖个天长地久，根据地壳板块移动的趋势，钓鱼岛迟早要镶上福建，这事自然就算成了。'\u001b[0m\u001b[0;34m\u001b[0m\u001b[0;34m\u001b[0m\u001b[0m\n\u001b[0;32m----> 2\u001b[0;31m \u001b[0mlist\u001b[0m\u001b[0;34m(\u001b[0m\u001b[0mfinalseg\u001b[0m\u001b[0;34m.\u001b[0m\u001b[0mcut\u001b[0m\u001b[0;34m(\u001b[0m\u001b[0mtext\u001b[0m\u001b[0;34m)\u001b[0m\u001b[0;34m)\u001b[0m\u001b[0;34m\u001b[0m\u001b[0;34m\u001b[0m\u001b[0m\n\u001b[0m",
      "\u001b[0;32m/usr/local/lib/python3.7/site-packages/finalseg/__init__.py\u001b[0m in \u001b[0;36mcut\u001b[0;34m(sentence, find_new_word)\u001b[0m\n\u001b[1;32m     70\u001b[0m \u001b[0;34m\u001b[0m\u001b[0m\n\u001b[1;32m     71\u001b[0m \u001b[0;32mdef\u001b[0m \u001b[0mcut\u001b[0m\u001b[0;34m(\u001b[0m\u001b[0msentence\u001b[0m\u001b[0;34m,\u001b[0m\u001b[0mfind_new_word\u001b[0m\u001b[0;34m=\u001b[0m\u001b[0;32mFalse\u001b[0m\u001b[0;34m)\u001b[0m\u001b[0;34m:\u001b[0m\u001b[0;34m\u001b[0m\u001b[0;34m\u001b[0m\u001b[0m\n\u001b[0;32m---> 72\u001b[0;31m         \u001b[0;32mif\u001b[0m \u001b[0;32mnot\u001b[0m \u001b[0;34m(\u001b[0m \u001b[0mtype\u001b[0m\u001b[0;34m(\u001b[0m\u001b[0msentence\u001b[0m\u001b[0;34m)\u001b[0m \u001b[0;32mis\u001b[0m \u001b[0mstr\u001b[0m\u001b[0;34m)\u001b[0m\u001b[0;34m:\u001b[0m\u001b[0;34m\u001b[0m\u001b[0;34m\u001b[0m\u001b[0m\n\u001b[0m\u001b[1;32m     73\u001b[0m                 \u001b[0;32mtry\u001b[0m\u001b[0;34m:\u001b[0m\u001b[0;34m\u001b[0m\u001b[0;34m\u001b[0m\u001b[0m\n\u001b[1;32m     74\u001b[0m                         \u001b[0msentence\u001b[0m \u001b[0;34m=\u001b[0m \u001b[0msentence\u001b[0m\u001b[0;34m.\u001b[0m\u001b[0mdecode\u001b[0m\u001b[0;34m(\u001b[0m\u001b[0;34m'utf-8'\u001b[0m\u001b[0;34m)\u001b[0m\u001b[0;34m\u001b[0m\u001b[0;34m\u001b[0m\u001b[0m\n",
      "\u001b[0;31mNameError\u001b[0m: name 'unicode' is not defined"
     ]
    }
   ],
   "source": [
    "text = '对他们来说，只要日本不是逼太紧，也许拖是最好的办法，拖个天长地久，根据地壳板块移动的趋势，钓鱼岛迟早要镶上福建，这事自然就算成了。'\n",
    "list(finalseg.cut(text))"
   ]
  },
  {
   "cell_type": "code",
   "execution_count": 12,
   "metadata": {},
   "outputs": [
    {
     "ename": "NameError",
     "evalue": "name 'unicode' is not defined",
     "output_type": "error",
     "traceback": [
      "\u001b[0;31m---------------------------------------------------------------------------\u001b[0m",
      "\u001b[0;31mNameError\u001b[0m                                 Traceback (most recent call last)",
      "\u001b[0;32m<ipython-input-12-449e7d699f5b>\u001b[0m in \u001b[0;36m<module>\u001b[0;34m\u001b[0m\n\u001b[0;32m----> 1\u001b[0;31m \u001b[0municode\u001b[0m\u001b[0;34m\u001b[0m\u001b[0;34m\u001b[0m\u001b[0m\n\u001b[0m",
      "\u001b[0;31mNameError\u001b[0m: name 'unicode' is not defined"
     ]
    }
   ],
   "source": [
    "unicode"
   ]
  },
  {
   "cell_type": "code",
   "execution_count": 6,
   "metadata": {},
   "outputs": [
    {
     "ename": "AttributeError",
     "evalue": "'str' object has no attribute 'tk'",
     "output_type": "error",
     "traceback": [
      "\u001b[0;31m---------------------------------------------------------------------------\u001b[0m",
      "\u001b[0;31mAttributeError\u001b[0m                            Traceback (most recent call last)",
      "\u001b[0;32m<ipython-input-6-fedc01a7a6e1>\u001b[0m in \u001b[0;36m<module>\u001b[0;34m\u001b[0m\n\u001b[1;32m     48\u001b[0m \u001b[0;34m\u001b[0m\u001b[0m\n\u001b[1;32m     49\u001b[0m \u001b[0mwin\u001b[0m \u001b[0;34m=\u001b[0m \u001b[0mtk\u001b[0m\u001b[0;34m.\u001b[0m\u001b[0mToplevel\u001b[0m\u001b[0;31m#Tk()\u001b[0m\u001b[0;34m\u001b[0m\u001b[0;34m\u001b[0m\u001b[0m\n\u001b[0;32m---> 50\u001b[0;31m \u001b[0mwin\u001b[0m\u001b[0;34m.\u001b[0m\u001b[0mtitle\u001b[0m\u001b[0;34m(\u001b[0m\u001b[0;34m'全国各地历史天气查询系统'\u001b[0m\u001b[0;34m)\u001b[0m\u001b[0;34m\u001b[0m\u001b[0;34m\u001b[0m\u001b[0m\n\u001b[0m\u001b[1;32m     51\u001b[0m \u001b[0mwin\u001b[0m\u001b[0;34m.\u001b[0m\u001b[0mgeometry\u001b[0m\u001b[0;34m(\u001b[0m\u001b[0;34m'500x500'\u001b[0m\u001b[0;34m)\u001b[0m\u001b[0;34m\u001b[0m\u001b[0;34m\u001b[0m\u001b[0m\n\u001b[1;32m     52\u001b[0m \u001b[0;34m\u001b[0m\u001b[0m\n",
      "\u001b[0;32m~/opt/anaconda3/lib/python3.7/tkinter/__init__.py\u001b[0m in \u001b[0;36mwm_title\u001b[0;34m(self, string)\u001b[0m\n\u001b[1;32m   1983\u001b[0m     \u001b[0;32mdef\u001b[0m \u001b[0mwm_title\u001b[0m\u001b[0;34m(\u001b[0m\u001b[0mself\u001b[0m\u001b[0;34m,\u001b[0m \u001b[0mstring\u001b[0m\u001b[0;34m=\u001b[0m\u001b[0;32mNone\u001b[0m\u001b[0;34m)\u001b[0m\u001b[0;34m:\u001b[0m\u001b[0;34m\u001b[0m\u001b[0;34m\u001b[0m\u001b[0m\n\u001b[1;32m   1984\u001b[0m         \u001b[0;34m\"\"\"Set the title of this widget.\"\"\"\u001b[0m\u001b[0;34m\u001b[0m\u001b[0;34m\u001b[0m\u001b[0m\n\u001b[0;32m-> 1985\u001b[0;31m         \u001b[0;32mreturn\u001b[0m \u001b[0mself\u001b[0m\u001b[0;34m.\u001b[0m\u001b[0mtk\u001b[0m\u001b[0;34m.\u001b[0m\u001b[0mcall\u001b[0m\u001b[0;34m(\u001b[0m\u001b[0;34m'wm'\u001b[0m\u001b[0;34m,\u001b[0m \u001b[0;34m'title'\u001b[0m\u001b[0;34m,\u001b[0m \u001b[0mself\u001b[0m\u001b[0;34m.\u001b[0m\u001b[0m_w\u001b[0m\u001b[0;34m,\u001b[0m \u001b[0mstring\u001b[0m\u001b[0;34m)\u001b[0m\u001b[0;34m\u001b[0m\u001b[0;34m\u001b[0m\u001b[0m\n\u001b[0m\u001b[1;32m   1986\u001b[0m     \u001b[0mtitle\u001b[0m \u001b[0;34m=\u001b[0m \u001b[0mwm_title\u001b[0m\u001b[0;34m\u001b[0m\u001b[0;34m\u001b[0m\u001b[0m\n\u001b[1;32m   1987\u001b[0m     \u001b[0;32mdef\u001b[0m \u001b[0mwm_transient\u001b[0m\u001b[0;34m(\u001b[0m\u001b[0mself\u001b[0m\u001b[0;34m,\u001b[0m \u001b[0mmaster\u001b[0m\u001b[0;34m=\u001b[0m\u001b[0;32mNone\u001b[0m\u001b[0;34m)\u001b[0m\u001b[0;34m:\u001b[0m\u001b[0;34m\u001b[0m\u001b[0;34m\u001b[0m\u001b[0m\n",
      "\u001b[0;31mAttributeError\u001b[0m: 'str' object has no attribute 'tk'"
     ]
    }
   ],
   "source": [
    "import requests\n",
    "from lxml import etree\n",
    "import re\n",
    "import tkinter as tk\n",
    "from PIL import Image, ImageTk\n",
    "from xpinyin import Pinyin\n",
    "\n",
    "\n",
    "def get_image(file_nam, width, height):\n",
    "    im = Image.open(file_nam).resize((width, height))\n",
    "    return ImageTk.PhotoImage(im)\n",
    "\n",
    "\n",
    "def spider():\n",
    "    headers = {\n",
    "        'user-agent': 'Mozilla/5.0 (Windows NT 6.2; WOW64) AppleWebKit/535.24 (KHTML, like Gecko) Chrome/19.0.1055.1 Safari/535.24',\n",
    "        \"referer\": \"https://lishi.tianqi.com/chengdu/index.html\"\n",
    "    }\n",
    "    p = Pinyin()\n",
    "    place = ''.join(p.get_pinyin(b1.get()).split('-'))           # 获取地区文本框的输入  变为拼音\n",
    "    # 处理用户输入的时间\n",
    "    # 规定三种格式都可以 2018/10/1  2018年10月1日  2018-10-1\n",
    "    date = b2.get()   # 获取时间文本框的输入\n",
    "    if '/' in date:\n",
    "        tm_list = date.split('/')\n",
    "    elif '-' in date:\n",
    "        tm_list = date.split('-')\n",
    "    else:\n",
    "        tm_list = re.findall(r'\\d+', date)\n",
    "\n",
    "    if int(tm_list[1]) < 10:       # 1-9月  前面加 0\n",
    "        tm_list[1] = f'0{tm_list[1]}'\n",
    "    # 分析网页规律  构造url\n",
    "    # 直接访问有该月所有天气信息的页面 提高查询效率\n",
    "    url = f\"https://lishi.tianqi.com/{place}/{''.join(tm_list[:2])}.html\"\n",
    "    resp = requests.get(url, headers=headers)\n",
    "    html = etree.HTML(resp.text)\n",
    "    # xpath定位提取该日天气信息\n",
    "    info = html.xpath(f'//ul[@class=\"thrui\"]/li[{int(tm_list[2])}]/div/text()')\n",
    "    # 输出信息格式化一下\n",
    "    info1 = ['日期：', '最高气温：', '最低气温：', '天气：', '风向：']\n",
    "    datas = [i + j for i, j in zip(info1, info)]\n",
    "    info = '\\n'.join(datas)\n",
    "    t.insert('insert', '        查询结果如下        \\n\\n')\n",
    "    t.insert('insert', info)\n",
    "    print(info)\n",
    "\n",
    "\n",
    "win = tk.Toplevel#Tk()\n",
    "win.title('全国各地历史天气查询系统')\n",
    "win.geometry('500x500')\n",
    "\n",
    "# 画布  设置背景图片\n",
    "canvas = tk.Canvas(win, height=500, width=500)\n",
    "im_root = get_image('/Users/zhangjing/Documents/InferenceSystem/src/I5_algorithm/笛卡尔坐标系图.png', width=500, height=500)\n",
    "canvas.create_image(250, 250, image=im_root)\n",
    "canvas.pack()\n",
    "\n",
    "# 单行文本\n",
    "L1 = tk.Label(win, bg='yellow', text=\"地区：\", font=(\"SimHei\", 12))\n",
    "L2 = tk.Label(win, bg='yellow', text=\"时间：\", font=(\"SimHei\", 12))\n",
    "L1.place(x=85, y=100)\n",
    "L2.place(x=85, y=150)\n",
    "\n",
    "# 单行文本框  可采集键盘输入\n",
    "b1 = tk.Entry(win, font=(\"SimHei\", 12), show=None, width=35)\n",
    "b2 = tk.Entry(win, font=(\"SimHei\", 12), show=None, width=35)\n",
    "b1.place(x=140, y=100)\n",
    "b2.place(x=140, y=150)\n",
    "\n",
    "# 设置查询按钮\n",
    "a = tk.Button(win, bg='red', text=\"查询\", width=25, height=2, command=spider)\n",
    "a.place(x=160, y=200)\n",
    "\n",
    "# 设置多行文本框  宽 高  文本框中字体  选中文字时文字的颜色\n",
    "t = tk.Text(win, width=30, height=8, font=(\"SimHei\", 18), selectforeground='red')  # 显示多行文本\n",
    "t.place(x=70, y=280)\n",
    "\n",
    "# 进入消息循环\n",
    "win.mainloop()\n",
    "\n"
   ]
  },
  {
   "cell_type": "code",
   "execution_count": 3,
   "metadata": {
    "tags": []
   },
   "outputs": [
    {
     "name": "stdout",
     "output_type": "stream",
     "text": [
      "Collecting xpinyin\n",
      "  Downloading xpinyin-0.5.7-py2.py3-none-any.whl (127 kB)\n",
      "\u001b[K     |████████████████████████████████| 127 kB 170 kB/s \n",
      "\u001b[?25hInstalling collected packages: xpinyin\n",
      "Successfully installed xpinyin-0.5.7\n"
     ]
    }
   ],
   "source": [
    "! pip install xpinyin"
   ]
  },
  {
   "cell_type": "code",
   "execution_count": null,
   "metadata": {},
   "outputs": [],
   "source": []
  }
 ],
 "metadata": {
  "kernelspec": {
   "display_name": "Python 3",
   "language": "python",
   "name": "python3"
  },
  "language_info": {
   "codemirror_mode": {
    "name": "ipython",
    "version": 3
   },
   "file_extension": ".py",
   "mimetype": "text/x-python",
   "name": "python",
   "nbconvert_exporter": "python",
   "pygments_lexer": "ipython3",
   "version": "3.8.5"
  }
 },
 "nbformat": 4,
 "nbformat_minor": 4
}
