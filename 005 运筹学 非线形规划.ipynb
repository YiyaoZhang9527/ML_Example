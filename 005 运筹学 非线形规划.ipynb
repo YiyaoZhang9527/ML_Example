{
 "metadata": {
  "language_info": {
   "codemirror_mode": {
    "name": "ipython",
    "version": 3
   },
   "file_extension": ".py",
   "mimetype": "text/x-python",
   "name": "python",
   "nbconvert_exporter": "python",
   "pygments_lexer": "ipython3",
   "version": "3.7.6-final"
  },
  "orig_nbformat": 2,
  "kernelspec": {
   "name": "pycharm-66c53067",
   "display_name": "PyCharm (InferenceSystem)"
  }
 },
 "nbformat": 4,
 "nbformat_minor": 2,
 "cells": [
  {
   "cell_type": "markdown",
   "metadata": {},
   "source": [
    "https://blog.csdn.net/sinat_17697111/article/details/81534935"
   ]
  },
  {
   "cell_type": "code",
   "execution_count": 3,
   "metadata": {
    "tags": []
   },
   "outputs": [
    {
     "output_type": "stream",
     "name": "stdout",
     "text": "2.0000000815356342\nTrue\n[1.00028559]\n"
    }
   ],
   "source": [
    "# coding=utf-8\n",
    "from scipy.optimize import minimize\n",
    "import numpy as np\n",
    " \n",
    "#demo 1\n",
    "#计算 1/x+x 的最小值\n",
    "def fun(args):\n",
    "    a=args\n",
    "    v=lambda x:a/x[0] +x[0]\n",
    "    return v\n",
    " \n",
    "if __name__ == \"__main__\":\n",
    "    args = (1)  #a\n",
    "    x0 = np.asarray((2))  # 初始猜测值\n",
    "    res = minimize(fun(args), x0, method='SLSQP')\n",
    "    print(res.fun)\n",
    "    print(res.success)\n",
    "    print(res.x)"
   ]
  },
  {
   "cell_type": "code",
   "execution_count": 4,
   "metadata": {
    "tags": []
   },
   "outputs": [
    {
     "output_type": "stream",
     "name": "stdout",
     "text": "-0.773684210526435\nTrue\n[0.9 0.9 0.1]\n"
    }
   ],
   "source": [
    "# coding=utf-8\n",
    "from scipy.optimize import minimize\n",
    "import numpy as np\n",
    " \n",
    "# demo 2\n",
    "#计算  (2+x1)/(1+x2) - 3*x1+4*x3 的最小值  x1,x2,x3的范围都在0.1到0.9 之间\n",
    "def fun(args):\n",
    "    a,b,c,d=args\n",
    "    v=lambda x: (a+x[0])/(b+x[1]) -c*x[0]+d*x[2]\n",
    "    return v\n",
    "def con(args):\n",
    "    # 约束条件 分为eq 和ineq\n",
    "    #eq表示 函数结果等于0 ； ineq 表示 表达式大于等于0  \n",
    "    x1min, x1max, x2min, x2max,x3min,x3max = args\n",
    "    cons = ({'type': 'ineq', 'fun': lambda x: x[0] - x1min},\\\n",
    "              {'type': 'ineq', 'fun': lambda x: -x[0] + x1max},\\\n",
    "             {'type': 'ineq', 'fun': lambda x: x[1] - x2min},\\\n",
    "                {'type': 'ineq', 'fun': lambda x: -x[1] + x2max},\\\n",
    "            {'type': 'ineq', 'fun': lambda x: x[2] - x3min},\\\n",
    "             {'type': 'ineq', 'fun': lambda x: -x[2] + x3max})\n",
    "    return cons\n",
    " \n",
    "if __name__ == \"__main__\":\n",
    "    #定义常量值\n",
    "    args = (2,1,3,4)  #a,b,c,d\n",
    "    #设置参数范围/约束条件\n",
    "    args1 = (0.1,0.9,0.1, 0.9,0.1,0.9)  #x1min, x1max, x2min, x2max\n",
    "    cons = con(args1)\n",
    "    #设置初始猜测值  \n",
    "    x0 = np.asarray((0.5,0.5,0.5))\n",
    "    \n",
    "    res = minimize(fun(args), x0, method='SLSQP',constraints=cons)\n",
    "    print(res.fun)\n",
    "    print(res.success)\n",
    "    print(res.x)"
   ]
  },
  {
   "cell_type": "code",
   "execution_count": null,
   "metadata": {},
   "outputs": [],
   "source": []
  }
 ]
}