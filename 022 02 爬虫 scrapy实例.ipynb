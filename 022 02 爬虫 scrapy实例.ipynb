{
 "cells": [
  {
   "cell_type": "code",
   "execution_count": 1,
   "metadata": {},
   "outputs": [],
   "source": [
    "import scrapy"
   ]
  },
  {
   "cell_type": "markdown",
   "metadata": {},
   "source": [
    "# scray 全局指令\n",
    "# Available commands:\n",
    "###   bench         Run quick benchmark test\n",
    "###   fetch         Fetch a URL using the Scrapy downloader\n",
    "###   genspider     Generate new spider using pre-defined templates\n",
    "###   runspider     Run a self-contained spider (without creating a project)\n",
    "###   settings      Get settings values\n",
    "###   shell         Interactive scraping console\n",
    "###   startproject  Create new project 创建项目\n",
    "###   version       Print Scrapy version\n",
    "###   view          Open URL in browser, as seen by Scrapy\n",
    "\n",
    "   [ more ]      More commands available when run from project directory"
   ]
  },
  {
   "cell_type": "markdown",
   "metadata": {},
   "source": [
    "# 框架基本运行步骤\n",
    "## 1.items.py 定义爬取目标\n",
    "## 2.middlewares.py 中间键，比如代理服务器\n",
    "## 3.pipelines.py 数据处理的文件\n",
    "## 4.settings.py 设置文件"
   ]
  },
  {
   "cell_type": "markdown",
   "metadata": {},
   "source": [
    "## 项目指令\n",
    "### Available commands:\n",
    "###  bench         Run quick benchmark test\n",
    "###  check         Check spider contracts\n",
    "###  crawl         Run a spider 运行某一个爬虫文件\n",
    "###  edit          Edit spider\n",
    "###  fetch         Fetch a URL using the Scrapy downloader\n",
    "###  genspider     Generate new spider using pre-defined templates\n",
    "###  list          List available spiders\n",
    "###  parse         Parse URL (using its spider) and print the results\n",
    "###  runspider     Run a self-contained spider (without creating a project)\n",
    "###  settings      Get settings values\n",
    "###  shell         Interactive scraping console\n",
    "###  startproject  Create new project\n",
    "  version       Print Scrapy version\n",
    "  view          Open URL in browser, as seen by Scrapy\n",
    "\n",
    "Use \"scrapy <command> -h\" to see more info about a command"
   ]
  },
  {
   "cell_type": "markdown",
   "metadata": {},
   "source": [
    "获取一个网页 scrapy fetch \"https://www.baidu.com\""
   ]
  },
  {
   "cell_type": "code",
   "execution_count": 53,
   "metadata": {},
   "outputs": [],
   "source": [
    "from scrapy.spiders import Spider\n",
    "class FirstSpider(Spider):\n",
    "    name ='First'\n",
    "    allowed_domains = [\"baidu.com\"]\n",
    "    start_urls = [\"https//www.baidu.com\"]\n",
    "    def parse(self,resp):\n",
    "        pass"
   ]
  },
  {
   "cell_type": "code",
   "execution_count": null,
   "metadata": {},
   "outputs": [],
   "source": []
  }
 ],
 "metadata": {
  "language_info": {
   "codemirror_mode": {
    "name": "ipython",
    "version": 3
   },
   "file_extension": ".py",
   "mimetype": "text/x-python",
   "name": "python",
   "nbconvert_exporter": "python",
   "pygments_lexer": "ipython3",
   "version": "3.7.6-final"
  },
  "orig_nbformat": 2,
  "kernelspec": {
   "name": "pycharm-66c53067",
   "display_name": "PyCharm (InferenceSystem)"
  }
 },
 "nbformat": 4,
 "nbformat_minor": 2
}