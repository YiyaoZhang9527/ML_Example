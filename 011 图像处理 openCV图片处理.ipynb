{
 "cells": [
  {
   "cell_type": "code",
   "execution_count": 3,
   "metadata": {},
   "outputs": [],
   "source": [
    "import plotly\n",
    "import plotly.graph_objs as go\n",
    "import numpy as np"
   ]
  },
  {
   "cell_type": "code",
   "execution_count": 4,
   "metadata": {},
   "outputs": [
    {
     "output_type": "execute_result",
     "data": {
      "text/plain": "['arr_0']"
     },
     "metadata": {},
     "execution_count": 4
    }
   ],
   "source": [
    "maig = np.load('/Users/manmanzhang/Downloads/imag1.npz')\n",
    "maig.files"
   ]
  },
  {
   "cell_type": "code",
   "execution_count": 5,
   "metadata": {},
   "outputs": [],
   "source": [
    "array = maig['arr_0']"
   ]
  },
  {
   "cell_type": "code",
   "execution_count": 6,
   "metadata": {},
   "outputs": [],
   "source": [
    "def sigmoid(z):\n",
    "    return 1/(1+np.exp(-z))"
   ]
  },
  {
   "cell_type": "code",
   "execution_count": 7,
   "metadata": {},
   "outputs": [
    {
     "output_type": "stream",
     "name": "stdout",
     "text": "<PIL.PngImagePlugin.PngImageFile image mode=RGBA size=280x158 at 0x122EE6ED0>\n(158, 280)\n2\n[[0. 0. 0. ... 0. 0. 0.]\n [0. 0. 0. ... 0. 0. 0.]\n [0. 0. 0. ... 0. 0. 0.]\n ...\n [0. 0. 0. ... 0. 0. 0.]\n [0. 0. 0. ... 0. 0. 0.]\n [0. 0. 0. ... 0. 0. 0.]]\n[[0 0 0 ... 0 0 0]\n [0 0 0 ... 0 0 0]\n [0 0 0 ... 0 0 0]\n ...\n [0 0 0 ... 0 0 0]\n [0 0 0 ... 0 0 0]\n [0 0 0 ... 0 0 0]]\nNone\n"
    }
   ],
   "source": [
    "import numpy as np\n",
    "from PIL import Image\n",
    "\n",
    "path = '/Users/manmanzhang/Downloads/imag1.png'\n",
    "imag1 =Image.open(path)\n",
    "print(imag1)\n",
    "imag2 = imag1.convert('L')\n",
    "# print(imag2.show())\n",
    "# 自定义灰度界限，大于这个值为黑色，小于这个值为白色\n",
    "print(sigmoid(np.array(imag2)).shape)\n",
    "print(sigmoid(np.array(imag2)).ndim)\n",
    "print(sigmoid(np.array(imag2)))\n",
    "imag2 = (sigmoid(np.array(imag2)))\n",
    "imag2 = np.asanyarray(imag2,dtype=np.uint16)\n",
    "print(imag2)\n",
    "imag2 = Image.fromarray(imag2)\n",
    "print(imag2.show())"
   ]
  },
  {
   "cell_type": "code",
   "execution_count": 8,
   "metadata": {},
   "outputs": [
    {
     "output_type": "display_data",
     "data": {
      "text/plain": "<Figure size 432x288 with 1 Axes>",
      "image/svg+xml": "<?xml version=\"1.0\" encoding=\"utf-8\" standalone=\"no\"?>\n<!DOCTYPE svg PUBLIC \"-//W3C//DTD SVG 1.1//EN\"\n  \"http://www.w3.org/Graphics/SVG/1.1/DTD/svg11.dtd\">\n<!-- Created with matplotlib (https://matplotlib.org/) -->\n<svg height=\"262.19625pt\" version=\"1.1\" viewBox=\"0 0 395.328125 262.19625\" width=\"395.328125pt\" xmlns=\"http://www.w3.org/2000/svg\" xmlns:xlink=\"http://www.w3.org/1999/xlink\">\n <defs>\n  <style type=\"text/css\">\n*{stroke-linecap:butt;stroke-linejoin:round;}\n  </style>\n </defs>\n <g id=\"figure_1\">\n  <g id=\"patch_1\">\n   <path d=\"M 0 262.19625 \nL 395.328125 262.19625 \nL 395.328125 0 \nL 0 0 \nz\n\" style=\"fill:none;\"/>\n  </g>\n  <g id=\"axes_1\">\n   <g id=\"patch_2\">\n    <path d=\"M 53.328125 224.64 \nL 388.128125 224.64 \nL 388.128125 7.2 \nL 53.328125 7.2 \nz\n\" style=\"fill:#ffffff;\"/>\n   </g>\n   <g id=\"matplotlib.axis_1\">\n    <g id=\"xtick_1\">\n     <g id=\"line2d_1\">\n      <defs>\n       <path d=\"M 0 0 \nL 0 3.5 \n\" id=\"m3fd79472a1\" style=\"stroke:#000000;stroke-width:0.8;\"/>\n      </defs>\n      <g>\n       <use style=\"stroke:#000000;stroke-width:0.8;\" x=\"68.546307\" xlink:href=\"#m3fd79472a1\" y=\"224.64\"/>\n      </g>\n     </g>\n     <g id=\"text_1\">\n      <!-- 0 -->\n      <defs>\n       <path d=\"M 31.78125 66.40625 \nQ 24.171875 66.40625 20.328125 58.90625 \nQ 16.5 51.421875 16.5 36.375 \nQ 16.5 21.390625 20.328125 13.890625 \nQ 24.171875 6.390625 31.78125 6.390625 \nQ 39.453125 6.390625 43.28125 13.890625 \nQ 47.125 21.390625 47.125 36.375 \nQ 47.125 51.421875 43.28125 58.90625 \nQ 39.453125 66.40625 31.78125 66.40625 \nz\nM 31.78125 74.21875 \nQ 44.046875 74.21875 50.515625 64.515625 \nQ 56.984375 54.828125 56.984375 36.375 \nQ 56.984375 17.96875 50.515625 8.265625 \nQ 44.046875 -1.421875 31.78125 -1.421875 \nQ 19.53125 -1.421875 13.0625 8.265625 \nQ 6.59375 17.96875 6.59375 36.375 \nQ 6.59375 54.828125 13.0625 64.515625 \nQ 19.53125 74.21875 31.78125 74.21875 \nz\n\" id=\"DejaVuSans-48\"/>\n      </defs>\n      <g transform=\"translate(65.365057 239.238437)scale(0.1 -0.1)\">\n       <use xlink:href=\"#DejaVuSans-48\"/>\n      </g>\n     </g>\n    </g>\n    <g id=\"xtick_2\">\n     <g id=\"line2d_2\">\n      <g>\n       <use style=\"stroke:#000000;stroke-width:0.8;\" x=\"128.225451\" xlink:href=\"#m3fd79472a1\" y=\"224.64\"/>\n      </g>\n     </g>\n     <g id=\"text_2\">\n      <!-- 50 -->\n      <defs>\n       <path d=\"M 10.796875 72.90625 \nL 49.515625 72.90625 \nL 49.515625 64.59375 \nL 19.828125 64.59375 \nL 19.828125 46.734375 \nQ 21.96875 47.46875 24.109375 47.828125 \nQ 26.265625 48.1875 28.421875 48.1875 \nQ 40.625 48.1875 47.75 41.5 \nQ 54.890625 34.8125 54.890625 23.390625 \nQ 54.890625 11.625 47.5625 5.09375 \nQ 40.234375 -1.421875 26.90625 -1.421875 \nQ 22.3125 -1.421875 17.546875 -0.640625 \nQ 12.796875 0.140625 7.71875 1.703125 \nL 7.71875 11.625 \nQ 12.109375 9.234375 16.796875 8.0625 \nQ 21.484375 6.890625 26.703125 6.890625 \nQ 35.15625 6.890625 40.078125 11.328125 \nQ 45.015625 15.765625 45.015625 23.390625 \nQ 45.015625 31 40.078125 35.4375 \nQ 35.15625 39.890625 26.703125 39.890625 \nQ 22.75 39.890625 18.8125 39.015625 \nQ 14.890625 38.140625 10.796875 36.28125 \nz\n\" id=\"DejaVuSans-53\"/>\n      </defs>\n      <g transform=\"translate(121.862951 239.238437)scale(0.1 -0.1)\">\n       <use xlink:href=\"#DejaVuSans-53\"/>\n       <use x=\"63.623047\" xlink:href=\"#DejaVuSans-48\"/>\n      </g>\n     </g>\n    </g>\n    <g id=\"xtick_3\">\n     <g id=\"line2d_3\">\n      <g>\n       <use style=\"stroke:#000000;stroke-width:0.8;\" x=\"187.904596\" xlink:href=\"#m3fd79472a1\" y=\"224.64\"/>\n      </g>\n     </g>\n     <g id=\"text_3\">\n      <!-- 100 -->\n      <defs>\n       <path d=\"M 12.40625 8.296875 \nL 28.515625 8.296875 \nL 28.515625 63.921875 \nL 10.984375 60.40625 \nL 10.984375 69.390625 \nL 28.421875 72.90625 \nL 38.28125 72.90625 \nL 38.28125 8.296875 \nL 54.390625 8.296875 \nL 54.390625 0 \nL 12.40625 0 \nz\n\" id=\"DejaVuSans-49\"/>\n      </defs>\n      <g transform=\"translate(178.360846 239.238437)scale(0.1 -0.1)\">\n       <use xlink:href=\"#DejaVuSans-49\"/>\n       <use x=\"63.623047\" xlink:href=\"#DejaVuSans-48\"/>\n       <use x=\"127.246094\" xlink:href=\"#DejaVuSans-48\"/>\n      </g>\n     </g>\n    </g>\n    <g id=\"xtick_4\">\n     <g id=\"line2d_4\">\n      <g>\n       <use style=\"stroke:#000000;stroke-width:0.8;\" x=\"247.58374\" xlink:href=\"#m3fd79472a1\" y=\"224.64\"/>\n      </g>\n     </g>\n     <g id=\"text_4\">\n      <!-- 150 -->\n      <g transform=\"translate(238.03999 239.238437)scale(0.1 -0.1)\">\n       <use xlink:href=\"#DejaVuSans-49\"/>\n       <use x=\"63.623047\" xlink:href=\"#DejaVuSans-53\"/>\n       <use x=\"127.246094\" xlink:href=\"#DejaVuSans-48\"/>\n      </g>\n     </g>\n    </g>\n    <g id=\"xtick_5\">\n     <g id=\"line2d_5\">\n      <g>\n       <use style=\"stroke:#000000;stroke-width:0.8;\" x=\"307.262884\" xlink:href=\"#m3fd79472a1\" y=\"224.64\"/>\n      </g>\n     </g>\n     <g id=\"text_5\">\n      <!-- 200 -->\n      <defs>\n       <path d=\"M 19.1875 8.296875 \nL 53.609375 8.296875 \nL 53.609375 0 \nL 7.328125 0 \nL 7.328125 8.296875 \nQ 12.9375 14.109375 22.625 23.890625 \nQ 32.328125 33.6875 34.8125 36.53125 \nQ 39.546875 41.84375 41.421875 45.53125 \nQ 43.3125 49.21875 43.3125 52.78125 \nQ 43.3125 58.59375 39.234375 62.25 \nQ 35.15625 65.921875 28.609375 65.921875 \nQ 23.96875 65.921875 18.8125 64.3125 \nQ 13.671875 62.703125 7.8125 59.421875 \nL 7.8125 69.390625 \nQ 13.765625 71.78125 18.9375 73 \nQ 24.125 74.21875 28.421875 74.21875 \nQ 39.75 74.21875 46.484375 68.546875 \nQ 53.21875 62.890625 53.21875 53.421875 \nQ 53.21875 48.921875 51.53125 44.890625 \nQ 49.859375 40.875 45.40625 35.40625 \nQ 44.1875 33.984375 37.640625 27.21875 \nQ 31.109375 20.453125 19.1875 8.296875 \nz\n\" id=\"DejaVuSans-50\"/>\n      </defs>\n      <g transform=\"translate(297.719134 239.238437)scale(0.1 -0.1)\">\n       <use xlink:href=\"#DejaVuSans-50\"/>\n       <use x=\"63.623047\" xlink:href=\"#DejaVuSans-48\"/>\n       <use x=\"127.246094\" xlink:href=\"#DejaVuSans-48\"/>\n      </g>\n     </g>\n    </g>\n    <g id=\"xtick_6\">\n     <g id=\"line2d_6\">\n      <g>\n       <use style=\"stroke:#000000;stroke-width:0.8;\" x=\"366.942029\" xlink:href=\"#m3fd79472a1\" y=\"224.64\"/>\n      </g>\n     </g>\n     <g id=\"text_6\">\n      <!-- 250 -->\n      <g transform=\"translate(357.398279 239.238437)scale(0.1 -0.1)\">\n       <use xlink:href=\"#DejaVuSans-50\"/>\n       <use x=\"63.623047\" xlink:href=\"#DejaVuSans-53\"/>\n       <use x=\"127.246094\" xlink:href=\"#DejaVuSans-48\"/>\n      </g>\n     </g>\n    </g>\n    <g id=\"text_7\">\n     <!-- gray Label -->\n     <defs>\n      <path d=\"M 45.40625 27.984375 \nQ 45.40625 37.75 41.375 43.109375 \nQ 37.359375 48.484375 30.078125 48.484375 \nQ 22.859375 48.484375 18.828125 43.109375 \nQ 14.796875 37.75 14.796875 27.984375 \nQ 14.796875 18.265625 18.828125 12.890625 \nQ 22.859375 7.515625 30.078125 7.515625 \nQ 37.359375 7.515625 41.375 12.890625 \nQ 45.40625 18.265625 45.40625 27.984375 \nz\nM 54.390625 6.78125 \nQ 54.390625 -7.171875 48.1875 -13.984375 \nQ 42 -20.796875 29.203125 -20.796875 \nQ 24.46875 -20.796875 20.265625 -20.09375 \nQ 16.0625 -19.390625 12.109375 -17.921875 \nL 12.109375 -9.1875 \nQ 16.0625 -11.328125 19.921875 -12.34375 \nQ 23.78125 -13.375 27.78125 -13.375 \nQ 36.625 -13.375 41.015625 -8.765625 \nQ 45.40625 -4.15625 45.40625 5.171875 \nL 45.40625 9.625 \nQ 42.625 4.78125 38.28125 2.390625 \nQ 33.9375 0 27.875 0 \nQ 17.828125 0 11.671875 7.65625 \nQ 5.515625 15.328125 5.515625 27.984375 \nQ 5.515625 40.671875 11.671875 48.328125 \nQ 17.828125 56 27.875 56 \nQ 33.9375 56 38.28125 53.609375 \nQ 42.625 51.21875 45.40625 46.390625 \nL 45.40625 54.6875 \nL 54.390625 54.6875 \nz\n\" id=\"DejaVuSans-103\"/>\n      <path d=\"M 41.109375 46.296875 \nQ 39.59375 47.171875 37.8125 47.578125 \nQ 36.03125 48 33.890625 48 \nQ 26.265625 48 22.1875 43.046875 \nQ 18.109375 38.09375 18.109375 28.8125 \nL 18.109375 0 \nL 9.078125 0 \nL 9.078125 54.6875 \nL 18.109375 54.6875 \nL 18.109375 46.1875 \nQ 20.953125 51.171875 25.484375 53.578125 \nQ 30.03125 56 36.53125 56 \nQ 37.453125 56 38.578125 55.875 \nQ 39.703125 55.765625 41.0625 55.515625 \nz\n\" id=\"DejaVuSans-114\"/>\n      <path d=\"M 34.28125 27.484375 \nQ 23.390625 27.484375 19.1875 25 \nQ 14.984375 22.515625 14.984375 16.5 \nQ 14.984375 11.71875 18.140625 8.90625 \nQ 21.296875 6.109375 26.703125 6.109375 \nQ 34.1875 6.109375 38.703125 11.40625 \nQ 43.21875 16.703125 43.21875 25.484375 \nL 43.21875 27.484375 \nz\nM 52.203125 31.203125 \nL 52.203125 0 \nL 43.21875 0 \nL 43.21875 8.296875 \nQ 40.140625 3.328125 35.546875 0.953125 \nQ 30.953125 -1.421875 24.3125 -1.421875 \nQ 15.921875 -1.421875 10.953125 3.296875 \nQ 6 8.015625 6 15.921875 \nQ 6 25.140625 12.171875 29.828125 \nQ 18.359375 34.515625 30.609375 34.515625 \nL 43.21875 34.515625 \nL 43.21875 35.40625 \nQ 43.21875 41.609375 39.140625 45 \nQ 35.0625 48.390625 27.6875 48.390625 \nQ 23 48.390625 18.546875 47.265625 \nQ 14.109375 46.140625 10.015625 43.890625 \nL 10.015625 52.203125 \nQ 14.9375 54.109375 19.578125 55.046875 \nQ 24.21875 56 28.609375 56 \nQ 40.484375 56 46.34375 49.84375 \nQ 52.203125 43.703125 52.203125 31.203125 \nz\n\" id=\"DejaVuSans-97\"/>\n      <path d=\"M 32.171875 -5.078125 \nQ 28.375 -14.84375 24.75 -17.8125 \nQ 21.140625 -20.796875 15.09375 -20.796875 \nL 7.90625 -20.796875 \nL 7.90625 -13.28125 \nL 13.1875 -13.28125 \nQ 16.890625 -13.28125 18.9375 -11.515625 \nQ 21 -9.765625 23.484375 -3.21875 \nL 25.09375 0.875 \nL 2.984375 54.6875 \nL 12.5 54.6875 \nL 29.59375 11.921875 \nL 46.6875 54.6875 \nL 56.203125 54.6875 \nz\n\" id=\"DejaVuSans-121\"/>\n      <path id=\"DejaVuSans-32\"/>\n      <path d=\"M 9.8125 72.90625 \nL 19.671875 72.90625 \nL 19.671875 8.296875 \nL 55.171875 8.296875 \nL 55.171875 0 \nL 9.8125 0 \nz\n\" id=\"DejaVuSans-76\"/>\n      <path d=\"M 48.6875 27.296875 \nQ 48.6875 37.203125 44.609375 42.84375 \nQ 40.53125 48.484375 33.40625 48.484375 \nQ 26.265625 48.484375 22.1875 42.84375 \nQ 18.109375 37.203125 18.109375 27.296875 \nQ 18.109375 17.390625 22.1875 11.75 \nQ 26.265625 6.109375 33.40625 6.109375 \nQ 40.53125 6.109375 44.609375 11.75 \nQ 48.6875 17.390625 48.6875 27.296875 \nz\nM 18.109375 46.390625 \nQ 20.953125 51.265625 25.265625 53.625 \nQ 29.59375 56 35.59375 56 \nQ 45.5625 56 51.78125 48.09375 \nQ 58.015625 40.1875 58.015625 27.296875 \nQ 58.015625 14.40625 51.78125 6.484375 \nQ 45.5625 -1.421875 35.59375 -1.421875 \nQ 29.59375 -1.421875 25.265625 0.953125 \nQ 20.953125 3.328125 18.109375 8.203125 \nL 18.109375 0 \nL 9.078125 0 \nL 9.078125 75.984375 \nL 18.109375 75.984375 \nz\n\" id=\"DejaVuSans-98\"/>\n      <path d=\"M 56.203125 29.59375 \nL 56.203125 25.203125 \nL 14.890625 25.203125 \nQ 15.484375 15.921875 20.484375 11.0625 \nQ 25.484375 6.203125 34.421875 6.203125 \nQ 39.59375 6.203125 44.453125 7.46875 \nQ 49.3125 8.734375 54.109375 11.28125 \nL 54.109375 2.78125 \nQ 49.265625 0.734375 44.1875 -0.34375 \nQ 39.109375 -1.421875 33.890625 -1.421875 \nQ 20.796875 -1.421875 13.15625 6.1875 \nQ 5.515625 13.8125 5.515625 26.8125 \nQ 5.515625 40.234375 12.765625 48.109375 \nQ 20.015625 56 32.328125 56 \nQ 43.359375 56 49.78125 48.890625 \nQ 56.203125 41.796875 56.203125 29.59375 \nz\nM 47.21875 32.234375 \nQ 47.125 39.59375 43.09375 43.984375 \nQ 39.0625 48.390625 32.421875 48.390625 \nQ 24.90625 48.390625 20.390625 44.140625 \nQ 15.875 39.890625 15.1875 32.171875 \nz\n\" id=\"DejaVuSans-101\"/>\n      <path d=\"M 9.421875 75.984375 \nL 18.40625 75.984375 \nL 18.40625 0 \nL 9.421875 0 \nz\n\" id=\"DejaVuSans-108\"/>\n     </defs>\n     <g transform=\"translate(194.396094 252.916562)scale(0.1 -0.1)\">\n      <use xlink:href=\"#DejaVuSans-103\"/>\n      <use x=\"63.476562\" xlink:href=\"#DejaVuSans-114\"/>\n      <use x=\"104.589844\" xlink:href=\"#DejaVuSans-97\"/>\n      <use x=\"165.869141\" xlink:href=\"#DejaVuSans-121\"/>\n      <use x=\"225.048828\" xlink:href=\"#DejaVuSans-32\"/>\n      <use x=\"256.835938\" xlink:href=\"#DejaVuSans-76\"/>\n      <use x=\"312.548828\" xlink:href=\"#DejaVuSans-97\"/>\n      <use x=\"373.828125\" xlink:href=\"#DejaVuSans-98\"/>\n      <use x=\"437.304688\" xlink:href=\"#DejaVuSans-101\"/>\n      <use x=\"498.828125\" xlink:href=\"#DejaVuSans-108\"/>\n     </g>\n    </g>\n   </g>\n   <g id=\"matplotlib.axis_2\">\n    <g id=\"ytick_1\">\n     <g id=\"line2d_7\">\n      <defs>\n       <path d=\"M 0 0 \nL -3.5 0 \n\" id=\"mf11ceabaec\" style=\"stroke:#000000;stroke-width:0.8;\"/>\n      </defs>\n      <g>\n       <use style=\"stroke:#000000;stroke-width:0.8;\" x=\"53.328125\" xlink:href=\"#mf11ceabaec\" y=\"214.756364\"/>\n      </g>\n     </g>\n     <g id=\"text_8\">\n      <!-- 0 -->\n      <g transform=\"translate(39.965625 218.555582)scale(0.1 -0.1)\">\n       <use xlink:href=\"#DejaVuSans-48\"/>\n      </g>\n     </g>\n    </g>\n    <g id=\"ytick_2\">\n     <g id=\"line2d_8\">\n      <g>\n       <use style=\"stroke:#000000;stroke-width:0.8;\" x=\"53.328125\" xlink:href=\"#mf11ceabaec\" y=\"182.19084\"/>\n      </g>\n     </g>\n     <g id=\"text_9\">\n      <!-- 200 -->\n      <g transform=\"translate(27.240625 185.990059)scale(0.1 -0.1)\">\n       <use xlink:href=\"#DejaVuSans-50\"/>\n       <use x=\"63.623047\" xlink:href=\"#DejaVuSans-48\"/>\n       <use x=\"127.246094\" xlink:href=\"#DejaVuSans-48\"/>\n      </g>\n     </g>\n    </g>\n    <g id=\"ytick_3\">\n     <g id=\"line2d_9\">\n      <g>\n       <use style=\"stroke:#000000;stroke-width:0.8;\" x=\"53.328125\" xlink:href=\"#mf11ceabaec\" y=\"149.625317\"/>\n      </g>\n     </g>\n     <g id=\"text_10\">\n      <!-- 400 -->\n      <defs>\n       <path d=\"M 37.796875 64.3125 \nL 12.890625 25.390625 \nL 37.796875 25.390625 \nz\nM 35.203125 72.90625 \nL 47.609375 72.90625 \nL 47.609375 25.390625 \nL 58.015625 25.390625 \nL 58.015625 17.1875 \nL 47.609375 17.1875 \nL 47.609375 0 \nL 37.796875 0 \nL 37.796875 17.1875 \nL 4.890625 17.1875 \nL 4.890625 26.703125 \nz\n\" id=\"DejaVuSans-52\"/>\n      </defs>\n      <g transform=\"translate(27.240625 153.424536)scale(0.1 -0.1)\">\n       <use xlink:href=\"#DejaVuSans-52\"/>\n       <use x=\"63.623047\" xlink:href=\"#DejaVuSans-48\"/>\n       <use x=\"127.246094\" xlink:href=\"#DejaVuSans-48\"/>\n      </g>\n     </g>\n    </g>\n    <g id=\"ytick_4\">\n     <g id=\"line2d_10\">\n      <g>\n       <use style=\"stroke:#000000;stroke-width:0.8;\" x=\"53.328125\" xlink:href=\"#mf11ceabaec\" y=\"117.059793\"/>\n      </g>\n     </g>\n     <g id=\"text_11\">\n      <!-- 600 -->\n      <defs>\n       <path d=\"M 33.015625 40.375 \nQ 26.375 40.375 22.484375 35.828125 \nQ 18.609375 31.296875 18.609375 23.390625 \nQ 18.609375 15.53125 22.484375 10.953125 \nQ 26.375 6.390625 33.015625 6.390625 \nQ 39.65625 6.390625 43.53125 10.953125 \nQ 47.40625 15.53125 47.40625 23.390625 \nQ 47.40625 31.296875 43.53125 35.828125 \nQ 39.65625 40.375 33.015625 40.375 \nz\nM 52.59375 71.296875 \nL 52.59375 62.3125 \nQ 48.875 64.0625 45.09375 64.984375 \nQ 41.3125 65.921875 37.59375 65.921875 \nQ 27.828125 65.921875 22.671875 59.328125 \nQ 17.53125 52.734375 16.796875 39.40625 \nQ 19.671875 43.65625 24.015625 45.921875 \nQ 28.375 48.1875 33.59375 48.1875 \nQ 44.578125 48.1875 50.953125 41.515625 \nQ 57.328125 34.859375 57.328125 23.390625 \nQ 57.328125 12.15625 50.6875 5.359375 \nQ 44.046875 -1.421875 33.015625 -1.421875 \nQ 20.359375 -1.421875 13.671875 8.265625 \nQ 6.984375 17.96875 6.984375 36.375 \nQ 6.984375 53.65625 15.1875 63.9375 \nQ 23.390625 74.21875 37.203125 74.21875 \nQ 40.921875 74.21875 44.703125 73.484375 \nQ 48.484375 72.75 52.59375 71.296875 \nz\n\" id=\"DejaVuSans-54\"/>\n      </defs>\n      <g transform=\"translate(27.240625 120.859012)scale(0.1 -0.1)\">\n       <use xlink:href=\"#DejaVuSans-54\"/>\n       <use x=\"63.623047\" xlink:href=\"#DejaVuSans-48\"/>\n       <use x=\"127.246094\" xlink:href=\"#DejaVuSans-48\"/>\n      </g>\n     </g>\n    </g>\n    <g id=\"ytick_5\">\n     <g id=\"line2d_11\">\n      <g>\n       <use style=\"stroke:#000000;stroke-width:0.8;\" x=\"53.328125\" xlink:href=\"#mf11ceabaec\" y=\"84.49427\"/>\n      </g>\n     </g>\n     <g id=\"text_12\">\n      <!-- 800 -->\n      <defs>\n       <path d=\"M 31.78125 34.625 \nQ 24.75 34.625 20.71875 30.859375 \nQ 16.703125 27.09375 16.703125 20.515625 \nQ 16.703125 13.921875 20.71875 10.15625 \nQ 24.75 6.390625 31.78125 6.390625 \nQ 38.8125 6.390625 42.859375 10.171875 \nQ 46.921875 13.96875 46.921875 20.515625 \nQ 46.921875 27.09375 42.890625 30.859375 \nQ 38.875 34.625 31.78125 34.625 \nz\nM 21.921875 38.8125 \nQ 15.578125 40.375 12.03125 44.71875 \nQ 8.5 49.078125 8.5 55.328125 \nQ 8.5 64.0625 14.71875 69.140625 \nQ 20.953125 74.21875 31.78125 74.21875 \nQ 42.671875 74.21875 48.875 69.140625 \nQ 55.078125 64.0625 55.078125 55.328125 \nQ 55.078125 49.078125 51.53125 44.71875 \nQ 48 40.375 41.703125 38.8125 \nQ 48.828125 37.15625 52.796875 32.3125 \nQ 56.78125 27.484375 56.78125 20.515625 \nQ 56.78125 9.90625 50.3125 4.234375 \nQ 43.84375 -1.421875 31.78125 -1.421875 \nQ 19.734375 -1.421875 13.25 4.234375 \nQ 6.78125 9.90625 6.78125 20.515625 \nQ 6.78125 27.484375 10.78125 32.3125 \nQ 14.796875 37.15625 21.921875 38.8125 \nz\nM 18.3125 54.390625 \nQ 18.3125 48.734375 21.84375 45.5625 \nQ 25.390625 42.390625 31.78125 42.390625 \nQ 38.140625 42.390625 41.71875 45.5625 \nQ 45.3125 48.734375 45.3125 54.390625 \nQ 45.3125 60.0625 41.71875 63.234375 \nQ 38.140625 66.40625 31.78125 66.40625 \nQ 25.390625 66.40625 21.84375 63.234375 \nQ 18.3125 60.0625 18.3125 54.390625 \nz\n\" id=\"DejaVuSans-56\"/>\n      </defs>\n      <g transform=\"translate(27.240625 88.293489)scale(0.1 -0.1)\">\n       <use xlink:href=\"#DejaVuSans-56\"/>\n       <use x=\"63.623047\" xlink:href=\"#DejaVuSans-48\"/>\n       <use x=\"127.246094\" xlink:href=\"#DejaVuSans-48\"/>\n      </g>\n     </g>\n    </g>\n    <g id=\"ytick_6\">\n     <g id=\"line2d_12\">\n      <g>\n       <use style=\"stroke:#000000;stroke-width:0.8;\" x=\"53.328125\" xlink:href=\"#mf11ceabaec\" y=\"51.928746\"/>\n      </g>\n     </g>\n     <g id=\"text_13\">\n      <!-- 1000 -->\n      <g transform=\"translate(20.878125 55.727965)scale(0.1 -0.1)\">\n       <use xlink:href=\"#DejaVuSans-49\"/>\n       <use x=\"63.623047\" xlink:href=\"#DejaVuSans-48\"/>\n       <use x=\"127.246094\" xlink:href=\"#DejaVuSans-48\"/>\n       <use x=\"190.869141\" xlink:href=\"#DejaVuSans-48\"/>\n      </g>\n     </g>\n    </g>\n    <g id=\"ytick_7\">\n     <g id=\"line2d_13\">\n      <g>\n       <use style=\"stroke:#000000;stroke-width:0.8;\" x=\"53.328125\" xlink:href=\"#mf11ceabaec\" y=\"19.363223\"/>\n      </g>\n     </g>\n     <g id=\"text_14\">\n      <!-- 1200 -->\n      <g transform=\"translate(20.878125 23.162442)scale(0.1 -0.1)\">\n       <use xlink:href=\"#DejaVuSans-49\"/>\n       <use x=\"63.623047\" xlink:href=\"#DejaVuSans-50\"/>\n       <use x=\"127.246094\" xlink:href=\"#DejaVuSans-48\"/>\n       <use x=\"190.869141\" xlink:href=\"#DejaVuSans-48\"/>\n      </g>\n     </g>\n    </g>\n    <g id=\"text_15\">\n     <!-- number of pixels -->\n     <defs>\n      <path d=\"M 54.890625 33.015625 \nL 54.890625 0 \nL 45.90625 0 \nL 45.90625 32.71875 \nQ 45.90625 40.484375 42.875 44.328125 \nQ 39.84375 48.1875 33.796875 48.1875 \nQ 26.515625 48.1875 22.3125 43.546875 \nQ 18.109375 38.921875 18.109375 30.90625 \nL 18.109375 0 \nL 9.078125 0 \nL 9.078125 54.6875 \nL 18.109375 54.6875 \nL 18.109375 46.1875 \nQ 21.34375 51.125 25.703125 53.5625 \nQ 30.078125 56 35.796875 56 \nQ 45.21875 56 50.046875 50.171875 \nQ 54.890625 44.34375 54.890625 33.015625 \nz\n\" id=\"DejaVuSans-110\"/>\n      <path d=\"M 8.5 21.578125 \nL 8.5 54.6875 \nL 17.484375 54.6875 \nL 17.484375 21.921875 \nQ 17.484375 14.15625 20.5 10.265625 \nQ 23.53125 6.390625 29.59375 6.390625 \nQ 36.859375 6.390625 41.078125 11.03125 \nQ 45.3125 15.671875 45.3125 23.6875 \nL 45.3125 54.6875 \nL 54.296875 54.6875 \nL 54.296875 0 \nL 45.3125 0 \nL 45.3125 8.40625 \nQ 42.046875 3.421875 37.71875 1 \nQ 33.40625 -1.421875 27.6875 -1.421875 \nQ 18.265625 -1.421875 13.375 4.4375 \nQ 8.5 10.296875 8.5 21.578125 \nz\nM 31.109375 56 \nz\n\" id=\"DejaVuSans-117\"/>\n      <path d=\"M 52 44.1875 \nQ 55.375 50.25 60.0625 53.125 \nQ 64.75 56 71.09375 56 \nQ 79.640625 56 84.28125 50.015625 \nQ 88.921875 44.046875 88.921875 33.015625 \nL 88.921875 0 \nL 79.890625 0 \nL 79.890625 32.71875 \nQ 79.890625 40.578125 77.09375 44.375 \nQ 74.3125 48.1875 68.609375 48.1875 \nQ 61.625 48.1875 57.5625 43.546875 \nQ 53.515625 38.921875 53.515625 30.90625 \nL 53.515625 0 \nL 44.484375 0 \nL 44.484375 32.71875 \nQ 44.484375 40.625 41.703125 44.40625 \nQ 38.921875 48.1875 33.109375 48.1875 \nQ 26.21875 48.1875 22.15625 43.53125 \nQ 18.109375 38.875 18.109375 30.90625 \nL 18.109375 0 \nL 9.078125 0 \nL 9.078125 54.6875 \nL 18.109375 54.6875 \nL 18.109375 46.1875 \nQ 21.1875 51.21875 25.484375 53.609375 \nQ 29.78125 56 35.6875 56 \nQ 41.65625 56 45.828125 52.96875 \nQ 50 49.953125 52 44.1875 \nz\n\" id=\"DejaVuSans-109\"/>\n      <path d=\"M 30.609375 48.390625 \nQ 23.390625 48.390625 19.1875 42.75 \nQ 14.984375 37.109375 14.984375 27.296875 \nQ 14.984375 17.484375 19.15625 11.84375 \nQ 23.34375 6.203125 30.609375 6.203125 \nQ 37.796875 6.203125 41.984375 11.859375 \nQ 46.1875 17.53125 46.1875 27.296875 \nQ 46.1875 37.015625 41.984375 42.703125 \nQ 37.796875 48.390625 30.609375 48.390625 \nz\nM 30.609375 56 \nQ 42.328125 56 49.015625 48.375 \nQ 55.71875 40.765625 55.71875 27.296875 \nQ 55.71875 13.875 49.015625 6.21875 \nQ 42.328125 -1.421875 30.609375 -1.421875 \nQ 18.84375 -1.421875 12.171875 6.21875 \nQ 5.515625 13.875 5.515625 27.296875 \nQ 5.515625 40.765625 12.171875 48.375 \nQ 18.84375 56 30.609375 56 \nz\n\" id=\"DejaVuSans-111\"/>\n      <path d=\"M 37.109375 75.984375 \nL 37.109375 68.5 \nL 28.515625 68.5 \nQ 23.6875 68.5 21.796875 66.546875 \nQ 19.921875 64.59375 19.921875 59.515625 \nL 19.921875 54.6875 \nL 34.71875 54.6875 \nL 34.71875 47.703125 \nL 19.921875 47.703125 \nL 19.921875 0 \nL 10.890625 0 \nL 10.890625 47.703125 \nL 2.296875 47.703125 \nL 2.296875 54.6875 \nL 10.890625 54.6875 \nL 10.890625 58.5 \nQ 10.890625 67.625 15.140625 71.796875 \nQ 19.390625 75.984375 28.609375 75.984375 \nz\n\" id=\"DejaVuSans-102\"/>\n      <path d=\"M 18.109375 8.203125 \nL 18.109375 -20.796875 \nL 9.078125 -20.796875 \nL 9.078125 54.6875 \nL 18.109375 54.6875 \nL 18.109375 46.390625 \nQ 20.953125 51.265625 25.265625 53.625 \nQ 29.59375 56 35.59375 56 \nQ 45.5625 56 51.78125 48.09375 \nQ 58.015625 40.1875 58.015625 27.296875 \nQ 58.015625 14.40625 51.78125 6.484375 \nQ 45.5625 -1.421875 35.59375 -1.421875 \nQ 29.59375 -1.421875 25.265625 0.953125 \nQ 20.953125 3.328125 18.109375 8.203125 \nz\nM 48.6875 27.296875 \nQ 48.6875 37.203125 44.609375 42.84375 \nQ 40.53125 48.484375 33.40625 48.484375 \nQ 26.265625 48.484375 22.1875 42.84375 \nQ 18.109375 37.203125 18.109375 27.296875 \nQ 18.109375 17.390625 22.1875 11.75 \nQ 26.265625 6.109375 33.40625 6.109375 \nQ 40.53125 6.109375 44.609375 11.75 \nQ 48.6875 17.390625 48.6875 27.296875 \nz\n\" id=\"DejaVuSans-112\"/>\n      <path d=\"M 9.421875 54.6875 \nL 18.40625 54.6875 \nL 18.40625 0 \nL 9.421875 0 \nz\nM 9.421875 75.984375 \nL 18.40625 75.984375 \nL 18.40625 64.59375 \nL 9.421875 64.59375 \nz\n\" id=\"DejaVuSans-105\"/>\n      <path d=\"M 54.890625 54.6875 \nL 35.109375 28.078125 \nL 55.90625 0 \nL 45.3125 0 \nL 29.390625 21.484375 \nL 13.484375 0 \nL 2.875 0 \nL 24.125 28.609375 \nL 4.6875 54.6875 \nL 15.28125 54.6875 \nL 29.78125 35.203125 \nL 44.28125 54.6875 \nz\n\" id=\"DejaVuSans-120\"/>\n      <path d=\"M 44.28125 53.078125 \nL 44.28125 44.578125 \nQ 40.484375 46.53125 36.375 47.5 \nQ 32.28125 48.484375 27.875 48.484375 \nQ 21.1875 48.484375 17.84375 46.4375 \nQ 14.5 44.390625 14.5 40.28125 \nQ 14.5 37.15625 16.890625 35.375 \nQ 19.28125 33.59375 26.515625 31.984375 \nL 29.59375 31.296875 \nQ 39.15625 29.25 43.1875 25.515625 \nQ 47.21875 21.78125 47.21875 15.09375 \nQ 47.21875 7.46875 41.1875 3.015625 \nQ 35.15625 -1.421875 24.609375 -1.421875 \nQ 20.21875 -1.421875 15.453125 -0.5625 \nQ 10.6875 0.296875 5.421875 2 \nL 5.421875 11.28125 \nQ 10.40625 8.6875 15.234375 7.390625 \nQ 20.0625 6.109375 24.8125 6.109375 \nQ 31.15625 6.109375 34.5625 8.28125 \nQ 37.984375 10.453125 37.984375 14.40625 \nQ 37.984375 18.0625 35.515625 20.015625 \nQ 33.0625 21.96875 24.703125 23.78125 \nL 21.578125 24.515625 \nQ 13.234375 26.265625 9.515625 29.90625 \nQ 5.8125 33.546875 5.8125 39.890625 \nQ 5.8125 47.609375 11.28125 51.796875 \nQ 16.75 56 26.8125 56 \nQ 31.78125 56 36.171875 55.265625 \nQ 40.578125 54.546875 44.28125 53.078125 \nz\n\" id=\"DejaVuSans-115\"/>\n     </defs>\n     <g transform=\"translate(14.798438 158.022344)rotate(-90)scale(0.1 -0.1)\">\n      <use xlink:href=\"#DejaVuSans-110\"/>\n      <use x=\"63.378906\" xlink:href=\"#DejaVuSans-117\"/>\n      <use x=\"126.757812\" xlink:href=\"#DejaVuSans-109\"/>\n      <use x=\"224.169922\" xlink:href=\"#DejaVuSans-98\"/>\n      <use x=\"287.646484\" xlink:href=\"#DejaVuSans-101\"/>\n      <use x=\"349.169922\" xlink:href=\"#DejaVuSans-114\"/>\n      <use x=\"390.283203\" xlink:href=\"#DejaVuSans-32\"/>\n      <use x=\"422.070312\" xlink:href=\"#DejaVuSans-111\"/>\n      <use x=\"483.251953\" xlink:href=\"#DejaVuSans-102\"/>\n      <use x=\"518.457031\" xlink:href=\"#DejaVuSans-32\"/>\n      <use x=\"550.244141\" xlink:href=\"#DejaVuSans-112\"/>\n      <use x=\"613.720703\" xlink:href=\"#DejaVuSans-105\"/>\n      <use x=\"641.503906\" xlink:href=\"#DejaVuSans-120\"/>\n      <use x=\"700.636719\" xlink:href=\"#DejaVuSans-101\"/>\n      <use x=\"762.160156\" xlink:href=\"#DejaVuSans-108\"/>\n      <use x=\"789.943359\" xlink:href=\"#DejaVuSans-115\"/>\n     </g>\n    </g>\n   </g>\n   <g id=\"line2d_14\">\n    <path clip-path=\"url(#p8d18c0c180)\" d=\"M 68.546307 214.593536 \nL 69.73989 214.756364 \nL 72.127055 214.756364 \nL 73.320638 214.593536 \nL 74.514221 214.756364 \nL 75.707804 214.593536 \nL 78.09497 214.593536 \nL 79.288553 214.756364 \nL 80.482136 214.430708 \nL 81.675719 214.267881 \nL 82.869301 214.430708 \nL 85.256467 213.453743 \nL 87.643633 213.453743 \nL 88.837216 212.313949 \nL 90.030799 213.290915 \nL 91.224382 212.476777 \nL 92.417965 211.174156 \nL 93.611547 211.988294 \nL 94.80513 210.034363 \nL 95.998713 211.336984 \nL 97.192296 211.988294 \nL 98.385879 211.499811 \nL 99.579462 212.313949 \nL 100.773045 210.19719 \nL 101.966628 211.499811 \nL 103.160211 208.406087 \nL 104.353793 209.871535 \nL 105.547376 208.731742 \nL 106.740959 207.429121 \nL 109.128125 205.800845 \nL 110.321708 205.475189 \nL 112.708874 206.1265 \nL 113.902457 206.289328 \nL 115.096039 207.103466 \nL 116.289622 204.335396 \nL 117.483205 204.009741 \nL 118.676788 203.521258 \nL 119.870371 202.218637 \nL 121.063954 203.195603 \nL 122.257537 203.521258 \nL 123.45112 201.404499 \nL 124.644703 200.427533 \nL 125.838285 201.078844 \nL 127.031868 204.498224 \nL 128.225451 198.962085 \nL 129.419034 200.427533 \nL 130.612617 201.078844 \nL 131.8062 199.776223 \nL 132.999783 198.962085 \nL 134.193366 195.21705 \nL 135.386949 196.845326 \nL 136.580531 199.613395 \nL 137.774114 199.28774 \nL 138.967697 195.705532 \nL 140.16128 190.495049 \nL 141.354863 189.0296 \nL 142.548446 186.098703 \nL 143.742029 176.003391 \nL 144.935612 168.350493 \nL 146.129195 150.76511 \nL 147.322777 126.503795 \nL 148.51636 110.546689 \nL 149.709943 65.931922 \nL 150.903526 47.695228 \nL 152.097109 38.414054 \nL 153.290692 17.083636 \nL 154.484275 44.927159 \nL 155.677858 47.695228 \nL 156.871441 48.672194 \nL 158.065023 42.973227 \nL 159.258606 51.277436 \nL 160.452189 49.323505 \nL 161.645772 59.418817 \nL 162.839355 73.421992 \nL 164.032938 93.938272 \nL 165.226521 85.308408 \nL 166.420104 84.49427 \nL 167.613686 94.589582 \nL 168.807269 101.428342 \nL 170.000852 88.56496 \nL 171.194435 100.777032 \nL 172.388018 97.194824 \nL 173.581601 108.755585 \nL 174.775184 116.896966 \nL 175.968767 115.594345 \nL 177.16235 119.33938 \nL 178.355932 106.475998 \nL 180.743098 128.294899 \nL 181.936681 147.182903 \nL 184.323847 176.166218 \nL 185.51743 176.491874 \nL 186.711013 182.679323 \nL 187.904596 185.61022 \nL 189.098178 188.866773 \nL 190.291761 185.773048 \nL 191.485344 184.470427 \nL 192.678927 190.657876 \nL 193.87251 185.773048 \nL 195.066093 188.541117 \nL 196.259676 190.820704 \nL 197.453259 188.703945 \nL 198.646842 191.146359 \nL 199.840424 191.79767 \nL 201.034007 190.657876 \nL 202.22759 190.332221 \nL 203.421173 191.634842 \nL 204.614756 188.37829 \nL 205.808339 187.238496 \nL 207.001922 191.634842 \nL 208.195505 189.843738 \nL 209.389088 195.379877 \nL 210.58267 190.006566 \nL 211.776253 194.891394 \nL 212.969836 191.309187 \nL 214.163419 193.425946 \nL 215.357002 192.774635 \nL 216.550585 194.402911 \nL 217.744168 195.542705 \nL 218.937751 191.146359 \nL 220.131334 193.588773 \nL 221.324916 193.100291 \nL 222.518499 193.100291 \nL 223.712082 196.356843 \nL 224.905665 196.194015 \nL 226.099248 197.170981 \nL 227.292831 192.286152 \nL 228.486414 195.379877 \nL 230.87358 193.751601 \nL 233.260745 190.657876 \nL 234.454328 188.37829 \nL 235.647911 184.633254 \nL 238.035077 171.9327 \nL 239.22866 163.140009 \nL 241.615826 171.607045 \nL 242.809408 172.095528 \nL 244.002991 173.235321 \nL 245.196574 182.028013 \nL 246.390157 180.888219 \nL 247.58374 188.052634 \nL 248.777323 185.773048 \nL 249.970906 190.332221 \nL 251.164489 185.447393 \nL 252.358072 194.240084 \nL 253.551654 193.100291 \nL 254.745237 190.332221 \nL 255.93882 186.587186 \nL 257.132403 192.611808 \nL 258.325986 193.100291 \nL 259.519569 193.914429 \nL 260.713152 197.170981 \nL 261.906735 192.123325 \nL 263.100318 196.682498 \nL 264.2939 194.402911 \nL 265.487483 197.008153 \nL 266.681066 193.914429 \nL 267.874649 195.86836 \nL 269.068232 196.682498 \nL 270.261815 196.031188 \nL 271.455398 193.914429 \nL 272.648981 196.356843 \nL 273.842564 195.21705 \nL 275.036146 197.008153 \nL 276.229729 196.519671 \nL 277.423312 196.845326 \nL 278.616895 198.147947 \nL 279.810478 196.682498 \nL 281.004061 198.63643 \nL 282.197644 196.682498 \nL 283.391227 195.379877 \nL 284.584809 198.962085 \nL 285.778392 198.799257 \nL 286.971975 198.473602 \nL 288.165558 197.822291 \nL 290.552724 200.753189 \nL 291.746307 200.427533 \nL 292.93989 196.194015 \nL 294.133473 199.93905 \nL 295.327055 197.496636 \nL 296.520638 199.124912 \nL 297.714221 199.93905 \nL 298.907804 203.35843 \nL 300.101387 200.590361 \nL 301.29497 201.078844 \nL 302.488553 199.450568 \nL 303.682136 200.916016 \nL 304.875719 199.124912 \nL 306.069301 203.846913 \nL 307.262884 201.730154 \nL 308.456467 201.404499 \nL 309.65005 200.427533 \nL 310.843633 199.776223 \nL 312.037216 202.869948 \nL 313.230799 203.684086 \nL 314.424382 205.963672 \nL 315.617965 205.638017 \nL 316.811547 205.149534 \nL 318.00513 205.963672 \nL 319.198713 205.963672 \nL 320.392296 207.266293 \nL 321.585879 208.243259 \nL 322.779462 208.568914 \nL 323.973045 208.406087 \nL 325.166628 207.429121 \nL 326.360211 207.429121 \nL 327.553793 208.731742 \nL 328.747376 209.54588 \nL 329.940959 208.894569 \nL 331.134542 210.685673 \nL 332.328125 211.825467 \nL 333.521708 211.011328 \nL 335.908874 211.336984 \nL 337.102457 211.174156 \nL 338.296039 211.499811 \nL 339.489622 212.96526 \nL 340.683205 212.476777 \nL 341.876788 212.639605 \nL 343.070371 213.453743 \nL 344.263954 213.61657 \nL 345.457537 214.105053 \nL 346.65112 213.61657 \nL 347.844703 213.779398 \nL 349.038285 214.105053 \nL 350.231868 213.61657 \nL 351.425451 214.267881 \nL 353.812617 214.593536 \nL 355.0062 214.430708 \nL 356.199783 214.593536 \nL 357.393366 214.430708 \nL 358.586949 214.430708 \nL 359.780531 214.756364 \nL 360.974114 214.267881 \nL 362.167697 214.593536 \nL 363.36128 214.593536 \nL 365.748446 214.267881 \nL 366.942029 213.942226 \nL 368.135612 214.593536 \nL 369.329195 214.756364 \nL 371.71636 214.756364 \nL 372.909943 210.034363 \nL 372.909943 210.034363 \n\" style=\"fill:none;stroke:#000000;stroke-linecap:square;stroke-width:2;\"/>\n   </g>\n   <g id=\"patch_3\">\n    <path d=\"M 53.328125 224.64 \nL 53.328125 7.2 \n\" style=\"fill:none;stroke:#000000;stroke-linecap:square;stroke-linejoin:miter;stroke-width:0.8;\"/>\n   </g>\n   <g id=\"patch_4\">\n    <path d=\"M 388.128125 224.64 \nL 388.128125 7.2 \n\" style=\"fill:none;stroke:#000000;stroke-linecap:square;stroke-linejoin:miter;stroke-width:0.8;\"/>\n   </g>\n   <g id=\"patch_5\">\n    <path d=\"M 53.328125 224.64 \nL 388.128125 224.64 \n\" style=\"fill:none;stroke:#000000;stroke-linecap:square;stroke-linejoin:miter;stroke-width:0.8;\"/>\n   </g>\n   <g id=\"patch_6\">\n    <path d=\"M 53.328125 7.2 \nL 388.128125 7.2 \n\" style=\"fill:none;stroke:#000000;stroke-linecap:square;stroke-linejoin:miter;stroke-width:0.8;\"/>\n   </g>\n  </g>\n </g>\n <defs>\n  <clipPath id=\"p8d18c0c180\">\n   <rect height=\"217.44\" width=\"334.8\" x=\"53.328125\" y=\"7.2\"/>\n  </clipPath>\n </defs>\n</svg>\n",
      "image/png": "[encoded data removed]"
     },
     "metadata": {
      "needs_background": "light"
     }
    }
   ],
   "source": [
    "import cv2 as cv\n",
    "import numpy as np\n",
    "import matplotlib.pyplot as plt\n",
    "path = '/Users/manmanzhang/Downloads/imag1.png'\n",
    "def calcGrayHist(I):\n",
    "    # 计算灰度直方图\n",
    "    h, w = I.shape[:2]\n",
    "    grayHist = np.zeros([256], np.uint64)\n",
    "    for i in range(h):\n",
    "        for j in range(w):\n",
    "            grayHist[I[i][j]] += 1\n",
    "    return grayHist\n",
    " \n",
    "img = cv.imread(path, 0)\n",
    "grayHist = calcGrayHist(img)\n",
    "x = np.arange(256)\n",
    "# 绘制灰度直方图\n",
    "plt.plot(x, grayHist, 'r', linewidth=2, c='black')\n",
    "plt.xlabel(\"gray Label\")\n",
    "plt.ylabel(\"number of pixels\")\n",
    "plt.show()\n",
    "cv.imshow(\"img\", img)\n",
    "cv.waitKey()\n"
   ]
  },
  {
   "cell_type": "code",
   "execution_count": 2,
   "metadata": {},
   "outputs": [
    {
     "output_type": "execute_result",
     "data": {
      "text/plain": "-1"
     },
     "metadata": {},
     "execution_count": 2
    }
   ],
   "source": [
    "import cv2 as cv\n",
    "import numpy as np\n",
    "import matplotlib.pyplot as plt\n",
    "path = '/Users/manmanzhang/Downloads/imag1.png'\n",
    "# 绘制直方图函数\n",
    "def grayHist(img):\n",
    "    h, w = img.shape[:2]\n",
    "    pixelSequence = img.reshape([h * w, ])\n",
    "    numberBins = 256\n",
    "    histogram, bins, patch = plt.hist(pixelSequence, numberBins,\n",
    "                                      facecolor='black', histtype='bar')\n",
    "    plt.xlabel(\"gray label\")\n",
    "    plt.ylabel(\"number of pixels\")\n",
    "    plt.axis([0, 255, 0, np.max(histogram)])\n",
    "    plt.show()\n",
    " \n",
    "img = cv.imread(path, 0)\n",
    "out = 2.0 * img\n",
    "# 进行数据截断，大于255的值截断为255\n",
    "out[out > 255] = 255\n",
    "# 数据类型转换\n",
    "out = np.around(out)\n",
    "out = out.astype(np.uint8)\n",
    "# 分别绘制处理前后的直方图\n",
    "# grayHist(img)\n",
    "# grayHist(out)\n",
    "cv.imshow(\"img\", img)\n",
    "cv.imshow(\"out\", out)\n",
    "cv.waitKey(10)\n",
    "\n"
   ]
  },
  {
   "cell_type": "code",
   "execution_count": 2,
   "metadata": {},
   "outputs": [],
   "source": [
    "import cv2 as cv\n",
    "import numpy as np\n",
    "import matplotlib.pyplot as plt\n",
    "path = \"/Users/manmanzhang/Downloads/imag1.png\"\n",
    "img = cv.imread(path, 0)\n",
    "fi = img / 255.0\n",
    "gamma = 0.4\n",
    "out = np.power(fi, gamma)\n",
    "cv.imshow(\"img\", img)\n",
    "cv.imshow(\"out\", out)"
   ]
  },
  {
   "cell_type": "code",
   "execution_count": 14,
   "metadata": {},
   "outputs": [],
   "source": [
    "import cv2 as cv\n",
    "import numpy as np\n",
    "import matplotlib.pyplot as plt\n",
    "\n",
    "def sigmoid(z):\n",
    "    return 1/(1+np.exp(-z))\n",
    "def gamma_show(gamma):\n",
    "    path = \"/Users/manmanzhang/Downloads/imag1.png\"\n",
    "    img = cv.imread(path, 0)\n",
    "    fi = img / 255.0\n",
    "    out = np.power(fi, gamma)\n",
    "    cv.imshow(\"img1\", img)\n",
    "    cv.imshow(\"out\", out)\n",
    "    return out\n",
    "img = gamma_show(0.9)\n",
    "a = 100\n",
    "O = float(a) * img\n",
    "O[O>255] = 255 #大于255要截断为255\n",
    "    \n",
    "#数据类型的转换\n",
    "O = np.round(O)\n",
    "O = O.astype(np.uint8)\n",
    "    \n",
    "#显示原图与变换后的图的效果\n",
    "cv.imshow(\"img\", sigmoid(img))\n",
    "cv.imshow(\"O\", O)"
   ]
  },
  {
   "cell_type": "code",
   "execution_count": 47,
   "metadata": {},
   "outputs": [],
   "source": [
    "import cv2 as cv\n",
    "import numpy as np\n",
    "import matplotlib.pyplot as plt\n",
    "from sklearn import svm\n",
    "\n",
    "def gamma_show(gamma):\n",
    "    path = \"/Users/manmanzhang/Downloads/imag1.png\"\n",
    "    img = cv.imread(path, 0)\n",
    "    fi = img / 255.0\n",
    "    out = np.power(fi, gamma)\n",
    "    cv.imshow(\"img1\", img)\n",
    "    cv.imshow(\"out\", np.log(out))\n",
    "    return out\n",
    "img = gamma_show(1.2)"
   ]
  },
  {
   "cell_type": "code",
   "execution_count": 48,
   "metadata": {},
   "outputs": [],
   "source": [
    "xonedim = np.ravel(img)\n",
    "x = np.c_[xonedim,xonedim]\n",
    "model_onecalsssvm = svm.OneClassSVM(nu=0.1, kernel=\"rbf\", random_state=0) \n",
    "model_onecalsssvm.fit(xdata) \n",
    "pre_test_outliers = model_onecalsssvm.predict(xdata) \n",
    "toal_test_data = np.hstack((x[:,:2], pre_test_outliers.reshape(x[:,:2].shape[0], 1)))\n",
    "outlier_test_data = toal_test_data[toal_test_data[:, -1] == -1]"
   ]
  },
  {
   "cell_type": "code",
   "execution_count": 49,
   "metadata": {},
   "outputs": [
    {
     "output_type": "execute_result",
     "data": {
      "text/plain": "(0.44345822119377, (4387,))"
     },
     "metadata": {},
     "execution_count": 49
    }
   ],
   "source": [
    "outlier_test_data[:,0].mean(),outlier_test_data[:,0].shape"
   ]
  },
  {
   "cell_type": "code",
   "execution_count": 53,
   "metadata": {},
   "outputs": [
    {
     "output_type": "display_data",
     "data": {
      "text/plain": "<Figure size 432x288 with 1 Axes>",
      "image/png": "[encoded data removed]"
     },
     "metadata": {
      "needs_background": "light"
     }
    }
   ],
   "source": [
    "m,n=img.shape\n",
    "for i in img:\n",
    "    m-=1\n",
    "    for j in i:\n",
    "        plt.plot(m,j)\n",
    "plt.show()"
   ]
  },
  {
   "cell_type": "code",
   "execution_count": 45,
   "metadata": {},
   "outputs": [
    {
     "output_type": "execute_result",
     "data": {
      "text/plain": "0.5668835272973454"
     },
     "metadata": {},
     "execution_count": 45
    }
   ],
   "source": [
    "from sklearn.cluster import KMeans\n",
    "# 定义模型\n",
    "model = KMeans(n_clusters=2)\n",
    "# 模型拟合\n",
    "model.fit(x)\n",
    "# 为每个示例分配一个集群\n",
    "yhat = model.predict(x)# 定义模型\n",
    "x[yhat==0].mean()"
   ]
  },
  {
   "cell_type": "code",
   "execution_count": 51,
   "metadata": {},
   "outputs": [
    {
     "output_type": "execute_result",
     "data": {
      "text/plain": "[<matplotlib.lines.Line2D at 0x12a4a4950>,\n <matplotlib.lines.Line2D at 0x12affc0d0>]"
     },
     "metadata": {},
     "execution_count": 51
    },
    {
     "output_type": "display_data",
     "data": {
      "text/plain": "<Figure size 432x288 with 1 Axes>",
      "image/png": "[encoded data removed]"
     },
     "metadata": {
      "needs_background": "light"
     }
    }
   ],
   "source": [
    "plt.plot(x[yhat==0])\n",
    "plt."
   ]
  },
  {
   "cell_type": "code",
   "execution_count": 1,
   "metadata": {},
   "outputs": [],
   "source": [
    "import cv2\n",
    "import numpy as np\n",
    "import matplotlib.pyplot as plt\n",
    "path = \"/Users/manmanzhang/Downloads/imag1.png\"\n",
    "img = cv2.imread(path, cv2.IMREAD_GRAYSCALE)#GRAYSCALE\n",
    "#线性变换\n",
    "a = 100\n",
    "O = float(a) * img\n",
    "O[O>255] = 255 #大于255要截断为255\n",
    "    \n",
    "#数据类型的转换\n",
    "O = np.round(O)\n",
    "O = O.astype(np.uint8)\n",
    "    \n",
    "#显示原图与变换后的图的效果\n",
    "cv2.imshow(\"img\", img)\n",
    "cv2.imshow(\"O\", O)\n",
    "cv2.waitKey(0)\n",
    "cv2.destroyAllWindows()"
   ]
  },
  {
   "cell_type": "code",
   "execution_count": 1,
   "metadata": {},
   "outputs": [
    {
     "output_type": "error",
     "ename": "NameError",
     "evalue": "name 'cv' is not defined",
     "traceback": [
      "\u001b[0;31m---------------------------------------------------------------------------\u001b[0m",
      "\u001b[0;31mNameError\u001b[0m                                 Traceback (most recent call last)",
      "\u001b[0;32m<ipython-input-1-ee88f6d0730d>\u001b[0m in \u001b[0;36m<module>\u001b[0;34m\u001b[0m\n\u001b[1;32m     27\u001b[0m     \u001b[0;32mreturn\u001b[0m \u001b[0mequalHistImage\u001b[0m\u001b[0;34m\u001b[0m\u001b[0;34m\u001b[0m\u001b[0m\n\u001b[1;32m     28\u001b[0m \u001b[0;34m\u001b[0m\u001b[0m\n\u001b[0;32m---> 29\u001b[0;31m \u001b[0mimg\u001b[0m \u001b[0;34m=\u001b[0m \u001b[0mcv\u001b[0m\u001b[0;34m.\u001b[0m\u001b[0mimread\u001b[0m\u001b[0;34m(\u001b[0m\u001b[0;34m\"../testImages/4/img1.jpg\"\u001b[0m\u001b[0;34m,\u001b[0m \u001b[0;36m0\u001b[0m\u001b[0;34m)\u001b[0m\u001b[0;34m\u001b[0m\u001b[0;34m\u001b[0m\u001b[0m\n\u001b[0m\u001b[1;32m     30\u001b[0m \u001b[0;31m# 使用自己写的函数实现\u001b[0m\u001b[0;34m\u001b[0m\u001b[0;34m\u001b[0m\u001b[0;34m\u001b[0m\u001b[0m\n\u001b[1;32m     31\u001b[0m \u001b[0mequa\u001b[0m \u001b[0;34m=\u001b[0m \u001b[0mequalHist\u001b[0m\u001b[0;34m(\u001b[0m\u001b[0mblur\u001b[0m\u001b[0;34m)\u001b[0m\u001b[0;34m\u001b[0m\u001b[0;34m\u001b[0m\u001b[0m\n",
      "\u001b[0;31mNameError\u001b[0m: name 'cv' is not defined"
     ]
    }
   ],
   "source": [
    "def equalHist(img):\n",
    "    # 灰度图像矩阵的高、宽\n",
    "    h, w = img.shape\n",
    "    # 第一步：计算灰度直方图\n",
    "    grayHist = calcGrayHist(img)\n",
    "    # 第二步：计算累加灰度直方图\n",
    "    zeroCumuMoment = np.zeros([256], np.uint32)\n",
    "    for p in range(256):\n",
    "        if p == 0:\n",
    "            zeroCumuMoment[p] = grayHist[0]\n",
    "        else:\n",
    "            zeroCumuMoment[p] = zeroCumuMoment[p - 1] + grayHist[p]\n",
    "    # 第三步：根据累加灰度直方图得到输入灰度级和输出灰度级之间的映射关系\n",
    "    outPut_q = np.zeros([256], np.uint8)\n",
    "    cofficient = 256.0 / (h * w)\n",
    "    for p in range(256):\n",
    "        q = cofficient * float(zeroCumuMoment[p]) - 1\n",
    "        if q >= 0:\n",
    "            outPut_q[p] = math.floor(q)\n",
    "        else:\n",
    "            outPut_q[p] = 0\n",
    "    # 第四步：得到直方图均衡化后的图像\n",
    "    equalHistImage = np.zeros(img.shape, np.uint8)\n",
    "    for i in range(h):\n",
    "        for j in range(w):\n",
    "            equalHistImage[i][j] = outPut_q[img[i][j]]\n",
    "    return equalHistImage\n",
    " \n",
    "img = cv.imread(\"/Users/manmanzhang/Downloads/imag1.png\", 0)\n",
    "# 使用自己写的函数实现\n",
    "equa = equalHist(blur)\n",
    "# grayHist(img, equa)\n",
    "# 使用OpenCV提供的直方图均衡化函数实现\n",
    "# equa = cv.equalizeHist(img)\n",
    "cv.imshow(\"img\", img)\n",
    "cv.imshow(\"equa\", equa)\n",
    "cv.waitKey()\n",
    "\n"
   ]
  },
  {
   "cell_type": "code",
   "execution_count": 1,
   "metadata": {},
   "outputs": [
    {
     "output_type": "stream",
     "name": "stdout",
     "text": "<PIL.PngImagePlugin.PngImageFile image mode=RGBA size=280x158 at 0x117BA6910>\n"
    }
   ],
   "source": [
    "from PIL import Image\n",
    "import numpy as np\n",
    "imag1 = Image.open('/Users/manmanzhang/Downloads/imag1.png')\n",
    "print(imag1)\n",
    "imag2 = imag1.convert('L')\n",
    "gamma = 0.4\n",
    "# 自定义灰度界限，大于这个值为黑色，小于这个值为白色\n",
    "imag2 = np.power((np.array(imag2)/255),gamma)\n",
    "imag2 = np.asanyarray(imag2,dtype=np.uint16)\n",
    "imag2 = Image.fromarray(imag2)\n",
    "imag2.show()"
   ]
  },
  {
   "cell_type": "code",
   "execution_count": 16,
   "metadata": {},
   "outputs": [
    {
     "output_type": "execute_result",
     "data": {
      "text/plain": "<PIL.Image.Image image mode=1 size=280x158 at 0x111926750>",
      "image/png": "[encoded data removed]"
     },
     "metadata": {},
     "execution_count": 16
    }
   ],
   "source": [
    "from PIL import Image\n",
    "imag1 =Image.open('/Users/manmanzhang/Downloads/imag1.png')\n",
    "imag2 = imag1.convert('L')\n",
    "# print(imag2.show())\n",
    "# 自定义灰度界限，大于这个值为黑色，小于这个值为白色\n",
    "threshold = 100\n",
    "table = []\n",
    "for i in range(256):\n",
    "    if i < threshold:\n",
    "        table.append(0)\n",
    "    else:\n",
    "        table.append(1)\n",
    "    # 图片二值化，此处第二个参数为数字一\n",
    "imag3 = imag2.point(table, '1')\n",
    "imag3"
   ]
  },
  {
   "cell_type": "code",
   "execution_count": null,
   "metadata": {},
   "outputs": [],
   "source": [
    "imag1 = imag3\n",
    "print(imag1.show())\n",
    "# pixel1 = imag1.load()[30,30]\n",
    "# print(pixel1)\n",
    "# 计算两个灰度图像之间的结构相似度指数\n",
    "print(imag2.show())\n",
    "\n",
    "def is_smilar(imag1,imag2,x,y):\n",
    "    pixel1 = imag1.load()[x,y]\n",
    "    # print(pixel1)\n",
    "    pixel2 = imag2.load()[x,y]\n",
    "    # print(imag2.load())\n",
    "    threhold = 60\n",
    "    if abs(pixel1 - pixel2)< threhold :\n",
    "        return True\n",
    "    else:\n",
    "        return False\n",
    "    #找到缺口位置\n",
    "\n",
    "def get_diff_location():\n",
    "    left = 0\n",
    "    for x in range(left,imag1.size[0]):\n",
    "        for y in range(imag1.size[1]):\n",
    "            if not is_smilar(imag1,imag2,x,y):\n",
    "                print(x,y)\n",
    "get_diff_location()"
   ]
  },
  {
   "cell_type": "code",
   "execution_count": 16,
   "metadata": {
    "tags": [
     "outputPrepend",
     "outputPrepend",
     "outputPrepend",
     "outputPrepend",
     "outputPrepend",
     "outputPrepend",
     "outputPrepend",
     "outputPrepend",
     "outputPrepend",
     "outputPrepend",
     "outputPrepend",
     "outputPrepend",
     "outputPrepend",
     "outputPrepend",
     "outputPrepend",
     "outputPrepend",
     "outputPrepend",
     "outputPrepend",
     "outputPrepend",
     "outputPrepend",
     "outputPrepend",
     "outputPrepend",
     "outputPrepend",
     "outputPrepend",
     "outputPrepend",
     "outputPrepend",
     "outputPrepend",
     "outputPrepend",
     "outputPrepend",
     "outputPrepend",
     "outputPrepend",
     "outputPrepend",
     "outputPrepend",
     "outputPrepend",
     "outputPrepend",
     "outputPrepend",
     "outputPrepend",
     "outputPrepend",
     "outputPrepend",
     "outputPrepend",
     "outputPrepend",
     "outputPrepend",
     "outputPrepend",
     "outputPrepend",
     "outputPrepend",
     "outputPrepend",
     "outputPrepend",
     "outputPrepend",
     "outputPrepend",
     "outputPrepend",
     "outputPrepend",
     "outputPrepend",
     "outputPrepend",
     "outputPrepend",
     "outputPrepend",
     "outputPrepend",
     "outputPrepend",
     "outputPrepend",
     "outputPrepend",
     "outputPrepend",
     "outputPrepend",
     "outputPrepend",
     "outputPrepend",
     "outputPrepend",
     "outputPrepend",
     "outputPrepend",
     "outputPrepend",
     "outputPrepend",
     "outputPrepend",
     "outputPrepend",
     "outputPrepend",
     "outputPrepend",
     "outputPrepend",
     "outputPrepend",
     "outputPrepend",
     "outputPrepend",
     "outputPrepend",
     "outputPrepend",
     "outputPrepend",
     "outputPrepend",
     "outputPrepend",
     "outputPrepend",
     "outputPrepend",
     "outputPrepend",
     "outputPrepend",
     "outputPrepend",
     "outputPrepend",
     "outputPrepend",
     "outputPrepend",
     "outputPrepend"
    ]
   },
   "outputs": [
    {
     "output_type": "stream",
     "name": "stdout",
     "text": "262 6\n262 7\n262 8\n262 9\n262 10\n262 11\n262 12\n262 13\n262 14\n262 15\n262 16\n262 17\n262 18\n262 19\n262 20\n262 21\n262 22\n262 23\n262 24\n262 25\n262 26\n262 27\n262 28\n262 29\n262 30\n262 31\n262 32\n262 33\n262 34\n262 35\n262 36\n262 37\n262 38\n262 39\n262 40\n262 41\n262 42\n262 43\n262 44\n262 45\n262 46\n262 47\n26248\n262 49\n262 50\n262 51\n262 52\n262 53\n262 54\n262 55\n262 56\n262 57\n262 58\n262 59\n262 60\n262 61\n262 62\n262 63\n262 64\n262 65\n262 66\n262 69\n262 70\n262 71\n262 72\n262 73\n262 74\n262 75\n262 76\n262 77\n262 78\n262 79\n262 80\n262 81\n262 82\n262 83\n262 84\n262 85\n262 86\n262 87\n262 88\n262 89\n262 90\n262 91\n262 92\n262 93\n262 94\n262 95\n262 96\n262 97\n262 98\n262 99\n262 100\n262 101\n262 102\n262 103\n262 104\n262 105\n262 106\n262 107\n262 108\n262 109\n262 110\n262 111\n262 112\n262 113\n262 114\n262 115\n262 116\n262 117\n262 118\n262 119\n262 120\n262 121\n262 122\n262 123\n262 124\n262 125\n262 126\n262 127\n262 128\n262 129\n262 130\n262 131\n262 132\n262 133\n262 134\n262 135\n262 136\n262 137\n262 138\n262 139\n262 140\n262 141\n262 142\n262 143\n262 144\n262 145\n262 146\n262 147\n262 148\n262 149\n262 150\n262 151\n262 152\n262 153\n262 154\n262 155\n262 156\n262 157\n263 0\n263 1\n263 2\n263 3\n263 4\n263 5\n263 6\n263 7\n263 8\n263 9\n263 10\n263 11\n263 12\n263 13\n263 14\n263 15\n263 16\n263 17\n263 18\n263 19\n263 20\n263 21\n263 22\n263 23\n263 24\n263 25\n263 26\n263 27\n263 28\n263 29\n263 30\n263 31\n263 32\n263 33\n263 34\n263 35\n263 36\n263 37\n263 38\n263 39\n263 40\n263 41\n263 42\n263 43\n263 44\n263 45\n263 46\n263 47\n263 48\n263 49\n263 50\n263 51\n263 52\n263 53\n263 54\n263 55\n263 56\n263 57\n263 58\n263 59\n263 60\n263 61\n263 62\n263 63\n263 64\n263 65\n263 66\n263 69\n263 71\n263 72\n263 73\n263 74\n263 75\n263 76\n263 77\n263 78\n263 79\n263 80\n263 81\n263 82\n263 83\n263 84\n263 85\n263 86\n263 87\n263 88\n263 89\n263 90\n263 91\n263 92\n263 93\n263 94\n263 95\n263 96\n263 97\n263 98\n263 99\n263 100\n263 101\n263 102\n263 103\n263 104\n263 105\n263 106\n263 107\n263 108\n263 109\n263 110\n263 111\n263 112\n263 113\n263 114\n263 115\n263 116\n263 117\n263 118\n263 119\n263 120\n263 121\n263 122\n263 123\n263 124\n263 125\n263 126\n263 127\n263 128\n263 129\n263 130\n263 131\n263 132\n263 133\n263 134\n263 135\n263 136\n263 137\n263 138\n263 139\n263 140\n263 141\n263 142\n263 143\n263 144\n263 145\n263 146\n263 147\n263 148\n263 149\n263 150\n263 151\n263 152\n263 153\n263 154\n263 155\n263 156\n263 157\n264 0\n264 1\n264 2\n264 3\n264 4\n264 5\n264 6\n264 7\n264 8\n264 9\n264 10\n264 11\n264 12\n264 13\n264 14\n264 15\n264 16\n264 17\n264 18\n264 19\n264 20\n264 21\n264 22\n264 23\n264 24\n264 25\n264 26\n264 27\n264 28\n264 29\n264 30\n264 31\n264 32\n264 33\n264 34\n264 35\n264 36\n264 37\n264 38\n264 39\n264 40\n264 41\n264 42\n264 43\n264 44\n264 45\n264 46\n264 47\n264 48\n264 49\n264 50\n264 51\n264 52\n264 53\n264 54\n264 55\n264 56\n264 57\n264 58\n264 59\n264 60\n264 61\n264 62\n264 63\n264 64\n264 72\n264 73\n264 74\n264 75\n264 76\n264 77\n264 78\n264 79\n264 80\n264 81\n264 82\n264 83\n264 84\n264 85\n264 86\n264 87\n264 88\n264 89\n264 90\n264 91\n264 92\n264 93\n264 94\n264 95\n264 96\n264 97\n264 98\n264 99\n264 100\n264 101\n264 102\n264 103\n264 104\n264 105\n264 106\n264 107\n264 108\n264 109\n264 110\n264 111\n264 112\n264 113\n264 114\n264 115\n264 116\n264 117\n264 118\n264 119\n264 120\n264 121\n264 122\n264 123\n264 124\n264 125\n264 126\n264 127\n264 128\n264 129\n264 130\n264 131\n264 132\n264 133\n264 134\n264 135\n264 136\n264 137\n264 138\n264 139\n264 140\n264 141\n264 142\n264 143\n264 144\n264 145\n264 146\n264 147\n264 148\n264 149\n264 150\n264 151\n264 152\n264 153\n264 154\n264 155\n264 156\n264 157\n265 0\n265 1\n265 2\n265 3\n265 4\n265 5\n265 6\n265 7\n265 8\n265 9\n265 10\n265 11\n265 12\n265 13\n265 14\n265 15\n265 16\n265 17\n265 18\n265 19\n265 20\n265 21\n265 22\n265 23\n265 24\n265 25\n265 26\n265 27\n265 28\n265 29\n265 30\n265 31\n265 32\n265 33\n265 34\n265 35\n265 36\n265 37\n265 38\n265 39\n265 40\n265 41\n265 42\n265 43\n265 44\n265 45\n265 46\n265 47\n265 48\n265 49\n265 50\n265 51\n265 52\n265 53\n265 54\n265 55\n265 56\n265 57\n265 59\n265 60\n265 63\n265 66\n265 71\n265 72\n265 73\n265 74\n265 75\n265 76\n265 77\n265 78\n265 79\n265 80\n265 81\n265 82\n265 83\n265 84\n265 85\n265 86\n265 87\n265 88\n265 89\n265 90\n265 91\n265 92\n265 93\n265 94\n265 95\n265 96\n265 97\n265 98\n265 99\n265 100\n265 101\n265 102\n265 103\n265 104\n265 105\n265 106\n265 107\n265 108\n265 109\n265 110\n265 111\n265 112\n265 113\n265 114\n265 115\n265 116\n265 117\n265 118\n265 119\n265 120\n265 121\n265 122\n265 123\n265 124\n265 125\n265 126\n265 127\n265 128\n265 129\n265 130\n265 131\n265 132\n265 133\n265 134\n265 135\n265 136\n265 137\n265 138\n265 139\n265 140\n265 141\n265 142\n265 143\n265 144\n265 145\n265 146\n265 147\n265 148\n265 149\n265 150\n265 151\n265 152\n265 153\n265 154\n265 155\n265 156\n265 157\n266 0\n266 1\n266 2\n266 3\n266 4\n266 5\n266 6\n266 7\n266 8\n266 9\n266 10\n266 11\n266 12\n266 13\n266 14\n266 16\n266 17\n266 18\n266 19\n266 20\n266 21\n266 23\n266 24\n266 25\n266 26\n266 27\n266 28\n266 29\n266 30\n266 31\n266 32\n266 33\n266 34\n266 35\n266 36\n266 37\n266 38\n266 39\n266 40\n266 41\n266 42\n266 43\n266 44\n266 45\n266 46\n266 47\n266 48\n266 49\n266 50\n266 51\n266 52\n266 53\n266 54\n266 55\n266 56\n266 57\n266 58\n266 59\n266 60\n266 61\n266 70\n266 71\n266 72\n266 73\n266 74\n266 75\n266 76\n266 77\n266 78\n266 79\n266 80\n266 81\n266 82\n266 83\n266 84\n266 85\n266 86\n266 87\n266 88\n266 89\n266 90\n266 91\n266 92\n266 93\n266 94\n266 95\n266 96\n266 97\n266 98\n266 99\n266 100\n266 101\n266 102\n266 103\n266 104\n266 105\n266 106\n266 107\n266 108\n266 109\n266 110\n266 111\n266 112\n266 113\n266 114\n266 115\n266 116\n266 117\n266 118\n266 119\n266 120\n266 121\n266 122\n266 123\n266 124\n266 125\n266 126\n266 127\n266 128\n266 129\n266 130\n266 131\n266 132\n266 133\n266 134\n266 135\n266 136\n266 137\n266 138\n266 139\n266 140\n266 141\n266 142\n266 143\n266 144\n266 145\n266 146\n266 147\n266 148\n266 149\n266 150\n266 151\n266 152\n266 153\n266 154\n266 155\n266 156\n266 157\n267 0\n267 1\n267 2\n267 3\n267 4\n267 5\n267 6\n267 7\n267 8\n267 9\n267 10\n267 11\n267 12\n267 13\n267 14\n267 15\n267 16\n267 17\n267 18\n267 19\n267 20\n267 21\n267 22\n267 23\n267 24\n267 25\n267 26\n267 27\n267 28\n267 29\n267 30\n267 31\n267 32\n267 33\n267 34\n267 35\n267 36\n267 37\n267 38\n267 39\n267 40\n267 41\n267 42\n267 43\n267 44\n267 45\n267 46\n267 51\n267 52\n267 53\n267 54\n267 55\n267 56\n267 57\n267 58\n267 59\n267 60\n267 61\n267 62\n267 69\n267 70\n267 71\n267 72\n267 73\n267 74\n267 75\n267 76\n267 77\n267 78\n267 79\n267 80\n267 81\n267 82\n267 83\n267 84\n267 85\n267 86\n267 87\n267 88\n267 89\n267 90\n267 91\n267 92\n267 93\n267 94\n267 95\n267 96\n267 97\n267 98\n267 99\n267 100\n267 101\n267 102\n267 103\n267 104\n267 105\n267 106\n267 107\n267 108\n267 109\n267 110\n267 111\n267 112\n267 113\n267 114\n267 115\n267 116\n267 117\n267 118\n267 119\n267 120\n267 121\n267 122\n267 123\n267 124\n267 125\n267 126\n267 127\n267 128\n267 129\n267 130\n267 131\n267 132\n267 133\n267 134\n267 135\n267 136\n267 137\n267 138\n267 139\n267 140\n267 141\n267 142\n267 143\n267 144\n267 145\n267 146\n267 147\n267 148\n267 149\n267 150\n267 151\n267 152\n267 153\n267 154\n267 155\n267 156\n267 157\n268 0\n268 1\n268 2\n268 3\n268 4\n268 5\n268 6\n268 7\n268 8\n268 9\n268 10\n268 11\n268 12\n268 13\n268 14\n268 15\n268 16\n268 17\n268 18\n268 19\n268 20\n268 21\n268 22\n26823\n268 24\n268 25\n268 26\n268 27\n268 28\n268 29\n268 30\n268 31\n268 32\n268 33\n268 34\n268 35\n268 36\n268 37\n268 38\n268 39\n268 40\n268 41\n268 42\n268 43\n268 44\n268 45\n268 46\n268 49\n268 50\n268 51\n268 52\n268 53\n268 54\n268 55\n268 56\n268 57\n268 58\n268 59\n268 60\n268 61\n268 62\n268 69\n268 70\n268 71\n268 72\n268 73\n268 74\n268 75\n268 76\n268 77\n268 78\n268 79\n268 80\n268 81\n268 82\n268 83\n268 84\n268 85\n268 86\n268 87\n268 88\n268 89\n268 90\n268 91\n268 92\n268 93\n268 94\n268 95\n268 96\n268 97\n268 98\n268 99\n268 100\n268 101\n268 102\n268 103\n268 104\n268 105\n268 106\n268 107\n268 108\n268 109\n268 110\n268 111\n268 112\n268 113\n268 114\n268 115\n268 116\n268 117\n268 118\n268 119\n268 120\n268 121\n268 122\n268 123\n268 124\n268 125\n268 126\n268 127\n268 128\n268 129\n268 130\n268 131\n268 132\n268 133\n268 134\n268 135\n268 136\n268 137\n268 138\n268 139\n268 140\n268 141\n268 142\n268 143\n268 144\n268 145\n268 146\n268 147\n268 148\n268 149\n268 150\n268 151\n268 152\n268 153\n268 154\n268 155\n268 156\n268 157\n269 0\n269 1\n269 2\n269 3\n269 4\n269 5\n269 6\n269 7\n269 8\n269 9\n269 10\n269 11\n269 12\n269 13\n269 14\n269 15\n269 16\n269 17\n269 18\n269 19\n269 20\n269 21\n269 22\n269 23\n269 24\n269 25\n269 26\n269 27\n269 28\n269 29\n269 30\n269 31\n269 32\n269 33\n269 34\n269 35\n269 36\n269 37\n269 38\n269 39\n269 40\n269 41\n269 42\n269 43\n269 44\n269 45\n269 46\n269 47\n269 48\n269 49\n269 50\n269 51\n269 52\n269 53\n269 54\n269 55\n269 56\n269 57\n269 58\n269 59\n269 60\n269 61\n269 62\n269 63\n269 64\n269 65\n269 68\n269 69\n269 70\n269 71\n269 72\n269 73\n269 74\n269 75\n269 76\n269 77\n269 78\n269 79\n269 80\n269 81\n269 82\n269 83\n269 84\n269 85\n269 86\n269 87\n269 88\n269 89\n269 90\n269 91\n269 92\n269 93\n269 94\n269 95\n269 96\n269 97\n269 98\n269 99\n269 100\n269 101\n269 102\n269 103\n269 104\n269 105\n269 106\n269 107\n269 108\n269 109\n269 110\n269 111\n269 112\n269 113\n269 114\n269 115\n269 116\n269 117\n269 118\n269 119\n269 120\n269 121\n269 122\n269 123\n269 124\n269 125\n269 126\n269 127\n269 128\n269 129\n269 130\n269 131\n269 132\n269 133\n269 134\n269 135\n269 136\n269 137\n269 138\n269 139\n269 140\n269 141\n269 142\n269 143\n269 144\n269 145\n269 146\n269 147\n269 148\n269 149\n269 150\n269 151\n269 152\n269 153\n269 154\n269 155\n269 156\n269 157\n270 0\n270 1\n270 2\n270 3\n270 4\n270 5\n270 6\n270 7\n270 8\n270 9\n270 10\n270 11\n270 12\n270 13\n270 14\n270 15\n270 16\n270 17\n270 18\n270 19\n270 20\n270 21\n270 22\n270 23\n270 24\n270 25\n270 26\n270 27\n270 28\n270 29\n270 30\n270 31\n270 32\n270 33\n270 34\n270 35\n270 36\n270 37\n270 38\n270 39\n270 40\n270 41\n270 42\n270 43\n270 44\n270 45\n270 46\n270 47\n270 48\n270 49\n270 50\n270 51\n270 52\n270 53\n270 54\n270 55\n270 56\n270 57\n270 58\n270 59\n270 61\n270 62\n270 63\n270 64\n270 68\n270 69\n270 70\n270 71\n270 72\n270 73\n270 74\n270 75\n270 76\n270 77\n270 78\n270 79\n270 80\n270 81\n270 82\n270 83\n270 84\n270 85\n270 86\n270 87\n270 88\n270 89\n270 90\n270 91\n270 92\n270 93\n270 94\n270 95\n270 96\n270 97\n270 98\n270 99\n270 100\n270 101\n270 102\n270 103\n270 104\n270 105\n270 106\n270 107\n270 108\n270 109\n270 110\n270 111\n270 112\n270 113\n270 114\n270 115\n270 116\n270 117\n270 118\n270 119\n270 120\n270 121\n270 122\n270 123\n270 124\n270 125\n270 126\n270 127\n270 128\n270 129\n270 130\n270 131\n270 132\n270 133\n270 134\n270 135\n270 136\n270 137\n270 138\n270 139\n270 140\n270 141\n270 142\n270 143\n270 144\n270 145\n270 146\n270 147\n270 148\n270 149\n270 150\n270 151\n270 152\n270 153\n270 154\n270 155\n270 156\n270 157\n271 0\n271 1\n271 2\n271 3\n271 4\n271 5\n271 6\n271 7\n271 8\n271 9\n271 10\n271 11\n271 12\n271 13\n271 14\n271 15\n271 16\n271 17\n271 18\n271 19\n271 20\n271 21\n271 22\n271 23\n271 24\n271 25\n271 26\n271 27\n271 29\n271 30\n271 31\n271 32\n271 33\n271 34\n271 35\n271 36\n271 37\n271 38\n271 39\n271 40\n271 41\n271 42\n271 43\n271 44\n271 45\n271 46\n271 47\n271 48\n271 49\n271 50\n271 51\n271 52\n271 53\n271 54\n271 55\n271 56\n271 57\n271 58\n271 59\n271 60\n271 61\n271 62\n271 63\n271 68\n271 70\n271 71\n271 72\n271 73\n271 74\n271 75\n271 76\n271 77\n271 78\n271 79\n271 80\n271 81\n271 82\n271 83\n271 84\n271 85\n271 86\n271 87\n271 88\n271 89\n271 90\n271 91\n271 92\n271 93\n271 94\n271 95\n271 96\n271 97\n271 98\n271 99\n271 100\n271 101\n271 102\n271 103\n271 104\n271 105\n271 106\n271 107\n271 108\n271 109\n271 110\n271 111\n271 112\n271 113\n271 114\n271 115\n271 116\n271 117\n271 118\n271 119\n271 120\n271 121\n271 122\n271 123\n271 124\n271 125\n271 126\n271 127\n271 128\n271 129\n271 130\n271 131\n271 132\n271 133\n271 134\n271 135\n271 136\n271 137\n271 138\n271 139\n271 140\n271 141\n271 142\n271 143\n271 144\n271 145\n271 146\n271 147\n271 148\n271 149\n271 150\n271 151\n271 152\n271 153\n271 154\n271 155\n271 156\n271 157\n272 0\n272 1\n272 2\n272 3\n272 4\n272 5\n272 6\n272 7\n272 8\n272 9\n272 10\n272 11\n272 12\n272 13\n272 14\n272 15\n272 16\n272 17\n272 18\n272 19\n272 20\n272 21\n272 22\n272 23\n272 24\n272 25\n272 26\n272 27\n272 28\n272 29\n272 30\n272 31\n272 32\n272 33\n272 34\n272 35\n272 36\n272 37\n272 38\n272 39\n272 40\n272 41\n272 42\n272 43\n272 44\n272 45\n272 46\n272 47\n272 48\n272 49\n272 50\n272 51\n272 52\n272 53\n272 54\n272 55\n272 56\n272 57\n272 58\n272 59\n272 60\n272 61\n272 62\n272 63\n272 64\n272 69\n272 70\n272 71\n272 72\n272 73\n272 74\n272 75\n272 76\n272 77\n272 78\n272 79\n272 80\n272 81\n272 82\n272 83\n272 84\n272 85\n272 86\n272 87\n272 88\n272 89\n272 90\n272 91\n272 92\n272 93\n272 94\n272 95\n272 96\n272 97\n272 98\n272 99\n272 100\n272 101\n272 102\n272 103\n272 104\n272 105\n272 106\n272 107\n272 108\n272 109\n272 110\n272 111\n272 112\n272 113\n272 114\n272 115\n272 116\n272 117\n272 118\n272 119\n272 120\n272 121\n272 122\n272 123\n272 124\n272 125\n272 126\n272 127\n272 128\n272 129\n272 130\n272 131\n272 132\n272 133\n272 134\n272 135\n272 136\n272 137\n272 138\n272 139\n272 140\n272 141\n272 142\n272 143\n272 144\n272 145\n272 146\n272 147\n272 148\n272 149\n272 150\n272 151\n272 152\n272 153\n272 154\n272 155\n272 156\n272 157\n273 0\n273 2\n273 3\n273 4\n273 5\n273 6\n273 7\n273 8\n273 9\n273 10\n273 11\n273 12\n273 13\n273 14\n273 15\n273 16\n273 17\n273 18\n273 19\n273 20\n273 21\n273 22\n273 23\n273 24\n273 25\n273 26\n273 27\n273 28\n273 29\n273 30\n273 31\n273 32\n273 33\n273 34\n273 35\n273 36\n273 37\n273 38\n273 39\n273 40\n273 41\n273 42\n273 43\n273 44\n273 45\n273 46\n273 47\n273 48\n273 49\n273 50\n273 51\n273 52\n273 53\n273 54\n273 55\n273 56\n273 57\n273 58\n273 59\n273 60\n273 61\n273 62\n273 63\n273 64\n273 65\n273 67\n273 68\n273 69\n273 70\n273 71\n273 72\n273 73\n273 74\n273 75\n273 76\n273 77\n273 78\n273 79\n273 80\n273 81\n273 82\n273 83\n273 84\n273 85\n273 86\n273 87\n273 88\n273 89\n273 90\n273 91\n273 92\n273 93\n273 94\n273 95\n273 96\n273 97\n273 98\n273 99\n273 100\n273 101\n273 102\n273 103\n273 104\n273 105\n273 106\n273 107\n273 108\n273 109\n273 110\n273 111\n273 112\n273 113\n273 114\n273 115\n273 116\n273 117\n273 118\n273 119\n273 120\n273 121\n273 122\n273 123\n273 124\n273 125\n273 126\n273 127\n273 128\n273 129\n273 130\n273 131\n273 132\n273 133\n273 134\n273 135\n273 136\n273 137\n273 138\n273 139\n273 140\n273 141\n273 142\n273 143\n273 144\n273 145\n273 146\n273 147\n273 148\n273 149\n273 150\n273 151\n273 152\n273 153\n273 154\n273 155\n273 156\n273 157\n274 0\n274 1\n274 2\n274 3\n274 4\n274 5\n274 6\n274 7\n274 8\n274 9\n274 10\n274 11\n274 12\n27413\n274 14\n274 15\n274 16\n274 17\n274 18\n274 19\n274 20\n274 21\n274 22\n274 23\n274 24\n274 25\n274 26\n274 27\n274 28\n274 29\n274 30\n274 32\n274 33\n274 34\n274 35\n274 36\n274 37\n274 38\n274 39\n274 40\n274 41\n274 42\n274 43\n274 44\n274 45\n274 46\n274 47\n274 48\n274 49\n274 50\n274 51\n274 52\n274 53\n274 54\n274 55\n274 56\n274 57\n274 58\n274 59\n274 60\n274 61\n274 62\n274 63\n274 64\n274 66\n274 67\n274 68\n274 69\n274 70\n274 71\n274 72\n274 73\n274 74\n274 75\n274 76\n274 77\n274 78\n274 79\n274 80\n274 81\n274 82\n274 83\n274 84\n274 85\n274 86\n274 87\n274 88\n274 89\n274 90\n274 91\n274 92\n274 93\n274 94\n274 95\n274 96\n274 97\n274 98\n274 99\n274 100\n274 101\n274 102\n274 103\n274 104\n274 105\n274 106\n274 107\n274 108\n274 109\n274 110\n274 111\n274 112\n274 113\n274 114\n274 115\n274 116\n274 117\n274 118\n274 119\n274 120\n274 121\n274 122\n274 123\n274 124\n274 125\n274 126\n274 127\n274 128\n274 129\n274 130\n274 131\n274 132\n274 133\n274 134\n274 135\n274 136\n274 137\n274 138\n274 139\n274 140\n274 141\n274 142\n274 143\n274 144\n274 145\n274 146\n274 147\n274 148\n274 149\n274 150\n274 151\n274 152\n274 153\n274 154\n274 155\n274 156\n274 157\n275 0\n275 1\n275 3\n275 4\n275 5\n275 6\n275 7\n275 8\n275 9\n275 10\n275 11\n275 12\n275 13\n275 14\n275 15\n275 16\n275 17\n275 18\n275 19\n275 20\n275 21\n275 22\n275 23\n275 29\n275 30\n275 31\n275 32\n275 33\n275 34\n275 35\n275 36\n275 37\n275 39\n275 40\n275 41\n275 42\n275 43\n275 44\n275 45\n275 46\n275 47\n275 48\n275 49\n275 50\n275 51\n275 52\n275 53\n275 54\n275 55\n275 56\n275 57\n275 58\n275 59\n275 60\n275 61\n275 62\n275 63\n275 64\n275 67\n275 68\n275 69\n275 70\n275 71\n275 72\n275 73\n275 74\n275 75\n275 76\n275 77\n275 78\n275 79\n275 80\n275 81\n275 82\n275 83\n275 84\n275 85\n275 86\n275 87\n275 88\n275 89\n275 90\n275 91\n275 92\n275 93\n275 94\n275 95\n275 96\n275 97\n275 98\n275 99\n275 100\n275 101\n275 102\n275 103\n275 104\n275 105\n275 106\n275 107\n275 108\n275 109\n275 110\n275 111\n275 112\n275 113\n275 114\n275 115\n275 116\n275 118\n275 119\n275 120\n275 121\n275 122\n275 123\n275 124\n275 125\n275 126\n275 127\n275 128\n275 129\n275 130\n275 131\n275 132\n275 133\n275 134\n275 135\n275 136\n275 137\n275 138\n275 139\n275 140\n275 141\n275 143\n275 144\n275 145\n275 146\n275 147\n275 148\n275 149\n275 150\n275 151\n275 152\n275 153\n275 154\n275 155\n275 156\n275 157\n276 1\n276 2\n276 3\n276 4\n276 5\n276 6\n276 7\n276 8\n276 9\n276 10\n276 11\n276 12\n276 13\n276 14\n276 15\n276 16\n276 17\n276 18\n276 19\n276 20\n276 21\n276 22\n276 23\n276 24\n276 25\n276 26\n276 27\n276 28\n276 29\n276 30\n276 31\n276 32\n276 33\n276 34\n276 35\n276 36\n276 37\n276 38\n276 39\n276 43\n276 44\n276 45\n276 46\n276 47\n276 48\n276 49\n276 50\n276 51\n276 52\n276 53\n276 54\n276 55\n276 56\n276 57\n276 58\n276 59\n276 60\n276 61\n276 62\n276 63\n276 64\n276 65\n276 66\n276 67\n276 69\n276 70\n276 71\n276 72\n276 73\n276 74\n276 75\n276 76\n276 77\n276 78\n276 79\n276 80\n276 81\n276 82\n276 83\n276 84\n276 85\n276 86\n276 87\n276 88\n276 89\n276 90\n276 91\n276 92\n276 93\n276 94\n276 95\n276 96\n276 97\n276 98\n276 99\n276 100\n276 101\n276 102\n276 103\n276 104\n276 105\n276 106\n276 107\n276 108\n276 109\n276 110\n276 111\n276 112\n276 113\n276 114\n276 115\n276 116\n276 117\n276 118\n276 119\n276 120\n276 121\n276 122\n276 123\n276 124\n276 125\n276 126\n276 127\n276 128\n276 129\n276 130\n276 131\n276 132\n276 133\n276 134\n276 135\n276 136\n276 137\n276 138\n276 139\n276 140\n276 141\n276 142\n276 143\n276 144\n276 145\n276 146\n276 147\n276 148\n276 149\n276 150\n276 151\n276 152\n276 153\n276 154\n276 155\n276 156\n276 157\n277 1\n277 2\n277 3\n277 4\n277 5\n277 6\n277 7\n277 8\n277 9\n277 10\n277 11\n277 12\n277 13\n277 14\n277 15\n277 16\n277 17\n277 18\n277 19\n277 20\n277 21\n277 22\n277 23\n277 24\n277 25\n277 26\n277 27\n277 28\n277 29\n277 30\n277 31\n277 32\n277 33\n277 34\n277 35\n277 36\n277 37\n277 38\n277 39\n277 41\n277 42\n277 43\n277 44\n277 45\n277 46\n277 47\n277 48\n277 49\n277 50\n277 51\n277 52\n277 53\n277 54\n277 55\n277 56\n277 57\n277 58\n277 59\n277 61\n277 62\n277 63\n277 64\n277 66\n277 67\n277 69\n277 70\n277 71\n277 72\n277 73\n277 74\n277 75\n277 76\n277 77\n277 78\n277 79\n277 80\n277 81\n277 82\n277 83\n277 84\n277 85\n277 86\n277 87\n277 88\n277 89\n277 90\n277 91\n277 92\n277 93\n277 94\n277 95\n277 96\n277 97\n277 98\n277 99\n277 100\n277 101\n277 102\n277 103\n277 104\n277 105\n277 106\n277 107\n277 108\n277 109\n277 110\n277 111\n277 112\n277 113\n277 114\n277 115\n277 116\n277 117\n277 118\n277 119\n277 120\n277 121\n277 122\n277 123\n277 124\n277 125\n277 126\n277 127\n277 128\n277 129\n277 130\n277 131\n277 132\n277 133\n277 134\n277 135\n277 136\n277 137\n277 138\n277 139\n277 140\n277 141\n277 142\n277 143\n277 144\n277 145\n277 146\n277 147\n277 148\n277 149\n277 150\n277 151\n277 152\n277 153\n277 154\n277 155\n277 156\n277 157\n278 1\n278 2\n278 3\n278 4\n278 5\n278 6\n278 7\n278 8\n278 9\n278 10\n278 11\n278 12\n278 13\n278 14\n278 15\n278 16\n278 17\n278 18\n278 19\n278 20\n278 21\n278 22\n278 23\n278 24\n278 25\n278 26\n278 27\n278 28\n278 29\n278 30\n278 31\n278 32\n278 33\n278 34\n278 35\n278 36\n278 37\n278 38\n278 39\n278 40\n278 41\n278 42\n278 43\n278 44\n278 45\n278 46\n278 47\n278 48\n278 49\n278 50\n278 51\n278 52\n278 53\n278 54\n278 55\n278 56\n278 57\n278 58\n278 59\n278 60\n278 61\n278 62\n278 63\n278 64\n278 69\n278 70\n278 71\n278 72\n278 73\n278 74\n278 75\n278 76\n278 77\n278 78\n278 79\n278 80\n278 81\n278 82\n278 83\n278 84\n278 85\n278 86\n278 87\n278 88\n278 89\n278 90\n278 91\n278 92\n278 93\n278 94\n278 95\n278 96\n278 97\n278 98\n278 99\n278 100\n278 101\n278 102\n278 103\n278 104\n278 106\n278 107\n278 108\n278 109\n278 110\n278 111\n278 112\n278 113\n278 114\n278 115\n278 116\n278 117\n278 118\n278 119\n278 120\n278 121\n278 122\n278 123\n278 124\n278 125\n278 126\n278 127\n278 128\n278 129\n278 130\n278 131\n278 132\n278 133\n278 134\n278 135\n278 136\n278 137\n278 138\n278 139\n278 140\n278 141\n278 142\n278 143\n278 144\n278 145\n278 146\n278 147\n278 148\n278 149\n278 150\n278 151\n278 152\n278 153\n278 154\n278 155\n278 156\n278 157\n279 1\n279 2\n279 3\n279 4\n279 5\n279 6\n279 7\n279 8\n279 9\n279 10\n279 11\n279 12\n279 13\n279 14\n279 15\n279 16\n279 17\n279 18\n279 19\n279 20\n279 21\n279 22\n279 23\n279 24\n279 25\n279 26\n279 27\n279 28\n279 29\n279 30\n279 31\n279 32\n279 33\n279 36\n279 39\n279 40\n279 41\n279 42\n279 43\n279 44\n279 45\n279 46\n279 47\n279 48\n279 49\n279 50\n279 51\n279 52\n279 53\n279 54\n279 55\n279 56\n279 57\n279 58\n279 61\n279 62\n279 63\n279 64\n279 65\n279 66\n279 69\n279 70\n279 71\n279 72\n279 73\n279 74\n279 75\n279 76\n279 77\n279 78\n279 79\n279 80\n279 81\n279 82\n279 83\n279 84\n279 85\n279 86\n279 87\n279 88\n279 89\n279 90\n279 91\n279 92\n279 93\n279 94\n279 95\n279 96\n279 97\n27998\n279 99\n279 100\n279 101\n279 102\n279 103\n279 104\n279 105\n279 106\n279 107\n279 108\n279 109\n279 110\n279 111\n279 112\n279 113\n279 114\n279 115\n279 116\n279 117\n279 118\n279 119\n279 120\n279 121\n279 122\n279 123\n279 124\n279 125\n279 126\n279 127\n279 128\n279 129\n279 130\n279 131\n279 132\n279 133\n279 134\n279 135\n279 136\n279 137\n279 138\n279 139\n279 140\n279 141\n279 142\n279 143\n279 144\n279 145\n279 146\n279 147\n279 148\n279 149\n279 150\n279 151\n279 152\n279 153\n279 154\n279 155\n279 156\n279 157\n"
    }
   ],
   "source": [
    "def is_smilar(imag1,imag2,x,y):\n",
    "    pixel1 = imag1.load()[x,y]\n",
    "    # print(pixel1)\n",
    "    pixel2 = imag2.load()[x,y]\n",
    "    # print(imag2.load())\n",
    "    threhold = 60\n",
    "    if abs(pixel1 - pixel2)< threhold :\n",
    "        return True\n",
    "    else:\n",
    "        return False\n",
    "    #找到缺口位置\n",
    "\n",
    "def get_diff_location():\n",
    "    left = 0\n",
    "    for x in range(left,imag1.size[0]):\n",
    "        for y in range(imag1.size[1]):\n",
    "            if not is_smilar(imag1,imag2,x,y):\n",
    "                print(x,y)\n",
    "get_diff_location()\n"
   ]
  }
 ],
 "metadata": {
  "kernelspec": {
   "display_name": "PyCharm (InferenceSystem)",
   "language": "python",
   "name": "pycharm-66c53067"
  },
  "language_info": {
   "codemirror_mode": {
    "name": "ipython",
    "version": 3
   },
   "file_extension": ".py",
   "mimetype": "text/x-python",
   "name": "python",
   "nbconvert_exporter": "python",
   "pygments_lexer": "ipython3",
   "version": "3.7.6-final"
  }
 },
 "nbformat": 4,
 "nbformat_minor": 4
}