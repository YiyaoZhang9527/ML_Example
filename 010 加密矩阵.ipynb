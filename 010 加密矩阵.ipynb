{
 "cells": [
  {
   "cell_type": "code",
   "execution_count": 112,
   "metadata": {},
   "outputs": [
    {
     "output_type": "execute_result",
     "data": {
      "text/plain": "[1, 2, 3]"
     },
     "metadata": {},
     "execution_count": 112
    }
   ],
   "source": [
    "import numpy as np\n",
    "import datetime\n",
    "import ast\n",
    "ast.literal_eval(\"[1,2,3]\")\n"
   ]
  },
  {
   "cell_type": "code",
   "execution_count": 113,
   "metadata": {},
   "outputs": [],
   "source": [
    "def my_encode_mat(strings):\n",
    "    date = datetime.datetime.today()\n",
    "    w = np.array(date.__repr__().replace(' ','').split(',')[1:-1]).astype(int).max()\n",
    "    randomkey = [np.random.randint(0,10)+w for i in range(4)]#eval('np.random.randint(0,10)+w,'*len(strings))\n",
    "    print('np.random.randint(0,10)+w,'*len(strings))\n",
    "    matmsm = np.array([[ord(s),i,(len(strings)%randomkey[0])] for s,i     in zip(strings,randomkey)])\n",
    "    m,n = matmsm.shape\n",
    "    theta = np.ones((n))\n",
    "    stringsarray = np.log(np.dot(matmsm,theta))\n",
    "    key = np.c_[stringsarray,randomkey]\n",
    "    cipher = ''.join([''.join(list(map(lambda x : hex(ord(x))[2:] , '{}{}{}{}'.format(i.__repr__(),'-',format(date).split(' ')[0],'-'))))for i in stringsarray])\n",
    "    keyList = []\n",
    "    for i in key:\n",
    "        keyList+=list(i)\n",
    "    return keyList,cipher"
   ]
  },
  {
   "cell_type": "code",
   "execution_count": 114,
   "metadata": {},
   "outputs": [],
   "source": [
    "def my_decode_mat(keylist,cipher):\n",
    "    matkey = np.array([[keyList[i],keyList[i+1]] for i in range(len(keyList)) if i % 2 != 1])\n",
    "    stringsarray ,randomkey = matkey[:,0],matkey[:,1]\n",
    "    src = \"\".join([chr(int('{}{}'.format('0x',cipher[i:i+2]),16)) for i in range(0,len(cipher),2)]).split('-')\n",
    "    y = np.array([src[i] for i in range(len(src)) if i % 4 == 0][:-1]).astype(float)\n",
    "    encodedate = ''.join([\"{}{}\".format('-',j) for j in [src[i] for i in range(len(src)) if i % 4 != 0][:3]])[1:]\n",
    "    n3 = [len(randomkey)%randomkey[0]]*len(randomkey)\n",
    "    n2 = randomkey\n",
    "    return ''.join([chr(int(round(i))) for i in np.exp(y)-n2-n3]),encodedate"
   ]
  },
  {
   "cell_type": "code",
   "execution_count": 115,
   "metadata": {
    "tags": []
   },
   "outputs": [
    {
     "output_type": "stream",
     "name": "stdout",
     "text": "np.random.randint(0,10)+w,np.random.randint(0,10)+w,np.random.randint(0,10)+w,np.random.randint(0,10)+w,np.random.randint(0,10)+w,np.random.randint(0,10)+w,np.random.randint(0,10)+w,np.random.randint(0,10)+w,np.random.randint(0,10)+w,np.random.randint(0,10)+w,np.random.randint(0,10)+w,np.random.randint(0,10)+w,\n"
    },
    {
     "output_type": "execute_result",
     "data": {
      "text/plain": "array([[10.24149433, 52.        ],\n       [10.48740563, 52.        ],\n       [ 9.90478671, 46.        ],\n       [ 9.90563524, 52.        ]])"
     },
     "metadata": {},
     "execution_count": 115
    }
   ],
   "source": [
    "key,cipher = my_encode_mat('测试一下数据可以不可以用')\n",
    "keyList = key\n",
    "matkey = np.array([[keyList[i],keyList[i+1]] for i in range(len(keyList)) if i % 2 != 1])\n",
    "matkey"
   ]
  },
  {
   "cell_type": "code",
   "execution_count": 116,
   "metadata": {},
   "outputs": [],
   "source": [
    "decode ,encodedate = my_decode_mat(key,cipher)"
   ]
  },
  {
   "cell_type": "code",
   "execution_count": 117,
   "metadata": {},
   "outputs": [
    {
     "output_type": "execute_result",
     "data": {
      "text/plain": "'浓话丈专'"
     },
     "metadata": {},
     "execution_count": 117
    }
   ],
   "source": [
    "decode"
   ]
  },
  {
   "cell_type": "code",
   "execution_count": 118,
   "metadata": {},
   "outputs": [
    {
     "output_type": "execute_result",
     "data": {
      "text/plain": "'2020-08-24'"
     },
     "metadata": {},
     "execution_count": 118
    }
   ],
   "source": [
    "encodedate"
   ]
  },
  {
   "cell_type": "code",
   "execution_count": 119,
   "metadata": {},
   "outputs": [
    {
     "output_type": "execute_result",
     "data": {
      "text/plain": "{'2': 37,\n '8': 9,\n '6': 7,\n '5': 7,\n 'd': 16,\n 'e': 4,\n '1': 4,\n '3': 103,\n '0': 18,\n '7': 6,\n '9': 10,\n '4': 15}"
     },
     "metadata": {},
     "execution_count": 119
    }
   ],
   "source": [
    "frequency = {i:cipher.count(i) for i in set(cipher)}\n",
    "frequency"
   ]
  },
  {
   "cell_type": "markdown",
   "metadata": {},
   "source": [
    "import pandas as pd\n",
    "\n",
    "result = dict()\n",
    "    keyList= ikey+'name' \n",
    "    keyList= []\n",
    "    n = -1\n",
    "    NList = []\n",
    "    for j in cipher:\n",
    "        n += 1\n",
    "        if j == ikey:       \n",
    "            keyList.append(j)\n",
    "            NList.append(n)\n",
    "        else:\n",
    "            continue\n",
    "        result[ikey]=NList\n",
    "        #[len(keyList)]\n",
    "\n",
    "    \n",
    "pd.DataFrame(result) "
   ]
  },
  {
   "cell_type": "code",
   "execution_count": 120,
   "metadata": {},
   "outputs": [
    {
     "output_type": "execute_result",
     "data": {
      "text/plain": "'2020-08-24'"
     },
     "metadata": {},
     "execution_count": 120
    }
   ],
   "source": [
    "encodedate"
   ]
  },
  {
   "cell_type": "code",
   "execution_count": null,
   "metadata": {},
   "outputs": [],
   "source": []
  }
 ],
 "metadata": {
  "language_info": {
   "codemirror_mode": {
    "name": "ipython",
    "version": 3
   },
   "file_extension": ".py",
   "mimetype": "text/x-python",
   "name": "python",
   "nbconvert_exporter": "python",
   "pygments_lexer": "ipython3",
   "version": "3.8.5-final"
  },
  "orig_nbformat": 2,
  "kernelspec": {
   "name": "python38564bithylangtorch38conda3e0562e6793640fcae46da99b7f6e472",
   "display_name": "Python 3.8.5 64-bit ('hylangtorch38': conda)"
  }
 },
 "nbformat": 4,
 "nbformat_minor": 2
}