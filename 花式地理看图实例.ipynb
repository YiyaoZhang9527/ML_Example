{
 "cells": [
  {
   "cell_type": "code",
   "execution_count": 2,
   "metadata": {},
   "outputs": [],
   "source": [
    "from pyecharts import options as opts\n",
    "from pyecharts.charts import WordCloud\n",
    "from pyecharts.globals import SymbolType\n",
    "import webbrowser as web\n",
    "import pandas as pd"
   ]
  },
  {
   "cell_type": "code",
   "execution_count": 3,
   "metadata": {},
   "outputs": [],
   "source": [
    "world = pd.read_csv(\"/Users/manmanzhang/Library/Mobile Documents/com~apple~CloudDocs/MyProject/InferenceSystem/src/I4_models/class_web_crawler/花式地理看图实例.csv\")"
   ]
  },
  {
   "cell_type": "markdown",
   "metadata": {},
   "source": [
    "## 词云图"
   ]
  },
  {
   "cell_type": "code",
   "execution_count": 4,
   "metadata": {},
   "outputs": [
    {
     "output_type": "execute_result",
     "data": {
      "text/plain": "True"
     },
     "metadata": {},
     "execution_count": 4
    }
   ],
   "source": [
    "# 数据\n",
    "words = [(name , number) for name , number in zip(list(world[1:].Location),list(world[1:].Confirmed))]\n",
    "\n",
    "# 渲染图\n",
    "def wordcloud_base() -> WordCloud:\n",
    "    c = (\n",
    "        WordCloud()\n",
    "        .add(\"\", words, word_size_range=[20, 100], shape='diamond')  # SymbolType.ROUND_RECT\n",
    "        .set_global_opts(title_opts=opts.TitleOpts(title='COVID-19 in the world'))\n",
    "    )\n",
    "    return c\n",
    "\n",
    "# 生成图\n",
    "results0= wordcloud_base().render('世界疫情词云图.html')\n",
    "web.open(\"file://\"+results0,new=0,autoraise=True)"
   ]
  },
  {
   "cell_type": "markdown",
   "metadata": {},
   "source": [
    "## 地理可视化"
   ]
  },
  {
   "cell_type": "code",
   "execution_count": 5,
   "metadata": {},
   "outputs": [
    {
     "output_type": "execute_result",
     "data": {
      "text/plain": "     Unnamed: 0                          Location  Confirmed  \\\n0             0                         Worldwide     857487   \n1             1                     United States     188713   \n2             2                             Italy     105792   \n3             3                             Spain      95923   \n4             4                             China      81518   \n..          ...                               ...        ...   \n202         202                           Burundi          2   \n203         203                  Papua New Guinea          1   \n204         204  Saint Vincent and the Grenadines          1   \n205         205                      Sierra Leone          1   \n206         206                       Timor-Leste          1   \n\n    Cases per 1M people  Recovered  Deaths  \n0                121.69     178034   42107  \n1                576.95       7082    3896  \n2               1674.85      15729   12428  \n3               1935.87      19259    8464  \n4                 59.36      76052    3305  \n..                  ...        ...     ...  \n202                0.22          0       0  \n203                0.14          0       0  \n204                9.97          1       0  \n205                0.17          0       0  \n206                0.68          0       0  \n\n[202 rows x 6 columns]",
      "text/html": "<div>\n<style scoped>\n    .dataframe tbody tr th:only-of-type {\n        vertical-align: middle;\n    }\n\n    .dataframe tbody tr th {\n        vertical-align: top;\n    }\n\n    .dataframe thead th {\n        text-align: right;\n    }\n</style>\n<table border=\"1\" class=\"dataframe\">\n  <thead>\n    <tr style=\"text-align: right;\">\n      <th></th>\n      <th>Unnamed: 0</th>\n      <th>Location</th>\n      <th>Confirmed</th>\n      <th>Cases per 1M people</th>\n      <th>Recovered</th>\n      <th>Deaths</th>\n    </tr>\n  </thead>\n  <tbody>\n    <tr>\n      <th>0</th>\n      <td>0</td>\n      <td>Worldwide</td>\n      <td>857487</td>\n      <td>121.69</td>\n      <td>178034</td>\n      <td>42107</td>\n    </tr>\n    <tr>\n      <th>1</th>\n      <td>1</td>\n      <td>United States</td>\n      <td>188713</td>\n      <td>576.95</td>\n      <td>7082</td>\n      <td>3896</td>\n    </tr>\n    <tr>\n      <th>2</th>\n      <td>2</td>\n      <td>Italy</td>\n      <td>105792</td>\n      <td>1674.85</td>\n      <td>15729</td>\n      <td>12428</td>\n    </tr>\n    <tr>\n      <th>3</th>\n      <td>3</td>\n      <td>Spain</td>\n      <td>95923</td>\n      <td>1935.87</td>\n      <td>19259</td>\n      <td>8464</td>\n    </tr>\n    <tr>\n      <th>4</th>\n      <td>4</td>\n      <td>China</td>\n      <td>81518</td>\n      <td>59.36</td>\n      <td>76052</td>\n      <td>3305</td>\n    </tr>\n    <tr>\n      <th>...</th>\n      <td>...</td>\n      <td>...</td>\n      <td>...</td>\n      <td>...</td>\n      <td>...</td>\n      <td>...</td>\n    </tr>\n    <tr>\n      <th>202</th>\n      <td>202</td>\n      <td>Burundi</td>\n      <td>2</td>\n      <td>0.22</td>\n      <td>0</td>\n      <td>0</td>\n    </tr>\n    <tr>\n      <th>203</th>\n      <td>203</td>\n      <td>Papua New Guinea</td>\n      <td>1</td>\n      <td>0.14</td>\n      <td>0</td>\n      <td>0</td>\n    </tr>\n    <tr>\n      <th>204</th>\n      <td>204</td>\n      <td>Saint Vincent and the Grenadines</td>\n      <td>1</td>\n      <td>9.97</td>\n      <td>1</td>\n      <td>0</td>\n    </tr>\n    <tr>\n      <th>205</th>\n      <td>205</td>\n      <td>Sierra Leone</td>\n      <td>1</td>\n      <td>0.17</td>\n      <td>0</td>\n      <td>0</td>\n    </tr>\n    <tr>\n      <th>206</th>\n      <td>206</td>\n      <td>Timor-Leste</td>\n      <td>1</td>\n      <td>0.68</td>\n      <td>0</td>\n      <td>0</td>\n    </tr>\n  </tbody>\n</table>\n<p>202 rows × 6 columns</p>\n</div>"
     },
     "metadata": {},
     "execution_count": 5
    }
   ],
   "source": [
    "world = world[world[\"Cases per 1M people\"]!='—']\n",
    "world"
   ]
  },
  {
   "cell_type": "code",
   "execution_count": 15,
   "metadata": {},
   "outputs": [
    {
     "output_type": "execute_result",
     "data": {
      "text/plain": "True"
     },
     "metadata": {},
     "execution_count": 15
    }
   ],
   "source": [
    "\n",
    "\n",
    "from pyecharts import options as opts\n",
    "from pyecharts.charts import Map\n",
    "from pyecharts.faker import Faker\n",
    "\n",
    "c1 = (\n",
    "    Map(init_opts=opts.InitOpts(width = '1920px', height='1080px')) #<-这里面初始化的时候调整大小，分辨率按照自己的来\n",
    "    .add(\"确认数,均值为标准\", [list(z) for z in zip(world.Location,world.Confirmed)], \"world\")\n",
    "    .set_series_opts(label_opts=opts.LabelOpts(is_show=False))\n",
    "    .set_global_opts(\n",
    "        title_opts=opts.TitleOpts(title=\"\"),\n",
    "        visualmap_opts=opts.VisualMapOpts(max_=int(world[1:].Confirmed.mean())),\n",
    "    )\n",
    "    .render(\"map_world.html\")\n",
    ")\n",
    "c1\n",
    "web.open(\"file://\"+c1,new=0,autoraise=True)"
   ]
  },
  {
   "cell_type": "markdown",
   "metadata": {},
   "source": [
    "## 3d地球"
   ]
  },
  {
   "cell_type": "code",
   "execution_count": 7,
   "metadata": {},
   "outputs": [
    {
     "output_type": "execute_result",
     "data": {
      "text/plain": "True"
     },
     "metadata": {},
     "execution_count": 7
    }
   ],
   "source": [
    "import pyecharts.options as opts\n",
    "from pyecharts.charts import MapGlobe\n",
    "from pyecharts.faker import POPULATION\n",
    "\n",
    "data = world[\"Cases per 1M people\"]\n",
    "low, high = 0,world[\"Cases per 1M people\"].astype(float).max()\n",
    "\n",
    "c3d1 = (\n",
    "    MapGlobe()\n",
    "    .add_schema()\n",
    "    .add(\n",
    "        maptype=\"world\",\n",
    "        series_name=\"World Population\",\n",
    "        data_pair=[[i,j] for i,j in zip(list(world.Location),list(world[\"Cases per 1M people\"].astype(float)))],\n",
    "        is_map_symbol_show=False,\n",
    "        label_opts=opts.LabelOpts(is_show=False),\n",
    "    )\n",
    "    .set_global_opts(\n",
    "        visualmap_opts=opts.VisualMapOpts(\n",
    "            min_=low,\n",
    "            max_=high,\n",
    "            range_text=[\"max\", \"min\"],\n",
    "            is_calculable=True,\n",
    "            range_color=[\"lightskyblue\", \"yellow\", \"orangered\",\"red\"],\n",
    "        )\n",
    "    )\n",
    "    .render(\"map_globe_base.html\")\n",
    ")\n",
    "\n",
    "web.open(\"file://\"+c3d1,new=0,autoraise=True)"
   ]
  },
  {
   "cell_type": "code",
   "execution_count": 8,
   "metadata": {},
   "outputs": [
    {
     "output_type": "execute_result",
     "data": {
      "text/plain": "<pyecharts.render.display.HTML at 0x110368f90>",
      "text/html": "\n<script>\n    require.config({\n        paths: {\n            'echarts':'https://assets.pyecharts.org/assets/echarts.min'\n        }\n    });\n</script>\n\n        <div id=\"b8be58f56334423785919a2127888b70\" style=\"width:900px; height:500px;\"></div>\n\n<script>\n        require(['echarts'], function(echarts) {\n                var chart_b8be58f56334423785919a2127888b70 = echarts.init(\n                    document.getElementById('b8be58f56334423785919a2127888b70'), 'white', {renderer: 'canvas'});\n                var option_b8be58f56334423785919a2127888b70 = {\n    \"animation\": true,\n    \"animationThreshold\": 2000,\n    \"animationDuration\": 1000,\n    \"animationEasing\": \"cubicOut\",\n    \"animationDelay\": 0,\n    \"animationDurationUpdate\": 300,\n    \"animationEasingUpdate\": \"cubicOut\",\n    \"animationDelayUpdate\": 0,\n    \"color\": [\n        \"#c23531\",\n        \"#2f4554\",\n        \"#61a0a8\",\n        \"#d48265\",\n        \"#749f83\",\n        \"#ca8622\",\n        \"#bda29a\",\n        \"#6e7074\",\n        \"#546570\",\n        \"#c4ccd3\",\n        \"#f05b72\",\n        \"#ef5b9c\",\n        \"#f47920\",\n        \"#905a3d\",\n        \"#fab27b\",\n        \"#2a5caa\",\n        \"#444693\",\n        \"#726930\",\n        \"#b2d235\",\n        \"#6d8346\",\n        \"#ac6767\",\n        \"#1d953f\",\n        \"#6950a1\",\n        \"#918597\"\n    ],\n    \"series\": [\n        {\n            \"type\": \"bar\",\n            \"name\": \"\\u5546\\u5bb6A\",\n            \"data\": [\n                5,\n                20,\n                36,\n                10,\n                75,\n                90\n            ],\n            \"barCategoryGap\": \"20%\",\n            \"label\": {\n                \"show\": true,\n                \"position\": \"top\",\n                \"margin\": 8\n            }\n        }\n    ],\n    \"legend\": [\n        {\n            \"data\": [\n                \"\\u5546\\u5bb6A\"\n            ],\n            \"selected\": {\n                \"\\u5546\\u5bb6A\": true\n            }\n        }\n    ],\n    \"tooltip\": {\n        \"show\": true,\n        \"trigger\": \"item\",\n        \"triggerOn\": \"mousemove|click\",\n        \"axisPointer\": {\n            \"type\": \"line\"\n        },\n        \"textStyle\": {\n            \"fontSize\": 14\n        },\n        \"borderWidth\": 0\n    },\n    \"xAxis\": [\n        {\n            \"show\": true,\n            \"scale\": false,\n            \"nameLocation\": \"end\",\n            \"nameGap\": 15,\n            \"gridIndex\": 0,\n            \"inverse\": false,\n            \"offset\": 0,\n            \"splitNumber\": 5,\n            \"minInterval\": 0,\n            \"splitLine\": {\n                \"show\": false,\n                \"lineStyle\": {\n                    \"show\": true,\n                    \"width\": 1,\n                    \"opacity\": 1,\n                    \"curveness\": 0,\n                    \"type\": \"solid\"\n                }\n            },\n            \"data\": [\n                \"\\u886c\\u886b\",\n                \"\\u7f8a\\u6bdb\\u886b\",\n                \"\\u96ea\\u7eba\\u886b\",\n                \"\\u88e4\\u5b50\",\n                \"\\u9ad8\\u8ddf\\u978b\",\n                \"\\u889c\\u5b50\"\n            ]\n        }\n    ],\n    \"yAxis\": [\n        {\n            \"show\": true,\n            \"scale\": false,\n            \"nameLocation\": \"end\",\n            \"nameGap\": 15,\n            \"gridIndex\": 0,\n            \"inverse\": false,\n            \"offset\": 0,\n            \"splitNumber\": 5,\n            \"minInterval\": 0,\n            \"splitLine\": {\n                \"show\": false,\n                \"lineStyle\": {\n                    \"show\": true,\n                    \"width\": 1,\n                    \"opacity\": 1,\n                    \"curveness\": 0,\n                    \"type\": \"solid\"\n                }\n            }\n        }\n    ]\n};\n                chart_b8be58f56334423785919a2127888b70.setOption(option_b8be58f56334423785919a2127888b70);\n        });\n    </script>\n"
     },
     "metadata": {},
     "execution_count": 8
    }
   ],
   "source": [
    "from pyecharts.charts import Bar\n",
    "from pyecharts.globals import CurrentConfig, NotebookType\n",
    "CurrentConfig.NOTEBOOK_TYPE = NotebookType.JUPYTER_NOTEBOOK\n",
    "\n",
    "bar = Bar()\n",
    "bar.add_xaxis([\"衬衫\", \"羊毛衫\", \"雪纺衫\", \"裤子\", \"高跟鞋\", \"袜子\"])\n",
    "bar.add_yaxis(\"商家A\", [5, 20, 36, 10, 75, 90])\n",
    "bar.render_notebook()"
   ]
  },
  {
   "cell_type": "code",
   "execution_count": 9,
   "metadata": {},
   "outputs": [
    {
     "output_type": "execute_result",
     "data": {
      "text/plain": "<pyecharts.render.display.HTML at 0x11e108290>",
      "text/html": "\n<script>\n    require.config({\n        paths: {\n            'echarts':'https://assets.pyecharts.org/assets/echarts.min'\n        }\n    });\n</script>\n\n        <div id=\"e5537fc581a349d19fe45735ef777115\" style=\"width:900px; height:500px;\"></div>\n\n<script>\n        require(['echarts'], function(echarts) {\n                var chart_e5537fc581a349d19fe45735ef777115 = echarts.init(\n                    document.getElementById('e5537fc581a349d19fe45735ef777115'), 'white', {renderer: 'canvas'});\n                var option_e5537fc581a349d19fe45735ef777115 = {\n    \"animation\": true,\n    \"animationThreshold\": 2000,\n    \"animationDuration\": 1000,\n    \"animationEasing\": \"cubicOut\",\n    \"animationDelay\": 0,\n    \"animationDurationUpdate\": 300,\n    \"animationEasingUpdate\": \"cubicOut\",\n    \"animationDelayUpdate\": 0,\n    \"color\": [\n        \"#c23531\",\n        \"#2f4554\",\n        \"#61a0a8\",\n        \"#d48265\",\n        \"#749f83\",\n        \"#ca8622\",\n        \"#bda29a\",\n        \"#6e7074\",\n        \"#546570\",\n        \"#c4ccd3\",\n        \"#f05b72\",\n        \"#ef5b9c\",\n        \"#f47920\",\n        \"#905a3d\",\n        \"#fab27b\",\n        \"#2a5caa\",\n        \"#444693\",\n        \"#726930\",\n        \"#b2d235\",\n        \"#6d8346\",\n        \"#ac6767\",\n        \"#1d953f\",\n        \"#6950a1\",\n        \"#918597\"\n    ],\n    \"series\": [\n        {\n            \"type\": \"effectScatter\",\n            \"showEffectOn\": \"render\",\n            \"rippleEffect\": {\n                \"show\": true,\n                \"brushType\": \"stroke\",\n                \"scale\": 2.5,\n                \"period\": 4\n            },\n            \"symbolSize\": 10,\n            \"data\": [\n                [\n                    \"\\u5c0f\\u7c73\",\n                    82\n                ],\n                [\n                    \"\\u4e09\\u661f\",\n                    65\n                ],\n                [\n                    \"\\u534e\\u4e3a\",\n                    45\n                ],\n                [\n                    \"\\u82f9\\u679c\",\n                    25\n                ],\n                [\n                    \"\\u9b45\\u65cf\",\n                    91\n                ],\n                [\n                    \"VIVO\",\n                    42\n                ],\n                [\n                    \"OPPO\",\n                    68\n                ]\n            ],\n            \"label\": {\n                \"show\": true,\n                \"position\": \"top\",\n                \"margin\": 8\n            }\n        }\n    ],\n    \"legend\": [\n        {\n            \"data\": [\n                \"\"\n            ],\n            \"selected\": {\n                \"\": true\n            },\n            \"show\": true,\n            \"padding\": 5,\n            \"itemGap\": 10,\n            \"itemWidth\": 25,\n            \"itemHeight\": 14\n        }\n    ],\n    \"tooltip\": {\n        \"show\": true,\n        \"trigger\": \"item\",\n        \"triggerOn\": \"mousemove|click\",\n        \"axisPointer\": {\n            \"type\": \"line\"\n        },\n        \"textStyle\": {\n            \"fontSize\": 14\n        },\n        \"borderWidth\": 0\n    },\n    \"xAxis\": [\n        {\n            \"show\": true,\n            \"scale\": false,\n            \"nameLocation\": \"end\",\n            \"nameGap\": 15,\n            \"gridIndex\": 0,\n            \"inverse\": false,\n            \"offset\": 0,\n            \"splitNumber\": 5,\n            \"minInterval\": 0,\n            \"splitLine\": {\n                \"show\": false,\n                \"lineStyle\": {\n                    \"show\": true,\n                    \"width\": 1,\n                    \"opacity\": 1,\n                    \"curveness\": 0,\n                    \"type\": \"solid\"\n                }\n            },\n            \"data\": [\n                \"\\u5c0f\\u7c73\",\n                \"\\u4e09\\u661f\",\n                \"\\u534e\\u4e3a\",\n                \"\\u82f9\\u679c\",\n                \"\\u9b45\\u65cf\",\n                \"VIVO\",\n                \"OPPO\"\n            ]\n        }\n    ],\n    \"yAxis\": [\n        {\n            \"show\": true,\n            \"scale\": false,\n            \"nameLocation\": \"end\",\n            \"nameGap\": 15,\n            \"gridIndex\": 0,\n            \"inverse\": false,\n            \"offset\": 0,\n            \"splitNumber\": 5,\n            \"minInterval\": 0,\n            \"splitLine\": {\n                \"show\": false,\n                \"lineStyle\": {\n                    \"show\": true,\n                    \"width\": 1,\n                    \"opacity\": 1,\n                    \"curveness\": 0,\n                    \"type\": \"solid\"\n                }\n            }\n        }\n    ],\n    \"title\": [\n        {\n            \"text\": \"EffectScatter-\\u57fa\\u672c\\u793a\\u4f8b\",\n            \"padding\": 5,\n            \"itemGap\": 10\n        }\n    ]\n};\n                chart_e5537fc581a349d19fe45735ef777115.setOption(option_e5537fc581a349d19fe45735ef777115);\n        });\n    </script>\n"
     },
     "metadata": {},
     "execution_count": 9
    }
   ],
   "source": [
    "from pyecharts.faker import Faker\n",
    "from pyecharts import options as opts\n",
    "from pyecharts.charts import EffectScatter\n",
    "from pyecharts.globals import SymbolType\n",
    "\n",
    "\n",
    "def effectscatter_base() -> EffectScatter:\n",
    "    c = (\n",
    "        EffectScatter()\n",
    "        .add_xaxis(Faker.choose())\n",
    "        .add_yaxis(\"\", Faker.values())\n",
    "        .set_global_opts(title_opts=opts.TitleOpts(title=\"EffectScatter-基本示例\"))\n",
    "    )\n",
    "    return c\n",
    "\n",
    "\n",
    "effectscatter_base().render_notebook()"
   ]
  },
  {
   "cell_type": "code",
   "execution_count": null,
   "metadata": {},
   "outputs": [],
   "source": []
  }
 ],
 "metadata": {
  "file_extension": ".py",
  "kernelspec": {
   "display_name": "PyCharm (InferenceSystem)",
   "language": "python",
   "name": "pycharm-66c53067"
  },
  "language_info": {
   "codemirror_mode": {
    "name": "ipython",
    "version": 3
   },
   "file_extension": ".py",
   "mimetype": "text/x-python",
   "name": "python",
   "nbconvert_exporter": "python",
   "pygments_lexer": "ipython3",
   "version": "3.6.2-final"
  },
  "mimetype": "text/x-python",
  "name": "python",
  "npconvert_exporter": "python",
  "pygments_lexer": "ipython3",
  "version": 3
 },
 "nbformat": 4,
 "nbformat_minor": 2
}