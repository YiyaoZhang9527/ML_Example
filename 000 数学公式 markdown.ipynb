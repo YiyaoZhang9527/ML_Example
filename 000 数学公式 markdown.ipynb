{
 "cells": [
  {
   "cell_type": "markdown",
   "metadata": {},
   "source": [
    "https://www.jianshu.com/p/e74eb43960a1"
   ]
  },
  {
   "cell_type": "code",
   "execution_count": 1,
   "metadata": {},
   "outputs": [],
   "source": [
    "def open_book_from_web(url,filename,req = False):\n",
    "    import pandas as pd\n",
    "    import requests\n",
    "    import os\n",
    "    import webbrowser\n",
    "    path = \"{0}{1}{2}\".format('/Users/manmanzhang/Library/Mobile Documents/com~apple~CloudDocs/MyProject/InferenceSystem/src/I5_algorithm/网页书籍/',filename,'.html')\n",
    "    if req == True :\n",
    "        headers = {\n",
    "        'Connection': 'keep-alive',\n",
    "        'User-Agent': 'Mozilla/5.0 (Macintosh; Intel Mac OS X 10_15_3) AppleWebKit/537.36 (KHTML, like Gecko) Chrome/81.0.4044.113 Safari/537.36 Edg/81.0.416.58',\n",
    "        'Content-Type': 'text/plain;charset=UTF-8',\n",
    "        'Accept': '*/*',\n",
    "        'Origin': 'https://www.amazon.cn',\n",
    "        'Sec-Fetch-Site': 'cross-site',\n",
    "        'Sec-Fetch-Mode': 'no-cors',\n",
    "        'Sec-Fetch-Dest': 'empty',\n",
    "        'Referer': 'https://www.amazon.cn/gp/product/B01M8L5Z3Y',\n",
    "        'Accept-Language': 'zh-Hans,zh-CN;q=0.9,zh;q=0.8,en;q=0.7,en-GB;q=0.6,en-US;q=0.5'}\n",
    "        html = requests.get(url,headers=headers).text\n",
    "        f = open(path,'w+')\n",
    "        f.write(html)\n",
    "        f.close()\n",
    "        return webbrowser.open(\"file://\"+path,new=0,autoraise=True)\n",
    "    else:\n",
    "        if webbrowser.open(\"file://\"+path,new=0,autoraise=True) == 0:\n",
    "            return open_book_from_web(url,filename,req = True)\n"
   ]
  },
  {
   "cell_type": "markdown",
   "metadata": {},
   "source": [
    "## 打开网页说明"
   ]
  },
  {
   "cell_type": "markdown",
   "metadata": {},
   "source": [
    "$$ \\sqcup $$"
   ]
  },
  {
   "cell_type": "code",
   "execution_count": 2,
   "metadata": {},
   "outputs": [
    {
     "ename": "FileNotFoundError",
     "evalue": "[Errno 2] No such file or directory: '/Users/manmanzhang/Library/Mobile Documents/com~apple~CloudDocs/MyProject/InferenceSystem/src/I5_algorithm/网页书籍/数学公式Markdown.html'",
     "output_type": "error",
     "traceback": [
      "\u001b[0;31m---------------------------------------------------------------------------\u001b[0m",
      "\u001b[0;31mFileNotFoundError\u001b[0m                         Traceback (most recent call last)",
      "\u001b[0;32m<ipython-input-2-962dd96cf9d9>\u001b[0m in \u001b[0;36m<module>\u001b[0;34m\u001b[0m\n\u001b[0;32m----> 1\u001b[0;31m \u001b[0mopen_book_from_web\u001b[0m\u001b[0;34m(\u001b[0m\u001b[0;34m'https://www.jianshu.com/p/e74eb43960a1'\u001b[0m\u001b[0;34m,\u001b[0m\u001b[0;34m\"数学公式Markdown\"\u001b[0m\u001b[0;34m)\u001b[0m\u001b[0;34m\u001b[0m\u001b[0;34m\u001b[0m\u001b[0m\n\u001b[0m",
      "\u001b[0;32m<ipython-input-1-8c809e2bfef6>\u001b[0m in \u001b[0;36mopen_book_from_web\u001b[0;34m(url, filename, req)\u001b[0m\n\u001b[1;32m     24\u001b[0m     \u001b[0;32melse\u001b[0m\u001b[0;34m:\u001b[0m\u001b[0;34m\u001b[0m\u001b[0;34m\u001b[0m\u001b[0m\n\u001b[1;32m     25\u001b[0m         \u001b[0;32mif\u001b[0m \u001b[0mwebbrowser\u001b[0m\u001b[0;34m.\u001b[0m\u001b[0mopen\u001b[0m\u001b[0;34m(\u001b[0m\u001b[0;34m\"file://\"\u001b[0m\u001b[0;34m+\u001b[0m\u001b[0mpath\u001b[0m\u001b[0;34m,\u001b[0m\u001b[0mnew\u001b[0m\u001b[0;34m=\u001b[0m\u001b[0;36m0\u001b[0m\u001b[0;34m,\u001b[0m\u001b[0mautoraise\u001b[0m\u001b[0;34m=\u001b[0m\u001b[0;32mTrue\u001b[0m\u001b[0;34m)\u001b[0m \u001b[0;34m==\u001b[0m \u001b[0;36m0\u001b[0m\u001b[0;34m:\u001b[0m\u001b[0;34m\u001b[0m\u001b[0;34m\u001b[0m\u001b[0m\n\u001b[0;32m---> 26\u001b[0;31m             \u001b[0;32mreturn\u001b[0m \u001b[0mopen_book_from_web\u001b[0m\u001b[0;34m(\u001b[0m\u001b[0murl\u001b[0m\u001b[0;34m,\u001b[0m\u001b[0mfilename\u001b[0m\u001b[0;34m,\u001b[0m\u001b[0mreq\u001b[0m \u001b[0;34m=\u001b[0m \u001b[0;32mTrue\u001b[0m\u001b[0;34m)\u001b[0m\u001b[0;34m\u001b[0m\u001b[0;34m\u001b[0m\u001b[0m\n\u001b[0m",
      "\u001b[0;32m<ipython-input-1-8c809e2bfef6>\u001b[0m in \u001b[0;36mopen_book_from_web\u001b[0;34m(url, filename, req)\u001b[0m\n\u001b[1;32m     18\u001b[0m         'Accept-Language': 'zh-Hans,zh-CN;q=0.9,zh;q=0.8,en;q=0.7,en-GB;q=0.6,en-US;q=0.5'}\n\u001b[1;32m     19\u001b[0m         \u001b[0mhtml\u001b[0m \u001b[0;34m=\u001b[0m \u001b[0mrequests\u001b[0m\u001b[0;34m.\u001b[0m\u001b[0mget\u001b[0m\u001b[0;34m(\u001b[0m\u001b[0murl\u001b[0m\u001b[0;34m,\u001b[0m\u001b[0mheaders\u001b[0m\u001b[0;34m=\u001b[0m\u001b[0mheaders\u001b[0m\u001b[0;34m)\u001b[0m\u001b[0;34m.\u001b[0m\u001b[0mtext\u001b[0m\u001b[0;34m\u001b[0m\u001b[0;34m\u001b[0m\u001b[0m\n\u001b[0;32m---> 20\u001b[0;31m         \u001b[0mf\u001b[0m \u001b[0;34m=\u001b[0m \u001b[0mopen\u001b[0m\u001b[0;34m(\u001b[0m\u001b[0mpath\u001b[0m\u001b[0;34m,\u001b[0m\u001b[0;34m'w+'\u001b[0m\u001b[0;34m)\u001b[0m\u001b[0;34m\u001b[0m\u001b[0;34m\u001b[0m\u001b[0m\n\u001b[0m\u001b[1;32m     21\u001b[0m         \u001b[0mf\u001b[0m\u001b[0;34m.\u001b[0m\u001b[0mwrite\u001b[0m\u001b[0;34m(\u001b[0m\u001b[0mhtml\u001b[0m\u001b[0;34m)\u001b[0m\u001b[0;34m\u001b[0m\u001b[0;34m\u001b[0m\u001b[0m\n\u001b[1;32m     22\u001b[0m         \u001b[0mf\u001b[0m\u001b[0;34m.\u001b[0m\u001b[0mclose\u001b[0m\u001b[0;34m(\u001b[0m\u001b[0;34m)\u001b[0m\u001b[0;34m\u001b[0m\u001b[0;34m\u001b[0m\u001b[0m\n",
      "\u001b[0;31mFileNotFoundError\u001b[0m: [Errno 2] No such file or directory: '/Users/manmanzhang/Library/Mobile Documents/com~apple~CloudDocs/MyProject/InferenceSystem/src/I5_algorithm/网页书籍/数学公式Markdown.html'"
     ]
    }
   ],
   "source": [
    "open_book_from_web('https://www.jianshu.com/p/e74eb43960a1',\"数学公式Markdown\")"
   ]
  },
  {
   "cell_type": "code",
   "execution_count": null,
   "metadata": {},
   "outputs": [],
   "source": [
    "from IPython.display import IFrame\n",
    "IFrame(src=\"https://www.jianshu.com/p/e74eb43960a1\",width=1920,height=1080)"
   ]
  },
  {
   "cell_type": "markdown",
   "metadata": {},
   "source": [
    "# 1-1 行内与独行"
   ]
  },
  {
   "cell_type": "markdown",
   "metadata": {},
   "source": [
    "### 1.行内公式：将公式插入到本行内，:$xyz$\n"
   ]
  },
  {
   "cell_type": "markdown",
   "metadata": {},
   "source": [
    "### 2.独行公式：将公式插入到新的一行内，并且居中: \n",
    "## $$xyz$$"
   ]
  },
  {
   "cell_type": "markdown",
   "metadata": {},
   "source": [
    "# 上标、下标与组合\n"
   ]
  },
  {
   "cell_type": "markdown",
   "metadata": {},
   "source": [
    "### 1.上标符号，符号：^ \n",
    "## $x^4$"
   ]
  },
  {
   "cell_type": "markdown",
   "metadata": {},
   "source": [
    "### 2.下标符号，符号：_\n",
    "## $x_1$"
   ]
  },
  {
   "cell_type": "markdown",
   "metadata": {},
   "source": [
    "### 3.组合符号，符号：{}\n",
    "## ${16}_{8}O{2+}_{2}$"
   ]
  },
  {
   "cell_type": "markdown",
   "metadata": {},
   "source": [
    "# 2-2汉字、字体与格式"
   ]
  },
  {
   "cell_type": "markdown",
   "metadata": {},
   "source": [
    "### 1.汉字形式，符号：\\mbox{}，如：\n",
    "## $V_{\\mbox{初始}}$"
   ]
  },
  {
   "cell_type": "markdown",
   "metadata": {},
   "source": [
    "### 2.字体控制，符号：\\displaystyle，如：\n",
    "## $\\displaystyle \\frac{x+y}{y+z}$"
   ]
  },
  {
   "cell_type": "markdown",
   "metadata": {},
   "source": [
    "### 3.下划线符号，符号：\\underline，如：\n",
    "## $\\underline{x+y}$"
   ]
  },
  {
   "cell_type": "markdown",
   "metadata": {},
   "source": [
    "### 4.标签，符号\\tag{数字}\n",
    "## $ \\tag{11} $"
   ]
  },
  {
   "cell_type": "markdown",
   "metadata": {},
   "source": [
    "### 5.上大括号，符号：\\overbrace{算式}\n",
    "## $\\overbrace{a+b+c+d}^{2.0}$"
   ]
  },
  {
   "cell_type": "markdown",
   "metadata": {},
   "source": [
    "### 6.下大括号，符号：\\underbrace{算式}，如：\n",
    "## $a+\\underbrace{b+c}_{1.0}+d$"
   ]
  },
  {
   "cell_type": "markdown",
   "metadata": {},
   "source": [
    "### 7.上位符号，符号：\\stacrel{上位符号}{基位符号}，如：\n",
    "## $\\vec{x}\\stackrel{\\mathrm{def}}{=}{x_1,\\dots,x_n}$\n"
   ]
  },
  {
   "cell_type": "markdown",
   "metadata": {},
   "source": [
    "# 3-3占位符\n",
    "\n",
    "### 1.两个quad空格，符号：\\qquad，如：\n",
    "## $x \\qquad y$"
   ]
  },
  {
   "cell_type": "markdown",
   "metadata": {},
   "source": [
    "\n",
    "### 2.quad空格，符号：\\quad，如：\n",
    "## $x \\quad y$\n"
   ]
  },
  {
   "cell_type": "markdown",
   "metadata": {},
   "source": [
    "### 3.大空格，符号\\，如：\n",
    "## $x \\ y$"
   ]
  },
  {
   "cell_type": "markdown",
   "metadata": {},
   "source": [
    "### 4.中空格，符号\\:，如：\n",
    "## $x : y$\n"
   ]
  },
  {
   "cell_type": "markdown",
   "metadata": {},
   "source": [
    "### 5.小空格，符号\\,，如：\n",
    "## $x , y$\n"
   ]
  },
  {
   "cell_type": "markdown",
   "metadata": {},
   "source": [
    "### 6.没有空格，符号``，如：\n",
    "## $xy$\n"
   ]
  },
  {
   "cell_type": "markdown",
   "metadata": {},
   "source": [
    "### 7.紧贴，符号\\!，如：\n",
    "## $x ! y$"
   ]
  },
  {
   "cell_type": "markdown",
   "metadata": {},
   "source": [
    "# 4-4定界符与组合\n",
    "\n",
    "### 1.括号，符号：（）\\big(\\big) \\Big(\\Big) \\bigg(\\bigg) \\Bigg(\\Bigg)，如：\n",
    "## $（）\\big(\\big) \\Big(\\Big) \\bigg(\\bigg) \\Bigg(\\Bigg)$\n"
   ]
  },
  {
   "cell_type": "markdown",
   "metadata": {},
   "source": [
    "### 2.中括号，符号：[]，如：\n",
    "## $[x+y]$\n"
   ]
  },
  {
   "cell_type": "markdown",
   "metadata": {},
   "source": [
    "### 3.大括号，符号：\\{ \\}，如：\n",
    "## ${x+y}$\n"
   ]
  },
  {
   "cell_type": "markdown",
   "metadata": {},
   "source": [
    "### 4.自适应括号，符号：\\left \\right，如：\n",
    "## $\\left(x\\right)$，$\\left(x{yz}\\right)$\n"
   ]
  },
  {
   "cell_type": "markdown",
   "metadata": {},
   "source": [
    "### 5.组合公式，符号：{上位公式 \\choose 下位公式}，如：\n",
    "## ${n+1 \\choose k}={n \\choose k}+{n \\choose k-1}$\n"
   ]
  },
  {
   "cell_type": "markdown",
   "metadata": {},
   "source": [
    "### 6.组合公式，符号：{上位公式 \\atop 下位公式}，如：\n",
    "## $\\sum_{k_0,k_1,\\ldots>0 \\atop k_0+k_1+\\cdots=n}A_{k_0}A_{k_1}\\cdots$"
   ]
  },
  {
   "cell_type": "markdown",
   "metadata": {},
   "source": [
    "# 5-5 四则运算"
   ]
  },
  {
   "cell_type": "markdown",
   "metadata": {},
   "source": [
    "### 加法运算，符号：+，如：\n",
    "## $x+y=z$\n"
   ]
  },
  {
   "cell_type": "markdown",
   "metadata": {},
   "source": [
    "### 减法运算，符号：-，如：\n",
    "## $x-y=z$\n"
   ]
  },
  {
   "cell_type": "markdown",
   "metadata": {},
   "source": [
    "### 加减运算，符号：\\pm，如：\n",
    "## $x \\pm y=z$\n"
   ]
  },
  {
   "cell_type": "markdown",
   "metadata": {},
   "source": [
    "### 减甲运算，符号：\\mp，如：\n",
    "## $x \\mp y=z$\n"
   ]
  },
  {
   "cell_type": "markdown",
   "metadata": {},
   "source": [
    "### 乘法运算，符号：\\times，如：\n",
    "## $x \\times y=z$\n"
   ]
  },
  {
   "cell_type": "markdown",
   "metadata": {},
   "source": [
    "### 点乘运算，符号：\\cdot，如：\n",
    "## $x \\cdot y=z$\n"
   ]
  },
  {
   "cell_type": "markdown",
   "metadata": {},
   "source": [
    "### 星乘运算，符号：\\ast，如：\n",
    "## $x \\ast y=z$\n"
   ]
  },
  {
   "cell_type": "markdown",
   "metadata": {},
   "source": [
    "### 除法运算，符号：\\div，如：\n",
    "## $x \\div y=z$\n"
   ]
  },
  {
   "cell_type": "markdown",
   "metadata": {},
   "source": [
    "### 斜法运算，符号：/，如：\n",
    "## $x/y=z$\n"
   ]
  },
  {
   "cell_type": "markdown",
   "metadata": {},
   "source": [
    "### 分式表示，符号：\\frac{分子}{分母}，如：\n",
    "## $\\frac{x+y}{y+z}$\n"
   ]
  },
  {
   "cell_type": "markdown",
   "metadata": {},
   "source": [
    "### 分式表示，符号：{分子} \\voer {分母}，如：\n",
    "## ${x+y} \\over {y+z}$\n"
   ]
  },
  {
   "cell_type": "markdown",
   "metadata": {},
   "source": [
    "### 绝对值表示，符号：||，如：\n",
    "## $|x+y|$"
   ]
  },
  {
   "cell_type": "markdown",
   "metadata": {},
   "source": [
    "# 高级运算"
   ]
  },
  {
   "cell_type": "markdown",
   "metadata": {},
   "source": [
    "### 平均数运算，符号：\\overline{算式}，如：\n",
    "## $\\overline{xyz}$\n"
   ]
  },
  {
   "cell_type": "markdown",
   "metadata": {},
   "source": [
    "### 开二次方运算，符号：\\sqrt，如：\n",
    "## $\\sqrt x$\n"
   ]
  },
  {
   "cell_type": "markdown",
   "metadata": {},
   "source": [
    "### 开方运算，符号：\\sqrt[开方数]{被开方数}，如：\n",
    "## $\\sqrt[3]{x+y}$\n"
   ]
  },
  {
   "cell_type": "markdown",
   "metadata": {},
   "source": [
    "### 对数运算，符号：\\log，如：\n",
    "## $\\log(x)$\n"
   ]
  },
  {
   "cell_type": "markdown",
   "metadata": {},
   "source": [
    "### 极限运算，符号：\\lim，如：\n",
    "## $\\lim^{x \\to \\infty}_{y \\to 0}{\\frac{x}{y}}$\n"
   ]
  },
  {
   "cell_type": "markdown",
   "metadata": {},
   "source": [
    "### 极限运算，符号：\\displaystyle \\lim，如：\n",
    "## $\\displaystyle \\lim^{x \\to \\infty}_{y \\to 0}{\\frac{x}{y}}$\n"
   ]
  },
  {
   "cell_type": "markdown",
   "metadata": {},
   "source": [
    "### 求和运算，符号：\\sum，如：\n",
    "## $\\sum^{x \\to \\infty}_{y \\to 0}{\\frac{x}{y}}$\n"
   ]
  },
  {
   "cell_type": "markdown",
   "metadata": {},
   "source": [
    "### 求和运算，符号：\\displaystyle \\sum，如：\n",
    "## $\\displaystyle \\sum^{x \\to \\infty}_{y \\to 0}{\\frac{x}{y}}$\n"
   ]
  },
  {
   "cell_type": "markdown",
   "metadata": {},
   "source": [
    "### 积分运算，符号：\\int，如：\n",
    "## $\\int^{\\infty}_{0}{xdx}$\n"
   ]
  },
  {
   "cell_type": "markdown",
   "metadata": {},
   "source": [
    "### 积分运算，符号：\\displaystyle \\int，如：\n",
    "## $\\displaystyle \\int^{\\infty}_{0}{xdx}$\n"
   ]
  },
  {
   "cell_type": "markdown",
   "metadata": {},
   "source": [
    "### 微分运算，符号：\\partial，如：\n",
    "## $\\frac{\\partial x}{\\partial y}$\n"
   ]
  },
  {
   "cell_type": "markdown",
   "metadata": {},
   "source": [
    "### 矩阵表示，符号：\\begin{matrix} \\end{matrix}如：\n",
    "## $\\left[ \\begin{matrix} 1 &2 &\\cdots &4\\5 &6 &\\cdots &8\\\\vdots &\\vdots &\\ddots &\\vdots\\13 &14 &\\cdots &16\\end{matrix} \\right]$"
   ]
  },
  {
   "cell_type": "markdown",
   "metadata": {},
   "source": [
    "# 逻辑运算\n",
    "\n",
    "### 等于运算，符号：=，如：\n",
    "## $x+y=z$\n"
   ]
  },
  {
   "cell_type": "markdown",
   "metadata": {},
   "source": [
    "### 大于运算，符号：>，如：\n",
    "## $x+y>z$\n"
   ]
  },
  {
   "cell_type": "markdown",
   "metadata": {},
   "source": [
    "### 小于运算，符号：<，如：\n",
    "## $x+y<z$\n"
   ]
  },
  {
   "cell_type": "markdown",
   "metadata": {},
   "source": [
    "### 大于等于运算，符号：\\geq，如：\n",
    "## $x+y \\geq z$\n"
   ]
  },
  {
   "cell_type": "markdown",
   "metadata": {},
   "source": [
    "### 小于等于运算，符号：\\leq，如：\n",
    "## $x+y \\leq z$\n"
   ]
  },
  {
   "cell_type": "markdown",
   "metadata": {},
   "source": [
    "### 不等于运算，符号：\\neq，如：\n",
    "## $x+y \\neq z$\n"
   ]
  },
  {
   "cell_type": "markdown",
   "metadata": {},
   "source": [
    "### 不大于等于运算，符号：\\ngeq，如：\n",
    "## $x+y \\ngeq z$\n"
   ]
  },
  {
   "cell_type": "markdown",
   "metadata": {},
   "source": [
    "### 不大于等于运算，符号：\\not\\geq，如：\n",
    "## $x+y \\not\\geq z$\n"
   ]
  },
  {
   "cell_type": "markdown",
   "metadata": {},
   "source": [
    "### 不小于等于运算，符号：\\nleq，如：\n",
    "## $x+y \\nleq z$\n"
   ]
  },
  {
   "cell_type": "markdown",
   "metadata": {},
   "source": [
    "### 不小于等于运算，符号：\\not\\leq，如：\n",
    "## $x+y \\not\\leq z$\n"
   ]
  },
  {
   "cell_type": "markdown",
   "metadata": {},
   "source": [
    "### 约等于运算，符号：\\approx，如：\n",
    "## $x+y \\approx z$\n"
   ]
  },
  {
   "cell_type": "markdown",
   "metadata": {},
   "source": [
    "### 恒定等于运算，符号：\\equiv，如：\n",
    "## $x+y \\equiv z$"
   ]
  },
  {
   "cell_type": "markdown",
   "metadata": {},
   "source": [
    "# 集合运算\n",
    "\n",
    "### 属于运算，符号：\\in，如：\n",
    "## $x \\in y$\n"
   ]
  },
  {
   "cell_type": "markdown",
   "metadata": {},
   "source": [
    "### 不属于运算，符号：\\notin，如：\n",
    "## $x \\notin y$\n"
   ]
  },
  {
   "cell_type": "markdown",
   "metadata": {},
   "source": [
    "### 不属于运算，符号：\\not\\in，如：\n",
    "## $x \\not\\in y$\n"
   ]
  },
  {
   "cell_type": "markdown",
   "metadata": {},
   "source": [
    "### 子集运算，符号：\\subset，如：\n",
    "## $x \\subset y$\n"
   ]
  },
  {
   "cell_type": "markdown",
   "metadata": {},
   "source": [
    "### 子集运算，符号：\\supset，如：\n",
    "## $x \\supset y$\n"
   ]
  },
  {
   "cell_type": "markdown",
   "metadata": {},
   "source": [
    "### 真子集运算，符号：\\subseteq，如：\n",
    "## $x \\subseteq y$\n"
   ]
  },
  {
   "cell_type": "markdown",
   "metadata": {},
   "source": [
    "### 真子集运算，符号：\\supseteq，如：\n",
    "## $x \\supseteq y$\n"
   ]
  },
  {
   "cell_type": "markdown",
   "metadata": {},
   "source": [
    "### 非子集运算，符号：\\not\\supset，如：\n",
    "## $x \\not\\supset y$\n"
   ]
  },
  {
   "cell_type": "markdown",
   "metadata": {},
   "source": [
    "### 并集运算，符号：\\cup，如：\n",
    "## $x \\cup y$\n"
   ]
  },
  {
   "cell_type": "markdown",
   "metadata": {},
   "source": [
    "### 交集运算，符号：\\cap，如：\n",
    "## $x \\cap y$\n"
   ]
  },
  {
   "cell_type": "markdown",
   "metadata": {},
   "source": [
    "### 差集运算，符号：\\setminus，如：\n",
    "## $x \\setminus y$\n"
   ]
  },
  {
   "cell_type": "markdown",
   "metadata": {},
   "source": [
    "### 同或运算，符号：\\bigodot，如：\n",
    "## $x \\bigodot y$\n"
   ]
  },
  {
   "cell_type": "markdown",
   "metadata": {},
   "source": [
    "### 同与运算，符号：\\bigotimes，如：\n",
    "## $x \\bigotimes y$\n"
   ]
  },
  {
   "cell_type": "markdown",
   "metadata": {},
   "source": [
    "### 实数集合，符号：\\mathbb{R}，如：\n",
    "## $\\mathbb{R}$\n"
   ]
  },
  {
   "cell_type": "markdown",
   "metadata": {},
   "source": [
    "### 自然数集合，符号：\\mathbb{Z}，如：\n",
    "## \\mathbb{Z}\n"
   ]
  },
  {
   "cell_type": "markdown",
   "metadata": {},
   "source": [
    "### 空集，符号：\\emptyset，如：\n",
    "## $\\emptyset$\n"
   ]
  },
  {
   "cell_type": "markdown",
   "metadata": {},
   "source": [
    "### 非真子集运算，符号：\\subsetneq，如：\n",
    "## $x \\subsetneq y$\n"
   ]
  },
  {
   "cell_type": "markdown",
   "metadata": {},
   "source": [
    "# 数学符号\n",
    "\n",
    "### 无穷，符号：\\infty，如：\n",
    "## $\\infty$\n",
    "### 虚数，符号：\\imath，如：\n",
    "## $\\imath$\n",
    "### 虚数，符号：\\jmath，如：\n",
    "## $\\jmath$\n",
    "### 数学符号，符号\\hat{a}，如：\n",
    "## $\\hat{a}$\n",
    "### 数学符号，符号\\check{a}，如：\n",
    "## $\\check{a}$\n",
    "### 数学符号，符号\\breve{a}，如：\n",
    "## $\\breve{a}$\n",
    "### 数学符号，符号\\tilde{a}，如：\n",
    "## $\\tilde{a}$\n",
    "### 数学符号，符号\\bar{a}，如：\n",
    "## $\\bar{a}$\n",
    "### 矢量符号，符号\\vec{a}，如：\n",
    "## $\\vec{a}$\n",
    "### 数学符号，符号\\acute{a}，如：\n",
    "## $\\acute{a}$\n",
    "### 数学符号，符号\\grave{a}，如：\n",
    "## $\\grave{a}$\n",
    "### 数学符号，符号\\mathring{a}，如：\n",
    "## $\\mathring{a}$\n",
    "### 一阶导数符号，符号\\dot{a}，如：\n",
    "## $\\dot{a}$\n",
    "### 二阶导数符号，符号\\ddot{a}，如：\n",
    "## $\\ddot{a}$\n",
    "### 上箭头，符号：\\uparrow，如：\n",
    "## $\\uparrow$\n",
    "### 上箭头，符号：\\Uparrow，如：\n",
    "## $\\Uparrow$\n",
    "### 下箭头，符号：\\downarrow，如：\n",
    "## $\\downarrow$\n",
    "### 下箭头，符号：\\Downarrow，如：\n",
    "## $\\Downarrow$\n",
    "### 左箭头，符号：\\leftarrow，如：\n",
    "## $\\leftarrow$\n",
    "### 左箭头，符号：\\Leftarrow，如：\n",
    "## $\\Leftarrow$\n",
    "### 右箭头，符号：\\rightarrow，如：\n",
    "## $\\rightarrow$\n",
    "### 右箭头，符号：\\Rightarrow，如：\n",
    "## $\\Rightarrow$\n",
    "### 底端对齐的省略号，符号：\\ldots，如：\n",
    "## $1,2,\\ldots,n$\n",
    "### 中线对齐的省略号，符号：\\cdots，如：\n",
    "## $x_1^2 + x_2^2 + \\cdots + x_n^2$\n",
    "### 竖直对齐的省略号，符号：\\vdots，如：\n",
    "## $\\vdots$\n",
    "### 斜对齐的省略号，符号：\\ddots，如：\n",
    "## $\\ddots$数学符号"
   ]
  }
 ],
 "metadata": {
  "kernelspec": {
   "display_name": "Python 3",
   "language": "python",
   "name": "python3"
  },
  "language_info": {
   "codemirror_mode": {
    "name": "ipython",
    "version": 3
   },
   "file_extension": ".py",
   "mimetype": "text/x-python",
   "name": "python",
   "nbconvert_exporter": "python",
   "pygments_lexer": "ipython3",
   "version": "3.7.9"
  }
 },
 "nbformat": 4,
 "nbformat_minor": 4
}
