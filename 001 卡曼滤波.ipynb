{
 "cells": [
  {
   "cell_type": "code",
   "execution_count": 2,
   "metadata": {},
   "outputs": [],
   "source": [
    "#!/usr/bin/env python\n",
    "# -*- encoding: utf-8 -*-\n",
    "'''\n",
    "@File    :   卡曼滤波.py\n",
    "@Time    :   2020/08/29 15:31:55\n",
    "@Author  :   manmanzhang \n",
    "@Version :   1.0\n",
    "@Contact :   408903228@qq.com\n",
    "@Desc    :   None\n",
    "'''\n",
    "\n",
    "# here put the import lib\n",
    "\n",
    "import math\n",
    "import numpy as np\n",
    "import matplotlib.pyplot as plt\n",
    "\n",
    "def gaussian(mu,sigma,x):\n",
    "    '''\n",
    "    接受一个平均值和平方方差，以及一个输入x，并返回高斯值\n",
    "    '''\n",
    "    coefficient = 1.0/np.sqrt(2.0*np.pi*sigma)\n",
    "    exponential = np.exp(-0.5 * (x-mu) ** 2 /sigma)\n",
    "    return coefficient * exponential"
   ]
  },
  {
   "cell_type": "code",
   "execution_count": 3,
   "metadata": {},
   "outputs": [
    {
     "data": {
      "text/plain": [
       "0.036144478533636254"
      ]
     },
     "execution_count": 3,
     "metadata": {},
     "output_type": "execute_result"
    }
   ],
   "source": [
    "gaussian(5,10,10)"
   ]
  },
  {
   "cell_type": "code",
   "execution_count": 4,
   "metadata": {},
   "outputs": [],
   "source": [
    "def unpate(mean1,var1,mean2,var2):\n",
    "    mean_update = (var2*mean1+var1+mean2)/(var1+var2)\n",
    "    var_update = 1/(1/var1+1/var2)\n",
    "    return [mean_update,var_update]"
   ]
  },
  {
   "cell_type": "code",
   "execution_count": 5,
   "metadata": {},
   "outputs": [],
   "source": [
    "#the mothon update/predict function\n",
    "def update(mean1, var1, mean2, var2):\n",
    "    ''' This function takes in two means and two squared variance terms, and returns updated gaussian parameters.'''\n",
    "    new_mean = mean1 + mean2\n",
    "    new_var = var1 + var2\n",
    "    return [new_mean, new_var]"
   ]
  },
  {
   "cell_type": "code",
   "execution_count": 6,
   "metadata": {},
   "outputs": [
    {
     "ename": "NameError",
     "evalue": "name 'measurements' is not defined",
     "output_type": "error",
     "traceback": [
      "\u001b[0;31m---------------------------------------------------------------------------\u001b[0m",
      "\u001b[0;31mNameError\u001b[0m                                 Traceback (most recent call last)",
      "\u001b[1;32m/home/zhangmanman/Documents/gitee项目/001 卡曼滤波.ipynb Cell 5\u001b[0m in \u001b[0;36m<cell line: 1>\u001b[0;34m()\u001b[0m\n\u001b[0;32m----> <a href='vscode-notebook-cell://ssh-remote%2B7b22686f73744e616d65223a22486f6d657365727665725075626c6963227d/home/zhangmanman/Documents/gitee%E9%A1%B9%E7%9B%AE/001%20%E5%8D%A1%E6%9B%BC%E6%BB%A4%E6%B3%A2.ipynb#W4sdnNjb2RlLXJlbW90ZQ%3D%3D?line=0'>1</a>\u001b[0m \u001b[39mfor\u001b[39;00m n \u001b[39min\u001b[39;00m \u001b[39mrange\u001b[39m(\u001b[39mlen\u001b[39m(measurements)):\n\u001b[1;32m      <a href='vscode-notebook-cell://ssh-remote%2B7b22686f73744e616d65223a22486f6d657365727665725075626c6963227d/home/zhangmanman/Documents/gitee%E9%A1%B9%E7%9B%AE/001%20%E5%8D%A1%E6%9B%BC%E6%BB%A4%E6%B3%A2.ipynb#W4sdnNjb2RlLXJlbW90ZQ%3D%3D?line=1'>2</a>\u001b[0m     \u001b[39m# measurement update, \u001b[39;00m\n\u001b[1;32m      <a href='vscode-notebook-cell://ssh-remote%2B7b22686f73744e616d65223a22486f6d657365727665725075626c6963227d/home/zhangmanman/Documents/gitee%E9%A1%B9%E7%9B%AE/001%20%E5%8D%A1%E6%9B%BC%E6%BB%A4%E6%B3%A2.ipynb#W4sdnNjb2RlLXJlbW90ZQ%3D%3D?line=2'>3</a>\u001b[0m     mu, sig \u001b[39m=\u001b[39m update(mu, sig, measurements[n], measurement_sig) \n\u001b[1;32m      <a href='vscode-notebook-cell://ssh-remote%2B7b22686f73744e616d65223a22486f6d657365727665725075626c6963227d/home/zhangmanman/Documents/gitee%E9%A1%B9%E7%9B%AE/001%20%E5%8D%A1%E6%9B%BC%E6%BB%A4%E6%B3%A2.ipynb#W4sdnNjb2RlLXJlbW90ZQ%3D%3D?line=3'>4</a>\u001b[0m     \u001b[39mprint\u001b[39m(\u001b[39m'\u001b[39m\u001b[39mUpdate: [\u001b[39m\u001b[39m{}\u001b[39;00m\u001b[39m, \u001b[39m\u001b[39m{}\u001b[39;00m\u001b[39m]\u001b[39m\u001b[39m'\u001b[39m\u001b[39m.\u001b[39mformat(mu, sig)) \n",
      "\u001b[0;31mNameError\u001b[0m: name 'measurements' is not defined"
     ]
    }
   ],
   "source": [
    "for n in range(len(measurements)):\n",
    "    # measurement update, \n",
    "    mu, sig = update(mu, sig, measurements[n], measurement_sig) \n",
    "    print('Update: [{}, {}]'.format(mu, sig)) \n",
    "    # motion update, \n",
    "    mu, sig = predict(mu, sig, motions[n], motion_sig) \n",
    "    print('Predict: [{}, {}]'.format(mu, sig))"
   ]
  },
  {
   "cell_type": "code",
   "execution_count": null,
   "metadata": {},
   "outputs": [
    {
     "ename": "",
     "evalue": "",
     "output_type": "error",
     "traceback": [
      "\u001b[1;31mRunning cells with 'Python 3.7.13 ('XandAITsinghuaUniversity')' requires ipykernel package.\n",
      "\u001b[1;31mRun the following command to install 'ipykernel' into the Python environment. \n",
      "\u001b[1;31mCommand: 'conda install -n XandAITsinghuaUniversity ipykernel --update-deps --force-reinstall'"
     ]
    }
   ],
   "source": []
  }
 ],
 "metadata": {
  "kernelspec": {
   "display_name": "Python 3.8.10 ('kiteENV')",
   "language": "python",
   "name": "python3"
  },
  "language_info": {
   "codemirror_mode": {
    "name": "ipython",
    "version": 3
   },
   "file_extension": ".py",
   "mimetype": "text/x-python",
   "name": "python",
   "nbconvert_exporter": "python",
   "pygments_lexer": "ipython3",
   "version": "3.8.10"
  },
  "orig_nbformat": 2,
  "vscode": {
   "interpreter": {
    "hash": "46a29e5a568f209fc19e838022ff75b7b41a56f1cd8a78d8226bcfc47445c685"
   }
  }
 },
 "nbformat": 4,
 "nbformat_minor": 2
}
