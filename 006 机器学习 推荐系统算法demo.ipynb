{
 "cells": [
  {
   "cell_type": "code",
   "execution_count": 1,
   "metadata": {},
   "outputs": [],
   "source": [
    "import numpy as np\n",
    "import torch\n",
    "import seaborn as sns\n",
    "import matplotlib.pyplot as plt\n",
    "import pandas as pd"
   ]
  },
  {
   "cell_type": "markdown",
   "metadata": {},
   "source": [
    "## 数据，以西瓜书为例,假设下面是不同用户对一个西瓜的评价"
   ]
  },
  {
   "cell_type": "code",
   "execution_count": 2,
   "metadata": {},
   "outputs": [
    {
     "output_type": "execute_result",
     "data": {
      "text/plain": "array([['ID', '色泽', '根蒂', '敲声', '纹理', '脐部', '触感', '好瓜'],\n       ['1', '青绿', '蜷缩', '浊响', '清晰', '凹陷', '硬滑', '好瓜'],\n       ['2', '乌黑', '蜷缩', '沉闷', '清晰', '凹陷', '硬滑', '好瓜'],\n       ['3', '乌黑', '蜷缩', '浊响', '清晰', '凹陷', '硬滑', '好瓜'],\n       ['4', '青绿', '蜷缩', '沉闷', '清晰', '凹陷', '硬滑', '好瓜'],\n       ['5', '浅白', '蜷缩', '浊响', '清晰', '凹陷', '硬滑', '好瓜'],\n       ['6', '青绿', '稍蜷', '浊响', '清晰', '稍凹', '软粘', '好瓜'],\n       ['7', '乌黑', '稍蜷', '浊响', '稍糊', '稍凹', '软粘', '好瓜'],\n       ['8', '乌黑', '稍蜷', '浊响', '清晰', '稍凹', '硬滑', '好瓜'],\n       ['9', '乌黑', '稍蜷', '沉闷', '稍糊', '稍凹', '硬滑', '坏瓜'],\n       ['10', '青绿', '硬挺', '清脆', '清晰', '平坦', '软粘', '坏瓜'],\n       ['11', '浅白', '硬挺', '清脆', '模糊', '平坦', '硬滑', '坏瓜'],\n       ['12', '浅白', '蜷缩', '浊响', '模糊', '平坦', '软粘', '坏瓜'],\n       ['13', '青绿', '稍蜷', '浊响', '稍糊', '凹陷', '硬滑', '坏瓜'],\n       ['14', '浅白', '稍蜷', '沉闷', '稍糊', '凹陷', '硬滑', '坏瓜'],\n       ['15', '乌黑', '稍蜷', '浊响', '清晰', '稍凹', '软粘', '坏瓜'],\n       ['16', '浅白', '蜷缩', '浊响', '模糊', '平坦', '硬滑', '坏瓜'],\n       ['17', '青绿', '蜷缩', '沉闷', '稍糊', '稍凹', '硬滑', '坏瓜']], dtype='<U2')"
     },
     "metadata": {},
     "execution_count": 2
    }
   ],
   "source": [
    "\n",
    "path = '/Users/manmanzhang/Library/Mobile Documents/com~apple~CloudDocs/MyProject/InferenceSystem/src/I5_algorithm/setcase.csv'\n",
    "data = np.loadtxt(path,dtype=str,delimiter=',')\n",
    "data"
   ]
  },
  {
   "cell_type": "markdown",
   "metadata": {},
   "source": []
  },
  {
   "cell_type": "code",
   "execution_count": 3,
   "metadata": {},
   "outputs": [],
   "source": [
    "x = data[1:,1:-1]\n",
    "y = data[:,-1]"
   ]
  },
  {
   "cell_type": "markdown",
   "metadata": {},
   "source": [
    "## 特征编码器 返回编码和频率"
   ]
  },
  {
   "cell_type": "code",
   "execution_count": 4,
   "metadata": {},
   "outputs": [
    {
     "output_type": "execute_result",
     "data": {
      "text/plain": "{'乌黑': [0, 6],\n '凹陷': [1, 7],\n '平坦': [2, 4],\n '模糊': [3, 3],\n '沉闷': [4, 5],\n '浅白': [5, 5],\n '浊响': [6, 10],\n '清晰': [7, 9],\n '清脆': [8, 2],\n '硬挺': [9, 2],\n '硬滑': [10, 12],\n '稍凹': [11, 6],\n '稍糊': [12, 5],\n '稍蜷': [13, 7],\n '蜷缩': [14, 8],\n '软粘': [15, 5],\n '青绿': [16, 6]}"
     },
     "metadata": {},
     "execution_count": 4
    }
   ],
   "source": [
    "def features_coder(set_):\n",
    "    features_set = np.unique(set_)\n",
    "    frequency = [(set_==element).sum() for element in features_set]\n",
    "    return {element:[code,frequency[code]] for code,element in zip(range(features_set.shape[0]),features_set)}\n",
    "features_dict = features_coder(x)\n",
    "features_dict"
   ]
  },
  {
   "cell_type": "code",
   "execution_count": 5,
   "metadata": {},
   "outputs": [
    {
     "output_type": "execute_result",
     "data": {
      "text/plain": "array([[16, 14,  6,  7,  1, 10],\n       [ 0, 14,  4,  7,  1, 10],\n       [ 0, 14,  6,  7,  1, 10],\n       [16, 14,  4,  7,  1, 10],\n       [ 5, 14,  6,  7,  1, 10],\n       [16, 13,  6,  7, 11, 15],\n       [ 0, 13,  6, 12, 11, 15],\n       [ 0, 13,  6,  7, 11, 10],\n       [ 0, 13,  4, 12, 11, 10],\n       [16,  9,  8,  7,  2, 15],\n       [ 5,  9,  8,  3,  2, 10],\n       [ 5, 14,  6,  3,  2, 15],\n       [16, 13,  6, 12,  1, 10],\n       [ 5, 13,  4, 12,  1, 10],\n       [ 0, 13,  6,  7, 11, 15],\n       [ 5, 14,  6,  3,  2, 10],\n       [16, 14,  4, 12, 11, 10]])"
     },
     "metadata": {},
     "execution_count": 5
    }
   ],
   "source": [
    "datacode = np.array([[features_dict[j][0] for j in i] for i in x])\n",
    "datacode"
   ]
  },
  {
   "cell_type": "markdown",
   "metadata": {},
   "source": [
    "## 雅卡尔相似系数\n",
    "A，B的交集元素数量/A，B并集的元素数量"
   ]
  },
  {
   "cell_type": "code",
   "execution_count": 6,
   "metadata": {},
   "outputs": [],
   "source": [
    "def jaccard_similarity(setA,setB):\n",
    "    return np.intersect1d(setA,setB).shape[0]/np.union1d(setA,setB).shape[0]"
   ]
  },
  {
   "cell_type": "markdown",
   "metadata": {},
   "source": [
    "## 字典排序"
   ]
  },
  {
   "cell_type": "code",
   "execution_count": 7,
   "metadata": {},
   "outputs": [],
   "source": [
    "def sorted_dict(dict_structure):\n",
    "    return sorted(dict_structure.items(), key=lambda x: x[1], reverse=True)"
   ]
  },
  {
   "cell_type": "markdown",
   "metadata": {},
   "source": [
    "### 第一行与其他行相似度排序"
   ]
  },
  {
   "cell_type": "code",
   "execution_count": 8,
   "metadata": {},
   "outputs": [
    {
     "output_type": "execute_result",
     "data": {
      "text/plain": "{0: 1.0,\n 1: 0.5,\n 2: 0.7142857142857143,\n 3: 0.7142857142857143,\n 4: 0.7142857142857143,\n 5: 0.3333333333333333,\n 6: 0.09090909090909091,\n 7: 0.3333333333333333,\n 8: 0.09090909090909091,\n 9: 0.2,\n 10: 0.09090909090909091,\n 11: 0.2,\n 12: 0.5,\n 13: 0.2,\n 14: 0.2,\n 15: 0.3333333333333333,\n 16: 0.3333333333333333}"
     },
     "metadata": {},
     "execution_count": 8
    }
   ],
   "source": [
    "dict_ = {i:jaccard_similarity(datacode[0],datacode[i]) for i in range(datacode.shape[0])}\n",
    "dict_"
   ]
  },
  {
   "cell_type": "markdown",
   "metadata": {},
   "source": [
    "## 加权平均法：\n",
    "（不同维度的打分（例如：赞，好，坏，喜怒哀乐情绪）*余弦相似度/雅卡尔系数）"
   ]
  },
  {
   "cell_type": "code",
   "execution_count": 9,
   "metadata": {},
   "outputs": [],
   "source": [
    "x = datacode\n",
    "ydict = features_coder(data[:,-1])\n",
    "y = np.array([ydict[i][0] for i in data[1:,-1]])"
   ]
  },
  {
   "cell_type": "markdown",
   "metadata": {},
   "source": [
    "## 简单的协同过滤demo1 （雅卡尔系数）"
   ]
  },
  {
   "cell_type": "code",
   "execution_count": 10,
   "metadata": {},
   "outputs": [
    {
     "output_type": "execute_result",
     "data": {
      "text/plain": "32.14502908514014"
     },
     "metadata": {},
     "execution_count": 10
    }
   ],
   "source": [
    "def collaborative_filtering_jaccard(user,x,Lambda=1):\n",
    "    scores = x.dot(np.ones_like(x[0]))*Lambda\n",
    "    jaccard = np.array([jaccard_similarity(user,x[i]) for i in range(x.shape[0])])\n",
    "    weighted_average = scores.dot(jaccard)/jaccard.dot(np.ones_like(jaccard))\n",
    "    return weighted_average\n",
    "collaborative_filtering_jaccard(x[0],x,y)"
   ]
  },
  {
   "cell_type": "markdown",
   "metadata": {},
   "source": [
    "## 简单的协同过滤demo2 （皮尔森系数）"
   ]
  },
  {
   "cell_type": "code",
   "execution_count": 11,
   "metadata": {},
   "outputs": [],
   "source": [
    "def cosine(vector1,vector2):\n",
    "    return vector1.dot(vector2)/(np.linalg.norm(vector1) * np.linalg.norm(vector2))"
   ]
  },
  {
   "cell_type": "code",
   "execution_count": 12,
   "metadata": {},
   "outputs": [
    {
     "output_type": "execute_result",
     "data": {
      "text/plain": "0.9999999999999998"
     },
     "metadata": {},
     "execution_count": 12
    }
   ],
   "source": [
    "cosine(x[0],x[0])"
   ]
  },
  {
   "cell_type": "code",
   "execution_count": 13,
   "metadata": {},
   "outputs": [
    {
     "output_type": "execute_result",
     "data": {
      "text/plain": "23.220019709473465"
     },
     "metadata": {},
     "execution_count": 13
    }
   ],
   "source": [
    "def collaborative_filtering_cos(user,x,Lambda=1):\n",
    "    scores = x.dot(np.ones_like(user))*Lambda\n",
    "    cos = np.array([cosine(user,i) for i in x])\n",
    "    cos = cos[cos>0]\n",
    "    weighted_average = scores.dot(cos)/cos.dot(np.ones_like(cos))\n",
    "    return weighted_average\n",
    "collaborative_filtering_cos(x[0],x,y)"
   ]
  },
  {
   "cell_type": "code",
   "execution_count": 14,
   "metadata": {},
   "outputs": [
    {
     "output_type": "execute_result",
     "data": {
      "text/plain": "50.10165501412123"
     },
     "metadata": {},
     "execution_count": 14
    }
   ],
   "source": [
    "collaborative_filtering_cos(x[0],x)"
   ]
  },
  {
   "cell_type": "code",
   "execution_count": 15,
   "metadata": {},
   "outputs": [],
   "source": [
    "tensorX = torch.Tensor(x)\n",
    "tensorY = torch.Tensor(y)"
   ]
  },
  {
   "cell_type": "code",
   "execution_count": 16,
   "metadata": {},
   "outputs": [
    {
     "output_type": "execute_result",
     "data": {
      "text/plain": "tensor(1.0000)"
     },
     "metadata": {},
     "execution_count": 16
    }
   ],
   "source": [
    "def torch_cosine(vector1,vector2)->torch.Tensor:\n",
    "    return vector1.mul(vector2).sum()/(vector1.norm()*vector2.norm())\n",
    "torch_cosine(tensorX[0],tensorX[0])"
   ]
  },
  {
   "cell_type": "code",
   "execution_count": 17,
   "metadata": {},
   "outputs": [
    {
     "output_type": "execute_result",
     "data": {
      "text/plain": "tensor(23.2200)"
     },
     "metadata": {},
     "execution_count": 17
    }
   ],
   "source": [
    "def torch_collaborative_filtering_cos(user,x,Lambda=1)->torch.Tensor:\n",
    "    scores = x.mm(torch.ones_like(user)[:,None]).mul(Lambda[:,None])\n",
    "    cos = torch.Tensor([torch_cosine(user,i) for i in x])\n",
    "    cos = cos[cos>0][:,None]\n",
    "    weighted_average = scores.mul(cos).sum()/cos.sum()\n",
    "    return weighted_average\n",
    "torch_collaborative_filtering_cos(tensorX[0],tensorX,tensorY)"
   ]
  },
  {
   "cell_type": "code",
   "execution_count": 18,
   "metadata": {},
   "outputs": [],
   "source": [
    "def randomMat(check,m,n,K=None)->dict:\n",
    "    keys = K.keys()\n",
    "    value = K.values()\n",
    "    if sum([i[1] for i in value])==check:\n",
    "        step1 =  [[i[0],]*i[1] for i in value]\n",
    "        step2 = np.array([i for j in range(len(step1)) for i in step1[j]])\n",
    "        step3 = np.random.permutation(step2)\n",
    "        return step3.reshape(m,n)\n",
    "    else:\n",
    "        return None\n",
    "newx = randomMat(6,2,3,{'a':[1,3],'b':[2,3]})"
   ]
  },
  {
   "cell_type": "code",
   "execution_count": 19,
   "metadata": {},
   "outputs": [
    {
     "output_type": "execute_result",
     "data": {
      "text/plain": "array([[2, 2, 1],\n       [2, 1, 1]])"
     },
     "metadata": {},
     "execution_count": 19
    }
   ],
   "source": [
    "newx"
   ]
  },
  {
   "cell_type": "markdown",
   "metadata": {},
   "source": [
    "## 自编码器"
   ]
  },
  {
   "cell_type": "code",
   "execution_count": 20,
   "metadata": {},
   "outputs": [],
   "source": [
    "import torch\n",
    "import torch.nn as nn\n",
    "from torch.autograd import Variable\n",
    "import torch.utils.data as Data\n",
    "import torchvision #数据库模块\n",
    "import matplotlib.pyplot as plt\n",
    "import seaborn as sns\n",
    "sns.set()"
   ]
  },
  {
   "cell_type": "code",
   "execution_count": 21,
   "metadata": {},
   "outputs": [],
   "source": [
    "test_data = torchvision.datasets.MNIST(root='./mnist/'\n",
    ",train=False)\n",
    "test_x = Variable(torch.unsqueeze(test_data.test_data,dim=1)\n",
    ",volatile=True).type(torch.FloatTensor)[:2000]/255.\n",
    "test_y = test_data.test_labels[:2000]"
   ]
  },
  {
   "cell_type": "code",
   "execution_count": 22,
   "metadata": {},
   "outputs": [
    {
     "output_type": "error",
     "ename": "SyntaxError",
     "evalue": "invalid syntax (<ipython-input-22-303f0c74ee3f>, line 13)",
     "traceback": [
      "\u001b[0;36m  File \u001b[0;32m\"<ipython-input-22-303f0c74ee3f>\"\u001b[0;36m, line \u001b[0;32m13\u001b[0m\n\u001b[0;31m    F.relu(data)\u001b[0m\n\u001b[0m    ^\u001b[0m\n\u001b[0;31mSyntaxError\u001b[0m\u001b[0;31m:\u001b[0m invalid syntax\n"
     ]
    }
   ],
   "source": [
    "class AutoEncoder:\n",
    "\n",
    "    def __init__(self,data):\n",
    "        super(AutoEncoder,self).__init__()\n",
    "        self.data = data\n",
    "        self.datashape = data.shape\n",
    "        self.m = self.datashape[0]\n",
    "        self.h2 = self.datashape[1]\n",
    "        self.m2 = self.datashape[2]\n",
    "        self.n2 = self.datashape[-1]\n",
    "        self.conv_layer = nn.Sequential(\n",
    "        nn.Conv2d(data)\n",
    "        F.relu(data)\n",
    "        \n",
    "        )\n",
    "    \n",
    "\n",
    "AutoEncoder(test_x).conv_layer"
   ]
  },
  {
   "cell_type": "code",
   "execution_count": 23,
   "metadata": {},
   "outputs": [
    {
     "output_type": "execute_result",
     "data": {
      "text/plain": "torch.Size([1, 28, 28])"
     },
     "metadata": {},
     "execution_count": 23
    }
   ],
   "source": [
    "test_x[0].shape"
   ]
  },
  {
   "cell_type": "code",
   "execution_count": 24,
   "metadata": {},
   "outputs": [
    {
     "output_type": "execute_result",
     "data": {
      "text/plain": "[2, 7, 11, 15]"
     },
     "metadata": {},
     "execution_count": 24
    }
   ],
   "source": [
    "A = [2,7,11,15]\n",
    "A"
   ]
  },
  {
   "cell_type": "code",
   "execution_count": 25,
   "metadata": {},
   "outputs": [
    {
     "output_type": "execute_result",
     "data": {
      "text/plain": "{7: (2, 7)}"
     },
     "metadata": {},
     "execution_count": 25
    }
   ],
   "source": [
    "A = A+[A[0]]\n",
    "step = {A[i]:(A[i-1],A[i]) for i in range(len(A)) if A[i]+A[i-1] ==9}\n",
    "step"
   ]
  },
  {
   "cell_type": "code",
   "execution_count": 26,
   "metadata": {},
   "outputs": [
    {
     "output_type": "stream",
     "name": "stdout",
     "text": "7 2\n"
    }
   ],
   "source": [
    "for i in range(len(A)):\n",
    "    if A[i]+A[i-1]==9:\n",
    "        print(A[i],A[i-1])"
   ]
  },
  {
   "cell_type": "code",
   "execution_count": 27,
   "metadata": {},
   "outputs": [
    {
     "output_type": "execute_result",
     "data": {
      "text/plain": "[[2, 7]]"
     },
     "metadata": {},
     "execution_count": 27
    }
   ],
   "source": [
    "step1 = [eval(z) for z in {\"{}\".format(sorted([i,j])) for i in A for j in A} if sum(eval(z)) == 9]\n",
    "step1"
   ]
  },
  {
   "cell_type": "code",
   "execution_count": null,
   "metadata": {},
   "outputs": [],
   "source": []
  }
 ],
 "metadata": {
  "language_info": {
   "codemirror_mode": {
    "name": "ipython",
    "version": 3
   },
   "file_extension": ".py",
   "mimetype": "text/x-python",
   "name": "python",
   "nbconvert_exporter": "python",
   "pygments_lexer": "ipython3",
   "version": "3.7.6-final"
  },
  "orig_nbformat": 2,
  "kernelspec": {
   "name": "pycharm-66c53067",
   "display_name": "PyCharm (InferenceSystem)"
  }
 },
 "nbformat": 4,
 "nbformat_minor": 2
}