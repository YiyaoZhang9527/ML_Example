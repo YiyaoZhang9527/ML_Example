{
 "cells": [
  {
   "cell_type": "code",
   "execution_count": 1,
   "metadata": {},
   "outputs": [],
   "source": [
    "# coding=utf-8\n",
    "from pyecharts import options as opts\n",
    "from pyecharts.charts import WordCloud\n",
    "from pyecharts.globals import SymbolType\n",
    "\n",
    "# 数据\n",
    "words = [\n",
    "    ('背包问题', 10000),\n",
    "    ('大整数', 6181),\n",
    "    ('Karatsuba乘法算法', 4386),\n",
    "    ('穷举搜索', 4055),\n",
    "    ('傅里叶变换', 2467),\n",
    "    ('状态树遍历', 2244),\n",
    "    ('剪枝', 1868),\n",
    "    ('Gale-shapley', 1484),\n",
    "    ('最大匹配与匈牙利算法', 1112),\n",
    "    ('线索模型', 865),\n",
    "    ('关键路径算法', 847),\n",
    "    ('最小二乘法曲线拟合', 582),\n",
    "    ('二分逼近法', 555),\n",
    "    ('牛顿迭代法', 550),\n",
    "    ('Bresenham算法', 462),\n",
    "    ('粒子群优化', 366),\n",
    "    ('Dijkstra', 360),\n",
    "    ('A*算法', 282),\n",
    "    ('负极大极搜索算法', 273),\n",
    "    ('估值函数', 265)\n",
    "]\n",
    "\n",
    "# 渲染图\n",
    "def wordcloud_base() -> WordCloud:\n",
    "    c = (\n",
    "        WordCloud()\n",
    "        .add(\"\", words, word_size_range=[20, 100], shape='diamond')  # SymbolType.ROUND_RECT\n",
    "        .set_global_opts(title_opts=opts.TitleOpts(title='WordCloud词云'))\n",
    "    )\n",
    "    return c\n",
    "\n",
    "# 生成图\n",
    "results= wordcloud_base().render('词云图.html')"
   ]
  },
  {
   "cell_type": "markdown",
   "metadata": {},
   "source": [
    "### selenium 打开网页显示词云结果"
   ]
  },
  {
   "cell_type": "code",
   "execution_count": 2,
   "metadata": {},
   "outputs": [],
   "source": [
    "from selenium import webdriver\n",
    "from selenium.webdriver.chrome.options import Options\n",
    "import time\n",
    "from sys import platform\n",
    "\n",
    "def open_html():\n",
    "    try:\n",
    "        chrome_opt = Options()\n",
    "        driver = webdriver.Chrome(\"/Users/manmanzhang/Downloads/chromedriver-3\")\n",
    "        driver.get(\"file://\"+results)\n",
    "    except Exception as Error:\n",
    "        print(Error)\n",
    "\n",
    "open_html()"
   ]
  },
  {
   "cell_type": "markdown",
   "metadata": {},
   "source": [
    "### python 标准库打开默认浏览器显示词云结果"
   ]
  },
  {
   "cell_type": "code",
   "execution_count": 3,
   "metadata": {},
   "outputs": [
    {
     "data": {
      "text/plain": [
       "True"
      ]
     },
     "execution_count": 3,
     "metadata": {},
     "output_type": "execute_result"
    }
   ],
   "source": [
    "import webbrowser as web\n",
    "web.open(\"file://\"+results,new=0,autoraise=True)#web.open(\"\")new=0,autoraise=True"
   ]
  }
 ],
 "metadata": {
  "file_extension": ".py",
  "kernelspec": {
   "display_name": "PyCharm (InferenceSystem)",
   "language": "python",
   "name": "pycharm-66c53067"
  },
  "language_info": {
   "codemirror_mode": {
    "name": "ipython",
    "version": 3
   },
   "file_extension": ".py",
   "mimetype": "text/x-python",
   "name": "python",
   "nbconvert_exporter": "python",
   "pygments_lexer": "ipython3",
   "version": "3.7.6"
  },
  "mimetype": "text/x-python",
  "name": "python",
  "npconvert_exporter": "python",
  "pygments_lexer": "ipython3",
  "version": 3
 },
 "nbformat": 4,
 "nbformat_minor": 2
}
