{
 "cells": [
  {
   "cell_type": "code",
   "execution_count": 1,
   "metadata": {
    "tags": []
   },
   "outputs": [
    {
     "name": "stdout",
     "output_type": "stream",
     "text": [
      "数组:\n",
      "[[3 7]\n",
      " [9 1]]\n",
      "\n",
      "\n",
      "排序:\n",
      "[[3 7]\n",
      " [1 9]]\n",
      "\n",
      "\n",
      "轴 0 排序:\n",
      "[[3 1]\n",
      " [9 7]]\n",
      "\n",
      "\n",
      "数组:\n",
      "[(b'kevin', 21) (b'peter', 25) (b'tony', 17) (b'mike', 27)]\n",
      "\n",
      "\n",
      "按 name 排序:\n",
      "[(b'kevin', 21) (b'mike', 27) (b'peter', 25) (b'tony', 17)]\n"
     ]
    }
   ],
   "source": [
    "import numpy as np  \n",
    "a = np.array([[3,7],[9,1]]) \n",
    "\n",
    "print ('数组:' )\n",
    "print (a) \n",
    "print ('\\n')\n",
    "\n",
    "print ('排序:' )\n",
    "print (np.sort(a)) \n",
    "print ('\\n') \n",
    "  \n",
    "print ('轴 0 排序:') \n",
    "print (np.sort(a, axis = 0)) \n",
    "print ('\\n')  \n",
    "\n",
    "# 排序函数中的顺序参数\n",
    "dt = np.dtype([('name', 'S10'),('age', int)]) \n",
    "a = np.array([(\"kevin\", 21),(\"peter\",25),(\"tony\", 17), (\"mike\",27)], dtype = dt) \n",
    "\n",
    "print ('数组:') \n",
    "print (a) \n",
    "print ('\\n')  \n",
    "\n",
    "print ('按 name 排序:') \n",
    "print (np.sort(a, order = 'name'))\n",
    "\n"
   ]
  },
  {
   "cell_type": "markdown",
   "metadata": {},
   "source": [
    "numpy.argsort()\n",
    "该函数先对数组进行排序，然后提取排序后的数组索引，以数组形式返回，原数组不会被修改，通过索引可以得到排序结果。"
   ]
  },
  {
   "cell_type": "code",
   "execution_count": 2,
   "metadata": {
    "tags": []
   },
   "outputs": [
    {
     "name": "stdout",
     "output_type": "stream",
     "text": [
      "数组x:\n",
      "[3 1 2]\n",
      "\n",
      "\n",
      "将argsort()应用于x:\n",
      "[1 2 0]\n",
      "\n",
      "\n",
      "按排序顺序重建原始数组:\n",
      "[1 2 3]\n",
      "\n",
      "\n",
      "使用循环重构原始数组:\n",
      "1\n",
      "2\n",
      "3\n"
     ]
    }
   ],
   "source": [
    "import numpy as np \n",
    "x = np.array([3, 1, 2]) \n",
    "\n",
    "print ('数组x:') \n",
    "print (x) \n",
    "print ('\\n')  \n",
    "\n",
    "print ('将argsort()应用于x:') \n",
    "y = np.argsort(x) \n",
    "print (y) \n",
    "print ('\\n')  \n",
    "\n",
    "print ('按排序顺序重建原始数组:' )\n",
    "print (x[y]) \n",
    "print ('\\n')  \n",
    "\n",
    "print ('使用循环重构原始数组:') \n",
    "for i in y: \n",
    "   print (x[i])\n",
    "\n"
   ]
  },
  {
   "cell_type": "markdown",
   "metadata": {},
   "source": [
    "numpy.lexsort()\n",
    "\n",
    "用于对多个序列进行排序，类似于SQL中的ORDERBY多个字段：ORDER BY 字段1， 字段2， 字段3。可以想象成对电子表格进行排序，每一列代表一个序列，越后面的列优先级越高。\n",
    "\n",
    "原数组不会被修改，该函数提取排序后的数组索引，以数组形式返回，通过索引可以得到排序结果。"
   ]
  },
  {
   "cell_type": "code",
   "execution_count": 3,
   "metadata": {
    "tags": []
   },
   "outputs": [
    {
     "name": "stdout",
     "output_type": "stream",
     "text": [
      "打印排序后的数组索引:\n",
      "[0 3 1 4 2]\n",
      "使用索引对数组排序:\n",
      "a 12\n",
      "d 12\n",
      "b 90\n",
      "e 211\n",
      "c 380\n"
     ]
    }
   ],
   "source": [
    "import numpy as np  \n",
    "  \n",
    "a = np.array(['a','b','c','d','e'])  \n",
    "  \n",
    "b = np.array([12, 90, 380, 12, 211])  \n",
    "  \n",
    "ind = np.lexsort((a,b))  \n",
    "  \n",
    "print(\"打印排序后的数组索引:\")  \n",
    "  \n",
    "print(ind)  \n",
    "  \n",
    "print(\"使用索引对数组排序:\")  \n",
    "  \n",
    "for i in ind:  \n",
    "    print(a[i],b[i])  \n",
    "\n"
   ]
  },
  {
   "cell_type": "markdown",
   "metadata": {},
   "source": [
    "numpy.argmax() 与 numpy.argmin()\n",
    "这两个函数分别返回指定轴上，最大和最小元素的索引。"
   ]
  },
  {
   "cell_type": "code",
   "execution_count": 4,
   "metadata": {
    "tags": []
   },
   "outputs": [
    {
     "name": "stdout",
     "output_type": "stream",
     "text": [
      "数组:\n",
      "[[30 40 70]\n",
      " [80 20 10]\n",
      " [50 90 60]]\n",
      "\n",
      "\n",
      "应用argmax()函数:\n",
      "[1 2 0]\n",
      "\n",
      "\n",
      "应用argmin()函数:\n",
      "[0 1 1]\n",
      "\n",
      "\n"
     ]
    }
   ],
   "source": [
    "import numpy as np \n",
    "a = np.array([[30,40,70],[80,20,10],[50,90,60]]) \n",
    "\n",
    "print ('数组:') \n",
    "print (a) \n",
    "print ('\\n') \n",
    "\n",
    "print ('应用argmax()函数:') \n",
    "print (np.argmax(a, 0)) \n",
    "print ('\\n')  \n",
    "\n",
    "print ('应用argmin()函数:') \n",
    "print (np.argmin(a, 0) ) \n",
    "print ('\\n')  \n",
    "\n",
    "\n"
   ]
  },
  {
   "cell_type": "markdown",
   "metadata": {},
   "source": [
    "numpy.nonzero()\n",
    "该函数返回数组中非零元素的索引。"
   ]
  },
  {
   "cell_type": "code",
   "execution_count": 5,
   "metadata": {
    "tags": []
   },
   "outputs": [
    {
     "name": "stdout",
     "output_type": "stream",
     "text": [
      "打印原始数组\n",
      " [ 12  90 380  12 211]\n",
      "\n",
      "\n",
      "打印非零元素的位置\n",
      "(array([0, 1, 2, 3, 4]),)\n"
     ]
    }
   ],
   "source": [
    "import numpy as np  \n",
    "  \n",
    "b = np.array([12, 90, 380, 12, 211])  \n",
    "  \n",
    "print(\"打印原始数组\\n\", b)  \n",
    "print ('\\n') \n",
    "  \n",
    "print(\"打印非零元素的位置\")  \n",
    "print(b.nonzero())  \n",
    "\n"
   ]
  },
  {
   "cell_type": "markdown",
   "metadata": {},
   "source": [
    "numpy.where()\n",
    "该函数查找数组中符合条件的元素，返回其索引。"
   ]
  },
  {
   "cell_type": "code",
   "execution_count": 6,
   "metadata": {
    "tags": []
   },
   "outputs": [
    {
     "name": "stdout",
     "output_type": "stream",
     "text": [
      "(array([1, 2, 4]),)\n",
      "(array([0, 1, 1]), array([1, 0, 1]))\n"
     ]
    }
   ],
   "source": [
    "import numpy as np  \n",
    "  \n",
    "b = np.array([12, 90, 380, 12, 211])  \n",
    "print(np.where(b>12))  \n",
    "c = np.array([[20, 24],[21, 23]])  \n",
    "print(np.where(c>20))  "
   ]
  },
  {
   "cell_type": "markdown",
   "metadata": {},
   "source": [
    "numpy.extract()\n",
    "该函数返回数组中符合条件的元素。"
   ]
  },
  {
   "cell_type": "markdown",
   "metadata": {},
   "source": [
    "## 该函数返回数组中符合条件的元素。"
   ]
  },
  {
   "cell_type": "code",
   "execution_count": 7,
   "metadata": {
    "tags": []
   },
   "outputs": [
    {
     "name": "stdout",
     "output_type": "stream",
     "text": [
      "[ 90 380 211]\n",
      "[24 21 23]\n"
     ]
    }
   ],
   "source": [
    "import numpy as np  \n",
    "  \n",
    "b = np.array([12, 90, 380, 12, 211])  \n",
    "  \n",
    "print(np.extract(b>12, b))  \n",
    "  \n",
    "c = np.array([[20, 24],[21, 23]])  \n",
    "  \n",
    "print(np.extract(c>20, c))  \n"
   ]
  },
  {
   "cell_type": "code",
   "execution_count": null,
   "metadata": {},
   "outputs": [],
   "source": []
  },
  {
   "cell_type": "code",
   "execution_count": null,
   "metadata": {},
   "outputs": [],
   "source": [
    "x"
   ]
  }
 ],
 "metadata": {
  "kernelspec": {
   "display_name": "Python 3",
   "language": "python",
   "name": "python3"
  },
  "language_info": {
   "codemirror_mode": {
    "name": "ipython",
    "version": 3
   },
   "file_extension": ".py",
   "mimetype": "text/x-python",
   "name": "python",
   "nbconvert_exporter": "python",
   "pygments_lexer": "ipython3",
   "version": "3.7.9"
  }
 },
 "nbformat": 4,
 "nbformat_minor": 4
}
