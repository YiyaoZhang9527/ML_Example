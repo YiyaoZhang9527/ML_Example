{
 "cells": [
  {
   "cell_type": "code",
   "execution_count": 1,
   "metadata": {},
   "outputs": [],
   "source": [
    "import pandas as pd\n",
    "import requests\n",
    "import os\n",
    "import webbrowser\n",
    "def open_book_from_web(url,filename,req = False):\n",
    "    path = \"{0}{1}{2}\".format('/Users/manmanzhang/Library/Mobile Documents/com~apple~CloudDocs/MyProject/InferenceSystem/src/I5_algorithm/网页书籍/',filename,'.html')\n",
    "    if req == True :\n",
    "        headers = {\n",
    "        'Connection': 'keep-alive',\n",
    "        'User-Agent': 'Mozilla/5.0 (Macintosh; Intel Mac OS X 10_15_3) AppleWebKit/537.36 (KHTML, like Gecko) Chrome/81.0.4044.113 Safari/537.36 Edg/81.0.416.58',\n",
    "        'Content-Type': 'text/plain;charset=UTF-8',\n",
    "        'Accept': '*/*',\n",
    "        'Origin': 'https://www.amazon.cn',\n",
    "        'Sec-Fetch-Site': 'cross-site',\n",
    "        'Sec-Fetch-Mode': 'no-cors',\n",
    "        'Sec-Fetch-Dest': 'empty',\n",
    "        'Referer': 'https://www.amazon.cn/gp/product/B01M8L5Z3Y',\n",
    "        'Accept-Language': 'zh-Hans,zh-CN;q=0.9,zh;q=0.8,en;q=0.7,en-GB;q=0.6,en-US;q=0.5'}\n",
    "        html = requests.get(url,headers=headers).text\n",
    "        f = open(path,'w+')\n",
    "        f.write(html)\n",
    "        f.close()\n",
    "        return webbrowser.open(\"file://\"+path,new=0)\n",
    "    else:\n",
    "        return webbrowser.open(\"file://\"+path,new=0)"
   ]
  },
  {
   "cell_type": "markdown",
   "metadata": {},
   "source": [
    "# 今日头条收藏\n",
    "https://www.toutiao.com/c/user/6722846746/#mid=0"
   ]
  },
  {
   "cell_type": "code",
   "execution_count": 2,
   "metadata": {},
   "outputs": [
    {
     "data": {
      "text/plain": [
       "True"
      ]
     },
     "execution_count": 2,
     "metadata": {},
     "output_type": "execute_result"
    }
   ],
   "source": [
    "open_book_from_web(\"https://www.toutiao.com/c/user/6722846746/#mid=0\",\"今日头条收藏\")"
   ]
  },
  {
   "cell_type": "markdown",
   "metadata": {},
   "source": [
    "# 微积分学习资料 用python学微积分\n",
    "https://ryancheunggit.gitbooks.io/calculus-with-python/content/09Optimization.html\n",
    "# Markdown数学公式语法\n",
    "https://www.jianshu.com/p/e74eb43960a1"
   ]
  },
  {
   "cell_type": "code",
   "execution_count": 3,
   "metadata": {},
   "outputs": [
    {
     "data": {
      "text/plain": [
       "True"
      ]
     },
     "execution_count": 3,
     "metadata": {},
     "output_type": "execute_result"
    }
   ],
   "source": [
    "open_book_from_web(\"https://www.jianshu.com/p/e74eb43960a1\",\"数学公式Markdown\")"
   ]
  },
  {
   "cell_type": "markdown",
   "metadata": {},
   "source": [
    "# 原理详细解释\n",
    "#### 决策树详解（视频，哔哩哔哩）\n",
    "url = https://www.bilibili.com/video/BV1qA411q7kw?p=89&share_medium=ipad&share_plat=ios&share_source=COPY&share_tag=s_i&timestamp=1592017941&unique_k=JnCdqT\n",
    "### 决策树详解 （文字 ,今日头条）\n",
    "https://www.toutiao.com/a6835975815205749261/?tt_from=mobile_qq&utm_campaign=client_share&timestamp=1591633545&app=news_article_social&utm_source=mobile_qq&utm_medium=toutiao_ios&use_new_style=0&req_id=202006090025440100160290141263DE9F&group_id=6835975815205749261\n",
    "### 概率论简明教程 （联合，条件，全概率，P检测，贝叶斯）（文字 今日头条）\n",
    "url = https://www.toutiao.com/a6835885756288860683/?tt_from=mobile_qq&utm_campaign=client_share&timestamp=1591816091&app=news_article_social&utm_source=mobile_qq&utm_medium=toutiao_ios&use_new_style=0&req_id=202006110308110100120651600484D765&group_id=6835885756288860683\n",
    "#### 【机器学习】决策树（上）——ID3、C4.5、CART（非常详细）\n",
    "https://zhuanlan.zhihu.com/p/85731206\n",
    "### 【机器学习】决策树（中）——Random Forest、Adaboost、GBDT （非常详细）\n",
    "https://zhuanlan.zhihu.com/p/86263786\n",
    "### 【机器学习】决策树（下）——XGBoost、LightGBM（非常详细）\n",
    "https://zhuanlan.zhihu.com/p/87885678\n",
    "### 【机器学习】降维——PCA（非常详细）\n",
    "https://zhuanlan.zhihu.com/p/77151308\n",
    "### 降维：主成分分析（PCA\n",
    "https://www.toutiao.com/a6820808176619749900/?tt_from=mobile_qq&utm_campaign=client_share&timestamp=1591665261&app=news_article_social&utm_source=mobile_qq&utm_medium=toutiao_ios&use_new_style=0&req_id=20200609091420010014040089029E943D&group_id=6820808176619749900"
   ]
  },
  {
   "cell_type": "code",
   "execution_count": 6,
   "metadata": {},
   "outputs": [
    {
     "data": {
      "text/plain": [
       "True"
      ]
     },
     "execution_count": 6,
     "metadata": {},
     "output_type": "execute_result"
    }
   ],
   "source": [
    "open_book_from_web(\"https://zhuanlan.zhihu.com/p/86263786\",\"XGBoost\")"
   ]
  },
  {
   "cell_type": "markdown",
   "metadata": {},
   "source": [
    "# 源码\n",
    "### 神级算法仓库 TheAlgorithms\n",
    "https://github.com/TheAlgorithms\n",
    "### 10种常用降维算法源代码(python)（数据降维:PCA、LDA、MDS、LLE、TSNE等降维算法的python实现）\n",
    "https://zhuanlan.zhihu.com/p/68754729\n",
    "### 《统计学习方法》的python代码实现及课件\n",
    "https://zhuanlan.zhihu.com/p/50552396\n",
    "### KNN 统计学习方法3：KNN分类，KD树最近邻搜索Python实现\n",
    "https://zhuanlan.zhihu.com/p/59440097\n",
    "### 中文命名实体识别\n",
    "https://zhuanlan.zhihu.com/p/61227299\n",
    "### 逻辑回归的原理及Python实现\n",
    "https://zhuanlan.zhihu.com/p/53088482\n",
    "### KNN的原理及Python实现\n",
    "https://zhuanlan.zhihu.com/p/53737727\n",
    "## 朴素贝叶斯分类，算法加代码实现\n",
    "#### 代码 https://blog.csdn.net/zhuanzhe117/article/details/79077223\n",
    "#### 算法 https://blog.csdn.net/zhuanzhe117/article/details/79066839?utm_medium=distribute.pc_relevant.none-task-blog-baidujs-5\n",
    "#### 原理白话详解 https://blog.csdn.net/zhengzhenxian/article/details/79052185?utm_medium=distribute.pc_relevant.none-task-blog-BlogCommendFromMachineLearnPai2-2.nonecase&depth_1-utm_source=distribute.pc_relevant.none-task-blog-BlogCommendFromMachineLearnPai2-2.nonecase"
   ]
  },
  {
   "cell_type": "code",
   "execution_count": 5,
   "metadata": {},
   "outputs": [
    {
     "data": {
      "text/plain": [
       "True"
      ]
     },
     "execution_count": 5,
     "metadata": {},
     "output_type": "execute_result"
    }
   ],
   "source": [
    "open_book_from_web(\"https://zhuanlan.zhihu.com/p/61227299\",\"中文命名实体识别\")"
   ]
  },
  {
   "cell_type": "markdown",
   "metadata": {},
   "source": [
    "#  NLP\n",
    "### 正则表达式\n",
    "URL = https://zhuanlan.zhihu.com/p/107294963\n",
    "### word2vec 图解\n",
    "URL = https://zhuanlan.zhihu.com/p/74720197\n",
    "### NLP实战-中文命名实体识别\n",
    "https://zhuanlan.zhihu.com/p/61227299\n",
    "### 通俗理解word2vec\n",
    "https://www.jianshu.com/p/471d9bfbd72f\n",
    "### word2vec 中的数学原理详解\n",
    "https://www.cnblogs.com/peghoty/p/3857839.html"
   ]
  },
  {
   "cell_type": "markdown",
   "metadata": {},
   "source": [
    "# 应用案例教学集合\n",
    "## 生成对抗网络 加代码实现\n",
    "说明 url = https://zhuanlan.zhihu.com/p/85908702 \n",
    "代码 url = https://nbviewer.jupyter.org/github/gaonanlee/Deep-Learning-Experiments/blob/master/Vanilla%20GAN_implementation.ipynb\n",
    "### Graph Neural Network】GraphSAGE: 算法原理，实现和应用\n",
    "https://zhuanlan.zhihu.com/p/79637787\n",
    "### Python3机器学习实践：集成学习之XGBoost \n",
    "https://zhuanlan.zhihu.com/p/53578613\n",
    "github: https://github.com/Anfany/Machine-Learning-for-Beginner-by-Python3\n",
    "### Python3机器学习实践：集成学习之LightGBM\n",
    "https://zhuanlan.zhihu.com/p/53583034\n",
    "### Python3机器学习实践：集成学习之AdaBoost\n",
    "https://zhuanlan.zhihu.com/p/53514358\n",
    "### 为机器学习的入门者提供多种基于实例的sklearn、TensorFlow以及自编函数(AnFany)的ML算法程序。只要数据格式和例子的中的一样，程序可灵活调用。\n",
    "https://github.com/Anfany/Machine-Learning-for-Beginner-by-Python3\n",
    "TensorFlow、Pytorch和Keras的样例资源\n",
    "https://zhuanlan.zhihu.com/p/51866340"
   ]
  },
  {
   "cell_type": "markdown",
   "metadata": {},
   "source": [
    "# 概念普及\n",
    "\n",
    "### 十大机器挖掘算法白话总结（知乎）\n",
    "https://zhuanlan.zhihu.com/p/147307853\n",
    "## 文本摘要简叙述 \n",
    "https://zhuanlan.zhihu.com/p/84734784\n",
    "### 一文弄懂AdaBoost、提升树、残差树、GDBT\n",
    "https://zhuanlan.zhihu.com/p/59751960\n",
    "### 什么是动态规划 加习题（文字 知乎）\n",
    "https://www.zhihu.com/question/23995189/answer/1160796300"
   ]
  },
  {
   "cell_type": "markdown",
   "metadata": {},
   "source": [
    "# 入门集合\n",
    "\n",
    "### 卷积神经网网络 （微信公众号）\n",
    "https://mp.weixin.qq.com/s/3A1fYW6p3KQPWaQKGSKYfA\n",
    "### 可能是最容易理解的EM算法入门文章\n",
    "https://zhuanlan.zhihu.com/p/61768577\n",
    "### 这是我看过，最好懂的神经网络 // 白话机器学习算法\n",
    "https://zhuanlan.zhihu.com/p/60018705\n",
    "### 用Keras搭建卷积神经网络\n",
    "https://zhuanlan.zhihu.com/p/53790130https://zhuanlan.zhihu.com/p/53790130\n"
   ]
  },
  {
   "cell_type": "markdown",
   "metadata": {},
   "source": [
    "#  整合资料站点 \n",
    "### 机器学习初学者 （算法资源点）\n",
    "URL = http://www.ai-start.com/\n",
    "### 入门资源汇总 \n",
    "url = https://zhuanlan.zhihu.com/p/95628574\n",
    "### 极品资源汇总（github 吴恩达 李航 西瓜书）\n",
    "url = https://zhuanlan.zhihu.com/p/82868576\n",
    "### 重磅 | 完备的 AI 学习路线，最详细的资源整理！\n",
    "url = https://zhuanlan.zhihu.com/p/64052743\n",
    "### 《Python机器学习基础教程》PDF代码+《白话机器学习算法》PDF中文+英文PDF+数据来源参考+《分布式机器学习算法理论与实践》PDF+《机器学习实战:基于Scikit-Learn和TensorFlow》PDF代码\n",
    "https://www.yuque.com/baibinng/ctyewg/cli1n9"
   ]
  },
  {
   "cell_type": "markdown",
   "metadata": {},
   "source": [
    "## 《Feature Engineering for Machine Learning》《特征工程》 代码实现\n",
    "https://zhuanlan.zhihu.com/p/76477083"
   ]
  },
  {
   "cell_type": "markdown",
   "metadata": {},
   "source": [
    "## 配置阿里云jupyter notebook\n",
    "https://zhuanlan.zhihu.com/p/66289330\n",
    "## Ubuntu18.04深度学习环境配置(简易方式)\n",
    "https://zhuanlan.zhihu.com/p/65809354"
   ]
  },
  {
   "cell_type": "markdown",
   "metadata": {},
   "source": [
    "# 英文书籍\n",
    "## 靠谱的机器学习入门书\n",
    "https://zhuanlan.zhihu.com/p/54671383"
   ]
  }
 ],
 "metadata": {
  "kernelspec": {
   "display_name": "Python 3",
   "language": "python",
   "name": "python3"
  },
  "language_info": {
   "codemirror_mode": {
    "name": "ipython",
    "version": 3
   },
   "file_extension": ".py",
   "mimetype": "text/x-python",
   "name": "python",
   "nbconvert_exporter": "python",
   "pygments_lexer": "ipython3",
   "version": "3.8.5"
  }
 },
 "nbformat": 4,
 "nbformat_minor": 4
}
