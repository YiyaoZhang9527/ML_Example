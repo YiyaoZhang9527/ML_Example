{
 "cells": [
  {
   "cell_type": "code",
   "execution_count": 2,
   "metadata": {},
   "outputs": [],
   "source": [
    "import numpy as np"
   ]
  },
  {
   "cell_type": "markdown",
   "metadata": {},
   "source": [
    "聚合"
   ]
  },
  {
   "cell_type": "markdown",
   "metadata": {},
   "source": [
    "    np.average     加权平均值（arr1 , weights = arr2）\n",
    "    np.mean        算术平均值（arr1）\n",
    "    np.median      计算中位数\n",
    "    np.sum         求和\n",
    "    np.prod        求乘积（阶乘）\n",
    "    np.cumprod     数组的累积乘积\n",
    "    np.min         求最小\n",
    "    np.max         求最大\n",
    " \n",
    "    np.bincount    计算每个元素出现的次数\n",
    "\n"
   ]
  },
  {
   "cell_type": "markdown",
   "metadata": {},
   "source": [
    "    np.argmin                沿指定维度查找最小值下标\n",
    "    np.argmax                沿指定维度查找最大值下标\n",
    "    np.nonzero               查找非零元素的下标\n",
    "    np.where（condition）     根据条件查找或替换\n",
    "    np.take(column,index)    #根据索引获取值\n",
    "    np.argsort     沿着指定维度计算下标，按这个下标元素是递增的\n",
    "    np.sort        沿指定维度 元素按递增顺序排序\n",
    "    np.lexsort     根据多个array进行排序\n",
    "\n"
   ]
  },
  {
   "cell_type": "markdown",
   "metadata": {},
   "source": [
    "    clip()函数计算：将所有比给定最大值num1还大的元素全部设为num1，\n",
    "    而所有比给定最小值num2还小的元素全部设为给定的最小值num2\n",
    " \n",
    " \n",
    "arr1. clip(num1,num2)  \n",
    "arr1= [0 1 2 3 4]  \n",
    "Clipped [1 1 2 2 2] \n",
    "\n"
   ]
  },
  {
   "cell_type": "markdown",
   "metadata": {},
   "source": [
    "# 单位矩阵"
   ]
  },
  {
   "cell_type": "code",
   "execution_count": 3,
   "metadata": {},
   "outputs": [
    {
     "output_type": "execute_result",
     "data": {
      "text/plain": "array([[1., 0., 0.],\n       [0., 1., 0.],\n       [0., 0., 1.]])"
     },
     "metadata": {},
     "execution_count": 3
    }
   ],
   "source": [
    "np.eye(3,3) "
   ]
  },
  {
   "cell_type": "markdown",
   "metadata": {},
   "source": [
    "# 字符串堆矩阵 "
   ]
  },
  {
   "cell_type": "code",
   "execution_count": 4,
   "metadata": {},
   "outputs": [
    {
     "output_type": "execute_result",
     "data": {
      "text/plain": "(matrix([[1., 0., 0., 3., 0., 0.],\n         [0., 1., 0., 0., 3., 0.],\n         [0., 0., 1., 0., 0., 3.],\n         [3., 0., 0., 1., 0., 0.],\n         [0., 3., 0., 0., 1., 0.],\n         [0., 0., 3., 0., 0., 1.],\n         [1., 0., 0., 3., 0., 0.],\n         [0., 1., 0., 0., 3., 0.],\n         [0., 0., 1., 0., 0., 3.]]),\n matrix([[1., 0., 0., 1., 0., 0., 3., 0., 0.],\n         [0., 1., 0., 0., 1., 0., 0., 3., 0.],\n         [0., 0., 1., 0., 0., 1., 0., 0., 3.],\n         [3., 0., 0., 1., 0., 0., 1., 0., 0.],\n         [0., 3., 0., 0., 1., 0., 0., 1., 0.],\n         [0., 0., 3., 0., 0., 1., 0., 0., 1.]]))"
     },
     "metadata": {},
     "execution_count": 4
    }
   ],
   "source": [
    "A = np.eye(3,3)\n",
    "B = A*3\n",
    "np.bmat(\"A B;B A;A,B\") ,np.bmat(\"A A B;B A A\")"
   ]
  },
  {
   "cell_type": "markdown",
   "metadata": {},
   "source": [
    "## Allclose() 用于匹配两个数组并且以布尔值形式输出。如果两个数组的项在公差范围内不相等，则返回False。这是检查两个数组是否相似的好方法，"
   ]
  },
  {
   "cell_type": "code",
   "execution_count": 5,
   "metadata": {},
   "outputs": [
    {
     "output_type": "execute_result",
     "data": {
      "text/plain": "False"
     },
     "metadata": {},
     "execution_count": 5
    }
   ],
   "source": [
    "array1 = np.array([0.12,0.17,0.24,0.29])\n",
    "array2 = np.array([0.13,0.19,0.26,0.31])# with a tolerance of 0.1, \n",
    "\n",
    "np.allclose(array1,array2,0.1)"
   ]
  },
  {
   "cell_type": "code",
   "execution_count": 6,
   "metadata": {},
   "outputs": [
    {
     "output_type": "execute_result",
     "data": {
      "text/plain": "True"
     },
     "metadata": {},
     "execution_count": 6
    }
   ],
   "source": [
    "np.allclose(array1,array2,0.2)"
   ]
  },
  {
   "cell_type": "markdown",
   "metadata": {},
   "source": [
    "# argpartition() 找到N最大值索引。输出N最大值索引，然后根据需要，对值进行排序。"
   ]
  },
  {
   "cell_type": "code",
   "execution_count": 7,
   "metadata": {},
   "outputs": [
    {
     "output_type": "execute_result",
     "data": {
      "text/plain": "(array([1, 8, 2, 0]), array([10, 12, 12, 16]))"
     },
     "metadata": {},
     "execution_count": 7
    }
   ],
   "source": [
    "x = np.array([12, 10, 12, 0, 6, 8, 9, 1, 16, 4, 6,0])\n",
    "index_val = np.argpartition(x, -4)[-4:]\n",
    "index_val,np.sort(x[index_val])"
   ]
  },
  {
   "cell_type": "markdown",
   "metadata": {},
   "source": [
    "# Clip() 用于将值保留在间隔的数组中。有时，需要将值保持在上限和下限之间。因此，可以使用NumPy的clip()函数。给定一个间隔，该间隔以外的值都将被裁剪到间隔边缘。"
   ]
  },
  {
   "cell_type": "code",
   "execution_count": 8,
   "metadata": {},
   "outputs": [
    {
     "output_type": "execute_result",
     "data": {
      "text/plain": "array([3, 5, 5, 5, 2, 2, 5, 5, 2, 2, 5, 2])"
     },
     "metadata": {},
     "execution_count": 8
    }
   ],
   "source": [
    "x = np.array([3, 17, 14, 23, 2, 2, 6, 8, 1, 2, 16,0])\n",
    "np.clip(x,2,5)"
   ]
  },
  {
   "cell_type": "markdown",
   "metadata": {},
   "source": [
    "# extract() 函数用于根据特定条件从数组中提取特定元素。有了该函数，还可以使用and和or等的语句。"
   ]
  },
  {
   "cell_type": "code",
   "execution_count": 9,
   "metadata": {},
   "outputs": [
    {
     "output_type": "execute_result",
     "data": {
      "text/plain": "(array([18, 10,  4, 14,  2, 15, 17, 10, 14, 17,  4, 13]),\n array([False, False, False, False, False,  True,  True, False, False,\n         True, False,  True]))"
     },
     "metadata": {},
     "execution_count": 9
    }
   ],
   "source": [
    "array = np.random.randint(20, size=12)\n",
    "cond = np.mod(array, 2)==1\n",
    "array,cond"
   ]
  },
  {
   "cell_type": "code",
   "execution_count": 10,
   "metadata": {},
   "outputs": [
    {
     "output_type": "execute_result",
     "data": {
      "text/plain": "array([15, 17, 17, 13])"
     },
     "metadata": {},
     "execution_count": 10
    }
   ],
   "source": [
    "np.extract(cond, array)"
   ]
  },
  {
   "cell_type": "code",
   "execution_count": 11,
   "metadata": {},
   "outputs": [
    {
     "output_type": "execute_result",
     "data": {
      "text/plain": "array([18,  2, 17, 17])"
     },
     "metadata": {},
     "execution_count": 11
    }
   ],
   "source": [
    "np.extract(((array < 3) | (array > 15)), array)"
   ]
  },
  {
   "cell_type": "markdown",
   "metadata": {},
   "source": [
    "# Percentile()用于计算沿指定轴的数组元素的第n个百分位数。"
   ]
  },
  {
   "cell_type": "code",
   "execution_count": 12,
   "metadata": {
    "tags": []
   },
   "outputs": [
    {
     "output_type": "stream",
     "name": "stdout",
     "text": "50thPercentile of a, axis = 0 :  6.0\n30th Percentile of b, axis = 0 : [5.1 3.5 1.9]\n"
    }
   ],
   "source": [
    "a = np.array([1,5,6,8,1,7,3,6,9])\n",
    "print(\"50thPercentile of a, axis = 0 : \", np.percentile(a, 50, axis =0))\n",
    "b =np.array([[10, 7, 4], [3, 2, 1]])\n",
    "print(\"30th Percentile of b, axis = 0 :\", np.percentile(b, 30, axis =0))"
   ]
  },
  {
   "cell_type": "markdown",
   "metadata": {},
   "source": [
    "# Where() 用于从满足特定条件的数组中返回元素。它返回在特定条件下值的索引位置。这差不多类似于在SQL中使用的where语句"
   ]
  },
  {
   "cell_type": "code",
   "execution_count": 13,
   "metadata": {},
   "outputs": [
    {
     "output_type": "execute_result",
     "data": {
      "text/plain": "((array([2, 3, 5, 7, 8]),),\n array(['Miss', 'Miss', 'Hit', 'Hit', 'Miss', 'Hit', 'Miss', 'Hit', 'Hit'],\n       dtype='<U4'))"
     },
     "metadata": {},
     "execution_count": 13
    }
   ],
   "source": [
    "y = np.array([1,5,6,8,1,7,3,6,9])\n",
    "np.where(y>5),np.where(y>5, \"Hit\", \"Miss\")"
   ]
  },
  {
   "cell_type": "markdown",
   "metadata": {},
   "source": [
    "# np.random.shuffle() 随机打散序列"
   ]
  },
  {
   "cell_type": "code",
   "execution_count": 14,
   "metadata": {},
   "outputs": [
    {
     "output_type": "execute_result",
     "data": {
      "text/plain": "array([3, 6, 1, 6, 9, 1, 5, 7, 8])"
     },
     "metadata": {},
     "execution_count": 14
    }
   ],
   "source": [
    "np.random.shuffle(y)\n",
    "y"
   ]
  },
  {
   "cell_type": "markdown",
   "metadata": {},
   "source": [
    "# 找到两个矩阵相同元素的位置"
   ]
  },
  {
   "cell_type": "code",
   "execution_count": 15,
   "metadata": {},
   "outputs": [
    {
     "output_type": "execute_result",
     "data": {
      "text/plain": "array([], shape=(0, 1), dtype=int64)"
     },
     "metadata": {},
     "execution_count": 15
    }
   ],
   "source": [
    "a,b = (np.random.randn(10)*10).astype(int),(np.random.randn(10)*10).astype(int)\n",
    "np.argwhere(a == b)"
   ]
  },
  {
   "cell_type": "markdown",
   "metadata": {},
   "source": [
    "# 创建对角矩阵并设置对角数"
   ]
  },
  {
   "cell_type": "code",
   "execution_count": 16,
   "metadata": {},
   "outputs": [
    {
     "output_type": "execute_result",
     "data": {
      "text/plain": "array([[5, 0, 0, 0, 0],\n       [0, 5, 0, 0, 0],\n       [0, 0, 5, 0, 0],\n       [0, 0, 0, 5, 0],\n       [0, 0, 0, 0, 5]])"
     },
     "metadata": {},
     "execution_count": 16
    }
   ],
   "source": [
    "A = np.diag([5,5,5,5,5])\n",
    "A"
   ]
  },
  {
   "cell_type": "markdown",
   "metadata": {},
   "source": [
    "# 解上面矩阵的行列式"
   ]
  },
  {
   "cell_type": "code",
   "execution_count": 17,
   "metadata": {},
   "outputs": [
    {
     "output_type": "execute_result",
     "data": {
      "text/plain": "3124.999999999999"
     },
     "metadata": {},
     "execution_count": 17
    }
   ],
   "source": [
    "np.linalg.det(A)"
   ]
  },
  {
   "cell_type": "markdown",
   "metadata": {},
   "source": [
    "# 求矩阵A的逆矩阵"
   ]
  },
  {
   "cell_type": "code",
   "execution_count": 18,
   "metadata": {},
   "outputs": [
    {
     "output_type": "execute_result",
     "data": {
      "text/plain": "array([[0.2, 0. , 0. , 0. , 0. ],\n       [0. , 0.2, 0. , 0. , 0. ],\n       [0. , 0. , 0.2, 0. , 0. ],\n       [0. , 0. , 0. , 0.2, 0. ],\n       [0. , 0. , 0. , 0. , 0.2]])"
     },
     "metadata": {},
     "execution_count": 18
    }
   ],
   "source": [
    "B = np.linalg.inv(A)\n",
    "B"
   ]
  },
  {
   "cell_type": "markdown",
   "metadata": {},
   "source": [
    "# 将矩阵 A，B 按列拼接"
   ]
  },
  {
   "cell_type": "code",
   "execution_count": 19,
   "metadata": {},
   "outputs": [
    {
     "output_type": "execute_result",
     "data": {
      "text/plain": "array([[5. , 0. , 0. , 0. , 0. , 0.2, 0. , 0. , 0. , 0. ],\n       [0. , 5. , 0. , 0. , 0. , 0. , 0.2, 0. , 0. , 0. ],\n       [0. , 0. , 5. , 0. , 0. , 0. , 0. , 0.2, 0. , 0. ],\n       [0. , 0. , 0. , 5. , 0. , 0. , 0. , 0. , 0.2, 0. ],\n       [0. , 0. , 0. , 0. , 5. , 0. , 0. , 0. , 0. , 0.2]])"
     },
     "metadata": {},
     "execution_count": 19
    }
   ],
   "source": [
    "np.hstack((A,B))"
   ]
  },
  {
   "cell_type": "markdown",
   "metadata": {},
   "source": [
    "# 将矩阵 A,B 按行拼接"
   ]
  },
  {
   "cell_type": "code",
   "execution_count": 20,
   "metadata": {},
   "outputs": [
    {
     "output_type": "execute_result",
     "data": {
      "text/plain": "array([[5. , 0. , 0. , 0. , 0. ],\n       [0. , 5. , 0. , 0. , 0. ],\n       [0. , 0. , 5. , 0. , 0. ],\n       [0. , 0. , 0. , 5. , 0. ],\n       [0. , 0. , 0. , 0. , 5. ],\n       [0.2, 0. , 0. , 0. , 0. ],\n       [0. , 0.2, 0. , 0. , 0. ],\n       [0. , 0. , 0.2, 0. , 0. ],\n       [0. , 0. , 0. , 0.2, 0. ],\n       [0. , 0. , 0. , 0. , 0.2]])"
     },
     "metadata": {},
     "execution_count": 20
    }
   ],
   "source": [
    "np.vstack((A,B))"
   ]
  },
  {
   "cell_type": "markdown",
   "metadata": {},
   "source": [
    "# 用一个数包围原始矩阵周围（适合创建机器人边界条件，或者cnn的时候包围原始图像边界）"
   ]
  },
  {
   "cell_type": "code",
   "execution_count": 21,
   "metadata": {},
   "outputs": [
    {
     "output_type": "execute_result",
     "data": {
      "text/plain": "array([[9, 9, 9, 9, 9, 9, 9],\n       [9, 5, 0, 0, 0, 0, 9],\n       [9, 0, 5, 0, 0, 0, 9],\n       [9, 0, 0, 5, 0, 0, 9],\n       [9, 0, 0, 0, 5, 0, 9],\n       [9, 0, 0, 0, 0, 5, 9],\n       [9, 9, 9, 9, 9, 9, 9]])"
     },
     "metadata": {},
     "execution_count": 21
    }
   ],
   "source": [
    "new = np.pad(A,pad_width = 1,constant_values=9)\n",
    "new"
   ]
  },
  {
   "cell_type": "markdown",
   "metadata": {},
   "source": [
    "# 创建同值矩阵"
   ]
  },
  {
   "cell_type": "code",
   "execution_count": 22,
   "metadata": {},
   "outputs": [
    {
     "output_type": "execute_result",
     "data": {
      "text/plain": "array([[7, 7],\n       [7, 7]])"
     },
     "metadata": {},
     "execution_count": 22
    }
   ],
   "source": [
    "np.full((2,2),7)"
   ]
  },
  {
   "cell_type": "markdown",
   "metadata": {},
   "source": [
    "# 循环矩阵"
   ]
  },
  {
   "cell_type": "code",
   "execution_count": 26,
   "metadata": {},
   "outputs": [
    {
     "output_type": "execute_result",
     "data": {
      "text/plain": "array([0, 1, 2, 3, 4, 5, 6, 0, 1, 2, 3, 4, 5])"
     },
     "metadata": {},
     "execution_count": 26
    }
   ],
   "source": [
    "a = np.r_[:7,:6]\n",
    "a"
   ]
  },
  {
   "cell_type": "code",
   "execution_count": 30,
   "metadata": {},
   "outputs": [
    {
     "output_type": "execute_result",
     "data": {
      "text/plain": "array([[6., 0., 1., 2., 3., 4., 5.],\n       [5., 6., 0., 1., 2., 3., 4.],\n       [4., 5., 6., 0., 1., 2., 3.],\n       [3., 4., 5., 6., 0., 1., 2.],\n       [2., 3., 4., 5., 6., 0., 1.],\n       [1., 2., 3., 4., 5., 6., 0.],\n       [0., 1., 2., 3., 4., 5., 6.]])"
     },
     "metadata": {},
     "execution_count": 30
    }
   ],
   "source": [
    "import scipy as sp\n",
    "newa = sp.sparse.diags(a,np.r_[-6:7],shape=[7,7]).toarray()\n",
    "newa"
   ]
  },
  {
   "cell_type": "markdown",
   "metadata": {},
   "source": [
    "# 调换数组索引 np.transpose"
   ]
  },
  {
   "cell_type": "code",
   "execution_count": 34,
   "metadata": {},
   "outputs": [
    {
     "output_type": "execute_result",
     "data": {
      "text/plain": "array([[0, 1],\n       [2, 3]])"
     },
     "metadata": {},
     "execution_count": 34
    }
   ],
   "source": [
    "a = np.r_[:4].reshape(2,2)\n",
    "a"
   ]
  },
  {
   "cell_type": "markdown",
   "metadata": {},
   "source": [
    "## 在二维展现就是转置"
   ]
  },
  {
   "cell_type": "code",
   "execution_count": 36,
   "metadata": {},
   "outputs": [
    {
     "output_type": "execute_result",
     "data": {
      "text/plain": "(array([[0, 2],\n        [1, 3]]),\n array([[0, 2],\n        [1, 3]]))"
     },
     "metadata": {},
     "execution_count": 36
    }
   ],
   "source": [
    "np.transpose(a),a.T"
   ]
  },
  {
   "cell_type": "markdown",
   "metadata": {},
   "source": [
    "## 高维的展现就是定义转换维度"
   ]
  },
  {
   "cell_type": "code",
   "execution_count": 43,
   "metadata": {},
   "outputs": [
    {
     "output_type": "execute_result",
     "data": {
      "text/plain": "array([0, 1, 2, 3, 0, 1, 2, 3])"
     },
     "metadata": {},
     "execution_count": 43
    }
   ],
   "source": [
    "np.r_[:4,:4]"
   ]
  },
  {
   "cell_type": "code",
   "execution_count": 39,
   "metadata": {},
   "outputs": [
    {
     "output_type": "execute_result",
     "data": {
      "text/plain": "array([[[0, 1],\n        [2, 3]],\n\n       [[0, 1],\n        [2, 3]]])"
     },
     "metadata": {},
     "execution_count": 39
    }
   ],
   "source": [
    "b = np.r_[:4,:4].reshape(2,2,2)\n",
    "b"
   ]
  },
  {
   "cell_type": "code",
   "execution_count": 51,
   "metadata": {},
   "outputs": [
    {
     "output_type": "execute_result",
     "data": {
      "text/plain": "(array([[[0, 0],\n         [2, 2]],\n \n        [[1, 1],\n         [3, 3]]]),\n array([[[0, 1],\n         [0, 1]],\n \n        [[2, 3],\n         [2, 3]]]))"
     },
     "metadata": {},
     "execution_count": 51
    }
   ],
   "source": [
    "b.transpose(),b.transpose(1,0,2)"
   ]
  },
  {
   "cell_type": "markdown",
   "metadata": {},
   "source": [
    "# 交换维度 np.swapaxes"
   ]
  },
  {
   "cell_type": "code",
   "execution_count": 65,
   "metadata": {},
   "outputs": [
    {
     "output_type": "execute_result",
     "data": {
      "text/plain": "(array([[[0, 1],\n         [0, 1]],\n \n        [[2, 3],\n         [2, 3]]]),\n array([[[0, 1],\n         [2, 3]],\n \n        [[0, 1],\n         [2, 3]]]))"
     },
     "metadata": {},
     "execution_count": 65
    }
   ],
   "source": [
    "b.swapaxes(1,0),b"
   ]
  },
  {
   "cell_type": "code",
   "execution_count": null,
   "metadata": {},
   "outputs": [],
   "source": []
  }
 ],
 "metadata": {
  "language_info": {
   "codemirror_mode": {
    "name": "ipython",
    "version": 3
   },
   "file_extension": ".py",
   "mimetype": "text/x-python",
   "name": "python",
   "nbconvert_exporter": "python",
   "pygments_lexer": "ipython3",
   "version": "3.7.6-final"
  },
  "orig_nbformat": 2,
  "kernelspec": {
   "name": "pycharm-66c53067",
   "display_name": "PyCharm (InferenceSystem)"
  }
 },
 "nbformat": 4,
 "nbformat_minor": 2
}