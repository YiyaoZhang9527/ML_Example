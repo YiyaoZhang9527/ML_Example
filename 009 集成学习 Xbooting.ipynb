{
 "cells": [
  {
   "cell_type": "markdown",
   "metadata": {},
   "source": [
    "# 【白话机器学习】算法理论+实战之Xgboost算法\n",
    "https://mp.weixin.qq.com/s/NC9CwR4cfDUJ26WpHsvkPQ"
   ]
  },
  {
   "cell_type": "code",
   "execution_count": 6,
   "metadata": {},
   "outputs": [
    {
     "output_type": "execute_result",
     "data": {
      "text/plain": "((100, 10), (100,))"
     },
     "metadata": {},
     "execution_count": 6
    }
   ],
   "source": [
    "import numpy as np\n",
    "import pandas as pd\n",
    "import xgboost as xgb\n",
    "from sklearn.model_selection import train_test_split\n",
    "X , y = np.random.randn(1000).reshape(100,10),np.random.randn(100)\n",
    "X.shape,y.shape"
   ]
  },
  {
   "cell_type": "code",
   "execution_count": 7,
   "metadata": {
    "tags": []
   },
   "outputs": [
    {
     "output_type": "stream",
     "name": "stdout",
     "text": "(99, 10) (1, 10)\n[00:27:57] WARNING: /Users/travis/build/dmlc/xgboost/src/objective/regression_obj.cu:174: reg:linear is now deprecated in favor of reg:squarederror.\n[00:27:57] WARNING: /Users/travis/build/dmlc/xgboost/src/learner.cc:516: \nParameters: { silent } might not be used.\n\n  This may not be accurate due to some parameters are only used in language bindings but\n  passed down to XGBoost core.  Or some parameters are not used but slip through this\n  verification. Please open an issue if you find above cases.\n\n\n[0]\tvalidation_0-rmse:0.61101\nWill train until validation_0-rmse hasn't improved in 100 rounds.\n[1]\tvalidation_0-rmse:0.61577\n[2]\tvalidation_0-rmse:0.72621\n[3]\tvalidation_0-rmse:0.67249\n[4]\tvalidation_0-rmse:0.77221\n[5]\tvalidation_0-rmse:0.77183\n[6]\tvalidation_0-rmse:0.65894\n[7]\tvalidation_0-rmse:0.54117\n[8]\tvalidation_0-rmse:0.45308\n[9]\tvalidation_0-rmse:0.53968\n[00:27:57] WARNING: /Users/travis/build/dmlc/xgboost/src/objective/regression_obj.cu:174: reg:linear is now deprecated in favor of reg:squarederror.\n"
    }
   ],
   "source": [
    "\n",
    "\n",
    "# 划分数据集\n",
    "X_train, X_test, y_train, y_test = train_test_split(X, y, test_size=0.01, random_state=1729)\n",
    "print(X_train.shape, X_test.shape)\n",
    " \n",
    "#模型参数设置\n",
    "xlf = xgb.XGBRegressor(max_depth=10, \n",
    "                        learning_rate=0.1, \n",
    "                        n_estimators=10, \n",
    "                        silent=True, \n",
    "                        objective='reg:linear', \n",
    "                        nthread=-1, \n",
    "                        gamma=0,\n",
    "                        min_child_weight=1, \n",
    "                        max_delta_step=0, \n",
    "                        subsample=0.85, \n",
    "                        colsample_bytree=0.7, \n",
    "                        colsample_bylevel=1, \n",
    "                        reg_alpha=0, \n",
    "                        reg_lambda=1, \n",
    "                        scale_pos_weight=1, \n",
    "                        seed=1440, \n",
    "                        missing=None)\n",
    " \n",
    "xlf.fit(X_train, y_train, eval_metric='rmse', verbose = True, eval_set = [(X_test, y_test)],early_stopping_rounds=100)\n",
    " \n",
    "# 计算 auc 分数、预测\n",
    "preds = xlf.predict(X_test)"
   ]
  },
  {
   "cell_type": "code",
   "execution_count": 8,
   "metadata": {},
   "outputs": [
    {
     "output_type": "execute_result",
     "data": {
      "text/plain": "array([0.2719615], dtype=float32)"
     },
     "metadata": {},
     "execution_count": 8
    }
   ],
   "source": [
    "preds"
   ]
  },
  {
   "cell_type": "code",
   "execution_count": 9,
   "metadata": {},
   "outputs": [
    {
     "output_type": "execute_result",
     "data": {
      "text/plain": "array([[ 0.3033407 , -0.56912175, -0.80269025, -0.88399358,  1.34305497,\n        -0.86049372, -0.35908394, -0.58837181,  0.6967443 , -0.30764101]])"
     },
     "metadata": {},
     "execution_count": 9
    }
   ],
   "source": [
    "X_test"
   ]
  },
  {
   "cell_type": "code",
   "execution_count": null,
   "metadata": {},
   "outputs": [],
   "source": []
  }
 ],
 "metadata": {
  "language_info": {
   "codemirror_mode": {
    "name": "ipython",
    "version": 3
   },
   "file_extension": ".py",
   "mimetype": "text/x-python",
   "name": "python",
   "nbconvert_exporter": "python",
   "pygments_lexer": "ipython3",
   "version": "3.8.5-final"
  },
  "orig_nbformat": 2,
  "kernelspec": {
   "name": "python_defaultSpec_1599408779490",
   "display_name": "Python 3.8.5 64-bit ('deepintorch': conda)"
  }
 },
 "nbformat": 4,
 "nbformat_minor": 2
}