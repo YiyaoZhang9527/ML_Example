{
 "nbformat": 4,
 "nbformat_minor": 2,
 "metadata": {
  "language_info": {
   "name": "python",
   "codemirror_mode": {
    "name": "ipython",
    "version": 3
   },
   "version": "3.7.3-final"
  },
  "orig_nbformat": 2,
  "file_extension": ".py",
  "mimetype": "text/x-python",
  "name": "python",
  "npconvert_exporter": "python",
  "pygments_lexer": "ipython3",
  "version": 3,
  "kernelspec": {
   "name": "pycharm-66c53067",
   "display_name": "PyCharm (InferenceSystem)"
  }
 },
 "cells": [
  {
   "cell_type": "code",
   "execution_count": 188,
   "metadata": {},
   "outputs": [],
   "source": [
    "import time\n",
    "from lxml import etree\n",
    "from requests import get\n",
    "import re\n",
    "import pandas as pd\n",
    "import numpy as np\n",
    "from random import randint\n",
    "from tqdm import tqdm\n",
    "pd.set_option('display.max_rows', 10000)  # 显示的最大行数（避免只显示部分行数据）\n",
    "pd.set_option('display.max_columns', 1000)  # 显示的最大列数（避免列显示不全）\n",
    "pd.set_option(\"display.max_colwidth\", 1000)  # 每一列最大的宽度（避免属性值或列名显示不全）\n",
    "pd.set_option('display.width', 1000)  # 每一行的宽度（避免换行）\n",
    "from os import getcwd\n",
    "from selenium import webdriver\n",
    "from selenium.webdriver.chrome.options import Options\n",
    "from sys import platform\n",
    "import random\n",
    "\n",
    "import io\n",
    "import base64\n",
    "from io import BytesIO\n",
    "from fontTools.ttLib import TTFont\n",
    "from requests import get\n",
    "import re"
   ]
  },
  {
   "cell_type": "code",
   "execution_count": 189,
   "metadata": {},
   "outputs": [],
   "source": [
    "RequestSrcParameters = 'params = None, data = None, headers = headers, cookies = None, files = None,auth = None, timeout = None, allow_redirects = True, proxies = None,hooks = None, stream = None, verify = None, cert = None, json = None'\n",
    "Headers_Title = 'User-Agent'\n",
    "User_Agent_list = [\n",
    "    \"Mozilla/5.0 (Windows NT 6.3; WOW64) AppleWebKit/537.36 (KHTML, like Gecko) Chrome/39.0.2171.95 Safari/537.36\"\n",
    "    ,\n",
    "    \"Mozilla/5.0 (Macintosh; Intel Mac OS X 10_9_2) AppleWebKit/537.36 (KHTML, like Gecko) Chrome/35.0.1916.153 Safari/537.36\"\n",
    "    , \"Mozilla/5.0 (Windows NT 6.1; WOW64; rv:30.0) Gecko/20100101 Firefox/30.0\"\n",
    "    ,\n",
    "    \"Mozilla/5.0 (Macintosh; Intel Mac OS X 10_9_2) AppleWebKit/537.75.14 (KHTML, like Gecko) Version/7.0.3 Safari/537.75.14\"\n",
    "    , \"Mozilla/5.0 (compatible; MSIE 10.0; Windows NT 6.2; Win64; x64; Trident/6.0)\"\n",
    "    , 'Mozilla/5.0 (Windows; U; Windows NT 5.1; it; rv:1.8.1.11) Gecko/20071127 Firefox/2.0.0.11'\n",
    "    , 'Opera/9.25 (Windows NT 5.1; U; en)'\n",
    "    , 'Mozilla/4.0 (compatible; MSIE 6.0; Windows NT 5.1; SV1; .NET CLR 1.1.4322; .NET CLR 2.0.50727)'\n",
    "    , 'Mozilla/5.0 (compatible; Konqueror/3.5; Linux) KHTML/3.5.5 (like Gecko) (Kubuntu)'\n",
    "    ,\n",
    "    'Mozilla/5.0 (X11; U; Linux i686; en-US; rv:1.8.0.12) Gecko/20070731 Ubuntu/dapper-security Firefox/1.5.0.12'\n",
    "    , 'Lynx/2.8.5rel.1 libwww-FM/2.14 SSL-MM/1.4.1 GNUTLS/1.2.9'\n",
    "    ,\n",
    "    \"Mozilla/5.0 (X11; Linux i686) AppleWebKit/535.7 (KHTML, like Gecko) Ubuntu/11.04 Chromium/16.0.912.77 Chrome/16.0.912.77 Safari/535.7\"\n",
    "    , \"Mozilla/5.0 (X11; Ubuntu; Linux i686; rv:10.0) Gecko/20100101 Firefox/10.0 \"\n",
    "    ,\n",
    "    \"headers = {'user-agent':'Mozilla/5.0 (Macintosh; Intel Mac OS X 10_15_1) AppleWebKit/537.36 (KHTML, like Gecko) Chrome/78.0.3904.97 Safari/537.36'}\"\n",
    "    , 'MSIE (MSIE 6.0; X11; Linux; i686) Opera 7.23'\n",
    "    , 'Opera/9.20 (Macintosh; Intel Mac OS X; U; en)'\n",
    "    , 'Opera/9.0 (Macintosh; PPC Mac OS X; U; en)'\n",
    "    , 'iTunes/9.0.3 (Macintosh; U; Intel Mac OS X 10_6_2; en-ca)'\n",
    "    , 'Mozilla/4.76 [en_jp] (X11; U; SunOS 5.8 sun4u)'\n",
    "    , 'iTunes/4.2 (Macintosh; U; PPC Mac OS X 10.2)'\n",
    "    , 'Mozilla/5.0 (Macintosh; Intel Mac OS X 10.6; rv:5.0) Gecko/20100101 Firefox/5.0'\n",
    "    , 'Mozilla/5.0 (Macintosh; Intel Mac OS X 10.6; rv:9.0) Gecko/20100101 Firefox/9.0'\n",
    "    , 'Mozilla/5.0 (Macintosh; Intel Mac OS X 10.8; rv:16.0) Gecko/20120813 Firefox/16.0'\n",
    "    , 'Mozilla/4.77 [en] (X11; I; IRIX;64 6.5 IP30)'\n",
    "    , 'Mozilla/4.8 [en] (X11; U; SunOS; 5.7 sun4u)'\n",
    "    , 'Mozilla/5.0 (Windows NT 6.1; WOW64) AppleWebKit/537.36 (KHTML, like Gecko) '\n",
    "      'Chrome/49.0.2623.112 Safari/537.36']\n",
    "def Headers():\n",
    "    headerslist = [{k: v} for k, v in zip(((Headers_Title + '|') * len(User_Agent_list)).split('|')[:-1], User_Agent_list)]\n",
    "    return headerslist[random.randint(0, len(headerslist) - 1)]\n",
    "\n",
    "Headers = Headers()"
   ]
  },
  {
   "cell_type": "code",
   "execution_count": 199,
   "metadata": {},
   "outputs": [
    {
     "output_type": "execute_result",
     "data": {
      "text/plain": "{'User-Agent': 'Mozilla/5.0 (Macintosh; Intel Mac OS X 10.8; rv:16.0) Gecko/20120813 Firefox/16.0'}"
     },
     "metadata": {},
     "execution_count": 199
    }
   ],
   "source": [
    "Headers"
   ]
  },
  {
   "cell_type": "code",
   "execution_count": 190,
   "metadata": {},
   "outputs": [],
   "source": [
    "def DecodeReponse58ZuFang(url):\n",
    "    '''\n",
    "    这里是采用requests请求的的解密部分，传入url即可使用\n",
    "    :param url:\n",
    "    :return: ->返回网页的html字符串\n",
    "    '''\n",
    "    headers = Headers\n",
    "    proxies = {'https': '149.129.40.182:443', 'http': '149.129.40.182:443'}\n",
    "    reponse = get(\n",
    "        url\n",
    "        , headers=headers\n",
    "        , timeout=10\n",
    "        , allow_redirects=False\n",
    "        , proxies=None\n",
    "        , verify=False)\n",
    "    print(reponse.request.headers)\n",
    "    print(reponse.cookies)\n",
    "    print(reponse.content)\n",
    "    html_str = reponse.text\n",
    "    bs64_str = re.findall(\"charset=utf-8;base64,(.*?)'\\)\", html_str)[0]\n",
    "    print(bs64_str)\n",
    "    return get_page_show_ret(html_str, bs64_str)"
   ]
  },
  {
   "cell_type": "code",
   "execution_count": 191,
   "metadata": {},
   "outputs": [],
   "source": [
    "'''循环解密'''\n",
    "def get_page_show_ret(mystr, bs64_str):\n",
    "    '''\n",
    "    :param mystr: 要转码的字符串\n",
    "    :param bs64_str:  转码格式\n",
    "    :return: 转码后的字符串\n",
    "    '''\n",
    "    font = TTFont(BytesIO(base64.decodebytes(bs64_str.encode())))\n",
    "    c = font['cmap'].tables[0].ttFont.tables['cmap'].tables[0].cmap\n",
    "    ret_list = []\n",
    "    for char in mystr:\n",
    "        decode_num = ord(char)\n",
    "        if decode_num in c:\n",
    "            num = c[decode_num]\n",
    "            num = int(num[-2:]) - 1\n",
    "            ret_list.append(num)\n",
    "        else:\n",
    "            ret_list.append(char)\n",
    "    ret_str_show = ''\n",
    "    for num in ret_list:\n",
    "        ret_str_show += str(num)\n",
    "    return ret_str_show"
   ]
  },
  {
   "cell_type": "code",
   "execution_count": 192,
   "metadata": {},
   "outputs": [],
   "source": [
    "class ChromeModulLogic:\n",
    "\n",
    "    def __init__(self, url):\n",
    "        self.url = url\n",
    "\n",
    "    macpath = 'datamagic' in str(\n",
    "        getcwd()) and \"/Users/datamagic_macbook12/Downloads/chromedriver\" or \"/Users/manmanzhang/Downloads/chromedriver-3\"\n",
    "    chrome_path = \"/Users/manmanzhang/Downloads/chromedriver-3\", macpath\n",
    "\n",
    "    # 获得html\n",
    "    def ParseHTMLFromChrome(self, url):\n",
    "        try:\n",
    "            chrome_opt = Options()\n",
    "            chrome_opt.add_argument('--no-sandbox')  # 解决DevToolsActivePort文件不存在的报错\n",
    "            chrome_opt.add_argument('--headless')  # 无界面化.\n",
    "            chrome_opt.add_argument('--disable-gpu')  # 配合上面的无界面化.\n",
    "            chrome_opt.add_argument('--window-size=1366,768')  # 设置窗口大小, 窗口大小会有影响.\n",
    "            # chrome_opt.add_argument('--hide-scrollbars')  # 隐藏滚动条, 应对一些特殊页面\n",
    "            chrome_opt.add_argument('blink-settings=imagesEnabled=false')  # 不加载图片, 提升速度\n",
    "            chrome_opt.add_argument('--headless')  # 浏览器不提供可视化页面. linux下如果系统不支持可视化不加这条会启动失败\n",
    "            driver = webdriver.Chrome(options=chrome_opt,\n",
    "                                      executable_path=platform == \"darwin\" and self.chrome_path[-1] or self.chrome_path[\n",
    "                                          0])\n",
    "            driver.get(url)\n",
    "            time.sleep(2)\n",
    "            html_of_data = driver.page_source\n",
    "            print('chrome is usefull')\n",
    "            driver.quit()\n",
    "            return html_of_data\n",
    "        except Exception as Error:\n",
    "            print(Error)"
   ]
  },
  {
   "cell_type": "code",
   "execution_count": 193,
   "metadata": {},
   "outputs": [],
   "source": [
    "def DeCodeAnjukeAndCity58UseChromeLogic(url):\n",
    "    html_str = ParseHTMLFromChrome(url)\n",
    "    print(html_str)\n",
    "    bs64_str = re.findall(\"charset=utf-8;base64,(.*?)'\\)\", html_str)[0]\n",
    "    return get_page_show_ret(html_str,bs64_str)"
   ]
  },
  {
   "cell_type": "code",
   "execution_count": 194,
   "metadata": {},
   "outputs": [],
   "source": [
    "TitleXpath = '/html/body//li/div[2]/h2/a[1]/text()'\n",
    "LinkXpath = '/html/body//h2/a'\n",
    "AddressXpath = '/html/body//li/div[2]/p[2]/a[1]/text()'\n",
    "HousingTypesXpath = '/html/body//li/div[2]/p[2]/a[2]/text()'\n",
    "PriceXpath = '/html/body//ul/li/div[2]/p[1]/text()'\n",
    "MoneyXpath = '/html/body//li/div[3]/div[2]/b/text()'\n",
    "SourceXpath = '/html/body//li//span/span[1]/text()'\n",
    "OtherXpath = '/html/body//ul/li/div[2]/p[2]/text()'"
   ]
  },
  {
   "cell_type": "code",
   "execution_count": 195,
   "metadata": {},
   "outputs": [],
   "source": [
    "def UrlsFirst(endindex_):\n",
    "    '''\n",
    "    创造一个url的生成器\n",
    "    :param endindex_: -> 这个是最大的翻页次数\n",
    "    :return: -> 函数返回为list结构，需要遍历使用\n",
    "    '''\n",
    "    return ['https://hf.58.com/chuzu/pn{}'.format(number) + '/' for number in range(1, endindex_)]\n",
    ""
   ]
  },
  {
   "cell_type": "code",
   "execution_count": 196,
   "metadata": {},
   "outputs": [
    {
     "output_type": "execute_result",
     "data": {
      "text/plain": "'https://hf.58.com/chuzu/pn1/'"
     },
     "metadata": {},
     "execution_count": 196
    }
   ],
   "source": [
    "url=UrlsFirst(2)[0]\n",
    "url"
   ]
  },
  {
   "cell_type": "code",
   "execution_count": 198,
   "metadata": {
    "tags": [
     "outputPrepend"
    ]
   },
   "outputs": [
    {
     "output_type": "stream",
     "name": "stdout",
     "text": "name 'self' is not defined\nNone\n"
    },
    {
     "output_type": "error",
     "ename": "TypeError",
     "evalue": "expected string or bytes-like object",
     "traceback": [
      "\u001b[0;31m---------------------------------------------------------------------------\u001b[0m",
      "\u001b[0;31mTypeError\u001b[0m                                 Traceback (most recent call last)",
      "\u001b[0;32m<ipython-input-198-37887222218e>\u001b[0m in \u001b[0;36m<module>\u001b[0;34m\u001b[0m\n\u001b[0;32m----> 1\u001b[0;31m \u001b[0mHtml\u001b[0m\u001b[0;34m=\u001b[0m \u001b[0mDeCodeAnjukeAndCity58UseChromeLogic\u001b[0m\u001b[0;34m(\u001b[0m\u001b[0murl\u001b[0m\u001b[0;34m)\u001b[0m\u001b[0;34m\u001b[0m\u001b[0;34m\u001b[0m\u001b[0m\n\u001b[0m\u001b[1;32m      2\u001b[0m \u001b[0;34m'''requests爬取并解密'''\u001b[0m\u001b[0;34m\u001b[0m\u001b[0;34m\u001b[0m\u001b[0m\n\u001b[1;32m      3\u001b[0m             \u001b[0;31m#Html = self.DecodeReponse58ZuFang(url)\u001b[0m\u001b[0;34m\u001b[0m\u001b[0;34m\u001b[0m\u001b[0;34m\u001b[0m\u001b[0m\n\u001b[1;32m      4\u001b[0m \u001b[0mtree\u001b[0m \u001b[0;34m=\u001b[0m \u001b[0metree\u001b[0m\u001b[0;34m.\u001b[0m\u001b[0mHTML\u001b[0m\u001b[0;34m(\u001b[0m\u001b[0mHtml\u001b[0m\u001b[0;34m)\u001b[0m\u001b[0;34m\u001b[0m\u001b[0;34m\u001b[0m\u001b[0m\n\u001b[1;32m      5\u001b[0m \u001b[0;34m\u001b[0m\u001b[0m\n",
      "\u001b[0;32m<ipython-input-193-0cb37704ac5f>\u001b[0m in \u001b[0;36mDeCodeAnjukeAndCity58UseChromeLogic\u001b[0;34m(url)\u001b[0m\n\u001b[1;32m      2\u001b[0m     \u001b[0mhtml_str\u001b[0m \u001b[0;34m=\u001b[0m \u001b[0mParseHTMLFromChrome\u001b[0m\u001b[0;34m(\u001b[0m\u001b[0murl\u001b[0m\u001b[0;34m)\u001b[0m\u001b[0;34m\u001b[0m\u001b[0;34m\u001b[0m\u001b[0m\n\u001b[1;32m      3\u001b[0m     \u001b[0mprint\u001b[0m\u001b[0;34m(\u001b[0m\u001b[0mhtml_str\u001b[0m\u001b[0;34m)\u001b[0m\u001b[0;34m\u001b[0m\u001b[0;34m\u001b[0m\u001b[0m\n\u001b[0;32m----> 4\u001b[0;31m     \u001b[0mbs64_str\u001b[0m \u001b[0;34m=\u001b[0m \u001b[0mre\u001b[0m\u001b[0;34m.\u001b[0m\u001b[0mfindall\u001b[0m\u001b[0;34m(\u001b[0m\u001b[0;34m\"charset=utf-8;base64,(.*?)'\\)\"\u001b[0m\u001b[0;34m,\u001b[0m \u001b[0mhtml_str\u001b[0m\u001b[0;34m)\u001b[0m\u001b[0;34m[\u001b[0m\u001b[0;36m0\u001b[0m\u001b[0;34m]\u001b[0m\u001b[0;34m\u001b[0m\u001b[0;34m\u001b[0m\u001b[0m\n\u001b[0m\u001b[1;32m      5\u001b[0m     \u001b[0;32mreturn\u001b[0m \u001b[0mget_page_show_ret\u001b[0m\u001b[0;34m(\u001b[0m\u001b[0mhtml_str\u001b[0m\u001b[0;34m,\u001b[0m\u001b[0mbs64_str\u001b[0m\u001b[0;34m)\u001b[0m\u001b[0;34m\u001b[0m\u001b[0;34m\u001b[0m\u001b[0m\n",
      "\u001b[0;32m/usr/local/Cellar/python/3.7.6_1/Frameworks/Python.framework/Versions/3.7/lib/python3.7/re.py\u001b[0m in \u001b[0;36mfindall\u001b[0;34m(pattern, string, flags)\u001b[0m\n\u001b[1;32m    221\u001b[0m \u001b[0;34m\u001b[0m\u001b[0m\n\u001b[1;32m    222\u001b[0m     Empty matches are included in the result.\"\"\"\n\u001b[0;32m--> 223\u001b[0;31m     \u001b[0;32mreturn\u001b[0m \u001b[0m_compile\u001b[0m\u001b[0;34m(\u001b[0m\u001b[0mpattern\u001b[0m\u001b[0;34m,\u001b[0m \u001b[0mflags\u001b[0m\u001b[0;34m)\u001b[0m\u001b[0;34m.\u001b[0m\u001b[0mfindall\u001b[0m\u001b[0;34m(\u001b[0m\u001b[0mstring\u001b[0m\u001b[0;34m)\u001b[0m\u001b[0;34m\u001b[0m\u001b[0;34m\u001b[0m\u001b[0m\n\u001b[0m\u001b[1;32m    224\u001b[0m \u001b[0;34m\u001b[0m\u001b[0m\n\u001b[1;32m    225\u001b[0m \u001b[0;32mdef\u001b[0m \u001b[0mfinditer\u001b[0m\u001b[0;34m(\u001b[0m\u001b[0mpattern\u001b[0m\u001b[0;34m,\u001b[0m \u001b[0mstring\u001b[0m\u001b[0;34m,\u001b[0m \u001b[0mflags\u001b[0m\u001b[0;34m=\u001b[0m\u001b[0;36m0\u001b[0m\u001b[0;34m)\u001b[0m\u001b[0;34m:\u001b[0m\u001b[0;34m\u001b[0m\u001b[0;34m\u001b[0m\u001b[0m\n",
      "\u001b[0;31mTypeError\u001b[0m: expected string or bytes-like object"
     ]
    }
   ],
   "source": [
    "Html= DeCodeAnjukeAndCity58UseChromeLogic(url)\n",
    "'''requests爬取并解密'''\n",
    "            #Html = self.DecodeReponse58ZuFang(url)\n",
    "tree = etree.HTML(Html)\n",
    "\n",
    "'''数据摘取代码'''\n",
    "dataset = [[url,Title.split('|')[0]\n",
    ", ''.join(Title.split('|')[1:])\n",
    ", Link.xpath('@href')[0]\n",
    ", Address\n",
    ", HousingTypes\n",
    ", Price\n",
    ", Money\n",
    ", Source\n",
    ", Other\n",
    ", time.strftime(\"%Y-%m-%d %H:%M:%S\", time.localtime())]\n",
    "for Title, Link, Address, HousingTypes, Price, Money, Source, Other in\n",
    "zip(\n",
    "    tree.xpath(TitleXpath)\n",
    "    , tree.xpath(LinkXpath)\n",
    "    , tree.xpath(AddressXpath)\n",
    "    , tree.xpath(HousingTypesXpath)\n",
    "    , tree.xpath(PriceXpath)\n",
    "    , tree.xpath(MoneyXpath)\n",
    "    , tree.xpath(SourceXpath)\n",
    "    , tree.xpath(OtherXpath))]\n",
    "dataset"
   ]
  },
  {
   "cell_type": "code",
   "execution_count": null,
   "metadata": {},
   "outputs": [],
   "source": []
  }
 ]
}