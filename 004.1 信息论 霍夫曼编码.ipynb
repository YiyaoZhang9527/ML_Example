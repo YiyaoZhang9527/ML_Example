{
 "cells": [
  {
   "cell_type": "code",
   "execution_count": 63,
   "metadata": {},
   "outputs": [],
   "source": [
    "import numpy as np"
   ]
  },
  {
   "cell_type": "code",
   "execution_count": 64,
   "metadata": {},
   "outputs": [],
   "source": [
    "data = np.array([\n",
    "        [\"病人\",\"头疼\",\"肌肉疼\",\"体温\",\"流感\"]\n",
    "        ,[\"e1\",'是', '是', '正常', '否']\n",
    "        ,[\"e2\",'是', '是', '高', '是']\n",
    "        ,[\"e3\",'是', '是', '很高', '是']\n",
    "        ,[\"e4\",'否', '是', '正常', '否']\n",
    "        ,[\"e5\",'否', '否', '高', '否']\n",
    "        ,[\"e6\",'否', '是', '很高', '是']])"
   ]
  },
  {
   "cell_type": "markdown",
   "metadata": {},
   "source": [
    "# 二进制编码机"
   ]
  },
  {
   "cell_type": "code",
   "execution_count": 65,
   "metadata": {
    "tags": []
   },
   "outputs": [],
   "source": [
    "def binarycoder(quotient):\n",
    "    result = []\n",
    "    while quotient > 0:  \n",
    "        quotient,remainder=divmod(quotient,2)\n",
    "        result.append(remainder)\n",
    "    return result[::-1]"
   ]
  },
  {
   "cell_type": "markdown",
   "metadata": {},
   "source": [
    "# 二进制编码范围"
   ]
  },
  {
   "cell_type": "code",
   "execution_count": 66,
   "metadata": {},
   "outputs": [],
   "source": [
    "def binary_range(n):\n",
    "    max_index = n - 1\n",
    "    max_lenght = len(binarycoder(max_index))\n",
    "    return [[0]*(max_lenght - len(binarycoder(i)))+binarycoder(i) for i in range(n)]"
   ]
  },
  {
   "cell_type": "markdown",
   "metadata": {},
   "source": [
    "# 频率排序"
   ]
  },
  {
   "cell_type": "code",
   "execution_count": 67,
   "metadata": {},
   "outputs": [
    {
     "output_type": "execute_result",
     "data": {
      "text/plain": "array([['是', '11.0'],\n       ['否', '7.0'],\n       ['很高', '2.0'],\n       ['正常', '2.0'],\n       ['高', '2.0'],\n       ['e1', '1.0'],\n       ['e2', '1.0'],\n       ['e3', '1.0'],\n       ['e4', '1.0'],\n       ['e5', '1.0'],\n       ['e6', '1.0'],\n       ['体温', '1.0'],\n       ['头疼', '1.0'],\n       ['流感', '1.0'],\n       ['病人', '1.0'],\n       ['肌肉疼', '1.0']], dtype='<U4')"
     },
     "metadata": {},
     "execution_count": 67
    }
   ],
   "source": [
    "def prob(info):\n",
    "    dim_one = np.ravel(info) \n",
    "    distion = np.unique(dim_one)\n",
    "    m = dim_one.shape[0]\n",
    "    prob_dict = {d:(dim_one==d).dot(np.ones(m)) for d in  distion}\n",
    "    return np.array(sorted(prob_dict.items(),key=lambda x:x[1],reverse=True))\n",
    "prob(data)"
   ]
  },
  {
   "cell_type": "code",
   "execution_count": 68,
   "metadata": {},
   "outputs": [
    {
     "output_type": "execute_result",
     "data": {
      "text/plain": "{'是': '0b0000',\n '否': '0b0001',\n '很高': '0b0010',\n '正常': '0b0011',\n '高': '0b0100',\n 'e1': '0b0101',\n 'e2': '0b0110',\n 'e3': '0b0111',\n 'e4': '0b1000',\n 'e5': '0b1001',\n 'e6': '0b1010',\n '体温': '0b1011',\n '头疼': '0b1100',\n '流感': '0b1101',\n '病人': '0b1110',\n '肌肉疼': '0b1111'}"
     },
     "metadata": {},
     "execution_count": 68
    }
   ],
   "source": [
    "def binary_dict(info):\n",
    "    elements = (prob(info)[:,0])\n",
    "    m = elements.shape[0]\n",
    "    return {j:\"{}{}\".format(\"0b\",\"\".join(list(map(lambda x:str(x) ,i)))) for i,j in zip(binary_range(m),elements)}\n",
    "binary_dict(data)"
   ]
  },
  {
   "cell_type": "markdown",
   "metadata": {},
   "source": [
    "# 编码"
   ]
  },
  {
   "cell_type": "code",
   "execution_count": 69,
   "metadata": {
    "tags": []
   },
   "outputs": [
    {
     "output_type": "execute_result",
     "data": {
      "text/plain": "array([['0b1110', '0b1100', '0b1111', '0b1011', '0b1101'],\n       ['0b0101', '0b0000', '0b0000', '0b0011', '0b0001'],\n       ['0b0110', '0b0000', '0b0000', '0b0100', '0b0000'],\n       ['0b0111', '0b0000', '0b0000', '0b0010', '0b0000'],\n       ['0b1000', '0b0001', '0b0000', '0b0011', '0b0001'],\n       ['0b1001', '0b0001', '0b0001', '0b0100', '0b0001'],\n       ['0b1010', '0b0001', '0b0000', '0b0010', '0b0000']], dtype='<U32')"
     },
     "metadata": {},
     "execution_count": 69
    }
   ],
   "source": [
    "def huffman_encoder(info,dim=2):\n",
    "    m,n = info.shape\n",
    "    zero = np.zeros((m,n)).astype(str)\n",
    "    dict_binary = binary_dict(info)\n",
    "    for d,v in dict_binary.items():\n",
    "        bool_ = (info == d)\n",
    "        zero[bool_] = v\n",
    "    if dim == 1:\n",
    "        return np.ravel(zero)\n",
    "    return zero\n",
    "huffman_encoder(data)"
   ]
  },
  {
   "cell_type": "markdown",
   "metadata": {},
   "source": [
    "# 解码"
   ]
  },
  {
   "cell_type": "code",
   "execution_count": 70,
   "metadata": {
    "tags": []
   },
   "outputs": [
    {
     "output_type": "execute_result",
     "data": {
      "text/plain": "array([['病人', '头疼', '肌肉疼', '体温', '流感'],\n       ['e1', '是', '是', '正常', '否'],\n       ['e2', '是', '是', '高', '是'],\n       ['e3', '是', '是', '很高', '是'],\n       ['e4', '否', '是', '正常', '否'],\n       ['e5', '否', '否', '高', '否'],\n       ['e6', '否', '是', '很高', '是']], dtype='<U3')"
     },
     "metadata": {},
     "execution_count": 70
    }
   ],
   "source": [
    "def huffman_decoder(binary,dim=None,dict_binary = {j:i for i,j in binary_dict(data).items()}):\n",
    "    m , n = binary.shape\n",
    "    res = np.array([dict_binary[i] for i in np.ravel(binary)])\n",
    "    if dim == 1:\n",
    "        return res\n",
    "    return res.reshape(m,n)\n",
    "huffman_decoder(huffman_encoder(data),2)"
   ]
  },
  {
   "cell_type": "code",
   "execution_count": 71,
   "metadata": {},
   "outputs": [
    {
     "output_type": "execute_result",
     "data": {
      "text/plain": "array([['病人', '头疼', '肌肉疼', '体温', '流感'],\n       ['e1', '是', '是', '正常', '否'],\n       ['e2', '是', '是', '高', '是'],\n       ['e3', '是', '是', '很高', '是'],\n       ['e4', '否', '是', '正常', '否'],\n       ['e5', '否', '否', '高', '否'],\n       ['e6', '否', '是', '很高', '是']], dtype='<U3')"
     },
     "metadata": {},
     "execution_count": 71
    }
   ],
   "source": [
    "huffman_decoder(huffman_encoder(data),2)"
   ]
  },
  {
   "cell_type": "code",
   "execution_count": 72,
   "metadata": {
    "tags": []
   },
   "outputs": [
    {
     "output_type": "execute_result",
     "data": {
      "text/plain": "(array([['0b1110', '0b1100', '0b1111', '0b1011', '0b1101'],\n        ['0b0101', '0b0000', '0b0000', '0b0011', '0b0001'],\n        ['0b0110', '0b0000', '0b0000', '0b0100', '0b0000'],\n        ['0b0111', '0b0000', '0b0000', '0b0010', '0b0000'],\n        ['0b1000', '0b0001', '0b0000', '0b0011', '0b0001'],\n        ['0b1001', '0b0001', '0b0001', '0b0100', '0b0001'],\n        ['0b1010', '0b0001', '0b0000', '0b0010', '0b0000']], dtype='<U32'),\n array([['病人', '头疼', '肌肉疼', '体温', '流感'],\n        ['e1', '是', '是', '正常', '否'],\n        ['e2', '是', '是', '高', '是'],\n        ['e3', '是', '是', '很高', '是'],\n        ['e4', '否', '是', '正常', '否'],\n        ['e5', '否', '否', '高', '否'],\n        ['e6', '否', '是', '很高', '是']], dtype='<U3'))"
     },
     "metadata": {},
     "execution_count": 72
    }
   ],
   "source": [
    "class huffman:\n",
    "\n",
    "    def __init__(self,arr=np.zeros((4,4))):\n",
    "        self.m,self.n = arr.shape\n",
    "        self.info = arr\n",
    "        self.mn = len(arr.shape)\n",
    "        self.dict_binary_encode = binary_dict(arr)\n",
    "        self.dict_binary_decode = {j:i for i,j in self.dict_binary_encode.items()}\n",
    "        \n",
    "\n",
    "    def binarycoder(self,quotient):\n",
    "        result = []\n",
    "        while quotient > 0:  \n",
    "            quotient,remainder=divmod(quotient,2)\n",
    "            result.append(remainder)\n",
    "        return result[::-1]\n",
    "    \n",
    "    def binary_range(self,n):\n",
    "        max_index = n - 1\n",
    "        max_lenght = len(binarycoder(max_index))\n",
    "        return [[0]*(max_lenght - len(binarycoder(i)))+binarycoder(i) for i in range(n)]\n",
    "    \n",
    "    def prob(self,info):\n",
    "        dim_one = np.ravel(info) \n",
    "        distion = np.unique(dim_one)\n",
    "        m = dim_one.shape[0]\n",
    "        prob_dict = {d:(dim_one==d).dot(np.ones(m)) for d in  distion}\n",
    "        return np.array(sorted(prob_dict.items(),key=lambda x:x[1],reverse=True))\n",
    "    \n",
    "    def binary_dict(self,info):\n",
    "        elements = (prob(info)[:,0])\n",
    "        m = elements.shape[0]\n",
    "        return {j:\"{}{}\".format(\"0b\",\"\".join(list(map(lambda x:str(x) ,i)))) for i,j in zip(binary_range(m),elements)}\n",
    "\n",
    "    def huffman_encoder(self,dim = None):\n",
    "        zero = np.zeros((self.m,self.n)).astype(str)\n",
    "        for d,v in self.dict_binary_encode.items():\n",
    "            bool_ = (self.info == d)\n",
    "            zero[bool_] = v\n",
    "        if dim == 1:\n",
    "            return np.ravel(zero)\n",
    "        return zero\n",
    "\n",
    "    def huffman_decoder(self,binary=None,dim=None):\n",
    "        if binary == None:\n",
    "            binary = self.huffman_encoder()\n",
    "            m , n = binary.shape\n",
    "            res = np.array([self.dict_binary_decode[i] for i in np.ravel(binary)])\n",
    "            if dim == 1:\n",
    "                return res\n",
    "            return res.reshape(m,n)\n",
    "\n",
    "    def __del__(self):\n",
    "        print('test')\n",
    "\n",
    "\n",
    "#\n",
    "huffman_encoder(data)\n",
    "h = huffman(data)\n",
    "h.m\n",
    "h.info\n",
    "h.binary_range(64)\n",
    "h.huffman_encoder(),h.huffman_decoder()"
   ]
  },
  {
   "cell_type": "code",
   "execution_count": 73,
   "metadata": {},
   "outputs": [],
   "source": [
    "import re\n",
    "page = \"\".join(\"\"\"条件判断语句是程序的重要组成部分，也是系统业务逻辑的控制手段。重要程度和使用频率更是首屈一指，那我们要如何选择 if 还是 switch 呢？他们的性能差别有多大？switch 性能背后的秘密是什么？接下来让我们一起来寻找这些问题的答案\"\"\")\n"
   ]
  },
  {
   "cell_type": "code",
   "execution_count": 74,
   "metadata": {},
   "outputs": [],
   "source": [
    "data = np.array([i for i in page.replace(' ','')])"
   ]
  },
  {
   "cell_type": "code",
   "execution_count": 77,
   "metadata": {},
   "outputs": [
    {
     "output_type": "execute_result",
     "data": {
      "text/plain": "array(['0b0111011', '0b0011100', '0b0100000', '0b0111000', '0b1000111',\n       '0b0100100', '0b0000000', '0b0001111', '0b0101111', '0b0000001',\n       '0b0010001', '0b0000100', '0b1000011', '0b0110001', '0b1001111',\n       '0b0011111', '0b0010010', '0b0011000', '0b0000000', '0b1000010',\n       '0b1000100', '0b0010110', '0b0100011', '0b1001101', '0b1001001',\n       '0b0000001', '0b0110111', '0b0100010', '0b0110010', '0b0111101',\n       '0b0010100', '0b0010001', '0b0000100', '0b0001111', '0b0110000',\n       '0b0100111', '0b0011110', '0b0111111', '0b1010001', '0b0111110',\n       '0b0111001', '0b0000000', '0b1010011', '0b0101101', '0b0001011',\n       '0b0110101', '0b0010010', '0b1001110', '0b0001101', '0b0000011',\n       '0b0000100', '0b0101010', '0b0011101', '0b1001100', '0b0110100',\n       '0b0000010', '0b0010011', '0b1001010', '0b0000000', '0b0001000',\n       '0b0001010', '0b0000010', '0b0001001', '0b0000110', '0b0000111',\n       '0b0100110', '0b0000101', '0b0011011', '0b0000011', '0b0000001',\n       '0b0001100', '0b0010000', '0b0101110', '0b0100001', '0b0111010',\n       '0b0101000', '0b0101001', '0b0000101', '0b0001000', '0b0001010',\n       '0b0000010', '0b0001001', '0b0000110', '0b0000111', '0b0001100',\n       '0b0010000', '0b1000101', '0b0100101', '0b0000001', '0b1000000',\n       '0b0101011', '0b0000000', '0b0011010', '0b0010111', '0b0000101',\n       '0b0110110', '0b0010101', '0b0001110', '0b1000110', '0b0001101',\n       '0b0000011', '0b0001011', '0b1001000', '0b0001110', '0b0101100',\n       '0b0110011', '0b1001011', '0b0011001', '0b1010000', '0b1010010',\n       '0b0000001', '0b1000001', '0b0111100'], dtype='<U32')"
     },
     "metadata": {},
     "execution_count": 77
    }
   ],
   "source": [
    "h = huffman(data[:,None])\n",
    "code = np.ravel(h.huffman_encoder(data[:,None]))\n",
    "code"
   ]
  },
  {
   "cell_type": "code",
   "execution_count": 80,
   "metadata": {},
   "outputs": [
    {
     "output_type": "execute_result",
     "data": {
      "text/plain": "array(['条', '件', '判', '断', '语', '句', '是', '程', '序', '的', '重', '要', '组',\n       '成', '部', '分', '，', '也', '是', '系', '统', '业', '务', '逻', '辑', '的',\n       '控', '制', '手', '段', '。', '重', '要', '程', '度', '和', '使', '用', '频',\n       '率', '更', '是', '首', '屈', '一', '指', '，', '那', '我', '们', '要', '如',\n       '何', '选', '择', 'i', 'f', '还', '是', 's', 'w', 'i', 't', 'c', 'h',\n       '呢', '？', '他', '们', '的', '性', '能', '差', '别', '有', '多', '大', '？',\n       's', 'w', 'i', 't', 'c', 'h', '性', '能', '背', '后', '的', '秘', '密',\n       '是', '什', '么', '？', '接', '下', '来', '让', '我', '们', '一', '起', '来',\n       '寻', '找', '这', '些', '问', '题', '的', '答', '案'], dtype='<U1')"
     },
     "metadata": {},
     "execution_count": 80
    }
   ],
   "source": [
    "np.ravel(h.huffman_decoder())"
   ]
  },
  {
   "cell_type": "code",
   "execution_count": null,
   "metadata": {},
   "outputs": [],
   "source": []
  }
 ],
 "metadata": {
  "language_info": {
   "codemirror_mode": {
    "name": "ipython",
    "version": 3
   },
   "file_extension": ".py",
   "mimetype": "text/x-python",
   "name": "python",
   "nbconvert_exporter": "python",
   "pygments_lexer": "ipython3",
   "version": "3.7.3-final"
  },
  "orig_nbformat": 2,
  "kernelspec": {
   "name": "pycharm-66c53067",
   "display_name": "PyCharm (InferenceSystem)"
  }
 },
 "nbformat": 4,
 "nbformat_minor": 2
}