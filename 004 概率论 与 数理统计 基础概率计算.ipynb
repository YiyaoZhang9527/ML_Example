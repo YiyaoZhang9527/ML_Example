{
 "cells": [
  {
   "cell_type": "code",
   "execution_count": 32,
   "metadata": {},
   "outputs": [],
   "source": [
    "import numpy as np\n",
    "import pandas as pd\n",
    "import matplotlib.pyplot as plt"
   ]
  },
  {
   "cell_type": "code",
   "execution_count": 33,
   "metadata": {},
   "outputs": [],
   "source": [
    "data = np.array([[1,2,3,4,1,2,1,2,2],[1,2,3,4,1,2,1,2,2]])"
   ]
  },
  {
   "cell_type": "code",
   "execution_count": 34,
   "metadata": {},
   "outputs": [
    {
     "output_type": "execute_result",
     "data": {
      "text/plain": "array([array(['今', '天', '天', '气', '好', '，', '但', '是', '外', '婆', '的', '衣', '服',\n       '还', '是', '没', '有', '干', '，'], dtype='<U1'),\n       array(['如', '果', '不', '能', '很', '快', '搞', '定', '，', '还', '是', '不', '要',\n       '买', '了', '。', '我', '和', '你', '，', '我', '和', '他', '，', '我', '和',\n       '我', '们', '，', '都', '是', '我', '们', '大', '家'], dtype='<U1')],\n      dtype=object)"
     },
     "metadata": {},
     "execution_count": 34
    }
   ],
   "source": [
    "datastr = np.array([np.array([j for j in i]) for i in \"\"\"今天天气好，但是外婆的衣服还是没有干，\n",
    "如果不能很快搞定，还是不要买了。我和你，我和他，我和我们，都是我们大家\"\"\".splitlines()])\n",
    "datastr"
   ]
  },
  {
   "cell_type": "markdown",
   "metadata": {},
   "source": [
    "## 频率"
   ]
  },
  {
   "cell_type": "code",
   "execution_count": 35,
   "metadata": {},
   "outputs": [
    {
     "output_type": "execute_result",
     "data": {
      "text/plain": "6"
     },
     "metadata": {},
     "execution_count": 35
    }
   ],
   "source": [
    "def frequency(A,An):\n",
    "    dropA = np.ravel(A)\n",
    "    return (dropA==An).dot(np.ones_like(dropA))\n",
    "frequency(data,1)"
   ]
  },
  {
   "cell_type": "markdown",
   "metadata": {},
   "source": [
    "## 概率 "
   ]
  },
  {
   "cell_type": "code",
   "execution_count": 36,
   "metadata": {},
   "outputs": [
    {
     "output_type": "execute_result",
     "data": {
      "text/plain": "0.05555555555555555"
     },
     "metadata": {},
     "execution_count": 36
    }
   ],
   "source": [
    "def probability(A,An):\n",
    "    return An/np.array(A.shape).prod()\n",
    "probability(data,1)"
   ]
  },
  {
   "cell_type": "markdown",
   "metadata": {},
   "source": [
    "## 古典概率模型"
   ]
  },
  {
   "cell_type": "code",
   "execution_count": 37,
   "metadata": {},
   "outputs": [
    {
     "output_type": "execute_result",
     "data": {
      "text/plain": "{2: 0.75, 6: 0.25}"
     },
     "metadata": {},
     "execution_count": 37
    }
   ],
   "source": [
    "def classical_models_of_probability(A):\n",
    "    dropA = np.ravel(A)\n",
    "    ks = np.unique(dropA)\n",
    "    n = dropA.shape[0]\n",
    "    testdim = ks.shape[0]\n",
    "    if testdim > 1: \n",
    "        return {k:(dropA==k).dot(np.ones(n))/n for k in ks}\n",
    "    elif testdim ==1:\n",
    "        return {ks[0]:(dropA==ks[0]).sum()/n}\n",
    "\n",
    "classical_models_of_probability(np.array([2,2,6,2]))"
   ]
  },
  {
   "cell_type": "markdown",
   "metadata": {},
   "source": [
    "## 滑动窗口"
   ]
  },
  {
   "cell_type": "code",
   "execution_count": 38,
   "metadata": {},
   "outputs": [],
   "source": [
    "import pandas as pd"
   ]
  },
  {
   "cell_type": "code",
   "execution_count": 39,
   "metadata": {},
   "outputs": [
    {
     "output_type": "execute_result",
     "data": {
      "text/plain": "[{'元素': 'a',\n  '左概率': {'a': 0, 'b': 0, 'd': 0.5, 't': 0.5},\n  '右概率': {'a': 0, 'b': 0.5, 'd': 0, 't': 0.5}},\n {'元素': 't',\n  '左概率': {'a': 1.0, 'b': 0, 'd': 0, 't': 0},\n  '右概率': {'a': 1.0, 'b': 0, 'd': 0, 't': 0}}]"
     },
     "metadata": {},
     "execution_count": 39
    }
   ],
   "source": [
    "def windows_func(A):\n",
    "    dropA = np.ravel(A)\n",
    "    ks = np.unique(dropA)\n",
    "    index_of_n = [np.where(dropA==k) for k in ks]\n",
    "    index_of_k = [np.where(dropA!=k)[0].shape[0] for k in ks]\n",
    "    count_left , count_right = 0,0\n",
    "    resultsdt , resultstb = [] , []\n",
    "\n",
    "    for k,n,lenk in zip(ks,index_of_n,index_of_k):\n",
    "        nl= n[0][(n[0]-1)>=0]\n",
    "        nr = n[0][n[0]!=(dropA.shape[0]-1)]\n",
    "        if len(nl) != 0 and len(nr) != 0:\n",
    "            left = dropA[nl-1]\n",
    "            right = dropA[nr+1]\n",
    "            left_prob = {i:0 for i in ks}\n",
    "            right_prob = {i:0 for i in ks}\n",
    "            left_update = classical_models_of_probability(left)\n",
    "            left_prob.update(left_update)\n",
    "            right_update = classical_models_of_probability(right)\n",
    "            right_prob.update(right_update)\n",
    "            resultsdt.append({'元素':k,\"左概率\":left_prob,\"右概率\":right_prob})\n",
    "    return resultsdt\n",
    "res = windows_func([i for i in 'datab'])\n",
    "res"
   ]
  },
  {
   "cell_type": "code",
   "execution_count": 40,
   "metadata": {},
   "outputs": [
    {
     "output_type": "execute_result",
     "data": {
      "text/plain": "{0: 0, 1: 0, 2: 1.2, 3: 0, 4: 1.6}"
     },
     "metadata": {},
     "execution_count": 40
    }
   ],
   "source": [
    "def Merge(dict1, dict2): \n",
    "    return(dict2.update(dict1))\n",
    "a = {2: 1.2, 4: 1.6}\n",
    "b = {i : 0 for i in range(4)}\n",
    "b.update(a)\n",
    "b"
   ]
  },
  {
   "cell_type": "markdown",
   "metadata": {},
   "source": [
    "## 概率转移矩阵"
   ]
  },
  {
   "cell_type": "code",
   "execution_count": 41,
   "metadata": {
    "tags": []
   },
   "outputs": [
    {
     "output_type": "stream",
     "name": "stdout",
     "text": "loss right: h [0. 0. 0. 0.]\n"
    },
    {
     "output_type": "execute_result",
     "data": {
      "text/plain": "{'cloumn_names_left': dict_keys(['我', '和', '你', 'h']),\n 'transfer_matrix_left': array([[0. , 0. , 1. , 0. ],\n        [1. , 0. , 0. , 0. ],\n        [0.5, 0.5, 0. , 0. ],\n        [0. , 0. , 1. , 0. ]]),\n 'cloumn_names_right': dict_keys(['我', '和', '你', 'h']),\n 'transfer_matrix_right': array([[0. , 0.5, 0.5, 0. ],\n        [0. , 0. , 1. , 0. ],\n        [0.5, 0. , 0. , 0.5],\n        [0. , 0. , 0. , 0. ]])}"
     },
     "metadata": {},
     "execution_count": 41
    }
   ],
   "source": [
    "def transitionprobability(A,display=False):\n",
    "\n",
    "    left , right = [],[]\n",
    "    initA = np.array(A)\n",
    "    An = initA.shape[0]\n",
    "    unitVector = np.ones(An)\n",
    "    distionA = np.array([j for j in {i:0 for i in A}.keys()])\n",
    "    probability = lambda  elements , n : {e:(elements==e).dot(np.ones(n))/n for e in elements}\n",
    "    prob_list = lambda prob_dict:[prob_dict[i] for i in prob_dict]\n",
    "\n",
    "    transfer_matrix_left , transfer_matrix_right,nameList_left,nameList_right = [],[],[],[]\n",
    "    for e in distionA:\n",
    "        one_E_index = np.where(initA==e)[0]\n",
    "        emptyZero = np.zeros(distionA.shape[0])\n",
    "        bool_left = one_E_index[one_E_index -1 >= 0]\n",
    "        bool_right = one_E_index[one_E_index + 1 < An]\n",
    "        left = bool_left - 1\n",
    "        right = bool_right + 1\n",
    "        if len(left) > 0:\n",
    "            nameList_left.append(e)\n",
    "            init_dict_left = {i : 0 for i in initA}\n",
    "            left_elements = initA[left]\n",
    "            ln = left_elements.shape[0]\n",
    "            prob_left = probability(left_elements,ln)\n",
    "            init_dict_left.update(prob_left)\n",
    "            transfer_matrix_left.append(prob_list(init_dict_left))\n",
    "            if display:\n",
    "                print('left:',e,init_dict_left)\n",
    "        if len(left)==0:\n",
    "            transfer_matrix_left.append(emptyZero)\n",
    "            print('loss left:',e,emptyZero)\n",
    "        if len(right) > 0:\n",
    "            nameList_right.append(e)\n",
    "            init_dict_right = {i : 0 for i in initA}\n",
    "            right_elements = initA[right]\n",
    "            rn = right_elements.shape[0]\n",
    "            prob_right = probability(right_elements,rn)\n",
    "            init_dict_right.update(prob_right)\n",
    "            transfer_matrix_right.append(prob_list(init_dict_right))\n",
    "            if display:\n",
    "                print('right:',e,init_dict_right)\n",
    "        if len(right) == 0:\n",
    "            transfer_matrix_right.append(emptyZero)\n",
    "            print('loss right:',e,emptyZero)\n",
    "         \n",
    "    return {'cloumn_names_left':init_dict_left.keys()\n",
    "    ,'transfer_matrix_left':np.array(transfer_matrix_left)\n",
    "    ,'cloumn_names_right':init_dict_right.keys()\n",
    "    ,'transfer_matrix_right':np.array(transfer_matrix_right)}\n",
    "transitionprobability(['我','和','你','我','你','h'])"
   ]
  },
  {
   "cell_type": "markdown",
   "metadata": {},
   "source": [
    "## 马尔可夫过程"
   ]
  },
  {
   "cell_type": "code",
   "execution_count": 42,
   "metadata": {},
   "outputs": [],
   "source": [
    "def markov(init_array,transfer_matrix,epsilone=None,maxloop=np.inf,displiyMatrixTmp = 100000):\n",
    "    #转移矩阵\n",
    "    results = [np.ones_like(init_array)]\n",
    "    restmp = init_array #迭代结果\n",
    "\n",
    "    timestep = -1\n",
    "    lossList = [0,]\n",
    "    convergence_true = restmp.shape[0]\n",
    "\n",
    "    while timestep <= maxloop:\n",
    "        timestep += 1\n",
    "        res = transfer_matrix.T.dot(restmp)\n",
    "        results.append(res)\n",
    "        restmp = res\n",
    "        results_array = np.array(results)\n",
    "        convergence = (results_array[-1]==results_array[-2])\n",
    "        lossList.append(convergence.sum())\n",
    "        if timestep==displiyMatrixTmp*(timestep//displiyMatrixTmp):\n",
    "            print({'time':timestep,'loss:':convergence.sum()})\n",
    "        if convergence.sum() == epsilone or convergence.all() == epsilone :\n",
    "            print(\"loss:\",convergence.sum(),convergence.all())\n",
    "            break\n",
    "    return results_array[1:],timestep,lossList[1:]"
   ]
  },
  {
   "cell_type": "code",
   "execution_count": 43,
   "metadata": {
    "tags": []
   },
   "outputs": [],
   "source": [
    "def mrkoff_process(List,display=False,epsilone=None,maxloop=1000,displiyMatrixTmp=100,direction=\"right\"):\n",
    "\n",
    "    transfer = transitionprobability(List,display=display)\n",
    "    if direction == 'left':\n",
    "        left = transfer['transfer_matrix_left']\n",
    "        loop_left = transfer['cloumn_names_left']\n",
    "        print('left',pd.DataFrame(left,columns=loop_left))\n",
    "        leftn = left.shape[0]\n",
    "        init_array_left = np.ones(leftn)/leftn\n",
    "        letf_markov = markov(init_array_left,left,epsilone,maxloop,displiyMatrixTmp)\n",
    "        result = tuple(list(letf_markov)+[loop_left])\n",
    "\n",
    "    elif direction == 'right':\n",
    "        right = transfer['transfer_matrix_left']\n",
    "        loop_right = transfer['cloumn_names_left']\n",
    "        \n",
    "        rightn = right.shape[0]\n",
    "        init_array_right = np.ones(rightn)/rightn\n",
    "        print('right',pd.DataFrame(right,columns=loop_right))\n",
    "        right_markov = markov(init_array_right,right,epsilone,maxloop,displiyMatrixTmp)\n",
    "        result = tuple(list(right_markov)+[loop_right])\n",
    "    return result\n"
   ]
  },
  {
   "cell_type": "code",
   "execution_count": 44,
   "metadata": {},
   "outputs": [],
   "source": [
    "S = list(\"\"\"吃睡打吃打睡吃睡\"\"\")"
   ]
  },
  {
   "cell_type": "code",
   "execution_count": 45,
   "metadata": {
    "tags": []
   },
   "outputs": [
    {
     "output_type": "stream",
     "name": "stdout",
     "text": "right           吃    睡         打\n0  0.000000  0.5  0.500000\n1  0.666667  0.0  0.333333\n2  0.500000  0.5  0.000000\n{'time': 0, 'loss:': 0}\n{'time': 100, 'loss:': 3}\n{'time': 200, 'loss:': 3}\n{'time': 300, 'loss:': 3}\n{'time': 400, 'loss:': 3}\n{'time': 500, 'loss:': 3}\n{'time': 600, 'loss:': 3}\n{'time': 700, 'loss:': 3}\n{'time': 800, 'loss:': 3}\n{'time': 900, 'loss:': 3}\n{'time': 1000, 'loss:': 3}\n"
    }
   ],
   "source": [
    "mkv_run , step , loss ,loop_left = mrkoff_process(S) "
   ]
  },
  {
   "cell_type": "code",
   "execution_count": 46,
   "metadata": {},
   "outputs": [
    {
     "output_type": "execute_result",
     "data": {
      "text/plain": "array([[0.38888889, 0.33333333, 0.27777778],\n       [0.36111111, 0.33333333, 0.30555556],\n       [0.375     , 0.33333333, 0.29166667],\n       ...,\n       [0.37037037, 0.33333333, 0.2962963 ],\n       [0.37037037, 0.33333333, 0.2962963 ],\n       [0.37037037, 0.33333333, 0.2962963 ]])"
     },
     "metadata": {},
     "execution_count": 46
    }
   ],
   "source": [
    "mkv_run"
   ]
  },
  {
   "cell_type": "code",
   "execution_count": 47,
   "metadata": {},
   "outputs": [
    {
     "output_type": "execute_result",
     "data": {
      "text/plain": "[<matplotlib.lines.Line2D at 0x11cd15b50>]"
     },
     "metadata": {},
     "execution_count": 47
    },
    {
     "output_type": "display_data",
     "data": {
      "text/plain": "<Figure size 432x288 with 1 Axes>",
      "image/svg+xml": "<?xml version=\"1.0\" encoding=\"utf-8\" standalone=\"no\"?>\n<!DOCTYPE svg PUBLIC \"-//W3C//DTD SVG 1.1//EN\"\n  \"http://www.w3.org/Graphics/SVG/1.1/DTD/svg11.dtd\">\n<!-- Created with matplotlib (https://matplotlib.org/) -->\n<svg height=\"248.518125pt\" version=\"1.1\" viewBox=\"0 0 384.828125 248.518125\" width=\"384.828125pt\" xmlns=\"http://www.w3.org/2000/svg\" xmlns:xlink=\"http://www.w3.org/1999/xlink\">\n <defs>\n  <style type=\"text/css\">\n*{stroke-linecap:butt;stroke-linejoin:round;}\n  </style>\n </defs>\n <g id=\"figure_1\">\n  <g id=\"patch_1\">\n   <path d=\"M 0 248.518125 \nL 384.828125 248.518125 \nL 384.828125 0 \nL 0 0 \nz\n\" style=\"fill:none;\"/>\n  </g>\n  <g id=\"axes_1\">\n   <g id=\"patch_2\">\n    <path d=\"M 42.828125 224.64 \nL 377.628125 224.64 \nL 377.628125 7.2 \nL 42.828125 7.2 \nz\n\" style=\"fill:#ffffff;\"/>\n   </g>\n   <g id=\"matplotlib.axis_1\">\n    <g id=\"xtick_1\">\n     <g id=\"line2d_1\">\n      <defs>\n       <path d=\"M 0 0 \nL 0 3.5 \n\" id=\"m33d99d6b36\" style=\"stroke:#000000;stroke-width:0.8;\"/>\n      </defs>\n      <g>\n       <use style=\"stroke:#000000;stroke-width:0.8;\" x=\"58.046307\" xlink:href=\"#m33d99d6b36\" y=\"224.64\"/>\n      </g>\n     </g>\n     <g id=\"text_1\">\n      <!-- 0 -->\n      <defs>\n       <path d=\"M 31.78125 66.40625 \nQ 24.171875 66.40625 20.328125 58.90625 \nQ 16.5 51.421875 16.5 36.375 \nQ 16.5 21.390625 20.328125 13.890625 \nQ 24.171875 6.390625 31.78125 6.390625 \nQ 39.453125 6.390625 43.28125 13.890625 \nQ 47.125 21.390625 47.125 36.375 \nQ 47.125 51.421875 43.28125 58.90625 \nQ 39.453125 66.40625 31.78125 66.40625 \nz\nM 31.78125 74.21875 \nQ 44.046875 74.21875 50.515625 64.515625 \nQ 56.984375 54.828125 56.984375 36.375 \nQ 56.984375 17.96875 50.515625 8.265625 \nQ 44.046875 -1.421875 31.78125 -1.421875 \nQ 19.53125 -1.421875 13.0625 8.265625 \nQ 6.59375 17.96875 6.59375 36.375 \nQ 6.59375 54.828125 13.0625 64.515625 \nQ 19.53125 74.21875 31.78125 74.21875 \nz\n\" id=\"DejaVuSans-48\"/>\n      </defs>\n      <g transform=\"translate(54.865057 239.238438)scale(0.1 -0.1)\">\n       <use xlink:href=\"#DejaVuSans-48\"/>\n      </g>\n     </g>\n    </g>\n    <g id=\"xtick_2\">\n     <g id=\"line2d_2\">\n      <g>\n       <use style=\"stroke:#000000;stroke-width:0.8;\" x=\"118.858222\" xlink:href=\"#m33d99d6b36\" y=\"224.64\"/>\n      </g>\n     </g>\n     <g id=\"text_2\">\n      <!-- 200 -->\n      <defs>\n       <path d=\"M 19.1875 8.296875 \nL 53.609375 8.296875 \nL 53.609375 0 \nL 7.328125 0 \nL 7.328125 8.296875 \nQ 12.9375 14.109375 22.625 23.890625 \nQ 32.328125 33.6875 34.8125 36.53125 \nQ 39.546875 41.84375 41.421875 45.53125 \nQ 43.3125 49.21875 43.3125 52.78125 \nQ 43.3125 58.59375 39.234375 62.25 \nQ 35.15625 65.921875 28.609375 65.921875 \nQ 23.96875 65.921875 18.8125 64.3125 \nQ 13.671875 62.703125 7.8125 59.421875 \nL 7.8125 69.390625 \nQ 13.765625 71.78125 18.9375 73 \nQ 24.125 74.21875 28.421875 74.21875 \nQ 39.75 74.21875 46.484375 68.546875 \nQ 53.21875 62.890625 53.21875 53.421875 \nQ 53.21875 48.921875 51.53125 44.890625 \nQ 49.859375 40.875 45.40625 35.40625 \nQ 44.1875 33.984375 37.640625 27.21875 \nQ 31.109375 20.453125 19.1875 8.296875 \nz\n\" id=\"DejaVuSans-50\"/>\n      </defs>\n      <g transform=\"translate(109.314472 239.238438)scale(0.1 -0.1)\">\n       <use xlink:href=\"#DejaVuSans-50\"/>\n       <use x=\"63.623047\" xlink:href=\"#DejaVuSans-48\"/>\n       <use x=\"127.246094\" xlink:href=\"#DejaVuSans-48\"/>\n      </g>\n     </g>\n    </g>\n    <g id=\"xtick_3\">\n     <g id=\"line2d_3\">\n      <g>\n       <use style=\"stroke:#000000;stroke-width:0.8;\" x=\"179.670138\" xlink:href=\"#m33d99d6b36\" y=\"224.64\"/>\n      </g>\n     </g>\n     <g id=\"text_3\">\n      <!-- 400 -->\n      <defs>\n       <path d=\"M 37.796875 64.3125 \nL 12.890625 25.390625 \nL 37.796875 25.390625 \nz\nM 35.203125 72.90625 \nL 47.609375 72.90625 \nL 47.609375 25.390625 \nL 58.015625 25.390625 \nL 58.015625 17.1875 \nL 47.609375 17.1875 \nL 47.609375 0 \nL 37.796875 0 \nL 37.796875 17.1875 \nL 4.890625 17.1875 \nL 4.890625 26.703125 \nz\n\" id=\"DejaVuSans-52\"/>\n      </defs>\n      <g transform=\"translate(170.126388 239.238438)scale(0.1 -0.1)\">\n       <use xlink:href=\"#DejaVuSans-52\"/>\n       <use x=\"63.623047\" xlink:href=\"#DejaVuSans-48\"/>\n       <use x=\"127.246094\" xlink:href=\"#DejaVuSans-48\"/>\n      </g>\n     </g>\n    </g>\n    <g id=\"xtick_4\">\n     <g id=\"line2d_4\">\n      <g>\n       <use style=\"stroke:#000000;stroke-width:0.8;\" x=\"240.482053\" xlink:href=\"#m33d99d6b36\" y=\"224.64\"/>\n      </g>\n     </g>\n     <g id=\"text_4\">\n      <!-- 600 -->\n      <defs>\n       <path d=\"M 33.015625 40.375 \nQ 26.375 40.375 22.484375 35.828125 \nQ 18.609375 31.296875 18.609375 23.390625 \nQ 18.609375 15.53125 22.484375 10.953125 \nQ 26.375 6.390625 33.015625 6.390625 \nQ 39.65625 6.390625 43.53125 10.953125 \nQ 47.40625 15.53125 47.40625 23.390625 \nQ 47.40625 31.296875 43.53125 35.828125 \nQ 39.65625 40.375 33.015625 40.375 \nz\nM 52.59375 71.296875 \nL 52.59375 62.3125 \nQ 48.875 64.0625 45.09375 64.984375 \nQ 41.3125 65.921875 37.59375 65.921875 \nQ 27.828125 65.921875 22.671875 59.328125 \nQ 17.53125 52.734375 16.796875 39.40625 \nQ 19.671875 43.65625 24.015625 45.921875 \nQ 28.375 48.1875 33.59375 48.1875 \nQ 44.578125 48.1875 50.953125 41.515625 \nQ 57.328125 34.859375 57.328125 23.390625 \nQ 57.328125 12.15625 50.6875 5.359375 \nQ 44.046875 -1.421875 33.015625 -1.421875 \nQ 20.359375 -1.421875 13.671875 8.265625 \nQ 6.984375 17.96875 6.984375 36.375 \nQ 6.984375 53.65625 15.1875 63.9375 \nQ 23.390625 74.21875 37.203125 74.21875 \nQ 40.921875 74.21875 44.703125 73.484375 \nQ 48.484375 72.75 52.59375 71.296875 \nz\n\" id=\"DejaVuSans-54\"/>\n      </defs>\n      <g transform=\"translate(230.938303 239.238438)scale(0.1 -0.1)\">\n       <use xlink:href=\"#DejaVuSans-54\"/>\n       <use x=\"63.623047\" xlink:href=\"#DejaVuSans-48\"/>\n       <use x=\"127.246094\" xlink:href=\"#DejaVuSans-48\"/>\n      </g>\n     </g>\n    </g>\n    <g id=\"xtick_5\">\n     <g id=\"line2d_5\">\n      <g>\n       <use style=\"stroke:#000000;stroke-width:0.8;\" x=\"301.293968\" xlink:href=\"#m33d99d6b36\" y=\"224.64\"/>\n      </g>\n     </g>\n     <g id=\"text_5\">\n      <!-- 800 -->\n      <defs>\n       <path d=\"M 31.78125 34.625 \nQ 24.75 34.625 20.71875 30.859375 \nQ 16.703125 27.09375 16.703125 20.515625 \nQ 16.703125 13.921875 20.71875 10.15625 \nQ 24.75 6.390625 31.78125 6.390625 \nQ 38.8125 6.390625 42.859375 10.171875 \nQ 46.921875 13.96875 46.921875 20.515625 \nQ 46.921875 27.09375 42.890625 30.859375 \nQ 38.875 34.625 31.78125 34.625 \nz\nM 21.921875 38.8125 \nQ 15.578125 40.375 12.03125 44.71875 \nQ 8.5 49.078125 8.5 55.328125 \nQ 8.5 64.0625 14.71875 69.140625 \nQ 20.953125 74.21875 31.78125 74.21875 \nQ 42.671875 74.21875 48.875 69.140625 \nQ 55.078125 64.0625 55.078125 55.328125 \nQ 55.078125 49.078125 51.53125 44.71875 \nQ 48 40.375 41.703125 38.8125 \nQ 48.828125 37.15625 52.796875 32.3125 \nQ 56.78125 27.484375 56.78125 20.515625 \nQ 56.78125 9.90625 50.3125 4.234375 \nQ 43.84375 -1.421875 31.78125 -1.421875 \nQ 19.734375 -1.421875 13.25 4.234375 \nQ 6.78125 9.90625 6.78125 20.515625 \nQ 6.78125 27.484375 10.78125 32.3125 \nQ 14.796875 37.15625 21.921875 38.8125 \nz\nM 18.3125 54.390625 \nQ 18.3125 48.734375 21.84375 45.5625 \nQ 25.390625 42.390625 31.78125 42.390625 \nQ 38.140625 42.390625 41.71875 45.5625 \nQ 45.3125 48.734375 45.3125 54.390625 \nQ 45.3125 60.0625 41.71875 63.234375 \nQ 38.140625 66.40625 31.78125 66.40625 \nQ 25.390625 66.40625 21.84375 63.234375 \nQ 18.3125 60.0625 18.3125 54.390625 \nz\n\" id=\"DejaVuSans-56\"/>\n      </defs>\n      <g transform=\"translate(291.750218 239.238438)scale(0.1 -0.1)\">\n       <use xlink:href=\"#DejaVuSans-56\"/>\n       <use x=\"63.623047\" xlink:href=\"#DejaVuSans-48\"/>\n       <use x=\"127.246094\" xlink:href=\"#DejaVuSans-48\"/>\n      </g>\n     </g>\n    </g>\n    <g id=\"xtick_6\">\n     <g id=\"line2d_6\">\n      <g>\n       <use style=\"stroke:#000000;stroke-width:0.8;\" x=\"362.105884\" xlink:href=\"#m33d99d6b36\" y=\"224.64\"/>\n      </g>\n     </g>\n     <g id=\"text_6\">\n      <!-- 1000 -->\n      <defs>\n       <path d=\"M 12.40625 8.296875 \nL 28.515625 8.296875 \nL 28.515625 63.921875 \nL 10.984375 60.40625 \nL 10.984375 69.390625 \nL 28.421875 72.90625 \nL 38.28125 72.90625 \nL 38.28125 8.296875 \nL 54.390625 8.296875 \nL 54.390625 0 \nL 12.40625 0 \nz\n\" id=\"DejaVuSans-49\"/>\n      </defs>\n      <g transform=\"translate(349.380884 239.238438)scale(0.1 -0.1)\">\n       <use xlink:href=\"#DejaVuSans-49\"/>\n       <use x=\"63.623047\" xlink:href=\"#DejaVuSans-48\"/>\n       <use x=\"127.246094\" xlink:href=\"#DejaVuSans-48\"/>\n       <use x=\"190.869141\" xlink:href=\"#DejaVuSans-48\"/>\n      </g>\n     </g>\n    </g>\n   </g>\n   <g id=\"matplotlib.axis_2\">\n    <g id=\"ytick_1\">\n     <g id=\"line2d_7\">\n      <defs>\n       <path d=\"M 0 0 \nL -3.5 0 \n\" id=\"m9f1c3ec1d0\" style=\"stroke:#000000;stroke-width:0.8;\"/>\n      </defs>\n      <g>\n       <use style=\"stroke:#000000;stroke-width:0.8;\" x=\"42.828125\" xlink:href=\"#m9f1c3ec1d0\" y=\"198.942545\"/>\n      </g>\n     </g>\n     <g id=\"text_7\">\n      <!-- 0.280 -->\n      <defs>\n       <path d=\"M 10.6875 12.40625 \nL 21 12.40625 \nL 21 0 \nL 10.6875 0 \nz\n\" id=\"DejaVuSans-46\"/>\n      </defs>\n      <g transform=\"translate(7.2 202.741764)scale(0.1 -0.1)\">\n       <use xlink:href=\"#DejaVuSans-48\"/>\n       <use x=\"63.623047\" xlink:href=\"#DejaVuSans-46\"/>\n       <use x=\"95.410156\" xlink:href=\"#DejaVuSans-50\"/>\n       <use x=\"159.033203\" xlink:href=\"#DejaVuSans-56\"/>\n       <use x=\"222.65625\" xlink:href=\"#DejaVuSans-48\"/>\n      </g>\n     </g>\n    </g>\n    <g id=\"ytick_2\">\n     <g id=\"line2d_8\">\n      <g>\n       <use style=\"stroke:#000000;stroke-width:0.8;\" x=\"42.828125\" xlink:href=\"#m9f1c3ec1d0\" y=\"163.361455\"/>\n      </g>\n     </g>\n     <g id=\"text_8\">\n      <!-- 0.285 -->\n      <defs>\n       <path d=\"M 10.796875 72.90625 \nL 49.515625 72.90625 \nL 49.515625 64.59375 \nL 19.828125 64.59375 \nL 19.828125 46.734375 \nQ 21.96875 47.46875 24.109375 47.828125 \nQ 26.265625 48.1875 28.421875 48.1875 \nQ 40.625 48.1875 47.75 41.5 \nQ 54.890625 34.8125 54.890625 23.390625 \nQ 54.890625 11.625 47.5625 5.09375 \nQ 40.234375 -1.421875 26.90625 -1.421875 \nQ 22.3125 -1.421875 17.546875 -0.640625 \nQ 12.796875 0.140625 7.71875 1.703125 \nL 7.71875 11.625 \nQ 12.109375 9.234375 16.796875 8.0625 \nQ 21.484375 6.890625 26.703125 6.890625 \nQ 35.15625 6.890625 40.078125 11.328125 \nQ 45.015625 15.765625 45.015625 23.390625 \nQ 45.015625 31 40.078125 35.4375 \nQ 35.15625 39.890625 26.703125 39.890625 \nQ 22.75 39.890625 18.8125 39.015625 \nQ 14.890625 38.140625 10.796875 36.28125 \nz\n\" id=\"DejaVuSans-53\"/>\n      </defs>\n      <g transform=\"translate(7.2 167.160673)scale(0.1 -0.1)\">\n       <use xlink:href=\"#DejaVuSans-48\"/>\n       <use x=\"63.623047\" xlink:href=\"#DejaVuSans-46\"/>\n       <use x=\"95.410156\" xlink:href=\"#DejaVuSans-50\"/>\n       <use x=\"159.033203\" xlink:href=\"#DejaVuSans-56\"/>\n       <use x=\"222.65625\" xlink:href=\"#DejaVuSans-53\"/>\n      </g>\n     </g>\n    </g>\n    <g id=\"ytick_3\">\n     <g id=\"line2d_9\">\n      <g>\n       <use style=\"stroke:#000000;stroke-width:0.8;\" x=\"42.828125\" xlink:href=\"#m9f1c3ec1d0\" y=\"127.780364\"/>\n      </g>\n     </g>\n     <g id=\"text_9\">\n      <!-- 0.290 -->\n      <defs>\n       <path d=\"M 10.984375 1.515625 \nL 10.984375 10.5 \nQ 14.703125 8.734375 18.5 7.8125 \nQ 22.3125 6.890625 25.984375 6.890625 \nQ 35.75 6.890625 40.890625 13.453125 \nQ 46.046875 20.015625 46.78125 33.40625 \nQ 43.953125 29.203125 39.59375 26.953125 \nQ 35.25 24.703125 29.984375 24.703125 \nQ 19.046875 24.703125 12.671875 31.3125 \nQ 6.296875 37.9375 6.296875 49.421875 \nQ 6.296875 60.640625 12.9375 67.421875 \nQ 19.578125 74.21875 30.609375 74.21875 \nQ 43.265625 74.21875 49.921875 64.515625 \nQ 56.59375 54.828125 56.59375 36.375 \nQ 56.59375 19.140625 48.40625 8.859375 \nQ 40.234375 -1.421875 26.421875 -1.421875 \nQ 22.703125 -1.421875 18.890625 -0.6875 \nQ 15.09375 0.046875 10.984375 1.515625 \nz\nM 30.609375 32.421875 \nQ 37.25 32.421875 41.125 36.953125 \nQ 45.015625 41.5 45.015625 49.421875 \nQ 45.015625 57.28125 41.125 61.84375 \nQ 37.25 66.40625 30.609375 66.40625 \nQ 23.96875 66.40625 20.09375 61.84375 \nQ 16.21875 57.28125 16.21875 49.421875 \nQ 16.21875 41.5 20.09375 36.953125 \nQ 23.96875 32.421875 30.609375 32.421875 \nz\n\" id=\"DejaVuSans-57\"/>\n      </defs>\n      <g transform=\"translate(7.2 131.579582)scale(0.1 -0.1)\">\n       <use xlink:href=\"#DejaVuSans-48\"/>\n       <use x=\"63.623047\" xlink:href=\"#DejaVuSans-46\"/>\n       <use x=\"95.410156\" xlink:href=\"#DejaVuSans-50\"/>\n       <use x=\"159.033203\" xlink:href=\"#DejaVuSans-57\"/>\n       <use x=\"222.65625\" xlink:href=\"#DejaVuSans-48\"/>\n      </g>\n     </g>\n    </g>\n    <g id=\"ytick_4\">\n     <g id=\"line2d_10\">\n      <g>\n       <use style=\"stroke:#000000;stroke-width:0.8;\" x=\"42.828125\" xlink:href=\"#m9f1c3ec1d0\" y=\"92.199273\"/>\n      </g>\n     </g>\n     <g id=\"text_10\">\n      <!-- 0.295 -->\n      <g transform=\"translate(7.2 95.998491)scale(0.1 -0.1)\">\n       <use xlink:href=\"#DejaVuSans-48\"/>\n       <use x=\"63.623047\" xlink:href=\"#DejaVuSans-46\"/>\n       <use x=\"95.410156\" xlink:href=\"#DejaVuSans-50\"/>\n       <use x=\"159.033203\" xlink:href=\"#DejaVuSans-57\"/>\n       <use x=\"222.65625\" xlink:href=\"#DejaVuSans-53\"/>\n      </g>\n     </g>\n    </g>\n    <g id=\"ytick_5\">\n     <g id=\"line2d_11\">\n      <g>\n       <use style=\"stroke:#000000;stroke-width:0.8;\" x=\"42.828125\" xlink:href=\"#m9f1c3ec1d0\" y=\"56.618182\"/>\n      </g>\n     </g>\n     <g id=\"text_11\">\n      <!-- 0.300 -->\n      <defs>\n       <path d=\"M 40.578125 39.3125 \nQ 47.65625 37.796875 51.625 33 \nQ 55.609375 28.21875 55.609375 21.1875 \nQ 55.609375 10.40625 48.1875 4.484375 \nQ 40.765625 -1.421875 27.09375 -1.421875 \nQ 22.515625 -1.421875 17.65625 -0.515625 \nQ 12.796875 0.390625 7.625 2.203125 \nL 7.625 11.71875 \nQ 11.71875 9.328125 16.59375 8.109375 \nQ 21.484375 6.890625 26.8125 6.890625 \nQ 36.078125 6.890625 40.9375 10.546875 \nQ 45.796875 14.203125 45.796875 21.1875 \nQ 45.796875 27.640625 41.28125 31.265625 \nQ 36.765625 34.90625 28.71875 34.90625 \nL 20.21875 34.90625 \nL 20.21875 43.015625 \nL 29.109375 43.015625 \nQ 36.375 43.015625 40.234375 45.921875 \nQ 44.09375 48.828125 44.09375 54.296875 \nQ 44.09375 59.90625 40.109375 62.90625 \nQ 36.140625 65.921875 28.71875 65.921875 \nQ 24.65625 65.921875 20.015625 65.03125 \nQ 15.375 64.15625 9.8125 62.3125 \nL 9.8125 71.09375 \nQ 15.4375 72.65625 20.34375 73.4375 \nQ 25.25 74.21875 29.59375 74.21875 \nQ 40.828125 74.21875 47.359375 69.109375 \nQ 53.90625 64.015625 53.90625 55.328125 \nQ 53.90625 49.265625 50.4375 45.09375 \nQ 46.96875 40.921875 40.578125 39.3125 \nz\n\" id=\"DejaVuSans-51\"/>\n      </defs>\n      <g transform=\"translate(7.2 60.417401)scale(0.1 -0.1)\">\n       <use xlink:href=\"#DejaVuSans-48\"/>\n       <use x=\"63.623047\" xlink:href=\"#DejaVuSans-46\"/>\n       <use x=\"95.410156\" xlink:href=\"#DejaVuSans-51\"/>\n       <use x=\"159.033203\" xlink:href=\"#DejaVuSans-48\"/>\n       <use x=\"222.65625\" xlink:href=\"#DejaVuSans-48\"/>\n      </g>\n     </g>\n    </g>\n    <g id=\"ytick_6\">\n     <g id=\"line2d_12\">\n      <g>\n       <use style=\"stroke:#000000;stroke-width:0.8;\" x=\"42.828125\" xlink:href=\"#m9f1c3ec1d0\" y=\"21.037091\"/>\n      </g>\n     </g>\n     <g id=\"text_12\">\n      <!-- 0.305 -->\n      <g transform=\"translate(7.2 24.83631)scale(0.1 -0.1)\">\n       <use xlink:href=\"#DejaVuSans-48\"/>\n       <use x=\"63.623047\" xlink:href=\"#DejaVuSans-46\"/>\n       <use x=\"95.410156\" xlink:href=\"#DejaVuSans-51\"/>\n       <use x=\"159.033203\" xlink:href=\"#DejaVuSans-48\"/>\n       <use x=\"222.65625\" xlink:href=\"#DejaVuSans-53\"/>\n      </g>\n     </g>\n    </g>\n   </g>\n   <g id=\"line2d_13\">\n    <path clip-path=\"url(#pa35a47706d)\" d=\"M 58.046307 214.756364 \nL 58.350366 17.083636 \nL 58.654426 115.92 \nL 58.958486 66.501818 \nL 59.262545 91.210909 \nL 59.566605 78.856364 \nL 59.870664 85.033636 \nL 60.174724 81.945 \nL 60.478783 83.489318 \nL 60.782843 82.717159 \nL 61.086903 83.103239 \nL 61.390962 82.910199 \nL 61.695022 83.006719 \nL 62.6072 82.970524 \nL 68.384332 82.974545 \nL 362.409943 82.974545 \nL 362.409943 82.974545 \n\" style=\"fill:none;stroke:#1f77b4;stroke-linecap:square;stroke-width:1.5;\"/>\n   </g>\n   <g id=\"patch_3\">\n    <path d=\"M 42.828125 224.64 \nL 42.828125 7.2 \n\" style=\"fill:none;stroke:#000000;stroke-linecap:square;stroke-linejoin:miter;stroke-width:0.8;\"/>\n   </g>\n   <g id=\"patch_4\">\n    <path d=\"M 377.628125 224.64 \nL 377.628125 7.2 \n\" style=\"fill:none;stroke:#000000;stroke-linecap:square;stroke-linejoin:miter;stroke-width:0.8;\"/>\n   </g>\n   <g id=\"patch_5\">\n    <path d=\"M 42.828125 224.64 \nL 377.628125 224.64 \n\" style=\"fill:none;stroke:#000000;stroke-linecap:square;stroke-linejoin:miter;stroke-width:0.8;\"/>\n   </g>\n   <g id=\"patch_6\">\n    <path d=\"M 42.828125 7.2 \nL 377.628125 7.2 \n\" style=\"fill:none;stroke:#000000;stroke-linecap:square;stroke-linejoin:miter;stroke-width:0.8;\"/>\n   </g>\n  </g>\n </g>\n <defs>\n  <clipPath id=\"pa35a47706d\">\n   <rect height=\"217.44\" width=\"334.8\" x=\"42.828125\" y=\"7.2\"/>\n  </clipPath>\n </defs>\n</svg>\n",
      "image/png": "[encoded data removed]"
     },
     "metadata": {
      "needs_background": "light"
     }
    }
   ],
   "source": [
    "plt.plot(mkv_run[:,2])"
   ]
  },
  {
   "cell_type": "code",
   "execution_count": 48,
   "metadata": {},
   "outputs": [
    {
     "output_type": "execute_result",
     "data": {
      "text/plain": "1001"
     },
     "metadata": {},
     "execution_count": 48
    }
   ],
   "source": [
    "step"
   ]
  },
  {
   "cell_type": "code",
   "execution_count": 49,
   "metadata": {},
   "outputs": [
    {
     "output_type": "execute_result",
     "data": {
      "text/plain": "dict_keys(['吃', '睡', '打'])"
     },
     "metadata": {},
     "execution_count": 49
    }
   ],
   "source": [
    "loop_left"
   ]
  },
  {
   "cell_type": "code",
   "execution_count": 50,
   "metadata": {},
   "outputs": [
    {
     "output_type": "execute_result",
     "data": {
      "text/plain": "array([0.37037037, 0.33333333])"
     },
     "metadata": {},
     "execution_count": 50
    }
   ],
   "source": [
    "probability_vector = mkv_run[-1]\n",
    "probability_vector[:-1]"
   ]
  },
  {
   "cell_type": "code",
   "execution_count": null,
   "metadata": {},
   "outputs": [],
   "source": []
  },
  {
   "cell_type": "markdown",
   "metadata": {},
   "source": [
    "## 联合概率"
   ]
  },
  {
   "cell_type": "code",
   "execution_count": 51,
   "metadata": {},
   "outputs": [
    {
     "output_type": "execute_result",
     "data": {
      "text/plain": "0.036579789666209415"
     },
     "metadata": {},
     "execution_count": 51
    }
   ],
   "source": [
    "def joint_probability(independence):\n",
    "    return np.cumproduct((independence))[-1]\n",
    "joint_probability(probability_vector)"
   ]
  },
  {
   "cell_type": "markdown",
   "metadata": {},
   "source": [
    "## 条件概率"
   ]
  },
  {
   "cell_type": "code",
   "execution_count": 52,
   "metadata": {},
   "outputs": [
    {
     "output_type": "execute_result",
     "data": {
      "text/plain": "0.37037037037037035"
     },
     "metadata": {},
     "execution_count": 52
    }
   ],
   "source": [
    "def conditional_probability(independence,indexA):\n",
    "    product = np.cumproduct((independence))[-1]\n",
    "    return product/independence[indexA]\n",
    "conditional_probability(probability_vector[:-1],-1)"
   ]
  },
  {
   "cell_type": "markdown",
   "metadata": {},
   "source": [
    "## 全概率\n",
    "## 条件1 ，上班选择的路线有四条，选择各条路线的概率分别为  0.1，0.3，0.5，0.1\n",
    "## 条件2 ， 每条路不迟到的概率为，0.2，0.3，0.1，0.9\n",
    "## 求，迟到的最大概率为"
   ]
  },
  {
   "cell_type": "code",
   "execution_count": 53,
   "metadata": {},
   "outputs": [],
   "source": [
    "way = np.array([0.5,0.3,0.9])\n",
    "probability_of_late = np.array([0.2,0.4,0.9])"
   ]
  },
  {
   "cell_type": "code",
   "execution_count": 54,
   "metadata": {},
   "outputs": [
    {
     "output_type": "execute_result",
     "data": {
      "text/plain": "1.03"
     },
     "metadata": {},
     "execution_count": 54
    }
   ],
   "source": [
    "def full_probability(A,B):\n",
    "    return A.dot(B)\n",
    "full_probability(way,probability_of_late)"
   ]
  },
  {
   "cell_type": "markdown",
   "metadata": {},
   "source": [
    "## P 检验"
   ]
  },
  {
   "cell_type": "code",
   "execution_count": 55,
   "metadata": {},
   "outputs": [],
   "source": [
    "def testP(A,B):\n",
    "    return A*B/B == A"
   ]
  },
  {
   "cell_type": "code",
   "execution_count": 56,
   "metadata": {},
   "outputs": [
    {
     "output_type": "execute_result",
     "data": {
      "text/plain": "array([ True,  True,  True])"
     },
     "metadata": {},
     "execution_count": 56
    }
   ],
   "source": [
    "testP(way,probability_of_late)"
   ]
  },
  {
   "cell_type": "markdown",
   "metadata": {},
   "source": [
    "## 贝叶斯"
   ]
  },
  {
   "cell_type": "code",
   "execution_count": 57,
   "metadata": {},
   "outputs": [
    {
     "output_type": "execute_result",
     "data": {
      "text/plain": "array([1., 1., 1.])"
     },
     "metadata": {},
     "execution_count": 57
    }
   ],
   "source": [
    "def bayes(A,B):\n",
    "    PAB = A*B #联合概率 \n",
    "    PA_B = PAB/B #条件概率 然似概率\n",
    "    PA = A.dot(B) #全概率 \n",
    "    PA_B2 = ((PAB/B)*B/PAB) #贝叶斯定理 后验概率\n",
    "    return PA_B2\n",
    "bayes(way,probability_of_late)"
   ]
  },
  {
   "cell_type": "code",
   "execution_count": null,
   "metadata": {},
   "outputs": [],
   "source": []
  },
  {
   "cell_type": "code",
   "execution_count": 58,
   "metadata": {},
   "outputs": [],
   "source": [
    "class bayes:\n",
    "    def __init__(self,A,B,i,j):\n",
    "        self.A = A\n",
    "        self.B = B\n",
    "        self.i = i\n",
    "        self.j = j\n",
    "        \n",
    "\n",
    "    def joint_probability(self):\n",
    "        PAB = self.A*self.B #联合概率\n",
    "        return PAB\n",
    "\n",
    "    def contingent_probability(self):\n",
    "        PAB = self.joint_probability()\n",
    "        PA_B = PAB/self.B #条件概率 \n",
    "        return PA_B\n",
    "\n",
    "    def full_probability(self):\n",
    "        PA = self.A.dot(self.B) #全概率 \n",
    "        return PA\n",
    "\n",
    "    def Ptest(self):\n",
    "        PA_B = self.contingent_probability()\n",
    "        Ptest = ((PA_B/self.B)*self.B/PA_B) #贝叶斯定理 后验概率\n",
    "        return Ptest.astype(bool)\n",
    "\n",
    "    def bayesian_inference(self,need='A'): #贝叶斯推断\n",
    "        if self.Ptest().all():\n",
    "            PAB = self.joint_probability()\n",
    "            if need == 'A':\n",
    "                return (PAB*self.B)/self.A\n",
    "            elif need == 'B':\n",
    "                return (PAB*self.A)/self.A\n",
    "    \n",
    "    def bayesian_refresh(self,display=np.inf):\n",
    "        A ,B = self.A,self.B #贝叶斯刷新\n",
    "        n = 0\n",
    "        bayes_factor_chain = []\n",
    "        posteriori_probability_list = []\n",
    "        bayes_factor = lambda a,b : a/b\n",
    "        for a,b in zip(A,B):\n",
    "            n +=1\n",
    "            if n % display == 0:\n",
    "                print(n)\n",
    "            if n==1:\n",
    "                a_b = np.array(A[0]).dot(B[0])/B[0]\n",
    "                ptest = ((a_b/B[0])*B[0]/a_b).astype(bool).all()\n",
    "                if ptest:\n",
    "                    bayes_factor_chain.append(bayes_factor(a,b))\n",
    "                else:\n",
    "                    return ptest\n",
    "            elif n>1:                 \n",
    "                bayes_factor_chain.append(bayes_factor(a,b))\n",
    "                posteriori_probability = bayes_factor_chain[-1]*bayes_factor_chain[-2]\n",
    "                posteriori_probability_list.append(posteriori_probability)\n",
    "        return posteriori_probability_list,bayes_factor_chain[0],bayes_factor_chain[1:]\n",
    "            \n",
    "\n",
    "bayesf = bayes(way,probability_of_late,0,1)"
   ]
  },
  {
   "cell_type": "code",
   "execution_count": 59,
   "metadata": {},
   "outputs": [
    {
     "output_type": "execute_result",
     "data": {
      "text/plain": "array([0.04, 0.16, 0.81])"
     },
     "metadata": {},
     "execution_count": 59
    }
   ],
   "source": [
    "bayesf.Ptest()\n",
    "bayesf.bayesian_inference()\n",
    "#bayesf.bayesian_refresh()"
   ]
  },
  {
   "cell_type": "code",
   "execution_count": 60,
   "metadata": {},
   "outputs": [
    {
     "output_type": "execute_result",
     "data": {
      "text/plain": "[                                                   0  \\\n 0  EUR/USDGBP/USDUSD/JPYUSD/CHFAUD/USDEUR/GBPUSD/...   \n \n                                                    1  \n 0  $(document).ready(function () {  $('.js-scroll...  ,\n                                            Unnamed: 0              名称  \\\n 0                                                 NaN   EURUSD TN FWD   \n 1                                                 NaN   EURUSD SW FWD   \n 2                                                 NaN   EURUSD 2W FWD   \n 3                                                 NaN   EURUSD 3W FWD   \n 4                                                 NaN   EURUSD 1M FWD   \n 5                                                 NaN   EURUSD 2M FWD   \n 6                                                 NaN   EURUSD 3M FWD   \n 7                                                 NaN   EURUSD 4M FWD   \n 8                                                 NaN   EURUSD 5M FWD   \n 9                                                 NaN   EURUSD 6M FWD   \n 10                                                NaN   EURUSD 7M FWD   \n 11                                                NaN   EURUSD 8M FWD   \n 12                                                NaN   EURUSD 9M FWD   \n 13                                                NaN  EURUSD 10M FWD   \n 14                                                NaN  EURUSD 11M FWD   \n 15                                                NaN   EURUSD 1Y FWD   \n 16                                                NaN  EURUSD 15M FWD   \n 17                                                NaN  EURUSD 21M FWD   \n 18                                                NaN   EURUSD 2Y FWD   \n 19                                                NaN   EURUSD 3Y FWD   \n 20                                                NaN   EURUSD 4Y FWD   \n 21                                                NaN   EURUSD 5Y FWD   \n 22                                                NaN   EURUSD 6Y FWD   \n 23                                                NaN   EURUSD 7Y FWD   \n 24                                                NaN   EURUSD 8Y FWD   \n 25                                                NaN   EURUSD 9Y FWD   \n 26                                                NaN  EURUSD 10Y FWD   \n 27                                                NaN  EURUSD 12Y FWD   \n 28                                                NaN  EURUSD 15Y FWD   \n 29                                                NaN  EURUSD 20Y FWD   \n 30                                                NaN  EURUSD 30Y FWD   \n 31  var real_img = new Image();real_img.src = '/im...             NaN   \n \n            卖价         买价         最高         最低    涨跌额        时间  \n 0      0.2200     0.2300     0.3000     0.1750   0.02  12:53:00  \n 1      1.7900     1.8300     1.8100     1.7400   0.19  12:53:00  \n 2      3.3400     3.3800     3.4000     3.1900  -0.01  12:52:00  \n 3      5.1100     5.1700     5.1200     5.1700   0.04   9:02:00  \n 4      7.5400     7.6400     7.6000     7.5600   0.01  12:51:00  \n 5     15.2200    15.3400    15.3200    15.3300   1.36  12:52:00  \n 6     22.7600    22.9600    22.8300    22.9400   1.32  12:51:00  \n 7     30.6500    30.9500    30.9000    30.9500  -0.03  12:51:00  \n 8     38.4700    38.8700    38.6100    38.3900   0.05  12:52:00  \n 9     47.3100    47.8100    51.9800    47.7400   2.50  12:51:00  \n 10    58.1200    58.8200    58.6700    58.7100  -0.22  12:49:00  \n 11    65.5100    66.3100    65.7900    66.0700   0.09  12:53:00  \n 12    73.9700    74.8700    74.3000    74.7700   0.22  12:52:00  \n 13    81.9800    82.9800    82.6100    82.8800   0.15  12:52:00  \n 14    89.1300    90.3300    89.2900    90.1500   0.13  12:52:00  \n 15    97.5300    98.5300    97.5700    98.5000   3.92  12:52:00  \n 16   121.4000   124.4000   122.4100   123.7800   0.64  12:22:00  \n 17   171.7900   176.2900   172.2900   175.7900   4.22   9:02:00  \n 18   195.9200   200.9200   197.0000   200.0600   3.72  12:21:00  \n 19   303.1000   310.6000   303.1000   308.2400   3.58   9:12:00  \n 20   404.5000   454.5000   404.5000   454.3000   6.25   6:00:00  \n 21   530.0000   605.0000   530.0000   604.4000   1.75   2:59:00  \n 22   709.0000   729.0000   709.0000   729.0000  41.00   6:00:00  \n 23   853.0200   893.0200   864.0000   889.0000   0.61   9:02:00  \n 24  1018.0000  1048.0000  1018.0000  1048.0000  59.00   6:00:00  \n 25  1101.0000  1276.0000  1101.0000  1276.0000   0.00   6:00:00  \n 26  1237.0000  1437.0000  1237.0000  1435.0000 -42.00   2:59:00  \n 27  2731.0000  2806.0000  2768.5000  2768.5000   0.00     25/06  \n 28  3139.0000  3239.0000  3189.0000  3189.0000   0.00     25/06  \n 29  3834.0000  3984.0000  3909.0000  3909.0000   0.00     25/06  \n 30  5259.3999  5277.3999  5268.3999  5268.3999   0.00     25/06  \n 31        NaN        NaN        NaN        NaN    NaN       NaN  ,\n     Unnamed: 0              名称         卖价         买价         最高         最低  \\\n 0          NaN   EURUSD TN FWD     0.2200     0.2300     0.3000     0.1750   \n 1          NaN   EURUSD SW FWD     1.7900     1.8300     1.8100     1.7400   \n 2          NaN   EURUSD 2W FWD     3.3400     3.3800     3.4000     3.1900   \n 3          NaN   EURUSD 3W FWD     5.1100     5.1700     5.1200     5.1700   \n 4          NaN   EURUSD 1M FWD     7.5400     7.6400     7.6000     7.5600   \n 5          NaN   EURUSD 2M FWD    15.2200    15.3400    15.3200    15.3300   \n 6          NaN   EURUSD 3M FWD    22.7600    22.9600    22.8300    22.9400   \n 7          NaN   EURUSD 4M FWD    30.6500    30.9500    30.9000    30.9500   \n 8          NaN   EURUSD 5M FWD    38.4700    38.8700    38.6100    38.3900   \n 9          NaN   EURUSD 6M FWD    47.3100    47.8100    51.9800    47.7400   \n 10         NaN   EURUSD 7M FWD    58.1200    58.8200    58.6700    58.7100   \n 11         NaN   EURUSD 8M FWD    65.5100    66.3100    65.7900    66.0700   \n 12         NaN   EURUSD 9M FWD    73.9700    74.8700    74.3000    74.7700   \n 13         NaN  EURUSD 10M FWD    81.9800    82.9800    82.6100    82.8800   \n 14         NaN  EURUSD 11M FWD    89.1300    90.3300    89.2900    90.1500   \n 15         NaN   EURUSD 1Y FWD    97.5300    98.5300    97.5700    98.5000   \n 16         NaN  EURUSD 15M FWD   121.4000   124.4000   122.4100   123.7800   \n 17         NaN  EURUSD 21M FWD   171.7900   176.2900   172.2900   175.7900   \n 18         NaN   EURUSD 2Y FWD   195.9200   200.9200   197.0000   200.0600   \n 19         NaN   EURUSD 3Y FWD   303.1000   310.6000   303.1000   308.2400   \n 20         NaN   EURUSD 4Y FWD   404.5000   454.5000   404.5000   454.3000   \n 21         NaN   EURUSD 5Y FWD   530.0000   605.0000   530.0000   604.4000   \n 22         NaN   EURUSD 6Y FWD   709.0000   729.0000   709.0000   729.0000   \n 23         NaN   EURUSD 7Y FWD   853.0200   893.0200   864.0000   889.0000   \n 24         NaN   EURUSD 8Y FWD  1018.0000  1048.0000  1018.0000  1048.0000   \n 25         NaN   EURUSD 9Y FWD  1101.0000  1276.0000  1101.0000  1276.0000   \n 26         NaN  EURUSD 10Y FWD  1237.0000  1437.0000  1237.0000  1435.0000   \n 27         NaN  EURUSD 12Y FWD  2731.0000  2806.0000  2768.5000  2768.5000   \n 28         NaN  EURUSD 15Y FWD  3139.0000  3239.0000  3189.0000  3189.0000   \n 29         NaN  EURUSD 20Y FWD  3834.0000  3984.0000  3909.0000  3909.0000   \n 30         NaN  EURUSD 30Y FWD  5259.3999  5277.3999  5268.3999  5268.3999   \n \n       涨跌额        时间  \n 0    0.02  12:53:00  \n 1    0.19  12:53:00  \n 2   -0.01  12:52:00  \n 3    0.04   9:02:00  \n 4    0.01  12:51:00  \n 5    1.36  12:52:00  \n 6    1.32  12:51:00  \n 7   -0.03  12:51:00  \n 8    0.05  12:52:00  \n 9    2.50  12:51:00  \n 10  -0.22  12:49:00  \n 11   0.09  12:53:00  \n 12   0.22  12:52:00  \n 13   0.15  12:52:00  \n 14   0.13  12:52:00  \n 15   3.92  12:52:00  \n 16   0.64  12:22:00  \n 17   4.22   9:02:00  \n 18   3.72  12:21:00  \n 19   3.58   9:12:00  \n 20   6.25   6:00:00  \n 21   1.75   2:59:00  \n 22  41.00   6:00:00  \n 23   0.61   9:02:00  \n 24  59.00   6:00:00  \n 25   0.00   6:00:00  \n 26 -42.00   2:59:00  \n 27   0.00     25/06  \n 28   0.00     25/06  \n 29   0.00     25/06  \n 30   0.00     25/06  ,\n     0            1         2        3       4   5   6\n 0 NaN         上证指数   2979.55    8.930  +0.30% NaN NaN\n 1 NaN    富时中国A50指数  13938.63   72.490  +0.52% NaN NaN\n 2 NaN         恒生指数  24549.99 -231.590  -0.93% NaN NaN\n 3 NaN        日经225  22512.08  252.290  +1.13% NaN NaN\n 4 NaN    道琼斯30 (F)  24900.00 -696.000  -2.72% NaN NaN\n 5 NaN  美国标普500 (F)   3002.62  -68.130  -2.22% NaN NaN\n 6 NaN       美元指数期货     97.46    0.072  +0.07% NaN NaN,\n     0        1         2       3       4   5   6\n 0 NaN    WTI原油    38.200  -0.520  -1.34% NaN NaN\n 1 NaN  伦敦布伦特原油    40.930   0.000   0.00% NaN NaN\n 2 NaN       黄金  1784.800  14.200  +0.80% NaN NaN\n 3 NaN       白银    17.950   0.055  +0.31% NaN NaN\n 4 NaN      天然气     1.546   0.000   0.00% NaN NaN\n 5 NaN        铜     2.655  -0.008  -0.30% NaN NaN\n 6 NaN     美国大豆   865.750  -4.250  -0.49% NaN NaN,\n     0         1         2       3       4   5   6\n 0 NaN     欧元/美元    1.1218  0.0001  +0.01% NaN NaN\n 1 NaN    美元/人民币    7.0782  0.0000  +0.00% NaN NaN\n 2 NaN  美元/离岸人民币    7.0858  0.0023  +0.03% NaN NaN\n 3 NaN    港币/人民币    0.9133  0.0002  +0.02% NaN NaN\n 4 NaN     美元/日元  107.2300  0.0400  +0.04% NaN NaN\n 5 NaN  澳大利亚元/美元    0.6864 -0.0021  -0.30% NaN NaN\n 6 NaN     英镑/美元    1.2336 -0.0078  -0.63% NaN NaN,\n     0         1        2      3       4   5   6\n 0 NaN      阿里巴巴   215.71  -6.45  -2.90% NaN NaN\n 1 NaN      腾讯控股   485.00  -5.80  -1.18% NaN NaN\n 2 NaN        百度   121.80  -1.93  -1.56% NaN NaN\n 3 NaN        京东    59.65  -0.86  -1.42% NaN NaN\n 4 NaN       亚马逊  2692.87 -61.71  -2.24% NaN NaN\n 5 NaN  Facebook   216.08 -19.60  -8.32% NaN NaN\n 6 NaN        苹果   353.63 -11.21  -3.07% NaN NaN,\n     0   1        2         3     4   5\n 0 NaN NaN  EUR/USD    1.1218  强力卖出 NaN\n 1 NaN NaN  GBP/USD    1.2336  强力卖出 NaN\n 2 NaN NaN  USD/JPY  107.2300  强力买入 NaN\n 3 NaN NaN  AUD/USD    0.6864  强力买入 NaN\n 4 NaN NaN  USD/CAD    1.3687  强力买入 NaN\n 5 NaN NaN  EUR/JPY  120.3000  强力卖出 NaN\n 6 NaN NaN  EUR/CHF    1.0636  强力卖出 NaN,\n     0   1        2   3   4   5\n 0 NaN NaN       黄金 NaN NaN NaN\n 1 NaN NaN       白银 NaN NaN NaN\n 2 NaN NaN        铜 NaN NaN NaN\n 3 NaN NaN    WTI原油 NaN NaN NaN\n 4 NaN NaN  伦敦布伦特原油 NaN NaN NaN\n 5 NaN NaN      天然气 NaN NaN NaN\n 6 NaN NaN   美国C型咖啡 NaN NaN NaN,\n     0   1        2   3   4   5\n 0 NaN NaN    道琼斯指数 NaN NaN NaN\n 1 NaN NaN  纳斯达克100 NaN NaN NaN\n 2 NaN NaN  标普500指数 NaN NaN NaN\n 3 NaN NaN  德国DAX30 NaN NaN NaN\n 4 NaN NaN  英国富时100 NaN NaN NaN\n 5 NaN NaN  法国CAC40 NaN NaN NaN\n 6 NaN NaN    日经225 NaN NaN NaN,\n     0   1         2   3   4   5\n 0 NaN NaN   BTC/USD NaN NaN NaN\n 1 NaN NaN   ETH/USD NaN NaN NaN\n 2 NaN NaN   BCH/USD NaN NaN NaN\n 3 NaN NaN   LTC/USD NaN NaN NaN\n 4 NaN NaN  IOTA/USD NaN NaN NaN\n 5 NaN NaN   BTC/CNY NaN NaN NaN\n 6 NaN NaN   XRP/USD NaN NaN NaN\n 7 NaN NaN   ETC/USD NaN NaN NaN]"
     },
     "metadata": {},
     "execution_count": 60
    }
   ],
   "source": [
    "import requests\n",
    "url = \"https://cn.investing.com/rates-bonds/forward-rates\"\n",
    "headers = {'User-Agent':'Mozilla/5.0 (Windows NT 6.1; WOW64) AppleWebKit/537.36 (KHTML, like Gecko) Chrome/63.0.3239.132 Safari/537.36 QIHU 360SE'}\n",
    "html = requests.get(url,headers=headers).text\n",
    "pd.read_html(html) "
   ]
  },
  {
   "cell_type": "code",
   "execution_count": null,
   "metadata": {},
   "outputs": [],
   "source": []
  }
 ],
 "metadata": {
  "language_info": {
   "codemirror_mode": {
    "name": "ipython",
    "version": 3
   },
   "file_extension": ".py",
   "mimetype": "text/x-python",
   "name": "python",
   "nbconvert_exporter": "python",
   "pygments_lexer": "ipython3",
   "version": "3.5.6-final"
  },
  "orig_nbformat": 2,
  "kernelspec": {
   "name": "pycharm-66c53067",
   "display_name": "PyCharm (InferenceSystem)"
  }
 },
 "nbformat": 4,
 "nbformat_minor": 2
}