{
 "cells": [
  {
   "cell_type": "markdown",
   "metadata": {},
   "source": [
    "# base编码"
   ]
  },
  {
   "cell_type": "code",
   "execution_count": 38,
   "metadata": {},
   "outputs": [],
   "source": [
    "import base64"
   ]
  },
  {
   "cell_type": "markdown",
   "metadata": {},
   "source": [
    "## base16"
   ]
  },
  {
   "cell_type": "code",
   "execution_count": 39,
   "metadata": {},
   "outputs": [],
   "source": [
    "clearn = \"这是base的示例明文\" "
   ]
  },
  {
   "cell_type": "code",
   "execution_count": 40,
   "metadata": {},
   "outputs": [
    {
     "output_type": "execute_result",
     "data": {
      "text/plain": "b'E8BF99E698AF62617365E79A84E7A4BAE4BE8BE6988EE69687'"
     },
     "metadata": {},
     "execution_count": 40
    }
   ],
   "source": [
    "def encodebase16(clear):\n",
    "    encoded = clear.encode(\"utf-8\")\n",
    "    return base64.b16encode(encoded)\n",
    "\n",
    "b16 = encodebase16(clearn)\n",
    "b16"
   ]
  },
  {
   "cell_type": "code",
   "execution_count": 41,
   "metadata": {},
   "outputs": [
    {
     "output_type": "execute_result",
     "data": {
      "text/plain": "'这是base的示例明文'"
     },
     "metadata": {},
     "execution_count": 41
    }
   ],
   "source": [
    "def decodebase16(cipher):\n",
    "    return base64.b16decode(cipher).decode(\"utf-8\")\n",
    "decodebase16(b16)"
   ]
  },
  {
   "cell_type": "markdown",
   "metadata": {},
   "source": [
    "## base32"
   ]
  },
  {
   "cell_type": "code",
   "execution_count": 42,
   "metadata": {},
   "outputs": [
    {
     "output_type": "execute_result",
     "data": {
      "text/plain": "b'5C7ZTZUYV5RGC43F46NIJZ5EXLSL5C7GTCHONFUH'"
     },
     "metadata": {},
     "execution_count": 42
    }
   ],
   "source": [
    "def encodebase32(clear):\n",
    "    encoded = clear.encode(\"utf-8\")\n",
    "    return base64.b32encode(encoded)\n",
    "\n",
    "b32 = encodebase32(clearn)\n",
    "b32"
   ]
  },
  {
   "cell_type": "code",
   "execution_count": 43,
   "metadata": {},
   "outputs": [
    {
     "output_type": "execute_result",
     "data": {
      "text/plain": "'这是base的示例明文'"
     },
     "metadata": {},
     "execution_count": 43
    }
   ],
   "source": [
    "def decodebase32(cipher):\n",
    "    return base64.b32decode(cipher).decode(\"utf-8\")\n",
    "decodebase32(b32)"
   ]
  },
  {
   "cell_type": "markdown",
   "metadata": {},
   "source": [
    "## base64"
   ]
  },
  {
   "cell_type": "code",
   "execution_count": 44,
   "metadata": {},
   "outputs": [
    {
     "output_type": "execute_result",
     "data": {
      "text/plain": "b'6L+Z5pivYmFzZeeahOekuuS+i+aYjuaWhw=='"
     },
     "metadata": {},
     "execution_count": 44
    }
   ],
   "source": [
    "def encodebase64(clear):\n",
    "    encoded = clear.encode(\"utf-8\")\n",
    "    return base64.b64encode(encoded)\n",
    "\n",
    "b64 = encodebase64(clearn)\n",
    "b64"
   ]
  },
  {
   "cell_type": "code",
   "execution_count": 45,
   "metadata": {},
   "outputs": [
    {
     "output_type": "execute_result",
     "data": {
      "text/plain": "'这是base的示例明文'"
     },
     "metadata": {},
     "execution_count": 45
    }
   ],
   "source": [
    "def decodebase64(cipher):\n",
    "    return base64.b64decode(cipher).decode(\"utf-8\")\n",
    "decodebase64(b64)"
   ]
  },
  {
   "cell_type": "markdown",
   "metadata": {},
   "source": [
    "## base85"
   ]
  },
  {
   "cell_type": "code",
   "execution_count": 46,
   "metadata": {},
   "outputs": [
    {
     "output_type": "execute_result",
     "data": {
      "text/plain": "b\"keEPJR'0t-F(OO'K]f/BjM$Q7R#^<pLB\""
     },
     "metadata": {},
     "execution_count": 46
    }
   ],
   "source": [
    "def encodebase85(clear):\n",
    "    encoded = clear.encode(\"utf-8\")\n",
    "    return base64.a85encode(encoded)\n",
    "b85 = encodebase85(clearn)\n",
    "b85"
   ]
  },
  {
   "cell_type": "code",
   "execution_count": 47,
   "metadata": {},
   "outputs": [
    {
     "output_type": "execute_result",
     "data": {
      "text/plain": "'这是base的示例明文'"
     },
     "metadata": {},
     "execution_count": 47
    }
   ],
   "source": [
    "def decodebase85(cipher):\n",
    "    return base64.a85decode(cipher).decode(\"utf-8\")\n",
    "decodebase85(b85)"
   ]
  },
  {
   "cell_type": "code",
   "execution_count": 49,
   "metadata": {},
   "outputs": [],
   "source": []
  }
 ],
 "metadata": {
  "language_info": {
   "codemirror_mode": {
    "name": "ipython",
    "version": 3
   },
   "file_extension": ".py",
   "mimetype": "text/x-python",
   "name": "python",
   "nbconvert_exporter": "python",
   "pygments_lexer": "ipython3",
   "version": "3.7.3-final"
  },
  "orig_nbformat": 2,
  "kernelspec": {
   "name": "python37364bit28c7ae371a8349be8f688737bac16680",
   "display_name": "Python 3.7.3 64-bit"
  }
 },
 "nbformat": 4,
 "nbformat_minor": 2
}