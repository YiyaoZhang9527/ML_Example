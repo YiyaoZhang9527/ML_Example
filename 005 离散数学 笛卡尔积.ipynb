{
 "cells": [
  {
   "cell_type": "code",
   "execution_count": 58,
   "metadata": {},
   "outputs": [],
   "source": [
    "import numpy as np"
   ]
  },
  {
   "cell_type": "code",
   "execution_count": 59,
   "metadata": {},
   "outputs": [],
   "source": [
    "A = list(range(5))\n",
    "B = [chr(i) for i in range(65,65+20)]"
   ]
  },
  {
   "cell_type": "code",
   "execution_count": 60,
   "metadata": {},
   "outputs": [],
   "source": [
    "def productExpr(*D,typekey='python'):\n",
    "    m = len(D)\n",
    "    symbol_index = {i:chr(i) for i in range(97,97+m)}\n",
    "    symbol1 = \"\".join([\"{}{}{}{}{}\".format(\" for \" ,symbol_index[i],\" in D[\" ,i-97,\"] \") for i in symbol_index])\n",
    "    symbol2 = \"\".join([\"{}{}\".format(\",\",symbol_index[i]) for i in symbol_index])[1:]\n",
    "    temp_expression = \"{}{}{}{}{}{}\".format(\"{\",\"(\",symbol2,\")\",symbol1,\"}\").replace(\"D\",str(D))\n",
    "    if typekey == \"numpy\": \n",
    "        expression = \"{}{}{}\".format(\"np.array(list(\",temp_expression,\"))\")\n",
    "    elif typekey == \"python\":\n",
    "        expression = temp_expression\n",
    "    expr = eval(expression)\n",
    "    return expr"
   ]
  },
  {
   "cell_type": "code",
   "execution_count": 72,
   "metadata": {
    "tags": []
   },
   "outputs": [
    {
     "output_type": "stream",
     "name": "stdout",
     "text": "CPU times: user 556 ms, sys: 13.4 ms, total: 569 ms\nWall time: 572 ms\n"
    },
    {
     "output_type": "execute_result",
     "data": {
      "text/plain": "(250000, 6)"
     },
     "metadata": {},
     "execution_count": 72
    }
   ],
   "source": [
    "%time productExpr(A,B,A,A,B,A,typekey='numpy').shape"
   ]
  },
  {
   "cell_type": "code",
   "execution_count": 80,
   "metadata": {},
   "outputs": [
    {
     "output_type": "execute_result",
     "data": {
      "text/plain": "{1: 1, 5: 25, 8: 64}"
     },
     "metadata": {},
     "execution_count": 80
    }
   ],
   "source": [
    "for i in [1,2,3]:\n",
    "    exec(f\"a{i}={dict([[k,v**2] for k,v in zip([1,5,8],[1,5,8])])}\")\n",
    "locals()[\"a1\"]"
   ]
  },
  {
   "cell_type": "code",
   "execution_count": 81,
   "metadata": {},
   "outputs": [
    {
     "output_type": "execute_result",
     "data": {
      "text/plain": "{1: 1, 5: 25, 8: 64}"
     },
     "metadata": {},
     "execution_count": 81
    }
   ],
   "source": [
    "locals()[\"a2\"]"
   ]
  },
  {
   "cell_type": "code",
   "execution_count": 82,
   "metadata": {},
   "outputs": [
    {
     "output_type": "execute_result",
     "data": {
      "text/plain": "{1: 1, 5: 25, 8: 64}"
     },
     "metadata": {},
     "execution_count": 82
    }
   ],
   "source": [
    "locals()[\"a3\"]"
   ]
  },
  {
   "cell_type": "code",
   "execution_count": null,
   "metadata": {},
   "outputs": [],
   "source": []
  }
 ],
 "metadata": {
  "language_info": {
   "codemirror_mode": {
    "name": "ipython",
    "version": 3
   },
   "file_extension": ".py",
   "mimetype": "text/x-python",
   "name": "python",
   "nbconvert_exporter": "python",
   "pygments_lexer": "ipython3",
   "version": "3.7.6-final"
  },
  "orig_nbformat": 2,
  "kernelspec": {
   "name": "pycharm-66c53067",
   "display_name": "PyCharm (InferenceSystem)"
  }
 },
 "nbformat": 4,
 "nbformat_minor": 2
}