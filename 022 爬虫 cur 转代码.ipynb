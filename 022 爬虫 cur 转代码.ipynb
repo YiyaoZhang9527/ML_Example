{
 "cells": [
  {
   "cell_type": "markdown",
   "metadata": {},
   "source": [
    "# cur 转代码\n",
    "https://curl.trillworks.com/https://curl.trillworks.com/"
   ]
  },
  {
   "cell_type": "code",
   "execution_count": 1,
   "metadata": {},
   "outputs": [],
   "source": [
    "import requests\n",
    "\n",
    "headers = {\n",
    "    'authority': 'pacaio.match.qq.com',\n",
    "    'user-agent': 'Mozilla/5.0 (Macintosh; Intel Mac OS X 10_15_5) AppleWebKit/537.36 (KHTML, like Gecko) Chrome/83.0.4103.116 Safari/537.36',\n",
    "    'accept': '*/*',\n",
    "    'sec-fetch-site': 'same-site',\n",
    "    'sec-fetch-mode': 'no-cors',\n",
    "    'sec-fetch-dest': 'script',\n",
    "    'referer': 'https://new.qq.com/ch/world/',\n",
    "    'accept-language': 'zh-CN,zh;q=0.9,en-US;q=0.8,en;q=0.7',\n",
    "    'cookie': 'pgv_pvid=1842862325; pgv_pvi=9176167424; tvfe_boss_uuid=e5ed0464d0d38297; RK=cWY8VotDfJ; ptcz=8f7a0a1edda1a73381680375ff2ae2aefea31c599d5ba0776d2676995cebb706; pac_uid=0_5e4aeed8cfc2b; XWINDEXGREY=0; _ga=GA1.2.1804583231.1590461684; pgv_info=ssid=s8953873680',\n",
    "}\n",
    "\n",
    "params = (\n",
    "    ('cid', '135'),\n",
    "    ('token', '6e92c215fb08afa901ac31eca115a34f'),\n",
    "    ('ext', 'world'),\n",
    "    ('page', '0'),\n",
    "    ('expIds', ['20200625A0AZOI|20200624A0W04K|20200624A0SLPN|20200624A0TN2E|20200624A0U27Y', '']),\n",
    "    ('callback', '__jp3'),\n",
    ")\n",
    "\n",
    "response = requests.get('https://pacaio.match.qq.com/irs/rcd', headers=headers, params=params)\n",
    "\n",
    "#NB. Original query string below. It seems impossible to parse and\n",
    "#reproduce query strings 100% accurately so the one below is given\n",
    "#in case the reproduced version is not \"correct\".\n",
    "# response = requests.get('https://pacaio.match.qq.com/irs/rcd?cid=135&token=6e92c215fb08afa901ac31eca115a34f&ext=world&page=0&expIds=20200625A0AZOI|20200624A0W04K|20200624A0SLPN|20200624A0TN2E|20200624A0U27Y&expIds=&callback=__jp3', headers=headers)\n"
   ]
  },
  {
   "cell_type": "code",
   "execution_count": 2,
   "metadata": {},
   "outputs": [
    {
     "output_type": "execute_result",
     "data": {
      "text/plain": "48"
     },
     "metadata": {},
     "execution_count": 2
    }
   ],
   "source": [
    "ord('0')"
   ]
  },
  {
   "cell_type": "code",
   "execution_count": 3,
   "metadata": {},
   "outputs": [
    {
     "output_type": "execute_result",
     "data": {
      "text/plain": "'社会国际社会社会美媒：特朗普疯狂推卸新冠肺炎疫情责任已经触底美国腾讯新闻美国美国美媒：特朗普疯狂推卸新冠肺炎疫情责任已经触底?=军事环球军情军事当地时间日上午，美军“理查德号”两栖攻击舰在圣迭戈海军基地爆炸起火，消防部门正在救援。图源：路透社海外网月日电据美国广播公司报道，当地时间日上午点分左右，美军“理查德号”两栖两栖攻击舰美军圣迭戈海军基地美国广播公司海外网两栖攻击舰美军圣迭戈海军基地两栖攻击舰美军圣迭戈海军基地美国广播公司美军两栖攻击舰突然爆炸现场浓烟滚滚名水兵和名平民受伤其它国际社会其它人挤人！法国人毫无防护街头蹦迪现场拥挤不堪视频曝光引热议海客新闻人挤人！法国人毫无防护街头蹦迪现场拥挤不堪视频曝光引热议其它国际社会其它印度百万蝗虫侵袭下一城市网友拍下“大地变黄”头皮发麻一幕海客新闻印度百万蝗虫侵袭下一城市网友拍下“大地变黄”头皮发麻一幕时政国际时政总统最终都是要对联邦政府和美国人民的利益负责的，一个在现代社会里奉行“想干嘛就干嘛”的总统，迟早会成为过街老鼠，而美国民主制度面临的挑战，将不可估量。本文独家供稿腾讯平台，未经允许不得转载月日特朗普集团通俄门罗杰·斯通美国总统理查德·尼克松马纳福特加拿大必读特朗普集团通俄门罗杰·斯通特朗普集团通俄门罗杰·斯通美国总统理查德·尼克松马纳福特想干嘛就干嘛的特朗普特赦昔日好友，再次让美国引以为傲的司法独立成笑话社会国际社会社会本文为国际媒体头条速览第期，独家供稿腾讯平台，未经授权，不得转载。：巨焰和爆炸损坏了美军在圣迭戈的军舰，造成人受伤昨天夜里你熟睡时，停靠在圣迭戈海军基地的美军“好人理查德”号两栖攻击爆炸环视全球爆炸爆炸国际媒体头条速览：基因侦探开始追踪新冠病毒的传播时政国际时政终于，特朗普还是戴上了口罩。但几个小时后，美国人哭笑不得。其中的美国故事，真是六月里冻死老绵羊——说来话长。简单来说吧。在几个月的抗拒后，最不喜欢口罩的特朗普，还是在公开场合戴上了口罩，皱着眉头，满特朗普美国时政白宫佩洛西牛弹琴特朗普美国时政白宫特朗普美国时政白宫佩洛西牛弹琴：特朗普终于戴口罩了，但几个小时后，美国人哭笑不得！时政国际时政连任悬了？特朗普竟“甩锅”给自己的政府美国大选腾讯新闻美国大选美国大选连任悬了？特朗普竟“甩锅”给自己的政府?=其它国际其它每日全球政要：南非总统宣布禁酒抗击疫情博索纳罗确诊后被拍到晒太阳海客新闻每日全球政要：南非总统宣布禁酒抗击疫情博索纳罗确诊后被拍到晒太阳时政重大民生时政【版权声明】本作品著作权归新民晚报独家所有，授权深圳市腾讯计算机系统有限公司独家享有信息网络传播权，任何第三方未经授权，不得转载。全球化可能已经失去了它在世纪年代所享有的能解决世上一切问题的全球化新冠疫情人工智能新民晚报全球化新冠疫情人工智能全球化新冠疫情人工智能后疫情时代的世界丨全球化失去“神秘光环”？不，它早就对你“洗脑”'"
     },
     "metadata": {},
     "execution_count": 3
    }
   ],
   "source": [
    "import re\n",
    "recom = re.compile(r'[a-z^A-Z\\0-9\\/\\\\+:.\"[_（）{}（）……;\\(\\)\\]\\        ]')\n",
    "re.sub(recom,'',response.text).replace(\";;\",'')"
   ]
  },
  {
   "cell_type": "code",
   "execution_count": null,
   "metadata": {},
   "outputs": [],
   "source": []
  }
 ],
 "metadata": {
  "language_info": {
   "codemirror_mode": {
    "name": "ipython",
    "version": 3
   },
   "file_extension": ".py",
   "mimetype": "text/x-python",
   "name": "python",
   "nbconvert_exporter": "python",
   "pygments_lexer": "ipython3",
   "version": "3.7.6-final"
  },
  "orig_nbformat": 2,
  "kernelspec": {
   "name": "pycharm-66c53067",
   "display_name": "PyCharm (InferenceSystem)"
  }
 },
 "nbformat": 4,
 "nbformat_minor": 2
}