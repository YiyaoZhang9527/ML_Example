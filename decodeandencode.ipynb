{
 "cells": [
  {
   "cell_type": "code",
   "execution_count": 443,
   "metadata": {},
   "outputs": [
    {
     "output_type": "execute_result",
     "data": {
      "text/plain": "array([  9.90463689,  10.21986641,  10.01135492,  10.06403203])"
     },
     "metadata": {},
     "execution_count": 443
    }
   ],
   "source": [
    "import numpy as np\n",
    "import datetime\n",
    "strings = '中欧国家'\n",
    "randomkey = eval('np.random.randint(0,10)+1,'*len(strings))\n",
    "matmsm = np.array([[ord(s),i,(len(strings)%randomkey[0])] for s,i in zip(strings,randomkey)])\n",
    "m,n = matmsm.shape\n",
    "theta = np.ones((n))\n",
    "stringsarray = np.log(np.dot(matmsm,theta))\n",
    "key = np.c_[stringsarray,randomkey]\n",
    "stringsarray"
   ]
  },
  {
   "cell_type": "code",
   "execution_count": 444,
   "metadata": {},
   "outputs": [
    {
     "output_type": "execute_result",
     "data": {
      "text/plain": "'392e393034363336383931373932363530342d323032302d30342d32332d31302e3231393836363430353330393835362d323032302d30342d32332d31302e3031313335343932333430353133342d323032302d30342d32332d31302e3036343033323033343039333831352d323032302d30342d32332d'"
     },
     "metadata": {},
     "execution_count": 444
    }
   ],
   "source": [
    "cipher = ''.join([''.join(list(map(lambda x : hex(ord(x))[2:] , '{}{}{}{}'.format(i.__repr__(),'-',format(datetime.datetime.today()).split(' ')[0],'-'))))for i in stringsarray])\n",
    "cipher"
   ]
  },
  {
   "cell_type": "code",
   "execution_count": 445,
   "metadata": {},
   "outputs": [
    {
     "output_type": "execute_result",
     "data": {
      "text/plain": "'中欧国家'"
     },
     "metadata": {},
     "execution_count": 445
    }
   ],
   "source": [
    "stringsarray ,randomkey = key[:,0],key[:,1]\n",
    "src = \"\".join([chr(int('{}{}'.format('0x',cipher[i:i+2]),16)) for i in range(0,len(cipher),2)]).split('-')\n",
    "y = np.array([src[i] for i in range(len(src)) if i % 4 == 0][:-1]).astype(float)\n",
    "n3 = [len(randomkey)%randomkey[0]]*len(randomkey)\n",
    "n2 = randomkey\n",
    "''.join([chr(int(round(i))) for i in np.exp(y)-n2-n3])"
   ]
  },
  {
   "cell_type": "code",
   "execution_count": 449,
   "metadata": {},
   "outputs": [
    {
     "output_type": "error",
     "ename": "TypeError",
     "evalue": "Required argument 'year' (pos 1) not found",
     "traceback": [
      "\u001b[0;31m---------------------------------------------------------------------------\u001b[0m",
      "\u001b[0;31mTypeError\u001b[0m                                 Traceback (most recent call last)",
      "\u001b[0;32m<ipython-input-449-c3db7d1b2d07>\u001b[0m in \u001b[0;36m<module>\u001b[0;34m()\u001b[0m\n\u001b[0;32m----> 1\u001b[0;31m \u001b[0mdatetime\u001b[0m\u001b[0;34m.\u001b[0m\u001b[0mdate\u001b[0m\u001b[0;34m(\u001b[0m\u001b[0;34m)\u001b[0m\u001b[0;34m\u001b[0m\u001b[0m\n\u001b[0m",
      "\u001b[0;31mTypeError\u001b[0m: Required argument 'year' (pos 1) not found"
     ]
    }
   ],
   "source": [
    "datetime.date()"
   ]
  },
  {
   "cell_type": "code",
   "execution_count": 446,
   "metadata": {},
   "outputs": [
    {
     "output_type": "execute_result",
     "data": {
      "text/plain": "array([[ 10.03609352,   7.        ],\n       [  9.92127835,   4.        ],\n       [  9.90588468,   1.        ],\n       [ 10.01139981,   6.        ]])"
     },
     "metadata": {},
     "execution_count": 446
    }
   ],
   "source": [
    "def my_encode_mat(strings):\n",
    "    randomkey = eval('np.random.randint(0,10)+1,'*len(strings))\n",
    "    matmsm = np.array([[ord(s),i,(len(strings)%randomkey[0])] for s,i     in zip(strings,randomkey)])\n",
    "    m,n = matmsm.shape\n",
    "    theta = np.ones((n))\n",
    "    stringsarray = np.log(np.dot(matmsm,theta))\n",
    "    key = np.c_[stringsarray,randomkey]\n",
    "    cipher = ''.join([''.join(list(map(lambda x : hex(ord(x))[2:] , '{}{}{}{}'.format(i.__repr__(),'-',format(datetime.datetime.today()).split(' ')[0],'-'))))for i in stringsarray])\n",
    "    return key,cipher\n",
    "\n",
    "my_encode_mat('天使之国')"
   ]
  },
  {
   "cell_type": "code",
   "execution_count": 447,
   "metadata": {},
   "outputs": [],
   "source": [
    "def my_decode_mat(matkey):\n",
    "    stringsarray ,randomkey = key[:,0],key[:,1]\n",
    "    src = \"\".join([chr(int('{}{}'.format('0x',cipher[i:i+2]),16)) for i in range(0,len(cipher),2)]).split('-')\n",
    "    y = np.array([src[i] for i in range(len(src)) if i % 4 == 0][:-1]).astype(float)\n",
    "    n3 = [len(randomkey)%randomkey[0]]*len(randomkey)\n",
    "    n2 = randomkey\n",
    "    return ''.join([chr(int(round(i))) for i in np.exp(y)-n2-n3])"
   ]
  },
  {
   "cell_type": "code",
   "execution_count": 448,
   "metadata": {},
   "outputs": [
    {
     "output_type": "execute_result",
     "data": {
      "text/plain": "'中欧国家'"
     },
     "metadata": {},
     "execution_count": 448
    }
   ],
   "source": [
    "my_decode_mat(my_encode_mat('天使之国'))"
   ]
  },
  {
   "cell_type": "code",
   "execution_count": null,
   "metadata": {},
   "outputs": [],
   "source": []
  }
 ],
 "metadata": {
  "language_info": {
   "codemirror_mode": {
    "name": "ipython",
    "version": 3
   },
   "file_extension": ".py",
   "mimetype": "text/x-python",
   "name": "python",
   "nbconvert_exporter": "python",
   "pygments_lexer": "ipython3",
   "version": "3.6.2-final"
  },
  "orig_nbformat": 2,
  "kernelspec": {
   "name": "python36264bitdeeplearningconda291cf55c2ab64e6699f94edfaa9453b1",
   "display_name": "Python 3.6.2 64-bit ('deeplearning': conda)"
  }
 },
 "nbformat": 4,
 "nbformat_minor": 2
}