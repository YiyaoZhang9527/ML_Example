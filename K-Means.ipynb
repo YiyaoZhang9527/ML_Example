{
 "cells": [
  {
   "cell_type": "code",
   "execution_count": 1,
   "metadata": {},
   "outputs": [],
   "source": [
    "import numpy as np\n",
    "import math\n",
    "import matplotlib.pyplot as plt\n",
    "from os import getcwd\n",
    "np.set_printoptions(suppress=True)"
   ]
  },
  {
   "cell_type": "code",
   "execution_count": 2,
   "metadata": {},
   "outputs": [
    {
     "output_type": "execute_result",
     "data": {
      "text/plain": "array([8.75070591, 8.46984836, 9.61453532, 7.37258067, 4.6017177 ,\n       2.53132041, 9.27443742, 7.02766548, 6.58282091, 4.61623192,\n       3.1027824 , 1.71074567, 8.90803794, 5.57993981, 2.20948158,\n       0.86853204, 4.77834092, 3.40315253, 8.04314229, 4.1754375 ,\n       0.17786166, 5.49726362, 0.30304293, 8.84428968, 4.05358925,\n       5.87332087, 7.75071509, 4.76042371, 4.54325229, 9.88046945,\n       6.2081028 , 3.60206112, 0.09696167, 1.50759915, 2.825671  ,\n       8.11403488, 3.63281328, 8.29288447, 2.89104579, 3.60560058,\n       0.23011112, 3.48553151, 7.12790108, 5.5359016 , 4.50042617,\n       2.12808581, 7.42997575, 3.24624506, 7.27351366, 3.28158165,\n       1.29853677, 8.74243773, 1.25913514, 2.91743361, 7.36133541,\n       5.50707596, 9.68102118, 8.95776414, 2.90762223, 7.54653991,\n       8.78765449, 9.35042769, 5.89603184, 5.51551273, 0.87389428,\n       8.99685079, 2.47293557, 1.63021682, 1.11319018, 3.72642695,\n       7.63684669, 5.09614949, 7.20499406, 2.35921548, 0.5273299 ,\n       7.53846296, 4.7529331 , 9.35794143, 3.83376211, 6.69564079,\n       9.85712856, 5.24731853, 8.44633704, 2.67876419, 3.2844889 ,\n       8.06423858, 2.30289815, 1.51343993, 2.07528541, 3.72921134,\n       8.93885784, 0.44149309, 7.46986561, 3.09040402, 9.27642646,\n       1.49772972, 7.43340267, 7.37248127, 3.90602178, 1.2779358 ])"
     },
     "metadata": {},
     "execution_count": 2
    }
   ],
   "source": [
    "src_data = np.random.random(100) * 10\n",
    "src_data"
   ]
  },
  {
   "cell_type": "code",
   "execution_count": 3,
   "metadata": {},
   "outputs": [
    {
     "output_type": "execute_result",
     "data": {
      "text/plain": "matrix([[0.        , 8.75070591],\n        [0.1       , 8.46984836],\n        [0.2       , 9.61453532],\n        [0.3       , 7.37258067],\n        [0.4       , 4.6017177 ],\n        [0.5       , 2.53132041],\n        [0.6       , 9.27443742],\n        [0.7       , 7.02766548],\n        [0.8       , 6.58282091],\n        [0.9       , 4.61623192],\n        [1.        , 3.1027824 ],\n        [1.1       , 1.71074567],\n        [1.2       , 8.90803794],\n        [1.3       , 5.57993981],\n        [1.4       , 2.20948158],\n        [1.5       , 0.86853204],\n        [1.6       , 4.77834092],\n        [1.7       , 3.40315253],\n        [1.8       , 8.04314229],\n        [1.9       , 4.1754375 ],\n        [2.        , 0.17786166],\n        [2.1       , 5.49726362],\n        [2.2       , 0.30304293],\n        [2.3       , 8.84428968],\n        [2.4       , 4.05358925],\n        [2.5       , 5.87332087],\n        [2.6       , 7.75071509],\n        [2.7       , 4.76042371],\n        [2.8       , 4.54325229],\n        [2.9       , 9.88046945],\n        [3.        , 6.2081028 ],\n        [3.1       , 3.60206112],\n        [3.2       , 0.09696167],\n        [3.3       , 1.50759915],\n        [3.4       , 2.825671  ],\n        [3.5       , 8.11403488],\n        [3.6       , 3.63281328],\n        [3.7       , 8.29288447],\n        [3.8       , 2.89104579],\n        [3.9       , 3.60560058],\n        [4.        , 0.23011112],\n        [4.1       , 3.48553151],\n        [4.2       , 7.12790108],\n        [4.3       , 5.5359016 ],\n        [4.4       , 4.50042617],\n        [4.5       , 2.12808581],\n        [4.6       , 7.42997575],\n        [4.7       , 3.24624506],\n        [4.8       , 7.27351366],\n        [4.9       , 3.28158165],\n        [5.        , 1.29853677],\n        [5.1       , 8.74243773],\n        [5.2       , 1.25913514],\n        [5.3       , 2.91743361],\n        [5.4       , 7.36133541],\n        [5.5       , 5.50707596],\n        [5.6       , 9.68102118],\n        [5.7       , 8.95776414],\n        [5.8       , 2.90762223],\n        [5.9       , 7.54653991],\n        [6.        , 8.78765449],\n        [6.1       , 9.35042769],\n        [6.2       , 5.89603184],\n        [6.3       , 5.51551273],\n        [6.4       , 0.87389428],\n        [6.5       , 8.99685079],\n        [6.6       , 2.47293557],\n        [6.7       , 1.63021682],\n        [6.8       , 1.11319018],\n        [6.9       , 3.72642695],\n        [7.        , 7.63684669],\n        [7.1       , 5.09614949],\n        [7.2       , 7.20499406],\n        [7.3       , 2.35921548],\n        [7.4       , 0.5273299 ],\n        [7.5       , 7.53846296],\n        [7.6       , 4.7529331 ],\n        [7.7       , 9.35794143],\n        [7.8       , 3.83376211],\n        [7.9       , 6.69564079],\n        [8.        , 9.85712856],\n        [8.1       , 5.24731853],\n        [8.2       , 8.44633704],\n        [8.3       , 2.67876419],\n        [8.4       , 3.2844889 ],\n        [8.5       , 8.06423858],\n        [8.6       , 2.30289815],\n        [8.7       , 1.51343993],\n        [8.8       , 2.07528541],\n        [8.9       , 3.72921134],\n        [9.        , 8.93885784],\n        [9.1       , 0.44149309],\n        [9.2       , 7.46986561],\n        [9.3       , 3.09040402],\n        [9.4       , 9.27642646],\n        [9.5       , 1.49772972],\n        [9.6       , 7.43340267],\n        [9.7       , 7.37248127],\n        [9.8       , 3.90602178],\n        [9.9       , 1.2779358 ]])"
     },
     "metadata": {},
     "execution_count": 3
    }
   ],
   "source": [
    "data1 = np.mat([[i/10,src_data[i]] for i in range(len(src_data))])\n",
    "data1"
   ]
  },
  {
   "cell_type": "code",
   "execution_count": 4,
   "metadata": {},
   "outputs": [],
   "source": [
    "data = np.mat([[0.0, 7.8031236401009165], [0.1, 4.426411521373964], [0.2, 8.947706236035394], [0.3, 8.200555461071133], [0.4, 0.5142706050449086], [0.5, 3.1008492860590753], [0.6, 7.1785370142703], [0.7, 3.872126889453009], [0.8, 1.025577102380758], [0.9, 4.833507884197839], [1.0, 0.9345186488455648], [1.1, 4.812032669803522], [1.2, 3.4191665496674375], [1.3, 0.022961590431520573], [1.4, 0.8785497842851486], [1.5, 3.2381682303766004], [1.6, 6.663617230163021], [1.7, 0.9093960835056158], [1.8, 3.680521995791508], [1.9, 4.900535080573809], [2.0, 0.5937324344804573], [2.1, 7.783916463844781], [2.2, 7.11179421378249], [2.3, 2.4446164389372083], [2.4, 0.31413070861756043], [2.5, 8.793728586574554], [2.6, 5.826793655403399], [2.7, 5.694595209349293], [2.8, 1.810999124588204], [2.9, 2.5891746519869896], [3.0, 7.989527941362203], [3.1, 3.8888255411877237], [3.2, 6.980965568743198], [3.3, 6.183466511452052], [3.4, 8.994788345820844], [3.5, 7.713561865457374], [3.6, 5.373007398355321], [3.7, 5.857041801728861], [3.8, 1.2873991273003293], [3.9, 7.90280175406894], [4.0, 2.114965228889154], [4.1, 1.9122653164064485], [4.2, 1.430294828685612], [4.3, 6.447866312224862], [4.4, 1.6034730966952893], [4.5, 5.020523561692603], [4.6, 8.434230931666896], [4.7, 8.926232142246732], [4.8, 7.21575735052221], [4.9, 0.8242497089572909], [5.0, 3.2773727950676923], [5.1, 4.789459791385374], [5.2, 5.7771008824695205], [5.3, 5.475006081618368], [5.4, 0.1095089272289862], [5.5, 3.708028945757401], [5.6, 5.868541457709577], [5.7, 3.82129152340557], [5.8, 4.672995214563882], [5.9, 7.139883221140032], [6.0, 1.9266318905278135], [6.1, 8.37752018393436], [6.2, 0.38698741212173093], [6.3, 6.809020238683873], [6.4, 6.7650503938175754], [6.5, 3.622205528236381], [6.6, 6.2275067570806755], [6.7, 9.272360909999943], [6.8, 6.937813473353321], [6.9, 6.719818328095723], [7.0, 4.1761213627699085], [7.1, 2.2186584343523554], [7.2, 4.325155968720139], [7.3, 6.346030576482492], [7.4, 6.681255604404174], [7.5, 0.9022441439624651], [7.6, 3.5585144004608313], [7.7, 3.0389210408048797], [7.8, 1.2906111157619915], [7.9, 5.5836998346201785], [8.0, 9.35888445552132], [8.1, 7.895786013311998], [8.2, 8.908751780051233], [8.3, 0.5462991244242466], [8.4, 5.430329386519083], [8.5, 5.632137779391064], [8.6, 8.919006991403911], [8.7, 1.881419639976668], [8.8, 0.8227664012604219], [8.9, 6.551076298674367], [9.0, 0.8128558657766949], [9.1, 3.8227215510033807], [9.2, 5.628006555285536], [9.3, 7.4386834204408645], [9.4, 3.7984910271263073], [9.5, 4.012712837404079], [9.6, 9.755417444517088], [9.7, 2.8443889672100973], [9.8, 4.143513529213513], [9.9, 4.093044136223663]])\n",
    ""
   ]
  },
  {
   "cell_type": "code",
   "execution_count": 5,
   "metadata": {},
   "outputs": [
    {
     "output_type": "execute_result",
     "data": {
      "text/plain": "<matplotlib.collections.PathCollection at 0x10b9d1050>"
     },
     "metadata": {},
     "execution_count": 5
    },
    {
     "output_type": "display_data",
     "data": {
      "text/plain": "<Figure size 432x288 with 1 Axes>",
      "image/svg+xml": "<?xml version=\"1.0\" encoding=\"utf-8\" standalone=\"no\"?>\n<!DOCTYPE svg PUBLIC \"-//W3C//DTD SVG 1.1//EN\"\n  \"http://www.w3.org/Graphics/SVG/1.1/DTD/svg11.dtd\">\n<!-- Created with matplotlib (https://matplotlib.org/) -->\n<svg height=\"248.518125pt\" version=\"1.1\" viewBox=\"0 0 368.925 248.518125\" width=\"368.925pt\" xmlns=\"http://www.w3.org/2000/svg\" xmlns:xlink=\"http://www.w3.org/1999/xlink\">\n <defs>\n  <style type=\"text/css\">\n*{stroke-linecap:butt;stroke-linejoin:round;}\n  </style>\n </defs>\n <g id=\"figure_1\">\n  <g id=\"patch_1\">\n   <path d=\"M -0 248.518125 \nL 368.925 248.518125 \nL 368.925 0 \nL -0 0 \nz\n\" style=\"fill:none;\"/>\n  </g>\n  <g id=\"axes_1\">\n   <g id=\"patch_2\">\n    <path d=\"M 26.925 224.64 \nL 361.725 224.64 \nL 361.725 7.2 \nL 26.925 7.2 \nz\n\" style=\"fill:#ffffff;\"/>\n   </g>\n   <g id=\"PathCollection_1\">\n    <defs>\n     <path d=\"M 0 3 \nC 0.795609 3 1.55874 2.683901 2.12132 2.12132 \nC 2.683901 1.55874 3 0.795609 3 0 \nC 3 -0.795609 2.683901 -1.55874 2.12132 -2.12132 \nC 1.55874 -2.683901 0.795609 -3 0 -3 \nC -0.795609 -3 -1.55874 -2.683901 -2.12132 -2.12132 \nC -2.683901 -1.55874 -3 -0.795609 -3 0 \nC -3 0.795609 -2.683901 1.55874 -2.12132 2.12132 \nC -1.55874 2.683901 -0.795609 3 0 3 \nz\n\" id=\"mc583a16de1\" style=\"stroke:#1f77b4;\"/>\n    </defs>\n    <g clip-path=\"url(#pbc6ce188fe)\">\n     <use style=\"fill:#1f77b4;stroke:#1f77b4;\" x=\"42.418166\" xlink:href=\"#mc583a16de1\" y=\"56.903363\"/>\n     <use style=\"fill:#1f77b4;stroke:#1f77b4;\" x=\"45.486991\" xlink:href=\"#mc583a16de1\" y=\"125.292759\"/>\n     <use style=\"fill:#1f77b4;stroke:#1f77b4;\" x=\"48.555816\" xlink:href=\"#mc583a16de1\" y=\"33.721846\"/>\n     <use style=\"fill:#1f77b4;stroke:#1f77b4;\" x=\"51.624641\" xlink:href=\"#mc583a16de1\" y=\"48.854077\"/>\n     <use style=\"fill:#1f77b4;stroke:#1f77b4;\" x=\"54.693466\" xlink:href=\"#mc583a16de1\" y=\"204.526327\"/>\n     <use style=\"fill:#1f77b4;stroke:#1f77b4;\" x=\"57.762291\" xlink:href=\"#mc583a16de1\" y=\"152.139702\"/>\n     <use style=\"fill:#1f77b4;stroke:#1f77b4;\" x=\"60.831116\" xlink:href=\"#mc583a16de1\" y=\"69.553273\"/>\n     <use style=\"fill:#1f77b4;stroke:#1f77b4;\" x=\"63.899941\" xlink:href=\"#mc583a16de1\" y=\"136.518824\"/>\n     <use style=\"fill:#1f77b4;stroke:#1f77b4;\" x=\"66.968766\" xlink:href=\"#mc583a16de1\" y=\"194.170709\"/>\n     <use style=\"fill:#1f77b4;stroke:#1f77b4;\" x=\"70.03759\" xlink:href=\"#mc583a16de1\" y=\"117.047734\"/>\n     <use style=\"fill:#1f77b4;stroke:#1f77b4;\" x=\"73.106415\" xlink:href=\"#mc583a16de1\" y=\"196.014938\"/>\n     <use style=\"fill:#1f77b4;stroke:#1f77b4;\" x=\"76.17524\" xlink:href=\"#mc583a16de1\" y=\"117.482677\"/>\n     <use style=\"fill:#1f77b4;stroke:#1f77b4;\" x=\"79.244065\" xlink:href=\"#mc583a16de1\" y=\"145.692743\"/>\n     <use style=\"fill:#1f77b4;stroke:#1f77b4;\" x=\"82.31289\" xlink:href=\"#mc583a16de1\" y=\"214.476931\"/>\n     <use style=\"fill:#1f77b4;stroke:#1f77b4;\" x=\"85.381715\" xlink:href=\"#mc583a16de1\" y=\"197.14849\"/>\n     <use style=\"fill:#1f77b4;stroke:#1f77b4;\" x=\"88.45054\" xlink:href=\"#mc583a16de1\" y=\"149.358547\"/>\n     <use style=\"fill:#1f77b4;stroke:#1f77b4;\" x=\"91.519365\" xlink:href=\"#mc583a16de1\" y=\"79.982072\"/>\n     <use style=\"fill:#1f77b4;stroke:#1f77b4;\" x=\"94.58819\" xlink:href=\"#mc583a16de1\" y=\"196.523752\"/>\n     <use style=\"fill:#1f77b4;stroke:#1f77b4;\" x=\"97.657015\" xlink:href=\"#mc583a16de1\" y=\"140.399446\"/>\n     <use style=\"fill:#1f77b4;stroke:#1f77b4;\" x=\"100.72584\" xlink:href=\"#mc583a16de1\" y=\"115.690215\"/>\n     <use style=\"fill:#1f77b4;stroke:#1f77b4;\" x=\"103.794665\" xlink:href=\"#mc583a16de1\" y=\"202.916967\"/>\n     <use style=\"fill:#1f77b4;stroke:#1f77b4;\" x=\"106.86349\" xlink:href=\"#mc583a16de1\" y=\"57.292371\"/>\n     <use style=\"fill:#1f77b4;stroke:#1f77b4;\" x=\"109.932315\" xlink:href=\"#mc583a16de1\" y=\"70.905031\"/>\n     <use style=\"fill:#1f77b4;stroke:#1f77b4;\" x=\"113.001139\" xlink:href=\"#mc583a16de1\" y=\"165.43055\"/>\n     <use style=\"fill:#1f77b4;stroke:#1f77b4;\" x=\"116.069964\" xlink:href=\"#mc583a16de1\" y=\"208.57981\"/>\n     <use style=\"fill:#1f77b4;stroke:#1f77b4;\" x=\"119.138789\" xlink:href=\"#mc583a16de1\" y=\"36.840394\"/>\n     <use style=\"fill:#1f77b4;stroke:#1f77b4;\" x=\"122.207614\" xlink:href=\"#mc583a16de1\" y=\"96.930469\"/>\n     <use style=\"fill:#1f77b4;stroke:#1f77b4;\" x=\"125.276439\" xlink:href=\"#mc583a16de1\" y=\"99.607917\"/>\n     <use style=\"fill:#1f77b4;stroke:#1f77b4;\" x=\"128.345264\" xlink:href=\"#mc583a16de1\" y=\"178.26336\"/>\n     <use style=\"fill:#1f77b4;stroke:#1f77b4;\" x=\"131.414089\" xlink:href=\"#mc583a16de1\" y=\"162.502776\"/>\n     <use style=\"fill:#1f77b4;stroke:#1f77b4;\" x=\"134.482914\" xlink:href=\"#mc583a16de1\" y=\"53.12807\"/>\n     <use style=\"fill:#1f77b4;stroke:#1f77b4;\" x=\"137.551739\" xlink:href=\"#mc583a16de1\" y=\"136.180622\"/>\n     <use style=\"fill:#1f77b4;stroke:#1f77b4;\" x=\"140.620564\" xlink:href=\"#mc583a16de1\" y=\"73.554736\"/>\n     <use style=\"fill:#1f77b4;stroke:#1f77b4;\" x=\"143.689389\" xlink:href=\"#mc583a16de1\" y=\"89.706684\"/>\n     <use style=\"fill:#1f77b4;stroke:#1f77b4;\" x=\"146.758214\" xlink:href=\"#mc583a16de1\" y=\"32.76828\"/>\n     <use style=\"fill:#1f77b4;stroke:#1f77b4;\" x=\"149.827039\" xlink:href=\"#mc583a16de1\" y=\"58.71728\"/>\n     <use style=\"fill:#1f77b4;stroke:#1f77b4;\" x=\"152.895863\" xlink:href=\"#mc583a16de1\" y=\"106.121115\"/>\n     <use style=\"fill:#1f77b4;stroke:#1f77b4;\" x=\"155.964688\" xlink:href=\"#mc583a16de1\" y=\"96.317846\"/>\n     <use style=\"fill:#1f77b4;stroke:#1f77b4;\" x=\"159.033513\" xlink:href=\"#mc583a16de1\" y=\"188.867962\"/>\n     <use style=\"fill:#1f77b4;stroke:#1f77b4;\" x=\"162.102338\" xlink:href=\"#mc583a16de1\" y=\"54.884558\"/>\n     <use style=\"fill:#1f77b4;stroke:#1f77b4;\" x=\"165.171163\" xlink:href=\"#mc583a16de1\" y=\"172.107058\"/>\n     <use style=\"fill:#1f77b4;stroke:#1f77b4;\" x=\"168.239988\" xlink:href=\"#mc583a16de1\" y=\"176.21239\"/>\n     <use style=\"fill:#1f77b4;stroke:#1f77b4;\" x=\"171.308813\" xlink:href=\"#mc583a16de1\" y=\"185.973859\"/>\n     <use style=\"fill:#1f77b4;stroke:#1f77b4;\" x=\"174.377638\" xlink:href=\"#mc583a16de1\" y=\"84.351729\"/>\n     <use style=\"fill:#1f77b4;stroke:#1f77b4;\" x=\"177.446463\" xlink:href=\"#mc583a16de1\" y=\"182.466437\"/>\n     <use style=\"fill:#1f77b4;stroke:#1f77b4;\" x=\"180.515288\" xlink:href=\"#mc583a16de1\" y=\"113.260059\"/>\n     <use style=\"fill:#1f77b4;stroke:#1f77b4;\" x=\"183.584113\" xlink:href=\"#mc583a16de1\" y=\"44.12139\"/>\n     <use style=\"fill:#1f77b4;stroke:#1f77b4;\" x=\"186.652938\" xlink:href=\"#mc583a16de1\" y=\"34.156766\"/>\n     <use style=\"fill:#1f77b4;stroke:#1f77b4;\" x=\"189.721763\" xlink:href=\"#mc583a16de1\" y=\"68.79944\"/>\n     <use style=\"fill:#1f77b4;stroke:#1f77b4;\" x=\"192.790588\" xlink:href=\"#mc583a16de1\" y=\"198.248243\"/>\n     <use style=\"fill:#1f77b4;stroke:#1f77b4;\" x=\"195.859412\" xlink:href=\"#mc583a16de1\" y=\"148.564527\"/>\n     <use style=\"fill:#1f77b4;stroke:#1f77b4;\" x=\"198.928237\" xlink:href=\"#mc583a16de1\" y=\"117.939851\"/>\n     <use style=\"fill:#1f77b4;stroke:#1f77b4;\" x=\"201.997062\" xlink:href=\"#mc583a16de1\" y=\"97.936909\"/>\n     <use style=\"fill:#1f77b4;stroke:#1f77b4;\" x=\"205.065887\" xlink:href=\"#mc583a16de1\" y=\"104.055311\"/>\n     <use style=\"fill:#1f77b4;stroke:#1f77b4;\" x=\"208.134712\" xlink:href=\"#mc583a16de1\" y=\"212.724067\"/>\n     <use style=\"fill:#1f77b4;stroke:#1f77b4;\" x=\"211.203537\" xlink:href=\"#mc583a16de1\" y=\"139.84234\"/>\n     <use style=\"fill:#1f77b4;stroke:#1f77b4;\" x=\"214.272362\" xlink:href=\"#mc583a16de1\" y=\"96.08494\"/>\n     <use style=\"fill:#1f77b4;stroke:#1f77b4;\" x=\"217.341187\" xlink:href=\"#mc583a16de1\" y=\"137.548405\"/>\n     <use style=\"fill:#1f77b4;stroke:#1f77b4;\" x=\"220.410012\" xlink:href=\"#mc583a16de1\" y=\"120.298637\"/>\n     <use style=\"fill:#1f77b4;stroke:#1f77b4;\" x=\"223.478837\" xlink:href=\"#mc583a16de1\" y=\"70.336137\"/>\n     <use style=\"fill:#1f77b4;stroke:#1f77b4;\" x=\"226.547662\" xlink:href=\"#mc583a16de1\" y=\"175.921421\"/>\n     <use style=\"fill:#1f77b4;stroke:#1f77b4;\" x=\"229.616487\" xlink:href=\"#mc583a16de1\" y=\"45.269966\"/>\n     <use style=\"fill:#1f77b4;stroke:#1f77b4;\" x=\"232.685312\" xlink:href=\"#mc583a16de1\" y=\"207.104225\"/>\n     <use style=\"fill:#1f77b4;stroke:#1f77b4;\" x=\"235.754137\" xlink:href=\"#mc583a16de1\" y=\"77.037188\"/>\n     <use style=\"fill:#1f77b4;stroke:#1f77b4;\" x=\"238.822961\" xlink:href=\"#mc583a16de1\" y=\"77.92772\"/>\n     <use style=\"fill:#1f77b4;stroke:#1f77b4;\" x=\"241.891786\" xlink:href=\"#mc583a16de1\" y=\"141.580544\"/>\n     <use style=\"fill:#1f77b4;stroke:#1f77b4;\" x=\"244.960611\" xlink:href=\"#mc583a16de1\" y=\"88.814726\"/>\n     <use style=\"fill:#1f77b4;stroke:#1f77b4;\" x=\"248.029436\" xlink:href=\"#mc583a16de1\" y=\"27.146533\"/>\n     <use style=\"fill:#1f77b4;stroke:#1f77b4;\" x=\"251.098261\" xlink:href=\"#mc583a16de1\" y=\"74.428707\"/>\n     <use style=\"fill:#1f77b4;stroke:#1f77b4;\" x=\"254.167086\" xlink:href=\"#mc583a16de1\" y=\"78.843817\"/>\n     <use style=\"fill:#1f77b4;stroke:#1f77b4;\" x=\"257.235911\" xlink:href=\"#mc583a16de1\" y=\"130.361948\"/>\n     <use style=\"fill:#1f77b4;stroke:#1f77b4;\" x=\"260.304736\" xlink:href=\"#mc583a16de1\" y=\"170.006934\"/>\n     <use style=\"fill:#1f77b4;stroke:#1f77b4;\" x=\"263.373561\" xlink:href=\"#mc583a16de1\" y=\"127.343513\"/>\n     <use style=\"fill:#1f77b4;stroke:#1f77b4;\" x=\"266.442386\" xlink:href=\"#mc583a16de1\" y=\"86.414234\"/>\n     <use style=\"fill:#1f77b4;stroke:#1f77b4;\" x=\"269.511211\" xlink:href=\"#mc583a16de1\" y=\"79.624837\"/>\n     <use style=\"fill:#1f77b4;stroke:#1f77b4;\" x=\"272.580036\" xlink:href=\"#mc583a16de1\" y=\"196.668602\"/>\n     <use style=\"fill:#1f77b4;stroke:#1f77b4;\" x=\"275.648861\" xlink:href=\"#mc583a16de1\" y=\"142.870496\"/>\n     <use style=\"fill:#1f77b4;stroke:#1f77b4;\" x=\"278.717685\" xlink:href=\"#mc583a16de1\" y=\"153.39395\"/>\n     <use style=\"fill:#1f77b4;stroke:#1f77b4;\" x=\"281.78651\" xlink:href=\"#mc583a16de1\" y=\"188.802908\"/>\n     <use style=\"fill:#1f77b4;stroke:#1f77b4;\" x=\"284.855335\" xlink:href=\"#mc583a16de1\" y=\"101.853909\"/>\n     <use style=\"fill:#1f77b4;stroke:#1f77b4;\" x=\"287.92416\" xlink:href=\"#mc583a16de1\" y=\"25.39415\"/>\n     <use style=\"fill:#1f77b4;stroke:#1f77b4;\" x=\"290.992985\" xlink:href=\"#mc583a16de1\" y=\"55.026649\"/>\n     <use style=\"fill:#1f77b4;stroke:#1f77b4;\" x=\"294.06181\" xlink:href=\"#mc583a16de1\" y=\"34.5108\"/>\n     <use style=\"fill:#1f77b4;stroke:#1f77b4;\" x=\"297.130635\" xlink:href=\"#mc583a16de1\" y=\"203.877645\"/>\n     <use style=\"fill:#1f77b4;stroke:#1f77b4;\" x=\"300.19946\" xlink:href=\"#mc583a16de1\" y=\"104.960159\"/>\n     <use style=\"fill:#1f77b4;stroke:#1f77b4;\" x=\"303.268285\" xlink:href=\"#mc583a16de1\" y=\"100.872883\"/>\n     <use style=\"fill:#1f77b4;stroke:#1f77b4;\" x=\"306.33711\" xlink:href=\"#mc583a16de1\" y=\"34.303099\"/>\n     <use style=\"fill:#1f77b4;stroke:#1f77b4;\" x=\"309.405935\" xlink:href=\"#mc583a16de1\" y=\"176.837116\"/>\n     <use style=\"fill:#1f77b4;stroke:#1f77b4;\" x=\"312.47476\" xlink:href=\"#mc583a16de1\" y=\"198.278284\"/>\n     <use style=\"fill:#1f77b4;stroke:#1f77b4;\" x=\"315.543585\" xlink:href=\"#mc583a16de1\" y=\"82.261391\"/>\n     <use style=\"fill:#1f77b4;stroke:#1f77b4;\" x=\"318.61241\" xlink:href=\"#mc583a16de1\" y=\"198.479005\"/>\n     <use style=\"fill:#1f77b4;stroke:#1f77b4;\" x=\"321.681234\" xlink:href=\"#mc583a16de1\" y=\"137.519442\"/>\n     <use style=\"fill:#1f77b4;stroke:#1f77b4;\" x=\"324.750059\" xlink:href=\"#mc583a16de1\" y=\"100.956554\"/>\n     <use style=\"fill:#1f77b4;stroke:#1f77b4;\" x=\"327.818884\" xlink:href=\"#mc583a16de1\" y=\"64.284462\"/>\n     <use style=\"fill:#1f77b4;stroke:#1f77b4;\" x=\"330.887709\" xlink:href=\"#mc583a16de1\" y=\"138.010189\"/>\n     <use style=\"fill:#1f77b4;stroke:#1f77b4;\" x=\"333.956534\" xlink:href=\"#mc583a16de1\" y=\"133.671501\"/>\n     <use style=\"fill:#1f77b4;stroke:#1f77b4;\" x=\"337.025359\" xlink:href=\"#mc583a16de1\" y=\"17.363069\"/>\n     <use style=\"fill:#1f77b4;stroke:#1f77b4;\" x=\"340.094184\" xlink:href=\"#mc583a16de1\" y=\"157.333857\"/>\n     <use style=\"fill:#1f77b4;stroke:#1f77b4;\" x=\"343.163009\" xlink:href=\"#mc583a16de1\" y=\"131.022362\"/>\n     <use style=\"fill:#1f77b4;stroke:#1f77b4;\" x=\"346.231834\" xlink:href=\"#mc583a16de1\" y=\"132.044532\"/>\n    </g>\n   </g>\n   <g id=\"matplotlib.axis_1\">\n    <g id=\"xtick_1\">\n     <g id=\"line2d_1\">\n      <defs>\n       <path d=\"M 0 0 \nL 0 3.5 \n\" id=\"m48507c1711\" style=\"stroke:#000000;stroke-width:0.8;\"/>\n      </defs>\n      <g>\n       <use style=\"stroke:#000000;stroke-width:0.8;\" x=\"42.418166\" xlink:href=\"#m48507c1711\" y=\"224.64\"/>\n      </g>\n     </g>\n     <g id=\"text_1\">\n      <!-- 0 -->\n      <defs>\n       <path d=\"M 31.78125 66.40625 \nQ 24.171875 66.40625 20.328125 58.90625 \nQ 16.5 51.421875 16.5 36.375 \nQ 16.5 21.390625 20.328125 13.890625 \nQ 24.171875 6.390625 31.78125 6.390625 \nQ 39.453125 6.390625 43.28125 13.890625 \nQ 47.125 21.390625 47.125 36.375 \nQ 47.125 51.421875 43.28125 58.90625 \nQ 39.453125 66.40625 31.78125 66.40625 \nz\nM 31.78125 74.21875 \nQ 44.046875 74.21875 50.515625 64.515625 \nQ 56.984375 54.828125 56.984375 36.375 \nQ 56.984375 17.96875 50.515625 8.265625 \nQ 44.046875 -1.421875 31.78125 -1.421875 \nQ 19.53125 -1.421875 13.0625 8.265625 \nQ 6.59375 17.96875 6.59375 36.375 \nQ 6.59375 54.828125 13.0625 64.515625 \nQ 19.53125 74.21875 31.78125 74.21875 \nz\n\" id=\"DejaVuSans-48\"/>\n      </defs>\n      <g transform=\"translate(39.236916 239.238437)scale(0.1 -0.1)\">\n       <use xlink:href=\"#DejaVuSans-48\"/>\n      </g>\n     </g>\n    </g>\n    <g id=\"xtick_2\">\n     <g id=\"line2d_2\">\n      <g>\n       <use style=\"stroke:#000000;stroke-width:0.8;\" x=\"103.794665\" xlink:href=\"#m48507c1711\" y=\"224.64\"/>\n      </g>\n     </g>\n     <g id=\"text_2\">\n      <!-- 2 -->\n      <defs>\n       <path d=\"M 19.1875 8.296875 \nL 53.609375 8.296875 \nL 53.609375 0 \nL 7.328125 0 \nL 7.328125 8.296875 \nQ 12.9375 14.109375 22.625 23.890625 \nQ 32.328125 33.6875 34.8125 36.53125 \nQ 39.546875 41.84375 41.421875 45.53125 \nQ 43.3125 49.21875 43.3125 52.78125 \nQ 43.3125 58.59375 39.234375 62.25 \nQ 35.15625 65.921875 28.609375 65.921875 \nQ 23.96875 65.921875 18.8125 64.3125 \nQ 13.671875 62.703125 7.8125 59.421875 \nL 7.8125 69.390625 \nQ 13.765625 71.78125 18.9375 73 \nQ 24.125 74.21875 28.421875 74.21875 \nQ 39.75 74.21875 46.484375 68.546875 \nQ 53.21875 62.890625 53.21875 53.421875 \nQ 53.21875 48.921875 51.53125 44.890625 \nQ 49.859375 40.875 45.40625 35.40625 \nQ 44.1875 33.984375 37.640625 27.21875 \nQ 31.109375 20.453125 19.1875 8.296875 \nz\n\" id=\"DejaVuSans-50\"/>\n      </defs>\n      <g transform=\"translate(100.613415 239.238437)scale(0.1 -0.1)\">\n       <use xlink:href=\"#DejaVuSans-50\"/>\n      </g>\n     </g>\n    </g>\n    <g id=\"xtick_3\">\n     <g id=\"line2d_3\">\n      <g>\n       <use style=\"stroke:#000000;stroke-width:0.8;\" x=\"165.171163\" xlink:href=\"#m48507c1711\" y=\"224.64\"/>\n      </g>\n     </g>\n     <g id=\"text_3\">\n      <!-- 4 -->\n      <defs>\n       <path d=\"M 37.796875 64.3125 \nL 12.890625 25.390625 \nL 37.796875 25.390625 \nz\nM 35.203125 72.90625 \nL 47.609375 72.90625 \nL 47.609375 25.390625 \nL 58.015625 25.390625 \nL 58.015625 17.1875 \nL 47.609375 17.1875 \nL 47.609375 0 \nL 37.796875 0 \nL 37.796875 17.1875 \nL 4.890625 17.1875 \nL 4.890625 26.703125 \nz\n\" id=\"DejaVuSans-52\"/>\n      </defs>\n      <g transform=\"translate(161.989913 239.238437)scale(0.1 -0.1)\">\n       <use xlink:href=\"#DejaVuSans-52\"/>\n      </g>\n     </g>\n    </g>\n    <g id=\"xtick_4\">\n     <g id=\"line2d_4\">\n      <g>\n       <use style=\"stroke:#000000;stroke-width:0.8;\" x=\"226.547662\" xlink:href=\"#m48507c1711\" y=\"224.64\"/>\n      </g>\n     </g>\n     <g id=\"text_4\">\n      <!-- 6 -->\n      <defs>\n       <path d=\"M 33.015625 40.375 \nQ 26.375 40.375 22.484375 35.828125 \nQ 18.609375 31.296875 18.609375 23.390625 \nQ 18.609375 15.53125 22.484375 10.953125 \nQ 26.375 6.390625 33.015625 6.390625 \nQ 39.65625 6.390625 43.53125 10.953125 \nQ 47.40625 15.53125 47.40625 23.390625 \nQ 47.40625 31.296875 43.53125 35.828125 \nQ 39.65625 40.375 33.015625 40.375 \nz\nM 52.59375 71.296875 \nL 52.59375 62.3125 \nQ 48.875 64.0625 45.09375 64.984375 \nQ 41.3125 65.921875 37.59375 65.921875 \nQ 27.828125 65.921875 22.671875 59.328125 \nQ 17.53125 52.734375 16.796875 39.40625 \nQ 19.671875 43.65625 24.015625 45.921875 \nQ 28.375 48.1875 33.59375 48.1875 \nQ 44.578125 48.1875 50.953125 41.515625 \nQ 57.328125 34.859375 57.328125 23.390625 \nQ 57.328125 12.15625 50.6875 5.359375 \nQ 44.046875 -1.421875 33.015625 -1.421875 \nQ 20.359375 -1.421875 13.671875 8.265625 \nQ 6.984375 17.96875 6.984375 36.375 \nQ 6.984375 53.65625 15.1875 63.9375 \nQ 23.390625 74.21875 37.203125 74.21875 \nQ 40.921875 74.21875 44.703125 73.484375 \nQ 48.484375 72.75 52.59375 71.296875 \nz\n\" id=\"DejaVuSans-54\"/>\n      </defs>\n      <g transform=\"translate(223.366412 239.238437)scale(0.1 -0.1)\">\n       <use xlink:href=\"#DejaVuSans-54\"/>\n      </g>\n     </g>\n    </g>\n    <g id=\"xtick_5\">\n     <g id=\"line2d_5\">\n      <g>\n       <use style=\"stroke:#000000;stroke-width:0.8;\" x=\"287.92416\" xlink:href=\"#m48507c1711\" y=\"224.64\"/>\n      </g>\n     </g>\n     <g id=\"text_5\">\n      <!-- 8 -->\n      <defs>\n       <path d=\"M 31.78125 34.625 \nQ 24.75 34.625 20.71875 30.859375 \nQ 16.703125 27.09375 16.703125 20.515625 \nQ 16.703125 13.921875 20.71875 10.15625 \nQ 24.75 6.390625 31.78125 6.390625 \nQ 38.8125 6.390625 42.859375 10.171875 \nQ 46.921875 13.96875 46.921875 20.515625 \nQ 46.921875 27.09375 42.890625 30.859375 \nQ 38.875 34.625 31.78125 34.625 \nz\nM 21.921875 38.8125 \nQ 15.578125 40.375 12.03125 44.71875 \nQ 8.5 49.078125 8.5 55.328125 \nQ 8.5 64.0625 14.71875 69.140625 \nQ 20.953125 74.21875 31.78125 74.21875 \nQ 42.671875 74.21875 48.875 69.140625 \nQ 55.078125 64.0625 55.078125 55.328125 \nQ 55.078125 49.078125 51.53125 44.71875 \nQ 48 40.375 41.703125 38.8125 \nQ 48.828125 37.15625 52.796875 32.3125 \nQ 56.78125 27.484375 56.78125 20.515625 \nQ 56.78125 9.90625 50.3125 4.234375 \nQ 43.84375 -1.421875 31.78125 -1.421875 \nQ 19.734375 -1.421875 13.25 4.234375 \nQ 6.78125 9.90625 6.78125 20.515625 \nQ 6.78125 27.484375 10.78125 32.3125 \nQ 14.796875 37.15625 21.921875 38.8125 \nz\nM 18.3125 54.390625 \nQ 18.3125 48.734375 21.84375 45.5625 \nQ 25.390625 42.390625 31.78125 42.390625 \nQ 38.140625 42.390625 41.71875 45.5625 \nQ 45.3125 48.734375 45.3125 54.390625 \nQ 45.3125 60.0625 41.71875 63.234375 \nQ 38.140625 66.40625 31.78125 66.40625 \nQ 25.390625 66.40625 21.84375 63.234375 \nQ 18.3125 60.0625 18.3125 54.390625 \nz\n\" id=\"DejaVuSans-56\"/>\n      </defs>\n      <g transform=\"translate(284.74291 239.238437)scale(0.1 -0.1)\">\n       <use xlink:href=\"#DejaVuSans-56\"/>\n      </g>\n     </g>\n    </g>\n    <g id=\"xtick_6\">\n     <g id=\"line2d_6\">\n      <g>\n       <use style=\"stroke:#000000;stroke-width:0.8;\" x=\"349.300659\" xlink:href=\"#m48507c1711\" y=\"224.64\"/>\n      </g>\n     </g>\n     <g id=\"text_6\">\n      <!-- 10 -->\n      <defs>\n       <path d=\"M 12.40625 8.296875 \nL 28.515625 8.296875 \nL 28.515625 63.921875 \nL 10.984375 60.40625 \nL 10.984375 69.390625 \nL 28.421875 72.90625 \nL 38.28125 72.90625 \nL 38.28125 8.296875 \nL 54.390625 8.296875 \nL 54.390625 0 \nL 12.40625 0 \nz\n\" id=\"DejaVuSans-49\"/>\n      </defs>\n      <g transform=\"translate(342.938159 239.238437)scale(0.1 -0.1)\">\n       <use xlink:href=\"#DejaVuSans-49\"/>\n       <use x=\"63.623047\" xlink:href=\"#DejaVuSans-48\"/>\n      </g>\n     </g>\n    </g>\n   </g>\n   <g id=\"matplotlib.axis_2\">\n    <g id=\"ytick_1\">\n     <g id=\"line2d_7\">\n      <defs>\n       <path d=\"M 0 0 \nL -3.5 0 \n\" id=\"m4460f7ad3a\" style=\"stroke:#000000;stroke-width:0.8;\"/>\n      </defs>\n      <g>\n       <use style=\"stroke:#000000;stroke-width:0.8;\" x=\"26.925\" xlink:href=\"#m4460f7ad3a\" y=\"214.941978\"/>\n      </g>\n     </g>\n     <g id=\"text_7\">\n      <!-- 0 -->\n      <g transform=\"translate(13.5625 218.741197)scale(0.1 -0.1)\">\n       <use xlink:href=\"#DejaVuSans-48\"/>\n      </g>\n     </g>\n    </g>\n    <g id=\"ytick_2\">\n     <g id=\"line2d_8\">\n      <g>\n       <use style=\"stroke:#000000;stroke-width:0.8;\" x=\"26.925\" xlink:href=\"#m4460f7ad3a\" y=\"174.435478\"/>\n      </g>\n     </g>\n     <g id=\"text_8\">\n      <!-- 2 -->\n      <g transform=\"translate(13.5625 178.234697)scale(0.1 -0.1)\">\n       <use xlink:href=\"#DejaVuSans-50\"/>\n      </g>\n     </g>\n    </g>\n    <g id=\"ytick_3\">\n     <g id=\"line2d_9\">\n      <g>\n       <use style=\"stroke:#000000;stroke-width:0.8;\" x=\"26.925\" xlink:href=\"#m4460f7ad3a\" y=\"133.928978\"/>\n      </g>\n     </g>\n     <g id=\"text_9\">\n      <!-- 4 -->\n      <g transform=\"translate(13.5625 137.728196)scale(0.1 -0.1)\">\n       <use xlink:href=\"#DejaVuSans-52\"/>\n      </g>\n     </g>\n    </g>\n    <g id=\"ytick_4\">\n     <g id=\"line2d_10\">\n      <g>\n       <use style=\"stroke:#000000;stroke-width:0.8;\" x=\"26.925\" xlink:href=\"#m4460f7ad3a\" y=\"93.422477\"/>\n      </g>\n     </g>\n     <g id=\"text_10\">\n      <!-- 6 -->\n      <g transform=\"translate(13.5625 97.221696)scale(0.1 -0.1)\">\n       <use xlink:href=\"#DejaVuSans-54\"/>\n      </g>\n     </g>\n    </g>\n    <g id=\"ytick_5\">\n     <g id=\"line2d_11\">\n      <g>\n       <use style=\"stroke:#000000;stroke-width:0.8;\" x=\"26.925\" xlink:href=\"#m4460f7ad3a\" y=\"52.915977\"/>\n      </g>\n     </g>\n     <g id=\"text_11\">\n      <!-- 8 -->\n      <g transform=\"translate(13.5625 56.715196)scale(0.1 -0.1)\">\n       <use xlink:href=\"#DejaVuSans-56\"/>\n      </g>\n     </g>\n    </g>\n    <g id=\"ytick_6\">\n     <g id=\"line2d_12\">\n      <g>\n       <use style=\"stroke:#000000;stroke-width:0.8;\" x=\"26.925\" xlink:href=\"#m4460f7ad3a\" y=\"12.409477\"/>\n      </g>\n     </g>\n     <g id=\"text_12\">\n      <!-- 10 -->\n      <g transform=\"translate(7.2 16.208696)scale(0.1 -0.1)\">\n       <use xlink:href=\"#DejaVuSans-49\"/>\n       <use x=\"63.623047\" xlink:href=\"#DejaVuSans-48\"/>\n      </g>\n     </g>\n    </g>\n   </g>\n   <g id=\"patch_3\">\n    <path d=\"M 26.925 224.64 \nL 26.925 7.2 \n\" style=\"fill:none;stroke:#000000;stroke-linecap:square;stroke-linejoin:miter;stroke-width:0.8;\"/>\n   </g>\n   <g id=\"patch_4\">\n    <path d=\"M 361.725 224.64 \nL 361.725 7.2 \n\" style=\"fill:none;stroke:#000000;stroke-linecap:square;stroke-linejoin:miter;stroke-width:0.8;\"/>\n   </g>\n   <g id=\"patch_5\">\n    <path d=\"M 26.925 224.64 \nL 361.725 224.64 \n\" style=\"fill:none;stroke:#000000;stroke-linecap:square;stroke-linejoin:miter;stroke-width:0.8;\"/>\n   </g>\n   <g id=\"patch_6\">\n    <path d=\"M 26.925 7.2 \nL 361.725 7.2 \n\" style=\"fill:none;stroke:#000000;stroke-linecap:square;stroke-linejoin:miter;stroke-width:0.8;\"/>\n   </g>\n  </g>\n </g>\n <defs>\n  <clipPath id=\"pbc6ce188fe\">\n   <rect height=\"217.44\" width=\"334.8\" x=\"26.925\" y=\"7.2\"/>\n  </clipPath>\n </defs>\n</svg>\n",
      "image/png": "[encoded data removed]"
     },
     "metadata": {
      "needs_background": "light"
     }
    }
   ],
   "source": [
    "plt.scatter(np.squeeze(np.array(data[:,0:1])),np.squeeze(np.array(data[:,-1:])))"
   ]
  },
  {
   "cell_type": "code",
   "execution_count": 6,
   "metadata": {},
   "outputs": [],
   "source": [
    "def quarterback_method(vector):\n",
    "    '''四分位法'''\n",
    "    lower_q=np.quantile(vector,0.25,interpolation='lower')#下四分卫数\n",
    "    higher_q=np.quantile(vector,0.75,interpolation='higher')#上四分位数\n",
    "    middle_q = np.median(vector) #中位数\n",
    "    int_r=higher_q-lower_q#四分位距\n",
    "    numbers = [lower_q,middle_q,higher_q,int_r] #分位数整理\n",
    "    data = [vector[vector<i] for i in numbers][:-1] #前75%分位的数\n",
    "    new_data = np.setdiff1d(vector,np.hstack((data[1],data[2]))) #后25分位的数\n",
    "    return numbers,data+[new_data] #分位数和四分位后的数据"
   ]
  },
  {
   "cell_type": "code",
   "execution_count": 7,
   "metadata": {},
   "outputs": [
    {
     "output_type": "stream",
     "name": "stdout",
     "text": "[array([7.2       , 4.32515597]), array([2.8       , 1.81099912]), array([2.1       , 7.78391646]), array([1.7       , 0.90939608]), array([8.2       , 8.90875178]), array([1.1       , 4.81203267])]\n"
    }
   ],
   "source": [
    "\n",
    "def K_point(number):\n",
    "    '''随机选择K中心'''\n",
    "    K = lambda : data[np.random.randint(len(data))]\n",
    "    return [np.array(K())[0] for i in range(number)]   \n",
    "\n",
    "k_of_constant = K_point(6)\n",
    "print(k_of_constant)"
   ]
  },
  {
   "cell_type": "code",
   "execution_count": 8,
   "metadata": {},
   "outputs": [
    {
     "output_type": "execute_result",
     "data": {
      "text/plain": "array([ 7.29982045,  3.92362671,  8.43580681,  7.68693534,  0.        ,\n        2.58851101,  6.66726681,  3.37123106,  0.64917974,  4.34808126,\n        0.73253561,  4.35439534,  3.01304173,  1.02537044,  1.06428348,\n        2.93762119,  6.26533829,  1.35872151,  3.46195723,  4.63565702,\n        1.60197197,  7.46577196,  6.83866345,  2.70854851,  2.00998905,\n        8.54162891,  5.75003488,  5.66795933,  2.72791218,  3.24888085,\n        7.91451023,  4.32176133,  7.04685346,  6.36787109,  8.99550894,\n        7.83835408,  5.81784524,  6.27974554,  3.48679333,  8.17559738,\n        3.93982529,  3.95529888,  3.90884898,  7.10053223,  4.14564375,\n        6.09231612,  8.96469584,  9.44727987,  8.01685254,  4.5106637 ,\n        5.36607247,  6.35352206,  7.1230178 ,  6.97272518,  5.01635645,\n        6.01748223,  7.4637937 ,  6.24711032,  6.81578978,  8.61096641,\n        5.77535838,  9.71188416,  5.80139647,  8.62750676,  8.66442427,\n        6.84611273,  8.43095886, 10.78861186,  9.0676294 ,  8.98659126,\n        7.54779113,  6.91338831,  7.79505274,  9.03434693,  9.32907841,\n        7.11059234,  7.81712353,  7.72423846,  7.44061184,  9.05257492,\n       11.66135473, 10.66661941, 11.45894036,  7.90006493,  9.38976219,\n        9.58136548, 11.74221417,  8.41184263,  8.40566295, 10.42559461,\n        8.60518176,  9.30783797, 10.17793178, 11.27641312,  9.58050645,\n        9.7493127 , 13.03989244,  9.58746325, 10.07627928, 10.1517299 ])"
     },
     "metadata": {},
     "execution_count": 8
    }
   ],
   "source": [
    "def euclidean_distance(pointA,pointB):\n",
    "    '''欧式距离计算公式'''\n",
    "    return np.array(np.sqrt(np.dot(np.power((pointA-pointB),2),np.ones(2))))[0]\n",
    "euclidean_distance(data,K_point(4)[0])\n"
   ]
  },
  {
   "cell_type": "markdown",
   "metadata": {},
   "source": [
    "$$\\bar{X}=\\frac{1}{r} \\sum_{i=1}^{r} \\bar{X}_{i}=\\frac{1}{n} \\sum_{i=1}^{r} \\sum_{j=1}^{n_{i}} X_{i j}$$"
   ]
  },
  {
   "cell_type": "code",
   "execution_count": 9,
   "metadata": {},
   "outputs": [],
   "source": [
    "def error_sum_of_squares(point,K):\n",
    "    '''误差平方和'''\n",
    "    return  np.log2(k - point).sum()"
   ]
  },
  {
   "cell_type": "code",
   "execution_count": 10,
   "metadata": {},
   "outputs": [],
   "source": [
    "def K_means(dataset,K_point,restart=0):\n",
    "    '''\n",
    "    递归完成K-means,2维数据\n",
    "    '''\n",
    "    print('restart',restart)\n",
    "\n",
    "    expr1 = [( np.array(i)[0] ,[euclidean_distance(j,np.array(i)) for j in K_point]  ) for i in dataset]\n",
    "    #nearly = sorted([( expr1[i][-1].index(min(expr1[i][-1])) , list(np.array(dataset[i])[0]) ) for i in range(len(expr1))]) #最近的点的下标\n",
    "    \n",
    "    NK = -1\n",
    "    classified_of_data = []\n",
    "    new_K_point = []\n",
    "    for kindex in range(len(K_point)):\n",
    "        NK+=1\n",
    "        kindex = []\n",
    "        for i in range(len(expr1)):\n",
    "            Name = expr1[i][-1].index(min(expr1[i][-1]))\n",
    "            data = list(np.array(dataset[i])[0]) #最近的点的下标\n",
    "            if Name == NK :\n",
    "                kindex.append(data)\n",
    "            else:\n",
    "                pass\n",
    "\n",
    "        new_K_point.append(mean_point(np.mat(kindex))) #新的k点整理数据结构\n",
    "        classified_of_data.append(np.mat(kindex)) \n",
    "\n",
    "\n",
    "    comparison_of_K = (np.array(K_point)==np.array(new_K_point)).astype(int)#比较两次K点组，并将结果布尔值转为整数\n",
    "    \n",
    "    restart_time = 0\n",
    "\n",
    "    if sum(np.dot(comparison_of_K,np.array([1,1])))==len(K_point)*2: #如果满足分类条件则输出结果\n",
    "        print('Ok')\n",
    "        return np.array(new_K_point),classified_of_data\n",
    "    else: #如果不满足分类条件，则递归继续\n",
    "        restart += 1\n",
    "        return K_means(dataset,new_K_point,restart)\n",
    "        "
   ]
  },
  {
   "cell_type": "code",
   "execution_count": 11,
   "metadata": {},
   "outputs": [
    {
     "output_type": "execute_result",
     "data": {
      "text/plain": "matrix([[0.        , 7.80312364],\n        [0.1       , 4.42641152],\n        [0.2       , 8.94770624],\n        [0.3       , 8.20055546],\n        [0.4       , 0.51427061],\n        [0.5       , 3.10084929],\n        [0.6       , 7.17853701],\n        [0.7       , 3.87212689],\n        [0.8       , 1.0255771 ],\n        [0.9       , 4.83350788],\n        [1.        , 0.93451865],\n        [1.1       , 4.81203267],\n        [1.2       , 3.41916655],\n        [1.3       , 0.02296159],\n        [1.4       , 0.87854978],\n        [1.5       , 3.23816823],\n        [1.6       , 6.66361723],\n        [1.7       , 0.90939608],\n        [1.8       , 3.680522  ],\n        [1.9       , 4.90053508],\n        [2.        , 0.59373243],\n        [2.1       , 7.78391646],\n        [2.2       , 7.11179421],\n        [2.3       , 2.44461644],\n        [2.4       , 0.31413071],\n        [2.5       , 8.79372859],\n        [2.6       , 5.82679366],\n        [2.7       , 5.69459521],\n        [2.8       , 1.81099912],\n        [2.9       , 2.58917465],\n        [3.        , 7.98952794],\n        [3.1       , 3.88882554],\n        [3.2       , 6.98096557],\n        [3.3       , 6.18346651],\n        [3.4       , 8.99478835],\n        [3.5       , 7.71356187],\n        [3.6       , 5.3730074 ],\n        [3.7       , 5.8570418 ],\n        [3.8       , 1.28739913],\n        [3.9       , 7.90280175],\n        [4.        , 2.11496523],\n        [4.1       , 1.91226532],\n        [4.2       , 1.43029483],\n        [4.3       , 6.44786631],\n        [4.4       , 1.6034731 ],\n        [4.5       , 5.02052356],\n        [4.6       , 8.43423093],\n        [4.7       , 8.92623214],\n        [4.8       , 7.21575735],\n        [4.9       , 0.82424971],\n        [5.        , 3.2773728 ],\n        [5.1       , 4.78945979],\n        [5.2       , 5.77710088],\n        [5.3       , 5.47500608],\n        [5.4       , 0.10950893],\n        [5.5       , 3.70802895],\n        [5.6       , 5.86854146],\n        [5.7       , 3.82129152],\n        [5.8       , 4.67299521],\n        [5.9       , 7.13988322],\n        [6.        , 1.92663189],\n        [6.1       , 8.37752018],\n        [6.2       , 0.38698741],\n        [6.3       , 6.80902024],\n        [6.4       , 6.76505039],\n        [6.5       , 3.62220553],\n        [6.6       , 6.22750676],\n        [6.7       , 9.27236091],\n        [6.8       , 6.93781347],\n        [6.9       , 6.71981833],\n        [7.        , 4.17612136],\n        [7.1       , 2.21865843],\n        [7.2       , 4.32515597],\n        [7.3       , 6.34603058],\n        [7.4       , 6.6812556 ],\n        [7.5       , 0.90224414],\n        [7.6       , 3.5585144 ],\n        [7.7       , 3.03892104],\n        [7.8       , 1.29061112],\n        [7.9       , 5.58369983],\n        [8.        , 9.35888446],\n        [8.1       , 7.89578601],\n        [8.2       , 8.90875178],\n        [8.3       , 0.54629912],\n        [8.4       , 5.43032939],\n        [8.5       , 5.63213778],\n        [8.6       , 8.91900699],\n        [8.7       , 1.88141964],\n        [8.8       , 0.8227664 ],\n        [8.9       , 6.5510763 ],\n        [9.        , 0.81285587],\n        [9.1       , 3.82272155],\n        [9.2       , 5.62800656],\n        [9.3       , 7.43868342],\n        [9.4       , 3.79849103],\n        [9.5       , 4.01271284],\n        [9.6       , 9.75541744],\n        [9.7       , 2.84438897],\n        [9.8       , 4.14351353],\n        [9.9       , 4.09304414]])"
     },
     "metadata": {},
     "execution_count": 11
    }
   ],
   "source": [
    "def K_means_run(class_number,all_datas,drawing=False):\n",
    "    k_of_constant = K_point(class_number)\n",
    "    result = K_means(all_datas,k_of_constant,0)\n",
    "\n",
    "    if drawing == True:\n",
    "        for data,k in zip(result[-1],result[0]):\n",
    "            x ,y  = np.squeeze(np.array(data[:,0:1])),np.squeeze(np.array(data[:,-1:]))#,\n",
    "            plt.scatter(x,y)\n",
    "            plt.scatter(k[0],k[-1],c='black',marker='x',alpha=1.0)\n",
    "        plt.show()\n",
    "        plt.close()\n",
    "    else:\n",
    "        pass\n",
    "    return result\n",
    "\n",
    "#K_means_run(6,data,True)\n",
    "data"
   ]
  },
  {
   "cell_type": "code",
   "execution_count": 12,
   "metadata": {},
   "outputs": [],
   "source": [
    "\n",
    "def K_means2(dataset,K_point,restart=0):\n",
    "    '''标准计算循环完成K-means,误差平方和版本'''\n",
    "    print('restart',restart)\n",
    "\n",
    "    expr1 = [( np.array(i)[0] ,[euclidean_distance(j,np.array(i)) for j in K_point]  ) for i in dataset]\n",
    "    \n",
    "    NK = -1\n",
    "    classified_of_data = []\n",
    "    new_K_point = []\n",
    "    for kindex in range(len(K_point)):\n",
    "        NK+=1\n",
    "        kindex = []\n",
    "        for i in range(len(expr1)):\n",
    "            Name = expr1[i][-1].index(min(expr1[i][-1]))\n",
    "            data = list(np.array(dataset[i])[0]) #最近的点的下标\n",
    "            if Name == NK:\n",
    "                kindex.append(data)\n",
    "            else:\n",
    "                pass\n",
    "\n",
    "        new_K_point.append(mean_point(np.mat(kindex))) #新的k点整理数据结构\n",
    "        classified_of_data.append(np.mat(kindex)) \n",
    "\n",
    "    if error_sum_of_squares(np.array(K_point) , np.array(new_K_point)) ==0: #误差平方和\n",
    "        print('Ok')\n",
    "        return np.array(new_K_point),classified_of_data\n",
    "    else: #如果不满足分类条件，则递归继续\n",
    "        restart += 1\n",
    "        return K_means(dataset,new_K_point,restart)\n",
    "        \n",
    ""
   ]
  },
  {
   "cell_type": "code",
   "execution_count": 13,
   "metadata": {},
   "outputs": [
    {
     "output_type": "stream",
     "name": "stdout",
     "text": "restart 0\n"
    },
    {
     "output_type": "error",
     "ename": "NameError",
     "evalue": "name 'mean_point' is not defined",
     "traceback": [
      "\u001b[0;31m---------------------------------------------------------------------------\u001b[0m",
      "\u001b[0;31mNameError\u001b[0m                                 Traceback (most recent call last)",
      "\u001b[0;32m<ipython-input-13-a2d4018aee0c>\u001b[0m in \u001b[0;36m<module>\u001b[0;34m\u001b[0m\n\u001b[0;32m----> 1\u001b[0;31m \u001b[0mK_means\u001b[0m\u001b[0;34m(\u001b[0m\u001b[0mdata\u001b[0m\u001b[0;34m,\u001b[0m\u001b[0mk_of_constant\u001b[0m\u001b[0;34m,\u001b[0m\u001b[0;36m0\u001b[0m\u001b[0;34m)\u001b[0m\u001b[0;34m\u001b[0m\u001b[0;34m\u001b[0m\u001b[0m\n\u001b[0m",
      "\u001b[0;32m<ipython-input-10-7f3df217a020>\u001b[0m in \u001b[0;36mK_means\u001b[0;34m(dataset, K_point, restart)\u001b[0m\n\u001b[1;32m     22\u001b[0m                 \u001b[0;32mpass\u001b[0m\u001b[0;34m\u001b[0m\u001b[0;34m\u001b[0m\u001b[0m\n\u001b[1;32m     23\u001b[0m \u001b[0;34m\u001b[0m\u001b[0m\n\u001b[0;32m---> 24\u001b[0;31m         \u001b[0mnew_K_point\u001b[0m\u001b[0;34m.\u001b[0m\u001b[0mappend\u001b[0m\u001b[0;34m(\u001b[0m\u001b[0mmean_point\u001b[0m\u001b[0;34m(\u001b[0m\u001b[0mnp\u001b[0m\u001b[0;34m.\u001b[0m\u001b[0mmat\u001b[0m\u001b[0;34m(\u001b[0m\u001b[0mkindex\u001b[0m\u001b[0;34m)\u001b[0m\u001b[0;34m)\u001b[0m\u001b[0;34m)\u001b[0m \u001b[0;31m#新的k点整理数据结构\u001b[0m\u001b[0;34m\u001b[0m\u001b[0;34m\u001b[0m\u001b[0m\n\u001b[0m\u001b[1;32m     25\u001b[0m         \u001b[0mclassified_of_data\u001b[0m\u001b[0;34m.\u001b[0m\u001b[0mappend\u001b[0m\u001b[0;34m(\u001b[0m\u001b[0mnp\u001b[0m\u001b[0;34m.\u001b[0m\u001b[0mmat\u001b[0m\u001b[0;34m(\u001b[0m\u001b[0mkindex\u001b[0m\u001b[0;34m)\u001b[0m\u001b[0;34m)\u001b[0m\u001b[0;34m\u001b[0m\u001b[0;34m\u001b[0m\u001b[0m\n\u001b[1;32m     26\u001b[0m \u001b[0;34m\u001b[0m\u001b[0m\n",
      "\u001b[0;31mNameError\u001b[0m: name 'mean_point' is not defined"
     ]
    }
   ],
   "source": [
    "K_means(data,k_of_constant,0)"
   ]
  },
  {
   "cell_type": "code",
   "execution_count": 14,
   "metadata": {},
   "outputs": [
    {
     "output_type": "stream",
     "name": "stdout",
     "text": "restart 0\n"
    },
    {
     "output_type": "error",
     "ename": "NameError",
     "evalue": "name 'mean_point' is not defined",
     "traceback": [
      "\u001b[0;31m---------------------------------------------------------------------------\u001b[0m",
      "\u001b[0;31mNameError\u001b[0m                                 Traceback (most recent call last)",
      "\u001b[0;32m<ipython-input-14-1e0e68362f95>\u001b[0m in \u001b[0;36m<module>\u001b[0;34m\u001b[0m\n\u001b[1;32m     14\u001b[0m     \u001b[0;32mreturn\u001b[0m \u001b[0mresult\u001b[0m\u001b[0;34m\u001b[0m\u001b[0;34m\u001b[0m\u001b[0m\n\u001b[1;32m     15\u001b[0m \u001b[0;34m\u001b[0m\u001b[0m\n\u001b[0;32m---> 16\u001b[0;31m \u001b[0mK_means_run2\u001b[0m\u001b[0;34m(\u001b[0m\u001b[0;36m6\u001b[0m\u001b[0;34m,\u001b[0m\u001b[0mdata\u001b[0m\u001b[0;34m,\u001b[0m\u001b[0;32mTrue\u001b[0m\u001b[0;34m)\u001b[0m\u001b[0;34m\u001b[0m\u001b[0;34m\u001b[0m\u001b[0m\n\u001b[0m",
      "\u001b[0;32m<ipython-input-14-1e0e68362f95>\u001b[0m in \u001b[0;36mK_means_run2\u001b[0;34m(class_number, all_datas, drawing)\u001b[0m\n\u001b[1;32m      1\u001b[0m \u001b[0;32mdef\u001b[0m \u001b[0mK_means_run2\u001b[0m\u001b[0;34m(\u001b[0m\u001b[0mclass_number\u001b[0m\u001b[0;34m,\u001b[0m\u001b[0mall_datas\u001b[0m\u001b[0;34m,\u001b[0m\u001b[0mdrawing\u001b[0m\u001b[0;34m=\u001b[0m\u001b[0;32mFalse\u001b[0m\u001b[0;34m)\u001b[0m\u001b[0;34m:\u001b[0m\u001b[0;34m\u001b[0m\u001b[0;34m\u001b[0m\u001b[0m\n\u001b[1;32m      2\u001b[0m     \u001b[0mk_of_constant\u001b[0m \u001b[0;34m=\u001b[0m \u001b[0mK_point\u001b[0m\u001b[0;34m(\u001b[0m\u001b[0mclass_number\u001b[0m\u001b[0;34m)\u001b[0m\u001b[0;34m\u001b[0m\u001b[0;34m\u001b[0m\u001b[0m\n\u001b[0;32m----> 3\u001b[0;31m     \u001b[0mresult\u001b[0m \u001b[0;34m=\u001b[0m \u001b[0mK_means2\u001b[0m\u001b[0;34m(\u001b[0m\u001b[0mall_datas\u001b[0m\u001b[0;34m,\u001b[0m\u001b[0mk_of_constant\u001b[0m\u001b[0;34m,\u001b[0m\u001b[0;36m0\u001b[0m\u001b[0;34m)\u001b[0m\u001b[0;34m\u001b[0m\u001b[0;34m\u001b[0m\u001b[0m\n\u001b[0m\u001b[1;32m      4\u001b[0m \u001b[0;34m\u001b[0m\u001b[0m\n\u001b[1;32m      5\u001b[0m     \u001b[0;32mif\u001b[0m \u001b[0mdrawing\u001b[0m \u001b[0;34m==\u001b[0m \u001b[0;32mTrue\u001b[0m\u001b[0;34m:\u001b[0m\u001b[0;34m\u001b[0m\u001b[0;34m\u001b[0m\u001b[0m\n",
      "\u001b[0;32m<ipython-input-12-6029dc2c696b>\u001b[0m in \u001b[0;36mK_means2\u001b[0;34m(dataset, K_point, restart)\u001b[0m\n\u001b[1;32m     19\u001b[0m                 \u001b[0;32mpass\u001b[0m\u001b[0;34m\u001b[0m\u001b[0;34m\u001b[0m\u001b[0m\n\u001b[1;32m     20\u001b[0m \u001b[0;34m\u001b[0m\u001b[0m\n\u001b[0;32m---> 21\u001b[0;31m         \u001b[0mnew_K_point\u001b[0m\u001b[0;34m.\u001b[0m\u001b[0mappend\u001b[0m\u001b[0;34m(\u001b[0m\u001b[0mmean_point\u001b[0m\u001b[0;34m(\u001b[0m\u001b[0mnp\u001b[0m\u001b[0;34m.\u001b[0m\u001b[0mmat\u001b[0m\u001b[0;34m(\u001b[0m\u001b[0mkindex\u001b[0m\u001b[0;34m)\u001b[0m\u001b[0;34m)\u001b[0m\u001b[0;34m)\u001b[0m \u001b[0;31m#新的k点整理数据结构\u001b[0m\u001b[0;34m\u001b[0m\u001b[0;34m\u001b[0m\u001b[0m\n\u001b[0m\u001b[1;32m     22\u001b[0m         \u001b[0mclassified_of_data\u001b[0m\u001b[0;34m.\u001b[0m\u001b[0mappend\u001b[0m\u001b[0;34m(\u001b[0m\u001b[0mnp\u001b[0m\u001b[0;34m.\u001b[0m\u001b[0mmat\u001b[0m\u001b[0;34m(\u001b[0m\u001b[0mkindex\u001b[0m\u001b[0;34m)\u001b[0m\u001b[0;34m)\u001b[0m\u001b[0;34m\u001b[0m\u001b[0;34m\u001b[0m\u001b[0m\n\u001b[1;32m     23\u001b[0m \u001b[0;34m\u001b[0m\u001b[0m\n",
      "\u001b[0;31mNameError\u001b[0m: name 'mean_point' is not defined"
     ]
    }
   ],
   "source": [
    "def K_means_run2(class_number,all_datas,drawing=False):\n",
    "    k_of_constant = K_point(class_number)\n",
    "    result = K_means2(all_datas,k_of_constant,0)\n",
    "\n",
    "    if drawing == True:\n",
    "        for data,k in zip(result[-1],result[0]):\n",
    "            x ,y  = np.squeeze(np.array(data[:,0:1])),np.squeeze(np.array(data[:,-1:]))#,\n",
    "            plt.scatter(x,y)\n",
    "            plt.scatter(k[0],k[-1],c='black',marker='x',alpha=1.0)\n",
    "        plt.show()\n",
    "        plt.close()\n",
    "    else:\n",
    "        pass\n",
    "    return result\n",
    "\n",
    "K_means_run2(6,data,True)"
   ]
  },
  {
   "cell_type": "code",
   "execution_count": 15,
   "metadata": {},
   "outputs": [],
   "source": [
    "def K_Medoide(dataset, K_point,comparison,restart=0):\n",
    "    '''\n",
    "    递归完成K-中心点,2维数据\n",
    "    '''\n",
    "    print('restart', restart)\n",
    "    comparison_of_K_set = []\n",
    "    comparison_of_K_set.append(comparison)\n",
    "\n",
    "    expr1 = [(np.array(i)[0], [euclidean_distance(j, np.array(i)) for j in K_point]) for i in dataset]\n",
    "\n",
    "    NK = -1\n",
    "    classified_of_data = []\n",
    "    new_K_point = []\n",
    "    for kindex in range(len(K_point)):\n",
    "        NK += 1\n",
    "        kindex = []\n",
    "        for i in range(len(expr1)):\n",
    "            Name = expr1[i][-1].index(min(expr1[i][-1]))\n",
    "            data = list(np.array(dataset[i])[0])  # 最近的点的下标\n",
    "            if Name == NK:\n",
    "                kindex.append(data)\n",
    "            else:\n",
    "                pass\n",
    "\n",
    "        new_K_point.append(kindex[len(kindex)//2])  # 随机选择当前类中的一个点\n",
    "        classified_of_data.append(np.mat(kindex))\n",
    "\n",
    "\n",
    "    comparison_of_K = abs(np.array(np.dot((K_point - np.mat(new_K_point)) , np.array([1,1])))[0].sum()) # 比较两次K点组，并将结果布尔值转为整数\n",
    "    comparison_of_K_set.append(comparison_of_K)\n",
    "\n",
    "    if comparison_of_K == False :  # 如果满足分类条件则输出结果\n",
    "        print('Ok,K-Medoide,k中心点算法')\n",
    "        return np.array(new_K_point), classified_of_data\n",
    "    else:  # 如果不满足分类条件，则递归继续\n",
    "        restart += 1\n",
    "        print(comparison_of_K_set)\n",
    "        return K_Medoide(dataset, np.mat(new_K_point),comparison_of_K, restart)\n",
    "\n",
    "\n",
    "\n",
    "def K_Medoide_run(class_number, all_datas, drawing=False):\n",
    "    '''\n",
    "    运行K-means函数并选择是否作图\n",
    "    :param class_number:\n",
    "    :param all_datas:\n",
    "    :param drawing:\n",
    "    :return:\n",
    "    '''\n",
    "    k_of_constant = K_point(class_number)\n",
    "    result = K_Medoide(all_datas, k_of_constant, 0)\n",
    "\n",
    "    if drawing == True:\n",
    "        for data, k in zip(result[-1], result[0]):\n",
    "            x, y = np.squeeze(np.array(data[:, 0:1])), np.squeeze(np.array(data[:, -1:]))  # ,\n",
    "            plt.scatter(x, y)\n",
    "            plt.scatter(k[0], k[-1], c='black', marker='x', alpha=1.0)\n",
    "        plt.show()\n",
    "        plt.close()\n",
    "    return result"
   ]
  }
 ],
 "metadata": {
  "language_info": {
   "name": "python",
   "codemirror_mode": {
    "name": "ipython",
    "version": 3
   },
   "version": "3.7.3-final"
  },
  "orig_nbformat": 2,
  "file_extension": ".py",
  "mimetype": "text/x-python",
  "name": "python",
  "npconvert_exporter": "python",
  "pygments_lexer": "ipython3",
  "version": 3,
  "kernelspec": {
   "name": "pycharm-66c53067",
   "display_name": "PyCharm (InferenceSystem)"
  }
 },
 "nbformat": 4,
 "nbformat_minor": 2
}