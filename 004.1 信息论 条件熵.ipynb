{
 "cells": [
  {
   "cell_type": "code",
   "execution_count": 1,
   "metadata": {},
   "outputs": [],
   "source": [
    "import numpy as np\n",
    "import matplotlib.pyplot as plt\n",
    "import seaborn as sns\n",
    "import torch\n",
    "import numexpr as en\n",
    "sns.set()"
   ]
  },
  {
   "cell_type": "markdown",
   "metadata": {},
   "source": [
    "<img src=\"https://img-blog.csdn.net/20181017163540513?watermark/2/text/aHR0cHM6Ly9ibG9nLmNzZG4ubmV0L0FrYV9IYXBweQ==/font/5a6L5L2T/fontsize/400/fill/I0JBQkFCMA==/dissolve/70\">"
   ]
  },
  {
   "cell_type": "code",
   "execution_count": 553,
   "metadata": {},
   "outputs": [
    {
     "data": {
      "text/html": [
       "\n",
       "        <iframe\n",
       "            width=\"1920\"\n",
       "            height=\"1080\"\n",
       "            src=\"https://blog.csdn.net/Aka_Happy/article/details/83114102\"\n",
       "            frameborder=\"0\"\n",
       "            allowfullscreen\n",
       "        ></iframe>\n",
       "        "
      ],
      "text/plain": [
       "<IPython.lib.display.IFrame at 0x13faa4bd0>"
      ]
     },
     "execution_count": 553,
     "metadata": {},
     "output_type": "execute_result"
    }
   ],
   "source": [
    "from IPython.display import IFrame\n",
    "IFrame(src=\"https://blog.csdn.net/Aka_Happy/article/details/83114102\", width=1920, height=1080)"
   ]
  },
  {
   "cell_type": "code",
   "execution_count": 554,
   "metadata": {},
   "outputs": [],
   "source": [
    "from itertools import product\n",
    "def combinationL(loop_val): \n",
    "    return np.array(list({i for i in product(*loop_val)}))"
   ]
  },
  {
   "cell_type": "markdown",
   "metadata": {},
   "source": [
    "### 创建数据"
   ]
  },
  {
   "cell_type": "code",
   "execution_count": 555,
   "metadata": {},
   "outputs": [],
   "source": [
    "X = np.array([1,0,1,1,0])\n",
    "Y = np.array([1,1,1,0,0])\n",
    "A,B = np.array([0,0]),np.array([1,1]) "
   ]
  },
  {
   "cell_type": "markdown",
   "metadata": {},
   "source": [
    "## 求概率"
   ]
  },
  {
   "cell_type": "code",
   "execution_count": 556,
   "metadata": {},
   "outputs": [],
   "source": [
    "def NumpyProb(X,symbol,x):\n",
    "    n = X.size\n",
    "    Lambda = \"{}{}{}\".format(\"X\",symbol,\"x\")\n",
    "    expr = en.evaluate(Lambda)\n",
    "    return (expr).dot(np.ones(n))/n"
   ]
  },
  {
   "cell_type": "markdown",
   "metadata": {},
   "source": [
    "## 求联合概率"
   ]
  },
  {
   "cell_type": "code",
   "execution_count": 557,
   "metadata": {
    "tags": []
   },
   "outputs": [
    {
     "name": "stdout",
     "output_type": "stream",
     "text": [
      "[[0 0]\n",
      " [1 1]]\n",
      "[[0 1]\n",
      " [1 0]\n",
      " [0 0]\n",
      " [1 1]]\n"
     ]
    },
    {
     "data": {
      "text/plain": [
       "({'comb ': array([[0, 0],\n",
       "         [1, 1]]),\n",
       "  'joint prob': array([0.5, 0.5])},\n",
       " {'comb ': array([[0, 1],\n",
       "         [1, 0],\n",
       "         [0, 0],\n",
       "         [1, 1]]),\n",
       "  'joint prob': array([0.2, 0.2, 0.2, 0.4])})"
      ]
     },
     "execution_count": 557,
     "metadata": {},
     "output_type": "execute_result"
    }
   ],
   "source": [
    "def NumpyJointProb(X,Y):\n",
    "    init_XY = np.c_[X,Y]\n",
    "    distionXY = combinationL(init_XY.T)\n",
    "    m,n = init_XY.shape\n",
    "    dm,dn = distionXY.shape\n",
    "   \n",
    "    if dm ==1:\n",
    "        distionXY = np.repeat(distionXY,dn,axis=0).T\n",
    "        print(distionXY)\n",
    "        return {\"comb \":distionXY,\"joint prob\":np.array([((init_XY.T==xy).dot(np.ones(n))==n).dot(np.ones(m))/m for xy in distionXY])}\n",
    "    elif dm > 1:\n",
    "        print(distionXY)\n",
    "        return {\"comb \":distionXY,\"joint prob\":np.array([((init_XY==xy).dot(np.ones(n))==n).dot(np.ones(m))/m for xy in distionXY])}\n",
    "\n",
    "NumpyJointProb(A,B),NumpyJointProb(X,Y)"
   ]
  },
  {
   "cell_type": "markdown",
   "metadata": {},
   "source": [
    "## 求条件概率"
   ]
  },
  {
   "cell_type": "markdown",
   "metadata": {},
   "source": [
    "P(B|A) != P(B)"
   ]
  },
  {
   "cell_type": "code",
   "execution_count": 584,
   "metadata": {
    "tags": []
   },
   "outputs": [
    {
     "name": "stdout",
     "output_type": "stream",
     "text": [
      "[[0 1]\n",
      " [1 0]\n",
      " [0 0]\n",
      " [1 1]]\n"
     ]
    },
    {
     "data": {
      "text/plain": [
       "0.33333333333333337"
      ]
     },
     "execution_count": 584,
     "metadata": {},
     "output_type": "execute_result"
    }
   ],
   "source": [
    "def conditional_prob(X,Y,conds = {\"PXYstate\":None,\"change\":None,\"cond\":None}):\n",
    "\n",
    "    PXY = NumpyJointProb(X,Y)\n",
    "    PXYstate ,change,cond = np.array(conds['PXYstate']),conds['change'],conds['cond']\n",
    "    init_XY = np.c_[X,Y]\n",
    "    m,n = init_XY.shape\n",
    "    if change == \"X\":\n",
    "        P_func = {x:NumpyProb(X,'==',x) for x in np.unique(X)}\n",
    "    elif change == \"Y\":\n",
    "        Pfunc = {y:NumpyProb(Y,'==',y) for y in np.unique(Y)}\n",
    "    PXYfunc = ((init_XY == PXYstate).dot(np.ones(n))==n).dot(np.ones(m))/m\n",
    "    PX_Y = PXYfunc/NumpyProb(np.ravel(init_XY),'==',cond)\n",
    "    return PX_Y\n",
    "\n",
    "conditional_prob(X,Y,conds = {\"PXYstate\":[0,0],\"change\":\"Y\",\"cond\":1})"
   ]
  },
  {
   "cell_type": "markdown",
   "metadata": {},
   "source": [
    "# 求信息熵# 求信息熵"
   ]
  },
  {
   "cell_type": "code",
   "execution_count": 559,
   "metadata": {},
   "outputs": [
    {
     "data": {
      "text/plain": [
       "0.0"
      ]
     },
     "execution_count": 559,
     "metadata": {},
     "output_type": "execute_result"
    }
   ],
   "source": [
    "def NumpyEntropy(X):\n",
    "    NE = 0\n",
    "    for x in np.unique(X):\n",
    "        PX = NumpyProb(X,'==',x)\n",
    "        NE += (- PX * np.log2(PX))\n",
    "    return NE\n",
    "NumpyEntropy(A)"
   ]
  },
  {
   "cell_type": "code",
   "execution_count": null,
   "metadata": {},
   "outputs": [],
   "source": []
  }
 ],
 "metadata": {
  "kernelspec": {
   "display_name": "kiteENV",
   "language": "python",
   "name": "kiteenv"
  },
  "language_info": {
   "codemirror_mode": {
    "name": "ipython",
    "version": 3
   },
   "file_extension": ".py",
   "mimetype": "text/x-python",
   "name": "python",
   "nbconvert_exporter": "python",
   "pygments_lexer": "ipython3",
   "version": "3.8.10"
  }
 },
 "nbformat": 4,
 "nbformat_minor": 4
}
