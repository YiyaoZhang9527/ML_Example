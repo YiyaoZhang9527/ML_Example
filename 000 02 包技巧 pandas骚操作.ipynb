{
 "cells": [
  {
   "cell_type": "markdown",
   "metadata": {},
   "source": [
    "## 复制剪切板内容生成表"
   ]
  },
  {
   "cell_type": "code",
   "execution_count": 1,
   "metadata": {},
   "outputs": [],
   "source": [
    "import pandas as pd\n",
    "df=pd.read_clipboard()"
   ]
  },
  {
   "cell_type": "markdown",
   "metadata": {},
   "source": [
    "\n",
    "## 性别\t身高（英尺）\t体重（磅）\t脚掌（英寸）\n",
    "## 男\t6\t180\t12\n",
    "## 男\t5.92\t190\t11\n",
    "## 男\t5.58\t170\t12\n",
    "## 男\t5.92\t165\t10\n",
    "## 女\t5\t100\t6\n",
    "## 女\t5.5\t150\t8\n",
    "## 女\t5.42\t130\t7\n",
    "## 女\t5.75\t150\t9"
   ]
  },
  {
   "cell_type": "code",
   "execution_count": 2,
   "metadata": {},
   "outputs": [
    {
     "output_type": "execute_result",
     "data": {
      "text/plain": "array([['是', '是', '正常', '否', nan],\n       ['是', '是', '高', '是', nan],\n       ['是', '是', '很高', '是', nan],\n       ['否', '是', '正常', '否', nan],\n       ['否', '否', '高', '否', nan],\n       ['否', '是', '很高', '是', nan],\n       ['作者：思想永不平凡', None, None, None, nan],\n       ['链接：https://www.jianshu.com/p/a129b7a6be9e', None, None, None,\n        nan]], dtype=object)"
     },
     "metadata": {},
     "execution_count": 2
    }
   ],
   "source": [
    "df[:8].to_numpy()"
   ]
  },
  {
   "cell_type": "markdown",
   "metadata": {},
   "source": [
    "fn = lambda x: x.max() - x.min()\n",
    "df['身高（英尺) '].apply(fn)"
   ]
  },
  {
   "cell_type": "code",
   "execution_count": 3,
   "metadata": {},
   "outputs": [
    {
     "output_type": "error",
     "ename": "AttributeError",
     "evalue": "'DataFrame' object has no attribute '性别'",
     "traceback": [
      "\u001b[0;31m---------------------------------------------------------------------------\u001b[0m",
      "\u001b[0;31mAttributeError\u001b[0m                            Traceback (most recent call last)",
      "\u001b[0;32m<ipython-input-3-17e047a3461b>\u001b[0m in \u001b[0;36m<module>\u001b[0;34m\u001b[0m\n\u001b[1;32m      2\u001b[0m           \u001b[0;34mr'(?P<state>[A-Z]{2})'\u001b[0m\u001b[0;34m,\u001b[0m         \u001b[0;31m# 两个大写字母\u001b[0m\u001b[0;34m\u001b[0m\u001b[0;34m\u001b[0m\u001b[0m\n\u001b[1;32m      3\u001b[0m           r'(?P<zip>\\d{5}(?:-\\d{4})?)')  # 可选的4个延伸数字\n\u001b[0;32m----> 4\u001b[0;31m \u001b[0mdf\u001b[0m\u001b[0;34m.\u001b[0m\u001b[0m性别\u001b[0m\u001b[0;34m.\u001b[0m\u001b[0mstr\u001b[0m\u001b[0;34m.\u001b[0m\u001b[0mreplace\u001b[0m\u001b[0;34m(\u001b[0m\u001b[0;34m'女'\u001b[0m\u001b[0;34m,\u001b[0m \u001b[0;34m'n'\u001b[0m\u001b[0;34m)\u001b[0m\u001b[0;31m#.str.extract(regex)\u001b[0m\u001b[0;34m\u001b[0m\u001b[0;34m\u001b[0m\u001b[0m\n\u001b[0m",
      "\u001b[0;32m/usr/local/lib/python3.7/site-packages/pandas/core/generic.py\u001b[0m in \u001b[0;36m__getattr__\u001b[0;34m(self, name)\u001b[0m\n\u001b[1;32m   5272\u001b[0m             \u001b[0;32mif\u001b[0m \u001b[0mself\u001b[0m\u001b[0;34m.\u001b[0m\u001b[0m_info_axis\u001b[0m\u001b[0;34m.\u001b[0m\u001b[0m_can_hold_identifiers_and_holds_name\u001b[0m\u001b[0;34m(\u001b[0m\u001b[0mname\u001b[0m\u001b[0;34m)\u001b[0m\u001b[0;34m:\u001b[0m\u001b[0;34m\u001b[0m\u001b[0;34m\u001b[0m\u001b[0m\n\u001b[1;32m   5273\u001b[0m                 \u001b[0;32mreturn\u001b[0m \u001b[0mself\u001b[0m\u001b[0;34m[\u001b[0m\u001b[0mname\u001b[0m\u001b[0;34m]\u001b[0m\u001b[0;34m\u001b[0m\u001b[0;34m\u001b[0m\u001b[0m\n\u001b[0;32m-> 5274\u001b[0;31m             \u001b[0;32mreturn\u001b[0m \u001b[0mobject\u001b[0m\u001b[0;34m.\u001b[0m\u001b[0m__getattribute__\u001b[0m\u001b[0;34m(\u001b[0m\u001b[0mself\u001b[0m\u001b[0;34m,\u001b[0m \u001b[0mname\u001b[0m\u001b[0;34m)\u001b[0m\u001b[0;34m\u001b[0m\u001b[0;34m\u001b[0m\u001b[0m\n\u001b[0m\u001b[1;32m   5275\u001b[0m \u001b[0;34m\u001b[0m\u001b[0m\n\u001b[1;32m   5276\u001b[0m     \u001b[0;32mdef\u001b[0m \u001b[0m__setattr__\u001b[0m\u001b[0;34m(\u001b[0m\u001b[0mself\u001b[0m\u001b[0;34m,\u001b[0m \u001b[0mname\u001b[0m\u001b[0;34m:\u001b[0m \u001b[0mstr\u001b[0m\u001b[0;34m,\u001b[0m \u001b[0mvalue\u001b[0m\u001b[0;34m)\u001b[0m \u001b[0;34m->\u001b[0m \u001b[0;32mNone\u001b[0m\u001b[0;34m:\u001b[0m\u001b[0;34m\u001b[0m\u001b[0;34m\u001b[0m\u001b[0m\n",
      "\u001b[0;31mAttributeError\u001b[0m: 'DataFrame' object has no attribute '性别'"
     ]
    }
   ],
   "source": [
    "regex = (r'(?P<city>[A-Za-z ]+)',       # 一个或更多字母\n",
    "          r'(?P<state>[A-Z]{2})',         # 两个大写字母\n",
    "          r'(?P<zip>\\d{5}(?:-\\d{4})?)')  # 可选的4个延伸数字\n",
    "df.性别.str.replace('女', 'n')#.str.extract(regex)"
   ]
  },
  {
   "cell_type": "markdown",
   "metadata": {},
   "source": [
    "# 2. copy()\n",
    "Copy()函数用于创建Pandas对象的副本。将数据帧分配给另一个数据帧时，在另一个数据帧中进行更改，其值也会进行同步更改。为了避免出现上述问题，可以使用copy()函数。"
   ]
  },
  {
   "cell_type": "code",
   "execution_count": 4,
   "metadata": {
    "tags": []
   },
   "outputs": [
    {
     "output_type": "stream",
     "name": "stdout",
     "text": "0              USA\n1    Changed value\n2            China\n3         Mongolia\ndtype: object\n0         USA\n1    Pakistan\n2       China\n3    Mongolia\ndtype: object\n"
    }
   ],
   "source": [
    "data = pd.Series(['India', 'Pakistan', 'China', 'Mongolia'])# Assigning issuethat we face\n",
    "data1= data\n",
    "# Change a value\n",
    "data1[0]='USA'\n",
    "# Also changes value in old dataframe\n",
    "data# To prevent that, we use\n",
    "# creating copy of series\n",
    "new = data.copy()# assigning new values\n",
    "new[1]='Changed value'# printing data\n",
    "print(new)\n",
    "print(data)"
   ]
  },
  {
   "cell_type": "markdown",
   "metadata": {},
   "source": [
    "# read_csv(nrows=n)\n",
    "### read-csv函数的重要性。但即使不必要，大多数人仍会错误地读取整个.csv文件。假设未知10GB的.csv文件中的列和数据，在这种情况下读取整个.csv文件并非明智的决定，因为这会浪费内存和时间。可以仅从.csv中导入几行，然后根据需要继续操作。"
   ]
  },
  {
   "cell_type": "markdown",
   "metadata": {},
   "source": [
    "import io\n",
    "import requests# I am using this online data set just to make things easier foryou guys\n",
    "url = \"https://raw.github.com/vincentarelbundock/Rdatasets/master/csv/datasets/AirPassengers.csv\"\n",
    "s = requests.get(url).content# read only first 10 rows\n",
    "df = pd.read_csv(io.StringIO(s.decode('utf-8')),nrows=10 , index_col=0)\n",
    "\n"
   ]
  },
  {
   "cell_type": "code",
   "execution_count": 5,
   "metadata": {},
   "outputs": [
    {
     "output_type": "execute_result",
     "data": {
      "text/plain": "            code      open     close      high       low       vol  \\\ndatetime                                                             \n2010-01-04    10  7799.257  7666.877  7811.907  7666.407  480382.0   \n2010-01-05    10  7694.477  7748.257  7780.547  7591.417  613716.0   \n2010-01-06    10  7734.407  7685.767  7789.927  7684.167  544951.0   \n2010-01-07    10  7689.377  7534.627  7725.077  7495.657  568319.0   \n2010-01-08    10  7503.787  7552.987  7559.827  7441.037  434238.0   \n2010-01-11    10  7835.967  7573.997  7835.967  7539.477  669260.0   \n2010-01-12    10  7557.537  7678.757  7682.587  7468.637  678369.0   \n2010-01-13    10  7490.007  7404.477  7566.667  7394.137  831560.0   \n2010-01-14    10  7437.367  7500.607  7505.837  7380.287  578078.0   \n2010-01-15    10  7504.167  7524.857  7569.007  7452.537  505090.0   \n\n                  amount  p_change  \ndatetime                            \n2010-01-04  6.510389e+10       NaN  \n2010-01-05  8.782037e+10      1.06  \n2010-01-06  7.944561e+10     -0.81  \n2010-01-07  7.937871e+10     -1.97  \n2010-01-08  6.105645e+10      0.24  \n2010-01-11  9.610614e+10      0.28  \n2010-01-12  9.134460e+10      1.38  \n2010-01-13  1.108247e+11     -3.57  \n2010-01-14  7.733353e+10      1.30  \n2010-01-15  6.910635e+10      0.32  ",
      "text/html": "<div>\n<style scoped>\n    .dataframe tbody tr th:only-of-type {\n        vertical-align: middle;\n    }\n\n    .dataframe tbody tr th {\n        vertical-align: top;\n    }\n\n    .dataframe thead th {\n        text-align: right;\n    }\n</style>\n<table border=\"1\" class=\"dataframe\">\n  <thead>\n    <tr style=\"text-align: right;\">\n      <th></th>\n      <th>code</th>\n      <th>open</th>\n      <th>close</th>\n      <th>high</th>\n      <th>low</th>\n      <th>vol</th>\n      <th>amount</th>\n      <th>p_change</th>\n    </tr>\n    <tr>\n      <th>datetime</th>\n      <th></th>\n      <th></th>\n      <th></th>\n      <th></th>\n      <th></th>\n      <th></th>\n      <th></th>\n      <th></th>\n    </tr>\n  </thead>\n  <tbody>\n    <tr>\n      <th>2010-01-04</th>\n      <td>10</td>\n      <td>7799.257</td>\n      <td>7666.877</td>\n      <td>7811.907</td>\n      <td>7666.407</td>\n      <td>480382.0</td>\n      <td>6.510389e+10</td>\n      <td>NaN</td>\n    </tr>\n    <tr>\n      <th>2010-01-05</th>\n      <td>10</td>\n      <td>7694.477</td>\n      <td>7748.257</td>\n      <td>7780.547</td>\n      <td>7591.417</td>\n      <td>613716.0</td>\n      <td>8.782037e+10</td>\n      <td>1.06</td>\n    </tr>\n    <tr>\n      <th>2010-01-06</th>\n      <td>10</td>\n      <td>7734.407</td>\n      <td>7685.767</td>\n      <td>7789.927</td>\n      <td>7684.167</td>\n      <td>544951.0</td>\n      <td>7.944561e+10</td>\n      <td>-0.81</td>\n    </tr>\n    <tr>\n      <th>2010-01-07</th>\n      <td>10</td>\n      <td>7689.377</td>\n      <td>7534.627</td>\n      <td>7725.077</td>\n      <td>7495.657</td>\n      <td>568319.0</td>\n      <td>7.937871e+10</td>\n      <td>-1.97</td>\n    </tr>\n    <tr>\n      <th>2010-01-08</th>\n      <td>10</td>\n      <td>7503.787</td>\n      <td>7552.987</td>\n      <td>7559.827</td>\n      <td>7441.037</td>\n      <td>434238.0</td>\n      <td>6.105645e+10</td>\n      <td>0.24</td>\n    </tr>\n    <tr>\n      <th>2010-01-11</th>\n      <td>10</td>\n      <td>7835.967</td>\n      <td>7573.997</td>\n      <td>7835.967</td>\n      <td>7539.477</td>\n      <td>669260.0</td>\n      <td>9.610614e+10</td>\n      <td>0.28</td>\n    </tr>\n    <tr>\n      <th>2010-01-12</th>\n      <td>10</td>\n      <td>7557.537</td>\n      <td>7678.757</td>\n      <td>7682.587</td>\n      <td>7468.637</td>\n      <td>678369.0</td>\n      <td>9.134460e+10</td>\n      <td>1.38</td>\n    </tr>\n    <tr>\n      <th>2010-01-13</th>\n      <td>10</td>\n      <td>7490.007</td>\n      <td>7404.477</td>\n      <td>7566.667</td>\n      <td>7394.137</td>\n      <td>831560.0</td>\n      <td>1.108247e+11</td>\n      <td>-3.57</td>\n    </tr>\n    <tr>\n      <th>2010-01-14</th>\n      <td>10</td>\n      <td>7437.367</td>\n      <td>7500.607</td>\n      <td>7505.837</td>\n      <td>7380.287</td>\n      <td>578078.0</td>\n      <td>7.733353e+10</td>\n      <td>1.30</td>\n    </tr>\n    <tr>\n      <th>2010-01-15</th>\n      <td>10</td>\n      <td>7504.167</td>\n      <td>7524.857</td>\n      <td>7569.007</td>\n      <td>7452.537</td>\n      <td>505090.0</td>\n      <td>6.910635e+10</td>\n      <td>0.32</td>\n    </tr>\n  </tbody>\n</table>\n</div>"
     },
     "metadata": {},
     "execution_count": 5
    }
   ],
   "source": [
    "pd.read_csv(\"/Users/manmanzhang/Library/Mobile Documents/com~apple~CloudDocs/MyProject/InferenceSystem/src/I5_algorithm/数据库文件/sh.csv\",nrows=10,index_col=0)"
   ]
  },
  {
   "cell_type": "markdown",
   "metadata": {},
   "source": [
    "# 4. map()"
   ]
  },
  {
   "cell_type": "markdown",
   "metadata": {},
   "source": [
    "# map()函数用于根据输入对应关系映射Series的值。用于将序列(Series)中的每个值替换为另一个值，该值可以从函数、字典或序列(Series)中得出。"
   ]
  },
  {
   "cell_type": "code",
   "execution_count": 6,
   "metadata": {},
   "outputs": [
    {
     "output_type": "execute_result",
     "data": {
      "text/plain": "India      0.60\nUSA       -0.83\nChina     -0.03\nRussia     0.56\nName: d, dtype: object"
     },
     "metadata": {},
     "execution_count": 6
    }
   ],
   "source": [
    "import numpy as np\n",
    "dframe = pd.DataFrame(np.random.randn(4, 3), columns=list('bde'),index=['India', 'USA', 'China', 'Russia'])#compute a formatted string from eachfloating point value in frame\n",
    "changefn = lambda x: '%.2f' % x# Make changes element-wise\n",
    "dframe['d'].map(changefn)"
   ]
  },
  {
   "cell_type": "markdown",
   "metadata": {},
   "source": [
    "# select_dtypes()\n",
    "select_dtypes()函数基于dtypes列返回数据框的列的子集。设置此函数的参数，以包括具有某些特定数据类型的所有列；也可对其进行设置，以排除具有某些特定数据类型的所有列。"
   ]
  },
  {
   "cell_type": "code",
   "execution_count": 7,
   "metadata": {},
   "outputs": [
    {
     "output_type": "execute_result",
     "data": {
      "text/plain": "   流感\n0 NaN\n1 NaN\n2 NaN\n3 NaN\n4 NaN\n5 NaN\n6 NaN\n7 NaN\n8 NaN\n9 NaN",
      "text/html": "<div>\n<style scoped>\n    .dataframe tbody tr th:only-of-type {\n        vertical-align: middle;\n    }\n\n    .dataframe tbody tr th {\n        vertical-align: top;\n    }\n\n    .dataframe thead th {\n        text-align: right;\n    }\n</style>\n<table border=\"1\" class=\"dataframe\">\n  <thead>\n    <tr style=\"text-align: right;\">\n      <th></th>\n      <th>流感</th>\n    </tr>\n  </thead>\n  <tbody>\n    <tr>\n      <th>0</th>\n      <td>NaN</td>\n    </tr>\n    <tr>\n      <th>1</th>\n      <td>NaN</td>\n    </tr>\n    <tr>\n      <th>2</th>\n      <td>NaN</td>\n    </tr>\n    <tr>\n      <th>3</th>\n      <td>NaN</td>\n    </tr>\n    <tr>\n      <th>4</th>\n      <td>NaN</td>\n    </tr>\n    <tr>\n      <th>5</th>\n      <td>NaN</td>\n    </tr>\n    <tr>\n      <th>6</th>\n      <td>NaN</td>\n    </tr>\n    <tr>\n      <th>7</th>\n      <td>NaN</td>\n    </tr>\n    <tr>\n      <th>8</th>\n      <td>NaN</td>\n    </tr>\n    <tr>\n      <th>9</th>\n      <td>NaN</td>\n    </tr>\n  </tbody>\n</table>\n</div>"
     },
     "metadata": {},
     "execution_count": 7
    }
   ],
   "source": [
    "framex = df.select_dtypes(include=\"float64\")\n",
    "framex"
   ]
  },
  {
   "cell_type": "markdown",
   "metadata": {},
   "source": [
    "# pivot_table 数据透视表\n",
    "如果你纠结于是否使用groupby，并想扩展其功能，那么不妨试试pivot-table。如果明白数据透视表在excel中的工作原理，那么一切就非常简单了。数据透视表中的级别将存贮在MultiIndex对象（分层索引）中，而该对象位于DataFrame结果的索引和列上。"
   ]
  },
  {
   "cell_type": "code",
   "execution_count": 8,
   "metadata": {
    "tags": []
   },
   "outputs": [
    {
     "output_type": "stream",
     "name": "stdout",
     "text": "A         B   C\n0     Jay   Masters  26\n1   Usher  Graduate  22\n2   Nicky  Graduate  20\n3  Romero   Masters  23\n4    Will  Graduate  24\n"
    },
    {
     "output_type": "execute_result",
     "data": {
      "text/plain": "B                 Graduate        Masters\nB        C                               \nGraduate 20          Nicky  Not Available\n         22          Usher  Not Available\n         24           Will  Not Available\nMasters  23  Not Available         Romero\n         26  Not Available            Jay",
      "text/html": "<div>\n<style scoped>\n    .dataframe tbody tr th:only-of-type {\n        vertical-align: middle;\n    }\n\n    .dataframe tbody tr th {\n        vertical-align: top;\n    }\n\n    .dataframe thead th {\n        text-align: right;\n    }\n</style>\n<table border=\"1\" class=\"dataframe\">\n  <thead>\n    <tr style=\"text-align: right;\">\n      <th></th>\n      <th>B</th>\n      <th>Graduate</th>\n      <th>Masters</th>\n    </tr>\n    <tr>\n      <th>B</th>\n      <th>C</th>\n      <th></th>\n      <th></th>\n    </tr>\n  </thead>\n  <tbody>\n    <tr>\n      <th rowspan=\"3\" valign=\"top\">Graduate</th>\n      <th>20</th>\n      <td>Nicky</td>\n      <td>Not Available</td>\n    </tr>\n    <tr>\n      <th>22</th>\n      <td>Usher</td>\n      <td>Not Available</td>\n    </tr>\n    <tr>\n      <th>24</th>\n      <td>Will</td>\n      <td>Not Available</td>\n    </tr>\n    <tr>\n      <th rowspan=\"2\" valign=\"top\">Masters</th>\n      <th>23</th>\n      <td>Not Available</td>\n      <td>Romero</td>\n    </tr>\n    <tr>\n      <th>26</th>\n      <td>Not Available</td>\n      <td>Jay</td>\n    </tr>\n  </tbody>\n</table>\n</div>"
     },
     "metadata": {},
     "execution_count": 8
    }
   ],
   "source": [
    "school = pd.DataFrame({'A': ['Jay', 'Usher', 'Nicky', 'Romero', 'Will'],\n",
    "      'B': ['Masters', 'Graduate','Graduate', 'Masters', 'Graduate'],\n",
    "      'C': [26, 22, 20, 23, 24]})\n",
    "print(school)\n",
    "table = pd.pivot_table(school, values ='A', index =['B', 'C'],\n",
    "                         columns =['B'], aggfunc = np.sum,fill_value=\"Not Available\")\n",
    " \n",
    "table"
   ]
  },
  {
   "cell_type": "code",
   "execution_count": 9,
   "metadata": {},
   "outputs": [
    {
     "output_type": "error",
     "ename": "KeyError",
     "evalue": "'value'",
     "traceback": [
      "\u001b[0;31m---------------------------------------------------------------------------\u001b[0m",
      "\u001b[0;31mKeyError\u001b[0m                                  Traceback (most recent call last)",
      "\u001b[0;32m/usr/local/lib/python3.7/site-packages/pandas/core/indexes/base.py\u001b[0m in \u001b[0;36mget_loc\u001b[0;34m(self, key, method, tolerance)\u001b[0m\n\u001b[1;32m   2645\u001b[0m             \u001b[0;32mtry\u001b[0m\u001b[0;34m:\u001b[0m\u001b[0;34m\u001b[0m\u001b[0;34m\u001b[0m\u001b[0m\n\u001b[0;32m-> 2646\u001b[0;31m                 \u001b[0;32mreturn\u001b[0m \u001b[0mself\u001b[0m\u001b[0;34m.\u001b[0m\u001b[0m_engine\u001b[0m\u001b[0;34m.\u001b[0m\u001b[0mget_loc\u001b[0m\u001b[0;34m(\u001b[0m\u001b[0mkey\u001b[0m\u001b[0;34m)\u001b[0m\u001b[0;34m\u001b[0m\u001b[0;34m\u001b[0m\u001b[0m\n\u001b[0m\u001b[1;32m   2647\u001b[0m             \u001b[0;32mexcept\u001b[0m \u001b[0mKeyError\u001b[0m\u001b[0;34m:\u001b[0m\u001b[0;34m\u001b[0m\u001b[0;34m\u001b[0m\u001b[0m\n",
      "\u001b[0;32mpandas/_libs/index.pyx\u001b[0m in \u001b[0;36mpandas._libs.index.IndexEngine.get_loc\u001b[0;34m()\u001b[0m\n",
      "\u001b[0;32mpandas/_libs/index.pyx\u001b[0m in \u001b[0;36mpandas._libs.index.IndexEngine.get_loc\u001b[0;34m()\u001b[0m\n",
      "\u001b[0;32mpandas/_libs/hashtable_class_helper.pxi\u001b[0m in \u001b[0;36mpandas._libs.hashtable.PyObjectHashTable.get_item\u001b[0;34m()\u001b[0m\n",
      "\u001b[0;32mpandas/_libs/hashtable_class_helper.pxi\u001b[0m in \u001b[0;36mpandas._libs.hashtable.PyObjectHashTable.get_item\u001b[0;34m()\u001b[0m\n",
      "\u001b[0;31mKeyError\u001b[0m: 'value'",
      "\nDuring handling of the above exception, another exception occurred:\n",
      "\u001b[0;31mKeyError\u001b[0m                                  Traceback (most recent call last)",
      "\u001b[0;32m<ipython-input-9-3b258fb08b6d>\u001b[0m in \u001b[0;36m<module>\u001b[0;34m\u001b[0m\n\u001b[0;32m----> 1\u001b[0;31m \u001b[0mfilter1\u001b[0m \u001b[0;34m=\u001b[0m \u001b[0mdf\u001b[0m\u001b[0;34m[\u001b[0m\u001b[0;34m\"value\"\u001b[0m\u001b[0;34m]\u001b[0m\u001b[0;34m.\u001b[0m\u001b[0misin\u001b[0m\u001b[0;34m(\u001b[0m\u001b[0;34m[\u001b[0m\u001b[0;36m112\u001b[0m\u001b[0;34m]\u001b[0m\u001b[0;34m)\u001b[0m\u001b[0;34m\u001b[0m\u001b[0;34m\u001b[0m\u001b[0m\n\u001b[0m\u001b[1;32m      2\u001b[0m \u001b[0mfilter2\u001b[0m \u001b[0;34m=\u001b[0m \u001b[0mdf\u001b[0m\u001b[0;34m[\u001b[0m\u001b[0;34m\"time\"\u001b[0m\u001b[0;34m]\u001b[0m\u001b[0;34m.\u001b[0m\u001b[0misin\u001b[0m\u001b[0;34m(\u001b[0m\u001b[0;34m[\u001b[0m\u001b[0;36m1949.000000\u001b[0m\u001b[0;34m]\u001b[0m\u001b[0;34m)\u001b[0m\u001b[0;34m\u001b[0m\u001b[0;34m\u001b[0m\u001b[0m\n\u001b[1;32m      3\u001b[0m \u001b[0;34m[\u001b[0m\u001b[0mfilter1\u001b[0m \u001b[0;34m&\u001b[0m \u001b[0mfilter2\u001b[0m\u001b[0;34m]\u001b[0m\u001b[0;34m\u001b[0m\u001b[0;34m\u001b[0m\u001b[0m\n",
      "\u001b[0;32m/usr/local/lib/python3.7/site-packages/pandas/core/frame.py\u001b[0m in \u001b[0;36m__getitem__\u001b[0;34m(self, key)\u001b[0m\n\u001b[1;32m   2798\u001b[0m             \u001b[0;32mif\u001b[0m \u001b[0mself\u001b[0m\u001b[0;34m.\u001b[0m\u001b[0mcolumns\u001b[0m\u001b[0;34m.\u001b[0m\u001b[0mnlevels\u001b[0m \u001b[0;34m>\u001b[0m \u001b[0;36m1\u001b[0m\u001b[0;34m:\u001b[0m\u001b[0;34m\u001b[0m\u001b[0;34m\u001b[0m\u001b[0m\n\u001b[1;32m   2799\u001b[0m                 \u001b[0;32mreturn\u001b[0m \u001b[0mself\u001b[0m\u001b[0;34m.\u001b[0m\u001b[0m_getitem_multilevel\u001b[0m\u001b[0;34m(\u001b[0m\u001b[0mkey\u001b[0m\u001b[0;34m)\u001b[0m\u001b[0;34m\u001b[0m\u001b[0;34m\u001b[0m\u001b[0m\n\u001b[0;32m-> 2800\u001b[0;31m             \u001b[0mindexer\u001b[0m \u001b[0;34m=\u001b[0m \u001b[0mself\u001b[0m\u001b[0;34m.\u001b[0m\u001b[0mcolumns\u001b[0m\u001b[0;34m.\u001b[0m\u001b[0mget_loc\u001b[0m\u001b[0;34m(\u001b[0m\u001b[0mkey\u001b[0m\u001b[0;34m)\u001b[0m\u001b[0;34m\u001b[0m\u001b[0;34m\u001b[0m\u001b[0m\n\u001b[0m\u001b[1;32m   2801\u001b[0m             \u001b[0;32mif\u001b[0m \u001b[0mis_integer\u001b[0m\u001b[0;34m(\u001b[0m\u001b[0mindexer\u001b[0m\u001b[0;34m)\u001b[0m\u001b[0;34m:\u001b[0m\u001b[0;34m\u001b[0m\u001b[0;34m\u001b[0m\u001b[0m\n\u001b[1;32m   2802\u001b[0m                 \u001b[0mindexer\u001b[0m \u001b[0;34m=\u001b[0m \u001b[0;34m[\u001b[0m\u001b[0mindexer\u001b[0m\u001b[0;34m]\u001b[0m\u001b[0;34m\u001b[0m\u001b[0;34m\u001b[0m\u001b[0m\n",
      "\u001b[0;32m/usr/local/lib/python3.7/site-packages/pandas/core/indexes/base.py\u001b[0m in \u001b[0;36mget_loc\u001b[0;34m(self, key, method, tolerance)\u001b[0m\n\u001b[1;32m   2646\u001b[0m                 \u001b[0;32mreturn\u001b[0m \u001b[0mself\u001b[0m\u001b[0;34m.\u001b[0m\u001b[0m_engine\u001b[0m\u001b[0;34m.\u001b[0m\u001b[0mget_loc\u001b[0m\u001b[0;34m(\u001b[0m\u001b[0mkey\u001b[0m\u001b[0;34m)\u001b[0m\u001b[0;34m\u001b[0m\u001b[0;34m\u001b[0m\u001b[0m\n\u001b[1;32m   2647\u001b[0m             \u001b[0;32mexcept\u001b[0m \u001b[0mKeyError\u001b[0m\u001b[0;34m:\u001b[0m\u001b[0;34m\u001b[0m\u001b[0;34m\u001b[0m\u001b[0m\n\u001b[0;32m-> 2648\u001b[0;31m                 \u001b[0;32mreturn\u001b[0m \u001b[0mself\u001b[0m\u001b[0;34m.\u001b[0m\u001b[0m_engine\u001b[0m\u001b[0;34m.\u001b[0m\u001b[0mget_loc\u001b[0m\u001b[0;34m(\u001b[0m\u001b[0mself\u001b[0m\u001b[0;34m.\u001b[0m\u001b[0m_maybe_cast_indexer\u001b[0m\u001b[0;34m(\u001b[0m\u001b[0mkey\u001b[0m\u001b[0;34m)\u001b[0m\u001b[0;34m)\u001b[0m\u001b[0;34m\u001b[0m\u001b[0;34m\u001b[0m\u001b[0m\n\u001b[0m\u001b[1;32m   2649\u001b[0m         \u001b[0mindexer\u001b[0m \u001b[0;34m=\u001b[0m \u001b[0mself\u001b[0m\u001b[0;34m.\u001b[0m\u001b[0mget_indexer\u001b[0m\u001b[0;34m(\u001b[0m\u001b[0;34m[\u001b[0m\u001b[0mkey\u001b[0m\u001b[0;34m]\u001b[0m\u001b[0;34m,\u001b[0m \u001b[0mmethod\u001b[0m\u001b[0;34m=\u001b[0m\u001b[0mmethod\u001b[0m\u001b[0;34m,\u001b[0m \u001b[0mtolerance\u001b[0m\u001b[0;34m=\u001b[0m\u001b[0mtolerance\u001b[0m\u001b[0;34m)\u001b[0m\u001b[0;34m\u001b[0m\u001b[0;34m\u001b[0m\u001b[0m\n\u001b[1;32m   2650\u001b[0m         \u001b[0;32mif\u001b[0m \u001b[0mindexer\u001b[0m\u001b[0;34m.\u001b[0m\u001b[0mndim\u001b[0m \u001b[0;34m>\u001b[0m \u001b[0;36m1\u001b[0m \u001b[0;32mor\u001b[0m \u001b[0mindexer\u001b[0m\u001b[0;34m.\u001b[0m\u001b[0msize\u001b[0m \u001b[0;34m>\u001b[0m \u001b[0;36m1\u001b[0m\u001b[0;34m:\u001b[0m\u001b[0;34m\u001b[0m\u001b[0;34m\u001b[0m\u001b[0m\n",
      "\u001b[0;32mpandas/_libs/index.pyx\u001b[0m in \u001b[0;36mpandas._libs.index.IndexEngine.get_loc\u001b[0;34m()\u001b[0m\n",
      "\u001b[0;32mpandas/_libs/index.pyx\u001b[0m in \u001b[0;36mpandas._libs.index.IndexEngine.get_loc\u001b[0;34m()\u001b[0m\n",
      "\u001b[0;32mpandas/_libs/hashtable_class_helper.pxi\u001b[0m in \u001b[0;36mpandas._libs.hashtable.PyObjectHashTable.get_item\u001b[0;34m()\u001b[0m\n",
      "\u001b[0;32mpandas/_libs/hashtable_class_helper.pxi\u001b[0m in \u001b[0;36mpandas._libs.hashtable.PyObjectHashTable.get_item\u001b[0;34m()\u001b[0m\n",
      "\u001b[0;31mKeyError\u001b[0m: 'value'"
     ]
    }
   ],
   "source": [
    "filter1 = df[\"value\"].isin([112])\n",
    "filter2 = df[\"time\"].isin([1949.000000])\n",
    "[filter1 & filter2]"
   ]
  },
  {
   "cell_type": "code",
   "execution_count": null,
   "metadata": {},
   "outputs": [],
   "source": []
  }
 ],
 "metadata": {
  "language_info": {
   "codemirror_mode": {
    "name": "ipython",
    "version": 3
   },
   "file_extension": ".py",
   "mimetype": "text/x-python",
   "name": "python",
   "nbconvert_exporter": "python",
   "pygments_lexer": "ipython3",
   "version": "3.7.6-final"
  },
  "orig_nbformat": 2,
  "kernelspec": {
   "name": "python37464bitf10adaa3efab4e6fa8988dc159616146",
   "display_name": "Python 3.7.4 64-bit"
  }
 },
 "nbformat": 4,
 "nbformat_minor": 2
}