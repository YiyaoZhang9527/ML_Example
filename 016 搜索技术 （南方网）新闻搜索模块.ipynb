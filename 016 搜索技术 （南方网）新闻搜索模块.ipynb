{
 "cells": [
  {
   "cell_type": "code",
   "execution_count": 1,
   "metadata": {},
   "outputs": [],
   "source": [
    "import numpy as np\n",
    "import torch\n",
    "import re\n",
    "import jieba\n",
    "import newspaper\n",
    "import pandas as pd\n",
    "from tqdm import tqdm\n",
    "import os.path\n",
    "from os import listdir\n",
    "#显示所有列\n",
    "pd.set_option('display.max_columns', None)\n",
    "#显示所有行\n",
    "pd.set_option('display.max_rows', None)\n",
    "#设置value的显示长度为100，默认为50\n",
    "pd.set_option('max_colwidth',100)"
   ]
  },
  {
   "cell_type": "code",
   "execution_count": 2,
   "metadata": {},
   "outputs": [],
   "source": [
    "url = 'https://new.qq.com/omn/20200730/20200730A0TCON00.html'      # 南方网\n",
    "south_paper = newspaper.build(url, language='zh')    "
   ]
  },
  {
   "cell_type": "code",
   "execution_count": 3,
   "metadata": {},
   "outputs": [],
   "source": [
    "url = 'http://www.southcn.com/'          # 南方网"
   ]
  },
  {
   "cell_type": "markdown",
   "metadata": {},
   "source": [
    "# 寻找文件"
   ]
  },
  {
   "cell_type": "code",
   "execution_count": 4,
   "metadata": {},
   "outputs": [],
   "source": [
    "def find_file(key_word,dir = os.getcwd()):\n",
    "    file_paths = [os.path.join(dir, f) for f in listdir(dir) if os.path.isfile(os.path.join(dir, f)) and key_word in os.path.join(dir, f)][0]\n",
    "    return file_paths"
   ]
  },
  {
   "cell_type": "markdown",
   "metadata": {},
   "source": [
    "# 摘取新闻"
   ]
  },
  {
   "cell_type": "code",
   "execution_count": 5,
   "metadata": {},
   "outputs": [],
   "source": [
    "def get_news_paper(url,filepath):\n",
    "    south_paper = newspaper.build(url,language='zh',memoize_articles = False)    # 构建新闻源\n",
    "    strings = \"{}{}{}{}{}{}\".format(\"品牌:\",south_paper.brand,\"描述:\",south_paper.description,\"共计:\",len(south_paper.articles))\n",
    "    news_title = []\n",
    "    news_text = []\n",
    "    news = south_paper.articles\n",
    "    for i in tqdm(range(len(news)),desc=strings):    # 以新闻链接的长度为循环次数\n",
    "        paper = news[i]\n",
    "        try :\n",
    "            paper.download()\n",
    "            paper.parse()\n",
    "            news_title.append(paper.title)     # 将新闻题目以列表形式逐一储存\n",
    "            news_text.append(paper.text)       # 将新闻正文以列表形式逐一储存\n",
    "        except:\n",
    "            news_title.append('NULL')          # 如果无法访问，以NULL替代\n",
    "            news_text.append('NULL')          \n",
    "            continue\n",
    "    # 建立数据表存储爬取的新闻信息\n",
    "    south_paper_data = pd.DataFrame({'title':news_title,'text':news_text})\n",
    "    south_paper_data = south_paper_data.drop_duplicates(subset=['text'], keep ='first')\n",
    "    south_paper_data.reset_index(drop=True)\n",
    "    south_paper_data.to_csv(filepath,mode=\"a\",header=False)\n",
    "    print(\"{}{}{}\".format(\"共计采集到<\",len(news),\">篇新闻\"))\n",
    "    return south_paper_data\n"
   ]
  },
  {
   "cell_type": "markdown",
   "metadata": {},
   "source": [
    "# 静态配置"
   ]
  },
  {
   "cell_type": "code",
   "execution_count": 18,
   "metadata": {},
   "outputs": [
    {
     "data": {
      "text/plain": [
       "Index(['Unnamed: 0', '0', '南方融媒体专区', 'Unnamed: 2'], dtype='object')"
      ]
     },
     "execution_count": 18,
     "metadata": {},
     "output_type": "execute_result"
    }
   ],
   "source": [
    "corpus = \"南方网 3.csv\"\n",
    "stop_word_path = '/home/manman/Documents/相互转移/gitee项目/NLP数据集合/停词库/stop_word_for_chinese.txt'\n",
    "pd.read_csv(corpus).columns"
   ]
  },
  {
   "cell_type": "markdown",
   "metadata": {},
   "source": [
    "# 本地csv去重"
   ]
  },
  {
   "cell_type": "code",
   "execution_count": 20,
   "metadata": {},
   "outputs": [
    {
     "data": {
      "text/plain": [
       "0"
      ]
     },
     "execution_count": 20,
     "metadata": {},
     "output_type": "execute_result"
    }
   ],
   "source": [
    "def drop_duplicates_csv(file_path):\n",
    "    location_table = pd.read_csv(file_path)\n",
    "    start = location_table.shape[0]\n",
    "    location_table = location_table.drop_duplicates(subset=['text'], keep ='last')\n",
    "    location_table = location_table.reset_index(drop=True)\n",
    "    location_table.to_csv(file_path)\n",
    "    end = location_table.shape[0]\n",
    "    return start-end\n",
    "drop_duplicates_csv(corpus)"
   ]
  },
  {
   "cell_type": "code",
   "execution_count": null,
   "metadata": {},
   "outputs": [],
   "source": []
  },
  {
   "cell_type": "markdown",
   "metadata": {},
   "source": [
    "# 开始采集新闻数据"
   ]
  },
  {
   "cell_type": "code",
   "execution_count": 21,
   "metadata": {
    "tags": []
   },
   "outputs": [
    {
     "name": "stderr",
     "output_type": "stream",
     "text": [
      "品牌:southcn描述:南方网/南方新闻网是经中共广东省委，广东省人民政府批准建设的新闻宣传网站。南方网/南方新闻网由广东省委宣传部主办主管并作为南方报业传媒集团之成员单位，获国务院新闻办公室批准从事登载新闻业务并被确定为全国重点新闻网站之一。南方网/南方新闻网作为华南地区最大型的新闻融合平台，是国内外网民认识、了解广东最权威、最快捷的途径。共计:1095:  14%|█▍        | 151/1095 [00:23<01:54,  8.28it/s]/home/manman/anaconda3/lib/python3.8/site-packages/PIL/TiffImagePlugin.py:763: UserWarning: Possibly corrupt EXIF data.  Expecting to read 37592 bytes but only got 48. Skipping tag 37500\n",
      "  warnings.warn(\n",
      "/home/manman/anaconda3/lib/python3.8/site-packages/PIL/TiffImagePlugin.py:763: UserWarning: Possibly corrupt EXIF data.  Expecting to read 64 bytes but only got 0. Skipping tag 37510\n",
      "  warnings.warn(\n",
      "/home/manman/anaconda3/lib/python3.8/site-packages/PIL/TiffImagePlugin.py:763: UserWarning: Possibly corrupt EXIF data.  Expecting to read 8 bytes but only got 0. Skipping tag 41988\n",
      "  warnings.warn(\n",
      "/home/manman/anaconda3/lib/python3.8/site-packages/PIL/TiffImagePlugin.py:763: UserWarning: Possibly corrupt EXIF data.  Expecting to read 32 bytes but only got 0. Skipping tag 42034\n",
      "  warnings.warn(\n",
      "/home/manman/anaconda3/lib/python3.8/site-packages/PIL/TiffImagePlugin.py:763: UserWarning: Possibly corrupt EXIF data.  Expecting to read 23 bytes but only got 0. Skipping tag 42036\n",
      "  warnings.warn(\n",
      "/home/manman/anaconda3/lib/python3.8/site-packages/PIL/TiffImagePlugin.py:763: UserWarning: Possibly corrupt EXIF data.  Expecting to read 37592 bytes but only got 1072. Skipping tag 37500\n",
      "  warnings.warn(\n",
      "/home/manman/anaconda3/lib/python3.8/site-packages/PIL/TiffImagePlugin.py:763: UserWarning: Possibly corrupt EXIF data.  Expecting to read 37592 bytes but only got 2096. Skipping tag 37500\n",
      "  warnings.warn(\n",
      "/home/manman/anaconda3/lib/python3.8/site-packages/PIL/TiffImagePlugin.py:763: UserWarning: Possibly corrupt EXIF data.  Expecting to read 37592 bytes but only got 3120. Skipping tag 37500\n",
      "  warnings.warn(\n",
      "/home/manman/anaconda3/lib/python3.8/site-packages/PIL/TiffImagePlugin.py:763: UserWarning: Possibly corrupt EXIF data.  Expecting to read 37592 bytes but only got 4144. Skipping tag 37500\n",
      "  warnings.warn(\n",
      "/home/manman/anaconda3/lib/python3.8/site-packages/PIL/TiffImagePlugin.py:763: UserWarning: Possibly corrupt EXIF data.  Expecting to read 37592 bytes but only got 5168. Skipping tag 37500\n",
      "  warnings.warn(\n",
      "/home/manman/anaconda3/lib/python3.8/site-packages/PIL/TiffImagePlugin.py:763: UserWarning: Possibly corrupt EXIF data.  Expecting to read 37592 bytes but only got 6192. Skipping tag 37500\n",
      "  warnings.warn(\n",
      "/home/manman/anaconda3/lib/python3.8/site-packages/PIL/TiffImagePlugin.py:763: UserWarning: Possibly corrupt EXIF data.  Expecting to read 37592 bytes but only got 7216. Skipping tag 37500\n",
      "  warnings.warn(\n",
      "/home/manman/anaconda3/lib/python3.8/site-packages/PIL/TiffImagePlugin.py:763: UserWarning: Possibly corrupt EXIF data.  Expecting to read 37592 bytes but only got 8240. Skipping tag 37500\n",
      "  warnings.warn(\n",
      "/home/manman/anaconda3/lib/python3.8/site-packages/PIL/TiffImagePlugin.py:763: UserWarning: Possibly corrupt EXIF data.  Expecting to read 37592 bytes but only got 9264. Skipping tag 37500\n",
      "  warnings.warn(\n",
      "/home/manman/anaconda3/lib/python3.8/site-packages/PIL/TiffImagePlugin.py:763: UserWarning: Possibly corrupt EXIF data.  Expecting to read 37592 bytes but only got 10288. Skipping tag 37500\n",
      "  warnings.warn(\n",
      "/home/manman/anaconda3/lib/python3.8/site-packages/PIL/TiffImagePlugin.py:763: UserWarning: Possibly corrupt EXIF data.  Expecting to read 37592 bytes but only got 11312. Skipping tag 37500\n",
      "  warnings.warn(\n",
      "/home/manman/anaconda3/lib/python3.8/site-packages/PIL/TiffImagePlugin.py:763: UserWarning: Possibly corrupt EXIF data.  Expecting to read 37592 bytes but only got 12336. Skipping tag 37500\n",
      "  warnings.warn(\n",
      "/home/manman/anaconda3/lib/python3.8/site-packages/PIL/TiffImagePlugin.py:763: UserWarning: Possibly corrupt EXIF data.  Expecting to read 37592 bytes but only got 13360. Skipping tag 37500\n",
      "  warnings.warn(\n",
      "/home/manman/anaconda3/lib/python3.8/site-packages/PIL/TiffImagePlugin.py:763: UserWarning: Possibly corrupt EXIF data.  Expecting to read 37592 bytes but only got 14384. Skipping tag 37500\n",
      "  warnings.warn(\n",
      "/home/manman/anaconda3/lib/python3.8/site-packages/PIL/TiffImagePlugin.py:763: UserWarning: Possibly corrupt EXIF data.  Expecting to read 37592 bytes but only got 15408. Skipping tag 37500\n",
      "  warnings.warn(\n",
      "/home/manman/anaconda3/lib/python3.8/site-packages/PIL/TiffImagePlugin.py:763: UserWarning: Possibly corrupt EXIF data.  Expecting to read 37592 bytes but only got 16432. Skipping tag 37500\n",
      "  warnings.warn(\n",
      "/home/manman/anaconda3/lib/python3.8/site-packages/PIL/TiffImagePlugin.py:763: UserWarning: Possibly corrupt EXIF data.  Expecting to read 37592 bytes but only got 17456. Skipping tag 37500\n",
      "  warnings.warn(\n",
      "/home/manman/anaconda3/lib/python3.8/site-packages/PIL/TiffImagePlugin.py:763: UserWarning: Possibly corrupt EXIF data.  Expecting to read 37592 bytes but only got 18480. Skipping tag 37500\n",
      "  warnings.warn(\n",
      "/home/manman/anaconda3/lib/python3.8/site-packages/PIL/TiffImagePlugin.py:763: UserWarning: Possibly corrupt EXIF data.  Expecting to read 37592 bytes but only got 19504. Skipping tag 37500\n",
      "  warnings.warn(\n",
      "/home/manman/anaconda3/lib/python3.8/site-packages/PIL/TiffImagePlugin.py:763: UserWarning: Possibly corrupt EXIF data.  Expecting to read 37592 bytes but only got 20528. Skipping tag 37500\n",
      "  warnings.warn(\n",
      "/home/manman/anaconda3/lib/python3.8/site-packages/PIL/TiffImagePlugin.py:763: UserWarning: Possibly corrupt EXIF data.  Expecting to read 37592 bytes but only got 21552. Skipping tag 37500\n",
      "  warnings.warn(\n",
      "/home/manman/anaconda3/lib/python3.8/site-packages/PIL/TiffImagePlugin.py:763: UserWarning: Possibly corrupt EXIF data.  Expecting to read 37592 bytes but only got 22576. Skipping tag 37500\n",
      "  warnings.warn(\n",
      "/home/manman/anaconda3/lib/python3.8/site-packages/PIL/TiffImagePlugin.py:763: UserWarning: Possibly corrupt EXIF data.  Expecting to read 37592 bytes but only got 23600. Skipping tag 37500\n",
      "  warnings.warn(\n",
      "/home/manman/anaconda3/lib/python3.8/site-packages/PIL/TiffImagePlugin.py:763: UserWarning: Possibly corrupt EXIF data.  Expecting to read 37592 bytes but only got 24624. Skipping tag 37500\n",
      "  warnings.warn(\n",
      "/home/manman/anaconda3/lib/python3.8/site-packages/PIL/TiffImagePlugin.py:763: UserWarning: Possibly corrupt EXIF data.  Expecting to read 37592 bytes but only got 25648. Skipping tag 37500\n",
      "  warnings.warn(\n",
      "/home/manman/anaconda3/lib/python3.8/site-packages/PIL/TiffImagePlugin.py:763: UserWarning: Possibly corrupt EXIF data.  Expecting to read 37592 bytes but only got 26672. Skipping tag 37500\n",
      "  warnings.warn(\n",
      "/home/manman/anaconda3/lib/python3.8/site-packages/PIL/TiffImagePlugin.py:763: UserWarning: Possibly corrupt EXIF data.  Expecting to read 37592 bytes but only got 27696. Skipping tag 37500\n",
      "  warnings.warn(\n",
      "/home/manman/anaconda3/lib/python3.8/site-packages/PIL/TiffImagePlugin.py:763: UserWarning: Possibly corrupt EXIF data.  Expecting to read 37592 bytes but only got 28720. Skipping tag 37500\n",
      "  warnings.warn(\n",
      "/home/manman/anaconda3/lib/python3.8/site-packages/PIL/TiffImagePlugin.py:763: UserWarning: Possibly corrupt EXIF data.  Expecting to read 37592 bytes but only got 29744. Skipping tag 37500\n",
      "  warnings.warn(\n",
      "/home/manman/anaconda3/lib/python3.8/site-packages/PIL/TiffImagePlugin.py:763: UserWarning: Possibly corrupt EXIF data.  Expecting to read 37592 bytes but only got 30768. Skipping tag 37500\n",
      "  warnings.warn(\n",
      "/home/manman/anaconda3/lib/python3.8/site-packages/PIL/TiffImagePlugin.py:763: UserWarning: Possibly corrupt EXIF data.  Expecting to read 37592 bytes but only got 31792. Skipping tag 37500\n",
      "  warnings.warn(\n",
      "/home/manman/anaconda3/lib/python3.8/site-packages/PIL/TiffImagePlugin.py:763: UserWarning: Possibly corrupt EXIF data.  Expecting to read 37592 bytes but only got 32816. Skipping tag 37500\n",
      "  warnings.warn(\n",
      "/home/manman/anaconda3/lib/python3.8/site-packages/PIL/TiffImagePlugin.py:763: UserWarning: Possibly corrupt EXIF data.  Expecting to read 37592 bytes but only got 33840. Skipping tag 37500\n",
      "  warnings.warn(\n",
      "/home/manman/anaconda3/lib/python3.8/site-packages/PIL/TiffImagePlugin.py:763: UserWarning: Possibly corrupt EXIF data.  Expecting to read 37592 bytes but only got 34864. Skipping tag 37500\n",
      "  warnings.warn(\n",
      "/home/manman/anaconda3/lib/python3.8/site-packages/PIL/TiffImagePlugin.py:763: UserWarning: Possibly corrupt EXIF data.  Expecting to read 37592 bytes but only got 35888. Skipping tag 37500\n",
      "  warnings.warn(\n",
      "/home/manman/anaconda3/lib/python3.8/site-packages/PIL/TiffImagePlugin.py:763: UserWarning: Possibly corrupt EXIF data.  Expecting to read 37592 bytes but only got 36912. Skipping tag 37500\n",
      "  warnings.warn(\n",
      "品牌:southcn描述:南方网/南方新闻网是经中共广东省委，广东省人民政府批准建设的新闻宣传网站。南方网/南方新闻网由广东省委宣传部主办主管并作为南方报业传媒集团之成员单位，获国务院新闻办公室批准从事登载新闻业务并被确定为全国重点新闻网站之一。南方网/南方新闻网作为华南地区最大型的新闻融合平台，是国内外网民认识、了解广东最权威、最快捷的途径。共计:1095:  14%|█▍        | 152/1095 [00:27<21:11,  1.35s/it]/home/manman/anaconda3/lib/python3.8/site-packages/PIL/TiffImagePlugin.py:763: UserWarning: Possibly corrupt EXIF data.  Expecting to read 264 bytes but only got 120. Skipping tag 37510\n",
      "  warnings.warn(\n",
      "/home/manman/anaconda3/lib/python3.8/site-packages/PIL/TiffImagePlugin.py:763: UserWarning: Possibly corrupt EXIF data.  Expecting to read 8 bytes but only got 0. Skipping tag 41486\n",
      "  warnings.warn(\n",
      "/home/manman/anaconda3/lib/python3.8/site-packages/PIL/TiffImagePlugin.py:763: UserWarning: Possibly corrupt EXIF data.  Expecting to read 8 bytes but only got 0. Skipping tag 41487\n",
      "  warnings.warn(\n",
      "/home/manman/anaconda3/lib/python3.8/site-packages/PIL/TiffImagePlugin.py:763: UserWarning: Possibly corrupt EXIF data.  Expecting to read 13 bytes but only got 0. Skipping tag 42033\n",
      "  warnings.warn(\n",
      "/home/manman/anaconda3/lib/python3.8/site-packages/PIL/TiffImagePlugin.py:763: UserWarning: Possibly corrupt EXIF data.  Expecting to read 24 bytes but only got 0. Skipping tag 42036\n",
      "  warnings.warn(\n",
      "/home/manman/anaconda3/lib/python3.8/site-packages/PIL/TiffImagePlugin.py:763: UserWarning: Possibly corrupt EXIF data.  Expecting to read 11 bytes but only got 0. Skipping tag 42037\n",
      "  warnings.warn(\n",
      "品牌:southcn描述:南方网/南方新闻网是经中共广东省委，广东省人民政府批准建设的新闻宣传网站。南方网/南方新闻网由广东省委宣传部主办主管并作为南方报业传媒集团之成员单位，获国务院新闻办公室批准从事登载新闻业务并被确定为全国重点新闻网站之一。南方网/南方新闻网作为华南地区最大型的新闻融合平台，是国内外网民认识、了解广东最权威、最快捷的途径。共计:1095:  77%|███████▋  | 844/1095 [02:43<00:26,  9.65it/s]  /home/manman/anaconda3/lib/python3.8/site-packages/PIL/TiffImagePlugin.py:763: UserWarning: Possibly corrupt EXIF data.  Expecting to read 39322 bytes but only got 354. Skipping tag 37500\n",
      "  warnings.warn(\n",
      "/home/manman/anaconda3/lib/python3.8/site-packages/PIL/TiffImagePlugin.py:763: UserWarning: Possibly corrupt EXIF data.  Expecting to read 39322 bytes but only got 1378. Skipping tag 37500\n",
      "  warnings.warn(\n",
      "/home/manman/anaconda3/lib/python3.8/site-packages/PIL/TiffImagePlugin.py:763: UserWarning: Possibly corrupt EXIF data.  Expecting to read 39322 bytes but only got 2402. Skipping tag 37500\n",
      "  warnings.warn(\n",
      "/home/manman/anaconda3/lib/python3.8/site-packages/PIL/TiffImagePlugin.py:763: UserWarning: Possibly corrupt EXIF data.  Expecting to read 39322 bytes but only got 3426. Skipping tag 37500\n",
      "  warnings.warn(\n",
      "/home/manman/anaconda3/lib/python3.8/site-packages/PIL/TiffImagePlugin.py:763: UserWarning: Possibly corrupt EXIF data.  Expecting to read 39322 bytes but only got 4450. Skipping tag 37500\n",
      "  warnings.warn(\n",
      "/home/manman/anaconda3/lib/python3.8/site-packages/PIL/TiffImagePlugin.py:763: UserWarning: Possibly corrupt EXIF data.  Expecting to read 39322 bytes but only got 5474. Skipping tag 37500\n",
      "  warnings.warn(\n",
      "/home/manman/anaconda3/lib/python3.8/site-packages/PIL/TiffImagePlugin.py:763: UserWarning: Possibly corrupt EXIF data.  Expecting to read 39322 bytes but only got 6498. Skipping tag 37500\n",
      "  warnings.warn(\n",
      "/home/manman/anaconda3/lib/python3.8/site-packages/PIL/TiffImagePlugin.py:763: UserWarning: Possibly corrupt EXIF data.  Expecting to read 39322 bytes but only got 7522. Skipping tag 37500\n",
      "  warnings.warn(\n",
      "/home/manman/anaconda3/lib/python3.8/site-packages/PIL/TiffImagePlugin.py:763: UserWarning: Possibly corrupt EXIF data.  Expecting to read 39322 bytes but only got 8546. Skipping tag 37500\n",
      "  warnings.warn(\n",
      "/home/manman/anaconda3/lib/python3.8/site-packages/PIL/TiffImagePlugin.py:763: UserWarning: Possibly corrupt EXIF data.  Expecting to read 39322 bytes but only got 9570. Skipping tag 37500\n",
      "  warnings.warn(\n",
      "/home/manman/anaconda3/lib/python3.8/site-packages/PIL/TiffImagePlugin.py:763: UserWarning: Possibly corrupt EXIF data.  Expecting to read 39322 bytes but only got 10594. Skipping tag 37500\n",
      "  warnings.warn(\n",
      "/home/manman/anaconda3/lib/python3.8/site-packages/PIL/TiffImagePlugin.py:763: UserWarning: Possibly corrupt EXIF data.  Expecting to read 39322 bytes but only got 11618. Skipping tag 37500\n",
      "  warnings.warn(\n",
      "/home/manman/anaconda3/lib/python3.8/site-packages/PIL/TiffImagePlugin.py:763: UserWarning: Possibly corrupt EXIF data.  Expecting to read 39322 bytes but only got 12642. Skipping tag 37500\n",
      "  warnings.warn(\n",
      "/home/manman/anaconda3/lib/python3.8/site-packages/PIL/TiffImagePlugin.py:763: UserWarning: Possibly corrupt EXIF data.  Expecting to read 39322 bytes but only got 13666. Skipping tag 37500\n",
      "  warnings.warn(\n",
      "/home/manman/anaconda3/lib/python3.8/site-packages/PIL/TiffImagePlugin.py:763: UserWarning: Possibly corrupt EXIF data.  Expecting to read 39322 bytes but only got 14690. Skipping tag 37500\n",
      "  warnings.warn(\n",
      "/home/manman/anaconda3/lib/python3.8/site-packages/PIL/TiffImagePlugin.py:763: UserWarning: Possibly corrupt EXIF data.  Expecting to read 39322 bytes but only got 15714. Skipping tag 37500\n",
      "  warnings.warn(\n",
      "/home/manman/anaconda3/lib/python3.8/site-packages/PIL/TiffImagePlugin.py:763: UserWarning: Possibly corrupt EXIF data.  Expecting to read 39322 bytes but only got 16738. Skipping tag 37500\n",
      "  warnings.warn(\n",
      "/home/manman/anaconda3/lib/python3.8/site-packages/PIL/TiffImagePlugin.py:763: UserWarning: Possibly corrupt EXIF data.  Expecting to read 39322 bytes but only got 17762. Skipping tag 37500\n",
      "  warnings.warn(\n",
      "/home/manman/anaconda3/lib/python3.8/site-packages/PIL/TiffImagePlugin.py:763: UserWarning: Possibly corrupt EXIF data.  Expecting to read 39322 bytes but only got 18786. Skipping tag 37500\n",
      "  warnings.warn(\n",
      "/home/manman/anaconda3/lib/python3.8/site-packages/PIL/TiffImagePlugin.py:763: UserWarning: Possibly corrupt EXIF data.  Expecting to read 39322 bytes but only got 19810. Skipping tag 37500\n",
      "  warnings.warn(\n",
      "/home/manman/anaconda3/lib/python3.8/site-packages/PIL/TiffImagePlugin.py:763: UserWarning: Possibly corrupt EXIF data.  Expecting to read 39322 bytes but only got 20834. Skipping tag 37500\n",
      "  warnings.warn(\n",
      "/home/manman/anaconda3/lib/python3.8/site-packages/PIL/TiffImagePlugin.py:763: UserWarning: Possibly corrupt EXIF data.  Expecting to read 39322 bytes but only got 21858. Skipping tag 37500\n",
      "  warnings.warn(\n",
      "/home/manman/anaconda3/lib/python3.8/site-packages/PIL/TiffImagePlugin.py:763: UserWarning: Possibly corrupt EXIF data.  Expecting to read 39322 bytes but only got 22882. Skipping tag 37500\n",
      "  warnings.warn(\n",
      "/home/manman/anaconda3/lib/python3.8/site-packages/PIL/TiffImagePlugin.py:763: UserWarning: Possibly corrupt EXIF data.  Expecting to read 39322 bytes but only got 23906. Skipping tag 37500\n",
      "  warnings.warn(\n",
      "/home/manman/anaconda3/lib/python3.8/site-packages/PIL/TiffImagePlugin.py:763: UserWarning: Possibly corrupt EXIF data.  Expecting to read 39322 bytes but only got 24930. Skipping tag 37500\n",
      "  warnings.warn(\n",
      "/home/manman/anaconda3/lib/python3.8/site-packages/PIL/TiffImagePlugin.py:763: UserWarning: Possibly corrupt EXIF data.  Expecting to read 39322 bytes but only got 25954. Skipping tag 37500\n",
      "  warnings.warn(\n",
      "/home/manman/anaconda3/lib/python3.8/site-packages/PIL/TiffImagePlugin.py:763: UserWarning: Possibly corrupt EXIF data.  Expecting to read 39322 bytes but only got 26978. Skipping tag 37500\n",
      "  warnings.warn(\n",
      "/home/manman/anaconda3/lib/python3.8/site-packages/PIL/TiffImagePlugin.py:763: UserWarning: Possibly corrupt EXIF data.  Expecting to read 39322 bytes but only got 28002. Skipping tag 37500\n",
      "  warnings.warn(\n",
      "/home/manman/anaconda3/lib/python3.8/site-packages/PIL/TiffImagePlugin.py:763: UserWarning: Possibly corrupt EXIF data.  Expecting to read 39322 bytes but only got 29026. Skipping tag 37500\n",
      "  warnings.warn(\n",
      "/home/manman/anaconda3/lib/python3.8/site-packages/PIL/TiffImagePlugin.py:763: UserWarning: Possibly corrupt EXIF data.  Expecting to read 39322 bytes but only got 30050. Skipping tag 37500\n",
      "  warnings.warn(\n",
      "/home/manman/anaconda3/lib/python3.8/site-packages/PIL/TiffImagePlugin.py:763: UserWarning: Possibly corrupt EXIF data.  Expecting to read 39322 bytes but only got 31074. Skipping tag 37500\n",
      "  warnings.warn(\n",
      "/home/manman/anaconda3/lib/python3.8/site-packages/PIL/TiffImagePlugin.py:763: UserWarning: Possibly corrupt EXIF data.  Expecting to read 39322 bytes but only got 32098. Skipping tag 37500\n",
      "  warnings.warn(\n",
      "/home/manman/anaconda3/lib/python3.8/site-packages/PIL/TiffImagePlugin.py:763: UserWarning: Possibly corrupt EXIF data.  Expecting to read 39322 bytes but only got 33122. Skipping tag 37500\n",
      "  warnings.warn(\n",
      "/home/manman/anaconda3/lib/python3.8/site-packages/PIL/TiffImagePlugin.py:763: UserWarning: Possibly corrupt EXIF data.  Expecting to read 39322 bytes but only got 34146. Skipping tag 37500\n",
      "  warnings.warn(\n",
      "/home/manman/anaconda3/lib/python3.8/site-packages/PIL/TiffImagePlugin.py:763: UserWarning: Possibly corrupt EXIF data.  Expecting to read 39322 bytes but only got 35170. Skipping tag 37500\n",
      "  warnings.warn(\n",
      "/home/manman/anaconda3/lib/python3.8/site-packages/PIL/TiffImagePlugin.py:763: UserWarning: Possibly corrupt EXIF data.  Expecting to read 39322 bytes but only got 36194. Skipping tag 37500\n",
      "  warnings.warn(\n",
      "/home/manman/anaconda3/lib/python3.8/site-packages/PIL/TiffImagePlugin.py:763: UserWarning: Possibly corrupt EXIF data.  Expecting to read 39322 bytes but only got 37218. Skipping tag 37500\n",
      "  warnings.warn(\n",
      "/home/manman/anaconda3/lib/python3.8/site-packages/PIL/TiffImagePlugin.py:763: UserWarning: Possibly corrupt EXIF data.  Expecting to read 39322 bytes but only got 38242. Skipping tag 37500\n",
      "  warnings.warn(\n",
      "/home/manman/anaconda3/lib/python3.8/site-packages/PIL/TiffImagePlugin.py:763: UserWarning: Possibly corrupt EXIF data.  Expecting to read 39322 bytes but only got 39266. Skipping tag 37500\n",
      "  warnings.warn(\n",
      "品牌:southcn描述:南方网/南方新闻网是经中共广东省委，广东省人民政府批准建设的新闻宣传网站。南方网/南方新闻网由广东省委宣传部主办主管并作为南方报业传媒集团之成员单位，获国务院新闻办公室批准从事登载新闻业务并被确定为全国重点新闻网站之一。南方网/南方新闻网作为华南地区最大型的新闻融合平台，是国内外网民认识、了解广东最权威、最快捷的途径。共计:1095:  86%|████████▌ | 938/1095 [02:58<00:19,  8.06it/s]/home/manman/anaconda3/lib/python3.8/site-packages/PIL/TiffImagePlugin.py:763: UserWarning: Possibly corrupt EXIF data.  Expecting to read 20 bytes but only got 2. Skipping tag 36867\n",
      "  warnings.warn(\n",
      "/home/manman/anaconda3/lib/python3.8/site-packages/PIL/TiffImagePlugin.py:763: UserWarning: Possibly corrupt EXIF data.  Expecting to read 20 bytes but only got 0. Skipping tag 36868\n",
      "  warnings.warn(\n",
      "/home/manman/anaconda3/lib/python3.8/site-packages/PIL/TiffImagePlugin.py:763: UserWarning: Possibly corrupt EXIF data.  Expecting to read 8 bytes but only got 0. Skipping tag 37122\n",
      "  warnings.warn(\n",
      "/home/manman/anaconda3/lib/python3.8/site-packages/PIL/TiffImagePlugin.py:763: UserWarning: Possibly corrupt EXIF data.  Expecting to read 8 bytes but only got 0. Skipping tag 37377\n",
      "  warnings.warn(\n",
      "/home/manman/anaconda3/lib/python3.8/site-packages/PIL/TiffImagePlugin.py:763: UserWarning: Possibly corrupt EXIF data.  Expecting to read 8 bytes but only got 0. Skipping tag 37378\n",
      "  warnings.warn(\n",
      "/home/manman/anaconda3/lib/python3.8/site-packages/PIL/TiffImagePlugin.py:763: UserWarning: Possibly corrupt EXIF data.  Expecting to read 8 bytes but only got 0. Skipping tag 37380\n",
      "  warnings.warn(\n",
      "/home/manman/anaconda3/lib/python3.8/site-packages/PIL/TiffImagePlugin.py:763: UserWarning: Possibly corrupt EXIF data.  Expecting to read 8 bytes but only got 0. Skipping tag 37381\n",
      "  warnings.warn(\n",
      "/home/manman/anaconda3/lib/python3.8/site-packages/PIL/TiffImagePlugin.py:763: UserWarning: Possibly corrupt EXIF data.  Expecting to read 8 bytes but only got 0. Skipping tag 37386\n",
      "  warnings.warn(\n",
      "/home/manman/anaconda3/lib/python3.8/site-packages/PIL/TiffImagePlugin.py:763: UserWarning: Possibly corrupt EXIF data.  Expecting to read 44 bytes but only got 0. Skipping tag 37510\n",
      "  warnings.warn(\n",
      "/home/manman/anaconda3/lib/python3.8/site-packages/PIL/TiffImagePlugin.py:763: UserWarning: Possibly corrupt EXIF data.  Expecting to read 8 bytes but only got 0. Skipping tag 41730\n",
      "  warnings.warn(\n",
      "品牌:southcn描述:南方网/南方新闻网是经中共广东省委，广东省人民政府批准建设的新闻宣传网站。南方网/南方新闻网由广东省委宣传部主办主管并作为南方报业传媒集团之成员单位，获国务院新闻办公室批准从事登载新闻业务并被确定为全国重点新闻网站之一。南方网/南方新闻网作为华南地区最大型的新闻融合平台，是国内外网民认识、了解广东最权威、最快捷的途径。共计:1095: 100%|██████████| 1095/1095 [03:30<00:00,  5.20it/s]\n"
     ]
    },
    {
     "name": "stdout",
     "output_type": "stream",
     "text": [
      "共计采集到<1095>篇新闻\n"
     ]
    }
   ],
   "source": [
    "news = get_news_paper(url,corpus)"
   ]
  },
  {
   "cell_type": "markdown",
   "metadata": {},
   "source": [
    "# 数据预处理"
   ]
  },
  {
   "cell_type": "code",
   "execution_count": 22,
   "metadata": {},
   "outputs": [],
   "source": [
    "#临时删除文本元素\n",
    "def del_element(strings,symbles):\n",
    "    srcrep = {i:'' for i in symbles }\n",
    "    rep = dict((re.escape(k), v) for k, v in srcrep.items())\n",
    "    pattern = re.compile(\"|\".join(rep.keys()))\n",
    "    return pattern.sub(lambda m: rep[re.escape(m.group(0))], strings)\n",
    "\n",
    "#加载停用词\n",
    "stop_words = stop_words = open(stop_word_path,'r').read().split('\\n')+['\\n']\n",
    "\n",
    "#过滤停用词\n",
    "def filter_stop_word(paper,stop_words):\n",
    "    return np.array(list(filter(lambda x: x not in stop_words,jieba.cut(del_element(paper,'\\n')))))\n",
    "\n",
    "#读取本地新闻\n",
    "def read_txt(corpus):\n",
    "    return np.array([re.sub('\\n','',str(word)) for word in tqdm(pd.read_csv(corpus).text,desc='加载文章')])\n",
    "\n",
    "#只要中文\n",
    "def just_chinese(strings):\n",
    "    regStr = \".*?([\\u4E00-\\u9FA5]+).*?\"\n",
    "    expr = ''.join(re.findall(regStr, strings))\n",
    "    if expr:\n",
    "        return expr\n",
    "    return '\\n'\n",
    "\n",
    "#分词\n",
    "def split_word(original,temp_del=stop_words):\n",
    "    result = []\n",
    "    for paper in tqdm(original,desc='分词文章'):\n",
    "        chinese = just_chinese(paper)\n",
    "        temp_split_words = filter_stop_word(chinese,stop_words)\n",
    "        result.append(temp_split_words)\n",
    "    return np.array(result)\n",
    "\n",
    "# 排序字典\n",
    "def sort_dict(dict_items):\n",
    "    sorted_tuple = np.array(sorted(dict_items.items(), key=lambda x: x[0], reverse=True))\n",
    "    return dict(zip(sorted_tuple[:,0],sorted_tuple[:,1]))\n",
    "\n",
    "'''数据预处理函数'''\n",
    "def data_preprocessing(corpus):\n",
    "    # 读取原文\n",
    "    read_original = read_txt(corpus) \n",
    "    # 倒入文章并分词\n",
    "    init_paper = split_word(read_original,stop_words)\n",
    "    # 所有单词降维到一维\n",
    "    all_words = np.array([j for i in tqdm(init_paper,desc='词列表降维') for j in i])\n",
    "    # 单词去重\n",
    "    word_vector = np.unique(all_words)\n",
    "    # 测量共有词汇量\n",
    "    m = all_words.size\n",
    "    init_word_dict = {word:(all_words==word).dot(np.ones(m))/m for word in tqdm(word_vector,desc='构建频率词典')}\n",
    "    #构建排序字典和特征向量 \n",
    "    word_dict = sort_dict(init_word_dict)\n",
    "    word_vector = np.array(list(word_dict)) \n",
    "    return word_dict,word_vector,read_original,init_paper"
   ]
  },
  {
   "cell_type": "code",
   "execution_count": 23,
   "metadata": {
    "tags": []
   },
   "outputs": [
    {
     "ename": "AttributeError",
     "evalue": "'DataFrame' object has no attribute 'text'",
     "output_type": "error",
     "traceback": [
      "\u001b[0;31m---------------------------------------------------------------------------\u001b[0m",
      "\u001b[0;31mAttributeError\u001b[0m                            Traceback (most recent call last)",
      "\u001b[0;32m<ipython-input-23-a0559c2b4bf5>\u001b[0m in \u001b[0;36m<module>\u001b[0;34m\u001b[0m\n\u001b[0;32m----> 1\u001b[0;31m \u001b[0mword_dict\u001b[0m\u001b[0;34m,\u001b[0m\u001b[0mword_vector\u001b[0m\u001b[0;34m,\u001b[0m\u001b[0mread_original\u001b[0m\u001b[0;34m,\u001b[0m\u001b[0minit_paper\u001b[0m \u001b[0;34m=\u001b[0m \u001b[0mdata_preprocessing\u001b[0m\u001b[0;34m(\u001b[0m\u001b[0mcorpus\u001b[0m\u001b[0;34m)\u001b[0m\u001b[0;34m\u001b[0m\u001b[0;34m\u001b[0m\u001b[0m\n\u001b[0m",
      "\u001b[0;32m<ipython-input-22-4d7ce4e6afff>\u001b[0m in \u001b[0;36mdata_preprocessing\u001b[0;34m(corpus)\u001b[0m\n\u001b[1;32m     42\u001b[0m \u001b[0;32mdef\u001b[0m \u001b[0mdata_preprocessing\u001b[0m\u001b[0;34m(\u001b[0m\u001b[0mcorpus\u001b[0m\u001b[0;34m)\u001b[0m\u001b[0;34m:\u001b[0m\u001b[0;34m\u001b[0m\u001b[0;34m\u001b[0m\u001b[0m\n\u001b[1;32m     43\u001b[0m     \u001b[0;31m# 读取原文\u001b[0m\u001b[0;34m\u001b[0m\u001b[0;34m\u001b[0m\u001b[0;34m\u001b[0m\u001b[0m\n\u001b[0;32m---> 44\u001b[0;31m     \u001b[0mread_original\u001b[0m \u001b[0;34m=\u001b[0m \u001b[0mread_txt\u001b[0m\u001b[0;34m(\u001b[0m\u001b[0mcorpus\u001b[0m\u001b[0;34m)\u001b[0m\u001b[0;34m\u001b[0m\u001b[0;34m\u001b[0m\u001b[0m\n\u001b[0m\u001b[1;32m     45\u001b[0m     \u001b[0;31m# 倒入文章并分词\u001b[0m\u001b[0;34m\u001b[0m\u001b[0;34m\u001b[0m\u001b[0;34m\u001b[0m\u001b[0m\n\u001b[1;32m     46\u001b[0m     \u001b[0minit_paper\u001b[0m \u001b[0;34m=\u001b[0m \u001b[0msplit_word\u001b[0m\u001b[0;34m(\u001b[0m\u001b[0mread_original\u001b[0m\u001b[0;34m,\u001b[0m\u001b[0mstop_words\u001b[0m\u001b[0;34m)\u001b[0m\u001b[0;34m\u001b[0m\u001b[0;34m\u001b[0m\u001b[0m\n",
      "\u001b[0;32m<ipython-input-22-4d7ce4e6afff>\u001b[0m in \u001b[0;36mread_txt\u001b[0;34m(corpus)\u001b[0m\n\u001b[1;32m     15\u001b[0m \u001b[0;31m#读取本地新闻\u001b[0m\u001b[0;34m\u001b[0m\u001b[0;34m\u001b[0m\u001b[0;34m\u001b[0m\u001b[0m\n\u001b[1;32m     16\u001b[0m \u001b[0;32mdef\u001b[0m \u001b[0mread_txt\u001b[0m\u001b[0;34m(\u001b[0m\u001b[0mcorpus\u001b[0m\u001b[0;34m)\u001b[0m\u001b[0;34m:\u001b[0m\u001b[0;34m\u001b[0m\u001b[0;34m\u001b[0m\u001b[0m\n\u001b[0;32m---> 17\u001b[0;31m     \u001b[0;32mreturn\u001b[0m \u001b[0mnp\u001b[0m\u001b[0;34m.\u001b[0m\u001b[0marray\u001b[0m\u001b[0;34m(\u001b[0m\u001b[0;34m[\u001b[0m\u001b[0mre\u001b[0m\u001b[0;34m.\u001b[0m\u001b[0msub\u001b[0m\u001b[0;34m(\u001b[0m\u001b[0;34m'\\n'\u001b[0m\u001b[0;34m,\u001b[0m\u001b[0;34m''\u001b[0m\u001b[0;34m,\u001b[0m\u001b[0mstr\u001b[0m\u001b[0;34m(\u001b[0m\u001b[0mword\u001b[0m\u001b[0;34m)\u001b[0m\u001b[0;34m)\u001b[0m \u001b[0;32mfor\u001b[0m \u001b[0mword\u001b[0m \u001b[0;32min\u001b[0m \u001b[0mtqdm\u001b[0m\u001b[0;34m(\u001b[0m\u001b[0mpd\u001b[0m\u001b[0;34m.\u001b[0m\u001b[0mread_csv\u001b[0m\u001b[0;34m(\u001b[0m\u001b[0mcorpus\u001b[0m\u001b[0;34m)\u001b[0m\u001b[0;34m.\u001b[0m\u001b[0mtext\u001b[0m\u001b[0;34m,\u001b[0m\u001b[0mdesc\u001b[0m\u001b[0;34m=\u001b[0m\u001b[0;34m'加载文章'\u001b[0m\u001b[0;34m)\u001b[0m\u001b[0;34m]\u001b[0m\u001b[0;34m)\u001b[0m\u001b[0;34m\u001b[0m\u001b[0;34m\u001b[0m\u001b[0m\n\u001b[0m\u001b[1;32m     18\u001b[0m \u001b[0;34m\u001b[0m\u001b[0m\n\u001b[1;32m     19\u001b[0m \u001b[0;31m#只要中文\u001b[0m\u001b[0;34m\u001b[0m\u001b[0;34m\u001b[0m\u001b[0;34m\u001b[0m\u001b[0m\n",
      "\u001b[0;32m~/anaconda3/lib/python3.8/site-packages/pandas/core/generic.py\u001b[0m in \u001b[0;36m__getattr__\u001b[0;34m(self, name)\u001b[0m\n\u001b[1;32m   5134\u001b[0m             \u001b[0;32mif\u001b[0m \u001b[0mself\u001b[0m\u001b[0;34m.\u001b[0m\u001b[0m_info_axis\u001b[0m\u001b[0;34m.\u001b[0m\u001b[0m_can_hold_identifiers_and_holds_name\u001b[0m\u001b[0;34m(\u001b[0m\u001b[0mname\u001b[0m\u001b[0;34m)\u001b[0m\u001b[0;34m:\u001b[0m\u001b[0;34m\u001b[0m\u001b[0;34m\u001b[0m\u001b[0m\n\u001b[1;32m   5135\u001b[0m                 \u001b[0;32mreturn\u001b[0m \u001b[0mself\u001b[0m\u001b[0;34m[\u001b[0m\u001b[0mname\u001b[0m\u001b[0;34m]\u001b[0m\u001b[0;34m\u001b[0m\u001b[0;34m\u001b[0m\u001b[0m\n\u001b[0;32m-> 5136\u001b[0;31m             \u001b[0;32mreturn\u001b[0m \u001b[0mobject\u001b[0m\u001b[0;34m.\u001b[0m\u001b[0m__getattribute__\u001b[0m\u001b[0;34m(\u001b[0m\u001b[0mself\u001b[0m\u001b[0;34m,\u001b[0m \u001b[0mname\u001b[0m\u001b[0;34m)\u001b[0m\u001b[0;34m\u001b[0m\u001b[0;34m\u001b[0m\u001b[0m\n\u001b[0m\u001b[1;32m   5137\u001b[0m \u001b[0;34m\u001b[0m\u001b[0m\n\u001b[1;32m   5138\u001b[0m     \u001b[0;32mdef\u001b[0m \u001b[0m__setattr__\u001b[0m\u001b[0;34m(\u001b[0m\u001b[0mself\u001b[0m\u001b[0;34m,\u001b[0m \u001b[0mname\u001b[0m\u001b[0;34m:\u001b[0m \u001b[0mstr\u001b[0m\u001b[0;34m,\u001b[0m \u001b[0mvalue\u001b[0m\u001b[0;34m)\u001b[0m \u001b[0;34m->\u001b[0m \u001b[0;32mNone\u001b[0m\u001b[0;34m:\u001b[0m\u001b[0;34m\u001b[0m\u001b[0;34m\u001b[0m\u001b[0m\n",
      "\u001b[0;31mAttributeError\u001b[0m: 'DataFrame' object has no attribute 'text'"
     ]
    }
   ],
   "source": [
    "word_dict,word_vector,read_original,init_paper = data_preprocessing(corpus)"
   ]
  },
  {
   "cell_type": "markdown",
   "metadata": {},
   "source": [
    "# TF-ITF 词向量"
   ]
  },
  {
   "cell_type": "code",
   "execution_count": 11,
   "metadata": {},
   "outputs": [],
   "source": [
    "def TF(paper_words,word_vector):\n",
    "    m = word_vector.size\n",
    "    init_TF = np.zeros(m)\n",
    "    for word in paper_words:\n",
    "        if word in word_vector:\n",
    "            index_ = np.argwhere(word_vector==word)[0][0]\n",
    "            init_TF[index_] += 1\n",
    "    return init_TF\n",
    "\n",
    "def IDF(paper_words_list,word_vector):\n",
    "    m = word_vector.size\n",
    "    init_IDF = np.zeros(m)\n",
    "    N = paper_words_list.shape\n",
    "    n = -1\n",
    "    for word in tqdm(word_vector,desc = 'IDF词汇'):\n",
    "        n += 1\n",
    "        for paper_arr in paper_words_list:\n",
    "            if word in paper_arr:\n",
    "                init_IDF[n] += 1\n",
    "    return np.log(N/(init_IDF+1))\n",
    "\n",
    "def TFIDF(paper_words_list,word_vector):\n",
    "    IDF_arr = IDF(init_paper,word_vector)\n",
    "    TF_arr = np.array([TF(paper,word_vector) for paper in tqdm(paper_words_list,desc = 'TF矩阵')])\n",
    "    return TF_arr*IDF_arr,IDF_arr"
   ]
  },
  {
   "cell_type": "markdown",
   "metadata": {},
   "source": [
    "# 对数据源做TFIDF编码"
   ]
  },
  {
   "cell_type": "code",
   "execution_count": 12,
   "metadata": {
    "tags": []
   },
   "outputs": [
    {
     "ename": "NameError",
     "evalue": "name 'init_paper' is not defined",
     "output_type": "error",
     "traceback": [
      "\u001b[0;31m---------------------------------------------------------------------------\u001b[0m",
      "\u001b[0;31mNameError\u001b[0m                                 Traceback (most recent call last)",
      "\u001b[0;32m<ipython-input-12-02a7ba2669be>\u001b[0m in \u001b[0;36m<module>\u001b[0;34m\u001b[0m\n\u001b[0;32m----> 1\u001b[0;31m \u001b[0mcode_of_TFIDF\u001b[0m\u001b[0;34m,\u001b[0m\u001b[0mIDF\u001b[0m \u001b[0;34m=\u001b[0m \u001b[0mTFIDF\u001b[0m\u001b[0;34m(\u001b[0m\u001b[0minit_paper\u001b[0m\u001b[0;34m,\u001b[0m\u001b[0mword_vector\u001b[0m\u001b[0;34m)\u001b[0m\u001b[0;34m\u001b[0m\u001b[0;34m\u001b[0m\u001b[0m\n\u001b[0m",
      "\u001b[0;31mNameError\u001b[0m: name 'init_paper' is not defined"
     ]
    }
   ],
   "source": [
    "code_of_TFIDF,IDF = TFIDF(init_paper,word_vector)"
   ]
  },
  {
   "cell_type": "markdown",
   "metadata": {},
   "source": [
    "# 特征字典编辑器"
   ]
  },
  {
   "cell_type": "code",
   "execution_count": 15,
   "metadata": {},
   "outputs": [],
   "source": [
    "# 构建文章频率特征词向量\n",
    "def feature_dictionary_editor(words):\n",
    "    words_list = list(word_dict) #特征向量\n",
    "    feature_dict = dict(zip(words_list,np.zeros(len(words_list)))) # 特征字典\n",
    "    for word in words:\n",
    "        if word in words_list:\n",
    "            feature_dict[word]+=1\n",
    "    return np.array([frequency for word,frequency in feature_dict.items()])"
   ]
  },
  {
   "cell_type": "code",
   "execution_count": 16,
   "metadata": {},
   "outputs": [
    {
     "data": {
      "text/plain": [
       "(2181, 56256)"
      ]
     },
     "execution_count": 16,
     "metadata": {},
     "output_type": "execute_result"
    }
   ],
   "source": [
    "code_of_TFIDF.shape"
   ]
  },
  {
   "cell_type": "code",
   "execution_count": 17,
   "metadata": {},
   "outputs": [],
   "source": [
    "arr = init_paper[2]"
   ]
  },
  {
   "cell_type": "code",
   "execution_count": 18,
   "metadata": {},
   "outputs": [
    {
     "name": "stderr",
     "output_type": "stream",
     "text": [
      "<ipython-input-18-70beb696aa2d>:3: FutureWarning: elementwise comparison failed; returning scalar instead, but in the future will perform elementwise comparison\n",
      "  return (init_paper[n]==arr).all()\n"
     ]
    },
    {
     "data": {
      "text/plain": [
       "2"
      ]
     },
     "execution_count": 18,
     "metadata": {},
     "output_type": "execute_result"
    }
   ],
   "source": [
    "def try_index(n,arr):\n",
    "    try:\n",
    "        return (init_paper[n]==arr).all()\n",
    "    except Exception:\n",
    "        return False\n",
    "\n",
    "def find_index(arr):\n",
    "    for i in range(init_paper.shape[0]):\n",
    "        if try_index(i,arr):\n",
    "            return i\n",
    "find_index(arr)"
   ]
  },
  {
   "cell_type": "markdown",
   "metadata": {},
   "source": [
    "# 构造倒排表"
   ]
  },
  {
   "cell_type": "code",
   "execution_count": 19,
   "metadata": {
    "tags": []
   },
   "outputs": [
    {
     "name": "stderr",
     "output_type": "stream",
     "text": [
      "倒排表当前排序的文章: 100%|██████████| 2181/2181 [03:10<00:00, 11.48it/s]\n"
     ]
    }
   ],
   "source": [
    "def inverted_index(paper,word_vector):\n",
    "    result = dict()\n",
    "    n = -1\n",
    "    for i in tqdm(paper,desc='倒排表当前排序的文章'):\n",
    "        n += 1\n",
    "        for j in i:\n",
    "            if j in word_vector:\n",
    "                if j in result:\n",
    "                    result[j] = result[j]+[n]\n",
    "                else:\n",
    "                    result.update({j:[n]})\n",
    "    return {i:list(set(result[i])) for i in result}\n",
    "\n",
    "Inverted_Index_List = inverted_index(init_paper,word_vector)"
   ]
  },
  {
   "cell_type": "markdown",
   "metadata": {},
   "source": [
    "# 搜索引擎模块"
   ]
  },
  {
   "cell_type": "code",
   "execution_count": 41,
   "metadata": {
    "tags": []
   },
   "outputs": [],
   "source": [
    "# 搜索倒排表\n",
    "def search_inverted_index(strings,Inverted_Index_List):\n",
    "    words_for_search = []\n",
    "    split_word_for_search = [word for word in jieba.cut_for_search(strings) if word not in stop_words]\n",
    "    print(split_word_for_search)\n",
    "    \n",
    "    intersection_of_words = dict()\n",
    "    #init_set = []\n",
    "    for word in split_word_for_search:\n",
    "        if word in Inverted_Index_List:\n",
    "            temp_set = Inverted_Index_List[word]\n",
    "            print(\"\\n搜索单词:\",word,\"\\n文章序列:\",temp_set)\n",
    "            #if temp_set in init_set:\n",
    "                #init_set = set(temp_set) & set(temp_set)\n",
    "                #print(init_set)\n",
    "            words_for_search+=Inverted_Index_List[word]\n",
    "    return np.unique(np.array(words_for_search)),split_word_for_search\n",
    "\n",
    "#余弦相似度\n",
    "def cosine(s1,s2):\n",
    "    return s1.dot(s2)/(np.linalg.norm(s1) * np.linalg.norm(s2))\n"
   ]
  },
  {
   "cell_type": "markdown",
   "metadata": {},
   "source": [
    "# 特征向量搜索入口函数"
   ]
  },
  {
   "cell_type": "code",
   "execution_count": 42,
   "metadata": {},
   "outputs": [],
   "source": [
    " \n",
    "def search(key,Inverted_Index_List):\n",
    "    search_paper_index,search_word = search_inverted_index(key,Inverted_Index_List)\n",
    "    search_result = []\n",
    "    search_prob = feature_dictionary_editor(search_word) #搜索内容的词向量\n",
    "    change_word_vector_from_words = init_paper[search_paper_index]\n",
    "    change_paper_from_words = read_original[search_paper_index]\n",
    "    for i in tqdm(range(len(change_paper_from_words)),desc='已经搜索数量'):\n",
    "        word_arr,paper = change_word_vector_from_words[i],change_paper_from_words[i]\n",
    "        paper_prob = feature_dictionary_editor(word_arr) #倒排表当前文章的词向量\n",
    "        cos = cosine(paper_prob,search_prob) #余弦相似度\n",
    "        parameter = cos \n",
    "        search_result.append([cos,paper])\n",
    "\n",
    "    search_result_arr = np.array(search_result)\n",
    "    result_table = pd.DataFrame({\"cos\":search_result_arr[:,0],\"newspaper\":search_result_arr[:,1]})\n",
    "    sort_table = result_table.sort_values([\"cos\"],ascending=False).reset_index(drop=True)\n",
    "    file_path = \"{}{}{}\".format(os.getcwd(),\"/\",key)\n",
    "    sort_table.to_csv(file_path)\n",
    "    return sort_table"
   ]
  },
  {
   "cell_type": "code",
   "execution_count": 43,
   "metadata": {
    "tags": []
   },
   "outputs": [
    {
     "name": "stderr",
     "output_type": "stream",
     "text": [
      "已经搜索数量:   0%|          | 0/6 [00:00<?, ?it/s]"
     ]
    },
    {
     "name": "stdout",
     "output_type": "stream",
     "text": [
      "['字节', '跳动']\n",
      "\n",
      "搜索单词: 字节 \n",
      "文章序列: [337, 1177, 1053, 1214, 1023]\n",
      "\n",
      "搜索单词: 跳动 \n",
      "文章序列: [609, 337, 1177, 1053, 1214, 1023]\n"
     ]
    },
    {
     "name": "stderr",
     "output_type": "stream",
     "text": [
      "已经搜索数量: 100%|██████████| 6/6 [00:02<00:00,  2.88it/s]\n"
     ]
    },
    {
     "data": {
      "text/html": [
       "<div>\n",
       "<style scoped>\n",
       "    .dataframe tbody tr th:only-of-type {\n",
       "        vertical-align: middle;\n",
       "    }\n",
       "\n",
       "    .dataframe tbody tr th {\n",
       "        vertical-align: top;\n",
       "    }\n",
       "\n",
       "    .dataframe thead th {\n",
       "        text-align: right;\n",
       "    }\n",
       "</style>\n",
       "<table border=\"1\" class=\"dataframe\">\n",
       "  <thead>\n",
       "    <tr style=\"text-align: right;\">\n",
       "      <th></th>\n",
       "      <th>cos</th>\n",
       "      <th>newspaper</th>\n",
       "    </tr>\n",
       "  </thead>\n",
       "  <tbody>\n",
       "    <tr>\n",
       "      <th>0</th>\n",
       "      <td>0.24723408821707438</td>\n",
       "      <td>8月3日中午，字节跳动创始人张一鸣发送公司全员信，回应了TikTok美国业务面临被CFIUS（美国外资投资委员会）强制要求出售的问题。8月3日中午，字节跳动创始人张一鸣发送公司全员信，回应了T...</td>\n",
       "    </tr>\n",
       "    <tr>\n",
       "      <th>1</th>\n",
       "      <td>0.09968895725584535</td>\n",
       "      <td>分别都是哪些企业？中国有227家企业上榜最新的胡润全球高成长性企业榜，大湾区上榜者有33家。8月4日，胡润研究院发布2020年高成长性企业榜单，列出了全球成立于2000年之后、价值10亿美元以...</td>\n",
       "    </tr>\n",
       "    <tr>\n",
       "      <th>2</th>\n",
       "      <td>0.05369248441712195</td>\n",
       "      <td>8月4日，胡润研究院发布了“2020年全球高成长性企业”榜单显示，全球上榜有586家企业，上榜企业总价值12.9万亿，企业平均年龄仅9岁。中国仍是全球高成长性企业诞生的热土，共227家企业入围...</td>\n",
       "    </tr>\n",
       "    <tr>\n",
       "      <th>3</th>\n",
       "      <td>0.0410132391597531</td>\n",
       "      <td>详情·钟南山成为共和国勋章建议人选·台风“黑格比”将带来强降水·广州地铁八号线北延段今年内开通·支持深圳等升直辖市论文作者回应·大连疫情可能始于海产品加工车间·录取通知书不得投递至快件箱自提点...</td>\n",
       "    </tr>\n",
       "    <tr>\n",
       "      <th>4</th>\n",
       "      <td>0.02945000320268802</td>\n",
       "      <td>7月26日，理想汽车向美国SEC更新招股书，宣布IPO股票公开发行规模为9500万股ADS，发行价区间为8美元至10美元。按照目前公布的发行价格，此次理想汽车IPO融资总额将达到12.54亿美...</td>\n",
       "    </tr>\n",
       "    <tr>\n",
       "      <th>5</th>\n",
       "      <td>0.01251173525528371</td>\n",
       "      <td>自4月底公告股票停牌、宣布引战以来，泰禾股票先后拉出4个涨停板，股价从最低点4.06元一度追涨至7.7元，最大涨幅高达89.6%，呈现出一度爆棚的投资者信心。只听楼梯响，不见人下来。泰禾集团（...</td>\n",
       "    </tr>\n",
       "  </tbody>\n",
       "</table>\n",
       "</div>"
      ],
      "text/plain": [
       "                   cos  \\\n",
       "0  0.24723408821707438   \n",
       "1  0.09968895725584535   \n",
       "2  0.05369248441712195   \n",
       "3   0.0410132391597531   \n",
       "4  0.02945000320268802   \n",
       "5  0.01251173525528371   \n",
       "\n",
       "                                                                                             newspaper  \n",
       "0  8月3日中午，字节跳动创始人张一鸣发送公司全员信，回应了TikTok美国业务面临被CFIUS（美国外资投资委员会）强制要求出售的问题。8月3日中午，字节跳动创始人张一鸣发送公司全员信，回应了T...  \n",
       "1  分别都是哪些企业？中国有227家企业上榜最新的胡润全球高成长性企业榜，大湾区上榜者有33家。8月4日，胡润研究院发布2020年高成长性企业榜单，列出了全球成立于2000年之后、价值10亿美元以...  \n",
       "2  8月4日，胡润研究院发布了“2020年全球高成长性企业”榜单显示，全球上榜有586家企业，上榜企业总价值12.9万亿，企业平均年龄仅9岁。中国仍是全球高成长性企业诞生的热土，共227家企业入围...  \n",
       "3  详情·钟南山成为共和国勋章建议人选·台风“黑格比”将带来强降水·广州地铁八号线北延段今年内开通·支持深圳等升直辖市论文作者回应·大连疫情可能始于海产品加工车间·录取通知书不得投递至快件箱自提点...  \n",
       "4  7月26日，理想汽车向美国SEC更新招股书，宣布IPO股票公开发行规模为9500万股ADS，发行价区间为8美元至10美元。按照目前公布的发行价格，此次理想汽车IPO融资总额将达到12.54亿美...  \n",
       "5  自4月底公告股票停牌、宣布引战以来，泰禾股票先后拉出4个涨停板，股价从最低点4.06元一度追涨至7.7元，最大涨幅高达89.6%，呈现出一度爆棚的投资者信心。只听楼梯响，不见人下来。泰禾集团（...  "
      ]
     },
     "execution_count": 43,
     "metadata": {},
     "output_type": "execute_result"
    }
   ],
   "source": [
    "TFsearch = search(\"字节跳动\",Inverted_Index_List)\n",
    "TFsearch"
   ]
  },
  {
   "cell_type": "markdown",
   "metadata": {},
   "source": [
    "# ITITF 向量搜索入口函数 "
   ]
  },
  {
   "cell_type": "code",
   "execution_count": null,
   "metadata": {
    "tags": []
   },
   "outputs": [],
   "source": [
    "\n",
    "def search_TFITF(key,Inverted_Index_List):\n",
    "    search_paper_index,search_word = search_inverted_index(key,Inverted_Index_List)\n",
    "    search_result = [] \n",
    "    TFITF_search = TF(search_word,word_vector)*IDF #搜索内容的词向量\n",
    "    change_word_vector_from_words = init_paper[search_paper_index]\n",
    "    change_paper_from_words = read_original[search_paper_index]\n",
    "    for i in tqdm(range(len(change_paper_from_words)),desc='已经搜索数量'):\n",
    "        word_arr,paper = change_word_vector_from_words[i],change_paper_from_words[i]\n",
    "        TFIDF_ROW = code_of_TFIDF[find_index(word_arr)]#倒排表当前文章的词向量z s\n",
    "        cos = cosine(TFIDF_ROW,TFITF_search) #余弦相似度\n",
    "        parameter = cos \n",
    "        search_result.append([cos,paper])\n",
    "    search_result_arr = np.array(search_result)\n",
    "    result_table = pd.DataFrame({\"cos\":search_result_arr[:,0],\"newspaper\":search_result_arr[:,1]})\n",
    "    sort_table = result_table.sort_values([\"cos\"],ascending=False).reset_index(drop=True)\n",
    "    file_path = \"{}{}{}\".format(os.getcwd(),\"/\",key)\n",
    "    sort_table.to_csv(file_path)\n",
    "    return sort_table\n",
    "\n",
    "TFITFsearch = search_TFITF(input(),Inverted_Index_List)\n",
    "TFITFsearch"
   ]
  },
  {
   "cell_type": "code",
   "execution_count": null,
   "metadata": {},
   "outputs": [],
   "source": []
  },
  {
   "cell_type": "code",
   "execution_count": null,
   "metadata": {},
   "outputs": [],
   "source": []
  },
  {
   "cell_type": "code",
   "execution_count": null,
   "metadata": {},
   "outputs": [],
   "source": []
  }
 ],
 "metadata": {
  "kernelspec": {
   "display_name": "Python 3",
   "language": "python",
   "name": "python3"
  },
  "language_info": {
   "codemirror_mode": {
    "name": "ipython",
    "version": 3
   },
   "file_extension": ".py",
   "mimetype": "text/x-python",
   "name": "python",
   "nbconvert_exporter": "python",
   "pygments_lexer": "ipython3",
   "version": "3.8.5"
  }
 },
 "nbformat": 4,
 "nbformat_minor": 4
}
