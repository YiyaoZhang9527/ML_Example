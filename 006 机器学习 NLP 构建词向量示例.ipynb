{
 "cells": [
  {
   "cell_type": "code",
   "execution_count": 180,
   "metadata": {},
   "outputs": [
    {
     "output_type": "execute_result",
     "data": {
      "text/plain": "'替换\\n 和空格'"
     },
     "metadata": {},
     "execution_count": 180
    }
   ],
   "source": [
    "#coding=utf-8\n",
    "import re\n",
    "import collections\n",
    " \n",
    "words = '''这将使用matplotlib rcParam系统，并将影响所有matplotlib图的外观，即使您没有使用seaborn创建它们。除了默认主题之外，还有其他几个选项，您可以独立控制绘图的样式和比例，以便在表示上下文中快速转换您的工作(例如，在演讲期间生成具有可读字体的绘图)。如果您喜欢matplotlib的默认设置，或者喜欢不同的主题，可以跳过这一步，仍然使用seaborn绘图函数。\n",
    "'''\n",
    " \n",
    "'替换\\n 和空格'"
   ]
  },
  {
   "cell_type": "markdown",
   "metadata": {},
   "source": [
    "## 正则规则"
   ]
  },
  {
   "cell_type": "code",
   "execution_count": 181,
   "metadata": {},
   "outputs": [],
   "source": [
    "srcrep = {i:'' for i in ':,.\"{[}](>)</\\n。， '}"
   ]
  },
  {
   "cell_type": "code",
   "execution_count": 182,
   "metadata": {},
   "outputs": [
    {
     "output_type": "execute_result",
     "data": {
      "text/plain": "{':': '',\n ',': '',\n '\\\\.': '',\n '\"': '',\n '\\\\{': '',\n '\\\\[': '',\n '\\\\}': '',\n '\\\\]': '',\n '\\\\(': '',\n '>': '',\n '\\\\)': '',\n '<': '',\n '/': '',\n '\\\\\\n': '',\n '。': '',\n '，': '',\n '\\\\ ': ''}"
     },
     "metadata": {},
     "execution_count": 182
    }
   ],
   "source": [
    "rep = dict((re.escape(k), v) for k, v in srcrep.items())\n",
    "rep"
   ]
  },
  {
   "cell_type": "code",
   "execution_count": 183,
   "metadata": {},
   "outputs": [
    {
     "output_type": "execute_result",
     "data": {
      "text/plain": "re.compile(r':|,|\\.|\"|\\{|\\[|\\}|\\]|\\(|>|\\)|<|/|\\\\n|。|，|\\ ', re.UNICODE)"
     },
     "metadata": {},
     "execution_count": 183
    }
   ],
   "source": [
    "pattern = re.compile(\"|\".join(rep.keys()))\n",
    "pattern"
   ]
  },
  {
   "cell_type": "markdown",
   "metadata": {},
   "source": [
    "## 正则处理文本为整字符串"
   ]
  },
  {
   "cell_type": "code",
   "execution_count": 184,
   "metadata": {},
   "outputs": [
    {
     "output_type": "execute_result",
     "data": {
      "text/plain": "'这将使用matplotlibrcParam系统并将影响所有matplotlib图的外观即使您没有使用seaborn创建它们除了默认主题之外还有其他几个选项您可以独立控制绘图的样式和比例以便在表示上下文中快速转换您的工作例如在演讲期间生成具有可读字体的绘图如果您喜欢matplotlib的默认设置或者喜欢不同的主题可以跳过这一步仍然使用seaborn绘图函数'"
     },
     "metadata": {},
     "execution_count": 184
    }
   ],
   "source": [
    "origin_words = pattern.sub(lambda m: rep[re.escape(m.group(0))], words)\n",
    "origin_words"
   ]
  },
  {
   "cell_type": "code",
   "execution_count": 185,
   "metadata": {},
   "outputs": [],
   "source": [
    "def delsymbols(strings,elements=':,.\"{[}](>)</\\n。， '):\n",
    "    srcrep = {i:'' for i in elements }\n",
    "    rep = dict((re.escape(k), v) for k, v in srcrep.items())\n",
    "    pattern = re.compile(\"|\".join(rep.keys()))\n",
    "    return pattern.sub(lambda m: rep[re.escape(m.group(0))], strings)"
   ]
  },
  {
   "cell_type": "code",
   "execution_count": 186,
   "metadata": {},
   "outputs": [
    {
     "output_type": "execute_result",
     "data": {
      "text/plain": "'这将使用matplotlibrcParam系统并将影响所有matplotlib图的外观即使您没有使用seaborn创建它们除了默认主题之外还有其他几个选项您可以独立控制绘图的样式和比例以便在表示上下文中快速转换您的工作例如在演讲期间生成具有可读字体的绘图如果您喜欢matplotlib的默认设置或者喜欢不同的主题可以跳过这一步仍然使用seaborn绘图函数'"
     },
     "metadata": {},
     "execution_count": 186
    }
   ],
   "source": [
    "delsymbols(words)"
   ]
  },
  {
   "cell_type": "markdown",
   "metadata": {},
   "source": [
    "## 计数每个字出现的次数"
   ]
  },
  {
   "cell_type": "code",
   "execution_count": 187,
   "metadata": {},
   "outputs": [
    {
     "output_type": "stream",
     "name": "stdout",
     "text": "Counter({'a': 7, 't': 6, 'l': 6, '的': 6, 'o': 5, 'b': 5, '使': 4, 'm': 4, 'r': 4, '有': 4, '图': 4, '您': 4, '用': 3, 'p': 3, 'i': 3, '可': 3, '以': 3, '绘': 3, '这': 2, '将': 2, '外': 2, 's': 2, 'e': 2, 'n': 2, '默': 2, '认': 2, '主': 2, '题': 2, '例': 2, '在': 2, '如': 2, '喜': 2, '欢': 2, 'c': 1, 'P': 1, '系': 1, '统': 1, '并': 1, '影': 1, '响': 1, '所': 1, '观': 1, '即': 1, '没': 1, '创': 1, '建': 1, '它': 1, '们': 1, '除': 1, '了': 1, '之': 1, '还': 1, '其': 1, '他': 1, '几': 1, '个': 1, '选': 1, '项': 1, '独': 1, '立': 1, '控': 1, '制': 1, '样': 1, '式': 1, '和': 1, '比': 1, '便': 1, '表': 1, '示': 1, '上': 1, '下': 1, '文': 1, '中': 1, '快': 1, '速': 1, '转': 1, '换': 1, '工': 1, '作': 1, '演': 1, '讲': 1, '期': 1, '间': 1, '生': 1, '成': 1, '具': 1, '读': 1, '字': 1, '体': 1, '果': 1, '设': 1, '置': 1, '或': 1, '者': 1, '不': 1, '同': 1, '跳': 1, '过': 1, '一': 1, '步': 1, '仍': 1, '然': 1, '函': 1, '数': 1})\n"
    }
   ],
   "source": [
    "counter = collections.Counter(origin_words)\n",
    "print(counter)"
   ]
  },
  {
   "cell_type": "markdown",
   "metadata": {},
   "source": [
    "## 对每个字  从出现的次数  从小到大的排序"
   ]
  },
  {
   "cell_type": "code",
   "execution_count": 188,
   "metadata": {},
   "outputs": [
    {
     "output_type": "stream",
     "name": "stdout",
     "text": "[('a', 7), ('t', 6), ('l', 6), ('的', 6), ('o', 5), ('b', 5), ('使', 4), ('m', 4), ('r', 4), ('有', 4), ('图', 4), ('您', 4), ('用', 3), ('p', 3), ('i', 3), ('可', 3), ('以', 3), ('绘', 3), ('这', 2), ('将', 2), ('外', 2), ('s', 2), ('e', 2), ('n', 2), ('默', 2), ('认', 2), ('主', 2), ('题', 2), ('例', 2), ('在', 2), ('如', 2), ('喜', 2), ('欢', 2), ('c', 1), ('P', 1), ('系', 1), ('统', 1), ('并', 1), ('影', 1), ('响', 1), ('所', 1), ('观', 1), ('即', 1), ('没', 1), ('创', 1), ('建', 1), ('它', 1), ('们', 1), ('除', 1), ('了', 1), ('之', 1), ('还', 1), ('其', 1), ('他', 1), ('几', 1), ('个', 1), ('选', 1), ('项', 1), ('独', 1), ('立', 1), ('控', 1), ('制', 1), ('样', 1), ('式', 1), ('和', 1), ('比', 1), ('便', 1), ('表', 1), ('示', 1), ('上', 1), ('下', 1), ('文', 1), ('中', 1), ('快', 1), ('速', 1), ('转', 1), ('换', 1), ('工', 1), ('作', 1), ('演', 1), ('讲', 1), ('期', 1), ('间', 1), ('生', 1), ('成', 1), ('具', 1), ('读', 1), ('字', 1), ('体', 1), ('果', 1), ('设', 1), ('置', 1), ('或', 1), ('者', 1), ('不', 1), ('同', 1), ('跳', 1), ('过', 1), ('一', 1), ('步', 1), ('仍', 1), ('然', 1), ('函', 1), ('数', 1)]\n"
    }
   ],
   "source": [
    "\n",
    "counter_pairs = sorted(counter.items(), key=lambda x:-x[1])\n",
    "print(counter_pairs)"
   ]
  },
  {
   "cell_type": "markdown",
   "metadata": {},
   "source": [
    "## 对字和出现的次数进行分割"
   ]
  },
  {
   "cell_type": "code",
   "execution_count": 189,
   "metadata": {},
   "outputs": [
    {
     "output_type": "stream",
     "name": "stdout",
     "text": "('a', 't', 'l', '的', 'o', 'b', '使', 'm', 'r', '有', '图', '您', '用', 'p', 'i', '可', '以', '绘', '这', '将', '外', 's', 'e', 'n', '默', '认', '主', '题', '例', '在', '如', '喜', '欢', 'c', 'P', '系', '统', '并', '影', '响', '所', '观', '即', '没', '创', '建', '它', '们', '除', '了', '之', '还', '其', '他', '几', '个', '选', '项', '独', '立', '控', '制', '样', '式', '和', '比', '便', '表', '示', '上', '下', '文', '中', '快', '速', '转', '换', '工', '作', '演', '讲', '期', '间', '生', '成', '具', '读', '字', '体', '果', '设', '置', '或', '者', '不', '同', '跳', '过', '一', '步', '仍', '然', '函', '数')\n"
    }
   ],
   "source": [
    "words,_ = zip(*counter_pairs)\n",
    "print(words)"
   ]
  },
  {
   "cell_type": "markdown",
   "metadata": {},
   "source": [
    "## 对每个字进行编码"
   ]
  },
  {
   "cell_type": "code",
   "execution_count": 190,
   "metadata": {},
   "outputs": [
    {
     "output_type": "stream",
     "name": "stdout",
     "text": "{'a': 0, 't': 1, 'l': 2, '的': 3, 'o': 4, 'b': 5, '使': 6, 'm': 7, 'r': 8, '有': 9, '图': 10, '您': 11, '用': 12, 'p': 13, 'i': 14, '可': 15, '以': 16, '绘': 17, '这': 18, '将': 19, '外': 20, 's': 21, 'e': 22, 'n': 23, '默': 24, '认': 25, '主': 26, '题': 27, '例': 28, '在': 29, '如': 30, '喜': 31, '欢': 32, 'c': 33, 'P': 34, '系': 35, '统': 36, '并': 37, '影': 38, '响': 39, '所': 40, '观': 41, '即': 42, '没': 43, '创': 44, '建': 45, '它': 46, '们': 47, '除': 48, '了': 49, '之': 50, '还': 51, '其': 52, '他': 53, '几': 54, '个': 55, '选': 56, '项': 57, '独': 58, '立': 59, '控': 60, '制': 61, '样': 62, '式': 63, '和': 64, '比': 65, '便': 66, '表': 67, '示': 68, '上': 69, '下': 70, '文': 71, '中': 72, '快': 73, '速': 74, '转': 75, '换': 76, '工': 77, '作': 78, '演': 79, '讲': 80, '期': 81, '间': 82, '生': 83, '成': 84, '具': 85, '读': 86, '字': 87, '体': 88, '果': 89, '设': 90, '置': 91, '或': 92, '者': 93, '不': 94, '同': 95, '跳': 96, '过': 97, '一': 98, '步': 99, '仍': 100, '然': 101, '函': 102, '数': 103}\n"
    }
   ],
   "source": [
    "word_int_map = dict(zip(words, range(len(words))))\n",
    "print(word_int_map)"
   ]
  },
  {
   "cell_type": "markdown",
   "metadata": {},
   "source": [
    "## 解释.get()方法，其实只是以用key 拿到value"
   ]
  },
  {
   "cell_type": "code",
   "execution_count": 191,
   "metadata": {},
   "outputs": [],
   "source": [
    "string = '的'"
   ]
  },
  {
   "cell_type": "code",
   "execution_count": 192,
   "metadata": {},
   "outputs": [
    {
     "output_type": "execute_result",
     "data": {
      "text/plain": "3"
     },
     "metadata": {},
     "execution_count": 192
    }
   ],
   "source": [
    "test = lambda word:word_int_map.get(word, len(words))\n",
    "test(string)"
   ]
  },
  {
   "cell_type": "code",
   "execution_count": 193,
   "metadata": {},
   "outputs": [
    {
     "output_type": "execute_result",
     "data": {
      "text/plain": "3"
     },
     "metadata": {},
     "execution_count": 193
    }
   ],
   "source": [
    "word_int_map[string]"
   ]
  },
  {
   "cell_type": "code",
   "execution_count": 194,
   "metadata": {},
   "outputs": [
    {
     "output_type": "execute_result",
     "data": {
      "text/plain": "(3, 1)"
     },
     "metadata": {},
     "execution_count": 194
    }
   ],
   "source": [
    "word_int_map[string],len(string)"
   ]
  },
  {
   "cell_type": "code",
   "execution_count": 195,
   "metadata": {},
   "outputs": [
    {
     "output_type": "stream",
     "name": "stdout",
     "text": "[[18, 19, 6, 12, 7, 0, 1, 13, 2, 4, 1, 2, 14, 5, 8, 33, 34, 0, 8, 0, 7, 35, 36, 37, 19, 38, 39, 40, 9, 7, 0, 1, 13, 2, 4, 1, 2, 14, 5, 10, 3, 20, 41, 42, 6, 11, 43, 9, 6, 12, 21, 22, 0, 5, 4, 8, 23, 44, 45, 46, 47, 48, 49, 24, 25, 26, 27, 50, 20, 51, 9, 52, 53, 54, 55, 56, 57, 11, 15, 16, 58, 59, 60, 61, 17, 10, 3, 62, 63, 64, 65, 28, 16, 66, 29, 67, 68, 69, 70, 71, 72, 73, 74, 75, 76, 11, 3, 77, 78, 28, 30, 29, 79, 80, 81, 82, 83, 84, 85, 9, 15, 86, 87, 88, 3, 17, 10, 30, 89, 11, 31, 32, 7, 0, 1, 13, 2, 4, 1, 2, 14, 5, 3, 24, 25, 90, 91, 92, 93, 31, 32, 94, 95, 3, 26, 27, 15, 16, 96, 97, 18, 98, 99, 100, 101, 6, 12, 21, 22, 0, 5, 4, 8, 23, 17, 10, 102, 103]]\n"
    }
   ],
   "source": [
    "#对文本构建文本向量\n",
    "word_vector = [list(map(lambda word: word_int_map.get(word, len(words)), origin_words))]\n",
    "print(word_vector)"
   ]
  },
  {
   "cell_type": "markdown",
   "metadata": {},
   "source": [
    "## 或许这样更省事儿"
   ]
  },
  {
   "cell_type": "code",
   "execution_count": 196,
   "metadata": {},
   "outputs": [
    {
     "output_type": "execute_result",
     "data": {
      "text/plain": "[18,\n 19,\n 6,\n 12,\n 7,\n 0,\n 1,\n 13,\n 2,\n 4,\n 1,\n 2,\n 14,\n 5,\n 8,\n 33,\n 34,\n 0,\n 8,\n 0,\n 7,\n 35,\n 36,\n 37,\n 19,\n 38,\n 39,\n 40,\n 9,\n 7,\n 0,\n 1,\n 13,\n 2,\n 4,\n 1,\n 2,\n 14,\n 5,\n 10,\n 3,\n 20,\n 41,\n 42,\n 6,\n 11,\n 43,\n 9,\n 6,\n 12,\n 21,\n 22,\n 0,\n 5,\n 4,\n 8,\n 23,\n 44,\n 45,\n 46,\n 47,\n 48,\n 49,\n 24,\n 25,\n 26,\n 27,\n 50,\n 20,\n 51,\n 9,\n 52,\n 53,\n 54,\n 55,\n 56,\n 57,\n 11,\n 15,\n 16,\n 58,\n 59,\n 60,\n 61,\n 17,\n 10,\n 3,\n 62,\n 63,\n 64,\n 65,\n 28,\n 16,\n 66,\n 29,\n 67,\n 68,\n 69,\n 70,\n 71,\n 72,\n 73,\n 74,\n 75,\n 76,\n 11,\n 3,\n 77,\n 78,\n 28,\n 30,\n 29,\n 79,\n 80,\n 81,\n 82,\n 83,\n 84,\n 85,\n 9,\n 15,\n 86,\n 87,\n 88,\n 3,\n 17,\n 10,\n 30,\n 89,\n 11,\n 31,\n 32,\n 7,\n 0,\n 1,\n 13,\n 2,\n 4,\n 1,\n 2,\n 14,\n 5,\n 3,\n 24,\n 25,\n 90,\n 91,\n 92,\n 93,\n 31,\n 32,\n 94,\n 95,\n 3,\n 26,\n 27,\n 15,\n 16,\n 96,\n 97,\n 18,\n 98,\n 99,\n 100,\n 101,\n 6,\n 12,\n 21,\n 22,\n 0,\n 5,\n 4,\n 8,\n 23,\n 17,\n 10,\n 102,\n 103]"
     },
     "metadata": {},
     "execution_count": 196
    }
   ],
   "source": [
    "word_vector = [word_int_map[string] for string in origin_words]\n",
    "word_vector"
   ]
  }
 ],
 "metadata": {
  "kernelspec": {
   "display_name": "Python 3",
   "language": "python",
   "name": "python3"
  },
  "language_info": {
   "codemirror_mode": {
    "name": "ipython",
    "version": 3
   },
   "file_extension": ".py",
   "mimetype": "text/x-python",
   "name": "python",
   "nbconvert_exporter": "python",
   "pygments_lexer": "ipython3",
   "version": "3.7.3-final"
  }
 },
 "nbformat": 4,
 "nbformat_minor": 4
}