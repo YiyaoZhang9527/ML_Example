{
 "cells": [
  {
   "cell_type": "markdown",
   "metadata": {},
   "source": [
    "## 置信区间\n",
    "#### 是基于我们的观测结果给出的合理估值范围，它的中心值仍然是样本均值，但是在不确定的地方预留了一些空间，选择置信区间的方式与样本的均值分布有关\n",
    "## 95%置信区间的意思是：如果从100个不同样本中计算置信区间，其中95个“包含真实的样本总均值均值”"
   ]
  },
  {
   "cell_type": "markdown",
   "metadata": {},
   "source": [
    "## 二项分布\n"
   ]
  },
  {
   "cell_type": "code",
   "execution_count": 171,
   "metadata": {},
   "outputs": [
    {
     "data": {
      "text/plain": [
       "('第一日震惊概率为：', 0.08192000000000003, '累计周期震惊一次的概率为', 0.4096000000000002)"
      ]
     },
     "execution_count": 171,
     "metadata": {},
     "output_type": "execute_result"
    }
   ],
   "source": [
    "import matplotlib.pyplot as plt\n",
    "import numpy as np\n",
    "np.set_printoptions(suppress=True)\n",
    "\n",
    "# 一周有五天，假如有一天你一定会震惊，求只有一次震惊的概率，那么第一天的震惊的概率分布如下\n",
    "shocked_1 = [0.2,0.8,0.8,0.8,0.8]\n",
    "\n",
    "def multi(listdata):\n",
    "    '''\n",
    "    累乘函數\n",
    "    '''\n",
    "    n = 1\n",
    "    for i in listdata:\n",
    "        n *= i\n",
    "    return n\n",
    "\n",
    "'第一日震惊概率为：',multi(shocked_1),'累计周期震惊一次的概率为',multi(shocked_1)*len(shocked_1)"
   ]
  },
  {
   "cell_type": "code",
   "execution_count": 172,
   "metadata": {},
   "outputs": [],
   "source": [
    "def Drop_Weft_Funciton(mylist): \n",
    "    '''\n",
    "    二维降一维\n",
    "    '''\n",
    "    return [i for j in range(len(mylist)) for i in mylist[j]]\n",
    "    "
   ]
  },
  {
   "cell_type": "code",
   "execution_count": 97,
   "metadata": {},
   "outputs": [
    {
     "data": {
      "text/plain": [
       "(0.011529215046068483, {'事件不发生的概率': '1.1529215046068484%'})"
      ]
     },
     "execution_count": 97,
     "metadata": {},
     "output_type": "execute_result"
    }
   ],
   "source": [
    "import numpy as np\n",
    "np.set_printoptions(suppress=True)\n",
    "\n",
    "def binomial_distribution(src_P=None,src_k = None ,src_n = None):\n",
    "    '''\n",
    "    二项分布计算\n",
    "    必须只有两个结果，成功或者失败 True 或者 False\n",
    "    https://www.zhihu.com/question/36214010/answer/208718886 阅读衍生\n",
    "\n",
    "    P = 成功的概率\n",
    "    n = 重复的次数\n",
    "    k = 你想要的成功的次数\n",
    "    'Cnk'\n",
    "    '''\n",
    "    n = src_n == None and (1/src_P if 1%src_P == 0 else int(1/src_P)) or 0  \n",
    "    display_p = lambda x : str(x*100)+'%'\n",
    "    P_x_ = lambda P,k,n : ((P ** k) * ((1-P) ** (n - k))) * n #条件成功概率 \n",
    "    \n",
    "    \n",
    "    if  src_k == 0 and src_n != None:\n",
    "        expr = (src_P ** src_k) * ((1-src_P) ** (src_n - src_k))\n",
    "        return expr,{'事件不发生的概率':str(expr*100)+'%'}\n",
    "        \n",
    "    elif src_k <= n and src_k != 0 :\n",
    "        expr = P_x_(src_P,src_k,n)\n",
    "        return expr , {'共计重复轮数':n\n",
    "        ,'仅成功次数为':src_k\n",
    "        ,'当前初始概率为':display_p(src_P)\n",
    "        ,'每轮次数':n\n",
    "        ,'每次成功概率':display_p(((src_P ** src_k) * ((1-src_P) ** (n - src_k))))\n",
    "        ,'本次条件成功的概率为':display_p(expr)\n",
    "        ,'成功需要的重复的轮数约为':1/expr }\n",
    "    \n",
    "binomial_distribution(src_P = 0.2 , src_k = 0 ,src_n = 20)#, k = 1 )"
   ]
  },
  {
   "cell_type": "code",
   "execution_count": 82,
   "metadata": {},
   "outputs": [
    {
     "data": {
      "text/plain": [
       "(2.5, {'重复5后可以成功的次数约为': 2.5})"
      ]
     },
     "execution_count": 82,
     "metadata": {},
     "output_type": "execute_result"
    }
   ],
   "source": [
    "def E_x_(P,n) : \n",
    "    '''\n",
    "    二项分布期望\n",
    "    '''\n",
    "    expr = n*P\n",
    "    return expr,{'重复'+str(n)+'后可以成功的次数约为':expr }\n",
    "E_x_(0.5,5)"
   ]
  },
  {
   "cell_type": "code",
   "execution_count": 83,
   "metadata": {},
   "outputs": [
    {
     "data": {
      "text/plain": [
       "('不会有人死亡的可能性为:', 0.6408805563666787)"
      ]
     },
     "execution_count": 83,
     "metadata": {},
     "output_type": "execute_result"
    }
   ],
   "source": [
    "'''致死率计算'''\n",
    "\n",
    "def as_num(x):\n",
    "    y = '{:.100f}'.format(x) # 5f表示保留5位小数点的float型、\n",
    "    return y\n",
    "\n",
    "dead = 0.022 #死亡率\n",
    "count_ppl = 20 #共有20人\n",
    "times = 0\n",
    "np.set_printoptions(suppress=True)\n",
    "P_x_ = lambda P,k,n : ((P ** k) * ((1-P) ** (n - k))) #条件成功概率\n",
    "\n",
    "'不会有人死亡的可能性为:',P_x_(P=dead,k=times,n=count_ppl)"
   ]
  },
  {
   "cell_type": "code",
   "execution_count": null,
   "metadata": {},
   "outputs": [],
   "source": []
  }
 ],
 "metadata": {
  "file_extension": ".py",
  "kernelspec": {
   "display_name": "Python 3",
   "language": "python",
   "name": "python3"
  },
  "language_info": {
   "codemirror_mode": {
    "name": "ipython",
    "version": 3
   },
   "file_extension": ".py",
   "mimetype": "text/x-python",
   "name": "python",
   "nbconvert_exporter": "python",
   "pygments_lexer": "ipython3",
   "version": "3.7.3"
  },
  "mimetype": "text/x-python",
  "name": "python",
  "npconvert_exporter": "python",
  "pygments_lexer": "ipython3",
  "version": 3
 },
 "nbformat": 4,
 "nbformat_minor": 2
}
