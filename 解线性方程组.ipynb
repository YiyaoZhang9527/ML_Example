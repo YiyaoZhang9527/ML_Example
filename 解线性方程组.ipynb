{
 "cells": [
  {
   "cell_type": "code",
   "execution_count": 1,
   "metadata": {},
   "outputs": [
    {
     "output_type": "stream",
     "name": "stdout",
     "text": "[1.00000001 0.99999998 1.00000001]\n"
    }
   ],
   "source": [
    "from scipy.optimize import fsolve\n",
    "def func(i):\n",
    "     x, y, z = i[0], i[1], i[2]\n",
    "     return [\n",
    "             x + 2 * y + 3 * z - 6,\n",
    "             5 * (x ** 2) + 6 * (y ** 2) + 7 * (z ** 2) - 18,\n",
    "             9 * (x ** 3) + 10 * (y ** 3) + 11 * (z ** 3) - 30\n",
    "            ]\n",
    "r = fsolve(func,[0, 0, 0])\n",
    "print(r)"
   ]
  },
  {
   "cell_type": "code",
   "execution_count": 2,
   "metadata": {},
   "outputs": [],
   "source": [
    "import sympy\n",
    "from sympy import symbols"
   ]
  },
  {
   "cell_type": "code",
   "execution_count": null,
   "metadata": {},
   "outputs": [],
   "source": []
  }
 ],
 "metadata": {
  "language_info": {
   "codemirror_mode": {
    "name": "ipython",
    "version": 3
   },
   "file_extension": ".py",
   "mimetype": "text/x-python",
   "name": "python",
   "nbconvert_exporter": "python",
   "pygments_lexer": "ipython3",
   "version": "3.7.3-final"
  },
  "orig_nbformat": 2,
  "kernelspec": {
   "name": "pycharm-66c53067",
   "display_name": "PyCharm (InferenceSystem)"
  }
 },
 "nbformat": 4,
 "nbformat_minor": 2
}