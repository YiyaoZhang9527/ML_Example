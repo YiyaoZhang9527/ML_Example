{
 "metadata": {
  "language_info": {
   "codemirror_mode": {
    "name": "ipython",
    "version": 3
   },
   "file_extension": ".py",
   "mimetype": "text/x-python",
   "name": "python",
   "nbconvert_exporter": "python",
   "pygments_lexer": "ipython3",
   "version": "3.7.6-final"
  },
  "orig_nbformat": 2,
  "kernelspec": {
   "name": "pycharm-66c53067",
   "display_name": "PyCharm (InferenceSystem)"
  }
 },
 "nbformat": 4,
 "nbformat_minor": 2,
 "cells": [
  {
   "cell_type": "markdown",
   "metadata": {},
   "source": [
    "https://zhuanlan.zhihu.com/p/103824900"
   ]
  },
  {
   "cell_type": "code",
   "execution_count": 2,
   "metadata": {},
   "outputs": [],
   "source": [
    "import httpx\n",
    "import asyncio"
   ]
  },
  {
   "cell_type": "code",
   "execution_count": 7,
   "metadata": {},
   "outputs": [
    {
     "output_type": "execute_result",
     "data": {
      "text/plain": "<Response [200 OK]>"
     },
     "metadata": {},
     "execution_count": 7
    }
   ],
   "source": [
    "r = httpx.get('https://httpbin.org/get')\n",
    "r"
   ]
  },
  {
   "cell_type": "code",
   "execution_count": 8,
   "metadata": {},
   "outputs": [
    {
     "output_type": "execute_result",
     "data": {
      "text/plain": "<Response [200 OK]>"
     },
     "metadata": {},
     "execution_count": 8
    }
   ],
   "source": [
    "r = httpx.post('https://httpbin.org/post', data={'key':'value'})\n",
    "r"
   ]
  },
  {
   "cell_type": "code",
   "execution_count": 9,
   "metadata": {},
   "outputs": [
    {
     "output_type": "execute_result",
     "data": {
      "text/plain": "<Response [200 OK]>"
     },
     "metadata": {},
     "execution_count": 9
    }
   ],
   "source": [
    "httpx.put('https://httpbin.org/put', data={'key':'value'})"
   ]
  },
  {
   "cell_type": "code",
   "execution_count": 10,
   "metadata": {},
   "outputs": [
    {
     "output_type": "execute_result",
     "data": {
      "text/plain": "<Response [200 OK]>"
     },
     "metadata": {},
     "execution_count": 10
    }
   ],
   "source": [
    "httpx.delete('https://httpbin.org/delete')"
   ]
  },
  {
   "cell_type": "code",
   "execution_count": 12,
   "metadata": {},
   "outputs": [
    {
     "output_type": "execute_result",
     "data": {
      "text/plain": "''"
     },
     "metadata": {},
     "execution_count": 12
    }
   ],
   "source": [
    "httpx.head('https://httpbin.org/get').text"
   ]
  },
  {
   "cell_type": "code",
   "execution_count": 13,
   "metadata": {},
   "outputs": [
    {
     "output_type": "execute_result",
     "data": {
      "text/plain": "<Response [200 OK]>"
     },
     "metadata": {},
     "execution_count": 13
    }
   ],
   "source": [
    "httpx.options('https://httpbin.org/get')"
   ]
  },
  {
   "cell_type": "code",
   "execution_count": 14,
   "metadata": {},
   "outputs": [
    {
     "output_type": "execute_result",
     "data": {
      "text/plain": "<Response [200 OK]>"
     },
     "metadata": {},
     "execution_count": 14
    }
   ],
   "source": [
    "params={'key1':'value1','key2':'value2'}\n",
    "httpx.get('https://httpbin.org/get',params=params)"
   ]
  },
  {
   "cell_type": "code",
   "execution_count": 17,
   "metadata": {},
   "outputs": [
    {
     "output_type": "execute_result",
     "data": {
      "text/plain": "URL('https://httpbin.org/post')"
     },
     "metadata": {},
     "execution_count": 17
    }
   ],
   "source": [
    "r.url"
   ]
  },
  {
   "cell_type": "markdown",
   "metadata": {},
   "source": [
    "您可以检查已使用哪种编码来解码响应。"
   ]
  },
  {
   "cell_type": "code",
   "execution_count": 18,
   "metadata": {},
   "outputs": [
    {
     "output_type": "execute_result",
     "data": {
      "text/plain": "'ascii'"
     },
     "metadata": {},
     "execution_count": 18
    }
   ],
   "source": [
    "\n",
    "r.encoding"
   ]
  },
  {
   "cell_type": "markdown",
   "metadata": {},
   "source": [
    "如果您需要覆盖标准行为并明确设置要使用的编码，则也可以这样做。"
   ]
  },
  {
   "cell_type": "code",
   "execution_count": 20,
   "metadata": {},
   "outputs": [],
   "source": [
    "r.encoding ='ISO-8859-1'"
   ]
  },
  {
   "cell_type": "markdown",
   "metadata": {},
   "source": [
    "二进制响应内容\n",
    "对于非文本响应，响应内容也可以字节形式访问："
   ]
  },
  {
   "cell_type": "code",
   "execution_count": 21,
   "metadata": {},
   "outputs": [
    {
     "output_type": "execute_result",
     "data": {
      "text/plain": "b'{\\n  \"args\": {}, \\n  \"data\": \"\", \\n  \"files\": {}, \\n  \"form\": {\\n    \"key\": \"value\"\\n  }, \\n  \"headers\": {\\n    \"Accept\": \"*/*\", \\n    \"Accept-Encoding\": \"gzip, deflate\", \\n    \"Content-Length\": \"9\", \\n    \"Content-Type\": \"application/x-www-form-urlencoded\", \\n    \"Host\": \"httpbin.org\", \\n    \"User-Agent\": \"python-httpx/0.13.3\", \\n    \"X-Amzn-Trace-Id\": \"Root=1-5f1aa640-393d27b22c5e616c8bcee18a\"\\n  }, \\n  \"json\": null, \\n  \"origin\": \"124.113.205.233\", \\n  \"url\": \"https://httpbin.org/post\"\\n}\\n'"
     },
     "metadata": {},
     "execution_count": 21
    }
   ],
   "source": [
    "r.content"
   ]
  },
  {
   "cell_type": "markdown",
   "metadata": {},
   "source": [
    "任何 gzip和 deflateHTTP响应编码都会自动为您解码。如果 brotlipy已安装，则 brotli还将支持响应编码。\n",
    "例如，要根据请求返回的二进制数据创建图像，可以使用以下代码："
   ]
  },
  {
   "cell_type": "code",
   "execution_count": 23,
   "metadata": {},
   "outputs": [
    {
     "output_type": "error",
     "ename": "OSError",
     "evalue": "cannot identify image file <_io.BytesIO object at 0x110253fb0>",
     "traceback": [
      "\u001b[0;31m---------------------------------------------------------------------------\u001b[0m",
      "\u001b[0;31mOSError\u001b[0m                                   Traceback (most recent call last)",
      "\u001b[0;32m<ipython-input-23-e9319ab39718>\u001b[0m in \u001b[0;36m<module>\u001b[0;34m\u001b[0m\n\u001b[1;32m      1\u001b[0m \u001b[0;32mfrom\u001b[0m \u001b[0mPIL\u001b[0m \u001b[0;32mimport\u001b[0m \u001b[0mImage\u001b[0m\u001b[0;34m\u001b[0m\u001b[0;34m\u001b[0m\u001b[0m\n\u001b[1;32m      2\u001b[0m \u001b[0;32mfrom\u001b[0m \u001b[0mio\u001b[0m \u001b[0;32mimport\u001b[0m \u001b[0mBytesIO\u001b[0m\u001b[0;34m\u001b[0m\u001b[0;34m\u001b[0m\u001b[0m\n\u001b[0;32m----> 3\u001b[0;31m \u001b[0mi\u001b[0m \u001b[0;34m=\u001b[0m\u001b[0mImage\u001b[0m\u001b[0;34m.\u001b[0m\u001b[0mopen\u001b[0m\u001b[0;34m(\u001b[0m\u001b[0mBytesIO\u001b[0m\u001b[0;34m(\u001b[0m\u001b[0mr\u001b[0m\u001b[0;34m.\u001b[0m\u001b[0mcontent\u001b[0m\u001b[0;34m)\u001b[0m\u001b[0;34m)\u001b[0m\u001b[0;34m\u001b[0m\u001b[0;34m\u001b[0m\u001b[0m\n\u001b[0m",
      "\u001b[0;32m/usr/local/lib/python3.7/site-packages/PIL/Image.py\u001b[0m in \u001b[0;36mopen\u001b[0;34m(fp, mode)\u001b[0m\n\u001b[1;32m   2816\u001b[0m     \u001b[0;32mfor\u001b[0m \u001b[0mmessage\u001b[0m \u001b[0;32min\u001b[0m \u001b[0maccept_warnings\u001b[0m\u001b[0;34m:\u001b[0m\u001b[0;34m\u001b[0m\u001b[0;34m\u001b[0m\u001b[0m\n\u001b[1;32m   2817\u001b[0m         \u001b[0mwarnings\u001b[0m\u001b[0;34m.\u001b[0m\u001b[0mwarn\u001b[0m\u001b[0;34m(\u001b[0m\u001b[0mmessage\u001b[0m\u001b[0;34m)\u001b[0m\u001b[0;34m\u001b[0m\u001b[0;34m\u001b[0m\u001b[0m\n\u001b[0;32m-> 2818\u001b[0;31m     \u001b[0;32mraise\u001b[0m \u001b[0mIOError\u001b[0m\u001b[0;34m(\u001b[0m\u001b[0;34m\"cannot identify image file %r\"\u001b[0m \u001b[0;34m%\u001b[0m \u001b[0;34m(\u001b[0m\u001b[0mfilename\u001b[0m \u001b[0;32mif\u001b[0m \u001b[0mfilename\u001b[0m \u001b[0;32melse\u001b[0m \u001b[0mfp\u001b[0m\u001b[0;34m)\u001b[0m\u001b[0;34m)\u001b[0m\u001b[0;34m\u001b[0m\u001b[0;34m\u001b[0m\u001b[0m\n\u001b[0m\u001b[1;32m   2819\u001b[0m \u001b[0;34m\u001b[0m\u001b[0m\n\u001b[1;32m   2820\u001b[0m \u001b[0;34m\u001b[0m\u001b[0m\n",
      "\u001b[0;31mOSError\u001b[0m: cannot identify image file <_io.BytesIO object at 0x110253fb0>"
     ]
    }
   ],
   "source": [
    "from PIL import Image\n",
    "from io import BytesIO\n",
    "i =Image.open(BytesIO(r.content))"
   ]
  },
  {
   "cell_type": "code",
   "execution_count": 24,
   "metadata": {},
   "outputs": [
    {
     "output_type": "execute_result",
     "data": {
      "text/plain": "\n    'has_wiki': False,\n    'has_pages': False,\n    'forks_count': 0,\n    'mirror_url': None,\n    'archived': False,\n    'disabled': False,\n    'open_issues_count': 0,\n    'license': {'key': 'other',\n     'name': 'Other',\n     'spdx_id': 'NOASSERTION',\n     'url': None,\n     'node_id': 'MDc6TGljZW5zZTA='},\n    'forks': 0,\n    'open_issues': 0,\n    'watchers': 0,\n    'default_branch': 'master',\n    'public': True}},\n  'public': True,\n  'created_at': '2020-07-24T09:13:31Z',\n  'org': {'id': 8825476,\n   'login': 'learn-co-students',\n   'gravatar_id': '',\n   'url': 'https://api.github.com/orgs/learn-co-students',\n   'avatar_url': 'https://avatars.githubusercontent.com/u/8825476?'}},\n {'id': '13004576899',\n  'type': 'IssueCommentEvent',\n  'actor': {'id': 64248009,\n   'login': 'wahyudinnasrulloh',\n   'display_login': 'wahyudinnasrulloh',\n   'gravatar_id': '',\n   'url': 'https://api.github.com/users/wahyudinnasrulloh',\n   'avatar_url': 'https://avatars.githubusercontent.com/u/64248009?'},\n  'repo': {'id': 64161359,\n   'name': 'ropensci/rtweet',\n   'url': 'https://api.github.com/repos/ropensci/rtweet'},\n  'payload': {'action': 'created',\n   'issue': {'url': 'https://api.github.com/repos/ropensci/rtweet/issues/435',\n    'repository_url': 'https://api.github.com/repos/ropensci/rtweet',\n    'labels_url': 'https://api.github.com/repos/ropensci/rtweet/issues/435/labels{/name}',\n    'comments_url': 'https://api.github.com/repos/ropensci/rtweet/issues/435/comments',\n    'events_url': 'https://api.github.com/repos/ropensci/rtweet/issues/435/events',\n    'html_url': 'https://github.com/ropensci/rtweet/issues/435',\n    'id': 661874739,\n    'node_id': 'MDU6SXNzdWU2NjE4NzQ3Mzk=',\n    'number': 435,\n    'title': 'rtweet.info is down',\n    'user': {'login': 'jeroen',\n     'id': 216319,\n     'node_id': 'MDQ6VXNlcjIxNjMxOQ==',\n     'avatar_url': 'https://avatars3.githubusercontent.com/u/216319?v=4',\n     'gravatar_id': '',\n     'url': 'https://api.github.com/users/jeroen',\n     'html_url': 'https://github.com/jeroen',\n     'followers_url': 'https://api.github.com/users/jeroen/followers',\n     'following_url': 'https://api.github.com/users/jeroen/following{/other_user}',\n     'gists_url': 'https://api.github.com/users/jeroen/gists{/gist_id}',\n     'starred_url': 'https://api.github.com/users/jeroen/starred{/owner}{/repo}',\n     'subscriptions_url': 'https://api.github.com/users/jeroen/subscriptions',\n     'organizations_url': 'https://api.github.com/users/jeroen/orgs',\n     'repos_url': 'https://api.github.com/users/jeroen/repos',\n     'events_url': 'https://api.github.com/users/jeroen/events{/privacy}',\n     'received_events_url': 'https://api.github.com/users/jeroen/received_events',\n     'type': 'User',\n     'site_admin': False},\n    'labels': [],\n    'state': 'open',\n    'locked': False,\n    'assignee': None,\n    'assignees': [],\n    'milestone': None,\n    'comments': 0,\n    'created_at': '2020-07-20T14:14:46Z',\n    'updated_at': '2020-07-24T09:13:31Z',\n    'closed_at': None,\n    'author_association': 'MEMBER',\n    'active_lock_reason': None,\n    'body': 'If there are no plans to get it backup, perhaps update the links to the official ropensci docs: http://docs.ropensci.org/rtweet',\n    'performed_via_github_app': None},\n   'comment': {'url': 'https://api.github.com/repos/ropensci/rtweet/issues/comments/663436517',\n    'html_url': 'https://github.com/ropensci/rtweet/issues/435#issuecomment-663436517',\n    'issue_url': 'https://api.github.com/repos/ropensci/rtweet/issues/435',\n    'id': 663436517,\n    'node_id': 'MDEyOklzc3VlQ29tbWVudDY2MzQzNjUxNw==',\n    'user': {'login': 'wahyudinnasrulloh',\n     'id': 64248009,\n     'node_id': 'MDQ6VXNlcjY0MjQ4MDA5',\n     'avatar_url': 'https://avatars3.githubusercontent.com/u/64248009?v=4',\n     'gravatar_id': '',\n     'url': 'https://api.github.com/users/wahyudinnasrulloh',\n     'html_url': 'https://github.com/wahyudinnasrulloh',\n     'followers_url': 'https://api.github.com/users/wahyudinnasrulloh/followers',\n     'following_url': 'https://api.github.com/users/wahyudinnasrulloh/following{/other_user}',\n     'gists_url': 'https://api.github.com/users/wahyudinnasrulloh/gists{/gist_id}',\n     'starred_url': 'https://api.github.com/users/wahyudinnasrulloh/starred{/owner}{/repo}',\n     'subscriptions_url': 'https://api.github.com/users/wahyudinnasrulloh/subscriptions',\n     'organizations_url': 'https://api.github.com/users/wahyudinnasrulloh/orgs',\n     'repos_url': 'https://api.github.com/users/wahyudinnasrulloh/repos',\n     'events_url': 'https://api.github.com/users/wahyudinnasrulloh/events{/privacy}',\n     'received_events_url': 'https://api.github.com/users/wahyudinnasrulloh/received_events',\n     'type': 'User',\n     'site_admin': False},\n    'created_at': '2020-07-24T09:13:31Z',\n    'updated_at': '2020-07-24T09:13:31Z',\n    'author_association': 'NONE',\n    'body': \"Yes, i on my way to learn rtweet but unfortunately, it's down\",\n    'performed_via_github_app': None}},\n  'public': True,\n  'created_at': '2020-07-24T09:13:31Z',\n  'org': {'id': 1200269,\n   'login': 'ropensci',\n   'gravatar_id': '',\n   'url': 'https://api.github.com/orgs/ropensci',\n   'avatar_url': 'https://avatars.githubusercontent.com/u/1200269?'}},\n {'id': '13004576896',\n  'type': 'CreateEvent',\n  'actor': {'id': 47148648,\n   'login': 'svc-software-factory',\n   'display_login': 'svc-software-factory',\n   'gravatar_id': '',\n   'url': 'https://api.github.com/users/svc-software-factory',\n   'avatar_url': 'https://avatars.githubusercontent.com/u/47148648?'},\n  'repo': {'id': 197735642,\n   'name': 'adeo-gitlab/sync-github-gitlab-19',\n   'url': 'https://api.github.com/repos/adeo-gitlab/sync-github-gitlab-19'},\n  'payload': {'ref': '2020-07-24_09-13-04_448_scenario1',\n   'ref_type': 'branch',\n   'master_branch': 'master',\n   'description': None,\n   'pusher_type': 'user'},\n  'public': True,\n  'created_at': '2020-07-24T09:13:31Z',\n  'org': {'id': 52697831,\n   'login': 'adeo-gitlab',\n   'gravatar_id': '',\n   'url': 'https://api.github.com/orgs/adeo-gitlab',\n   'avatar_url': 'https://avatars.githubusercontent.com/u/52697831?'}},\n {'id': '13004576885',\n  'type': 'CreateEvent',\n  'actor': {'id': 40355475,\n   'login': 'iadriaens',\n   'display_login': 'iadriaens',\n   'gravatar_id': '',\n   'url': 'https://api.github.com/users/iadriaens',\n   'avatar_url': 'https://avatars.githubusercontent.com/u/40355475?'},\n  'repo': {'id': 282174939,\n   'name': 'iadriaens/quantileRegression',\n   'url': 'https://api.github.com/repos/iadriaens/quantileRegression'},\n  'payload': {'ref': 'master',\n   'ref_type': 'branch',\n   'master_branch': 'master',\n   'description': 'Quantile regression for lactation curves',\n   'pusher_type': 'user'},\n  'public': True,\n  'created_at': '2020-07-24T09:13:31Z'},\n {'id': '13004576892',\n  'type': 'DeleteEvent',\n  'actor': {'id': 27856297,\n   'login': 'dependabot-preview[bot]',\n   'display_login': 'dependabot-preview',\n   'gravatar_id': '',\n   'url': 'https://api.github.com/users/dependabot-preview[bot]',\n   'avatar_url': 'https://avatars.githubusercontent.com/u/27856297?'},\n  'repo': {'id': 167894050,\n   'name': 'vogle/sbpayment-java',\n   'url': 'https://api.github.com/repos/vogle/sbpayment-java'},\n  'payload': {'ref': 'dependabot/gradle/com.gradle.build-scan-3.3.4',\n   'ref_type': 'branch',\n   'pusher_type': 'user'},\n  'public': True,\n  'created_at': '2020-07-24T09:13:31Z',\n  'org': {'id': 1239110,\n   'login': 'vogle',\n   'gravatar_id': '',\n   'url': 'https://api.github.com/orgs/vogle',\n   'avatar_url': 'https://avatars.githubusercontent.com/u/1239110?'}},\n {'id': '13004576873',\n  'type': 'PushEvent',\n  'actor': {'id': 61629908,\n   'login': 'Tana1509',\n   'display_login': 'Tana1509',\n   'gravatar_id': '',\n   'url': 'https://api.github.com/users/Tana1509',\n   'avatar_url': 'https://avatars.githubusercontent.com/u/61629908?'},\n  'repo': {'id': 259213099,\n   'name': 'Tana1509/final-project',\n   'url': 'https://api.github.com/repos/Tana1509/final-project'},\n  'payload': {'push_id': 5425396273,\n   'size': 1,\n   'distinct_size': 1,\n   'ref': 'refs/heads/master',\n   'head': 'a5b769095c49fd5a0eb22bf6f500cba2dafc99d7',\n   'before': '8f2c808c6731e1409e49289d618d7893fda4a9fb',\n   'commits': [{'sha': 'a5b769095c49fd5a0eb22bf6f500cba2dafc99d7',\n     'author': {'email': 'tana1509@gmail.com', 'name': 'Tana1509'},\n     'message': 'adaptive',\n     'distinct': True,\n     'url': 'https://api.github.com/repos/Tana1509/final-project/commits/a5b769095c49fd5a0eb22bf6f500cba2dafc99d7'}]},\n  'public': True,\n  'created_at': '2020-07-24T09:13:31Z'},\n {'id': '13004576874',\n  'type': 'PushEvent',\n  'actor': {'id': 6154956,\n   'login': 'garethjohnsdesign',\n   'display_login': 'garethjohnsdesign',\n   'gravatar_id': '',\n   'url': 'https://api.github.com/users/garethjohnsdesign',\n   'avatar_url': 'https://avatars.githubusercontent.com/u/6154956?'},\n  'repo': {'id': 63637868,\n   'name': 'garethjohnsdesign/shaheenbaigcasting.com',\n   'url': 'https://api.github.com/repos/garethjohnsdesign/shaheenbaigcasting.com'},\n  'payload': {'push_id': 5425396269,\n   'size': 1,\n   'distinct_size': 1,\n   'ref': 'refs/heads/beta',\n   'head': '2a87530d67eff1c6077428c2147f62d452d4b538',\n   'before': '377b9c548318ac28b5b4da91f67b04b8745acd58',\n   'commits': [{'sha': '2a87530d67eff1c6077428c2147f62d452d4b538',\n     'author': {'email': 'garethjohns@Gareths-iMac.local',\n      'name': 'Gareth Johns'},\n     'message': 'Initial Commit',\n     'distinct': True,\n     'url': 'https://api.github.com/repos/garethjohnsdesign/shaheenbaigcasting.com/commits/2a87530d67eff1c6077428c2147f62d452d4b538'}]},\n  'public': True,\n  'created_at': '2020-07-24T09:13:31Z'},\n {'id': '13004576882',\n  'type': 'WatchEvent',\n  'actor': {'id': 24415510,\n   'login': 'IacopoMelani',\n   'display_login': 'IacopoMelani',\n   'gravatar_id': '',\n   'url': 'https://api.github.com/users/IacopoMelani',\n   'avatar_url': 'https://avatars.githubusercontent.com/u/24415510?'},\n  'repo': {'id': 47816884,\n   'name': 'ElemeFE/vue-infinite-scroll',\n   'url': 'https://api.github.com/repos/ElemeFE/vue-infinite-scroll'},\n  'payload': {'action': 'started'},\n  'public': True,\n  'created_at': '2020-07-24T09:13:31Z',\n  'org': {'id': 12810740,\n   'login': 'ElemeFE',\n   'gravatar_id': '',\n   'url': 'https://api.github.com/orgs/ElemeFE',\n   'avatar_url': 'https://avatars.githubusercontent.com/u/12810740?'}},\n {'id': '13004576877',\n  'type': 'PushEvent',\n  'actor': {'id': 38549592,\n   'login': 'hknqp',\n   'display_login': 'hknqp',\n   'gravatar_id': '',\n   'url': 'https://api.github.com/users/hknqp',\n   'avatar_url': 'https://avatars.githubusercontent.com/u/38549592?'},\n  'repo': {'id': 130309097,\n   'name': 'hknqp/test',\n   'url': 'https://api.github.com/repos/hknqp/test'},\n  'payload': {'push_id': 5425396277,\n   'size': 1,\n   'distinct_size': 1,\n   'ref': 'refs/heads/master',\n   'head': '42ab8bba32cb4bae3097939a9c5e0a326a169240',\n   'before': 'bd7c0064f3dca740c8674782b6b6d0192da611d6',\n   'commits': [{'sha': '42ab8bba32cb4bae3097939a9c5e0a326a169240',\n     'author': {'email': 'test', 'name': 'test'},\n     'message': 'update log',\n     'distinct': True,\n     'url': 'https://api.github.com/repos/hknqp/test/commits/42ab8bba32cb4bae3097939a9c5e0a326a169240'}]},\n  'public': True,\n  'created_at': '2020-07-24T09:13:31Z'},\n {'id': '13004576866',\n  'type': 'PushEvent',\n  'actor': {'id': 40135093,\n   'login': 'SuryaPatra',\n   'display_login': 'SuryaPatra',\n   'gravatar_id': '',\n   'url': 'https://api.github.com/users/SuryaPatra',\n   'avatar_url': 'https://avatars.githubusercontent.com/u/40135093?'},\n  'repo': {'id': 282174753,\n   'name': 'SuryaPatra/workspace-test2',\n   'url': 'https://api.github.com/repos/SuryaPatra/workspace-test2'},\n  'payload': {'push_id': 5425396268,\n   'size': 1,\n   'distinct_size': 1,\n   'ref': 'refs/heads/master',\n   'head': 'c0bf25f3673e705843d6cc8056c5a62c345a7d99',\n   'before': 'b7e4cdd0b730e869c87825bfcf05c1ae7eb3b256',\n   'commits': [{'sha': 'c0bf25f3673e705843d6cc8056c5a62c345a7d99',\n     'author': {'email': '40135093+SuryaPatra@users.noreply.github.com',\n      'name': 'SuryaPatra'},\n     'message': 'Create remote-backend.tf',\n     'distinct': True,\n     'url': 'https://api.github.com/repos/SuryaPatra/workspace-test2/commits/c0bf25f3673e705843d6cc8056c5a62c345a7d99'}]},\n  'public': True,\n  'created_at': '2020-07-24T09:13:31Z'},\n {'id': '13004576859',\n  'type': 'WatchEvent',\n  'actor': {'id': 44542506,\n   'login': 'ahliweb',\n   'display_login': 'ahliweb',\n   'gravatar_id': '',\n   'url': 'https://api.github.com/users/ahliweb',\n   'avatar_url': 'https://avatars.githubusercontent.com/u/44542506?'},\n  'repo': {'id': 5376939,\n   'name': 'mucill/slimswp',\n   'url': 'https://api.github.com/repos/mucill/slimswp'},\n  'payload': {'action': 'started'},\n  'public': True,\n  'created_at': '2020-07-24T09:13:31Z'},\n {'id': '13004576850',\n  'type': 'CreateEvent',\n  'actor': {'id': 71888,\n   'login': 't-lo',\n   'display_login': 't-lo',\n   'gravatar_id': '',\n   'url': 'https://api.github.com/users/t-lo',\n   'avatar_url': 'https://avatars.githubusercontent.com/u/71888?'},\n  'repo': {'id': 187364676,\n   'name': 'kinvolk/service-mesh-benchmark',\n   'url': 'https://api.github.com/repos/kinvolk/service-mesh-benchmark'},\n  'payload': {'ref': 't-lo/fix-cluster-config',\n   'ref_type': 'branch',\n   'master_branch': 'master',\n   'description': None,\n   'pusher_type': 'user'},\n  'public': True,\n  'created_at': '2020-07-24T09:13:31Z',\n  'org': {'id': 14073052,\n   'login': 'kinvolk',\n   'gravatar_id': '',\n   'url': 'https://api.github.com/orgs/kinvolk',\n   'avatar_url': 'https://avatars.githubusercontent.com/u/14073052?'}},\n {'id': '13004576846',\n  'type': 'PushEvent',\n  'actor': {'id': 33796081,\n   'login': 'dongjb',\n   'display_login': 'dongjb',\n   'gravatar_id': '',\n   'url': 'https://api.github.com/users/dongjb',\n   'avatar_url': 'https://avatars.githubusercontent.com/u/33796081?'},\n  'repo': {'id': 277956524,\n   'name': 'dongjb/blog',\n   'url': 'https://api.github.com/repos/dongjb/blog'},\n  'payload': {'push_id': 5425396251,\n   'size': 1,\n   'distinct_size': 1,\n   'ref': 'refs/heads/master',\n   'head': '83ced929911d85bd52ec93c150768ed9611ce39d',\n   'before': '8d746af068d33be8e054ed9a4bc1c26980bb7bf1',\n   'commits': [{'sha': '83ced929911d85bd52ec93c150768ed9611ce39d',\n     'author': {'email': 'dongjb0502@outlook.com', 'name': 'dongjb'},\n     'message': ':art: 更新图片链接',\n     'distinct': True,\n     'url': 'https://api.github.com/repos/dongjb/blog/commits/83ced929911d85bd52ec93c150768ed9611ce39d'}]},\n  'public': True,\n  'created_at': '2020-07-24T09:13:31Z'},\n {'id': '13004576840',\n  'type': 'IssueCommentEvent',\n  'actor': {'id': 5714066,\n   'login': 'aanm',\n   'display_login': 'aanm',\n   'gravatar_id': '',\n   'url': 'https://api.github.com/users/aanm',\n   'avatar_url': 'https://avatars.githubusercontent.com/u/5714066?'},\n  'repo': {'id': 48109239,\n   'name': 'cilium/cilium',\n   'url': 'https://api.github.com/repos/cilium/cilium'},\n  'payload': {'action': 'created',\n   'issue': {'url': 'https://api.github.com/repos/cilium/cilium/issues/12611',\n    'repository_url': 'https://api.github.com/repos/cilium/cilium',\n    'labels_url': 'https://api.github.com/repos/cilium/cilium/issues/12611/labels{/name}',\n    'comments_url': 'https://api.github.com/repos/cilium/cilium/issues/12611/comments',\n    'events_url': 'https://api.github.com/repos/cilium/cilium/issues/12611/events',\n    'html_url': 'https://github.com/cilium/cilium/pull/12611',\n    'id': 663362960,\n    'node_id': 'MDExOlB1bGxSZXF1ZXN0NDU0NzkxMzk3',\n    'number': 12611,\n    'title': 'add support for k8s 1.19',\n    'user': {'login': 'aanm',\n     'id': 5714066,\n     'node_id': 'MDQ6VXNlcjU3MTQwNjY=',\n     'avatar_url': 'https://avatars0.githubusercontent.com/u/5714066?v=4',\n     'gravatar_id': '',\n     'url': 'https://api.github.com/users/aanm',\n     'html_url': 'https://github.com/aanm',\n     'followers_url': 'https://api.github.com/users/aanm/followers',\n     'following_url': 'https://api.github.com/users/aanm/following{/other_user}',\n     'gists_url': 'https://api.github.com/users/aanm/gists{/gist_id}',\n     'starred_url': 'https://api.github.com/users/aanm/starred{/owner}{/repo}',\n     'subscriptions_url': 'https://api.github.com/users/aanm/subscriptions',\n     'organizations_url': 'https://api.github.com/users/aanm/orgs',\n     'repos_url': 'https://api.github.com/users/aanm/repos',\n     'events_url': 'https://api.github.com/users/aanm/events{/privacy}',\n     'received_events_url': 'https://api.github.com/users/aanm/received_events',\n     'type': 'User',\n     'site_admin': False},\n    'labels': [{'id': 721366651,\n      'node_id': 'MDU6TGFiZWw3MjEzNjY2NTE=',\n      'url': 'https://api.github.com/repos/cilium/cilium/labels/area/k8s',\n      'name': 'area/k8s',\n      'color': '2c3aa0',\n      'default': False,\n      'description': 'Impacts the kubernetes API, or kubernetes -> cilium internals translation layers.'},\n     {'id': 732922458,\n      'node_id': 'MDU6TGFiZWw3MzI5MjI0NTg=',\n      'url': 'https://api.github.com/repos/cilium/cilium/labels/release-note/major',\n      'name': 'release-note/major',\n      'color': 'c2e0c6',\n      'default': False,\n      'description': 'This PR introduces major new functionality to Cilium.'}],\n    'state': 'open',\n    'locked': False,\n    'assignee': None,\n    'assignees': [],\n    'milestone': None,\n    'comments': 12,\n    'created_at': '2020-07-21T23:09:02Z',\n    'updated_at': '2020-07-24T09:13:31Z',\n    'closed_at': None,\n    'author_association': 'MEMBER',\n    'active_lock_reason': None,\n    'pull_request': {'url': 'https://api.github.com/repos/cilium/cilium/pulls/12611',\n     'html_url': 'https://github.com/cilium/cilium/pull/12611',\n     'diff_url': 'https://github.com/cilium/cilium/pull/12611.diff',\n     'patch_url': 'https://github.com/cilium/cilium/pull/12611.patch'},\n    'body': '- bump all dependencies of k8s 1.19 to rc.2\\r\\n- test against k8s 1.19 by default on all PRs\\r\\n- remove k8s 1.11 from the CI\\r\\n- bump min supported k8s version to 1.12\\r\\n- sync slim k8s structures with the v1.19.0-rc.2\\r\\n- bump k8s dev version to v1.19.0-rc.2\\r\\n\\r\\nSigned-off-by: André Martins <andre@cilium.io>',\n    'performed_via_github_app': None},\n   'comment': {'url': 'https://api.github.com/repos/cilium/cilium/issues/comments/663436512',\n    'html_url': 'https://github.com/cilium/cilium/pull/12611#issuecomment-663436512',\n    'issue_url': 'https://api.github.com/repos/cilium/cilium/issues/12611',\n    'id': 663436512,\n    'node_id': 'MDEyOklzc3VlQ29tbWVudDY2MzQzNjUxMg==',\n    'user': {'login': 'aanm',\n     'id': 5714066,\n     'node_id': 'MDQ6VXNlcjU3MTQwNjY=',\n     'avatar_url': 'https://avatars0.githubusercontent.com/u/5714066?v=4',\n     'gravatar_id': '',\n     'url': 'https://api.github.com/users/aanm',\n     'html_url': 'https://github.com/aanm',\n     'followers_url': 'https://api.github.com/users/aanm/followers',\n     'following_url': 'https://api.github.com/users/aanm/following{/other_user}',\n     'gists_url': 'https://api.github.com/users/aanm/gists{/gist_id}',\n     'starred_url': 'https://api.github.com/users/aanm/starred{/owner}{/repo}',\n     'subscriptions_url': 'https://api.github.com/users/aanm/subscriptions',\n     'organizations_url': 'https://api.github.com/users/aanm/orgs',\n     'repos_url': 'https://api.github.com/users/aanm/repos',\n     'events_url': 'https://api.github.com/users/aanm/events{/privacy}',\n     'received_events_url': 'https://api.github.com/users/aanm/received_events',\n     'type': 'User',\n     'site_admin': False},\n    'created_at': '2020-07-24T09:13:31Z',\n    'updated_at': '2020-07-24T09:13:31Z',\n    'author_association': 'MEMBER',\n    'body': 'test-only --k8s_version=1.19',\n    'performed_via_github_app': None}},\n  'public': True,\n  'created_at': '2020-07-24T09:13:31Z',\n  'org': {'id': 21054566,\n   'login': 'cilium',\n   'gravatar_id': '',\n   'url': 'https://api.github.com/orgs/cilium',\n   'avatar_url': 'https://avatars.githubusercontent.com/u/21054566?'}}]"
     },
     "metadata": {},
     "execution_count": 24
    }
   ],
   "source": [
    "r = httpx.get('https://api.github.com/events')\n",
    "r.json()"
   ]
  },
  {
   "cell_type": "markdown",
   "metadata": {},
   "source": [
    "返回 JSON 响应内容\n",
    "\n",
    "通常，Web API 响应将被编码为 JSON。"
   ]
  },
  {
   "cell_type": "code",
   "execution_count": 26,
   "metadata": {},
   "outputs": [
    {
     "output_type": "execute_result",
     "data": {
      "text/plain": "'{\\n  \"headers\": {\\n    \"Accept\": \"*/*\", \\n    \"Accept-Encoding\": \"gzip, deflate\", \\n    \"Host\": \"httpbin.org\", \\n    \"User-Agent\": \"my-app/0.0.1\", \\n    \"X-Amzn-Trace-Id\": \"Root=1-5f1aa7a3-ac6c7fa9f28593b9c8f0a083\"\\n  }\\n}\\n'"
     },
     "metadata": {},
     "execution_count": 26
    }
   ],
   "source": [
    "url ='http://httpbin.org/headers'\n",
    "headers ={'user-agent':'my-app/0.0.1'}\n",
    "r = httpx.get(url, headers=headers)\n",
    "r.text"
   ]
  },
  {
   "cell_type": "markdown",
   "metadata": {},
   "source": [
    "发送表单数据\n",
    "\n",
    "某些类型的HTTP请求（例如 POST和 PUT请求）可以在请求正文中包含数据。一种常见的添加方式是作为表单编码数据，用于HTML表单。"
   ]
  },
  {
   "cell_type": "code",
   "execution_count": 27,
   "metadata": {},
   "outputs": [
    {
     "output_type": "execute_result",
     "data": {
      "text/plain": "<Response [200 OK]>"
     },
     "metadata": {},
     "execution_count": 27
    }
   ],
   "source": [
    "data ={'key1':'value1','key2':'value2'}\n",
    "r = httpx.post(\"https://httpbin.org/post\", data=data)\n",
    "r"
   ]
  },
  {
   "cell_type": "markdown",
   "metadata": {},
   "source": [
    "响应状态码"
   ]
  },
  {
   "cell_type": "code",
   "execution_count": 29,
   "metadata": {},
   "outputs": [
    {
     "output_type": "execute_result",
     "data": {
      "text/plain": "200"
     },
     "metadata": {},
     "execution_count": 29
    }
   ],
   "source": [
    "r = httpx.get('https://httpbin.org/get')\n",
    "r.status_code"
   ]
  },
  {
   "cell_type": "markdown",
   "metadata": {},
   "source": [
    "表单编码的数据还可以包括给定键的多个值。"
   ]
  },
  {
   "cell_type": "code",
   "execution_count": null,
   "metadata": {},
   "outputs": [],
   "source": [
    "r.status_code == httpx.codes.OK"
   ]
  },
  {
   "cell_type": "code",
   "execution_count": 28,
   "metadata": {},
   "outputs": [
    {
     "output_type": "execute_result",
     "data": {
      "text/plain": "'{\\n  \"args\": {}, \\n  \"data\": \"\", \\n  \"files\": {}, \\n  \"form\": {\\n    \"key1\": [\\n      \"value1\", \\n      \"value2\"\\n    ]\\n  }, \\n  \"headers\": {\\n    \"Accept\": \"*/*\", \\n    \"Accept-Encoding\": \"gzip, deflate\", \\n    \"Content-Length\": \"23\", \\n    \"Content-Type\": \"application/x-www-form-urlencoded\", \\n    \"Host\": \"httpbin.org\", \\n    \"User-Agent\": \"python-httpx/0.13.3\", \\n    \"X-Amzn-Trace-Id\": \"Root=1-5f1aa7f4-2087bdb88b85c8e440ca94e0\"\\n  }, \\n  \"json\": null, \\n  \"origin\": \"124.113.205.233\", \\n  \"url\": \"https://httpbin.org/post\"\\n}\\n'"
     },
     "metadata": {},
     "execution_count": 28
    }
   ],
   "source": [
    "data ={'key1':['value1','value2']}\n",
    "r = httpx.post(\"https://httpbin.org/post\", data=data)\n",
    "r.text"
   ]
  },
  {
   "cell_type": "markdown",
   "metadata": {},
   "source": [
    "HTTPX还包括一个简单的快捷方式，用于通过其文本短语访问状态代码"
   ]
  },
  {
   "cell_type": "code",
   "execution_count": 30,
   "metadata": {},
   "outputs": [
    {
     "output_type": "execute_result",
     "data": {
      "text/plain": "True"
     },
     "metadata": {},
     "execution_count": 30
    }
   ],
   "source": [
    "r.status_code == httpx.codes.OK"
   ]
  },
  {
   "cell_type": "code",
   "execution_count": 42,
   "metadata": {},
   "outputs": [
    {
     "output_type": "error",
     "ename": "ConnectTimeout",
     "evalue": "timed out",
     "traceback": [
      "\u001b[0;31m---------------------------------------------------------------------------\u001b[0m",
      "\u001b[0;31mConnectTimeout\u001b[0m                            Traceback (most recent call last)",
      "\u001b[0;32m<ipython-input-42-cbd114e8373e>\u001b[0m in \u001b[0;36m<module>\u001b[0;34m\u001b[0m\n\u001b[0;32m----> 1\u001b[0;31m \u001b[0mhttpx\u001b[0m\u001b[0;34m.\u001b[0m\u001b[0mget\u001b[0m\u001b[0;34m(\u001b[0m\u001b[0;34m'https://github.com/'\u001b[0m\u001b[0;34m,\u001b[0m \u001b[0mtimeout\u001b[0m\u001b[0;34m=\u001b[0m\u001b[0;36m0.001\u001b[0m\u001b[0;34m)\u001b[0m\u001b[0;34m\u001b[0m\u001b[0;34m\u001b[0m\u001b[0m\n\u001b[0m",
      "\u001b[0;32m/usr/local/lib/python3.7/site-packages/httpx/_api.py\u001b[0m in \u001b[0;36mget\u001b[0;34m(url, params, headers, cookies, auth, allow_redirects, cert, verify, timeout, trust_env)\u001b[0m\n\u001b[1;32m    168\u001b[0m         \u001b[0mverify\u001b[0m\u001b[0;34m=\u001b[0m\u001b[0mverify\u001b[0m\u001b[0;34m,\u001b[0m\u001b[0;34m\u001b[0m\u001b[0;34m\u001b[0m\u001b[0m\n\u001b[1;32m    169\u001b[0m         \u001b[0mtimeout\u001b[0m\u001b[0;34m=\u001b[0m\u001b[0mtimeout\u001b[0m\u001b[0;34m,\u001b[0m\u001b[0;34m\u001b[0m\u001b[0;34m\u001b[0m\u001b[0m\n\u001b[0;32m--> 170\u001b[0;31m         \u001b[0mtrust_env\u001b[0m\u001b[0;34m=\u001b[0m\u001b[0mtrust_env\u001b[0m\u001b[0;34m,\u001b[0m\u001b[0;34m\u001b[0m\u001b[0;34m\u001b[0m\u001b[0m\n\u001b[0m\u001b[1;32m    171\u001b[0m     )\n\u001b[1;32m    172\u001b[0m \u001b[0;34m\u001b[0m\u001b[0m\n",
      "\u001b[0;32m/usr/local/lib/python3.7/site-packages/httpx/_api.py\u001b[0m in \u001b[0;36mrequest\u001b[0;34m(method, url, params, data, files, json, headers, cookies, auth, timeout, allow_redirects, verify, cert, trust_env)\u001b[0m\n\u001b[1;32m     94\u001b[0m             \u001b[0mcookies\u001b[0m\u001b[0;34m=\u001b[0m\u001b[0mcookies\u001b[0m\u001b[0;34m,\u001b[0m\u001b[0;34m\u001b[0m\u001b[0;34m\u001b[0m\u001b[0m\n\u001b[1;32m     95\u001b[0m             \u001b[0mauth\u001b[0m\u001b[0;34m=\u001b[0m\u001b[0mauth\u001b[0m\u001b[0;34m,\u001b[0m\u001b[0;34m\u001b[0m\u001b[0;34m\u001b[0m\u001b[0m\n\u001b[0;32m---> 96\u001b[0;31m             \u001b[0mallow_redirects\u001b[0m\u001b[0;34m=\u001b[0m\u001b[0mallow_redirects\u001b[0m\u001b[0;34m,\u001b[0m\u001b[0;34m\u001b[0m\u001b[0;34m\u001b[0m\u001b[0m\n\u001b[0m\u001b[1;32m     97\u001b[0m         )\n\u001b[1;32m     98\u001b[0m \u001b[0;34m\u001b[0m\u001b[0m\n",
      "\u001b[0;32m/usr/local/lib/python3.7/site-packages/httpx/_client.py\u001b[0m in \u001b[0;36mrequest\u001b[0;34m(self, method, url, data, files, json, params, headers, cookies, auth, allow_redirects, timeout)\u001b[0m\n\u001b[1;32m    599\u001b[0m         )\n\u001b[1;32m    600\u001b[0m         return self.send(\n\u001b[0;32m--> 601\u001b[0;31m             \u001b[0mrequest\u001b[0m\u001b[0;34m,\u001b[0m \u001b[0mauth\u001b[0m\u001b[0;34m=\u001b[0m\u001b[0mauth\u001b[0m\u001b[0;34m,\u001b[0m \u001b[0mallow_redirects\u001b[0m\u001b[0;34m=\u001b[0m\u001b[0mallow_redirects\u001b[0m\u001b[0;34m,\u001b[0m \u001b[0mtimeout\u001b[0m\u001b[0;34m=\u001b[0m\u001b[0mtimeout\u001b[0m\u001b[0;34m,\u001b[0m\u001b[0;34m\u001b[0m\u001b[0;34m\u001b[0m\u001b[0m\n\u001b[0m\u001b[1;32m    602\u001b[0m         )\n\u001b[1;32m    603\u001b[0m \u001b[0;34m\u001b[0m\u001b[0m\n",
      "\u001b[0;32m/usr/local/lib/python3.7/site-packages/httpx/_client.py\u001b[0m in \u001b[0;36msend\u001b[0;34m(self, request, stream, auth, allow_redirects, timeout)\u001b[0m\n\u001b[1;32m    619\u001b[0m \u001b[0;34m\u001b[0m\u001b[0m\n\u001b[1;32m    620\u001b[0m         response = self.send_handling_redirects(\n\u001b[0;32m--> 621\u001b[0;31m             \u001b[0mrequest\u001b[0m\u001b[0;34m,\u001b[0m \u001b[0mauth\u001b[0m\u001b[0;34m=\u001b[0m\u001b[0mauth\u001b[0m\u001b[0;34m,\u001b[0m \u001b[0mtimeout\u001b[0m\u001b[0;34m=\u001b[0m\u001b[0mtimeout\u001b[0m\u001b[0;34m,\u001b[0m \u001b[0mallow_redirects\u001b[0m\u001b[0;34m=\u001b[0m\u001b[0mallow_redirects\u001b[0m\u001b[0;34m,\u001b[0m\u001b[0;34m\u001b[0m\u001b[0;34m\u001b[0m\u001b[0m\n\u001b[0m\u001b[1;32m    622\u001b[0m         )\n\u001b[1;32m    623\u001b[0m \u001b[0;34m\u001b[0m\u001b[0m\n",
      "\u001b[0;32m/usr/local/lib/python3.7/site-packages/httpx/_client.py\u001b[0m in \u001b[0;36msend_handling_redirects\u001b[0;34m(self, request, auth, timeout, allow_redirects, history)\u001b[0m\n\u001b[1;32m    646\u001b[0m \u001b[0;34m\u001b[0m\u001b[0m\n\u001b[1;32m    647\u001b[0m             response = self.send_handling_auth(\n\u001b[0;32m--> 648\u001b[0;31m                 \u001b[0mrequest\u001b[0m\u001b[0;34m,\u001b[0m \u001b[0mauth\u001b[0m\u001b[0;34m=\u001b[0m\u001b[0mauth\u001b[0m\u001b[0;34m,\u001b[0m \u001b[0mtimeout\u001b[0m\u001b[0;34m=\u001b[0m\u001b[0mtimeout\u001b[0m\u001b[0;34m,\u001b[0m \u001b[0mhistory\u001b[0m\u001b[0;34m=\u001b[0m\u001b[0mhistory\u001b[0m\u001b[0;34m\u001b[0m\u001b[0;34m\u001b[0m\u001b[0m\n\u001b[0m\u001b[1;32m    649\u001b[0m             )\n\u001b[1;32m    650\u001b[0m             \u001b[0mresponse\u001b[0m\u001b[0;34m.\u001b[0m\u001b[0mhistory\u001b[0m \u001b[0;34m=\u001b[0m \u001b[0mlist\u001b[0m\u001b[0;34m(\u001b[0m\u001b[0mhistory\u001b[0m\u001b[0;34m)\u001b[0m\u001b[0;34m\u001b[0m\u001b[0;34m\u001b[0m\u001b[0m\n",
      "\u001b[0;32m/usr/local/lib/python3.7/site-packages/httpx/_client.py\u001b[0m in \u001b[0;36msend_handling_auth\u001b[0;34m(self, request, history, auth, timeout)\u001b[0m\n\u001b[1;32m    682\u001b[0m         \u001b[0mrequest\u001b[0m \u001b[0;34m=\u001b[0m \u001b[0mnext\u001b[0m\u001b[0;34m(\u001b[0m\u001b[0mauth_flow\u001b[0m\u001b[0;34m)\u001b[0m\u001b[0;34m\u001b[0m\u001b[0;34m\u001b[0m\u001b[0m\n\u001b[1;32m    683\u001b[0m         \u001b[0;32mwhile\u001b[0m \u001b[0;32mTrue\u001b[0m\u001b[0;34m:\u001b[0m\u001b[0;34m\u001b[0m\u001b[0;34m\u001b[0m\u001b[0m\n\u001b[0;32m--> 684\u001b[0;31m             \u001b[0mresponse\u001b[0m \u001b[0;34m=\u001b[0m \u001b[0mself\u001b[0m\u001b[0;34m.\u001b[0m\u001b[0msend_single_request\u001b[0m\u001b[0;34m(\u001b[0m\u001b[0mrequest\u001b[0m\u001b[0;34m,\u001b[0m \u001b[0mtimeout\u001b[0m\u001b[0;34m)\u001b[0m\u001b[0;34m\u001b[0m\u001b[0;34m\u001b[0m\u001b[0m\n\u001b[0m\u001b[1;32m    685\u001b[0m             \u001b[0;32mif\u001b[0m \u001b[0mauth\u001b[0m\u001b[0;34m.\u001b[0m\u001b[0mrequires_response_body\u001b[0m\u001b[0;34m:\u001b[0m\u001b[0;34m\u001b[0m\u001b[0;34m\u001b[0m\u001b[0m\n\u001b[1;32m    686\u001b[0m                 \u001b[0mresponse\u001b[0m\u001b[0;34m.\u001b[0m\u001b[0mread\u001b[0m\u001b[0;34m(\u001b[0m\u001b[0;34m)\u001b[0m\u001b[0;34m\u001b[0m\u001b[0;34m\u001b[0m\u001b[0m\n",
      "\u001b[0;32m/usr/local/lib/python3.7/site-packages/httpx/_client.py\u001b[0m in \u001b[0;36msend_single_request\u001b[0;34m(self, request, timeout)\u001b[0m\n\u001b[1;32m    717\u001b[0m                 \u001b[0mheaders\u001b[0m\u001b[0;34m=\u001b[0m\u001b[0mrequest\u001b[0m\u001b[0;34m.\u001b[0m\u001b[0mheaders\u001b[0m\u001b[0;34m.\u001b[0m\u001b[0mraw\u001b[0m\u001b[0;34m,\u001b[0m\u001b[0;34m\u001b[0m\u001b[0;34m\u001b[0m\u001b[0m\n\u001b[1;32m    718\u001b[0m                 \u001b[0mstream\u001b[0m\u001b[0;34m=\u001b[0m\u001b[0mrequest\u001b[0m\u001b[0;34m.\u001b[0m\u001b[0mstream\u001b[0m\u001b[0;34m,\u001b[0m\u001b[0;34m\u001b[0m\u001b[0;34m\u001b[0m\u001b[0m\n\u001b[0;32m--> 719\u001b[0;31m                 \u001b[0mtimeout\u001b[0m\u001b[0;34m=\u001b[0m\u001b[0mtimeout\u001b[0m\u001b[0;34m.\u001b[0m\u001b[0mas_dict\u001b[0m\u001b[0;34m(\u001b[0m\u001b[0;34m)\u001b[0m\u001b[0;34m,\u001b[0m\u001b[0;34m\u001b[0m\u001b[0;34m\u001b[0m\u001b[0m\n\u001b[0m\u001b[1;32m    720\u001b[0m             )\n\u001b[1;32m    721\u001b[0m         \u001b[0;32mexcept\u001b[0m \u001b[0mHTTPError\u001b[0m \u001b[0;32mas\u001b[0m \u001b[0mexc\u001b[0m\u001b[0;34m:\u001b[0m\u001b[0;34m\u001b[0m\u001b[0;34m\u001b[0m\u001b[0m\n",
      "\u001b[0;32m/usr/local/lib/python3.7/site-packages/httpcore/_sync/connection_pool.py\u001b[0m in \u001b[0;36mrequest\u001b[0;34m(self, method, url, headers, stream, timeout)\u001b[0m\n\u001b[1;32m    151\u001b[0m             \u001b[0;32mtry\u001b[0m\u001b[0;34m:\u001b[0m\u001b[0;34m\u001b[0m\u001b[0;34m\u001b[0m\u001b[0m\n\u001b[1;32m    152\u001b[0m                 response = connection.request(\n\u001b[0;32m--> 153\u001b[0;31m                     \u001b[0mmethod\u001b[0m\u001b[0;34m,\u001b[0m \u001b[0murl\u001b[0m\u001b[0;34m,\u001b[0m \u001b[0mheaders\u001b[0m\u001b[0;34m=\u001b[0m\u001b[0mheaders\u001b[0m\u001b[0;34m,\u001b[0m \u001b[0mstream\u001b[0m\u001b[0;34m=\u001b[0m\u001b[0mstream\u001b[0m\u001b[0;34m,\u001b[0m \u001b[0mtimeout\u001b[0m\u001b[0;34m=\u001b[0m\u001b[0mtimeout\u001b[0m\u001b[0;34m\u001b[0m\u001b[0;34m\u001b[0m\u001b[0m\n\u001b[0m\u001b[1;32m    154\u001b[0m                 )\n\u001b[1;32m    155\u001b[0m             \u001b[0;32mexcept\u001b[0m \u001b[0mNewConnectionRequired\u001b[0m\u001b[0;34m:\u001b[0m\u001b[0;34m\u001b[0m\u001b[0;34m\u001b[0m\u001b[0m\n",
      "\u001b[0;32m/usr/local/lib/python3.7/site-packages/httpcore/_sync/connection.py\u001b[0m in \u001b[0;36mrequest\u001b[0;34m(self, method, url, headers, stream, timeout)\u001b[0m\n\u001b[1;32m     63\u001b[0m                         \u001b[0;34m\"open_socket origin=%r timeout=%r\"\u001b[0m\u001b[0;34m,\u001b[0m \u001b[0mself\u001b[0m\u001b[0;34m.\u001b[0m\u001b[0morigin\u001b[0m\u001b[0;34m,\u001b[0m \u001b[0mtimeout\u001b[0m\u001b[0;34m\u001b[0m\u001b[0;34m\u001b[0m\u001b[0m\n\u001b[1;32m     64\u001b[0m                     )\n\u001b[0;32m---> 65\u001b[0;31m                     \u001b[0mself\u001b[0m\u001b[0;34m.\u001b[0m\u001b[0msocket\u001b[0m \u001b[0;34m=\u001b[0m \u001b[0mself\u001b[0m\u001b[0;34m.\u001b[0m\u001b[0m_open_socket\u001b[0m\u001b[0;34m(\u001b[0m\u001b[0mtimeout\u001b[0m\u001b[0;34m)\u001b[0m\u001b[0;34m\u001b[0m\u001b[0;34m\u001b[0m\u001b[0m\n\u001b[0m\u001b[1;32m     66\u001b[0m                 \u001b[0mself\u001b[0m\u001b[0;34m.\u001b[0m\u001b[0m_create_connection\u001b[0m\u001b[0;34m(\u001b[0m\u001b[0mself\u001b[0m\u001b[0;34m.\u001b[0m\u001b[0msocket\u001b[0m\u001b[0;34m)\u001b[0m\u001b[0;34m\u001b[0m\u001b[0;34m\u001b[0m\u001b[0m\n\u001b[1;32m     67\u001b[0m             \u001b[0;32melif\u001b[0m \u001b[0mself\u001b[0m\u001b[0;34m.\u001b[0m\u001b[0mstate\u001b[0m \u001b[0;32min\u001b[0m \u001b[0;34m(\u001b[0m\u001b[0mConnectionState\u001b[0m\u001b[0;34m.\u001b[0m\u001b[0mREADY\u001b[0m\u001b[0;34m,\u001b[0m \u001b[0mConnectionState\u001b[0m\u001b[0;34m.\u001b[0m\u001b[0mIDLE\u001b[0m\u001b[0;34m)\u001b[0m\u001b[0;34m:\u001b[0m\u001b[0;34m\u001b[0m\u001b[0;34m\u001b[0m\u001b[0m\n",
      "\u001b[0;32m/usr/local/lib/python3.7/site-packages/httpcore/_sync/connection.py\u001b[0m in \u001b[0;36m_open_socket\u001b[0;34m(self, timeout)\u001b[0m\n\u001b[1;32m     84\u001b[0m         \u001b[0;32mtry\u001b[0m\u001b[0;34m:\u001b[0m\u001b[0;34m\u001b[0m\u001b[0;34m\u001b[0m\u001b[0m\n\u001b[1;32m     85\u001b[0m             return self.backend.open_tcp_stream(\n\u001b[0;32m---> 86\u001b[0;31m                 \u001b[0mhostname\u001b[0m\u001b[0;34m,\u001b[0m \u001b[0mport\u001b[0m\u001b[0;34m,\u001b[0m \u001b[0mssl_context\u001b[0m\u001b[0;34m,\u001b[0m \u001b[0mtimeout\u001b[0m\u001b[0;34m\u001b[0m\u001b[0;34m\u001b[0m\u001b[0m\n\u001b[0m\u001b[1;32m     87\u001b[0m             )\n\u001b[1;32m     88\u001b[0m         \u001b[0;32mexcept\u001b[0m \u001b[0mException\u001b[0m\u001b[0;34m:\u001b[0m\u001b[0;34m\u001b[0m\u001b[0;34m\u001b[0m\u001b[0m\n",
      "\u001b[0;32m/usr/local/lib/python3.7/site-packages/httpcore/_backends/sync.py\u001b[0m in \u001b[0;36mopen_tcp_stream\u001b[0;34m(self, hostname, port, ssl_context, timeout)\u001b[0m\n\u001b[1;32m    137\u001b[0m                     \u001b[0msock\u001b[0m\u001b[0;34m,\u001b[0m \u001b[0mserver_hostname\u001b[0m\u001b[0;34m=\u001b[0m\u001b[0mhostname\u001b[0m\u001b[0;34m.\u001b[0m\u001b[0mdecode\u001b[0m\u001b[0;34m(\u001b[0m\u001b[0;34m\"ascii\"\u001b[0m\u001b[0;34m)\u001b[0m\u001b[0;34m\u001b[0m\u001b[0;34m\u001b[0m\u001b[0m\n\u001b[1;32m    138\u001b[0m                 )\n\u001b[0;32m--> 139\u001b[0;31m             \u001b[0;32mreturn\u001b[0m \u001b[0mSyncSocketStream\u001b[0m\u001b[0;34m(\u001b[0m\u001b[0msock\u001b[0m\u001b[0;34m=\u001b[0m\u001b[0msock\u001b[0m\u001b[0;34m)\u001b[0m\u001b[0;34m\u001b[0m\u001b[0;34m\u001b[0m\u001b[0m\n\u001b[0m\u001b[1;32m    140\u001b[0m \u001b[0;34m\u001b[0m\u001b[0m\n\u001b[1;32m    141\u001b[0m     \u001b[0;32mdef\u001b[0m \u001b[0mcreate_lock\u001b[0m\u001b[0;34m(\u001b[0m\u001b[0mself\u001b[0m\u001b[0;34m)\u001b[0m \u001b[0;34m->\u001b[0m \u001b[0mSyncLock\u001b[0m\u001b[0;34m:\u001b[0m\u001b[0;34m\u001b[0m\u001b[0;34m\u001b[0m\u001b[0m\n",
      "\u001b[0;32m/usr/local/Cellar/python/3.7.6_1/Frameworks/Python.framework/Versions/3.7/lib/python3.7/contextlib.py\u001b[0m in \u001b[0;36m__exit__\u001b[0;34m(self, type, value, traceback)\u001b[0m\n\u001b[1;32m    128\u001b[0m                 \u001b[0mvalue\u001b[0m \u001b[0;34m=\u001b[0m \u001b[0mtype\u001b[0m\u001b[0;34m(\u001b[0m\u001b[0;34m)\u001b[0m\u001b[0;34m\u001b[0m\u001b[0;34m\u001b[0m\u001b[0m\n\u001b[1;32m    129\u001b[0m             \u001b[0;32mtry\u001b[0m\u001b[0;34m:\u001b[0m\u001b[0;34m\u001b[0m\u001b[0;34m\u001b[0m\u001b[0m\n\u001b[0;32m--> 130\u001b[0;31m                 \u001b[0mself\u001b[0m\u001b[0;34m.\u001b[0m\u001b[0mgen\u001b[0m\u001b[0;34m.\u001b[0m\u001b[0mthrow\u001b[0m\u001b[0;34m(\u001b[0m\u001b[0mtype\u001b[0m\u001b[0;34m,\u001b[0m \u001b[0mvalue\u001b[0m\u001b[0;34m,\u001b[0m \u001b[0mtraceback\u001b[0m\u001b[0;34m)\u001b[0m\u001b[0;34m\u001b[0m\u001b[0;34m\u001b[0m\u001b[0m\n\u001b[0m\u001b[1;32m    131\u001b[0m             \u001b[0;32mexcept\u001b[0m \u001b[0mStopIteration\u001b[0m \u001b[0;32mas\u001b[0m \u001b[0mexc\u001b[0m\u001b[0;34m:\u001b[0m\u001b[0;34m\u001b[0m\u001b[0;34m\u001b[0m\u001b[0m\n\u001b[1;32m    132\u001b[0m                 \u001b[0;31m# Suppress StopIteration *unless* it's the same exception that\u001b[0m\u001b[0;34m\u001b[0m\u001b[0;34m\u001b[0m\u001b[0;34m\u001b[0m\u001b[0m\n",
      "\u001b[0;32m/usr/local/lib/python3.7/site-packages/httpcore/_exceptions.py\u001b[0m in \u001b[0;36mmap_exceptions\u001b[0;34m(map)\u001b[0m\n\u001b[1;32m     10\u001b[0m         \u001b[0;32mfor\u001b[0m \u001b[0mfrom_exc\u001b[0m\u001b[0;34m,\u001b[0m \u001b[0mto_exc\u001b[0m \u001b[0;32min\u001b[0m \u001b[0mmap\u001b[0m\u001b[0;34m.\u001b[0m\u001b[0mitems\u001b[0m\u001b[0;34m(\u001b[0m\u001b[0;34m)\u001b[0m\u001b[0;34m:\u001b[0m\u001b[0;34m\u001b[0m\u001b[0;34m\u001b[0m\u001b[0m\n\u001b[1;32m     11\u001b[0m             \u001b[0;32mif\u001b[0m \u001b[0misinstance\u001b[0m\u001b[0;34m(\u001b[0m\u001b[0mexc\u001b[0m\u001b[0;34m,\u001b[0m \u001b[0mfrom_exc\u001b[0m\u001b[0;34m)\u001b[0m\u001b[0;34m:\u001b[0m\u001b[0;34m\u001b[0m\u001b[0;34m\u001b[0m\u001b[0m\n\u001b[0;32m---> 12\u001b[0;31m                 \u001b[0;32mraise\u001b[0m \u001b[0mto_exc\u001b[0m\u001b[0;34m(\u001b[0m\u001b[0mexc\u001b[0m\u001b[0;34m)\u001b[0m \u001b[0;32mfrom\u001b[0m \u001b[0;32mNone\u001b[0m\u001b[0;34m\u001b[0m\u001b[0;34m\u001b[0m\u001b[0m\n\u001b[0m\u001b[1;32m     13\u001b[0m         \u001b[0;32mraise\u001b[0m\u001b[0;34m\u001b[0m\u001b[0;34m\u001b[0m\u001b[0m\n\u001b[1;32m     14\u001b[0m \u001b[0;34m\u001b[0m\u001b[0m\n",
      "\u001b[0;31mConnectTimeout\u001b[0m: timed out"
     ]
    }
   ],
   "source": [
    "httpx.get('https://github.com/', timeout=0.001)"
   ]
  },
  {
   "cell_type": "code",
   "execution_count": 54,
   "metadata": {},
   "outputs": [
    {
     "output_type": "execute_result",
     "data": {
      "text/plain": "pId\":\"launch-vd_bullet_second-2\",\"expPrefix\":\"vd_bullet_second\",\"isDynamicallyUpdated\":true,\"isRuntime\":false,\"includeTriggerInfo\":false},{\"expId\":\"launch-vd_profile_video-11\",\"expPrefix\":\"vd_profile_video\",\"isDynamicallyUpdated\":true,\"isRuntime\":false,\"includeTriggerInfo\":false},{\"expId\":\"launch-vd_timeguide-2\",\"expPrefix\":\"vd_timeguide\",\"isDynamicallyUpdated\":true,\"isRuntime\":false,\"includeTriggerInfo\":false},{\"expId\":\"launch-vd_video_replay-3\",\"expPrefix\":\"vd_video_replay\",\"isDynamicallyUpdated\":true,\"isRuntime\":false,\"includeTriggerInfo\":false},{\"expId\":\"launch-vd_zvideo_link-10\",\"expPrefix\":\"vd_zvideo_link\",\"isDynamicallyUpdated\":true,\"isRuntime\":false,\"includeTriggerInfo\":false},{\"expId\":\"se_description-2\",\"expPrefix\":\"se_description\",\"isDynamicallyUpdated\":true,\"isRuntime\":false,\"includeTriggerInfo\":false}],\"params\":[{\"id\":\"li_paid_answer_exp\",\"type\":\"String\",\"value\":\"0\",\"chainId\":\"_all_\"},{\"id\":\"gue_art_sani\",\"type\":\"String\",\"value\":\"0\"},{\"id\":\"se_colorfultab\",\"type\":\"String\",\"value\":\"1\",\"chainId\":\"_all_\"},{\"id\":\"ls_videoad\",\"type\":\"String\",\"value\":\"2\",\"chainId\":\"_all_\"},{\"id\":\"se_mobilecard\",\"type\":\"String\",\"value\":\"0\",\"chainId\":\"_all_\"},{\"id\":\"se_v_drop\",\"type\":\"String\",\"value\":\"0\",\"chainId\":\"_all_\"},{\"id\":\"tp_sft\",\"type\":\"String\",\"value\":\"a\",\"chainId\":\"_all_\"},{\"id\":\"tsp_ad_cardredesign\",\"type\":\"String\",\"value\":\"0\",\"chainId\":\"_all_\"},{\"id\":\"li_vip_verti_search\",\"type\":\"String\",\"value\":\"0\",\"chainId\":\"_all_\"},{\"id\":\"gue_q_intercept\",\"type\":\"String\",\"value\":\"0\"},{\"id\":\"zr_search_sim2\",\"type\":\"String\",\"value\":\"2\",\"chainId\":\"_all_\"},{\"id\":\"ls_video_commercial\",\"type\":\"String\",\"value\":\"0\",\"chainId\":\"_all_\"},{\"id\":\"web_enforce_qr\",\"type\":\"String\",\"value\":\"0\"},{\"id\":\"web_unfriendly_comm\",\"type\":\"String\",\"value\":\"0\"},{\"id\":\"se_v_v006\",\"type\":\"String\",\"value\":\"0\",\"chainId\":\"_all_\"},{\"id\":\"soc_notification\",\"type\":\"String\",\"value\":\"1\",\"chainId\":\"_all_\"},{\"id\":\"gue_video_guide\",\"type\":\"String\",\"value\":\"1\"},{\"id\":\"gue_sharp\",\"type\":\"String\",\"value\":\"0\"},{\"id\":\"soc_feed_intelligent\",\"type\":\"String\",\"value\":\"3\",\"chainId\":\"_all_\"},{\"id\":\"zr_rec_answer_cp\",\"type\":\"String\",\"value\":\"open\",\"chainId\":\"_all_\"},{\"id\":\"web_audit_01\",\"type\":\"String\",\"value\":\"case1\"},{\"id\":\"se_col_boost\",\"type\":\"String\",\"value\":\"0\",\"chainId\":\"_all_\"},{\"id\":\"se_bert128\",\"type\":\"String\",\"value\":\"0\",\"chainId\":\"_all_\"},{\"id\":\"se_ffzx_jushen1\",\"type\":\"String\",\"value\":\"0\",\"chainId\":\"_all_\"},{\"id\":\"tp_club_top\",\"type\":\"String\",\"value\":\"0\",\"chainId\":\"_all_\"},{\"id\":\"zr_search_paid\",\"type\":\"String\",\"value\":\"1\",\"chainId\":\"_all_\"},{\"id\":\"se_entity22\",\"type\":\"String\",\"value\":\"0\",\"chainId\":\"_all_\"},{\"id\":\"tp_header_style\",\"type\":\"String\",\"value\":\"1\",\"chainId\":\"_all_\"},{\"id\":\"tp_contents\",\"type\":\"String\",\"value\":\"2\",\"chainId\":\"_all_\"},{\"id\":\"pf_noti_entry_num\",\"type\":\"String\",\"value\":\"0\",\"chainId\":\"_all_\"},{\"id\":\"zr_rel_search\",\"type\":\"String\",\"value\":\"base\",\"chainId\":\"_all_\"},{\"id\":\"se_adsrank\",\"type\":\"String\",\"value\":\"4\",\"chainId\":\"_all_\"},{\"id\":\"se_hi_trunc\",\"type\":\"String\",\"value\":\"0\",\"chainId\":\"_all_\"},{\"id\":\"se_v_v005\",\"type\":\"String\",\"value\":\"0\",\"chainId\":\"_all_\"},{\"id\":\"tp_discover\",\"type\":\"String\",\"value\":\"0\",\"chainId\":\"_all_\"},{\"id\":\"top_universalebook\",\"type\":\"String\",\"value\":\"1\",\"chainId\":\"_all_\"},{\"id\":\"zr_intervene\",\"type\":\"String\",\"value\":\"0\",\"chainId\":\"_all_\"},{\"id\":\"tp_club__entrance2\",\"type\":\"String\",\"value\":\"1\",\"chainId\":\"_all_\"},{\"id\":\"pf_fuceng\",\"type\":\"String\",\"value\":\"1\",\"chainId\":\"_all_\"},{\"id\":\"gue_profile_video\",\"type\":\"String\",\"value\":\"1\"},{\"id\":\"li_svip_cardshow\",\"type\":\"String\",\"value\":\"1\",\"chainId\":\"_all_\"},{\"id\":\"li_catalog_card\",\"type\":\"String\",\"value\":\"1\",\"chainId\":\"_all_\"},{\"id\":\"li_panswer_topic\",\"type\":\"String\",\"value\":\"0\",\"chainId\":\"_all_\"},{\"id\":\"ge_ge02\",\"type\":\"String\",\"value\":\"6\",\"chainId\":\"_gene_\"},{\"id\":\"tp_club_qa_entrance\",\"type\":\"String\",\"value\":\"1\",\"chainId\":\"_all_\"},{\"id\":\"tp_clubhyb\",\"type\":\"String\",\"value\":\"0\",\"chainId\":\"_all_\"},{\"id\":\"web_sem_ab\",\"type\":\"String\",\"value\":\"1\"},{\"id\":\"li_car_meta\",\"type\":\"String\",\"value\":\"0\",\"chainId\":\"_all_\"},{\"id\":\"gue_share_icon\",\"type\":\"String\",\"value\":\"0\"},{\"id\":\"qap_labeltype\",\"type\":\"String\",\"value\":\"1\",\"chainId\":\"_all_\"},{\"id\":\"zr_ans_rec\",\"type\":\"String\",\"value\":\"gbrank\",\"chainId\":\"_all_\"},{\"id\":\"gue_v_serial\",\"type\":\"String\",\"value\":\"1\"},{\"id\":\"gue_goods_card\",\"type\":\"String\",\"value\":\"0\"},{\"id\":\"zr_slotpaidexp\",\"type\":\"String\",\"value\":\"1\",\"chainId\":\"_all_\"},{\"id\":\"se_searchwiki\",\"type\":\"String\",\"value\":\"0\",\"chainId\":\"_all_\"},{\"id\":\"se_v053\",\"type\":\"String\",\"value\":\"0\",\"chainId\":\"_all_\"},{\"id\":\"pf_foltopic_usernum\",\"type\":\"String\",\"value\":\"50\",\"chainId\":\"_all_\"},{\"id\":\"gue_bullet_second\",\"type\":\"String\",\"value\":\"1\"},{\"id\":\"li_ebook_gen_search\",\"type\":\"String\",\"value\":\"0\",\"chainId\":\"_all_\"},{\"id\":\"zr_sim3\",\"type\":\"String\",\"value\":\"0\",\"chainId\":\"_all_\"},{\"id\":\"tsp_ios_cardredesign\",\"type\":\"String\",\"value\":\"0\",\"chainId\":\"_all_\"},{\"id\":\"web_pcleft\",\"type\":\"String\",\"value\":\"0\"},{\"id\":\"ls_recommend_test\",\"type\":\"String\",\"value\":\"0\",\"chainId\":\"_all_\"},{\"id\":\"qap_question_visitor\",\"type\":\"String\",\"value\":\" 0\",\"chainId\":\"_all_\"},{\"id\":\"web_column_auto_invite\",\"type\":\"String\",\"value\":\"0\"},{\"id\":\"se_usercard\",\"type\":\"String\",\"value\":\"0\",\"chainId\":\"_all_\"},{\"id\":\"web_creator_route\",\"type\":\"String\",\"value\":\"1\"},{\"id\":\"li_viptab_name\",\"type\":\"String\",\"value\":\"0\",\"chainId\":\"_all_\"},{\"id\":\"se_aa_base\",\"type\":\"String\",\"value\":\"0\",\"chainId\":\"_all_\"},{\"id\":\"tp_meta_card\",\"type\":\"String\",\"value\":\"0\",\"chainId\":\"_all_\"},{\"id\":\"tp_club_entrance\",\"type\":\"String\",\"value\":\"1\",\"chainId\":\"_all_\"},{\"id\":\"ug_newtag\",\"type\":\"String\",\"value\":\"1\",\"chainId\":\"_all_\"},{\"id\":\"gue_zvideo_link\",\"type\":\"String\",\"value\":\"1\"},{\"id\":\"web_v_render\",\"type\":\"String\",\"value\":\"normal\"},{\"id\":\"gue_article_sicon\",\"type\":\"String\",\"value\":\"0\"},{\"id\":\"gue_repost\",\"type\":\"String\",\"value\":\"0\"},{\"id\":\"qap_question_author\",\"type\":\"String\",\"value\":\"0\",\"chainId\":\"_all_\"},{\"id\":\"web_answerlist_ad\",\"type\":\"String\",\"value\":\"0\"},{\"id\":\"se_wil_act\",\"type\":\"String\",\"value\":\"0\",\"chainId\":\"_all_\"},{\"id\":\"se_v046\",\"type\":\"String\",\"value\":\"0\",\"chainId\":\"_all_\"},{\"id\":\"se_sug_term\",\"type\":\"String\",\"value\":\"0\",\"chainId\":\"_all_\"},{\"id\":\"li_topics_search\",\"type\":\"String\",\"value\":\"0\",\"chainId\":\"_all_\"},{\"id\":\"li_yxxq_aut\",\"type\":\"String\",\"value\":\"A1\",\"chainId\":\"_all_\"},{\"id\":\"gue_q_share\",\"type\":\"String\",\"value\":\"0\"},{\"id\":\"se_click_v_v\",\"type\":\"String\",\"value\":\"0\",\"chainId\":\"_all_\"},{\"id\":\"se_college\",\"type\":\"String\",\"value\":\"default\",\"chainId\":\"_all_\"},{\"id\":\"se_merge\",\"type\":\"String\",\"value\":\"0\",\"chainId\":\"_all_\"},{\"id\":\"top_v_album\",\"type\":\"String\",\"value\":\"1\",\"chainId\":\"_all_\"},{\"id\":\"top_test_4_liguangyi\",\"type\":\"String\",\"value\":\"1\",\"chainId\":\"_all_\"},{\"id\":\"li_svip_tab_search\",\"type\":\"String\",\"value\":\"1\",\"chainId\":\"_all_\"},{\"id\":\"zr_training_boost\",\"type\":\"String\",\"value\":\"false\",\"chainId\":\"_all_\"},{\"id\":\"zr_training_first\",\"type\":\"String\",\"value\":\"false\",\"chainId\":\"_all_\"},{\"id\":\"se_major\",\"type\":\"String\",\"value\":\"0\",\"chainId\":\"_all_\"},{\"id\":\"tp_club_feed\",\"type\":\"String\",\"value\":\"0\",\"chainId\":\"_all_\"},{\"id\":\"web_heifetz_grow_ad\",\"type\":\"String\",\"value\":\"1\"},{\"id\":\"zr_topic_rpc\",\"type\":\"String\",\"value\":\"0\",\"chainId\":\"_all_\"},{\"id\":\"se_videobox\",\"type\":\"String\",\"value\":\"0\",\"chainId\":\"_all_\"},{\"id\":\"tp_topic_tab_new\",\"type\":\"String\",\"value\":\"0-0-0\",\"chainId\":\"_all_\"},{\"id\":\"zr_km_answer\",\"type\":\"String\",\"value\":\"open_cvr\",\"chainId\":\"_all_\"},{\"id\":\"se_t2sug\",\"type\":\"String\",\"value\":\"0\",\"chainId\":\"_all_\"},{\"id\":\"se_return_1\",\"type\":\"String\",\"value\":\"0\",\"chainId\":\"_all_\"},{\"id\":\"pf_creator_card\",\"type\":\"String\",\"value\":\"1\",\"chainId\":\"_all_\"},{\"id\":\"ug_follow_topic_1\",\"type\":\"String\",\"value\":\"2\",\"chainId\":\"_all_\"},{\"id\":\"se_topicfeed\",\"type\":\"String\",\"value\":\"0\",\"chainId\":\"_all_\"},{\"id\":\"se_recommend\",\"type\":\"String\",\"value\":\"0\",\"chainId\":\"_all_\"},{\"id\":\"tp_club_bt\",\"type\":\"String\",\"value\":\"0\",\"chainId\":\"_all_\"},{\"id\":\"web_answer_list_ad\",\"type\":\"String\",\"value\":\"1\"},{\"id\":\"zr_slot_training\",\"type\":\"String\",\"value\":\"1\",\"chainId\":\"_all_\"},{\"id\":\"se_guess\",\"type\":\"String\",\"value\":\"0\",\"chainId\":\"_all_\"},{\"id\":\"tsp_hotlist_ui\",\"type\":\"String\",\"value\":\"1\",\"chainId\":\"_all_\"},{\"id\":\"li_yxzl_new_style_a\",\"type\":\"String\",\"value\":\"1\",\"chainId\":\"_all_\"},{\"id\":\"gue_push2follow\",\"type\":\"String\",\"value\":\"0\"},{\"id\":\"zr_test_aa1\",\"type\":\"String\",\"value\":\"0\",\"chainId\":\"_all_\"},{\"id\":\"pf_adjust\",\"type\":\"String\",\"value\":\"0\",\"chainId\":\"_all_\"},{\"id\":\"web_ad_banner\",\"type\":\"String\",\"value\":\"0\"},{\"id\":\"li_video_section\",\"type\":\"String\",\"value\":\"0\",\"chainId\":\"_all_\"},{\"id\":\"se_club_ui\",\"type\":\"String\",\"value\":\"0\",\"chainId\":\"_all_\"},{\"id\":\"se_auth_src\",\"type\":\"String\",\"value\":\"0\",\"chainId\":\"_all_\"},{\"id\":\"ls_fmp4\",\"type\":\"String\",\"value\":\"0\",\"chainId\":\"_all_\"},{\"id\":\"tp_topic_tab\",\"type\":\"String\",\"value\":\"0\",\"chainId\":\"_all_\"},{\"id\":\"li_edu_page\",\"type\":\"String\",\"value\":\"old\",\"chainId\":\"_all_\"},{\"id\":\"gue_art2qa\",\"type\":\"String\",\"value\":\"0\"},{\"id\":\"zr_art_rec\",\"type\":\"String\",\"value\":\"base\",\"chainId\":\"_all_\"},{\"id\":\"zr_expslotpaid\",\"type\":\"String\",\"value\":\"1\",\"chainId\":\"_all_\"},{\"id\":\"zr_search_topic\",\"type\":\"String\",\"value\":\"1\",\"chainId\":\"_all_\"},{\"id\":\"se_v_rate\",\"type\":\"String\",\"value\":\"0\",\"chainId\":\"_all_\"},{\"id\":\"pf_newguide_vertical\",\"type\":\"String\",\"value\":\"0\",\"chainId\":\"_all_\"},{\"id\":\"web_login\",\"type\":\"String\",\"value\":\"0\"},{\"id\":\"zw_sameq_sorce\",\"type\":\"String\",\"value\":\"999\",\"chainId\":\"_all_\"},{\"id\":\"se_whitelist\",\"type\":\"String\",\"value\":\"0\",\"chainId\":\"_all_\"},{\"id\":\"se_searchvideo\",\"type\":\"String\",\"value\":\"3\",\"chainId\":\"_all_\"},{\"id\":\"se_vbert3\",\"type\":\"String\",\"value\":\"0\",\"chainId\":\"_all_\"},{\"id\":\"top_root\",\"type\":\"String\",\"value\":\"0\",\"chainId\":\"_all_\"},{\"id\":\"zr_rerank\",\"type\":\"String\",\"value\":\"0\",\"chainId\":\"_all_\"},{\"id\":\"se_major_v2\",\"type\":\"String\",\"value\":\"0\",\"chainId\":\"_all_\"},{\"id\":\"pf_profile2_tab\",\"type\":\"String\",\"value\":\"0\",\"chainId\":\"_all_\"},{\"id\":\"gue_video_replay\",\"type\":\"String\",\"value\":\"2\"},{\"id\":\"gue_card_test\",\"type\":\"String\",\"value\":\"1\"},{\"id\":\"web_collection_guest\",\"type\":\"String\",\"value\":\"1\"},{\"id\":\"tp_zrec\",\"type\":\"String\",\"value\":\"0\",\"chainId\":\"_all_\"},{\"id\":\"tsp_ioscard2\",\"type\":\"String\",\"value\":\"0\",\"chainId\":\"_all_\"},{\"id\":\"li_answer_card\",\"type\":\"String\",\"value\":\"0\",\"chainId\":\"_all_\"},{\"id\":\"tsp_adcard2\",\"type\":\"String\",\"value\":\"0\",\"chainId\":\"_all_\"},{\"id\":\"gue_zvideo_title\",\"type\":\"String\",\"value\":\"0\"},{\"id\":\"gue_visit_n_artcard\",\"type\":\"String\",\"value\":\"1\"},{\"id\":\"se_zp_boost\",\"type\":\"String\",\"value\":\"0\",\"chainId\":\"_all_\"},{\"id\":\"tp_fenqu_wei\",\"type\":\"String\",\"value\":\"0\",\"chainId\":\"_all_\"},{\"id\":\"top_quality\",\"type\":\"String\",\"value\":\"0\",\"chainId\":\"_all_\"},{\"id\":\"tp_topic_style\",\"type\":\"String\",\"value\":\"0\",\"chainId\":\"_all_\"},{\"id\":\"top_ebook\",\"type\":\"String\",\"value\":\"0\",\"chainId\":\"_all_\"},{\"id\":\"gue_self_censoring\",\"type\":\"String\",\"value\":\"1\"},{\"id\":\"ge_ge01\",\"type\":\"String\",\"value\":\"5\",\"chainId\":\"_gene_\"},{\"id\":\"se_preset\",\"type\":\"String\",\"value\":\"0\",\"chainId\":\"_all_\"},{\"id\":\"tp_club_fdv4\",\"type\":\"String\",\"value\":\"0\",\"chainId\":\"_all_\"},{\"id\":\"tp_m_intro_re_topic\",\"type\":\"String\",\"value\":\"1\",\"chainId\":\"_all_\"},{\"id\":\"tp_dingyue_video\",\"type\":\"String\",\"value\":\"0\",\"chainId\":\"_all_\"},{\"id\":\"gue_bullet_guide\",\"type\":\"String\",\"value\":\"发个弹幕聊聊…\"}],\"chains\":[{\"chainId\":\"_all_\"}]},\"triggers\":{}},\"userAgent\":{\"Edge\":false,\"Wechat\":false,\"Weibo\":false,\"QQ\":false,\"MQQBrowser\":false,\"Qzone\":false,\"Mobile\":false,\"Android\":false,\"iOS\":false,\"isAppleDevice\":false,\"Zhihu\":false,\"ZhihuHybrid\":false,\"isBot\":false,\"Tablet\":false,\"UC\":false,\"Sogou\":false,\"Qihoo\":false,\"Baidu\":false,\"BaiduApp\":false,\"Safari\":false,\"GoogleBot\":false,\"AndroidDaily\":false,\"iOSDaily\":false,\"WxMiniProgram\":false,\"BaiduMiniProgram\":false,\"QQMiniProgram\":false,\"isWebView\":false,\"isMiniProgram\":false,\"origin\":\"python-httpx\\\\u002F0.13.3\"},\"appViewConfig\":{},\"ctx\":{\"path\":\"\\\\u002Fsignin\",\"query\":{\"next\":\"\\\\u002F\"},\"href\":\"http:\\\\u002F\\\\u002Fwww.zhihu.com\\\\u002Fsignin?next=%2F\",\"host\":\"www.zhihu.com\"},\"trafficSource\":\"production\",\"edition\":{\"beijing\":false,\"baidu\":false,\"sogou\":false,\"baiduBeijing\":false,\"sogouBeijing\":false,\"sogouInput\":false,\"baiduSearch\":false,\"googleSearch\":false,\"miniProgram\":false},\"theme\":\"light\",\"enableShortcut\":true,\"referer\":\"\",\"conf\":{},\"xTrafficFreeOrigin\":\"\",\"ipInfo\":{},\"logged\":false},\"me\":{\"columnContributions\":[]},\"label\":{\"recognizerLists\":{}},\"ecommerce\":{},\"comments\":{\"pagination\":{},\"collapsed\":{},\"reverse\":{},\"reviewing\":{},\"conversation\":{},\"parent\":{}},\"commentsV2\":{\"stickers\":[],\"commentWithPicPermission\":{},\"notificationsComments\":{},\"pagination\":{},\"collapsed\":{},\"reverse\":{},\"reviewing\":{},\"conversation\":{},\"conversationMore\":{},\"parent\":{}},\"pushNotifications\":{\"default\":{\"isFetching\":false,\"isDrained\":false,\"ids\":[]},\"follow\":{\"isFetching\":false,\"isDrained\":false,\"ids\":[]},\"vote_thank\":{\"isFetching\":false,\"isDrained\":false,\"ids\":[]},\"currentTab\":\"default\",\"notificationsCount\":{\"default\":0,\"follow\":0,\"vote_thank\":0}},\"messages\":{\"data\":{},\"currentTab\":\"common\",\"messageCount\":0},\"register\":{\"registerValidateSucceeded\":null,\"registerValidateErrors\":{},\"registerConfirmError\":null,\"sendDigitsError\":null,\"registerConfirmSucceeded\":null},\"login\":{\"loginUnregisteredError\":false,\"loginBindWechatError\":false,\"loginConfirmError\":null,\"sendDigitsError\":null,\"needSMSIdentify\":false,\"validateDigitsError\":false,\"loginConfirmSucceeded\":null,\"qrcodeLoginToken\":\"\",\"qrcodeLoginScanStatus\":0,\"qrcodeLoginError\":null,\"qrcodeLoginReturnNewToken\":false},\"active\":{\"sendDigitsError\":null,\"activeConfirmSucceeded\":null,\"activeConfirmError\":null},\"switches\":{},\"captcha\":{\"captchaNeeded\":false,\"captchaValidated\":false,\"captchaBase64String\":null,\"captchaValidationMessage\":null,\"loginCaptchaExpires\":false},\"sms\":{\"supportedCountries\":[]},\"chat\":{\"chats\":{},\"inbox\":{\"recents\":{\"isFetching\":false,\"isDrained\":false,\"isPrevDrained\":false,\"result\":[],\"next\":null,\"key\":null},\"strangers\":{\"isFetching\":false,\"isDrained\":false,\"isPrevDrained\":false,\"result\":[],\"next\":null,\"key\":null},\"friends\":{\"isFetching\":false,\"isDrained\":false,\"isPrevDrained\":false,\"result\":[],\"next\":null,\"key\":null},\"search\":{\"isFetching\":false,\"isDrained\":false,\"isPrevDrained\":false,\"result\":[],\"next\":null,\"key\":null},\"config\":{\"newCount\":0,\"strangerMessageSwitch\":false,\"strangerMessageUnread\":false,\"friendCount\":0}},\"global\":{\"isChatMqttExisted\":false}},\"emoticons\":{\"emoticonGroupList\":[],\"emoticonGroupDetail\":{}},\"creator\":{\"currentCreatorUrlToken\":null,\"homeData\":{\"recommendQuestions\":[]},\"tools\":{\"question\":{\"invitationCount\":{\"questionFolloweeCount\":0,\"questionTotalCount\":0},\"goodatTopics\":[]},\"customPromotion\":{\"itemLists\":{}},\"recommend\":{\"recommendTimes\":{}}},\"explore\":{\"academy\":{\"tabs\":[],\"article\":{}}},\"rights\":[],\"rightsStatus\":{},\"levelUpperLimit\":10,\"account\":{\"growthLevel\":{}},\"mcn\":{},\"applyStatus\":{}},\"question\":{\"followers\":{},\"concernedFollowers\":{},\"answers\":{},\"hiddenAnswers\":{},\"updatedAnswers\":{},\"collapsedAnswers\":{},\"notificationAnswers\":{},\"invitedQuestions\":{\"total\":{\"count\":null,\"isEnd\":false,\"isLoading\":false,\"questions\":[]},\"followees\":{\"count\":null,\"isEnd\":false,\"isLoading\":false,\"questions\":[]}},\"laterQuestions\":{\"count\":null,\"globalWriteAnimate\":false,\"isEnd\":false,\"isLoading\":false,\"questions\":[]},\"waitingQuestions\":{\"hot\":{\"isEnd\":false,\"isLoading\":false,\"questions\":[]},\"value\":{\"isEnd\":false,\"isLoading\":false,\"questions\":[]},\"newest\":{\"isEnd\":false,\"isLoading\":false,\"questions\":[]},\"easy\":{\"isEnd\":false,\"isLoading\":false,\"questions\":[]}},\"invitationCandidates\":{},\"inviters\":{},\"invitees\":{},\"similarQuestions\":{},\"relatedCommodities\":{},\"bio\":{},\"brand\":{},\"permission\":{},\"adverts\":{},\"advancedStyle\":{},\"commonAnswerCount\":0,\"hiddenAnswerCount\":0,\"meta\":{},\"bluestarRanklist\":{},\"relatedSearch\":{},\"autoInvitation\":{},\"simpleConcernedFollowers\":{},\"draftStatus\":{},\"disclaimers\":{}},\"shareTexts\":{},\"answers\":{\"voters\":{},\"copyrightApplicants\":{},\"favlists\":{},\"newAnswer\":{},\"concernedUpvoters\":{},\"simpleConcernedUpvoters\":{},\"paidContent\":{},\"settings\":{}},\"banner\":{},\"topic\":{\"bios\":{},\"hot\":{},\"newest\":{},\"top\":{},\"unanswered\":{},\"questions\":{},\"followers\":{},\"contributors\":{},\"parent\":{},\"children\":{},\"bestAnswerers\":{},\"wikiMeta\":{},\"index\":{},\"intro\":{},\"meta\":{},\"schema\":{},\"creatorWall\":{},\"wikiEditInfo\":{},\"committedWiki\":{},\"landingBasicData\":{},\"landingExcellentItems\":[],\"landingExcellentEditors\":[],\"landingCatalog\":[],\"landingEntries\":{}},\"explore\":{\"recommendations\":{},\"specials\":{\"entities\":{},\"order\":[]},\"roundtables\":{\"entities\":{},\"order\":[]},\"collections\":{},\"columns\":{}},\"articles\":{\"voters\":{}},\"favlists\":{\"relations\":{}},\"pins\":{\"reviewing\":{}},\"topstory\":{\"recommend\":{\"isFetching\":false,\"isDrained\":false,\"afterId\":0,\"items\":[],\"next\":null},\"follow\":{\"isFetching\":false,\"isDrained\":false,\"afterId\":0,\"items\":[],\"next\":null},\"followWonderful\":{\"isFetching\":false,\"isDrained\":false,\"afterId\":0,\"items\":[],\"next\":null},\"sidebar\":null,\"announcement\":{},\"hotListCategories\":[],\"hotList\":[],\"guestFeeds\":{\"isFetching\":false,\"isDrained\":false,\"afterId\":0,\"items\":[],\"next\":null},\"followExtra\":{\"isNewUser\":null,\"isFetched\":false,\"followCount\":0,\"followers\":[]}},\"upload\":{},\"video\":{\"data\":{},\"shareVideoDetail\":{},\"last\":{}},\"zvideos\":{\"campaigns\":{},\"tagoreCategory\":[],\"recommendations\":{},\"insertable\":{},\"recruit\":{\"form\":{\"platform\":\"\",\"nickname\":\"\",\"followerCount\":\"\",\"domain\":\"\",\"contact\":\"\"},\"submited\":false,\"ranking\":[]}},\"guide\":{\"guide\":{\"isFetching\":false,\"isShowGuide\":false}},\"reward\":{\"answer\":{},\"article\":{},\"question\":{}},\"search\":{\"recommendSearch\":[],\"topSearch\":{},\"searchValue\":{},\"suggestSearch\":{},\"attachedInfo\":{},\"nextOffset\":{},\"topicReview\":{},\"generalByQuery\":{},\"generalByQueryInADay\":{},\"generalByQueryInAWeek\":{},\"generalByQueryInThreeMonths\":{},\"peopleByQuery\":{},\"clubentityByQuery\":{},\"clubPostByQuery\":{},\"topicByQuery\":{},\"columnByQuery\":{},\"liveByQuery\":{},\"albumByQuery\":{},\"eBookByQuery\":{},\"kmGeneralByQuery\":{}},\"publicEditPermission\":{},\"readStatus\":{},\"draftHistory\":{\"history\":{},\"drafts\":{}},\"notifications\":{\"recent\":{\"isFetching\":false,\"isDrained\":false,\"isPrevDrained\":false,\"result\":[],\"next\":null,\"key\":null},\"history\":{\"isFetching\":false,\"isDrained\":false,\"isPrevDrained\":false,\"result\":[],\"next\":null,\"key\":null},\"notificationActors\":{\"isFetching\":false,\"isDrained\":false,\"isPrevDrained\":false,\"result\":[],\"next\":null,\"key\":null},\"recentNotificationEntry\":\"all\"},\"specials\":{\"entities\":{},\"all\":{\"data\":[],\"paging\":{},\"isLoading\":false}},\"collections\":{\"hot\":{\"data\":[],\"paging\":{},\"isLoading\":false},\"collectionFeeds\":{}},\"userProfit\":{\"permission\":{\"permissionStatus\":{\"zhiZixuan\":0,\"recommend\":0,\"task\":0,\"plugin\":0},\"visible\":false}},\"mcn\":{\"bindInfo\":{},\"memberCategoryList\":[],\"producerList\":[],\"categoryList\":[],\"lists\":{}},\"mcnActivity\":{\"household\":{\"products\":{},\"rankList\":{\"total\":{},\"yesterday\":{}}}},\"brand\":{\"contentPlugin\":{}},\"metaLink\":{\"metaLinkTemplate\":{}},\"host\":{\"roundtable\":{\"subjects\":{},\"applications\":{\"total\":0},\"online\":{\"total\":0},\"applies\":{},\"details\":{},\"includedResource\":{},\"hotQuestions\":{},\"warmupContents\":{},\"batchInclude\":{}},\"special\":{\"applications\":{\"total\":0,\"pages\":{},\"entities\":{}},\"censorHistory\":{},\"drafts\":{}}},\"campaign\":{\"single\":{},\"list\":{}},\"knowledgePlan\":{\"lists\":{},\"allCreationRankList\":{},\"featuredQuestions\":{}},\"wallE\":{\"protectHistory\":{\"total\":0,\"pages\":{},\"entities\":{}}},\"roundtables\":{\"hotQuestions\":{},\"warmupContents\":{},\"hotDiscussions\":{},\"selectedContents\":{},\"roundtables\":{}},\"helpCenter\":{\"entities\":{\"question\":{},\"category\":{}},\"categories\":[],\"commonQuestions\":[],\"relatedQuestions\":{}},\"republish\":{}},\"subAppName\":\"main\"}</script><script src=\"https://static.zhihu.com/heifetz/vendor.90b6c2c841b0448cdc35.js\"></script><script src=\"https://static.zhihu.com/heifetz/main.app.e2ebbee31966705b2444.js\"></script><script src=\"https://static.zhihu.com/heifetz/main.sign-page.10413f07a9aad8213814.js\"></script></body><script src=\"https://hm.baidu.com/hm.js?98beee57fd2ef70ccdd5ca52b9740c49\" async=\"\"></script><script src=\"https://zz.bdstatic.com/linksubmit/push.js\" async=\"\"></script></html>'"
     },
     "metadata": {},
     "execution_count": 54
    }
   ],
   "source": [
    "httpx.get(url, timeout=None).text"
   ]
  },
  {
   "cell_type": "code",
   "execution_count": 44,
   "metadata": {},
   "outputs": [
    {
     "output_type": "execute_result",
     "data": {
      "text/plain": "<Response [200 OK]>"
     },
     "metadata": {},
     "execution_count": 44
    }
   ],
   "source": [
    "httpx.get(\"https://example.com\", auth=(\"my_user\",\"password123\"))"
   ]
  },
  {
   "cell_type": "code",
   "execution_count": 58,
   "metadata": {},
   "outputs": [
    {
     "output_type": "execute_result",
     "data": {
      "text/plain": "\":false},{\"expId\":\"launch-vd_profile_video-11\",\"expPrefix\":\"vd_profile_video\",\"isDynamicallyUpdated\":true,\"isRuntime\":false,\"includeTriggerInfo\":false},{\"expId\":\"launch-vd_timeguide-2\",\"expPrefix\":\"vd_timeguide\",\"isDynamicallyUpdated\":true,\"isRuntime\":false,\"includeTriggerInfo\":false},{\"expId\":\"launch-vd_video_replay-3\",\"expPrefix\":\"vd_video_replay\",\"isDynamicallyUpdated\":true,\"isRuntime\":false,\"includeTriggerInfo\":false},{\"expId\":\"launch-vd_zvideo_link-10\",\"expPrefix\":\"vd_zvideo_link\",\"isDynamicallyUpdated\":true,\"isRuntime\":false,\"includeTriggerInfo\":false},{\"expId\":\"vd_bullet_gui-1\",\"expPrefix\":\"vd_bullet_gui\",\"isDynamicallyUpdated\":true,\"isRuntime\":false,\"includeTriggerInfo\":false},{\"expId\":\"se_description-1\",\"expPrefix\":\"se_description\",\"isDynamicallyUpdated\":true,\"isRuntime\":false,\"includeTriggerInfo\":false}],\"params\":[{\"id\":\"zr_search_sim2\",\"type\":\"String\",\"value\":\"2\",\"chainId\":\"_all_\"},{\"id\":\"se_topicfeed\",\"type\":\"String\",\"value\":\"0\",\"chainId\":\"_all_\"},{\"id\":\"gue_zvideo_title\",\"type\":\"String\",\"value\":\"0\"},{\"id\":\"gue_repost\",\"type\":\"String\",\"value\":\"0\"},{\"id\":\"zr_rel_search\",\"type\":\"String\",\"value\":\"base\",\"chainId\":\"_all_\"},{\"id\":\"zr_training_first\",\"type\":\"String\",\"value\":\"false\",\"chainId\":\"_all_\"},{\"id\":\"zr_test_aa1\",\"type\":\"String\",\"value\":\"0\",\"chainId\":\"_all_\"},{\"id\":\"se_guess\",\"type\":\"String\",\"value\":\"0\",\"chainId\":\"_all_\"},{\"id\":\"zr_search_topic\",\"type\":\"String\",\"value\":\"1\",\"chainId\":\"_all_\"},{\"id\":\"gue_profile_video\",\"type\":\"String\",\"value\":\"1\"},{\"id\":\"tp_topic_tab\",\"type\":\"String\",\"value\":\"0\",\"chainId\":\"_all_\"},{\"id\":\"se_preset\",\"type\":\"String\",\"value\":\"0\",\"chainId\":\"_all_\"},{\"id\":\"tsp_ios_cardredesign\",\"type\":\"String\",\"value\":\"0\",\"chainId\":\"_all_\"},{\"id\":\"li_car_meta\",\"type\":\"String\",\"value\":\"0\",\"chainId\":\"_all_\"},{\"id\":\"li_answer_card\",\"type\":\"String\",\"value\":\"0\",\"chainId\":\"_all_\"},{\"id\":\"li_edu_page\",\"type\":\"String\",\"value\":\"old\",\"chainId\":\"_all_\"},{\"id\":\"zr_slotpaidexp\",\"type\":\"String\",\"value\":\"1\",\"chainId\":\"_all_\"},{\"id\":\"web_ad_banner\",\"type\":\"String\",\"value\":\"0\"},{\"id\":\"zr_rec_answer_cp\",\"type\":\"String\",\"value\":\"open\",\"chainId\":\"_all_\"},{\"id\":\"se_major\",\"type\":\"String\",\"value\":\"0\",\"chainId\":\"_all_\"},{\"id\":\"se_merge\",\"type\":\"String\",\"value\":\"0\",\"chainId\":\"_all_\"},{\"id\":\"tsp_ioscard2\",\"type\":\"String\",\"value\":\"0\",\"chainId\":\"_all_\"},{\"id\":\"gue_video_guide\",\"type\":\"String\",\"value\":\"1\"},{\"id\":\"gue_push2follow\",\"type\":\"String\",\"value\":\"0\"},{\"id\":\"se_v046\",\"type\":\"String\",\"value\":\"0\",\"chainId\":\"_all_\"},{\"id\":\"tp_meta_card\",\"type\":\"String\",\"value\":\"0\",\"chainId\":\"_all_\"},{\"id\":\"pf_creator_card\",\"type\":\"String\",\"value\":\"1\",\"chainId\":\"_all_\"},{\"id\":\"pf_foltopic_usernum\",\"type\":\"String\",\"value\":\"50\",\"chainId\":\"_all_\"},{\"id\":\"se_ffzx_jushen1\",\"type\":\"String\",\"value\":\"0\",\"chainId\":\"_all_\"},{\"id\":\"zr_ans_rec\",\"type\":\"String\",\"value\":\"gbrank\",\"chainId\":\"_all_\"},{\"id\":\"se_major_v2\",\"type\":\"String\",\"value\":\"0\",\"chainId\":\"_all_\"},{\"id\":\"se_searchvideo\",\"type\":\"String\",\"value\":\"3\",\"chainId\":\"_all_\"},{\"id\":\"li_panswer_topic\",\"type\":\"String\",\"value\":\"0\",\"chainId\":\"_all_\"},{\"id\":\"qap_question_author\",\"type\":\"String\",\"value\":\"0\",\"chainId\":\"_all_\"},{\"id\":\"zr_sim3\",\"type\":\"String\",\"value\":\"0\",\"chainId\":\"_all_\"},{\"id\":\"se_club_ui\",\"type\":\"String\",\"value\":\"0\",\"chainId\":\"_all_\"},{\"id\":\"pf_fuceng\",\"type\":\"String\",\"value\":\"1\",\"chainId\":\"_all_\"},{\"id\":\"li_svip_cardshow\",\"type\":\"String\",\"value\":\"1\",\"chainId\":\"_all_\"},{\"id\":\"web_answer_list_ad\",\"type\":\"String\",\"value\":\"1\"},{\"id\":\"tp_club__entrance2\",\"type\":\"String\",\"value\":\"1\",\"chainId\":\"_all_\"},{\"id\":\"gue_sharp\",\"type\":\"String\",\"value\":\"0\"},{\"id\":\"ls_recommend_test\",\"type\":\"String\",\"value\":\"0\",\"chainId\":\"_all_\"},{\"id\":\"li_yxxq_aut\",\"type\":\"String\",\"value\":\"A1\",\"chainId\":\"_all_\"},{\"id\":\"qap_question_visitor\",\"type\":\"String\",\"value\":\" 0\",\"chainId\":\"_all_\"},{\"id\":\"zr_km_answer\",\"type\":\"String\",\"value\":\"open_cvr\",\"chainId\":\"_all_\"},{\"id\":\"web_unfriendly_comm\",\"type\":\"String\",\"value\":\"0\"},{\"id\":\"se_usercard\",\"type\":\"String\",\"value\":\"0\",\"chainId\":\"_all_\"},{\"id\":\"se_return_1\",\"type\":\"String\",\"value\":\"0\",\"chainId\":\"_all_\"},{\"id\":\"se_auth_src\",\"type\":\"String\",\"value\":\"0\",\"chainId\":\"_all_\"},{\"id\":\"tp_header_style\",\"type\":\"String\",\"value\":\"1\",\"chainId\":\"_all_\"},{\"id\":\"gue_art_sani\",\"type\":\"String\",\"value\":\"0\"},{\"id\":\"top_test_4_liguangyi\",\"type\":\"String\",\"value\":\"1\",\"chainId\":\"_all_\"},{\"id\":\"pf_adjust\",\"type\":\"String\",\"value\":\"0\",\"chainId\":\"_all_\"},{\"id\":\"web_pcleft\",\"type\":\"String\",\"value\":\"0\"},{\"id\":\"se_bert128\",\"type\":\"String\",\"value\":\"0\",\"chainId\":\"_all_\"},{\"id\":\"se_v_v006\",\"type\":\"String\",\"value\":\"0\",\"chainId\":\"_all_\"},{\"id\":\"tsp_adcard2\",\"type\":\"String\",\"value\":\"0\",\"chainId\":\"_all_\"},{\"id\":\"gue_zvideo_link\",\"type\":\"String\",\"value\":\"1\"},{\"id\":\"gue_v_serial\",\"type\":\"String\",\"value\":\"1\"},{\"id\":\"ls_fmp4\",\"type\":\"String\",\"value\":\"0\",\"chainId\":\"_all_\"},{\"id\":\"zr_rerank\",\"type\":\"String\",\"value\":\"0\",\"chainId\":\"_all_\"},{\"id\":\"web_collection_guest\",\"type\":\"String\",\"value\":\"1\"},{\"id\":\"zr_search_paid\",\"type\":\"String\",\"value\":\"1\",\"chainId\":\"_all_\"},{\"id\":\"se_adsrank\",\"type\":\"String\",\"value\":\"4\",\"chainId\":\"_all_\"},{\"id\":\"tp_zrec\",\"type\":\"String\",\"value\":\"0\",\"chainId\":\"_all_\"},{\"id\":\"tsp_hotlist_ui\",\"type\":\"String\",\"value\":\"1\",\"chainId\":\"_all_\"},{\"id\":\"pf_newguide_vertical\",\"type\":\"String\",\"value\":\"0\",\"chainId\":\"_all_\"},{\"id\":\"web_sem_ab\",\"type\":\"String\",\"value\":\"1\"},{\"id\":\"li_ebook_gen_search\",\"type\":\"String\",\"value\":\"0\",\"chainId\":\"_all_\"},{\"id\":\"gue_card_test\",\"type\":\"String\",\"value\":\"1\"},{\"id\":\"pf_profile2_tab\",\"type\":\"String\",\"value\":\"0\",\"chainId\":\"_all_\"},{\"id\":\"web_v_render\",\"type\":\"String\",\"value\":\"normal\"},{\"id\":\"se_recommend\",\"type\":\"String\",\"value\":\"0\",\"chainId\":\"_all_\"},{\"id\":\"tp_club_top\",\"type\":\"String\",\"value\":\"0\",\"chainId\":\"_all_\"},{\"id\":\"web_answerlist_ad\",\"type\":\"String\",\"value\":\"0\"},{\"id\":\"se_col_boost\",\"type\":\"String\",\"value\":\"0\",\"chainId\":\"_all_\"},{\"id\":\"ge_ge01\",\"type\":\"String\",\"value\":\"5\",\"chainId\":\"_gene_\"},{\"id\":\"se_click_v_v\",\"type\":\"String\",\"value\":\"0\",\"chainId\":\"_all_\"},{\"id\":\"se_aa_base\",\"type\":\"String\",\"value\":\"0\",\"chainId\":\"_all_\"},{\"id\":\"se_sug_term\",\"type\":\"String\",\"value\":\"0\",\"chainId\":\"_all_\"},{\"id\":\"tp_discover\",\"type\":\"String\",\"value\":\"0\",\"chainId\":\"_all_\"},{\"id\":\"tp_dingyue_video\",\"type\":\"String\",\"value\":\"0\",\"chainId\":\"_all_\"},{\"id\":\"li_topics_search\",\"type\":\"String\",\"value\":\"0\",\"chainId\":\"_all_\"},{\"id\":\"zr_topic_rpc\",\"type\":\"String\",\"value\":\"0\",\"chainId\":\"_all_\"},{\"id\":\"ug_follow_topic_1\",\"type\":\"String\",\"value\":\"2\",\"chainId\":\"_all_\"},{\"id\":\"gue_share_icon\",\"type\":\"String\",\"value\":\"0\"},{\"id\":\"tp_fenqu_wei\",\"type\":\"String\",\"value\":\"0\",\"chainId\":\"_all_\"},{\"id\":\"soc_feed_intelligent\",\"type\":\"String\",\"value\":\"3\",\"chainId\":\"_all_\"},{\"id\":\"zr_expslotpaid\",\"type\":\"String\",\"value\":\"1\",\"chainId\":\"_all_\"},{\"id\":\"gue_goods_card\",\"type\":\"String\",\"value\":\"0\"},{\"id\":\"li_video_section\",\"type\":\"String\",\"value\":\"0\",\"chainId\":\"_all_\"},{\"id\":\"se_entity22\",\"type\":\"String\",\"value\":\"0\",\"chainId\":\"_all_\"},{\"id\":\"tsp_ad_cardredesign\",\"type\":\"String\",\"value\":\"0\",\"chainId\":\"_all_\"},{\"id\":\"gue_q_intercept\",\"type\":\"String\",\"value\":\"0\"},{\"id\":\"li_paid_answer_exp\",\"type\":\"String\",\"value\":\"0\",\"chainId\":\"_all_\"},{\"id\":\"gue_visit_n_artcard\",\"type\":\"String\",\"value\":\"1\"},{\"id\":\"ge_ge02\",\"type\":\"String\",\"value\":\"6\",\"chainId\":\"_gene_\"},{\"id\":\"se_hi_trunc\",\"type\":\"String\",\"value\":\"0\",\"chainId\":\"_all_\"},{\"id\":\"tp_club_fdv4\",\"type\":\"String\",\"value\":\"0\",\"chainId\":\"_all_\"},{\"id\":\"tp_club_qa_entrance\",\"type\":\"String\",\"value\":\"1\",\"chainId\":\"_all_\"},{\"id\":\"top_root\",\"type\":\"String\",\"value\":\"0\",\"chainId\":\"_all_\"},{\"id\":\"web_login\",\"type\":\"String\",\"value\":\"0\"},{\"id\":\"zr_art_rec\",\"type\":\"String\",\"value\":\"base\",\"chainId\":\"_all_\"},{\"id\":\"web_audit_01\",\"type\":\"String\",\"value\":\"case1\"},{\"id\":\"se_college\",\"type\":\"String\",\"value\":\"default\",\"chainId\":\"_all_\"},{\"id\":\"se_mobilecard\",\"type\":\"String\",\"value\":\"0\",\"chainId\":\"_all_\"},{\"id\":\"se_videobox\",\"type\":\"String\",\"value\":\"0\",\"chainId\":\"_all_\"},{\"id\":\"tp_club_bt\",\"type\":\"String\",\"value\":\"0\",\"chainId\":\"_all_\"},{\"id\":\"gue_bullet_guide\",\"type\":\"String\",\"value\":\"发个弹幕聊聊…\"},{\"id\":\"li_catalog_card\",\"type\":\"String\",\"value\":\"1\",\"chainId\":\"_all_\"},{\"id\":\"ls_video_commercial\",\"type\":\"String\",\"value\":\"0\",\"chainId\":\"_all_\"},{\"id\":\"ls_videoad\",\"type\":\"String\",\"value\":\"2\",\"chainId\":\"_all_\"},{\"id\":\"se_v_v005\",\"type\":\"String\",\"value\":\"0\",\"chainId\":\"_all_\"},{\"id\":\"tp_contents\",\"type\":\"String\",\"value\":\"2\",\"chainId\":\"_all_\"},{\"id\":\"top_ebook\",\"type\":\"String\",\"value\":\"0\",\"chainId\":\"_all_\"},{\"id\":\"li_vip_verti_search\",\"type\":\"String\",\"value\":\"0\",\"chainId\":\"_all_\"},{\"id\":\"zw_sameq_sorce\",\"type\":\"String\",\"value\":\"999\",\"chainId\":\"_all_\"},{\"id\":\"se_t2sug\",\"type\":\"String\",\"value\":\"0\",\"chainId\":\"_all_\"},{\"id\":\"se_v_drop\",\"type\":\"String\",\"value\":\"0\",\"chainId\":\"_all_\"},{\"id\":\"tp_sft\",\"type\":\"String\",\"value\":\"a\",\"chainId\":\"_all_\"},{\"id\":\"pf_noti_entry_num\",\"type\":\"String\",\"value\":\"0\",\"chainId\":\"_all_\"},{\"id\":\"gue_bullet_second\",\"type\":\"String\",\"value\":\"1\"},{\"id\":\"gue_q_share\",\"type\":\"String\",\"value\":\"0\"},{\"id\":\"gue_self_censoring\",\"type\":\"String\",\"value\":\"1\"},{\"id\":\"se_colorfultab\",\"type\":\"String\",\"value\":\"1\",\"chainId\":\"_all_\"},{\"id\":\"se_v_rate\",\"type\":\"String\",\"value\":\"0\",\"chainId\":\"_all_\"},{\"id\":\"tp_m_intro_re_topic\",\"type\":\"String\",\"value\":\"1\",\"chainId\":\"_all_\"},{\"id\":\"top_quality\",\"type\":\"String\",\"value\":\"0\",\"chainId\":\"_all_\"},{\"id\":\"li_yxzl_new_style_a\",\"type\":\"String\",\"value\":\"1\",\"chainId\":\"_all_\"},{\"id\":\"se_whitelist\",\"type\":\"String\",\"value\":\"0\",\"chainId\":\"_all_\"},{\"id\":\"se_zp_boost\",\"type\":\"String\",\"value\":\"0\",\"chainId\":\"_all_\"},{\"id\":\"web_creator_route\",\"type\":\"String\",\"value\":\"1\"},{\"id\":\"zr_intervene\",\"type\":\"String\",\"value\":\"0\",\"chainId\":\"_all_\"},{\"id\":\"qap_labeltype\",\"type\":\"String\",\"value\":\"1\",\"chainId\":\"_all_\"},{\"id\":\"zr_slot_training\",\"type\":\"String\",\"value\":\"1\",\"chainId\":\"_all_\"},{\"id\":\"se_searchwiki\",\"type\":\"String\",\"value\":\"0\",\"chainId\":\"_all_\"},{\"id\":\"se_v053\",\"type\":\"String\",\"value\":\"0\",\"chainId\":\"_all_\"},{\"id\":\"tp_club_feed\",\"type\":\"String\",\"value\":\"0\",\"chainId\":\"_all_\"},{\"id\":\"top_v_album\",\"type\":\"String\",\"value\":\"1\",\"chainId\":\"_all_\"},{\"id\":\"li_viptab_name\",\"type\":\"String\",\"value\":\"0\",\"chainId\":\"_all_\"},{\"id\":\"se_wil_act\",\"type\":\"String\",\"value\":\"0\",\"chainId\":\"_all_\"},{\"id\":\"se_vbert3\",\"type\":\"String\",\"value\":\"0\",\"chainId\":\"_all_\"},{\"id\":\"tp_topic_tab_new\",\"type\":\"String\",\"value\":\"0-0-0\",\"chainId\":\"_all_\"},{\"id\":\"tp_club_entrance\",\"type\":\"String\",\"value\":\"1\",\"chainId\":\"_all_\"},{\"id\":\"tp_topic_style\",\"type\":\"String\",\"value\":\"0\",\"chainId\":\"_all_\"},{\"id\":\"web_heifetz_grow_ad\",\"type\":\"String\",\"value\":\"1\"},{\"id\":\"gue_article_sicon\",\"type\":\"String\",\"value\":\"0\"},{\"id\":\"web_column_auto_invite\",\"type\":\"String\",\"value\":\"0\"},{\"id\":\"tp_clubhyb\",\"type\":\"String\",\"value\":\"0\",\"chainId\":\"_all_\"},{\"id\":\"soc_notification\",\"type\":\"String\",\"value\":\"1\",\"chainId\":\"_all_\"},{\"id\":\"top_universalebook\",\"type\":\"String\",\"value\":\"1\",\"chainId\":\"_all_\"},{\"id\":\"ug_newtag\",\"type\":\"String\",\"value\":\"1\",\"chainId\":\"_all_\"},{\"id\":\"gue_video_replay\",\"type\":\"String\",\"value\":\"2\"},{\"id\":\"web_enforce_qr\",\"type\":\"String\",\"value\":\"0\"},{\"id\":\"gue_art2qa\",\"type\":\"String\",\"value\":\"0\"},{\"id\":\"zr_training_boost\",\"type\":\"String\",\"value\":\"false\",\"chainId\":\"_all_\"},{\"id\":\"li_svip_tab_search\",\"type\":\"String\",\"value\":\"1\",\"chainId\":\"_all_\"}],\"chains\":[{\"chainId\":\"_all_\"}]},\"triggers\":{}},\"userAgent\":{\"Edge\":false,\"Wechat\":false,\"Weibo\":false,\"QQ\":false,\"MQQBrowser\":false,\"Qzone\":false,\"Mobile\":false,\"Android\":false,\"iOS\":false,\"isAppleDevice\":false,\"Zhihu\":false,\"ZhihuHybrid\":false,\"isBot\":false,\"Tablet\":false,\"UC\":false,\"Sogou\":false,\"Qihoo\":false,\"Baidu\":false,\"BaiduApp\":false,\"Safari\":false,\"GoogleBot\":false,\"AndroidDaily\":false,\"iOSDaily\":false,\"WxMiniProgram\":false,\"BaiduMiniProgram\":false,\"QQMiniProgram\":false,\"isWebView\":false,\"isMiniProgram\":false,\"origin\":\"python-httpx\\\\u002F0.13.3\"},\"appViewConfig\":{},\"ctx\":{\"path\":\"\\\\u002Fsignin\",\"query\":{\"next\":\"\\\\u002F\"},\"href\":\"http:\\\\u002F\\\\u002Fwww.zhihu.com\\\\u002Fsignin?next=%2F\",\"host\":\"www.zhihu.com\"},\"trafficSource\":\"production\",\"edition\":{\"beijing\":false,\"baidu\":false,\"sogou\":false,\"baiduBeijing\":false,\"sogouBeijing\":false,\"sogouInput\":false,\"baiduSearch\":false,\"googleSearch\":false,\"miniProgram\":false},\"theme\":\"light\",\"enableShortcut\":true,\"referer\":\"\",\"conf\":{},\"xTrafficFreeOrigin\":\"\",\"ipInfo\":{},\"logged\":false},\"me\":{\"columnContributions\":[]},\"label\":{\"recognizerLists\":{}},\"ecommerce\":{},\"comments\":{\"pagination\":{},\"collapsed\":{},\"reverse\":{},\"reviewing\":{},\"conversation\":{},\"parent\":{}},\"commentsV2\":{\"stickers\":[],\"commentWithPicPermission\":{},\"notificationsComments\":{},\"pagination\":{},\"collapsed\":{},\"reverse\":{},\"reviewing\":{},\"conversation\":{},\"conversationMore\":{},\"parent\":{}},\"pushNotifications\":{\"default\":{\"isFetching\":false,\"isDrained\":false,\"ids\":[]},\"follow\":{\"isFetching\":false,\"isDrained\":false,\"ids\":[]},\"vote_thank\":{\"isFetching\":false,\"isDrained\":false,\"ids\":[]},\"currentTab\":\"default\",\"notificationsCount\":{\"default\":0,\"follow\":0,\"vote_thank\":0}},\"messages\":{\"data\":{},\"currentTab\":\"common\",\"messageCount\":0},\"register\":{\"registerValidateSucceeded\":null,\"registerValidateErrors\":{},\"registerConfirmError\":null,\"sendDigitsError\":null,\"registerConfirmSucceeded\":null},\"login\":{\"loginUnregisteredError\":false,\"loginBindWechatError\":false,\"loginConfirmError\":null,\"sendDigitsError\":null,\"needSMSIdentify\":false,\"validateDigitsError\":false,\"loginConfirmSucceeded\":null,\"qrcodeLoginToken\":\"\",\"qrcodeLoginScanStatus\":0,\"qrcodeLoginError\":null,\"qrcodeLoginReturnNewToken\":false},\"active\":{\"sendDigitsError\":null,\"activeConfirmSucceeded\":null,\"activeConfirmError\":null},\"switches\":{},\"captcha\":{\"captchaNeeded\":false,\"captchaValidated\":false,\"captchaBase64String\":null,\"captchaValidationMessage\":null,\"loginCaptchaExpires\":false},\"sms\":{\"supportedCountries\":[]},\"chat\":{\"chats\":{},\"inbox\":{\"recents\":{\"isFetching\":false,\"isDrained\":false,\"isPrevDrained\":false,\"result\":[],\"next\":null,\"key\":null},\"strangers\":{\"isFetching\":false,\"isDrained\":false,\"isPrevDrained\":false,\"result\":[],\"next\":null,\"key\":null},\"friends\":{\"isFetching\":false,\"isDrained\":false,\"isPrevDrained\":false,\"result\":[],\"next\":null,\"key\":null},\"search\":{\"isFetching\":false,\"isDrained\":false,\"isPrevDrained\":false,\"result\":[],\"next\":null,\"key\":null},\"config\":{\"newCount\":0,\"strangerMessageSwitch\":false,\"strangerMessageUnread\":false,\"friendCount\":0}},\"global\":{\"isChatMqttExisted\":false}},\"emoticons\":{\"emoticonGroupList\":[],\"emoticonGroupDetail\":{}},\"creator\":{\"currentCreatorUrlToken\":null,\"homeData\":{\"recommendQuestions\":[]},\"tools\":{\"question\":{\"invitationCount\":{\"questionFolloweeCount\":0,\"questionTotalCount\":0},\"goodatTopics\":[]},\"customPromotion\":{\"itemLists\":{}},\"recommend\":{\"recommendTimes\":{}}},\"explore\":{\"academy\":{\"tabs\":[],\"article\":{}}},\"rights\":[],\"rightsStatus\":{},\"levelUpperLimit\":10,\"account\":{\"growthLevel\":{}},\"mcn\":{},\"applyStatus\":{}},\"question\":{\"followers\":{},\"concernedFollowers\":{},\"answers\":{},\"hiddenAnswers\":{},\"updatedAnswers\":{},\"collapsedAnswers\":{},\"notificationAnswers\":{},\"invitedQuestions\":{\"total\":{\"count\":null,\"isEnd\":false,\"isLoading\":false,\"questions\":[]},\"followees\":{\"count\":null,\"isEnd\":false,\"isLoading\":false,\"questions\":[]}},\"laterQuestions\":{\"count\":null,\"globalWriteAnimate\":false,\"isEnd\":false,\"isLoading\":false,\"questions\":[]},\"waitingQuestions\":{\"hot\":{\"isEnd\":false,\"isLoading\":false,\"questions\":[]},\"value\":{\"isEnd\":false,\"isLoading\":false,\"questions\":[]},\"newest\":{\"isEnd\":false,\"isLoading\":false,\"questions\":[]},\"easy\":{\"isEnd\":false,\"isLoading\":false,\"questions\":[]}},\"invitationCandidates\":{},\"inviters\":{},\"invitees\":{},\"similarQuestions\":{},\"relatedCommodities\":{},\"bio\":{},\"brand\":{},\"permission\":{},\"adverts\":{},\"advancedStyle\":{},\"commonAnswerCount\":0,\"hiddenAnswerCount\":0,\"meta\":{},\"bluestarRanklist\":{},\"relatedSearch\":{},\"autoInvitation\":{},\"simpleConcernedFollowers\":{},\"draftStatus\":{},\"disclaimers\":{}},\"shareTexts\":{},\"answers\":{\"voters\":{},\"copyrightApplicants\":{},\"favlists\":{},\"newAnswer\":{},\"concernedUpvoters\":{},\"simpleConcernedUpvoters\":{},\"paidContent\":{},\"settings\":{}},\"banner\":{},\"topic\":{\"bios\":{},\"hot\":{},\"newest\":{},\"top\":{},\"unanswered\":{},\"questions\":{},\"followers\":{},\"contributors\":{},\"parent\":{},\"children\":{},\"bestAnswerers\":{},\"wikiMeta\":{},\"index\":{},\"intro\":{},\"meta\":{},\"schema\":{},\"creatorWall\":{},\"wikiEditInfo\":{},\"committedWiki\":{},\"landingBasicData\":{},\"landingExcellentItems\":[],\"landingExcellentEditors\":[],\"landingCatalog\":[],\"landingEntries\":{}},\"explore\":{\"recommendations\":{},\"specials\":{\"entities\":{},\"order\":[]},\"roundtables\":{\"entities\":{},\"order\":[]},\"collections\":{},\"columns\":{}},\"articles\":{\"voters\":{}},\"favlists\":{\"relations\":{}},\"pins\":{\"reviewing\":{}},\"topstory\":{\"recommend\":{\"isFetching\":false,\"isDrained\":false,\"afterId\":0,\"items\":[],\"next\":null},\"follow\":{\"isFetching\":false,\"isDrained\":false,\"afterId\":0,\"items\":[],\"next\":null},\"followWonderful\":{\"isFetching\":false,\"isDrained\":false,\"afterId\":0,\"items\":[],\"next\":null},\"sidebar\":null,\"announcement\":{},\"hotListCategories\":[],\"hotList\":[],\"guestFeeds\":{\"isFetching\":false,\"isDrained\":false,\"afterId\":0,\"items\":[],\"next\":null},\"followExtra\":{\"isNewUser\":null,\"isFetched\":false,\"followCount\":0,\"followers\":[]}},\"upload\":{},\"video\":{\"data\":{},\"shareVideoDetail\":{},\"last\":{}},\"zvideos\":{\"campaigns\":{},\"tagoreCategory\":[],\"recommendations\":{},\"insertable\":{},\"recruit\":{\"form\":{\"platform\":\"\",\"nickname\":\"\",\"followerCount\":\"\",\"domain\":\"\",\"contact\":\"\"},\"submited\":false,\"ranking\":[]}},\"guide\":{\"guide\":{\"isFetching\":false,\"isShowGuide\":false}},\"reward\":{\"answer\":{},\"article\":{},\"question\":{}},\"search\":{\"recommendSearch\":[],\"topSearch\":{},\"searchValue\":{},\"suggestSearch\":{},\"attachedInfo\":{},\"nextOffset\":{},\"topicReview\":{},\"generalByQuery\":{},\"generalByQueryInADay\":{},\"generalByQueryInAWeek\":{},\"generalByQueryInThreeMonths\":{},\"peopleByQuery\":{},\"clubentityByQuery\":{},\"clubPostByQuery\":{},\"topicByQuery\":{},\"columnByQuery\":{},\"liveByQuery\":{},\"albumByQuery\":{},\"eBookByQuery\":{},\"kmGeneralByQuery\":{}},\"publicEditPermission\":{},\"readStatus\":{},\"draftHistory\":{\"history\":{},\"drafts\":{}},\"notifications\":{\"recent\":{\"isFetching\":false,\"isDrained\":false,\"isPrevDrained\":false,\"result\":[],\"next\":null,\"key\":null},\"history\":{\"isFetching\":false,\"isDrained\":false,\"isPrevDrained\":false,\"result\":[],\"next\":null,\"key\":null},\"notificationActors\":{\"isFetching\":false,\"isDrained\":false,\"isPrevDrained\":false,\"result\":[],\"next\":null,\"key\":null},\"recentNotificationEntry\":\"all\"},\"specials\":{\"entities\":{},\"all\":{\"data\":[],\"paging\":{},\"isLoading\":false}},\"collections\":{\"hot\":{\"data\":[],\"paging\":{},\"isLoading\":false},\"collectionFeeds\":{}},\"userProfit\":{\"permission\":{\"permissionStatus\":{\"zhiZixuan\":0,\"recommend\":0,\"task\":0,\"plugin\":0},\"visible\":false}},\"mcn\":{\"bindInfo\":{},\"memberCategoryList\":[],\"producerList\":[],\"categoryList\":[],\"lists\":{}},\"mcnActivity\":{\"household\":{\"products\":{},\"rankList\":{\"total\":{},\"yesterday\":{}}}},\"brand\":{\"contentPlugin\":{}},\"metaLink\":{\"metaLinkTemplate\":{}},\"host\":{\"roundtable\":{\"subjects\":{},\"applications\":{\"total\":0},\"online\":{\"total\":0},\"applies\":{},\"details\":{},\"includedResource\":{},\"hotQuestions\":{},\"warmupContents\":{},\"batchInclude\":{}},\"special\":{\"applications\":{\"total\":0,\"pages\":{},\"entities\":{}},\"censorHistory\":{},\"drafts\":{}}},\"campaign\":{\"single\":{},\"list\":{}},\"knowledgePlan\":{\"lists\":{},\"allCreationRankList\":{},\"featuredQuestions\":{}},\"wallE\":{\"protectHistory\":{\"total\":0,\"pages\":{},\"entities\":{}}},\"roundtables\":{\"hotQuestions\":{},\"warmupContents\":{},\"hotDiscussions\":{},\"selectedContents\":{},\"roundtables\":{}},\"helpCenter\":{\"entities\":{\"question\":{},\"category\":{}},\"categories\":[],\"commonQuestions\":[],\"relatedQuestions\":{}},\"republish\":{}},\"subAppName\":\"main\"}</script><script src=\"https://static.zhihu.com/heifetz/vendor.90b6c2c841b0448cdc35.js\"></script><script src=\"https://static.zhihu.com/heifetz/main.app.e2ebbee31966705b2444.js\"></script><script src=\"https://static.zhihu.com/heifetz/main.sign-page.10413f07a9aad8213814.js\"></script></body><script src=\"https://hm.baidu.com/hm.js?98beee57fd2ef70ccdd5ca52b9740c49\" async=\"\"></script><script src=\"https://zz.bdstatic.com/linksubmit/push.js\" async=\"\"></script></html>'"
     },
     "metadata": {},
     "execution_count": 58
    }
   ],
   "source": [
    "url = \"https://www.zhihu.com\"\n",
    "auth = httpx.DigestAuth(\"18715545046\",\"19870521zj\")\n",
    "r = httpx.get(url, auth=auth)\n",
    "r.text"
   ]
  },
  {
   "cell_type": "code",
   "execution_count": null,
   "metadata": {},
   "outputs": [],
   "source": []
  },
  {
   "cell_type": "markdown",
   "metadata": {},
   "source": [
    "# 登陆账户密码"
   ]
  },
  {
   "cell_type": "code",
   "execution_count": 45,
   "metadata": {},
   "outputs": [
    {
     "output_type": "execute_result",
     "data": {
      "text/plain": "<Response [200 OK]>"
     },
     "metadata": {},
     "execution_count": 45
    }
   ],
   "source": [
    "auth = httpx.DigestAuth(\"my_user\",\"password123\")\n",
    "httpx.get(\"https://example.com\", auth=auth)"
   ]
  },
  {
   "cell_type": "code",
   "execution_count": 59,
   "metadata": {},
   "outputs": [
    {
     "output_type": "error",
     "ename": "RuntimeError",
     "evalue": "asyncio.run() cannot be called from a running event loop",
     "traceback": [
      "\u001b[0;31m---------------------------------------------------------------------------\u001b[0m",
      "\u001b[0;31mRuntimeError\u001b[0m                              Traceback (most recent call last)",
      "\u001b[0;32m<ipython-input-59-297a2228fc26>\u001b[0m in \u001b[0;36m<module>\u001b[0;34m\u001b[0m\n\u001b[1;32m     13\u001b[0m \u001b[0;34m\u001b[0m\u001b[0m\n\u001b[1;32m     14\u001b[0m \u001b[0;32mif\u001b[0m \u001b[0m__name__\u001b[0m \u001b[0;34m==\u001b[0m \u001b[0;34m'__main__'\u001b[0m\u001b[0;34m:\u001b[0m\u001b[0;34m\u001b[0m\u001b[0;34m\u001b[0m\u001b[0m\n\u001b[0;32m---> 15\u001b[0;31m     \u001b[0masyncio\u001b[0m\u001b[0;34m.\u001b[0m\u001b[0mrun\u001b[0m\u001b[0;34m(\u001b[0m\u001b[0mmain\u001b[0m\u001b[0;34m(\u001b[0m\u001b[0;34m)\u001b[0m\u001b[0;34m)\u001b[0m\u001b[0;34m\u001b[0m\u001b[0;34m\u001b[0m\u001b[0m\n\u001b[0m",
      "\u001b[0;32m/usr/local/Cellar/python/3.7.6_1/Frameworks/Python.framework/Versions/3.7/lib/python3.7/asyncio/runners.py\u001b[0m in \u001b[0;36mrun\u001b[0;34m(main, debug)\u001b[0m\n\u001b[1;32m     32\u001b[0m     \u001b[0;32mif\u001b[0m \u001b[0mevents\u001b[0m\u001b[0;34m.\u001b[0m\u001b[0m_get_running_loop\u001b[0m\u001b[0;34m(\u001b[0m\u001b[0;34m)\u001b[0m \u001b[0;32mis\u001b[0m \u001b[0;32mnot\u001b[0m \u001b[0;32mNone\u001b[0m\u001b[0;34m:\u001b[0m\u001b[0;34m\u001b[0m\u001b[0;34m\u001b[0m\u001b[0m\n\u001b[1;32m     33\u001b[0m         raise RuntimeError(\n\u001b[0;32m---> 34\u001b[0;31m             \"asyncio.run() cannot be called from a running event loop\")\n\u001b[0m\u001b[1;32m     35\u001b[0m \u001b[0;34m\u001b[0m\u001b[0m\n\u001b[1;32m     36\u001b[0m     \u001b[0;32mif\u001b[0m \u001b[0;32mnot\u001b[0m \u001b[0mcoroutines\u001b[0m\u001b[0;34m.\u001b[0m\u001b[0miscoroutine\u001b[0m\u001b[0;34m(\u001b[0m\u001b[0mmain\u001b[0m\u001b[0;34m)\u001b[0m\u001b[0;34m:\u001b[0m\u001b[0;34m\u001b[0m\u001b[0;34m\u001b[0m\u001b[0m\n",
      "\u001b[0;31mRuntimeError\u001b[0m: asyncio.run() cannot be called from a running event loop"
     ]
    }
   ],
   "source": [
    "import httpx\n",
    "import asyncio\n",
    "\n",
    "#url = 'https://www.baidu.com/'\n",
    "headers = {\n",
    "    'User-Agent': 'Mozilla/5.0 (Macintosh; Intel Mac OS X 10_10_1) AppleWebKit/537.36 (KHTML, like Gecko) Chrome/76.0.3809.100 Safari/537.36'}\n",
    "\n",
    "\n",
    "async def main():\n",
    "    async with httpx.AsyncClient() as client:\n",
    "        resp = await client.get(url, headers=headers)\n",
    "        print(resp.status_code)\n",
    "\n",
    "if __name__ == '__main__':\n",
    "    asyncio.run(main())"
   ]
  },
  {
   "cell_type": "code",
   "execution_count": null,
   "metadata": {},
   "outputs": [],
   "source": []
  }
 ]
}