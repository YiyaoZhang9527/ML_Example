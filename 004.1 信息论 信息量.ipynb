{
 "cells": [
  {
   "cell_type": "code",
   "execution_count": 1,
   "metadata": {},
   "outputs": [
    {
     "name": "stderr",
     "output_type": "stream",
     "text": [
      "Duplicate key in file PosixPath('/home/manman/anaconda3/lib/python3.8/site-packages/matplotlib/mpl-data/matplotlibrc'), line 649 ('axes.unicode_minus  : True   ')\n",
      "Duplicate key in file PosixPath('/home/manman/anaconda3/lib/python3.8/site-packages/matplotlib/mpl-data/matplotlibrc'), line 650 ('font.family         : sans-serif')\n",
      "Duplicate key in file PosixPath('/home/manman/anaconda3/lib/python3.8/site-packages/matplotlib/mpl-data/matplotlibrc'), line 651 ('font.sans-serif     : Microsoft YaHei, SimHei, KaiTi_GB2312, DejaVu Sans, Bitstream Vera Sans, ...`')\n"
     ]
    }
   ],
   "source": [
    "import numpy as np\n",
    "#import numexpr as en\n",
    "import torch\n",
    "import seaborn as sns\n",
    "import jieba\n",
    "import re\n",
    "sns.set()"
   ]
  },
  {
   "cell_type": "code",
   "execution_count": 2,
   "metadata": {},
   "outputs": [],
   "source": [
    "example = \"\"\"赵客缦胡缨，吴钩霜雪明。\n",
    "银鞍照白马，飒沓如流星。\n",
    "十步杀一人，千里不留行。\n",
    "事了拂衣去，深藏身与名。\n",
    "闲过信陵饮，脱剑膝前横。\n",
    "将炙啖朱亥，持觞劝侯嬴。\n",
    "三杯吐然诺，五岳倒为轻。\n",
    "眼花耳热后，意气素霓生。\n",
    "救赵挥金锤，邯郸先震惊。\n",
    "千秋二壮士，烜赫大梁城。\n",
    "纵死侠骨香，不惭世上英。\n",
    "谁能书阁下，白首太玄经。\"\"\""
   ]
  },
  {
   "cell_type": "code",
   "execution_count": 3,
   "metadata": {},
   "outputs": [],
   "source": [
    "clearning_example = re.sub(r\"[^\\u4e00-\\u9fa5^a-z^A-Z^0-9]\",\"\",example)"
   ]
  },
  {
   "cell_type": "code",
   "execution_count": 4,
   "metadata": {
    "tags": []
   },
   "outputs": [
    {
     "name": "stderr",
     "output_type": "stream",
     "text": [
      "Building prefix dict from the default dictionary ...\n",
      "Dumping model to file cache /tmp/jieba.cache\n",
      "Loading model cost 0.543 seconds.\n",
      "Prefix dict has been built successfully.\n"
     ]
    },
    {
     "data": {
      "text/plain": [
       "array(['赵客', '缦', '胡缨', '吴钩', '霜雪', '明', '银鞍照', '白马', '飒沓', '如', '流星',\n",
       "       '十步', '杀', '一人', '千里', '不留', '行事', '了', '拂衣', '去', '深藏身', '与', '名',\n",
       "       '闲过', '信陵', '饮', '脱剑膝', '前横', '将', '炙', '啖', '朱亥持', '觞', '劝侯', '嬴',\n",
       "       '三杯', '吐然诺', '五岳', '倒', '为', '轻', '眼花耳热', '后', '意气', '素霓', '生救',\n",
       "       '赵挥金', '锤', '邯郸', '先', '震惊', '千秋', '二', '壮士', '烜', '赫', '大梁', '城纵',\n",
       "       '死', '侠骨', '香不惭', '世上', '英', '谁', '能', '书', '阁下', '白首', '太玄经'],\n",
       "      dtype='<U4')"
      ]
     },
     "execution_count": 4,
     "metadata": {},
     "output_type": "execute_result"
    }
   ],
   "source": [
    "init_example = np.array(list(jieba.cut(clearning_example)))\n",
    "init_example"
   ]
  },
  {
   "cell_type": "code",
   "execution_count": 5,
   "metadata": {},
   "outputs": [],
   "source": [
    "def NumpyProb(X,x):\n",
    "    n = X.size\n",
    "    expr = X==x\n",
    "    return (expr).dot(np.ones(n))/n"
   ]
  },
  {
   "cell_type": "code",
   "execution_count": 8,
   "metadata": {
    "tags": []
   },
   "outputs": [
    {
     "data": {
      "text/plain": [
       "4.23410650459726"
      ]
     },
     "execution_count": 8,
     "metadata": {},
     "output_type": "execute_result"
    }
   ],
   "source": [
    "def NumpyProb(X,x):\n",
    "    n = X.size\n",
    "    expr = X==x\n",
    "    return (expr).dot(np.ones(n))/n\n",
    "\n",
    "def info_content(X,u = 'bit' ):\n",
    "    if isinstance(X,(np.ndarray)) != True:\n",
    "        X = np.squeeze(np.array(X))\n",
    "    distionX = np.unique(X)\n",
    "    return u == \"bit\" and -np.log(distionX.size) or np.log(distionX.size)\n",
    "info_content(init_example,\"e\")"
   ]
  },
  {
   "cell_type": "code",
   "execution_count": 9,
   "metadata": {},
   "outputs": [
    {
     "data": {
      "text/plain": [
       "-0.6931471805599453"
      ]
     },
     "execution_count": 9,
     "metadata": {},
     "output_type": "execute_result"
    }
   ],
   "source": [
    "info_content([0,1])"
   ]
  },
  {
   "cell_type": "code",
   "execution_count": null,
   "metadata": {},
   "outputs": [],
   "source": []
  }
 ],
 "metadata": {
  "kernelspec": {
   "display_name": "Python 3 (ipykernel)",
   "language": "python",
   "name": "python3"
  },
  "language_info": {
   "codemirror_mode": {
    "name": "ipython",
    "version": 3
   },
   "file_extension": ".py",
   "mimetype": "text/x-python",
   "name": "python",
   "nbconvert_exporter": "python",
   "pygments_lexer": "ipython3",
   "version": "3.8.10"
  }
 },
 "nbformat": 4,
 "nbformat_minor": 4
}
