{
 "cells": [
  {
   "cell_type": "markdown",
   "metadata": {},
   "source": [
    "# Hash 对字符串s实现16/32位加密"
   ]
  },
  {
   "cell_type": "code",
   "execution_count": 1,
   "metadata": {
    "tags": []
   },
   "outputs": [
    {
     "output_type": "stream",
     "name": "stdout",
     "text": "c4ca4238a0b923820dcc509a6f75849b\n5d41402abc4b2a76b9719d911017c592\n"
    }
   ],
   "source": [
    "import hashlib\n",
    "def hash_cry32(s):\n",
    "    m = hashlib.md5()\n",
    "    m.update((str(s).encode('utf-8')))\n",
    "    return m.hexdigest()\n",
    "print(hash_cry32(1)) \n",
    "print(hash_cry32('hello'))"
   ]
  },
  {
   "cell_type": "markdown",
   "metadata": {},
   "source": [
    "<img src=\"/Users/manmanzhang/Library/Mobile Documents/com~apple~CloudDocs/MyProject/InferenceSystem/src/I5_algorithm/im/26D82872-AD05-4B65-B5E4-0D7B1AD331A7.png\">"
   ]
  },
  {
   "cell_type": "code",
   "execution_count": 2,
   "metadata": {
    "tags": []
   },
   "outputs": [
    {
     "output_type": "stream",
     "name": "stdout",
     "text": "{'code': 'hash.hexdigest', '类型': <class 'str'>, '长度': 32, '密文': 'c84cabbaebee9a9631c8be234ac64c26'}\n"
    }
   ],
   "source": [
    "import hashlib\n",
    "hash  = hashlib.md5()\n",
    "\n",
    "hash.update(('Hello, ').encode('utf-8'))\n",
    "ret2 = hash.hexdigest()\n",
    "print({\"code\":\"hash.hexdigest\",\"类型\":type(ret2), \"长度\":len(ret2), \"密文\":ret2})"
   ]
  },
  {
   "cell_type": "code",
   "execution_count": 3,
   "metadata": {
    "tags": []
   },
   "outputs": [
    {
     "output_type": "stream",
     "name": "stdout",
     "text": "{'code': 'hash.digest()', '类型': <class 'bytes'>, '长度': 16, '密文': b'e\\xa8\\xe2}\\x88y(81\\xb6d\\xbd\\x8b\\x7f\\n\\xd4'}\n"
    }
   ],
   "source": [
    "hash.update(('World!').encode('utf-8'))\n",
    "ret1 = hash.digest()\n",
    "print({\"code\":\"hash.digest()\",\"类型\":type(ret1), \"长度\":len(ret1), \"密文\":ret1})"
   ]
  },
  {
   "cell_type": "markdown",
   "metadata": {},
   "source": [
    "# 五、base64模块介绍\n",
    "#### 经常听到有人说“base64加密”，其实base64并不能用于数据加密，它也不是为了纯粹的数据加密而生的，它的出现是为了解决不可见字符串的网络传输和数据保存问题。因为，用base64对数据进行转换的过程不能成为“加密”与“解密”，只能成为“编码”与“解码”。下面我们也会用到它，所以这里顺便做下简单的介绍。\n",
    "\n",
    "### 1. base64的作用\n",
    "#### Base64是一种用64个字符来表示任意二进制数据的方法，它是一种通过查表对二进制数据进行编码的方法，不能用于数据加密。base64最初的出现时为了能够正确的传输邮件数据，因为邮件中的附件（比如图片）的二进制数中可能存在不可见字符（ascii码中128-255之间的值是不可见字符），比如我们尝试用记事本或其他文本编辑器打开一个图片时，通常都会看到一大堆乱码，这些乱码就是不可见字符。由于早期的一些网络设备和网络协议是无法正确识别这些字符的，这就可能在数据传输时出现各种无法预知的问题。base64的作用就是把含有不可见字符的信息用可见字符来表示（Ascii码中0-127之间的值是可见字符），从而解决这个问题。\n",
    "\n",
    "#### 关于base64的介绍及实现原理可以看看这几篇文章：\n",
    "\n",
    "#### http://www.cnblogs.com/wellsoho/archive/2009/12/09/1619924.html\n",
    "https://www.zhihu.com/question/36306744/answer/\n",
    "http://www.liaoxuefeng.com/wiki/001374738125095c955c1e6d8bb493182103fac9270762a000/001399413803339f4bbda5c01fc479cbea98b1387390748000\n",
    "#### 2. base64的常见应用场景\n",
    "#### base64适用于小段内容的编码，比如数字证书的签名、URL、Cookie信息等需要通过网络进行传输的小段数据。关于base64在数字签名中的应用会在本文后面讲解pycrypto模块使用实例时有具体的应用示例。\n",
    "\n",
    "### 3. base64模块介绍及简单使用示例\n",
    "#### Python中有一个内置的base64模块可直接用来进行base64的编码和解码工作--即提供 “二进制数据” 与 “可打印（可见）的ASCII字符”之间的转换功能。常用的函数有以下几个：\n",
    "<img src=\"/Users/manmanzhang/Library/Mobile Documents/com~apple~CloudDocs/MyProject/InferenceSystem/src/I5_algorithm/im/C9124FAC-7E51-440F-9B28-06C7C01B4C95.png\">"
   ]
  },
  {
   "cell_type": "code",
   "execution_count": 4,
   "metadata": {
    "tags": []
   },
   "outputs": [
    {
     "output_type": "stream",
     "name": "stdout",
     "text": "b'aGVsbG8sIOS4lueVjO+8gQ=='\nb'aGVsbG8sIOS4lueVjO-8gQ=='\nhello, 世界！\nhello, 世界！\n"
    }
   ],
   "source": [
    "import base64\n",
    "\n",
    "data = ('hello, 世界！').encode('utf-8')\n",
    "based_data1 = base64.b64encode(data)\n",
    "plain_data1 = base64.b64decode(based_data1)\n",
    "based_data2 = base64.urlsafe_b64encode(data)\n",
    "plain_data2 = base64.urlsafe_b64decode(based_data2)\n",
    "print(based_data1)\n",
    "print(based_data2)\n",
    "print(plain_data1.decode('utf-8'))\n",
    "print(plain_data2.decode('utf-8'))"
   ]
  },
  {
   "cell_type": "markdown",
   "metadata": {},
   "source": [
    "#  3. base64编码结果后的等号'='\n",
    "#### 通过上面的这个简单示例的输出结果会发现，随翻urlsafe_b64encode()函数会把编码结果中的字符'+'和字符'/'替换成其他URL的非保留字符，但是它的编码结果中还是可能出现字符'='。那么这些字符'='代表什么呢？能否去掉呢？\n",
    "\n",
    "#### 其实base64编码的过程中会先把原来数据中的每3个字节的二进制数据编码为4个字节的文本数据，当原始数据最后不满3个字节时就需要用'\\00'字节进行补位凑够3个字节，而且会在编码结果的最后加上相应个数的'='号来表示补了多少个字节，这样解码的时候就可以去掉那些补位的字节。\n",
    "\n",
    "### 由此我们可以得出两个结论：\n",
    "\n",
    "## $$ base64编码后的结果的末尾可能存在字符'='个数分别是：0个、1个和2 $$\n",
    "## $$ base64编码后的结果应该是4的倍数。$$\n",
    "#  基于以上第2个结论，为了避免编码结果中可能出现的的字符'='对网络数据传输造成影响，可以在传出前去掉后面的字符'='，接收方可以通过对数据的长度对4求模得到应该补上的字符'='个数，从而得到正确的数据。比如，我们可以通过下面这个解码函数来完成这个过程："
   ]
  },
  {
   "cell_type": "code",
   "execution_count": 5,
   "metadata": {
    "tags": []
   },
   "outputs": [
    {
     "output_type": "stream",
     "name": "stdout",
     "text": "hello, 世界！\nhello, 世界！\nhello, 世界！\n"
    }
   ],
   "source": [
    "import base64\n",
    "\n",
    "def safe_b64decode(s):\n",
    "    length = len(s) % 4\n",
    "    for i in range(length):\n",
    "        s = s + '='\n",
    "    return base64.b64decode(s)\n",
    "\n",
    "if __name__ == '__main__':\n",
    "    print(safe_b64decode('aGVsbG8sIOS4lueVjO+8gQ==').decode('utf-8'))\n",
    "    print(safe_b64decode('aGVsbG8sIOS4lueVjO+8gQ=').decode('utf-8'))\n",
    "    print(safe_b64decode('aGVsbG8sIOS4lueVjO+8gQ').decode('utf-8'))"
   ]
  },
  {
   "cell_type": "markdown",
   "metadata": {},
   "source": [
    "<img src=\"/Users/manmanzhang/Library/Mobile Documents/com~apple~CloudDocs/MyProject/InferenceSystem/src/I5_algorithm/im/FDC720F7-6B03-4748-B9A0-5BFA1C8D5D3E.png\">"
   ]
  },
  {
   "cell_type": "code",
   "execution_count": 6,
   "metadata": {},
   "outputs": [],
   "source": [
    "from Crypto.Hash import MD5"
   ]
  },
  {
   "cell_type": "markdown",
   "metadata": {},
   "source": [
    "## hash SHA256 加密"
   ]
  },
  {
   "cell_type": "code",
   "execution_count": 7,
   "metadata": {
    "tags": []
   },
   "outputs": [
    {
     "output_type": "stream",
     "name": "stdout",
     "text": "dffd6021bb2bd5b0af676290809ec3a53191dd81c7f70a4b28688a362182986f\n"
    }
   ],
   "source": [
    "from Crypto.Hash import SHA256\n",
    "\n",
    "hash = SHA256.new()\n",
    "hash.update('Hello, World!'.encode('utf-8'))\n",
    "digest = hash.hexdigest()\n",
    "print(digest)"
   ]
  },
  {
   "cell_type": "markdown",
   "metadata": {},
   "source": [
    "## AES加密 与 解密"
   ]
  },
  {
   "cell_type": "markdown",
   "metadata": {},
   "source": [
    "### 设置参数"
   ]
  },
  {
   "cell_type": "code",
   "execution_count": 8,
   "metadata": {},
   "outputs": [],
   "source": [
    "from Crypto.Cipher import AES\n",
    "\n",
    "# 加密与解密所使用的密钥，长度必须是16的倍数\n",
    "secret_key = \"ThisIs SecretKey\" \n",
    "# 要加密的明文数据，长度必须是16的倍数\n",
    "plain_data = \"Hello, World123!\"\n",
    "# IV参数，长度必须是16的倍数\n",
    "iv_param = 'This is an IV456'\n"
   ]
  },
  {
   "cell_type": "markdown",
   "metadata": {},
   "source": [
    "#### AES数据加密"
   ]
  },
  {
   "cell_type": "code",
   "execution_count": 9,
   "metadata": {
    "tags": []
   },
   "outputs": [
    {
     "output_type": "stream",
     "name": "stdout",
     "text": "cipher data： b'\\xcb\\x7fd\\x03\\x12T,\\xbe\\x91\\xac\\x1a\\xd5\\xaa\\xe6P\\x9a'\n"
    }
   ],
   "source": [
    "aes1 = AES.new(secret_key, AES.MODE_CBC, iv_param)\n",
    "cipher_data = aes1.encrypt(plain_data)\n",
    "print('cipher data：', cipher_data)"
   ]
  },
  {
   "cell_type": "markdown",
   "metadata": {},
   "source": [
    "#### AES数据解密"
   ]
  },
  {
   "cell_type": "code",
   "execution_count": 10,
   "metadata": {
    "tags": []
   },
   "outputs": [
    {
     "output_type": "stream",
     "name": "stdout",
     "text": "plain text： Hello, World123!\n"
    }
   ],
   "source": [
    "aes2 = AES.new(secret_key, AES.MODE_CBC, 'This is an IV456')\n",
    "plain_data2 = aes2.decrypt(cipher_data)  # 解密后的明文数据\n",
    "print('plain text：', plain_data2.decode('utf-8'))"
   ]
  },
  {
   "cell_type": "markdown",
   "metadata": {},
   "source": [
    "### 随机数操作"
   ]
  },
  {
   "cell_type": "code",
   "execution_count": 11,
   "metadata": {
    "tags": []
   },
   "outputs": [
    {
     "output_type": "stream",
     "name": "stdout",
     "text": "random.randint:  19\nrandom.randrange:  16\nrandom.randint:  4\nrandom.choice:  1\nrandom.sample:  [2, 4, 5]\nrandom.shuffle:  [2, 4, 1, 3, 5]\n"
    }
   ],
   "source": [
    "from Crypto.Random import random\n",
    "\n",
    "print('random.randint: ', random.randint(10, 20))\n",
    "print('random.randrange: ', random.randrange(10, 20, 2))\n",
    "print('random.randint: ', random.getrandbits(3))\n",
    "print('random.choice: ', random.choice([1, 2, 3, 4, 5]))\n",
    "print('random.sample: ', random.sample([1, 2, 3, 4, 5], 3))\n",
    "list = [1, 2, 3, 4, 5]\n",
    "random.shuffle(list)\n",
    "print('random.shuffle: ', list)"
   ]
  },
  {
   "cell_type": "markdown",
   "metadata": {},
   "source": [
    "## RSA算法生成密钥对儿"
   ]
  },
  {
   "cell_type": "code",
   "execution_count": 12,
   "metadata": {
    "tags": []
   },
   "outputs": [
    {
     "output_type": "stream",
     "name": "stdout",
     "text": "1、生成私钥和公钥\n2、加密和解密\nmessage: 大家好，这就是我要加密的数据\n加密（encrypt）\nb'kZJ52nspV9xAl/v9RXIwd5AgsnFwE4EcTOlVZLmxgjCFf6A6muFLJC8pFTQddXi8pB3KAIFSAy0lFdb8h4Sz8dg9EvK+M0TLJw0qMCKfwSowWEvzWYhOCtvfHIIE5/ZqRpay7mxlxxuea8Nl/ePVSGvBTx9sLFBk35WhShM/5mU='\n解密（decrypt）\ntext:大家好，这就是我要加密的数据\nmessage:大家好，这就是我要加密的数据\n3、 签名与验签\n签名\nb'D7jewCAiZU7J4lRcfkuIQaZJgI/jsLg/AJkZX/ipiXGv7dlV11XIXU6YbCFjHG9boyBj14TfxwOQ6wT/BtUuFGtUjtSIBfFd59peVyDRn67osbxOiMp4whjCBb/OysFNh5rCENDOZwsqP+ewV/+pfhfcqAd1lwu24aWvGU4JV8E='\n验签\nTrue\n"
    }
   ],
   "source": [
    "#-*- coding:utf-8 -*-\n",
    "from Crypto import Random\n",
    "from Crypto.Hash import SHA\n",
    "from Crypto.Cipher import PKCS1_v1_5 as Cipher_pkcs1_v1_5\n",
    "from Crypto.Signature import PKCS1_v1_5 as Signature_pkcs1_v1_5\n",
    "from Crypto.PublicKey import RSA\n",
    "import base64\n",
    "\n",
    "\n",
    "# 加密解密：公钥加密，私钥解密\n",
    "#\n",
    "# 签名验签：私钥签名，公钥验签\n",
    "#\n",
    "print (\"1、生成私钥和公钥\")\n",
    "\n",
    "# 伪随机数生成器\n",
    "random_generator = Random.new().read\n",
    "# rsa算法生成实例\n",
    "rsa = RSA.generate(1024, random_generator)\n",
    "# A的秘钥对的生成\n",
    "private_pem = rsa.exportKey()\n",
    "\n",
    "with open('aaa-private.pem', 'wb') as f:\n",
    "    f.write(private_pem)\n",
    "\n",
    "public_pem = rsa.publickey().exportKey()\n",
    "with open('aaa-public.pem', 'wb') as f:\n",
    "    f.write(public_pem)\n",
    "\n",
    "# B的秘钥对的生成\n",
    "private_pem = rsa.exportKey()\n",
    "with open('bbb-private.pem', 'wb') as f:\n",
    "    f.write(private_pem)\n",
    "\n",
    "public_pem = rsa.publickey().exportKey()\n",
    "with open('bbb-public.pem', 'wb') as f:\n",
    "    f.write(public_pem)\n",
    "\n",
    "# 加密和解密\n",
    "print (\"2、加密和解密\")\n",
    "# A使用B的公钥对内容进行rsa 加密\n",
    "\n",
    "message = '大家好，这就是我要加密的数据'\n",
    "print (\"message: \" + message)\n",
    "with open('bbb-public.pem') as f:\n",
    "    key = f.read()\n",
    "    rsakey = RSA.importKey(str(key))\n",
    "    cipher = Cipher_pkcs1_v1_5.new(rsakey)\n",
    "    cipher_text = base64.b64encode(cipher.encrypt(bytes(message.encode(\"utf8\"))))\n",
    "    print (\"加密（encrypt）\")\n",
    "    print (cipher_text)\n",
    "\n",
    "# B使用自己的私钥对内容进行rsa 解密\n",
    "\n",
    "with open('bbb-private.pem') as f:\n",
    "    key = f.read()\n",
    "    rsakey = RSA.importKey(key)\n",
    "    cipher = Cipher_pkcs1_v1_5.new(rsakey)\n",
    "    text = cipher.decrypt(base64.b64decode(cipher_text), random_generator)\n",
    "    print( \"解密（decrypt）\")\n",
    "    print (\"text:\" + str(text,\"utf8\"))\n",
    "    print(\"message:\"+message)\n",
    "\n",
    "    assert str(text,\"utf8\") == message\n",
    "\n",
    "# 签名与验签\n",
    "print (\"3、 签名与验签\")\n",
    "\n",
    "# A使用自己的私钥对内容进行签名\n",
    "print( \"签名\")\n",
    "with open('aaa-private.pem') as f:\n",
    "    key = f.read()\n",
    "    rsakey = RSA.importKey(key)\n",
    "    signer = Signature_pkcs1_v1_5.new(rsakey)\n",
    "    digest = SHA.new()\n",
    "    digest.update(message.encode(\"utf8\"))\n",
    "    sign = signer.sign(digest)\n",
    "    signature = base64.b64encode(sign)\n",
    "\n",
    "print(signature)\n",
    "#B使用A的公钥进行验签\n",
    "print (\"验签\")\n",
    "with open('aaa-public.pem') as f:\n",
    "    key = f.read()\n",
    "    rsakey = RSA.importKey(key)\n",
    "    verifier = Signature_pkcs1_v1_5.new(rsakey)\n",
    "    digest = SHA.new()\n",
    "    digest.update(message.encode(\"utf8\"))\n",
    "    is_verify = verifier.verify(digest, base64.b64decode(signature))\n",
    "print (is_verify)"
   ]
  },
  {
   "cell_type": "markdown",
   "metadata": {},
   "source": [
    "参考资料 https://www.cnblogs.com/yyds/p/7072492.html\n",
    "\n",
    "官方文档 https://www.dlitz.net/software/pycrypto/\n",
    "\n",
    "简书 https://www.jianshu.com/p/9e9693d70aba"
   ]
  }
 ],
 "metadata": {
  "language_info": {
   "codemirror_mode": {
    "name": "ipython",
    "version": 3
   },
   "file_extension": ".py",
   "mimetype": "text/x-python",
   "name": "python",
   "nbconvert_exporter": "python",
   "pygments_lexer": "ipython3",
   "version": "3.7.6-final"
  },
  "orig_nbformat": 2,
  "kernelspec": {
   "name": "pycharm-66c53067",
   "display_name": "PyCharm (InferenceSystem)"
  }
 },
 "nbformat": 4,
 "nbformat_minor": 2
}