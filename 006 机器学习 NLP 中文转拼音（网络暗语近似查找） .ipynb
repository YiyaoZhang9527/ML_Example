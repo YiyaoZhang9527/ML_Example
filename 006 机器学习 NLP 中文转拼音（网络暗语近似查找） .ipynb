{
 "cells": [
  {
   "cell_type": "markdown",
   "metadata": {},
   "source": [
    "# 一个有意思还有用的Python包-汉字转换拼音\n",
    "https://mp.weixin.qq.com/s/e3fMJ322Mx_9d0JMT9HsQAhttps://mp.weixin.qq.com/s/e3fMJ322Mx_9d0JMT9HsQA\n",
    "#### 安装： pip3 install pypinyin"
   ]
  },
  {
   "cell_type": "markdown",
   "metadata": {},
   "source": [
    "核心函数\n",
    "\n",
    "1、pypinyin.pinyin\n",
    "\n",
    "语法：pypinyin.pinyin(hans, style=Style.TONE,  heteronym=False, errors='default', strict=True)\n",
    "\n",
    "# 功能：将汉字转换为拼音，返回汉字的拼音列表。\n",
    "\n",
    "参数：\n",
    "\n",
    "hans (unicode 字符串或字符串列表) – 汉字字符串( '你好吗' )或列表( ['你好', '吗'] ). 可以使用自己喜爱的分词模块对字符串进行分词处理, 只需将经过分词处理的字符串列表传进来就可以了。\n",
    "\n",
    "style – 指定拼音风格，默认是 TONE 风格。更多拼音风格详见 Style\n",
    "\n",
    "errors –指定如何处理没有拼音的字符。详见 处理不包含拼音的字符\n",
    "\n",
    "heteronym – 是否启用多音字\n",
    "\n",
    "strict – 是否严格遵照《汉语拼音方案》来处理声母和韵母，详见 strict 参数的影响\n",
    "\n"
   ]
  },
  {
   "cell_type": "code",
   "execution_count": 1,
   "metadata": {},
   "outputs": [
    {
     "output_type": "execute_result",
     "data": {
      "text/plain": "[['zhong1'], ['xin1']]"
     },
     "metadata": {},
     "execution_count": 1
    }
   ],
   "source": [
    "from pypinyin import pinyin, Style\n",
    "import pypinyin\n",
    "#普通模式\n",
    "pinyin('中心'),pinyin('公众号')"
   ]
  },
  {
   "cell_type": "code",
   "execution_count": 8,
   "metadata": {},
   "outputs": [
    {
     "output_type": "execute_result",
     "data": {
      "text/plain": "[['zhong'], ['xin']]"
     },
     "metadata": {},
     "execution_count": 8
    }
   ],
   "source": [
    "\n",
    "pinyin('中心', style=Style.NORMAL ) #普通风格"
   ]
  },
  {
   "cell_type": "code",
   "execution_count": 9,
   "metadata": {},
   "outputs": [
    {
     "output_type": "execute_result",
     "data": {
      "text/plain": "[['zhōng'], ['xīn']]"
     },
     "metadata": {},
     "execution_count": 9
    }
   ],
   "source": [
    "\n",
    "pinyin('中心', style=Style.bit_length )"
   ]
  },
  {
   "cell_type": "code",
   "execution_count": null,
   "metadata": {},
   "outputs": [],
   "source": []
  },
  {
   "cell_type": "markdown",
   "metadata": {},
   "source": [
    "#  启用多音字模式"
   ]
  },
  {
   "cell_type": "code",
   "execution_count": 2,
   "metadata": {},
   "outputs": [
    {
     "output_type": "execute_result",
     "data": {
      "text/plain": "[['zhōng', 'zhòng'], ['xīn']]"
     },
     "metadata": {},
     "execution_count": 2
    }
   ],
   "source": [
    "\n",
    "pinyin('中心', heteronym=True)"
   ]
  },
  {
   "cell_type": "code",
   "execution_count": 3,
   "metadata": {},
   "outputs": [
    {
     "output_type": "execute_result",
     "data": {
      "text/plain": "[['z'], ['x']]"
     },
     "metadata": {},
     "execution_count": 3
    }
   ],
   "source": [
    "pinyin('中心', style=Style.FIRST_LETTER)"
   ]
  },
  {
   "cell_type": "code",
   "execution_count": 4,
   "metadata": {},
   "outputs": [
    {
     "output_type": "execute_result",
     "data": {
      "text/plain": "[['zho1ng'], ['xi1n']]"
     },
     "metadata": {},
     "execution_count": 4
    }
   ],
   "source": [
    "pinyin('中心', style=Style.TONE2)"
   ]
  },
  {
   "cell_type": "code",
   "execution_count": 5,
   "metadata": {},
   "outputs": [
    {
     "output_type": "execute_result",
     "data": {
      "text/plain": "[['zhong1'], ['xin1']]"
     },
     "metadata": {},
     "execution_count": 5
    }
   ],
   "source": [
    "pinyin('中心', style=Style.TONE3)"
   ]
  },
  {
   "cell_type": "markdown",
   "metadata": {},
   "source": [
    "2、pypinyin.lazy_pinyin\n",
    "\n",
    "语法：pypinyin.lazy_pinyin(hans, style=Style, errors='default', strict=True)\n",
    "\n",
    "# 功能：将汉字转换为拼音，返回不包含多音字结果的拼音列表，与 pinyin() 的区别是返回的拼音是个字符串， 并且每个字只包含一个读音\n",
    "\n",
    "参数：\n",
    "\n",
    "hans (unicode or list) – 汉字\n",
    "\n",
    "style – 指定拼音风格，默认是 NORMAL 风格。更多拼音风格详见 Style。\n",
    "\n",
    "errors – 指定如何处理没有拼音的字符，详情请参考 pinyin()\n",
    "\n",
    "strict – 是否严格遵照《汉语拼音方案》来处理声母和韵母，详见 strict 参数的"
   ]
  },
  {
   "cell_type": "code",
   "execution_count": 10,
   "metadata": {},
   "outputs": [
    {
     "output_type": "execute_result",
     "data": {
      "text/plain": "['zhong', 'xin']"
     },
     "metadata": {},
     "execution_count": 10
    }
   ],
   "source": [
    "from pypinyin import lazy_pinyin, Style\n",
    "import pypinyin\n",
    "\n",
    "lazy_pinyin('中心')"
   ]
  },
  {
   "cell_type": "code",
   "execution_count": 11,
   "metadata": {},
   "outputs": [
    {
     "output_type": "execute_result",
     "data": {
      "text/plain": "['wei', 'xin', 'gong', 'zhong', 'hao']"
     },
     "metadata": {},
     "execution_count": 11
    }
   ],
   "source": [
    "lazy_pinyin('微信公众号')"
   ]
  },
  {
   "cell_type": "code",
   "execution_count": 13,
   "metadata": {},
   "outputs": [
    {
     "output_type": "execute_result",
     "data": {
      "text/plain": "['zhōng', 'xīn']"
     },
     "metadata": {},
     "execution_count": 13
    }
   ],
   "source": [
    "lazy_pinyin('中心', style=Style.TONE)"
   ]
  },
  {
   "cell_type": "code",
   "execution_count": 15,
   "metadata": {},
   "outputs": [
    {
     "output_type": "execute_result",
     "data": {
      "text/plain": "['z', 'x']"
     },
     "metadata": {},
     "execution_count": 15
    }
   ],
   "source": [
    "lazy_pinyin('中心', style=Style.FIRST_LETTER)"
   ]
  },
  {
   "cell_type": "code",
   "execution_count": 16,
   "metadata": {},
   "outputs": [
    {
     "output_type": "execute_result",
     "data": {
      "text/plain": "['zho1ng', 'xi1n']"
     },
     "metadata": {},
     "execution_count": 16
    }
   ],
   "source": [
    "lazy_pinyin('中心', style=Style.TONE2)"
   ]
  },
  {
   "cell_type": "code",
   "execution_count": 17,
   "metadata": {},
   "outputs": [
    {
     "output_type": "execute_result",
     "data": {
      "text/plain": "['чжун1', 'синь1']"
     },
     "metadata": {},
     "execution_count": 17
    }
   ],
   "source": [
    "lazy_pinyin('中心', style=Style.CYRILLIC)"
   ]
  },
  {
   "cell_type": "markdown",
   "metadata": {},
   "source": [
    "3、pypinyin.slug\n",
    "\n",
    "# 功能：将汉字转换为拼音，然后生成 slug 字符串，简单说就是自定义分隔符\n",
    "\n",
    "语法：pypinyin.slug(hans , style=Style, heteronym=False, separator='-', errors='default', strict=True)\n",
    "\n",
    "hans (unicode or list) – 汉字\n",
    "\n",
    "style – 指定拼音风格，默认是 NORMAL 风格。更多拼音风格详见 Style\n",
    "\n",
    "heteronym – 是否启用多音字\n",
    "\n",
    "separator – 两个拼音间的分隔符/连接符\n",
    "\n",
    "errors – 指定如何处理没有拼音的字符，详情请参考 pinyin()\n",
    "\n",
    "strict – 是否严格遵照《汉语拼音方案》来处理声母和韵母，详见 strict 参数的影响"
   ]
  },
  {
   "cell_type": "code",
   "execution_count": 18,
   "metadata": {},
   "outputs": [
    {
     "output_type": "execute_result",
     "data": {
      "text/plain": "'wo-shi-zhong-guo-ren'"
     },
     "metadata": {},
     "execution_count": 18
    }
   ],
   "source": [
    "import pypinyin\n",
    "from pypinyin import Style\n",
    "pypinyin.slug('我是中国人')"
   ]
  },
  {
   "cell_type": "code",
   "execution_count": 19,
   "metadata": {},
   "outputs": [
    {
     "output_type": "execute_result",
     "data": {
      "text/plain": "'wo shi zhong guo ren'"
     },
     "metadata": {},
     "execution_count": 19
    }
   ],
   "source": [
    "pypinyin.slug('我是中国人', separator=' ')"
   ]
  },
  {
   "cell_type": "markdown",
   "metadata": {},
   "source": [
    "# 遇到数字等非汉字不注音"
   ]
  },
  {
   "cell_type": "code",
   "execution_count": 20,
   "metadata": {},
   "outputs": [
    {
     "output_type": "execute_result",
     "data": {
      "text/plain": "'zhong guo ren 2020 xiong qi'"
     },
     "metadata": {},
     "execution_count": 20
    }
   ],
   "source": [
    "pypinyin.slug('中国人2020雄起', separator=' ')"
   ]
  },
  {
   "cell_type": "code",
   "execution_count": 21,
   "metadata": {},
   "outputs": [
    {
     "output_type": "execute_result",
     "data": {
      "text/plain": "'во3-ши4-чжун1-го2-жэнь2'"
     },
     "metadata": {},
     "execution_count": 21
    }
   ],
   "source": [
    "pypinyin.slug('我是中国人', style=Style.CYRILLIC)"
   ]
  },
  {
   "cell_type": "markdown",
   "metadata": {},
   "source": [
    "5、 pypinyin.load_phrases_dict\n",
    "\n",
    "# 功能：载入用户自定义的词语拼音库\n",
    "\n",
    "语法： pypinyin.load_phrases_dict(phrases_dict, style='default')\n",
    "\n",
    "参数：\n",
    "\n",
    "phrases_dict (dict) – 词语拼音库。比如： {u\"阿爸\": [[u\"ā\"], [u\"bà\"]]}\n",
    "\n",
    "style – phrases_dict 参数值的拼音库风格. 支持 ‘default’, ‘tone2’\n",
    "\n",
    " \n",
    "\n"
   ]
  },
  {
   "cell_type": "code",
   "execution_count": 27,
   "metadata": {},
   "outputs": [
    {
     "output_type": "execute_result",
     "data": {
      "text/plain": "'a b'"
     },
     "metadata": {},
     "execution_count": 27
    }
   ],
   "source": [
    "phrases_dict = {u\"阿爸\": [u\"ā\", u\"bà\"]}\n",
    "pypinyin.load_phrases_dict(phrases_dict, style='default')\n",
    "pypinyin.slug('阿爸', separator=' ')"
   ]
  },
  {
   "cell_type": "markdown",
   "metadata": {},
   "source": [
    "## 雅卡尔相似度判断是否近似"
   ]
  },
  {
   "cell_type": "code",
   "execution_count": 29,
   "metadata": {},
   "outputs": [
    {
     "output_type": "execute_result",
     "data": {
      "text/plain": "0.5"
     },
     "metadata": {},
     "execution_count": 29
    }
   ],
   "source": [
    "\n",
    "S1 = '加公众号：小优惠，领券，便宜购买'\n",
    "S2 = '伽工仲号：小优惠，伶绻，便宜购买'\n",
    "\n",
    "#汉语相似\n",
    "simi_1 = len(set(S1).intersection(set(S2)))/len(set(S1).union(set(S2)))#相似不懂的可以看我前面集合的文章\n",
    "simi_1"
   ]
  },
  {
   "cell_type": "code",
   "execution_count": 28,
   "metadata": {},
   "outputs": [
    {
     "output_type": "execute_result",
     "data": {
      "text/plain": "0.875"
     },
     "metadata": {},
     "execution_count": 28
    }
   ],
   "source": [
    "#转换成拼音后显示\n",
    "S1 = lazy_pinyin(S1)\n",
    "S2 = lazy_pinyin(S2)\n",
    "simi_2 = len(set(S1).intersection(set(S2)))/len(set(S1).union(set(S2)))\n",
    "simi_2\n",
    "0.875"
   ]
  },
  {
   "cell_type": "code",
   "execution_count": null,
   "metadata": {},
   "outputs": [],
   "source": []
  }
 ],
 "metadata": {
  "language_info": {
   "codemirror_mode": {
    "name": "ipython",
    "version": 3
   },
   "file_extension": ".py",
   "mimetype": "text/x-python",
   "name": "python",
   "nbconvert_exporter": "python",
   "pygments_lexer": "ipython3",
   "version": "3.7.6-final"
  },
  "orig_nbformat": 2,
  "kernelspec": {
   "name": "pycharm-66c53067",
   "display_name": "PyCharm (InferenceSystem)"
  }
 },
 "nbformat": 4,
 "nbformat_minor": 2
}