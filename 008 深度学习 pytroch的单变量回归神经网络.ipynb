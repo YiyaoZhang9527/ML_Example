{
 "cells": [
  {
   "cell_type": "code",
   "execution_count": 1,
   "metadata": {},
   "outputs": [],
   "source": [
    "import torch\n",
    "from torch.autograd import Variable\n",
    "import torch.nn.functional as F\n",
    "import matplotlib.pyplot as plt"
   ]
  },
  {
   "cell_type": "code",
   "execution_count": 2,
   "metadata": {},
   "outputs": [
    {
     "data": {
      "text/plain": [
       "(torch.Size([100]), torch.Size([100, 1]), torch.Size([100, 1]))"
      ]
     },
     "execution_count": 2,
     "metadata": {},
     "output_type": "execute_result"
    }
   ],
   "source": [
    "srcx = torch.linspace(-1,1,100)\n",
    "x = torch.unsqueeze(srcx,dim=1) # torch只处理二维数据，所以要把数据升维\n",
    "\n",
    "y = x.pow(2) + 0.2 * torch.rand(x.size())\n",
    "srcx.shape,x.shape,y.shape"
   ]
  },
  {
   "cell_type": "code",
   "execution_count": 3,
   "metadata": {},
   "outputs": [],
   "source": [
    "## 把x,y 变成 Variable 因为神经网络只能输入Variable\n",
    "x,y = Variable(x),Variable(y)"
   ]
  },
  {
   "cell_type": "code",
   "execution_count": 4,
   "metadata": {},
   "outputs": [
    {
     "data": {
      "text/plain": [
       "<matplotlib.collections.PathCollection at 0x7f8ab9084310>"
      ]
     },
     "execution_count": 4,
     "metadata": {},
     "output_type": "execute_result"
    },
    {
     "data": {
      "image/png": "[encoded data removed]",
      "text/plain": [
       "<Figure size 432x288 with 1 Axes>"
      ]
     },
     "metadata": {
      "needs_background": "light"
     },
     "output_type": "display_data"
    }
   ],
   "source": [
    "plt.scatter(x,y)"
   ]
  },
  {
   "cell_type": "code",
   "execution_count": 5,
   "metadata": {},
   "outputs": [],
   "source": [
    "class RegressionNeuralNetwork(torch.nn.Module): # torch.nn.Module net的主模块\n",
    "    def __init__(self,n_features,n_hidden,n_output):\n",
    "        '''\n",
    "        n_features 数据个数\n",
    "        n_hidden 隐藏层的神经元的个数\n",
    "        n_output\n",
    "        '''\n",
    "        super(RegressionNeuralNetwork,self).__init__() #要继承模块的信息\n",
    "        self.hidden = torch.nn.Linear(n_features,n_hidden) # 隐藏层，输入的内容是他有多少哥输入和输出\n",
    "        self.predict = torch.nn.Linear(n_hidden,n_output) # 输出预测层，输入的内容是\n",
    "\n",
    "    def forward(self,x):\n",
    "        '''前向传播'''\n",
    "        x = F.relu(self.hidden(x)) #过一遍hidden传入上面定义的线性神经网络处理的函数中\n",
    "        x = self.predict(x)\n",
    "        return x"
   ]
  },
  {
   "cell_type": "code",
   "execution_count": 6,
   "metadata": {},
   "outputs": [],
   "source": [
    "net = RegressionNeuralNetwork(1,10,1)"
   ]
  },
  {
   "cell_type": "code",
   "execution_count": 7,
   "metadata": {},
   "outputs": [],
   "source": [
    "'''\n",
    "optimizer 设置优化器\n",
    "lr是学习率 这里设置为0.005\n",
    "'''\n",
    "optimizer = torch.optim.SGD(net.parameters(),lr=0.005)\n",
    "'''\n",
    "设置损失函数\n",
    "MSELoss 平方误差和做回归的损失函数比较合适\n",
    "'''\n",
    "loss_func = torch.nn.MSELoss()\n",
    "'''训练神经网络10000次'''\n",
    "for t in range(10000):\n",
    "    '''调用图神经网络预测，输入x'''\n",
    "    prediction = net(x) \n",
    "    '''计算y值的误差,传入预测值和y的实际值'''\n",
    "    loss = loss_func(prediction,y)\n",
    "    '''梯度下降的终点设置为0'''\n",
    "    optimizer.zero_grad() #\n",
    "    '''设置反向传播'''\n",
    "    loss.backward() #\n",
    "    ''''''\n",
    "    optimizer.step()"
   ]
  },
  {
   "cell_type": "code",
   "execution_count": 8,
   "metadata": {},
   "outputs": [
    {
     "data": {
      "text/plain": [
       "SGD (\n",
       "Parameter Group 0\n",
       "    dampening: 0\n",
       "    lr: 0.005\n",
       "    momentum: 0\n",
       "    nesterov: False\n",
       "    weight_decay: 0\n",
       ")"
      ]
     },
     "execution_count": 8,
     "metadata": {},
     "output_type": "execute_result"
    }
   ],
   "source": [
    "optimizer"
   ]
  },
  {
   "cell_type": "code",
   "execution_count": 9,
   "metadata": {},
   "outputs": [
    {
     "data": {
      "text/plain": [
       "<matplotlib.collections.PathCollection at 0x7f8ab8f8e3d0>"
      ]
     },
     "execution_count": 9,
     "metadata": {},
     "output_type": "execute_result"
    },
    {
     "data": {
      "image/png": "[encoded data removed]",
      "text/plain": [
       "<Figure size 432x288 with 1 Axes>"
      ]
     },
     "metadata": {
      "needs_background": "light"
     },
     "output_type": "display_data"
    }
   ],
   "source": [
    "plt.plot(prediction.data.numpy(),c='r')\n",
    "plt.scatter(range(y.shape[0]),y,c='g')"
   ]
  },
  {
   "cell_type": "code",
   "execution_count": null,
   "metadata": {},
   "outputs": [],
   "source": []
  },
  {
   "cell_type": "code",
   "execution_count": null,
   "metadata": {},
   "outputs": [],
   "source": []
  }
 ],
 "metadata": {
  "kernelspec": {
   "display_name": "Python [conda env:deepin_pytorch]",
   "language": "python",
   "name": "conda-env-deepin_pytorch-py"
  },
  "language_info": {
   "codemirror_mode": {
    "name": "ipython",
    "version": 3
   },
   "file_extension": ".py",
   "mimetype": "text/x-python",
   "name": "python",
   "nbconvert_exporter": "python",
   "pygments_lexer": "ipython3",
   "version": "3.8.5"
  }
 },
 "nbformat": 4,
 "nbformat_minor": 4
}
