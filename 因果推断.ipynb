{
 "cells": [
  {
   "cell_type": "code",
   "execution_count": 1,
   "metadata": {},
   "outputs": [],
   "source": [
    "import numpy as np"
   ]
  },
  {
   "cell_type": "markdown",
   "metadata": {},
   "source": [
    "# 相关不等于因果"
   ]
  },
  {
   "cell_type": "code",
   "execution_count": 2,
   "metadata": {},
   "outputs": [
    {
     "data": {
      "text/plain": [
       "0"
      ]
     },
     "execution_count": 2,
     "metadata": {},
     "output_type": "execute_result"
    }
   ],
   "source": [
    "def demo_of_causal_y(x=np.random.choice([0,1]),uy=np.random.choice([0,1])):\n",
    "    '''\n",
    "    y是内生变量\n",
    "    x,uy是外生变量\n",
    "    '''\n",
    "    if x == uy:\n",
    "        y = 1 \n",
    "    else:\n",
    "        y = 0\n",
    "    return y\n",
    "demo_of_causal_y()"
   ]
  },
  {
   "cell_type": "code",
   "execution_count": 3,
   "metadata": {},
   "outputs": [],
   "source": [
    "def create_data(m):\n",
    "    dock = []\n",
    "    for i in range(m):\n",
    "        x,uy = np.random.choice([0,1]),np.random.choice([0,1])\n",
    "        y = demo_of_causal_y(x,uy)\n",
    "        dock.append([x,uy,y])\n",
    "    return np.array(dock)\n",
    "test_data = create_data(10)"
   ]
  },
  {
   "cell_type": "markdown",
   "metadata": {},
   "source": [
    "# 测量x和y有没有相关性，这是一个古典概型"
   ]
  },
  {
   "cell_type": "code",
   "execution_count": 5,
   "metadata": {},
   "outputs": [],
   "source": [
    "y0 = (test_data[:,2]==0).sum()/10\n",
    "\n",
    "uy = (test_data[:,2]==0).sum()/10"
   ]
  },
  {
   "cell_type": "code",
   "execution_count": null,
   "metadata": {},
   "outputs": [],
   "source": []
  }
 ],
 "metadata": {
  "kernelspec": {
   "display_name": "Python 3",
   "language": "python",
   "name": "python3"
  },
  "language_info": {
   "codemirror_mode": {
    "name": "ipython",
    "version": 3
   },
   "file_extension": ".py",
   "mimetype": "text/x-python",
   "name": "python",
   "nbconvert_exporter": "python",
   "pygments_lexer": "ipython3",
   "version": "3.8.5"
  }
 },
 "nbformat": 4,
 "nbformat_minor": 4
}
