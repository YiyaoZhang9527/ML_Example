{
 "metadata": {
  "language_info": {
   "codemirror_mode": {
    "name": "ipython",
    "version": 3
   },
   "file_extension": ".py",
   "mimetype": "text/x-python",
   "name": "python",
   "nbconvert_exporter": "python",
   "pygments_lexer": "ipython3",
   "version": "3.7.6-final"
  },
  "orig_nbformat": 2,
  "kernelspec": {
   "name": "python3",
   "language": "python",
   "display_name": "Python 3"
  }
 },
 "nbformat": 4,
 "nbformat_minor": 2,
 "cells": [
  {
   "cell_type": "code",
   "execution_count": 1,
   "metadata": {},
   "outputs": [],
   "source": [
    "import numpy as np\n",
    "import torch \n",
    "import matplotlib.pyplot as plt"
   ]
  },
  {
   "cell_type": "markdown",
   "metadata": {},
   "source": [
    "### $ 根据热力学的原理，在温度为T时，出现能量差为dE的降温的概率为P(dE)，表示为：$\n",
    "# $ P(dE) = exp( dE/(k*T) ) $\n",
    "### $ 其中k是一个常数，exp表示自然指数，且dE<0(温度总是降低的)。这条公式指明了 $"
   ]
  },
  {
   "cell_type": "markdown",
   "metadata": {},
   "source": [
    "# 待优化函数"
   ]
  },
  {
   "cell_type": "code",
   "execution_count": 2,
   "metadata": {},
   "outputs": [
    {
     "data": {
      "text/plain": "0.34562015016600356"
     },
     "execution_count": 2,
     "metadata": {},
     "output_type": "execute_result"
    }
   ],
   "source": [
    "def f(x=1): #待最小函数\n",
    "    return np.random.randn(100000)[x]\n",
    "f()"
   ]
  },
  {
   "cell_type": "code",
   "execution_count": 3,
   "metadata": {},
   "outputs": [],
   "source": [
    "X = np.random.randn(100).reshape(10,10)\n",
    "Y = np.random.randn(100).reshape(10,10)\n",
    "def minkowski(x, y, p ):\n",
    "    return np.sum(np.abs(x - y) ** p) ** (1 / p)"
   ]
  },
  {
   "cell_type": "code",
   "execution_count": 4,
   "metadata": {
    "tags": []
   },
   "outputs": [
    {
     "name": "stdout",
     "output_type": "stream",
     "text": [
      "128.60363286027138\n",
      "15.46972856095734\n",
      "8.287924859198371\n",
      "6.342476907468081\n",
      "5.538618520340065\n",
      "5.133493416313169\n",
      "4.904352706055179\n",
      "4.764611673964163\n",
      "4.6747660483699605\n"
     ]
    }
   ],
   "source": [
    "for i in range(1,10):\n",
    "    print(minkowski(X,Y,i))"
   ]
  },
  {
   "cell_type": "markdown",
   "metadata": {},
   "source": [
    "# 退火算法"
   ]
  },
  {
   "cell_type": "code",
   "execution_count": 5,
   "metadata": {
    "tags": []
   },
   "outputs": [],
   "source": [
    "def PDE(DE,t,k=1):\n",
    "    return np.exp((DE)/(k*t))"
   ]
  },
  {
   "cell_type": "code",
   "execution_count": 6,
   "metadata": {},
   "outputs": [],
   "source": [
    "def DE_function(new,old):\n",
    "    return new - old"
   ]
  },
  {
   "cell_type": "code",
   "execution_count": 7,
   "metadata": {},
   "outputs": [],
   "source": [
    "def jump(DE,T,k=1):\n",
    "    return PDE(DE,T,k) > np.random.rand() and 0 or 1# "
   ]
  },
  {
   "cell_type": "code",
   "execution_count": 8,
   "metadata": {
    "tags": []
   },
   "outputs": [
    {
     "name": "stdout",
     "output_type": "stream",
     "text": [
      "128.60363286027138 0\n",
      "系统温度:0.11 新状态:0 迭代轮次:1 DE:128.60363286027138\n",
      "1\n"
     ]
    }
   ],
   "source": [
    "import numpy as np\n",
    "import matplotlib.pyplot as plt\n",
    "\n",
    "def f(x=1): #待优化最小函数\n",
    "    return np.random.randn(100000)[x]\n",
    "\n",
    "def minkowski(x, y, p ):\n",
    "    return np.sum(np.abs(x - y) ** p) ** (1 / p)\n",
    "\n",
    "def PDE(DE,t,k=1):\n",
    "    return np.exp((DE)/(k*t))\n",
    "\n",
    "def DE_function(new,old):\n",
    "    return new - old\n",
    "\n",
    "def jump(DE,T,k=1):\n",
    "    return PDE(DE,T,k) > np.random.rand() and 0 or 1# \n",
    "\n",
    "def simulated_annealing(X,Y,ps,parameter={\"T\":1,\"T_min\":0,\"r\":0.0001,\"expr\":0,\"jump_max\":np.inf}):\n",
    "    path , funcpath = [] ,[]\n",
    "\n",
    "    T = parameter[\"T\"] #系统温度，初时应在高温\n",
    "    T_min = parameter[\"T_min\"] #最小温度值\n",
    "    r = parameter[\"r\"] #降温速率\n",
    "    counter = 0\n",
    "    expr = parameter[\"expr\"] #假设初解\n",
    "    jump_max = parameter[\"jump_max\"] # 最大冷却值\n",
    "    jump_counter = 0\n",
    "\n",
    "    for p in ps:\n",
    "        if T > T_min and T != 1:\n",
    "            print(1)\n",
    "            return expr,path,funcpath\n",
    "        counter += 1\n",
    "        new_expr = minkowski(X,Y,p) #新解\n",
    "        funcpath.append(new_expr)\n",
    "        DE = new_expr - expr \n",
    "        print(DE,expr)\n",
    "        if DE <= 0:\n",
    "            expr = new_expr\n",
    "            jump_counter = 0\n",
    "        elif DE > 0:\n",
    "            expr = expr\n",
    "            if jump(DE,T):\n",
    "                T *= r\n",
    "                jump_counter += 1  \n",
    "                if jump_counter > jump_max:\n",
    "                    print(\"最大回炉冷却次数:\",jump_counter)\n",
    "                    return expr,path,funcpath\n",
    "        path.append(expr)\n",
    "        print(\"{}{}{}{}{}{}{}{}\".format('系统温度:',T,' 新状态:',expr,' 迭代轮次:',counter,' DE:',DE))\n",
    "        \n",
    "    return expr,path,funcpath\n",
    "expr,path,funcpath = simulated_annealing(X,Y,np.linspace(1,20,1000),parameter={\"T\":1,\"T_min\":0,\"r\":0.11,\"expr\":0,\"jump_max\":1000})"
   ]
  },
  {
   "cell_type": "code",
   "execution_count": 9,
   "metadata": {},
   "outputs": [
    {
     "data": {
      "text/plain": "[<matplotlib.lines.Line2D at 0x7fb1aa4a6e80>]"
     },
     "execution_count": 9,
     "metadata": {},
     "output_type": "execute_result"
    },
    {
     "data": {
      "text/plain": "<Figure size 432x288 with 1 Axes>",
      "image/png": "[encoded data removed]"
     },
     "metadata": {
      "needs_background": "light"
     },
     "output_type": "display_data"
    }
   ],
   "source": [
    "plt.plot(path,c='g')\n",
    "plt.plot(funcpath,c='r')"
   ]
  },
  {
   "cell_type": "code",
   "execution_count": 10,
   "metadata": {},
   "outputs": [
    {
     "data": {
      "text/plain": "array([1.00000000e-08, 2.00200300e-02, 4.00400500e-02, 6.00600700e-02,\n       8.00800900e-02, 1.00100110e-01, 1.20120130e-01, 1.40140150e-01,\n       1.60160170e-01, 1.80180190e-01, 2.00200210e-01, 2.20220230e-01,\n       2.40240250e-01, 2.60260270e-01, 2.80280290e-01, 3.00300310e-01,\n       3.20320330e-01, 3.40340350e-01, 3.60360370e-01, 3.80380390e-01,\n       4.00400410e-01, 4.20420430e-01, 4.40440450e-01, 4.60460470e-01,\n       4.80480490e-01, 5.00500510e-01, 5.20520530e-01, 5.40540550e-01,\n       5.60560570e-01, 5.80580590e-01, 6.00600610e-01, 6.20620630e-01,\n       6.40640650e-01, 6.60660670e-01, 6.80680690e-01, 7.00700710e-01,\n       7.20720730e-01, 7.40740750e-01, 7.60760770e-01, 7.80780790e-01,\n       8.00800810e-01, 8.20820830e-01, 8.40840850e-01, 8.60860870e-01,\n       8.80880890e-01, 9.00900910e-01, 9.20920930e-01, 9.40940950e-01,\n       9.60960970e-01, 9.80980990e-01, 1.00100101e+00, 1.02102103e+00,\n       1.04104105e+00, 1.06106107e+00, 1.08108109e+00, 1.10110111e+00,\n       1.12112113e+00, 1.14114115e+00, 1.16116117e+00, 1.18118119e+00,\n       1.20120121e+00, 1.22122123e+00, 1.24124125e+00, 1.26126127e+00,\n       1.28128129e+00, 1.30130131e+00, 1.32132133e+00, 1.34134135e+00,\n       1.36136137e+00, 1.38138139e+00, 1.40140141e+00, 1.42142143e+00,\n       1.44144145e+00, 1.46146147e+00, 1.48148149e+00, 1.50150151e+00,\n       1.52152153e+00, 1.54154155e+00, 1.56156157e+00, 1.58158159e+00,\n       1.60160161e+00, 1.62162163e+00, 1.64164165e+00, 1.66166167e+00,\n       1.68168169e+00, 1.70170171e+00, 1.72172173e+00, 1.74174175e+00,\n       1.76176177e+00, 1.78178179e+00, 1.80180181e+00, 1.82182183e+00,\n       1.84184185e+00, 1.86186187e+00, 1.88188189e+00, 1.90190191e+00,\n       1.92192193e+00, 1.94194195e+00, 1.96196197e+00, 1.98198199e+00,\n       2.00200201e+00, 2.02202203e+00, 2.04204205e+00, 2.06206207e+00,\n       2.08208209e+00, 2.10210211e+00, 2.12212213e+00, 2.14214215e+00,\n       2.16216217e+00, 2.18218219e+00, 2.20220221e+00, 2.22222223e+00,\n       2.24224225e+00, 2.26226227e+00, 2.28228229e+00, 2.30230231e+00,\n       2.32232233e+00, 2.34234235e+00, 2.36236237e+00, 2.38238239e+00,\n       2.40240241e+00, 2.42242243e+00, 2.44244245e+00, 2.46246247e+00,\n       2.48248249e+00, 2.50250251e+00, 2.52252253e+00, 2.54254255e+00,\n       2.56256257e+00, 2.58258259e+00, 2.60260261e+00, 2.62262263e+00,\n       2.64264265e+00, 2.66266267e+00, 2.68268269e+00, 2.70270271e+00,\n       2.72272273e+00, 2.74274275e+00, 2.76276277e+00, 2.78278279e+00,\n       2.80280281e+00, 2.82282283e+00, 2.84284285e+00, 2.86286287e+00,\n       2.88288289e+00, 2.90290291e+00, 2.92292293e+00, 2.94294295e+00,\n       2.96296297e+00, 2.98298299e+00, 3.00300301e+00, 3.02302303e+00,\n       3.04304305e+00, 3.06306307e+00, 3.08308309e+00, 3.10310311e+00,\n       3.12312313e+00, 3.14314315e+00, 3.16316317e+00, 3.18318319e+00,\n       3.20320321e+00, 3.22322323e+00, 3.24324325e+00, 3.26326327e+00,\n       3.28328329e+00, 3.30330331e+00, 3.32332333e+00, 3.34334335e+00,\n       3.36336337e+00, 3.38338339e+00, 3.40340341e+00, 3.42342343e+00,\n       3.44344345e+00, 3.46346347e+00, 3.48348349e+00, 3.50350351e+00,\n       3.52352353e+00, 3.54354355e+00, 3.56356357e+00, 3.58358359e+00,\n       3.60360361e+00, 3.62362363e+00, 3.64364365e+00, 3.66366367e+00,\n       3.68368369e+00, 3.70370371e+00, 3.72372373e+00, 3.74374375e+00,\n       3.76376377e+00, 3.78378379e+00, 3.80380381e+00, 3.82382383e+00,\n       3.84384385e+00, 3.86386387e+00, 3.88388389e+00, 3.90390391e+00,\n       3.92392393e+00, 3.94394395e+00, 3.96396397e+00, 3.98398399e+00,\n       4.00400401e+00, 4.02402403e+00, 4.04404405e+00, 4.06406407e+00,\n       4.08408409e+00, 4.10410411e+00, 4.12412413e+00, 4.14414415e+00,\n       4.16416417e+00, 4.18418419e+00, 4.20420421e+00, 4.22422423e+00,\n       4.24424425e+00, 4.26426427e+00, 4.28428429e+00, 4.30430431e+00,\n       4.32432433e+00, 4.34434435e+00, 4.36436437e+00, 4.38438439e+00,\n       4.40440441e+00, 4.42442443e+00, 4.44444445e+00, 4.46446447e+00,\n       4.48448449e+00, 4.50450451e+00, 4.52452453e+00, 4.54454455e+00,\n       4.56456457e+00, 4.58458459e+00, 4.60460461e+00, 4.62462463e+00,\n       4.64464465e+00, 4.66466467e+00, 4.68468469e+00, 4.70470471e+00,\n       4.72472473e+00, 4.74474475e+00, 4.76476477e+00, 4.78478479e+00,\n       4.80480481e+00, 4.82482483e+00, 4.84484485e+00, 4.86486487e+00,\n       4.88488489e+00, 4.90490491e+00, 4.92492493e+00, 4.94494495e+00,\n       4.96496497e+00, 4.98498499e+00, 5.00500501e+00, 5.02502503e+00,\n       5.04504505e+00, 5.06506507e+00, 5.08508509e+00, 5.10510511e+00,\n       5.12512513e+00, 5.14514515e+00, 5.16516517e+00, 5.18518519e+00,\n       5.20520521e+00, 5.22522523e+00, 5.24524525e+00, 5.26526527e+00,\n       5.28528529e+00, 5.30530531e+00, 5.32532533e+00, 5.34534535e+00,\n       5.36536537e+00, 5.38538539e+00, 5.40540541e+00, 5.42542543e+00,\n       5.44544545e+00, 5.46546547e+00, 5.48548549e+00, 5.50550551e+00,\n       5.52552553e+00, 5.54554555e+00, 5.56556557e+00, 5.58558559e+00,\n       5.60560561e+00, 5.62562563e+00, 5.64564565e+00, 5.66566567e+00,\n       5.68568569e+00, 5.70570571e+00, 5.72572573e+00, 5.74574575e+00,\n       5.76576577e+00, 5.78578579e+00, 5.80580581e+00, 5.82582583e+00,\n       5.84584585e+00, 5.86586587e+00, 5.88588589e+00, 5.90590591e+00,\n       5.92592593e+00, 5.94594595e+00, 5.96596597e+00, 5.98598599e+00,\n       6.00600601e+00, 6.02602603e+00, 6.04604605e+00, 6.06606607e+00,\n       6.08608609e+00, 6.10610611e+00, 6.12612613e+00, 6.14614615e+00,\n       6.16616617e+00, 6.18618619e+00, 6.20620621e+00, 6.22622623e+00,\n       6.24624625e+00, 6.26626627e+00, 6.28628629e+00, 6.30630631e+00,\n       6.32632633e+00, 6.34634635e+00, 6.36636637e+00, 6.38638639e+00,\n       6.40640641e+00, 6.42642643e+00, 6.44644645e+00, 6.46646647e+00,\n       6.48648649e+00, 6.50650651e+00, 6.52652653e+00, 6.54654655e+00,\n       6.56656657e+00, 6.58658659e+00, 6.60660661e+00, 6.62662663e+00,\n       6.64664665e+00, 6.66666667e+00, 6.68668669e+00, 6.70670671e+00,\n       6.72672673e+00, 6.74674675e+00, 6.76676677e+00, 6.78678679e+00,\n       6.80680681e+00, 6.82682683e+00, 6.84684685e+00, 6.86686687e+00,\n       6.88688689e+00, 6.90690691e+00, 6.92692693e+00, 6.94694695e+00,\n       6.96696697e+00, 6.98698699e+00, 7.00700701e+00, 7.02702703e+00,\n       7.04704705e+00, 7.06706707e+00, 7.08708709e+00, 7.10710711e+00,\n       7.12712713e+00, 7.14714715e+00, 7.16716717e+00, 7.18718719e+00,\n       7.20720721e+00, 7.22722723e+00, 7.24724725e+00, 7.26726727e+00,\n       7.28728729e+00, 7.30730731e+00, 7.32732733e+00, 7.34734735e+00,\n       7.36736737e+00, 7.38738739e+00, 7.40740741e+00, 7.42742743e+00,\n       7.44744745e+00, 7.46746747e+00, 7.48748749e+00, 7.50750751e+00,\n       7.52752753e+00, 7.54754755e+00, 7.56756757e+00, 7.58758759e+00,\n       7.60760761e+00, 7.62762763e+00, 7.64764765e+00, 7.66766767e+00,\n       7.68768769e+00, 7.70770771e+00, 7.72772773e+00, 7.74774775e+00,\n       7.76776777e+00, 7.78778779e+00, 7.80780781e+00, 7.82782783e+00,\n       7.84784785e+00, 7.86786787e+00, 7.88788789e+00, 7.90790791e+00,\n       7.92792793e+00, 7.94794795e+00, 7.96796797e+00, 7.98798799e+00,\n       8.00800801e+00, 8.02802803e+00, 8.04804805e+00, 8.06806807e+00,\n       8.08808809e+00, 8.10810811e+00, 8.12812813e+00, 8.14814815e+00,\n       8.16816817e+00, 8.18818819e+00, 8.20820821e+00, 8.22822823e+00,\n       8.24824825e+00, 8.26826827e+00, 8.28828829e+00, 8.30830831e+00,\n       8.32832833e+00, 8.34834835e+00, 8.36836837e+00, 8.38838839e+00,\n       8.40840841e+00, 8.42842843e+00, 8.44844845e+00, 8.46846847e+00,\n       8.48848849e+00, 8.50850851e+00, 8.52852853e+00, 8.54854855e+00,\n       8.56856857e+00, 8.58858859e+00, 8.60860861e+00, 8.62862863e+00,\n       8.64864865e+00, 8.66866867e+00, 8.68868869e+00, 8.70870871e+00,\n       8.72872873e+00, 8.74874875e+00, 8.76876877e+00, 8.78878879e+00,\n       8.80880881e+00, 8.82882883e+00, 8.84884885e+00, 8.86886887e+00,\n       8.88888889e+00, 8.90890891e+00, 8.92892893e+00, 8.94894895e+00,\n       8.96896897e+00, 8.98898899e+00, 9.00900901e+00, 9.02902903e+00,\n       9.04904905e+00, 9.06906907e+00, 9.08908909e+00, 9.10910911e+00,\n       9.12912913e+00, 9.14914915e+00, 9.16916917e+00, 9.18918919e+00,\n       9.20920921e+00, 9.22922923e+00, 9.24924925e+00, 9.26926927e+00,\n       9.28928929e+00, 9.30930931e+00, 9.32932933e+00, 9.34934935e+00,\n       9.36936937e+00, 9.38938939e+00, 9.40940941e+00, 9.42942943e+00,\n       9.44944945e+00, 9.46946947e+00, 9.48948949e+00, 9.50950951e+00,\n       9.52952953e+00, 9.54954955e+00, 9.56956957e+00, 9.58958959e+00,\n       9.60960961e+00, 9.62962963e+00, 9.64964965e+00, 9.66966967e+00,\n       9.68968969e+00, 9.70970971e+00, 9.72972973e+00, 9.74974975e+00,\n       9.76976977e+00, 9.78978979e+00, 9.80980981e+00, 9.82982983e+00,\n       9.84984985e+00, 9.86986987e+00, 9.88988989e+00, 9.90990991e+00,\n       9.92992993e+00, 9.94994995e+00, 9.96996997e+00, 9.98998999e+00,\n       1.00100100e+01, 1.00300300e+01, 1.00500501e+01, 1.00700701e+01,\n       1.00900901e+01, 1.01101101e+01, 1.01301301e+01, 1.01501502e+01,\n       1.01701702e+01, 1.01901902e+01, 1.02102102e+01, 1.02302302e+01,\n       1.02502503e+01, 1.02702703e+01, 1.02902903e+01, 1.03103103e+01,\n       1.03303303e+01, 1.03503504e+01, 1.03703704e+01, 1.03903904e+01,\n       1.04104104e+01, 1.04304304e+01, 1.04504505e+01, 1.04704705e+01,\n       1.04904905e+01, 1.05105105e+01, 1.05305305e+01, 1.05505506e+01,\n       1.05705706e+01, 1.05905906e+01, 1.06106106e+01, 1.06306306e+01,\n       1.06506507e+01, 1.06706707e+01, 1.06906907e+01, 1.07107107e+01,\n       1.07307307e+01, 1.07507508e+01, 1.07707708e+01, 1.07907908e+01,\n       1.08108108e+01, 1.08308308e+01, 1.08508509e+01, 1.08708709e+01,\n       1.08908909e+01, 1.09109109e+01, 1.09309309e+01, 1.09509510e+01,\n       1.09709710e+01, 1.09909910e+01, 1.10110110e+01, 1.10310310e+01,\n       1.10510511e+01, 1.10710711e+01, 1.10910911e+01, 1.11111111e+01,\n       1.11311311e+01, 1.11511512e+01, 1.11711712e+01, 1.11911912e+01,\n       1.12112112e+01, 1.12312312e+01, 1.12512513e+01, 1.12712713e+01,\n       1.12912913e+01, 1.13113113e+01, 1.13313313e+01, 1.13513514e+01,\n       1.13713714e+01, 1.13913914e+01, 1.14114114e+01, 1.14314314e+01,\n       1.14514515e+01, 1.14714715e+01, 1.14914915e+01, 1.15115115e+01,\n       1.15315315e+01, 1.15515516e+01, 1.15715716e+01, 1.15915916e+01,\n       1.16116116e+01, 1.16316316e+01, 1.16516517e+01, 1.16716717e+01,\n       1.16916917e+01, 1.17117117e+01, 1.17317317e+01, 1.17517518e+01,\n       1.17717718e+01, 1.17917918e+01, 1.18118118e+01, 1.18318318e+01,\n       1.18518519e+01, 1.18718719e+01, 1.18918919e+01, 1.19119119e+01,\n       1.19319319e+01, 1.19519520e+01, 1.19719720e+01, 1.19919920e+01,\n       1.20120120e+01, 1.20320320e+01, 1.20520521e+01, 1.20720721e+01,\n       1.20920921e+01, 1.21121121e+01, 1.21321321e+01, 1.21521522e+01,\n       1.21721722e+01, 1.21921922e+01, 1.22122122e+01, 1.22322322e+01,\n       1.22522523e+01, 1.22722723e+01, 1.22922923e+01, 1.23123123e+01,\n       1.23323323e+01, 1.23523524e+01, 1.23723724e+01, 1.23923924e+01,\n       1.24124124e+01, 1.24324324e+01, 1.24524525e+01, 1.24724725e+01,\n       1.24924925e+01, 1.25125125e+01, 1.25325325e+01, 1.25525526e+01,\n       1.25725726e+01, 1.25925926e+01, 1.26126126e+01, 1.26326326e+01,\n       1.26526527e+01, 1.26726727e+01, 1.26926927e+01, 1.27127127e+01,\n       1.27327327e+01, 1.27527528e+01, 1.27727728e+01, 1.27927928e+01,\n       1.28128128e+01, 1.28328328e+01, 1.28528529e+01, 1.28728729e+01,\n       1.28928929e+01, 1.29129129e+01, 1.29329329e+01, 1.29529530e+01,\n       1.29729730e+01, 1.29929930e+01, 1.30130130e+01, 1.30330330e+01,\n       1.30530531e+01, 1.30730731e+01, 1.30930931e+01, 1.31131131e+01,\n       1.31331331e+01, 1.31531532e+01, 1.31731732e+01, 1.31931932e+01,\n       1.32132132e+01, 1.32332332e+01, 1.32532533e+01, 1.32732733e+01,\n       1.32932933e+01, 1.33133133e+01, 1.33333333e+01, 1.33533534e+01,\n       1.33733734e+01, 1.33933934e+01, 1.34134134e+01, 1.34334334e+01,\n       1.34534535e+01, 1.34734735e+01, 1.34934935e+01, 1.35135135e+01,\n       1.35335335e+01, 1.35535536e+01, 1.35735736e+01, 1.35935936e+01,\n       1.36136136e+01, 1.36336336e+01, 1.36536537e+01, 1.36736737e+01,\n       1.36936937e+01, 1.37137137e+01, 1.37337337e+01, 1.37537538e+01,\n       1.37737738e+01, 1.37937938e+01, 1.38138138e+01, 1.38338338e+01,\n       1.38538539e+01, 1.38738739e+01, 1.38938939e+01, 1.39139139e+01,\n       1.39339339e+01, 1.39539540e+01, 1.39739740e+01, 1.39939940e+01,\n       1.40140140e+01, 1.40340340e+01, 1.40540541e+01, 1.40740741e+01,\n       1.40940941e+01, 1.41141141e+01, 1.41341341e+01, 1.41541542e+01,\n       1.41741742e+01, 1.41941942e+01, 1.42142142e+01, 1.42342342e+01,\n       1.42542543e+01, 1.42742743e+01, 1.42942943e+01, 1.43143143e+01,\n       1.43343343e+01, 1.43543544e+01, 1.43743744e+01, 1.43943944e+01,\n       1.44144144e+01, 1.44344344e+01, 1.44544545e+01, 1.44744745e+01,\n       1.44944945e+01, 1.45145145e+01, 1.45345345e+01, 1.45545546e+01,\n       1.45745746e+01, 1.45945946e+01, 1.46146146e+01, 1.46346346e+01,\n       1.46546547e+01, 1.46746747e+01, 1.46946947e+01, 1.47147147e+01,\n       1.47347347e+01, 1.47547548e+01, 1.47747748e+01, 1.47947948e+01,\n       1.48148148e+01, 1.48348348e+01, 1.48548549e+01, 1.48748749e+01,\n       1.48948949e+01, 1.49149149e+01, 1.49349349e+01, 1.49549550e+01,\n       1.49749750e+01, 1.49949950e+01, 1.50150150e+01, 1.50350350e+01,\n       1.50550551e+01, 1.50750751e+01, 1.50950951e+01, 1.51151151e+01,\n       1.51351351e+01, 1.51551552e+01, 1.51751752e+01, 1.51951952e+01,\n       1.52152152e+01, 1.52352352e+01, 1.52552553e+01, 1.52752753e+01,\n       1.52952953e+01, 1.53153153e+01, 1.53353353e+01, 1.53553554e+01,\n       1.53753754e+01, 1.53953954e+01, 1.54154154e+01, 1.54354354e+01,\n       1.54554555e+01, 1.54754755e+01, 1.54954955e+01, 1.55155155e+01,\n       1.55355355e+01, 1.55555556e+01, 1.55755756e+01, 1.55955956e+01,\n       1.56156156e+01, 1.56356356e+01, 1.56556557e+01, 1.56756757e+01,\n       1.56956957e+01, 1.57157157e+01, 1.57357357e+01, 1.57557558e+01,\n       1.57757758e+01, 1.57957958e+01, 1.58158158e+01, 1.58358358e+01,\n       1.58558559e+01, 1.58758759e+01, 1.58958959e+01, 1.59159159e+01,\n       1.59359359e+01, 1.59559560e+01, 1.59759760e+01, 1.59959960e+01,\n       1.60160160e+01, 1.60360360e+01, 1.60560561e+01, 1.60760761e+01,\n       1.60960961e+01, 1.61161161e+01, 1.61361361e+01, 1.61561562e+01,\n       1.61761762e+01, 1.61961962e+01, 1.62162162e+01, 1.62362362e+01,\n       1.62562563e+01, 1.62762763e+01, 1.62962963e+01, 1.63163163e+01,\n       1.63363363e+01, 1.63563564e+01, 1.63763764e+01, 1.63963964e+01,\n       1.64164164e+01, 1.64364364e+01, 1.64564565e+01, 1.64764765e+01,\n       1.64964965e+01, 1.65165165e+01, 1.65365365e+01, 1.65565566e+01,\n       1.65765766e+01, 1.65965966e+01, 1.66166166e+01, 1.66366366e+01,\n       1.66566567e+01, 1.66766767e+01, 1.66966967e+01, 1.67167167e+01,\n       1.67367367e+01, 1.67567568e+01, 1.67767768e+01, 1.67967968e+01,\n       1.68168168e+01, 1.68368368e+01, 1.68568569e+01, 1.68768769e+01,\n       1.68968969e+01, 1.69169169e+01, 1.69369369e+01, 1.69569570e+01,\n       1.69769770e+01, 1.69969970e+01, 1.70170170e+01, 1.70370370e+01,\n       1.70570571e+01, 1.70770771e+01, 1.70970971e+01, 1.71171171e+01,\n       1.71371371e+01, 1.71571572e+01, 1.71771772e+01, 1.71971972e+01,\n       1.72172172e+01, 1.72372372e+01, 1.72572573e+01, 1.72772773e+01,\n       1.72972973e+01, 1.73173173e+01, 1.73373373e+01, 1.73573574e+01,\n       1.73773774e+01, 1.73973974e+01, 1.74174174e+01, 1.74374374e+01,\n       1.74574575e+01, 1.74774775e+01, 1.74974975e+01, 1.75175175e+01,\n       1.75375375e+01, 1.75575576e+01, 1.75775776e+01, 1.75975976e+01,\n       1.76176176e+01, 1.76376376e+01, 1.76576577e+01, 1.76776777e+01,\n       1.76976977e+01, 1.77177177e+01, 1.77377377e+01, 1.77577578e+01,\n       1.77777778e+01, 1.77977978e+01, 1.78178178e+01, 1.78378378e+01,\n       1.78578579e+01, 1.78778779e+01, 1.78978979e+01, 1.79179179e+01,\n       1.79379379e+01, 1.79579580e+01, 1.79779780e+01, 1.79979980e+01,\n       1.80180180e+01, 1.80380380e+01, 1.80580581e+01, 1.80780781e+01,\n       1.80980981e+01, 1.81181181e+01, 1.81381381e+01, 1.81581582e+01,\n       1.81781782e+01, 1.81981982e+01, 1.82182182e+01, 1.82382382e+01,\n       1.82582583e+01, 1.82782783e+01, 1.82982983e+01, 1.83183183e+01,\n       1.83383383e+01, 1.83583584e+01, 1.83783784e+01, 1.83983984e+01,\n       1.84184184e+01, 1.84384384e+01, 1.84584585e+01, 1.84784785e+01,\n       1.84984985e+01, 1.85185185e+01, 1.85385385e+01, 1.85585586e+01,\n       1.85785786e+01, 1.85985986e+01, 1.86186186e+01, 1.86386386e+01,\n       1.86586587e+01, 1.86786787e+01, 1.86986987e+01, 1.87187187e+01,\n       1.87387387e+01, 1.87587588e+01, 1.87787788e+01, 1.87987988e+01,\n       1.88188188e+01, 1.88388388e+01, 1.88588589e+01, 1.88788789e+01,\n       1.88988989e+01, 1.89189189e+01, 1.89389389e+01, 1.89589590e+01,\n       1.89789790e+01, 1.89989990e+01, 1.90190190e+01, 1.90390390e+01,\n       1.90590591e+01, 1.90790791e+01, 1.90990991e+01, 1.91191191e+01,\n       1.91391391e+01, 1.91591592e+01, 1.91791792e+01, 1.91991992e+01,\n       1.92192192e+01, 1.92392392e+01, 1.92592593e+01, 1.92792793e+01,\n       1.92992993e+01, 1.93193193e+01, 1.93393393e+01, 1.93593594e+01,\n       1.93793794e+01, 1.93993994e+01, 1.94194194e+01, 1.94394394e+01,\n       1.94594595e+01, 1.94794795e+01, 1.94994995e+01, 1.95195195e+01,\n       1.95395395e+01, 1.95595596e+01, 1.95795796e+01, 1.95995996e+01,\n       1.96196196e+01, 1.96396396e+01, 1.96596597e+01, 1.96796797e+01,\n       1.96996997e+01, 1.97197197e+01, 1.97397397e+01, 1.97597598e+01,\n       1.97797798e+01, 1.97997998e+01, 1.98198198e+01, 1.98398398e+01,\n       1.98598599e+01, 1.98798799e+01, 1.98998999e+01, 1.99199199e+01,\n       1.99399399e+01, 1.99599600e+01, 1.99799800e+01, 2.00000000e+01])"
     },
     "execution_count": 10,
     "metadata": {},
     "output_type": "execute_result"
    }
   ],
   "source": [
    "np.linspace(10**(-8),20,1000)"
   ]
  },
  {
   "cell_type": "code",
   "execution_count": 10,
   "metadata": {},
   "outputs": [],
   "source": []
  }
 ]
}