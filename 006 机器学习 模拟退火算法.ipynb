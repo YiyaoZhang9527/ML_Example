{
 "cells": [
  {
   "cell_type": "code",
   "execution_count": 1,
   "metadata": {},
   "outputs": [],
   "source": [
    "# ! conda install pytorch torchvision torchaudio pytorch-cuda=11.7 -c pytorch -c nvidia\n",
    "import numpy as np\n",
    "# import torch \n",
    "import matplotlib.pyplot as plt"
   ]
  },
  {
   "cell_type": "markdown",
   "metadata": {},
   "source": [
    "### $ 根据热力学的原理，在温度为T时，出现能量差为dE的降温的概率为P(dE)，表示为：$\n",
    "# $ P(dE) = exp( dE/(k*T) ) $\n",
    "### $ 其中k是一个常数，exp表示自然指数，且dE<0(温度总是降低的)。这条公式指明了 $"
   ]
  },
  {
   "cell_type": "markdown",
   "metadata": {},
   "source": [
    "# 待优化函数"
   ]
  },
  {
   "cell_type": "code",
   "execution_count": 2,
   "metadata": {},
   "outputs": [
    {
     "data": {
      "text/plain": [
       "1.1609909118350992"
      ]
     },
     "execution_count": 2,
     "metadata": {},
     "output_type": "execute_result"
    }
   ],
   "source": [
    "def f(x=1): #待最小函数\n",
    "    return np.random.randn(100000)[x]\n",
    "f()"
   ]
  },
  {
   "cell_type": "code",
   "execution_count": 50,
   "metadata": {},
   "outputs": [],
   "source": [
    "X = np.random.randn(10000).reshape(10,1000)\n",
    "Y = np.random.randn(10000).reshape(10,1000)\n",
    "def minkowski(x, y, p ):\n",
    "    return np.sum(np.abs(x - y) ** p) ** (1 / p)"
   ]
  },
  {
   "cell_type": "code",
   "execution_count": 41,
   "metadata": {
    "tags": []
   },
   "outputs": [
    {
     "name": "stdout",
     "output_type": "stream",
     "text": [
      "11311.15671667349\n",
      "141.78587854153113\n",
      "35.701185834256705\n",
      "18.659733121694963\n",
      "12.953188804844567\n",
      "10.317228960456648\n",
      "8.865770077946802\n",
      "7.97467678722712\n",
      "7.386071506726287\n"
     ]
    }
   ],
   "source": [
    "for i in range(1,10):\n",
    "    print(minkowski(X,Y,i))"
   ]
  },
  {
   "cell_type": "markdown",
   "metadata": {},
   "source": [
    "# 退火算法"
   ]
  },
  {
   "cell_type": "code",
   "execution_count": 42,
   "metadata": {
    "tags": []
   },
   "outputs": [],
   "source": [
    "def PDE(DE,t,k=1):\n",
    "    return np.exp((DE)/(k*t))"
   ]
  },
  {
   "cell_type": "code",
   "execution_count": 43,
   "metadata": {},
   "outputs": [],
   "source": [
    "def DE_function(new,old):\n",
    "    return new - old"
   ]
  },
  {
   "cell_type": "code",
   "execution_count": 44,
   "metadata": {},
   "outputs": [],
   "source": [
    "def jump(DE,T,k=1):\n",
    "    return PDE(DE,T,k) > np.random.rand() and 0 or 1# "
   ]
  },
  {
   "cell_type": "code",
   "execution_count": 53,
   "metadata": {
    "tags": []
   },
   "outputs": [
    {
     "name": "stdout",
     "output_type": "stream",
     "text": [
      "minkowski:11303.213267061306\n",
      "DE:11303.213267061306,\n",
      "expr:0\n",
      "Jump:1\n",
      "T:0.0001\n",
      "系统温度:0.0001 新状态:0 迭代轮次:1 DE:11303.213267061306\n",
      "1\n"
     ]
    },
    {
     "name": "stderr",
     "output_type": "stream",
     "text": [
      "/tmp/ipykernel_873598/1510873920.py:11: RuntimeWarning: overflow encountered in exp\n",
      "  return np.exp((DE)/(k*t))\n"
     ]
    },
    {
     "data": {
      "text/plain": [
       "(0, [0], [11303.213267061306])"
      ]
     },
     "execution_count": 53,
     "metadata": {},
     "output_type": "execute_result"
    }
   ],
   "source": [
    "import numpy as np\n",
    "import matplotlib.pyplot as plt\n",
    "\n",
    "def f(x=1): #待优化最小函数\n",
    "    return np.random.randn(100000)[x]\n",
    "\n",
    "def minkowski(x, y, p ):\n",
    "    return np.sum(np.abs(x - y) ** p) ** (1 / p)\n",
    "\n",
    "def PDE(DE,t,k=1):\n",
    "    return np.exp((DE)/(k*t))\n",
    "\n",
    "def DE_function(new,old):\n",
    "    return new - old\n",
    "\n",
    "def jump(DE,T,k=1):\n",
    "    return PDE(DE,T,k) > np.random.rand() and 0 or 1# \n",
    "\n",
    "def simulated_annealing(X,Y,ps,parameter={\"T\":1,\"T_min\":0,\"r\":0.0001,\"expr\":0,\"jump_max\":np.inf}):\n",
    "    path , funcpath = [] ,[]\n",
    "\n",
    "    T = parameter[\"T\"] #系统温度，初时应在高温\n",
    "    T_min = parameter[\"T_min\"] #最小温度值\n",
    "    r = parameter[\"r\"] #降温速率\n",
    "    counter = 0\n",
    "    expr = parameter[\"expr\"] #假设初解\n",
    "    jump_max = parameter[\"jump_max\"] # 最大冷却值\n",
    "    jump_counter = 0\n",
    "\n",
    "    for p in ps:\n",
    "        if T > T_min and T != 1:\n",
    "            print(1)\n",
    "            return expr,path,funcpath\n",
    "        counter += 1\n",
    "        new_expr = minkowski(X,Y,p) #新解\n",
    "        print(f\"minkowski:{new_expr}\")\n",
    "        funcpath.append(new_expr)\n",
    "        DE = new_expr - expr \n",
    "        print(f\"DE:{DE},\\nexpr:{expr}\")\n",
    "        if DE <= 0:\n",
    "            expr = new_expr\n",
    "            jump_counter = 0\n",
    "        elif DE > 0:\n",
    "            expr = expr\n",
    "            Jump = jump(DE,T)\n",
    "            print(f'Jump:{Jump}')\n",
    "            if Jump:\n",
    "                T *= r\n",
    "                print(f'T:{T}')\n",
    "                jump_counter += 1  \n",
    "                if jump_counter > jump_max:\n",
    "                    print(\"最大回炉冷却次数:\",jump_counter)\n",
    "                    return expr,path,funcpath\n",
    "        path.append(expr)\n",
    "        print(\"{}{}{}{}{}{}{}{}\".format('系统温度:',T,' 新状态:',expr,' 迭代轮次:',counter,' DE:',DE))\n",
    "        \n",
    "    return expr,path,funcpath\n",
    "expr,path,funcpath = simulated_annealing(X,Y,np.linspace(1,20,1000),parameter={\"T\":1,\"T_min\":0,\"r\":0.0001,\"expr\":0,\"jump_max\":10})\n",
    "expr,path,funcpath"
   ]
  },
  {
   "cell_type": "code",
   "execution_count": 35,
   "metadata": {},
   "outputs": [
    {
     "data": {
      "text/plain": [
       "[<matplotlib.lines.Line2D at 0x7fd03cc50bb0>]"
      ]
     },
     "execution_count": 35,
     "metadata": {},
     "output_type": "execute_result"
    },
    {
     "data": {
      "image/png": "[encoded data removed]",
      "text/plain": [
       "<Figure size 432x288 with 1 Axes>"
      ]
     },
     "metadata": {
      "needs_background": "light"
     },
     "output_type": "display_data"
    }
   ],
   "source": [
    "plt.plot(path,c='g')\n",
    "plt.plot(funcpath,c='r')"
   ]
  },
  {
   "cell_type": "code",
   "execution_count": 55,
   "metadata": {},
   "outputs": [
    {
     "name": "stdout",
     "output_type": "stream",
     "text": [
      "系统温度:1 新状态:-0.4056534803734411 迭代轮次:1 DE:-0.4056534803734411\n",
      "系统温度:0.00011 新状态:-0.4056534803734411 迭代轮次:2 DE:2.2044707941292314\n",
      "系统温度:1.21e-08 新状态:-0.4056534803734411 迭代轮次:3 DE:0.8392037070822498\n",
      "系统温度:1.21e-08 新状态:-1.3729394809998543 迭代轮次:4 DE:-0.9672860006264132\n",
      "系统温度:1.331e-12 新状态:-1.3729394809998543 迭代轮次:5 DE:0.8063436862194687\n",
      "系统温度:1.331e-12 新状态:-1.4756811970488721 迭代轮次:6 DE:-0.10274171604901783\n",
      "系统温度:1.4641000000000002e-16 新状态:-1.4756811970488721 迭代轮次:7 DE:3.0833305235878496\n",
      "系统温度:1.6105100000000003e-20 新状态:-1.4756811970488721 迭代轮次:8 DE:1.569965582062771\n",
      "系统温度:1.7715610000000002e-24 新状态:-1.4756811970488721 迭代轮次:9 DE:1.4255401719941927\n",
      "系统温度:1.9487171000000004e-28 新状态:-1.4756811970488721 迭代轮次:10 DE:1.495672176464312\n",
      "系统温度:2.1435888100000004e-32 新状态:-1.4756811970488721 迭代轮次:11 DE:1.42867689551287\n",
      "系统温度:2.3579476910000004e-36 新状态:-1.4756811970488721 迭代轮次:12 DE:0.8618287980107476\n",
      "系统温度:2.5937424601000004e-40 新状态:-1.4756811970488721 迭代轮次:13 DE:0.5867476545382226\n",
      "系统温度:2.8531167061100007e-44 新状态:-1.4756811970488721 迭代轮次:14 DE:2.569279296728905\n",
      "系统温度:3.138428376721001e-48 新状态:-1.4756811970488721 迭代轮次:15 DE:2.535189504641745\n",
      "系统温度:3.452271214393101e-52 新状态:-1.4756811970488721 迭代轮次:16 DE:1.044651474917103\n",
      "最大回炉冷却次数: 11\n",
      "优化函数解:-1.4756811970488721\n"
     ]
    },
    {
     "name": "stderr",
     "output_type": "stream",
     "text": [
      "/tmp/ipykernel_873598/2396042261.py:22: RuntimeWarning: overflow encountered in exp\n",
      "  return np.exp((DE) / (k * t))\n"
     ]
    },
    {
     "data": {
      "image/png": "[encoded data removed]",
      "text/plain": [
       "<Figure size 432x288 with 1 Axes>"
      ]
     },
     "metadata": {
      "needs_background": "light"
     },
     "output_type": "display_data"
    }
   ],
   "source": [
    "# -*- encoding: utf-8 -*-\n",
    "'''\n",
    "@File    :   simulate_anneal.py\n",
    "@Time    :   2020/10/28 12:45:28\n",
    "@Author  :   DataMagician \n",
    "@Version :   1.0\n",
    "@Contact :   408903228@qq.com\n",
    "'''\n",
    "\n",
    "# here put the import lib\n",
    "\n",
    "import numpy as np\n",
    "import matplotlib.pyplot as plt\n",
    "\n",
    "# ### $ 根据热力学的原理，在温度为T时，出现能量差为dE的降温的概率为P(dE)，表示为：$\n",
    "# # $ P(dE) = exp( dE/(k*T) ) $\n",
    "# ### $ 其中k是一个常数，exp表示自然指数，且dE<0(温度总是降低的)。这条公式指明了 $\n",
    "\n",
    "\n",
    "# # 单变量退火\n",
    "def PDE(DE, t, k=1):\n",
    "    return np.exp((DE) / (k * t))\n",
    "\n",
    "\n",
    "def DE_function(new, old):\n",
    "    return new - old\n",
    "\n",
    "\n",
    "def jump(DE, T, k=1):\n",
    "    return PDE(DE, T, k) > np.random.rand() and 0 or 1\n",
    "\n",
    "\n",
    "def simulate_anneal(func,\n",
    "                    parameter={\n",
    "                        \"T\": 1,\n",
    "                        \"T_min\": 0,\n",
    "                        \"r\": 0.0001,\n",
    "                        \"expr\": 0,\n",
    "                        \"jump_max\": np.inf\n",
    "                    }):\n",
    "    path, funcpath = [], []\n",
    "    T = parameter[\"T\"]  # 系统温度，初时应在高温\n",
    "    T_min = parameter[\"T_min\"]  # 最小温度值\n",
    "    r = parameter[\"r\"]  # 降温速率\n",
    "    counter = 0\n",
    "    expr = parameter[\"expr\"]  # 假设初解\n",
    "    jump_max = parameter[\"jump_max\"]  # 最大冷却值\n",
    "    jump_counter = 0\n",
    "    while T > T_min:\n",
    "        counter += 1\n",
    "        new_expr = func.__next__()  # 迭代新解\n",
    "        funcpath.append(new_expr)\n",
    "        DE = new_expr - expr # 计算温差\n",
    "        if DE <= 0:\n",
    "            expr = new_expr\n",
    "            jump_counter = 0\n",
    "        elif DE > 0:\n",
    "            expr = expr\n",
    "            if jump(DE, T):\n",
    "                T *= r # 开始降温\n",
    "                jump_counter += 1\n",
    "                if jump_counter > jump_max:\n",
    "                    print(\"最大回炉冷却次数:\", jump_counter)\n",
    "                    return expr, path, funcpath\n",
    "        path.append(expr)\n",
    "        print(\"{}{}{}{}{}{}{}{}\".format('系统温度:', T, ' 新状态:', expr, ' 迭代轮次:',\n",
    "                                        counter, ' DE:', DE))\n",
    "\n",
    "    return expr, path, funcpath\n",
    "\n",
    "\n",
    "if __name__ == \"__main__\":\n",
    "\n",
    "    def f():  # 待优化最小函数\n",
    "        for x in np.random.randn(1000):\n",
    "            yield x\n",
    "\n",
    "    expr, path, funcpath = simulate_anneal(f(),\n",
    "                                           parameter={\n",
    "                                               \"T\": 1,\n",
    "                                               \"T_min\": 0,\n",
    "                                               \"r\": 0.00011,\n",
    "                                               \"expr\": 0,\n",
    "                                               \"jump_max\": 10\n",
    "                                           })\n",
    "    print(f\"优化函数解:{expr}\")  # %%\n",
    "    plt.plot(path, c='g')\n",
    "    plt.plot(funcpath, c='r')"
   ]
  },
  {
   "cell_type": "code",
   "execution_count": null,
   "metadata": {},
   "outputs": [],
   "source": []
  }
 ],
 "metadata": {
  "kernelspec": {
   "display_name": "kiteENV",
   "language": "python",
   "name": "kiteenv"
  },
  "language_info": {
   "codemirror_mode": {
    "name": "ipython",
    "version": 3
   },
   "file_extension": ".py",
   "mimetype": "text/x-python",
   "name": "python",
   "nbconvert_exporter": "python",
   "pygments_lexer": "ipython3",
   "version": "3.8.10"
  }
 },
 "nbformat": 4,
 "nbformat_minor": 4
}
