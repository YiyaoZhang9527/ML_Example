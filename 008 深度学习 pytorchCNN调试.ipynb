{
 "cells": [
  {
   "cell_type": "code",
   "execution_count": 1,
   "metadata": {},
   "outputs": [],
   "source": [
    "import torch\n",
    "import torch.nn as nn\n",
    "from torch.autograd import Variable\n",
    "import torch.utils.data as Data\n",
    "import torchvision #数据库模块\n",
    "import matplotlib.pyplot as plt\n",
    "import seaborn as sns\n",
    "sns.set()"
   ]
  },
  {
   "cell_type": "code",
   "execution_count": 2,
   "metadata": {},
   "outputs": [],
   "source": [
    "# Hyper Parameters\n",
    "EPOCH = 1 #刷新批量\n",
    "BATCH_SIZE = 50 #\n",
    "LR = 0.001\n",
    "DOWNLOAD_MNIST = False\n",
    "\n",
    "train_data = torchvision.datasets.MNIST(\n",
    "    root = './mnist'\n",
    "    ,train = True\n",
    "    ,transform = torchvision.transforms.ToTensor()#原始的图片数据是numpy的数据\n",
    "    ,download = DOWNLOAD_MNIST\n",
    ")# Hyper Parameters\n",
    "EPOCH = 1 #刷新批量\n",
    "BATCH_SIZE = 50 #\n",
    "LR = 0.001\n",
    "DOWNLOAD_MNIST = False\n",
    "\n",
    "train_data = torchvision.datasets.MNIST(\n",
    "    root = './mnist'\n",
    "    ,train = True\n",
    "    ,transform = torchvision.transforms.ToTensor()#原始的图片数据是numpy的数据\n",
    "    ,download = DOWNLOAD_MNIST\n",
    ")"
   ]
  },
  {
   "cell_type": "code",
   "execution_count": 7,
   "metadata": {},
   "outputs": [
    {
     "data": {
      "text/plain": [
       "Dataset MNIST\n",
       "    Number of datapoints: 60000\n",
       "    Root location: ./mnist\n",
       "    Split: Train\n",
       "    StandardTransform\n",
       "Transform: ToTensor()"
      ]
     },
     "execution_count": 7,
     "metadata": {},
     "output_type": "execute_result"
    }
   ],
   "source": [
    "train_loader = Data.DataLoader(dataset=train_data\n",
    "                               ,batch_size=BATCH_SIZE\n",
    "                               ,shuffle=True\n",
    "                               ,num_workers = 2)"
   ]
  },
  {
   "cell_type": "code",
   "execution_count": 13,
   "metadata": {},
   "outputs": [
    {
     "name": "stderr",
     "output_type": "stream",
     "text": [
      "/home/manman/anaconda3/envs/torch38/lib/python3.8/site-packages/torchvision/datasets/mnist.py:60: UserWarning: test_data has been renamed data\n",
      "  warnings.warn(\"test_data has been renamed data\")\n",
      "<ipython-input-13-a0200599a52b>:3: UserWarning: volatile was removed and now has no effect. Use `with torch.no_grad():` instead.\n",
      "  test_x = Variable(torch.unsqueeze(test_data.test_data,dim=1)\n",
      "/home/manman/anaconda3/envs/torch38/lib/python3.8/site-packages/torchvision/datasets/mnist.py:50: UserWarning: test_labels has been renamed targets\n",
      "  warnings.warn(\"test_labels has been renamed targets\")\n"
     ]
    },
    {
     "data": {
      "text/plain": [
       "Dataset MNIST\n",
       "    Number of datapoints: 60000\n",
       "    Root location: ./mnist\n",
       "    Split: Train\n",
       "    StandardTransform\n",
       "Transform: ToTensor()"
      ]
     },
     "execution_count": 13,
     "metadata": {},
     "output_type": "execute_result"
    }
   ],
   "source": [
    "test_data = torchvision.datasets.MNIST(root='./mnist/'\n",
    ",train=False)\n",
    "test_x = Variable(torch.unsqueeze(test_data.test_data,dim=1)\n",
    ",volatile=True).type(torch.FloatTensor)[:2000]/255\n",
    "test_y = test_data.test_labels[:2000]\n",
    "train_data"
   ]
  },
  {
   "cell_type": "code",
   "execution_count": 15,
   "metadata": {},
   "outputs": [
    {
     "name": "stdout",
     "output_type": "stream",
     "text": [
      "Epoch: 0 | train loss 2.311535 | test accuracy: 0.1295 %\n",
      "Epoch: 0 | train loss 0.366605 | test accuracy: 0.842 %\n",
      "Epoch: 0 | train loss 0.261416 | test accuracy: 0.8945 %\n",
      "Epoch: 0 | train loss 0.297192 | test accuracy: 0.897 %\n",
      "Epoch: 0 | train loss 0.103045 | test accuracy: 0.934 %\n",
      "Epoch: 0 | train loss 0.048671 | test accuracy: 0.9365 %\n",
      "Epoch: 0 | train loss 0.106471 | test accuracy: 0.9475 %\n",
      "Epoch: 0 | train loss 0.068121 | test accuracy: 0.952 %\n",
      "Epoch: 0 | train loss 0.136353 | test accuracy: 0.955 %\n",
      "Epoch: 0 | train loss 0.109795 | test accuracy: 0.964 %\n",
      "Epoch: 0 | train loss 0.185315 | test accuracy: 0.962 %\n",
      "Epoch: 0 | train loss 0.202099 | test accuracy: 0.968 %\n",
      "Epoch: 0 | train loss 0.083856 | test accuracy: 0.9575 %\n",
      "Epoch: 0 | train loss 0.057519 | test accuracy: 0.9705 %\n",
      "Epoch: 0 | train loss 0.160105 | test accuracy: 0.9755 %\n",
      "Epoch: 0 | train loss 0.080944 | test accuracy: 0.971 %\n",
      "Epoch: 0 | train loss 0.034534 | test accuracy: 0.9755 %\n",
      "Epoch: 0 | train loss 0.064747 | test accuracy: 0.976 %\n",
      "Epoch: 0 | train loss 0.077693 | test accuracy: 0.9775 %\n",
      "Epoch: 0 | train loss 0.092462 | test accuracy: 0.98 %\n",
      "Epoch: 0 | train loss 0.011877 | test accuracy: 0.9755 %\n",
      "Epoch: 0 | train loss 0.294161 | test accuracy: 0.9675 %\n",
      "Epoch: 0 | train loss 0.013003 | test accuracy: 0.977 %\n",
      "Epoch: 0 | train loss 0.008818 | test accuracy: 0.978 %\n"
     ]
    }
   ],
   "source": [
    "class CNN(nn.Module):\n",
    "    def __init__(self):\n",
    "        super(CNN,self).__init__()\n",
    "        self.conv1 = nn.Sequential(\n",
    "            nn.Conv2d( #输入维度 /维度变化->(1,28,28)\n",
    "                in_channels = 1 #RGB的高度\n",
    "                ,out_channels = 16 \n",
    "                ,kernel_size = 5 # 扫描区域设定，5*5\n",
    "                ,stride = 1 #扫描的的时候跳跃的步长\n",
    "                ,padding = 2 #扫描的时候将原始图片增加一层帮助图片滑动窗口时候避免超出范围\n",
    "                ) #卷积层，筛选特征 /维度变化->(16,28,28)\n",
    "                #padding参数的计算方法\n",
    "                #if stride = 1,padding = (kernel_size-1)/2\n",
    "                ,nn.ReLU() #激活函数 /维度变化->(16,28,28)\n",
    "                ,nn.MaxPool2d(kernel_size=2) #池化层选择特征中2*2范围内最大的值当作特征 /维度变化->(16,14,14)\n",
    "                ) \n",
    "\n",
    "        self.conv2 = nn.Sequential( #/第二层维度变化->(16,14,14)\n",
    "            nn.Conv2d(\n",
    "                in_channels = 16 #RGB的高度接收上次一层的维度16\n",
    "                ,out_channels = 32\n",
    "                ,kernel_size = 5 # 扫描区域设定，5*5\n",
    "                ,stride = 1 #扫描的的时候跳跃的步长\n",
    "                ,padding = 2 #扫描的时候将原始图片增加一层帮助图片滑动窗口时候避免超出范围\n",
    "                ) #卷积层，筛选特征 /第二层维度变化->(32,14,14)\n",
    "                ## padding参数的计算方法\n",
    "                ## if stride = 1,padding = (kernel_size-1)/2\n",
    "                ,nn.ReLU() #激活函数 /第二层维度变化->(32,14,14)\n",
    "                ,nn.MaxPool2d(kernel_size=2) #池化层选择特征中2*2范围内最大的值当作特征 /第二层维度变化->(32,7,7)\n",
    "                )\n",
    "    \n",
    "        self.conv3 = nn.Sequential( #/第二层维度变化->(16,14,14)\n",
    "            nn.Conv2d(\n",
    "                in_channels = 32 #RGB的高度接收上次一层的维度16\n",
    "                ,out_channels = 74\n",
    "                ,kernel_size = 5 # 扫描区域设定，5*5\n",
    "                ,stride = 1 #扫描的的时候跳跃的步长\n",
    "                ,padding = 2 #扫描的时候将原始图片增加一层帮助图片滑动窗口时候避免超出范围\n",
    "                ) #卷积层，筛选特征 /第二层维度变化->(32,14,14)\n",
    "                ## padding参数的计算方法\n",
    "                ## if stride = 1,padding = (kernel_size-1)/2\n",
    "                ,nn.ReLU() #激活函数 /第二层维度变化->(32,14,14)\n",
    "                ,nn.MaxPool2d(kernel_size=2) #池化层选择特征中2*2范围内最大的值当作特征 /第二层维度变化->(32,7,7)\n",
    "                )\n",
    "        \n",
    "        self.out = nn.Linear(32*7*7,10) #将上面计算结果的三维数据展平成二维\n",
    "    def forward(self,x):\n",
    "        x = self.conv1(x)\n",
    "        x = self.conv2(x) #->(batch,32,7,7)\n",
    "        x = x.view(x.size(0),-1) #->(batch,32,*7*7)\n",
    "        output = self.out(x)\n",
    "        return output\n",
    "\n",
    "cnn = CNN()\n",
    "optimizer = torch.optim.Adam(cnn.parameters(),lr=LR)\n",
    "loss_func = nn.CrossEntropyLoss() #调用交叉熵函数\n",
    "\n",
    "for epoch in range(EPOCH):\n",
    "    for step,(x,y) in enumerate(train_loader): \n",
    "        b_x , b_y = Variable(x) , Variable(y)\n",
    "        output = cnn(b_x) #载入训练数据\n",
    "        loss = loss_func(output,b_y) #载入训练标签\n",
    "        optimizer.zero_grad() #梯度清零\n",
    "        loss.backward() #反向传播\n",
    "        optimizer.step() #传入步长\n",
    "        #打印损失函数变化\n",
    "        if step % 50 == 0:\n",
    "            test_output = cnn(test_x)\n",
    "            pred_y = torch.max(test_output,1)[1].data.squeeze()\n",
    "            accuracy = (pred_y==test_y).numpy().sum()/test_y.size(0)\n",
    "            print('Epoch:',epoch,'| train loss %4f' % float(loss.data),'| test accuracy:',accuracy,'%')"
   ]
  },
  {
   "cell_type": "code",
   "execution_count": 6,
   "metadata": {},
   "outputs": [
    {
     "data": {
      "text/plain": [
       "CNN(\n",
       "  (conv1): Sequential(\n",
       "    (0): Conv2d(1, 16, kernel_size=(5, 5), stride=(1, 1), padding=(2, 2))\n",
       "    (1): ReLU()\n",
       "    (2): MaxPool2d(kernel_size=2, stride=2, padding=0, dilation=1, ceil_mode=False)\n",
       "  )\n",
       "  (conv2): Sequential(\n",
       "    (0): Conv2d(16, 32, kernel_size=(5, 5), stride=(1, 1), padding=(2, 2))\n",
       "    (1): ReLU()\n",
       "    (2): MaxPool2d(kernel_size=2, stride=2, padding=0, dilation=1, ceil_mode=False)\n",
       "  )\n",
       "  (conv3): Sequential(\n",
       "    (0): Conv2d(32, 74, kernel_size=(5, 5), stride=(1, 1), padding=(2, 2))\n",
       "    (1): ReLU()\n",
       "    (2): MaxPool2d(kernel_size=2, stride=2, padding=0, dilation=1, ceil_mode=False)\n",
       "  )\n",
       "  (out): Linear(in_features=1568, out_features=10, bias=True)\n",
       ")"
      ]
     },
     "execution_count": 6,
     "metadata": {},
     "output_type": "execute_result"
    }
   ],
   "source": [
    "CNN()"
   ]
  },
  {
   "cell_type": "code",
   "execution_count": null,
   "metadata": {},
   "outputs": [],
   "source": []
  },
  {
   "cell_type": "code",
   "execution_count": null,
   "metadata": {},
   "outputs": [],
   "source": []
  },
  {
   "cell_type": "code",
   "execution_count": null,
   "metadata": {},
   "outputs": [],
   "source": []
  },
  {
   "cell_type": "code",
   "execution_count": null,
   "metadata": {},
   "outputs": [],
   "source": []
  }
 ],
 "metadata": {
  "kernelspec": {
   "display_name": "Python 3.8.5 64-bit ('torch38': conda)",
   "language": "python",
   "name": "python38564bittorch38conda6e4b7cfd9c884ef39c11839b3d47218e"
  },
  "language_info": {
   "codemirror_mode": {
    "name": "ipython",
    "version": 3
   },
   "file_extension": ".py",
   "mimetype": "text/x-python",
   "name": "python",
   "nbconvert_exporter": "python",
   "pygments_lexer": "ipython3",
   "version": "3.8.5"
  }
 },
 "nbformat": 4,
 "nbformat_minor": 4
}
