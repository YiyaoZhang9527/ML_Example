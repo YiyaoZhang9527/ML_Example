{
 "cells": [
  {
   "cell_type": "code",
   "execution_count": 73,
   "metadata": {},
   "outputs": [
    {
     "output_type": "execute_result",
     "data": {
      "text/plain": "2*sqrt(2)",
      "text/latex": "$\\displaystyle 2 \\sqrt{2}$"
     },
     "metadata": {},
     "execution_count": 73
    }
   ],
   "source": [
    "import sympy\n",
    "import matplotlib.pyplot as plt\n",
    "import numpy as np\n",
    "sympy.sqrt(8)"
   ]
  },
  {
   "cell_type": "code",
   "execution_count": 74,
   "metadata": {},
   "outputs": [],
   "source": [
    "from sympy import *"
   ]
  },
  {
   "cell_type": "code",
   "execution_count": 75,
   "metadata": {},
   "outputs": [],
   "source": [
    "x , y , f = symbols('x y f(x)')"
   ]
  },
  {
   "cell_type": "code",
   "execution_count": 76,
   "metadata": {},
   "outputs": [],
   "source": [
    "expr1 = cos(x**2*x**4)"
   ]
  },
  {
   "cell_type": "markdown",
   "metadata": {},
   "source": [
    "## 化简"
   ]
  },
  {
   "cell_type": "code",
   "execution_count": 77,
   "metadata": {},
   "outputs": [
    {
     "output_type": "execute_result",
     "data": {
      "text/plain": "cos(x**6)",
      "text/latex": "$\\displaystyle \\cos{\\left(x^{6} \\right)}$"
     },
     "metadata": {},
     "execution_count": 77
    }
   ],
   "source": [
    "sympify(expr1)"
   ]
  },
  {
   "cell_type": "markdown",
   "metadata": {},
   "source": [
    "## 求导"
   ]
  },
  {
   "cell_type": "code",
   "execution_count": 78,
   "metadata": {},
   "outputs": [
    {
     "output_type": "execute_result",
     "data": {
      "text/plain": "-6*x**5*sin(x**6)",
      "text/latex": "$\\displaystyle - 6 x^{5} \\sin{\\left(x^{6} \\right)}$"
     },
     "metadata": {},
     "execution_count": 78
    }
   ],
   "source": [
    "diff(expr1)"
   ]
  },
  {
   "cell_type": "markdown",
   "metadata": {},
   "source": [
    "## 多项式/有理函数简化"
   ]
  },
  {
   "cell_type": "code",
   "execution_count": 79,
   "metadata": {},
   "outputs": [
    {
     "output_type": "execute_result",
     "data": {
      "text/plain": "cos(x**6)",
      "text/latex": "$\\displaystyle \\cos{\\left(x^{6} \\right)}$"
     },
     "metadata": {},
     "execution_count": 79
    }
   ],
   "source": [
    "expand(expr1)"
   ]
  },
  {
   "cell_type": "code",
   "execution_count": 80,
   "metadata": {},
   "outputs": [
    {
     "output_type": "execute_result",
     "data": {
      "text/plain": "x**2 - x - 6",
      "text/latex": "$\\displaystyle x^{2} - x - 6$"
     },
     "metadata": {},
     "execution_count": 80
    }
   ],
   "source": [
    "expand((x + 2)*(x - 3))"
   ]
  },
  {
   "cell_type": "markdown",
   "metadata": {},
   "source": [
    "## 约分"
   ]
  },
  {
   "cell_type": "code",
   "execution_count": 81,
   "metadata": {},
   "outputs": [
    {
     "output_type": "execute_result",
     "data": {
      "text/plain": "(x - 1)*(x**2 + 1)",
      "text/latex": "$\\displaystyle \\left(x - 1\\right) \\left(x^{2} + 1\\right)$"
     },
     "metadata": {},
     "execution_count": 81
    }
   ],
   "source": [
    "factor(x**3 - x**2 + x - 1)"
   ]
  },
  {
   "cell_type": "code",
   "execution_count": 82,
   "metadata": {},
   "outputs": [],
   "source": [
    "x, y, z, t = symbols('x y z t')\n",
    "k, m, n = symbols('k m n', integer=True)\n",
    "f, g, h = symbols('f g h', cls=Function)"
   ]
  },
  {
   "cell_type": "code",
   "execution_count": 92,
   "metadata": {},
   "outputs": [
    {
     "output_type": "execute_result",
     "data": {
      "text/plain": "FiniteSet(sqrt(-y - z), -sqrt(-y - z))",
      "text/latex": "$\\displaystyle \\left\\{- \\sqrt{- y - z}, \\sqrt{- y - z}\\right\\}$"
     },
     "metadata": {},
     "execution_count": 92
    }
   ],
   "source": [
    "solveset(x**2+y+z,x)"
   ]
  },
  {
   "cell_type": "code",
   "execution_count": 84,
   "metadata": {},
   "outputs": [
    {
     "output_type": "execute_result",
     "data": {
      "text/plain": "x**3/3 + 1",
      "text/latex": "$\\displaystyle \\frac{x^{3}}{3} + 1$"
     },
     "metadata": {},
     "execution_count": 84
    }
   ],
   "source": [
    "integrate(x**2,x)+1"
   ]
  },
  {
   "cell_type": "markdown",
   "metadata": {},
   "source": [
    "## 矩阵"
   ]
  },
  {
   "cell_type": "code",
   "execution_count": 85,
   "metadata": {},
   "outputs": [
    {
     "output_type": "execute_result",
     "data": {
      "text/plain": "Matrix([\n[r*cos(theta), -r*sin(theta)],\n[r*sin(theta),  r*cos(theta)]])",
      "text/latex": "$\\displaystyle \\left[\\begin{matrix}r \\cos{\\left(\\theta \\right)} & - r \\sin{\\left(\\theta \\right)}\\\\r \\sin{\\left(\\theta \\right)} & r \\cos{\\left(\\theta \\right)}\\end{matrix}\\right]$"
     },
     "metadata": {},
     "execution_count": 85
    }
   ],
   "source": [
    "r , theta = symbols('r  theta')\n",
    "rot = Matrix([[r*cos(theta),-r*sin(theta)],[r*sin(theta),r*cos(theta)]])\n",
    "rot"
   ]
  },
  {
   "cell_type": "code",
   "execution_count": 86,
   "metadata": {},
   "outputs": [
    {
     "output_type": "execute_result",
     "data": {
      "text/plain": "array([ 1.        ,  0.99994795,  0.9991673 ,  0.99578683,  0.98670451,\n        0.96764412,  0.93329691,  0.87760702,  0.79426795,  0.67749389,\n        0.52310684,  0.32992906,  0.101384  , -0.15291522, -0.41596128,\n       -0.66305145, -0.863002  , -0.98144974, -0.98655067, -0.85683085,\n       -0.59009199, -0.2112446 ,  0.22396665,  0.63268807,  0.91861549,\n        0.99561196,  0.81730962,  0.40407293, -0.14469243, -0.66446331,\n       -0.97085068, -0.928537  , -0.52069158,  0.11527995,  0.71675703,\n        0.99771288,  0.79196855,  0.16839825, -0.56135611, -0.98216654,\n       -0.81567486, -0.12710376,  0.65893637,  0.99987414,  0.61884057,\n       -0.23848426, -0.92047002, -0.85389733, -0.05411313,  0.80492873,\n        0.93055888,  0.16467569, -0.77422139, -0.92641981, -0.09292981,\n        0.85161952,  0.8360193 , -0.1622355 , -0.97263275, -0.57412209,\n        0.5668114 ,  0.96472439,  0.04940035, -0.94113066, -0.58091056,\n        0.64141813,  0.89509715, -0.24581011, -0.99848956, -0.11773656,\n        0.96361497,  0.39195125, -0.87053242, -0.56947627,  0.77956963,\n        0.66490098, -0.72655711, -0.69414366,  0.72720529,  0.66348986,\n       -0.78133989, -0.5663689 ,  0.87284505,  0.38673517, -0.96535987,\n       -0.11023521,  0.99798684, -0.25494766, -0.89041993,  0.65006592,\n        0.57087995, -0.94551511, -0.03525582,  0.96063898, -0.57995649,\n       -0.56012999,  0.97664275, -0.18083186, -0.82498043,  0.86231887])"
     },
     "metadata": {},
     "execution_count": 86
    }
   ],
   "source": [
    "f = lambdify(x,cos(x**2))\n",
    "f(np.linspace(0,10,100))"
   ]
  },
  {
   "cell_type": "code",
   "execution_count": 87,
   "metadata": {},
   "outputs": [
    {
     "output_type": "execute_result",
     "data": {
      "text/plain": "-sin(x)",
      "text/latex": "$\\displaystyle - \\sin{\\left(x \\right)}$"
     },
     "metadata": {},
     "execution_count": 87
    }
   ],
   "source": [
    "diff(cos(x),x)"
   ]
  },
  {
   "cell_type": "code",
   "execution_count": 88,
   "metadata": {},
   "outputs": [
    {
     "output_type": "execute_result",
     "data": {
      "text/plain": "2*x*exp(x**2)",
      "text/latex": "$\\displaystyle 2 x e^{x^{2}}$"
     },
     "metadata": {},
     "execution_count": 88
    }
   ],
   "source": [
    "diff(exp(x**2), x)"
   ]
  },
  {
   "cell_type": "code",
   "execution_count": 89,
   "metadata": {},
   "outputs": [
    {
     "output_type": "execute_result",
     "data": {
      "text/plain": "24*x",
      "text/latex": "$\\displaystyle 24 x$"
     },
     "metadata": {},
     "execution_count": 89
    }
   ],
   "source": [
    "diff(x**4, x, x, x)"
   ]
  },
  {
   "cell_type": "code",
   "execution_count": 90,
   "metadata": {},
   "outputs": [
    {
     "output_type": "execute_result",
     "data": {
      "text/plain": "Derivative((a*x + b)**m, (x, n))",
      "text/latex": "$\\displaystyle \\frac{\\partial^{n}}{\\partial x^{n}} \\left(a x + b\\right)^{m}$"
     },
     "metadata": {},
     "execution_count": 90
    }
   ],
   "source": [
    "m, n, a, b = symbols('m n a b')\n",
    "expr = (a*x + b)**m\n",
    "expr.diff((x, n))"
   ]
  },
  {
   "cell_type": "code",
   "execution_count": 91,
   "metadata": {},
   "outputs": [
    {
     "output_type": "execute_result",
     "data": {
      "text/plain": "x*y",
      "text/latex": "$\\displaystyle x y$"
     },
     "metadata": {},
     "execution_count": 91
    }
   ],
   "source": [
    "np.inner(x,y)"
   ]
  },
  {
   "cell_type": "code",
   "execution_count": null,
   "metadata": {},
   "outputs": [],
   "source": []
  }
 ],
 "metadata": {
  "file_extension": ".py",
  "kernelspec": {
   "display_name": "PyCharm (InferenceSystem)",
   "language": "python",
   "name": "pycharm-66c53067"
  },
  "language_info": {
   "codemirror_mode": {
    "name": "ipython",
    "version": 3
   },
   "file_extension": ".py",
   "mimetype": "text/x-python",
   "name": "python",
   "nbconvert_exporter": "python",
   "pygments_lexer": "ipython3",
   "version": "3.7.6-final"
  },
  "mimetype": "text/x-python",
  "name": "python",
  "npconvert_exporter": "python",
  "pygments_lexer": "ipython3",
  "version": 3
 },
 "nbformat": 4,
 "nbformat_minor": 2
}