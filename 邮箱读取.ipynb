{
 "cells": [
  {
   "cell_type": "code",
   "execution_count": 4,
   "metadata": {},
   "outputs": [
    {
     "data": {
      "text/plain": [
       "697"
      ]
     },
     "execution_count": 4,
     "metadata": {},
     "output_type": "execute_result"
    }
   ],
   "source": [
    "import imapclient\n",
    "from datetime import date\n",
    "import pandas as pd\n",
    "from tqdm import tqdm\n",
    "\n",
    "# 输入邮件地址, 口令和POP3服务器地址:\n",
    "load_info =[line.replace(\"\\n\",\"\") for line in open(\"token.txt\",\"r\").readlines()]\n",
    "email = load_info[0]\n",
    "password = load_info[2]\n",
    "pop3_server = load_info[1]\n",
    "smtp_server = load_info[3]\n",
    "imap_server = load_info[4]\n",
    "\n",
    "# 创建一个IMAPClient对象，大多数邮件提供商要求SSL加密，传入ssl = True关键字参数\n",
    " \n",
    "imapObj = imapclient.IMAPClient('imap.qq.com',ssl = True)\n",
    " \n",
    "imapObj.login(email,password)\n",
    "imapObj.select_folder('INBOX',readonly = True)\n",
    "# 读取 2020 1月1日后的未读邮件 注意写法\n",
    "UIDs = imapObj.search([u'SINCE', date(2020, 1, 1),'UNSEEN'])\n",
    "len(UIDs)\n"
   ]
  },
  {
   "cell_type": "code",
   "execution_count": 5,
   "metadata": {},
   "outputs": [
    {
     "name": "stderr",
     "output_type": "stream",
     "text": [
      "  1%|▏         | 9/697 [00:01<02:15,  5.07it/s]\n"
     ]
    }
   ],
   "source": [
    "#server.search(['FROM', 'best-friend@domain.com'])\n",
    "# 记录邮件条数 \n",
    "count=0\n",
    "\n",
    "result = {}\n",
    "for i in tqdm(UIDs):\n",
    "    count+=1\n",
    "    #print(count)\n",
    "    msgdict = imapObj.fetch(i, ['BODY[]'])  # 获取邮件内容\n",
    "    result.update({count:msgdict[i]})\n",
    "    if count == 10:\n",
    "        break\n",
    "Mail_table = pd.DataFrame(result).T"
   ]
  },
  {
   "cell_type": "code",
   "execution_count": 6,
   "metadata": {},
   "outputs": [
    {
     "data": {
      "text/html": [
       "<div>\n",
       "<style scoped>\n",
       "    .dataframe tbody tr th:only-of-type {\n",
       "        vertical-align: middle;\n",
       "    }\n",
       "\n",
       "    .dataframe tbody tr th {\n",
       "        vertical-align: top;\n",
       "    }\n",
       "\n",
       "    .dataframe thead th {\n",
       "        text-align: right;\n",
       "    }\n",
       "</style>\n",
       "<table border=\"1\" class=\"dataframe\">\n",
       "  <thead>\n",
       "    <tr style=\"text-align: right;\">\n",
       "      <th></th>\n",
       "      <th>b'SEQ'</th>\n",
       "      <th>b'BODY[]'</th>\n",
       "    </tr>\n",
       "  </thead>\n",
       "  <tbody>\n",
       "    <tr>\n",
       "      <th>1</th>\n",
       "      <td>2877</td>\n",
       "      <td>b'Received: from mail.bocomcc.com (unknown [22...</td>\n",
       "    </tr>\n",
       "    <tr>\n",
       "      <th>2</th>\n",
       "      <td>2878</td>\n",
       "      <td>b'Received: from 67.216.225.172 (unknown [67.2...</td>\n",
       "    </tr>\n",
       "    <tr>\n",
       "      <th>3</th>\n",
       "      <td>2879</td>\n",
       "      <td>b'Received: from 147.253.219.253 (unknown [147...</td>\n",
       "    </tr>\n",
       "    <tr>\n",
       "      <th>4</th>\n",
       "      <td>2880</td>\n",
       "      <td>b'Received: from 147.253.219.253 (unknown [147...</td>\n",
       "    </tr>\n",
       "    <tr>\n",
       "      <th>5</th>\n",
       "      <td>2881</td>\n",
       "      <td>b'Received: from 147.253.219.253 (unknown [147...</td>\n",
       "    </tr>\n",
       "    <tr>\n",
       "      <th>6</th>\n",
       "      <td>2882</td>\n",
       "      <td>b'Received: from 147.253.219.253 (unknown [147...</td>\n",
       "    </tr>\n",
       "    <tr>\n",
       "      <th>7</th>\n",
       "      <td>2883</td>\n",
       "      <td>b'Received: from 147.253.219.253 (unknown [147...</td>\n",
       "    </tr>\n",
       "    <tr>\n",
       "      <th>8</th>\n",
       "      <td>2884</td>\n",
       "      <td>b'Received: from out23-72.mail.alibaba.com (un...</td>\n",
       "    </tr>\n",
       "    <tr>\n",
       "      <th>9</th>\n",
       "      <td>2885</td>\n",
       "      <td>b'Received: from 147.253.219.253 (unknown [147...</td>\n",
       "    </tr>\n",
       "    <tr>\n",
       "      <th>10</th>\n",
       "      <td>2886</td>\n",
       "      <td>b'X-QQ-XMAILINFO: Nwh3iVn/79F33TiJbYJuzMPcaiz7...</td>\n",
       "    </tr>\n",
       "  </tbody>\n",
       "</table>\n",
       "</div>"
      ],
      "text/plain": [
       "   b'SEQ'                                          b'BODY[]'\n",
       "1    2877  b'Received: from mail.bocomcc.com (unknown [22...\n",
       "2    2878  b'Received: from 67.216.225.172 (unknown [67.2...\n",
       "3    2879  b'Received: from 147.253.219.253 (unknown [147...\n",
       "4    2880  b'Received: from 147.253.219.253 (unknown [147...\n",
       "5    2881  b'Received: from 147.253.219.253 (unknown [147...\n",
       "6    2882  b'Received: from 147.253.219.253 (unknown [147...\n",
       "7    2883  b'Received: from 147.253.219.253 (unknown [147...\n",
       "8    2884  b'Received: from out23-72.mail.alibaba.com (un...\n",
       "9    2885  b'Received: from 147.253.219.253 (unknown [147...\n",
       "10   2886  b'X-QQ-XMAILINFO: Nwh3iVn/79F33TiJbYJuzMPcaiz7..."
      ]
     },
     "execution_count": 6,
     "metadata": {},
     "output_type": "execute_result"
    }
   ],
   "source": [
    " \n",
    "Mail_table"
   ]
  },
  {
   "cell_type": "code",
   "execution_count": null,
   "metadata": {},
   "outputs": [],
   "source": []
  },
  {
   "cell_type": "code",
   "execution_count": null,
   "metadata": {},
   "outputs": [],
   "source": []
  }
 ],
 "metadata": {
  "kernelspec": {
   "display_name": "Python 3",
   "language": "python",
   "name": "python3"
  },
  "language_info": {
   "codemirror_mode": {
    "name": "ipython",
    "version": 3
   },
   "file_extension": ".py",
   "mimetype": "text/x-python",
   "name": "python",
   "nbconvert_exporter": "python",
   "pygments_lexer": "ipython3",
   "version": "3.8.5"
  }
 },
 "nbformat": 4,
 "nbformat_minor": 4
}
