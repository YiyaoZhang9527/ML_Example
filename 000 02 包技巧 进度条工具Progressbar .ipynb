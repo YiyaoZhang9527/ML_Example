{
 "cells": [
  {
   "cell_type": "code",
   "execution_count": 3,
   "metadata": {
    "tags": []
   },
   "outputs": [
    {
     "name": "stdout",
     "output_type": "stream",
     "text": [
      "Collecting progressbar\n",
      "  Using cached progressbar-2.5.tar.gz (10 kB)\n",
      "Building wheels for collected packages: progressbar\n",
      "  Building wheel for progressbar (setup.py) ... \u001b[?25ldone\n",
      "\u001b[?25h  Created wheel for progressbar: filename=progressbar-2.5-py3-none-any.whl size=12074 sha256=0c9aa4cadd67e81ec3dc2277b607beb6bd2db485348d691ca838d17dbbde00d3\n",
      "  Stored in directory: /home/manman/.cache/pip/wheels/f0/fd/1f/3e35ed57e94cd8ced38dd46771f1f0f94f65fec548659ed855\n",
      "Successfully built progressbar\n",
      "Installing collected packages: progressbar\n",
      "Successfully installed progressbar-2.5\n"
     ]
    },
    {
     "name": "stderr",
     "output_type": "stream",
     "text": [
      "100% |########################################################################|\n"
     ]
    }
   ],
   "source": [
    "# -*- coding=utf-8 -*-  \n",
    "! pip install progressbar\n",
    "import time  \n",
    "from progressbar import *  \n",
    "  \n",
    "total = 1000  \n",
    "  \n",
    "def dosomework():  \n",
    "    time.sleep(0.01)  \n",
    "  \n",
    "progress = ProgressBar()  \n",
    "for i in progress(range(1000)):  \n",
    "    dosomework()  "
   ]
  },
  {
   "cell_type": "code",
   "execution_count": 4,
   "metadata": {
    "tags": []
   },
   "outputs": [
    {
     "name": "stderr",
     "output_type": "stream",
     "text": [
      "100% |########################################################################|\n"
     ]
    }
   ],
   "source": [
    "# -*- coding=utf-8 -*-  \n",
    "  \n",
    "from __future__ import division  \n",
    "  \n",
    "import sys, time  \n",
    "from progressbar import *  \n",
    "  \n",
    "total = 1000  \n",
    "  \n",
    "def dosomework():  \n",
    "    time.sleep(0.01)  \n",
    "  \n",
    "pbar = ProgressBar().start()  \n",
    "for i in range(1000):  \n",
    "    pbar.update(int((i / (total - 1)) * 100))  \n",
    "    dosomework()  \n",
    "pbar.finish()  "
   ]
  },
  {
   "cell_type": "code",
   "execution_count": 5,
   "metadata": {},
   "outputs": [
    {
     "ename": "SyntaxError",
     "evalue": "positional argument follows keyword argument (<ipython-input-5-319f9fb0fce0>, line 8)",
     "output_type": "error",
     "traceback": [
      "\u001b[0;36m  File \u001b[0;32m\"<ipython-input-5-319f9fb0fce0>\"\u001b[0;36m, line \u001b[0;32m8\u001b[0m\n\u001b[0;31m    progressbar.ProgressBar(widgets=widgets, maxval)\u001b[0m\n\u001b[0m                                            ^\u001b[0m\n\u001b[0;31mSyntaxError\u001b[0m\u001b[0;31m:\u001b[0m positional argument follows keyword argument\n"
     ]
    }
   ],
   "source": [
    "maxval = None\n",
    "widgets = None\n",
    "term_width = None\n",
    "poll:int = 1\n",
    "left_justify:bool = True\n",
    "fd = None\n",
    "\n",
    "progressbar.ProgressBar(widgets=widgets, maxval)"
   ]
  },
  {
   "cell_type": "code",
   "execution_count": null,
   "metadata": {},
   "outputs": [],
   "source": []
  }
 ],
 "metadata": {
  "kernelspec": {
   "display_name": "Python 3",
   "language": "python",
   "name": "python3"
  },
  "language_info": {
   "codemirror_mode": {
    "name": "ipython",
    "version": 3
   },
   "file_extension": ".py",
   "mimetype": "text/x-python",
   "name": "python",
   "nbconvert_exporter": "python",
   "pygments_lexer": "ipython3",
   "version": "3.7.9"
  }
 },
 "nbformat": 4,
 "nbformat_minor": 4
}
