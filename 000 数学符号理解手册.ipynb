{
 "cells": [
  {
   "cell_type": "code",
   "execution_count": 46,
   "metadata": {},
   "outputs": [],
   "source": [
    "import pandas as pd\n",
    "import numpy as np"
   ]
  },
  {
   "cell_type": "code",
   "execution_count": 47,
   "metadata": {},
   "outputs": [
    {
     "output_type": "execute_result",
     "data": {
      "text/plain": "   大写 小写     英文注音      国际音标  中文注音\n0   Α  α    alpha      alfa   阿耳法\n1   Β  β     beta      beta    贝塔\n2   Γ  γ    gamma     gamma    伽马\n3   Δ  δ     deta     delta   德耳塔\n4   Ε  ε  epsilon   epsilon  艾普西隆\n5   Ζ  ζ     zeta      zeta    截塔\n6   Η  η      eta       eta    艾塔\n7   Θ  θ    theta      θita    西塔\n8   Ι  ι     iota      iota    约塔\n9   Κ  κ    kappa     kappa    卡帕\n10  ∧  λ   lambda    lambda   兰姆达\n11  Μ  μ       mu       miu     缪\n12  Ν  ν       nu       niu     纽\n13  Ξ  ξ       xi       ksi    可塞\n14  Ο  ο  omicron   omikron  奥密可戎\n15  ∏  π       pi       pai     派\n16  Ρ  ρ      rho       rou     柔\n17  ∑  σ    sigma     sigma   西格马\n18  Τ  τ      tau       tau     套\n19  Υ  υ  upsilon  jupsilon  衣普西隆\n20  Φ  φ      phi       fai     斐\n21  Χ  χ      chi      khai     喜\n22  Ψ  ψ      psi      psai    普西\n23  Ω  ω    omega     omiga   欧米噶",
      "text/html": "<div>\n<style scoped>\n    .dataframe tbody tr th:only-of-type {\n        vertical-align: middle;\n    }\n\n    .dataframe tbody tr th {\n        vertical-align: top;\n    }\n\n    .dataframe thead th {\n        text-align: right;\n    }\n</style>\n<table border=\"1\" class=\"dataframe\">\n  <thead>\n    <tr style=\"text-align: right;\">\n      <th></th>\n      <th>大写</th>\n      <th>小写</th>\n      <th>英文注音</th>\n      <th>国际音标</th>\n      <th>中文注音</th>\n    </tr>\n  </thead>\n  <tbody>\n    <tr>\n      <th>0</th>\n      <td>Α</td>\n      <td>α</td>\n      <td>alpha</td>\n      <td>alfa</td>\n      <td>阿耳法</td>\n    </tr>\n    <tr>\n      <th>1</th>\n      <td>Β</td>\n      <td>β</td>\n      <td>beta</td>\n      <td>beta</td>\n      <td>贝塔</td>\n    </tr>\n    <tr>\n      <th>2</th>\n      <td>Γ</td>\n      <td>γ</td>\n      <td>gamma</td>\n      <td>gamma</td>\n      <td>伽马</td>\n    </tr>\n    <tr>\n      <th>3</th>\n      <td>Δ</td>\n      <td>δ</td>\n      <td>deta</td>\n      <td>delta</td>\n      <td>德耳塔</td>\n    </tr>\n    <tr>\n      <th>4</th>\n      <td>Ε</td>\n      <td>ε</td>\n      <td>epsilon</td>\n      <td>epsilon</td>\n      <td>艾普西隆</td>\n    </tr>\n    <tr>\n      <th>5</th>\n      <td>Ζ</td>\n      <td>ζ</td>\n      <td>zeta</td>\n      <td>zeta</td>\n      <td>截塔</td>\n    </tr>\n    <tr>\n      <th>6</th>\n      <td>Η</td>\n      <td>η</td>\n      <td>eta</td>\n      <td>eta</td>\n      <td>艾塔</td>\n    </tr>\n    <tr>\n      <th>7</th>\n      <td>Θ</td>\n      <td>θ</td>\n      <td>theta</td>\n      <td>θita</td>\n      <td>西塔</td>\n    </tr>\n    <tr>\n      <th>8</th>\n      <td>Ι</td>\n      <td>ι</td>\n      <td>iota</td>\n      <td>iota</td>\n      <td>约塔</td>\n    </tr>\n    <tr>\n      <th>9</th>\n      <td>Κ</td>\n      <td>κ</td>\n      <td>kappa</td>\n      <td>kappa</td>\n      <td>卡帕</td>\n    </tr>\n    <tr>\n      <th>10</th>\n      <td>∧</td>\n      <td>λ</td>\n      <td>lambda</td>\n      <td>lambda</td>\n      <td>兰姆达</td>\n    </tr>\n    <tr>\n      <th>11</th>\n      <td>Μ</td>\n      <td>μ</td>\n      <td>mu</td>\n      <td>miu</td>\n      <td>缪</td>\n    </tr>\n    <tr>\n      <th>12</th>\n      <td>Ν</td>\n      <td>ν</td>\n      <td>nu</td>\n      <td>niu</td>\n      <td>纽</td>\n    </tr>\n    <tr>\n      <th>13</th>\n      <td>Ξ</td>\n      <td>ξ</td>\n      <td>xi</td>\n      <td>ksi</td>\n      <td>可塞</td>\n    </tr>\n    <tr>\n      <th>14</th>\n      <td>Ο</td>\n      <td>ο</td>\n      <td>omicron</td>\n      <td>omikron</td>\n      <td>奥密可戎</td>\n    </tr>\n    <tr>\n      <th>15</th>\n      <td>∏</td>\n      <td>π</td>\n      <td>pi</td>\n      <td>pai</td>\n      <td>派</td>\n    </tr>\n    <tr>\n      <th>16</th>\n      <td>Ρ</td>\n      <td>ρ</td>\n      <td>rho</td>\n      <td>rou</td>\n      <td>柔</td>\n    </tr>\n    <tr>\n      <th>17</th>\n      <td>∑</td>\n      <td>σ</td>\n      <td>sigma</td>\n      <td>sigma</td>\n      <td>西格马</td>\n    </tr>\n    <tr>\n      <th>18</th>\n      <td>Τ</td>\n      <td>τ</td>\n      <td>tau</td>\n      <td>tau</td>\n      <td>套</td>\n    </tr>\n    <tr>\n      <th>19</th>\n      <td>Υ</td>\n      <td>υ</td>\n      <td>upsilon</td>\n      <td>jupsilon</td>\n      <td>衣普西隆</td>\n    </tr>\n    <tr>\n      <th>20</th>\n      <td>Φ</td>\n      <td>φ</td>\n      <td>phi</td>\n      <td>fai</td>\n      <td>斐</td>\n    </tr>\n    <tr>\n      <th>21</th>\n      <td>Χ</td>\n      <td>χ</td>\n      <td>chi</td>\n      <td>khai</td>\n      <td>喜</td>\n    </tr>\n    <tr>\n      <th>22</th>\n      <td>Ψ</td>\n      <td>ψ</td>\n      <td>psi</td>\n      <td>psai</td>\n      <td>普西</td>\n    </tr>\n    <tr>\n      <th>23</th>\n      <td>Ω</td>\n      <td>ω</td>\n      <td>omega</td>\n      <td>omiga</td>\n      <td>欧米噶</td>\n    </tr>\n  </tbody>\n</table>\n</div>"
     },
     "metadata": {},
     "execution_count": 47
    }
   ],
   "source": [
    "table1 = pd.DataFrame(np.array([['Α', 'α', 'alpha', 'alfa', '阿耳法'],\n",
    "       ['Β', 'β', 'beta', 'beta', '贝塔'],\n",
    "       ['Γ', 'γ', 'gamma', 'gamma', '伽马'],\n",
    "       ['Δ', 'δ', 'deta', 'delta', '德耳塔'],\n",
    "       ['Ε', 'ε', 'epsilon', 'epsilon', '艾普西隆'],\n",
    "       ['Ζ', 'ζ', 'zeta', 'zeta', '截塔'],\n",
    "       ['Η', 'η', 'eta', 'eta', '艾塔'],\n",
    "       ['Θ', 'θ', 'theta', 'θita', '西塔'],\n",
    "       ['Ι', 'ι', 'iota', 'iota', '约塔'],\n",
    "       ['Κ', 'κ', 'kappa', 'kappa', '卡帕'],\n",
    "       ['∧', 'λ', 'lambda', 'lambda', '兰姆达'],\n",
    "       ['Μ', 'μ', 'mu', 'miu', '缪'],\n",
    "       ['Ν', 'ν', 'nu', 'niu', '纽'],\n",
    "       ['Ξ', 'ξ', 'xi', 'ksi', '可塞'],\n",
    "       ['Ο', 'ο', 'omicron', 'omikron', '奥密可戎'],\n",
    "       ['∏', 'π', 'pi', 'pai', '派'],\n",
    "       ['Ρ', 'ρ', 'rho', 'rou', '柔'],\n",
    "       ['∑', 'σ', 'sigma', 'sigma', '西格马'],\n",
    "       ['Τ', 'τ', 'tau', 'tau', '套'],\n",
    "       ['Υ', 'υ', 'upsilon', 'jupsilon', '衣普西隆'],\n",
    "       ['Φ', 'φ', 'phi', 'fai', '斐'],\n",
    "       ['Χ', 'χ', 'chi', 'khai', '喜'],\n",
    "       ['Ψ', 'ψ', 'psi', 'psai', '普西'],\n",
    "       ['Ω', 'ω', 'omega', 'omiga', '欧米噶']]),\n",
    " columns = ['大写','小写', '英文注音', '国际音标', '中文注音'])\n",
    "table1"
   ]
  },
  {
   "cell_type": "code",
   "execution_count": 61,
   "metadata": {},
   "outputs": [
    {
     "output_type": "execute_result",
     "data": {
      "text/plain": "        符号                                                 含义\n0        i                                             -1的平方根\n1     f(x)                                        函数f在自变量x处的值\n2   sin(x)                                       在自变量x处的正弦函数值\n3   exp(x)                                在自变量x处的指数函数值，常被写作ex\n4      a^x                                   a的x次方；有理数x由反函数定义\n..     ...                                                ...\n73     nan  函数f 从a到b的定积分。当f是正的且 a < b 时表示由x轴和直线y = a, y = ...\n74    L(d)                        相等子区间大小为d，每个子区间左端点的值为 f的黎曼和\n75    R(d)                        相等子区间大小为d，每个子区间右端点的值为 f的黎曼和\n76    M(d)                        相等子区间大小为d，每个子区间上的最大值为 f的黎曼和\n77    m(d)                        相等子区间大小为d，每个子区间上的最小值为 f的黎曼和\n\n[78 rows x 2 columns]",
      "text/html": "<div>\n<style scoped>\n    .dataframe tbody tr th:only-of-type {\n        vertical-align: middle;\n    }\n\n    .dataframe tbody tr th {\n        vertical-align: top;\n    }\n\n    .dataframe thead th {\n        text-align: right;\n    }\n</style>\n<table border=\"1\" class=\"dataframe\">\n  <thead>\n    <tr style=\"text-align: right;\">\n      <th></th>\n      <th>符号</th>\n      <th>含义</th>\n    </tr>\n  </thead>\n  <tbody>\n    <tr>\n      <th>0</th>\n      <td>i</td>\n      <td>-1的平方根</td>\n    </tr>\n    <tr>\n      <th>1</th>\n      <td>f(x)</td>\n      <td>函数f在自变量x处的值</td>\n    </tr>\n    <tr>\n      <th>2</th>\n      <td>sin(x)</td>\n      <td>在自变量x处的正弦函数值</td>\n    </tr>\n    <tr>\n      <th>3</th>\n      <td>exp(x)</td>\n      <td>在自变量x处的指数函数值，常被写作ex</td>\n    </tr>\n    <tr>\n      <th>4</th>\n      <td>a^x</td>\n      <td>a的x次方；有理数x由反函数定义</td>\n    </tr>\n    <tr>\n      <th>...</th>\n      <td>...</td>\n      <td>...</td>\n    </tr>\n    <tr>\n      <th>73</th>\n      <td>nan</td>\n      <td>函数f 从a到b的定积分。当f是正的且 a &lt; b 时表示由x轴和直线y = a, y = ...</td>\n    </tr>\n    <tr>\n      <th>74</th>\n      <td>L(d)</td>\n      <td>相等子区间大小为d，每个子区间左端点的值为 f的黎曼和</td>\n    </tr>\n    <tr>\n      <th>75</th>\n      <td>R(d)</td>\n      <td>相等子区间大小为d，每个子区间右端点的值为 f的黎曼和</td>\n    </tr>\n    <tr>\n      <th>76</th>\n      <td>M(d)</td>\n      <td>相等子区间大小为d，每个子区间上的最大值为 f的黎曼和</td>\n    </tr>\n    <tr>\n      <th>77</th>\n      <td>m(d)</td>\n      <td>相等子区间大小为d，每个子区间上的最小值为 f的黎曼和</td>\n    </tr>\n  </tbody>\n</table>\n<p>78 rows × 2 columns</p>\n</div>"
     },
     "metadata": {},
     "execution_count": 61
    }
   ],
   "source": [
    "\n",
    "pd.DataFrame(np.array([['i', '-1的平方根'],\n",
    "       ['f(x)', '函数f在自变量x处的值'],\n",
    "       ['sin(x)', '在自变量x处的正弦函数值'],\n",
    "       ['exp(x)', '在自变量x处的指数函数值，常被写作ex'],\n",
    "       ['a^x', 'a的x次方；有理数x由反函数定义'],\n",
    "       ['ln x', 'exp x 的反函数'],\n",
    "       ['ax', '同 a^x'],\n",
    "       ['logba', '以b为底a的对数；blogba = a'],\n",
    "       ['cos x', '在自变量x处余弦函数的值'],\n",
    "       ['tan x', '其值等于 sin x/cos x'],\n",
    "       ['cot x', '余切函数的值或 cos x/sin x'],\n",
    "       ['sec x', '正割含数的值，其值等于 1/cos x'],\n",
    "       ['csc x', '余割函数的值，其值等于 1/sin x'],\n",
    "       ['asin x', 'y，正弦函数反函数在x处的值，即 x = sin y'],\n",
    "       ['acos x', 'y，余弦函数反函数在x处的值，即 x = cos y'],\n",
    "       ['atan x', 'y，正切函数反函数在x处的值，即 x = tan y'],\n",
    "       ['acot x', 'y，余切函数反函数在x处的值，即 x = cot y'],\n",
    "       ['asec x', 'y，正割函数反函数在x处的值，即 x = sec y'],\n",
    "       ['acsc x', 'y，余割函数反函数在x处的值，即 x = csc y'],\n",
    "       ['θ', '角度的一个标准符号，不注明均指弧度，尤其用于表示atan x/y，当x、y、z用于表示空间中的点时'],\n",
    "       ['i, j, k', '分别表示x、y、z方向上的单位向量'],\n",
    "       ['(a, b, c)', '以a、b、c为元素的向量'],\n",
    "       ['(a, b)', '以a、b为元素的向量'],\n",
    "       ['(a, b)', 'a、b向量的点积'],\n",
    "       ['a•b', 'a、b向量的点积'],\n",
    "       ['(a•b)', 'a、b向量的点积'],\n",
    "       ['|v|', '向量v的模'],\n",
    "       ['|x|', '数x的绝对值'],\n",
    "       ['Σ',\n",
    "        '表示求和，通常是某项指数。下边界值写在其下部，上边界值写在其上部。如j从1到100 的和可以表示成：。这表示 1 + 2 +\\xa0…\\xa0+ n'],\n",
    "       ['M', '表示一个矩阵或数列或其它'],\n",
    "       ['|v>', '列向量，即元素被写成列或可被看成k×1阶矩阵的向量'],\n",
    "       ['<v|', '被写成行或可被看成从1×k阶矩阵的向量'],\n",
    "       ['dx', '变量x的一个无穷小变化，dy, dz, dr等类似'],\n",
    "       ['ds', '长度的微小变化'],\n",
    "       ['ρ', '变量 (x2 + y2 + z2)1/2 或球面坐标系中到原点的距离'],\n",
    "       ['r', '变量 (x2 + y2)1/2 或三维空间或极坐标中到z轴的距离'],\n",
    "       ['|M|', '矩阵M的行列式，其值是矩阵的行和列决定的平行区域的面积或体积'],\n",
    "       ['||M||', '矩阵M的行列式的值，为一个面积、体积或超体积'],\n",
    "       ['det M', 'M的行列式'],\n",
    "       ['M-1', '矩阵M的逆矩阵'],\n",
    "       ['v×w', '向量v和w的向量积或叉积'],\n",
    "       ['θvw', '向量v和w之间的夹角'],\n",
    "       ['A•B×C', '标量三重积，以A、B、C为列的矩阵的行列式'],\n",
    "       ['uw', '在向量w方向上的单位向量，即 w/|w|'],\n",
    "       ['df', '函数f的微小变化，足够小以至适合于所有相关函数的线性近似'],\n",
    "       ['df/dx', 'f关于x的导数，同时也是f的线性近似斜率'],\n",
    "       [\"f '\", '函数f关于相应自变量的导数，自变量通常为x'],\n",
    "       ['∂f/∂x',\n",
    "        'y、z固定时f关于x的偏导数。通常f关于某变量q的偏导数为当其它几个变量固定时df 与dq的比值。任何可能导致变量混淆的地方都应明确地表述'],\n",
    "       ['(∂f/∂x)|r,z', '保持r和z不变时，f关于x的偏导数'],\n",
    "       ['grad f',\n",
    "        '元素分别为f关于x、y、z偏导数 [(∂f/∂x), (∂f/∂y), (∂f/∂z)] 或 (∂f/∂x)i + (∂f/∂y)j + (∂f/∂z)k; 的向量场，称为f的梯度'],\n",
    "       ['∇', '向量算子(∂/∂x)i + (∂/∂x)j + (∂/∂x)k, 读作 \"del\"'],\n",
    "       ['∇f', 'f的梯度；它和 uw 的点积为f在w方向上的方向导数'],\n",
    "       ['∇•w',\n",
    "        '向量场w的散度，为向量算子∇\\xa0同向量 w的点积, 或 (∂wx /∂x) + (∂wy /∂y) + (∂wz /∂z)'],\n",
    "       ['curl w', '向量算子\\xa0∇\\xa0同向量 w 的叉积'],\n",
    "       ['∇×w',\n",
    "        'w的旋度，其元素为[(∂fz /∂y) - (∂fy /∂z), (∂fx /∂z) - (∂fz /∂x), (∂fy /∂x) - (∂fx /∂y)]'],\n",
    "       ['∇•∇', '拉普拉斯微分算子：(∂2/∂x2) + (∂/∂y2) + (∂/∂z2)'],\n",
    "       ['f \"(x)', \"f关于x的二阶导数，f '(x)的导数\"],\n",
    "       ['d2f/dx2', 'f关于x的二阶导数'],\n",
    "       ['f(2)(x)', '同样也是f关于x的二阶导数'],\n",
    "       ['f(k)(x)', 'f关于x的第k阶导数，f(k-1) (x)的导数'],\n",
    "       ['T', '曲线切线方向上的单位向量，如果曲线可以描述成 r(t), 则T = (dr/dt)/|dr/dt|'],\n",
    "       ['ds', '沿曲线方向距离的导数'],\n",
    "       ['κ', '曲线的曲率，单位切线向量相对曲线距离的导数的值：|dT/ds|'],\n",
    "       ['N', 'dT/ds投影方向单位向量，垂直于T'],\n",
    "       ['B', '平面T和N的单位法向量，即曲率的平面'],\n",
    "       ['τ', '曲线的扭率：|dB/ds|'],\n",
    "       ['g', '重力常数'],\n",
    "       ['F', '力学中力的标准符号'],\n",
    "       ['k', '弹簧的弹簧常数'],\n",
    "       ['pi', '第i个物体的动量'],\n",
    "       ['H', '物理系统的哈密尔敦函数，即位置和动量表示的能量'],\n",
    "       ['{Q, H}', 'Q, H的泊松括号'],\n",
    "       [np.nan, '以一个关于x的函数的形式表达的f(x)的积分'],\n",
    "       [np.nan,\n",
    "        '函数f 从a到b的定积分。当f是正的且 a < b 时表示由x轴和直线y = a, y = b 及在这些直线之间的函数曲线所围起来图形的面积'],\n",
    "       ['L(d)', '相等子区间大小为d，每个子区间左端点的值为 f的黎曼和'],\n",
    "       ['R(d)', '相等子区间大小为d，每个子区间右端点的值为 f的黎曼和'],\n",
    "       ['M(d)', '相等子区间大小为d，每个子区间上的最大值为 f的黎曼和'],\n",
    "       ['m(d)', '相等子区间大小为d，每个子区间上的最小值为 f的黎曼和']])\n",
    "       ,columns = ['符号', '含义'])"
   ]
  },
  {
   "cell_type": "code",
   "execution_count": null,
   "metadata": {},
   "outputs": [],
   "source": [
    "\n",
    "\n"
   ]
  }
 ],
 "metadata": {
  "language_info": {
   "codemirror_mode": {
    "name": "ipython",
    "version": 3
   },
   "file_extension": ".py",
   "mimetype": "text/x-python",
   "name": "python",
   "nbconvert_exporter": "python",
   "pygments_lexer": "ipython3",
   "version": "3.7.6-final"
  },
  "orig_nbformat": 2,
  "kernelspec": {
   "name": "pycharm-66c53067",
   "display_name": "PyCharm (InferenceSystem)"
  }
 },
 "nbformat": 4,
 "nbformat_minor": 2
}