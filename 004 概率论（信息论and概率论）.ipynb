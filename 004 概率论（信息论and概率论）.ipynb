{
 "cells": [
  {
   "cell_type": "code",
   "execution_count": 60,
   "metadata": {},
   "outputs": [],
   "source": [
    "import numpy as np\n",
    "import scipy.stats as sts\n",
    "import matplotlib.pyplot as plt"
   ]
  },
  {
   "cell_type": "code",
   "execution_count": 61,
   "metadata": {},
   "outputs": [],
   "source": [
    "SETA = (np.random.random(10)*10).astype(int)\n",
    "SETB = (np.random.random(10)*10).astype(int)"
   ]
  },
  {
   "cell_type": "markdown",
   "metadata": {},
   "source": [
    "## $ 首先回忆一下概率计算单事件的概率为P(A),不发生的概率就是1-P(A) $\n",
    "## $ 两个独立事件的交集是 P(A n B) = P(A) P(B) $\n",
    "## $ 如果两个事件互斥，也就是同时只能发生一个，那事件不发生的概率就是 P(A) + P(B) $\n",
    "## $如果事件不是相互排斥的，那么,两个事件同时不反升的概率就是 P(A U B) = P(A) + P(B) - P(A n B)\n",
    "## 总结：概率的交集用乘法概率的并集用加法$\n"
   ]
  },
  {
   "cell_type": "markdown",
   "metadata": {},
   "source": [
    "## 概率统计函数"
   ]
  },
  {
   "cell_type": "markdown",
   "metadata": {},
   "source": [
    "## 事件概率加法"
   ]
  },
  {
   "cell_type": "code",
   "execution_count": null,
   "metadata": {},
   "outputs": [],
   "source": []
  },
  {
   "cell_type": "code",
   "execution_count": 62,
   "metadata": {},
   "outputs": [],
   "source": [
    "def P(SET,A):\n",
    "    m = SET.shape[0]\n",
    "    return np.dot((SET==A).astype(int),np.ones(m))/np.array([m])"
   ]
  },
  {
   "cell_type": "code",
   "execution_count": 63,
   "metadata": {},
   "outputs": [
    {
     "output_type": "execute_result",
     "data": {
      "text/plain": "(array([0.1]), array([0.33333333]))"
     },
     "metadata": {},
     "execution_count": 63
    }
   ],
   "source": [
    "P(SETA,3),P(np.array(['a','b','c']),'a')"
   ]
  },
  {
   "cell_type": "markdown",
   "metadata": {},
   "source": [
    "## 相反概率"
   ]
  },
  {
   "cell_type": "code",
   "execution_count": 64,
   "metadata": {},
   "outputs": [],
   "source": [
    "def PContrary(SET,A):\n",
    "    return 1-P(SETA,A)"
   ]
  },
  {
   "cell_type": "code",
   "execution_count": 65,
   "metadata": {},
   "outputs": [
    {
     "output_type": "execute_result",
     "data": {
      "text/plain": "array([0.9])"
     },
     "metadata": {},
     "execution_count": 65
    }
   ],
   "source": [
    "PContrary(SETA,3)"
   ]
  },
  {
   "cell_type": "markdown",
   "metadata": {},
   "source": [
    "## 联合事件概率计算"
   ]
  },
  {
   "cell_type": "code",
   "execution_count": 66,
   "metadata": {},
   "outputs": [],
   "source": [
    "def PUnin(SETList,eventList):\n",
    "    if len(SETList)==len(eventList):\n",
    "        step1 = np.array([P(sets , even) for sets , even in zip(SETList,eventList)])\n",
    "        return np.cumprod(step1)[-1:]"
   ]
  },
  {
   "cell_type": "code",
   "execution_count": 67,
   "metadata": {},
   "outputs": [
    {
     "output_type": "execute_result",
     "data": {
      "text/plain": "array([0.01])"
     },
     "metadata": {},
     "execution_count": 67
    }
   ],
   "source": [
    "PUnin([SETA,SETB],[1,1])"
   ]
  },
  {
   "cell_type": "markdown",
   "metadata": {},
   "source": [
    "## 联合事件的反的概率"
   ]
  },
  {
   "cell_type": "code",
   "execution_count": 68,
   "metadata": {},
   "outputs": [],
   "source": [
    "def PUninInverse(SETList,eventList):\n",
    "    return 1-PUnin(SETList,eventList)"
   ]
  },
  {
   "cell_type": "code",
   "execution_count": 69,
   "metadata": {},
   "outputs": [
    {
     "output_type": "execute_result",
     "data": {
      "text/plain": "array([0.99])"
     },
     "metadata": {},
     "execution_count": 69
    }
   ],
   "source": [
    "PUninInverse([SETA,SETB],[1,1])"
   ]
  },
  {
   "cell_type": "markdown",
   "metadata": {},
   "source": [
    "## 相互独立事件的联合事件发生概率"
   ]
  },
  {
   "cell_type": "code",
   "execution_count": 70,
   "metadata": {},
   "outputs": [],
   "source": [
    "def PIndependentUnin(SETAList,eventList):\n",
    "    if len(SETAList)==len(eventList):\n",
    "        m = len(SETAList)\n",
    "        step = np.array([P(sets,even) for sets , even in zip(SETAList,eventList)])\n",
    "        return np.dot(step.T,np.ones((m)))\n",
    "    else:\n",
    "        return np.nan"
   ]
  },
  {
   "cell_type": "code",
   "execution_count": 71,
   "metadata": {},
   "outputs": [
    {
     "output_type": "execute_result",
     "data": {
      "text/plain": "array([0.2])"
     },
     "metadata": {},
     "execution_count": 71
    }
   ],
   "source": [
    "PIndependentUnin([SETA,SETB],[1,1])"
   ]
  },
  {
   "cell_type": "markdown",
   "metadata": {},
   "source": [
    "## 相互独立事件的联合事件概率的反概率"
   ]
  },
  {
   "cell_type": "code",
   "execution_count": 72,
   "metadata": {},
   "outputs": [],
   "source": [
    "def PIndependentUninsInverse(SETList,eventList):\n",
    "    m = len(SETList)\n",
    "    return m-PIndependentUnin(SETList,eventList)"
   ]
  },
  {
   "cell_type": "code",
   "execution_count": 73,
   "metadata": {},
   "outputs": [
    {
     "output_type": "execute_result",
     "data": {
      "text/plain": "array([1.8])"
     },
     "metadata": {},
     "execution_count": 73
    }
   ],
   "source": [
    "PIndependentUninsInverse([SETA,SETB],[1,1])"
   ]
  },
  {
   "cell_type": "markdown",
   "metadata": {},
   "source": [
    "## 如果相互独立的事件不是互斥的，则联合概率的反概率为"
   ]
  },
  {
   "cell_type": "code",
   "execution_count": 74,
   "metadata": {},
   "outputs": [],
   "source": [
    "def P2(SETList,eventList):\n",
    "    return PIndependentUnin(SETList,eventList)-PUnin(SETList,eventList)"
   ]
  },
  {
   "cell_type": "code",
   "execution_count": 75,
   "metadata": {},
   "outputs": [
    {
     "output_type": "execute_result",
     "data": {
      "text/plain": "array([0.19])"
     },
     "metadata": {},
     "execution_count": 75
    }
   ],
   "source": [
    "P2([SETA,SETB],[1,1])"
   ]
  },
  {
   "cell_type": "markdown",
   "metadata": {},
   "source": [
    "## 条件概率"
   ]
  },
  {
   "cell_type": "code",
   "execution_count": 76,
   "metadata": {},
   "outputs": [],
   "source": [
    "def PAandB(SETA,SETB,A,B):\n",
    "    step1 , step2 = (P(SETA,A),P(SETB,B))\n",
    "    return PUnin([SETA,SETB],[A,A])/P(SETB,B)\n"
   ]
  },
  {
   "cell_type": "code",
   "execution_count": 77,
   "metadata": {},
   "outputs": [
    {
     "output_type": "execute_result",
     "data": {
      "text/plain": "0.0"
     },
     "metadata": {},
     "execution_count": 77
    }
   ],
   "source": [
    "PAandB(SETA,SETB,4,2)[0]"
   ]
  },
  {
   "cell_type": "markdown",
   "metadata": {},
   "source": [
    "## 如果我们有俩个不相关的事件x和y，那么我们观察到的俩个事件同时发生时获得的信息应该等于观察到的事件各自发生时获得的信息之和\n",
    "## $ h(x,y)=h(x)+h(y) $\n",
    "## 由于x，y是俩个不相关的事件，那么满足\n",
    "## $ p(x,y) = p(x)*p(y) $"
   ]
  },
  {
   "cell_type": "code",
   "execution_count": 78,
   "metadata": {},
   "outputs": [],
   "source": [
    "#!/usr/bin/env python\n",
    "# -*- encoding: utf-8 -*-\n",
    "'''\n",
    "@File    :   MathZXB.py\n",
    "@Time    :   2020/04/27 09:52:06\n",
    "@Author  :   DataMagician \n",
    "@Version :   1.0\n",
    "@License :   DataMagician\n",
    "@Desc    :   None\n",
    "'''\n",
    "\n",
    "# here put the import lib\n",
    "import numpy as np\n",
    "import math\n",
    "from scipy import stats as sst\n",
    "import os\n",
    "from math import log\n",
    "from scipy.optimize import curve_fit\n",
    "\n",
    "def longerror(func):\n",
    "    def In(*vars):\n",
    "        try :\n",
    "            return func(*vars),\n",
    "        except Exception as e :\n",
    "            __import__('cgitb').enable ( format = 'text' )\n",
    "        return func (*vars)\n",
    "    return In\n",
    "\n",
    "def check(func):\n",
    "    def In(*data):\n",
    "        try:\n",
    "            return func(*data)\n",
    "        except Exception :\n",
    "            return func(*data),\n",
    "    return In\n",
    "\n",
    "\n",
    "class stats:\n",
    "\n",
    "    def __init__(self):\n",
    "        pass\n",
    "\n",
    "\n",
    "    @longerror\n",
    "    @check\n",
    "    def dim2_to_dim1(self,data)->iter:\n",
    "        '''\n",
    "        二维降一维\n",
    "        :param data:\n",
    "        :return:\n",
    "        '''\n",
    "        return [j for i in range(len(data)) for j in data[i]]\n",
    "\n",
    "    def spread(self,arg):\n",
    "        '''\n",
    "        广播函数\n",
    "        :param arg:\n",
    "        :return:\n",
    "        '''\n",
    "        resultsp = []\n",
    "        for i in arg:\n",
    "            if isinstance(i, (list,tuple)):\n",
    "                resultsp.extend(i)\n",
    "            else:\n",
    "                resultsp.append(i)\n",
    "        return resultsp\n",
    "\n",
    "    @longerror\n",
    "    @check\n",
    "    def deep_flatten(self,ls)->list:\n",
    "        '''\n",
    "        深度平展\n",
    "        :param lst:\n",
    "        :return:\n",
    "        '''\n",
    "        result = []\n",
    "        result.extend(self.spread(list(map(lambda x: self.deep_flatten(x) if type(x) in (list,tuple) else x, ls))))\n",
    "        return result\n",
    "\n",
    "\n",
    "    @longerror\n",
    "    @check\n",
    "    def mean(self,vector):\n",
    "        n = vector.shape[0]\n",
    "        return np.dot(vector,np.ones(n))/n\n",
    "    \n",
    "    @longerror\n",
    "    @check\n",
    "    def average(self,vector,weights=None):\n",
    "        '''加权平均'''\n",
    "        n = vector.shape[0]\n",
    "        if weights:\n",
    "            weights_arr = np.array(weights)\n",
    "            n2 = weights_arr.shape\n",
    "            if n2 == n:\n",
    "                return np.dot(vector,vector[::-1])/weights_arr.sum()\n",
    "            else:\n",
    "                return 'ERROR : the weights length does not meet the requirements'\n",
    "        else:\n",
    "            return np.dot(vector,vector[::-1])/np.dot(vector[::-1],np.ones(n))\n",
    "    \n",
    "\n",
    "    \n",
    "    @longerror\n",
    "    @check\n",
    "    def quadraticsum(self,vector):\n",
    "        return np.dot(vector,vector.T)\n",
    "\n",
    "    @longerror\n",
    "    @check\n",
    "    def samplevar(self,vector):\n",
    "        m = vector.shape\n",
    "        cur = (vector-self.avg(vector))\n",
    "        return np.dot(cur,cur.T)/(m[0]-1)\n",
    "\n",
    "    @longerror\n",
    "    @check\n",
    "    def populationvar(self,vector):\n",
    "        m = vector.shape\n",
    "        cur = (vector-self.avg(vector))\n",
    "        return np.dot(cur,cur.T)/m[0]\n",
    "\n",
    "\n",
    "    @longerror\n",
    "    @check\n",
    "    def samplestd(self,vector):\n",
    "        return np.sqrt(self.samplevar(vector))\n",
    "\n",
    "    @longerror\n",
    "    @check\n",
    "    def populationstd(self,vector):\n",
    "        return np.sqrt(self.populationvar(vector))\n",
    "\n",
    "    @longerror\n",
    "    @check\n",
    "    def cov(self,vector1,vector2):\n",
    "        m = vector1.shape[0]\n",
    "        return np.dot((vector1-self.avg(vector1)),(vector2-self.avg(vector2)))/(m-1)\n",
    "\n",
    "    @longerror\n",
    "    @check\n",
    "    def coe(self,vector):\n",
    "        return self.populationstd(vector)/self.avg(vector)\n",
    "\n",
    "    @longerror\n",
    "    @check\n",
    "    def zscore(self,vector):\n",
    "        return (vector-self.avg(vector))/self.populationstd(vector)\n",
    "\n",
    "    @longerror\n",
    "    @check\n",
    "    def pearson(self,vector1,vector2):\n",
    "        n = vector1.shape[0]\n",
    "        sum_arr1 , sum_arr2 = vector1.sum() , vector2.sum()\n",
    "        sum_pow_arr1,sum_pow_arr2 = np.dot(vector1,vector1) , np.dot(vector2,vector2)\n",
    "        p_sum_arr = np.dot(vector1,vector2)\n",
    "        cov = p_sum_arr-(sum_arr1*sum_arr2/n)\n",
    "        std = np.sqrt((sum_pow_arr1 - (sum_arr1** 2) / n) * (sum_pow_arr2 - (sum_arr2** 2) / n))\n",
    "        return cov/std\n",
    "\n",
    "    @longerror\n",
    "    @check\n",
    "    def MSE(self,yhat,y):\n",
    "        '''\n",
    "        残差平方和\n",
    "        :param yhat:\n",
    "        :param y:\n",
    "        :return:\n",
    "        '''\n",
    "        return np.dot(yhat-self.avg(y),yhat-self.avg(y))\n",
    "\n",
    "    @longerror\n",
    "    @check\n",
    "    def EquationRegression(self,X,Y,predict):\n",
    "        '''\n",
    "        回归方程\n",
    "        :param X:\n",
    "        :param Y:\n",
    "        :param predict:\n",
    "        :return:\n",
    "        '''\n",
    "        try:\n",
    "            xm,xn = X.shape\n",
    "            ym,yn = Y.shape\n",
    "        except Exception:\n",
    "            xm,xn = X.shape\n",
    "            Y = Y[:,None]\n",
    "        finally:\n",
    "            newX = np.c_[np.ones(xm),X]\n",
    "            fit = np.dot(np.dot(np.linalg.inv(np.dot(newX.T,newX)),newX.T),Y)\n",
    "            predictX = np.dot(np.r_[np.ones(1),np.array(predict)],fit)\n",
    "            return fit,predictX\n",
    "\n",
    "    @longerror\n",
    "    @check\n",
    "    def pearsonMove(self,vector1,vector2,alpha):\n",
    "        '''\n",
    "        滑动皮尔逊系数范围\n",
    "        :param vector1:\n",
    "        :param vector2:\n",
    "        :param alpha:\n",
    "        :return:\n",
    "        '''\n",
    "        n1,n2 = vector1.shape[0] , vector2.shape[0]\n",
    "        return np.array([self.pearson(vector1[:i+alpha],vector2[:i+alpha]) for i in range(n1//alpha)])\n",
    "\n",
    "    @longerror\n",
    "    @check\n",
    "    def personConstand(self,vector1,vector2,alpha):\n",
    "        '''\n",
    "        定长滑动皮尔逊系数\n",
    "        :param vector1:\n",
    "        :param vector2:\n",
    "        :param alpha:\n",
    "        :return:\n",
    "        '''\n",
    "        n1,n2 = vector1.shape[0] , vector2.shape[0]\n",
    "        return np.array([self.pearson(vector1[:i+alpha],vector2[:i+alpha]) for i in range(0,n1//alpha)])\n",
    "\n",
    "    @longerror\n",
    "    @check\n",
    "    def personMat(self,vector):\n",
    "        '''\n",
    "        皮尔逊矩阵\n",
    "        :param vector:\n",
    "        :return:\n",
    "        '''\n",
    "        mean = np.mean(vector,axis=0)\n",
    "        std = np.std(vector,axis=0)\n",
    "        zscore = (vector-mean)/std\n",
    "        return  np.corrcoef(zscore)\n",
    "\n",
    "    @longerror\n",
    "    @check\n",
    "    def P(self,SET,symbols,A):\n",
    "        m = SET.shape[0]\n",
    "        return np.dot(eval('SET'+symbols+'A').astype(int),np.ones(m))/m\n",
    "\n",
    "    @longerror\n",
    "    @check\n",
    "    def PInverse(self,SET,symbols,A):\n",
    "        '''\n",
    "        反概率\n",
    "        :param SET:\n",
    "        :param A:\n",
    "        :return:\n",
    "        '''\n",
    "        return (1-self.P(SET,symbols,A)[0])\n",
    "\n",
    "    @longerror\n",
    "    @check\n",
    "    def PUnin(self,SETList,symblos,eventList):\n",
    "        '''\n",
    "        有BUG，要该，数据格式为numpy\n",
    "        联合事件概率计算\n",
    "        :param SETList:\n",
    "        :param eventList:\n",
    "        :return:\n",
    "        '''\n",
    "        if len(SETList)==len(eventList):\n",
    "            step1 = np.array([self.P(sets,symblos,even) for sets , even in zip(SETList,eventList)])\n",
    "            return np.cumprod(step1)[-1:]\n",
    "        else:\n",
    "            return np.nan\n",
    "\n",
    "    @longerror\n",
    "    @check\n",
    "    def PUninInverse(self,SETList,symbols,eventList):\n",
    "        '''\n",
    "        联合事件的反的概率\n",
    "        :param SETList:\n",
    "        :param symbols:\n",
    "        :param eventList:\n",
    "        :return:\n",
    "        '''\n",
    "        return 1-self.PUnin(SETList,symbols,eventList)[0]\n",
    "\n",
    "    @longerror\n",
    "    @check\n",
    "    def PIndependentUnin(self,SETAList,symbols,eventList):\n",
    "        '''\n",
    "        相互独立且互斥事件的联合事件发生概率\n",
    "        :param SETAList:\n",
    "        :param symbols:\n",
    "        :param eventList:\n",
    "        :return:\n",
    "        '''\n",
    "        if len(SETAList)==len(eventList):\n",
    "            m = len(SETAList)\n",
    "            step = np.array([self.P(sets,symbols,even) for sets , even in zip(SETAList,eventList)])\n",
    "            return np.dot(step.T,np.ones((m)))\n",
    "        else:\n",
    "            return np.nan\n",
    "\n",
    "    @longerror\n",
    "    @check\n",
    "    def PIndependentUninsInverse(self,SETList,symbols,eventList):\n",
    "        '''\n",
    "        相互独立且互斥事件的联合事件概率的反概率\n",
    "        :param SETList:\n",
    "        :param symbols:\n",
    "        :param eventList:\n",
    "        :return:\n",
    "        '''\n",
    "        m = len(SETList)\n",
    "        return m-self.PIndependentUnin(SETList,symbols,eventList)\n",
    "\n",
    "    @longerror\n",
    "    @check\n",
    "    def PIndependentUninsSameTime(self,SETList,symbols,eventList):\n",
    "        '''\n",
    "        如果相互独立的事件不是互斥的，则联合概率的反概率为\n",
    "        :param SETList:\n",
    "        :param symbols:\n",
    "        :param eventList:\n",
    "        :return:\n",
    "        '''\n",
    "        return self.PIndependentUnin(SETList,symbols,eventList)-self.PUnin(SETList,symbols,eventList)\n",
    "\n",
    "    @longerror\n",
    "    @check\n",
    "    def PAandB(self,SETA,SETB,A,B,symbols):\n",
    "        '''\n",
    "        条件概率\n",
    "        :param SETA:\n",
    "        :param SETB:\n",
    "        :param A:\n",
    "        :param B:\n",
    "        :return:\n",
    "        '''\n",
    "        return self.PUnin([SETA,SETB],symbols,[A,B])[0]/self.P(SETB,symbols,A)[0]\n",
    "\n",
    "\n",
    "\n",
    "    @longerror\n",
    "    @check\n",
    "    def sigmoid(self,z):\n",
    "        '''\n",
    "        逻辑曲线\n",
    "        :param z:\n",
    "        :return:\n",
    "        '''\n",
    "        return 1/(1+np.exp(-z))\n",
    "\n",
    "    @longerror\n",
    "    @check\n",
    "    def frequency(self,data)->list:\n",
    "        '''\n",
    "        基础频率分析\n",
    "        :param data:\n",
    "        :return:\n",
    "        '''\n",
    "        dropdata = self.deep_flatten(data)\n",
    "        setdata = tuple(set(dropdata))\n",
    "        vector = np.array([setdata.index(i) for i in dropdata])\n",
    "        logistic = set(self.sigmoid(vector))\n",
    "        name =  np.array(['name','p','sigmoid','count'])\n",
    "        unin = np.array([(i,dropdata.count(i)/len(data),l,dropdata.count(i)) for i,l in zip(setdata,logistic)])\n",
    "        return {'unin':[name,unin],'element':setdata,'count':len(dropdata)}\n",
    "\n",
    "    @longerror\n",
    "    @check\n",
    "    def compare(self,Asrc,Bsrc)->list:\n",
    "        '''\n",
    "        双向量比较\n",
    "        :param Asrc:\n",
    "        :param Bsrc:\n",
    "        :return:\n",
    "        '''\n",
    "        Asrc,Bsrc = self.deep_flatten(Asrc),self.deep_flatten(Bsrc)\n",
    "        drop = lambda data:[j for i in range(len(data)) for j in data[i]]\n",
    "        A,B = drop(Asrc),drop(Bsrc)\n",
    "        Am ,Bm = len(A),len(B)\n",
    "        thesame = [[(A[An],An,Bn)for Bn in range(Bm) if  A[An]==B[Bn]] for An in range(Am)]\n",
    "        different = [[(A[An],An,Bn)for Bn in range(Bm) if  A[An]!=B[Bn]] for An in range(Am)]\n",
    "        return {'different':drop(sorted(different)),'thesame':drop(sorted(thesame))}\n",
    "\n",
    "    def entropyPx(self,X,symbol,x,In='bit'):\n",
    "        n = X.shape[0]\n",
    "        px = np.dot(np.array(eval('X'+symbol+'x')).astype(int)/n,np.ones(n))\n",
    "        if px == 0 :\n",
    "            return px*0\n",
    "        if px == 1:\n",
    "            return 0\n",
    "        else:\n",
    "            if In == 'bit':\n",
    "                return -px * math.log(px,2)\n",
    "            elif In == 'nat':\n",
    "                return -px * math.log(px,math.e)\n",
    "\n",
    "  \n",
    "    def entropyPX(self,X,symbol='==',In='bit'):\n",
    "        n = X.shape[0]\n",
    "        PXi= np.array([self.entropyPx(X,symbol,x,In) for x in X])\n",
    "        PX = np.dot(PXi,np.ones(n).T)\n",
    "        return {'entropy':PX,'probability':{x:p for x,p in zip(X,PXi)}}\n",
    "\n",
    "\n",
    "    @longerror\n",
    "    @check\n",
    "    def cal_entropy(self,data)->list:\n",
    "        '''\n",
    "        信息熵计算\n",
    "        :param data:\n",
    "        :return:\n",
    "        '''\n",
    "        ltries = len(data)\n",
    "        labelcounts = {}\n",
    "        for feat in data:\n",
    "            label = feat[-1]\n",
    "            if label not in labelcounts.keys():\n",
    "                labelcounts[label] = 0\n",
    "            labelcounts[label] += 1\n",
    "        entropy = 0.0\n",
    "        for key in labelcounts.keys():\n",
    "            p_i = float(labelcounts[key]/ltries)\n",
    "            entropy -= p_i * log(p_i,2)\n",
    "        return entropy\n",
    "\n",
    "    def bayesTestPAcount(self,SETA,SETB,symbolsA,symbolsB,A,B):\n",
    "        PB = self.P(SETB,symbolsB,B)[0]\n",
    "        if PB > 0:\n",
    "            PA = self.P(SETA,symbolsA,A)[0]\n",
    "            PAB = PB*PA\n",
    "            return np.array([(PAB*PA)/PB])\n",
    "        else:\n",
    "            return np.nan\n",
    "    \n",
    "    def BayesianInference(self,prior,PA,PB):\n",
    "        inverseOfPrior = 1-prior\n",
    "        bayesFactor = PA/PB\n",
    "        return (prior/inverseOfPrior)*bayesFactor,bayesFactor\n",
    "\n",
    "    def L2(self,theta):\n",
    "        try:\n",
    "            theta.shape[-1]\n",
    "            return np.dot((theta*theta).T,np.ones(theta.shape[0]))\n",
    "        except Exception:\n",
    "            return np.dot((theta*theta),np.ones(theta.shape[0]))\n",
    "\n",
    "\n",
    "\n",
    "    def logistic_model_fitting(self,data):\n",
    "        '''\n",
    "        a为速度\n",
    "        b数量的极大值\n",
    "        c预期最终总数\n",
    "        x是作图的x轴值\n",
    "        y是作图的y轴值\n",
    "        logisticNumber 是拟合的logistic曲线\n",
    "        fit[1]是协方差矩阵\n",
    "        endNumber是修正后的最终值\n",
    "        endTime最终周期预测长度\n",
    "        '''\n",
    "        data = [i for i in data ]\n",
    "        from scipy.optimize import curve_fit,fsolve\n",
    "        len_ = len(data)\n",
    "        x = list(range(len_))\n",
    "        y = list(data)\n",
    "        funtion = lambda a,b,c,x : c/(1+np.exp(-(x-b)/a))\n",
    "        fit = curve_fit(logistic_model,x,y,p0=[2,100,200000])\n",
    "        a,b,c= tuple(fit[0])\n",
    "        logisticNumber = funtion(a,b,c,x)\n",
    "        endNumber = c-fit[1][-1]\n",
    "        endTime = int(fsolve(lambda x : logistic_model(x,a,b,c) - int(c),b))-x[-1]\n",
    "        return (a,b,c,x,y,fit[1],logisticNumber,endNumber,endTime)\n",
    "    \n",
    "    def logistic_model_plot(self,data):\n",
    "        a,b,c,x,y,fit1,logistic_number,logisticNumber,endNumber,endTime = self.logistic_model1(data)\n",
    "        plt.figure(figsize=(10,8))\n",
    "        plt.scatter(x,y,c='g')\n",
    "        plt.plot(logistic_number,c='r')\n",
    "        plt.scatter(endTime,endNumber,'b')\n",
    "        plt.show()\n",
    "        plt.close()\n",
    "\n",
    "    \n",
    "\n",
    "\n",
    "    \n",
    "\n",
    "\n",
    "    def __del__(self):\n",
    "        print(\"{}{}\".format(stats.__name__,\"is over\"))\n"
   ]
  },
  {
   "cell_type": "markdown",
   "metadata": {},
   "source": [
    "### 计算公式 :\n",
    "    P 是概率\n",
    "    检验的公式为:\n",
    "    在B条件成立下，事件A的概率也成立,此时，事件A的概率 =（B的概率*A的概率）/ B的概率\n",
    "## $P(A|B)=P(A|B)*P(A)/P(B)$"
   ]
  },
  {
   "cell_type": "code",
   "execution_count": 79,
   "metadata": {},
   "outputs": [],
   "source": [
    "s = stats()  "
   ]
  },
  {
   "cell_type": "code",
   "execution_count": 80,
   "metadata": {},
   "outputs": [
    {
     "output_type": "execute_result",
     "data": {
      "text/plain": "(('ERROR : the weights length does not meet the requirements',), (4.5,))"
     },
     "metadata": {},
     "execution_count": 80
    }
   ],
   "source": [
    "s.average(SETA,[1,2,2,1,1,1]),s.mean(SETA)"
   ]
  },
  {
   "cell_type": "code",
   "execution_count": 81,
   "metadata": {},
   "outputs": [
    {
     "output_type": "execute_result",
     "data": {
      "text/plain": "array([0.64])"
     },
     "metadata": {},
     "execution_count": 81
    }
   ],
   "source": [
    "s.bayesTestPAcount(SETA,SETB,'>','<', 2,1)"
   ]
  },
  {
   "cell_type": "code",
   "execution_count": 82,
   "metadata": {},
   "outputs": [
    {
     "output_type": "execute_result",
     "data": {
      "text/plain": "{'entropy': 4.108241808752196,\n 'probability': {7: 0.33219280948873625,\n  5: 0.5287712379549449,\n  0: 0.33219280948873625,\n  1: 0.33219280948873625,\n  3: 0.33219280948873625,\n  8: 0.33219280948873625,\n  6: 0.33219280948873625}}"
     },
     "metadata": {},
     "execution_count": 82
    }
   ],
   "source": [
    "s.entropyPX(SETA)"
   ]
  },
  {
   "cell_type": "markdown",
   "metadata": {},
   "source": [
    "### >例2 概率更新:\n",
    "### 判断一个人是不是星球大战的粉丝\n",
    "### 过程1：\n",
    "    初始信息:\n",
    "    人群中星球大战的粉丝=60%\n",
    "    非星球大战的粉丝=40%\n",
    "    判断1，某人看过星球大战概率是60%\n",
    "### 如果判断1成立:\n",
    "    更新信息1:\n",
    "    最新看过星球大战的人里粉丝概率是99%\n",
    "    不是粉丝而因为其他原因去看的人概率是5%\n",
    "### 判断2，某事是星球大战粉丝的概率为:\n",
    "    -> 99% / 5% = 198% <- (这里的198%为叶贝斯因子，代表通过学习获得的概率更新)\n",
    "### 总结:\n",
    "    此时的后验概率：\n",
    "    (60%/40%) * (99%/5%) =>  1.5 * 1.98 => 2.97"
   ]
  },
  {
   "cell_type": "code",
   "execution_count": 83,
   "metadata": {},
   "outputs": [],
   "source": [
    "def BayesianInference(prior,PA,PB):\n",
    "    ''''''\n",
    "    inverseOfPrior = 1-prior\n",
    "    bayesFactor = PA/PB\n",
    "    return (prior/inverseOfPrior)*bayesFactor,bayesFactor"
   ]
  },
  {
   "cell_type": "code",
   "execution_count": 84,
   "metadata": {},
   "outputs": [
    {
     "output_type": "execute_result",
     "data": {
      "text/plain": "(29.699999999999992, 19.799999999999997)"
     },
     "metadata": {},
     "execution_count": 84
    }
   ],
   "source": [
    "BayesianInference(0.6,0.99,0.05)"
   ]
  },
  {
   "cell_type": "code",
   "execution_count": 85,
   "metadata": {},
   "outputs": [
    {
     "output_type": "stream",
     "name": "stdout",
     "text": "{'data': {'a': 1, 'b': 4, 'c': 5}}\n"
    }
   ],
   "source": [
    "\n",
    "def add(**data):\n",
    "    print(data)\n",
    "add(data={'a':1,'b':4,'c':5})"
   ]
  },
  {
   "cell_type": "code",
   "execution_count": 86,
   "metadata": {},
   "outputs": [
    {
     "output_type": "stream",
     "name": "stdout",
     "text": "1\n3\n6\n10\n"
    },
    {
     "output_type": "execute_result",
     "data": {
      "text/plain": "10"
     },
     "metadata": {},
     "execution_count": 86
    }
   ],
   "source": [
    "def add(*data):\n",
    "    sum = 0\n",
    "    for i in data:\n",
    "        sum = sum + i\n",
    "        print(sum)\n",
    "    return sum\n",
    "add(1,2,3,4)"
   ]
  },
  {
   "cell_type": "code",
   "execution_count": 307,
   "metadata": {},
   "outputs": [],
   "source": []
  },
  {
   "cell_type": "markdown",
   "metadata": {},
   "source": [
    "## 拟合多项式结果"
   ]
  },
  {
   "cell_type": "code",
   "execution_count": 87,
   "metadata": {},
   "outputs": [
    {
     "output_type": "execute_result",
     "data": {
      "text/plain": "(array([0.99999816]), array([[2.2095364e-12]]))"
     },
     "metadata": {},
     "execution_count": 87
    }
   ],
   "source": [
    "from scipy.optimize import curve_fit\n",
    "\n",
    "def testfunc(x, a):\n",
    "    return min(np.sin(x)*a*np.random.randn(100))\n",
    "\n",
    "a,x = curve_fit(testfunc,np.arange(100),np.arange(100)[::-1])\n",
    "a,x"
   ]
  },
  {
   "cell_type": "code",
   "execution_count": 88,
   "metadata": {},
   "outputs": [],
   "source": [
    "from scipy.stats import stats"
   ]
  },
  {
   "cell_type": "code",
   "execution_count": 89,
   "metadata": {},
   "outputs": [],
   "source": [
    "def logistic_model(data):\n",
    "    '''\n",
    "    a为感染速度\n",
    "    b为感染发生最多的一天\n",
    "    c是在感染结束时记录的感染者总数\n",
    "    '''\n",
    "    from scipy.optimize import curve_fit\n",
    "    len_ = data\n",
    "    x = list(range(len_))\n",
    "    y = list(data)\n",
    "    funtion = lambda a,b,c,x : c/(1+np.exp(-(x-b)/a))\n",
    "    fit = curve_fit(logistic_model,x,y,p0=[2,100,20000])\n",
    "    a,b,c= tuple(fit[0])\n",
    "    return fit\n"
   ]
  },
  {
   "cell_type": "markdown",
   "metadata": {},
   "source": []
  },
  {
   "cell_type": "markdown",
   "metadata": {},
   "source": [
    "# L1正则化"
   ]
  },
  {
   "cell_type": "code",
   "execution_count": 90,
   "metadata": {},
   "outputs": [],
   "source": [
    "def L1(theta):\n",
    "    try:\n",
    "        theta.shape[-1]\n",
    "        return np.dot((theta*theta).T,np.ones(theta.shape[0]))\n",
    "    except Exception:\n",
    "        return np.dot((theta*theta),np.ones(theta.shape[0]))"
   ]
  },
  {
   "cell_type": "code",
   "execution_count": 91,
   "metadata": {},
   "outputs": [],
   "source": [
    "theta = np.array([2,2,1,2])"
   ]
  },
  {
   "cell_type": "code",
   "execution_count": 92,
   "metadata": {},
   "outputs": [
    {
     "output_type": "execute_result",
     "data": {
      "text/plain": "13.0"
     },
     "metadata": {},
     "execution_count": 92
    }
   ],
   "source": [
    "L1(theta)"
   ]
  },
  {
   "cell_type": "markdown",
   "metadata": {},
   "source": [
    "## 霍夫曼编码"
   ]
  },
  {
   "cell_type": "code",
   "execution_count": 93,
   "metadata": {},
   "outputs": [],
   "source": [
    "def huffmanCoding(data):\n",
    "    try:\n",
    "        n = data.shape[0]\n",
    "        frequency = [( i ,np.dot((data==i),np.ones(n))/n ) for i in np.unique(data)]\n",
    "        List = []\n",
    "        ListL = []\n",
    "        ListR = []\n",
    "        n = -1\n",
    "        for i in frequency:\n",
    "            newNode = min(frequency)\n",
    "            if n == 0:\n",
    "                List.append(newNode)\n",
    "            else:\n",
    "                ListL.append([frequency[-1]])\n",
    "                frequency.pop\n",
    "                ListR.append([frequency[-1]])\n",
    "                frequency.pop\n",
    "                List.append(ListL.ListR)\n",
    "        return List            \n",
    "    except Exception as Error:\n",
    "        return Error"
   ]
  },
  {
   "cell_type": "code",
   "execution_count": 94,
   "metadata": {},
   "outputs": [
    {
     "output_type": "execute_result",
     "data": {
      "text/plain": "AttributeError(\"'list' object has no attribute 'ListR'\")"
     },
     "metadata": {},
     "execution_count": 94
    }
   ],
   "source": [
    "huffmanCoding(np.array([1,2,3,12,1]))"
   ]
  },
  {
   "cell_type": "markdown",
   "metadata": {},
   "source": [
    "## 加权平均值"
   ]
  },
  {
   "cell_type": "code",
   "execution_count": 95,
   "metadata": {},
   "outputs": [],
   "source": [
    "def average(vector,weights=None):\n",
    "    n = vector.shape[0]\n",
    "    if weights:\n",
    "        return np.dot(vector,vector[::-1])/np.array(weights).sum()\n",
    "    else:\n",
    "        return np.dot(vector,vector[::-1])/np.dot(vector[::-1],np.ones(n))\n",
    "    "
   ]
  },
  {
   "cell_type": "code",
   "execution_count": 96,
   "metadata": {},
   "outputs": [
    {
     "output_type": "execute_result",
     "data": {
      "text/plain": "2.0"
     },
     "metadata": {},
     "execution_count": 96
    }
   ],
   "source": [
    "average(theta,weights=[6])"
   ]
  }
 ],
 "metadata": {
  "language_info": {
   "codemirror_mode": {
    "name": "ipython",
    "version": 3
   },
   "file_extension": ".py",
   "mimetype": "text/x-python",
   "name": "python",
   "nbconvert_exporter": "python",
   "pygments_lexer": "ipython3",
   "version": "3.7.6-final"
  },
  "orig_nbformat": 2,
  "kernelspec": {
   "name": "python37464bitf10adaa3efab4e6fa8988dc159616146",
   "display_name": "Python 3.7.4 64-bit"
  }
 },
 "nbformat": 4,
 "nbformat_minor": 2
}