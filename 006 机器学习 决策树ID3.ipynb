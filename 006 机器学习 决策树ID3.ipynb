{
 "cells": [
  {
   "cell_type": "code",
   "execution_count": 2,
   "metadata": {},
   "outputs": [],
   "source": [
    "import numpy as np\n",
    "import pandas as pd\n",
    "import matplotlib.pyplot as plt\n",
    "#import torch"
   ]
  },
  {
   "cell_type": "code",
   "execution_count": 3,
   "metadata": {},
   "outputs": [
    {
     "data": {
      "text/html": [
       "<div>\n",
       "<style scoped>\n",
       "    .dataframe tbody tr th:only-of-type {\n",
       "        vertical-align: middle;\n",
       "    }\n",
       "\n",
       "    .dataframe tbody tr th {\n",
       "        vertical-align: top;\n",
       "    }\n",
       "\n",
       "    .dataframe thead th {\n",
       "        text-align: right;\n",
       "    }\n",
       "</style>\n",
       "<table border=\"1\" class=\"dataframe\">\n",
       "  <thead>\n",
       "    <tr style=\"text-align: right;\">\n",
       "      <th></th>\n",
       "      <th>outlook</th>\n",
       "      <th>temperature</th>\n",
       "      <th>humidity</th>\n",
       "      <th>wind</th>\n",
       "      <th>played</th>\n",
       "    </tr>\n",
       "  </thead>\n",
       "  <tbody>\n",
       "    <tr>\n",
       "      <th>0</th>\n",
       "      <td>sunny</td>\n",
       "      <td>hot</td>\n",
       "      <td>hight</td>\n",
       "      <td>weak</td>\n",
       "      <td>no</td>\n",
       "    </tr>\n",
       "    <tr>\n",
       "      <th>1</th>\n",
       "      <td>sunny</td>\n",
       "      <td>hot</td>\n",
       "      <td>hight</td>\n",
       "      <td>strong</td>\n",
       "      <td>no</td>\n",
       "    </tr>\n",
       "    <tr>\n",
       "      <th>2</th>\n",
       "      <td>overcast</td>\n",
       "      <td>hot</td>\n",
       "      <td>hight</td>\n",
       "      <td>weak</td>\n",
       "      <td>yes</td>\n",
       "    </tr>\n",
       "    <tr>\n",
       "      <th>3</th>\n",
       "      <td>rain</td>\n",
       "      <td>mild</td>\n",
       "      <td>hight</td>\n",
       "      <td>weak</td>\n",
       "      <td>yes</td>\n",
       "    </tr>\n",
       "    <tr>\n",
       "      <th>4</th>\n",
       "      <td>rain</td>\n",
       "      <td>cool</td>\n",
       "      <td>normal</td>\n",
       "      <td>weak</td>\n",
       "      <td>yes</td>\n",
       "    </tr>\n",
       "    <tr>\n",
       "      <th>5</th>\n",
       "      <td>rain</td>\n",
       "      <td>cool</td>\n",
       "      <td>normal</td>\n",
       "      <td>strong</td>\n",
       "      <td>no</td>\n",
       "    </tr>\n",
       "    <tr>\n",
       "      <th>6</th>\n",
       "      <td>overcast</td>\n",
       "      <td>cool</td>\n",
       "      <td>normal</td>\n",
       "      <td>strong</td>\n",
       "      <td>yes</td>\n",
       "    </tr>\n",
       "    <tr>\n",
       "      <th>7</th>\n",
       "      <td>sunny</td>\n",
       "      <td>mild</td>\n",
       "      <td>hight</td>\n",
       "      <td>weak</td>\n",
       "      <td>no</td>\n",
       "    </tr>\n",
       "    <tr>\n",
       "      <th>8</th>\n",
       "      <td>sunny</td>\n",
       "      <td>cool</td>\n",
       "      <td>normal</td>\n",
       "      <td>weak</td>\n",
       "      <td>yes</td>\n",
       "    </tr>\n",
       "    <tr>\n",
       "      <th>9</th>\n",
       "      <td>rain</td>\n",
       "      <td>hot</td>\n",
       "      <td>normal</td>\n",
       "      <td>weak</td>\n",
       "      <td>yes</td>\n",
       "    </tr>\n",
       "    <tr>\n",
       "      <th>10</th>\n",
       "      <td>sunny</td>\n",
       "      <td>mild</td>\n",
       "      <td>normal</td>\n",
       "      <td>strong</td>\n",
       "      <td>yes</td>\n",
       "    </tr>\n",
       "    <tr>\n",
       "      <th>11</th>\n",
       "      <td>overcast</td>\n",
       "      <td>mild</td>\n",
       "      <td>hight</td>\n",
       "      <td>strong</td>\n",
       "      <td>yes</td>\n",
       "    </tr>\n",
       "    <tr>\n",
       "      <th>12</th>\n",
       "      <td>overcast</td>\n",
       "      <td>hot</td>\n",
       "      <td>normal</td>\n",
       "      <td>weak</td>\n",
       "      <td>yes</td>\n",
       "    </tr>\n",
       "    <tr>\n",
       "      <th>13</th>\n",
       "      <td>rain</td>\n",
       "      <td>hot</td>\n",
       "      <td>hight</td>\n",
       "      <td>strong</td>\n",
       "      <td>no</td>\n",
       "    </tr>\n",
       "  </tbody>\n",
       "</table>\n",
       "</div>"
      ],
      "text/plain": [
       "     outlook temperature humidity    wind played\n",
       "0      sunny         hot    hight    weak     no\n",
       "1      sunny         hot    hight  strong     no\n",
       "2   overcast         hot    hight    weak    yes\n",
       "3       rain        mild    hight    weak    yes\n",
       "4       rain        cool   normal    weak    yes\n",
       "5       rain        cool   normal  strong     no\n",
       "6   overcast        cool   normal  strong    yes\n",
       "7      sunny        mild    hight    weak     no\n",
       "8      sunny        cool   normal    weak    yes\n",
       "9       rain         hot   normal    weak    yes\n",
       "10     sunny        mild   normal  strong    yes\n",
       "11  overcast        mild    hight  strong    yes\n",
       "12  overcast         hot   normal    weak    yes\n",
       "13      rain         hot    hight  strong     no"
      ]
     },
     "execution_count": 3,
     "metadata": {},
     "output_type": "execute_result"
    }
   ],
   "source": [
    "table = pd.DataFrame({\"outlook\":['sunny','sunny','overcast','rain','rain','rain','overcast','sunny','sunny','rain','sunny','overcast','overcast','rain']\n",
    ",\"temperature\":['hot','hot','hot','mild','cool','cool','cool','mild','cool','hot','mild','mild','hot','hot']\n",
    ",\"humidity\":['hight','hight','hight','hight','normal','normal','normal','hight','normal','normal','normal','hight','normal','hight']\n",
    ",\"wind\":['weak','strong','weak','weak','weak','strong','strong','weak','weak','weak','strong','strong','weak','strong']\n",
    ",\"played\":['no','no','yes','yes','yes','no','yes','no','yes','yes','yes','yes','yes','no']})\n",
    "table"
   ]
  },
  {
   "cell_type": "markdown",
   "metadata": {},
   "source": [
    "### 自变量将决定因变量。其中，自变量是天气预报（outlook），温度（Temperature），湿度（Humidity）和风力（Wind），因变量是是否踢足球（Played football(yes/no)）。"
   ]
  },
  {
   "cell_type": "code",
   "execution_count": 4,
   "metadata": {},
   "outputs": [],
   "source": [
    "data1 = pd.DataFrame({'天气':['晴','晴','阴','雨','雨','雨','阴','晴','晴','雨','晴','阴','阴','雨'],\n",
    "                     '温度':['高','高','高','低','低','低','低','低','低','低','低','低','高','低'],\n",
    "                     '湿度':['高','低','高','高','高','低','低','高','低','高','低','高','低','高'],\n",
    "                     '起风':[False,True,False,False,False,True,True,False,False,False,True,True,False,True],\n",
    "                     '打球':['NO','NO','YES','YES','YES','NO','YES','NO','YES','YES','YES','YES','YES','NO']})"
   ]
  },
  {
   "cell_type": "markdown",
   "metadata": {},
   "source": [
    "def features_coder(set_):\n",
    "    features_set = np.unique(set_)\n",
    "    frequency = [(set_==element).sum() for element in features_set]\n",
    "    return {element:[code,frequency[code]] for code,element in zip(range(features_set.shape[0]),features_set)}"
   ]
  },
  {
   "cell_type": "markdown",
   "metadata": {},
   "source": [
    "def sorted_dict(dict_structure):\n",
    "    return sorted(dict_structure.items(), key=lambda x: x[1], reverse=True)"
   ]
  },
  {
   "cell_type": "markdown",
   "metadata": {},
   "source": [
    "def collaborative_filtering_jaccard(user,x,Lambda=1):\n",
    "    scores = x.dot(np.ones_like(x[0]))*Lambda\n",
    "    jaccard = np.array([jaccard_similarity(user,x[i]) for i in range(x.shape[0])])\n",
    "    weighted_average = scores.dot(jaccard)/jaccard.dot(np.ones_like(jaccard))\n",
    "    return weighted_average"
   ]
  },
  {
   "cell_type": "markdown",
   "metadata": {},
   "source": [
    "def torch_cosine(vector1,vector2)->torch.Tensor:\n",
    "    return vector1.mul(vector2).sum()/(vector1.norm()*vector2.norm())\n",
    "#torch_cosine(tensorX[0],tensorX[0])"
   ]
  },
  {
   "cell_type": "code",
   "execution_count": 5,
   "metadata": {},
   "outputs": [],
   "source": [
    "def coder_from_df(table):\n",
    "    array = table.to_numpy()\n",
    "    m ,n = array.shape\n",
    "    result = []\n",
    "    dictList = []\n",
    "    for j in range(n):\n",
    "        row = array[:,j]\n",
    "        set_row = tuple(set(row))\n",
    "        dict_row = {set_row[i]:i for i in range(len(set_row))}\n",
    "        code_row = np.array([dict_row[element] for element in row])\n",
    "        result.append(code_row)\n",
    "        dictList.append(dict_row)\n",
    "    return np.array(result).T,dictList\n",
    "\n",
    "data , feature_dict = coder_from_df(table)"
   ]
  },
  {
   "cell_type": "markdown",
   "metadata": {},
   "source": [
    "## 概率"
   ]
  },
  {
   "cell_type": "code",
   "execution_count": 6,
   "metadata": {},
   "outputs": [
    {
     "data": {
      "text/plain": [
       "array([[2, 0, 1, 1, 0],\n",
       "       [2, 0, 1, 0, 0],\n",
       "       [0, 0, 1, 1, 1],\n",
       "       [1, 2, 1, 1, 1],\n",
       "       [1, 1, 0, 1, 1],\n",
       "       [1, 1, 0, 0, 0],\n",
       "       [0, 1, 0, 0, 1],\n",
       "       [2, 2, 1, 1, 0],\n",
       "       [2, 1, 0, 1, 1],\n",
       "       [1, 0, 0, 1, 1],\n",
       "       [2, 2, 0, 0, 1],\n",
       "       [0, 2, 1, 0, 1],\n",
       "       [0, 0, 0, 1, 1],\n",
       "       [1, 0, 1, 0, 0]])"
      ]
     },
     "execution_count": 6,
     "metadata": {},
     "output_type": "execute_result"
    }
   ],
   "source": [
    "data"
   ]
  },
  {
   "cell_type": "code",
   "execution_count": 7,
   "metadata": {},
   "outputs": [],
   "source": [
    "#from typing_extensions import Literal"
   ]
  },
  {
   "cell_type": "code",
   "execution_count": 8,
   "metadata": {},
   "outputs": [],
   "source": [
    "def prob(vector,element):\n",
    "    n = vector.shape[0]\n",
    "    return (vector==element).dot(np.ones_like(vector))/n"
   ]
  },
  {
   "cell_type": "code",
   "execution_count": 9,
   "metadata": {},
   "outputs": [
    {
     "data": {
      "text/plain": [
       "{0: 0.2, 1: 0.8}"
      ]
     },
     "execution_count": 9,
     "metadata": {},
     "output_type": "execute_result"
    }
   ],
   "source": [
    "def prob_count(vector):\n",
    "    distion = np.unique(vector)\n",
    "    return {i:prob(vector,distion[i]) for i in range(distion.shape[0])}\n",
    "prob_count(data[4])"
   ]
  },
  {
   "cell_type": "markdown",
   "metadata": {},
   "source": [
    "## 概率标量"
   ]
  },
  {
   "cell_type": "code",
   "execution_count": 10,
   "metadata": {},
   "outputs": [],
   "source": [
    "def probability(info,element):\n",
    "    return (info==element).dot(np.ones_like(info))"
   ]
  },
  {
   "cell_type": "markdown",
   "metadata": {},
   "source": [
    "## 概率向量"
   ]
  },
  {
   "cell_type": "code",
   "execution_count": 11,
   "metadata": {},
   "outputs": [],
   "source": [
    "def probability_vector(info):\n",
    "    n = info.shape[0]\n",
    "    distion = np.unique(info)\n",
    "    if distion.shape[0]==1:\n",
    "        return np.array([1])\n",
    "    else:\n",
    "        return np.array([probability(info,distion[i]) for i in range(distion.shape[0])])"
   ]
  },
  {
   "cell_type": "code",
   "execution_count": 12,
   "metadata": {},
   "outputs": [
    {
     "data": {
      "text/plain": [
       "array([1])"
      ]
     },
     "execution_count": 12,
     "metadata": {},
     "output_type": "execute_result"
    }
   ],
   "source": [
    "probability_vector(data1[data1['打球']=='YES'][['打球']])"
   ]
  },
  {
   "cell_type": "markdown",
   "metadata": {},
   "source": [
    "## 熵向量"
   ]
  },
  {
   "cell_type": "code",
   "execution_count": 13,
   "metadata": {},
   "outputs": [],
   "source": [
    "import math\n",
    "def entropyPx(info,x,In='bit'):\n",
    "    n = info.shape[0]\n",
    "    px = np.dot(np.array(info==x).astype(int)/n,np.ones(n))\n",
    "    if px == 0 :\n",
    "        return px*0\n",
    "    if px == 1:\n",
    "        return 0\n",
    "    else:\n",
    "        if In == 'bit':\n",
    "            return -px * np.log2(px)\n",
    "        elif In == 'nat':\n",
    "            return -px * math.log(px,math.e)\n",
    "        \n",
    "def entropy(X,In='bit'):\n",
    "    H = np.array([entropyPx(X,x,In) for x in np.unique(X)])\n",
    "    return H.dot(np.ones_like(H))\n"
   ]
  },
  {
   "cell_type": "code",
   "execution_count": 14,
   "metadata": {},
   "outputs": [
    {
     "data": {
      "text/plain": [
       "(-3.2034265038149176e-16, 0.9402859586706311)"
      ]
     },
     "execution_count": 14,
     "metadata": {},
     "output_type": "execute_result"
    }
   ],
   "source": [
    "entropy(data1[data1['打球']=='YES']['打球']),entropy(data1['打球'])"
   ]
  },
  {
   "cell_type": "markdown",
   "metadata": {},
   "source": [
    "## 信息熵"
   ]
  },
  {
   "cell_type": "markdown",
   "metadata": {},
   "source": [
    "## 条件熵"
   ]
  },
  {
   "cell_type": "code",
   "execution_count": 15,
   "metadata": {},
   "outputs": [
    {
     "name": "stdout",
     "output_type": "stream",
     "text": [
      "CPU times: user 2 µs, sys: 1 µs, total: 3 µs\n",
      "Wall time: 5.25 µs\n"
     ]
    },
    {
     "data": {
      "text/plain": [
       "0.6935361388961918"
      ]
     },
     "execution_count": 15,
     "metadata": {},
     "output_type": "execute_result"
    }
   ],
   "source": [
    "%time\n",
    "def entropy_conditional(condition,info):\n",
    "    n ,entropyVN = info.shape[0],[]\n",
    "    bool_index = np.array([condition==e for e in np.unique(condition)])\n",
    "    \n",
    "    #TODO 熵\n",
    "    for index_ in bool_index:\n",
    "        info_cond = info[index_]\n",
    "        entropy_cond = entropy(info_cond)\n",
    "        entropyVN.append(entropy_cond)\n",
    "    ent_cond = np.array(entropyVN)\n",
    "\n",
    "    #TODO 概率\n",
    "    mb,nb = bool_index.shape\n",
    "    porb_cond = bool_index.dot(np.ones(nb))/nb\n",
    "    \n",
    "    return ent_cond.dot(porb_cond) \n",
    "\n",
    "entropy_conditional(data1[\"天气\"],data1[\"打球\"])"
   ]
  },
  {
   "cell_type": "markdown",
   "metadata": {},
   "source": [
    "## 信息增益"
   ]
  },
  {
   "cell_type": "code",
   "execution_count": 16,
   "metadata": {},
   "outputs": [
    {
     "name": "stdout",
     "output_type": "stream",
     "text": [
      "CPU times: user 3 µs, sys: 1 µs, total: 4 µs\n",
      "Wall time: 5.96 µs\n"
     ]
    },
    {
     "data": {
      "text/plain": [
       "0.24674981977443933"
      ]
     },
     "execution_count": 16,
     "metadata": {},
     "output_type": "execute_result"
    }
   ],
   "source": [
    "%time\n",
    "def info_gain(condition,info):\n",
    "    return entropy(info)-entropy_conditional(condition,info)\n",
    "\n",
    "info_gain(data1[\"天气\"],data1[\"打球\"])"
   ]
  },
  {
   "cell_type": "markdown",
   "metadata": {},
   "source": [
    "## 排序节点"
   ]
  },
  {
   "cell_type": "code",
   "execution_count": 17,
   "metadata": {},
   "outputs": [],
   "source": [
    "def sorted_dict(dict_structure):\n",
    "    return sorted(dict_structure.items(), key=lambda x: x[1], reverse=True)"
   ]
  },
  {
   "cell_type": "markdown",
   "metadata": {},
   "source": [
    "def sort_node(condMat,yhat):\n",
    "    return sorted_dict({row : info_gain(condMat[:,row],yhat) for row in range(condMat.shape[1])})"
   ]
  },
  {
   "cell_type": "code",
   "execution_count": 18,
   "metadata": {},
   "outputs": [],
   "source": [
    "\n",
    "data = np.array(data1)\n",
    "yhat = data[:,-1]\n",
    "condMat = data[:,:-1]\n"
   ]
  },
  {
   "cell_type": "code",
   "execution_count": 42,
   "metadata": {},
   "outputs": [
    {
     "data": {
      "text/plain": [
       "[[None,\n",
       "  [array(['晴', '阴', '雨'], dtype=object),\n",
       "   array(['晴', '晴', '阴', '雨', '雨', '雨', '阴', '晴', '晴', '雨', '晴', '阴', '阴',\n",
       "          '雨'], dtype=object),\n",
       "   array([[0.00000000e+00, 2.46749820e-01],\n",
       "          [3.00000000e+00, 4.81270304e-02],\n",
       "          [1.00000000e+00, 2.50781735e-02],\n",
       "          [2.00000000e+00, 1.33974240e-03]])]],\n",
       " [array(['低', '高'], dtype=object),\n",
       "  array(['高', '高', '低', '低', '低'], dtype=object),\n",
       "  array([[0.        , 0.41997309],\n",
       "         [1.        , 0.41997309],\n",
       "         [2.        , 0.01997309]])]]"
      ]
     },
     "execution_count": 42,
     "metadata": {},
     "output_type": "execute_result"
    }
   ],
   "source": [
    "def sort_gain(condMat,yhat):\n",
    "    info_gain_dict , gains = dict(),[]\n",
    "    for row in range(condMat.shape[1]):\n",
    "        gain = info_gain(condMat[:,row],yhat)\n",
    "        info_gain_dict.setdefault(row,gain)\n",
    "    sorted_node = np.array(sorted_dict(info_gain_dict))\n",
    "    check_zeros = sorted_node[sorted_node[:,1]>0]\n",
    "    shape =  check_zeros.shape[0]\n",
    "    if shape != 0:\n",
    "        return check_zeros\n",
    "    else:\n",
    "        return None\n",
    "\n",
    "def sort_node(condMat,yhat):\n",
    "    check_zeros=sort_gain(condMat,yhat)\n",
    "    if isinstance(check_zeros != None , bool) ==False:\n",
    "        iG = check_zeros[:,0][0].astype(int)\n",
    "        KG = check_zeros[:,0][1:].astype(int)\n",
    "        node_data = condMat[:,iG]\n",
    "        distion = np.unique(node_data)\n",
    "        return distion,node_data,iG,check_zeros\n",
    "    else:\n",
    "        return np.array([None , None , None,None])\n",
    "\n",
    "def tree(condMat,yhat,grains=None):\n",
    "\n",
    "    distion,node_data,iG,check_zeros = sort_node(condMat,yhat)\n",
    "    info_grains = [grains]\n",
    "    info_grains.append([distion,node_data,check_zeros])\n",
    "    \n",
    "    if (distion != None).sum() == 3 :\n",
    "        for e in distion:\n",
    "            branch_node_index = node_data==e\n",
    "            branch_node_condMat = condMat[branch_node_index]\n",
    "            branch_node_clear = np.delete(branch_node_condMat,iG,axis=1)\n",
    "            branch_node_yhat = yhat[branch_node_index]           \n",
    "            return tree(branch_node_clear,branch_node_yhat,info_grains)\n",
    "    else:\n",
    "        return info_grains\n",
    "        print(np.array(info_grains))\n",
    "\n",
    "        \n",
    "tree(condMat,yhat)"
   ]
  },
  {
   "cell_type": "code",
   "execution_count": 27,
   "metadata": {},
   "outputs": [
    {
     "name": "stdout",
     "output_type": "stream",
     "text": [
      "(14, 4)\n"
     ]
    },
    {
     "data": {
      "text/plain": [
       "((array(['晴', '阴', '雨'], dtype=object),\n",
       "  array(['晴', '晴', '阴', '雨', '雨', '雨', '阴', '晴', '晴', '雨', '晴', '阴', '阴',\n",
       "         '雨'], dtype=object),\n",
       "  0),\n",
       " array([['晴', '高', '高', False],\n",
       "        ['晴', '高', '低', True],\n",
       "        ['阴', '高', '高', False],\n",
       "        ['雨', '低', '高', False],\n",
       "        ['雨', '低', '高', False],\n",
       "        ['雨', '低', '低', True],\n",
       "        ['阴', '低', '低', True],\n",
       "        ['晴', '低', '高', False],\n",
       "        ['晴', '低', '低', False],\n",
       "        ['雨', '低', '高', False],\n",
       "        ['晴', '低', '低', True],\n",
       "        ['阴', '低', '高', True],\n",
       "        ['阴', '高', '低', False],\n",
       "        ['雨', '低', '高', True]], dtype=object))"
      ]
     },
     "execution_count": 27,
     "metadata": {},
     "output_type": "execute_result"
    }
   ],
   "source": [
    "print(condMat.shape)\n",
    "sort_node(condMat,yhat),condMat"
   ]
  },
  {
   "cell_type": "markdown",
   "metadata": {},
   "source": [
    "%time\n",
    "sorted_node(data)"
   ]
  },
  {
   "cell_type": "markdown",
   "metadata": {},
   "source": [
    "# pandas 计算"
   ]
  },
  {
   "cell_type": "code",
   "execution_count": 23,
   "metadata": {},
   "outputs": [
    {
     "data": {
      "text/html": [
       "<div>\n",
       "<style scoped>\n",
       "    .dataframe tbody tr th:only-of-type {\n",
       "        vertical-align: middle;\n",
       "    }\n",
       "\n",
       "    .dataframe tbody tr th {\n",
       "        vertical-align: top;\n",
       "    }\n",
       "\n",
       "    .dataframe thead th {\n",
       "        text-align: right;\n",
       "    }\n",
       "</style>\n",
       "<table border=\"1\" class=\"dataframe\">\n",
       "  <thead>\n",
       "    <tr style=\"text-align: right;\">\n",
       "      <th></th>\n",
       "      <th>天气</th>\n",
       "      <th>温度</th>\n",
       "      <th>湿度</th>\n",
       "      <th>起风</th>\n",
       "      <th>打球</th>\n",
       "    </tr>\n",
       "  </thead>\n",
       "  <tbody>\n",
       "    <tr>\n",
       "      <th>0</th>\n",
       "      <td>晴</td>\n",
       "      <td>高</td>\n",
       "      <td>高</td>\n",
       "      <td>False</td>\n",
       "      <td>NO</td>\n",
       "    </tr>\n",
       "    <tr>\n",
       "      <th>1</th>\n",
       "      <td>晴</td>\n",
       "      <td>高</td>\n",
       "      <td>低</td>\n",
       "      <td>True</td>\n",
       "      <td>NO</td>\n",
       "    </tr>\n",
       "    <tr>\n",
       "      <th>2</th>\n",
       "      <td>阴</td>\n",
       "      <td>高</td>\n",
       "      <td>高</td>\n",
       "      <td>False</td>\n",
       "      <td>YES</td>\n",
       "    </tr>\n",
       "    <tr>\n",
       "      <th>3</th>\n",
       "      <td>雨</td>\n",
       "      <td>低</td>\n",
       "      <td>高</td>\n",
       "      <td>False</td>\n",
       "      <td>YES</td>\n",
       "    </tr>\n",
       "    <tr>\n",
       "      <th>4</th>\n",
       "      <td>雨</td>\n",
       "      <td>低</td>\n",
       "      <td>高</td>\n",
       "      <td>False</td>\n",
       "      <td>YES</td>\n",
       "    </tr>\n",
       "    <tr>\n",
       "      <th>5</th>\n",
       "      <td>雨</td>\n",
       "      <td>低</td>\n",
       "      <td>低</td>\n",
       "      <td>True</td>\n",
       "      <td>NO</td>\n",
       "    </tr>\n",
       "    <tr>\n",
       "      <th>6</th>\n",
       "      <td>阴</td>\n",
       "      <td>低</td>\n",
       "      <td>低</td>\n",
       "      <td>True</td>\n",
       "      <td>YES</td>\n",
       "    </tr>\n",
       "    <tr>\n",
       "      <th>7</th>\n",
       "      <td>晴</td>\n",
       "      <td>低</td>\n",
       "      <td>高</td>\n",
       "      <td>False</td>\n",
       "      <td>NO</td>\n",
       "    </tr>\n",
       "    <tr>\n",
       "      <th>8</th>\n",
       "      <td>晴</td>\n",
       "      <td>低</td>\n",
       "      <td>低</td>\n",
       "      <td>False</td>\n",
       "      <td>YES</td>\n",
       "    </tr>\n",
       "    <tr>\n",
       "      <th>9</th>\n",
       "      <td>雨</td>\n",
       "      <td>低</td>\n",
       "      <td>高</td>\n",
       "      <td>False</td>\n",
       "      <td>YES</td>\n",
       "    </tr>\n",
       "    <tr>\n",
       "      <th>10</th>\n",
       "      <td>晴</td>\n",
       "      <td>低</td>\n",
       "      <td>低</td>\n",
       "      <td>True</td>\n",
       "      <td>YES</td>\n",
       "    </tr>\n",
       "    <tr>\n",
       "      <th>11</th>\n",
       "      <td>阴</td>\n",
       "      <td>低</td>\n",
       "      <td>高</td>\n",
       "      <td>True</td>\n",
       "      <td>YES</td>\n",
       "    </tr>\n",
       "    <tr>\n",
       "      <th>12</th>\n",
       "      <td>阴</td>\n",
       "      <td>高</td>\n",
       "      <td>低</td>\n",
       "      <td>False</td>\n",
       "      <td>YES</td>\n",
       "    </tr>\n",
       "    <tr>\n",
       "      <th>13</th>\n",
       "      <td>雨</td>\n",
       "      <td>低</td>\n",
       "      <td>高</td>\n",
       "      <td>True</td>\n",
       "      <td>NO</td>\n",
       "    </tr>\n",
       "  </tbody>\n",
       "</table>\n",
       "</div>"
      ],
      "text/plain": [
       "   天气 温度 湿度     起风   打球\n",
       "0   晴  高  高  False   NO\n",
       "1   晴  高  低   True   NO\n",
       "2   阴  高  高  False  YES\n",
       "3   雨  低  高  False  YES\n",
       "4   雨  低  高  False  YES\n",
       "5   雨  低  低   True   NO\n",
       "6   阴  低  低   True  YES\n",
       "7   晴  低  高  False   NO\n",
       "8   晴  低  低  False  YES\n",
       "9   雨  低  高  False  YES\n",
       "10  晴  低  低   True  YES\n",
       "11  阴  低  高   True  YES\n",
       "12  阴  高  低  False  YES\n",
       "13  雨  低  高   True   NO"
      ]
     },
     "execution_count": 23,
     "metadata": {},
     "output_type": "execute_result"
    }
   ],
   "source": [
    "data1"
   ]
  },
  {
   "cell_type": "markdown",
   "metadata": {},
   "source": [
    "## 条件熵"
   ]
  },
  {
   "cell_type": "code",
   "execution_count": 24,
   "metadata": {},
   "outputs": [
    {
     "name": "stdout",
     "output_type": "stream",
     "text": [
      "CPU times: user 2 µs, sys: 1e+03 ns, total: 3 µs\n",
      "Wall time: 4.05 µs\n"
     ]
    },
    {
     "data": {
      "text/plain": [
       "(0.9402859586706311, 1.5774062828523454)"
      ]
     },
     "execution_count": 24,
     "metadata": {},
     "output_type": "execute_result"
    }
   ],
   "source": [
    "%time\n",
    "def ent(data:np.ndarray)->np.ndarray:\n",
    "    prob1 = pd.value_counts(data) / len(data)\n",
    "    import numpy as np\n",
    "    return sum(np.log2(prob1)*prob1*(-1))\n",
    "ent(data1['打球']),ent(data1['天气'])"
   ]
  },
  {
   "cell_type": "markdown",
   "metadata": {},
   "source": [
    "## 计算条件信息熵"
   ]
  },
  {
   "cell_type": "code",
   "execution_count": 25,
   "metadata": {},
   "outputs": [
    {
     "name": "stdout",
     "output_type": "stream",
     "text": [
      "CPU times: user 2 µs, sys: 1 µs, total: 3 µs\n",
      "Wall time: 4.05 µs\n"
     ]
    },
    {
     "data": {
      "text/plain": [
       "0.24674981977443933"
      ]
     },
     "execution_count": 25,
     "metadata": {},
     "output_type": "execute_result"
    }
   ],
   "source": [
    "%time\n",
    "#定义计算熵的函数\n",
    "def ent(data):\n",
    "    prob1 = pd.value_counts(data) / len(data)\n",
    "    return sum(np.log2(prob1) * prob1 * (-1))\n",
    " \n",
    " \n",
    "#定义计算信息增益的函数\n",
    "def gain(data,str1,str2):\n",
    "    e1 = data.groupby(str1).apply(lambda x:ent(x[str2]))\n",
    "    p1 = pd.value_counts(data[str1]) / len(data[str1])\n",
    "    e2 = sum(e1 * p1)\n",
    "    return ent(data[str2]) - e2\n",
    " \n",
    " \n",
    "#测试\n",
    "gain(data1,'天气','打球')"
   ]
  },
  {
   "cell_type": "markdown",
   "metadata": {},
   "source": [
    "## 计算信息增益"
   ]
  }
 ],
 "metadata": {
  "kernelspec": {
   "display_name": "kiteENV",
   "language": "python",
   "name": "kiteenv"
  },
  "language_info": {
   "codemirror_mode": {
    "name": "ipython",
    "version": 3
   },
   "file_extension": ".py",
   "mimetype": "text/x-python",
   "name": "python",
   "nbconvert_exporter": "python",
   "pygments_lexer": "ipython3",
   "version": "3.8.10"
  }
 },
 "nbformat": 4,
 "nbformat_minor": 4
}
