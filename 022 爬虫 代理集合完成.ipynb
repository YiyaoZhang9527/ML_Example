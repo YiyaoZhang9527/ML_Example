{
 "cells": [
  {
   "cell_type": "markdown",
   "metadata": {},
   "source": [
    "# 云代理"
   ]
  },
  {
   "cell_type": "code",
   "execution_count": 2,
   "metadata": {},
   "outputs": [],
   "source": [
    "import pandas as pd"
   ]
  },
  {
   "cell_type": "code",
   "execution_count": 8,
   "metadata": {},
   "outputs": [
    {
     "output_type": "execute_result",
     "data": {
      "text/plain": "                 IP   PORT      ÄäÃû¶È   ÀàÐÍ                   Î»ÖÃ ÏìÓ¦ËÙ¶È  \\\n0     223.241.0.105   3000  ¸ßÄä´úÀíIP  HTTPS           °²»ÕÊ¡ÎßºþÊÐ      5Ãë   \n1     203.82.253.47     80  ¸ßÄä´úÀíIP   HTTP                   Ïã¸Û     10Ãë   \n2      36.249.49.46   9999  ¸ßÄä´úÀíIP  HTTPS           ¸£½¨Ê¡ÈªÖÝÊÐ      0Ãë   \n3     27.43.184.251   9999  ¸ßÄä´úÀíIP  HTTPS           ¹ã¶«Ê¡Ã·ÖÝÊÐ      9Ãë   \n4     182.32.231.62   9999  ¸ßÄä´úÀíIP   HTTP  ¸ßÄä_É½¶«Ê¡¼ÃÄþÊÐµçÐÅ      7Ãë   \n5     182.46.252.48   9999  ¸ßÄä´úÀíIP   HTTP           É½¶«Ê¡¼ÃÄþÊÐ      1Ãë   \n6    113.120.146.18   9999  ¸ßÄä´úÀíIP  HTTPS           É½¶«Ê¡¼ÃÄþÊÐ      9Ãë   \n7    182.46.206.236   9999  ¸ßÄä´úÀíIP  HTTPS           É½¶«Ê¡¼ÃÄþÊÐ      8Ãë   \n8    113.194.30.236   9999  ¸ßÄä´úÀíIP  HTTPS     SSL¸ßÄä_½­Î÷Ê¡ÁªÍ¨      4Ãë   \n9      203.3.85.137    808  ¸ßÄä´úÀíIP  HTTPS                 ¹ã¶«Ê¡      9Ãë   \n10  222.133.173.107  28803  ¸ßÄä´úÀíIP  HTTPS           É½¶«Ê¡ÈÕÕÕÊÐ      1Ãë   \n11      208.91.88.3   8080  ¸ßÄä´úÀíIP   HTTP          ¸ßÄä_±±ÃÀµØÇø      9Ãë   \n12   171.35.221.194   9999  ¸ßÄä´úÀíIP   HTTP  ¸ßÄä_½­Î÷Ê¡Æ¼ÏçÊÐÁªÍ¨      1Ãë   \n13     36.6.224.172   3000  ¸ßÄä´úÀíIP  HTTPS           °²»ÕÊ¡Áù°²ÊÐ      6Ãë   \n14     223.247.93.1   4216  ¸ßÄä´úÀíIP  HTTPS           °²»ÕÊ¡ÙñÖÝÊÐ      0Ãë   \n\n         ×îºóÑéÖ¤Ê±¼ä  \n0   2020/6/22 9:08:22  \n1   2020/6/22 8:37:14  \n2   2020/6/22 8:06:20  \n3   2020/6/22 7:35:02  \n4   2020/6/22 7:04:09  \n5   2020/6/22 6:33:06  \n6   2020/6/22 6:02:26  \n7   2020/6/22 6:02:26  \n8   2020/6/22 5:31:03  \n9   2020/6/22 5:31:03  \n10  2020/6/22 5:31:03  \n11  2020/6/22 5:31:00  \n12  2020/6/22 5:00:08  \n13  2020/6/22 4:29:05  \n14  2020/6/22 3:58:09  ",
      "text/html": "<div>\n<style scoped>\n    .dataframe tbody tr th:only-of-type {\n        vertical-align: middle;\n    }\n\n    .dataframe tbody tr th {\n        vertical-align: top;\n    }\n\n    .dataframe thead th {\n        text-align: right;\n    }\n</style>\n<table border=\"1\" class=\"dataframe\">\n  <thead>\n    <tr style=\"text-align: right;\">\n      <th></th>\n      <th>IP</th>\n      <th>PORT</th>\n      <th>ÄäÃû¶È</th>\n      <th>ÀàÐÍ</th>\n      <th>Î»ÖÃ</th>\n      <th>ÏìÓ¦ËÙ¶È</th>\n      <th>×îºóÑéÖ¤Ê±¼ä</th>\n    </tr>\n  </thead>\n  <tbody>\n    <tr>\n      <th>0</th>\n      <td>223.241.0.105</td>\n      <td>3000</td>\n      <td>¸ßÄä´úÀíIP</td>\n      <td>HTTPS</td>\n      <td>°²»ÕÊ¡ÎßºþÊÐ</td>\n      <td>5Ãë</td>\n      <td>2020/6/22 9:08:22</td>\n    </tr>\n    <tr>\n      <th>1</th>\n      <td>203.82.253.47</td>\n      <td>80</td>\n      <td>¸ßÄä´úÀíIP</td>\n      <td>HTTP</td>\n      <td>Ïã¸Û</td>\n      <td>10Ãë</td>\n      <td>2020/6/22 8:37:14</td>\n    </tr>\n    <tr>\n      <th>2</th>\n      <td>36.249.49.46</td>\n      <td>9999</td>\n      <td>¸ßÄä´úÀíIP</td>\n      <td>HTTPS</td>\n      <td>¸£½¨Ê¡ÈªÖÝÊÐ</td>\n      <td>0Ãë</td>\n      <td>2020/6/22 8:06:20</td>\n    </tr>\n    <tr>\n      <th>3</th>\n      <td>27.43.184.251</td>\n      <td>9999</td>\n      <td>¸ßÄä´úÀíIP</td>\n      <td>HTTPS</td>\n      <td>¹ã¶«Ê¡Ã·ÖÝÊÐ</td>\n      <td>9Ãë</td>\n      <td>2020/6/22 7:35:02</td>\n    </tr>\n    <tr>\n      <th>4</th>\n      <td>182.32.231.62</td>\n      <td>9999</td>\n      <td>¸ßÄä´úÀíIP</td>\n      <td>HTTP</td>\n      <td>¸ßÄä_É½¶«Ê¡¼ÃÄþÊÐµçÐÅ</td>\n      <td>7Ãë</td>\n      <td>2020/6/22 7:04:09</td>\n    </tr>\n    <tr>\n      <th>5</th>\n      <td>182.46.252.48</td>\n      <td>9999</td>\n      <td>¸ßÄä´úÀíIP</td>\n      <td>HTTP</td>\n      <td>É½¶«Ê¡¼ÃÄþÊÐ</td>\n      <td>1Ãë</td>\n      <td>2020/6/22 6:33:06</td>\n    </tr>\n    <tr>\n      <th>6</th>\n      <td>113.120.146.18</td>\n      <td>9999</td>\n      <td>¸ßÄä´úÀíIP</td>\n      <td>HTTPS</td>\n      <td>É½¶«Ê¡¼ÃÄþÊÐ</td>\n      <td>9Ãë</td>\n      <td>2020/6/22 6:02:26</td>\n    </tr>\n    <tr>\n      <th>7</th>\n      <td>182.46.206.236</td>\n      <td>9999</td>\n      <td>¸ßÄä´úÀíIP</td>\n      <td>HTTPS</td>\n      <td>É½¶«Ê¡¼ÃÄþÊÐ</td>\n      <td>8Ãë</td>\n      <td>2020/6/22 6:02:26</td>\n    </tr>\n    <tr>\n      <th>8</th>\n      <td>113.194.30.236</td>\n      <td>9999</td>\n      <td>¸ßÄä´úÀíIP</td>\n      <td>HTTPS</td>\n      <td>SSL¸ßÄä_½­Î÷Ê¡ÁªÍ¨</td>\n      <td>4Ãë</td>\n      <td>2020/6/22 5:31:03</td>\n    </tr>\n    <tr>\n      <th>9</th>\n      <td>203.3.85.137</td>\n      <td>808</td>\n      <td>¸ßÄä´úÀíIP</td>\n      <td>HTTPS</td>\n      <td>¹ã¶«Ê¡</td>\n      <td>9Ãë</td>\n      <td>2020/6/22 5:31:03</td>\n    </tr>\n    <tr>\n      <th>10</th>\n      <td>222.133.173.107</td>\n      <td>28803</td>\n      <td>¸ßÄä´úÀíIP</td>\n      <td>HTTPS</td>\n      <td>É½¶«Ê¡ÈÕÕÕÊÐ</td>\n      <td>1Ãë</td>\n      <td>2020/6/22 5:31:03</td>\n    </tr>\n    <tr>\n      <th>11</th>\n      <td>208.91.88.3</td>\n      <td>8080</td>\n      <td>¸ßÄä´úÀíIP</td>\n      <td>HTTP</td>\n      <td>¸ßÄä_±±ÃÀµØÇø</td>\n      <td>9Ãë</td>\n      <td>2020/6/22 5:31:00</td>\n    </tr>\n    <tr>\n      <th>12</th>\n      <td>171.35.221.194</td>\n      <td>9999</td>\n      <td>¸ßÄä´úÀíIP</td>\n      <td>HTTP</td>\n      <td>¸ßÄä_½­Î÷Ê¡Æ¼ÏçÊÐÁªÍ¨</td>\n      <td>1Ãë</td>\n      <td>2020/6/22 5:00:08</td>\n    </tr>\n    <tr>\n      <th>13</th>\n      <td>36.6.224.172</td>\n      <td>3000</td>\n      <td>¸ßÄä´úÀíIP</td>\n      <td>HTTPS</td>\n      <td>°²»ÕÊ¡Áù°²ÊÐ</td>\n      <td>6Ãë</td>\n      <td>2020/6/22 4:29:05</td>\n    </tr>\n    <tr>\n      <th>14</th>\n      <td>223.247.93.1</td>\n      <td>4216</td>\n      <td>¸ßÄä´úÀíIP</td>\n      <td>HTTPS</td>\n      <td>°²»ÕÊ¡ÙñÖÝÊÐ</td>\n      <td>0Ãë</td>\n      <td>2020/6/22 3:58:09</td>\n    </tr>\n  </tbody>\n</table>\n</div>"
     },
     "metadata": {},
     "execution_count": 8
    }
   ],
   "source": [
    "import requests\n",
    "\n",
    "cookies = {\n",
    "    'Hm_lvt_c4dd741ab3585e047d56cf99ebbbe102': '1592292601',\n",
    "    'Hm_lpvt_c4dd741ab3585e047d56cf99ebbbe102': '1592292601',\n",
    "}\n",
    "\n",
    "headers = {\n",
    "    'Connection': 'keep-alive',\n",
    "    'Cache-Control': 'max-age=0',\n",
    "    'Upgrade-Insecure-Requests': '1',\n",
    "    'User-Agent': 'Mozilla/5.0 (Macintosh; Intel Mac OS X 10_15_4) AppleWebKit/537.36 (KHTML, like Gecko) Chrome/83.0.4103.97 Safari/537.36',\n",
    "    'Accept': 'text/html,application/xhtml+xml,application/xml;q=0.9,image/webp,image/apng,*/*;q=0.8,application/signed-exchange;v=b3;q=0.9',\n",
    "    'Accept-Language': 'zh-CN,zh;q=0.9,en-US;q=0.8,en;q=0.7',\n",
    "}\n",
    "\n",
    "params = (\n",
    "    ('stype', '1'),\n",
    "    ('page', '{}'),\n",
    ")\n",
    "\n",
    "response = requests.get('http://www.ip3366.net/free/', headers=headers, params=params, cookies=cookies, verify=False)\n",
    "\n",
    "#NB. Original query string below. It seems impossible to parse and\n",
    "#reproduce query strings 100% accurately so the one below is given\n",
    "#in case the reproduced version is not \"correct\".\n",
    "# response = requests.get('http://www.ip3366.net/free/?stype=1&page=%7B%7D', headers=headers, cookies=cookies, verify=False)\n",
    "pd.read_html(response.text)[0]"
   ]
  },
  {
   "cell_type": "markdown",
   "metadata": {},
   "source": [
    "# 快代理"
   ]
  },
  {
   "cell_type": "code",
   "execution_count": 8,
   "metadata": {},
   "outputs": [
    {
     "output_type": "execute_result",
     "data": {
      "text/plain": "                 IP  PORT  匿名度    类型                 位置  响应速度  \\\n0    103.44.145.182  8080  高匿名  HTTP  浙江省温州市 德迅网络 BGP多线    3秒   \n1    113.195.17.203  9999  高匿名  HTTP          江西省九江市 联通    1秒   \n2     27.38.155.238  8118  高匿名  HTTP          广东省深圳市 联通  0.4秒   \n3    125.108.100.90  9000  高匿名  HTTP          浙江省温州市 电信  0.6秒   \n4     103.39.214.69  8118  高匿名  HTTP          广东省深圳市 电信    3秒   \n5   163.204.240.147  9999  高匿名  HTTP          广东省汕尾市 联通    3秒   \n6   182.148.206.195  9999  高匿名  HTTP          四川省成都市 电信    1秒   \n7      49.70.95.174  9999  高匿名  HTTP          江苏省宿迁市 电信    1秒   \n8     175.42.129.53  9999  高匿名  HTTP          福建省南平市 联通    1秒   \n9      115.218.4.12  9000  高匿名  HTTP          浙江省温州市 电信  0.9秒   \n10   175.44.108.169  9999  高匿名  HTTP          福建省南平市 联通  0.8秒   \n11  183.166.163.146  9999  高匿名  HTTP          安徽省黄山市 电信    1秒   \n12   163.204.246.65  9999  高匿名  HTTP          广东省汕尾市 联通    1秒   \n13    182.34.18.124  9999  高匿名  HTTP          山东省烟台市 电信    2秒   \n14  163.204.246.109  9999  高匿名  HTTP          广东省汕尾市 联通    1秒   \n\n                 最后验证时间  \n0   2020-06-21 16:31:01  \n1   2020-06-21 15:31:02  \n2   2020-06-21 14:31:01  \n3   2020-06-21 13:31:01  \n4   2020-06-21 12:31:01  \n5   2020-06-21 11:31:01  \n6   2020-06-21 10:31:02  \n7   2020-06-21 09:31:01  \n8   2020-06-21 08:31:01  \n9   2020-06-21 07:31:02  \n10  2020-06-21 06:31:01  \n11  2020-06-21 05:31:01  \n12  2020-06-21 04:31:01  \n13  2020-06-21 03:31:01  \n14  2020-06-21 02:31:02  ",
      "text/html": "<div>\n<style scoped>\n    .dataframe tbody tr th:only-of-type {\n        vertical-align: middle;\n    }\n\n    .dataframe tbody tr th {\n        vertical-align: top;\n    }\n\n    .dataframe thead th {\n        text-align: right;\n    }\n</style>\n<table border=\"1\" class=\"dataframe\">\n  <thead>\n    <tr style=\"text-align: right;\">\n      <th></th>\n      <th>IP</th>\n      <th>PORT</th>\n      <th>匿名度</th>\n      <th>类型</th>\n      <th>位置</th>\n      <th>响应速度</th>\n      <th>最后验证时间</th>\n    </tr>\n  </thead>\n  <tbody>\n    <tr>\n      <th>0</th>\n      <td>103.44.145.182</td>\n      <td>8080</td>\n      <td>高匿名</td>\n      <td>HTTP</td>\n      <td>浙江省温州市 德迅网络 BGP多线</td>\n      <td>3秒</td>\n      <td>2020-06-21 16:31:01</td>\n    </tr>\n    <tr>\n      <th>1</th>\n      <td>113.195.17.203</td>\n      <td>9999</td>\n      <td>高匿名</td>\n      <td>HTTP</td>\n      <td>江西省九江市 联通</td>\n      <td>1秒</td>\n      <td>2020-06-21 15:31:02</td>\n    </tr>\n    <tr>\n      <th>2</th>\n      <td>27.38.155.238</td>\n      <td>8118</td>\n      <td>高匿名</td>\n      <td>HTTP</td>\n      <td>广东省深圳市 联通</td>\n      <td>0.4秒</td>\n      <td>2020-06-21 14:31:01</td>\n    </tr>\n    <tr>\n      <th>3</th>\n      <td>125.108.100.90</td>\n      <td>9000</td>\n      <td>高匿名</td>\n      <td>HTTP</td>\n      <td>浙江省温州市 电信</td>\n      <td>0.6秒</td>\n      <td>2020-06-21 13:31:01</td>\n    </tr>\n    <tr>\n      <th>4</th>\n      <td>103.39.214.69</td>\n      <td>8118</td>\n      <td>高匿名</td>\n      <td>HTTP</td>\n      <td>广东省深圳市 电信</td>\n      <td>3秒</td>\n      <td>2020-06-21 12:31:01</td>\n    </tr>\n    <tr>\n      <th>5</th>\n      <td>163.204.240.147</td>\n      <td>9999</td>\n      <td>高匿名</td>\n      <td>HTTP</td>\n      <td>广东省汕尾市 联通</td>\n      <td>3秒</td>\n      <td>2020-06-21 11:31:01</td>\n    </tr>\n    <tr>\n      <th>6</th>\n      <td>182.148.206.195</td>\n      <td>9999</td>\n      <td>高匿名</td>\n      <td>HTTP</td>\n      <td>四川省成都市 电信</td>\n      <td>1秒</td>\n      <td>2020-06-21 10:31:02</td>\n    </tr>\n    <tr>\n      <th>7</th>\n      <td>49.70.95.174</td>\n      <td>9999</td>\n      <td>高匿名</td>\n      <td>HTTP</td>\n      <td>江苏省宿迁市 电信</td>\n      <td>1秒</td>\n      <td>2020-06-21 09:31:01</td>\n    </tr>\n    <tr>\n      <th>8</th>\n      <td>175.42.129.53</td>\n      <td>9999</td>\n      <td>高匿名</td>\n      <td>HTTP</td>\n      <td>福建省南平市 联通</td>\n      <td>1秒</td>\n      <td>2020-06-21 08:31:01</td>\n    </tr>\n    <tr>\n      <th>9</th>\n      <td>115.218.4.12</td>\n      <td>9000</td>\n      <td>高匿名</td>\n      <td>HTTP</td>\n      <td>浙江省温州市 电信</td>\n      <td>0.9秒</td>\n      <td>2020-06-21 07:31:02</td>\n    </tr>\n    <tr>\n      <th>10</th>\n      <td>175.44.108.169</td>\n      <td>9999</td>\n      <td>高匿名</td>\n      <td>HTTP</td>\n      <td>福建省南平市 联通</td>\n      <td>0.8秒</td>\n      <td>2020-06-21 06:31:01</td>\n    </tr>\n    <tr>\n      <th>11</th>\n      <td>183.166.163.146</td>\n      <td>9999</td>\n      <td>高匿名</td>\n      <td>HTTP</td>\n      <td>安徽省黄山市 电信</td>\n      <td>1秒</td>\n      <td>2020-06-21 05:31:01</td>\n    </tr>\n    <tr>\n      <th>12</th>\n      <td>163.204.246.65</td>\n      <td>9999</td>\n      <td>高匿名</td>\n      <td>HTTP</td>\n      <td>广东省汕尾市 联通</td>\n      <td>1秒</td>\n      <td>2020-06-21 04:31:01</td>\n    </tr>\n    <tr>\n      <th>13</th>\n      <td>182.34.18.124</td>\n      <td>9999</td>\n      <td>高匿名</td>\n      <td>HTTP</td>\n      <td>山东省烟台市 电信</td>\n      <td>2秒</td>\n      <td>2020-06-21 03:31:01</td>\n    </tr>\n    <tr>\n      <th>14</th>\n      <td>163.204.246.109</td>\n      <td>9999</td>\n      <td>高匿名</td>\n      <td>HTTP</td>\n      <td>广东省汕尾市 联通</td>\n      <td>1秒</td>\n      <td>2020-06-21 02:31:02</td>\n    </tr>\n  </tbody>\n</table>\n</div>"
     },
     "metadata": {},
     "execution_count": 8
    }
   ],
   "source": [
    "import requests\n",
    "\n",
    "cookies = {\n",
    "    'channelid': '0',\n",
    "    'sid': '1592292891845105',\n",
    "    '_ga': 'GA1.2.856405045.1592292892',\n",
    "    '_gid': 'GA1.2.381026232.1592292892',\n",
    "    '_gat': '1',\n",
    "    'Hm_lvt_7ed65b1cc4b810e9fd37959c9bb51b31': '1592292893',\n",
    "    'Hm_lpvt_7ed65b1cc4b810e9fd37959c9bb51b31': '1592292893',\n",
    "}\n",
    "\n",
    "headers = {\n",
    "    'Connection': 'keep-alive',\n",
    "    'Cache-Control': 'max-age=0',\n",
    "    'Upgrade-Insecure-Requests': '1',\n",
    "    'User-Agent': 'Mozilla/5.0 (Macintosh; Intel Mac OS X 10_15_4) AppleWebKit/537.36 (KHTML, like Gecko) Chrome/83.0.4103.97 Safari/537.36',\n",
    "    'Accept': 'text/html,application/xhtml+xml,application/xml;q=0.9,image/webp,image/apng,*/*;q=0.8,application/signed-exchange;v=b3;q=0.9',\n",
    "    'Sec-Fetch-Site': 'none',\n",
    "    'Sec-Fetch-Mode': 'navigate',\n",
    "    'Sec-Fetch-User': '?1',\n",
    "    'Sec-Fetch-Dest': 'document',\n",
    "    'Accept-Language': 'zh-CN,zh;q=0.9,en-US;q=0.8,en;q=0.7',\n",
    "}\n",
    "\n",
    "response = requests.get('https://www.kuaidaili.com/free/inha', headers=headers, cookies=cookies)\n",
    "pd.read_html(response.text)[0]"
   ]
  },
  {
   "cell_type": "code",
   "execution_count": 9,
   "metadata": {},
   "outputs": [
    {
     "output_type": "execute_result",
     "data": {
      "text/plain": "                 IP  ç«¯å£å· å¿ååº¦ IPç±»å  GET/POSTæ¯æ  \\\n0   223.242.225.231       9999    æªç¥    HTTPS             NaN   \n1      58.220.95.55       9400    æªç¥    HTTPS             NaN   \n2    183.166.96.119       9999    æªç¥    HTTPS             NaN   \n3     60.216.20.214       8001    æªç¥    HTTPS             NaN   \n4     171.35.172.65       9999    æªç¥    HTTPS             NaN   \n5   178.219.163.231       8888    æªç¥    HTTPS             NaN   \n6      58.220.95.78       9401    æªç¥    HTTPS             NaN   \n7     175.42.68.240       9999    æªç¥    HTTPS             NaN   \n8    171.35.221.231       9999    æªç¥    HTTPS             NaN   \n9    120.83.108.217       9999    æªç¥    HTTPS             NaN   \n10   120.83.101.188       9999    æªç¥    HTTPS             NaN   \n11   120.83.106.183       9999    æªç¥    HTTPS             NaN   \n12   163.204.246.72       9999    æªç¥    HTTPS             NaN   \n13   120.83.103.221       9999    æªç¥    HTTPS             NaN   \n14    123.169.120.9       9999    æªç¥    HTTPS             NaN   \n15   120.83.110.177       9999    æªç¥    HTTPS             NaN   \n16    123.54.45.132       9999    æªç¥    HTTPS             NaN   \n17  163.204.246.249       9999    æªç¥    HTTPS             NaN   \n18      1.198.72.58       9999    é«å¿    HTTPS             NaN   \n19    163.204.245.8       9999    æªç¥    HTTPS             NaN   \n20      60.13.42.46       9999    æªç¥    HTTPS             NaN   \n21     1.198.73.108       9999    æªç¥    HTTPS             NaN   \n22     60.13.42.128       9999    é«å¿    HTTPS             NaN   \n23      1.198.72.57       9999    æªç¥    HTTPS             NaN   \n24    144.123.68.27       9999    æªç¥    HTTPS             NaN   \n25   119.23.238.202       3128    éæ    HTTPS             NaN   \n26     1.197.204.70       9999    æªç¥    HTTPS             NaN   \n27  163.204.245.252       9999    æªç¥    HTTPS             NaN   \n28    123.52.97.194       9999    æªç¥    HTTPS             NaN   \n29   123.101.231.15       9999    é«å¿    HTTPS             NaN   \n\n                   ä½ç½® ååºéåº¦ æ´æ°æ¶é´  \n0      ä¸­å½å®å¾½æ·®å        0.16s   4åéå  \n1      ä¸­å½æ±èæ¬å·        0.15s   4åéå  \n2      ä¸­å½å®å¾½æ·®å        0.17s   4åéå  \n3      ä¸­å½å±±ä¸æµå        0.93s   4åéå  \n4      ä¸­å½æ±è¥¿å®æ¥        0.28s   5åéå  \n5           ä¿ç½æ¯XXXX        4.62s   5åéå  \n6   UnknownUnknownUnknown        0.19s   6åéå  \n7   UnknownUnknownUnknown        0.36s   6åéå  \n8   UnknownUnknownUnknown        0.26s   7åéå  \n9      ä¸­å½å¹¿ä¸æ­é³        0.40s   7åéå  \n10  UnknownUnknownUnknown        3.47s   7åéå  \n11                    NaN        2.97s   7åéå  \n12                    NaN        0.37s   8åéå  \n13     ä¸­å½å¹¿ä¸æ­é³        0.43s   8åéå  \n14     ä¸­å½å±±ä¸æ·å        0.15s   8åéå  \n15     ä¸­å½å¹¿ä¸æ­é³        2.54s   8åéå  \n16     ä¸­å½æ²³ååä¸        0.29s   8åéå  \n17     ä¸­å½å¹¿ä¸æ±å°¾        0.42s   8åéå  \n18     ä¸­å½æ²³åæµæº        0.51s   8åéå  \n19  UnknownUnknownUnknown        0.41s   9åéå  \n20     ä¸­å½çèå¹³å        0.43s   9åéå  \n21  UnknownUnknownUnknown        0.67s   9åéå  \n22     ä¸­å½çèå¹³å        1.45s   9åéå  \n23  UnknownUnknownUnknown        0.29s   9åéå  \n24  UnknownUnknownUnknown        0.19s   9åéå  \n25     ä¸­å½å¹¿ä¸æ·±å³        1.88s   9åéå  \n26     ä¸­å½æ²³åæµæº        3.10s   9åéå  \n27     ä¸­å½å¹¿ä¸æ±å°¾        0.45s   9åéå  \n28     ä¸­å½æ²³ååä¸        0.29s   9åéå  \n29                    NaN        3.32s  10åéå  ",
      "text/html": "<div>\n<style scoped>\n    .dataframe tbody tr th:only-of-type {\n        vertical-align: middle;\n    }\n\n    .dataframe tbody tr th {\n        vertical-align: top;\n    }\n\n    .dataframe thead th {\n        text-align: right;\n    }\n</style>\n<table border=\"1\" class=\"dataframe\">\n  <thead>\n    <tr style=\"text-align: right;\">\n      <th></th>\n      <th>IP</th>\n      <th>ç«¯å£å·</th>\n      <th>å¿ååº¦</th>\n      <th>IPç±»å</th>\n      <th>GET/POSTæ¯æ</th>\n      <th>ä½ç½®</th>\n      <th>ååºéåº¦</th>\n      <th>æ´æ°æ¶é´</th>\n    </tr>\n  </thead>\n  <tbody>\n    <tr>\n      <th>0</th>\n      <td>223.242.225.231</td>\n      <td>9999</td>\n      <td>æªç¥</td>\n      <td>HTTPS</td>\n      <td>NaN</td>\n      <td>ä¸­å½å®å¾½æ·®å</td>\n      <td>0.16s</td>\n      <td>4åéå</td>\n    </tr>\n    <tr>\n      <th>1</th>\n      <td>58.220.95.55</td>\n      <td>9400</td>\n      <td>æªç¥</td>\n      <td>HTTPS</td>\n      <td>NaN</td>\n      <td>ä¸­å½æ±èæ¬å·</td>\n      <td>0.15s</td>\n      <td>4åéå</td>\n    </tr>\n    <tr>\n      <th>2</th>\n      <td>183.166.96.119</td>\n      <td>9999</td>\n      <td>æªç¥</td>\n      <td>HTTPS</td>\n      <td>NaN</td>\n      <td>ä¸­å½å®å¾½æ·®å</td>\n      <td>0.17s</td>\n      <td>4åéå</td>\n    </tr>\n    <tr>\n      <th>3</th>\n      <td>60.216.20.214</td>\n      <td>8001</td>\n      <td>æªç¥</td>\n      <td>HTTPS</td>\n      <td>NaN</td>\n      <td>ä¸­å½å±±ä¸æµå</td>\n      <td>0.93s</td>\n      <td>4åéå</td>\n    </tr>\n    <tr>\n      <th>4</th>\n      <td>171.35.172.65</td>\n      <td>9999</td>\n      <td>æªç¥</td>\n      <td>HTTPS</td>\n      <td>NaN</td>\n      <td>ä¸­å½æ±è¥¿å®æ¥</td>\n      <td>0.28s</td>\n      <td>5åéå</td>\n    </tr>\n    <tr>\n      <th>5</th>\n      <td>178.219.163.231</td>\n      <td>8888</td>\n      <td>æªç¥</td>\n      <td>HTTPS</td>\n      <td>NaN</td>\n      <td>ä¿ç½æ¯XXXX</td>\n      <td>4.62s</td>\n      <td>5åéå</td>\n    </tr>\n    <tr>\n      <th>6</th>\n      <td>58.220.95.78</td>\n      <td>9401</td>\n      <td>æªç¥</td>\n      <td>HTTPS</td>\n      <td>NaN</td>\n      <td>UnknownUnknownUnknown</td>\n      <td>0.19s</td>\n      <td>6åéå</td>\n    </tr>\n    <tr>\n      <th>7</th>\n      <td>175.42.68.240</td>\n      <td>9999</td>\n      <td>æªç¥</td>\n      <td>HTTPS</td>\n      <td>NaN</td>\n      <td>UnknownUnknownUnknown</td>\n      <td>0.36s</td>\n      <td>6åéå</td>\n    </tr>\n    <tr>\n      <th>8</th>\n      <td>171.35.221.231</td>\n      <td>9999</td>\n      <td>æªç¥</td>\n      <td>HTTPS</td>\n      <td>NaN</td>\n      <td>UnknownUnknownUnknown</td>\n      <td>0.26s</td>\n      <td>7åéå</td>\n    </tr>\n    <tr>\n      <th>9</th>\n      <td>120.83.108.217</td>\n      <td>9999</td>\n      <td>æªç¥</td>\n      <td>HTTPS</td>\n      <td>NaN</td>\n      <td>ä¸­å½å¹¿ä¸æ­é³</td>\n      <td>0.40s</td>\n      <td>7åéå</td>\n    </tr>\n    <tr>\n      <th>10</th>\n      <td>120.83.101.188</td>\n      <td>9999</td>\n      <td>æªç¥</td>\n      <td>HTTPS</td>\n      <td>NaN</td>\n      <td>UnknownUnknownUnknown</td>\n      <td>3.47s</td>\n      <td>7åéå</td>\n    </tr>\n    <tr>\n      <th>11</th>\n      <td>120.83.106.183</td>\n      <td>9999</td>\n      <td>æªç¥</td>\n      <td>HTTPS</td>\n      <td>NaN</td>\n      <td>NaN</td>\n      <td>2.97s</td>\n      <td>7åéå</td>\n    </tr>\n    <tr>\n      <th>12</th>\n      <td>163.204.246.72</td>\n      <td>9999</td>\n      <td>æªç¥</td>\n      <td>HTTPS</td>\n      <td>NaN</td>\n      <td>NaN</td>\n      <td>0.37s</td>\n      <td>8åéå</td>\n    </tr>\n    <tr>\n      <th>13</th>\n      <td>120.83.103.221</td>\n      <td>9999</td>\n      <td>æªç¥</td>\n      <td>HTTPS</td>\n      <td>NaN</td>\n      <td>ä¸­å½å¹¿ä¸æ­é³</td>\n      <td>0.43s</td>\n      <td>8åéå</td>\n    </tr>\n    <tr>\n      <th>14</th>\n      <td>123.169.120.9</td>\n      <td>9999</td>\n      <td>æªç¥</td>\n      <td>HTTPS</td>\n      <td>NaN</td>\n      <td>ä¸­å½å±±ä¸æ·å</td>\n      <td>0.15s</td>\n      <td>8åéå</td>\n    </tr>\n    <tr>\n      <th>15</th>\n      <td>120.83.110.177</td>\n      <td>9999</td>\n      <td>æªç¥</td>\n      <td>HTTPS</td>\n      <td>NaN</td>\n      <td>ä¸­å½å¹¿ä¸æ­é³</td>\n      <td>2.54s</td>\n      <td>8åéå</td>\n    </tr>\n    <tr>\n      <th>16</th>\n      <td>123.54.45.132</td>\n      <td>9999</td>\n      <td>æªç¥</td>\n      <td>HTTPS</td>\n      <td>NaN</td>\n      <td>ä¸­å½æ²³ååä¸</td>\n      <td>0.29s</td>\n      <td>8åéå</td>\n    </tr>\n    <tr>\n      <th>17</th>\n      <td>163.204.246.249</td>\n      <td>9999</td>\n      <td>æªç¥</td>\n      <td>HTTPS</td>\n      <td>NaN</td>\n      <td>ä¸­å½å¹¿ä¸æ±å°¾</td>\n      <td>0.42s</td>\n      <td>8åéå</td>\n    </tr>\n    <tr>\n      <th>18</th>\n      <td>1.198.72.58</td>\n      <td>9999</td>\n      <td>é«å¿</td>\n      <td>HTTPS</td>\n      <td>NaN</td>\n      <td>ä¸­å½æ²³åæµæº</td>\n      <td>0.51s</td>\n      <td>8åéå</td>\n    </tr>\n    <tr>\n      <th>19</th>\n      <td>163.204.245.8</td>\n      <td>9999</td>\n      <td>æªç¥</td>\n      <td>HTTPS</td>\n      <td>NaN</td>\n      <td>UnknownUnknownUnknown</td>\n      <td>0.41s</td>\n      <td>9åéå</td>\n    </tr>\n    <tr>\n      <th>20</th>\n      <td>60.13.42.46</td>\n      <td>9999</td>\n      <td>æªç¥</td>\n      <td>HTTPS</td>\n      <td>NaN</td>\n      <td>ä¸­å½çèå¹³å</td>\n      <td>0.43s</td>\n      <td>9åéå</td>\n    </tr>\n    <tr>\n      <th>21</th>\n      <td>1.198.73.108</td>\n      <td>9999</td>\n      <td>æªç¥</td>\n      <td>HTTPS</td>\n      <td>NaN</td>\n      <td>UnknownUnknownUnknown</td>\n      <td>0.67s</td>\n      <td>9åéå</td>\n    </tr>\n    <tr>\n      <th>22</th>\n      <td>60.13.42.128</td>\n      <td>9999</td>\n      <td>é«å¿</td>\n      <td>HTTPS</td>\n      <td>NaN</td>\n      <td>ä¸­å½çèå¹³å</td>\n      <td>1.45s</td>\n      <td>9åéå</td>\n    </tr>\n    <tr>\n      <th>23</th>\n      <td>1.198.72.57</td>\n      <td>9999</td>\n      <td>æªç¥</td>\n      <td>HTTPS</td>\n      <td>NaN</td>\n      <td>UnknownUnknownUnknown</td>\n      <td>0.29s</td>\n      <td>9åéå</td>\n    </tr>\n    <tr>\n      <th>24</th>\n      <td>144.123.68.27</td>\n      <td>9999</td>\n      <td>æªç¥</td>\n      <td>HTTPS</td>\n      <td>NaN</td>\n      <td>UnknownUnknownUnknown</td>\n      <td>0.19s</td>\n      <td>9åéå</td>\n    </tr>\n    <tr>\n      <th>25</th>\n      <td>119.23.238.202</td>\n      <td>3128</td>\n      <td>éæ</td>\n      <td>HTTPS</td>\n      <td>NaN</td>\n      <td>ä¸­å½å¹¿ä¸æ·±å³</td>\n      <td>1.88s</td>\n      <td>9åéå</td>\n    </tr>\n    <tr>\n      <th>26</th>\n      <td>1.197.204.70</td>\n      <td>9999</td>\n      <td>æªç¥</td>\n      <td>HTTPS</td>\n      <td>NaN</td>\n      <td>ä¸­å½æ²³åæµæº</td>\n      <td>3.10s</td>\n      <td>9åéå</td>\n    </tr>\n    <tr>\n      <th>27</th>\n      <td>163.204.245.252</td>\n      <td>9999</td>\n      <td>æªç¥</td>\n      <td>HTTPS</td>\n      <td>NaN</td>\n      <td>ä¸­å½å¹¿ä¸æ±å°¾</td>\n      <td>0.45s</td>\n      <td>9åéå</td>\n    </tr>\n    <tr>\n      <th>28</th>\n      <td>123.52.97.194</td>\n      <td>9999</td>\n      <td>æªç¥</td>\n      <td>HTTPS</td>\n      <td>NaN</td>\n      <td>ä¸­å½æ²³ååä¸</td>\n      <td>0.29s</td>\n      <td>9åéå</td>\n    </tr>\n    <tr>\n      <th>29</th>\n      <td>123.101.231.15</td>\n      <td>9999</td>\n      <td>é«å¿</td>\n      <td>HTTPS</td>\n      <td>NaN</td>\n      <td>NaN</td>\n      <td>3.32s</td>\n      <td>10åéå</td>\n    </tr>\n  </tbody>\n</table>\n</div>"
     },
     "metadata": {},
     "execution_count": 9
    }
   ],
   "source": [
    "import requests\n",
    "import pandas as pd\n",
    "cookies = {\n",
    "    'PHPSESSID': 'u6nvhut08qt57cto5pst1um071',\n",
    "    '5d6fb81d1f871a290099d01c15e4d68d': '44d67230eedcd34b97916ff23fdebab7f3bd1359s%3A1%3A%22%2F%22%3B',\n",
    "    'YII_CSRF_TOKEN': '4fb5fe024bdf372438d15c3b7d33e279499c7917s%3A40%3A%22913419812f5ff99234b0876e6565b168177913f6%22%3B',\n",
    "    'BAEID': '3DBEB1F12FCE6528AF66B64273F0E988',\n",
    "}\n",
    "\n",
    "headers = {\n",
    "    'Connection': 'keep-alive',\n",
    "    'Cache-Control': 'max-age=0',\n",
    "    'Upgrade-Insecure-Requests': '1',\n",
    "    'User-Agent': 'Mozilla/5.0 (Macintosh; Intel Mac OS X 10_15_4) AppleWebKit/537.36 (KHTML, like Gecko) Chrome/83.0.4103.97 Safari/537.36',\n",
    "    'Accept': 'text/html,application/xhtml+xml,application/xml;q=0.9,image/webp,image/apng,*/*;q=0.8,application/signed-exchange;v=b3;q=0.9',\n",
    "    'Accept-Language': 'zh-CN,zh;q=0.9,en-US;q=0.8,en;q=0.7',\n",
    "}\n",
    "\n",
    "response = requests.get('http://www.iphai.com/', headers=headers, cookies=cookies, verify=False)\n",
    "pd.read_html(response.text)[0]"
   ]
  },
  {
   "cell_type": "code",
   "execution_count": 10,
   "metadata": {},
   "outputs": [
    {
     "output_type": "execute_result",
     "data": {
      "text/plain": "                IP:PORT 匿名度     类型       IP归属地 运营商     响应速度  \\\n0   60.179.201.207:8710  高匿  https  中国 浙江省 宁波市  电信   0.28 秒   \n1   60.179.200.202:8520  高匿  https  中国 浙江省 宁波市  电信  0.515 秒   \n2    60.184.110.80:8380  高匿  https  中国 浙江省 丽水市  电信  0.299 秒   \n3    60.184.205.85:8330  高匿  https  中国 浙江省 丽水市  电信  0.286 秒   \n4     60.188.16.15:8651  高匿  https  中国 浙江省 台州市  电信  0.187 秒   \n5    113.194.28.99:8267  透明  https  中国 江西省 新余市  联通  0.689 秒   \n6    60.188.66.158:8905  高匿  https  中国 浙江省 台州市  电信  0.118 秒   \n7    58.253.155.11:9066  高匿  https  中国 广东省 揭阳市  联通  2.642 秒   \n8      60.188.9.91:8674  高匿  https  中国 浙江省 台州市  电信  2.512 秒   \n9    60.188.19.174:8399  高匿  https  中国 浙江省 台州市  电信  0.122 秒   \n10  113.121.92.113:8316  透明  https  中国 山东省 淄博市  电信  1.482 秒   \n11   60.188.11.226:8793  高匿  https  中国 浙江省 台州市  电信  2.719 秒   \n12     60.188.2.46:8787  高匿   http  中国 浙江省 台州市  电信  0.948 秒   \n13   58.218.25.244:8332  高匿   http  中国 江苏省 徐州市  电信  2.917 秒   \n14   110.243.16.20:8332  高匿   http  中国 河北省 唐山市  联通  0.237 秒   \n15   36.249.109.59:8540  透明  https  中国 福建省 泉州市  联通  0.478 秒   \n16   110.243.4.112:8171  透明  https  中国 河北省 唐山市  联通  0.146 秒   \n17    60.188.17.23:8325  高匿  https  中国 浙江省 台州市  电信  0.869 秒   \n18   61.140.28.228:8805  高匿  https  中国 广东省 广州市  电信  1.979 秒   \n19     60.188.1.27:9057  高匿  https  中国 浙江省 台州市  电信  1.049 秒   \n\n                 最后验证时间 存活时间  \n0   2020-05-20 22:32:23  新入库  \n1   2020-05-20 22:32:23  新入库  \n2   2020-05-20 22:32:23  新入库  \n3   2020-05-20 22:32:23  新入库  \n4   2020-05-20 22:32:23  新入库  \n5   2020-05-20 22:32:23  新入库  \n6   2020-05-20 22:32:23  新入库  \n7   2020-05-20 22:32:23  新入库  \n8   2020-05-20 22:32:23  新入库  \n9   2020-05-20 22:32:23  新入库  \n10  2020-05-20 22:32:23  新入库  \n11  2020-05-20 22:32:23  新入库  \n12  2020-05-20 22:32:23  新入库  \n13  2020-05-20 22:32:23  新入库  \n14  2020-05-20 22:32:23  新入库  \n15  2020-05-20 22:32:23  新入库  \n16  2020-05-20 22:32:23  新入库  \n17  2020-05-20 22:32:23  新入库  \n18  2020-05-20 22:32:23  新入库  \n19  2020-05-20 22:32:23  新入库  ",
      "text/html": "<div>\n<style scoped>\n    .dataframe tbody tr th:only-of-type {\n        vertical-align: middle;\n    }\n\n    .dataframe tbody tr th {\n        vertical-align: top;\n    }\n\n    .dataframe thead th {\n        text-align: right;\n    }\n</style>\n<table border=\"1\" class=\"dataframe\">\n  <thead>\n    <tr style=\"text-align: right;\">\n      <th></th>\n      <th>IP:PORT</th>\n      <th>匿名度</th>\n      <th>类型</th>\n      <th>IP归属地</th>\n      <th>运营商</th>\n      <th>响应速度</th>\n      <th>最后验证时间</th>\n      <th>存活时间</th>\n    </tr>\n  </thead>\n  <tbody>\n    <tr>\n      <th>0</th>\n      <td>60.179.201.207:8710</td>\n      <td>高匿</td>\n      <td>https</td>\n      <td>中国 浙江省 宁波市</td>\n      <td>电信</td>\n      <td>0.28 秒</td>\n      <td>2020-05-20 22:32:23</td>\n      <td>新入库</td>\n    </tr>\n    <tr>\n      <th>1</th>\n      <td>60.179.200.202:8520</td>\n      <td>高匿</td>\n      <td>https</td>\n      <td>中国 浙江省 宁波市</td>\n      <td>电信</td>\n      <td>0.515 秒</td>\n      <td>2020-05-20 22:32:23</td>\n      <td>新入库</td>\n    </tr>\n    <tr>\n      <th>2</th>\n      <td>60.184.110.80:8380</td>\n      <td>高匿</td>\n      <td>https</td>\n      <td>中国 浙江省 丽水市</td>\n      <td>电信</td>\n      <td>0.299 秒</td>\n      <td>2020-05-20 22:32:23</td>\n      <td>新入库</td>\n    </tr>\n    <tr>\n      <th>3</th>\n      <td>60.184.205.85:8330</td>\n      <td>高匿</td>\n      <td>https</td>\n      <td>中国 浙江省 丽水市</td>\n      <td>电信</td>\n      <td>0.286 秒</td>\n      <td>2020-05-20 22:32:23</td>\n      <td>新入库</td>\n    </tr>\n    <tr>\n      <th>4</th>\n      <td>60.188.16.15:8651</td>\n      <td>高匿</td>\n      <td>https</td>\n      <td>中国 浙江省 台州市</td>\n      <td>电信</td>\n      <td>0.187 秒</td>\n      <td>2020-05-20 22:32:23</td>\n      <td>新入库</td>\n    </tr>\n    <tr>\n      <th>5</th>\n      <td>113.194.28.99:8267</td>\n      <td>透明</td>\n      <td>https</td>\n      <td>中国 江西省 新余市</td>\n      <td>联通</td>\n      <td>0.689 秒</td>\n      <td>2020-05-20 22:32:23</td>\n      <td>新入库</td>\n    </tr>\n    <tr>\n      <th>6</th>\n      <td>60.188.66.158:8905</td>\n      <td>高匿</td>\n      <td>https</td>\n      <td>中国 浙江省 台州市</td>\n      <td>电信</td>\n      <td>0.118 秒</td>\n      <td>2020-05-20 22:32:23</td>\n      <td>新入库</td>\n    </tr>\n    <tr>\n      <th>7</th>\n      <td>58.253.155.11:9066</td>\n      <td>高匿</td>\n      <td>https</td>\n      <td>中国 广东省 揭阳市</td>\n      <td>联通</td>\n      <td>2.642 秒</td>\n      <td>2020-05-20 22:32:23</td>\n      <td>新入库</td>\n    </tr>\n    <tr>\n      <th>8</th>\n      <td>60.188.9.91:8674</td>\n      <td>高匿</td>\n      <td>https</td>\n      <td>中国 浙江省 台州市</td>\n      <td>电信</td>\n      <td>2.512 秒</td>\n      <td>2020-05-20 22:32:23</td>\n      <td>新入库</td>\n    </tr>\n    <tr>\n      <th>9</th>\n      <td>60.188.19.174:8399</td>\n      <td>高匿</td>\n      <td>https</td>\n      <td>中国 浙江省 台州市</td>\n      <td>电信</td>\n      <td>0.122 秒</td>\n      <td>2020-05-20 22:32:23</td>\n      <td>新入库</td>\n    </tr>\n    <tr>\n      <th>10</th>\n      <td>113.121.92.113:8316</td>\n      <td>透明</td>\n      <td>https</td>\n      <td>中国 山东省 淄博市</td>\n      <td>电信</td>\n      <td>1.482 秒</td>\n      <td>2020-05-20 22:32:23</td>\n      <td>新入库</td>\n    </tr>\n    <tr>\n      <th>11</th>\n      <td>60.188.11.226:8793</td>\n      <td>高匿</td>\n      <td>https</td>\n      <td>中国 浙江省 台州市</td>\n      <td>电信</td>\n      <td>2.719 秒</td>\n      <td>2020-05-20 22:32:23</td>\n      <td>新入库</td>\n    </tr>\n    <tr>\n      <th>12</th>\n      <td>60.188.2.46:8787</td>\n      <td>高匿</td>\n      <td>http</td>\n      <td>中国 浙江省 台州市</td>\n      <td>电信</td>\n      <td>0.948 秒</td>\n      <td>2020-05-20 22:32:23</td>\n      <td>新入库</td>\n    </tr>\n    <tr>\n      <th>13</th>\n      <td>58.218.25.244:8332</td>\n      <td>高匿</td>\n      <td>http</td>\n      <td>中国 江苏省 徐州市</td>\n      <td>电信</td>\n      <td>2.917 秒</td>\n      <td>2020-05-20 22:32:23</td>\n      <td>新入库</td>\n    </tr>\n    <tr>\n      <th>14</th>\n      <td>110.243.16.20:8332</td>\n      <td>高匿</td>\n      <td>http</td>\n      <td>中国 河北省 唐山市</td>\n      <td>联通</td>\n      <td>0.237 秒</td>\n      <td>2020-05-20 22:32:23</td>\n      <td>新入库</td>\n    </tr>\n    <tr>\n      <th>15</th>\n      <td>36.249.109.59:8540</td>\n      <td>透明</td>\n      <td>https</td>\n      <td>中国 福建省 泉州市</td>\n      <td>联通</td>\n      <td>0.478 秒</td>\n      <td>2020-05-20 22:32:23</td>\n      <td>新入库</td>\n    </tr>\n    <tr>\n      <th>16</th>\n      <td>110.243.4.112:8171</td>\n      <td>透明</td>\n      <td>https</td>\n      <td>中国 河北省 唐山市</td>\n      <td>联通</td>\n      <td>0.146 秒</td>\n      <td>2020-05-20 22:32:23</td>\n      <td>新入库</td>\n    </tr>\n    <tr>\n      <th>17</th>\n      <td>60.188.17.23:8325</td>\n      <td>高匿</td>\n      <td>https</td>\n      <td>中国 浙江省 台州市</td>\n      <td>电信</td>\n      <td>0.869 秒</td>\n      <td>2020-05-20 22:32:23</td>\n      <td>新入库</td>\n    </tr>\n    <tr>\n      <th>18</th>\n      <td>61.140.28.228:8805</td>\n      <td>高匿</td>\n      <td>https</td>\n      <td>中国 广东省 广州市</td>\n      <td>电信</td>\n      <td>1.979 秒</td>\n      <td>2020-05-20 22:32:23</td>\n      <td>新入库</td>\n    </tr>\n    <tr>\n      <th>19</th>\n      <td>60.188.1.27:9057</td>\n      <td>高匿</td>\n      <td>https</td>\n      <td>中国 浙江省 台州市</td>\n      <td>电信</td>\n      <td>1.049 秒</td>\n      <td>2020-05-20 22:32:23</td>\n      <td>新入库</td>\n    </tr>\n  </tbody>\n</table>\n</div>"
     },
     "metadata": {},
     "execution_count": 10
    }
   ],
   "source": [
    "import requests\n",
    "\n",
    "cookies = {\n",
    "    'JSESSIONID': '041F05DC6E929F3003AF69ECC4337A11',\n",
    "}\n",
    "\n",
    "headers = {\n",
    "    'Connection': 'keep-alive',\n",
    "    'Upgrade-Insecure-Requests': '1',\n",
    "    'User-Agent': 'Mozilla/5.0 (Macintosh; Intel Mac OS X 10_15_4) AppleWebKit/537.36 (KHTML, like Gecko) Chrome/83.0.4103.97 Safari/537.36',\n",
    "    'Accept': 'text/html,application/xhtml+xml,application/xml;q=0.9,image/webp,image/apng,*/*;q=0.8,application/signed-exchange;v=b3;q=0.9',\n",
    "    'Accept-Language': 'zh-CN,zh;q=0.9,en-US;q=0.8,en;q=0.7',\n",
    "}\n",
    "\n",
    "response = requests.get('http://www.goubanjia.com/', headers=headers, cookies=cookies, verify=False)\n",
    "pd.read_html(response.text)[0]"
   ]
  },
  {
   "cell_type": "code",
   "execution_count": 11,
   "metadata": {
    "tags": []
   },
   "outputs": [
    {
     "output_type": "stream",
     "name": "stdout",
     "text": "(20, 9)\n"
    },
    {
     "output_type": "execute_result",
     "data": {
      "text/plain": "                IP    端口 匿名度     类型  国家      省市 运营商     响应速度  \\\n0   60.179.201.207  8949  高匿  https  中国  浙江省宁波市  电信   0.28 秒   \n1   60.179.200.202  8486  高匿  https  中国  浙江省宁波市  电信  0.515 秒   \n2    60.184.110.80  8426  高匿  https  中国  浙江省丽水市  电信  0.299 秒   \n3    60.184.205.85  8101  高匿  https  中国  浙江省丽水市  电信  0.286 秒   \n4     60.188.16.15  8491  高匿  https  中国  浙江省台州市  电信  0.187 秒   \n5    113.194.28.99  8092  透明  https  中国  江西省新余市  联通  0.689 秒   \n6    60.188.66.158  8480  高匿  https  中国  浙江省台州市  电信  0.118 秒   \n7    58.253.155.11  8833  高匿  https  中国  广东省揭阳市  联通  2.642 秒   \n8      60.188.9.91  8261  高匿  https  中国  浙江省台州市  电信  2.512 秒   \n9    60.188.19.174  8394  高匿  https  中国  浙江省台州市  电信  0.122 秒   \n10  113.121.92.113  8467  透明  https  中国  山东省淄博市  电信  1.482 秒   \n11   60.188.11.226  8853  高匿  https  中国  浙江省台州市  电信  2.719 秒   \n12     60.188.2.46  8449  高匿   http  中国  浙江省台州市  电信  0.948 秒   \n13   58.218.25.244  9000  高匿   http  中国  江苏省徐州市  电信  2.917 秒   \n14   110.243.16.20  8204  高匿   http  中国  河北省唐山市  联通  0.237 秒   \n15   36.249.109.59  8249  透明  https  中国  福建省泉州市  联通  0.478 秒   \n16   110.243.4.112  8264  透明  https  中国  河北省唐山市  联通  0.146 秒   \n17    60.188.17.23  8707  高匿  https  中国  浙江省台州市  电信  0.869 秒   \n18   61.140.28.228  8523  高匿  https  中国  广东省广州市  电信  1.979 秒   \n19     60.188.1.27  8567  高匿  https  中国  浙江省台州市  电信  1.049 秒   \n\n                 最后验证时间  \n0   2020-05-20 22:32:23  \n1   2020-05-20 22:32:23  \n2   2020-05-20 22:32:23  \n3   2020-05-20 22:32:23  \n4   2020-05-20 22:32:23  \n5   2020-05-20 22:32:23  \n6   2020-05-20 22:32:23  \n7   2020-05-20 22:32:23  \n8   2020-05-20 22:32:23  \n9   2020-05-20 22:32:23  \n10  2020-05-20 22:32:23  \n11  2020-05-20 22:32:23  \n12  2020-05-20 22:32:23  \n13  2020-05-20 22:32:23  \n14  2020-05-20 22:32:23  \n15  2020-05-20 22:32:23  \n16  2020-05-20 22:32:23  \n17  2020-05-20 22:32:23  \n18  2020-05-20 22:32:23  \n19  2020-05-20 22:32:23  ",
      "text/html": "<div>\n<style scoped>\n    .dataframe tbody tr th:only-of-type {\n        vertical-align: middle;\n    }\n\n    .dataframe tbody tr th {\n        vertical-align: top;\n    }\n\n    .dataframe thead th {\n        text-align: right;\n    }\n</style>\n<table border=\"1\" class=\"dataframe\">\n  <thead>\n    <tr style=\"text-align: right;\">\n      <th></th>\n      <th>IP</th>\n      <th>端口</th>\n      <th>匿名度</th>\n      <th>类型</th>\n      <th>国家</th>\n      <th>省市</th>\n      <th>运营商</th>\n      <th>响应速度</th>\n      <th>最后验证时间</th>\n    </tr>\n  </thead>\n  <tbody>\n    <tr>\n      <th>0</th>\n      <td>60.179.201.207</td>\n      <td>8949</td>\n      <td>高匿</td>\n      <td>https</td>\n      <td>中国</td>\n      <td>浙江省宁波市</td>\n      <td>电信</td>\n      <td>0.28 秒</td>\n      <td>2020-05-20 22:32:23</td>\n    </tr>\n    <tr>\n      <th>1</th>\n      <td>60.179.200.202</td>\n      <td>8486</td>\n      <td>高匿</td>\n      <td>https</td>\n      <td>中国</td>\n      <td>浙江省宁波市</td>\n      <td>电信</td>\n      <td>0.515 秒</td>\n      <td>2020-05-20 22:32:23</td>\n    </tr>\n    <tr>\n      <th>2</th>\n      <td>60.184.110.80</td>\n      <td>8426</td>\n      <td>高匿</td>\n      <td>https</td>\n      <td>中国</td>\n      <td>浙江省丽水市</td>\n      <td>电信</td>\n      <td>0.299 秒</td>\n      <td>2020-05-20 22:32:23</td>\n    </tr>\n    <tr>\n      <th>3</th>\n      <td>60.184.205.85</td>\n      <td>8101</td>\n      <td>高匿</td>\n      <td>https</td>\n      <td>中国</td>\n      <td>浙江省丽水市</td>\n      <td>电信</td>\n      <td>0.286 秒</td>\n      <td>2020-05-20 22:32:23</td>\n    </tr>\n    <tr>\n      <th>4</th>\n      <td>60.188.16.15</td>\n      <td>8491</td>\n      <td>高匿</td>\n      <td>https</td>\n      <td>中国</td>\n      <td>浙江省台州市</td>\n      <td>电信</td>\n      <td>0.187 秒</td>\n      <td>2020-05-20 22:32:23</td>\n    </tr>\n    <tr>\n      <th>5</th>\n      <td>113.194.28.99</td>\n      <td>8092</td>\n      <td>透明</td>\n      <td>https</td>\n      <td>中国</td>\n      <td>江西省新余市</td>\n      <td>联通</td>\n      <td>0.689 秒</td>\n      <td>2020-05-20 22:32:23</td>\n    </tr>\n    <tr>\n      <th>6</th>\n      <td>60.188.66.158</td>\n      <td>8480</td>\n      <td>高匿</td>\n      <td>https</td>\n      <td>中国</td>\n      <td>浙江省台州市</td>\n      <td>电信</td>\n      <td>0.118 秒</td>\n      <td>2020-05-20 22:32:23</td>\n    </tr>\n    <tr>\n      <th>7</th>\n      <td>58.253.155.11</td>\n      <td>8833</td>\n      <td>高匿</td>\n      <td>https</td>\n      <td>中国</td>\n      <td>广东省揭阳市</td>\n      <td>联通</td>\n      <td>2.642 秒</td>\n      <td>2020-05-20 22:32:23</td>\n    </tr>\n    <tr>\n      <th>8</th>\n      <td>60.188.9.91</td>\n      <td>8261</td>\n      <td>高匿</td>\n      <td>https</td>\n      <td>中国</td>\n      <td>浙江省台州市</td>\n      <td>电信</td>\n      <td>2.512 秒</td>\n      <td>2020-05-20 22:32:23</td>\n    </tr>\n    <tr>\n      <th>9</th>\n      <td>60.188.19.174</td>\n      <td>8394</td>\n      <td>高匿</td>\n      <td>https</td>\n      <td>中国</td>\n      <td>浙江省台州市</td>\n      <td>电信</td>\n      <td>0.122 秒</td>\n      <td>2020-05-20 22:32:23</td>\n    </tr>\n    <tr>\n      <th>10</th>\n      <td>113.121.92.113</td>\n      <td>8467</td>\n      <td>透明</td>\n      <td>https</td>\n      <td>中国</td>\n      <td>山东省淄博市</td>\n      <td>电信</td>\n      <td>1.482 秒</td>\n      <td>2020-05-20 22:32:23</td>\n    </tr>\n    <tr>\n      <th>11</th>\n      <td>60.188.11.226</td>\n      <td>8853</td>\n      <td>高匿</td>\n      <td>https</td>\n      <td>中国</td>\n      <td>浙江省台州市</td>\n      <td>电信</td>\n      <td>2.719 秒</td>\n      <td>2020-05-20 22:32:23</td>\n    </tr>\n    <tr>\n      <th>12</th>\n      <td>60.188.2.46</td>\n      <td>8449</td>\n      <td>高匿</td>\n      <td>http</td>\n      <td>中国</td>\n      <td>浙江省台州市</td>\n      <td>电信</td>\n      <td>0.948 秒</td>\n      <td>2020-05-20 22:32:23</td>\n    </tr>\n    <tr>\n      <th>13</th>\n      <td>58.218.25.244</td>\n      <td>9000</td>\n      <td>高匿</td>\n      <td>http</td>\n      <td>中国</td>\n      <td>江苏省徐州市</td>\n      <td>电信</td>\n      <td>2.917 秒</td>\n      <td>2020-05-20 22:32:23</td>\n    </tr>\n    <tr>\n      <th>14</th>\n      <td>110.243.16.20</td>\n      <td>8204</td>\n      <td>高匿</td>\n      <td>http</td>\n      <td>中国</td>\n      <td>河北省唐山市</td>\n      <td>联通</td>\n      <td>0.237 秒</td>\n      <td>2020-05-20 22:32:23</td>\n    </tr>\n    <tr>\n      <th>15</th>\n      <td>36.249.109.59</td>\n      <td>8249</td>\n      <td>透明</td>\n      <td>https</td>\n      <td>中国</td>\n      <td>福建省泉州市</td>\n      <td>联通</td>\n      <td>0.478 秒</td>\n      <td>2020-05-20 22:32:23</td>\n    </tr>\n    <tr>\n      <th>16</th>\n      <td>110.243.4.112</td>\n      <td>8264</td>\n      <td>透明</td>\n      <td>https</td>\n      <td>中国</td>\n      <td>河北省唐山市</td>\n      <td>联通</td>\n      <td>0.146 秒</td>\n      <td>2020-05-20 22:32:23</td>\n    </tr>\n    <tr>\n      <th>17</th>\n      <td>60.188.17.23</td>\n      <td>8707</td>\n      <td>高匿</td>\n      <td>https</td>\n      <td>中国</td>\n      <td>浙江省台州市</td>\n      <td>电信</td>\n      <td>0.869 秒</td>\n      <td>2020-05-20 22:32:23</td>\n    </tr>\n    <tr>\n      <th>18</th>\n      <td>61.140.28.228</td>\n      <td>8523</td>\n      <td>高匿</td>\n      <td>https</td>\n      <td>中国</td>\n      <td>广东省广州市</td>\n      <td>电信</td>\n      <td>1.979 秒</td>\n      <td>2020-05-20 22:32:23</td>\n    </tr>\n    <tr>\n      <th>19</th>\n      <td>60.188.1.27</td>\n      <td>8567</td>\n      <td>高匿</td>\n      <td>https</td>\n      <td>中国</td>\n      <td>浙江省台州市</td>\n      <td>电信</td>\n      <td>1.049 秒</td>\n      <td>2020-05-20 22:32:23</td>\n    </tr>\n  </tbody>\n</table>\n</div>"
     },
     "metadata": {},
     "execution_count": 11
    }
   ],
   "source": [
    "import requests\n",
    "import lxml.etree as le\n",
    "import numpy as np\n",
    "import pandas as pd\n",
    "\n",
    "cookies = {\n",
    "    'JSESSIONID': '140F54F9431C1B048D7AC04C2D874FEC',\n",
    "    'Hm_lvt_0fa5c2184fd909a9a6978e277894d7b9': '1592293390',\n",
    "    'Qs_lvt_104358': '1592293389',\n",
    "    'Hm_lpvt_0fa5c2184fd909a9a6978e277894d7b9': '1592293573',\n",
    "    'Qs_pv_104358': '859547739361676300%2C2145508288462274300%2C2469952926759644700%2C1608215205049594400%2C2046420285580857000',\n",
    "}\n",
    "\n",
    "headers = {\n",
    "    'Connection': 'keep-alive',\n",
    "    'Cache-Control': 'max-age=0',\n",
    "    'Upgrade-Insecure-Requests': '1',\n",
    "    'User-Agent': 'Mozilla/5.0 (Macintosh; Intel Mac OS X 10_15_4) AppleWebKit/537.36 (KHTML, like Gecko) Chrome/83.0.4103.97 Safari/537.36',\n",
    "    'Accept': 'text/html,application/xhtml+xml,application/xml;q=0.9,image/webp,image/apng,*/*;q=0.8,application/signed-exchange;v=b3;q=0.9',\n",
    "    'Accept-Language': 'zh-CN,zh;q=0.9,en-US;q=0.8,en;q=0.7',\n",
    "}\n",
    "\n",
    "response = requests.get('http://www.data5u.com/', headers=headers, cookies=cookies, verify=False)\n",
    "selector = le.HTML(response.text)\n",
    "infos = selector.xpath(\"//span/li/text()\")\n",
    "index=infos[:9]\n",
    "newinfos = infos[9:]\n",
    "num1 = int(len(newinfos)/len(index))\n",
    "np1 = np.array(newinfos).reshape(num1,9)\n",
    "tb = pd.DataFrame(np1)\n",
    "tb.columns = index\n",
    "print(tb.shape)\n",
    "tb.to_csv('0011.csv')\n",
    "tb"
   ]
  },
  {
   "cell_type": "markdown",
   "metadata": {},
   "source": [
    "## 未完成"
   ]
  },
  {
   "cell_type": "markdown",
   "metadata": {},
   "source": [
    "import requests\n",
    "\n",
    "cookies = {\n",
    "    'JSESSIONID': '140F54F9431C1B048D7AC04C2D874FEC',\n",
    "    'Hm_lvt_0fa5c2184fd909a9a6978e277894d7b9': '1592293390',\n",
    "    'Qs_lvt_104358': '1592293389',\n",
    "    'Hm_lpvt_0fa5c2184fd909a9a6978e277894d7b9': '1592293573',\n",
    "    'Qs_pv_104358': '859547739361676300%2C2145508288462274300%2C2469952926759644700%2C1608215205049594400%2C2046420285580857000',\n",
    "}\n",
    "\n",
    "headers = {\n",
    "    'Connection': 'keep-alive',\n",
    "    'Cache-Control': 'max-age=0',\n",
    "    'Upgrade-Insecure-Requests': '1',\n",
    "    'User-Agent': 'Mozilla/5.0 (Macintosh; Intel Mac OS X 10_15_4) AppleWebKit/537.36 (KHTML, like Gecko) Chrome/83.0.4103.97 Safari/537.36',\n",
    "    'Accept': 'text/html,application/xhtml+xml,application/xml;q=0.9,image/webp,image/apng,*/*;q=0.8,application/signed-exchange;v=b3;q=0.9',\n",
    "    'Accept-Language': 'zh-CN,zh;q=0.9,en-US;q=0.8,en;q=0.7',\n",
    "}\n",
    "\n",
    "response = requests.get('http://www.data5u.com/', headers=headers, cookies=cookies, verify=False)\n",
    "response.text"
   ]
  },
  {
   "cell_type": "markdown",
   "metadata": {},
   "source": [
    "requests.get(\"http://www.data5u.com/theme/data5u/javascript/pde.js?v=1.0\",headers=headers).text"
   ]
  },
  {
   "cell_type": "markdown",
   "metadata": {},
   "source": [
    "requests.get(\"http://www.data5u.com/theme/data5u/javascript/SmoothScroll.min.js\",headers=headers).text"
   ]
  },
  {
   "cell_type": "code",
   "execution_count": 15,
   "metadata": {},
   "outputs": [],
   "source": [
    "f = open(\"/Users/manmanzhang/Downloads/目标跟踪/原始tracking.pdf\",\"rb\").readlines()"
   ]
  },
  {
   "cell_type": "code",
   "execution_count": 34,
   "metadata": {
    "tags": []
   },
   "outputs": [
    {
     "output_type": "stream",
     "name": "stdout",
     "text": "'bytes' object has no attribute 'readline'\n'bytes' object has no attribute 'readline'\n'bytes' object has no attribute 'readline'\n'bytes' object has no attribute 'readline'\n'bytes' object has no attribute 'readline'\n'bytes' object has no attribute 'readline'\n'bytes' object has no attribute 'readline'\n'bytes' object has no attribute 'readline'\n'bytes' object has no attribute 'readline'\n'bytes' object has no attribute 'readline'\n'bytes' object has no attribute 'readline'\n'bytes' object has no attribute 'readline'\n'bytes' object has no attribute 'readline'\n'bytes' object has no attribute 'readline'\n'bytes' object has no attribute 'readline'\n'bytes' object has no attribute 'readline'\n'bytes' object has no attribute 'readline'\n'bytes' object has no attribute 'readline'\n'bytes' object has no attribute 'readline'\n'bytes' object has no attribute 'readline'\n'bytes' object has no attribute 'readline'\n'bytes' object has no attribute 'readline'\n'bytes' object has no attribute 'readline'\n'bytes' object has no attribute 'readline'\n'bytes' object has no attribute 'readline'\n'bytes' object has no attribute 'readline'\n'bytes' object has no attribute 'readline'\n'bytes' object has no attribute 'readline'\n'bytes' object has no attribute 'readline'\n'bytes' object has no attribute 'readline'\n'bytes' object has no attribute 'readline'\n'bytes' object has no attribute 'readline'\n'bytes' object has no attribute 'readline'\n'bytes' object has no attribute 'readline'\n'bytes' object has no attribute 'readline'\n'bytes' object has no attribute 'readline'\n'bytes' object has no attribute 'readline'\n'bytes' object has no attribute 'readline'\n'bytes' object has no attribute 'readline'\n'bytes' object has no attribute 'readline'\n'bytes' object has no attribute 'readline'\n'bytes' object has no attribute 'readline'\n'bytes' object has no attribute 'readline'\n'bytes' object has no attribute 'readline'\n'bytes' object has no attribute 'readline'\n'bytes' object has no attribute 'readline'\n'bytes' object has no attribute 'readline'\n'bytes' object has no attribute 'readline'\n'bytes' object has no attribute 'readline'\n'bytes' object has no attribute 'readline'\n'bytes' object has no attribute 'readline'\n'bytes' object has no attribute 'readline'\n'bytes' object has no attribute 'readline'\n'bytes' object has no attribute 'readline'\n'bytes' object has no attribute 'readline'\n'bytes' object has no attribute 'readline'\n'bytes' object has no attribute 'readline'\n'bytes' object has no attribute 'readline'\n'bytes' object has no attribute 'readline'\n'bytes' object has no attribute 'readline'\n'bytes' object has no attribute 'readline'\n'bytes' object has no attribute 'readline'\n'bytes' object has no attribute 'readline'\n'bytes' object has no attribute 'readline'\n'bytes' object has no attribute 'readline'\n'bytes' object has no attribute 'readline'\n'bytes' object has no attribute 'readline'\n'bytes' object has no attribute 'readline'\n'bytes' object has no attribute 'readline'\n'bytes' object has no attribute 'readline'\n'bytes' object has no attribute 'readline'\n'bytes' object has no attribute 'readline'\n'bytes' object has no attribute 'readline'\n'bytes' object has no attribute 'readline'\n'bytes' object has no attribute 'readline'\n'bytes' object has no attribute 'readline'\n'bytes' object has no attribute 'readline'\n'bytes' object has no attribute 'readline'\n'bytes' object has no attribute 'readline'\n'bytes' object has no attribute 'readline'\n'bytes' object has no attribute 'readline'\n'bytes' object has no attribute 'readline'\n'bytes' object has no attribute 'readline'\n'bytes' object has no attribute 'readline'\n'bytes' object has no attribute 'readline'\n'bytes' object has no attribute 'readline'\n'bytes' object has no attribute 'readline'\n'bytes' object has no attribute 'readline'\n'bytes' object has no attribute 'readline'\n'bytes' object has no attribute 'readline'\n'bytes' object has no attribute 'readline'\n'bytes' object has no attribute 'readline'\n'bytes' object has no attribute 'readline'\n'bytes' object has no attribute 'readline'\n'bytes' object has no attribute 'readline'\n'bytes' object has no attribute 'readline'\n'bytes' object has no attribute 'readline'\n'bytes' object has no attribute 'readline'\n'bytes' object has no attribute 'readline'\n'bytes' object has no attribute 'readline'\n'bytes' object has no attribute 'readline'\n'bytes' object has no attribute 'readline'\n'bytes' object has no attribute 'readline'\n'bytes' object has no attribute 'readline'\n'bytes' object has no attribute 'readline'\n'bytes' object has no attribute 'readline'\n'bytes' object has no attribute 'readline'\n'bytes' object has no attribute 'readline'\n'bytes' object has no attribute 'readline'\n'bytes' object has no attribute 'readline'\n'bytes' object has no attribute 'readline'\n'bytes' object has no attribute 'readline'\n'bytes' object has no attribute 'readline'\n'bytes' object has no attribute 'readline'\n'bytes' object has no attribute 'readline'\n'bytes' object has no attribute 'readline'\n'bytes' object has no attribute 'readline'\n'bytes' object has no attribute 'readline'\n'bytes' object has no attribute 'readline'\n'bytes' object has no attribute 'readline'\n'bytes' object has no attribute 'readline'\n'bytes' object has no attribute 'readline'\n'bytes' object has no attribute 'readline'\n'bytes' object has no attribute 'readline'\n'bytes' object has no attribute 'readline'\n'bytes' object has no attribute 'readline'\n'bytes' object has no attribute 'readline'\n'bytes' object has no attribute 'readline'\n'bytes' object has no attribute 'readline'\n'bytes' object has no attribute 'readline'\n'bytes' object has no attribute 'readline'\n'bytes' object has no attribute 'readline'\n'bytes' object has no attribute 'readline'\n'bytes' object has no attribute 'readline'\n'bytes' object has no attribute 'readline'\n'bytes' object has no attribute 'readline'\n'bytes' object has no attribute 'readline'\n'bytes' object has no attribute 'readline'\n'bytes' object has no attribute 'readline'\n'bytes' object has no attribute 'readline'\n'bytes' object has no attribute 'readline'\n'bytes' object has no attribute 'readline'\n'bytes' object has no attribute 'readline'\n'bytes' object has no attribute 'readline'\n'bytes' object has no attribute 'readline'\n'bytes' object has no attribute 'readline'\n'bytes' object has no attribute 'readline'\n'bytes' object has no attribute 'readline'\n'bytes' object has no attribute 'readline'\n'bytes' object has no attribute 'readline'\n'bytes' object has no attribute 'readline'\n'bytes' object has no attribute 'readline'\n'bytes' object has no attribute 'readline'\n'bytes' object has no attribute 'readline'\n'bytes' object has no attribute 'readline'\n'bytes' object has no attribute 'readline'\n'bytes' object has no attribute 'readline'\n'bytes' object has no attribute 'readline'\n'bytes' object has no attribute 'readline'\n'bytes' object has no attribute 'readline'\n'bytes' object has no attribute 'readline'\n'bytes' object has no attribute 'readline'\n'bytes' object has no attribute 'readline'\n'bytes' object has no attribute 'readline'\n"
    }
   ],
   "source": [
    "import chardet\n",
    "import base64\n",
    "for i in f[:5]:\n",
    "    for j in i:\n",
    "        try:\n",
    "            s = chardet.detect(i)\n",
    "            print(base64.decode(i,'utf-8'))#str(s['encoding'])),s)\n",
    "        except Exception as E:\n",
    "            print(E)"
   ]
  },
  {
   "cell_type": "code",
   "execution_count": null,
   "metadata": {},
   "outputs": [],
   "source": []
  }
 ],
 "metadata": {
  "language_info": {
   "codemirror_mode": {
    "name": "ipython",
    "version": 3
   },
   "file_extension": ".py",
   "mimetype": "text/x-python",
   "name": "python",
   "nbconvert_exporter": "python",
   "pygments_lexer": "ipython3",
   "version": "3.7.6-final"
  },
  "orig_nbformat": 2,
  "kernelspec": {
   "name": "python37464bitf10adaa3efab4e6fa8988dc159616146",
   "display_name": "Python 3.7.4 64-bit"
  }
 },
 "nbformat": 4,
 "nbformat_minor": 2
}