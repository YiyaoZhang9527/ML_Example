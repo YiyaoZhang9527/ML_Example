{
 "cells": [
  {
   "cell_type": "code",
   "execution_count": 1,
   "metadata": {},
   "outputs": [],
   "source": [
    "import os\n",
    "import sys"
   ]
  },
  {
   "cell_type": "code",
   "execution_count": 2,
   "metadata": {},
   "outputs": [
    {
     "data": {
      "text/plain": [
       "posix.DirEntry"
      ]
     },
     "execution_count": 2,
     "metadata": {},
     "output_type": "execute_result"
    }
   ],
   "source": [
    "os.DirEntry"
   ]
  },
  {
   "cell_type": "code",
   "execution_count": 3,
   "metadata": {},
   "outputs": [
    {
     "data": {
      "text/plain": [
       "'/home/manman/Documents/相互转移/InferenceSystem/src/I5_algorithm'"
      ]
     },
     "execution_count": 3,
     "metadata": {},
     "output_type": "execute_result"
    }
   ],
   "source": [
    "now = os.getcwd()\n",
    "now"
   ]
  },
  {
   "cell_type": "markdown",
   "metadata": {},
   "source": [
    "### 路径是否存在"
   ]
  },
  {
   "cell_type": "code",
   "execution_count": 4,
   "metadata": {},
   "outputs": [
    {
     "data": {
      "text/plain": [
       "True"
      ]
     },
     "execution_count": 4,
     "metadata": {},
     "output_type": "execute_result"
    }
   ],
   "source": [
    "os.access(os.getcwd(), os.F_OK)"
   ]
  },
  {
   "cell_type": "code",
   "execution_count": 5,
   "metadata": {},
   "outputs": [
    {
     "data": {
      "text/plain": [
       "True"
      ]
     },
     "execution_count": 5,
     "metadata": {},
     "output_type": "execute_result"
    }
   ],
   "source": [
    "os.access(os.getcwd(), os.R_OK)"
   ]
  },
  {
   "cell_type": "code",
   "execution_count": 6,
   "metadata": {},
   "outputs": [
    {
     "data": {
      "text/plain": [
       "False"
      ]
     },
     "execution_count": 6,
     "metadata": {},
     "output_type": "execute_result"
    }
   ],
   "source": [
    "import webbrowser as web\n",
    "h = '/Users/manmanzhang/Library/Mobile Documents/com~apple~CloudDocs/MyProject/InferenceSystem/src/I5_algorithm/bar3d_base.html'\n",
    "web.open('file://'+h)"
   ]
  },
  {
   "cell_type": "code",
   "execution_count": 7,
   "metadata": {},
   "outputs": [],
   "source": [
    "\n",
    "if (os.access(h, os.F_OK) and h[-5:]=='.html'):\n",
    "        web.open(os.path.abspath('file://'+h))\n",
    "else:\n",
    "    'can\\'t find file,please check you code '"
   ]
  },
  {
   "cell_type": "markdown",
   "metadata": {},
   "source": [
    "### 路径是否可写"
   ]
  },
  {
   "cell_type": "code",
   "execution_count": 8,
   "metadata": {},
   "outputs": [
    {
     "data": {
      "text/plain": [
       "True"
      ]
     },
     "execution_count": 8,
     "metadata": {},
     "output_type": "execute_result"
    }
   ],
   "source": [
    "os.access(os.getcwd(), os.W_OK)"
   ]
  },
  {
   "cell_type": "markdown",
   "metadata": {},
   "source": [
    "### 路径是否可执行"
   ]
  },
  {
   "cell_type": "code",
   "execution_count": 9,
   "metadata": {},
   "outputs": [
    {
     "data": {
      "text/plain": [
       "True"
      ]
     },
     "execution_count": 9,
     "metadata": {},
     "output_type": "execute_result"
    }
   ],
   "source": [
    "os.access(os.getcwd(),os.X_OK)"
   ]
  },
  {
   "cell_type": "markdown",
   "metadata": {},
   "source": [
    "### 改变当前目录路径"
   ]
  },
  {
   "cell_type": "code",
   "execution_count": 10,
   "metadata": {},
   "outputs": [
    {
     "name": "stdout",
     "output_type": "stream",
     "text": [
      "['lib64', 'usr', '.cache', 'run', 'boot', 'TRUSTED_PART', 'lib32', 'srv', 'vmlinuz.old', 'initrd.img', 'opt', 'tmp', 'dev', 'nonexistent', 'initrd.img.old', 'proc', 'etc', 'sbin', 'lib', 'mnt', 'var', 'root', 'home', 'data', 'recovery', 'media', 'bin', 'libx32', 'sys', 'lost+found', '.__deepin.db', 'vmlinuz']\n"
     ]
    },
    {
     "data": {
      "text/plain": [
       "'/home/manman/Documents/相互转移/InferenceSystem/src/I5_algorithm'"
      ]
     },
     "execution_count": 10,
     "metadata": {},
     "output_type": "execute_result"
    }
   ],
   "source": [
    "os.chdir(\"/\")\n",
    "print(os.listdir())\n",
    "os.chdir(now)\n",
    "os.getcwd()"
   ]
  },
  {
   "cell_type": "markdown",
   "metadata": {},
   "source": [
    "## chmod()方法语法格式如下：\n",
    "os.chmod(path, mode)\n",
    "\n",
    "### stat.S_IXOTH: 其他用户有执行权0o001\n",
    "### stat.S_IWOTH: 其他用户有写权限0o002\n",
    "### stat.S_IROTH: 其他用户有读权限0o004\n",
    "### stat.S_IRWXO: 其他用户有全部权限(权限掩码)0o007\n",
    "### stat.S_IXGRP: 组用户有执行权限0o010\n",
    "### stat.S_IWGRP: 组用户有写权限0o020\n",
    "### stat.S_IRGRP: 组用户有读权限0o040\n",
    "### stat.S_IRWXG: 组用户有全部权限(权限掩码)0o070\n",
    "### stat.S_IXUSR: 拥有者具有执行权限0o100\n",
    "### stat.S_IWUSR: 拥有者具有写权限0o200\n",
    "### stat.S_IRUSR: 拥有者具有读权限0o400\n",
    "### stat.S_IRWXU: 拥有者有全部权限(权限掩码)0o700\n",
    "### stat.S_ISVTX: 目录里文件目录只有拥有者才可删除更改0o1000\n",
    "### stat.S_ISGID: 执行此文件其进程有效组为文件所在组0o2000\n",
    "### stat.S_ISUID: 执行此文件其进程有效用户为文件所有者0o4000\n",
    "### stat.S_IREAD: windows下设为只读\n",
    "### stat.S_IWRITE: windows下取消只读\n"
   ]
  },
  {
   "cell_type": "code",
   "execution_count": 11,
   "metadata": {},
   "outputs": [
    {
     "ename": "FileNotFoundError",
     "evalue": "[Errno 2] No such file or directory: '/Users/manmanzhang/Library/Mobile Documents/com~apple~CloudDocs/MyProject/InferenceSystem/src/I4_models/class_web_crawler/os模块探索.ipynb'",
     "output_type": "error",
     "traceback": [
      "\u001b[0;31m---------------------------------------------------------------------------\u001b[0m",
      "\u001b[0;31mFileNotFoundError\u001b[0m                         Traceback (most recent call last)",
      "\u001b[0;32m<ipython-input-11-4c091f9386bb>\u001b[0m in \u001b[0;36m<module>\u001b[0;34m\u001b[0m\n\u001b[1;32m      2\u001b[0m \u001b[0;34m\u001b[0m\u001b[0m\n\u001b[1;32m      3\u001b[0m \u001b[0mpathstring\u001b[0m \u001b[0;34m=\u001b[0m \u001b[0;34m\"/Users/manmanzhang/Library/Mobile Documents/com~apple~CloudDocs/MyProject/InferenceSystem/src/I4_models/class_web_crawler/os模块探索.ipynb\"\u001b[0m\u001b[0;34m\u001b[0m\u001b[0;34m\u001b[0m\u001b[0m\n\u001b[0;32m----> 4\u001b[0;31m \u001b[0mos\u001b[0m\u001b[0;34m.\u001b[0m\u001b[0mchmod\u001b[0m\u001b[0;34m(\u001b[0m\u001b[0mpathstring\u001b[0m\u001b[0;34m,\u001b[0m \u001b[0mstat\u001b[0m\u001b[0;34m.\u001b[0m\u001b[0mS_IXGRP\u001b[0m\u001b[0;34m)\u001b[0m\u001b[0;34m\u001b[0m\u001b[0;34m\u001b[0m\u001b[0m\n\u001b[0m\u001b[1;32m      5\u001b[0m \u001b[0mos\u001b[0m\u001b[0;34m.\u001b[0m\u001b[0mchmod\u001b[0m\u001b[0;34m(\u001b[0m\u001b[0mpathstring\u001b[0m\u001b[0;34m,\u001b[0m\u001b[0mstat\u001b[0m\u001b[0;34m.\u001b[0m\u001b[0mS_IRWXU\u001b[0m\u001b[0;34m)\u001b[0m\u001b[0;34m\u001b[0m\u001b[0;34m\u001b[0m\u001b[0m\n",
      "\u001b[0;31mFileNotFoundError\u001b[0m: [Errno 2] No such file or directory: '/Users/manmanzhang/Library/Mobile Documents/com~apple~CloudDocs/MyProject/InferenceSystem/src/I4_models/class_web_crawler/os模块探索.ipynb'"
     ]
    }
   ],
   "source": [
    "import os, sys, stat\n",
    "\n",
    "pathstring = \"/Users/manmanzhang/Library/Mobile Documents/com~apple~CloudDocs/MyProject/InferenceSystem/src/I4_models/class_web_crawler/os模块探索.ipynb\"\n",
    "os.chmod(pathstring, stat.S_IXGRP)\n",
    "os.chmod(pathstring,stat.S_IRWXU)"
   ]
  },
  {
   "cell_type": "markdown",
   "metadata": {},
   "source": [
    "### os.openpty() 方法用于打开一个新的伪终端对。返回 pty 和 tty的文件描述符"
   ]
  },
  {
   "cell_type": "code",
   "execution_count": 93,
   "metadata": {},
   "outputs": [],
   "source": [
    "m,s = os.openpty()"
   ]
  },
  {
   "cell_type": "code",
   "execution_count": 94,
   "metadata": {},
   "outputs": [
    {
     "data": {
      "text/plain": [
       "'/dev/ttys010'"
      ]
     },
     "execution_count": 94,
     "metadata": {},
     "output_type": "execute_result"
    }
   ],
   "source": [
    "os.ttyname(s)"
   ]
  },
  {
   "cell_type": "code",
   "execution_count": 95,
   "metadata": {},
   "outputs": [
    {
     "ename": "SyntaxError",
     "evalue": "invalid syntax (<ipython-input-95-3caafc2d7ca8>, line 4)",
     "output_type": "error",
     "traceback": [
      "\u001b[0;36m  File \u001b[0;32m\"<ipython-input-95-3caafc2d7ca8>\"\u001b[0;36m, line \u001b[0;32m4\u001b[0m\n\u001b[0;31m    elif 'os模块探索.ipynb' not in os.getcwd():\u001b[0m\n\u001b[0m       ^\u001b[0m\n\u001b[0;31mSyntaxError\u001b[0m\u001b[0;31m:\u001b[0m invalid syntax\n"
     ]
    }
   ],
   "source": [
    "def testRename():\n",
    "    if 'os模块探索.ipynb' in os.getcwd():\n",
    "        os.rename('os模块探索.ipynb', 'os模块探索1.ipynb'\n",
    "    elif 'os模块探索.ipynb' not in os.getcwd():\n",
    "        os.rename('os模块探索.ipynb1', 'os模块探索.ipynb')\n",
    "testRename()  "
   ]
  },
  {
   "cell_type": "code",
   "execution_count": 96,
   "metadata": {},
   "outputs": [
    {
     "data": {
      "text/plain": [
       "['class_xinan.py',\n",
       " 'map_globe_base.html',\n",
       " 'analysis_google_map.html',\n",
       " 'datafromwiki2020-04-01-23-58-47.html',\n",
       " '世界疫情看板.ipynb',\n",
       " 'USATable.csv',\n",
       " '.DS_Store',\n",
       " 'wuhanoutbreakdatabase',\n",
       " 'attachment',\n",
       " 'news_of_this_world.csv',\n",
       " 'class_agouwang.py',\n",
       " 'class_Virus2019_nCoV.py',\n",
       " '__pycache__',\n",
       " '世界疫情词云图.npg',\n",
       " 'zhihu.csv',\n",
       " '疫情coder.ipynb',\n",
       " 'datafromgoogle2020-04-01-23-58-55.html',\n",
       " 'china_gdp_from_1993_to_2018.html',\n",
       " 'class_jongdong.py',\n",
       " 'Class_one_country.py',\n",
       " 'datafromwiki2020-04-01-23-58-55.html',\n",
       " 'calss_get_Photo_from_baidu.py',\n",
       " '花式地理看图实例.csv',\n",
       " '飞常淮航班数据验证爬虫www.variflight.com',\n",
       " 'test.html',\n",
       " 'pandas使用教程.ipynb',\n",
       " '未命名.ipynb',\n",
       " '花式地理看图实例.ipynb',\n",
       " '十六进制分析.ipynb',\n",
       " 'Urls_of_Virus2019_nCov.csv',\n",
       " '文字转矩阵.ipynb',\n",
       " '百度图片搜索',\n",
       " 'class_anjuke.py',\n",
       " 'log',\n",
       " 'map_world.npg',\n",
       " '世界疫情词云图.html',\n",
       " '.ipynb_checkpoints',\n",
       " 'render.html',\n",
       " 'PLOT_OF_MeanReversion',\n",
       " 'class_stock.py',\n",
       " 'class_word_table_for_virus2019_ncov.py',\n",
       " '世界疫情数据存储历史记录(来源：google，wiki，丁香医生)',\n",
       " 'class_city58.py',\n",
       " 'wuhan',\n",
       " 'class_A_nCoV_2019_for_world.py',\n",
       " 'lagoudatabase',\n",
       " 'os模块探索.ipynb',\n",
       " '中国gdp1993-2018.ipynb',\n",
       " 'class_VirusTrajectory.py',\n",
       " 'plot_file',\n",
       " 'map_world.html']"
      ]
     },
     "execution_count": 96,
     "metadata": {},
     "output_type": "execute_result"
    }
   ],
   "source": [
    "os.listdir()"
   ]
  },
  {
   "cell_type": "code",
   "execution_count": 97,
   "metadata": {},
   "outputs": [
    {
     "data": {
      "text/plain": [
       "False"
      ]
     },
     "execution_count": 97,
     "metadata": {},
     "output_type": "execute_result"
    }
   ],
   "source": [
    "os.path.isfile(os.getcwd())"
   ]
  },
  {
   "cell_type": "code",
   "execution_count": 98,
   "metadata": {},
   "outputs": [
    {
     "data": {
      "text/plain": [
       "{'PC_ALLOC_SIZE_MIN': 16,\n",
       " 'PC_ASYNC_IO': 17,\n",
       " 'PC_CHOWN_RESTRICTED': 7,\n",
       " 'PC_FILESIZEBITS': 18,\n",
       " 'PC_LINK_MAX': 1,\n",
       " 'PC_MAX_CANON': 2,\n",
       " 'PC_MAX_INPUT': 3,\n",
       " 'PC_NAME_MAX': 4,\n",
       " 'PC_NO_TRUNC': 8,\n",
       " 'PC_PATH_MAX': 5,\n",
       " 'PC_PIPE_BUF': 6,\n",
       " 'PC_PRIO_IO': 19,\n",
       " 'PC_REC_INCR_XFER_SIZE': 20,\n",
       " 'PC_REC_MAX_XFER_SIZE': 21,\n",
       " 'PC_REC_MIN_XFER_SIZE': 22,\n",
       " 'PC_REC_XFER_ALIGN': 23,\n",
       " 'PC_SYMLINK_MAX': 24,\n",
       " 'PC_SYNC_IO': 25,\n",
       " 'PC_VDISABLE': 9}"
      ]
     },
     "execution_count": 98,
     "metadata": {},
     "output_type": "execute_result"
    }
   ],
   "source": [
    "os.pathconf_names"
   ]
  },
  {
   "cell_type": "code",
   "execution_count": 99,
   "metadata": {},
   "outputs": [
    {
     "data": {
      "text/plain": [
       "0"
      ]
     },
     "execution_count": 99,
     "metadata": {},
     "output_type": "execute_result"
    }
   ],
   "source": [
    "os.system('htop')"
   ]
  },
  {
   "cell_type": "markdown",
   "metadata": {},
   "source": [
    "### abspath 返回目标地址"
   ]
  },
  {
   "cell_type": "code",
   "execution_count": 100,
   "metadata": {},
   "outputs": [
    {
     "data": {
      "text/plain": [
       "'/Users/manmanzhang/Library/Mobile Documents/com~apple~CloudDocs/MyProject/InferenceSystem/src/I4_models/class_web_crawler/chrome'"
      ]
     },
     "execution_count": 100,
     "metadata": {},
     "output_type": "execute_result"
    }
   ],
   "source": [
    "os.path.abspath('chrome')"
   ]
  },
  {
   "cell_type": "markdown",
   "metadata": {},
   "source": [
    "### realpath 返回的是 使用软链 的真实地址"
   ]
  },
  {
   "cell_type": "code",
   "execution_count": 101,
   "metadata": {},
   "outputs": [
    {
     "data": {
      "text/plain": [
       "'/Users/manmanzhang/Library/Mobile Documents/com~apple~CloudDocs/MyProject/InferenceSystem/src/I4_models/class_web_crawler/chrome'"
      ]
     },
     "execution_count": 101,
     "metadata": {},
     "output_type": "execute_result"
    }
   ],
   "source": [
    "os.path.realpath('chrome')"
   ]
  },
  {
   "cell_type": "markdown",
   "metadata": {},
   "source": [
    "# 1 查找指定文件格式文件1 查找指定文件格式文件"
   ]
  },
  {
   "cell_type": "code",
   "execution_count": 3,
   "metadata": {
    "tags": []
   },
   "outputs": [
    {
     "name": "stdout",
     "output_type": "stream",
     "text": [
      "ShadowsocksX-NG-R8.dmg\n",
      "pycharm IDE 的激活码，全家桶装.txt\n",
      "2020-05-10-074325163.mp4\n",
      "t(1).csv\n",
      "size002.dta\n",
      "Untitled7.ipynb\n",
      "6BDA3A341CFB6FBA45574778D30A6CBC.png\n",
      "Visual Studio Code.app\n",
      "test_requests_and_Xpath.py\n",
      "2_平安产险数据平台招聘外包测试开发.txt\n",
      "adult.data\n",
      "深入浅出强化学习 原理入门+源代码\n",
      "58scrpy.py\n",
      "house-renting-master\n",
      "리니지2M(12)-1.0.5.apk.qqdownload\n",
      "message (1).txt\n",
      "TapTap-2.2.2_x(1).apk.qqdownload\n",
      "pydata-book-2nd-edition.zip\n",
      "OSRS\n",
      "runescape-2\n",
      "pycaret\n",
      "国家职业资格证书全国联网查询 副本.pdf\n",
      "张晶.docx\n",
      "pycaret-setup.png\n",
      "深度学习框架PyTorch：入门与实践 高清.rar\n",
      "calendar_detail.zip\n",
      "anjuke_from_juejin.py\n",
      "andrew_ml_ex14179\n",
      "399.png\n",
      "%E6%BF%80%E6%B4%BB%E7%A0%81.txt\n",
      ".DS_Store\n",
      "manman\n",
      "附件3.xlsx\n",
      "messageCounter.txt\n",
      "15.时间序列预测（LSTM模型）python代码实现.zip\n",
      "走路测试2.txt\n",
      "2012.李航.统计学习方法.pdf\n",
      "testjupyterfromVScode.ipynb\n",
      "Untitled-1.ipynb\n",
      "chromedriver-2\n",
      "网络结构.txt\n",
      "calendar_detail.csv\n",
      "初试成绩0527.xlsx\n",
      "分词.py\n",
      "amazon.csv\n",
      "Python\n",
      "chromedriver_mac64.zip\n",
      "Q_learning.rar\n",
      ".localized\n",
      "example_xinan.html\n",
      "e44eabae37c85215b033af1681e9b2d7-2.dbts\n",
      "Battle.net-Setup-CN.app\n",
      "IMG_8328068AF911-1.jpeg\n",
      "IMG_F4936ADF0223-1.jpeg\n",
      "主成分分析PCA和奇异值分解SVD.docx\n",
      "turbo_vpn_v2.5.5_free.vpn.unblock.proxy.turbovpn.apk\n",
      "深入浅出强化学习 原理入门+源代码.zip\n",
      "Shen Ru Qian Chu Qiang Hua Xue - Guo Xian.mobi\n",
      "chromedriver 3\n",
      "Fang_Scrapy-master\n",
      "session_1577151116.doc\n",
      "testset 2.csv\n",
      "未确认 794915.crdownload\n",
      "数据挖掘与分析PDF.zip\n",
      ".~爱奇艺网播量采集-0.xlsx\n",
      "SSR_1589680871.txt\n",
      "IMG_3FECE0B9FC4A-1.jpeg\n",
      "testA\n",
      "mysql cluster.pdf\n",
      "tutoria.log\n",
      "123.log\n",
      "delhi-weather-data\n",
      "Q_learning\n",
      "pip3清单\n",
      "anydesk-5.5.1-amd64.tar.gz\n",
      "ShadowsocksR-3.9.7.apk.qqdownload\n",
      "clojuretestlang.clj\n",
      "MicrosoftEdge-81.0.416.68.pkg.download\n",
      "ShadowsocksX-NG.1.9.4.dmg-2.download\n",
      "演示文稿 .xlsx\n",
      "舆情日报20200122.pdf\n",
      "全国疫情地理信息看板.html\n",
      "chromedriver 2\n",
      "csv.dms\n",
      "neighbourhoods.csv\n",
      "HttpCanary-3.1.6.apk.qqdownload\n",
      "15.时间序列预测（LSTM模型）python代码实现\n",
      "pip_install.log\n",
      "付老师数学讨论2020.txt\n",
      "IMG_0111.jpg\n",
      ".~初试成绩0527.xlsx\n",
      "xDroidInstall-x86_64-v3.0003-beta1.tar.gz.qqdownload\n",
      "local_web_page.py\n",
      "张晶（分析:算法）.docx\n",
      "NemuInstaller-1.8.8.dmg\n",
      "韩国ssr.txt\n",
      "企业名称.xlsx\n",
      "new.csv\n",
      "自动爬虫\n",
      "3xuppp3tsxqpbz2_1585808456.csv\n",
      "p.gif\n",
      "lis.py的替身\n",
      "cnki_crawler.zip\n",
      "fnew.py\n",
      "白话大数据和深度学习_2018最新版\n",
      "python-3.8.0b1-macosx10.9.pkg\n",
      "aaaaaa.txt\n",
      "e44eabae37c85215b033af1681e9b2d7.dbts\n",
      "古今数学思想(全四册).pdf\n",
      "全国疫情看板.slides.html\n",
      "一个基于Scrapy的爬虫实现租房信息聚合分析.zip\n",
      "周志华-机器学习_.pdf\n",
      "testcase.ex\n",
      "反证疑点.txt\n",
      "IMG_A6155806F12D-1.jpeg\n",
      "word2vec_sample.zip\n",
      "runescape-master-2\n",
      "深度学习框架PyTorch：入门与实践 高清\n",
      "listings_detail.zip\n",
      "RS_DATA_SET\n",
      "未命名文件夹\n",
      "onekeyvip.user.js\n",
      "抓包文件\n",
      "未命名2.rtf\n",
      "社工库set\n",
      "NewNetWorkCalss.zip\n",
      "花名册-合心人力2019年花名册(4).xlsx\n",
      "未命名.png\n",
      "smjrjkf_33904\n",
      "mix20_rand700_tokens_cleaned.zip\n",
      "张晶.xlsx\n",
      "Untitled-1.ex\n",
      "codesneedchangeLogs_end.text\n",
      "ShadowsocksX-NG.1.9.4.dmg.download\n",
      "my_sys_page.py\n",
      "%E6%BF%80%E6%B4%BB%E7%A0%8128.txt\n",
      "Android Studio+xDroid配置指南.doc\n",
      "Python必知英文单词整理.pdf\n",
      "QQ截图20200611112530.jpg\n",
      "武汉.py\n",
      "ClassNetWorkInD.zip\n",
      "shadowss.png\n",
      "analysiscode.code-workspace\n",
      "IMG_CDFE5E4AF4F4-1.jpeg\n",
      "pytorch-04-doc.pdf\n",
      "pip_V.log\n",
      "岗位推荐算法实现.py\n",
      "message.txt\n",
      "리니지2M-1.0.5.apk.qqdownloa.textClipping\n",
      "12_3_03.log\n",
      "张晶简历【BOSS直聘】-2.docx\n",
      "《神经网络与深度学习》.pdf\n",
      "new_1.csv\n",
      "ziroom_realtime_spider-master\n",
      "2_字符串 Parse_进阶.pdf\n",
      "weather.csv\n",
      "贝叶斯学习，深度学习.pdf\n",
      "paths.dms\n",
      "download_from_web\n",
      "fontawesome-webfont.ttf\n",
      "Logistic_Regression.py\n",
      "리니지2M(12)-1.0.5(1).apk.qqdownload\n",
      "FireShot\n",
      "白话大数据和深度学习_2018最新版.zip\n",
      "andrew_ml_ex14179.zip\n",
      "cnki_crawler\n",
      "走路相反方向.txt\n",
      "爱奇艺网播量采集-0.xlsx\n",
      "Monster.txt\n",
      "12_3_03.csv\n",
      "f.py\n",
      "项目代码统计.csv\n",
      "quickSearch.ex\n",
      "1.txt\n",
      "项目代码统计.xlsx\n",
      "COMP2420-FE-3 - Jupyter Notebook.pdf\n",
      "IMG_7C816A187586-1.jpeg\n",
      "写到准备打包的时候修改这个文件后PIP安装.py\n",
      ".ipynb_checkpoints\n",
      "全国疫情看板.html\n",
      "11111112.doc\n",
      "formulahendry.code-runner-0.9.14.vsix\n",
      "te.csv\n",
      "走路相反方向1.csv\n",
      "MuMuInstaller_2.0.0.0_sogou_zh-Hans_1579081643.exe.download\n",
      "new1.csv\n",
      "fontawesome-webfont.woff\n",
      "张晶简历.docx\n",
      "chromedriver\n",
      "中国宏观经济数据库-年度数据（分省市）.xls\n",
      "DecodeVeriy58.py\n",
      "白话统计学（第3版）\n",
      "sou\n",
      "filename1.log\n",
      "algo.qq.com_641013010_testa.zip\n",
      "final-cut-pro.html\n",
      "xinanguize 2.txt\n",
      "豆瓣电影数据集(2019.3)\n",
      "A69F39144E4F1C9E46BCFAAAD5F0D9F0.png\n",
      "testset.csv\n",
      "xinanguize.txt\n",
      "session_1577156111.dms\n",
      "Python机器学习算法.pdf\n",
      "filename.log\n",
      "豆瓣电影数据集(2019.3).rar\n",
      "mix20_rand700_tokens_cleaned\n",
      "走路相反方向2.csv\n",
      ".f.py.swp\n",
      "lm2项目历史\n",
      "机器学习实战进阶：泰坦尼克号乘客获救预测.ipynb\n",
      "12_26_01.log\n",
      "newtestcase.py\n",
      "Machine-Learning\n",
      "2019sszsmlcksm.xls\n",
      "31302e3531343336363633343430393039332d323032302d30352d30352d31302e3536333138313335363833363835342d323032302d30352d30352d392e3930343333373139313439303730362d323032302d30352d30352d31302e3531323436343737303030393237352d323032302d30352d30352d\n",
      "v2rayNG-1.0.1(1).apk.qqdownload\n",
      "urlclass.py\n",
      "crawlie_example-master 2\n",
      "实用马尔可夫决策过程.pdf\n",
      "example-gui-config.json\n",
      "runescape(9).zip\n",
      "testgrep.txt\n",
      "张晶简历【BOSS直聘】.docx\n",
      "message (2).txt\n",
      "白话统计学（第3版）.rar\n",
      "imag1.png\n",
      "v2rayNG-1.0.1.apk.qqdownload\n",
      "mchar_data_list_0515.csv\n",
      "austin_weather.csv\n",
      "lm2-master-2.zip\n",
      "imag1.npz\n",
      "Chromium_OSX_47\n",
      "Nightcode-2.8.3-macos.jar.download\n",
      "Reinforcement Learning State-of-the-Art(Wiering M.A.).pdf\n",
      "NEWWUHAN.ipynb\n",
      "Elixir程序设计语言(1).pdf\n",
      "codechange\n",
      "search.ex\n",
      "padas_to_csv参数翻译.txt\n",
      "runescape-master\n",
      "delhi-weather-data.zip\n",
      "Cal-Process.txt\n"
     ]
    },
    {
     "data": {
      "text/plain": [
       "['国家职业资格证书全国联网查询 副本.pdf',\n",
       " '2012.李航.统计学习方法.pdf',\n",
       " 'mysql cluster.pdf',\n",
       " '舆情日报20200122.pdf',\n",
       " '古今数学思想(全四册).pdf',\n",
       " '周志华-机器学习_.pdf',\n",
       " 'Python必知英文单词整理.pdf',\n",
       " 'pytorch-04-doc.pdf',\n",
       " '《神经网络与深度学习》.pdf',\n",
       " '2_字符串 Parse_进阶.pdf',\n",
       " '贝叶斯学习，深度学习.pdf',\n",
       " 'COMP2420-FE-3 - Jupyter Notebook.pdf',\n",
       " 'Python机器学习算法.pdf',\n",
       " '实用马尔可夫决策过程.pdf',\n",
       " 'Reinforcement Learning State-of-the-Art(Wiering M.A.).pdf',\n",
       " 'Elixir程序设计语言(1).pdf']"
      ]
     },
     "execution_count": 3,
     "metadata": {},
     "output_type": "execute_result"
    }
   ],
   "source": [
    "import os\n",
    "\n",
    "def find_file(work_dir,extension='jpg'):\n",
    "    lst = []\n",
    "    for filename in os.listdir(work_dir):\n",
    "        print(filename)\n",
    "        splits = os.path.splitext(filename)\n",
    "        ext = splits[1] # 拿到扩展名\n",
    "        if ext == '.'+extension:\n",
    "            lst.append(filename)\n",
    "    return lst\n",
    "\n",
    "find_file('/Users/manmanzhang/Downloads/','pdf') # 返回所有目录下的md文件1 "
   ]
  },
  {
   "cell_type": "code",
   "execution_count": null,
   "metadata": {},
   "outputs": [],
   "source": []
  }
 ],
 "metadata": {
  "kernelspec": {
   "display_name": "Python 3",
   "language": "python",
   "name": "python3"
  },
  "language_info": {
   "codemirror_mode": {
    "name": "ipython",
    "version": 3
   },
   "file_extension": ".py",
   "mimetype": "text/x-python",
   "name": "python",
   "nbconvert_exporter": "python",
   "pygments_lexer": "ipython3",
   "version": "3.7.9"
  }
 },
 "nbformat": 4,
 "nbformat_minor": 4
}
