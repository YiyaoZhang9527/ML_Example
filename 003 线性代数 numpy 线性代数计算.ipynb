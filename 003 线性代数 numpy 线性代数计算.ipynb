{
 "cells": [
  {
   "cell_type": "code",
   "execution_count": 169,
   "metadata": {},
   "outputs": [],
   "source": [
    "import numpy as np"
   ]
  },
  {
   "cell_type": "markdown",
   "metadata": {},
   "source": [
    "## 一个单位矩阵"
   ]
  },
  {
   "cell_type": "code",
   "execution_count": 170,
   "metadata": {},
   "outputs": [
    {
     "output_type": "execute_result",
     "data": {
      "text/plain": "array([[1., 0., 0.],\n       [0., 1., 0.],\n       [0., 0., 1.]])"
     },
     "metadata": {},
     "execution_count": 170
    }
   ],
   "source": [
    "np.eye(3,3)"
   ]
  },
  {
   "cell_type": "markdown",
   "metadata": {},
   "source": [
    "字符串堆矩阵 "
   ]
  },
  {
   "cell_type": "code",
   "execution_count": 171,
   "metadata": {},
   "outputs": [
    {
     "output_type": "execute_result",
     "data": {
      "text/plain": "(matrix([[1., 0., 0., 3., 0., 0.],\n         [0., 1., 0., 0., 3., 0.],\n         [0., 0., 1., 0., 0., 3.],\n         [3., 0., 0., 1., 0., 0.],\n         [0., 3., 0., 0., 1., 0.],\n         [0., 0., 3., 0., 0., 1.],\n         [1., 0., 0., 3., 0., 0.],\n         [0., 1., 0., 0., 3., 0.],\n         [0., 0., 1., 0., 0., 3.]]),\n matrix([[1., 0., 0., 1., 0., 0., 3., 0., 0.],\n         [0., 1., 0., 0., 1., 0., 0., 3., 0.],\n         [0., 0., 1., 0., 0., 1., 0., 0., 3.],\n         [3., 0., 0., 1., 0., 0., 1., 0., 0.],\n         [0., 3., 0., 0., 1., 0., 0., 1., 0.],\n         [0., 0., 3., 0., 0., 1., 0., 0., 1.]]))"
     },
     "metadata": {},
     "execution_count": 171
    }
   ],
   "source": [
    "A = np.eye(3,3)\n",
    "B = A*3\n",
    "np.bmat(\"A B;B A;A,B\") ,np.bmat(\"A A B;B A A\")"
   ]
  },
  {
   "cell_type": "markdown",
   "metadata": {},
   "source": [
    "# 线性代数计算"
   ]
  },
  {
   "cell_type": "code",
   "execution_count": 173,
   "metadata": {},
   "outputs": [],
   "source": [
    "array , singular_matrix , vector , unit_vector , matrix  = np.arange(4) ,np.arange(16).reshape(4,4),np.arange(8).reshape(4,2),np.ones(4),np.random.rand(16).reshape(4,4)"
   ]
  },
  {
   "cell_type": "code",
   "execution_count": 174,
   "metadata": {},
   "outputs": [
    {
     "output_type": "execute_result",
     "data": {
      "text/plain": "{'数组': array([0, 1, 2, 3]),\n '奇异矩阵': array([[ 0,  1,  2,  3],\n        [ 4,  5,  6,  7],\n        [ 8,  9, 10, 11],\n        [12, 13, 14, 15]]),\n '向量': array([[0, 1],\n        [2, 3],\n        [4, 5],\n        [6, 7]]),\n '单位向量': array([1., 1., 1., 1.]),\n '矩阵': array([[0.9943217 , 0.71762737, 0.46451152, 0.74092439],\n        [0.98493955, 0.76376358, 0.48794644, 0.87681174],\n        [0.39382303, 0.8802659 , 0.21300662, 0.79369044],\n        [0.56529173, 0.76148177, 0.72583675, 0.56106503]])}"
     },
     "metadata": {},
     "execution_count": 174
    }
   ],
   "source": [
    "{\"数组\":array , \"奇异矩阵\":singular_matrix ,\"向量\":vector ,\"单位向量\" :unit_vector,\"矩阵\":matrix}"
   ]
  },
  {
   "cell_type": "markdown",
   "metadata": {},
   "source": [
    "### 数组点积 \n",
    "    a = np.array([[1,2],[3,4]]), \n",
    "    b = np.array([[11,12],[13,14]]);\n",
    "    np.dot(a,b)：\n",
    "    [[1*11+2*13, 1*12+2*14],[3*11+4*13, 3*12+4*14]]"
   ]
  },
  {
   "cell_type": "code",
   "execution_count": 175,
   "metadata": {},
   "outputs": [
    {
     "output_type": "execute_result",
     "data": {
      "text/plain": "array([[ 1,  3,  5],\n       [ 3, 13, 23],\n       [ 5, 23, 41]])"
     },
     "metadata": {},
     "execution_count": 175
    }
   ],
   "source": [
    "np.dot(np.array([[0, 1]\n",
    "                ,[2, 3]\n",
    "                ,[4, 5]]),np.array([[0, 1],[2, 3],[4, 5]]).T)"
   ]
  },
  {
   "cell_type": "code",
   "execution_count": 176,
   "metadata": {},
   "outputs": [
    {
     "output_type": "execute_result",
     "data": {
      "text/plain": "4.0"
     },
     "metadata": {},
     "execution_count": 176
    }
   ],
   "source": [
    "unit_vector.dot(unit_vector)"
   ]
  },
  {
   "cell_type": "code",
   "execution_count": 177,
   "metadata": {},
   "outputs": [
    {
     "output_type": "execute_result",
     "data": {
      "text/plain": "6.0"
     },
     "metadata": {},
     "execution_count": 177
    }
   ],
   "source": [
    "array.dot(unit_vector)"
   ]
  },
  {
   "cell_type": "markdown",
   "metadata": {},
   "source": [
    "### 两边对称乘，中间相同乘\n",
    "    [[0, 1]         [[0, 1]\n",
    "    ,[2, 3] =>T dot ,[2, 3]\n",
    "    ,[4, 5]]        ,[4, 5]]\n",
    "    [[0*0+2*2+4*4=20,1*0+3*2+5*4=26]\n",
    "    ,[0*1+2*3+4*5=26,1*1+3*3+5*5=35]]\n",
    "     [[0, 1]         [[0, 1]\n",
    "    ,[2, 3] =>T dot ,[2, 3]\n",
    "    ,[4, 5]]        ,[4, 5]]\n",
    "    [[1*1+0*0,1*3+1*2,1*5+1*4,]\n",
    "    ,[0*0+3*1,3*2+3*1,3*4]\n",
    "    ,[5*0,5*2,5*4]\n"
   ]
  },
  {
   "cell_type": "code",
   "execution_count": 178,
   "metadata": {},
   "outputs": [
    {
     "output_type": "execute_result",
     "data": {
      "text/plain": "array([[20, 26],\n       [26, 35]])"
     },
     "metadata": {},
     "execution_count": 178
    }
   ],
   "source": [
    "np.array([[0, 1]\n",
    "         ,[2, 3]\n",
    "         ,[4, 5]]).T.dot(np.array([[0, 1],[2, 3],[4, 5]]))"
   ]
  },
  {
   "cell_type": "code",
   "execution_count": 179,
   "metadata": {},
   "outputs": [
    {
     "output_type": "execute_result",
     "data": {
      "text/plain": "array([[20, 26],\n       [26, 35]])"
     },
     "metadata": {},
     "execution_count": 179
    }
   ],
   "source": [
    "np.array([[0*0+2*2+4*4,1*0+3*2+5*4],[0*1+2*3+4*5,1*1+3*3+5*5]])"
   ]
  },
  {
   "cell_type": "markdown",
   "metadata": {},
   "source": [
    "### 一个单位矩阵"
   ]
  },
  {
   "cell_type": "code",
   "execution_count": 180,
   "metadata": {},
   "outputs": [
    {
     "output_type": "execute_result",
     "data": {
      "text/plain": "array([[1, 0],\n       [0, 1]])"
     },
     "metadata": {},
     "execution_count": 180
    }
   ],
   "source": [
    "np.array([[1,0],[0,1]]).T.dot(np.array([[1,0],[0,1]]))"
   ]
  },
  {
   "cell_type": "markdown",
   "metadata": {},
   "source": [
    "### 向量点积\n",
    "    a = np.array([[1,2],[3,4]]) ,\n",
    "    b = np.array([[11,12],[13,14]]) ;\n",
    "    np.vdot(a,b)：1*11 + 2*12 + 3*13 + 4*14 = 130"
   ]
  },
  {
   "cell_type": "code",
   "execution_count": 181,
   "metadata": {},
   "outputs": [
    {
     "output_type": "execute_result",
     "data": {
      "text/plain": "140"
     },
     "metadata": {},
     "execution_count": 181
    }
   ],
   "source": [
    "np.vdot(vector,vector)"
   ]
  },
  {
   "cell_type": "markdown",
   "metadata": {},
   "source": [
    "### 数组内积/*乘"
   ]
  },
  {
   "cell_type": "code",
   "execution_count": 182,
   "metadata": {},
   "outputs": [
    {
     "output_type": "execute_result",
     "data": {
      "text/plain": "14"
     },
     "metadata": {},
     "execution_count": 182
    }
   ],
   "source": [
    "np.inner(array,array)"
   ]
  },
  {
   "cell_type": "code",
   "execution_count": 183,
   "metadata": {},
   "outputs": [
    {
     "output_type": "execute_result",
     "data": {
      "text/plain": "4.0"
     },
     "metadata": {},
     "execution_count": 183
    }
   ],
   "source": [
    "np.inner(unit_vector,unit_vector)"
   ]
  },
  {
   "cell_type": "code",
   "execution_count": 184,
   "metadata": {},
   "outputs": [
    {
     "output_type": "execute_result",
     "data": {
      "text/plain": "array([[56, 68],\n       [68, 84]])"
     },
     "metadata": {},
     "execution_count": 184
    }
   ],
   "source": [
    "np.matmul(vector.T,vector)"
   ]
  },
  {
   "cell_type": "markdown",
   "metadata": {},
   "source": [
    "### 矩阵积/矩阵乘法"
   ]
  },
  {
   "cell_type": "code",
   "execution_count": 216,
   "metadata": {},
   "outputs": [
    {
     "output_type": "execute_result",
     "data": {
      "text/plain": "array([[ 3.46846082,  4.80874071,  3.09146994,  4.1473877 ],\n       [15.22196489, 17.30129525, 10.65667529, 16.03735408],\n       [26.97546896, 29.79384979, 18.22188064, 27.92732046],\n       [38.72897303, 42.28640433, 25.78708599, 39.81728684]])"
     },
     "metadata": {},
     "execution_count": 216
    }
   ],
   "source": [
    "singular_matrix.dot(matrix)"
   ]
  },
  {
   "cell_type": "markdown",
   "metadata": {},
   "source": [
    "### 奇异值分解"
   ]
  },
  {
   "cell_type": "code",
   "execution_count": 219,
   "metadata": {},
   "outputs": [
    {
     "output_type": "execute_result",
     "data": {
      "text/plain": "{'U = ': array([[-0.09184212, -0.83160389,  0.53389888,  0.12227833],\n        [-0.31812733, -0.44586433, -0.80300606,  0.23490695],\n        [-0.54441254, -0.06012478,  0.00431548, -0.8366489 ],\n        [-0.77069775,  0.32561478,  0.2647917 ,  0.47946362]]),\n 'Sigma = ': array([3.51399637e+01, 2.27661021e+00, 1.79164689e-15, 9.84875082e-17]),\n 'V = ': array([[-0.42334086, -0.47243254, -0.52152422, -0.57061589],\n        [ 0.72165263,  0.27714165, -0.16736932, -0.6118803 ],\n        [-0.27207983,  0.71708979, -0.6179401 ,  0.17293014],\n        [ 0.47536572, -0.43102463, -0.5640479 ,  0.51970681]])}"
     },
     "metadata": {},
     "execution_count": 219
    }
   ],
   "source": [
    "U,Sigma,V = np.linalg.svd(singular_matrix,full_matrices=False)\n",
    "{\"U = \":U,\"Sigma = \":Sigma,\"V = \":V}"
   ]
  },
  {
   "cell_type": "code",
   "execution_count": 211,
   "metadata": {},
   "outputs": [
    {
     "output_type": "stream",
     "name": "stdout",
     "text": "----------------SVD奇异值分解---------------\nU = [[-0.9486833  -0.31622777]\n [-0.31622777  0.9486833 ]]\nsigma = [18.97366596  9.48683298]\nV = [[-0.33333333 -0.66666667 -0.66666667]\n [ 0.66666667  0.33333333 -0.66666667]]\n"
    }
   ],
   "source": [
    "print('----------------SVD奇异值分解---------------')\n",
    "Arr2 = np.mat(\"4 11 14;8 7 -2\")\n",
    "U,Sigma,V = np.linalg.svd(Arr2,full_matrices=False)\n",
    "print(\"U =\",U)\n",
    "print(\"sigma =\",Sigma)\n",
    "print(\"V =\",V)"
   ]
  },
  {
   "cell_type": "markdown",
   "metadata": {},
   "source": [
    "### 行列式\n",
    "### 求解线性方程"
   ]
  },
  {
   "cell_type": "code",
   "execution_count": 206,
   "metadata": {},
   "outputs": [
    {
     "output_type": "execute_result",
     "data": {
      "text/plain": "('矩阵行列式的计算(非奇异矩阵行列式不为0)：', 0.028289969500549295)"
     },
     "metadata": {},
     "execution_count": 206
    }
   ],
   "source": [
    "\"矩阵行列式的计算(非奇异矩阵行列式不为0)：\",np.linalg.det(matrix)"
   ]
  },
  {
   "cell_type": "code",
   "execution_count": 207,
   "metadata": {},
   "outputs": [
    {
     "output_type": "execute_result",
     "data": {
      "text/plain": "('矩阵行列式的计算奇(异矩阵的行列式为0)：', 0.0)"
     },
     "metadata": {},
     "execution_count": 207
    }
   ],
   "source": [
    "\"矩阵行列式的计算奇(异矩阵的行列式为0)：\",np.linalg.det(singular_matrix)"
   ]
  },
  {
   "cell_type": "code",
   "execution_count": 208,
   "metadata": {},
   "outputs": [
    {
     "output_type": "execute_result",
     "data": {
      "text/plain": "('一个典型的奇异矩阵行列式:', 0.0)"
     },
     "metadata": {},
     "execution_count": 208
    }
   ],
   "source": [
    "\"一个典型的奇异矩阵行列式:\",np.linalg.det([[1,0],[1,0]])"
   ]
  },
  {
   "cell_type": "markdown",
   "metadata": {},
   "source": [
    "### 求逆"
   ]
  },
  {
   "cell_type": "code",
   "execution_count": 189,
   "metadata": {},
   "outputs": [
    {
     "output_type": "execute_result",
     "data": {
      "text/plain": "array([[ 4.35483478, -2.7180004 , -0.48476915, -0.8175024 ],\n       [ 6.84109294, -7.97581383,  2.18211922,  0.34332459],\n       [-3.82743237,  3.28571415, -1.51516337,  2.06296217],\n       [-8.72096521,  9.31266013, -0.51303637, -0.52878332]])"
     },
     "metadata": {},
     "execution_count": 189
    }
   ],
   "source": [
    "np.linalg.inv(matrix)"
   ]
  },
  {
   "cell_type": "markdown",
   "metadata": {},
   "source": [
    "### 求伪逆运 "
   ]
  },
  {
   "cell_type": "code",
   "execution_count": 190,
   "metadata": {},
   "outputs": [
    {
     "output_type": "execute_result",
     "data": {
      "text/plain": "array([[-2.62500000e-01, -1.37500000e-01, -1.25000000e-02,\n         1.12500000e-01],\n       [-1.00000000e-01, -5.00000000e-02,  2.06320288e-17,\n         5.00000000e-02],\n       [ 6.25000000e-02,  3.75000000e-02,  1.25000000e-02,\n        -1.25000000e-02],\n       [ 2.25000000e-01,  1.25000000e-01,  2.50000000e-02,\n        -7.50000000e-02]])"
     },
     "metadata": {},
     "execution_count": 190
    }
   ],
   "source": [
    "np.linalg.pinv(singular_matrix)"
   ]
  },
  {
   "cell_type": "markdown",
   "metadata": {},
   "source": [
    "### 求单位矩阵\n",
    "非奇异矩阵求单位矩阵"
   ]
  },
  {
   "cell_type": "code",
   "execution_count": 192,
   "metadata": {},
   "outputs": [
    {
     "output_type": "execute_result",
     "data": {
      "text/plain": "array([[ 1.00000000e+00, -8.45428470e-17, -7.32483049e-17,\n        -6.25407607e-18],\n       [ 4.17364683e-16,  1.00000000e+00, -1.98926355e-16,\n        -1.10911732e-16],\n       [-3.47037881e-16,  5.62640505e-16,  1.00000000e+00,\n         1.65573460e-18],\n       [-2.02711622e-16,  5.37886396e-16,  1.24515051e-16,\n         1.00000000e+00]])"
     },
     "metadata": {},
     "execution_count": 192
    }
   ],
   "source": [
    "matrix.dot(np.linalg.inv(matrix))"
   ]
  },
  {
   "cell_type": "markdown",
   "metadata": {},
   "source": [
    "奇异矩阵用伪逆求单位矩阵"
   ]
  },
  {
   "cell_type": "code",
   "execution_count": 191,
   "metadata": {},
   "outputs": [
    {
     "output_type": "execute_result",
     "data": {
      "text/plain": "array([[ 0.7,  0.4,  0.1, -0.2],\n       [ 0.4,  0.3,  0.2,  0.1],\n       [ 0.1,  0.2,  0.3,  0.4],\n       [-0.2,  0.1,  0.4,  0.7]])"
     },
     "metadata": {},
     "execution_count": 191
    }
   ],
   "source": [
    "singular_matrix.dot(np.linalg.pinv(singular_matrix))"
   ]
  },
  {
   "cell_type": "code",
   "execution_count": 215,
   "metadata": {},
   "outputs": [
    {
     "output_type": "stream",
     "name": "stdout",
     "text": "------------逆矩阵与单位矩阵---------------\nA= [[ 0  1  2]\n [ 1  0  3]\n [ 4 -3  8]]\nA的逆矩阵： \n [[-4.5  7.  -1.5]\n [-2.   4.  -1. ]\n [ 1.5 -2.   0.5]]\n单位矩阵:I = A*inverse： \n [[1. 0. 0.]\n [0. 1. 0.]\n [0. 0. 1.]]\n"
    }
   ],
   "source": [
    "print('------------逆矩阵与单位矩阵---------------')  \n",
    "import numpy as np  \n",
    "A = np.mat(\"0 1 2;1 0 3;4 -3 8\")  \n",
    "print(\"A=\",A)  \n",
    "inverse = np.linalg.inv(A)  \n",
    "print(u\"A的逆矩阵：\",\"\\n\",inverse)  \n",
    "I = A*inverse  \n",
    "print('单位矩阵:I = A*inverse：',\"\\n\",I)  "
   ]
  },
  {
   "cell_type": "code",
   "execution_count": 214,
   "metadata": {},
   "outputs": [
    {
     "output_type": "stream",
     "name": "stdout",
     "text": "------------逆矩阵与单位矩阵---------------\n矩阵A = [[ 0  1  2]\n [ 1  0  3]\n [ 4 -3  8]]\nA的逆矩阵： \n [[-4.5  7.  -1.5]\n [-2.   4.  -1. ]\n [ 1.5 -2.   0.5]]\n单位矩阵:I = A*inverse： \n [[1. 0. 0.]\n [0. 1. 0.]\n [0. 0. 1.]]\n"
    }
   ],
   "source": [
    "print('------------逆矩阵与单位矩阵---------------')  \n",
    "import numpy as np  \n",
    "A = np.mat(\"0 1 2;1 0 3;4 -3 8\")  \n",
    "print(\"矩阵A =\",A)  \n",
    "inverse = np.linalg.inv(A)  \n",
    "print(u\"A的逆矩阵：\",\"\\n\",inverse)  \n",
    "I = A*inverse  \n",
    "print('单位矩阵:I = A*inverse：',\"\\n\",I)  "
   ]
  },
  {
   "cell_type": "code",
   "execution_count": null,
   "metadata": {},
   "outputs": [],
   "source": []
  }
 ],
 "metadata": {
  "language_info": {
   "codemirror_mode": {
    "name": "ipython",
    "version": 3
   },
   "file_extension": ".py",
   "mimetype": "text/x-python",
   "name": "python",
   "nbconvert_exporter": "python",
   "pygments_lexer": "ipython3",
   "version": "3.7.6-final"
  },
  "orig_nbformat": 2,
  "kernelspec": {
   "name": "python37464bitf10adaa3efab4e6fa8988dc159616146",
   "display_name": "Python 3.7.4 64-bit"
  }
 },
 "nbformat": 4,
 "nbformat_minor": 2
}