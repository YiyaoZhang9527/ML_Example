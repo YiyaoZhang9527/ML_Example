{
 "cells": [
  {
   "cell_type": "code",
   "execution_count": 100,
   "metadata": {},
   "outputs": [],
   "source": [
    "import numpy as np\n",
    "import matplotlib.pyplot as plt\n",
    "import seaborn as sns\n",
    "sns.set()x\n",
    "import torch"
   ]
  },
  {
   "cell_type": "markdown",
   "metadata": {},
   "source": []
  },
  {
   "cell_type": "markdown",
   "metadata": {},
   "source": [
    "# 创建数据"
   ]
  },
  {
   "cell_type": "code",
   "execution_count": 101,
   "metadata": {},
   "outputs": [],
   "source": [
    "data = np.array([\n",
    "        [\"病人\",\"头疼\",\"肌肉疼\",\"体温\",\"流感\"]\n",
    "        ,[\"e1\",'是', '是', '正常', '否']\n",
    "        ,[\"e2\",'是', '是', '高', '是']\n",
    "        ,[\"e3\",'是', '是', '很高', '是']\n",
    "        ,[\"e4\",'否', '是', '正常', '否']\n",
    "        ,[\"e5\",'否', '否', '高', '否']\n",
    "        ,[\"e6\",'否', '是', '很高', '是']])"
   ]
  },
  {
   "cell_type": "markdown",
   "metadata": {},
   "source": [
    "# 分组统计"
   ]
  },
  {
   "cell_type": "code",
   "execution_count": 102,
   "metadata": {
    "tags": []
   },
   "outputs": [
    {
     "output_type": "execute_result",
     "data": {
      "text/plain": "({'头疼': {'否': 0.5, '是': 0.5},\n  '肌肉疼': {'否': 0.16666666666666666, '是': 0.8333333333333334},\n  '体温': {'很高': 0.3333333333333333,\n   '正常': 0.3333333333333333,\n   '高': 0.3333333333333333}},\n {'流感': array(['否', '是', '是', '否', '否', '是'], dtype='<U3')},\n array(['头疼', '肌肉疼', '体温'], dtype='<U3'))"
     },
     "metadata": {},
     "execution_count": 102
    }
   ],
   "source": [
    "def prob(mat):\n",
    "    info = mat[1:,1:-1]\n",
    "    m,n = info.shape\n",
    "    D = {mat[0,-1]:mat[1:,-1]}\n",
    "    e = mat[0][1:-1]\n",
    "    return {k:{\n",
    "        x:(v==x).dot(np.ones(v.shape[-1]))/v.shape[-1] \n",
    "            for x in np.unique(v)} \n",
    "            for k,v in zip(e,info.T)},D,e\n",
    "\n",
    "prob(data)"
   ]
  },
  {
   "cell_type": "markdown",
   "metadata": {},
   "source": [
    "# 值摘取"
   ]
  },
  {
   "cell_type": "code",
   "execution_count": 103,
   "metadata": {},
   "outputs": [
    {
     "output_type": "execute_result",
     "data": {
      "text/plain": "0.5"
     },
     "metadata": {},
     "execution_count": 103
    }
   ],
   "source": [
    "def filter_(data,leve1_keyword=None,leve2_keyword=None):\n",
    "    info , D,e = prob(data)\n",
    "    if leve2_keyword != None:\n",
    "        return info[leve1_keyword][leve2_keyword]\n",
    "    return info[leve1_keyword]\n",
    "filter_(data,\"头疼\",\"是\")"
   ]
  },
  {
   "cell_type": "markdown",
   "metadata": {},
   "source": [
    "# 计算函数"
   ]
  },
  {
   "cell_type": "code",
   "execution_count": 104,
   "metadata": {},
   "outputs": [
    {
     "output_type": "execute_result",
     "data": {
      "text/plain": "-0.03125"
     },
     "metadata": {},
     "execution_count": 104
    }
   ],
   "source": [
    "\n",
    "def mutual_info(px,py):\n",
    "    return (px*py)*((px*py)/np.log2(px*py))\n",
    "mutual_info(filter_(data,\"头疼\",\"是\"),filter_(data,\"头疼\",\"否\"))"
   ]
  },
  {
   "cell_type": "code",
   "execution_count": 105,
   "metadata": {},
   "outputs": [
    {
     "output_type": "execute_result",
     "data": {
      "text/plain": "-0.03125"
     },
     "metadata": {},
     "execution_count": 105
    }
   ],
   "source": [
    "mutual_info(filter_(data,\"头疼\",\"是\"),filter_(data,\"头疼\",\"否\"))"
   ]
  },
  {
   "cell_type": "markdown",
   "metadata": {},
   "source": [
    "# 逻辑运行"
   ]
  },
  {
   "cell_type": "code",
   "execution_count": 106,
   "metadata": {},
   "outputs": [
    {
     "output_type": "execute_result",
     "data": {
      "text/plain": "(array([0.1, 0.1, 0.1, ..., 0.1, 0.1, 0.1]),\n array([0.3, 0.3, 0.3, ..., 0.3, 0.3, 0.3]))"
     },
     "metadata": {},
     "execution_count": 106
    }
   ],
   "source": [
    "X1 = np.array([0.1 for x in range(1200)])\n",
    "Y1 = np.array([0.3 for x in range(1200)])\n",
    "X1,Y1"
   ]
  },
  {
   "cell_type": "code",
   "execution_count": 107,
   "metadata": {},
   "outputs": [
    {
     "output_type": "execute_result",
     "data": {
      "text/plain": "array([['病人', '头疼', '肌肉疼', '体温', '流感'],\n       ['e1', '是', '是', '正常', '否'],\n       ['e2', '是', '是', '高', '是'],\n       ['e3', '是', '是', '很高', '是'],\n       ['e4', '否', '是', '正常', '否'],\n       ['e5', '否', '否', '高', '否'],\n       ['e6', '否', '是', '很高', '是']], dtype='<U3')"
     },
     "metadata": {},
     "execution_count": 107
    }
   ],
   "source": [
    "data = np.array([['病人', '头疼', '肌肉疼', '体温', '流感'],\n",
    "       ['e1', '是', '是', '正常', '否'],\n",
    "       ['e2', '是', '是', '高', '是'],\n",
    "       ['e3', '是', '是', '很高', '是'],\n",
    "       ['e4', '否', '是', '正常', '否'],\n",
    "       ['e5', '否', '否', '高', '否'],\n",
    "       ['e6', '否', '是', '很高', '是']], dtype='<U3')\n",
    "data"
   ]
  },
  {
   "cell_type": "code",
   "execution_count": 108,
   "metadata": {},
   "outputs": [],
   "source": [
    "X = np.array([1,0,1,1,0])\n",
    "Y = np.array([1,1,1,0,0])"
   ]
  },
  {
   "cell_type": "code",
   "execution_count": 109,
   "metadata": {},
   "outputs": [],
   "source": [
    "def checkType(X):\n",
    "    if isinstance(X,(np.ndarray,list,tuple)):\n",
    "        return torch.FloatTensor(X)\n",
    "    elif isinstance(X,(torch.TensorType,torch.FloatType)):\n",
    "        return X\n",
    "    else:\n",
    "        print(\"Type Error\")"
   ]
  },
  {
   "cell_type": "code",
   "execution_count": 110,
   "metadata": {},
   "outputs": [],
   "source": [
    "\n",
    "def P(X,symbol,x):\n",
    "    n = X.size\n",
    "    Lambda = \"{}{}{}\".format(X,symbol,x)\n",
    "    return (X==x).dot(np.ones(n))/n"
   ]
  },
  {
   "cell_type": "markdown",
   "metadata": {},
   "source": [
    "# 信息熵"
   ]
  },
  {
   "cell_type": "code",
   "execution_count": 111,
   "metadata": {},
   "outputs": [
    {
     "output_type": "execute_result",
     "data": {
      "text/plain": "0.9709505944546686"
     },
     "metadata": {},
     "execution_count": 111
    }
   ],
   "source": [
    "def H(X):\n",
    "    temp = np.array([-P(X,'==',x)*np.log2(P(X,'==',x)) for x in np.unique(X)])\n",
    "    return temp.sum()\n",
    "H(X)"
   ]
  },
  {
   "cell_type": "markdown",
   "metadata": {},
   "source": [
    "# 联合熵"
   ]
  },
  {
   "cell_type": "markdown",
   "metadata": {},
   "source": [
    "# $$ H(X,Y) = - \\sum_{x \\in X} \\sum_{y \\in Y} P(x,y)logP(x,y)  $$"
   ]
  },
  {
   "cell_type": "code",
   "execution_count": 112,
   "metadata": {
    "tags": []
   },
   "outputs": [
    {
     "output_type": "execute_result",
     "data": {
      "text/plain": "1.9219280948873623"
     },
     "metadata": {},
     "execution_count": 112
    }
   ],
   "source": [
    "def HXY(X,Y):\n",
    "    Xn,Yn = X.size,Y.size\n",
    "    init_XY = np.vstack((X,Y)).T\n",
    "    m,n = init_XY.shape\n",
    "    enumerate_ = np.array([(x,y) for x in np.unique(X) for y in np.unique(Y)])\n",
    "    temp = np.array([((init_XY==e).dot(np.ones(n))==n).dot(np.ones(m))/m for e in enumerate_])\n",
    "    return (-temp*np.log2(temp)).sum()\n",
    "HXY(X,Y)"
   ]
  },
  {
   "cell_type": "code",
   "execution_count": 113,
   "metadata": {},
   "outputs": [
    {
     "output_type": "execute_result",
     "data": {
      "text/plain": "1.9219280948873623"
     },
     "metadata": {},
     "execution_count": 113
    }
   ],
   "source": [
    "def joint_entropy(X,Y):\n",
    "    m = X.shape[0]\n",
    "    comb = lambda SET : np.array([[i,j] for i in SET[::-1] for j in SET])\n",
    "    element = comb(np.union1d(np.unique(X),np.unique(Y)))\n",
    "    PXY = np.array([((np.c_[X,Y]==e).dot(np.ones(e.size))==e.size).dot(np.ones(m))/m for e in element]) \n",
    "    return (-PXY*np.log2(PXY)).dot(np.ones(PXY.size))\n",
    "joint_entropy(X,Y)"
   ]
  },
  {
   "cell_type": "code",
   "execution_count": 114,
   "metadata": {
    "tags": []
   },
   "outputs": [
    {
     "output_type": "execute_result",
     "data": {
      "text/plain": "tensor(1.9219)"
     },
     "metadata": {},
     "execution_count": 114
    }
   ],
   "source": [
    "def TorchJointEntropy(X,Y):\n",
    "    m = X.size\n",
    "    comb = lambda SET : np.array([[i,j] for i in SET[::-1] for j in SET])\n",
    "    element = checkType(comb(np.union1d(np.unique(X),np.unique(Y))))\n",
    "    XY = torch.cat([checkType(X)[:,None],checkType(Y)[:,None]],1)\n",
    "    PXY = torch.tensor([(((XY == e).float()).mm(torch.ones((2,1)))==2).sum().float()/m for e in element])\n",
    "    return (-PXY*torch.log2(PXY)).sum()\n",
    "TorchJointEntropy(X,Y)"
   ]
  },
  {
   "cell_type": "markdown",
   "metadata": {},
   "source": [
    "# 互信息"
   ]
  },
  {
   "cell_type": "code",
   "execution_count": 115,
   "metadata": {},
   "outputs": [
    {
     "output_type": "execute_result",
     "data": {
      "text/plain": "0.01997309402197489"
     },
     "metadata": {},
     "execution_count": 115
    }
   ],
   "source": [
    "def I(X,Y):\n",
    "    return H(X)+H(Y)-HXY(X,Y)\n",
    "I(X,Y)"
   ]
  },
  {
   "cell_type": "code",
   "execution_count": 116,
   "metadata": {},
   "outputs": [
    {
     "output_type": "execute_result",
     "data": {
      "text/plain": "0.0"
     },
     "metadata": {},
     "execution_count": 116
    }
   ],
   "source": [
    "I(X1,Y1)"
   ]
  },
  {
   "cell_type": "markdown",
   "metadata": {},
   "source": [
    "# $$ I(X;Y) = \\sum_{x \\in X}\\sum_{y \\in Y} P(x,y)log \\frac{P(x,y)}{P(x)P(y)}$$"
   ]
  },
  {
   "cell_type": "markdown",
   "metadata": {},
   "source": [
    "### 先算联合概率"
   ]
  },
  {
   "cell_type": "code",
   "execution_count": 117,
   "metadata": {},
   "outputs": [
    {
     "output_type": "execute_result",
     "data": {
      "text/plain": "array([0.2, 0.4, 0.2, 0.2])"
     },
     "metadata": {},
     "execution_count": 117
    }
   ],
   "source": [
    "m = X.shape[0]\n",
    "comb = lambda SET : np.array([[i,j] for i in SET[::-1] for j in SET])\n",
    "element = comb(np.union1d(np.unique(X),np.unique(Y)))\n",
    "PXY = np.array([((np.c_[X,Y]==e).dot(np.ones(e.size))==e.size).dot(np.ones(m))/m for e in element])\n",
    "PXY"
   ]
  },
  {
   "cell_type": "markdown",
   "metadata": {},
   "source": [
    "### 计算边缘概率"
   ]
  },
  {
   "cell_type": "code",
   "execution_count": 136,
   "metadata": {},
   "outputs": [
    {
     "output_type": "execute_result",
     "data": {
      "text/plain": "0.52"
     },
     "metadata": {},
     "execution_count": 136
    }
   ],
   "source": [
    "M = X.size+Y.size\n",
    "Pxy = np.array([(np.r_[Y,X]==x).sum()/M for x in np.unique(X) ])\n",
    "Pxy.dot(Pxy)"
   ]
  },
  {
   "cell_type": "markdown",
   "metadata": {},
   "source": [
    "### 求解互信息"
   ]
  },
  {
   "cell_type": "code",
   "execution_count": 138,
   "metadata": {
    "tags": []
   },
   "outputs": [
    {
     "output_type": "stream",
     "name": "stdout",
     "text": "-0.10521376233351759\n0.48435871299944727\n0.3791449506659297\n0.2739311883324121\n"
    }
   ],
   "source": [
    "pxpy = Xpxy*Ypxy\n",
    "tmp = 0\n",
    "for pxy in PXY:\n",
    "    tmp += (pxy*np.log2(pxy/(Pxy**2))).sum()\n",
    "    print(tmp)"
   ]
  },
  {
   "cell_type": "markdown",
   "metadata": {},
   "source": [
    "# 条件熵"
   ]
  },
  {
   "cell_type": "code",
   "execution_count": 120,
   "metadata": {},
   "outputs": [
    {
     "output_type": "execute_result",
     "data": {
      "text/plain": "0.9509775004326937"
     },
     "metadata": {},
     "execution_count": 120
    }
   ],
   "source": [
    "def HX_Y(X,Y):\n",
    "    return H(X)-I(X,Y)\n",
    "HX_Y(X,Y)"
   ]
  },
  {
   "cell_type": "code",
   "execution_count": null,
   "metadata": {},
   "outputs": [],
   "source": []
  },
  {
   "cell_type": "markdown",
   "metadata": {},
   "source": [
    "https://blog.csdn.net/tangxianyu/article/details/105759989\n",
    "http://www.fuzihao.org/blog/2015/01/17/%E4%BA%92%E4%BF%A1%E6%81%AF%E7%9A%84%E7%90%86%E8%A7%A3/"
   ]
  }
 ],
 "metadata": {
  "language_info": {
   "codemirror_mode": {
    "name": "ipython",
    "version": 3
   },
   "file_extension": ".py",
   "mimetype": "text/x-python",
   "name": "python",
   "nbconvert_exporter": "python",
   "pygments_lexer": "ipython3",
   "version": "3.7.3-final"
  },
  "orig_nbformat": 2,
  "kernelspec": {
   "name": "pycharm-66c53067",
   "display_name": "PyCharm (InferenceSystem)"
  }
 },
 "nbformat": 4,
 "nbformat_minor": 2
}