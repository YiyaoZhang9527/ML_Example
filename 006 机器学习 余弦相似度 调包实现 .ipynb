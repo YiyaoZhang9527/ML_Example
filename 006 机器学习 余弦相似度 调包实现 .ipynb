{
 "cells": [
  {
   "cell_type": "code",
   "execution_count": 10,
   "metadata": {},
   "outputs": [
    {
     "data": {
      "text/plain": [
       "array([0, 1, 2, 1, 1, 1, 1, 1])"
      ]
     },
     "execution_count": 10,
     "metadata": {},
     "output_type": "execute_result"
    }
   ],
   "source": [
    "# ! pip install jieba\n",
    "\n",
    "import jieba\n",
    "import numpy as np\n",
    "\n",
    "x = '我喜欢看电视，也喜欢看电影'\n",
    "y = '我不喜欢看电视，也不喜欢看电影'\n",
    "\n",
    "\n",
    "str_element,str_counts = np.unique(list(jieba.cut(x+y)),return_counts=1)\n",
    "\n",
    "\n",
    "\n",
    "# vector1 , vector2 = str_to_vector(x) , str_to_vector(y)\n",
    "\n",
    "\n",
    "str_counts\n",
    "\n",
    "\n",
    "def str_to_vector1(string,feature_vector):\n",
    "    feature_dict = {s:0 for s in  feature_vector }\n",
    "    for elem in jieba.cut(string):\n",
    "        if elem in feature_dict:\n",
    "            feature_dict[elem]+=1\n",
    "        else:\n",
    "            pass\n",
    "    return np.array([v for k,v in feature_dict.items()])\n",
    "\n",
    "str_to_vector1(x,str_element)"
   ]
  },
  {
   "cell_type": "code",
   "execution_count": 11,
   "metadata": {},
   "outputs": [
    {
     "data": {
      "text/plain": [
       "{'lenght': (3.1622776601683795, 3.7416573867739413),\n",
       " 'cos_value': 0.8451542547285166,\n",
       " 'radian': 0.5639426413606289,\n",
       " 'angle': 32.31153323742385}"
      ]
     },
     "execution_count": 11,
     "metadata": {},
     "output_type": "execute_result"
    }
   ],
   "source": [
    "import numpy as np\n",
    "import pandas as pd\n",
    "import matplotlib.pyplot as plt\n",
    "\n",
    "def str_to_vector(strings):\n",
    "    '''\n",
    "    \n",
    "    '''\n",
    "    return np.array([ord(i) for i in strings])\n",
    "\n",
    "\n",
    "def cos_of_vector(x,y):\n",
    "    '''\n",
    "    计算向量的夹角\n",
    "    '''\n",
    "    #计算向量的长度\n",
    "    Lx = np.sqrt(x.dot(x))\n",
    "    Ly = np.sqrt(y.dot(y))\n",
    "    #计算向量的cos值\n",
    "    cos_angle = x.dot(y)/(Lx*Ly) \n",
    "    #求夹角（弧度）\n",
    "    radian = np.arccos(cos_angle)\n",
    "    #求夹角（角度）\n",
    "    angle = radian*360/2/np.pi\n",
    "    return  {'lenght':(Lx,Ly) , 'cos_value':cos_angle , 'radian':radian , 'angle':angle }\n",
    "\n",
    "cos_of_vector(str_to_vector1(x,str_element),str_to_vector1(y,str_element))"
   ]
  },
  {
   "cell_type": "code",
   "execution_count": null,
   "metadata": {},
   "outputs": [],
   "source": []
  },
  {
   "cell_type": "code",
   "execution_count": null,
   "metadata": {},
   "outputs": [],
   "source": []
  }
 ],
 "metadata": {
  "file_extension": ".py",
  "kernelspec": {
   "display_name": "kiteENV",
   "language": "python",
   "name": "kiteenv"
  },
  "language_info": {
   "codemirror_mode": {
    "name": "ipython",
    "version": 3
   },
   "file_extension": ".py",
   "mimetype": "text/x-python",
   "name": "python",
   "nbconvert_exporter": "python",
   "pygments_lexer": "ipython3",
   "version": "3.8.10"
  },
  "mimetype": "text/x-python",
  "name": "python",
  "npconvert_exporter": "python",
  "pygments_lexer": "ipython3",
  "version": 3
 },
 "nbformat": 4,
 "nbformat_minor": 4
}
