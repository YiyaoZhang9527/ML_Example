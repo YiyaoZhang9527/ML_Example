{
 "nbformat": 4,
 "nbformat_minor": 2,
 "metadata": {
  "language_info": {
   "name": "python",
   "codemirror_mode": {
    "name": "ipython",
    "version": 3
   },
   "version": "3.7.3-final"
  },
  "orig_nbformat": 2,
  "file_extension": ".py",
  "mimetype": "text/x-python",
  "name": "python",
  "npconvert_exporter": "python",
  "pygments_lexer": "ipython3",
  "version": 3,
  "kernelspec": {
   "name": "python3",
   "display_name": "Python 3"
  }
 },
 "cells": [
  {
   "cell_type": "code",
   "execution_count": 31,
   "metadata": {},
   "outputs": [
    {
     "data": {
      "text/plain": "{'lenght': (87628.84696833573, 70920.31416315075),\n 'cos_value': 0.8806203346181252,\n 'radian': 0.4936265020147023,\n 'angle': 28.28271522124847}"
     },
     "execution_count": 31,
     "metadata": {},
     "output_type": "execute_result"
    }
   ],
   "source": [
    "x = '''\n",
    "按照颜色这个属性我们就把积木集合A进行了一个划分(所谓A的划分就是指对于A中的任意一个元素必然属于且仅属于一个分类），那么我们就说颜色属性就是一种知识。在这个例子中我们不难看到，一种对集合A的划分就对应着关于A中元素的一个知识，假如还有其他的属性，\n",
    "'''\n",
    "y = '你也许会对如何创建a这样的数组感到好奇，数组a实际上是一个加法表，纵轴的值为0, 10, 20, 30, 40, 50；横轴的值为0, 1, 2, 3, 4, 5。纵轴的每个元素都和横轴的每个元素求和，就得到图中所示的数组a。你可以用下面的语句创建它，至于其原理我们将在后面的章节进行讨论'\n",
    "vector1 , vector2 = str_to_vector(x) , str_to_vector(y)\n",
    "\n",
    "import numpy as np\n",
    "import pandas as pd\n",
    "import matplotlib.pyplot as plt\n",
    "\n",
    "def str_to_vector(strings):\n",
    "    '''\n",
    "    \n",
    "    '''\n",
    "    return np.array([ord(i) for i in strings])\n",
    "\n",
    "\n",
    "def cos_of_vector(x,y):\n",
    "    '''\n",
    "    计算向量的夹角\n",
    "    '''\n",
    "    #计算向量的长度\n",
    "    Lx = np.sqrt(x.dot(x))\n",
    "    Ly = np.sqrt(y.dot(y))\n",
    "    #计算向量的cos值\n",
    "    cos_angle = x.dot(y)/(Lx*Ly) \n",
    "    #求夹角（弧度）\n",
    "    radian = np.arccos(cos_angle)\n",
    "    #求夹角（角度）\n",
    "    angle = radian*360/2/np.pi\n",
    "    return  {'lenght':(Lx,Ly) , 'cos_value':cos_angle , 'radian':radian , 'angle':angle }\n",
    "\n",
    "cos_of_vector(vector1[0:10],vector2[0:10])"
   ]
  },
  {
   "cell_type": "code",
   "execution_count": 18,
   "metadata": {},
   "outputs": [
    {
     "data": {
      "text/plain": "array([   10, 25353, 29031, 39068, 33394, 36825, 20010, 23646, 24615,\n       25105, 20204, 23601, 25226, 31215, 26408, 38598, 21512,    65,\n       36827, 34892, 20102, 19968, 20010, 21010, 20998,    40, 25152,\n       35859,    65, 30340, 21010, 20998, 23601, 26159, 25351, 23545,\n       20110,    65, 20013, 30340, 20219, 24847, 19968, 20010, 20803,\n       32032, 24517, 28982, 23646, 20110, 19988, 20165, 23646, 20110,\n       19968, 20010, 20998, 31867, 65289, 65292, 37027, 20040, 25105,\n       20204, 23601, 35828, 39068, 33394, 23646, 24615, 23601, 26159,\n       19968, 31181, 30693, 35782, 12290, 22312, 36825, 20010, 20363,\n       23376, 20013, 25105, 20204, 19981, 38590, 30475, 21040, 65292,\n       19968, 31181, 23545, 38598, 21512,    65, 30340, 21010, 20998,\n       23601, 23545, 24212, 30528, 20851, 20110,    65, 20013, 20803,\n       32032, 30340, 19968, 20010, 30693, 35782, 65292, 20551, 22914,\n       36824, 26377, 20854, 20182, 30340, 23646, 24615, 65292,    10])"
     },
     "execution_count": 18,
     "metadata": {},
     "output_type": "execute_result"
    }
   ],
   "source": [
    "vector1"
   ]
  },
  {
   "cell_type": "code",
   "execution_count": null,
   "metadata": {},
   "outputs": [],
   "source": []
  }
 ]
}