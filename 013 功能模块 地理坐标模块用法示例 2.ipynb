{
 "cells": [
  {
   "cell_type": "code",
   "execution_count": 1,
   "metadata": {},
   "outputs": [],
   "source": [
    "import sys\n",
    "sys.path.append('/InferenceSystem/src/I9_static/')\n",
    "import pandas as pd"
   ]
  },
  {
   "cell_type": "markdown",
   "metadata": {},
   "source": [
    "##  导入地理坐标模块"
   ]
  },
  {
   "cell_type": "code",
   "execution_count": 2,
   "metadata": {},
   "outputs": [
    {
     "output_type": "execute_result",
     "data": {
      "text/plain": "'linux'"
     },
     "metadata": {},
     "execution_count": 2
    }
   ],
   "source": [
    "sys.platform"
   ]
  },
  {
   "cell_type": "code",
   "execution_count": 25,
   "metadata": {},
   "outputs": [
    {
     "output_type": "execute_result",
     "data": {
      "text/plain": "'/Users/manmanzhang/Library/Mobile Documents/com~apple~CloudDocs/MyProject/'"
     },
     "metadata": {},
     "execution_count": 25
    }
   ],
   "source": []
  },
  {
   "cell_type": "code",
   "execution_count": 3,
   "metadata": {},
   "outputs": [
    {
     "output_type": "error",
     "ename": "ModuleNotFoundError",
     "evalue": "No module named 'class_address_data_set_moduls'",
     "traceback": [
      "\u001b[0;31m---------------------------------------------------------------------------\u001b[0m",
      "\u001b[0;31mModuleNotFoundError\u001b[0m                       Traceback (most recent call last)",
      "\u001b[0;32m<ipython-input-3-14ff76a31968>\u001b[0m in \u001b[0;36m<module>\u001b[0;34m\u001b[0m\n\u001b[1;32m      1\u001b[0m \u001b[0msys\u001b[0m\u001b[0;34m.\u001b[0m\u001b[0mpath\u001b[0m\u001b[0;34m.\u001b[0m\u001b[0mappend\u001b[0m\u001b[0;34m(\u001b[0m\u001b[0msys\u001b[0m\u001b[0;34m.\u001b[0m\u001b[0mpath\u001b[0m\u001b[0;34m[\u001b[0m\u001b[0;36m0\u001b[0m\u001b[0;34m]\u001b[0m\u001b[0;34m.\u001b[0m\u001b[0msplit\u001b[0m\u001b[0;34m(\u001b[0m\u001b[0;34m'InferenceSystem'\u001b[0m\u001b[0;34m)\u001b[0m\u001b[0;34m[\u001b[0m\u001b[0;36m0\u001b[0m\u001b[0;34m]\u001b[0m\u001b[0;34m+\u001b[0m\u001b[0;34m'InferenceSystem/src/I10_address/'\u001b[0m\u001b[0;34m)\u001b[0m\u001b[0;34m\u001b[0m\u001b[0;34m\u001b[0m\u001b[0m\n\u001b[0;32m----> 2\u001b[0;31m \u001b[0;32mfrom\u001b[0m \u001b[0mclass_address_data_set_moduls\u001b[0m \u001b[0;32mimport\u001b[0m \u001b[0maddress_dataset\u001b[0m\u001b[0;34m\u001b[0m\u001b[0;34m\u001b[0m\u001b[0m\n\u001b[0m",
      "\u001b[0;31mModuleNotFoundError\u001b[0m: No module named 'class_address_data_set_moduls'"
     ]
    }
   ],
   "source": [
    "sys.path.append(sys.path[0].split('InferenceSystem')[0]+'InferenceSystem/src/I10_address/')\n",
    "from class_address_data_set_moduls import address_dataset"
   ]
  },
  {
   "cell_type": "code",
   "execution_count": 4,
   "metadata": {},
   "outputs": [],
   "source": [
    "address_s = ['大蜀山','西湖']"
   ]
  },
  {
   "cell_type": "markdown",
   "metadata": {},
   "source": [
    "## 经纬度模块调用接口"
   ]
  },
  {
   "cell_type": "markdown",
   "metadata": {},
   "source": [
    "## 历史查询记录总表"
   ]
  },
  {
   "cell_type": "code",
   "execution_count": 5,
   "metadata": {},
   "outputs": [],
   "source": [
    "ak = 'Vhzgfjih2w3YY0WUPuPdKiMQKwIor9rp'\n",
    "sk = 'Ww2GP8XTlBCfi6KROSkk41yi7BGDCNtA'"
   ]
  },
  {
   "cell_type": "code",
   "execution_count": 6,
   "metadata": {},
   "outputs": [
    {
     "output_type": "error",
     "ename": "NameError",
     "evalue": "name 'requests' is not defined",
     "traceback": [
      "\u001b[0;31m---------------------------------------------------------------------------\u001b[0m",
      "\u001b[0;31mNameError\u001b[0m                                 Traceback (most recent call last)",
      "\u001b[0;32m<ipython-input-6-07b9b3bd571f>\u001b[0m in \u001b[0;36m<module>\u001b[0;34m\u001b[0m\n\u001b[0;32m----> 1\u001b[0;31m \u001b[0mrequests\u001b[0m\u001b[0;34m.\u001b[0m\u001b[0mget\u001b[0m\u001b[0;34m(\u001b[0m\u001b[0;34m'http://api.map.baidu.com/geocoding/v3/?address=北京市海淀区上地十街10号&output=json&ak=Vhzgfjih2w3YY0WUPuPdKiMQKwIor9rpak&callback=showLocation'\u001b[0m\u001b[0;34m)\u001b[0m\u001b[0;34m.\u001b[0m\u001b[0mtext\u001b[0m\u001b[0;34m\u001b[0m\u001b[0;34m\u001b[0m\u001b[0m\n\u001b[0m",
      "\u001b[0;31mNameError\u001b[0m: name 'requests' is not defined"
     ]
    }
   ],
   "source": [
    "\n",
    "requests.get('http://api.map.baidu.com/geocoding/v3/?address=北京市海淀区上地十街10号&output=json&ak=Vhzgfjih2w3YY0WUPuPdKiMQKwIor9rpak&callback=showLocation').text"
   ]
  },
  {
   "cell_type": "code",
   "execution_count": 7,
   "metadata": {
    "tags": []
   },
   "outputs": [
    {
     "output_type": "stream",
     "name": "stdout",
     "text": "{'status': 0, 'message': 'ok', 'results': [{'name': '杭州市合肥商会', 'location': {'lat': 30.258164, 'lng': 120.191964}, 'address': '土山弄9号-3', 'province': '浙江省', 'city': '杭州市', 'area': '上城区', 'detail': 1, 'uid': '7385410126a9dfcde856fa67'}, {'name': '合肥坤仪商贸有限公司', 'location': {'lat': 30.347442, 'lng': 120.295585}, 'address': '乔司逸家花园4幢2单元102室', 'province': '浙江省', 'city': '杭州市', 'area': '余杭区', 'detail': 1, 'uid': 'a46d1e0b5135382997031978'}, {'name': '合肥晖腾数控科技有限公司', 'location': {'lat': 30.331302, 'lng': 120.269071}, 'address': '浙江省杭州市江干区格畈家园一号路', 'province': '浙江省', 'city': '杭州市', 'area': '江干区', 'telephone': '(0571)85270379,17705819789,17705810637', 'detail': 1, 'uid': '78c47d98a4b1f23a8c1a8994'}, {'name': '合肥亚太置业有限公司', 'location': {'lat': 30.210335, 'lng': 120.166176}, 'address': '钱江新城之江路438号好望角2号楼', 'province': '浙江省', 'city': '杭州市', 'area': '上城区', 'detail': 1, 'uid': 'df88c16a2601074de8e5828b'}, {'name': '合肥工业大学机械与能源工程学院', 'location': {'lat': 30.267377, 'lng': 120.127916}, 'address': '杭州市西湖区浙大路38号', 'province': '浙江省', 'city': '杭州市', 'area': '西湖区', 'street_id': '33db99b1bd230ba6cac3db34', 'detail': 1, 'uid': '33db99b1bd230ba6cac3db34'}, {'name': '合肥杭丝时装(分厂)', 'location': {'lat': 30.337351, 'lng': 120.299235}, 'address': '浙江省杭州市余杭区石塘东路16号3楼', 'province': '浙江省', 'city': '杭州市', 'area': '余杭区', 'detail': 1, 'uid': 'c5253213faa6032e0aa8d48e'}, {'name': '合肥荣事达三洋电器股份有限公司杭州分公司', 'location': {'lat': 30.268204, 'lng': 120.213812}, 'address': '三洋电器杭州分公司江干区新塘路65号元华旺座B座2楼218', 'province': '浙江省', 'city': '杭州市', 'area': '江干区', 'detail': 1, 'uid': '0d54e4df5012fb50465726f6'}, {'name': '杭州安隆(原合肥中南货运)物流有限公司', 'location': {'lat': 30.34545, 'lng': 120.234357}, 'address': '杭州市江干区', 'province': '浙江省', 'city': '杭州市', 'area': '江干区', 'detail': 1, 'uid': 'ad52ebebda13ac75343a71ab'}, {'name': '合肥威尔燃油系统股份有限公司', 'location': {'lat': 30.369068, 'lng': 120.126439}, 'address': '浙江省杭州市余杭区金恒路88-6号金恒德A区6幢3-4号', 'province': '浙江省', 'city': '杭州市', 'area': '余杭区', 'detail': 1, 'uid': 'c9ed42fbc691837f4107c196'}, {'name': '衣邦人合肥展厅', 'location': {'lat': 30.316642, 'lng': 120.377499}, 'address': '潜山路190号华邦世贸中心A座2303室', 'province': '浙江省', 'city': '杭州市', 'area': '江干区', 'telephone': '(0571)85228735', 'detail': 1, 'uid': 'd54dd214427fb64c7f29bd14'}]}\nhttp://api.map.baidu.com/place/v2/search?query=%E5%90%88%E8%82%A5&region=%E4%B8%8D%E4%BA%A6%E4%B9%90%E4%B9%8E%E7%A7%91%E6%8A%80%EF%BC%88%E6%9D%AD%E5%B7%9E%EF%BC%89%E6%9C%89%E9%99%90%E8%B4%A3%E4%BB%BB%E5%85%AC%E5%8F%B8&city_limit=true&output=json&ak=Vhzgfjih2w3YY0WUPuPdKiMQKwIor9rp\n"
    }
   ],
   "source": [
    "import json  \n",
    "import urllib.request\n",
    "\n",
    "search=urllib.parse.quote(u'合肥'.encode('utf-8'))              \n",
    "region=urllib.parse.quote(u'不亦乐乎科技（杭州）有限责任公司'.encode('utf-8'))  \n",
    "                  \n",
    "url=\"http://api.map.baidu.com/place/v2/search?query=%s&region=%s&city_limit=true&output=json&ak=Vhzgfjih2w3YY0WUPuPdKiMQKwIor9rp\"%(search,region)\n",
    "req = urllib.request.urlopen(url)#JSON格式的返回数据\n",
    "res = req.read() #将其他编码的字符串解码成unicode\n",
    "temp = json.loads(res)\n",
    "print (temp)\n",
    "print(url)"
   ]
  },
  {
   "cell_type": "code",
   "execution_count": 8,
   "metadata": {},
   "outputs": [
    {
     "output_type": "execute_result",
     "data": {
      "text/plain": "{'status': 0,\n 'message': 'ok',\n 'results': [{'name': '杭州市合肥商会',\n   'location': {'lat': 30.258164, 'lng': 120.191964},\n   'address': '土山弄9号-3',\n   'province': '浙江省',\n   'city': '杭州市',\n   'area': '上城区',\n   'detail': 1,\n   'uid': '7385410126a9dfcde856fa67'},\n  {'name': '合肥坤仪商贸有限公司',\n   'location': {'lat': 30.347442, 'lng': 120.295585},\n   'address': '乔司逸家花园4幢2单元102室',\n   'province': '浙江省',\n   'city': '杭州市',\n   'area': '余杭区',\n   'detail': 1,\n   'uid': 'a46d1e0b5135382997031978'},\n  {'name': '合肥晖腾数控科技有限公司',\n   'location': {'lat': 30.331302, 'lng': 120.269071},\n   'address': '浙江省杭州市江干区格畈家园一号路',\n   'province': '浙江省',\n   'city': '杭州市',\n   'area': '江干区',\n   'telephone': '(0571)85270379,17705819789,17705810637',\n   'detail': 1,\n   'uid': '78c47d98a4b1f23a8c1a8994'},\n  {'name': '合肥亚太置业有限公司',\n   'location': {'lat': 30.210335, 'lng': 120.166176},\n   'address': '钱江新城之江路438号好望角2号楼',\n   'province': '浙江省',\n   'city': '杭州市',\n   'area': '上城区',\n   'detail': 1,\n   'uid': 'df88c16a2601074de8e5828b'},\n  {'name': '合肥工业大学机械与能源工程学院',\n   'location': {'lat': 30.267377, 'lng': 120.127916},\n   'address': '杭州市西湖区浙大路38号',\n   'province': '浙江省',\n   'city': '杭州市',\n   'area': '西湖区',\n   'street_id': '33db99b1bd230ba6cac3db34',\n   'detail': 1,\n   'uid': '33db99b1bd230ba6cac3db34'},\n  {'name': '合肥杭丝时装(分厂)',\n   'location': {'lat': 30.337351, 'lng': 120.299235},\n   'address': '浙江省杭州市余杭区石塘东路16号3楼',\n   'province': '浙江省',\n   'city': '杭州市',\n   'area': '余杭区',\n   'detail': 1,\n   'uid': 'c5253213faa6032e0aa8d48e'},\n  {'name': '合肥荣事达三洋电器股份有限公司杭州分公司',\n   'location': {'lat': 30.268204, 'lng': 120.213812},\n   'address': '三洋电器杭州分公司江干区新塘路65号元华旺座B座2楼218',\n   'province': '浙江省',\n   'city': '杭州市',\n   'area': '江干区',\n   'detail': 1,\n   'uid': '0d54e4df5012fb50465726f6'},\n  {'name': '杭州安隆(原合肥中南货运)物流有限公司',\n   'location': {'lat': 30.34545, 'lng': 120.234357},\n   'address': '杭州市江干区',\n   'province': '浙江省',\n   'city': '杭州市',\n   'area': '江干区',\n   'detail': 1,\n   'uid': 'ad52ebebda13ac75343a71ab'},\n  {'name': '合肥威尔燃油系统股份有限公司',\n   'location': {'lat': 30.369068, 'lng': 120.126439},\n   'address': '浙江省杭州市余杭区金恒路88-6号金恒德A区6幢3-4号',\n   'province': '浙江省',\n   'city': '杭州市',\n   'area': '余杭区',\n   'detail': 1,\n   'uid': 'c9ed42fbc691837f4107c196'},\n  {'name': '衣邦人合肥展厅',\n   'location': {'lat': 30.316642, 'lng': 120.377499},\n   'address': '潜山路190号华邦世贸中心A座2303室',\n   'province': '浙江省',\n   'city': '杭州市',\n   'area': '江干区',\n   'telephone': '(0571)85228735',\n   'detail': 1,\n   'uid': 'd54dd214427fb64c7f29bd14'}]}"
     },
     "metadata": {},
     "execution_count": 8
    }
   ],
   "source": [
    "temp"
   ]
  },
  {
   "cell_type": "markdown",
   "metadata": {},
   "source": [
    "## 经纬度转地址"
   ]
  },
  {
   "cell_type": "code",
   "execution_count": 9,
   "metadata": {},
   "outputs": [
    {
     "output_type": "execute_result",
     "data": {
      "text/plain": "'http://api.map.baidu.com/reverse_geocoding/v3/?ak=Vhzgfjih2w3YY0WUPuPdKiMQKwIor9rp&output=json&coordtype=wgs84ll&location=31.80424,117.296881'"
     },
     "metadata": {},
     "execution_count": 9
    }
   ],
   "source": [
    "'http://api.map.baidu.com/reverse_geocoding/v3/?ak=Vhzgfjih2w3YY0WUPuPdKiMQKwIor9rp&output=json&coordtype=wgs84ll&location=31.80424,117.296881'"
   ]
  },
  {
   "cell_type": "code",
   "execution_count": 10,
   "metadata": {},
   "outputs": [
    {
     "output_type": "execute_result",
     "data": {
      "text/plain": "'http://api.map.baidu.com/place/v2/search?query=%E5%90%88%E8%82%A5&region=%E4%B8%8D%E4%BA%A6%E4%B9%90%E4%B9%8E%E7%A7%91%E6%8A%80%EF%BC%88%E6%9D%AD%E5%B7%9E%EF%BC%89%E6%9C%89%E9%99%90%E8%B4%A3%E4%BB%BB%E5%85%AC%E5%8F%B8&city_limit=true&output=json&ak=Vhzgfjih2w3YY0WUPuPdKiMQKwIor9rp'"
     },
     "metadata": {},
     "execution_count": 10
    }
   ],
   "source": [
    "\"http://api.map.baidu.com/place/v2/search?query=%s&region=%s&city_limit=true&output=json&ak=Vhzgfjih2w3YY0WUPuPdKiMQKwIor9rp\"%(search,region)"
   ]
  },
  {
   "cell_type": "code",
   "execution_count": 14,
   "metadata": {},
   "outputs": [],
   "source": [
    "import requests\n",
    "import json\n",
    "\n",
    "def getUrl(*address):\n",
    "    '''\n",
    "    调用地图API获取待查询地址专属url\n",
    "    最高查询次数30w/天，最大并发量160/秒\n",
    "    '''\n",
    "    ak = 'Vhzgfjih2w3YY0WUPuPdKiMQKwIor9rp'\n",
    "    if len(address) < 1:\n",
    "        return None\n",
    "    else:\n",
    "        for add in address:   \n",
    "            url = 'http://api.map.baidu.com/geocoding/v3/?address={inputAddress}&output=json&ak={myAk}'.format(inputAddress=add,myAk=ak)  \n",
    "            yield url\n",
    "            \n",
    "def getPosition(url):\n",
    "    '''返回经纬度信息'''\n",
    "    res = requests.get(url)\n",
    "    json_data = json.loads(res.text)\n",
    "    \n",
    "    if json_data['status'] == 0:\n",
    "        lat = json_data['result']['location']['lat'] #纬度\n",
    "        lng = json_data['result']['location']['lng'] #经度\n",
    "        precise = json_data['result']['precise']\n",
    "        confidence = json_data['result']['confidence']\n",
    "        comprehension = json_data['result']['comprehension']\n",
    "        level = json_data['result']['level']\n",
    "    else:\n",
    "        print(\"Error output!\")\n",
    "        return json_data['status']\n",
    "    return lat,lng,precise,confidence,comprehension,level\n",
    "\n",
    "def getStrings(address):\n",
    "    #,'沈阳辉山农业高新技术开发区宏业街73号','广东省佛山市魁奇一路9号','四川省成都市锦江区中纱帽街8号']\n",
    "    for add in address:\n",
    "        add_url = list(getUrl(add))[0]\n",
    "        print(add_url)\n",
    "        try:\n",
    "            lat,lng,precise,confidence,comprehension,level = getPosition(add_url) \n",
    "            print(\"地址：{0}|经度:{1}|纬度:{2}|精度:{3}|置信度:{4}|解释性:{5}|分类等级:{6}\".format(add,lat,lng,precise,confidence,comprehension,level))\n",
    "        except Error as e:\n",
    "            print(e)\n",
    "#getStrings()\n",
    "\n",
    "def getDict(address):\n",
    "    column = [\"地址\",\"经度\",\"纬度\",\"精度\",\"置信度\",\"解释性\",\"分类等级\"]\n",
    "    addressL,latL,lngL,preciseL,confidenceL,comprehensionL,levelL = [],[],[],[],[],[],[]\n",
    "    n = -1\n",
    "    for add in address:\n",
    "        addressL.append(add)\n",
    "        lat,lng,precise,confidence,comprehension,level  = getPosition(list(getUrl(add))[0])\n",
    "        latL.append(lat)\n",
    "        lngL.append(lng)\n",
    "        preciseL.append(precise)\n",
    "        confidenceL.append(confidence)\n",
    "        comprehensionL.append(comprehension)\n",
    "        levelL.append(level)\n",
    "                \n",
    "    return {cn : data for cn , data in zip(column,(addressL,latL,lngL,preciseL,confidenceL,comprehensionL,levelL))}\n",
    "\n"
   ]
  },
  {
   "cell_type": "code",
   "execution_count": 15,
   "metadata": {},
   "outputs": [
    {
     "output_type": "execute_result",
     "data": {
      "text/plain": "{'地址': ['合肥南站', '安徽省博物馆'],\n '经度': [31.804240109062725, 31.80826298985174],\n '纬度': [117.29688091026073, 117.22666297363172],\n '精度': [0, 0],\n '置信度': [50, 50],\n '解释性': [100, 100],\n '分类等级': ['火车站', '旅游景点']}"
     },
     "metadata": {},
     "execution_count": 15
    }
   ],
   "source": [
    "getDict(['合肥南站','安徽省博物馆'])"
   ]
  },
  {
   "cell_type": "code",
   "execution_count": 18,
   "metadata": {
    "tags": []
   },
   "outputs": [
    {
     "output_type": "execute_result",
     "data": {
      "text/plain": "{'地址': ['天津火车站'],\n '经度': [39.1424881899997],\n '纬度': [117.21685329780166],\n '精度': [0],\n '置信度': [50],\n '解释性': [100],\n '分类等级': ['火车站']}"
     },
     "metadata": {},
     "execution_count": 18
    }
   ],
   "source": [
    "import requests\n",
    "import json\n",
    "\n",
    "def getUrl(*address):\n",
    "    '''\n",
    "    调用地图API获取待查询地址专属url\n",
    "    最高查询次数30w/天，最大并发量160/秒\n",
    "    '''\n",
    "    ak = 'Vhzgfjih2w3YY0WUPuPdKiMQKwIor9rp'\n",
    "    if len(address) < 1:\n",
    "        return None\n",
    "    else:\n",
    "        for add in address:   \n",
    "            url = 'http://api.map.baidu.com/geocoding/v3/?address={inputAddress}&output=json&ak={myAk}'.format(inputAddress=add,myAk=ak)  \n",
    "            yield url\n",
    "            \n",
    "def getPosition(url):\n",
    "    '''返回经纬度信息'''\n",
    "    res = requests.get(url)\n",
    "    json_data = json.loads(res.text)\n",
    "    \n",
    "    if json_data['status'] == 0:\n",
    "        lat = json_data['result']['location']['lat'] #纬度\n",
    "        lng = json_data['result']['location']['lng'] #经度\n",
    "        precise = json_data['result']['precise']\n",
    "        confidence = json_data['result']['confidence']\n",
    "        comprehension = json_data['result']['comprehension']\n",
    "        level = json_data['result']['level']\n",
    "    else:\n",
    "        print(\"Error output!\")\n",
    "        return json_data['status']\n",
    "    return lat,lng,precise,confidence,comprehension,level\n",
    "\n",
    "def getStrings(address):\n",
    "    for add in address:\n",
    "        add_url = list(getUrl(add))[0]\n",
    "        print(add_url)\n",
    "        try:\n",
    "            lat,lng,precise,confidence,comprehension,level = getPosition(add_url) \n",
    "            print(\"地址：{0}|经度:{1}|纬度:{2}|精度:{3}|置信度:{4}|解释性:{5}|分类等级:{6}\".format(add,lat,lng,precise,confidence,comprehension,level))\n",
    "        except Error as e:\n",
    "            print(e)\n",
    "#getStrings()\n",
    "\n",
    "def getDict(address):\n",
    "    column = [\"地址\",\"经度\",\"纬度\",\"精度\",\"置信度\",\"解释性\",\"分类等级\"]\n",
    "    addressL,latL,lngL,preciseL,confidenceL,comprehensionL,levelL = [],[],[],[],[],[],[]\n",
    "    n = -1\n",
    "    for add in address:\n",
    "        addressL.append(add)\n",
    "        lat,lng,precise,confidence,comprehension,level  = getPosition(list(getUrl(add))[0])\n",
    "        latL.append(lat)\n",
    "        lngL.append(lng)\n",
    "        preciseL.append(precise)\n",
    "        confidenceL.append(confidence)\n",
    "        comprehensionL.append(comprehension)\n",
    "        levelL.append(level)\n",
    "                \n",
    "    return {cn : data for cn , data in zip(column,(addressL,latL,lngL,preciseL,confidenceL,comprehensionL,levelL))}\n",
    "\n",
    "import requests\n",
    "import json\n",
    "\n",
    "def getUrl(*address):\n",
    "    '''\n",
    "    调用地图API获取待查询地址专属url\n",
    "    最高查询次数30w/天，最大并发量160/秒\n",
    "    '''\n",
    "    ak = 'Vhzgfjih2w3YY0WUPuPdKiMQKwIor9rp'\n",
    "    if len(address) < 1:\n",
    "        return None\n",
    "    else:\n",
    "        for add in address:   \n",
    "            url = 'http://api.map.baidu.com/geocoding/v3/?address={inputAddress}&output=json&ak={myAk}'.format(inputAddress=add,myAk=ak)  \n",
    "            yield url\n",
    "            \n",
    "def getPosition(url):\n",
    "    '''返回经纬度信息'''\n",
    "    res = requests.get(url)\n",
    "    json_data = json.loads(res.text)\n",
    "    \n",
    "    if json_data['status'] == 0:\n",
    "        lat = json_data['result']['location']['lat'] #纬度\n",
    "        lng = json_data['result']['location']['lng'] #经度\n",
    "        precise = json_data['result']['precise']\n",
    "        confidence = json_data['result']['confidence']\n",
    "        comprehension = json_data['result']['comprehension']\n",
    "        level = json_data['result']['level']\n",
    "    else:\n",
    "        print(\"Error output!\")\n",
    "        return json_data['status']\n",
    "    return lat,lng,precise,confidence,comprehension,level\n",
    "\n",
    "def getStrings(address):\n",
    "    for add in address:\n",
    "        add_url = list(getUrl(add))[0]\n",
    "        print(add_url)\n",
    "        try:\n",
    "            lat,lng,precise,confidence,comprehension,level = getPosition(add_url) \n",
    "            print(\"地址：{0}|经度:{1}|纬度:{2}|精度:{3}|置信度:{4}|解释性:{5}|分类等级:{6}\".format(add,lat,lng,precise,confidence,comprehension,level))\n",
    "        except Error as e:\n",
    "            print(e)\n",
    "\n",
    "def getDict(address):\n",
    "    column = [\"地址\",\"经度\",\"纬度\",\"精度\",\"置信度\",\"解释性\",\"分类等级\"]\n",
    "    addressL,latL,lngL,preciseL,confidenceL,comprehensionL,levelL = [],[],[],[],[],[],[]\n",
    "    n = -1\n",
    "    for add in address:\n",
    "        addressL.append(add)\n",
    "        lat,lng,precise,confidence,comprehension,level  = getPosition(list(getUrl(add))[0])\n",
    "        latL.append(lat)\n",
    "        lngL.append(lng)\n",
    "        preciseL.append(precise)\n",
    "        confidenceL.append(confidence)\n",
    "        comprehensionL.append(comprehension)\n",
    "        levelL.append(level)\n",
    "                \n",
    "    return {cn : data for cn , data in zip(column,(addressL,latL,lngL,preciseL,confidenceL,comprehensionL,levelL))}\n",
    "getDict(['天津火车站'])"
   ]
  },
  {
   "cell_type": "code",
   "execution_count": null,
   "metadata": {},
   "outputs": [],
   "source": []
  }
 ],
 "metadata": {
  "language_info": {
   "name": "python",
   "codemirror_mode": {
    "name": "ipython",
    "version": 3
   },
   "version": "3.8.5-final"
  },
  "orig_nbformat": 2,
  "file_extension": ".py",
  "mimetype": "text/x-python",
  "name": "python",
  "npconvert_exporter": "python",
  "pygments_lexer": "ipython3",
  "version": 3,
  "kernelspec": {
   "name": "python38564bithylangtorch38conda3e0562e6793640fcae46da99b7f6e472",
   "display_name": "Python 3.8.5 64-bit ('hylangtorch38': conda)"
  }
 },
 "nbformat": 4,
 "nbformat_minor": 2
}