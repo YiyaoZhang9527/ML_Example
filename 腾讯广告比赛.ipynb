{
 "cells": [
  {
   "cell_type": "code",
   "execution_count": 3,
   "metadata": {},
   "outputs": [],
   "source": [
    "import numpy as np\n",
    "import pandas as pd\n",
    "import matplotlib.pyplot as plt\n",
    "import os\n",
    "import torch"
   ]
  },
  {
   "cell_type": "code",
   "execution_count": 12,
   "metadata": {},
   "outputs": [
    {
     "data": {
      "text/plain": [
       "['/Users/manmanzhang/Downloads/testA/.DS_Store',\n",
       " '/Users/manmanzhang/Downloads/testA/imps_log.zip',\n",
       " '/Users/manmanzhang/Downloads/testA/ad_static_feature.out',\n",
       " '/Users/manmanzhang/Downloads/testA/ad_operation.dat',\n",
       " '/Users/manmanzhang/Downloads/testA/user.zip',\n",
       " '/Users/manmanzhang/Downloads/testA/user_data',\n",
       " '/Users/manmanzhang/Downloads/testA/test_sample.dat',\n",
       " '/Users/manmanzhang/Downloads/testA/totalExposureLog.out']"
      ]
     },
     "execution_count": 12,
     "metadata": {},
     "output_type": "execute_result"
    }
   ],
   "source": [
    "dirpath = '/Users/manmanzhang/Downloads/testA/'\n",
    "filenames = os.listdir(dirpath)\n",
    "filepath = [\"{}{}\".format(dirpath,filename) for filename in filenames ]\n",
    "filepath"
   ]
  },
  {
   "cell_type": "code",
   "execution_count": 23,
   "metadata": {},
   "outputs": [
    {
     "data": {
      "text/plain": [
       "1396718"
      ]
     },
     "execution_count": 23,
     "metadata": {},
     "output_type": "execute_result"
    }
   ],
   "source": [
    "file1 = open(filepath[5],'r').readlines()\n",
    "len(file1)"
   ]
  },
  {
   "cell_type": "code",
   "execution_count": null,
   "metadata": {},
   "outputs": [],
   "source": []
  }
 ],
 "metadata": {
  "kernelspec": {
   "display_name": "PyCharm (InferenceSystem)",
   "language": "python",
   "name": "pycharm-66c53067"
  },
  "language_info": {
   "codemirror_mode": {
    "name": "ipython",
    "version": 3
   },
   "file_extension": ".py",
   "mimetype": "text/x-python",
   "name": "python",
   "nbconvert_exporter": "python",
   "pygments_lexer": "ipython3",
   "version": "3.7.6"
  }
 },
 "nbformat": 4,
 "nbformat_minor": 2
}
