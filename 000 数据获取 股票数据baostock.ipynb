{
 "nbformat": 4,
 "nbformat_minor": 2,
 "metadata": {
  "language_info": {
   "name": "python",
   "codemirror_mode": {
    "name": "ipython",
    "version": 3
   },
   "version": "3.7.3-final"
  },
  "orig_nbformat": 2,
  "file_extension": ".py",
  "mimetype": "text/x-python",
  "name": "python",
  "npconvert_exporter": "python",
  "pygments_lexer": "ipython3",
  "version": 3,
  "kernelspec": {
   "name": "pycharm-66c53067",
   "display_name": "PyCharm (InferenceSystem)"
  }
 },
 "cells": [
  {
   "cell_type": "code",
   "execution_count": 22,
   "metadata": {},
   "outputs": [],
   "source": [
    "import baostock as bs\n",
    "import pandas as pd\n",
    "import datetime"
   ]
  },
  {
   "cell_type": "markdown",
   "metadata": {},
   "source": [
    "# 证券宝（网址www.baostock.com）是一个免费、开源的证券数据平台，最重要的是：无需注册。\n",
    "pip install baostock\n",
    "或使用国内源安装：\n",
    "pip install baostock -i https://pypi.tuna.tsinghua.edu.cn/simple/ --trusted-host pypi.tuna.tsinghua.edu.cn"
   ]
  },
  {
   "cell_type": "markdown",
   "metadata": {},
   "source": [
    "## 获取指定股票历史数据"
   ]
  },
  {
   "cell_type": "code",
   "execution_count": 23,
   "metadata": {},
   "outputs": [],
   "source": [
    "code = \"sz.002484\" #查询的股票代码\n",
    "datestart = '2019-07-01' #开始时间\n",
    "datetoday = datetime.datetime.today().strftime(\"%Y-%m-%d\")"
   ]
  },
  {
   "cell_type": "code",
   "execution_count": 24,
   "metadata": {},
   "outputs": [
    {
     "output_type": "execute_result",
     "data": {
      "text/plain": "'2020-04-16'"
     },
     "metadata": {},
     "execution_count": 24
    }
   ],
   "source": [
    "datetoday"
   ]
  },
  {
   "cell_type": "code",
   "execution_count": 25,
   "metadata": {},
   "outputs": [
    {
     "output_type": "execute_result",
     "data": {
      "text/plain": "'date,code,open,high,low,close,preclose,volume,amount,adjustflag,turn,tradestatus,pctChg,isST'"
     },
     "metadata": {},
     "execution_count": 25
    }
   ],
   "source": [
    "ShowList =\"date,code,open,high,low,close,preclose,volume,amount,adjustflag,turn,tradestatus,pctChg,isST\"\n",
    "ShowList"
   ]
  },
  {
   "cell_type": "markdown",
   "metadata": {},
   "source": [
    "## 获取记录，将记录合并在一起"
   ]
  },
  {
   "cell_type": "code",
   "execution_count": 26,
   "metadata": {},
   "outputs": [],
   "source": [
    "def ListToDf(rs):\n",
    "    data_list = []\n",
    "    while (rs.error_code == '0') & rs.next():\n",
    "        data_list.append(rs.get_row_data())\n",
    "        result = pd.DataFrame(data_list, columns=rs.fields)\n",
    "    return result"
   ]
  },
  {
   "cell_type": "markdown",
   "metadata": {},
   "source": [
    "## 登陆系统 "
   ]
  },
  {
   "cell_type": "code",
   "execution_count": 27,
   "metadata": {},
   "outputs": [
    {
     "output_type": "stream",
     "name": "stdout",
     "text": "login success!\nlogin respond error_msg:success\n"
    }
   ],
   "source": [
    "lg = bs.login()\n",
    "\n",
    "print('login respond error_msg:'+lg.error_msg)"
   ]
  },
  {
   "cell_type": "code",
   "execution_count": 28,
   "metadata": {},
   "outputs": [],
   "source": [
    "rs = bs.query_history_k_data_plus(code,ShowList,start_date=datestart, end_date=datetoday,frequency=\"d\", adjustflag=\"3\")\n",
    ""
   ]
  },
  {
   "cell_type": "code",
   "execution_count": 29,
   "metadata": {},
   "outputs": [],
   "source": [
    "result = ListToDf(rs)"
   ]
  },
  {
   "cell_type": "markdown",
   "metadata": {},
   "source": [
    "## 获取沪深A股历史K线数据"
   ]
  },
  {
   "cell_type": "code",
   "execution_count": 30,
   "metadata": {},
   "outputs": [
    {
     "output_type": "execute_result",
     "data": {
      "text/plain": "           date       code    open    high     low   close preclose    volume  \\\n0    2019-07-01  sz.002484  6.1900  6.2800  6.1400  6.2700   6.0600  16357932   \n1    2019-07-02  sz.002484  6.2700  6.2900  6.1900  6.2300   6.2700  10547447   \n2    2019-07-03  sz.002484  6.2200  6.2200  6.0800  6.1000   6.2300   6266504   \n3    2019-07-04  sz.002484  6.1100  6.1400  6.0600  6.0800   6.1000   3610427   \n4    2019-07-05  sz.002484  6.0900  6.3800  6.0500  6.1700   6.0800   8952717   \n..          ...        ...     ...     ...     ...     ...      ...       ...   \n190  2020-04-10  sz.002484  8.8700  9.2800  8.6500  8.9300   8.8000  24176109   \n191  2020-04-13  sz.002484  8.8000  8.8000  8.4300  8.5300   8.9300  15172049   \n192  2020-04-14  sz.002484  8.6500  8.8800  8.6500  8.8800   8.5300  13085732   \n193  2020-04-15  sz.002484  8.8900  9.2600  8.8300  9.0300   8.8800  19425910   \n194  2020-04-16  sz.002484  8.9500  9.1200  8.8300  9.0200   9.0300  13838813   \n\n             amount adjustflag      turn tradestatus     pctChg isST  \n0    101227590.5600          3  2.142080           1   3.465347    0  \n1     65769623.2000          3  1.381194           1  -0.637958    0  \n2     38354919.9600          3  0.820602           1  -2.086679    0  \n3     22015399.2900          3  0.472787           1  -0.327869    0  \n4     55309059.7200          3  1.172363           1   1.480266    0  \n..              ...        ...       ...         ...        ...  ...  \n190  216147630.7700          3  3.158100           1   1.477300    0  \n191  130082054.2700          3  1.981900           1  -4.479300    0  \n192  114743374.1500          3  1.709300           1   4.103200    0  \n193  176078977.8000          3  2.537500           1   1.689200    0  \n194  124492089.9700          3  1.807700           1  -0.110700    0  \n\n[195 rows x 14 columns]",
      "text/html": "<div>\n<style scoped>\n    .dataframe tbody tr th:only-of-type {\n        vertical-align: middle;\n    }\n\n    .dataframe tbody tr th {\n        vertical-align: top;\n    }\n\n    .dataframe thead th {\n        text-align: right;\n    }\n</style>\n<table border=\"1\" class=\"dataframe\">\n  <thead>\n    <tr style=\"text-align: right;\">\n      <th></th>\n      <th>date</th>\n      <th>code</th>\n      <th>open</th>\n      <th>high</th>\n      <th>low</th>\n      <th>close</th>\n      <th>preclose</th>\n      <th>volume</th>\n      <th>amount</th>\n      <th>adjustflag</th>\n      <th>turn</th>\n      <th>tradestatus</th>\n      <th>pctChg</th>\n      <th>isST</th>\n    </tr>\n  </thead>\n  <tbody>\n    <tr>\n      <th>0</th>\n      <td>2019-07-01</td>\n      <td>sz.002484</td>\n      <td>6.1900</td>\n      <td>6.2800</td>\n      <td>6.1400</td>\n      <td>6.2700</td>\n      <td>6.0600</td>\n      <td>16357932</td>\n      <td>101227590.5600</td>\n      <td>3</td>\n      <td>2.142080</td>\n      <td>1</td>\n      <td>3.465347</td>\n      <td>0</td>\n    </tr>\n    <tr>\n      <th>1</th>\n      <td>2019-07-02</td>\n      <td>sz.002484</td>\n      <td>6.2700</td>\n      <td>6.2900</td>\n      <td>6.1900</td>\n      <td>6.2300</td>\n      <td>6.2700</td>\n      <td>10547447</td>\n      <td>65769623.2000</td>\n      <td>3</td>\n      <td>1.381194</td>\n      <td>1</td>\n      <td>-0.637958</td>\n      <td>0</td>\n    </tr>\n    <tr>\n      <th>2</th>\n      <td>2019-07-03</td>\n      <td>sz.002484</td>\n      <td>6.2200</td>\n      <td>6.2200</td>\n      <td>6.0800</td>\n      <td>6.1000</td>\n      <td>6.2300</td>\n      <td>6266504</td>\n      <td>38354919.9600</td>\n      <td>3</td>\n      <td>0.820602</td>\n      <td>1</td>\n      <td>-2.086679</td>\n      <td>0</td>\n    </tr>\n    <tr>\n      <th>3</th>\n      <td>2019-07-04</td>\n      <td>sz.002484</td>\n      <td>6.1100</td>\n      <td>6.1400</td>\n      <td>6.0600</td>\n      <td>6.0800</td>\n      <td>6.1000</td>\n      <td>3610427</td>\n      <td>22015399.2900</td>\n      <td>3</td>\n      <td>0.472787</td>\n      <td>1</td>\n      <td>-0.327869</td>\n      <td>0</td>\n    </tr>\n    <tr>\n      <th>4</th>\n      <td>2019-07-05</td>\n      <td>sz.002484</td>\n      <td>6.0900</td>\n      <td>6.3800</td>\n      <td>6.0500</td>\n      <td>6.1700</td>\n      <td>6.0800</td>\n      <td>8952717</td>\n      <td>55309059.7200</td>\n      <td>3</td>\n      <td>1.172363</td>\n      <td>1</td>\n      <td>1.480266</td>\n      <td>0</td>\n    </tr>\n    <tr>\n      <th>...</th>\n      <td>...</td>\n      <td>...</td>\n      <td>...</td>\n      <td>...</td>\n      <td>...</td>\n      <td>...</td>\n      <td>...</td>\n      <td>...</td>\n      <td>...</td>\n      <td>...</td>\n      <td>...</td>\n      <td>...</td>\n      <td>...</td>\n      <td>...</td>\n    </tr>\n    <tr>\n      <th>190</th>\n      <td>2020-04-10</td>\n      <td>sz.002484</td>\n      <td>8.8700</td>\n      <td>9.2800</td>\n      <td>8.6500</td>\n      <td>8.9300</td>\n      <td>8.8000</td>\n      <td>24176109</td>\n      <td>216147630.7700</td>\n      <td>3</td>\n      <td>3.158100</td>\n      <td>1</td>\n      <td>1.477300</td>\n      <td>0</td>\n    </tr>\n    <tr>\n      <th>191</th>\n      <td>2020-04-13</td>\n      <td>sz.002484</td>\n      <td>8.8000</td>\n      <td>8.8000</td>\n      <td>8.4300</td>\n      <td>8.5300</td>\n      <td>8.9300</td>\n      <td>15172049</td>\n      <td>130082054.2700</td>\n      <td>3</td>\n      <td>1.981900</td>\n      <td>1</td>\n      <td>-4.479300</td>\n      <td>0</td>\n    </tr>\n    <tr>\n      <th>192</th>\n      <td>2020-04-14</td>\n      <td>sz.002484</td>\n      <td>8.6500</td>\n      <td>8.8800</td>\n      <td>8.6500</td>\n      <td>8.8800</td>\n      <td>8.5300</td>\n      <td>13085732</td>\n      <td>114743374.1500</td>\n      <td>3</td>\n      <td>1.709300</td>\n      <td>1</td>\n      <td>4.103200</td>\n      <td>0</td>\n    </tr>\n    <tr>\n      <th>193</th>\n      <td>2020-04-15</td>\n      <td>sz.002484</td>\n      <td>8.8900</td>\n      <td>9.2600</td>\n      <td>8.8300</td>\n      <td>9.0300</td>\n      <td>8.8800</td>\n      <td>19425910</td>\n      <td>176078977.8000</td>\n      <td>3</td>\n      <td>2.537500</td>\n      <td>1</td>\n      <td>1.689200</td>\n      <td>0</td>\n    </tr>\n    <tr>\n      <th>194</th>\n      <td>2020-04-16</td>\n      <td>sz.002484</td>\n      <td>8.9500</td>\n      <td>9.1200</td>\n      <td>8.8300</td>\n      <td>9.0200</td>\n      <td>9.0300</td>\n      <td>13838813</td>\n      <td>124492089.9700</td>\n      <td>3</td>\n      <td>1.807700</td>\n      <td>1</td>\n      <td>-0.110700</td>\n      <td>0</td>\n    </tr>\n  </tbody>\n</table>\n<p>195 rows × 14 columns</p>\n</div>"
     },
     "metadata": {},
     "execution_count": 30
    }
   ],
   "source": [
    "result"
   ]
  },
  {
   "cell_type": "code",
   "execution_count": 31,
   "metadata": {},
   "outputs": [
    {
     "output_type": "stream",
     "name": "stdout",
     "text": "query_history_k_data_plus respond error_msg:success\n"
    }
   ],
   "source": [
    "print('query_history_k_data_plus respond error_msg:'+rs.error_msg)"
   ]
  },
  {
   "cell_type": "markdown",
   "metadata": {},
   "source": [
    "## 结果集输出到csv文件"
   ]
  },
  {
   "cell_type": "code",
   "execution_count": 34,
   "metadata": {},
   "outputs": [],
   "source": [
    "result.to_csv('history_A_stock_k_' + code + '.csv', index=False)"
   ]
  },
  {
   "cell_type": "code",
   "execution_count": 35,
   "metadata": {},
   "outputs": [
    {
     "output_type": "execute_result",
     "data": {
      "text/plain": "           date       code  open  high   low  close  preclose    volume  \\\n0    2019-07-01  sz.002484  6.19  6.28  6.14   6.27      6.06  16357932   \n1    2019-07-02  sz.002484  6.27  6.29  6.19   6.23      6.27  10547447   \n2    2019-07-03  sz.002484  6.22  6.22  6.08   6.10      6.23   6266504   \n3    2019-07-04  sz.002484  6.11  6.14  6.06   6.08      6.10   3610427   \n4    2019-07-05  sz.002484  6.09  6.38  6.05   6.17      6.08   8952717   \n..          ...        ...   ...   ...   ...    ...       ...       ...   \n190  2020-04-10  sz.002484  8.87  9.28  8.65   8.93      8.80  24176109   \n191  2020-04-13  sz.002484  8.80  8.80  8.43   8.53      8.93  15172049   \n192  2020-04-14  sz.002484  8.65  8.88  8.65   8.88      8.53  13085732   \n193  2020-04-15  sz.002484  8.89  9.26  8.83   9.03      8.88  19425910   \n194  2020-04-16  sz.002484  8.95  9.12  8.83   9.02      9.03  13838813   \n\n           amount  adjustflag      turn  tradestatus    pctChg  isST  \n0    1.012276e+08           3  2.142080            1  3.465347     0  \n1    6.576962e+07           3  1.381194            1 -0.637958     0  \n2    3.835492e+07           3  0.820602            1 -2.086679     0  \n3    2.201540e+07           3  0.472787            1 -0.327869     0  \n4    5.530906e+07           3  1.172363            1  1.480266     0  \n..            ...         ...       ...          ...       ...   ...  \n190  2.161476e+08           3  3.158100            1  1.477300     0  \n191  1.300821e+08           3  1.981900            1 -4.479300     0  \n192  1.147434e+08           3  1.709300            1  4.103200     0  \n193  1.760790e+08           3  2.537500            1  1.689200     0  \n194  1.244921e+08           3  1.807700            1 -0.110700     0  \n\n[195 rows x 14 columns]",
      "text/html": "<div>\n<style scoped>\n    .dataframe tbody tr th:only-of-type {\n        vertical-align: middle;\n    }\n\n    .dataframe tbody tr th {\n        vertical-align: top;\n    }\n\n    .dataframe thead th {\n        text-align: right;\n    }\n</style>\n<table border=\"1\" class=\"dataframe\">\n  <thead>\n    <tr style=\"text-align: right;\">\n      <th></th>\n      <th>date</th>\n      <th>code</th>\n      <th>open</th>\n      <th>high</th>\n      <th>low</th>\n      <th>close</th>\n      <th>preclose</th>\n      <th>volume</th>\n      <th>amount</th>\n      <th>adjustflag</th>\n      <th>turn</th>\n      <th>tradestatus</th>\n      <th>pctChg</th>\n      <th>isST</th>\n    </tr>\n  </thead>\n  <tbody>\n    <tr>\n      <th>0</th>\n      <td>2019-07-01</td>\n      <td>sz.002484</td>\n      <td>6.19</td>\n      <td>6.28</td>\n      <td>6.14</td>\n      <td>6.27</td>\n      <td>6.06</td>\n      <td>16357932</td>\n      <td>1.012276e+08</td>\n      <td>3</td>\n      <td>2.142080</td>\n      <td>1</td>\n      <td>3.465347</td>\n      <td>0</td>\n    </tr>\n    <tr>\n      <th>1</th>\n      <td>2019-07-02</td>\n      <td>sz.002484</td>\n      <td>6.27</td>\n      <td>6.29</td>\n      <td>6.19</td>\n      <td>6.23</td>\n      <td>6.27</td>\n      <td>10547447</td>\n      <td>6.576962e+07</td>\n      <td>3</td>\n      <td>1.381194</td>\n      <td>1</td>\n      <td>-0.637958</td>\n      <td>0</td>\n    </tr>\n    <tr>\n      <th>2</th>\n      <td>2019-07-03</td>\n      <td>sz.002484</td>\n      <td>6.22</td>\n      <td>6.22</td>\n      <td>6.08</td>\n      <td>6.10</td>\n      <td>6.23</td>\n      <td>6266504</td>\n      <td>3.835492e+07</td>\n      <td>3</td>\n      <td>0.820602</td>\n      <td>1</td>\n      <td>-2.086679</td>\n      <td>0</td>\n    </tr>\n    <tr>\n      <th>3</th>\n      <td>2019-07-04</td>\n      <td>sz.002484</td>\n      <td>6.11</td>\n      <td>6.14</td>\n      <td>6.06</td>\n      <td>6.08</td>\n      <td>6.10</td>\n      <td>3610427</td>\n      <td>2.201540e+07</td>\n      <td>3</td>\n      <td>0.472787</td>\n      <td>1</td>\n      <td>-0.327869</td>\n      <td>0</td>\n    </tr>\n    <tr>\n      <th>4</th>\n      <td>2019-07-05</td>\n      <td>sz.002484</td>\n      <td>6.09</td>\n      <td>6.38</td>\n      <td>6.05</td>\n      <td>6.17</td>\n      <td>6.08</td>\n      <td>8952717</td>\n      <td>5.530906e+07</td>\n      <td>3</td>\n      <td>1.172363</td>\n      <td>1</td>\n      <td>1.480266</td>\n      <td>0</td>\n    </tr>\n    <tr>\n      <th>...</th>\n      <td>...</td>\n      <td>...</td>\n      <td>...</td>\n      <td>...</td>\n      <td>...</td>\n      <td>...</td>\n      <td>...</td>\n      <td>...</td>\n      <td>...</td>\n      <td>...</td>\n      <td>...</td>\n      <td>...</td>\n      <td>...</td>\n      <td>...</td>\n    </tr>\n    <tr>\n      <th>190</th>\n      <td>2020-04-10</td>\n      <td>sz.002484</td>\n      <td>8.87</td>\n      <td>9.28</td>\n      <td>8.65</td>\n      <td>8.93</td>\n      <td>8.80</td>\n      <td>24176109</td>\n      <td>2.161476e+08</td>\n      <td>3</td>\n      <td>3.158100</td>\n      <td>1</td>\n      <td>1.477300</td>\n      <td>0</td>\n    </tr>\n    <tr>\n      <th>191</th>\n      <td>2020-04-13</td>\n      <td>sz.002484</td>\n      <td>8.80</td>\n      <td>8.80</td>\n      <td>8.43</td>\n      <td>8.53</td>\n      <td>8.93</td>\n      <td>15172049</td>\n      <td>1.300821e+08</td>\n      <td>3</td>\n      <td>1.981900</td>\n      <td>1</td>\n      <td>-4.479300</td>\n      <td>0</td>\n    </tr>\n    <tr>\n      <th>192</th>\n      <td>2020-04-14</td>\n      <td>sz.002484</td>\n      <td>8.65</td>\n      <td>8.88</td>\n      <td>8.65</td>\n      <td>8.88</td>\n      <td>8.53</td>\n      <td>13085732</td>\n      <td>1.147434e+08</td>\n      <td>3</td>\n      <td>1.709300</td>\n      <td>1</td>\n      <td>4.103200</td>\n      <td>0</td>\n    </tr>\n    <tr>\n      <th>193</th>\n      <td>2020-04-15</td>\n      <td>sz.002484</td>\n      <td>8.89</td>\n      <td>9.26</td>\n      <td>8.83</td>\n      <td>9.03</td>\n      <td>8.88</td>\n      <td>19425910</td>\n      <td>1.760790e+08</td>\n      <td>3</td>\n      <td>2.537500</td>\n      <td>1</td>\n      <td>1.689200</td>\n      <td>0</td>\n    </tr>\n    <tr>\n      <th>194</th>\n      <td>2020-04-16</td>\n      <td>sz.002484</td>\n      <td>8.95</td>\n      <td>9.12</td>\n      <td>8.83</td>\n      <td>9.02</td>\n      <td>9.03</td>\n      <td>13838813</td>\n      <td>1.244921e+08</td>\n      <td>3</td>\n      <td>1.807700</td>\n      <td>1</td>\n      <td>-0.110700</td>\n      <td>0</td>\n    </tr>\n  </tbody>\n</table>\n<p>195 rows × 14 columns</p>\n</div>"
     },
     "metadata": {},
     "execution_count": 35
    }
   ],
   "source": [
    "pd.read_csv('history_A_stock_k_' + code + '.csv')"
   ]
  },
  {
   "cell_type": "code",
   "execution_count": 36,
   "metadata": {},
   "outputs": [
    {
     "output_type": "stream",
     "name": "stdout",
     "text": "logout success!\n"
    },
    {
     "output_type": "execute_result",
     "data": {
      "text/plain": "<baostock.data.resultset.ResultData at 0x10aa2b6d0>"
     },
     "metadata": {},
     "execution_count": 36
    }
   ],
   "source": [
    "bs.logout()"
   ]
  },
  {
   "cell_type": "code",
   "execution_count": null,
   "metadata": {},
   "outputs": [],
   "source": []
  }
 ]
}