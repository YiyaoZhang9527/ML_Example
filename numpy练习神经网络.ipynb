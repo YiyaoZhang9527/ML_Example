{
 "cells": [
  {
   "cell_type": "code",
   "execution_count": 1,
   "metadata": {},
   "outputs": [
    {
     "data": {
      "text/plain": [
       "[<matplotlib.lines.Line2D at 0x7f1368fbb6d0>]"
      ]
     },
     "execution_count": 1,
     "metadata": {},
     "output_type": "execute_result"
    },
    {
     "data": {
      "image/png": "[encoded data removed]",
      "text/plain": [
       "<Figure size 432x288 with 1 Axes>"
      ]
     },
     "metadata": {
      "needs_background": "light"
     },
     "output_type": "display_data"
    }
   ],
   "source": [
    "import numpy as np\n",
    "import matplotlib.pyplot as plt\n",
    "\n",
    "def sigmoid(x): #把非常大的负值变成接近0把非常大的正值变成接近1\n",
    "    '''logistic/逻辑斯蒂曲线'''\n",
    "    return 1/(1+np.power(np.e,x*-1))\n",
    "    \n",
    "plt.plot([sigmoid(i) for i in range(-15,15)])"
   ]
  },
  {
   "cell_type": "code",
   "execution_count": 2,
   "metadata": {},
   "outputs": [
    {
     "data": {
      "text/plain": [
       "array([0.0005067 , 0.00053656, 0.00012838, 0.00021643, 0.00017778,\n",
       "       0.00033485, 0.00038756, 0.00038763, 0.00019072, 0.00028975])"
      ]
     },
     "execution_count": 2,
     "metadata": {},
     "output_type": "execute_result"
    }
   ],
   "source": [
    "a = np.random.rand(10)\n",
    "w = np.random.rand(100).reshape(10,10)\n",
    "b0 = -10\n",
    "def weighted_sum(a,w,b0):\n",
    "    return (np.dot(w,a)+b0)\n",
    "sigmoid(weighted_sum(a,w,b0))"
   ]
  },
  {
   "cell_type": "code",
   "execution_count": 3,
   "metadata": {},
   "outputs": [
    {
     "data": {
      "image/png": "[encoded data removed]",
      "text/plain": [
       "<Figure size 432x288 with 1 Axes>"
      ]
     },
     "metadata": {
      "needs_background": "light"
     },
     "output_type": "display_data"
    }
   ],
   "source": [
    "for i,j in zip([np.e**(i) for i in range(-100,100)],[i for i in range(-100,100)]):\n",
    "    plt.scatter(i,j)\n",
    "plt.show()"
   ]
  },
  {
   "cell_type": "code",
   "execution_count": 4,
   "metadata": {},
   "outputs": [
    {
     "data": {
      "text/plain": [
       "[<matplotlib.lines.Line2D at 0x7f133c611190>]"
      ]
     },
     "execution_count": 4,
     "metadata": {},
     "output_type": "execute_result"
    },
    {
     "data": {
      "image/png": "[encoded data removed]",
      "text/plain": [
       "<Figure size 432x288 with 1 Axes>"
      ]
     },
     "metadata": {
      "needs_background": "light"
     },
     "output_type": "display_data"
    }
   ],
   "source": [
    "plt.plot([np.tanh(i) for i in range(-15,15)])"
   ]
  },
  {
   "cell_type": "code",
   "execution_count": 5,
   "metadata": {},
   "outputs": [
    {
     "data": {
      "text/plain": [
       "0.9994696821554157"
      ]
     },
     "execution_count": 5,
     "metadata": {},
     "output_type": "execute_result"
    }
   ],
   "source": [
    "def ReLU(a,Inactive):\n",
    "    '''线性整流函数：0和a的最大值取其一，当a超过一个域值的时候就会激发，否则择不激发，输出0,效率比logistic/逻辑斯蒂曲线要高，适合特别深的神经网络'''\n",
    "    return a.max() < Inactive and 0 or a.max()\n",
    "\n",
    "ReLU(np.random.rand(10,100),1)"
   ]
  },
  {
   "cell_type": "code",
   "execution_count": null,
   "metadata": {},
   "outputs": [],
   "source": []
  },
  {
   "cell_type": "code",
   "execution_count": 6,
   "metadata": {},
   "outputs": [
    {
     "data": {
      "text/plain": [
       "matrix([[163, 162, 161, ..., 170, 154, 130],\n",
       "        [162, 162, 162, ..., 173, 155, 126],\n",
       "        [162, 162, 163, ..., 170, 155, 128],\n",
       "        ...,\n",
       "        [ 43,  42,  51, ..., 103, 101,  99],\n",
       "        [ 41,  42,  55, ..., 103, 105, 106],\n",
       "        [ 42,  44,  57, ..., 102, 106, 109]])"
      ]
     },
     "execution_count": 6,
     "metadata": {},
     "output_type": "execute_result"
    }
   ],
   "source": [
    "from PIL import Image\n",
    "import numpy as np\n",
    "# import scipy\n",
    "\n",
    "def loadImage():\n",
    "    # 读取图片\n",
    "    im = Image.open(\"测试图片.jpg\")\n",
    "    # 显示图片\n",
    "    im.show() \n",
    "    im = im.convert(\"L\") \n",
    "    data = im.getdata()\n",
    "    data = np.matrix(data)\n",
    "    # 变换成512*512\n",
    "    data = np.reshape(data,(512,512))\n",
    "    #new_im = Image.fromarray(data)\n",
    "    #new_im.show()\n",
    "    return data\n",
    "\n",
    "loadImage()"
   ]
  },
  {
   "cell_type": "code",
   "execution_count": null,
   "metadata": {},
   "outputs": [],
   "source": []
  },
  {
   "cell_type": "code",
   "execution_count": null,
   "metadata": {},
   "outputs": [],
   "source": []
  },
  {
   "cell_type": "code",
   "execution_count": null,
   "metadata": {},
   "outputs": [],
   "source": []
  },
  {
   "cell_type": "code",
   "execution_count": null,
   "metadata": {},
   "outputs": [],
   "source": []
  },
  {
   "cell_type": "code",
   "execution_count": null,
   "metadata": {},
   "outputs": [],
   "source": []
  }
 ],
 "metadata": {
  "kernelspec": {
   "display_name": "Python 3",
   "language": "python",
   "name": "python3"
  },
  "language_info": {
   "codemirror_mode": {
    "name": "ipython",
    "version": 3
   },
   "file_extension": ".py",
   "mimetype": "text/x-python",
   "name": "python",
   "nbconvert_exporter": "python",
   "pygments_lexer": "ipython3",
   "version": "3.7.9"
  },
  "pycharm": {
   "stem_cell": {
    "cell_type": "raw",
    "metadata": {
     "collapsed": false
    },
    "source": []
   }
  }
 },
 "nbformat": 4,
 "nbformat_minor": 4
}
