{
 "cells": [
  {
   "cell_type": "markdown",
   "metadata": {},
   "source": [
    "# 返回特征值，按照升序排列，num定义返回的个数"
   ]
  },
  {
   "cell_type": "code",
   "execution_count": 2,
   "metadata": {},
   "outputs": [
    {
     "data": {
      "text/plain": [
       "array([[ 0.76464194, -0.06822118,  0.60155711,  1.31791163, -1.32305491],\n",
       "       [-0.40238799,  2.04658909,  0.46540193, -0.02269507, -0.67960119],\n",
       "       [ 0.42468664,  0.77713545,  0.16473915,  2.55878703, -0.45871096],\n",
       "       [ 0.18988652,  0.89519287, -0.18754835, -1.71410462, -0.53143054],\n",
       "       [ 1.26528212, -1.11756819, -1.02990252, -0.26774479, -0.24250394]])"
      ]
     },
     "execution_count": 2,
     "metadata": {},
     "output_type": "execute_result"
    }
   ],
   "source": [
    "import numpy as np\n",
    "A = np.random.randn(25).reshape(5,5)\n",
    "A"
   ]
  },
  {
   "cell_type": "code",
   "execution_count": 12,
   "metadata": {},
   "outputs": [],
   "source": [
    "eigenvalue,featurevector = np.linalg.eigh(A)"
   ]
  },
  {
   "cell_type": "markdown",
   "metadata": {},
   "source": [
    "# 特征值"
   ]
  },
  {
   "cell_type": "code",
   "execution_count": 13,
   "metadata": {},
   "outputs": [
    {
     "data": {
      "text/plain": [
       "array([-2.1723382 , -1.54926206,  0.27479227,  1.17681939,  3.28935022])"
      ]
     },
     "execution_count": 13,
     "metadata": {},
     "output_type": "execute_result"
    }
   ],
   "source": [
    "eigenvalue"
   ]
  },
  {
   "cell_type": "markdown",
   "metadata": {},
   "source": [
    "# 特征向量"
   ]
  },
  {
   "cell_type": "code",
   "execution_count": 14,
   "metadata": {},
   "outputs": [
    {
     "data": {
      "text/plain": [
       "array([[-0.29018732,  0.33478649, -0.02044341,  0.84857926, -0.28845212],\n",
       "       [-0.15389512, -0.23539589,  0.45830212,  0.31687176,  0.78131717],\n",
       "       [ 0.34001855, -0.31510266, -0.77139322,  0.32193081,  0.29395705],\n",
       "       [ 0.78915436,  0.54223559,  0.22609476,  0.10956934,  0.14174513],\n",
       "       [ 0.39208468, -0.66271989,  0.37864877,  0.25270662, -0.44703068]])"
      ]
     },
     "execution_count": 14,
     "metadata": {},
     "output_type": "execute_result"
    }
   ],
   "source": [
    "featurevector"
   ]
  }
 ],
 "metadata": {
  "kernelspec": {
   "display_name": "Python [conda env:deepintorch]",
   "language": "python",
   "name": "conda-env-deepintorch-py"
  },
  "language_info": {
   "codemirror_mode": {
    "name": "ipython",
    "version": 3
   },
   "file_extension": ".py",
   "mimetype": "text/x-python",
   "name": "python",
   "nbconvert_exporter": "python",
   "pygments_lexer": "ipython3",
   "version": "3.7.9"
  }
 },
 "nbformat": 4,
 "nbformat_minor": 4
}
