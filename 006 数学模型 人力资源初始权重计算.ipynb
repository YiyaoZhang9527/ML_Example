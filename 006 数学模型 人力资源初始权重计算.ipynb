{
 "cells": [
  {
   "cell_type": "code",
   "execution_count": 475,
   "metadata": {},
   "outputs": [],
   "source": [
    "import numpy as np\n",
    "from scipy import spatial"
   ]
  },
  {
   "cell_type": "code",
   "execution_count": 476,
   "metadata": {},
   "outputs": [],
   "source": [
    "def sigmoid(x):\n",
    "    return 1/1-np.exp(-x)"
   ]
  },
  {
   "cell_type": "code",
   "execution_count": 477,
   "metadata": {},
   "outputs": [],
   "source": [
    "def theta(mat):\n",
    "    return np.dot(mat,np.ones(mat.shape[-1])[:,None])"
   ]
  },
  {
   "cell_type": "code",
   "execution_count": 478,
   "metadata": {},
   "outputs": [],
   "source": [
    "def hat(points):\n",
    "    m = points.shape\n",
    "    return np.std(points)/np.mean(points)"
   ]
  },
  {
   "cell_type": "code",
   "execution_count": 479,
   "metadata": {},
   "outputs": [],
   "source": [
    "def mainParameters(*vars):\n",
    "    m ,n = max(vars),len(vars)\n",
    "    Mat = np.abs(np.array([np.r_[np.r_[np.arange(-i,1),np.arange(1,i+1)],np.r_[np.zeros(m-i),np.zeros(m-i)]] for i in vars]))/(2*m)\n",
    "    individualPoints = sigmoid(theta(Mat))\n",
    "    return {'Value':individualPoints,'zeroeStimate':hat(individualPoints)}"
   ]
  },
  {
   "cell_type": "markdown",
   "metadata": {},
   "source": [
    "## 初步描述  mainParameters为有纲量技能分值入口 value为各项技能得分，zeroeStimate为没有做条件关联度加权处理的初步分值"
   ]
  },
  {
   "cell_type": "code",
   "execution_count": 490,
   "metadata": {},
   "outputs": [
    {
     "data": {
      "text/plain": [
       "({'value': array([[0.34856094],\n",
       "         [0.99944692],\n",
       "         [0.99103373]]),\n",
       "  'result': 0.39101519199946916},\n",
       " {'value': array([[0.34856094],\n",
       "         [0.99944692],\n",
       "         [0.99103373],\n",
       "         [0.99103373]]),\n",
       "  'result': 0.3356492563077206},\n",
       " {'value': array([[0.34856094],\n",
       "         [0.99944692],\n",
       "         [0.99103373]]),\n",
       "  'result': 0.39101519199946916},\n",
       " {'value': array([[0.34856094],\n",
       "         [0.99944692],\n",
       "         [0.99103373],\n",
       "         [0.99103373]]),\n",
       "  'result': 0.3356492563077206})"
      ]
     },
     "execution_count": 490,
     "metadata": {},
     "output_type": "execute_result"
    }
   ],
   "source": [
    "mainParameters(3,14,11),mainParameters(3,14,11,11),mainParameters(3,14,11),mainParameters(3,14,11,11)"
   ]
  },
  {
   "cell_type": "markdown",
   "metadata": {},
   "source": [
    "## 构建企业关键技能语料库,计算加权值，加权值可以用梯度下降的方式进行长期回归，保证模型权重分值的动态学习性"
   ]
  },
  {
   "cell_type": "code",
   "execution_count": null,
   "metadata": {},
   "outputs": [],
   "source": []
  }
 ],
 "metadata": {
  "kernelspec": {
   "display_name": "Python 3.7.4 64-bit",
   "language": "python",
   "name": "python37464bitf10adaa3efab4e6fa8988dc159616146"
  },
  "language_info": {
   "codemirror_mode": {
    "name": "ipython",
    "version": 3
   },
   "file_extension": ".py",
   "mimetype": "text/x-python",
   "name": "python",
   "nbconvert_exporter": "python",
   "pygments_lexer": "ipython3",
   "version": "3.7.6"
  }
 },
 "nbformat": 4,
 "nbformat_minor": 2
}
