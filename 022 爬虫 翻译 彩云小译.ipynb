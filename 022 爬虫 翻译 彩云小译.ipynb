{
 "metadata": {
  "language_info": {
   "codemirror_mode": {
    "name": "ipython",
    "version": 3
   },
   "file_extension": ".py",
   "mimetype": "text/x-python",
   "name": "python",
   "nbconvert_exporter": "python",
   "pygments_lexer": "ipython3",
   "version": "3.6.10-final"
  },
  "orig_nbformat": 2,
  "kernelspec": {
   "name": "python35664bitdeepintorchcondadf610947f987412aba421bfe4246ad58",
   "display_name": "Python 3.5.6 64-bit ('deepintorch': conda)"
  }
 },
 "nbformat": 4,
 "nbformat_minor": 2,
 "cells": [
  {
   "cell_type": "code",
   "execution_count": 3,
   "metadata": {},
   "outputs": [],
   "source": [
    "def tranlate(source, direction):\n",
    "\n",
    "    import requests\n",
    "    import json\n",
    "    \n",
    "    url = \"http://api.interpreter.caiyunai.com/v1/translator\"\n",
    "    \n",
    "    #WARNING, this token is a test token for new developers, and it should be replaced by your token\n",
    "    token = \"3975l6lr5pcbvidl6jl2\"\n",
    "    \n",
    "    \n",
    "    payload = {\n",
    "            \"source\" : source, \n",
    "            \"trans_type\" : direction,\n",
    "            \"request_id\" : \"demo\",\n",
    "            \"detect\": True,\n",
    "            }\n",
    "    \n",
    "    headers = {\n",
    "            'content-type': \"application/json\",\n",
    "            'x-authorization': \"token \" + token,\n",
    "    }\n",
    "    \n",
    "    response = requests.request(\"POST\", url, data=json.dumps(payload), headers=headers)\n",
    "\n",
    "    return json.loads(response.text)\n",
    "\n"
   ]
  },
  {
   "cell_type": "code",
   "execution_count": 4,
   "metadata": {
    "tags": []
   },
   "outputs": [
    {
     "output_type": "stream",
     "name": "stdout",
     "text": "{'message': 'API rate limit exceeded'}\n"
    }
   ],
   "source": [
    "source = [\"Lingocloud is the best translation service.\",\"彩云小译は最高の翻訳サービスです\"]\n",
    "target = tranlate(source, \"auto2zh\")\n",
    "\n",
    "print(target)"
   ]
  },
  {
   "cell_type": "markdown",
   "metadata": {},
   "source": [
    "https://fanyi.caiyunapp.com/#/api"
   ]
  }
 ]
}