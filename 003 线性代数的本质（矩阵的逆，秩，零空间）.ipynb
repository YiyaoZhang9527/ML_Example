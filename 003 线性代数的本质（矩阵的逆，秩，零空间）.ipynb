{
  "cells": [
    {
      "cell_type": "code",
      "metadata": {
        "id": "lGToNN96J5SC",
        "colab_type": "code",
        "colab": {}
      },
      "source": [
        "import numpy as np\n",
        "import matplotlib.pyplot as plt\n",
        "import scipy"
      ],
      "execution_count": 25,
      "outputs": []
    },
    {
      "cell_type": "markdown",
      "metadata": {},
      "source": [
        "## 向量的加法其实就是向量的平移\n",
        "### 例如已有以下两个向量\n",
        "### A0 ，B0"
      ]
    },
    {
      "cell_type": "code",
      "execution_count": 26,
      "metadata": {},
      "outputs": [
        {
          "output_type": "execute_result",
          "data": {
            "text/plain": "(array([1, 2]), array([2, 1]))"
          },
          "metadata": {},
          "execution_count": 26
        }
      ],
      "source": [
        "A0 = np.array([1,2])\n",
        "B0 = np.array([2,1])\n",
        "A0,B0"
      ]
    },
    {
      "cell_type": "markdown",
      "metadata": {},
      "source": [
        "## 他们相加得到向量v0"
      ]
    },
    {
      "cell_type": "code",
      "execution_count": 27,
      "metadata": {},
      "outputs": [
        {
          "output_type": "execute_result",
          "data": {
            "text/plain": "array([3, 3])"
          },
          "metadata": {},
          "execution_count": 27
        }
      ],
      "source": [
        "v0 = A0+B0\n",
        "v0"
      ]
    },
    {
      "cell_type": "markdown",
      "metadata": {},
      "source": [
        "## 他们在空间中的转换过程就是向量A的路程+向量B的路程最终到达向量v顶点的位置"
      ]
    },
    {
      "cell_type": "code",
      "execution_count": 28,
      "metadata": {},
      "outputs": [
        {
          "output_type": "execute_result",
          "data": {
            "text/plain": "Text(0.5, 1.0, 'vectorA + vectorB')"
          },
          "metadata": {},
          "execution_count": 28
        },
        {
          "output_type": "display_data",
          "data": {
            "text/plain": "<Figure size 432x432 with 1 Axes>",
            "image/svg+xml": "<?xml version=\"1.0\" encoding=\"utf-8\" standalone=\"no\"?>\n<!DOCTYPE svg PUBLIC \"-//W3C//DTD SVG 1.1//EN\"\n  \"http://www.w3.org/Graphics/SVG/1.1/DTD/svg11.dtd\">\n<!-- Created with matplotlib (https://matplotlib.org/) -->\n<svg height=\"372.35625pt\" version=\"1.1\" viewBox=\"0 0 372.103125 372.35625\" width=\"372.103125pt\" xmlns=\"http://www.w3.org/2000/svg\" xmlns:xlink=\"http://www.w3.org/1999/xlink\">\n <defs>\n  <style type=\"text/css\">\n*{stroke-linecap:butt;stroke-linejoin:round;}\n  </style>\n </defs>\n <g id=\"figure_1\">\n  <g id=\"patch_1\">\n   <path d=\"M 0 372.35625 \nL 372.103125 372.35625 \nL 372.103125 0 \nL 0 0 \nz\n\" style=\"fill:none;\"/>\n  </g>\n  <g id=\"axes_1\">\n   <g id=\"patch_2\">\n    <path d=\"M 30.103125 348.478125 \nL 364.903125 348.478125 \nL 364.903125 22.318125 \nL 30.103125 22.318125 \nz\n\" style=\"fill:#ffffff;\"/>\n   </g>\n   <g id=\"matplotlib.axis_1\">\n    <g id=\"xtick_1\">\n     <g id=\"line2d_1\">\n      <defs>\n       <path d=\"M 0 0 \nL 0 3.5 \n\" id=\"m54925e83ab\" style=\"stroke:#000000;stroke-width:0.8;\"/>\n      </defs>\n      <g>\n       <use style=\"stroke:#000000;stroke-width:0.8;\" x=\"45.321307\" xlink:href=\"#m54925e83ab\" y=\"348.478125\"/>\n      </g>\n     </g>\n     <g id=\"text_1\">\n      <!-- 0.0 -->\n      <defs>\n       <path d=\"M 31.78125 66.40625 \nQ 24.171875 66.40625 20.328125 58.90625 \nQ 16.5 51.421875 16.5 36.375 \nQ 16.5 21.390625 20.328125 13.890625 \nQ 24.171875 6.390625 31.78125 6.390625 \nQ 39.453125 6.390625 43.28125 13.890625 \nQ 47.125 21.390625 47.125 36.375 \nQ 47.125 51.421875 43.28125 58.90625 \nQ 39.453125 66.40625 31.78125 66.40625 \nz\nM 31.78125 74.21875 \nQ 44.046875 74.21875 50.515625 64.515625 \nQ 56.984375 54.828125 56.984375 36.375 \nQ 56.984375 17.96875 50.515625 8.265625 \nQ 44.046875 -1.421875 31.78125 -1.421875 \nQ 19.53125 -1.421875 13.0625 8.265625 \nQ 6.59375 17.96875 6.59375 36.375 \nQ 6.59375 54.828125 13.0625 64.515625 \nQ 19.53125 74.21875 31.78125 74.21875 \nz\n\" id=\"DejaVuSans-48\"/>\n       <path d=\"M 10.6875 12.40625 \nL 21 12.40625 \nL 21 0 \nL 10.6875 0 \nz\n\" id=\"DejaVuSans-46\"/>\n      </defs>\n      <g transform=\"translate(37.369744 363.076563)scale(0.1 -0.1)\">\n       <use xlink:href=\"#DejaVuSans-48\"/>\n       <use x=\"63.623047\" xlink:href=\"#DejaVuSans-46\"/>\n       <use x=\"95.410156\" xlink:href=\"#DejaVuSans-48\"/>\n      </g>\n     </g>\n    </g>\n    <g id=\"xtick_2\">\n     <g id=\"line2d_2\">\n      <g>\n       <use style=\"stroke:#000000;stroke-width:0.8;\" x=\"96.04858\" xlink:href=\"#m54925e83ab\" y=\"348.478125\"/>\n      </g>\n     </g>\n     <g id=\"text_2\">\n      <!-- 0.5 -->\n      <defs>\n       <path d=\"M 10.796875 72.90625 \nL 49.515625 72.90625 \nL 49.515625 64.59375 \nL 19.828125 64.59375 \nL 19.828125 46.734375 \nQ 21.96875 47.46875 24.109375 47.828125 \nQ 26.265625 48.1875 28.421875 48.1875 \nQ 40.625 48.1875 47.75 41.5 \nQ 54.890625 34.8125 54.890625 23.390625 \nQ 54.890625 11.625 47.5625 5.09375 \nQ 40.234375 -1.421875 26.90625 -1.421875 \nQ 22.3125 -1.421875 17.546875 -0.640625 \nQ 12.796875 0.140625 7.71875 1.703125 \nL 7.71875 11.625 \nQ 12.109375 9.234375 16.796875 8.0625 \nQ 21.484375 6.890625 26.703125 6.890625 \nQ 35.15625 6.890625 40.078125 11.328125 \nQ 45.015625 15.765625 45.015625 23.390625 \nQ 45.015625 31 40.078125 35.4375 \nQ 35.15625 39.890625 26.703125 39.890625 \nQ 22.75 39.890625 18.8125 39.015625 \nQ 14.890625 38.140625 10.796875 36.28125 \nz\n\" id=\"DejaVuSans-53\"/>\n      </defs>\n      <g transform=\"translate(88.097017 363.076563)scale(0.1 -0.1)\">\n       <use xlink:href=\"#DejaVuSans-48\"/>\n       <use x=\"63.623047\" xlink:href=\"#DejaVuSans-46\"/>\n       <use x=\"95.410156\" xlink:href=\"#DejaVuSans-53\"/>\n      </g>\n     </g>\n    </g>\n    <g id=\"xtick_3\">\n     <g id=\"line2d_3\">\n      <g>\n       <use style=\"stroke:#000000;stroke-width:0.8;\" x=\"146.775852\" xlink:href=\"#m54925e83ab\" y=\"348.478125\"/>\n      </g>\n     </g>\n     <g id=\"text_3\">\n      <!-- 1.0 -->\n      <defs>\n       <path d=\"M 12.40625 8.296875 \nL 28.515625 8.296875 \nL 28.515625 63.921875 \nL 10.984375 60.40625 \nL 10.984375 69.390625 \nL 28.421875 72.90625 \nL 38.28125 72.90625 \nL 38.28125 8.296875 \nL 54.390625 8.296875 \nL 54.390625 0 \nL 12.40625 0 \nz\n\" id=\"DejaVuSans-49\"/>\n      </defs>\n      <g transform=\"translate(138.82429 363.076563)scale(0.1 -0.1)\">\n       <use xlink:href=\"#DejaVuSans-49\"/>\n       <use x=\"63.623047\" xlink:href=\"#DejaVuSans-46\"/>\n       <use x=\"95.410156\" xlink:href=\"#DejaVuSans-48\"/>\n      </g>\n     </g>\n    </g>\n    <g id=\"xtick_4\">\n     <g id=\"line2d_4\">\n      <g>\n       <use style=\"stroke:#000000;stroke-width:0.8;\" x=\"197.503125\" xlink:href=\"#m54925e83ab\" y=\"348.478125\"/>\n      </g>\n     </g>\n     <g id=\"text_4\">\n      <!-- 1.5 -->\n      <g transform=\"translate(189.551563 363.076563)scale(0.1 -0.1)\">\n       <use xlink:href=\"#DejaVuSans-49\"/>\n       <use x=\"63.623047\" xlink:href=\"#DejaVuSans-46\"/>\n       <use x=\"95.410156\" xlink:href=\"#DejaVuSans-53\"/>\n      </g>\n     </g>\n    </g>\n    <g id=\"xtick_5\">\n     <g id=\"line2d_5\">\n      <g>\n       <use style=\"stroke:#000000;stroke-width:0.8;\" x=\"248.230398\" xlink:href=\"#m54925e83ab\" y=\"348.478125\"/>\n      </g>\n     </g>\n     <g id=\"text_5\">\n      <!-- 2.0 -->\n      <defs>\n       <path d=\"M 19.1875 8.296875 \nL 53.609375 8.296875 \nL 53.609375 0 \nL 7.328125 0 \nL 7.328125 8.296875 \nQ 12.9375 14.109375 22.625 23.890625 \nQ 32.328125 33.6875 34.8125 36.53125 \nQ 39.546875 41.84375 41.421875 45.53125 \nQ 43.3125 49.21875 43.3125 52.78125 \nQ 43.3125 58.59375 39.234375 62.25 \nQ 35.15625 65.921875 28.609375 65.921875 \nQ 23.96875 65.921875 18.8125 64.3125 \nQ 13.671875 62.703125 7.8125 59.421875 \nL 7.8125 69.390625 \nQ 13.765625 71.78125 18.9375 73 \nQ 24.125 74.21875 28.421875 74.21875 \nQ 39.75 74.21875 46.484375 68.546875 \nQ 53.21875 62.890625 53.21875 53.421875 \nQ 53.21875 48.921875 51.53125 44.890625 \nQ 49.859375 40.875 45.40625 35.40625 \nQ 44.1875 33.984375 37.640625 27.21875 \nQ 31.109375 20.453125 19.1875 8.296875 \nz\n\" id=\"DejaVuSans-50\"/>\n      </defs>\n      <g transform=\"translate(240.278835 363.076563)scale(0.1 -0.1)\">\n       <use xlink:href=\"#DejaVuSans-50\"/>\n       <use x=\"63.623047\" xlink:href=\"#DejaVuSans-46\"/>\n       <use x=\"95.410156\" xlink:href=\"#DejaVuSans-48\"/>\n      </g>\n     </g>\n    </g>\n    <g id=\"xtick_6\">\n     <g id=\"line2d_6\">\n      <g>\n       <use style=\"stroke:#000000;stroke-width:0.8;\" x=\"298.95767\" xlink:href=\"#m54925e83ab\" y=\"348.478125\"/>\n      </g>\n     </g>\n     <g id=\"text_6\">\n      <!-- 2.5 -->\n      <g transform=\"translate(291.006108 363.076563)scale(0.1 -0.1)\">\n       <use xlink:href=\"#DejaVuSans-50\"/>\n       <use x=\"63.623047\" xlink:href=\"#DejaVuSans-46\"/>\n       <use x=\"95.410156\" xlink:href=\"#DejaVuSans-53\"/>\n      </g>\n     </g>\n    </g>\n    <g id=\"xtick_7\">\n     <g id=\"line2d_7\">\n      <g>\n       <use style=\"stroke:#000000;stroke-width:0.8;\" x=\"349.684943\" xlink:href=\"#m54925e83ab\" y=\"348.478125\"/>\n      </g>\n     </g>\n     <g id=\"text_7\">\n      <!-- 3.0 -->\n      <defs>\n       <path d=\"M 40.578125 39.3125 \nQ 47.65625 37.796875 51.625 33 \nQ 55.609375 28.21875 55.609375 21.1875 \nQ 55.609375 10.40625 48.1875 4.484375 \nQ 40.765625 -1.421875 27.09375 -1.421875 \nQ 22.515625 -1.421875 17.65625 -0.515625 \nQ 12.796875 0.390625 7.625 2.203125 \nL 7.625 11.71875 \nQ 11.71875 9.328125 16.59375 8.109375 \nQ 21.484375 6.890625 26.8125 6.890625 \nQ 36.078125 6.890625 40.9375 10.546875 \nQ 45.796875 14.203125 45.796875 21.1875 \nQ 45.796875 27.640625 41.28125 31.265625 \nQ 36.765625 34.90625 28.71875 34.90625 \nL 20.21875 34.90625 \nL 20.21875 43.015625 \nL 29.109375 43.015625 \nQ 36.375 43.015625 40.234375 45.921875 \nQ 44.09375 48.828125 44.09375 54.296875 \nQ 44.09375 59.90625 40.109375 62.90625 \nQ 36.140625 65.921875 28.71875 65.921875 \nQ 24.65625 65.921875 20.015625 65.03125 \nQ 15.375 64.15625 9.8125 62.3125 \nL 9.8125 71.09375 \nQ 15.4375 72.65625 20.34375 73.4375 \nQ 25.25 74.21875 29.59375 74.21875 \nQ 40.828125 74.21875 47.359375 69.109375 \nQ 53.90625 64.015625 53.90625 55.328125 \nQ 53.90625 49.265625 50.4375 45.09375 \nQ 46.96875 40.921875 40.578125 39.3125 \nz\n\" id=\"DejaVuSans-51\"/>\n      </defs>\n      <g transform=\"translate(341.733381 363.076563)scale(0.1 -0.1)\">\n       <use xlink:href=\"#DejaVuSans-51\"/>\n       <use x=\"63.623047\" xlink:href=\"#DejaVuSans-46\"/>\n       <use x=\"95.410156\" xlink:href=\"#DejaVuSans-48\"/>\n      </g>\n     </g>\n    </g>\n   </g>\n   <g id=\"matplotlib.axis_2\">\n    <g id=\"ytick_1\">\n     <g id=\"line2d_8\">\n      <defs>\n       <path d=\"M 0 0 \nL -3.5 0 \n\" id=\"mde9d877cff\" style=\"stroke:#000000;stroke-width:0.8;\"/>\n      </defs>\n      <g>\n       <use style=\"stroke:#000000;stroke-width:0.8;\" x=\"30.103125\" xlink:href=\"#mde9d877cff\" y=\"333.65267\"/>\n      </g>\n     </g>\n     <g id=\"text_8\">\n      <!-- 0.0 -->\n      <g transform=\"translate(7.2 337.451889)scale(0.1 -0.1)\">\n       <use xlink:href=\"#DejaVuSans-48\"/>\n       <use x=\"63.623047\" xlink:href=\"#DejaVuSans-46\"/>\n       <use x=\"95.410156\" xlink:href=\"#DejaVuSans-48\"/>\n      </g>\n     </g>\n    </g>\n    <g id=\"ytick_2\">\n     <g id=\"line2d_9\">\n      <g>\n       <use style=\"stroke:#000000;stroke-width:0.8;\" x=\"30.103125\" xlink:href=\"#mde9d877cff\" y=\"284.234489\"/>\n      </g>\n     </g>\n     <g id=\"text_9\">\n      <!-- 0.5 -->\n      <g transform=\"translate(7.2 288.033707)scale(0.1 -0.1)\">\n       <use xlink:href=\"#DejaVuSans-48\"/>\n       <use x=\"63.623047\" xlink:href=\"#DejaVuSans-46\"/>\n       <use x=\"95.410156\" xlink:href=\"#DejaVuSans-53\"/>\n      </g>\n     </g>\n    </g>\n    <g id=\"ytick_3\">\n     <g id=\"line2d_10\">\n      <g>\n       <use style=\"stroke:#000000;stroke-width:0.8;\" x=\"30.103125\" xlink:href=\"#mde9d877cff\" y=\"234.816307\"/>\n      </g>\n     </g>\n     <g id=\"text_10\">\n      <!-- 1.0 -->\n      <g transform=\"translate(7.2 238.615526)scale(0.1 -0.1)\">\n       <use xlink:href=\"#DejaVuSans-49\"/>\n       <use x=\"63.623047\" xlink:href=\"#DejaVuSans-46\"/>\n       <use x=\"95.410156\" xlink:href=\"#DejaVuSans-48\"/>\n      </g>\n     </g>\n    </g>\n    <g id=\"ytick_4\">\n     <g id=\"line2d_11\">\n      <g>\n       <use style=\"stroke:#000000;stroke-width:0.8;\" x=\"30.103125\" xlink:href=\"#mde9d877cff\" y=\"185.398125\"/>\n      </g>\n     </g>\n     <g id=\"text_11\">\n      <!-- 1.5 -->\n      <g transform=\"translate(7.2 189.197344)scale(0.1 -0.1)\">\n       <use xlink:href=\"#DejaVuSans-49\"/>\n       <use x=\"63.623047\" xlink:href=\"#DejaVuSans-46\"/>\n       <use x=\"95.410156\" xlink:href=\"#DejaVuSans-53\"/>\n      </g>\n     </g>\n    </g>\n    <g id=\"ytick_5\">\n     <g id=\"line2d_12\">\n      <g>\n       <use style=\"stroke:#000000;stroke-width:0.8;\" x=\"30.103125\" xlink:href=\"#mde9d877cff\" y=\"135.979943\"/>\n      </g>\n     </g>\n     <g id=\"text_12\">\n      <!-- 2.0 -->\n      <g transform=\"translate(7.2 139.779162)scale(0.1 -0.1)\">\n       <use xlink:href=\"#DejaVuSans-50\"/>\n       <use x=\"63.623047\" xlink:href=\"#DejaVuSans-46\"/>\n       <use x=\"95.410156\" xlink:href=\"#DejaVuSans-48\"/>\n      </g>\n     </g>\n    </g>\n    <g id=\"ytick_6\">\n     <g id=\"line2d_13\">\n      <g>\n       <use style=\"stroke:#000000;stroke-width:0.8;\" x=\"30.103125\" xlink:href=\"#mde9d877cff\" y=\"86.561761\"/>\n      </g>\n     </g>\n     <g id=\"text_13\">\n      <!-- 2.5 -->\n      <g transform=\"translate(7.2 90.36098)scale(0.1 -0.1)\">\n       <use xlink:href=\"#DejaVuSans-50\"/>\n       <use x=\"63.623047\" xlink:href=\"#DejaVuSans-46\"/>\n       <use x=\"95.410156\" xlink:href=\"#DejaVuSans-53\"/>\n      </g>\n     </g>\n    </g>\n    <g id=\"ytick_7\">\n     <g id=\"line2d_14\">\n      <g>\n       <use style=\"stroke:#000000;stroke-width:0.8;\" x=\"30.103125\" xlink:href=\"#mde9d877cff\" y=\"37.14358\"/>\n      </g>\n     </g>\n     <g id=\"text_14\">\n      <!-- 3.0 -->\n      <g transform=\"translate(7.2 40.942798)scale(0.1 -0.1)\">\n       <use xlink:href=\"#DejaVuSans-51\"/>\n       <use x=\"63.623047\" xlink:href=\"#DejaVuSans-46\"/>\n       <use x=\"95.410156\" xlink:href=\"#DejaVuSans-48\"/>\n      </g>\n     </g>\n    </g>\n   </g>\n   <g id=\"line2d_15\">\n    <path clip-path=\"url(#pda44003e5e)\" d=\"M 45.321307 333.65267 \nL 56.594034 311.689034 \nL 67.866761 289.725398 \nL 79.139489 267.761761 \nL 90.412216 245.798125 \nL 101.684943 223.834489 \nL 112.95767 201.870852 \nL 124.230398 179.907216 \nL 135.503125 157.94358 \nL 146.775852 135.979943 \n\" style=\"fill:none;stroke:#ff0000;stroke-linecap:square;stroke-width:1.5;\"/>\n   </g>\n   <g id=\"line2d_16\">\n    <path clip-path=\"url(#pda44003e5e)\" d=\"M 45.321307 333.65267 \nL 67.866761 322.670852 \nL 90.412216 311.689034 \nL 112.95767 300.707216 \nL 135.503125 289.725398 \nL 158.04858 278.74358 \nL 180.594034 267.761761 \nL 203.139489 256.779943 \nL 225.684943 245.798125 \nL 248.230398 234.816307 \n\" style=\"fill:none;stroke:#bfbf00;stroke-linecap:square;stroke-width:1.5;\"/>\n   </g>\n   <g id=\"line2d_17\">\n    <path clip-path=\"url(#pda44003e5e)\" d=\"M 248.230398 234.816307 \nL 259.503125 212.85267 \nL 270.775852 190.889034 \nL 282.04858 168.925398 \nL 293.321307 146.961761 \nL 304.594034 124.998125 \nL 315.866761 103.034489 \nL 327.139489 81.070852 \nL 338.412216 59.107216 \nL 349.684943 37.14358 \n\" style=\"fill:none;stroke:#0000ff;stroke-linecap:square;stroke-width:1.5;\"/>\n   </g>\n   <g id=\"line2d_18\">\n    <path clip-path=\"url(#pda44003e5e)\" d=\"M 45.321307 333.65267 \nL 79.139489 300.707216 \nL 112.95767 267.761761 \nL 146.775852 234.816307 \nL 180.594034 201.870852 \nL 214.412216 168.925398 \nL 248.230398 135.979943 \nL 282.04858 103.034489 \nL 315.866761 70.089034 \nL 349.684943 37.14358 \n\" style=\"fill:none;stroke:#008000;stroke-linecap:square;stroke-width:1.5;\"/>\n   </g>\n   <g id=\"patch_3\">\n    <path d=\"M 30.103125 348.478125 \nL 30.103125 22.318125 \n\" style=\"fill:none;stroke:#000000;stroke-linecap:square;stroke-linejoin:miter;stroke-width:0.8;\"/>\n   </g>\n   <g id=\"patch_4\">\n    <path d=\"M 364.903125 348.478125 \nL 364.903125 22.318125 \n\" style=\"fill:none;stroke:#000000;stroke-linecap:square;stroke-linejoin:miter;stroke-width:0.8;\"/>\n   </g>\n   <g id=\"patch_5\">\n    <path d=\"M 30.103125 348.478125 \nL 364.903125 348.478125 \n\" style=\"fill:none;stroke:#000000;stroke-linecap:square;stroke-linejoin:miter;stroke-width:0.8;\"/>\n   </g>\n   <g id=\"patch_6\">\n    <path d=\"M 30.103125 22.318125 \nL 364.903125 22.318125 \n\" style=\"fill:none;stroke:#000000;stroke-linecap:square;stroke-linejoin:miter;stroke-width:0.8;\"/>\n   </g>\n   <g id=\"text_15\">\n    <!-- move -->\n    <defs>\n     <path d=\"M 52 44.1875 \nQ 55.375 50.25 60.0625 53.125 \nQ 64.75 56 71.09375 56 \nQ 79.640625 56 84.28125 50.015625 \nQ 88.921875 44.046875 88.921875 33.015625 \nL 88.921875 0 \nL 79.890625 0 \nL 79.890625 32.71875 \nQ 79.890625 40.578125 77.09375 44.375 \nQ 74.3125 48.1875 68.609375 48.1875 \nQ 61.625 48.1875 57.5625 43.546875 \nQ 53.515625 38.921875 53.515625 30.90625 \nL 53.515625 0 \nL 44.484375 0 \nL 44.484375 32.71875 \nQ 44.484375 40.625 41.703125 44.40625 \nQ 38.921875 48.1875 33.109375 48.1875 \nQ 26.21875 48.1875 22.15625 43.53125 \nQ 18.109375 38.875 18.109375 30.90625 \nL 18.109375 0 \nL 9.078125 0 \nL 9.078125 54.6875 \nL 18.109375 54.6875 \nL 18.109375 46.1875 \nQ 21.1875 51.21875 25.484375 53.609375 \nQ 29.78125 56 35.6875 56 \nQ 41.65625 56 45.828125 52.96875 \nQ 50 49.953125 52 44.1875 \nz\n\" id=\"DejaVuSans-109\"/>\n     <path d=\"M 30.609375 48.390625 \nQ 23.390625 48.390625 19.1875 42.75 \nQ 14.984375 37.109375 14.984375 27.296875 \nQ 14.984375 17.484375 19.15625 11.84375 \nQ 23.34375 6.203125 30.609375 6.203125 \nQ 37.796875 6.203125 41.984375 11.859375 \nQ 46.1875 17.53125 46.1875 27.296875 \nQ 46.1875 37.015625 41.984375 42.703125 \nQ 37.796875 48.390625 30.609375 48.390625 \nz\nM 30.609375 56 \nQ 42.328125 56 49.015625 48.375 \nQ 55.71875 40.765625 55.71875 27.296875 \nQ 55.71875 13.875 49.015625 6.21875 \nQ 42.328125 -1.421875 30.609375 -1.421875 \nQ 18.84375 -1.421875 12.171875 6.21875 \nQ 5.515625 13.875 5.515625 27.296875 \nQ 5.515625 40.765625 12.171875 48.375 \nQ 18.84375 56 30.609375 56 \nz\n\" id=\"DejaVuSans-111\"/>\n     <path d=\"M 2.984375 54.6875 \nL 12.5 54.6875 \nL 29.59375 8.796875 \nL 46.6875 54.6875 \nL 56.203125 54.6875 \nL 35.6875 0 \nL 23.484375 0 \nz\n\" id=\"DejaVuSans-118\"/>\n     <path d=\"M 56.203125 29.59375 \nL 56.203125 25.203125 \nL 14.890625 25.203125 \nQ 15.484375 15.921875 20.484375 11.0625 \nQ 25.484375 6.203125 34.421875 6.203125 \nQ 39.59375 6.203125 44.453125 7.46875 \nQ 49.3125 8.734375 54.109375 11.28125 \nL 54.109375 2.78125 \nQ 49.265625 0.734375 44.1875 -0.34375 \nQ 39.109375 -1.421875 33.890625 -1.421875 \nQ 20.796875 -1.421875 13.15625 6.1875 \nQ 5.515625 13.8125 5.515625 26.8125 \nQ 5.515625 40.234375 12.765625 48.109375 \nQ 20.015625 56 32.328125 56 \nQ 43.359375 56 49.78125 48.890625 \nQ 56.203125 41.796875 56.203125 29.59375 \nz\nM 47.21875 32.234375 \nQ 47.125 39.59375 43.09375 43.984375 \nQ 39.0625 48.390625 32.421875 48.390625 \nQ 24.90625 48.390625 20.390625 44.140625 \nQ 15.875 39.890625 15.1875 32.171875 \nz\n\" id=\"DejaVuSans-101\"/>\n    </defs>\n    <g style=\"fill:#0000ff;\" transform=\"translate(298.95767 135.979943)scale(0.1 -0.1)\">\n     <use xlink:href=\"#DejaVuSans-109\"/>\n     <use x=\"97.412109\" xlink:href=\"#DejaVuSans-111\"/>\n     <use x=\"158.59375\" xlink:href=\"#DejaVuSans-118\"/>\n     <use x=\"217.773438\" xlink:href=\"#DejaVuSans-101\"/>\n    </g>\n   </g>\n   <g id=\"text_16\">\n    <!-- Vector_v -->\n    <defs>\n     <path d=\"M 28.609375 0 \nL 0.78125 72.90625 \nL 11.078125 72.90625 \nL 34.1875 11.53125 \nL 57.328125 72.90625 \nL 67.578125 72.90625 \nL 39.796875 0 \nz\n\" id=\"DejaVuSans-86\"/>\n     <path d=\"M 48.78125 52.59375 \nL 48.78125 44.1875 \nQ 44.96875 46.296875 41.140625 47.34375 \nQ 37.3125 48.390625 33.40625 48.390625 \nQ 24.65625 48.390625 19.8125 42.84375 \nQ 14.984375 37.3125 14.984375 27.296875 \nQ 14.984375 17.28125 19.8125 11.734375 \nQ 24.65625 6.203125 33.40625 6.203125 \nQ 37.3125 6.203125 41.140625 7.25 \nQ 44.96875 8.296875 48.78125 10.40625 \nL 48.78125 2.09375 \nQ 45.015625 0.34375 40.984375 -0.53125 \nQ 36.96875 -1.421875 32.421875 -1.421875 \nQ 20.0625 -1.421875 12.78125 6.34375 \nQ 5.515625 14.109375 5.515625 27.296875 \nQ 5.515625 40.671875 12.859375 48.328125 \nQ 20.21875 56 33.015625 56 \nQ 37.15625 56 41.109375 55.140625 \nQ 45.0625 54.296875 48.78125 52.59375 \nz\n\" id=\"DejaVuSans-99\"/>\n     <path d=\"M 18.3125 70.21875 \nL 18.3125 54.6875 \nL 36.8125 54.6875 \nL 36.8125 47.703125 \nL 18.3125 47.703125 \nL 18.3125 18.015625 \nQ 18.3125 11.328125 20.140625 9.421875 \nQ 21.96875 7.515625 27.59375 7.515625 \nL 36.8125 7.515625 \nL 36.8125 0 \nL 27.59375 0 \nQ 17.1875 0 13.234375 3.875 \nQ 9.28125 7.765625 9.28125 18.015625 \nL 9.28125 47.703125 \nL 2.6875 47.703125 \nL 2.6875 54.6875 \nL 9.28125 54.6875 \nL 9.28125 70.21875 \nz\n\" id=\"DejaVuSans-116\"/>\n     <path d=\"M 41.109375 46.296875 \nQ 39.59375 47.171875 37.8125 47.578125 \nQ 36.03125 48 33.890625 48 \nQ 26.265625 48 22.1875 43.046875 \nQ 18.109375 38.09375 18.109375 28.8125 \nL 18.109375 0 \nL 9.078125 0 \nL 9.078125 54.6875 \nL 18.109375 54.6875 \nL 18.109375 46.1875 \nQ 20.953125 51.171875 25.484375 53.578125 \nQ 30.03125 56 36.53125 56 \nQ 37.453125 56 38.578125 55.875 \nQ 39.703125 55.765625 41.0625 55.515625 \nz\n\" id=\"DejaVuSans-114\"/>\n     <path d=\"M 50.984375 -16.609375 \nL 50.984375 -23.578125 \nL -0.984375 -23.578125 \nL -0.984375 -16.609375 \nz\n\" id=\"DejaVuSans-95\"/>\n    </defs>\n    <g style=\"fill:#008000;\" transform=\"translate(197.503125 185.398125)scale(0.1 -0.1)\">\n     <use xlink:href=\"#DejaVuSans-86\"/>\n     <use x=\"68.298828\" xlink:href=\"#DejaVuSans-101\"/>\n     <use x=\"129.822266\" xlink:href=\"#DejaVuSans-99\"/>\n     <use x=\"184.802734\" xlink:href=\"#DejaVuSans-116\"/>\n     <use x=\"224.011719\" xlink:href=\"#DejaVuSans-111\"/>\n     <use x=\"285.193359\" xlink:href=\"#DejaVuSans-114\"/>\n     <use x=\"326.306641\" xlink:href=\"#DejaVuSans-95\"/>\n     <use x=\"376.306641\" xlink:href=\"#DejaVuSans-118\"/>\n    </g>\n   </g>\n   <g id=\"text_17\">\n    <!-- Vector_A -->\n    <defs>\n     <path d=\"M 34.1875 63.1875 \nL 20.796875 26.90625 \nL 47.609375 26.90625 \nz\nM 28.609375 72.90625 \nL 39.796875 72.90625 \nL 67.578125 0 \nL 57.328125 0 \nL 50.6875 18.703125 \nL 17.828125 18.703125 \nL 11.1875 0 \nL 0.78125 0 \nz\n\" id=\"DejaVuSans-65\"/>\n    </defs>\n    <g style=\"fill:#ff0000;\" transform=\"translate(96.04858 234.816307)scale(0.1 -0.1)\">\n     <use xlink:href=\"#DejaVuSans-86\"/>\n     <use x=\"68.298828\" xlink:href=\"#DejaVuSans-101\"/>\n     <use x=\"129.822266\" xlink:href=\"#DejaVuSans-99\"/>\n     <use x=\"184.802734\" xlink:href=\"#DejaVuSans-116\"/>\n     <use x=\"224.011719\" xlink:href=\"#DejaVuSans-111\"/>\n     <use x=\"285.193359\" xlink:href=\"#DejaVuSans-114\"/>\n     <use x=\"326.306641\" xlink:href=\"#DejaVuSans-95\"/>\n     <use x=\"376.306641\" xlink:href=\"#DejaVuSans-65\"/>\n    </g>\n   </g>\n   <g id=\"text_18\">\n    <!-- Vector_B -->\n    <defs>\n     <path d=\"M 19.671875 34.8125 \nL 19.671875 8.109375 \nL 35.5 8.109375 \nQ 43.453125 8.109375 47.28125 11.40625 \nQ 51.125 14.703125 51.125 21.484375 \nQ 51.125 28.328125 47.28125 31.5625 \nQ 43.453125 34.8125 35.5 34.8125 \nz\nM 19.671875 64.796875 \nL 19.671875 42.828125 \nL 34.28125 42.828125 \nQ 41.5 42.828125 45.03125 45.53125 \nQ 48.578125 48.25 48.578125 53.8125 \nQ 48.578125 59.328125 45.03125 62.0625 \nQ 41.5 64.796875 34.28125 64.796875 \nz\nM 9.8125 72.90625 \nL 35.015625 72.90625 \nQ 46.296875 72.90625 52.390625 68.21875 \nQ 58.5 63.53125 58.5 54.890625 \nQ 58.5 48.1875 55.375 44.234375 \nQ 52.25 40.28125 46.1875 39.3125 \nQ 53.46875 37.75 57.5 32.78125 \nQ 61.53125 27.828125 61.53125 20.40625 \nQ 61.53125 10.640625 54.890625 5.3125 \nQ 48.25 0 35.984375 0 \nL 9.8125 0 \nz\n\" id=\"DejaVuSans-66\"/>\n    </defs>\n    <g style=\"fill:#bfbf00;\" transform=\"translate(146.775852 284.234489)scale(0.1 -0.1)\">\n     <use xlink:href=\"#DejaVuSans-86\"/>\n     <use x=\"68.298828\" xlink:href=\"#DejaVuSans-101\"/>\n     <use x=\"129.822266\" xlink:href=\"#DejaVuSans-99\"/>\n     <use x=\"184.802734\" xlink:href=\"#DejaVuSans-116\"/>\n     <use x=\"224.011719\" xlink:href=\"#DejaVuSans-111\"/>\n     <use x=\"285.193359\" xlink:href=\"#DejaVuSans-114\"/>\n     <use x=\"326.306641\" xlink:href=\"#DejaVuSans-95\"/>\n     <use x=\"376.306641\" xlink:href=\"#DejaVuSans-66\"/>\n    </g>\n   </g>\n   <g id=\"text_19\">\n    <!-- vectorA + vectorB -->\n    <defs>\n     <path id=\"DejaVuSans-32\"/>\n     <path d=\"M 46 62.703125 \nL 46 35.5 \nL 73.1875 35.5 \nL 73.1875 27.203125 \nL 46 27.203125 \nL 46 0 \nL 37.796875 0 \nL 37.796875 27.203125 \nL 10.59375 27.203125 \nL 10.59375 35.5 \nL 37.796875 35.5 \nL 37.796875 62.703125 \nz\n\" id=\"DejaVuSans-43\"/>\n    </defs>\n    <g style=\"fill:#bfbf00;\" transform=\"translate(142.37625 16.318125)scale(0.12 -0.12)\">\n     <use xlink:href=\"#DejaVuSans-118\"/>\n     <use x=\"59.179688\" xlink:href=\"#DejaVuSans-101\"/>\n     <use x=\"120.703125\" xlink:href=\"#DejaVuSans-99\"/>\n     <use x=\"175.683594\" xlink:href=\"#DejaVuSans-116\"/>\n     <use x=\"214.892578\" xlink:href=\"#DejaVuSans-111\"/>\n     <use x=\"276.074219\" xlink:href=\"#DejaVuSans-114\"/>\n     <use x=\"317.1875\" xlink:href=\"#DejaVuSans-65\"/>\n     <use x=\"385.595703\" xlink:href=\"#DejaVuSans-32\"/>\n     <use x=\"417.382812\" xlink:href=\"#DejaVuSans-43\"/>\n     <use x=\"501.171875\" xlink:href=\"#DejaVuSans-32\"/>\n     <use x=\"532.958984\" xlink:href=\"#DejaVuSans-118\"/>\n     <use x=\"592.138672\" xlink:href=\"#DejaVuSans-101\"/>\n     <use x=\"653.662109\" xlink:href=\"#DejaVuSans-99\"/>\n     <use x=\"708.642578\" xlink:href=\"#DejaVuSans-116\"/>\n     <use x=\"747.851562\" xlink:href=\"#DejaVuSans-111\"/>\n     <use x=\"809.033203\" xlink:href=\"#DejaVuSans-114\"/>\n     <use x=\"850.146484\" xlink:href=\"#DejaVuSans-66\"/>\n    </g>\n   </g>\n  </g>\n </g>\n <defs>\n  <clipPath id=\"pda44003e5e\">\n   <rect height=\"326.16\" width=\"334.8\" x=\"30.103125\" y=\"22.318125\"/>\n  </clipPath>\n </defs>\n</svg>\n",
            "image/png": "[encoded data removed]"
          },
          "metadata": {
            "needs_background": "light"
          }
        }
      ],
      "source": [
        "fig, ax = plt.subplots(1, 1,figsize=(int(v0[0])*2, int(v0[-1])*2),sharex=True)\n",
        "\n",
        "ax.plot(np.linspace(0,A0[0],10),np.linspace(0,A0[-1],10),color='r')\n",
        "ax.plot(np.linspace(0,B0[0],10),np.linspace(0,B0[-1],10),color='y')\n",
        "ax.plot(np.linspace(B0[0],v0[0],10),np.linspace(B0[-1],v0[-1],10),color='b')\n",
        "ax.plot(np.linspace(0,v0[0],10),np.linspace(0,v0[-1],10),color='g')\n",
        "\n",
        "plt.text(np.linspace(B0[0],v0[0],10).mean(), np.linspace(B0[-1],v0[-1],10).mean(), \"move\",color='b')\n",
        "ax.text(v0[0]/2,v0[-1]/2, 'Vector_v',color='g')\n",
        "ax.text(A0[0]/2,A0[-1]/2, 'Vector_A',color='r')\n",
        "ax.text(B0[0]/2,B0[-1]/2, 'Vector_B',color='y')\n",
        "ax.set_title('vectorA + vectorB', fontsize=12, color='y')"
      ]
    },
    {
      "cell_type": "markdown",
      "metadata": {},
      "source": [
        "# 内积又叫点积。定义是:两个向量对应的分量乘积之和 \n",
        "## 比如 a = [1,2,3] , b = [4,5,6]\n",
        "## 则 a,b 的内积等于 (1 x 4) + \n",
        "(2 x 5) + (3 x 6) = 32"
      ]
    },
    {
      "cell_type": "code",
      "execution_count": 49,
      "metadata": {},
      "outputs": [
        {
          "output_type": "execute_result",
          "data": {
            "text/plain": "(14, 14)"
          },
          "metadata": {},
          "execution_count": 49
        }
      ],
      "source": [
        "a = np.array([1,2])\n",
        "b = np.array([4,5])\n",
        "np.dot(a,b),a.dot(b)"
      ]
    },
    {
      "cell_type": "code",
      "execution_count": 57,
      "metadata": {},
      "outputs": [
        {
          "output_type": "error",
          "ename": "TypeError",
          "evalue": "text() missing 1 required positional argument: 's'",
          "traceback": [
            "\u001b[0;31m---------------------------------------------------------------------------\u001b[0m",
            "\u001b[0;31mTypeError\u001b[0m                                 Traceback (most recent call last)",
            "\u001b[0;32m<ipython-input-57-705d2bfef2ae>\u001b[0m in \u001b[0;36m<module>\u001b[0;34m\u001b[0m\n\u001b[1;32m      1\u001b[0m \u001b[0mplt\u001b[0m\u001b[0;34m.\u001b[0m\u001b[0mscatter\u001b[0m\u001b[0;34m(\u001b[0m\u001b[0ma\u001b[0m\u001b[0;34m[\u001b[0m\u001b[0;36m0\u001b[0m\u001b[0;34m]\u001b[0m\u001b[0;34m,\u001b[0m\u001b[0ma\u001b[0m\u001b[0;34m[\u001b[0m\u001b[0;36m1\u001b[0m\u001b[0;34m]\u001b[0m\u001b[0;34m)\u001b[0m\u001b[0;34m\u001b[0m\u001b[0;34m\u001b[0m\u001b[0m\n\u001b[0;32m----> 2\u001b[0;31m \u001b[0mplt\u001b[0m\u001b[0;34m.\u001b[0m\u001b[0mtext\u001b[0m\u001b[0;34m(\u001b[0m\u001b[0ma\u001b[0m\u001b[0;34m[\u001b[0m\u001b[0;36m0\u001b[0m\u001b[0;34m]\u001b[0m\u001b[0;34m,\u001b[0m\u001b[0ma\u001b[0m\u001b[0;34m[\u001b[0m\u001b[0;36m1\u001b[0m\u001b[0;34m]\u001b[0m\u001b[0;34m)\u001b[0m\u001b[0;34m\u001b[0m\u001b[0;34m\u001b[0m\u001b[0m\n\u001b[0m\u001b[1;32m      3\u001b[0m \u001b[0mplt\u001b[0m\u001b[0;34m.\u001b[0m\u001b[0mscatter\u001b[0m\u001b[0;34m(\u001b[0m\u001b[0mb\u001b[0m\u001b[0;34m[\u001b[0m\u001b[0;36m0\u001b[0m\u001b[0;34m]\u001b[0m\u001b[0;34m,\u001b[0m\u001b[0mb\u001b[0m\u001b[0;34m[\u001b[0m\u001b[0;36m1\u001b[0m\u001b[0;34m]\u001b[0m\u001b[0;34m)\u001b[0m\u001b[0;34m\u001b[0m\u001b[0;34m\u001b[0m\u001b[0m\n\u001b[1;32m      4\u001b[0m \u001b[0mplt\u001b[0m\u001b[0;34m.\u001b[0m\u001b[0mscatter\u001b[0m\u001b[0;34m(\u001b[0m\u001b[0mnp\u001b[0m\u001b[0;34m.\u001b[0m\u001b[0mdot\u001b[0m\u001b[0;34m(\u001b[0m\u001b[0ma\u001b[0m\u001b[0;34m,\u001b[0m\u001b[0mb\u001b[0m\u001b[0;34m)\u001b[0m\u001b[0;34m,\u001b[0m\u001b[0;36m0\u001b[0m\u001b[0;34m)\u001b[0m\u001b[0;34m\u001b[0m\u001b[0;34m\u001b[0m\u001b[0m\n",
            "\u001b[0;31mTypeError\u001b[0m: text() missing 1 required positional argument: 's'"
          ]
        }
      ],
      "source": [
        "plt.scatter(a[0],a[1])\n",
        "plt.text()\n",
        "plt.scatter(b[0],b[1])\n",
        "plt.scatter(np.dot(a,b),0)"
      ]
    },
    {
      "cell_type": "code",
      "execution_count": null,
      "metadata": {},
      "outputs": [],
      "source": []
    },
    {
      "cell_type": "markdown",
      "metadata": {},
      "source": []
    },
    {
      "cell_type": "code",
      "execution_count": 30,
      "metadata": {},
      "outputs": [
        {
          "output_type": "execute_result",
          "data": {
            "text/plain": "(32, 32)"
          },
          "metadata": {},
          "execution_count": 30
        }
      ],
      "source": [
        "a = np.array([1,2,3])\n",
        "b = np.array([4,5,6])\n",
        "a.dot(b),np.dot(a,b)"
      ]
    },
    {
      "cell_type": "markdown",
      "metadata": {
        "id": "usdtWVd0N2Qn",
        "colab_type": "text"
      },
      "source": [
        "# **解方程**\n",
        "\n"
      ]
    },
    {
      "cell_type": "markdown",
      "metadata": {
        "id": "3qDWkabfMiP4",
        "colab_type": "text"
      },
      "source": [
        "## 创建一个矩阵"
      ]
    },
    {
      "cell_type": "code",
      "metadata": {
        "id": "YfbajT7FMlo8",
        "colab_type": "code",
        "colab": {
          "base_uri": "https://localhost:8080/",
          "height": 68
        },
        "outputId": "e7a353cc-4e52-467a-b09e-fb68cde176b7"
      },
      "source": [
        "A =np.mat([[6, 4, 5],[6, 7, 6],[8, 1, 9]])\n",
        "A"
      ],
      "execution_count": 31,
      "outputs": [
        {
          "output_type": "execute_result",
          "data": {
            "text/plain": "matrix([[6, 4, 5],\n        [6, 7, 6],\n        [8, 1, 9]])"
          },
          "metadata": {},
          "execution_count": 31
        }
      ]
    },
    {
      "cell_type": "markdown",
      "metadata": {},
      "source": [
        "## 行列式的结果向量v"
      ]
    },
    {
      "cell_type": "code",
      "metadata": {
        "id": "EwxMvyyMOVgX",
        "colab_type": "code",
        "colab": {
          "base_uri": "https://localhost:8080/",
          "height": 68
        },
        "outputId": "b632cc2a-b193-4761-dffe-8d4d97c057f4"
      },
      "source": [
        "v = np.array([2,1,4])[:,None]\n",
        "v"
      ],
      "execution_count": 32,
      "outputs": [
        {
          "output_type": "execute_result",
          "data": {
            "text/plain": "array([[2],\n       [1],\n       [4]])"
          },
          "metadata": {},
          "execution_count": 32
        }
      ]
    },
    {
      "cell_type": "markdown",
      "metadata": {},
      "source": [
        "## 求出A的逆矩阵，矩阵逆运算就是单位矩阵变换到现在这个矩阵过程的函数，所以矩阵的逆就是矩阵变换的逆运算,\n"
      ]
    },
    {
      "cell_type": "code",
      "metadata": {
        "id": "UnOp01TuOUky",
        "colab_type": "code",
        "colab": {
          "base_uri": "https://localhost:8080/",
          "height": 68
        },
        "outputId": "fbf15583-2ae9-4ce0-fb8d-67fc51dd15d0"
      },
      "source": [
        "A.I"
      ],
      "execution_count": 33,
      "outputs": [
        {
          "output_type": "execute_result",
          "data": {
            "text/plain": "matrix([[ 0.83823529, -0.45588235, -0.16176471],\n        [-0.08823529,  0.20588235, -0.08823529],\n        [-0.73529412,  0.38235294,  0.26470588]])"
          },
          "metadata": {},
          "execution_count": 33
        }
      ]
    },
    {
      "cell_type": "markdown",
      "metadata": {},
      "source": [
        "\n",
        "### 用矩阵A逆,乘以原矩A,再乘以解x == A逆矩阵乘以向量v\n",
        "![image.png](data:image/png;base64,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) "
      ]
    },
    {
      "cell_type": "markdown",
      "metadata": {},
      "source": [
        "## 用矩阵A乘以A的逆矩阵，就等于一次什么都不做的变换，将会返回单位矩阵"
      ]
    },
    {
      "cell_type": "code",
      "metadata": {
        "id": "p2OoktvuQpSg",
        "colab_type": "code",
        "colab": {
          "base_uri": "https://localhost:8080/",
          "height": 68
        },
        "outputId": "d156c557-fe08-4d3a-a25e-18fe9d08d8f7"
      },
      "source": [
        "np.dot(A,A.I)"
      ],
      "execution_count": 34,
      "outputs": [
        {
          "output_type": "execute_result",
          "data": {
            "text/plain": "matrix([[ 1.00000000e+00, -5.55111512e-17,  0.00000000e+00],\n        [ 4.44089210e-16,  1.00000000e+00,  0.00000000e+00],\n        [ 2.22044605e-16, -5.55111512e-17,  1.00000000e+00]])"
          },
          "metadata": {},
          "execution_count": 34
        }
      ]
    },
    {
      "cell_type": "markdown",
      "metadata": {
        "id": "MjwXQZ4XSO0U",
        "colab_type": "text"
      },
      "source": [
        "\n",
        "### 所以，解x == A.I 乘以 v\n",
        "### 计做\n",
        "### ![image.png](data:image/png;base64,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)\n",
        "### 这个变换的过程，就对应于逆向进行变换，并跟踪v的动向\n",
        "## 所以:想要求解方程，只需用A逆乘以向量v即可"
      ]
    },
    {
      "cell_type": "code",
      "metadata": {
        "id": "JdKXqLwVQpnJ",
        "colab_type": "code",
        "colab": {
          "base_uri": "https://localhost:8080/",
          "height": 68
        },
        "outputId": "94487828-f847-4121-927b-def5e4c30fc6"
      },
      "source": [
        "np.dot(A.I,v)"
      ],
      "execution_count": 35,
      "outputs": [
        {
          "output_type": "execute_result",
          "data": {
            "text/plain": "matrix([[ 0.57352941],\n        [-0.32352941],\n        [-0.02941176]])"
          },
          "metadata": {},
          "execution_count": 35
        }
      ]
    },
    {
      "cell_type": "markdown",
      "metadata": {
        "id": "rHBaa6TrTnID",
        "colab_type": "text"
      },
      "source": [
        "### 验证一下解的结果，A的逆乘以向量v得到解x\n",
        "### 再用A乘以解x应该能够返回向量v"
      ]
    },
    {
      "cell_type": "code",
      "metadata": {
        "id": "6JA1RIrfN0rB",
        "colab_type": "code",
        "colab": {
          "base_uri": "https://localhost:8080/",
          "height": 68
        },
        "outputId": "e4f5722b-481e-4470-b47c-ee9a1edb12da"
      },
      "source": [
        "A*np.dot(A.I,v)==v"
      ],
      "execution_count": 36,
      "outputs": [
        {
          "output_type": "execute_result",
          "data": {
            "text/plain": "matrix([[ True],\n        [ True],\n        [ True]])"
          },
          "metadata": {},
          "execution_count": 36
        }
      ]
    },
    {
      "cell_type": "markdown",
      "metadata": {
        "id": "hae6clgmlaey",
        "colab_type": "text"
      },
      "source": [
        "## 只要变化det(A)!==0\n",
        "## 也就是它的行列式不为0，那A就存在逆变换,否则就没有逆变换\n",
        "## 变换过程如下：\n"
      ]
    },
    {
      "cell_type": "markdown",
      "metadata": {},
      "source": [
        "## 1.原矩阵"
      ]
    },
    {
      "cell_type": "code",
      "metadata": {
        "id": "QrjgbJtIlwVr",
        "colab_type": "code",
        "colab": {
          "base_uri": "https://localhost:8080/",
          "height": 68
        },
        "outputId": "4c16ad75-ae4d-47ae-fc30-fcad871b4980"
      },
      "source": [
        "A"
      ],
      "execution_count": 37,
      "outputs": [
        {
          "output_type": "execute_result",
          "data": {
            "text/plain": "matrix([[6, 4, 5],\n        [6, 7, 6],\n        [8, 1, 9]])"
          },
          "metadata": {},
          "execution_count": 37
        }
      ]
    },
    {
      "cell_type": "markdown",
      "metadata": {},
      "source": [
        "## 1.1 它的v向量也就是行列式的等号右边那部分"
      ]
    },
    {
      "cell_type": "code",
      "execution_count": 38,
      "metadata": {},
      "outputs": [
        {
          "output_type": "execute_result",
          "data": {
            "text/plain": "array([[2],\n       [1],\n       [4]])"
          },
          "metadata": {},
          "execution_count": 38
        }
      ],
      "source": [
        "v"
      ]
    },
    {
      "cell_type": "markdown",
      "metadata": {},
      "source": [
        "## 2.它逆矩阵"
      ]
    },
    {
      "cell_type": "code",
      "metadata": {
        "id": "t-WKe4MYnemI",
        "colab_type": "code",
        "colab": {
          "base_uri": "https://localhost:8080/",
          "height": 68
        },
        "outputId": "6ca46286-0eb9-418e-d286-5ef09d2fcff7"
      },
      "source": [
        "A.I"
      ],
      "execution_count": 39,
      "outputs": [
        {
          "output_type": "execute_result",
          "data": {
            "text/plain": "matrix([[ 0.83823529, -0.45588235, -0.16176471],\n        [-0.08823529,  0.20588235, -0.08823529],\n        [-0.73529412,  0.38235294,  0.26470588]])"
          },
          "metadata": {},
          "execution_count": 39
        }
      ]
    },
    {
      "cell_type": "markdown",
      "metadata": {},
      "source": [
        "## 3.用逆矩阵乘以原矩阵可以返回最初没有变换的矩阵，也就是它的单位矩阵"
      ]
    },
    {
      "cell_type": "code",
      "metadata": {
        "id": "N6dndd_Yni2H",
        "colab_type": "code",
        "colab": {
          "base_uri": "https://localhost:8080/",
          "height": 68
        },
        "outputId": "329f9b6e-d710-4036-dca6-eab55e68461b"
      },
      "source": [
        "np.dot(A.I,A)"
      ],
      "execution_count": 40,
      "outputs": [
        {
          "output_type": "execute_result",
          "data": {
            "text/plain": "matrix([[ 1.00000000e+00, -3.05311332e-16,  1.38777878e-16],\n        [ 0.00000000e+00,  1.00000000e+00,  1.38777878e-17],\n        [ 4.44089210e-16,  5.55111512e-17,  1.00000000e+00]])"
          },
          "metadata": {},
          "execution_count": 40
        }
      ]
    },
    {
      "cell_type": "markdown",
      "metadata": {},
      "source": [
        "## 4.返回最初矩阵 A ，只需要用单位矩阵乘以 A 即可"
      ]
    },
    {
      "cell_type": "code",
      "metadata": {
        "id": "PBRFaisPngY7",
        "colab_type": "code",
        "colab": {
          "base_uri": "https://localhost:8080/",
          "height": 68
        },
        "outputId": "b31140d6-5ff8-429b-a0d7-c88afa59828d"
      },
      "source": [
        "np.dot(A.I,A)*A"
      ],
      "execution_count": 41,
      "outputs": [
        {
          "output_type": "execute_result",
          "data": {
            "text/plain": "matrix([[6., 4., 5.],\n        [6., 7., 6.],\n        [8., 1., 9.]])"
          },
          "metadata": {},
          "execution_count": 41
        }
      ]
    },
    {
      "cell_type": "markdown",
      "metadata": {},
      "source": [
        "## 验证一下结果，发现，确实可以返回了原始矩阵"
      ]
    },
    {
      "cell_type": "code",
      "metadata": {
        "id": "humw1CIpocud",
        "colab_type": "code",
        "colab": {}
      },
      "source": [
        "np.dot(A.I,A)*A.astype(\"int\") , A"
      ],
      "execution_count": 42,
      "outputs": [
        {
          "output_type": "execute_result",
          "data": {
            "text/plain": "(matrix([[6., 4., 5.],\n         [6., 7., 6.],\n         [8., 1., 9.]]),\n matrix([[6, 4, 5],\n         [6, 7, 6],\n         [8, 1, 9]]))"
          },
          "metadata": {},
          "execution_count": 42
        }
      ]
    },
    {
      "cell_type": "markdown",
      "metadata": {
        "id": "B0EtEGRZodKF",
        "colab_type": "text"
      },
      "source": [
        "## 但是，当行列式为0的时，在空间内必有一个维度被降了一个维度，无法简单的通过一个逆来解压缩返回原来的矩阵了，所以，行列式也就没有逆了。这也叫做“***奇异矩阵***”"
      ]
    },
    {
      "cell_type": "code",
      "metadata": {
        "id": "U1E4WApbpZ0b",
        "colab_type": "code",
        "colab": {}
      },
      "source": [
        "exampleA = np.mat([[2,0,3],[0,9,3],[0,1,0],[0,5,0]])\n",
        "examplev = np.array([1,5,4,0])[:,None]"
      ],
      "execution_count": 43,
      "outputs": []
    },
    {
      "cell_type": "markdown",
      "metadata": {},
      "source": [
        "## 例如以下这个矩阵 exampleA"
      ]
    },
    {
      "cell_type": "code",
      "execution_count": 44,
      "metadata": {},
      "outputs": [
        {
          "output_type": "execute_result",
          "data": {
            "text/plain": "matrix([[2, 0, 3],\n        [0, 9, 3],\n        [0, 1, 0],\n        [0, 5, 0]])"
          },
          "metadata": {},
          "execution_count": 44
        }
      ],
      "source": [
        "exampleA"
      ]
    },
    {
      "cell_type": "markdown",
      "metadata": {},
      "source": [
        "## 他的解向量是 examplev"
      ]
    },
    {
      "cell_type": "code",
      "execution_count": 45,
      "metadata": {},
      "outputs": [
        {
          "output_type": "execute_result",
          "data": {
            "text/plain": "array([[1],\n       [5],\n       [4],\n       [0]])"
          },
          "metadata": {},
          "execution_count": 45
        }
      ],
      "source": [
        "examplev"
      ]
    },
    {
      "cell_type": "markdown",
      "metadata": {},
      "source": [
        "## 解出它的行列式"
      ]
    },
    {
      "cell_type": "code",
      "metadata": {
        "id": "pdnufi11pqP9",
        "colab_type": "code",
        "colab": {}
      },
      "source": [
        "examplex = np.dot(exampleA.I,examplev)"
      ],
      "execution_count": 46,
      "outputs": []
    },
    {
      "cell_type": "markdown",
      "metadata": {},
      "source": [
        "## 然后与原值比较,会发现无法像没有非0行列式那样得到原始的 v 向量，也就是结果向量"
      ]
    },
    {
      "cell_type": "code",
      "metadata": {
        "id": "gSmB0DkWuPkj",
        "colab_type": "code",
        "colab": {
          "base_uri": "https://localhost:8080/",
          "height": 85
        },
        "outputId": "388f0559-97e3-4ea6-d28c-87f68552e822"
      },
      "source": [
        "exampleA*examplex , examplev"
      ],
      "execution_count": 47,
      "outputs": [
        {
          "output_type": "execute_result",
          "data": {
            "text/plain": "(matrix([[1.        ],\n         [5.        ],\n         [0.15384615],\n         [0.76923077]]),\n array([[1],\n        [5],\n        [4],\n        [0]]))"
          },
          "metadata": {},
          "execution_count": 47
        }
      ]
    },
    {
      "cell_type": "markdown",
      "metadata": {
        "id": "OXDyAd-wum4G",
        "colab_type": "text"
      },
      "source": [
        "## 可以看到因为存在一个行列式存在一个为0的维度 ，所以，当解出的 X 重新代入 exampleA 核算时，就无法得到原先的行列式解 examplev 的结果了"
      ]
    },
    {
      "cell_type": "markdown",
      "metadata": {
        "id": "tDGjdLR8wyWJ",
        "colab_type": "text"
      },
      "source": [
        "## 齐次线性方程组\n",
        "## 齐次线性方程组说的是方程组右侧的向量(b1,b2,…,bn)(b1,b2,…,bn)都是0时的方程组。那么显然，齐次线性方程组的秩与其系数矩阵的秩肯定是相等的，也就是说它肯定有解。这个也好理解，零向量肯定是他的解嘛."
      ]
    },
    {
      "cell_type": "code",
      "metadata": {
        "id": "pr8V-XFUw-XG",
        "colab_type": "code",
        "colab": {
          "base_uri": "https://localhost:8080/",
          "height": 68
        },
        "outputId": "aa8d3706-1a11-4164-cd44-2bf1c4fcdcbc"
      },
      "source": [
        "Homogeneous_A = np.mat([[2,1,2],[6,3,4],[3,2,4]])\n",
        "Homogeneous_v = np.zeros((3,1))\n",
        "np.dot(Homogeneous_A.I,Homogeneous_v)"
      ],
      "execution_count": 48,
      "outputs": [
        {
          "output_type": "execute_result",
          "data": {
            "text/plain": "matrix([[0.],\n        [0.],\n        [0.]])"
          },
          "metadata": {},
          "execution_count": 48
        }
      ]
    },
    {
      "cell_type": "markdown",
      "metadata": {},
      "source": [
        "## 一个原始空间经过矩阵映射得到的对应空间，本质上就是该矩阵各列所有线性组合的结果\n",
        "\n",
        "<math xmlns=\"http://www.w3.org/1998/Math/MathML\" data-semantic-type=\"appl\" data-semantic-role=\"simple function\" data-semantic-id=\"6\" data-semantic-children=\"0,4\" data-semantic-content=\"5,0\" data-semantic-complexity=\"11\">\n",
        "  <semantics>\n",
        "    <mrow>\n",
        "      <mi data-semantic-type=\"identifier\" data-semantic-role=\"simple function\" data-semantic-font=\"italic\" data-semantic-id=\"0\" data-semantic-parent=\"6\" data-semantic-operator=\"appl\" data-semantic-complexity=\"1\">C</mi>\n",
        "      <mo data-semantic-type=\"punctuation\" data-semantic-role=\"application\" data-semantic-id=\"5\" data-semantic-parent=\"6\" data-semantic-added=\"true\" data-semantic-operator=\"appl\" data-semantic-complexity=\"1\">&#x2061;</mo>\n",
        "      <mrow data-semantic-type=\"fenced\" data-semantic-role=\"leftright\" data-semantic-id=\"4\" data-semantic-children=\"2\" data-semantic-content=\"1,3\" data-semantic-parent=\"6\" data-semantic-complexity=\"6\">\n",
        "        <mo stretchy=\"false\" data-semantic-type=\"fence\" data-semantic-role=\"open\" data-semantic-id=\"1\" data-semantic-parent=\"4\" data-semantic-operator=\"fenced\" data-semantic-complexity=\"1\">(</mo>\n",
        "        <mi data-semantic-type=\"identifier\" data-semantic-role=\"latinletter\" data-semantic-font=\"italic\" data-semantic-id=\"2\" data-semantic-parent=\"4\" data-semantic-complexity=\"1\">A</mi>\n",
        "        <mo stretchy=\"false\" data-semantic-type=\"fence\" data-semantic-role=\"close\" data-semantic-id=\"3\" data-semantic-parent=\"4\" data-semantic-operator=\"fenced\" data-semantic-complexity=\"1\">)</mo>\n",
        "      </mrow>\n",
        "    </mrow>\n",
        "    <annotation encoding=\"application/x-tex\">C(A)</annotation>\n",
        "  </semantics>\n",
        "</math>"
      ]
    },
    {
      "cell_type": "markdown",
      "metadata": {},
      "source": [
        "## 而行列式不为0的条件只有三个：可逆；满秩；线性无关"
      ]
    },
    {
      "cell_type": "markdown",
      "metadata": {
        "id": "oO1x45Niyfey",
        "colab_type": "text"
      },
      "source": [
        "## 而关键问题在于，它什么时候会有非零解。"
      ]
    }
  ],
  "metadata": {
    "colab": {
      "name": "线性代数的本质（矩阵的逆，秩，零空间）.ipynb",
      "provenance": [],
      "collapsed_sections": []
    },
    "kernelspec": {
      "name": "pycharm-66c53067",
      "display_name": "PyCharm (InferenceSystem)"
    }
  },
  "nbformat": 4,
  "nbformat_minor": 0
}