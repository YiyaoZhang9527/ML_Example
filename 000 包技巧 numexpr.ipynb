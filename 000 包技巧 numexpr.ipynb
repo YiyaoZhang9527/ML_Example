{
 "cells": [
  {
   "cell_type": "code",
   "execution_count": 1,
   "metadata": {},
   "outputs": [],
   "source": [
    "import numexpr as en\n",
    "import numpy as np"
   ]
  },
  {
   "cell_type": "code",
   "execution_count": 2,
   "metadata": {},
   "outputs": [],
   "source": [
    "a = np.arange(1e6)\n",
    "b = np.arange(1e6)"
   ]
  },
  {
   "cell_type": "code",
   "execution_count": 3,
   "metadata": {
    "tags": []
   },
   "outputs": [
    {
     "output_type": "stream",
     "name": "stdout",
     "text": "CPU times: user 3.94 ms, sys: 4.1 ms, total: 8.04 ms\nWall time: 6.49 ms\n"
    },
    {
     "output_type": "execute_result",
     "data": {
      "text/plain": "array([0.000000e+00, 2.000000e+00, 4.000000e+00, ..., 1.999994e+06,\n       1.999996e+06, 1.999998e+06])"
     },
     "metadata": {},
     "execution_count": 3
    }
   ],
   "source": [
    "%%time \n",
    "a+b"
   ]
  },
  {
   "cell_type": "code",
   "execution_count": 4,
   "metadata": {
    "tags": []
   },
   "outputs": [
    {
     "output_type": "stream",
     "name": "stdout",
     "text": "CPU times: user 4.58 ms, sys: 5.54 ms, total: 10.1 ms\nWall time: 5.57 ms\n"
    },
    {
     "output_type": "execute_result",
     "data": {
      "text/plain": "array([0.000000e+00, 2.000000e+00, 4.000000e+00, ..., 1.999994e+06,\n       1.999996e+06, 1.999998e+06])"
     },
     "metadata": {},
     "execution_count": 4
    }
   ],
   "source": [
    "%%time\n",
    "en.evaluate(\"a+b\")"
   ]
  },
  {
   "cell_type": "code",
   "execution_count": null,
   "metadata": {},
   "outputs": [],
   "source": []
  }
 ],
 "metadata": {
  "language_info": {
   "codemirror_mode": {
    "name": "ipython",
    "version": 3
   },
   "file_extension": ".py",
   "mimetype": "text/x-python",
   "name": "python",
   "nbconvert_exporter": "python",
   "pygments_lexer": "ipython3",
   "version": "3.7.6-final"
  },
  "orig_nbformat": 2,
  "kernelspec": {
   "name": "python_defaultSpec_1599432902781",
   "display_name": "Python 3.7.6 64-bit ('anaconda3': virtualenv)"
  }
 },
 "nbformat": 4,
 "nbformat_minor": 2
}