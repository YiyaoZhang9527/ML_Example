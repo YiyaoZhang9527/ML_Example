{
 "cells": [
  {
   "cell_type": "code",
   "execution_count": 1,
   "metadata": {},
   "outputs": [],
   "source": [
    "import torch\n",
    "import numpy as np"
   ]
  },
  {
   "cell_type": "markdown",
   "metadata": {},
   "source": [
    "## 定义数据集"
   ]
  },
  {
   "cell_type": "code",
   "execution_count": 2,
   "metadata": {},
   "outputs": [
    {
     "data": {
      "text/plain": [
       "tensor([1., 8., 3., 5., 0., 1., 7., 0., 3., 4.])"
      ]
     },
     "execution_count": 2,
     "metadata": {},
     "output_type": "execute_result"
    }
   ],
   "source": [
    "z = np.random.randint(0,10,10)\n",
    "x = torch.FloatTensor(z)\n",
    "x"
   ]
  },
  {
   "cell_type": "markdown",
   "metadata": {},
   "source": [
    "## 封装为类准备"
   ]
  },
  {
   "cell_type": "code",
   "execution_count": 3,
   "metadata": {},
   "outputs": [
    {
     "data": {
      "text/plain": [
       "[tensor([1., 8., 3., 5., 0., 1., 7., 0., 3., 4.]),\n",
       " tensor([1., 8., 3., 5., 0., 1., 7., 0., 3., 4.])]"
      ]
     },
     "execution_count": 3,
     "metadata": {},
     "output_type": "execute_result"
    }
   ],
   "source": [
    "class torch_stats:\n",
    "    def __init__(self):\n",
    "        pass\n",
    "    \n",
    "    def _type(self,*data):\n",
    "        return [torch.Tensor(i) for i in data]\n",
    "ts = torch_stats()\n",
    "ts._type(z,z)"
   ]
  },
  {
   "cell_type": "markdown",
   "metadata": {},
   "source": [
    "## 余弦相似度"
   ]
  },
  {
   "cell_type": "code",
   "execution_count": 4,
   "metadata": {},
   "outputs": [
    {
     "data": {
      "text/plain": [
       "{'cosangle': tensor(1.0000),\n",
       " 'cos': tensor([6.2832]),\n",
       " 'radian': tensor([0.0175])}"
      ]
     },
     "execution_count": 4,
     "metadata": {},
     "output_type": "execute_result"
    }
   ],
   "source": [
    "def cosangle(vector1,vector2)->torch.Tensor:\n",
    "    cosl = vector1.dot(vector2)/(torch.norm(vector1)*torch.norm(vector2))\n",
    "    pi = torch.FloatTensor([np.pi])\n",
    "    cos = cosl*2*pi\n",
    "    radian = cosl*(pi/180)\n",
    "    return {'cosangle':cosl,'cos':cos,'radian':radian}\n",
    "cosangle(x,x)"
   ]
  },
  {
   "cell_type": "markdown",
   "metadata": {},
   "source": [
    "## 信息熵"
   ]
  },
  {
   "cell_type": "code",
   "execution_count": 5,
   "metadata": {},
   "outputs": [
    {
     "data": {
      "text/plain": [
       "tensor([0.2303])"
      ]
     },
     "execution_count": 5,
     "metadata": {},
     "output_type": "execute_result"
    }
   ],
   "source": [
    "def infoEntropy(X,x,In='bit')->torch.Tensor:\n",
    "    n = torch.Tensor([X.shape[0]])\n",
    "    px = torch.sum(X==x)/n\n",
    "    if In == 'bit':\n",
    "        return -px*torch.log2(px)\n",
    "    elif In == 'nat':\n",
    "        return -px*torch.log(px)\n",
    "infoEntropy(x,x[1],'nat')"
   ]
  },
  {
   "cell_type": "markdown",
   "metadata": {},
   "source": [
    "## 总体信息熵"
   ]
  },
  {
   "cell_type": "code",
   "execution_count": 6,
   "metadata": {},
   "outputs": [
    {
     "data": {
      "text/plain": [
       "{'entropy': 0.7965784,\n",
       " 'probability': {1.0: tensor(0.4644),\n",
       "  8.0: tensor(0.3322),\n",
       "  3.0: tensor(0.4644),\n",
       "  5.0: tensor(0.3322),\n",
       "  0.0: tensor(0.4644),\n",
       "  7.0: tensor(0.3322),\n",
       "  4.0: tensor(0.3322)}}"
      ]
     },
     "execution_count": 6,
     "metadata": {},
     "output_type": "execute_result"
    }
   ],
   "source": [
    "def infoEntropys(X,In='bit')->torch.Tensor:\n",
    "    entropy_i = torch.Tensor([infoEntropy(X,x)[0] for x in X])\n",
    "    return {'entropy':np.unique(entropy_i).sum(),'probability':{x:p for x,p in zip(X.numpy(),entropy_i)}}\n",
    "infoEntropys(x)"
   ]
  },
  {
   "cell_type": "code",
   "execution_count": null,
   "metadata": {},
   "outputs": [],
   "source": []
  }
 ],
 "metadata": {
  "kernelspec": {
   "display_name": "kiteENV",
   "language": "python",
   "name": "kiteenv"
  },
  "language_info": {
   "codemirror_mode": {
    "name": "ipython",
    "version": 3
   },
   "file_extension": ".py",
   "mimetype": "text/x-python",
   "name": "python",
   "nbconvert_exporter": "python",
   "pygments_lexer": "ipython3",
   "version": "3.8.10"
  }
 },
 "nbformat": 4,
 "nbformat_minor": 4
}
