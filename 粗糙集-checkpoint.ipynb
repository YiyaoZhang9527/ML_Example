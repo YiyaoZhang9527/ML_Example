{
 "cells": [
  {
   "cell_type": "code",
   "execution_count": 1,
   "metadata": {
    "collapsed": true,
    "pycharm": {
     "is_executing": false
    }
   },
   "outputs": [
    {
     "output_type": "stream",
     "name": "stdout",
     "text": "[['ID' '色泽' '根蒂' '敲声' '纹理' '脐部' '触感' '好瓜']\n ['1' '青绿' '蜷缩' '浊响' '清晰' '凹陷' '硬滑' '好瓜']\n ['2' '乌黑' '蜷缩' '沉闷' '清晰' '凹陷' '硬滑' '好瓜']\n ['3' '乌黑' '蜷缩' '浊响' '清晰' '凹陷' '硬滑' '好瓜']\n ['4' '青绿' '蜷缩' '沉闷' '清晰' '凹陷' '硬滑' '好瓜']\n ['5' '浅白' '蜷缩' '浊响' '清晰' '凹陷' '硬滑' '好瓜']\n ['6' '青绿' '稍蜷' '浊响' '清晰' '稍凹' '软粘' '好瓜']\n ['7' '乌黑' '稍蜷' '浊响' '稍糊' '稍凹' '软粘' '好瓜']\n ['8' '乌黑' '稍蜷' '浊响' '清晰' '稍凹' '硬滑' '好瓜']\n ['9' '乌黑' '稍蜷' '沉闷' '稍糊' '稍凹' '硬滑' '坏瓜']\n ['10' '青绿' '硬挺' '清脆' '清晰' '平坦' '软粘' '坏瓜']\n ['11' '浅白' '硬挺' '清脆' '模糊' '平坦' '硬滑' '坏瓜']\n ['12' '浅白' '蜷缩' '浊响' '模糊' '平坦' '软粘' '坏瓜']\n ['13' '青绿' '稍蜷' '浊响' '稍糊' '凹陷' '硬滑' '坏瓜']\n ['14' '浅白' '稍蜷' '沉闷' '稍糊' '凹陷' '硬滑' '坏瓜']\n ['15' '乌黑' '稍蜷' '浊响' '清晰' '稍凹' '软粘' '坏瓜']\n ['16' '浅白' '蜷缩' '浊响' '模糊' '平坦' '硬滑' '坏瓜']\n ['17' '青绿' '蜷缩' '沉闷' '稍糊' '稍凹' '硬滑' '坏瓜']]\n"
    }
   ],
   "source": [
    "import numpy as np\n",
    "\n",
    "# TODO 这里是粗糙集算法的函数包\n",
    "\n",
    "\n",
    "path = '/Users/manmanzhang/Library/Mobile Documents/com~apple~CloudDocs/MyProject/InferenceSystem/src/I5_algorithm/setcase.csv'\n",
    "data = np.loadtxt(path,dtype=str,delimiter=',')\n",
    "print(data)\n",
    ""
   ]
  },
  {
   "cell_type": "code",
   "execution_count": 2,
   "outputs": [
    {
     "output_type": "execute_result",
     "data": {
      "text/plain": "array([['1'],\n       ['2'],\n       ['3'],\n       ['4'],\n       ['5'],\n       ['6'],\n       ['7'],\n       ['8'],\n       ['9'],\n       ['10'],\n       ['11'],\n       ['12'],\n       ['13'],\n       ['14'],\n       ['15'],\n       ['16'],\n       ['17']], dtype='<U2')"
     },
     "metadata": {},
     "execution_count": 2
    }
   ],
   "source": [
    "def Theory_of_domain(information_table):\n",
    "    '''\n",
    "    论域\n",
    "    :return: \n",
    "    '''\n",
    "    return information_table[1:,0:1]\n",
    "\n",
    "Theory_of_domain(data)"
   ],
   "metadata": {
    "collapsed": false,
    "pycharm": {
     "name": "#%%\n",
     "is_executing": false
    }
   }
  },
  {
   "cell_type": "code",
   "execution_count": 3,
   "outputs": [
    {
     "output_type": "execute_result",
     "data": {
      "text/plain": "array([['好瓜'],\n       ['好瓜'],\n       ['好瓜'],\n       ['好瓜'],\n       ['好瓜'],\n       ['好瓜'],\n       ['好瓜'],\n       ['好瓜'],\n       ['坏瓜'],\n       ['坏瓜'],\n       ['坏瓜'],\n       ['坏瓜'],\n       ['坏瓜'],\n       ['坏瓜'],\n       ['坏瓜'],\n       ['坏瓜'],\n       ['坏瓜']], dtype='<U2')"
     },
     "metadata": {},
     "execution_count": 3
    }
   ],
   "source": [
    "def Decision_attribute(information_table):\n",
    "    '''\n",
    "    决策属性\n",
    "    :param information_table: \n",
    "    :return: \n",
    "    '''\n",
    "    return information_table[1:,-1:]\n",
    "\n",
    "Decision_attribute(data)"
   ],
   "metadata": {
    "collapsed": false,
    "pycharm": {
     "name": "#%%\n",
     "is_executing": false
    }
   }
  },
  {
   "cell_type": "code",
   "execution_count": 4,
   "outputs": [
    {
     "output_type": "execute_result",
     "data": {
      "text/plain": "array([['青绿', '蜷缩', '浊响', '清晰', '凹陷', '硬滑'],\n       ['乌黑', '蜷缩', '沉闷', '清晰', '凹陷', '硬滑'],\n       ['乌黑', '蜷缩', '浊响', '清晰', '凹陷', '硬滑'],\n       ['青绿', '蜷缩', '沉闷', '清晰', '凹陷', '硬滑'],\n       ['浅白', '蜷缩', '浊响', '清晰', '凹陷', '硬滑'],\n       ['青绿', '稍蜷', '浊响', '清晰', '稍凹', '软粘'],\n       ['乌黑', '稍蜷', '浊响', '稍糊', '稍凹', '软粘'],\n       ['乌黑', '稍蜷', '浊响', '清晰', '稍凹', '硬滑'],\n       ['乌黑', '稍蜷', '沉闷', '稍糊', '稍凹', '硬滑'],\n       ['青绿', '硬挺', '清脆', '清晰', '平坦', '软粘'],\n       ['浅白', '硬挺', '清脆', '模糊', '平坦', '硬滑'],\n       ['浅白', '蜷缩', '浊响', '模糊', '平坦', '软粘'],\n       ['青绿', '稍蜷', '浊响', '稍糊', '凹陷', '硬滑'],\n       ['浅白', '稍蜷', '沉闷', '稍糊', '凹陷', '硬滑'],\n       ['乌黑', '稍蜷', '浊响', '清晰', '稍凹', '软粘'],\n       ['浅白', '蜷缩', '浊响', '模糊', '平坦', '硬滑'],\n       ['青绿', '蜷缩', '沉闷', '稍糊', '稍凹', '硬滑']], dtype='<U2')"
     },
     "metadata": {},
     "execution_count": 4
    }
   ],
   "source": [
    "def Condition_attributes(information_table):\n",
    "    '''\n",
    "    条件属性\n",
    "    :param information_table: \n",
    "    :return: \n",
    "    '''\n",
    "    return information_table[1:,1:-1]\n",
    "\n",
    "Condition_attributes(data)"
   ],
   "metadata": {
    "collapsed": false,
    "pycharm": {
     "name": "#%%\n",
     "is_executing": false
    }
   }
  },
  {
   "cell_type": "code",
   "execution_count": 5,
   "outputs": [
    {
     "output_type": "execute_result",
     "data": {
      "text/plain": "((array([array([[3, 5, 3]]), array([[5, 3, 5]]), array([[5, 5, 4]]),\n         array([[4, 4, 4]]), array([[5, 5, 2]]), array([[1, 5, 1]]),\n         array([[5, 1, 1]]), array([[4, 2, 4],\n         [4, 2, 4]]),\n         array([[4, 5, 1]]), array([[2, 1, 2]]), array([[4, 3, 5]]),\n         array([[4, 5, 3]]), array([[4, 1, 5],\n         [4, 1, 5]]),\n         array([[4, 5, 4],\n         [4, 5, 4]]), array([[1, 5, 3]]),\n         array([[5, 4, 4]]), array([[3, 4, 1]]), array([[4, 4, 1]]),\n         array([[1, 3, 3]]), array([[1, 4, 5],\n         [1, 4, 5]]),\n         array([[5, 5, 5]]), array([[5, 3, 4],\n         [5, 3, 4]]),\n         array([[2, 5, 3],\n         [2, 5, 3]]), array([[2, 1, 1]]),\n         array([[1, 1, 5]]), array([[2, 5, 5]]), array([[5, 4, 3]]),\n         array([[1, 4, 1]]), array([[3, 1, 3]]), array([[1, 1, 1]]),\n         array([[5, 2, 4]]), array([[1, 2, 3]]), array([[3, 5, 5]])],\n        dtype=object),\n  'difference:',\n  6),\n '----',\n array([[3, 5, 3]]))"
     },
     "metadata": {},
     "execution_count": 5
    }
   ],
   "source": [
    "def Quotient_set(information_table):\n",
    "    '''\n",
    "    信息表的所有商集\n",
    "    :return: \n",
    "    '''\n",
    "    Condition_Attributes = Condition_attributes(information_table)\n",
    "    #去重\n",
    "    duplicate_removal = list(map(lambda x: np.array(eval(x)),set([repr(list(i)) for i in Condition_Attributes])))\n",
    "\n",
    "    expr = np.array([np.array([j for j in Condition_Attributes if list(j) == list(i)]) for i in duplicate_removal])\n",
    "    return expr,'difference:',len(Condition_Attributes)-len(duplicate_removal)\n",
    "\n",
    "\n",
    "d = np.array([np.random.random_integers(5) for i in range(200)]).reshape(40,5)\n",
    "f = Quotient_set(d)\n",
    "f,'----',f[0][0]"
   ],
   "metadata": {
    "collapsed": false,
    "pycharm": {
     "name": "#%%\n",
     "is_executing": false
    }
   }
  },
  {
   "cell_type": "code",
   "execution_count": 6,
   "outputs": [
    {
     "output_type": "execute_result",
     "data": {
      "text/plain": "array([list([array(['1', '青绿', '蜷缩', '浊响', '清晰', '凹陷', '硬滑', '好瓜'], dtype='<U2'), array(['4', '青绿', '蜷缩', '沉闷', '清晰', '凹陷', '硬滑', '好瓜'], dtype='<U2'), array(['6', '青绿', '稍蜷', '浊响', '清晰', '稍凹', '软粘', '好瓜'], dtype='<U2'), array(['10', '青绿', '硬挺', '清脆', '清晰', '平坦', '软粘', '坏瓜'], dtype='<U2'), array(['13', '青绿', '稍蜷', '浊响', '稍糊', '凹陷', '硬滑', '坏瓜'], dtype='<U2'), array(['17', '青绿', '蜷缩', '沉闷', '稍糊', '稍凹', '硬滑', '坏瓜'], dtype='<U2')]),\n       list([array(['1', '青绿', '蜷缩', '浊响', '清晰', '凹陷', '硬滑', '好瓜'], dtype='<U2'), array(['2', '乌黑', '蜷缩', '沉闷', '清晰', '凹陷', '硬滑', '好瓜'], dtype='<U2'), array(['3', '乌黑', '蜷缩', '浊响', '清晰', '凹陷', '硬滑', '好瓜'], dtype='<U2'), array(['4', '青绿', '蜷缩', '沉闷', '清晰', '凹陷', '硬滑', '好瓜'], dtype='<U2'), array(['5', '浅白', '蜷缩', '浊响', '清晰', '凹陷', '硬滑', '好瓜'], dtype='<U2'), array(['12', '浅白', '蜷缩', '浊响', '模糊', '平坦', '软粘', '坏瓜'], dtype='<U2'), array(['16', '浅白', '蜷缩', '浊响', '模糊', '平坦', '硬滑', '坏瓜'], dtype='<U2'), array(['17', '青绿', '蜷缩', '沉闷', '稍糊', '稍凹', '硬滑', '坏瓜'], dtype='<U2')])],\n      dtype=object)"
     },
     "metadata": {},
     "execution_count": 6
    }
   ],
   "source": [
    "def Equivalence_class(X,information_table):\n",
    "    '''\n",
    "    等价类\n",
    "    :return: \n",
    "    '''\n",
    "    return np.array([[column for column in information_table if element in column] for element  in X])\n",
    "    \n",
    "Equivalence_class(['青绿','蜷缩'],data)"
   ],
   "metadata": {
    "collapsed": false,
    "pycharm": {
     "name": "#%%\n",
     "is_executing": false
    }
   }
  },
  {
   "cell_type": "code",
   "execution_count": 7,
   "outputs": [],
   "source": [
    "def Equivalence_class_of_all(information_table):\n",
    "    '''\n",
    "    \n",
    "    :param information_table: \n",
    "    :return: \n",
    "    '''\n",
    "    \n",
    ""
   ],
   "metadata": {
    "collapsed": false,
    "pycharm": {
     "name": "#%%\n",
     "is_executing": false
    }
   }
  },
  {
   "cell_type": "code",
   "execution_count": 8,
   "outputs": [],
   "source": [
    "def Reduction():\n",
    "    '''\n",
    "    集合约简\n",
    "    :return: \n",
    "    '''"
   ],
   "metadata": {
    "collapsed": false,
    "pycharm": {
     "name": "#%%\n",
     "is_executing": false
    }
   }
  },
  {
   "cell_type": "code",
   "execution_count": 9,
   "outputs": [],
   "source": [
    "def PosR(X):\n",
    "    '''\n",
    "    上近似\n",
    "    :return: \n",
    "    '''\n",
    "    "
   ],
   "metadata": {
    "collapsed": false,
    "pycharm": {
     "name": "#%%\n",
     "is_executing": false
    }
   }
  },
  {
   "cell_type": "code",
   "execution_count": 10,
   "outputs": [],
   "source": [
    "def negR(X):\n",
    "    '''\n",
    "    下近似\n",
    "    :return: \n",
    "    '''\n",
    "    "
   ],
   "metadata": {
    "collapsed": false,
    "pycharm": {
     "name": "#%%\n",
     "is_executing": false
    }
   }
  },
  {
   "cell_type": "code",
   "execution_count": 11,
   "outputs": [],
   "source": [
    "def bnR(X):\n",
    "    '''\n",
    "    X的R边界线\n",
    "    :param X: \n",
    "    :return: \n",
    "    '''\n",
    ""
   ],
   "metadata": {
    "collapsed": false,
    "pycharm": {
     "name": "#%%\n",
     "is_executing": false
    }
   }
  },
  {
   "cell_type": "code",
   "execution_count": 12,
   "outputs": [],
   "source": [
    "def Positive_domain():\n",
    "    '''\n",
    "    正域\n",
    "    :return: \n",
    "    '''"
   ],
   "metadata": {
    "collapsed": false,
    "pycharm": {
     "name": "#%%\n",
     "is_executing": false
    }
   }
  },
  {
   "cell_type": "code",
   "execution_count": 13,
   "outputs": [],
   "source": [
    "def Negative_domain():\n",
    "    '''\n",
    "    负域\n",
    "    :return: \n",
    "    '''\n",
    ""
   ],
   "metadata": {
    "collapsed": false,
    "pycharm": {
     "name": "#%%\n",
     "is_executing": false
    }
   }
  }
 ],
 "metadata": {
  "kernelspec": {
   "display_name": "PyCharm (InferenceSystem)",
   "language": "python",
   "name": "pycharm-66c53067"
  },
  "language_info": {
   "codemirror_mode": {
    "name": "ipython",
    "version": 2
   },
   "file_extension": ".py",
   "mimetype": "text/x-python",
   "name": "python",
   "nbconvert_exporter": "python",
   "pygments_lexer": "ipython2",
   "version": "3.7.3-final"
  },
  "pycharm": {
   "stem_cell": {
    "cell_type": "raw",
    "source": [],
    "metadata": {
     "collapsed": false
    }
   }
  }
 },
 "nbformat": 4,
 "nbformat_minor": 0
}