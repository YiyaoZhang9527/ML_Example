{
 "cells": [
  {
   "cell_type": "markdown",
   "metadata": {},
   "source": [
    "正则表达替换教程 : https://www.toutiao.com/i6826950067560120835/?timestamp=1589666645&app=news_article_social&group_id=6826950067560120835&use_new_style=0&req_id=20200517060405010016017025217F8A19"
   ]
  },
  {
   "cell_type": "code",
   "execution_count": 14,
   "metadata": {},
   "outputs": [
    {
     "data": {
      "text/plain": [
       "'有一天，小明在用Python做文本清洗的时候，突然觉得“”太多\\n了，觉得像是在嘲讽自己，怎么都看不顺眼，下定决心要把文本里所有的“”全部干掉，于是一场属于小明和的战争就这样拉开了帷幕。\"\\n'"
      ]
     },
     "execution_count": 14,
     "metadata": {},
     "output_type": "execute_result"
    }
   ],
   "source": [
    "import re\n",
    "s = \"\"\"有一天，小明在用Python做文本清洗的时候，突然觉得“233”太多\n",
    "了，觉得像是在嘲讽自己，怎么都看不顺眼，下定决心要把文本里所有的“233”全部干掉，于是一场属于小明和233的战争就这样拉开了帷幕。\"\n",
    "\"\"\"\n",
    "s.replace('233', \"\")"
   ]
  },
  {
   "cell_type": "markdown",
   "metadata": {},
   "source": [
    "# 清除字符篇"
   ]
  },
  {
   "cell_type": "code",
   "execution_count": 15,
   "metadata": {},
   "outputs": [],
   "source": [
    "s =\"当他码放南山、刀枪入库准备收工的时候，发现“233”居然还有无计其数的同盟，他们有“2333”、“23333”、“233333”……于是\""
   ]
  },
  {
   "cell_type": "code",
   "execution_count": 16,
   "metadata": {},
   "outputs": [
    {
     "data": {
      "text/plain": [
       "'当他码放南山、刀枪入库准备收工的时候，发现“”居然还有无计其数的同盟，他们有“”、“”、“”……于是'"
      ]
     },
     "execution_count": 16,
     "metadata": {},
     "output_type": "execute_result"
    }
   ],
   "source": [
    "s = re.sub(\"23+\", \"\", s)\n",
    "s"
   ]
  },
  {
   "cell_type": "code",
   "execution_count": 17,
   "metadata": {},
   "outputs": [
    {
     "data": {
      "text/plain": [
       "'匹配字表达时2，，3，33333，33'"
      ]
     },
     "execution_count": 17,
     "metadata": {},
     "output_type": "execute_result"
    }
   ],
   "source": [
    "re.sub(\"23\", \"\",\"匹配字表达时2，23，233，2333333，232333\")"
   ]
  },
  {
   "cell_type": "code",
   "execution_count": 18,
   "metadata": {},
   "outputs": [
    {
     "data": {
      "text/plain": [
       "'匹配字表达时2，，，，'"
      ]
     },
     "execution_count": 18,
     "metadata": {},
     "output_type": "execute_result"
    }
   ],
   "source": [
    "re.sub(\"23+\", \"\", \"匹配字表达时2，23，233，2333333，232333\")"
   ]
  },
  {
   "cell_type": "code",
   "execution_count": 19,
   "metadata": {},
   "outputs": [
    {
     "data": {
      "text/plain": [
       "'匹配字表达时，，，，'"
      ]
     },
     "execution_count": 19,
     "metadata": {},
     "output_type": "execute_result"
    }
   ],
   "source": [
    "re.sub(\"23*\", \"\", \"匹配字表达时2，23，233，2333333，232333\")"
   ]
  },
  {
   "cell_type": "code",
   "execution_count": 20,
   "metadata": {},
   "outputs": [
    {
     "data": {
      "text/plain": [
       "'匹配字表达时，，3，33333，33'"
      ]
     },
     "execution_count": 20,
     "metadata": {},
     "output_type": "execute_result"
    }
   ],
   "source": [
    "re.sub(\"23?\", \"\", \"匹配字表达时2，23，233，2333333，232333\")"
   ]
  },
  {
   "cell_type": "code",
   "execution_count": 21,
   "metadata": {},
   "outputs": [
    {
     "data": {
      "text/plain": [
       "'匹配字表达时2，23，，，23'"
      ]
     },
     "execution_count": 21,
     "metadata": {},
     "output_type": "execute_result"
    }
   ],
   "source": [
    "re.sub(\"23{2,}\", \"\",\"匹配字表达时2，23，233，2333333，232333\")"
   ]
  },
  {
   "cell_type": "code",
   "execution_count": 22,
   "metadata": {},
   "outputs": [
    {
     "data": {
      "text/plain": [
       "'匹配字表达时2，23，，333，23'"
      ]
     },
     "execution_count": 22,
     "metadata": {},
     "output_type": "execute_result"
    }
   ],
   "source": [
    "re.sub(\"23{2,3}\", \"\",\"匹配字表达时2，23，233，2333333，232333\")"
   ]
  },
  {
   "cell_type": "markdown",
   "metadata": {},
   "source": [
    "# （以下代码的打击面是位于字符串开头或结尾位置的“233”、“2333”、“23333”……）\n",
    "\\d 任意数字；等价于 [0-9]\n",
    "\n",
    "\\D 任意非数字；等价于 [^0-9]\n",
    "\n",
    "\\w 任意本义字符；等价于 [a-zA-Z0-9_]\n",
    "\n",
    "\\W 任意非本义字符；等价于 [^a-zA-Z0-9_]\n",
    "\n",
    "\\s 任意空白；相当于 [ \\f\\n\\r\\t\\v]（注意，方括号内第一个字符是空格符号）\n",
    "\n",
    "\\S 任意非空白；相当于 [^ \\f\\n\\r\\t\\v]（注意，紧随 ^ 之后的是一个空格符号）\n",
    "\n",
    ". 除 \\r \\n 之外的任意字符；相当于 [^\\r\\n]\n",
    "\n",
    "另外，在空白的集合 [ \\f\\n\\r\\t\\v] 中：\\f 是分页符；\\n \\r 是换行符；\\t 是制表符；\\v 是纵向制表符（很少用到），首字母代表如下单词：\n",
    "\n",
    "f 是 flip\n",
    "n 是 new line\n",
    "r 是 return\n",
    "t 是 tab\n",
    "v 是 vertical tab"
   ]
  },
  {
   "cell_type": "markdown",
   "metadata": {},
   "source": [
    "# 匹配字符"
   ]
  },
  {
   "cell_type": "code",
   "execution_count": 24,
   "metadata": {},
   "outputs": [
    {
     "data": {
      "text/plain": [
       "'匹配字表达时,233，23，233，2333333，23'"
      ]
     },
     "execution_count": 24,
     "metadata": {},
     "output_type": "execute_result"
    }
   ],
   "source": [
    "re.sub(\"^23{2,}|23{2,}$\", \"\",\"233匹配字表达时,233，23，233，2333333，232333\") "
   ]
  },
  {
   "cell_type": "code",
   "execution_count": 25,
   "metadata": {},
   "outputs": [
    {
     "data": {
      "text/plain": [
       "'匹配字表达时,233，23，233，2333333，232333'"
      ]
     },
     "execution_count": 25,
     "metadata": {},
     "output_type": "execute_result"
    }
   ],
   "source": [
    "re.sub(\"^23{2,}\", \"\",\"233匹配字表达时,233，23，233，2333333，232333\")"
   ]
  },
  {
   "cell_type": "code",
   "execution_count": 26,
   "metadata": {},
   "outputs": [
    {
     "data": {
      "text/plain": [
       "'233匹配字表达时,233，23，233，2333333，23'"
      ]
     },
     "execution_count": 26,
     "metadata": {},
     "output_type": "execute_result"
    }
   ],
   "source": [
    "re.sub(\"23{2,}$\", \"\",\"233匹配字表达时,233，23，233，2333333，232333\")"
   ]
  },
  {
   "cell_type": "code",
   "execution_count": 27,
   "metadata": {},
   "outputs": [
    {
     "data": {
      "text/plain": [
       "'匹配字表达时,，，，，'"
      ]
     },
     "execution_count": 27,
     "metadata": {},
     "output_type": "execute_result"
    }
   ],
   "source": [
    "re.sub(\"3|2\", \"\",\"233匹配字表达时,233，23，233，2333333，232333\")"
   ]
  },
  {
   "cell_type": "code",
   "execution_count": 28,
   "metadata": {},
   "outputs": [
    {
     "data": {
      "text/plain": [
       "['匹配', '匹配', '匹配233', '匹配233', '233']"
      ]
     },
     "execution_count": 28,
     "metadata": {},
     "output_type": "execute_result"
    }
   ],
   "source": [
    "[re.sub(\"(?<=小明)23{2,3}|23{2,3}(?=匹配)\", \"\", i ) for i in [\"233匹配\",\"233匹配\",\"233匹配233\",\"233匹配233\",'233']]"
   ]
  },
  {
   "cell_type": "code",
   "execution_count": 29,
   "metadata": {},
   "outputs": [
    {
     "data": {
      "text/plain": [
       "['匹配', '匹配', '匹配', '匹配', '']"
      ]
     },
     "execution_count": 29,
     "metadata": {},
     "output_type": "execute_result"
    }
   ],
   "source": [
    "[re.sub(\"(?!=匹配)23{2,3}\", \"\", i ) for i in [\"233匹配\",\"233匹配\",\"233匹配233\",\"233匹配233\",\"233\"]]"
   ]
  },
  {
   "cell_type": "code",
   "execution_count": 30,
   "metadata": {},
   "outputs": [
    {
     "data": {
      "text/plain": [
       "['233匹配', '233匹配', '233匹配', '233匹配', '233232', '匹配匹配']"
      ]
     },
     "execution_count": 30,
     "metadata": {},
     "output_type": "execute_result"
    }
   ],
   "source": [
    "[re.sub(\"(?<=匹配)23{2,3}\", \"\", i ) for i in [\"233匹配\",\"233匹配\",\"233匹配233\",\"233匹配233\",\"233232\",\"匹配233匹配\"]]"
   ]
  },
  {
   "cell_type": "code",
   "execution_count": 31,
   "metadata": {},
   "outputs": [
    {
     "data": {
      "text/plain": [
       "'匹配\",\"匹配\",\"匹配\",\"匹配\",\"232\",\"匹配匹配'"
      ]
     },
     "execution_count": 31,
     "metadata": {},
     "output_type": "execute_result"
    }
   ],
   "source": [
    "re.sub(\"2[A-Za-z]?3{2,}\", \"\", \"\"\"233匹配\",\"233匹配\",\"233匹配233\",\"233匹配233\",\"233232\",\"匹配233匹配\"\"\")"
   ]
  },
  {
   "cell_type": "code",
   "execution_count": 32,
   "metadata": {},
   "outputs": [
    {
     "data": {
      "text/plain": [
       "'匹配\",\"匹配\",\"匹配\",\"匹配\",\"\",\"匹配匹配'"
      ]
     },
     "execution_count": 32,
     "metadata": {},
     "output_type": "execute_result"
    }
   ],
   "source": [
    "re.sub(\"[23]\", \"\", \"\"\"233匹配\",\"233匹配\",\"233匹配233\",\"233匹配233\",\"233232\",\"匹配233匹配\"\"\")"
   ]
  },
  {
   "cell_type": "code",
   "execution_count": 33,
   "metadata": {},
   "outputs": [
    {
     "data": {
      "text/plain": [
       "'233233233233233233233232233'"
      ]
     },
     "execution_count": 33,
     "metadata": {},
     "output_type": "execute_result"
    }
   ],
   "source": [
    "re.sub(\"[^23]\", \"\", \"\"\"233匹配\",\"233匹配\",\"233匹配233\",\"233匹配233\",\"233232\",\"匹配233匹配\"\"\")"
   ]
  },
  {
   "cell_type": "code",
   "execution_count": 34,
   "metadata": {},
   "outputs": [
    {
     "data": {
      "text/plain": [
       "'匹配、、匹配匹配匹配232匹配匹配'"
      ]
     },
     "execution_count": 34,
     "metadata": {},
     "output_type": "execute_result"
    }
   ],
   "source": [
    "re.sub(\"2\\s?3{2,}\", \"\",  \"233匹配2\\t33、2\\n33、2\\r33233匹配233匹配233233匹配233233232匹配233匹配\")"
   ]
  },
  {
   "cell_type": "code",
   "execution_count": 35,
   "metadata": {},
   "outputs": [
    {
     "data": {
      "text/plain": [
       "'匹配23\\n332323\\n3匹配23\\n匹配匹配232匹配匹配'"
      ]
     },
     "execution_count": 35,
     "metadata": {},
     "output_type": "execute_result"
    }
   ],
   "source": [
    "re.sub(\"2\\n?3{2,}\", \"\",  \"233匹配23\\n332323\\n3匹配23\\n匹配233233匹配233233232匹配233匹配\")"
   ]
  },
  {
   "cell_type": "markdown",
   "metadata": {},
   "source": [
    "# 筛选字符"
   ]
  },
  {
   "cell_type": "code",
   "execution_count": 37,
   "metadata": {},
   "outputs": [
    {
     "name": "stdout",
     "output_type": "stream",
     "text": [
      "['e', 'a', 'd', 'b', 'e', 'a']\n"
     ]
    }
   ],
   "source": [
    "p = re.compile('[a-e]')   #re.compile方法\n",
    "print(p.findall(\"Aye, said Mr. Gibenson Stark\")) "
   ]
  },
  {
   "cell_type": "code",
   "execution_count": 38,
   "metadata": {},
   "outputs": [
    {
     "name": "stdout",
     "output_type": "stream",
     "text": [
      "['1', '1', '4', '1', '8', '8', '6']\n",
      "['11', '4', '1886']\n"
     ]
    }
   ],
   "source": [
    "import re  \n",
    "p = re.compile('\\d') \n",
    "print(p.findall(\"I went to him at 11 A.M. on 4th July 1886\")) \n",
    "\n",
    "p = re.compile('\\d+') \n",
    "print(p.findall(\"I went to him at 11 A.M. on 4th July 1886\")) "
   ]
  },
  {
   "cell_type": "code",
   "execution_count": 39,
   "metadata": {},
   "outputs": [
    {
     "name": "stdout",
     "output_type": "stream",
     "text": [
      "['H', 'e', 's', 'a', 'i', 'd', 'i', 'n', 's', 'o', 'm', 'e', '_', 'l', 'a', 'n', 'g']\n",
      "['I', 'went', 'to', 'him', 'at', '11', 'A', 'M', 'he', 'said', 'in', 'some_language']\n",
      "[' ', ' ', '*', '*', '*', ' ', ' ', '.']\n"
     ]
    }
   ],
   "source": [
    "import re \n",
    "\n",
    "p = re.compile('\\w') \n",
    "print(p.findall(\"He said * in some_lang.\")) \n",
    "\n",
    "p = re.compile('\\w+') \n",
    "print(p.findall(\"I went to him at 11 A.M., he said *** in some_language.\")) \n",
    "\n",
    "p = re.compile('\\W') \n",
    "print(p.findall(\"he said *** in some_language.\")) "
   ]
  },
  {
   "cell_type": "code",
   "execution_count": 40,
   "metadata": {},
   "outputs": [
    {
     "name": "stdout",
     "output_type": "stream",
     "text": [
      "['ab', 'abb', 'a', 'abbb']\n"
     ]
    }
   ],
   "source": [
    "import re  \n",
    "p = re.compile('ab*') \n",
    "print(p.findall(\"ababbaabbb\")) "
   ]
  },
  {
   "cell_type": "code",
   "execution_count": 41,
   "metadata": {},
   "outputs": [
    {
     "name": "stdout",
     "output_type": "stream",
     "text": [
      "['Words', 'words', 'Words']\n",
      "['Word', 's', 'words', 'Words']\n",
      "['On', '12th', 'Jan', '2016', 'at', '11', '02', 'AM']\n",
      "['On ', 'th Jan ', ', at ', ':', ' AM']\n"
     ]
    }
   ],
   "source": [
    " \n",
    "print(re.split('\\W+', 'Words, words , Words')) \n",
    "print(re.split('\\W+', \"Word's words Words\")) \n",
    "print(re.split('\\W+', 'On 12th Jan 2016, at 11:02 AM')) \n",
    "print(re.split('\\d+', 'On 12th Jan 2016, at 11:02 AM')) "
   ]
  },
  {
   "cell_type": "code",
   "execution_count": 42,
   "metadata": {},
   "outputs": [
    {
     "name": "stdout",
     "output_type": "stream",
     "text": [
      "['On ', 'th Jan 2016, at 11:02 AM']\n",
      "['', 'y, ', 'oy oh ', 'oy, ', 'om', ' h', 'r', '']\n",
      "['A', 'y, Boy oh ', 'oy, ', 'om', ' h', 'r', '']\n"
     ]
    }
   ],
   "source": [
    "print(re.split('\\d+', 'On 12th Jan 2016, at 11:02 AM', 1)) \n",
    "print(re.split('[a-f]+', 'Aey, Boy oh boy, come here', flags = re.IGNORECASE)) \n",
    "print(re.split('[a-f]+', 'Aey, Boy oh boy, come here')) "
   ]
  },
  {
   "cell_type": "code",
   "execution_count": 43,
   "metadata": {},
   "outputs": [
    {
     "data": {
      "text/plain": [
       "[['On', '12th', 'Jan', '2016'], ['', 'at', '11:02', 'AM']]"
      ]
     },
     "execution_count": 43,
     "metadata": {},
     "output_type": "execute_result"
    }
   ],
   "source": [
    "[s.split(' ') for s in re.split(';|,|\\||\\t','On 12th Jan 2016, at 11:02 AM')]"
   ]
  },
  {
   "cell_type": "code",
   "execution_count": 44,
   "metadata": {},
   "outputs": [
    {
     "data": {
      "text/plain": [
       "['On', '12th', 'Jan', '2016,', 'at', '11:02', 'AM']"
      ]
     },
     "execution_count": 44,
     "metadata": {},
     "output_type": "execute_result"
    }
   ],
   "source": [
    "re.split('[\\s]+', 'On 12th Jan 2016, at 11:02 AM', flags = re.IGNORECASE)"
   ]
  },
  {
   "cell_type": "markdown",
   "metadata": {},
   "source": [
    "# 分割"
   ]
  },
  {
   "cell_type": "code",
   "execution_count": 45,
   "metadata": {},
   "outputs": [
    {
     "name": "stdout",
     "output_type": "stream",
     "text": [
      "['2.', ' ', 'Good', ' ', 'morning', ' ', '/', ' ', 'afternoon', ' ', '/', ' ', 'evening!', ' ', '早晨（下午/晚上）好！']\n",
      "2. Good morning / afternoon / evening! \n",
      "早晨（下午/晚上）好！\n"
     ]
    }
   ],
   "source": [
    "import re\n",
    "str1 = \"2. Good morning / afternoon / evening! 早晨（下午/晚上）好！\"\n",
    "pattern = re.compile(r'(?P<space>\\s)') # 匹配空格的正则\n",
    "match = re.split(pattern, str1)\n",
    "print(match)\n",
    "a=match[0:-1] #列表中的所有英文字符部分\n",
    "s1=\"\" #连接符\n",
    "c=s1.join(a) #将英文重新连接\n",
    "b=match[-1] #中文部分已提出。\n",
    "print(c) #显示英文\n",
    "print(b) #显示中文部分"
   ]
  },
  {
   "cell_type": "markdown",
   "metadata": {},
   "source": [
    "# 查找"
   ]
  },
  {
   "cell_type": "code",
   "execution_count": 46,
   "metadata": {},
   "outputs": [
    {
     "name": "stdout",
     "output_type": "stream",
     "text": [
      "12345678@163.com\n",
      "2345678@163.com\n",
      "345678@163.com\n",
      "['12345678@163.com', '2345678@163.com', '345678@163.com']\n",
      "12345678@163.com\n",
      "2345678@163.com\n",
      "345678@163.com\n"
     ]
    }
   ],
   "source": [
    "content = '''email:12345678@163.com\n",
    "email:2345678@163.com\n",
    "email:345678@163.com\n",
    "'''\n",
    "result_finditer = re.finditer(r\"\\d+@\\w+.com\", content)\n",
    "#由于返回的为MatchObject的iterator，所以我们需要迭代并通过MatchObject的方法输出\n",
    "for i in result_finditer :\n",
    "    print(i.group())\n",
    "\n",
    "result_findall = re.findall(r\"\\d+@\\w+.com\", content)\n",
    "#返回一个[]  直接输出or或者循环输出\n",
    "print(result_findall)\n",
    "for i in result_findall :\n",
    "    print(i)\n",
    "    \n",
    "result_finditer = re.finditer(r\"(\\d+)@(\\w+).com\", content)\n",
    "#正则有两个分组，我们需要分别获取分区，分组从0开始，group方法不传递索引默认为0，代表了整个正则的匹配结果\n",
    "for i in result_finditer :\n",
    "    phone_no = i.group(1)\n",
    "    email_type = i.group(2)\n",
    "\n",
    "result_findall = re.findall(r\"(\\d+)@(\\w+).com\", content)\n",
    "#此时返回的虽然为[]，但不是简单的[],而是一个tuple类型的list  \n",
    "#如：[('12345678', '163'), ('2345678', '163'), ('345678', '163')]\n",
    "for i in result_findall :\n",
    "    phone_no = i[0]\n",
    "    email_type = i[1]"
   ]
  },
  {
   "cell_type": "code",
   "execution_count": 47,
   "metadata": {},
   "outputs": [
    {
     "data": {
      "text/plain": [
       "'@ad&*jfad张132（www）。。。'"
      ]
     },
     "execution_count": 47,
     "metadata": {},
     "output_type": "execute_result"
    }
   ],
   "source": [
    "import re\n",
    "cop = re.compile(\"^[\\u4e00-\\u9fa5^a-z^A-Z^0-9]\") # 匹配不是中文、大小写、数字的其他字符\n",
    "string1 = '@ad&*jfad张132（www）。。。'\n",
    "string1 = cop.sub('', string1) #将string1中匹配到的字符替换成空字符\n",
    "string1"
   ]
  },
  {
   "cell_type": "markdown",
   "metadata": {},
   "source": [
    "详细说明子字符创捕获\n",
    "\n",
    "除了简单地判断是否匹配之外，正则表达式还有提取子串的强大功能。用()表示的就是要提取的分组（group）。比如：^(\\d{3})-(\\d{3,8})$分别定义了两个组，可以直接从匹配的字符串中提取出区号和本地号码\n"
   ]
  },
  {
   "cell_type": "code",
   "execution_count": 2,
   "metadata": {
    "tags": []
   },
   "outputs": [
    {
     "output_type": "stream",
     "name": "stdout",
     "text": "010-12345\n010\n12345\n"
    }
   ],
   "source": [
    "import re\n",
    "m = re.match(r'^(\\d{3})-(\\d{3,8})$', '010-12345')\n",
    "print(m.group(0))\n",
    "print(m.group(1))\n",
    "print(m.group(2))\n",
    "\n",
    "# 010-12345\n",
    "# 010\n",
    "# 12345"
   ]
  },
  {
   "cell_type": "code",
   "execution_count": null,
   "metadata": {},
   "outputs": [],
   "source": []
  }
 ],
 "metadata": {
  "kernelspec": {
   "display_name": "PyCharm (InferenceSystem)",
   "language": "python",
   "name": "pycharm-66c53067"
  },
  "language_info": {
   "codemirror_mode": {
    "name": "ipython",
    "version": 3
   },
   "file_extension": ".py",
   "mimetype": "text/x-python",
   "name": "python",
   "nbconvert_exporter": "python",
   "pygments_lexer": "ipython3",
   "version": "3.7.6-final"
  }
 },
 "nbformat": 4,
 "nbformat_minor": 4
}