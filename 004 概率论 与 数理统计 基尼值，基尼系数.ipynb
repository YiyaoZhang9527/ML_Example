{
 "cells": [
  {
   "cell_type": "code",
   "execution_count": 8,
   "metadata": {},
   "outputs": [],
   "source": [
    "import numpy as np\n",
    "import pandas as pd"
   ]
  },
  {
   "cell_type": "code",
   "execution_count": 9,
   "metadata": {},
   "outputs": [],
   "source": [
    "path = '/Users/manmanzhang/Library/Mobile Documents/com~apple~CloudDocs/MyProject/InferenceSystem/src/I5_algorithm/setcase.csv'\n",
    "data = np.loadtxt(path,dtype=str,delimiter=',')"
   ]
  },
  {
   "cell_type": "code",
   "execution_count": 10,
   "metadata": {},
   "outputs": [
    {
     "output_type": "execute_result",
     "data": {
      "text/plain": "array([['ID', '色泽', '根蒂', '敲声', '纹理', '脐部', '触感', '好瓜'],\n       ['1', '青绿', '蜷缩', '浊响', '清晰', '凹陷', '硬滑', '好瓜'],\n       ['2', '乌黑', '蜷缩', '沉闷', '清晰', '凹陷', '硬滑', '好瓜'],\n       ['3', '乌黑', '蜷缩', '浊响', '清晰', '凹陷', '硬滑', '好瓜'],\n       ['4', '青绿', '蜷缩', '沉闷', '清晰', '凹陷', '硬滑', '好瓜'],\n       ['5', '浅白', '蜷缩', '浊响', '清晰', '凹陷', '硬滑', '好瓜'],\n       ['6', '青绿', '稍蜷', '浊响', '清晰', '稍凹', '软粘', '好瓜'],\n       ['7', '乌黑', '稍蜷', '浊响', '稍糊', '稍凹', '软粘', '好瓜'],\n       ['8', '乌黑', '稍蜷', '浊响', '清晰', '稍凹', '硬滑', '好瓜'],\n       ['9', '乌黑', '稍蜷', '沉闷', '稍糊', '稍凹', '硬滑', '坏瓜'],\n       ['10', '青绿', '硬挺', '清脆', '清晰', '平坦', '软粘', '坏瓜'],\n       ['11', '浅白', '硬挺', '清脆', '模糊', '平坦', '硬滑', '坏瓜'],\n       ['12', '浅白', '蜷缩', '浊响', '模糊', '平坦', '软粘', '坏瓜'],\n       ['13', '青绿', '稍蜷', '浊响', '稍糊', '凹陷', '硬滑', '坏瓜'],\n       ['14', '浅白', '稍蜷', '沉闷', '稍糊', '凹陷', '硬滑', '坏瓜'],\n       ['15', '乌黑', '稍蜷', '浊响', '清晰', '稍凹', '软粘', '坏瓜'],\n       ['16', '浅白', '蜷缩', '浊响', '模糊', '平坦', '硬滑', '坏瓜'],\n       ['17', '青绿', '蜷缩', '沉闷', '稍糊', '稍凹', '硬滑', '坏瓜']], dtype='<U2')"
     },
     "metadata": {},
     "execution_count": 10
    }
   ],
   "source": [
    "data"
   ]
  },
  {
   "cell_type": "markdown",
   "metadata": {},
   "source": [
    "$$ Gini(D) = 1 - \\sum_{k=1}^{|y|}p^2k $$"
   ]
  },
  {
   "cell_type": "markdown",
   "metadata": {},
   "source": [
    "## 尼基值"
   ]
  },
  {
   "cell_type": "code",
   "execution_count": 11,
   "metadata": {},
   "outputs": [
    {
     "output_type": "execute_result",
     "data": {
      "text/plain": "{'乌黑': 0.4567474048442907, '浅白': 0.4152249134948098, '青绿': 0.4567474048442907}"
     },
     "metadata": {},
     "execution_count": 11
    }
   ],
   "source": [
    "def gini(D):\n",
    "    n = D.shape[0]\n",
    "    unit_vector = np.ones(n)\n",
    "    k = np.unique(D) \n",
    "    p = {k1:(D==k1).dot(unit_vector)/n for k1 in k}\n",
    "    return {i:1-np.power(p.get(i),2)-np.power((1-p.get(i)),2) \n",
    "    for i in p}\n",
    "\n",
    "gini(data[1:,1])"
   ]
  },
  {
   "cell_type": "code",
   "execution_count": 12,
   "metadata": {},
   "outputs": [],
   "source": [
    "D = data[1:,1]\n",
    "lab = data[1:,-1]"
   ]
  },
  {
   "cell_type": "markdown",
   "metadata": {},
   "source": [
    "## 尼基系数"
   ]
  },
  {
   "cell_type": "code",
   "execution_count": 15,
   "metadata": {},
   "outputs": [
    {
     "output_type": "stream",
     "name": "stdout",
     "text": "函数名:基尼系数\n   标签        概率\n0  坏瓜  0.529412\n1  好瓜  0.470588\n   节点 节点当中的标签      节点概率     节点基尼值\n0  坏瓜      乌黑  0.222222  0.641975\n1  坏瓜      浅白  0.444444  0.641975\n2  坏瓜      青绿  0.333333  0.641975\n   节点 节点当中的标签   节点概率    节点基尼值\n0  好瓜      乌黑  0.500  0.59375\n1  好瓜      浅白  0.125  0.59375\n2  好瓜      青绿  0.375  0.59375\n"
    },
    {
     "output_type": "execute_result",
     "data": {
      "text/plain": "0.619281045751634"
     },
     "metadata": {},
     "execution_count": 15
    }
   ],
   "source": [
    "def gini_index(D,lab,display=False):\n",
    "    '''\n",
    "    D 数据表\n",
    "    lab 判断标签\n",
    "    display \n",
    "    '''\n",
    "    k = np.unique(lab)\n",
    "    labn = lab.shape[0]\n",
    "    kn = k.shape[0]\n",
    "    giniarray =[] \n",
    "    gini_index = 0\n",
    "    prob_k = np.array([(lab==ki).dot(np.ones(labn))/labn for ki in k])\n",
    "    if display == True:\n",
    "        print(\"函数名:基尼系数\")\n",
    "        print(pd.DataFrame({\"标签\":k,\"概率\":prob_k}))\n",
    "    for ki in k:\n",
    "        node_data_D = D[np.where(lab==ki)[0]]\n",
    "        node_k = np.unique(D)\n",
    "        node_n = node_data_D.shape[0]\n",
    "        node_unit_vector = np.ones(node_n)\n",
    "        node_p = np.array([(node_data_D==node_ki).dot(node_unit_vector)/node_n for node_ki in node_k])\n",
    "        node_giniV = 1 - np.power(node_p,2).dot(np.ones_like(node_p))\n",
    "        giniarray.append(node_giniV)\n",
    "        if display==True:\n",
    "            print(pd.DataFrame({\"节点\":ki,\"节点当中的标签\":node_k,\"节点概率\":node_p,\"节点基尼值\":node_giniV}))\n",
    "    return np.dot(giniarray,prob_k)\n",
    "gini_index(D,lab,True)"
   ]
  },
  {
   "cell_type": "code",
   "execution_count": null,
   "metadata": {},
   "outputs": [],
   "source": []
  }
 ],
 "metadata": {
  "language_info": {
   "codemirror_mode": {
    "name": "ipython",
    "version": 3
   },
   "file_extension": ".py",
   "mimetype": "text/x-python",
   "name": "python",
   "nbconvert_exporter": "python",
   "pygments_lexer": "ipython3",
   "version": "3.7.3-final"
  },
  "orig_nbformat": 2,
  "kernelspec": {
   "name": "pycharm-66c53067",
   "display_name": "PyCharm (InferenceSystem)"
  }
 },
 "nbformat": 4,
 "nbformat_minor": 2
}