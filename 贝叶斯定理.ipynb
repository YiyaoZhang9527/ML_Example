{
 "cells": [
  {
   "cell_type": "code",
   "execution_count": 1,
   "metadata": {},
   "outputs": [],
   "source": [
    "import numpy as np\n",
    "import matplotlib.pyplot as plt"
   ]
  },
  {
   "cell_type": "markdown",
   "metadata": {},
   "source": [
    "### 计算公式 :\n",
    "    P 是概率\n",
    "    检验的公式为:\n",
    "    在B条件成立下，事件A的概率也成立,此时，事件A的概率 =（B的概率*A的概率）/ B的概率\n",
    "## $P(A|B)=P(A|B)*P(A)/P(B)$\n"
   ]
  },
  {
   "cell_type": "markdown",
   "metadata": {},
   "source": [
    "### 计算公式 :\n",
    "    P 是概率\n",
    "    检验的公式为:\n",
    "    在B条件成立下，事件A的概率也成立,此时，事件A的概率 =（B的概率*A的概率）/ B的概率\n",
    "    伪代码:if （B条件 == True and A条件 == True）== True:\n",
    "               A 的概率 =  (B 的概率 * A 的概率) / B 的概率 if A 条件 == True else None\n",
    "\n",
    "    P(Trueset) 是条件1为真的概率 -> （先验概率）\n",
    "    P(Flaseset) 是条件1为假的概率 -> （先验概率）\n",
    "    P(Trueset(True)) 是条件1为真的集合里真的概率 -> （后验概率）\n",
    "    P(Trueset(False)) 是条件1为真的集合里假的概率 ->（后验概率）\n",
    "    更新检验的公式为：\n",
    "    P(Trueset) * P(Trueset|Tureset(Ture)) / P(Falseset) * P(True|Trueset(False))\n",
    "\n",
    "    公式意义 :\n",
    "\n",
    "    贝叶斯定理常常被用来更新和检验假设\n",
    "    >例1 推断检验假设:\n",
    "    你听说一个人是乳腺癌，但是并不知道此人是男还是女,所以可以通过数据计算得到此人性别的可能性：\n",
    "    某一个男性并且患有乳腺癌的概率 =  (男性并且患有乳腺癌的概率 * 是男性的概率) / 乳腺癌的概率\n",
    "    当获得男性患有乳腺癌的概率后，就可以用来更新判断此人是男性的概率，因为男性获得乳腺癌的概率\n",
    "    可以当作此人是男性的概率的等价。\n",
    "\n",
    "    >例2 概率更新:\n",
    "    判断一个人是不是星球大战的粉丝\n",
    "    过程1：\n",
    "        初始信息:\n",
    "        人群中星球大战的粉丝=60%\n",
    "        非星球大战的粉丝=40%\n",
    "        判断1，某人看过星球大战概率是60%\n",
    "    如果判断1成立:\n",
    "        更新信息1:\n",
    "        最新看过星球大战的人里粉丝概率是99%\n",
    "        不是粉丝而因为其他原因去看的人概率是5%\n",
    "    判断2，某事是星球大战粉丝的概率为:\n",
    "        -> 99% / 5% = 198% <- (这里的198%为叶贝斯因子，代表通过学习获得的概率更新)\n",
    "    总结:\n",
    "        此时的后验概率：\n",
    "        (60%/40%) * (99%/5%) =>  1.5 * 1.98 => 2.97\n",
    "\n",
    "\n",
    "    条件限制 :\n",
    "\n",
    "    拓展阅读 :\n",
    "    视频URL：https://www.bilibili.com/video/av55293534?from=search&seid=10696006316636312672\n",
    "    :return:\n",
    "    '''"
   ]
  }
 ],
 "metadata": {
  "file_extension": ".py",
  "kernelspec": {
   "display_name": "Python 3",
   "language": "python",
   "name": "python3"
  },
  "language_info": {
   "codemirror_mode": {
    "name": "ipython",
    "version": 3
   },
   "file_extension": ".py",
   "mimetype": "text/x-python",
   "name": "python",
   "nbconvert_exporter": "python",
   "pygments_lexer": "ipython3",
   "version": "3.8.5"
  },
  "mimetype": "text/x-python",
  "name": "python",
  "npconvert_exporter": "python",
  "pygments_lexer": "ipython3",
  "version": 3
 },
 "nbformat": 4,
 "nbformat_minor": 4
}
