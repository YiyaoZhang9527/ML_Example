{
 "cells": [
  {
   "cell_type": "code",
   "execution_count": null,
   "metadata": {},
   "outputs": [],
   "source": [
    "import numpy as np\n",
    "from itertools import "
   ]
  },
  {
   "cell_type": "markdown",
   "metadata": {},
   "source": [
    "# 惰性求值 大型数据集的生成器"
   ]
  },
  {
   "cell_type": "code",
   "execution_count": 1,
   "metadata": {},
   "outputs": [
    {
     "output_type": "execute_result",
     "data": {
      "text/plain": "333333332833333333500000000"
     },
     "metadata": {},
     "execution_count": 1
    }
   ],
   "source": [
    "sum(map(lambda i: i*i, range(1000000000)))"
   ]
  },
  {
   "cell_type": "markdown",
   "metadata": {},
   "source": [
    "# 二维列表展开"
   ]
  },
  {
   "cell_type": "code",
   "execution_count": 20,
   "metadata": {},
   "outputs": [
    {
     "output_type": "execute_result",
     "data": {
      "text/plain": "['a', 'b', 'c', 'd', 'e', 'f', 'g']"
     },
     "metadata": {},
     "execution_count": 20
    }
   ],
   "source": [
    "A = [['a','b'],['c','d'],['e','f'],['g']]\n",
    "[j for i in range(len(A)) for j in A[i]]"
   ]
  },
  {
   "cell_type": "markdown",
   "metadata": {},
   "source": [
    "# 面定义一个圆，可以通过元组对应的名字来访问对应的值，下面访问圆的圆心坐标和半径"
   ]
  },
  {
   "cell_type": "code",
   "execution_count": 57,
   "metadata": {},
   "outputs": [
    {
     "output_type": "execute_result",
     "data": {
      "text/plain": "(Circle(x=2, y=4, r=6), 2, 4, 6)"
     },
     "metadata": {},
     "execution_count": 57
    }
   ],
   "source": [
    "from collections import namedtuple\n",
    "circle = namedtuple(\"Circle\", [\"x\", \"y\", \"r\"])\n",
    "circle1 = circle(2,4,6)\n",
    "circle1,circle1.x,circle1.y,circle1.r"
   ]
  },
  {
   "cell_type": "markdown",
   "metadata": {},
   "source": [
    "#  元素计数"
   ]
  },
  {
   "cell_type": "code",
   "execution_count": 58,
   "metadata": {},
   "outputs": [
    {
     "output_type": "execute_result",
     "data": {
      "text/plain": "Counter({'a': 5, 'b': 4, 'c': 3, 'd': 2, 'e': 1})"
     },
     "metadata": {},
     "execution_count": 58
    }
   ],
   "source": [
    "from collections import Counter\n",
    "Counter('abcdeabcdabcaba')\n"
   ]
  },
  {
   "cell_type": "markdown",
   "metadata": {},
   "source": [
    "# 一维列表升二维\n"
   ]
  },
  {
   "cell_type": "code",
   "execution_count": 46,
   "metadata": {},
   "outputs": [],
   "source": [
    "def group_adjacent(a, k): \n",
    "    return list(zip(*([iter(a)] * k)))"
   ]
  },
  {
   "cell_type": "code",
   "execution_count": 48,
   "metadata": {},
   "outputs": [
    {
     "output_type": "execute_result",
     "data": {
      "text/plain": "[('a', 'b'), ('c', 'd'), ('e', 'f')]"
     },
     "metadata": {},
     "execution_count": 48
    }
   ],
   "source": [
    "group_adjacent(['a', 'b', 'c', 'd', 'e', 'f'],2)"
   ]
  },
  {
   "cell_type": "markdown",
   "metadata": {},
   "source": [
    "# 2-50内的质数(嵌套列表推导)\n",
    "## 合数一般都是2-7的倍数\n",
    "## 4是最小的合数，找出50以内的所有合数"
   ]
  },
  {
   "cell_type": "code",
   "execution_count": 21,
   "metadata": {},
   "outputs": [
    {
     "output_type": "execute_result",
     "data": {
      "text/plain": "[3, 5, 7, 11, 13, 17, 19, 23, 29, 31, 37, 41, 43, 47]"
     },
     "metadata": {},
     "execution_count": 21
    }
   ],
   "source": [
    "[x for x in range(3,50) if x not in [j for i in range(2,8) for j in range(i*2,50,i)]]"
   ]
  },
  {
   "cell_type": "markdown",
   "metadata": {},
   "source": [
    "# 全排列"
   ]
  },
  {
   "cell_type": "code",
   "execution_count": 32,
   "metadata": {},
   "outputs": [
    {
     "output_type": "execute_result",
     "data": {
      "text/plain": "array([[9, 7],\n       [4, 7],\n       [4, 9],\n       [4, 8],\n       [9, 8],\n       [4, 4],\n       [7, 7],\n       [9, 9],\n       [7, 4],\n       [8, 9],\n       [8, 8],\n       [8, 7],\n       [8, 4],\n       [9, 4],\n       [7, 8],\n       [7, 9]])"
     },
     "metadata": {},
     "execution_count": 32
    }
   ],
   "source": [
    "B = [4,7,8,9]\n",
    "np.array(list({(i,j) for i in B for j in B}))"
   ]
  },
  {
   "cell_type": "markdown",
   "metadata": {},
   "source": [
    "# 组合"
   ]
  },
  {
   "cell_type": "code",
   "execution_count": 38,
   "metadata": {},
   "outputs": [
    {
     "output_type": "execute_result",
     "data": {
      "text/plain": "array([[4, 7],\n       [4, 9],\n       [4, 8],\n       [4, 4],\n       [7, 7],\n       [9, 9],\n       [8, 9],\n       [8, 8],\n       [7, 8],\n       [7, 9]])"
     },
     "metadata": {},
     "execution_count": 38
    }
   ],
   "source": [
    "np.array(list({tuple(sorted((i,j))) for i in B for j in B}))"
   ]
  },
  {
   "cell_type": "markdown",
   "metadata": {},
   "source": [
    "# 创建一个8x8矩阵，并用棋盘图案填充它（★☆☆）## 创建一个8x8矩阵，并用棋盘图案填充它（★☆☆）"
   ]
  },
  {
   "cell_type": "code",
   "execution_count": 39,
   "metadata": {},
   "outputs": [
    {
     "output_type": "stream",
     "name": "stdout",
     "text": "[[0 1 0 1 0 1 0 1]\n [1 0 1 0 1 0 1 0]\n [0 1 0 1 0 1 0 1]\n [1 0 1 0 1 0 1 0]\n [0 1 0 1 0 1 0 1]\n [1 0 1 0 1 0 1 0]\n [0 1 0 1 0 1 0 1]\n [1 0 1 0 1 0 1 0]]\n"
    }
   ],
   "source": [
    "import numpy as np\n",
    "Z = np.zeros((8,8),dtype=int)\n",
    "Z[1::2,::2] = 1\n",
    "Z[::2,1::2] = 1\n",
    "print(Z)"
   ]
  },
  {
   "cell_type": "markdown",
   "metadata": {},
   "source": [
    "# 何获取昨天，今天和明天的日期？## 何获取昨天，今天和明天的日期？"
   ]
  },
  {
   "cell_type": "code",
   "execution_count": 40,
   "metadata": {},
   "outputs": [
    {
     "output_type": "execute_result",
     "data": {
      "text/plain": "(numpy.datetime64('2020-06-17'),\n numpy.datetime64('2020-06-18'),\n numpy.datetime64('2020-06-19'))"
     },
     "metadata": {},
     "execution_count": 40
    }
   ],
   "source": [
    "yesterday = np.datetime64('today', 'D') - np.timedelta64(1, 'D')\n",
    "today     = np.datetime64('today', 'D')\n",
    "tomorrow  = np.datetime64('today', 'D') + np.timedelta64(1, 'D')\n",
    "yesterday,today,tomorrow"
   ]
  },
  {
   "cell_type": "markdown",
   "metadata": {},
   "source": [
    "# 获取与2016年7月对应的所有日期？"
   ]
  },
  {
   "cell_type": "code",
   "execution_count": 42,
   "metadata": {},
   "outputs": [
    {
     "output_type": "stream",
     "name": "stdout",
     "text": "['2016-07-01' '2016-07-02' '2016-07-03' '2016-07-04' '2016-07-05'\n '2016-07-06' '2016-07-07' '2016-07-08' '2016-07-09' '2016-07-10'\n '2016-07-11' '2016-07-12' '2016-07-13' '2016-07-14' '2016-07-15'\n '2016-07-16' '2016-07-17' '2016-07-18' '2016-07-19' '2016-07-20'\n '2016-07-21' '2016-07-22' '2016-07-23' '2016-07-24' '2016-07-25'\n '2016-07-26' '2016-07-27' '2016-07-28' '2016-07-29' '2016-07-30'\n '2016-07-31']\n"
    }
   ],
   "source": [
    "Z = np.arange('2016-07', '2016-08', dtype='datetime64[D]')\n",
    "print(Z)"
   ]
  },
  {
   "cell_type": "markdown",
   "metadata": {},
   "source": [
    "## 创建一个结构化网格，x和y坐标覆盖[0,1] x [0,1]区域"
   ]
  },
  {
   "cell_type": "code",
   "execution_count": 43,
   "metadata": {},
   "outputs": [
    {
     "output_type": "stream",
     "name": "stdout",
     "text": "[[(0.  , 0.  ) (0.25, 0.  ) (0.5 , 0.  ) (0.75, 0.  ) (1.  , 0.  )]\n [(0.  , 0.25) (0.25, 0.25) (0.5 , 0.25) (0.75, 0.25) (1.  , 0.25)]\n [(0.  , 0.5 ) (0.25, 0.5 ) (0.5 , 0.5 ) (0.75, 0.5 ) (1.  , 0.5 )]\n [(0.  , 0.75) (0.25, 0.75) (0.5 , 0.75) (0.75, 0.75) (1.  , 0.75)]\n [(0.  , 1.  ) (0.25, 1.  ) (0.5 , 1.  ) (0.75, 1.  ) (1.  , 1.  )]]\n"
    }
   ],
   "source": [
    "Z = np.zeros((5,5), [('x',float),('y',float)])\n",
    "Z['x'], Z['y'] = np.meshgrid(np.linspace(0,1,5),\n",
    "                             np.linspace(0,1,5))\n",
    "print(Z)"
   ]
  },
  {
   "cell_type": "markdown",
   "metadata": {},
   "source": [
    "# 判断给定的2D数组是否有空列"
   ]
  },
  {
   "cell_type": "code",
   "execution_count": 44,
   "metadata": {},
   "outputs": [
    {
     "output_type": "stream",
     "name": "stdout",
     "text": "False\n"
    },
    {
     "output_type": "execute_result",
     "data": {
      "text/plain": "array([[0, 2, 0, 2, 1, 2, 2, 0, 0, 0],\n       [0, 1, 0, 2, 2, 2, 1, 0, 1, 1],\n       [2, 2, 2, 0, 1, 2, 2, 1, 1, 1]])"
     },
     "metadata": {},
     "execution_count": 44
    }
   ],
   "source": [
    "Z = np.random.randint(0,3,(3,10))\n",
    "print((~Z.any(axis=0)).any())\n",
    "Z"
   ]
  },
  {
   "cell_type": "markdown",
   "metadata": {},
   "source": [
    "# 随机选择列表中的样本"
   ]
  },
  {
   "cell_type": "code",
   "execution_count": 1,
   "metadata": {
    "tags": []
   },
   "outputs": [
    {
     "output_type": "stream",
     "name": "stdout",
     "text": "['c', 'd']\n"
    }
   ],
   "source": [
    "import random\n",
    "my_list = ['a', 'b', 'c', 'd', 'e']\n",
    "num_samples = 2\n",
    "samples = random.sample(my_list,num_samples)\n",
    "print(samples)"
   ]
  },
  {
   "cell_type": "markdown",
   "metadata": {},
   "source": [
    "# 展开列表"
   ]
  },
  {
   "cell_type": "code",
   "execution_count": 2,
   "metadata": {},
   "outputs": [
    {
     "output_type": "execute_result",
     "data": {
      "text/plain": "[1, 2, 3, 3]"
     },
     "metadata": {},
     "execution_count": 2
    }
   ],
   "source": [
    "def flatten(l):\n",
    "\treturn [item for sublist in l for item in sublist]\n",
    "l = [[1,2,3],[3]]\n",
    "flatten(l)"
   ]
  },
  {
   "cell_type": "code",
   "execution_count": 1,
   "metadata": {},
   "outputs": [
    {
     "output_type": "execute_result",
     "data": {
      "text/plain": "[1, 2, 3, 4, 5, 6, 7, 8, 9, 10]"
     },
     "metadata": {},
     "execution_count": 1
    }
   ],
   "source": [
    "from iteration_utilities import deepflatten\n",
    "l = [[1,2,3],[4,[5],[6,7]],[8,[9,[10]]]]\n",
    "list(deepflatten(l, depth=3))"
   ]
  },
  {
   "cell_type": "code",
   "execution_count": 25,
   "metadata": {},
   "outputs": [
    {
     "output_type": "execute_result",
     "data": {
      "text/plain": "[6, 7, 1, 2, 3, 4, 5]"
     },
     "metadata": {},
     "execution_count": 25
    }
   ],
   "source": [
    "from collections.abc import Iterable\n",
    "\n",
    "def flatten(input_arr, output_arr=None):\n",
    "    if output_arr is None:\n",
    "        output_arr = []\n",
    "    for ele in input_arr:\n",
    "        if isinstance(ele, Iterable): # 判断ele是否可迭代\n",
    "            flatten(ele, output_arr)  # 尾数递归\n",
    "        else:\n",
    "            output_arr.append(ele)    # 产生结果\n",
    "    return output_arr\n",
    "\n",
    "flatten([[1,2,3],[4,5]], [6,7]) # [6, 7, 1, 2, 3, 4, 5]"
   ]
  },
  {
   "cell_type": "markdown",
   "metadata": {},
   "source": [
    "# 将list等分为子组(生成器版)"
   ]
  },
  {
   "cell_type": "code",
   "execution_count": 3,
   "metadata": {},
   "outputs": [],
   "source": [
    "from math import ceil\n",
    "def divide_iter(lst, n):\n",
    "    if n <= 0:\n",
    "        yield lst\n",
    "        return\n",
    "    i, div = 0, ceil(len(lst) / n)\n",
    "    while i < n:\n",
    "        yield lst[i * div: (i + 1) * div]\n",
    "        i += 1\n"
   ]
  },
  {
   "cell_type": "code",
   "execution_count": 4,
   "metadata": {},
   "outputs": [
    {
     "output_type": "execute_result",
     "data": {
      "text/plain": "[[1, 2, 3, 4, 5]]"
     },
     "metadata": {},
     "execution_count": 4
    }
   ],
   "source": [
    "list(divide_iter([1, 2, 3, 4, 5], 0))  # [[1, 2, 3, 4, 5]]"
   ]
  },
  {
   "cell_type": "code",
   "execution_count": 5,
   "metadata": {},
   "outputs": [
    {
     "output_type": "execute_result",
     "data": {
      "text/plain": "[[1, 2, 3], [4, 5]]"
     },
     "metadata": {},
     "execution_count": 5
    }
   ],
   "source": [
    "list(divide_iter([1, 2, 3, 4, 5], 2))  # [[1, 2, 3], [4, 5]]"
   ]
  },
  {
   "cell_type": "markdown",
   "metadata": {},
   "source": [
    "# 批量转化驼峰格式"
   ]
  },
  {
   "cell_type": "code",
   "execution_count": 6,
   "metadata": {},
   "outputs": [
    {
     "output_type": "execute_result",
     "data": {
      "text/plain": "['studentId', 'studentName', 'studentAdd']"
     },
     "metadata": {},
     "execution_count": 6
    }
   ],
   "source": [
    "import re\n",
    "def camel(s):\n",
    "    s = re.sub(r\"(\\s|_|-)+\", \" \", s).title().replace(\" \", \"\")\n",
    "    return s[0].lower() + s[1:]\n",
    "\n",
    "# 批量转化\n",
    "def batch_camel(slist):\n",
    "    return [camel(s) for s in slist]\n",
    "\n",
    "batch_camel(['student_id', 'student\\tname', 'student-add']) "
   ]
  },
  {
   "cell_type": "code",
   "execution_count": 8,
   "metadata": {
    "tags": []
   },
   "outputs": [
    {
     "output_type": "stream",
     "name": "stdout",
     "text": "['香河', '涿州', '唐山', '沧州', '天津', '廊坊', '太原', '石家庄', '涿鹿', '张家口', '保定', '三河', '北京孔庙', '北京国子监', '中国地质博物馆', '月坛公园', '明城墙遗址公园', '北京市规划展览馆', '什刹海', '南锣鼓巷', '天坛公园', '北海公园', '景山公园', '北京海洋馆']\n温度列\n0     20/34°C\n1     19/33°C\n2     19/33°C\n3     21/34°C\n4     22/34°C\n5     21/34°C\n6     15/31°C\n7     20/34°C\n8     18/33°C\n9     17/32°C\n10    18/34°C\n11    20/34°C\n12    19/34°C\n13    19/34°C\n14    19/34°C\n15    19/34°C\n16    19/34°C\n17    21/33°C\n18    19/34°C\n19    19/34°C\n20    21/33°C\n21    21/33°C\n22    21/33°C\n23    19/34°C\nName: temperature, dtype: object\n"
    }
   ],
   "source": [
    "#1 爬取天气数据并解析温度值\n",
    "\n",
    "#素材来自朋友袁绍\n",
    "\n",
    "import requests\n",
    "from lxml import etree\n",
    "import pandas as pd\n",
    "import re\n",
    "\n",
    "url = 'http://www.weather.com.cn/weather1d/101010100.shtml#input'\n",
    "with requests.get(url) as res:\n",
    "    content = res.content\n",
    "    html = etree.HTML(content)\n",
    "#通过lxml模块提取值，lxml比beautifulsoup解析在某些场合更高效\n",
    "\n",
    "location = html.xpath('//*[@id=\"around\"]//a[@target=\"_blank\"]/span/text()')\n",
    "temperature = html.xpath('//*[@id=\"around\"]/div/ul/li/a/i/text()')\n",
    "print(location)\n",
    "df = pd.DataFrame({'location':location, 'temperature':temperature})\n",
    "print('温度列')\n",
    "print(df['temperature'])"
   ]
  },
  {
   "cell_type": "code",
   "execution_count": 9,
   "metadata": {
    "tags": []
   },
   "outputs": [
    {
     "output_type": "stream",
     "name": "stdout",
     "text": "location temperature  high  low\n0         香河     20/34°C    20   34\n1         涿州     19/33°C    19   33\n2         唐山     19/33°C    19   33\n3         沧州     21/34°C    21   34\n4         天津     22/34°C    22   34\n5         廊坊     21/34°C    21   34\n6         太原     15/31°C    15   31\n7        石家庄     20/34°C    20   34\n8         涿鹿     18/33°C    18   33\n9        张家口     17/32°C    17   32\n10        保定     18/34°C    18   34\n11        三河     20/34°C    20   34\n12      北京孔庙     19/34°C    19   34\n13     北京国子监     19/34°C    19   34\n14   中国地质博物馆     19/34°C    19   34\n15      月坛公园     19/34°C    19   34\n16   明城墙遗址公园     19/34°C    19   34\n17  北京市规划展览馆     21/33°C    21   33\n18       什刹海     19/34°C    19   34\n19      南锣鼓巷     19/34°C    19   34\n20      天坛公园     21/33°C    21   33\n21      北海公园     21/33°C    21   33\n22      景山公园     21/33°C    21   33\n23     北京海洋馆     19/34°C    19   34\n"
    }
   ],
   "source": [
    "df['high'] = df['temperature'].apply(lambda x: int(re.match('(-?[0-9]*?)/-?[0-9]*?°C', x).group(1) ) )\n",
    "df['low'] = df['temperature'].apply(lambda x: int(re.match('-?[0-9]*?/(-?[0-9]*?)°C', x).group(1) ) )\n",
    "print(df)"
   ]
  },
  {
   "cell_type": "markdown",
   "metadata": {},
   "source": [
    "# 4 求字典前n个最大值"
   ]
  },
  {
   "cell_type": "code",
   "execution_count": 11,
   "metadata": {},
   "outputs": [
    {
     "output_type": "execute_result",
     "data": {
      "text/plain": "['a', 'd', 'c']"
     },
     "metadata": {},
     "execution_count": 11
    }
   ],
   "source": [
    "from heapq import nlargest\n",
    "\n",
    "# 返回字典d前n个最大值对应的键\n",
    "def topn_dict(d, n):\n",
    "    return nlargest(n, d, key=lambda k: d[k])\n",
    "\n",
    "topn_dict({'a': 10, 'b': 8, 'c': 9, 'd': 10}, 3)  # ['a', 'd', 'c']"
   ]
  },
  {
   "cell_type": "markdown",
   "metadata": {},
   "source": [
    "# 5 求最小键值对"
   ]
  },
  {
   "cell_type": "code",
   "execution_count": 12,
   "metadata": {},
   "outputs": [
    {
     "output_type": "execute_result",
     "data": {
      "text/plain": "('a', -10)"
     },
     "metadata": {},
     "execution_count": 12
    }
   ],
   "source": [
    "d={'a':-10,'b':5, 'c':3,'d':5}\n",
    "min(d.items(),key=lambda x:x[1]) #('a', -10)"
   ]
  },
  {
   "cell_type": "markdown",
   "metadata": {},
   "source": [
    "# 1 字典值最大的键值对列表"
   ]
  },
  {
   "cell_type": "code",
   "execution_count": 14,
   "metadata": {},
   "outputs": [
    {
     "output_type": "execute_result",
     "data": {
      "text/plain": "[('b', 5), ('d', 5)]"
     },
     "metadata": {},
     "execution_count": 14
    }
   ],
   "source": [
    "def max_pairs(dic):\n",
    "    if len(dic) == 0:\n",
    "        return dic\n",
    "    max_val = max(map(lambda v: v[1], dic.items()))\n",
    "    return [item for item in dic.items() if item[1] == max_val]\n",
    "\n",
    "max_pairs({'a': -10, 'b': 5, 'c': 3, 'd': 5})# [('b', 5), ('d', 5)]\n"
   ]
  },
  {
   "cell_type": "markdown",
   "metadata": {},
   "source": [
    "# 2 字典值最小的键值对列表"
   ]
  },
  {
   "cell_type": "code",
   "execution_count": 16,
   "metadata": {
    "tags": []
   },
   "outputs": [
    {
     "output_type": "stream",
     "name": "stdout",
     "text": "[('a', -10)]\n"
    }
   ],
   "source": [
    "def min_pairs(dic):\n",
    "    if len(dic) == 0:\n",
    "        return []\n",
    "    min_val = min(map(lambda v: v[1], dic.items()))\n",
    "    return [item for item in dic.items() if item[1] == min_val]\n",
    "min_pairs({}) # []\n",
    "\n",
    "r = min_pairs({'a': -10, 'b': 5, 'c': 3, 'd': 5})\n",
    "print(r)  # [('b', 5), ('d', 5)]"
   ]
  },
  {
   "cell_type": "markdown",
   "metadata": {},
   "source": [
    "# 3 合并两个字典"
   ]
  },
  {
   "cell_type": "code",
   "execution_count": 18,
   "metadata": {},
   "outputs": [
    {
     "output_type": "execute_result",
     "data": {
      "text/plain": "{'a': 1, 'b': 2, 'c': 3}"
     },
     "metadata": {},
     "execution_count": 18
    }
   ],
   "source": [
    "def merge_dict(dic1, dic2):\n",
    "    return {**dic1, **dic2}  # python3.5后支持的一行代码实现合并字典\n",
    "\n",
    "merge_dict({'a': 1, 'b': 2}, {'c': 3})  # {'a': 1, 'b': 2, '"
   ]
  },
  {
   "cell_type": "markdown",
   "metadata": {},
   "source": [
    "# 16 浮点数等差数列"
   ]
  },
  {
   "cell_type": "code",
   "execution_count": 19,
   "metadata": {},
   "outputs": [
    {
     "output_type": "execute_result",
     "data": {
      "text/plain": "[1.0, 1.7, 2.4, 3.1, 3.8, 4.5, 5.2, 5.9, 6.6, 7.3, 8.0]"
     },
     "metadata": {},
     "execution_count": 19
    }
   ],
   "source": [
    "def rang(start, stop, n):\n",
    "    start,stop,n = float('%.2f' % start), float('%.2f' % stop),int('%.d' % n)\n",
    "    step = (stop-start)/n\n",
    "    lst = [start]\n",
    "    while n > 0:\n",
    "        start,n = start+step,n-1\n",
    "        lst.append(round((start), 2))\n",
    "    return lst\n",
    "\n",
    "rang(1, 8, 10) # [1.0, 1.7, 2.4, 3.1, 3.8, 4.5, 5.2, 5.9, 6.6, 7.3, 8.0]"
   ]
  },
  {
   "cell_type": "markdown",
   "metadata": {},
   "source": [
    "# 14 求列表中所有重复元素"
   ]
  },
  {
   "cell_type": "code",
   "execution_count": 20,
   "metadata": {},
   "outputs": [
    {
     "output_type": "execute_result",
     "data": {
      "text/plain": "[2, 3]"
     },
     "metadata": {},
     "execution_count": 20
    }
   ],
   "source": [
    "from collections import Counter\n",
    "\n",
    "def find_all_duplicates(lst):\n",
    "    c = Counter(lst)\n",
    "    return list(filter(lambda k: c[k] > 1, c))\n",
    "\n",
    "find_all_duplicates([1, 2, 2, 3, 3, 3])  # ["
   ]
  },
  {
   "cell_type": "markdown",
   "metadata": {},
   "source": [
    "# 10 出现最多元素"
   ]
  },
  {
   "cell_type": "code",
   "execution_count": 21,
   "metadata": {},
   "outputs": [
    {
     "output_type": "execute_result",
     "data": {
      "text/plain": "1"
     },
     "metadata": {},
     "execution_count": 21
    }
   ],
   "source": [
    "def max_frequency(lst):\n",
    "    return max(lst, default='列表为空', key=lambda v: lst.count(v))\n",
    "\n",
    "lst = [1, 3, 3, 2, 1, 1, 2]\n",
    "max_frequency(lst) # 1 "
   ]
  },
  {
   "cell_type": "markdown",
   "metadata": {},
   "source": [
    "# 5 过滤掉各种空值"
   ]
  },
  {
   "cell_type": "code",
   "execution_count": 22,
   "metadata": {},
   "outputs": [
    {
     "output_type": "execute_result",
     "data": {
      "text/plain": "['ok', [1, 2]]"
     },
     "metadata": {},
     "execution_count": 22
    }
   ],
   "source": [
    "def filter_false(lst):\n",
    "    return list(filter(bool, lst))\n",
    "\n",
    "filter_false([None, 0, False, '', [], 'ok', [1, 2]])# ['ok', [1, 2]]"
   ]
  },
  {
   "cell_type": "markdown",
   "metadata": {},
   "source": [
    "## 将list等分为子组"
   ]
  },
  {
   "cell_type": "code",
   "execution_count": 23,
   "metadata": {},
   "outputs": [],
   "source": [
    "from math import ceil\n",
    "\n",
    "def divide(lst, size):\n",
    "    if size <= 0:\n",
    "        return [lst]\n",
    "    return [lst[i * size:(i+1)*size] for i in range(0, ceil(len(lst) / size))]\n",
    "\n",
    "r = divide([1, 3, 5, 7, 9], 2) # [[1, 3], [5, 7], [9]]"
   ]
  },
  {
   "cell_type": "code",
   "execution_count": null,
   "metadata": {},
   "outputs": [],
   "source": []
  }
 ],
 "metadata": {
  "language_info": {
   "codemirror_mode": {
    "name": "ipython",
    "version": 3
   },
   "file_extension": ".py",
   "mimetype": "text/x-python",
   "name": "python",
   "nbconvert_exporter": "python",
   "pygments_lexer": "ipython3",
   "version": "3.7.6-final"
  },
  "orig_nbformat": 2,
  "kernelspec": {
   "name": "pycharm-66c53067",
   "display_name": "PyCharm (InferenceSystem)"
  }
 },
 "nbformat": 4,
 "nbformat_minor": 2
}