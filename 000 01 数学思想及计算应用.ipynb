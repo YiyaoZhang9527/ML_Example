{
 "cells": [
  {
   "cell_type": "markdown",
   "metadata": {},
   "source": [
    "# 在XGBoost和LightGBM模型中强制执行单调约束的python教程\n",
    "https://www.toutiao.com/i6821893981257859588/"
   ]
  },
  {
   "cell_type": "markdown",
   "metadata": {},
   "source": [
    "# 对抗机器学习的博弈论方法\n",
    "https://www.toutiao.com/i6822645701202149899/"
   ]
  },
  {
   "cell_type": "markdown",
   "metadata": {},
   "source": [
    "# 了解贝塞尔曲线的数学和Python实现示例\n",
    "https://www.toutiao.com/i6822513166631567885/"
   ]
  },
  {
   "cell_type": "markdown",
   "metadata": {},
   "source": [
    "# 目标检测与跟踪概述\n",
    "https://www.toutiao.com/i6823009668495835655/"
   ]
  },
  {
   "cell_type": "markdown",
   "metadata": {},
   "source": [
    "# Batch、Mini-batch和随机梯度下降Python示例\n",
    "https://www.toutiao.com/i6823366481292558852/"
   ]
  },
  {
   "cell_type": "markdown",
   "metadata": {},
   "source": [
    "# 人工智能-阿尔法狗背后的简单原理：贝叶斯公式\n",
    "https://www.toutiao.com/a6815481387055841795/?tt_from=mobile_qq&utm_campaign=client_share&timestamp=1592175986&app=news_article_social&utm_source=mobile_qq&utm_medium=toutiao_ios&use_new_style=0&req_id=202006150706260100140470392AE91CE9&group_id=6815481387055841795"
   ]
  },
  {
   "cell_type": "markdown",
   "metadata": {},
   "source": [
    "# 高斯混合模型（GMM）：理念，数学，EM算法和python实现 \n",
    "https://www.toutiao.com/i6819698036650803724/"
   ]
  },
  {
   "cell_type": "markdown",
   "metadata": {},
   "source": [
    "# 计算机视觉:YOLO算法简介\n",
    "https://www.toutiao.com/i6819240300095996430/"
   ]
  },
  {
   "cell_type": "markdown",
   "metadata": {},
   "source": [
    "# 异常检测算法演变及学习笔记\n",
    "https://www.toutiao.com/a6839326934392898052/?tt_from=mobile_qq&utm_campaign=client_share&timestamp=1592493295&app=news_article_social&utm_source=mobile_qq&utm_medium=toutiao_ios&use_new_style=0&req_id=202006182314540100140470370941A567&group_id=6839326934392898052"
   ]
  },
  {
   "cell_type": "markdown",
   "metadata": {},
   "source": [
    "# 防止过度拟合的8种简单技术\n",
    "https://www.toutiao.com/a6836059220345881101/?tt_from=mobile_qq&utm_campaign=client_share&timestamp=1592503430&app=news_article_social&utm_source=mobile_qq&utm_medium=toutiao_ios&use_new_style=0&req_id=2020061902034901001504201522050757&group_id=6836059220345881101"
   ]
  },
  {
   "cell_type": "code",
   "execution_count": 4,
   "metadata": {
    "tags": [
     "outputPrepend"
    ]
   },
   "outputs": [
    {
     "output_type": "stream",
     "name": "stdout",
     "text": "inished after 11.000000 time steps / mean 15.150000\n193 Episode finished after 21.000000 time steps / mean 15.160000\n194 Episode finished after 11.000000 time steps / mean 15.280000\n195 Episode finished after 10.000000 time steps / mean 15.290000\n196 Episode finished after 11.000000 time steps / mean 15.290000\n197 Episode finished after 8.000000 time steps / mean 15.290000\n198 Episode finished after 10.000000 time steps / mean 15.280000\n199 Episode finished after 27.000000 time steps / mean 15.080000\n200 Episode finished after 16.000000 time steps / mean 15.250000\n201 Episode finished after 16.000000 time steps / mean 15.310000\n202 Episode finished after 10.000000 time steps / mean 15.360000\n203 Episode finished after 11.000000 time steps / mean 15.350000\n204 Episode finished after 18.000000 time steps / mean 15.160000\n205 Episode finished after 10.000000 time steps / mean 15.240000\n206 Episode finished after 10.000000 time steps / mean 15.240000\n207 Episode finished after 10.000000 time steps / mean 15.260000\n208 Episode finished after 9.000000 time steps / mean 15.170000\n209 Episode finished after 19.000000 time steps / mean 15.120000\n210 Episode finished after 12.000000 time steps / mean 15.120000\n211 Episode finished after 9.000000 time steps / mean 15.130000\n212 Episode finished after 10.000000 time steps / mean 15.060000\n213 Episode finished after 11.000000 time steps / mean 15.020000\n214 Episode finished after 8.000000 time steps / mean 14.910000\n215 Episode finished after 10.000000 time steps / mean 14.870000\n216 Episode finished after 10.000000 time steps / mean 14.860000\n217 Episode finished after 21.000000 time steps / mean 14.860000\n218 Episode finished after 24.000000 time steps / mean 14.880000\n219 Episode finished after 10.000000 time steps / mean 15.010000\n220 Episode finished after 18.000000 time steps / mean 14.920000\n221 Episode finished after 11.000000 time steps / mean 14.900000\n222 Episode finished after 20.000000 time steps / mean 14.890000\n223 Episode finished after 20.000000 time steps / mean 14.900000\n224 Episode finished after 12.000000 time steps / mean 14.900000\n225 Episode finished after 14.000000 time steps / mean 14.880000\n226 Episode finished after 28.000000 time steps / mean 14.830000\n227 Episode finished after 11.000000 time steps / mean 15.010000\n228 Episode finished after 11.000000 time steps / mean 15.020000\n229 Episode finished after 11.000000 time steps / mean 14.700000\n230 Episode finished after 17.000000 time steps / mean 14.620000\n231 Episode finished after 14.000000 time steps / mean 14.680000\n232 Episode finished after 29.000000 time steps / mean 14.600000\n233 Episode finished after 19.000000 time steps / mean 14.720000\n234 Episode finished after 10.000000 time steps / mean 14.690000\n235 Episode finished after 11.000000 time steps / mean 14.690000\n236 Episode finished after 13.000000 time steps / mean 14.690000\n237 Episode finished after 12.000000 time steps / mean 14.700000\n238 Episode finished after 10.000000 time steps / mean 14.720000\n239 Episode finished after 18.000000 time steps / mean 14.540000\n240 Episode finished after 23.000000 time steps / mean 14.590000\n241 Episode finished after 10.000000 time steps / mean 14.720000\n242 Episode finished after 10.000000 time steps / mean 14.670000\n243 Episode finished after 10.000000 time steps / mean 14.600000\n244 Episode finished after 15.000000 time steps / mean 14.550000\n245 Episode finished after 11.000000 time steps / mean 14.530000\n246 Episode finished after 19.000000 time steps / mean 14.290000\n247 Episode finished after 11.000000 time steps / mean 14.310000\n248 Episode finished after 10.000000 time steps / mean 14.270000\n249 Episode finished after 16.000000 time steps / mean 14.270000\n250 Episode finished after 14.000000 time steps / mean 14.320000\n251 Episode finished after 10.000000 time steps / mean 14.340000\n252 Episode finished after 9.000000 time steps / mean 14.320000\n253 Episode finished after 10.000000 time steps / mean 14.320000\n254 Episode finished after 21.000000 time steps / mean 14.320000\n255 Episode finished after 11.000000 time steps / mean 14.340000\n256 Episode finished after 9.000000 time steps / mean 14.260000\n257 Episode finished after 14.000000 time steps / mean 14.240000\n258 Episode finished after 10.000000 time steps / mean 14.200000\n259 Episode finished after 17.000000 time steps / mean 14.140000\n260 Episode finished after 10.000000 time steps / mean 14.210000\n261 Episode finished after 10.000000 time steps / mean 14.210000\n262 Episode finished after 16.000000 time steps / mean 14.140000\n263 Episode finished after 27.000000 time steps / mean 14.150000\n264 Episode finished after 24.000000 time steps / mean 14.270000\n265 Episode finished after 10.000000 time steps / mean 14.390000\n266 Episode finished after 22.000000 time steps / mean 14.390000\n267 Episode finished after 23.000000 time steps / mean 14.410000\n268 Episode finished after 10.000000 time steps / mean 14.540000\n269 Episode finished after 24.000000 time steps / mean 14.540000\n270 Episode finished after 16.000000 time steps / mean 14.640000\n271 Episode finished after 10.000000 time steps / mean 14.670000\n272 Episode finished after 9.000000 time steps / mean 14.670000\n273 Episode finished after 16.000000 time steps / mean 14.500000\n274 Episode finished after 14.000000 time steps / mean 14.480000\n275 Episode finished after 11.000000 time steps / mean 14.510000\n276 Episode finished after 20.000000 time steps / mean 14.490000\n277 Episode finished after 8.000000 time steps / mean 14.520000\n278 Episode finished after 10.000000 time steps / mean 14.400000\n279 Episode finished after 15.000000 time steps / mean 14.380000\n280 Episode finished after 25.000000 time steps / mean 14.430000\n281 Episode finished after 10.000000 time steps / mean 14.440000\n282 Episode finished after 11.000000 time steps / mean 14.230000\n283 Episode finished after 10.000000 time steps / mean 14.230000\n284 Episode finished after 19.000000 time steps / mean 14.200000\n285 Episode finished after 11.000000 time steps / mean 14.150000\n286 Episode finished after 20.000000 time steps / mean 14.150000\n287 Episode finished after 10.000000 time steps / mean 14.150000\n288 Episode finished after 22.000000 time steps / mean 14.160000\n289 Episode finished after 16.000000 time steps / mean 14.070000\n290 Episode finished after 11.000000 time steps / mean 14.120000\n291 Episode finished after 14.000000 time steps / mean 14.120000\n292 Episode finished after 10.000000 time steps / mean 14.160000\n293 Episode finished after 10.000000 time steps / mean 14.150000\n294 Episode finished after 10.000000 time steps / mean 14.040000\n295 Episode finished after 11.000000 time steps / mean 14.030000\n296 Episode finished after 10.000000 time steps / mean 14.040000\n297 Episode finished after 23.000000 time steps / mean 14.030000\n298 Episode finished after 11.000000 time steps / mean 14.180000\n299 Episode finished after 19.000000 time steps / mean 14.190000\n300 Episode finished after 16.000000 time steps / mean 14.110000\n301 Episode finished after 16.000000 time steps / mean 14.110000\n302 Episode finished after 10.000000 time steps / mean 14.110000\n303 Episode finished after 20.000000 time steps / mean 14.110000\n304 Episode finished after 22.000000 time steps / mean 14.200000\n305 Episode finished after 14.000000 time steps / mean 14.240000\n306 Episode finished after 10.000000 time steps / mean 14.280000\n307 Episode finished after 11.000000 time steps / mean 14.280000\n308 Episode finished after 16.000000 time steps / mean 14.290000\n309 Episode finished after 10.000000 time steps / mean 14.360000\n310 Episode finished after 10.000000 time steps / mean 14.270000\n311 Episode finished after 22.000000 time steps / mean 14.250000\n312 Episode finished after 16.000000 time steps / mean 14.380000\n313 Episode finished after 11.000000 time steps / mean 14.440000\n314 Episode finished after 29.000000 time steps / mean 14.440000\n315 Episode finished after 10.000000 time steps / mean 14.650000\n316 Episode finished after 10.000000 time steps / mean 14.650000\n317 Episode finished after 10.000000 time steps / mean 14.650000\n318 Episode finished after 12.000000 time steps / mean 14.540000\n319 Episode finished after 16.000000 time steps / mean 14.420000\n320 Episode finished after 25.000000 time steps / mean 14.480000\n321 Episode finished after 10.000000 time steps / mean 14.550000\n322 Episode finished after 22.000000 time steps / mean 14.540000\n323 Episode finished after 11.000000 time steps / mean 14.560000\n324 Episode finished after 16.000000 time steps / mean 14.470000\n325 Episode finished after 10.000000 time steps / mean 14.510000\n326 Episode finished after 11.000000 time steps / mean 14.470000\n327 Episode finished after 16.000000 time steps / mean 14.300000\n328 Episode finished after 16.000000 time steps / mean 14.350000\n329 Episode finished after 11.000000 time steps / mean 14.400000\n330 Episode finished after 10.000000 time steps / mean 14.400000\n331 Episode finished after 9.000000 time steps / mean 14.330000\n332 Episode finished after 20.000000 time steps / mean 14.280000\n333 Episode finished after 9.000000 time steps / mean 14.190000\n334 Episode finished after 28.000000 time steps / mean 14.090000\n335 Episode finished after 11.000000 time steps / mean 14.270000\n336 Episode finished after 10.000000 time steps / mean 14.270000\n337 Episode finished after 10.000000 time steps / mean 14.240000\n338 Episode finished after 23.000000 time steps / mean 14.220000\n339 Episode finished after 16.000000 time steps / mean 14.350000\n340 Episode finished after 10.000000 time steps / mean 14.330000\n341 Episode finished after 16.000000 time steps / mean 14.200000\n342 Episode finished after 19.000000 time steps / mean 14.260000\n343 Episode finished after 10.000000 time steps / mean 14.350000\n344 Episode finished after 10.000000 time steps / mean 14.350000\n345 Episode finished after 10.000000 time steps / mean 14.300000\n346 Episode finished after 14.000000 time steps / mean 14.290000\n347 Episode finished after 11.000000 time steps / mean 14.240000\n348 Episode finished after 11.000000 time steps / mean 14.240000\n349 Episode finished after 10.000000 time steps / mean 14.250000\n350 Episode finished after 10.000000 time steps / mean 14.190000\n351 Episode finished after 10.000000 time steps / mean 14.150000\n352 Episode finished after 12.000000 time steps / mean 14.150000\n353 Episode finished after 10.000000 time steps / mean 14.180000\n354 Episode finished after 15.000000 time steps / mean 14.180000\n355 Episode finished after 10.000000 time steps / mean 14.120000\n356 Episode finished after 18.000000 time steps / mean 14.110000\n357 Episode finished after 9.000000 time steps / mean 14.200000\n358 Episode finished after 10.000000 time steps / mean 14.150000\n359 Episode finished after 11.000000 time steps / mean 14.150000\n360 Episode finished after 16.000000 time steps / mean 14.090000\n361 Episode finished after 36.000000 time steps / mean 14.150000\n362 Episode finished after 19.000000 time steps / mean 14.410000\n363 Episode finished after 19.000000 time steps / mean 14.440000\n364 Episode finished after 14.000000 time steps / mean 14.360000\n365 Episode finished after 20.000000 time steps / mean 14.260000\n366 Episode finished after 23.000000 time steps / mean 14.360000\n367 Episode finished after 18.000000 time steps / mean 14.370000\n368 Episode finished after 22.000000 time steps / mean 14.320000\n369 Episode finished after 17.000000 time steps / mean 14.440000\n370 Episode finished after 10.000000 time steps / mean 14.370000\n371 Episode finished after 10.000000 time steps / mean 14.310000\n372 Episode finished after 16.000000 time steps / mean 14.310000\n373 Episode finished after 28.000000 time steps / mean 14.380000\n374 Episode finished after 9.000000 time steps / mean 14.500000\n375 Episode finished after 11.000000 time steps / mean 14.450000\n376 Episode finished after 11.000000 time steps / mean 14.450000\n377 Episode finished after 11.000000 time steps / mean 14.360000\n378 Episode finished after 10.000000 time steps / mean 14.390000\n379 Episode finished after 10.000000 time steps / mean 14.390000\n380 Episode finished after 10.000000 time steps / mean 14.340000\n381 Episode finished after 28.000000 time steps / mean 14.190000\n382 Episode finished after 20.000000 time steps / mean 14.370000\n383 Episode finished after 35.000000 time steps / mean 14.460000\n384 Episode finished after 20.000000 time steps / mean 14.710000\n385 Episode finished after 14.000000 time steps / mean 14.720000\n386 Episode finished after 22.000000 time steps / mean 14.750000\n387 Episode finished after 10.000000 time steps / mean 14.770000\n388 Episode finished after 11.000000 time steps / mean 14.770000\n389 Episode finished after 27.000000 time steps / mean 14.660000\n390 Episode finished after 12.000000 time steps / mean 14.770000\n391 Episode finished after 11.000000 time steps / mean 14.780000\n392 Episode finished after 15.000000 time steps / mean 14.750000\n393 Episode finished after 16.000000 time steps / mean 14.800000\n394 Episode finished after 11.000000 time steps / mean 14.860000\n395 Episode finished after 20.000000 time steps / mean 14.870000\n396 Episode finished after 10.000000 time steps / mean 14.960000\n397 Episode finished after 12.000000 time steps / mean 14.960000\n398 Episode finished after 20.000000 time steps / mean 14.850000\n399 Episode finished after 11.000000 time steps / mean 14.940000\n400 Episode finished after 14.000000 time steps / mean 14.860000\n401 Episode finished after 14.000000 time steps / mean 14.840000\n402 Episode finished after 21.000000 time steps / mean 14.820000\n403 Episode finished after 20.000000 time steps / mean 14.930000\n404 Episode finished after 27.000000 time steps / mean 14.930000\n405 Episode finished after 9.000000 time steps / mean 14.980000\n406 Episode finished after 11.000000 time steps / mean 14.930000\n407 Episode finished after 10.000000 time steps / mean 14.940000\n408 Episode finished after 28.000000 time steps / mean 14.930000\n409 Episode finished after 10.000000 time steps / mean 15.050000\n410 Episode finished after 11.000000 time steps / mean 15.050000\n411 Episode finished after 10.000000 time steps / mean 15.060000\n412 Episode finished after 11.000000 time steps / mean 14.940000\n413 Episode finished after 11.000000 time steps / mean 14.890000\n414 Episode finished after 10.000000 time steps / mean 14.890000\n415 Episode finished after 20.000000 time steps / mean 14.700000\n416 Episode finished after 11.000000 time steps / mean 14.800000\n417 Episode finished after 11.000000 time steps / mean 14.810000\n418 Episode finished after 20.000000 time steps / mean 14.820000\n419 Episode finished after 10.000000 time steps / mean 14.900000\n420 Episode finished after 16.000000 time steps / mean 14.840000\n421 Episode finished after 19.000000 time steps / mean 14.750000\n422 Episode finished after 21.000000 time steps / mean 14.840000\n423 Episode finished after 11.000000 time steps / mean 14.830000\n424 Episode finished after 28.000000 time steps / mean 14.830000\n425 Episode finished after 23.000000 time steps / mean 14.950000\n426 Episode finished after 10.000000 time steps / mean 15.080000\n427 Episode finished after 10.000000 time steps / mean 15.070000\n428 Episode finished after 20.000000 time steps / mean 15.010000\n429 Episode finished after 19.000000 time steps / mean 15.050000\n430 Episode finished after 19.000000 time steps / mean 15.130000\n431 Episode finished after 21.000000 time steps / mean 15.220000\n432 Episode finished after 10.000000 time steps / mean 15.340000\n433 Episode finished after 28.000000 time steps / mean 15.240000\n434 Episode finished after 10.000000 time steps / mean 15.430000\n435 Episode finished after 19.000000 time steps / mean 15.250000\n436 Episode finished after 9.000000 time steps / mean 15.330000\n437 Episode finished after 11.000000 time steps / mean 15.320000\n438 Episode finished after 10.000000 time steps / mean 15.330000\n439 Episode finished after 10.000000 time steps / mean 15.200000\n440 Episode finished after 10.000000 time steps / mean 15.140000\n441 Episode finished after 10.000000 time steps / mean 15.140000\n442 Episode finished after 10.000000 time steps / mean 15.080000\n443 Episode finished after 16.000000 time steps / mean 14.990000\n444 Episode finished after 20.000000 time steps / mean 15.050000\n445 Episode finished after 21.000000 time steps / mean 15.150000\n446 Episode finished after 14.000000 time steps / mean 15.260000\n447 Episode finished after 11.000000 time steps / mean 15.260000\n448 Episode finished after 22.000000 time steps / mean 15.260000\n449 Episode finished after 11.000000 time steps / mean 15.370000\n450 Episode finished after 10.000000 time steps / mean 15.380000\n451 Episode finished after 10.000000 time steps / mean 15.380000\n452 Episode finished after 22.000000 time steps / mean 15.380000\n453 Episode finished after 19.000000 time steps / mean 15.480000\n454 Episode finished after 10.000000 time steps / mean 15.570000\n455 Episode finished after 10.000000 time steps / mean 15.520000\n456 Episode finished after 12.000000 time steps / mean 15.520000\n457 Episode finished after 19.000000 time steps / mean 15.460000\n458 Episode finished after 14.000000 time steps / mean 15.560000\n459 Episode finished after 19.000000 time steps / mean 15.600000\n460 Episode finished after 11.000000 time steps / mean 15.680000\n461 Episode finished after 11.000000 time steps / mean 15.630000\n462 Episode finished after 10.000000 time steps / mean 15.380000\n463 Episode finished after 10.000000 time steps / mean 15.290000\n464 Episode finished after 19.000000 time steps / mean 15.200000\n465 Episode finished after 26.000000 time steps / mean 15.250000\n466 Episode finished after 19.000000 time steps / mean 15.310000\n467 Episode finished after 14.000000 time steps / mean 15.270000\n468 Episode finished after 28.000000 time steps / mean 15.230000\n469 Episode finished after 10.000000 time steps / mean 15.290000\n470 Episode finished after 13.000000 time steps / mean 15.220000\n471 Episode finished after 21.000000 time steps / mean 15.250000\n472 Episode finished after 20.000000 time steps / mean 15.360000\n473 Episode finished after 10.000000 time steps / mean 15.400000\n474 Episode finished after 11.000000 time steps / mean 15.220000\n475 Episode finished after 24.000000 time steps / mean 15.240000\n476 Episode finished after 17.000000 time steps / mean 15.370000\n477 Episode finished after 10.000000 time steps / mean 15.430000\n478 Episode finished after 10.000000 time steps / mean 15.420000\n479 Episode finished after 12.000000 time steps / mean 15.420000\n480 Episode finished after 18.000000 time steps / mean 15.440000\n481 Episode finished after 10.000000 time steps / mean 15.520000\n482 Episode finished after 19.000000 time steps / mean 15.340000\n483 Episode finished after 10.000000 time steps / mean 15.330000\n484 Episode finished after 10.000000 time steps / mean 15.080000\n485 Episode finished after 10.000000 time steps / mean 14.980000\n486 Episode finished after 10.000000 time steps / mean 14.940000\n487 Episode finished after 10.000000 time steps / mean 14.820000\n488 Episode finished after 19.000000 time steps / mean 14.820000\n489 Episode finished after 15.000000 time steps / mean 14.900000\n490 Episode finished after 10.000000 time steps / mean 14.780000\n491 Episode finished after 11.000000 time steps / mean 14.760000\n492 Episode finished after 10.000000 time steps / mean 14.760000\n493 Episode finished after 9.000000 time steps / mean 14.710000\n494 Episode finished after 10.000000 time steps / mean 14.640000\n495 Episode finished after 10.000000 time steps / mean 14.630000\n496 Episode finished after 14.000000 time steps / mean 14.530000\n497 Episode finished after 13.000000 time steps / mean 14.570000\n498 Episode finished after 23.000000 time steps / mean 14.580000\n499 Episode finished after 18.000000 time steps / mean 14.610000\nFailed!\n"
    }
   ],
   "source": []
  },
  {
   "cell_type": "code",
   "execution_count": null,
   "metadata": {},
   "outputs": [],
   "source": []
  }
 ],
 "metadata": {
  "language_info": {
   "codemirror_mode": {
    "name": "ipython",
    "version": 3
   },
   "file_extension": ".py",
   "mimetype": "text/x-python",
   "name": "python",
   "nbconvert_exporter": "python",
   "pygments_lexer": "ipython3",
   "version": "3.7.6-final"
  },
  "orig_nbformat": 2,
  "kernelspec": {
   "name": "python37464bitf10adaa3efab4e6fa8988dc159616146",
   "display_name": "Python 3.7.4 64-bit"
  }
 },
 "nbformat": 4,
 "nbformat_minor": 2
}