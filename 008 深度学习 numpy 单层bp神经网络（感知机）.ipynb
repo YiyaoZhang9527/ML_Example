{
 "cells": [
  {
   "cell_type": "code",
   "execution_count": 1,
   "metadata": {},
   "outputs": [],
   "source": [
    "import numpy as np\n",
    "import pandas as pd"
   ]
  },
  {
   "cell_type": "markdown",
   "metadata": {},
   "source": [
    "## 这是一个敌方间谍网络约定的红黄蓝信号灯的二进制码表我方观测到的结果，每一个行最后一个数字是布尔型的确认值，表示信号是一个单位曾经发送过的，预估一下这个单位的信号发送偏好\n",
    "### $ X矩阵里的X_1 到 X_3 分别是三个红灯是否激发的标志 $\n",
    "### $ y 向量则是敌方是否发现自己暴露的标志 1为敌人已经发现自己暴露，0为敌人尚未发现自己暴露$"
   ]
  },
  {
   "cell_type": "markdown",
   "metadata": {},
   "source": [
    "## 处理数据，拿到X和y"
   ]
  },
  {
   "cell_type": "code",
   "execution_count": 2,
   "metadata": {},
   "outputs": [
    {
     "output_type": "execute_result",
     "data": {
      "text/plain": "array([[1, 0, 1],\n       [1, 1, 0],\n       [0, 0, 1],\n       [0, 1, 0]])"
     },
     "metadata": {},
     "execution_count": 2
    }
   ],
   "source": [
    "X = np.array([[1,0,1],[1,1,0],[0,0,1],[0,1,0]])\n",
    "X"
   ]
  },
  {
   "cell_type": "code",
   "execution_count": 3,
   "metadata": {},
   "outputs": [
    {
     "output_type": "execute_result",
     "data": {
      "text/plain": "array([[1],\n       [1],\n       [1],\n       [0]])"
     },
     "metadata": {},
     "execution_count": 3
    }
   ],
   "source": [
    "y = np.array([[1],[1],[1],[0]])\n",
    "y"
   ]
  },
  {
   "cell_type": "markdown",
   "metadata": {},
   "source": [
    "## 随机生成每次相同的初始参数值"
   ]
  },
  {
   "cell_type": "code",
   "execution_count": 4,
   "metadata": {},
   "outputs": [
    {
     "output_type": "execute_result",
     "data": {
      "text/plain": "array([[-0.16595599],\n       [ 0.44064899],\n       [-0.99977125]])"
     },
     "metadata": {},
     "execution_count": 4
    }
   ],
   "source": [
    "m,n = X.shape\n",
    "np.random.seed(1)\n",
    "weights = 2 * np.random.random((n,1))-1\n",
    "weights"
   ]
  },
  {
   "cell_type": "code",
   "execution_count": 5,
   "metadata": {
    "tags": [
     "outputPrepend",
     "outputPrepend",
     "outputPrepend",
     "outputPrepend",
     "outputPrepend",
     "outputPrepend",
     "outputPrepend",
     "outputPrepend",
     "outputPrepend",
     "outputPrepend",
     "outputPrepend",
     "outputPrepend",
     "outputPrepend",
     "outputPrepend",
     "outputPrepend",
     "outputPrepend"
    ]
   },
   "outputs": [
    {
     "output_type": "execute_result",
     "data": {
      "text/plain": "array([[ 3.70721794],\n       [-1.72281165],\n       [ 2.42327552]])"
     },
     "metadata": {},
     "execution_count": 5
    }
   ],
   "source": [
    "for it in range(100):\n",
    "    output = 1/(1+np.exp(-np.dot(X,weights)))\n",
    "    error = y-output\n",
    "    delta = error*output*(1-output) #sigmoid 函数的斜率 output*(1-output) 是斜率\n",
    "    weights += np.dot(X.T,delta)\n",
    "weights"
   ]
  },
  {
   "cell_type": "markdown",
   "metadata": {},
   "source": [
    "## 验证数据的合理性\n",
    "## 新拿到一组灯信号的组合方式，判断敌人是否发现自己暴露"
   ]
  },
  {
   "cell_type": "code",
   "execution_count": 6,
   "metadata": {},
   "outputs": [
    {
     "output_type": "execute_result",
     "data": {
      "text/plain": "array([[0.91858505]])"
     },
     "metadata": {},
     "execution_count": 6
    }
   ],
   "source": [
    "1/(1+np.exp(-np.dot([[0,0,1]],weights)))"
   ]
  },
  {
   "cell_type": "code",
   "execution_count": null,
   "metadata": {},
   "outputs": [],
   "source": []
  },
  {
   "cell_type": "markdown",
   "metadata": {},
   "source": [
    "## 整理一下代码"
   ]
  },
  {
   "cell_type": "code",
   "execution_count": 7,
   "metadata": {},
   "outputs": [],
   "source": [
    "def sigmoid(z):\n",
    "    return 1/(1+np.exp(-z))\n",
    "\n",
    "def startweights():\n",
    "    m,n = X.shape\n",
    "    np.random.seed(1)\n",
    "    return 2 * np.random.random((n,1))-1 \n",
    "\n",
    "def network(X,y,maxloop,weights=startweights()):\n",
    "    for it in range(maxloop):\n",
    "        output = sigmoid(np.dot(X,weights))\n",
    "        error = y-output\n",
    "        delta = error*output*(1-output) \n",
    "        weights += np.dot(X.T,delta)\n",
    "    return weights\n",
    "\n",
    "def ReLU(a,Inactive):\n",
    "    return (a.max() >= Inactive) and  a.max() or 0\n",
    "\n",
    "def fit(newX,X,y,maxloop): \n",
    "    fitV = sigmoid(np.dot(newX,network(X,y,maxloop)))[:,0]\n",
    "    return ReLU(fitV,0.5),fitV"
   ]
  },
  {
   "cell_type": "code",
   "execution_count": 8,
   "metadata": {},
   "outputs": [
    {
     "output_type": "execute_result",
     "data": {
      "text/plain": "(0.9897718454498384, array([0.98977185]))"
     },
     "metadata": {},
     "execution_count": 8
    }
   ],
   "source": [
    "fit([[1,1,0]],X,y,10000)"
   ]
  },
  {
   "cell_type": "code",
   "execution_count": 9,
   "metadata": {},
   "outputs": [
    {
     "output_type": "execute_result",
     "data": {
      "text/plain": "matrix([[162, 161, 161, ..., 170, 154, 129],\n        [161, 161, 161, ..., 173, 155, 125],\n        [161, 161, 162, ..., 170, 155, 128],\n        ...,\n        [ 43,  42,  51, ..., 103, 101,  98],\n        [ 40,  41,  55, ..., 102, 104, 106],\n        [ 41,  43,  57, ..., 101, 106, 109]])"
     },
     "metadata": {},
     "execution_count": 9
    }
   ],
   "source": [
    "from PIL import Image\n",
    "import numpy as np\n",
    "# import scipy\n",
    "\n",
    "def loadImage():\n",
    "    # 读取图片\n",
    "    im = Image.open(\"测试图片.jpg\")\n",
    "    # 显示图片\n",
    "    #im.show() \n",
    "    im = im.convert(\"L\") \n",
    "    data = im.getdata()\n",
    "    data = np.matrix(data)\n",
    "    # 变换成512*512\n",
    "    data = np.reshape(data,(512,512))\n",
    "    #new_im = Image.fromarray(data)\n",
    "    #new_im.show()\n",
    "    return data\n",
    "\n",
    "loadImage()"
   ]
  },
  {
   "cell_type": "code",
   "execution_count": null,
   "metadata": {},
   "outputs": [],
   "source": []
  }
 ],
 "metadata": {
  "language_info": {
   "codemirror_mode": {
    "name": "ipython",
    "version": 3
   },
   "file_extension": ".py",
   "mimetype": "text/x-python",
   "name": "python",
   "nbconvert_exporter": "python",
   "pygments_lexer": "ipython3",
   "version": "3.7.3-final"
  },
  "orig_nbformat": 2,
  "kernelspec": {
   "name": "pycharm-66c53067",
   "display_name": "PyCharm (InferenceSystem)"
  }
 },
 "nbformat": 4,
 "nbformat_minor": 2
}