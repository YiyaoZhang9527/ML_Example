{
 "cells": [
  {
   "cell_type": "code",
   "execution_count": 1,
   "metadata": {},
   "outputs": [],
   "source": [
    "dataset_path_of_country = \"\".format(os.path.expanduser('~'),os.sep,\"GeoLite2-Country_20200901/GeoLite2-Country.mmdb\")\n",
    "dataset_path_of_city = \"\".format(os.path.expanduser('~'),os.sep,\"GeoLite2-City_20200901/GeoLite2-City.mmdb\")\n",
    "dataset_path_of_ANS = os.path.join(os.path.expanduser('~'),os.sep,\"GeoLite2-ASN_20200901/GeoLite2-ASN.mmdb\")"
   ]
  },
  {
   "cell_type": "code",
   "execution_count": 2,
   "metadata": {},
   "outputs": [],
   "source": [
    "import os\n",
    "import pandas as pd\n",
    "import numpy as np\n",
    "import matplotlib.pyplot as plt\n",
    "import geoip2.database\n",
    "import subprocess\n",
    "\n",
    "def path_of_databases(dir_name,file_name):\n",
    "    return \"{0}{1}{2}{1}{3}\".format(os.path.expanduser('~'),os.sep,dir_name,file_name)\n",
    "\n",
    "dataset_path_of_country = path_of_databases(\"GeoLite2-Country_20200901\",\"GeoLite2-Country.mmdb\")\n",
    "dataset_path_of_city = path_of_databases(\"GeoLite2-City_20200901\",\"GeoLite2-City.mmdb\")\n",
    "dataset_path_of_ANS = path_of_databases(\"GeoLite2-ASN_20200901\",\"GeoLite2-ASN.mmdb\")"
   ]
  },
  {
   "cell_type": "code",
   "execution_count": 3,
   "metadata": {},
   "outputs": [
    {
     "data": {
      "text/plain": [
       "{'ip地址': '216.58.200.238',\n",
       " '国家': 'United States',\n",
       " '省份': 'California',\n",
       " '城市': 'Mountain View',\n",
       " '纬度': 37.4043,\n",
       " '经度': -122.0748}"
      ]
     },
     "execution_count": 3,
     "metadata": {},
     "output_type": "execute_result"
    }
   ],
   "source": [
    "def getLoc(ip,dataset_path_of_city = path_of_databases(\"GeoLite2-City_20200901\",\"GeoLite2-City.mmdb\")):\n",
    "    reader = geoip2.database.Reader(dataset_path_of_city)\n",
    "    data = reader.city(ip)\n",
    "    dict_ = {\"ip地址\":ip,\"国家\":data.country.names['en'],\"省份\":data.subdivisions.most_specific.names['en'],\"城市\":data.city.names['en'],\"纬度\":data.location.latitude,\"经度\":data.location.longitude}\n",
    "    return dict_\n",
    "getLoc(\"216.58.200.238\")"
   ]
  },
  {
   "cell_type": "code",
   "execution_count": 4,
   "metadata": {
    "tags": []
   },
   "outputs": [
    {
     "name": "stdout",
     "output_type": "stream",
     "text": [
      "0\n"
     ]
    },
    {
     "data": {
      "text/plain": [
       "['Proto',\n",
       " 'Recv-Q',\n",
       " 'Send-Q',\n",
       " 'Local',\n",
       " 'Address',\n",
       " 'Foreign',\n",
       " 'Address',\n",
       " 'State']"
      ]
     },
     "execution_count": 4,
     "metadata": {},
     "output_type": "execute_result"
    }
   ],
   "source": [
    "def getNetWork():\n",
    "    (status, output) = subprocess.getstatusoutput('netstat -atn')\n",
    "    print(status)\n",
    "    return_cmd = [line.split() for line in output.splitlines()]\n",
    "    data = return_cmd[1:]\n",
    "    #columns=[\"Proto\",\"Recv-Q\",\"Send-Q\",\"Local\",\"Address_IP\",\"Foreign\",\"Address_Program\",\"State\",\"PID/Program\",\"name\"]\n",
    "    columns = return_cmd[0]\n",
    "    df = pd.DataFrame(data)\n",
    "    return return_cmd[1]\n",
    "\n",
    "getNetWork()"
   ]
  },
  {
   "cell_type": "code",
   "execution_count": null,
   "metadata": {},
   "outputs": [],
   "source": []
  },
  {
   "cell_type": "code",
   "execution_count": null,
   "metadata": {},
   "outputs": [],
   "source": []
  }
 ],
 "metadata": {
  "interpreter": {
   "hash": "f92af84ae46cea74e28eaf57a7e3393d0474bbfb1e03a13b8bc5b2962deabfa0"
  },
  "kernelspec": {
   "display_name": "Python 3.8.5 64-bit ('base': conda)",
   "name": "python3"
  },
  "language_info": {
   "codemirror_mode": {
    "name": "ipython",
    "version": 3
   },
   "file_extension": ".py",
   "mimetype": "text/x-python",
   "name": "python",
   "nbconvert_exporter": "python",
   "pygments_lexer": "ipython3",
   "version": "3.8.5"
  }
 },
 "nbformat": 4,
 "nbformat_minor": 4
}
