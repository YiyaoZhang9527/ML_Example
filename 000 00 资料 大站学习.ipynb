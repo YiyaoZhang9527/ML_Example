{
 "cells": [
  {
   "cell_type": "markdown",
   "metadata": {},
   "source": [
    "# 源码\n",
    "# 神级算法仓库 TheAlgorithms\n",
    "https://github.com/TheAlgorithms\n",
    "# kaggle \n",
    "https://www.kaggle.com/\n",
    "### SOTA\n",
    "https://www.jiqizhixin.com/sota\n",
    "### 《统计学习方法》的python代码实现及课件\n",
    "https://zhuanlan.zhihu.com/p/50552396\n",
    "### KNN 统计学习方法3：KNN分类，KD树最近邻搜索Python实现\n",
    "https://zhuanlan.zhihu.com/p/59440097\n",
    "\n"
   ]
  },
  {
   "cell_type": "markdown",
   "metadata": {},
   "source": [
    "# Python 资源大全中文版\n",
    "\n",
    "http://jobbole.github.io/awesome-python-cn/"
   ]
  }
 ],
 "metadata": {
  "kernelspec": {
   "display_name": "Python 3",
   "language": "python",
   "name": "python3"
  },
  "language_info": {
   "codemirror_mode": {
    "name": "ipython",
    "version": 3
   },
   "file_extension": ".py",
   "mimetype": "text/x-python",
   "name": "python",
   "nbconvert_exporter": "python",
   "pygments_lexer": "ipython3",
   "version": "3.8.5"
  }
 },
 "nbformat": 4,
 "nbformat_minor": 4
}
