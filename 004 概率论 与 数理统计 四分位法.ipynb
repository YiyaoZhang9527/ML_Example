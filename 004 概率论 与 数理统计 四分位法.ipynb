{
 "metadata": {
  "language_info": {
   "codemirror_mode": {
    "name": "ipython",
    "version": 3
   },
   "file_extension": ".py",
   "mimetype": "text/x-python",
   "name": "python",
   "nbconvert_exporter": "python",
   "pygments_lexer": "ipython3",
   "version": "3.7.6-final"
  },
  "orig_nbformat": 2,
  "kernelspec": {
   "name": "pycharm-66c53067",
   "display_name": "PyCharm (InferenceSystem)"
  }
 },
 "nbformat": 4,
 "nbformat_minor": 2,
 "cells": [
  {
   "cell_type": "code",
   "execution_count": 2,
   "metadata": {},
   "outputs": [
    {
     "output_type": "execute_result",
     "data": {
      "text/plain": "array([ 45,  53, 100,  78,  28,  37,  64,  12,   2,  80,  47,  44,  73,\n        27,  41,  84,  86,   2,   5,  85,   1,  68,  66,   3,  97,  57,\n        76,  16,  68,  19,  19,  97,  86,  27, 100,  78,  50,  97,  88,\n        35,  23,  31,  54,  72,  38,  51,  30,  27,  40,  40,  24,  68,\n        64,  41,   5,  16,  50,  89,  32,  45,  95,  68,  78,  99,  74,\n        88,  19,  41,  42,  57,  23,  26,  37,  73,  59,  73,  42,  55,\n        96,  38,  76,   4,  17,  43,  67,  76,  12,  46,  70,   9,  71,\n        90,  39,  25,  61,   6,  19,  74,  25,  80])"
     },
     "metadata": {},
     "execution_count": 2
    }
   ],
   "source": [
    "import numpy as np\n",
    "example = np.random.random_integers(0,100,100)\n",
    "example"
   ]
  },
  {
   "cell_type": "markdown",
   "metadata": {},
   "source": [
    "# 下四分位数"
   ]
  },
  {
   "cell_type": "code",
   "execution_count": 3,
   "metadata": {},
   "outputs": [
    {
     "output_type": "execute_result",
     "data": {
      "text/plain": "27"
     },
     "metadata": {},
     "execution_count": 3
    }
   ],
   "source": [
    "lower_quartile = np.quantile(example,0.25,interpolation='lower')\n",
    "lower_quartile"
   ]
  },
  {
   "cell_type": "markdown",
   "metadata": {},
   "source": [
    "# 上四分位数"
   ]
  },
  {
   "cell_type": "code",
   "execution_count": 4,
   "metadata": {},
   "outputs": [
    {
     "output_type": "execute_result",
     "data": {
      "text/plain": "74"
     },
     "metadata": {},
     "execution_count": 4
    }
   ],
   "source": [
    "upper_quartile = np.quantile(example,0.75,interpolation='higher')\n",
    "upper_quartile"
   ]
  },
  {
   "cell_type": "markdown",
   "metadata": {},
   "source": [
    "# 四分位区间"
   ]
  },
  {
   "cell_type": "code",
   "execution_count": 5,
   "metadata": {},
   "outputs": [
    {
     "output_type": "execute_result",
     "data": {
      "text/plain": "47"
     },
     "metadata": {},
     "execution_count": 5
    }
   ],
   "source": [
    "interquartile_range = upper_quartile-lower_quartile\n",
    "interquartile_range"
   ]
  },
  {
   "cell_type": "markdown",
   "metadata": {},
   "source": [
    "# 数据分位"
   ]
  },
  {
   "cell_type": "code",
   "execution_count": 20,
   "metadata": {
    "tags": []
   },
   "outputs": [
    {
     "output_type": "execute_result",
     "data": {
      "text/plain": "{'InterquartileRange': {'0-0.25': array([ 1,  2,  2,  3,  4,  5,  5,  6,  9, 12, 12, 16, 16, 17, 19, 19, 19,\n         19, 23, 23, 24, 25, 25, 26, 27, 27, 27]),\n  '0.25-0.50': array([27, 27, 27, 28, 30, 31, 32, 35, 37, 37, 38, 38, 39, 40, 40, 41, 41,\n         41, 42, 42, 43, 44, 45, 45, 46, 47]),\n  '0.5-0.75': array([50, 50, 51, 53, 54, 55, 57, 57, 59, 61, 64, 64, 66, 67, 68, 68, 68,\n         68, 70, 71, 72, 73, 73, 73, 74, 74]),\n  '0.75-1': array([ 74,  74,  76,  76,  76,  78,  78,  78,  80,  80,  84,  85,  86,\n          86,  88,  88,  89,  90,  95,  96,  97,  97,  97,  99, 100, 100])},\n 'Quartile': array([ 27. ,  48.5,  74. , 100. ])}"
     },
     "metadata": {},
     "execution_count": 20
    }
   ],
   "source": [
    "def quartile(data):\n",
    "    quartile = np.percentile(example, [0,25,50,75,100])\n",
    "    sorted_data = np.sort(data)\n",
    "    result = {'0-0.25':[],'0.25-0.50':[],'0.5-0.75':[],'0.75-1':[]}\n",
    "    for i,q in zip(range(quartile.size-1),result):\n",
    "        start , end = sorted_data[sorted_data>=quartile[i]],sorted_data[sorted_data<=quartile[i+1]]\n",
    "        result.update({q:start[start<=end[-1]]})\n",
    "    return {\"InterquartileRange\":result,\"Quartile\":quartile[1:]}\n",
    "\n",
    "quartile(example)"
   ]
  },
  {
   "cell_type": "markdown",
   "metadata": {},
   "source": [
    "# 分位数"
   ]
  },
  {
   "cell_type": "code",
   "execution_count": 26,
   "metadata": {},
   "outputs": [
    {
     "output_type": "execute_result",
     "data": {
      "text/plain": "27.0"
     },
     "metadata": {},
     "execution_count": 26
    }
   ],
   "source": [
    "np.quantile(example,0.25)"
   ]
  },
  {
   "cell_type": "code",
   "execution_count": null,
   "metadata": {},
   "outputs": [],
   "source": []
  }
 ]
}