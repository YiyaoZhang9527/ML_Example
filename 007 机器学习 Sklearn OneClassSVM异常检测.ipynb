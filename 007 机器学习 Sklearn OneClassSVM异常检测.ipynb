{
 "cells": [
  {
   "cell_type": "code",
   "execution_count": 1,
   "metadata": {},
   "outputs": [],
   "source": [
    "from sklearn import svm"
   ]
  },
  {
   "cell_type": "code",
   "execution_count": null,
   "metadata": {},
   "outputs": [],
   "source": [
    "import cv2 as cv\n",
    "import numpy as np\n",
    "import matplotlib.pyplot as plt\n",
    "\n",
    "\n",
    "def gamma_show(gamma):\n",
    "    path = \"/Users/manmanzhang/Downloads/imag1.png\"\n",
    "    img = cv.imread(path, 0)\n",
    "    fi = img / 255.0\n",
    "    out = np.power(fi, gamma)\n",
    "    cv.imshow(\"img1\", img)\n",
    "    cv.imshow(\"out\", np.log(out))\n",
    "    return out\n",
    "img = gamma_show(1.2)"
   ]
  },
  {
   "cell_type": "code",
   "execution_count": null,
   "metadata": {},
   "outputs": [],
   "source": [
    "from sklearn import svm"
   ]
  },
  {
   "cell_type": "code",
   "execution_count": null,
   "metadata": {},
   "outputs": [],
   "source": [
    "xonedim = np.ravel(img)\n",
    "x = np.c_[xonedim,xonedim]\n",
    "model_onecalsssvm = svm.OneClassSVM(nu=0.1, kernel=\"rbf\", random_state=0) \n",
    "model_onecalsssvm.fit(xdata) \n",
    "pre_test_outliers = model_onecalsssvm.predict(xdata) \n",
    "toal_test_data = np.hstack((x[:,:2], pre_test_outliers.reshape(x[:,:2].shape[0], 1)))\n",
    "outlier_test_data = toal_test_data[toal_test_data[:, -1] == -1]"
   ]
  },
  {
   "cell_type": "code",
   "execution_count": null,
   "metadata": {},
   "outputs": [],
   "source": [
    "outlier_test_data[:,0].mean(),outlier_test_data[:,0].shape"
   ]
  }
 ],
 "metadata": {
  "language_info": {
   "codemirror_mode": {
    "name": "ipython",
    "version": 3
   },
   "file_extension": ".py",
   "mimetype": "text/x-python",
   "name": "python",
   "nbconvert_exporter": "python",
   "pygments_lexer": "ipython3",
   "version": "3.7.3-final"
  },
  "orig_nbformat": 2,
  "kernelspec": {
   "name": "pycharm-e0540ed6",
   "display_name": "PyCharm (InferenceSystem)"
  }
 },
 "nbformat": 4,
 "nbformat_minor": 2
}