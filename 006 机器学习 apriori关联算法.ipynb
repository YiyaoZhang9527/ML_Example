{
 "metadata": {
  "language_info": {
   "codemirror_mode": {
    "name": "ipython",
    "version": 3
   },
   "file_extension": ".py",
   "mimetype": "text/x-python",
   "name": "python",
   "nbconvert_exporter": "python",
   "pygments_lexer": "ipython3",
   "version": "3.7.6-final"
  },
  "orig_nbformat": 2,
  "kernelspec": {
   "name": "python_defaultSpec_1599410400656",
   "display_name": "Python 3.7.6 64-bit ('anaconda3': virtualenv)"
  }
 },
 "nbformat": 4,
 "nbformat_minor": 2,
 "cells": [
  {
   "cell_type": "code",
   "execution_count": 7,
   "metadata": {},
   "outputs": [],
   "source": [
    "import numpy as np"
   ]
  },
  {
   "cell_type": "code",
   "execution_count": 8,
   "metadata": {},
   "outputs": [],
   "source": [
    "dataset = [['牛奶','洋葱','肉豆蔻','芸豆','鸡蛋','酸奶'],\n",
    "        ['莳萝','洋葱','肉豆蔻','芸豆','鸡蛋','酸奶'],\n",
    "        ['牛奶','苹果','芸豆','鸡蛋'],\n",
    "        ['牛奶','独角兽','玉米','芸豆','酸奶'],\n",
    "        ['玉米','洋葱','洋葱','芸豆','冰淇淋','鸡蛋']]"
   ]
  },
  {
   "cell_type": "code",
   "execution_count": 9,
   "metadata": {},
   "outputs": [
    {
     "output_type": "execute_result",
     "data": {
      "text/plain": "(array([1., 4., 3., 1., 2., 2., 5., 1., 1., 3., 4.]),\n {'冰淇淋': array([[False, False, False, False, False, False],\n         [False, False, False, False, False, False],\n         [False, False, False, False, False, False],\n         [False, False, False, False, False, False],\n         [False, False, False, False,  True, False]]),\n  '洋葱': array([[False,  True, False, False, False, False],\n         [False,  True, False, False, False, False],\n         [False, False, False, False, False, False],\n         [False, False, False, False, False, False],\n         [False,  True,  True, False, False, False]]),\n  '牛奶': array([[ True, False, False, False, False, False],\n         [False, False, False, False, False, False],\n         [ True, False, False, False, False, False],\n         [ True, False, False, False, False, False],\n         [False, False, False, False, False, False]]),\n  '独角兽': array([[False, False, False, False, False, False],\n         [False, False, False, False, False, False],\n         [False, False, False, False, False, False],\n         [False,  True, False, False, False, False],\n         [False, False, False, False, False, False]]),\n  '玉米': array([[False, False, False, False, False, False],\n         [False, False, False, False, False, False],\n         [False, False, False, False, False, False],\n         [False, False,  True, False, False, False],\n         [ True, False, False, False, False, False]]),\n  '肉豆蔻': array([[False, False,  True, False, False, False],\n         [False, False,  True, False, False, False],\n         [False, False, False, False, False, False],\n         [False, False, False, False, False, False],\n         [False, False, False, False, False, False]]),\n  '芸豆': array([[False, False, False,  True, False, False],\n         [False, False, False,  True, False, False],\n         [False, False,  True, False, False, False],\n         [False, False, False,  True, False, False],\n         [False, False, False,  True, False, False]]),\n  '苹果': array([[False, False, False, False, False, False],\n         [False, False, False, False, False, False],\n         [False,  True, False, False, False, False],\n         [False, False, False, False, False, False],\n         [False, False, False, False, False, False]]),\n  '莳萝': array([[False, False, False, False, False, False],\n         [ True, False, False, False, False, False],\n         [False, False, False, False, False, False],\n         [False, False, False, False, False, False],\n         [False, False, False, False, False, False]]),\n  '酸奶': array([[False, False, False, False, False,  True],\n         [False, False, False, False, False,  True],\n         [False, False, False, False, False, False],\n         [False, False, False, False,  True, False],\n         [False, False, False, False, False, False]]),\n  '鸡蛋': array([[False, False, False, False,  True, False],\n         [False, False, False, False,  True, False],\n         [False, False, False,  True, False, False],\n         [False, False, False, False, False, False],\n         [False, False, False, False, False,  True]])})"
     },
     "metadata": {},
     "execution_count": 9
    }
   ],
   "source": [
    "def one_hot_func(dataset):\n",
    "    lenghts = np.array([len(row) for row in dataset])\n",
    "    max_lenght = lenghts.max()\n",
    "    m = len(lenghts)\n",
    "    zero_mat= np.zeros((max_lenght,m))\n",
    "    init_mat = np.array([dataset[i]+[0]*(max_lenght-lenghts[i]) for i in range(m)])\n",
    "    distinct = np.unique(init_mat)\n",
    "    del_0_in_distinct = distinct[distinct != '0']\n",
    "    one_hot_dict , counts = dict(),np.zeros(del_0_in_distinct.size)\n",
    "    n = -1\n",
    "    for element in del_0_in_distinct :\n",
    "        n += 1\n",
    "        bool_mat = init_mat==element\n",
    "        one_hot_dict.update({element:bool_mat})\n",
    "        counts[n] = bool_mat.sum()\n",
    "    return counts,one_hot_dict\n",
    "    \n",
    "one_hot_func(dataset)"
   ]
  },
  {
   "cell_type": "code",
   "execution_count": 10,
   "metadata": {},
   "outputs": [
    {
     "output_type": "execute_result",
     "data": {
      "text/plain": "1.0"
     },
     "metadata": {},
     "execution_count": 10
    }
   ],
   "source": [
    "np.percentile(np.ones(10),0.5)"
   ]
  },
  {
   "cell_type": "code",
   "execution_count": 11,
   "metadata": {},
   "outputs": [
    {
     "output_type": "execute_result",
     "data": {
      "text/plain": "False"
     },
     "metadata": {},
     "execution_count": 11
    }
   ],
   "source": [
    "def fathom(counts=None,one_hot_dict=None,per = 0.5,need_keys=None,need_bool_mat=None,need_counts=None):\n",
    "    try:\n",
    "        percentile = np.percentile(counts, per*100)\n",
    "        need_keys , need_bool_mat ,need_counts = [],[],[]\n",
    "        for (key,value),count in zip(one_hot_dict.items(),counts):\n",
    "            if count >= percentile:\n",
    "                need_keys.append(key)\n",
    "                need_bool_mat.append(value)\n",
    "                need_counts.append(count)   \n",
    "        return need_keys,need_bool_mat,need_counts\n",
    "    except Exception as error:\n",
    "        return False\n",
    "fathom(dataset)"
   ]
  },
  {
   "cell_type": "code",
   "execution_count": 12,
   "metadata": {},
   "outputs": [
    {
     "output_type": "execute_result",
     "data": {
      "text/plain": "array([[False, False,  True, False, False, False],\n       [False, False,  True, False, False, False],\n       [False, False, False, False, False, False],\n       [False, False,  True, False, False, False],\n       [ True, False, False, False, False, False]])"
     },
     "metadata": {},
     "execution_count": 12
    }
   ],
   "source": [
    "a,b = np.array([[False, False, False, False, False, False],\n",
    "          [False, False, False, False, False, False],\n",
    "          [False, False, False, False, False, False],\n",
    "          [False, False,  True, False, False, False],\n",
    "          [ True, False, False, False, False, False]]),np.array([[False, False,  True, False, False, False],\n",
    "          [False, False,  True, False, False, False],\n",
    "          [False, False, False, False, False, False],\n",
    "          [False, False, False, False, False, False],\n",
    "          [False, False, False, False, False, False]])\n",
    "a+b"
   ]
  },
  {
   "cell_type": "code",
   "execution_count": 13,
   "metadata": {
    "tags": []
   },
   "outputs": [
    {
     "output_type": "stream",
     "name": "stdout",
     "text": "['冰淇淋']\n['冰淇淋', '洋葱']\n['洋葱']\n['冰淇淋', '洋葱', '牛奶']\n['洋葱', '牛奶']\n['牛奶']\n['冰淇淋', '洋葱', '牛奶', '独角兽']\n['洋葱', '牛奶', '独角兽']\n['牛奶', '独角兽']\n['独角兽']\n['冰淇淋', '洋葱', '牛奶', '独角兽', '玉米']\n['洋葱', '牛奶', '独角兽', '玉米']\n['牛奶', '独角兽', '玉米']\n['独角兽', '玉米']\n['玉米']\n['冰淇淋', '洋葱', '牛奶', '独角兽', '玉米', '肉豆蔻']\n['洋葱', '牛奶', '独角兽', '玉米', '肉豆蔻']\n['牛奶', '独角兽', '玉米', '肉豆蔻']\n['独角兽', '玉米', '肉豆蔻']\n['玉米', '肉豆蔻']\n['肉豆蔻']\n['冰淇淋', '洋葱', '牛奶', '独角兽', '玉米', '肉豆蔻', '芸豆']\n['洋葱', '牛奶', '独角兽', '玉米', '肉豆蔻', '芸豆']\n['牛奶', '独角兽', '玉米', '肉豆蔻', '芸豆']\n['独角兽', '玉米', '肉豆蔻', '芸豆']\n['玉米', '肉豆蔻', '芸豆']\n['肉豆蔻', '芸豆']\n['芸豆']\n['冰淇淋', '洋葱', '牛奶', '独角兽', '玉米', '肉豆蔻', '芸豆', '苹果']\n['洋葱', '牛奶', '独角兽', '玉米', '肉豆蔻', '芸豆', '苹果']\n['牛奶', '独角兽', '玉米', '肉豆蔻', '芸豆', '苹果']\n['独角兽', '玉米', '肉豆蔻', '芸豆', '苹果']\n['玉米', '肉豆蔻', '芸豆', '苹果']\n['肉豆蔻', '芸豆', '苹果']\n['芸豆', '苹果']\n['苹果']\n['冰淇淋', '洋葱', '牛奶', '独角兽', '玉米', '肉豆蔻', '芸豆', '苹果', '莳萝']\n['洋葱', '牛奶', '独角兽', '玉米', '肉豆蔻', '芸豆', '苹果', '莳萝']\n['牛奶', '独角兽', '玉米', '肉豆蔻', '芸豆', '苹果', '莳萝']\n['独角兽', '玉米', '肉豆蔻', '芸豆', '苹果', '莳萝']\n['玉米', '肉豆蔻', '芸豆', '苹果', '莳萝']\n['肉豆蔻', '芸豆', '苹果', '莳萝']\n['芸豆', '苹果', '莳萝']\n['苹果', '莳萝']\n['莳萝']\n['冰淇淋', '洋葱', '牛奶', '独角兽', '玉米', '肉豆蔻', '芸豆', '苹果', '莳萝', '酸奶']\n['洋葱', '牛奶', '独角兽', '玉米', '肉豆蔻', '芸豆', '苹果', '莳萝', '酸奶']\n['牛奶', '独角兽', '玉米', '肉豆蔻', '芸豆', '苹果', '莳萝', '酸奶']\n['独角兽', '玉米', '肉豆蔻', '芸豆', '苹果', '莳萝', '酸奶']\n['玉米', '肉豆蔻', '芸豆', '苹果', '莳萝', '酸奶']\n['肉豆蔻', '芸豆', '苹果', '莳萝', '酸奶']\n['芸豆', '苹果', '莳萝', '酸奶']\n['苹果', '莳萝', '酸奶']\n['莳萝', '酸奶']\n['酸奶']\n"
    },
    {
     "output_type": "execute_result",
     "data": {
      "text/plain": "(9, [5.0, 4.0, 4.0, 3.0, 3.0, 2.0, 2.0, 1.0, 1.0, 1.0, 1.0])"
     },
     "metadata": {},
     "execution_count": 13
    }
   ],
   "source": [
    "def Apriori(dataset,per = 0.5,need_keys=None,need_bool_mat=None,need_counts=None):\n",
    "    counts,one_hot_dict = one_hot_func(dataset)\n",
    "    names = list(one_hot_dict)\n",
    "    percentile = np.percentile(counts, per*100)\n",
    "    sorted_counts = sorted(counts)[::-1]\n",
    "    for end in range(len(sorted_counts)):\n",
    "        for start in range(end):\n",
    "            print(names[start:end])\n",
    "        #need_keys,need_bool_mat,need_counts = fathom(counts,one_hot_dict,per)\n",
    "    return start,sorted_counts\n",
    "Apriori(dataset,per=0.5)"
   ]
  },
  {
   "cell_type": "markdown",
   "metadata": {},
   "source": [
    "# 包引用方法"
   ]
  },
  {
   "cell_type": "code",
   "execution_count": 17,
   "metadata": {},
   "outputs": [],
   "source": [
    "import pandas as pd\n",
    "#显示所有列\n",
    "pd.set_option('display.max_columns', None)\n",
    "#显示所有行\n",
    "pd.set_option('display.max_rows', None)\n",
    "#设置value的显示长度为100，默认为50\n",
    "pd.set_option('max_colwidth',100)\n",
    "from mlxtend.preprocessing import TransactionEncoder\n",
    "from mlxtend.frequent_patterns import apriori\n",
    "\n",
    "#设置数据集\n",
    "records = [['牛奶','洋葱','肉豆蔻','芸豆','鸡蛋','酸奶'],\n",
    "        ['莳萝','洋葱','肉豆蔻','芸豆','鸡蛋','酸奶'],\n",
    "        ['牛奶','苹果','芸豆','鸡蛋'],\n",
    "        ['牛奶','独角兽','玉米','芸豆','酸奶'],\n",
    "        ['玉米','洋葱','洋葱','芸豆','冰淇淋','鸡蛋']]\n",
    "\t\t\n",
    "te = TransactionEncoder()\n",
    "#进行 one-hot 编码\n",
    "te_ary = te.fit(records).transform(records)\n",
    "df = pd.DataFrame(te_ary, columns=te.columns_)\n",
    "#利用 Apriori 找出频繁项集\n",
    "freq = apriori(df, min_support=0.6, use_colnames=True)\n"
   ]
  },
  {
   "cell_type": "code",
   "execution_count": 18,
   "metadata": {},
   "outputs": [
    {
     "output_type": "execute_result",
     "data": {
      "text/plain": "array([[False,  True,  True, False, False,  True,  True, False, False,\n         True,  True],\n       [False,  True, False, False, False,  True,  True, False,  True,\n         True,  True],\n       [False, False,  True, False, False, False,  True,  True, False,\n        False,  True],\n       [False, False,  True,  True,  True, False,  True, False, False,\n         True, False],\n       [ True,  True, False, False,  True, False,  True, False, False,\n        False,  True]])"
     },
     "metadata": {},
     "execution_count": 18
    }
   ],
   "source": [
    "te_ary"
   ]
  },
  {
   "cell_type": "code",
   "execution_count": 19,
   "metadata": {},
   "outputs": [
    {
     "output_type": "execute_result",
     "data": {
      "text/plain": "    support      itemsets\n2       1.0          (芸豆)\n4       0.8          (鸡蛋)\n9       0.8      (鸡蛋, 芸豆)\n0       0.6          (洋葱)\n1       0.6          (牛奶)\n3       0.6          (酸奶)\n5       0.6      (芸豆, 洋葱)\n6       0.6      (鸡蛋, 洋葱)\n7       0.6      (牛奶, 芸豆)\n8       0.6      (芸豆, 酸奶)\n10      0.6  (鸡蛋, 洋葱, 芸豆)",
      "text/html": "<div>\n<style scoped>\n    .dataframe tbody tr th:only-of-type {\n        vertical-align: middle;\n    }\n\n    .dataframe tbody tr th {\n        vertical-align: top;\n    }\n\n    .dataframe thead th {\n        text-align: right;\n    }\n</style>\n<table border=\"1\" class=\"dataframe\">\n  <thead>\n    <tr style=\"text-align: right;\">\n      <th></th>\n      <th>support</th>\n      <th>itemsets</th>\n    </tr>\n  </thead>\n  <tbody>\n    <tr>\n      <th>2</th>\n      <td>1.0</td>\n      <td>(芸豆)</td>\n    </tr>\n    <tr>\n      <th>4</th>\n      <td>0.8</td>\n      <td>(鸡蛋)</td>\n    </tr>\n    <tr>\n      <th>9</th>\n      <td>0.8</td>\n      <td>(鸡蛋, 芸豆)</td>\n    </tr>\n    <tr>\n      <th>0</th>\n      <td>0.6</td>\n      <td>(洋葱)</td>\n    </tr>\n    <tr>\n      <th>1</th>\n      <td>0.6</td>\n      <td>(牛奶)</td>\n    </tr>\n    <tr>\n      <th>3</th>\n      <td>0.6</td>\n      <td>(酸奶)</td>\n    </tr>\n    <tr>\n      <th>5</th>\n      <td>0.6</td>\n      <td>(芸豆, 洋葱)</td>\n    </tr>\n    <tr>\n      <th>6</th>\n      <td>0.6</td>\n      <td>(鸡蛋, 洋葱)</td>\n    </tr>\n    <tr>\n      <th>7</th>\n      <td>0.6</td>\n      <td>(牛奶, 芸豆)</td>\n    </tr>\n    <tr>\n      <th>8</th>\n      <td>0.6</td>\n      <td>(芸豆, 酸奶)</td>\n    </tr>\n    <tr>\n      <th>10</th>\n      <td>0.6</td>\n      <td>(鸡蛋, 洋葱, 芸豆)</td>\n    </tr>\n  </tbody>\n</table>\n</div>"
     },
     "metadata": {},
     "execution_count": 19
    }
   ],
   "source": [
    "freq.sort_values(by=\"support\" , ascending=False)"
   ]
  },
  {
   "cell_type": "code",
   "execution_count": null,
   "metadata": {},
   "outputs": [],
   "source": []
  }
 ]
}