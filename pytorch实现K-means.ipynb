{
 "cells": [
  {
   "cell_type": "code",
   "execution_count": 202,
   "metadata": {},
   "outputs": [],
   "source": [
    "import torch\n",
    "import matplotlib.pyplot as plt\n",
    "import seaborn as sns\n",
    "import random\n",
    "import os\n",
    "sns.set()"
   ]
  },
  {
   "cell_type": "code",
   "execution_count": 299,
   "metadata": {},
   "outputs": [
    {
     "output_type": "execute_result",
     "data": {
      "text/plain": "'posix'"
     },
     "metadata": {},
     "execution_count": 299
    }
   ],
   "source": [
    "os.name"
   ]
  },
  {
   "cell_type": "code",
   "execution_count": 32,
   "metadata": {},
   "outputs": [],
   "source": [
    "x = torch.Tensor(100).reshape(4,25).T"
   ]
  },
  {
   "cell_type": "code",
   "execution_count": 193,
   "metadata": {},
   "outputs": [
    {
     "output_type": "execute_result",
     "data": {
      "text/plain": "tensor(1.8258e+14)"
     },
     "metadata": {},
     "execution_count": 193
    }
   ],
   "source": [
    "def euclidean(x,y)-> torch.Tensor:\n",
    "    n = x.shape[0]\n",
    "    return torch.pow((x-y),2).dot(torch.ones_like(torch.Tensor(n)))\n",
    "euclidean(x[1],x[0])"
   ]
  },
  {
   "cell_type": "code",
   "execution_count": 189,
   "metadata": {},
   "outputs": [
    {
     "output_type": "execute_result",
     "data": {
      "text/plain": "tensor(2.0222e+15)"
     },
     "metadata": {},
     "execution_count": 189
    }
   ],
   "source": [
    "def SSE(x,error)-> torch.Tensor:\n",
    "    sum_of_row = torch.pow(error-x.mean(),2).mm(torch.ones_like(x[0])[:,None])\n",
    "    return sum_of_row.T.mm(torch.ones_like(sum_of_row))[0,0]\n",
    "SSE(x,x)"
   ]
  },
  {
   "cell_type": "code",
   "execution_count": 312,
   "metadata": {},
   "outputs": [
    {
     "output_type": "execute_result",
     "data": {
      "text/plain": "{2, 3, 9, 11, 14, 15, 16, 18, 20, 23, 24}"
     },
     "metadata": {},
     "execution_count": 312
    }
   ],
   "source": [
    "def creatkeypoint(x,k)-> torch.Tensor:\n",
    "    kset = {'k'}\n",
    "    klenght = 0\n",
    "    while klenght <= k:\n",
    "        kset.add(random.randint(0,x.shape[0]))\n",
    "        klenght = len(kset)\n",
    "        kset.discard('k')\n",
    "    return kset\n",
    "creatkeypoint(x,10)"
   ]
  },
  {
   "cell_type": "code",
   "execution_count": null,
   "metadata": {},
   "outputs": [],
   "source": []
  }
 ],
 "metadata": {
  "language_info": {
   "codemirror_mode": {
    "name": "ipython",
    "version": 3
   },
   "file_extension": ".py",
   "mimetype": "text/x-python",
   "name": "python",
   "nbconvert_exporter": "python",
   "pygments_lexer": "ipython3",
   "version": "3.5.6-final"
  },
  "orig_nbformat": 2,
  "kernelspec": {
   "name": "python35664bitdeeplearningconda49c51f4718784ba4ab06df616fe53864",
   "display_name": "Python 3.5.6 64-bit ('deeplearning': conda)"
  }
 },
 "nbformat": 4,
 "nbformat_minor": 2
}