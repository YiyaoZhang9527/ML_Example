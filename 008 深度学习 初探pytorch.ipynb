{
 "cells": [
  {
   "cell_type": "code",
   "execution_count": 1,
   "metadata": {},
   "outputs": [],
   "source": [
    "import torch\n",
    "import numpy as np\n",
    "import matplotlib.pyplot as plt"
   ]
  },
  {
   "cell_type": "markdown",
   "metadata": {},
   "source": [
    "https://www.jianshu.com/p/5460b7fa3ec4"
   ]
  },
  {
   "cell_type": "code",
   "execution_count": 2,
   "metadata": {},
   "outputs": [],
   "source": [
    "from torchvision.datasets import KMNIST"
   ]
  },
  {
   "cell_type": "markdown",
   "metadata": {},
   "source": [
    "### numpy转tensor张量"
   ]
  },
  {
   "cell_type": "code",
   "execution_count": 10,
   "metadata": {},
   "outputs": [
    {
     "output_type": "execute_result",
     "data": {
      "text/plain": "array([[ 0,  1,  2,  3,  4],\n       [ 5,  6,  7,  8,  9],\n       [10, 11, 12, 13, 14],\n       [15, 16, 17, 18, 19]])"
     },
     "metadata": {},
     "execution_count": 10
    }
   ],
   "source": [
    "x = np.arange(20).reshape(4,5)\n",
    "x"
   ]
  },
  {
   "cell_type": "code",
   "execution_count": 12,
   "metadata": {},
   "outputs": [
    {
     "output_type": "execute_result",
     "data": {
      "text/plain": "tensor([[ 0,  1,  2,  3,  4],\n        [ 5,  6,  7,  8,  9],\n        [10, 11, 12, 13, 14],\n        [15, 16, 17, 18, 19]])"
     },
     "metadata": {},
     "execution_count": 12
    }
   ],
   "source": [
    "sub_ts = torch.from_numpy(x)\n",
    "sub_ts"
   ]
  },
  {
   "cell_type": "markdown",
   "metadata": {},
   "source": [
    "### 张量转numpy"
   ]
  },
  {
   "cell_type": "code",
   "execution_count": 13,
   "metadata": {},
   "outputs": [
    {
     "output_type": "execute_result",
     "data": {
      "text/plain": "array([[ 0,  1,  2,  3,  4],\n       [ 5,  6,  7,  8,  9],\n       [10, 11, 12, 13, 14],\n       [15, 16, 17, 18, 19]])"
     },
     "metadata": {},
     "execution_count": 13
    }
   ],
   "source": [
    "sub_np1 = sub_ts.numpy()\n",
    "sub_np1"
   ]
  },
  {
   "cell_type": "code",
   "execution_count": 1,
   "metadata": {},
   "outputs": [
    {
     "output_type": "stream",
     "name": "stdout",
     "text": "第0次训练权值结果:[[0.9640945]]，结果偏差：4309.81689453125\n第1次训练权值结果:[[1.0637488]]，结果偏差：3584.33642578125\n第2次训练权值结果:[[1.1627736]]，结果偏差：2927.839111328125\n第3次训练权值结果:[[1.260838]]，结果偏差：2341.220458984375\n第4次训练权值结果:[[1.3575592]]，结果偏差：1824.864501953125\n第5次训练权值结果:[[1.4524978]]，结果偏差：1378.5235595703125\n第6次训练权值结果:[[1.545155]]，结果偏差：1001.1969604492188\n第7次训练权值结果:[[1.6349729]]，结果偏差：691.0033569335938\n第8次训练权值结果:[[1.7213384]]，结果偏差：445.0605773925781\n第9次训练权值结果:[[1.8035934]]，结果偏差：259.39306640625\n第10次训练权值结果:[[1.8810521]]，结果偏差：128.8842315673828\n第11次训练权值结果:[[1.9530253]]，结果偏差：47.30034637451172\n第12次训练权值结果:[[2.0188518]]，结果偏差：7.41132926940918\n第13次训练权值结果:[[2.0779338]]，结果偏差：1.2216793298721313\n第14次训练权值结果:[[2.1297743]]，结果偏差：20.312206268310547\n第15次训练权值结果:[[2.1740084]]，结果偏差：56.26748275756836\n第16次训练权值结果:[[2.210426]]，结果偏差：101.14115905761719\n第17次训练权值结果:[[2.2389846]]，结果偏差：147.89634704589844\n第18次训练权值结果:[[2.259806]]，结果偏差：190.76052856445312\n第19次训练权值结果:[[2.2731655]]，结果偏差：225.4475555419922\n第20次训练权值结果:[[2.2794712]]，结果偏差：249.23069763183594\n第21次训练权值结果:[[2.27924]]，结果偏差：260.8724670410156\n第22次训练权值结果:[[2.2730722]]，结果偏差：260.44378662109375\n第23次训练权值结果:[[2.2616298]]，结果偏差：249.0685577392578\n第24次训练权值结果:[[2.2456143]]，结果偏差：228.63470458984375\n第25次训练权值结果:[[2.2257516]]，结果偏差：201.5012664794922\n第26次训练权值结果:[[2.2027776]]，结果偏差：170.22901916503906\n第27次训练权值结果:[[2.1774263]]，结果偏差：137.34454345703125\n第28次训练权值结果:[[2.1504204]]，结果偏差：105.14899444580078\n第29次训练权值结果:[[2.122462]]，结果偏差：75.57498931884766\n第30次训练权值结果:[[2.0942235]]，结果偏差：50.09117126464844\n第31次训练权值结果:[[2.0663393]]，结果偏差：29.653060913085938\n第32次训练权值结果:[[2.0393965]]，结果偏差：14.699033737182617\n第33次训练权值结果:[[2.0139267]]，结果偏差：5.184369087219238\n第34次训练权值结果:[[1.9903969]]，结果偏差：0.6489644050598145\n第35次训练权值结果:[[1.9692019]]，结果偏差：0.3100261390209198\n第36次训练权值结果:[[1.9506589]]，结果偏差：3.170759677886963\n第37次训练权值结果:[[1.9350027]]，结果偏差：8.134413719177246\n第38次训练权值结果:[[1.9223839]]，结果偏差：14.113313674926758\n第39次训练权值结果:[[1.9128697]]，结果偏差：20.123584747314453\n第40次训练权值结果:[[1.9064462]]，结果偏差：25.358165740966797\n第41次训练权值结果:[[1.9030243]]，结果偏差：29.233932495117188\n第42次训练权值结果:[[1.9024462]]，结果偏差：31.410913467407227\n第43次训练权值结果:[[1.9044937]]，结果偏差：31.786170959472656\n第44次训练权值结果:[[1.9088985]]，结果偏差：30.46571922302246\n第45次训练权值结果:[[1.9153517]]，结果偏差：27.720428466796875\n第46次训练权值结果:[[1.9235147]]，结果偏差：23.932546615600586\n第47次训练权值结果:[[1.9330293]]，结果偏差：19.539621353149414\n第48次训练权值结果:[[1.9435287]]，结果偏差：14.980992317199707\n第49次训练权值结果:[[1.9546467]]，结果偏差：10.652244567871094\n第50次训练权值结果:[[1.9660277]]，结果偏差：6.871016502380371\n第51次训练权值结果:[[1.9773349]]，结果偏差：3.855487108230591\n第52次训练权值结果:[[1.9882581]]，结果偏差：1.7163090705871582\n第53次训练权值结果:[[1.9985206]]，结果偏差：0.4607849717140198\n第54次训练权值结果:[[2.0078845]]，结果偏差：0.0074239978566765785\n第55次训练权值结果:[[2.016155]]，结果偏差：0.20764920115470886\n第56次训练权值结果:[[2.0231829]]，结果偏差：0.8716941475868225\n第57次训练权值结果:[[2.028866]]，结果偏差：1.795133113861084\n第58次训练权值结果:[[2.0331495]]，结果偏差：2.7832093238830566\n第59次训练权值结果:[[2.0360234]]，结果偏差：3.6705305576324463\n第60次训练权值结果:[[2.037521]]，结果偏差：4.334560871124268\n第61次训练权值结果:[[2.0377138]]，结果偏差：4.702408790588379\n第62次训练权值结果:[[2.0367072]]，结果偏差：4.750834941864014\n第63次训练权值结果:[[2.034635]]，结果偏差：4.500555038452148\n第64次训练权值结果:[[2.0316536]]，结果偏差：4.006732940673828\n第65次训练权值结果:[[2.0279346]]，结果偏差：3.3465688228607178\n第66次训练权值结果:[[2.0236592]]，结果偏差：2.6063432693481445\n第67次训练权值结果:[[2.0190122]]，结果偏差：1.8696017265319824\n第68次训练权值结果:[[2.014175]]，结果偏差：1.2073166370391846\n第69次训练权值结果:[[2.009321]]，结果偏差：0.6711587309837341\n第70次训练权值结果:[[2.0046103]]，结果偏差：0.2902655303478241\n第71次训练权值结果:[[2.0001855]]，结果偏差：0.07109002023935318\n第72次训练权值结果:[[1.9961685]]，结果偏差：0.0002103809965774417\n第73次训练权值结果:[[1.992658]]，结果偏差：0.04910993576049805\n第74次训练权值结果:[[1.9897281]]，结果偏差：0.18009252846240997\n第75次训练权值结果:[[1.9874271]]，结果偏差：0.35243576765060425\n第76次训练权值结果:[[1.9857786]]，结果偏差：0.5279865264892578\n第77次训练权值结果:[[1.9847817]]，结果偏差：0.6755133271217346\n第78次训练权值结果:[[1.9844139]]，结果偏差：0.7735339999198914\n第79次训练权值结果:[[1.9846323]]，结果偏差：0.8113943338394165\n第80次训练权值结果:[[1.9853776]]，结果偏差：0.7888270616531372\n第81次训练权值结果:[[1.9865768]]，结果偏差：0.7141803503036499\n第82次训练权值结果:[[1.9881471]]，结果偏差：0.601844847202301\n第83次训练权值结果:[[1.9899995]]，结果偏差：0.4692677855491638\n第84次训练权值结果:[[1.9920422]]，结果偏差：0.33405211567878723\n第85次训练权值结果:[[1.9941843]]，结果偏差：0.2115226536989212\n第86次训练权值结果:[[1.9963387]]，结果偏差：0.11297184228897095\n第87次训练权值结果:[[1.9984255]]，结果偏差：0.04477261006832123\n第88次训练权值结果:[[2.0003736]]，结果偏差：0.008281296119093895\n第89次训练权值结果:[[2.002123]]，结果偏差：0.00047090963926166296\n第90次训练权值结果:[[2.0036263]]，结果偏差：0.015064462088048458\n第91次训练权值结果:[[2.004849]]，结果偏差：0.04393424466252327\n第92次训练权值结果:[[2.00577]]，结果偏差：0.07854388654232025\n第93次训练权值结果:[[2.0063815]]，结果偏差：0.11120773106813431\n第94次训练权值结果:[[2.0066879]]，结果偏差：0.1360243707895279\n第95次训练权值结果:[[2.0067048]]，结果偏差：0.1493944525718689\n第96次训练权值结果:[[2.0064578]]，结果偏差：0.15014919638633728\n第97次训练权值结果:[[2.0059803]]，结果偏差：0.13928917050361633\n第98次训练权值结果:[[2.0053117]]，结果偏差：0.1194506287574768\n第99次训练权值结果:[[2.0044956]]，结果偏差：0.09423856437206268\n"
    }
   ],
   "source": [
    "import torch\n",
    "\n",
    "x = torch.unsqueeze(torch.linspace(-100, 100, 1000), dim=1)\n",
    "# 生成-100到100的1000个数的等差数列\n",
    "y = 2*x + 1\n",
    "# 定义y=2x+1函数\n",
    "matrix = torch.nn.Linear(1, 1)\n",
    "# 定义一个1x1的矩阵\n",
    "optimizer = torch.optim.Adam(matrix.parameters(), lr=0.1)\n",
    "# 使用优化器求导更新矩阵权重\n",
    "\n",
    "for _ in range(100):\n",
    "    # 训练100次\n",
    "    value = matrix(x)\n",
    "    # value是x与矩阵相乘后的值\n",
    "    score = torch.mean((value - y) ** 2)\n",
    "    # 目标偏差，值为(value-y)的平方取均值，越接近0说明结果越准确\n",
    "    matrix.zero_grad()\n",
    "    score.backward()\n",
    "    optimizer.step()\n",
    "    # 根据求导结果更新权值\n",
    "    print(\"第{}次训练权值结果:{}，结果偏差：{}\".format(_, matrix.weight.data.numpy(), score))\n",
    "\n",
    "# 输出结果：\n",
    "# 第0次训练权值结果:[[0.9555]]，结果偏差：4377.27294921875\n",
    "# ...\n",
    "# 第99次训练权值结果:[[2.0048]]，结果偏差：0.10316929966211319"
   ]
  },
  {
   "cell_type": "code",
   "execution_count": 2,
   "metadata": {},
   "outputs": [
    {
     "output_type": "execute_result",
     "data": {
      "text/plain": "Available line magics:\n%alias  %alias_magic  %autocall  %automagic  %autosave  %bookmark  %cat  %cd  %clear  %colors  %config  %connect_info  %cp  %debug  %dhist  %dirs  %doctest_mode  %ed  %edit  %env  %gui  %hist  %history  %killbgscripts  %ldir  %less  %lf  %lk  %ll  %load  %load_ext  %loadpy  %logoff  %logon  %logstart  %logstate  %logstop  %ls  %lsmagic  %lx  %macro  %magic  %man  %matplotlib  %mkdir  %more  %mv  %notebook  %page  %pastebin  %pdb  %pdef  %pdoc  %pfile  %pinfo  %pinfo2  %popd  %pprint  %precision  %profile  %prun  %psearch  %psource  %pushd  %pwd  %pycat  %pylab  %qtconsole  %quickref  %recall  %rehashx  %reload_ext  %rep  %rerun  %reset  %reset_selective  %rm  %rmdir  %run  %save  %sc  %set_env  %store  %sx  %system  %tb  %time  %timeit  %unalias  %unload_ext  %who  %who_ls  %whos  %xdel  %xmode\n\nAvailable cell magics:\n%%!  %%HTML  %%SVG  %%bash  %%capture  %%debug  %%file  %%html  %%javascript  %%js  %%latex  %%markdown  %%perl  %%prun  %%pypy  %%python  %%python2  %%python3  %%ruby  %%script  %%sh  %%svg  %%sx  %%system  %%time  %%timeit  %%writefile\n\nAutomagic is ON, % prefix IS NOT needed for line magics.",
      "application/json": {
       "cell": {
        "markdown": "DisplayMagics",
        "system": "OSMagics",
        "!": "OSMagics",
        "timeit": "ExecutionMagics",
        "svg": "DisplayMagics",
        "ruby": "Other",
        "SVG": "Other",
        "debug": "ExecutionMagics",
        "html": "DisplayMagics",
        "js": "DisplayMagics",
        "bash": "Other",
        "latex": "DisplayMagics",
        "writefile": "OSMagics",
        "HTML": "Other",
        "file": "Other",
        "time": "ExecutionMagics",
        "javascript": "DisplayMagics",
        "sx": "OSMagics",
        "python": "Other",
        "perl": "Other",
        "python3": "Other",
        "sh": "Other",
        "script": "ScriptMagics",
        "capture": "ExecutionMagics",
        "prun": "ExecutionMagics",
        "python2": "Other",
        "pypy": "Other"
       },
       "line": {
        "lsmagic": "BasicMagics",
        "system": "OSMagics",
        "pdef": "NamespaceMagics",
        "edit": "KernelMagics",
        "rehashx": "OSMagics",
        "lk": "Other",
        "recall": "HistoryMagics",
        "debug": "ExecutionMagics",
        "logoff": "LoggingMagics",
        "psearch": "NamespaceMagics",
        "magic": "BasicMagics",
        "set_env": "OSMagics",
        "ed": "Other",
        "ll": "Other",
        "ls": "Other",
        "logstop": "LoggingMagics",
        "rerun": "HistoryMagics",
        "who_ls": "NamespaceMagics",
        "rm": "Other",
        "hist": "Other",
        "config": "ConfigMagics",
        "macro": "ExecutionMagics",
        "pdoc": "NamespaceMagics",
        "ldir": "Other",
        "autosave": "KernelMagics",
        "pprint": "BasicMagics",
        "cp": "Other",
        "page": "BasicMagics",
        "precision": "BasicMagics",
        "pinfo": "NamespaceMagics",
        "cat": "Other",
        "reload_ext": "ExtensionMagics",
        "load": "CodeMagics",
        "save": "CodeMagics",
        "load_ext": "ExtensionMagics",
        "env": "OSMagics",
        "cd": "OSMagics",
        "dirs": "OSMagics",
        "doctest_mode": "BasicMagics",
        "time": "ExecutionMagics",
        "mkdir": "Other",
        "pinfo2": "NamespaceMagics",
        "more": "KernelMagics",
        "alias_magic": "BasicMagics",
        "sx": "OSMagics",
        "colors": "BasicMagics",
        "timeit": "ExecutionMagics",
        "profile": "BasicMagics",
        "run": "ExecutionMagics",
        "pip": "BasicMagics",
        "mv": "Other",
        "popd": "OSMagics",
        "who": "NamespaceMagics",
        "pdb": "ExecutionMagics",
        "qtconsole": "KernelMagics",
        "pwd": "OSMagics",
        "matplotlib": "PylabMagics",
        "notebook": "BasicMagics",
        "automagic": "AutoMagics",
        "reset": "NamespaceMagics",
        "reset_selective": "NamespaceMagics",
        "pycat": "OSMagics",
        "clear": "KernelMagics",
        "pylab": "PylabMagics",
        "bookmark": "OSMagics",
        "lf": "Other",
        "logstate": "LoggingMagics",
        "prun": "ExecutionMagics",
        "whos": "NamespaceMagics",
        "sc": "OSMagics",
        "logstart": "LoggingMagics",
        "man": "KernelMagics",
        "loadpy": "CodeMagics",
        "autocall": "AutoMagics",
        "history": "HistoryMagics",
        "rep": "Other",
        "unload_ext": "ExtensionMagics",
        "xdel": "NamespaceMagics",
        "logon": "LoggingMagics",
        "gui": "BasicMagics",
        "tb": "ExecutionMagics",
        "alias": "OSMagics",
        "store": "StoreMagics",
        "psource": "NamespaceMagics",
        "pfile": "NamespaceMagics",
        "xmode": "BasicMagics",
        "rmdir": "Other",
        "dhist": "OSMagics",
        "connect_info": "KernelMagics",
        "pastebin": "CodeMagics",
        "pushd": "OSMagics",
        "quickref": "BasicMagics",
        "less": "KernelMagics",
        "lx": "Other",
        "unalias": "OSMagics",
        "killbgscripts": "ScriptMagics"
       }
      }
     },
     "metadata": {},
     "execution_count": 2
    }
   ],
   "source": [
    "%lsmagic"
   ]
  },
  {
   "cell_type": "code",
   "execution_count": 4,
   "metadata": {},
   "outputs": [
    {
     "output_type": "stream",
     "text": "\u001b[0;31mType:\u001b[0m        module\n\u001b[0;31mString form:\u001b[0m <module 'torch.optim' from '/Users/manmanzhang/opt/anaconda3/envs/deeplearning/lib/python3.5/site-packages/torch/optim/__init__.py'>\n\u001b[0;31mFile:\u001b[0m        ~/opt/anaconda3/envs/deeplearning/lib/python3.5/site-packages/torch/optim/__init__.py\n\u001b[0;31mDocstring:\u001b[0m  \n:mod:`torch.optim` is a package implementing various optimization algorithms.\nMost commonly used methods are already supported, and the interface is general\nenough, so that more sophisticated ones can be also easily integrated in the\nfuture.\n"
    }
   ],
   "source": [
    "?torch.optim"
   ]
  },
  {
   "cell_type": "code",
   "execution_count": null,
   "metadata": {},
   "outputs": [],
   "source": []
  }
 ],
 "metadata": {
  "language_info": {
   "codemirror_mode": {
    "name": "ipython",
    "version": 3
   },
   "file_extension": ".py",
   "mimetype": "text/x-python",
   "name": "python",
   "nbconvert_exporter": "python",
   "pygments_lexer": "ipython3",
   "version": "3.5.6-final"
  },
  "orig_nbformat": 2,
  "kernelspec": {
   "name": "python35664bitdeeplearningconda49c51f4718784ba4ab06df616fe53864",
   "display_name": "Python 3.5.6 64-bit ('deeplearning': conda)"
  }
 },
 "nbformat": 4,
 "nbformat_minor": 2
}