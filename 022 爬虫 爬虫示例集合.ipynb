{
 "cells": [
  {
   "cell_type": "code",
   "execution_count": 43,
   "metadata": {},
   "outputs": [
    {
     "output_type": "stream",
     "name": "stdout",
     "text": "<script>window.location.href='https://passport.jd.com/uc/login?ReturnUrl=http://item.jd.com/2967929.html'</script>\n"
    }
   ],
   "source": [
    "import requests\n",
    "\n",
    "url = \"https://item.jd.com/2967929.html\"\n",
    "try:\n",
    "    \n",
    "    r = requests.get(url)\n",
    "    r.raise_for_status()   #如果发送了错误请求，可以抛出异常\n",
    "    r.encoding = r.apparent_encoding  #把文本内容的编码格式传递给头文件编码格式\n",
    "    print(r.text[:1000])\n",
    "except:\n",
    "    print(\"爬取失败！\")"
   ]
  },
  {
   "cell_type": "code",
   "execution_count": 44,
   "metadata": {
    "tags": [
     "outputPrepend"
    ]
   },
   "outputs": [
    {
     "output_type": "stream",
     "name": "stdout",
     "text": "eout=0;n=s}else{var p;if(l[I]){var r=new l[I];p=\"withCredentials\"in r?r:void 0}else p=void 0;n=p}m=n}if(b=m){b.open(\"POST\",G,!0);if(b[J])b[J](\"Content-type\",\"text/plain\");b.send(f)}}catch(t){}}else k.ue.log(c,b,{nb:1});\"function\"===typeof q.elh&&q.elh(a,d);\nif(!a.fromOnError){f=l.console||{};b=f.error||f.log||u;h=l[w];m=\"Error logged with the Track&Report JS errors API(http://tiny/1covqr6l8/wamazindeClieUserJava): \";if(h&&h[x])try{m+=h[x](c)}catch(v){m+=\"no info provided; converting to string failed\"}else m+=c.m;b.apply(f,[m,c])}}}if(k.ue_err){var I=\"XMLHttpRequest\",H=\"XDomainRequest\",S=\"navigator\",F=\"sendBeacon\",x=\"stringify\",w=\"JSON\",p=\"logLevel\",r=\"attribution\",B=\"pageURL\",t=\"skipTrace\",J=\"setRequestHeader\",n=\"message\",u=function(){},G=\"//\"+k.ue_furl+\n\"/1/batch/1/OE/\",q=k.ue_err,R=k.ue_err_chan||\"jserr\",v=\"FATAL\",O=\"ERROR\",P=\"WARN\",Q=\"DOWNGRADED\",L=\"v6\",C=20,y=256,N=RegExp(\" (?([^ s]*):( d+): d+ )?\".split(\" \").join(String.fromCharCode(92))),M=/.*@(.*):(\\d*)/;A[t]=1;E[t]=1;z[t]=1;(function(){for(var a,d=0;d<(q.erl||[]).length;d++)a=q.erl[d],z(a.ex,a.info);q.erl=[]})();k.ueLogError=E}})(ue_csm,window);\n\n</script>\n<script type='text/javascript'>\n(function(c,d){var b=c.ue,a=d.navigator;b&&b.tag&&a&&(a=a.connection||a.mozConnection||a.webkitConnection)&&a.type&&b.tag(\"netInfo:\"+a.type)})(ue_csm,window);\n\n</script>\n<script type=\"text/javascript\">\n(function(c,d){function h(a,b){for(var c=[],d=0;d<a.length;d++){var e=a[d],f=b.encode(e);if(e[k]){var g=b.metaSep,e=e[k],l=b.metaPairSep,h=[],m=void 0;for(m in e)e.hasOwnProperty(m)&&h.push(m+\"=\"+e[m]);e=h.join(l);f+=g+e}c.push(f)}return c.join(b.resourceSep)}function s(a){var b=a[k]=a[k]||{};b[t]||(b[t]=c.ue_mid);b[u]||(b[u]=c.ue_sid);b[f]||(b[f]=c.ue_id);b.csm=1;a=\"//\"+c.ue_furl+\"/1/\"+a[v]+\"/1/OP/\"+a[w]+\"/\"+a[x]+\"/\"+h([a],y);if(n)try{n.call(d[p],a)}catch(g){c.ue.sbf=1,(new Image).src=a}else(new Image).src=\na}function q(){g&&g.isStub&&g.replay(function(a,b,c){a=a[0];b=a[k]=a[k]||{};b[f]=b[f]||c;s(a)});l.impression=s;g=null}if(!(1<c.ueinit)){var k=\"metadata\",x=\"impressionType\",v=\"foresterChannel\",w=\"programGroup\",t=\"marketplaceId\",u=\"session\",f=\"requestId\",p=\"navigator\",l=c.ue||{},n=d[p]&&d[p].sendBeacon,r=function(a,b,c,d){return{encode:d,resourceSep:a,metaSep:b,metaPairSep:c}},y=r(\"\",\"?\",\"&\",function(a){return h(a.impressionData,z)}),z=r(\"/\",\":\",\",\",function(a){return a.featureName+\":\"+h(a.resources,\nA)}),A=r(\",\",\"@\",\"|\",function(a){return a.id}),g=l.impression;n?q():(l.attach(\"load\",q),l.attach(\"beforeunload\",q));try{d.P&&d.P.register&&d.P.register(\"impression-client\",function(){})}catch(B){c.ueLogError(B,{logLevel:\"WARN\"})}}})(ue_csm,window);\n\n</script>\n<script type='text/javascript'>\nue_csm.ue.exec(function(e,d,a){function b(a,b){return{name:a,getFeatureValue:function(){return void 0!==b|0}}}function h(a,b,c){return{name:a,getFeatureValue:function(){return b===c|0}}}function g(a,b){return{name:a,getFeatureValue:function(){for(var a=0;a<b.length;a++)if(void 0!==b[a])return 1;return 0}}}var f=e.ue||{},c=[b(\"dall\",d.all),b(\"dcm\",d.compatMode),b(\"xhr\",a.XMLHttpRequest),b(\"qs\",d.querySelector),b(\"ael\",d.addEventListener),b(\"atob\",a.atob),g(\"pjs\",[a.callPhantom,a._phantom,a.PhantomEmitter,\na.__phantomas]),b(\"njs\",a.Buffer),b(\"cjs\",a.emit),b(\"rhn\",a.spawn),b(\"sel\",a.webdriver),g(\"chrm\",[a.domAutomation,a.domAutomationController]),{name:\"plg\",getFeatureValue:function(){return(void 0!==a.navigator.plugins&&0<a.navigator.plugins.length)|0}}];try{c.push(h(\"no\",a.navigator.onLine,!1))}catch(k){c.push({name:\"no\",getFeatureValue:function(){return 2}})}f._bf=e.ue.exec(function(){for(var a=\"\",b=0;b<c.length;b++)a+=c[b].name+\"_\"+c[b].getFeatureValue()+\"-\";(e.ue||{})._bf=null;return a},\"ue.bf\");\nf._bf.modules=c;f._bf.mpm=b},\"bf\")(ue_csm,document,window);\n\nue_csm.ue.exec(function(c,a){function g(a){a.run(function(e){d.tag(\"csm-feature-\"+a.name+\":\"+e);d.isl&&c.uex(\"at\")})}if(a.addEventListener)for(var d=c.ue||{},f=[{name:\"touch-enabled\",run:function(b){var e=function(){a.removeEventListener(\"touchstart\",c,!0);a.removeEventListener(\"mousemove\",d,!0)},c=function(){b(\"true\");e()},d=function(){b(\"false\");e()};a.addEventListener(\"touchstart\",c,!0);a.addEventListener(\"mousemove\",d,!0)}}],b=0;b<f.length;b++)g(f[b])},\"csm-features\")(ue_csm,window);\n\n</script>\n<!--[if IE 5]>\n<script type='text/javascript'> ue && ue._bf && ue._bf.modules && ue._bf.mpm && ue._bf.modules.push( ue._bf.mpm(\"cc_ie5\", 1) ) </script>\n<![endif]-->\n<!--[if IE 6]>\n<script type='text/javascript'> ue && ue._bf && ue._bf.modules && ue._bf.mpm && ue._bf.modules.push( ue._bf.mpm(\"cc_ie6\", 1) ) </script>\n<![endif]-->\n<!--[if IE 7]>\n<script type='text/javascript'> ue && ue._bf && ue._bf.modules && ue._bf.mpm && ue._bf.modules.push( ue._bf.mpm(\"cc_ie7\", 1) ) </script>\n<![endif]-->\n<!--[if IE 8]>\n<script type='text/javascript'> ue && ue._bf && ue._bf.modules && ue._bf.mpm && ue._bf.modules.push( ue._bf.mpm(\"cc_ie8\", 1) ) </script>\n<![endif]-->\n<!--[if IE 9]>\n<script type='text/javascript'> ue && ue._bf && ue._bf.modules && ue._bf.mpm && ue._bf.modules.push( ue._bf.mpm(\"cc_ie9\", 1) ) </script>\n<![endif]-->\n<script type='text/javascript'>\nif (!window.fwcimData) {\n    window.fwcimData = {\n        customerId: '0'\n    };\n\n    if (window.P || window.AmazonUIPageJS) {\n        if (window.ue && window.ue.uels) {\n            ue.uels(\"https://images-cn.ssl-images-amazon.com/images/I/71pWGjuuHqL.js\");\n        }\n    }\n}\n</script>\n<script type='text/javascript'>\nue_csm.ue.exec(function(e,f){var a=e.ue||{},b=a._wlo,d;if(a.ssw){d=a.ssw(\"CSM_previousURL\").val;var c=f.location,b=b?b:c&&c.href?c.href.split(\"#\")[0]:void 0;c=(b||\"\")===a.ssw(\"CSM_previousURL\").val;!c&&b&&a.ssw(\"CSM_previousURL\",b);d=c?\"reload\":d?\"intrapage-transition\":\"first-view\"}else d=\"unknown\";a._nt=d},\"NavTypeModule\")(ue_csm,window);\n\n</script>\n<script type='text/javascript'>\nvar ue_mbl=ue_csm.ue.exec(function(e,a){function l(f){b=f||{};a.AMZNPerformance=b;b.transition=b.transition||{};b.timing=b.timing||{};e.ue.exec(m,\"csm-android-check\")()&&b.tags instanceof Array&&(f=-1!=b.tags.indexOf(\"usesAppStartTime\")||b.transition.type?!b.transition.type&&-1<b.tags.indexOf(\"usesAppStartTime\")?\"warm-start\":void 0:\"view-transition\",f&&(b.transition.type=f));\"reload\"===c._nt&&e.ue_orct||\"intrapage-transition\"===c._nt?a.performance&&performance.timing&&performance.timing.navigationStart?\nb.timing.transitionStart=a.performance.timing.navigationStart:delete b.timing.transitionStart:\"undefined\"===typeof c._nt&&a.performance&&performance.timing&&performance.timing.navigationStart&&a.history&&\"function\"===typeof a.History&&\"object\"===typeof a.history&&history.length&&1!=history.length&&(b.timing.transitionStart=a.performance.timing.navigationStart);f=b.transition;var d;d=c._nt?c._nt:void 0;f.subType=d;a.ue&&a.ue.tag&&a.ue.tag(\"has-AMZNPerformance\");c.isl&&a.uex&&uex(\"at\",\"csm-timing\");\nn()}function p(b){a.ue&&a.ue.count&&a.ue.count(\"csm-cordova-plugin-failed\",1)}function m(){return a.webclient&&\"function\"===typeof a.webclient.getRealClickTime?a.cordova&&a.cordova.platformId&&\"ios\"==a.cordova.platformId?!1:!0:!1}function n(){try{P.register(\"AMZNPerformance\",function(){return b})}catch(a){}}function h(){if(!b)return\"\";ue_mbl.cnt=null;for(var a=b.timing,d=b.transition,a=[\"mts\",k(a.transitionStart),\"mps\",k(a.processStart),\"mtt\",d.type,\"mtst\",d.subType,\"mtlt\",d.launchType],d=\"\",c=0;c<\na.length;c+=2){var e=a[c],g=a[c+1];\"undefined\"!==typeof g&&(d+=\"&\"+e+\"=\"+g)}return d}function k(a){if(\"undefined\"!==typeof a&&\"undefined\"!==typeof g)return a-g}function q(a,c){b&&(g=c,b.timing.transitionStart=a,b.transition.type=\"view-transition\",b.transition.subType=\"ajax-transition\",b.transition.launchType=\"normal\",ue_mbl.cnt=h)}var c=e.ue||{},g=e.ue_t0,b;if(a.P&&a.P.when&&a.P.register)return a.P.when(\"CSMPlugin\").execute(function(a){a.buildAMZNPerformance&&a.buildAMZNPerformance({successCallback:l,\nfailCallback:p})}),{cnt:h,ajax:q}},\"mobile-timing\")(ue_csm,window);\n\n</script>\n<script type='text/javascript'>\n(function(b){function c(){var d=[];a.log&&a.log.isStub&&a.log.replay(function(a){e(d,a)});a.clog&&a.clog.isStub&&a.clog.replay(function(a){e(d,a)});d.length&&(a._flhs+=1,n(d),p(d))}function g(){a.log&&a.log.isStub&&(a.onflush&&a.onflush.replay&&a.onflush.replay(function(a){a[0]()}),a.onunload&&a.onunload.replay&&a.onunload.replay(function(a){a[0]()}),c())}function e(d,b){var c=b[1],f=b[0],e={};a._lpn[c]=(a._lpn[c]||0)+1;e[c]=f;d.push(e)}function n(b){q&&(a._lpn.csm=(a._lpn.csm||0)+1,b.push({csm:{k:\"chk\",\nf:a._flhs,l:a._lpn,s:\"inln\"}}))}function p(a){if(h)a=k(a),b.navigator.sendBeacon(l,a);else{a=k(a);var c=new b[f];c.open(\"POST\",l,!0);c.setRequestHeader&&c.setRequestHeader(\"Content-type\",\"text/plain\");c.send(a)}}function k(a){return JSON.stringify({rid:b.ue_id,sid:b.ue_sid,mid:b.ue_mid,mkt:b.ue_mkt,sn:b.ue_sn,reqs:a})}var f=\"XMLHttpRequest\",q=1===b.ue_ddq,a=b.ue,r=b[f]&&\"withCredentials\"in new b[f],h=b.navigator&&b.navigator.sendBeacon,l=\"//\"+b.ue_furl+\"/1/batch/1/OE/\",m=b.ue_fci_ft||5E3;a&&(r||h)&&\n(a._flhs=a._flhs||0,a._lpn=a._lpn||{},a.attach&&(a.attach(\"beforeunload\",g),a.attach(\"pagehide\",g)),m&&b.setTimeout(c,m),a._ffci=c)})(window);\n\n</script>\n<script type=\"text/javascript\">\nue_csm.ue.exec(function(y,a){function t(){if(d&&f){var a;a:{try{a=d.getItem(g);break a}catch(c){}a=void 0}if(a)return b=a,!0}return!1}function u(){if(a.fetch)fetch(m).then(function(a){if(!a.ok)throw Error(a.statusText);return a.text?a.text():null}).then(function(b){b?(-1<b.indexOf(\"window.ue_adb_chk = 1\")&&(a.ue_adb_chk=1),n()):h()})[\"catch\"](h);else e.uels(m,{onerror:h,onload:n})}function h(){b=k;l();if(f)try{d.setItem(g,b)}catch(a){}}function n(){b=1===a.ue_adb_chk?p:k;l();if(f)try{d.setItem(g,\nb)}catch(c){}}function q(){a.ue_adb_rtla&&c&&0<c.ec&&!1===r&&(c.elh=null,ueLogError({m:\"Hit Info\",fromOnError:1},{logLevel:\"INFO\",adb:b}),r=!0)}function l(){e.tag(b);e.isl&&a.uex&&uex(\"at\",b);s&&s.updateCsmHit(\"adb\",b);c&&0<c.ec?q():a.ue_adb_rtla&&c&&(c.elh=q)}function v(){return b}if(a.ue_adb){a.ue_fadb=a.ue_fadb||10;var e=a.ue,k=\"adblk_yes\",p=\"adblk_no\",m=\"https://m.media-amazon.com/images/G/01/csm/showads.v2.js\",b=\"adblk_unk\",d;a:{try{d=a.localStorage;break a}catch(z){}d=void 0}var g=\"csm:adb\",\nc=a.ue_err,s=e.cookie,f=void 0!==a.localStorage,w=Math.random()>1-1/a.ue_fadb,r=!1,x=t();w||!x?u():l();a.ue_isAdb=v;a.ue_isAdb.unk=\"adblk_unk\";a.ue_isAdb.no=p;a.ue_isAdb.yes=k}},\"adb\")(document,window);\n\n</script>\n<script type=\"text/javascript\">\nue_csm.ue_unrt = 1500;\n(function(d,b,t){function u(a,b){var c=a.srcElement||a.target||{},e={k:w,t:b.t,dt:b.dt,x:a.pageX,y:a.pageY,p:f.getXPath(c),n:c.nodeName};a.button&&(e.b=a.button);c.type&&(e.ty=c.type);c.href&&(e.r=f.extractStringValue(c.href));c.id&&(e.i=c.id);c.className&&c.className.split&&(e.c=c.className.split(/\\s+/));g+=1;f.getFirstAscendingWidget(c,function(a){e.wd=a;d.ue.log(e,r)})}function x(a){if(!y(a.srcElement||a.target)){k+=1;n=!0;var v=h=d.ue.d(),c;p&&\"function\"===typeof p.now&&a.timeStamp&&(c=p.now()-\na.timeStamp,c=parseFloat(c.toFixed(2)));s=b.setTimeout(function(){u(a,{t:v,dt:c})},z)}}function A(a){if(a){var b=a.filter(B);a.length!==b.length&&(q=!0,l=d.ue.d(),n&&q&&(l&&h&&d.ue.log({k:C,t:h,m:Math.abs(l-h)},r),m(),q=!1,l=0))}}function B(a){if(!a)return!1;var b=\"characterData\"===a.type?a.target.parentElement:a.target;if(!b||!b.hasAttributes||!b.attributes)return!1;var c={\"class\":\"gw-clock gw-clock-aria s-item-container-height-auto feed-carousel using-mouse kfs-inner-container\".split(\" \"),id:[\"dealClock\",\n\"deal_expiry_timer\",\"timer\"],role:[\"timer\"]},e=!1;Object.keys(c).forEach(function(a){var d=b.attributes[a]?b.attributes[a].value:\"\";(c[a]||\"\").forEach(function(a){-1!==d.indexOf(a)&&(e=!0)})});return e}function y(a){if(!a)return!1;var b=(f.extractStringValue(a.nodeName)||\"\").toLowerCase(),c=(f.extractStringValue(a.type)||\"\").toLowerCase(),d=(f.extractStringValue(a.href)||\"\").toLowerCase();a=(f.extractStringValue(a.id)||\"\").toLowerCase();var g=\"checkbox color date datetime-local email file month number password radio range reset search tel text time url week\".split(\" \");\nif(-1!==[\"select\",\"textarea\",\"html\"].indexOf(b)||\"input\"===b&&-1!==g.indexOf(c)||\"a\"===b&&-1!==d.indexOf(\"http\")||-1!==[\"sitbreaderrightpageturner\",\"sitbreaderleftpageturner\",\"sitbreaderpagecontainer\"].indexOf(a))return!0}function m(){n=!1;h=0;b.clearTimeout(s)}function D(){b.ue.onSushiUnload(function(){ue.event({violationType:\"unresponsive-clicks\",violationCount:g,totalScanned:k},\"csm\",\"csm.ArmoredCXGuardrailsViolation.3\")});b.ue.onunload(function(){ue.count(\"armored-cxguardrails.unresponsive-clicks.violations\",\ng);ue.count(\"armored-cxguardrails.unresponsive-clicks.violationRate\",g/k*100||0)})}if(b.MutationObserver&&b.addEventListener&&Object.keys&&d&&d.ue&&d.ue.log&&d.ue_unrt&&d.ue_utils){var z=d.ue_unrt,r=\"cel\",w=\"unr_mcm\",C=\"res_mcm\",p=b.performance,f=d.ue_utils,n=!1,h=0,s=0,q=!1,l=0,g=0,k=0;b.addEventListener&&(b.addEventListener(\"mousedown\",x,!0),b.addEventListener(\"beforeunload\",m,!0),b.addEventListener(\"visibilitychange\",m,!0),b.addEventListener(\"pagehide\",m,!0));b.ue&&b.ue.event&&b.ue.onSushiUnload&&\nb.ue.onunload&&D();(new MutationObserver(A)).observe(t,{childList:!0,attributes:!0,characterData:!0,subtree:!0})}})(ue_csm,window,document);\n\n</script>\n<script type=\"text/javascript\">\nue_csm.ue.exec(function(g,e){if(e.ue_err){var f=\"\";e.ue_err.errorHandlers||(e.ue_err.errorHandlers=[]);e.ue_err.errorHandlers.push({name:\"fctx\",handler:function(a){if(!a.logLevel||\"FATAL\"===a.logLevel)if(f=g.getElementsByTagName(\"html\")[0].innerHTML){var b=f.indexOf(\"var ue_t0=ue_t0||+new Date();\");if(-1!==b){var b=f.substr(0,b).split(String.fromCharCode(10)),d=Math.max(b.length-10-1,0),b=b.slice(d,b.length-1);a.fcsmln=d+b.length+1;a.cinfo=a.cinfo||{};for(var c=0;c<b.length;c++)a.cinfo[d+c+1+\"\"]=\nb[c]}b=f.split(String.fromCharCode(10));a.cinfo=a.cinfo||{};if(!(a.f||void 0===a.l||a.l in a.cinfo))for(c=+a.l-1,d=Math.max(c-5,0),c=Math.min(c+5,b.length-1);d<=c;d++)a.cinfo[d+1+\"\"]=b[d]}}})}},\"fatals-context\")(document,window);\n\n</script>\n<script>var ue_wtc_c = 3;\nue_csm.ue.exec(function(b,e){function l(){for(var a=0;a<f.length;a++)a:for(var d=s.replace(A,f[a])+g[f[a]]+t,c=arguments,b=0;b<c.length;b++)try{c[b].send(d);break a}catch(e){}g={};f=[];n=0;k=p}function u(){B?l(q):l(C,q)}function v(a,m,c){r++;if(r>w)d.count&&1==r-w&&(d.count(\"WeblabTriggerThresholdReached\",1),b.ue_int&&console.error(\"Number of max call reached. Data will no longer be send\"));else{var h=c||{};h&&-1<h.constructor.toString().indexOf(D)&&a&&-1<a.constructor.toString().indexOf(x)&&m&&-1<\nm.constructor.toString().indexOf(x)?(h=b.ue_id,c&&c.rid&&(h=c.rid),c=h,a=encodeURIComponent(\",wl=\"+a+\"/\"+m),2E3>a.length+p?(2E3<k+a.length&&u(),void 0===g[c]&&(g[c]=\"\",f.push(c)),g[c]+=a,k+=a.length,n||(n=e.setTimeout(u,E))):b.ue_int&&console.error(\"Invalid API call. The input provided is over 2000 chars.\")):d.count&&(d.count(\"WeblabTriggerImproperAPICall\",1),b.ue_int&&console.error(\"Invalid API call. The input provided does not match the API protocol i.e ue.trigger(String, String, Object).\"))}}function F(){d.trigger&&\nd.trigger.isStub&&d.trigger.replay(function(a){v.apply(this,a)})}function y(){z||(f.length&&l(q),z=!0)}var t=\":1234\",s=\"//\"+b.ue_furl+\"/1/remote-weblab-triggers/1/OE/\"+b.ue_mid+\":\"+b.ue_sid+\":PLCHLDR_RID$s:wl-client-id%3DCSMTriger\",A=\"PLCHLDR_RID\",E=b.wtt||1E4,p=s.length+t.length,w=b.mwtc||2E3,G=1===e.ue_wtc_c,B=3===e.ue_wtc_c,H=e.XMLHttpRequest&&\"withCredentials\"in new e.XMLHttpRequest,x=\"String\",D=\"Object\",d=b.ue,g={},f=[],k=p,n,z=!1,r=0,C=function(){return{send:function(a){if(H){var b=new e.XMLHttpRequest;\nb.open(\"GET\",a,!0);G&&(b.withCredentials=!0);b.send()}else throw\"\";}}}(),q=function(){return{send:function(a){(new Image).src=a}}}();e.encodeURIComponent&&(d.attach&&(d.attach(\"beforeunload\",y),d.attach(\"pagehide\",y)),F(),d.trigger=v)},\"client-wbl-trg\")(ue_csm,window);\n\nif (ue.trigger) {\n    ue.trigger(\"UEDATA_AA_SERVERSIDE_ASSIGNMENT_CLIENTSIDE_TRIGGER_190249\", \"C\");\n}\n</script><script type=\"text/javascript\">\n(function(f,b){function g(){try{b.PerformanceObserver&&\"function\"===typeof b.PerformanceObserver&&(a=new b.PerformanceObserver(function(b){c(b.getEntries())}),a.observe(d))}catch(h){k()}}function m(){for(var h=d.entryTypes,a=0;a<h.length;a++)c(b.performance.getEntriesByType(h[a]))}function c(a){if(a&&Array.isArray(a)){for(var c=0,e=0;e<a.length;e++){var d=l.indexOf(a[e].name);if(-1!==d){var g=Math.round(b.performance.timing.navigationStart+a[e].startTime);f.uet(n[d],void 0,void 0,g);c++}}l.length===\nc&&k()}}function k(){a&&a.disconnect&&\"function\"===typeof a.disconnect&&a.disconnect()}if(\"function\"===typeof f.uet&&b.performance&&\"object\"===typeof b.performance&&b.performance.getEntriesByType&&\"function\"===typeof b.performance.getEntriesByType&&b.performance.timing&&\"object\"===typeof b.performance.timing&&\"number\"===typeof b.performance.timing.navigationStart){var d={entryTypes:[\"paint\"]},l=[\"first-paint\",\"first-contentful-paint\"],n=[\"fp\",\"fcp\"],a;try{m(),g()}catch(p){f.ueLogError(p,{logLevel:\"ERROR\",\nattribution:\"performanceMetrics\"})}}})(ue_csm,window);\n\n</script>\n<script type=\"text/javascript\">\n\n\n\n\n\n\n\n\n\ncsa.plugin(function(i){var s,e=\"CacheDetection\",n=\"csa-cache\",u=\"onsuccess\",d=\"target\",p=\"result\",l=\"exp\",f=i.exec,c=i.config,g=c[e+\".RequestID\"],v=c[e+\".Callback\"],h=c[e+\".EnableCallback\"],I=1,t=i.global,r=t.document||{},a=t.indexedDB,x=t.IDBKeyRange,b=i(\"Events\"),C=i(\"Events\",{producerId:\"csa\"});if(a&&x)try{var o=a.open(n);o.onupgradeneeded=f(function(e){e[d][p].createObjectStore(n).createIndex(l,l)}),o[u]=f(function(e){var o=e[d][p].transaction(n,\"readwrite\").objectStore(n);o.get(g)[u]=f(function(e){var n=D(\"session-id\"),c=function(e){var n=D(\"cdn-rid\");if(n)return{r:n,s:\"cdn\"};if(e)return{r:i.UUID().toUpperCase().replace(/-/g,\"\").slice(0,20),s:\"device\"}}(e[d][p])||{},t=c.r,r=c.s,a=!!t;!function(e){var n=Date.now(),c=x.upperBound(n);e.index(l).openCursor(c)[u]=f(function(e){var n=e[d][p];n&&(n.delete(),n.continue())}),e.put({exp:n+60*I*60*1e3},g)}(o),function(e,n,c){b(\"setEntity\",{page:{requestId:e||g,cacheRequestId:n?g:s,pageSource:n?\"cache\":\"origin\"},session:{id:c}}),n&&C(\"log\",{schemaId:\"csa.CacheImpression.1\"},{full:1})}(t,a,n),a&&h&&v&&v(t,n,r)})})}catch(e){}function D(e){try{var n=r.cookie.match(RegExp(\"(^| )\"+e+\"=([^;]+)\"));return n&&n[2].trim()}catch(e){}}});\n\n\n\n</script>\n<script type=\"text/javascript\">\n(function(m,a){function c(k){function f(b){b&&\"string\"===typeof b&&(b=(b=b.match(/^(?:https?:)?\\/\\/(.*?)(\\/|$)/i))&&1<b.length?b[1]:null,b&&b&&(\"number\"===typeof e[b]?e[b]++:e[b]=1))}function d(b){var e=10,d=+new Date;b&&b.timeRemaining?e=b.timeRemaining():b={timeRemaining:function(){return Math.max(0,e-(+new Date-d))}};for(var c=a.performance.getEntries(),k=e;g<c.length&&k>n;)c[g].name&&f(c[g].name),g++,k=b.timeRemaining();g>=c.length?h(!0):l()}function h(b){if(!b){b=m.scripts;var c;if(b)for(var d=\n0;d<b.length;d++)(c=b[d].getAttribute(\"src\"))&&\"undefined\"!==c&&f(c)}0<Object.keys(e).length&&(p&&ue_csm.ue&&ue_csm.ue.event&&ue_csm.ue.event({domains:e,pageType:a.ue_pty||null,subPageType:a.ue_spty||null,pageTypeId:a.ue_pti||null},\"csm\",\"csm.CrossOriginDomains.2\"),a.ue_ext=e)}function l(){!0===k?d():a.requestIdleCallback?a.requestIdleCallback(d):a.requestAnimationFrame?a.requestAnimationFrame(d):a.setTimeout(d,100)}function c(){if(a.performance&&a.performance.getEntries){var b=a.performance.getEntries();\n!b||0>=b.length?h(!1):l()}else h(!1)}var e=a.ue_ext||{};a.ue_ext||c();return e}function q(){setTimeout(c,r)}var s=a.ue_dserr||!1,p=!0,n=1,r=2E3,g=0;a.ue_err&&s&&(a.ue_err.errorHandlers||(a.ue_err.errorHandlers=[]),a.ue_err.errorHandlers.push({name:\"ext\",handler:function(a){if(!a.logLevel||\"FATAL\"===a.logLevel){var f=c(!0),d=[],h;for(h in f){var f=h,g=f.match(/amazon(\\.com?)?\\.\\w{2,3}$/i);g&&1<g.length||-1!==f.indexOf(\"amazon-adsystem.com\")||-1!==f.indexOf(\"amazonpay.com\")||-1!==f.indexOf(\"cloudfront-labs.amazonaws.com\")||\nd.push(h)}a.ext=d}}}));a.ue&&a.ue.isl?c():a.ue&&ue.attach&&ue.attach(\"load\",q)})(document,window);\n\n</script>\n</body>\n      </html>\n\n\n\n\n\n\n\n\n\n\n\n\n\n"
    }
   ],
   "source": [
    "import requests\n",
    "url=\"https://www.amazon.cn/gp/product/B01M8L5Z3Y\"\n",
    "try:\n",
    "    headers = {\n",
    "    'Connection': 'keep-alive',\n",
    "    'User-Agent': 'Mozilla/5.0 (Macintosh; Intel Mac OS X 10_15_3) AppleWebKit/537.36 (KHTML, like Gecko) Chrome/81.0.4044.113 Safari/537.36 Edg/81.0.416.58',\n",
    "    'Content-Type': 'text/plain;charset=UTF-8',\n",
    "    'Accept': '*/*',\n",
    "    'Origin': 'https://www.amazon.cn',\n",
    "    'Sec-Fetch-Site': 'cross-site',\n",
    "    'Sec-Fetch-Mode': 'no-cors',\n",
    "    'Sec-Fetch-Dest': 'empty',\n",
    "    'Referer': 'https://www.amazon.cn/gp/product/B01M8L5Z3Y',\n",
    "    'Accept-Language': 'zh-Hans,zh-CN;q=0.9,zh;q=0.8,en;q=0.7,en-GB;q=0.6,en-US;q=0.5',\n",
    "}\n",
    "  #模拟请求头\n",
    "    r=requests.get(url,headers=headers)\n",
    "    r.raise_for_status()\n",
    "    r.encoding=r.apparent_encoding\n",
    "    print(r.status_code)\n",
    "    print(r.text)\n",
    "except:\n",
    "    print(\"爬取失败\")"
   ]
  },
  {
   "cell_type": "code",
   "execution_count": 45,
   "metadata": {},
   "outputs": [
    {
     "output_type": "stream",
     "name": "stdout",
     "text": "https://wappass.baidu.com/static/captcha/tuxing.html?&ak=c27bbc89afca0463650ac9bde68ebe06&backurl=https%3A%2F%2Fwww.baidu.com%2Fs%3Fwd%3DPython&logid=8258530380656901846&signature=7ac317149c9aaeaec146cba1a182e680&timestamp=1587744573\n1519\n<!DOCTYPE html>\n<html lang=\"zh-CN\">\n<head>\n    <meta charset=\"utf-8\">\n    <title>ç¾åº¦å®å¨éªè¯</title>\n    <meta http-equiv=\"Content-Type\" content=\"text/html; charset=utf-8\">\n    <meta name=\"apple-mobile-web-app-capable\" content=\"yes\">\n    <meta name=\"apple-mobile-web-app-status-bar-style\" content=\"black\">\n    <meta name=\"viewport\" content=\"width=device-width, user-scalable=no, initial-scale=1.0, minimum-scale=1.0, maximum-scale=1.0\">\n    <meta name=\"format-detection\" content=\"telephone=no, email=no\">\n    <link rel=\"shortcut icon\" href=\"https://www.baidu.com/favicon.ico\" type=\"image/x-icon\">\n    <link rel=\"icon\" sizes=\"any\" mask href=\"https://www.baidu.com/img/baidu.svg\">\n    <meta http-equiv=\"X-UA-Compatible\" content=\"IE=Edge\">\n    <meta http-equiv=\"Content-Security-Policy\" content=\"upgrade-insecure-requests\">\n    <link rel=\"stylesheet\" href=\"https://wappass.bdimg.com/static/touch/css/api/mkdjump_8befa48.css\" />\n</head>\n<body>\n    <div class=\"timeout hide\">\n        <div class=\"timeout-img\"></div>\n        <div class=\"timeout-title\">ç½ç»ä¸ç»åï¼è¯·ç¨åéè¯</div>\n        <button type=\"button\" class=\"timeout-button\">è¿åé¦é¡µ</button>\n    </div>\n    <div class=\"timeout-feedback hide\">\n        <div class=\"timeout-feedback-icon\"></div>\n        <p class=\"timeout-feedback-title\">é®é¢åé¦</p>\n    </div>\n\n<script src=\"https://wappass.baidu.com/static/machine/js/api/mkd.js\"></script>\n<script src=\"https://wappass.bdimg.com/static/touch/js/mkdjump_6003cf3.js\"></script>\n</body>\n</html>\n"
    }
   ],
   "source": [
    "import requests\n",
    "import chardet\n",
    "\n",
    "url=\"http://www.baidu.com/s\"\n",
    "try:\n",
    "    kv={'wd':'Python'}\n",
    "    r=requests.get(url,params=kv)\n",
    "    print(r.request.url)\n",
    "    r.raise_for_status()\n",
    "    print(len(r.text))\n",
    "    spage =r.text\n",
    "    print(spage)\n",
    "except:\n",
    "    print(\"爬取失败\")"
   ]
  },
  {
   "cell_type": "code",
   "execution_count": 46,
   "metadata": {},
   "outputs": [
    {
     "output_type": "stream",
     "name": "stdout",
     "text": "爬取失败\n"
    }
   ],
   "source": [
    "import requests\n",
    "import os\n",
    "url=\"http://tc.sinaimg.cn/maxwidth.800/tc.service.weibo.com/p3_pstatp_com/6da229b421faf86ca9ba406190b6f06e.jpg\"\n",
    "root=\"D://pics//\"\n",
    "path=root + url.split('/')[-1]\n",
    "try:\n",
    "    if not os.path.exists(root):\n",
    "        os.mkdir(root)\n",
    "    if not os.path.exists(path):\n",
    "        r = requests.get(url)\n",
    "        with open(path, 'wb') as f:\n",
    "            f.write(r.content)   #r.content为图片\n",
    "            f.close()\n",
    "            print(\"文件保存成功\")\n",
    "    else:\n",
    "        print(\"文件已存在\")\n",
    "except:\n",
    "    print(\"爬取失败\")"
   ]
  },
  {
   "cell_type": "code",
   "execution_count": 47,
   "metadata": {
    "tags": [
     "outputPrepend",
     "outputPrepend",
     "outputPrepend"
    ]
   },
   "outputs": [
    {
     "output_type": "stream",
     "name": "stdout",
     "text": "$\",\"countryCode\":\"AD\",\"phoneCode\":\"376\"},{\"areaName\":\"阿富汗\",\"checkKey\":\"^(00){0,1}(93){1}\\\\\\\\d{6,15}$\",\"countryCode\":\"AF\",\"phoneCode\":\"93\"},{\"areaName\":\"亚美尼亚\",\"checkKey\":\"^(00){0,1}(374){1}\\\\\\\\d{6,15}$\",\"countryCode\":\"AM\",\"phoneCode\":\"374\"},{\"areaName\":\"波斯尼亚和黑塞哥维那\",\"checkKey\":\"^(00){0,1}(387){1}\\\\\\\\d{6,15}$\",\"countryCode\":\"BA\",\"phoneCode\":\"387\"},{\"areaName\":\"孟加拉国\",\"checkKey\":\"^(00){0,1}(880){1}\\\\\\\\d{6,15}$\",\"countryCode\":\"BD\",\"phoneCode\":\"880\"},{\"areaName\":\"布隆迪\",\"checkKey\":\"^(00){0,1}(257){1}\\\\\\\\d{6,15}$\",\"countryCode\":\"BI\",\"phoneCode\":\"257\"},{\"areaName\":\"博茨瓦纳\",\"checkKey\":\"^(00){0,1}(267){1}\\\\\\\\d{6,15}$\",\"countryCode\":\"BW\",\"phoneCode\":\"267\"},{\"areaName\":\"刚果(金)\",\"checkKey\":\"^(00){0,1}(243){1}\\\\\\\\d{6,15}$\",\"countryCode\":\"CD\",\"phoneCode\":\"243\"},{\"areaName\":\"中非\",\"checkKey\":\"^(00){0,1}(236){1}\\\\\\\\d{6,15}$\",\"countryCode\":\"CF\",\"phoneCode\":\"236\"},{\"areaName\":\"刚果(布)\",\"checkKey\":\"^(00){0,1}(242){1}\\\\\\\\d{6,15}$\",\"countryCode\":\"CG\",\"phoneCode\":\"242\"},{\"areaName\":\"科特迪瓦\",\"checkKey\":\"^(00){0,1}(225){1}\\\\\\\\d{6,15}$\",\"countryCode\":\"CI\",\"phoneCode\":\"225\"},{\"areaName\":\"库拉索岛\",\"checkKey\":\"^(00){0,1}(599){1}\\\\\\\\d{6,15}$\",\"countryCode\":\"CW\",\"phoneCode\":\"599\"},{\"areaName\":\"捷克共和国\",\"checkKey\":\"^(00){0,1}(420){1}\\\\\\\\d{6,15}$\",\"countryCode\":\"CZ\",\"phoneCode\":\"420\"},{\"areaName\":\"多米尼加共和国\",\"checkKey\":\"^(00){0,1}(1809){1}\\\\\\\\d{6,15}$\",\"countryCode\":\"DO\",\"phoneCode\":\"1809\"},{\"areaName\":\"阿尔及利亚\",\"checkKey\":\"^(00){0,1}(213){1}\\\\\\\\d{6,15}$\",\"countryCode\":\"DZ\",\"phoneCode\":\"213\"},{\"areaName\":\"厄瓜多尔\",\"checkKey\":\"^(00){0,1}(593){1}\\\\\\\\d{6,15}$\",\"countryCode\":\"EC\",\"phoneCode\":\"593\"},{\"areaName\":\"加纳\",\"checkKey\":\"^(00){0,1}(233){1}\\\\\\\\d{6,15}$\",\"countryCode\":\"GHA\",\"phoneCode\":\"233\"},{\"areaName\":\"伊拉克\",\"checkKey\":\"^(00){0,1}(964){1}\\\\\\\\d{6,15}$\",\"countryCode\":\"IQ\",\"phoneCode\":\"964\"},{\"areaName\":\"哈萨克斯坦\",\"checkKey\":\"^(00){0,1}(7){1}\\\\\\\\d{6,15}$\",\"countryCode\":\"KZ\",\"phoneCode\":\"7\"},{\"areaName\":\"老挝\",\"checkKey\":\"^(00){0,1}(856){1}\\\\\\\\d{6,15}$\",\"countryCode\":\"LA\",\"phoneCode\":\"856\"},{\"areaName\":\"黎巴嫩\",\"checkKey\":\"^(00){0,1}(961){1}\\\\\\\\d{6,15}$\",\"countryCode\":\"LB\",\"phoneCode\":\"961\"},{\"areaName\":\"利比里亚\",\"checkKey\":\"^(00){0,1}(231){1}\\\\\\\\d{6,15}$\",\"countryCode\":\"LR\",\"phoneCode\":\"231\"},{\"areaName\":\"利比亚\",\"checkKey\":\"^(00){0,1}(218){1}\\\\\\\\d{6,15}$\",\"countryCode\":\"LY\",\"phoneCode\":\"218\"},{\"areaName\":\"黑山共和国\",\"checkKey\":\"^(00){0,1}(382){1}\\\\\\\\d{6,15}$\",\"countryCode\":\"ME\",\"phoneCode\":\"382\"},{\"areaName\":\"圣马丁\",\"checkKey\":\"^(00){0,1}(590){1}\\\\\\\\d{6,15}$\",\"countryCode\":\"MF\",\"phoneCode\":\"590\"},{\"areaName\":\"马其顿\",\"checkKey\":\"^(00){0,1}(389){1}\\\\\\\\d{6,15}$\",\"countryCode\":\"MK\",\"phoneCode\":\"389\"},{\"areaName\":\"缅甸\",\"checkKey\":\"^(00){0,1}(95){1}\\\\\\\\d{6,15}$\",\"countryCode\":\"MM\",\"phoneCode\":\"95\"},{\"areaName\":\"巴基斯坦\",\"checkKey\":\"^(00){0,1}(92){1}\\\\\\\\d{6,15}$\",\"countryCode\":\"PK\",\"phoneCode\":\"92\"},{\"areaName\":\"波多黎各\",\"checkKey\":\"^(00){0,1}(1787){1}\\\\\\\\d{6,15}$\",\"countryCode\":\"PR\",\"phoneCode\":\"1787\"},{\"areaName\":\"索马里\",\"checkKey\":\"^(00){0,1}(252){1}\\\\\\\\d{6,15}$\",\"countryCode\":\"SO\",\"phoneCode\":\"252\"},{\"areaName\":\"圣文森特和格林纳丁斯\",\"checkKey\":\"^(00){0,1}(1784){1}\\\\\\\\d{6,15}$\",\"countryCode\":\"VC\",\"phoneCode\":\"1784\"},{\"areaName\":\"科索沃\",\"checkKey\":\"^(00){0,1}(383){1}\\\\\\\\d{6,15}$\",\"countryCode\":\"XK\",\"phoneCode\":\"383\"},{\"areaName\":\"尼泊尔\",\"checkKey\":\"^(00){0,1}(977){1}\\\\\\\\d{6,15}$\",\"countryCode\":\"NP\",\"phoneCode\":\"977\"},{\"areaName\":\"阿鲁巴\",\"checkKey\":\"^(00){0,1}(297){1}\\\\\\\\d{6,15}$\",\"countryCode\":\"AW\",\"phoneCode\":\"297\"},{\"areaName\":\"巴巴多斯\",\"checkKey\":\"^(00){0,1}(1246){1}\\\\\\\\d{6,15}$\",\"countryCode\":\"BB\",\"phoneCode\":\"1246\"},{\"areaName\":\"不丹\",\"checkKey\":\"^(00){0,1}(975){1}\\\\\\\\d{6,15}$\",\"countryCode\":\"BT\",\"phoneCode\":\"975\"},{\"areaName\":\"库克群岛\",\"checkKey\":\"^(00){0,1}(682){1}\\\\\\\\d{6,15}$\",\"countryCode\":\"CK\",\"phoneCode\":\"682\"},{\"areaName\":\"埃塞俄比亚\",\"checkKey\":\"^(00){0,1}(251){1}\\\\\\\\d{6,15}$\",\"countryCode\":\"ET\",\"phoneCode\":\"251\"},{\"areaName\":\"斐济\",\"checkKey\":\"^(00){0,1}(679){1}\\\\\\\\d{6,15}$\",\"countryCode\":\"FJ\",\"phoneCode\":\"679\"},{\"areaName\":\"密克罗尼西亚\",\"checkKey\":\"^(00){0,1}(691){1}\\\\\\\\d{6,15}$\",\"countryCode\":\"FM\",\"phoneCode\":\"691\"},{\"areaName\":\"法罗群岛\",\"checkKey\":\"^(00){0,1}(298){1}\\\\\\\\d{6,15}$\",\"countryCode\":\"FO\",\"phoneCode\":\"298\"},{\"areaName\":\"直布罗陀\",\"checkKey\":\"^(00){0,1}(350){1}\\\\\\\\d{6,15}$\",\"countryCode\":\"GI\",\"phoneCode\":\"350\"},{\"areaName\":\"格陵兰岛\",\"checkKey\":\"^(00){0,1}(299){1}\\\\\\\\d{6,15}$\",\"countryCode\":\"GL\",\"phoneCode\":\"299\"},{\"areaName\":\"关岛\",\"checkKey\":\"^(00){0,1}(1671){1}\\\\\\\\d{6,15}$\",\"countryCode\":\"GU\",\"phoneCode\":\"1671\"},{\"areaName\":\"海地\",\"checkKey\":\"^(00){0,1}(509){1}\\\\\\\\d{6,15}$\",\"countryCode\":\"HT\",\"phoneCode\":\"509\"},{\"areaName\":\"冰岛\",\"checkKey\":\"^(00){0,1}(354){1}\\\\\\\\d{6,15}$\",\"countryCode\":\"IS\",\"phoneCode\":\"354\"},{\"areaName\":\"列支敦士登\",\"checkKey\":\"^(00){0,1}(423){1}\\\\\\\\d{6,15}$\",\"countryCode\":\"LI\",\"phoneCode\":\"423\"},{\"areaName\":\"摩纳哥\",\"checkKey\":\"^(00){0,1}(377){1}\\\\\\\\d{6,15}$\",\"countryCode\":\"MC\",\"phoneCode\":\"377\"},{\"areaName\":\"法属波利尼西亚\",\"checkKey\":\"^(00){0,1}(689){1}\\\\\\\\d{6,15}$\",\"countryCode\":\"PF\",\"phoneCode\":\"689\"},{\"areaName\":\"帕劳\",\"checkKey\":\"^(00){0,1}(680){1}\\\\\\\\d{6,15}$\",\"countryCode\":\"PW\",\"phoneCode\":\"680\"},{\"areaName\":\"巴拉圭\",\"checkKey\":\"^(00){0,1}(595){1}\\\\\\\\d{6,15}$\",\"countryCode\":\"PY\",\"phoneCode\":\"595\"},{\"areaName\":\"所罗门群岛\",\"checkKey\":\"^(00){0,1}(677){1}\\\\\\\\d{6,15}$\",\"countryCode\":\"SB\",\"phoneCode\":\"677\"},{\"areaName\":\"圣马力诺\",\"checkKey\":\"^(00){0,1}(378){1}\\\\\\\\d{6,15}$\",\"countryCode\":\"SM\",\"phoneCode\":\"378\"},{\"areaName\":\"叙利亚\",\"checkKey\":\"^(00){0,1}(963){1}\\\\\\\\d{6,15}$\",\"countryCode\":\"SY\",\"phoneCode\":\"963\"},{\"areaName\":\"汤加\",\"checkKey\":\"^(00){0,1}(676){1}\\\\\\\\d{6,15}$\",\"countryCode\":\"TO\",\"phoneCode\":\"676\"},{\"areaName\":\"萨摩亚\",\"checkKey\":\"^(00){0,1}(685){1}\\\\\\\\d{6,15}$\",\"countryCode\":\"WS\",\"phoneCode\":\"685\"},{\"areaName\":\"南极洲\",\"checkKey\":\"^(00){0,1}(6723){1}\\\\\\\\d{1,100}$\",\"countryCode\":\"AQ\",\"phoneCode\":\"672\"},{\"areaName\":\"古巴\",\"checkKey\":\"^(00){0,1}(53){1}\\\\\\\\d{1,100}$\",\"countryCode\":\"CU\",\"phoneCode\":\"53\"},{\"areaName\":\"西撒哈拉\",\"checkKey\":\"^(00){0,1}(6723){1}\\\\\\\\d{1,100}$\",\"countryCode\":\"EH\",\"phoneCode\":\"213\"},{\"areaName\":\"厄立特里亚\",\"checkKey\":\"^(00){0,1}(6723){1}\\\\\\\\d{1,100}$\",\"countryCode\":\"ER\",\"phoneCode\":\"291\"},{\"areaName\":\"瓜德罗普\",\"checkKey\":\"^(00){0,1}(6723){1}\\\\\\\\d{1,100}$\",\"countryCode\":\"GP\",\"phoneCode\":\"590\"},{\"areaName\":\"泽西岛\",\"checkKey\":\"^(00){0,1}(6723){1}\\\\\\\\d{1,100}$\",\"countryCode\":\"JEY\",\"phoneCode\":\"44\"},{\"areaName\":\"圣卢西亚\",\"checkKey\":\"^(00){0,1}(1758){1}\\\\\\\\d{1,100}$\",\"countryCode\":\"LC\",\"phoneCode\":\"1758\"},{\"areaName\":\"南乔治亚岛和南桑威奇群岛\",\"checkKey\":\"^(00){0,1}(6723){1}\\\\\\\\d{1,100}$\",\"countryCode\":\"SGS\",\"phoneCode\":\"500\"},{\"areaName\":\"圣赫勒拿岛\",\"checkKey\":\"^(00){0,1}(6723){1}\\\\\\\\d{1,100}$\",\"countryCode\":\"SH\",\"phoneCode\":\"290\"},{\"areaName\":\"马约特\",\"checkKey\":\"^(00){0,1}(2696){1}\\\\\\\\d{1,100}$\",\"countryCode\":\"YT\",\"phoneCode\":\"2696\"},{\"areaName\":\"诺福克岛\",\"checkKey\":\"^(00){0,1}(6723){1}\\\\\\\\d{1,100}$\",\"countryCode\":\"NF\",\"phoneCode\":\"6723\"},{\"areaName\":\"马提尼克\",\"checkKey\":\"^(00){0,1}(596){1}\\\\\\\\d{1,100}$\",\"countryCode\":\"MQ\",\"phoneCode\":\"596\"},{\"areaName\":\"马里亚那群岛\",\"checkKey\":\"^(00){0,1}(1670){1}\\\\\\\\d{1,100}$\",\"countryCode\":\"MP\",\"phoneCode\":\"1670\"},{\"areaName\":\"伊朗\",\"checkKey\":\"^(00){0,1}(98){1}\\\\\\\\d{1,100}$\",\"countryCode\":\"IR\",\"phoneCode\":\"98\"},{\"areaName\":\"百慕大群岛.\",\"checkKey\":\"^(00){0,1}(1441){1}\\\\\\\\d{1,100}$\",\"countryCode\":\"BM\",\"phoneCode\":\"1441\"},{\"areaName\":\"荷属安的列斯\",\"checkKey\":\"^(00){0,1}(599){1}\\\\\\\\d{1,100}$\",\"countryCode\":\"AN\",\"phoneCode\":\"599\"},{\"areaName\":\"美属萨摩亚\",\"checkKey\":\"^(00){0,1}(684){1}\\\\\\\\d{1,100}$\",\"countryCode\":\"AS\",\"phoneCode\":\"684\"},{\"areaName\":\"新喀里多尼亚\",\"checkKey\":\"^(00){0,1}(687){1}\\\\\\\\d{1,100}$\",\"countryCode\":\"NC\",\"phoneCode\":\"687\"},{\"areaName\":\"圣皮埃尔和密克隆岛\",\"checkKey\":\"^(00){0,1}(508){1}\\\\\\\\d{1,100}$\",\"countryCode\":\"PM\",\"phoneCode\":\"508\"},{\"areaName\":\"留尼旺\",\"checkKey\":\"^(00){0,1}(-4){1}\\\\\\\\d{1,100}$\",\"countryCode\":\"RE\",\"phoneCode\":\"262\"},{\"areaName\":\"苏丹\",\"checkKey\":\"^(00){0,1}(249){1}\\\\\\\\d{1,100}$\",\"countryCode\":\"SD\",\"phoneCode\":\"249\"},{\"areaName\":\"瓦努阿图\",\"checkKey\":\"^(00){0,1}(678){1}\\\\\\\\d{1,100}$\",\"countryCode\":\"VU\",\"phoneCode\":\"678\"},{\"areaName\":\"扎伊尔\",\"checkKey\":\"^(00){0,1}(243){1}\\\\\\\\d{1,100}$\",\"countryCode\":\"ZR\",\"phoneCode\":\"243\"},{\"areaName\":\"马耳他\",\"checkKey\":\"^(00){0,1}(356){1}\\\\\\\\d{6,15}$\",\"countryCode\":\"MT\",\"phoneCode\":\"356\"}],\"defaultCountryCode\":\"CN\"},\"currentTime\":\"1587744576160\",\"enableSmsAudio\":false,\"foreign\":false,\"isMobile\":false,\"lang\":\"zh_CN\",\"loginFormData\":{\"appName\":\"taobao\",\"appEntrance\":\"taobao_pc\",\"_csrf_token\":\"AQ8QOUoX3icFHsCCMhz4u1\",\"umidToken\":\"df851e0a047d142c362c22ecda44d8cf0e456d3e\",\"hsiz\":\"10cb154abcdd0ee4215ee21549e282a1\",\"bizParams\":\"\",\"style\":\"default\",\"appkey\":\"00000000\",\"from\":\"tb\",\"isMobile\":false,\"lang\":\"zh_CN\",\"returnUrl\":\"http://s.taobao.com/search?q=%E8%B6%B3%E7%90%83&s=88\",\"fromSite\":0},\"mobile\":false,\"nocaptchaAppKey\":\"CF_APP_TBLogin_PC\",\"returnUrl\":\"http://s.taobao.com/search?q=%E8%B6%B3%E7%90%83&s=88\",\"showAutioSlipCode\":false,\"umidEncryptAppName\":\"090D1F110F187839282B151408\",\"umidServer\":\"https://ynuf.alipay.com\",\"umidServiceLocation\":\"cn\",\"umidToken\":\"df851e0a047d142c362c22ecda44d8cf0e456d3e\"};\\n    window._lang = {\"error-login-mobile-empty\":\"请输入手机号码\",\"view-mobile-country-area-popup-cancel-btn-title\":\"取消\",\"view-pwdlogin-mobile-loginid-title\":\"手机号\",\"view-qrcodelogin-expired-title\":\"二维码已失效\",\"view-mobile-country-area-popup-ok-btn-title\":\"确认\",\"view-qrcodelogin-refresh-tips\":\"请刷新二维码后重新扫码\",\"error-login-click-nocaptcha-empty\":\"请点击下方圆圈进行验证\",\"error-login-nocaptcha-empty\":\"请拖动滑块完成验证\",\"view-smslogin-smscode-get-text\":\"获取验证码\",\"view-akey-login-btn-text\":\"通过手机安全登录\",\"error-login-smsCode-empty\":\"请输入短信验证码\",\"view-pwdlogin-loginid-title\":\"登录名\",\"view-qrcodelogin-bottom-desc\":\"<font class=\\\\\"ft-gray\\\\\">打开 </font><a href=\\\\\"https://www.taobao.com/m\\\\\" target=_blank class=\\\\\"light-link\\\\\">手机淘宝</a> | <a href=\\\\\"https://www.tmall.com/wow/portal/act/app-download?mmstat=pc_login\\\\\" target=_blank class=\\\\\"light-link\\\\\">手机天猫</a><br/>\\\\n<span class=\\\\\"ft-gray\\\\\">扫一扫登录</span>\",\"view-pwdlogin-password-title\":\"登录密码\",\"view-login-form-loginid-placeholder\":\"会员名/邮箱/手机号\",\"error-login-checkcode-empty\":\"请输入验证码\",\"view-akey-login-push-success-msg\":\"请求发送成功\",\"error-fm-login-id-empty\":\"请输入帐户名\",\"view-qrcodelogin-explain-tips\":\"手机扫码 安全登录\",\"view-akey-login-push-error-tip\":\"请刷新后重新发送请求\",\"view-qrcodelogin-canceled-title\":\"登录失败\",\"view-smslogin-loginid-title\":\"手机号：\",\"view-smslogin-reg-agreement\":\"已阅读并同意以下协议：<a href=\\\\\"https://terms.alicdn.com/legal-agreement/terms/TD/TD201609301342_19559.html\\\\\" target=\\\\\"_blank\\\\\">淘宝平台服务协议</a>、<a href=\\\\\"https://terms.alicdn.com/legal-agreement/terms/suit_bu1_taobao/suit_bu1_taobao201703241622_61002.html\\\\\"  target=\\\\\"_blank\\\\\">隐私权政策</a>、<a href=\\\\\"https://terms.alicdn.com/legal-agreement/terms/suit_bu1_taobao/suit_bu1_taobao201811121436_80276.html\\\\\"  target=\\\\\"_blank\\\\\">法律声明</a>、<a href=\\\\\"https://render.alipay.com/p/f/fd-jm7jym6r/alipay/multi-agreement.html\\\\\"  target=\\\\\"_blank\\\\\">支付宝及客户端服务协议</a>\",\"view-sms-code-send-suc-tip\":\"短信验证码已发送，可能会有延后请耐心等待\",\"view-akey-login-push-error-msg\":\"登录失败\",\"view-qrcodelogin-explain-desc\":\"\",\"view-smslogin-smscode-title\":\"验证码：\",\"view-login-form-mobile-loginid-placeholder\":\"请输入手机号\",\"view-qrcodelogin-scaned-tips\":\"请在手机上根据提示确认登录\",\"error-login-havana-audiocheckcode-empty\":\"请输入语音验证码\",\"view-login-form-password-placeholder\":\"请输入登录密码\",\"view-akey-login-title\":\"\",\"view-login-button-loging-button-text\":\"登录中...\",\"view-smslogin-reg-button-title\":\"同意协议并注册\",\"view-dingtalk-qrcode-login-title\":\"钉钉扫码登录\",\"view-login-haslogin-other-account\":\"使用其他帐户登录\",\"view-qrcodelogin-master-title\":\"扫码登录\",\"view-smslogin-switch-account\":\"切换账号\",\"view-akey-login-push-error-refresh-btn-text\":\"请点击刷新\",\"view-qrcodelogin-button-title\":\"刷新二维码\",\"view-haslogin-button-login-button-text\":\"快速进入\",\"error-fm-login-password-empty\":\"请输入密码\",\"view-smslogin-smscode-placeholder\":\"请输入验证码\",\"view-smslogin-smscode-count-text\":\"秒后重发\",\"view-login-image-checkcode-placeholder\":\"图片验证码\",\"view-smslogin-mobile-pattern-error\":\"手机号码格式不正确，请重新输入\",\"view-qrcodelogin-scaned-title\":\"扫描成功！\",\"view-smslogin-loginid-placeholder\":\"请输入手机号\",\"view-login-button-login-button-text\":\"登录\",\"view-smslogin-smscode-timeout-text\":\"重新发送\",\"view-haslogin-button-loging-button-text\":\"快速进入\",\"view-akey-login-push-success-confirm-tip\":\"请在手机上确认登录\",\"view-login-form-checkcode-title\":\"验证码\",\"error-network-busy\":\"网络繁忙，请稍后重试\",\"error-send-verification-code-first\":\"请先发送短信验证码\",\"view-login-haslogin-title\":\"检测到您的以下帐号已登录，请直接进入：\"};\\n\\n    </script>\\n\\n\\n<script type=\"text/javascript\" charset=\"utf-8\" src=\"https://g.alicdn.com/vip/havana-nlogin/0.5.39/index.js\"></script>\\n            </div>\\n        </div>\\n    </div>\\n\\n    \\n\\n    <div class=\"footer\">\\n\\n                    <div class=\"footer-hd\">\\n    <p>\\n        <a href=\"http://page.1688.com/shtml/about/ali_group1.shtml\">阿里巴巴集团</a>\\n        <b>|</b>\\n        <a href=\"http://www.alibaba.com\">阿里巴巴国际站</a>\\n        <b>|</b>\\n        <a href=\"http://www.1688.com\">阿里巴巴中国站</a>\\n        <b>|</b>\\n        <a href=\"http://www.aliexpress.com\">全球速卖通</a>\\n        <b>|</b>\\n        <a href=\"http://www.taobao.com\">淘宝网</a>\\n        <b>|</b>\\n        <a href=\"http://www.tmall.com\">天猫</a>\\n        <b>|</b>\\n        <a href=\"http://ju.taobao.com\">聚划算</a>\\n        <b>|</b>\\n        <a href=\"http://www.etao.com\">一淘</a>\\n        <b>|</b>\\n        <a href=\"http://www.alimama.com\">阿里妈妈</a>\\n        <b>|</b>\\n        <a href=\"https://www.fliggy.com\">飞猪</a>\\n        <b>|</b>\\n        <a href=\"http://www.xiami.com\">虾米</a>\\n        <b>|</b>\\n        <a href=\"http://www.aliyun.com\">阿里云计算</a>\\n        <b>|</b>\\n        <a href=\"http://www.yunos.com\">云OS</a>\\n        <b>|</b>\\n        <a href=\"http://www.net.cn\">万网</a>\\n        <b>|</b>\\n        <a href=\"http://www.alipay.com\">支付宝</a>\\n        <b>|</b>\\n        <a href=\"http://www.laiwang.com/\">来往</a>\\n    </p>\\n</div>\\n<div class=\"footer-bd\">\\n    <p>\\n        <span><a href=\"https://www.taobao.com/tbhome/page/about/home\" rel=\"noopener noreferrer\">关于淘宝</a></span><span><a href=\"https://www.taobao.com/tbhome/page/about/partner?spm=a21bo.9614792.102.5.ed410c5siU20Y\" rel=\"noopener noreferrer\">合作伙伴</a></span><span><a href=\"http://pro.taobao.com\" rel=\"noopener noreferrer\">营销中心</a></span><span><a href=\"http://jubao.alibaba.com/internet/readme.htm?site=taobao\" rel=\"noopener noreferrer\">廉正举报</a></span><span><a href=\"https://consumerservice.taobao.com/\" rel=\"noopener noreferrer\">联系客服</a></span><span><a href=\"http://open.taobao.com\" rel=\"noopener noreferrer\">开放平台</a></span><span><a href=\"http://www.taobao.com/about/join.php\" rel=\"noopener noreferrer\">诚征英才</a></span><span><a href=\"http://consumerservice.taobao.com/contact-us\" rel=\"noopener noreferrer\">联系我们</a></span><span><a href=\"https://www.taobao.com/tbhome/page/sitemap\" rel=\"noopener noreferrer\">网站地图</a></span><span><a href=\"https://terms.alicdn.com/legal-agreement/terms/suit_bu1_taobao/suit_bu1_taobao201703241622_61002.html\" rel=\"noopener noreferrer\">隐私权政策</a></span><span><a href=\"https://terms.alicdn.com/legal-agreement/terms/suit_bu1_taobao/suit_bu1_taobao201811121436_80276.html\" rel=\"noopener noreferrer\">法律声明</a></span><span><a href=\"http://ipp.alibabagroup.com/\" rel=\"noopener noreferrer\">知识产权</a></span>\\n        <b>|</b> <em>&copy; 2003-现在 Taobao.com 版权所有</em>\\n    </p>\\n    <p><span><a href=\"http://www.beian.miit.gov.cn\" rel=\"noopener noreferrer\">增值电信业务经营许可证：浙B2-20080224</a></span><b>|</b><span><a href=\"http://www.beian.miit.gov.cn\" rel=\"noopener noreferrer\">增值电信业务经营许可证（跨地区）： B2-20150210</a></span><b>|</b><span><a href=\"http://sq.ccm.gov.cn/ccnt/sczr/service/business/emark/toDetail/2E7819FC84674D5980464916C24B7E3E\" rel=\"noopener noreferrer\">浙网文（2019）1033-086号</a></span><b>|</b><span>浙江省网络食品销售第三方平台提供者备案：浙网食A33010001</span></p><p><span>互联网药品信息服务资格证书（浙）-经营性-2018-0010</span><b>|</b><span>短消息类服务接入代码使用证书：号【2016】00154-A01</span><b>|</b><span>信息网络传播视听许可证：1109364号</span><b>|</b><span>出版物网络交易平台服务经营备案号：新出发浙备字第002号</span></p><p><span>\\n            <a target=\"_blank\" href=\"http://www.beian.gov.cn/portal/registerSystemInfo?recordcode=33010002000078\" rel=\"noopener noreferrer\">\\n              <span class=\"tb-footer-mod\" style=\"background-position:-861px 0px; width:20px; height: 20px; \"></span>\\n              浙公网安备 33010002000078号\\n            </a></span><b>|</b><span>广播电视节目制作经营许可证（浙）字第01012号</span><b>|</b><span>市场名称登记证：工商网市字3301004120号</span><b>|</b><span>医疗器械网络交易服务第三方平台备案：（浙）网械平台备字[2018]第00004号</span></p>\\n</div>\\n<div class=\"footer-ft\" style=\"font-size:40px;\">\\n    <a target=\"_blank\" href=\"http://www.pingpinganan.gov.cn/\" rel=\"noopener noreferrer\"\\n       style=\"margin-left:15px; display:inline-block; background-position:0px 0px; width:36px; height:40px;  background-image: url(http://img.alicdn.com/tps/i1/T1FeW3XXNfXXXXXXXX-36-36.gif);\">\\n    </a>\\n    <a target=\"_blank\" href=\"http://idinfo.zjamr.zj.gov.cn//bscx.do?method=lzxx&amp;id=3301843301002003002431\"\\n       class=\"tb-footer-mod\" rel=\"noopener noreferrer\"\\n       style=\"margin-left:15px; display:inline-block; height: 40px; background-position:0px 0px; width:30px; background-image: url(https://img.alicdn.com/tfs/TB1EPnIQXXXXXaSXpXXXXXXXXXX-1133-35.jpg);\">\\n    </a>\\n    <a target=\"_blank\"\\n       href=\"http://idinfo.zjaic.gov.cn/bscx.do?spm=1.7274553.1997523009.29.alN7ce&amp;method=hddoc&amp;id=33018400000067\"\\n       class=\"tb-footer-mod\" rel=\"noopener noreferrer\" style=\"background-position:-40px 0px; width:33px; margin-left:15px; display:inline-block; height: 40px; background-image: url(https://img.alicdn.com/tfs/TB1EPnIQXXXXXaSXpXXXXXXXXXX-1133-35.jpg);\">\\n    </a>\\n    <a target=\"_blank\" href=\"http://www.theclimategroup.org.cn/about/friend?spm=1.7274553.1997523009.30.alN7ce\"\\n       class=\"tb-footer-mod\" rel=\"noopener noreferrer\" style=\"background-position:-80px 0px; width:50px; margin-left:15px; display:inline-block; height: 40px; background-image: url(https://img.alicdn.com/tfs/TB1EPnIQXXXXXaSXpXXXXXXXXXX-1133-35.jpg);\">\\n    </a>\\n    <a target=\"_blank\"\\n       href=\"https://ss.knet.cn/verifyseal.dll?spm=1.7274553.1997523009.31.alN7ce&amp;&amp;sn=2010062300100001357&amp;pa=20100701\"\\n       class=\"tb-footer-mod\" rel=\"noopener noreferrer\" style=\"background-position:-140px 0px; width:83px; margin-left:15px; display:inline-block; height: 40px; background-image: url(https://img.alicdn.com/tfs/TB1EPnIQXXXXXaSXpXXXXXXXXXX-1133-35.jpg);\">\\n    </a>\\n    <a target=\"_blank\" href=\"http://report.12377.cn:13225/toreportinputNormal_anis.do\" class=\"tb-footer-mod\"\\n       rel=\"noopener noreferrer\"\\n       style=\"background-position:0px -18px; width:250px; background-image: url(//img.alicdn.com/tfs/TB1N7kwRVXXXXbAapXXXXXXXXXX-500-127.png_250x250); margin-left:15px; display:inline-block; height: 40px;\">\\n    </a>\\n    <a target=\"_blank\" href=\"http://www.12377.cn/node_548446.htm\" class=\"tb-footer-mod\" rel=\"noopener noreferrer\"\\n       style=\"background-position:-650px 0px; width:105px; margin-left:15px; display:inline-block; height: 40px; background-image: url(https://img.alicdn.com/tfs/TB1EPnIQXXXXXaSXpXXXXXXXXXX-1133-35.jpg);\">\\n    </a>\\n    <a target=\"_blank\"\\n       href=\"http://sq.ccm.gov.cn/ccnt/sczr/service/business/emark/toDetail/2E7819FC84674D5980464916C24B7E3E\"\\n       class=\"tb-footer-mod\" rel=\"noopener noreferrer\" style=\"background-position:-345px 0px; width:82px; margin-left:15px; display:inline-block; height: 40px; background-image: url(https://img.alicdn.com/tfs/TB1EPnIQXXXXXaSXpXXXXXXXXXX-1133-35.jpg);\">\\n    </a>\\n    <a target=\"_blank\" href=\"https://credit.szfw.org/CX20160715023573390688.html\" class=\"tb-footer-mod\"\\n       rel=\"noopener noreferrer\" style=\"background-position:-761px 0px; width:97px; margin-left:15px; display:inline-block; height: 40px; background-image: url(https://img.alicdn.com/tfs/TB1EPnIQXXXXXaSXpXXXXXXXXXX-1133-35.jpg);\">\\n    </a>\\n    <a target=\"_blank\" href=\"http://jb.ccm.gov.cn/\" class=\"tb-footer-mod\" rel=\"noopener noreferrer\"\\n       style=\"background-position:-884px 0px; width:249px; margin-left:15px; display:inline-block; height: 40px; background-image: url(https://img.alicdn.com/tfs/TB1EPnIQXXXXXaSXpXXXXXXXXXX-1133-35.jpg);\">\\n    </a>\\n</div>\\n<!-- #footer END -->\\n            </div>\\n\\n    <!-- host: alibabalogin011182056057.na62  --></body>\\n</html>', 'text')\n\n序号  \t价格      \t商品名称            \n"
    }
   ],
   "source": [
    "import requests\n",
    "import re\n",
    "\n",
    "def getHTMLText(url):\n",
    "\n",
    "    headers = {\n",
    "        'User-Agent': 'Mozilla/5.0 (Windows NT 10.0; Win64; x64; rv:70.0) Gecko/20100101 Firefox/70.0'\n",
    "    }\n",
    "    #cookies在元素审查，网络里面刷新，找请求头下面的Cookie\n",
    "    usercookies = 'cookie: _uab_collina=157305004701974521946953; _umdata=G91D1B8FCC2CCFC8B259BA5E28AA5CA3671D53C'        #这里需要使用客户端的淘宝登录cookies\n",
    "    cookies = {}\n",
    "    for a in usercookies.split(';'):\n",
    "        name, value = a.strip().split('=', 1)\n",
    "        cookies[name] = value\n",
    "    print(cookies)\n",
    "\n",
    "    try:\n",
    "        r = requests.get(url, headers=headers, cookies=cookies, timeout=60)\n",
    "        r.raise_for_status()  #如果有错误返回异常\n",
    "        print(r.status_code) #打印状态码\n",
    "        r.encoding = r.apparent_encoding\n",
    "        return r.text,'text'\n",
    "    except:\n",
    "        return 'failed'\n",
    "\n",
    "\n",
    "def parsePage(ilt, html):\n",
    "    try:\n",
    "        plt = re.findall(r'\\\"view_price\\\"\\:\\\"[\\d\\.]*\\\"', html)\n",
    "        tlt = re.findall(r'\\\"raw_title\\\"\\:\\\".*?\\\"', html)\n",
    "        for i in range(len(plt)):\n",
    "            price = eval(plt[i].split(':')[1])  # 意义是进行分割其冒号\n",
    "            title = eval(tlt[i].split(':')[1])\n",
    "            ilt.append([price, title])\n",
    "    except:\n",
    "        print(\"\")\n",
    "\n",
    "\n",
    "def printGoodsList(ilt):\n",
    "    tplt = \"{:4}\\t{:8}\\t{:16}\"\n",
    "    print(tplt.format(\"序号\", \"价格\", \"商品名称\"))  # 输出信息\n",
    "    count = 0\n",
    "    for g in ilt:\n",
    "        count = count + 1\n",
    "        print(tplt.format(count, g[0], g[1]))\n",
    "\n",
    "\n",
    "def main():\n",
    "    goods = '足球'\n",
    "    depth = 3\n",
    "    start_url = 'http://s.taobao.com/search?q={}&s='.format(goods)  # 找到起始页的url链接\n",
    "    infoList = []\n",
    "    for i in range(depth):  # 进行循环爬去每一页\n",
    "        try:\n",
    "            url = start_url + str(44 * i)\n",
    "            html = getHTMLText(url)\n",
    "            print(html)\n",
    "            parsePage(infoList, html)\n",
    "\n",
    "        except:\n",
    "            continue\n",
    "    printGoodsList(infoList)\n",
    "\n",
    "\n",
    "main()"
   ]
  },
  {
   "cell_type": "code",
   "execution_count": 48,
   "metadata": {},
   "outputs": [],
   "source": [
    "# 获取字体文件并转换为xml文件\n",
    "def get_font(page_url, page_num, proxies):\n",
    "    response = requests.get(url=page_url, headers=headers, proxies=proxies)\n",
    "    # 匹配 base64 编码的加密字体字符串\n",
    "    base64_string = response.text.split(\"base64,\")[1].split(\"'\")[0].strip()\n",
    "    # print(base64_string)\n",
    "    # 将 base64 编码的字体字符串解码成二进制编码\n",
    "    bin_data = base64.decodebytes(base64_string.encode())\n",
    "    # 保存为字体文件\n",
    "    with open('58font.woff', 'wb') as f:\n",
    "        f.write(bin_data)\n",
    "    print('第' + str(page_num) + '次访问网页，字体文件保存成功！')\n",
    "    # 获取字体文件，将其转换为xml文件\n",
    "    font = TTFont('58font.woff')\n",
    "    font.saveXML('58font.xml')\n",
    "    print('已成功将字体文件转换为xml文件！')\n",
    "    return response.text\n",
    "\n",
    "\n",
    "# 将加密字体编码与真实字体进行匹配\n",
    "def find_font():\n",
    "    # 以glyph开头的编码对应的数字\n",
    "    glyph_list = {\n",
    "        'glyph00001': '0',\n",
    "        'glyph00002': '1',\n",
    "        'glyph00003': '2',\n",
    "        'glyph00004': '3',\n",
    "        'glyph00005': '4',\n",
    "        'glyph00006': '5',\n",
    "        'glyph00007': '6',\n",
    "        'glyph00008': '7',\n",
    "        'glyph00009': '8',\n",
    "        'glyph00010': '9'\n",
    "    }\n",
    "    # 十个加密字体编码\n",
    "    unicode_list = ['0x9476', '0x958f', '0x993c', '0x9a4b', '0x9e3a', '0x9ea3', '0x9f64', '0x9f92', '0x9fa4', '0x9fa5']\n",
    "    num_list = []\n",
    "    # 利用xpath语法匹配xml文件内容\n",
    "    font_data = etree.parse('./58font.xml')\n",
    "    for unicode in unicode_list:\n",
    "        # 依次循环查找xml文件里code对应的name\n",
    "        result = font_data.xpath(\"//cmap//map[@code='{}']/@name\".format(unicode))[0]\n",
    "        # print(result)\n",
    "        # 循环字典的key，如果code对应的name与字典的key相同，则得到key对应的value\n",
    "        for key in glyph_list.keys():\n",
    "            if key == result:\n",
    "                num_list.append(glyph_list[key])\n",
    "    print('已成功找到编码所对应的数字！')\n",
    "    # print(num_list)\n",
    "    # 返回value列表\n",
    "    return num_list\n",
    "\n",
    "\n",
    "# 替换掉网页中所有的加密字体编码\n",
    "def replace_font(num, page_response):\n",
    "    # 9476 958F 993C 9A4B 9E3A 9EA3 9F64 9F92 9FA4 9FA5\n",
    "    result = page_response.replace('鑶', num[0]).replace('閏', num[1]).replace('餼', num[2]).replace('驋', num[3]).replace('鸺', num[4]).replace('麣', num[5]).replace('齤', num[6]).replace('龒', num[7]).replace('龤', num[8]).replace('龥', num[9])\n",
    "    print('已成功将所有加密字体替换！')\n",
    "    return result"
   ]
  },
  {
   "cell_type": "code",
   "execution_count": 49,
   "metadata": {},
   "outputs": [],
   "source": [
    "# 提取租房信息\n",
    "def parse_pages(pages):\n",
    "    num = 0\n",
    "    soup = BeautifulSoup(pages, 'lxml')\n",
    "    # 查找到包含所有租房的li标签\n",
    "    all_house = soup.find_all('li', class_='house-cell')\n",
    "    for house in all_house:\n",
    "        # 标题\n",
    "        # title = house.find('a', class_='strongbox').text.strip()\n",
    "        # print(title)\n",
    "        # 价格\n",
    "        price = house.find('div', class_='money').text.strip()\n",
    "        price = str(price)\n",
    "        print(price)\n",
    "        # 户型和面积\n",
    "        layout = house.find('p', class_='room').text.replace(' ', '')\n",
    "        layout = str(layout)\n",
    "        print(layout)\n",
    "        # 楼盘和地址\n",
    "        address = house.find('p', class_='infor').text.replace(' ', '').replace('\\n', '')\n",
    "        address = str(address)\n",
    "        print(address)\n",
    "        num += 1\n",
    "        print('第' + str(num) + '条数据爬取完毕，暂停3秒！')\n",
    "        time.sleep(3)\n",
    "\n",
    "        with open('58.txt', 'a+', encoding='utf-8') as f:          #这里需encoding编码为utf-8，因网络读取的文本和写入的文本编码格式不一；a+继续在文本底部追加内容。\n",
    "            f.write(price + '\\t' + layout + '\\t' + address + '\\n')"
   ]
  },
  {
   "cell_type": "code",
   "execution_count": 50,
   "metadata": {},
   "outputs": [],
   "source": [
    "def getiplists(page_num):  #爬取ip地址存到列表，爬取pages页\n",
    "    proxy_list = []\n",
    "    for page in range(1, page_num):\n",
    "        url = \"  \"+str(page)\n",
    "        r = requests.get(url, headers=headers)\n",
    "        soup = BeautifulSoup(r.text, 'lxml')\n",
    "        ips = soup.findAll('tr')\n",
    "        for x in range(5, len(ips)):\n",
    "            ip = ips[x]\n",
    "            tds = ip.findAll(\"td\")  #找到td标签\n",
    "            ip_temp = 'http://'+tds[1].contents[0]+\":\"+tds[2].contents[0]  #.contents找到子节点，tag之间的navigable也构成了节点\n",
    "            proxy_list.append(ip_temp)\n",
    "    proxy_list = set(proxy_list)  #去重\n",
    "    proxy_list = list(proxy_list)\n",
    "    print('已爬取到'+ str(len(proxy_list)) + '个ip地址')\n",
    "    return proxy_list\n",
    "#\n",
    "#通过更新proxies，作为参数更新到requests.get()中，可以一直刷新IP地址。\n",
    "\n",
    "\n"
   ]
  },
  {
   "cell_type": "code",
   "execution_count": 51,
   "metadata": {},
   "outputs": [
    {
     "output_type": "error",
     "ename": "NameError",
     "evalue": "name 'item' is not defined",
     "traceback": [
      "\u001b[0;31m---------------------------------------------------------------------------\u001b[0m",
      "\u001b[0;31mNameError\u001b[0m                                 Traceback (most recent call last)",
      "\u001b[0;32m<ipython-input-51-7704848f2ad3>\u001b[0m in \u001b[0;36m<module>\u001b[0;34m\u001b[0m\n\u001b[0;32m----> 1\u001b[0;31m \u001b[0mproxies\u001b[0m \u001b[0;34m=\u001b[0m \u001b[0;34m{\u001b[0m\u001b[0;34m'http'\u001b[0m\u001b[0;34m:\u001b[0m \u001b[0mitem\u001b[0m\u001b[0;34m,\u001b[0m\u001b[0;34m'https'\u001b[0m\u001b[0;34m:\u001b[0m \u001b[0mitem\u001b[0m\u001b[0;34m}\u001b[0m\u001b[0;34m\u001b[0m\u001b[0;34m\u001b[0m\u001b[0m\n\u001b[0m",
      "\u001b[0;31mNameError\u001b[0m: name 'item' is not defined"
     ]
    }
   ],
   "source": [
    "proxies = {'http': item,'https': item}"
   ]
  },
  {
   "cell_type": "code",
   "execution_count": null,
   "metadata": {},
   "outputs": [],
   "source": [
    "from IPython.display import HTML\n",
    "import requests\n",
    "\n",
    "headers = {\n",
    "    'authority': 'zhuanlan.zhihu.com',\n",
    "    'x-requested-with': 'fetch',\n",
    "    'x-ab-param': 'zr_search_topic=1;se_sug_term=0;tp_discover=1;tp_movie_ux=2;top_universalebook=1;top_test_4_liguangyi=1;ug_follow_topic_1=2;qap_question_visitor= 0;se_wil_act=0;se_aa_base=0;se_entity22=1;se_bsi=0;tp_topic_style=0;tsp_ad_cardredesign=0;pf_creator_card=1;zw_sameq_sorce=995;se_searchvideo=3;tp_club_entrance=1;tsp_ios_cardredesign=0;zr_slot_training=2;se_vdnn_4=0;top_hotcommerce=1;qap_labeltype=1;zr_ans_rec=gbrank;li_panswer_topic=0;zr_rec_answer_cp=open;se_whitelist=1;se_content0=1;tp_club__entrance2=1;tp_topic_tab_new=0-0-0;li_answer_card=0;se_mobilecard=0;top_quality=0;ls_fmp4=0;tp_topic_tab=0;tp_dingyue_video=0;pf_fuceng=1;li_video_section=1;zr_search_paid=1;se_searchwiki=0;tp_contents=1;tsp_hotlist_ui=3;zr_expslotpaid=5;zr_topic_rpc=0;tp_meta_card=0;zr_zr_search_sims=0;zr_slotpaidexp=1;soc_feed_intelligent=1;ls_recommend_test=4;se_click_v_v=1;tp_move_scorecard=0;se_adsrank=4;li_vip_verti_search=0;zr_test_aa1=1;se_bert_eng=0;se_major=0;se_topicfeed=0;se_colorfultab=1;li_svip_cardshow=1;li_viptab_name=0;li_se_section=1;tp_club_top=0;top_root=0;li_catalog_card=1;li_yxzl_new_style_a=1;se_v045=0;tp_club_qa_entrance=1;pf_adjust=1;se_v_rate=0;li_car_meta=0;li_svip_tab_search=1;se_col_boost=1;li_salt_hot=1;tp_club_feed=0;tp_m_intro_re_topic=1;li_paid_answer_exp=0;se_video200=0;se_videobox=0;tp_club_bt=0;ls_video_commercial=0;li_ebook_gen_search=2;se_web0answer=0;se_oneboxtopic=1;se_v040_2=2;tp_sft=a;soc_notification=1;pf_profile2_tab=0;top_v_album=1;pf_noti_entry_num=0;zr_search_sims=0;se_college=default;zr_training_boost=true;se_cla_v2=1;zr_km_answer=open_cvr;zr_training_first=false;se_hi_trunc=0;li_topics_search=0;zr_search_sim2=2;pf_newguide_vertical=0;qap_question_author=0;zr_rel_search=base;se_multi_images=0;se_ffzx_jushen1=0;se_v040=0;tp_header_style=1;ug_newtag=1;ls_videoad=2;zr_art_rec=base;zr_intervene=0;tp_club_fdv4=0;se_cardrank_3=1;top_ebook=0;pf_foltopic_usernum=0',\n",
    "    'x-zse-86': '1.0_a_NBrer86M2YoXYq0GtBnqUqg9OfbLY8K020e4H8r8Sf',\n",
    "    'user-agent': 'Mozilla/5.0 (Macintosh; Intel Mac OS X 10_15_4) AppleWebKit/537.36 (KHTML, like Gecko) Chrome/83.0.4103.116 Safari/537.36',\n",
    "    'x-zse-83': '3_2.0',\n",
    "    'accept': '*/*',\n",
    "    'sec-fetch-site': 'same-origin',\n",
    "    'sec-fetch-mode': 'cors',\n",
    "    'sec-fetch-dest': 'empty',\n",
    "    'referer': 'https://zhuanlan.zhihu.com/p/53005534',\n",
    "    'accept-language': 'zh-CN,zh;q=0.9,en-US;q=0.8,en;q=0.7',\n",
    "    'cookie': '_zap=666b4df7-5178-4474-bf79-3389b1724629; d_c0=\"AOAn9UAhPxCPTtwFskcykIWdWlBgp80KgOQ=|1571894482\"; z_c0=\"2|1:0|10:1578900097|4:z_c0|92:Mi4xb2MxQUF3QUFBQUFBNENmMVFDRV9FQ1lBQUFCZ0FsVk5nV2dKWHdCdXd3MHl6TlFhOVZ5ZTNuX1lIekRlR0hJVzJB|5af0106830c2598dd54143c8995882375cacabd1c84bba5b12ce16eb88562b7e\"; _ga=GA1.2.517178866.1583166689; tst=r; _xsrf=vUn4SjR4tHociRthfGZZrSDiNJsGfqVP; q_c1=c9fe6af287b14e47bbaa9e7663588f92|1592025731000|1581208340000; _gid=GA1.2.2003166856.1593325634; Hm_lvt_98beee57fd2ef70ccdd5ca52b9740c49=1593506264,1593506661,1593506747,1593506750; _gat_gtag_UA_149949619_1=1; KLBRSID=fe0fceb358d671fa6cc33898c8c48b48|1593591617|1593591573; Hm_lpvt_98beee57fd2ef70ccdd5ca52b9740c49=1593591618',\n",
    "}\n",
    "\n",
    "params = (\n",
    "    ('include', 'data[*].article.column'),\n",
    "    ('limit', '12'),\n",
    "    ('offset', '0'),\n",
    ")\n",
    "\n",
    "response = requests.get('https://zhuanlan.zhihu.com/api/articles/53005534/recommendation', headers=headers, params=params)\n",
    "\n",
    "#NB. Original query string below. It seems impossible to parse and\n",
    "#reproduce query strings 100% accurately so the one below is given\n",
    "#in case the reproduced version is not \"correct\".\n",
    "# response = requests.get('https://zhuanlan.zhihu.com/api/articles/53005534/recommendation?include=data%5B*%5D.article.column&limit=12&offset=0', headers=headers)\n"
   ]
  }
 ],
 "metadata": {
  "language_info": {
   "codemirror_mode": {
    "name": "ipython",
    "version": 3
   },
   "file_extension": ".py",
   "mimetype": "text/x-python",
   "name": "python",
   "nbconvert_exporter": "python",
   "pygments_lexer": "ipython3",
   "version": "3.6.2-final"
  },
  "orig_nbformat": 2,
  "kernelspec": {
   "name": "python36264bitdeeplearningconda291cf55c2ab64e6699f94edfaa9453b1",
   "display_name": "Python 3.6.2 64-bit ('deeplearning': conda)"
  }
 },
 "nbformat": 4,
 "nbformat_minor": 2
}