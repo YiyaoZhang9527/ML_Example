{
 "cells": [
  {
   "cell_type": "code",
   "execution_count": 1,
   "metadata": {},
   "outputs": [],
   "source": [
    "import requests\n",
    "\n",
    "headers = {\n",
    "    'authority': 'www2.deepl.com',\n",
    "    'user-agent': 'Mozilla/5.0 (Macintosh; Intel Mac OS X 10_15_4) AppleWebKit/537.36 (KHTML, like Gecko) Chrome/83.0.4103.116 Safari/537.36',\n",
    "    'content-type': 'text/plain',\n",
    "    'accept': '*/*',\n",
    "    'origin': 'https://www.deepl.com',\n",
    "    'sec-fetch-site': 'same-site',\n",
    "    'sec-fetch-mode': 'cors',\n",
    "    'sec-fetch-dest': 'empty',\n",
    "    'referer': 'https://www.deepl.com/translator',\n",
    "    'accept-language': 'zh-CN,zh;q=0.9,en-US;q=0.8,en;q=0.7',\n",
    "    'cookie': '_ga=GA1.2.1893548856.1592189186; LMTBID=dd7774cf-5f05-469d-a6e9-58839dcf2984|baf625c7a2f460fadbfea628bb529e57; _gid=GA1.2.2144464739.1593408842',\n",
    "}\n",
    "\n",
    "data = {\"jsonrpc\":\"2.0\",\"method\": \"LMT_handle_jobs\",\"params\":{\"jobs\":[{\"kind\":\"alternatives_at_position\",\"de_sentence_beginning\":\"Trump says: you are the losers, I am the \",\"raw_en_sentence\":\"\\u7279\\u6717\\u666E\\u8BF4\\uFF1A\\u4F60\\u4EEC\\u662F\\u5931\\u8D25\\u8005\\uFF0C\\u6211\\u662F\\u7CBE\\u82F1\",\"raw_en_context_before\":[],\"raw_en_context_after\":[]}],\"lang\":{\"source_lang_computed\":\"ZH\",\"target_lang\":\"EN\"},\"priority\":1,\"commonJobParams\":{},\"timestamp\":1593408945245},\"id\":93760007,}\n",
    "\n",
    "response = requests.post('https://www2.deepl.com/jsonrpc', headers=headers, data=data)\n"
   ]
  },
  {
   "cell_type": "code",
   "execution_count": 2,
   "metadata": {},
   "outputs": [
    {
     "data": {
      "text/plain": [
       "''"
      ]
     },
     "execution_count": 2,
     "metadata": {},
     "output_type": "execute_result"
    }
   ],
   "source": [
    "response.text"
   ]
  },
  {
   "cell_type": "code",
   "execution_count": null,
   "metadata": {},
   "outputs": [],
   "source": []
  }
 ],
 "metadata": {
  "kernelspec": {
   "display_name": "Python 3",
   "language": "python",
   "name": "python3"
  },
  "language_info": {
   "codemirror_mode": {
    "name": "ipython",
    "version": 3
   },
   "file_extension": ".py",
   "mimetype": "text/x-python",
   "name": "python",
   "nbconvert_exporter": "python",
   "pygments_lexer": "ipython3",
   "version": "3.8.3"
  }
 },
 "nbformat": 4,
 "nbformat_minor": 4
}
