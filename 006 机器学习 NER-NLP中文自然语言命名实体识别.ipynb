{
 "cells": [
  {
   "cell_type": "code",
   "execution_count": 2,
   "metadata": {},
   "outputs": [],
   "source": [
    "import numpy as np\n",
    "import matplotlib as plt"
   ]
  },
  {
   "cell_type": "markdown",
   "metadata": {},
   "source": [
    "<img src=\"/Users/manmanzhang/Library/Mobile Documents/com~apple~CloudDocs/MyProject/InferenceSystem/src/I5_algorithm/im/66A89C51-8FF2-4FA0-B6E3-15F3FBEE2FF0.png\">"
   ]
  },
  {
   "cell_type": "code",
   "execution_count": 8,
   "metadata": {},
   "outputs": [
    {
     "data": {
      "text/plain": [
       "{'O': '其他非实体(other)',\n",
       " '人名': 'I-PER',\n",
       " '人名(person)': 'B-PER',\n",
       " '地名': 'I-LOC',\n",
       " '地名(location)': 'B-LOC',\n",
       " '组织或者公司': 'I-ORG',\n",
       " '组织或者公司(organization)': 'B-ORG'}"
      ]
     },
     "execution_count": 8,
     "metadata": {},
     "output_type": "execute_result"
    }
   ],
   "source": [
    "label = {\"组织或者公司(organization)\":\"B-ORG\"\n",
    "    ,\"组织或者公司\":\"I-ORG\"\n",
    "    ,\"人名(person)\":\"B-PER\"\n",
    "    ,\"人名\":\"I-PER\"\n",
    "    ,\"O\":\"其他非实体(other)\"\n",
    "    ,\"地名(location)\":\"B-LOC\"\n",
    "    ,\"地名\":\"I-LOC\"}\n",
    "label"
   ]
  },
  {
   "cell_type": "markdown",
   "metadata": {},
   "source": [
    "## I是表示实体中间或者结尾的部分，B是表示begin实体开头的那部分\n",
    "## 例：自(B-lOC)贸(I-LOC)区(I-LOC)\n",
    "## 错误：自(B-PER)贸(I-LOC)区(I-LOC)\n",
    "## 当只有一个语言模型比如 BERT或者LSTM的时候，会出现第错的例子的情况，所以需要概率图模型来纠正\n",
    "## 标签是隐状态，文本是显状态，HHM描述的是隐藏的状态生成的观测的结果顺序\n",
    "# 设：\n",
    "# $ V_abs = {V_1,V_2...V_m} == V_{obsevation} $"
   ]
  }
 ],
 "metadata": {
  "kernelspec": {
   "display_name": "Python 3.8.5 64-bit ('torch38': conda)",
   "language": "python",
   "name": "python38564bittorch38conda6e4b7cfd9c884ef39c11839b3d47218e"
  },
  "language_info": {
   "codemirror_mode": {
    "name": "ipython",
    "version": 3
   },
   "file_extension": ".py",
   "mimetype": "text/x-python",
   "name": "python",
   "nbconvert_exporter": "python",
   "pygments_lexer": "ipython3",
   "version": "3.8.5"
  }
 },
 "nbformat": 4,
 "nbformat_minor": 4
}
