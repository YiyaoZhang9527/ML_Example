{
 "cells": [
  {
   "cell_type": "code",
   "execution_count": 1,
   "metadata": {
    "tags": []
   },
   "outputs": [
    {
     "name": "stdout",
     "output_type": "stream",
     "text": [
      "[1.00000001 0.99999998 1.00000001]\n"
     ]
    }
   ],
   "source": [
    "from scipy.optimize import fsolve\n",
    "def func(i):\n",
    "     x, y, z = i[0], i[1], i[2]\n",
    "     return [\n",
    "             x + 2 * y + 3 * z - 6,\n",
    "             5 * (x ** 2) + 6 * (y ** 2) + 7 * (z ** 2) - 18,\n",
    "             9 * (x ** 3) + 10 * (y ** 3) + 11 * (z ** 3) - 30\n",
    "            ]\n",
    "r = fsolve(func,[0, 0, 0])\n",
    "print(r)"
   ]
  },
  {
   "cell_type": "code",
   "execution_count": 1,
   "metadata": {},
   "outputs": [],
   "source": [
    "import sympy\n",
    "from sympy import symbols"
   ]
  },
  {
   "cell_type": "code",
   "execution_count": 2,
   "metadata": {},
   "outputs": [
    {
     "data": {
      "text/plain": [
       "[1, -5/6 - sqrt(47)*I/6, -5/6 + sqrt(47)*I/6]"
      ]
     },
     "execution_count": 2,
     "metadata": {},
     "output_type": "execute_result"
    }
   ],
   "source": [
    "x = symbols('x')\n",
    "sympy.solve(x + 2 * (x ** 2) + 3 * (x ** 3) - 6, x)"
   ]
  },
  {
   "cell_type": "code",
   "execution_count": null,
   "metadata": {},
   "outputs": [],
   "source": []
  }
 ],
 "metadata": {
  "kernelspec": {
   "display_name": "Python 3",
   "language": "python",
   "name": "python3"
  },
  "language_info": {
   "codemirror_mode": {
    "name": "ipython",
    "version": 3
   },
   "file_extension": ".py",
   "mimetype": "text/x-python",
   "name": "python",
   "nbconvert_exporter": "python",
   "pygments_lexer": "ipython3",
   "version": "3.8.5"
  }
 },
 "nbformat": 4,
 "nbformat_minor": 4
}
