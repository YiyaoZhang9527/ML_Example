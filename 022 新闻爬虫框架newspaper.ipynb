{
 "metadata": {
  "language_info": {
   "codemirror_mode": {
    "name": "ipython",
    "version": 3
   },
   "file_extension": ".py",
   "mimetype": "text/x-python",
   "name": "python",
   "nbconvert_exporter": "python",
   "pygments_lexer": "ipython3",
   "version": "3.7.6-final"
  },
  "orig_nbformat": 2,
  "kernelspec": {
   "name": "pycharm-66c53067",
   "display_name": "PyCharm (InferenceSystem)"
  }
 },
 "nbformat": 4,
 "nbformat_minor": 2,
 "cells": [
  {
   "cell_type": "markdown",
   "metadata": {},
   "source": [
    "url = 'https://www.washingtonpost.com/powerpost/trump-to-make-new-offer-to-democrats-as-government-shutdown-drags-on/2019/01/19/2cde029e-1bf3-11e9-9ebf-c5fed1b7a081_story.html?utm_term=.4db5c2055c6d'\n",
    "\n",
    "# 创建文章对象\n",
    "article = Article(url)\n",
    "\n",
    "# 下载网页\n",
    "article.download()\n",
    "\n",
    "# 打印html文档\n",
    "print(article.html)\n",
    "\n",
    "# 网页解析\n",
    "article.parse()\n",
    "\n",
    "# 标题\n",
    "print(article.title)\n",
    "\n",
    "# # 作者\n",
    "print(article.authors)\n",
    "\n",
    "# 发布日期\n",
    "print(article.publish_date)\n",
    "\n",
    "# 正文\n",
    "print(article.text)\n",
    "\n",
    "# 配图\n",
    "print(article.top_image)\n",
    "\n",
    "# 视频\n",
    "print(article.movies)\n",
    "\n",
    "\n",
    "# 自然语言处理\n",
    "article.nlp()\n",
    "\n",
    "# 关键词\n",
    "print(article.keywords)\n",
    "\n",
    "# 文章摘要\n",
    "print(article.summary)"
   ]
  },
  {
   "cell_type": "markdown",
   "metadata": {},
   "source": [
    "import newspaper\n",
    "\n",
    "# 构建新闻源\n",
    "washingtonpost_paper = newspaper.build('https://www.washingtonpost.com')\n",
    "\n",
    "# 所有文章的url\n",
    "for article in washingtonpost_paper.articles:\n",
    "    print(article.url)\n",
    "\n",
    "# 文章分裂\n",
    "for category in washingtonpost_paper.category_urls():\n",
    "    print(category)"
   ]
  },
  {
   "cell_type": "markdown",
   "metadata": {},
   "source": [
    "# 1.0 临时爬取单文"
   ]
  },
  {
   "cell_type": "code",
   "execution_count": 20,
   "metadata": {
    "tags": []
   },
   "outputs": [],
   "source": [
    "## 用Article爬取单条新闻\n",
    "from newspaper import Article\n",
    "# 目标新闻网址\n",
    "url = 'https://new.qq.com/omn/20200730/20200730A0TCON00.html'\n",
    "news = Article(url, language='zh')\n",
    "news.download()        # 加载网页\n",
    "news.parse()           # 解析网页"
   ]
  },
  {
   "cell_type": "markdown",
   "metadata": {},
   "source": [
    "## 新闻题目"
   ]
  },
  {
   "cell_type": "code",
   "execution_count": 21,
   "metadata": {},
   "outputs": [
    {
     "output_type": "execute_result",
     "data": {
      "text/plain": "'中共中央政治局召开会议 习近平主持'"
     },
     "metadata": {},
     "execution_count": 21
    }
   ],
   "source": [
    "news.title"
   ]
  },
  {
   "cell_type": "markdown",
   "metadata": {},
   "source": [
    "## 正文内容       "
   ]
  },
  {
   "cell_type": "code",
   "execution_count": 22,
   "metadata": {},
   "outputs": [
    {
     "output_type": "execute_result",
     "data": {
      "text/plain": "'新华社北京7月30日电 中共中央政治局7月30日召开会议，决定今年10月在北京召开中国共产党第十九届中央委员会第五次全体会议，主要议程是，中共中央政治局向中央委员会报告工作，研究关于制定国民经济和社会发展第十四个五年规划和二��三五 年远景目标的建议。会议分析研究当前经济形势，部署下半年经济工作。中共中央总书记习近平主持会议。\\n\\n会议认为，“十四五”时期是我国全面建成小康社会、实现第一个百年奋斗目标之后，乘势而上开启全面建设社会主义现代化国家新征程、向第二个百年奋斗目标进军的第一个五年。当前和今后一个时期，我国发展仍然处于战略机遇期，但机遇和挑战都有新的发展变化。当今世界正经历百年未有之大变局，和平与发展仍然是时代主题，同时国际环境日趋复杂，不稳定性不确定性明显增强。我国已进入高质量发展阶段，发展具有多方面优势和条件，同时发展不平衡不充分问题仍然突出。要深刻认识我国社会主要矛盾发展变化带来的新特征新要求，增强机遇意识和风险意识，把握发展规律，发扬斗争精神，善于在危机中育新机、于变局中开新局，抓住机遇，应对挑战，趋利避害，奋勇前进。\\n\\n会议强调，推动“十四五”时期我国经济社会发展，必须高举中国特色社会主义伟大旗帜，深入贯彻党的十九大和十九届二中、三中、四中全会精神，坚持以马克思列宁主义、毛泽东思想、邓小平理论、“三个代表”重要思想、科学发展观、习近平新时代中国特色社会主义思想为指导，全面贯彻党的基本理论、基本路线、基本方略，坚定不移贯彻新发展理念，统筹发展和安全，推进国家治理体系和治理能力现代化，实现经济行稳致远、社会安定和谐，为全面建设社会主义现代化国家开好局、起好步。\\n\\n会议指出，推动“十四五”时期经济社会发展，必须坚持和完善党领导经济社会发展的体制机制，为实现高质量发展提供根本保证。必须始终做到发展为了人民、发展依靠人民、发展成果由人民共享，不断实现人民对美好生活的向往。必须把新发展理念贯穿发展全过程和各领域，实现更高质量、更有效率、更加公平、更可持续、更为安全的发展。必须坚定不移推进改革，继续扩大开放，持续增强发展动力和活力。必须加强前瞻性思考、全局性谋划、战略性布局、整体性推进，实现发展规模、速度、质量、结构、效益、安全相统一。\\n\\n会议强调，今年以来，面对新冠肺炎疫情严重冲击，我们坚持把人民生命安全和身体健康放在第一位，加大宏观政策应对力度，扎实做好“六稳”工作、全面落实“六保”任务，统筹疫情防控和经济社会发展工作取得重大成果。经济稳步恢复，复工复产逐月好转，二季度经济增长明显好于预期，三大攻坚战扎实推进，经济结构持续优化，产业数字化、智能化转型明显加快，改革开放继续深化，人民生活得到有力保障。这充分表明，党中央决策部署是正确的，党的领导是坚强有力的，我国经济韧性是强劲的，中国人民是拥有伟大创造力的，中国特色社会主义制度是具有强大生命力的。\\n\\n会议指出，当前经济形势仍然复杂严峻，不稳定性不确定性较大，我们遇到的很多问题是中长期的，必须从持久战的角度加以认识，加快形成以国内大循环为主体、国内国际双循环相互促进的新发展格局，建立疫情防控和经济社会发展工作中长期协调机制，坚持结构调整的战略方向，更多依靠科技创新，完善宏观调控跨周期设计和调节，实现稳增长和防风险长期均衡。\\n\\n会议强调，做好下半年经济工作，要坚持稳中求进工作总基调，坚持新发展理念，更好统筹疫情防控和经济社会发展工作，坚持以供给侧结构性改革为主线，坚持深化改革开放，牢牢把握扩大内需这个战略基点，大力保护和激发市场主体活力，扎实做好“六稳”工作，全面落实“六保”任务，推动经济高质量发展，维护社会稳定大局，努力完成全年经济社会发展目标任务。\\n\\n会议指出，要确保宏观政策落地见效。财政政策要更加积极有为、注重实效。要保障重大项目建设资金，注重质量和效益。货币政策要更加灵活适度、精准导向。要保持货币供应量和社会融资规模合理增长，推动综合融资成本明显下降。要确保新增融资重点流向制造业、中小微企业。宏观经济政策要加强协调配合，促进财政、货币政策同就业、产业、区域等政策形成集成效应。\\n\\n会议要求，要毫不放松抓好常态化疫情防控，健全常态化疫情防控机制，强化医疗卫生物资储备，加强疫情防控国际合作，以实际行动推动构建人类卫生健康共同体。要持续扩大国内需求，克服疫情影响，扩大最终消费，为居民消费升级创造条件。要着眼长远，积极扩大有效投资，鼓励社会资本参与。要加快新型基础设施建设，深入推进重大区域发展战略，加快国家重大战略项目实施步伐。要以新型城镇化带动投资和消费需求，推动城市群、都市圈一体化发展体制机制创新。要提高产业链供应链稳定性和竞争力，更加注重补短板和锻长板。要全力巩固农业基础地位。要更大力度推进改革开放，用深化改革的办法优化营商环境，实施好国有企业改革三年行动方案，继续扩大开放。要推进资本市场基础制度建设，依法从严打击证券违法活动，促进资本市场平稳健康发展。要坚持房子是用来住的、不是用来炒的定位，促进房地产市场平稳健康发展。要做好民生保障，做好困难群众基本生活保障工作，采取有效措施缓解疫情对青年人就业影响，强化外出农民工就业服务，引导返乡农民工就近就业。要加大脱贫攻坚力度，确保现行标准下农村贫困人口全部脱贫、贫困县全部摘帽。要继续打好污染防治攻坚战，推动实施一批长江、黄河生态保护重大工程，落实好长江十年禁渔。要抓好应急管理，强化安全生产。要有力组织防汛救灾，统筹抓好南北方江河安全度汛，精心谋划实施灾后恢复重建，确保人民生命财产安全。\\n\\n会议还研究了其他事项。'"
     },
     "metadata": {},
     "execution_count": 22
    }
   ],
   "source": [
    "news.text                                     "
   ]
  },
  {
   "cell_type": "markdown",
   "metadata": {},
   "source": [
    "## 新闻作者"
   ]
  },
  {
   "cell_type": "code",
   "execution_count": 23,
   "metadata": {},
   "outputs": [
    {
     "output_type": "execute_result",
     "data": {
      "text/plain": "[]"
     },
     "metadata": {},
     "execution_count": 23
    }
   ],
   "source": [
    "news.authors   "
   ]
  },
  {
   "cell_type": "markdown",
   "metadata": {},
   "source": [
    "## 新闻关键词"
   ]
  },
  {
   "cell_type": "code",
   "execution_count": 24,
   "metadata": {},
   "outputs": [
    {
     "output_type": "execute_result",
     "data": {
      "text/plain": "[]"
     },
     "metadata": {},
     "execution_count": 24
    }
   ],
   "source": [
    "news.keywords"
   ]
  },
  {
   "cell_type": "markdown",
   "metadata": {},
   "source": [
    "## 新闻摘要"
   ]
  },
  {
   "cell_type": "code",
   "execution_count": 25,
   "metadata": {},
   "outputs": [
    {
     "output_type": "execute_result",
     "data": {
      "text/plain": "''"
     },
     "metadata": {},
     "execution_count": 25
    }
   ],
   "source": [
    "news.summary   "
   ]
  },
  {
   "cell_type": "markdown",
   "metadata": {},
   "source": [
    "## 配图地址"
   ]
  },
  {
   "cell_type": "code",
   "execution_count": 26,
   "metadata": {},
   "outputs": [
    {
     "output_type": "execute_result",
     "data": {
      "text/plain": "'https://mat1.gtimg.com/www/icon/favicon2.ico'"
     },
     "metadata": {},
     "execution_count": 26
    }
   ],
   "source": [
    "news.top_image"
   ]
  },
  {
   "cell_type": "markdown",
   "metadata": {},
   "source": [
    "## 视频地址"
   ]
  },
  {
   "cell_type": "code",
   "execution_count": 27,
   "metadata": {},
   "outputs": [
    {
     "output_type": "execute_result",
     "data": {
      "text/plain": "[]"
     },
     "metadata": {},
     "execution_count": 27
    }
   ],
   "source": [
    "news.movies  "
   ]
  },
  {
   "cell_type": "markdown",
   "metadata": {},
   "source": [
    "## 发布日期"
   ]
  },
  {
   "cell_type": "code",
   "execution_count": 28,
   "metadata": {},
   "outputs": [
    {
     "output_type": "execute_result",
     "data": {
      "text/plain": "datetime.datetime(2020, 7, 30, 20, 0)"
     },
     "metadata": {},
     "execution_count": 28
    }
   ],
   "source": [
    "news.publish_date"
   ]
  },
  {
   "cell_type": "markdown",
   "metadata": {},
   "source": [
    "## 网页源代码"
   ]
  },
  {
   "cell_type": "code",
   "execution_count": 29,
   "metadata": {},
   "outputs": [
    {
     "output_type": "execute_result",
     "data": {
      "text/plain": "'<!DOCTYPE html>\\n<html lang=\"zh-CN\" dir=\"ltr\">\\n  <head>\\n    <title>中共中央政治局召开会议 习近平主持_腾讯新闻</title>\\n    <meta name=\"keywords\" content=\"中共中央政治局召开会议 习近平主持,中共中央政治局,习近平,新发展理念\">\\n    <meta name=\"description\" content=\"新华社北京7月30日电中共中央政治局7月30日召开会议，决定今年10月在北京召开中国共产党第十九届中央委员会第五次全体会议，主要议程是，中共中央政治局向中央委员会报告工作，研究关于制定国民经济和社会……\">\\n    <meta name=\"apub:time\" content=\"2020-7-30 20:07:02\">\\n    <meta name=\"apub:from\" content=\"default\">\\n    <meta http-equiv=\"X-UA-Compatible\" content=\"IE=Edge\" />\\r\\n<link rel=\"stylesheet\" href=\"//mat1.gtimg.com/pingjs/ext2020/dcom-static/build/static/css/static.css\" />\\r\\n<!--[if lte IE 8]><meta http-equiv=\"refresh\" content=\"0; url=/upgrade.htm\"><![endif]-->\\r\\n<!-- <meta name=\"sogou_site_verification\" content=\"SYWy6ahy7s\"/> -->\\r\\n<meta name=\"baidu-site-verification\" content=\"jJeIJ5X7pP\" />\\r\\n<link rel=\"shortcut icon\" href=\"//mat1.gtimg.com/www/icon/favicon2.ico\" />\\r\\n<link rel=\"stylesheet\" href=\"//vm.gtimg.cn/tencentvideo/txp/style/txp_desktop.css\" />\\r\\n<script src=\"//js.aq.qq.com/js/aq_common.js\"></script>\\r\\n<script>\\r\\n    // 判断如果是动态底层不加载此JS逻辑 2020/1/19\\r\\n    if(location.href.indexOf(\\'rain\\') === -1){\\r\\n        (function(){\\r\\n            var bp = document.createElement(\\'script\\');\\r\\n            var curProtocol = window.location.protocol.split(\\':\\')[0];\\r\\n            if (curProtocol === \\'https\\') {\\r\\n                bp.src = \\'https://zz.bdstatic.com/linksubmit/push.js\\';        \\r\\n            }\\r\\n            else {\\r\\n                bp.src = \\'http://push.zhanzhang.baidu.com/push.js\\';\\r\\n            }\\r\\n            var s = document.getElementsByTagName(\"script\")[0];\\r\\n            s.parentNode.insertBefore(bp, s);\\r\\n        })();\\r\\n    }\\r\\n</script>\\r\\n<script src=\"//mat1.gtimg.com/pingjs/ext2020/configF2017/5df6e3b3.js\" charset=\"utf-8\"></script>\\r\\n<script src=\"//mat1.gtimg.com/pingjs/ext2020/configF2017/5a978a31.js\" charset=\"utf-8\"></script>\\r\\n<script>window.conf_dcom = apub_5a978a31 </script><!--[if !IE]>|xGv00|b9dd434ff7daf1071dbd37c03c2cd4a9<![endif]-->\\r\\n<!--[if !IE]>|xGv00|038d6e161753081e56c192d04873c65c<![endif]-->\\n    <script>window.DATA = {\\n\\t\\t\"article_id\": \"20200730A0TCON\",\\n\\t\\t\"article_type\": \"0\",\\n\\t\\t\"title\": \"中共中央政治局召开会议 习近平主持\",\\n\\t\\t\"abstract\": null,\\n\\t\\t\"catalog1\": \"politics\",\\n\\t\\t\"catalog2\": \"politics_domestic\",\\n\\t\\t\"introduction\": \"\",\\n\\t\\t\"media\": \"新华社新闻\",\\n\\t\\t\"media_id\": \"10859191\",\\n\\t\\t\"pubtime\": \"2020-07-30 18:53:18\",\\n\\t\\t\"comment_id\": \"5644274227\",\\n\\t\\t\"tags\": \"中共中央政治局,习近平,新发展理念\",\\n\\t\\t\"political\": 1,\\n\\t\\t\"artTemplate\": null,\\n\\t\\t\"FztCompetition\": null,\\n\\t\\t\"FCompetitionName\": null,\\n\\t\\t\"cms_id\": \"20200730A0TCON00\",\\n\\t\\t\"apubTpl\": null,\\n\\t\\t\"videoArr\": []\\n}\\n      \\n    </script>\\n  </head>\\n  <body>\\n    <div id=\"TopNav\"></div>\\n    <div id=\"topAd\"></div>\\n    <div class=\"qq_conent clearfix\">\\n      <div class=\"LEFT\">\\n        <h1>中共中央政治局召开会议 习近平主持</h1>\\n        <div class=\"content clearfix\">\\n          <div class=\"LeftTool\" id=\"LeftTool\"></div>\\n          <!--内容-->\\n          <div class=\"content-article\">\\n            <!--导语-->\\n            <p class=\"one-p\">新华社北京7月30日电 中共中央政治局7月30日召开会议，决定今年10月在北京召开中国共产党第十九届中央委员会第五次全体会议，主要议程是，中共中央政治局向中央委员会报告工作，研究关于制定国民经济和社会发展第十四个五年规划和二��三五 年远景目标的建议。会议分析研究当前经济形势，部署下半年经济工作。中共中央总书记习近平主持会议。</p>\\n            <p class=\"one-p\">会议认为，“十四五”时期是我国全面建成小康社会、实现第一个百年奋斗目标之后，乘势而上开启全面建设社会主义现代化国家新征程、向第二个百年奋斗目标进军的第一个五年。当前和今后一个时期，我国发展仍然处于战略机遇期，但机遇和挑战都有新的发展变化。当今世界正经历百年未有之大变局，和平与发展仍然是时代主题，同时国际环境日趋复杂，不稳定性不确定性明显增强。我国已进入高质量发展阶段，发展具有多方面优势和条件，同时发展不平衡不充分问题仍然突出。要深刻认识我国社会主要矛盾发展变化带来的新特征新要求，增强机遇意识和风险意识，把握发展规律，发扬斗争精神，善于在危机中育新机、于变局中开新局，抓住机遇，应对挑战，趋利避害，奋勇前进。</p>\\n            <p class=\"one-p\">会议强调，推动“十四五”时期我国经济社会发展，必须高举中国特色社会主义伟大旗帜，深入贯彻党的十九大和十九届二中、三中、四中全会精神，坚持以马克思列宁主义、毛泽东思想、邓小平理论、“三个代表”重要思想、科学发展观、习近平新时代中国特色社会主义思想为指导，全面贯彻党的基本理论、基本路线、基本方略，坚定不移贯彻新发展理念，统筹发展和安全，推进国家治理体系和治理能力现代化，实现经济行稳致远、社会安定和谐，为全面建设社会主义现代化国家开好局、起好步。</p>\\n            <p class=\"one-p\">会议指出，推动“十四五”时期经济社会发展，必须坚持和完善党领导经济社会发展的体制机制，为实现高质量发展提供根本保证。必须始终做到发展为了人民、发展依靠人民、发展成果由人民共享，不断实现人民对美好生活的向往。必须把新发展理念贯穿发展全过程和各领域，实现更高质量、更有效率、更加公平、更可持续、更为安全的发展。必须坚定不移推进改革，继续扩大开放，持续增强发展动力和活力。必须加强前瞻性思考、全局性谋划、战略性布局、整体性推进，实现发展规模、速度、质量、结构、效益、安全相统一。</p>\\n            <p class=\"one-p\">会议强调，今年以来，面对新冠肺炎疫情严重冲击，我们坚持把人民生命安全和身体健康放在第一位，加大宏观政策应对力度，扎实做好“六稳”工作、全面落实“六保”任务，统筹疫情防控和经济社会发展工作取得重大成果。经济稳步恢复，复工复产逐月好转，二季度经济增长明显好于预期，三大攻坚战扎实推进，经济结构持续优化，产业数字化、智能化转型明显加快，改革开放继续深化，人民生活得到有力保障。这充分表明，党中央决策部署是正确的，党的领导是坚强有力的，我国经济韧性是强劲的，中国人民是拥有伟大创造力的，中国特色社会主义制度是具有强大生命力的。</p>\\n            <p class=\"one-p\">会议指出，当前经济形势仍然复杂严峻，不稳定性不确定性较大，我们遇到的很多问题是中长期的，必须从持久战的角度加以认识，加快形成以国内大循环为主体、国内国际双循环相互促进的新发展格局，建立疫情防控和经济社会发展工作中长期协调机制，坚持结构调整的战略方向，更多依靠科技创新，完善宏观调控跨周期设计和调节，实现稳增长和防风险长期均衡。</p>\\n            <p class=\"one-p\">会议强调，做好下半年经济工作，要坚持稳中求进工作总基调，坚持新发展理念，更好统筹疫情防控和经济社会发展工作，坚持以供给侧结构性改革为主线，坚持深化改革开放，牢牢把握扩大内需这个战略基点，大力保护和激发市场主体活力，扎实做好“六稳”工作，全面落实“六保”任务，推动经济高质量发展，维护社会稳定大局，努力完成全年经济社会发展目标任务。</p>\\n            <p class=\"one-p\">会议指出，要确保宏观政策落地见效。财政政策要更加积极有为、注重实效。要保障重大项目建设资金，注重质量和效益。货币政策要更加灵活适度、精准导向。要保持货币供应量和社会融资规模合理增长，推动综合融资成本明显下降。要确保新增融资重点流向制造业、中小微企业。宏观经济政策要加强协调配合，促进财政、货币政策同就业、产业、区域等政策形成集成效应。</p>\\n            <p class=\"one-p\">会议要求，要毫不放松抓好常态化疫情防控，健全常态化疫情防控机制，强化医疗卫生物资储备，加强疫情防控国际合作，以实际行动推动构建人类卫生健康共同体。要持续扩大国内需求，克服疫情影响，扩大最终消费，为居民消费升级创造条件。要着眼长远，积极扩大有效投资，鼓励社会资本参与。要加快新型基础设施建设，深入推进重大区域发展战略，加快国家重大战略项目实施步伐。要以新型城镇化带动投资和消费需求，推动城市群、都市圈一体化发展体制机制创新。要提高产业链供应链稳定性和竞争力，更加注重补短板和锻长板。要全力巩固农业基础地位。要更大力度推进改革开放，用深化改革的办法优化营商环境，实施好国有企业改革三年行动方案，继续扩大开放。要推进资本市场基础制度建设，依法从严打击证券违法活动，促进资本市场平稳健康发展。要坚持房子是用来住的、不是用来炒的定位，促进房地产市场平稳健康发展。要做好民生保障，做好困难群众基本生活保障工作，采取有效措施缓解疫情对青年人就业影响，强化外出农民工就业服务，引导返乡农民工就近就业。要加大脱贫攻坚力度，确保现行标准下农村贫困人口全部脱贫、贫困县全部摘帽。要继续打好污染防治攻坚战，推动实施一批长江、黄河生态保护重大工程，落实好长江十年禁渔。要抓好应急管理，强化安全生产。要有力组织防汛救灾，统筹抓好南北方江河安全度汛，精心谋划实施灾后恢复重建，确保人民生命财产安全。</p>\\n            <p class=\"one-p\">会议还研究了其他事项。</p>\\n            <div id=\"Status\"></div>\\n          </div>\\n        </div>\\n        <div id=\"Comment\"></div>\\n        <div id=\"Recomend\"></div>\\n      </div>\\n      <div class=\"RIGHT\" id=\"RIGHT\"></div>\\n    </div>\\n    <div id=\"bottomAd\"></div>\\n    <div class=\"qq_footer\" id=\"Foot\"></div>\\n    <div id=\"GoTop\"></div>\\n    <script src=\"//mat1.gtimg.com/libs/jquery/1.12.0/jquery.min.js\"></script>\\r\\n<script type=\"text/javascript\" src=\"//h5.ssp.qq.com/static/test/pcnewsplugin/sspad_20200715.test.js\" charset=\"utf-8\"></script>\\r\\n<script src=\"//mat1.gtimg.com/pingjs/ext2020/dc2017/dist/m_tips/tips.js\" async></script>\\r\\n<script src=\"//mat1.gtimg.com/pingjs/ext2020/dc2017/publicjs/m/ping.js\" charset=\"gbk\"></script>\\r\\n<script src=\"//mat1.gtimg.com/pingjs/ext2020/2018/js/check-https-content.js\"></script>\\r\\n<script>\\r\\nif(typeof(pgvMain) == \\'function\\'){pgvMain();}\\r\\n</script>\\r\\n<script type=\"text/javascript\" src=\"//imgcache.qq.com/qzone/biz/comm/js/qbs.js\"></script>\\n<script type=\"text/javascript\">\\nvar TIME_BEFORE_LOAD_CRYSTAL = (new Date).getTime();\\n</script>\\n<script src=\"//ra.gtimg.com/web/crystal/v4.7Beta05Build050/crystal-min.js\" id=\"l_qq_com\" arguments=\"{\\'extension_js_src\\':\\'//ra.gtimg.com/web/crystal/v4.7Beta05Build050/crystal_ext-min.js\\', \\'jsProfileOpen\\':\\'false\\', \\'mo_page_ratio\\':\\'0.01\\', \\'mo_ping_ratio\\':\\'0.01\\', \\'mo_ping_script\\':\\'//ra.gtimg.com/sc/mo_ping-min.js\\'}\"></script>\\n<script type=\"text/javascript\">\\nif(typeof crystal === \\'undefined\\' && Math.random() <= 1) {\\n  (function() {\\n    var TIME_AFTER_LOAD_CRYSTAL = (new Date).getTime();\\n    var img = new Image(1,1);\\n    img.src = \"//dp3.qq.com/qqcom/?adb=1&dm=new&err=1002&blockjs=\"+(TIME_AFTER_LOAD_CRYSTAL-TIME_BEFORE_LOAD_CRYSTAL);\\n  })();\\n}\\n</script>\\n<style>.absolute{position:absolute;}</style>\\n<!--[if !IE]>|xGv00|bfa6be71716f6329ed6738978b6c1e2d<![endif]-->\\r\\n\\r\\n<script>\\r\\nvar _mtac = {};\\r\\n(function() {\\r\\n    var mta = document.createElement(\"script\");\\r\\n    mta.src = \"//pingjs.qq.com/h5/stats.js?v2.0.2\";\\r\\n    mta.setAttribute(\"name\", \"MTAH5\");\\r\\n    mta.setAttribute(\"sid\", \"500651042\");\\r\\n    var s = document.getElementsByTagName(\"script\")[0];\\r\\n    s.parentNode.insertBefore(mta, s);\\r\\n})();\\r\\n</script><!--[if !IE]>|xGv00|c12c2898fedca4c8f07e5c0028e1d3ed<![endif]-->\\r\\n<script src=\"//mat1.gtimg.com/pingjs/ext2020/dcom-static/build/static/js/static.js\"></script>\\r\\n<!--[if !IE]>|xGv00|4ca6a9f2151663d1bc8e48d5aca0d199<![endif]-->\\n  </body>\\n</html><!--[if !IE]>|xGv00|9b4b99e5c94eba812cd3af7abc84a619<![endif]-->'"
     },
     "metadata": {},
     "execution_count": 29
    }
   ],
   "source": [
    "news.html   "
   ]
  },
  {
   "cell_type": "markdown",
   "metadata": {},
   "source": [
    "## 查看newspaper库支持的语言及其对应参数输入"
   ]
  },
  {
   "cell_type": "code",
   "execution_count": 11,
   "metadata": {
    "tags": []
   },
   "outputs": [
    {
     "output_type": "stream",
     "name": "stdout",
     "text": "\nYour available languages are:\n\ninput code\t\tfull name\n  nl\t\t\t  Dutch\n  zh\t\t\t  Chinese\n  vi\t\t\t  Vietnamese\n  no\t\t\t  Norwegian\n  ar\t\t\t  Arabic\n  tr\t\t\t  Turkish\n  sr\t\t\t  Serbian\n  fr\t\t\t  French\n  ru\t\t\t  Russian\n  en\t\t\t  English\n  hi\t\t\t  Hindi\n  ja\t\t\t  Japanese\n  sw\t\t\t  Swahili\n  pl\t\t\t  Polish\n  fa\t\t\t  Persian\n  el\t\t\t  Greek\n  sv\t\t\t  Swedish\n  sl\t\t\t  Slovenian\n  de\t\t\t  German\n  it\t\t\t  Italian\n  pt\t\t\t  Portuguese\n  he\t\t\t  Hebrew\n  hr\t\t\t  Croatian\n  et\t\t\t  Estonian\n  id\t\t\t  Indonesian\n  ro\t\t\t  Romanian\n  es\t\t\t  Spanish\n  ko\t\t\t  Korean\n  hu\t\t\t  Hungarian\n  da\t\t\t  Danish\n  fi\t\t\t  Finnish\n  bg\t\t\t  Bulgarian\n  be\t\t\t  Belarusian\n  mk\t\t\t  Macedonian\n  nb\t\t\t  Norwegian (Bokmål)\n  uk\t\t\t  Ukrainian\n\n"
    }
   ],
   "source": [
    "import newspaper\n",
    "newspaper.languages()    "
   ]
  },
  {
   "cell_type": "markdown",
   "metadata": {},
   "source": [
    "# 2.0 构建新闻源批量提取"
   ]
  },
  {
   "cell_type": "code",
   "execution_count": 30,
   "metadata": {},
   "outputs": [],
   "source": [
    "import newspaper\n",
    "url = 'https://new.qq.com/omn/20200730/20200730A0TCON00.html'      # 南方网\n"
   ]
  },
  {
   "cell_type": "markdown",
   "metadata": {},
   "source": [
    "## 构建新闻源"
   ]
  },
  {
   "cell_type": "code",
   "execution_count": 42,
   "metadata": {},
   "outputs": [],
   "source": [
    "south_paper = newspaper.build(url, language='zh')    "
   ]
  },
  {
   "cell_type": "markdown",
   "metadata": {},
   "source": [
    "## 查看有多少链接"
   ]
  },
  {
   "cell_type": "code",
   "execution_count": 31,
   "metadata": {},
   "outputs": [
    {
     "output_type": "execute_result",
     "data": {
      "text/plain": "0"
     },
     "metadata": {},
     "execution_count": 31
    }
   ],
   "source": [
    "south_paper.size()   "
   ]
  },
  {
   "cell_type": "markdown",
   "metadata": {},
   "source": [
    "## 在默认文章缓存的情况下过一段时间后再次"
   ]
  },
  {
   "cell_type": "code",
   "execution_count": 36,
   "metadata": {},
   "outputs": [
    {
     "output_type": "execute_result",
     "data": {
      "text/plain": "0"
     },
     "metadata": {},
     "execution_count": 36
    }
   ],
   "source": [
    "url = 'http://www.southcn.com/'      # 南方网\n",
    "new_south_paper = newspaper.build(url, language='zh')    # 构建新的新闻源\n",
    "new_south_paper.size()"
   ]
  },
  {
   "cell_type": "code",
   "execution_count": 37,
   "metadata": {},
   "outputs": [],
   "source": [
    "south_paper = newspaper.build(url,language='zh',memoize_articles = False)    # 构建新闻源"
   ]
  },
  {
   "cell_type": "markdown",
   "metadata": {},
   "source": [
    "## 提取源类别"
   ]
  },
  {
   "cell_type": "code",
   "execution_count": 38,
   "metadata": {
    "tags": []
   },
   "outputs": [
    {
     "output_type": "stream",
     "name": "stdout",
     "text": "http://news.southcn.com\nhttp://www.southcn.com/\nhttp://kb.southcn.com\nhttp://life.southcn.com\nhttps://static.nfapp.southcn.com\nhttp://u.southcn.com\nhttp://economy.southcn.com\nhttp://gddazx.southcn.com\nhttp://gdio.southcn.com\nhttp://www.southcn.com\nhttp://epaper.southcn.com\nhttp://live.southcn.com\nhttp://ld.southcn.com\nhttp://edu.southcn.com\nhttp://tv.southcn.com\nhttp://theory.southcn.com\nhttp://club.southcn.com\nhttp://opinion.southcn.com\nhttp://car.southcn.com\nhttp://creditgd.southcn.com\nhttp://zg.southcn.com\nhttp://house.southcn.com\nhttp://culture.southcn.com\nhttp://byst.southcn.com\nhttp://pc.nfapp.southcn.com\nhttp://lnwmspk.southcn.com\nhttp://finance.southcn.com\nhttp://sports.southcn.com\n"
    }
   ],
   "source": [
    "for category in south_paper.category_urls():\n",
    "    print(category)"
   ]
  },
  {
   "cell_type": "markdown",
   "metadata": {},
   "source": [
    "## 提取源新闻网站的品牌和描述"
   ]
  },
  {
   "cell_type": "code",
   "execution_count": 40,
   "metadata": {
    "tags": []
   },
   "outputs": [
    {
     "output_type": "stream",
     "name": "stdout",
     "text": "品牌： southcn\n描述： 南方网/南方新闻网是经中共广东省委，广东省人民政府批准建设的新闻宣传网站。南方网/南方新闻网由广东省委宣传部主办主管并作为南方报业传媒集团之成员单位，获国务院新闻办公室批准从事登载新闻业务并被确定为全国重点新闻网站之一。南方网/南方新闻网作为华南地区最大型的新闻融合平台，是国内外网民认识、了解广东最权威、最快捷的途径。\n"
    }
   ],
   "source": [
    "print('品牌：',south_paper.brand)  # 品牌\n",
    "print('描述：',south_paper.description) # 描述"
   ]
  },
  {
   "cell_type": "markdown",
   "metadata": {},
   "source": [
    "## 查看新闻源下面的所有新闻链接"
   ]
  },
  {
   "cell_type": "code",
   "execution_count": 41,
   "metadata": {
    "tags": [
     "outputPrepend"
    ]
   },
   "outputs": [
    {
     "output_type": "stream",
     "name": "stdout",
     "text": "02007.htm\nhttp://creditgd.southcn.com/c/2016-07/11/content_151172889.htm\nhttp://news.southcn.com/zhuanti/yueyun2018/node_377652.htm\nhttp://creditgd.southcn.com/c/2019-03/19/content_186123079.htm\nhttp://creditgd.southcn.com/c/2018-09/14/content_186510600.htm\nhttp://creditgd.southcn.com/c/2017-02/28/content_166068348.htm\nhttp://creditgd.southcn.com/c/2017-02/28/content_166068301.htm\nhttp://creditgd.southcn.com/c/2017-02/28/content_166068179.htm\nhttp://creditgd.southcn.com/c/2017-02/28/content_166067979.htm\nhttp://creditgd.southcn.com/c/2017-02/28/content_166061793.htm\nhttp://creditgd.southcn.com/c/2016-12/26/content_162401856.htm\nhttp://creditgd.southcn.com/c/2016-11/10/content_159462755.htm\nhttp://creditgd.southcn.com/c/2016-10/27/content_158460849.htm\nhttp://creditgd.southcn.com/c/2016-10/19/content_157834702.htm\nhttp://creditgd.southcn.com/c/2016-09/19/content_156024799.htm\nhttp://creditgd.southcn.com/c/2016-02/19/content_142655847.htm\nhttp://creditgd.southcn.com/c/2016-02/19/content_142655394.htm\nhttp://creditgd.southcn.com/c/2016-01/04/content_140112379.htm\nhttp://creditgd.southcn.com/c/2015-12/31/content_139958119.htm\nhttp://creditgd.southcn.com/c/2016-02/29/content_143179187.htm\nhttp://creditgd.southcn.com/c/2015-12/31/content_139957592.htm\nhttp://creditgd.southcn.com/c/2015-12/30/content_139892538.htm\nhttp://creditgd.southcn.com/c/2015-12/30/content_139888261.htm\nhttp://house.southcn.com/f/2020-07/29/content_191239365.htm\nhttp://house.southcn.com/f/2020-07/20/content_191189737.htm\nhttp://house.southcn.com/f/2020-07/10/content_191145956.htm\nhttp://house.southcn.com/f/2020-07/09/content_191142053.htm\nhttp://house.southcn.com/f/2020-07/09/content_191140273.htm\nhttp://house.southcn.com/f/2020-07/09/content_191140272.htm\nhttp://house.southcn.com/f/2020-07/04/content_191119226.htm\nhttp://house.southcn.com/f/2020-07/03/content_191114351.htm\nhttp://house.southcn.com/f/2020-07/03/content_191114343.htm\nhttp://house.southcn.com/f/2020-07/02/content_191110460.htm\nhttp://finance.southcn.com/f/2020-07/01/content_191103815.htm\nhttp://house.southcn.com/f/2020-06/24/content_191072815.htm\nhttp://house.southcn.com/f/2020-06/18/content_191044781.htm\nhttp://house.southcn.com/f/2020-06/18/content_191044542.htm\nhttp://house.southcn.com/f/2020-06/18/content_191044431.htm\nhttp://house.southcn.com/f/2020-06/12/content_191016646.htm\nhttp://house.southcn.com/f/2020-06/12/content_191016640.htm\nhttp://house.southcn.com/f/2020-06/12/content_191016031.htm\nhttp://house.southcn.com/f/2020-06/09/content_191001027.htm\nhttp://house.southcn.com/f/2020-06/06/content_190990195.htm\nhttp://house.southcn.com/f/2020-06/06/content_190990187.htm\nhttp://house.southcn.com/f/2020-06/06/content_190990179.htm\nhttp://house.southcn.com/f/2020-06/06/content_190990171.htm\nhttp://house.southcn.com/f/2020-05/31/content_190969562.htm\nhttp://house.southcn.com/f/2020-05/30/content_190967271.htm\nhttp://house.southcn.com/f/2020-05/29/content_190962258.htm\nhttp://house.southcn.com/f/2020-05/25/content_190945872.htm\nhttp://house.southcn.com/f/2020-05/24/content_190943865.htm\nhttp://house.southcn.com/f/2020-05/22/content_190937011.htm\nhttp://house.southcn.com/f/2020-05/22/content_190936419.htm\nhttp://house.southcn.com/zlggwd/content/2015-01/14/content_116315067.htm\nhttp://house.southcn.com/zlggwd/content/2015-05/04/content_123518583.htm\nhttp://house.southcn.com/f/2020-05/18/content_190915067.htm\nhttp://house.southcn.com/f/2020-05/11/content_190878043.htm\nhttp://house.southcn.com/f/2020-05/13/content_190889070.htm\nhttp://house.southcn.com/f/2020-05/13/content_190889085.htm\nhttp://house.southcn.com/zlggwd/content/2015-03/13/content_119940137.htm\nhttp://house.southcn.com/f/2020-07/30/content_191244531.htm\nhttp://house.southcn.com/f/2020-07/28/content_191231769.htm\nhttp://house.southcn.com/f/2020-07/26/content_191221452.htm\nhttp://house.southcn.com/f/2020-07/24/content_191212735.htm\nhttp://house.southcn.com/f/2020-07/16/content_191175436.htm\nhttp://house.southcn.com/f/2020-05/15/content_190905522.htm\nhttp://house.southcn.com/f/2020-05/12/content_190884773.htm\nhttp://house.southcn.com/f/2020-05/12/content_190884790.htm\nhttp://house.southcn.com/f/2020-05/11/content_190878074.htm\nhttp://house.southcn.com/f/2020-05/18/content_190915014.htm\nhttp://house.southcn.com/f/2020-05/18/content_190914998.htm\nhttp://house.southcn.com/f/2020-05/15/content_190903183.htm\nhttp://house.southcn.com/f/2020-05/15/content_190902608.htm\nhttp://house.southcn.com/f/2020-05/15/content_190900777.htm\nhttp://house.southcn.com/f/2020-07/22/content_191201960.htm\nhttp://house.southcn.com/f/2020-07/21/content_191196713.htm\nhttp://house.southcn.com/f/2020-07/17/content_191180106.htm\nhttp://house.southcn.com/f/2020-07/16/content_191174323.htm\nhttp://house.southcn.com/f/2020-07/16/content_191174312.htm\nhttp://house.southcn.com/f/2020-07/15/content_191168650.htm\nhttp://house.southcn.com/f/2020-07/14/content_191161031.htm\nhttp://house.southcn.com/f/2020-07/13/content_191156069.htm\nhttp://house.southcn.com/f/2020-04/28/content_190819155.htm\nhttp://house.southcn.com/f/2020-05/18/content_190915029.htm\nhttp://house.southcn.com/f/2020-05/18/content_190915047.htm\nhttp://house.southcn.com/f/2020-05/18/content_190914977.htm\nhttp://house.southcn.com/f/2020-05/18/content_190914876.htm\nhttp://house.southcn.com/f/2020-05/11/content_190877066.htm\nhttp://house.southcn.com/f/2020-05/06/content_190850755.htm\nhttp://house.southcn.com/f/2020-04/27/content_190811221.htm\nhttp://house.southcn.com/f/2020-05/18/content_190917011.htm\nhttp://house.southcn.com/f/2020-05/14/content_190895564.htm\nhttp://house.southcn.com/f/2020-04/02/content_190684509.htm\nhttp://house.southcn.com/f/2020-03/18/content_190602747.htm\nhttp://house.southcn.com/f/2020-03/18/content_190602527.htm\nhttp://house.southcn.com/f/2020-05/12/content_190884729.htm\nhttp://house.southcn.com/f/2020-05/19/content_190923456.htm\nhttp://house.southcn.com/f/2020-05/18/content_190915109.htm\nhttp://house.southcn.com/f/2020-05/14/content_190895534.htm\nhttp://house.southcn.com/f/2020-05/14/content_190894675.htm\nhttp://house.southcn.com/f/2020-05/14/content_190894660.htm\nhttp://house.southcn.com/f/2020-05/13/content_190889198.htm\nhttp://house.southcn.com/f/2020-05/09/content_190869117.htm\nhttp://house.southcn.com/f/2019-10/22/content_189289644.htm\nhttp://house.southcn.com/f/2019-08/21/content_188733027.htm\nhttp://house.southcn.com/f/2019-07/17/content_188343146.htm\nhttp://house.southcn.com/f/2019-06/17/content_187990851.htm\nhttp://house.southcn.com/f/2020-04/23/content_190789706.htm\nhttp://house.southcn.com/f/2019-12/30/content_189958877.htm\nhttp://house.southcn.com/f/2019-12/30/content_189958836.htm\nhttp://house.southcn.com/f/2020-05/14/content_190894645.htm\nhttp://house.southcn.com/f/2020-05/07/content_190856725.htm\nhttp://house.southcn.com/f/2020-04/16/content_190755113.htm\nhttp://house.southcn.com/f/2020-04/15/content_190748479.htm\nhttp://house.southcn.com/f/2020-04/14/content_190741564.htm\nhttp://house.southcn.com/f/2020-04/07/content_190706423.htm\nhttp://house.southcn.com/f/2020-01/15/content_190070845.htm\nhttp://house.southcn.com/f/2019-12/30/content_189958379.htm\nhttp://house.southcn.com/f/2019-12/25/content_189904888.htm\nhttp://house.southcn.com/f/2019-11/22/content_189592397.htm\nhttp://house.southcn.com/f/2019-11/11/content_189478288.htm\nhttp://house.southcn.com/f/2019-11/04/content_189409219.htm\nhttp://house.southcn.com/f/2019-11/04/content_189409218.htm\nhttp://house.southcn.com/f/2019-10/27/content_189331522.htm\nhttp://house.southcn.com/f/2020-03/20/content_190615181.htm\nhttp://house.southcn.com/f/2020-02/25/content_190426049.htm\nhttp://house.southcn.com/f/2020-05/20/content_190929189.htm\nhttp://house.southcn.com/f/2020-04/27/content_190812462.htm\nhttp://house.southcn.com/f/2020-03/18/content_190602546.htm\nhttp://house.southcn.com/f/2020-03/15/content_190580440.htm\nhttp://house.southcn.com/f/2020-03/13/content_190572791.htm\nhttp://house.southcn.com/f/2020-03/10/content_190547157.htm\nhttp://house.southcn.com/f/2020-05/15/content_190901196.htm\nhttp://house.southcn.com/f/2020-04/22/content_190785278.htm\nhttp://house.southcn.com/f/2020-04/15/content_190746831.htm\nhttp://house.southcn.com/f/2020-03/17/content_190596321.htm\nhttp://house.southcn.com/f/2020-03/15/content_190580426.htm\nhttp://house.southcn.com/f/2020-03/10/content_190547139.htm\nhttp://house.southcn.com/f/2020-03/06/content_190511295.htm\nhttp://house.southcn.com/f/2020-04/20/content_190771189.htm\nhttp://house.southcn.com/f/2020-04/19/content_190771673.htm\nhttp://house.southcn.com/f/2020-04/16/content_190756257.htm\nhttp://house.southcn.com/f/2020-04/15/content_190748434.htm\nhttp://house.southcn.com/f/2020-03/20/content_190616240.htm\nhttp://house.southcn.com/f/2020-02/18/content_190362704.htm\nhttp://house.southcn.com/f/2020-02/13/content_190316571.htm\nhttp://house.southcn.com/f/2020-04/20/content_190771113.htm\nhttp://house.southcn.com/f/2020-04/29/content_190823871.htm\nhttp://house.southcn.com/f/2019-12/09/content_189746677.htm\nhttp://house.southcn.com/f/2020-04/30/content_190834697.htm\nhttp://epaper.southcn.com/nfdaily/html/2019-12/20/node_3147.htm\nhttp://house.southcn.com/f/2020-05/19/content_190922169.htm\nhttp://house.southcn.com/f/2020-05/18/content_190917412.htm\nhttp://house.southcn.com/f/2020-04/28/content_190817625.htm\nhttp://house.southcn.com/f/2020-04/07/content_190704918.htm\nhttp://house.southcn.com/f/2020-04/06/content_190702048.htm\nhttp://house.southcn.com/f/2020-04/03/content_190693724.htm\nhttp://house.southcn.com/f/2020-05/08/content_190864045.htm\nhttp://house.southcn.com/f/2020-04/28/content_190817726.htm\nhttp://house.southcn.com/f/2020-04/24/content_190795982.htm\nhttp://house.southcn.com/f/2020-04/22/content_190782650.htm\nhttp://house.southcn.com/f/2020-04/20/content_190770425.htm\nhttp://house.southcn.com/f/2020-04/17/content_190759219.htm\nhttp://house.southcn.com/dcdc/content/2019-06/21/content_188068700.htm\nhttp://house.southcn.com/dcdc/content/2019-06/03/content_187822824.htm\nhttp://house.southcn.com/dcdc/content/2019-02/25/content_185392459.htm\nhttp://house.southcn.com/dcdc/content/2019-02/12/content_185114148.htm\nhttp://house.southcn.com/dcdc/content/2018-09/07/content_183222201.htm\nhttp://house.southcn.com/dcdc/content/2018-08/20/content_182984022.htm\nhttp://house.southcn.com/yggw/content/2015-01/14/content_116319959.htm\nhttp://house.southcn.com/yggw/content/2018-04/13/content_181497328.htm\nhttp://house.southcn.com/f/2020-07/14/content_191163000.htm\nhttp://house.southcn.com/f/2020-07/02/content_191107923.htm\nhttp://house.southcn.com/f/2020-07/02/content_191109433.htm\nhttp://house.southcn.com/f/2020-07/01/content_191102314.htm\nhttp://house.southcn.com/f/2020-07/01/content_191101851.htm\nhttp://house.southcn.com/f/2020-06/30/content_191096509.htm\nhttp://house.southcn.com/f/2020-06/30/content_191095344.htm\nhttp://news.southcn.com/gd/content/2019-11/03/content_189405822.htm\nhttp://news.southcn.com/gd/content/2019-10/30/content_189367497.htm\nhttp://kb.southcn.com/content/2019-10/30/content_189367576.htm\nhttp://kb.southcn.com/content/2019-10/28/content_189341980.htm\nhttp://kb.southcn.com/content/2019-10/29/content_189349203.htm\nhttp://culture.southcn.com/c/2020-07/17/content_191180929.htm\nhttp://culture.southcn.com/c/2020-07/09/content_191142251.htm\nhttp://culture.southcn.com/c/2020-05/11/content_190878726.htm\nhttp://culture.southcn.com/c/2020-04/21/content_190780343.htm\nhttp://culture.southcn.com/c/2020-04/16/content_190756722.htm\nhttp://culture.southcn.com/c/2020-04/10/content_190723597.htm\nhttp://culture.southcn.com/c/2019-05/20/content_188134407.htm\nhttp://culture.southcn.com/c/2019-05/14/content_188134406.htm\nhttp://culture.southcn.com/c/2020-06/27/content_191082765.htm\nhttp://culture.southcn.com/c/2019-07/07/content_188235564.htm\nhttp://culture.southcn.com/c/2019-06/26/content_188112259.htm\nhttp://culture.southcn.com/c/2015-04/02/content_121398057.htm\nhttp://culture.southcn.com/c/2014-09/28/content_109325773.htm\nhttp://culture.southcn.com/c/2014-04/01/content_96485226.htm\nhttp://culture.southcn.com/c/2014-03/27/content_96126465.htm\nhttp://culture.southcn.com/c/2014-03/19/content_95343861.htm\nhttp://culture.southcn.com/c/2015-04/03/content_121524814.htm\nhttp://culture.southcn.com/c/2014-10/20/content_110453814.htm\nhttp://culture.southcn.com/c/2014-07/24/content_105129761.htm\nhttp://culture.southcn.com/c/2015-03/11/content_119808339.htm\nhttp://culture.southcn.com/c/2014-09/10/content_108228024.htm\nhttp://culture.southcn.com/c/2014-07/22/content_104900952.htm\nhttp://byst.southcn.com/sdbd/content/2020-07/27/content_191225651.htm\nhttp://byst.southcn.com/sdbd/content/2020-07/15/content_191167088.htm\nhttp://byst.southcn.com/sdbd/content/2020-07/08/content_191135632.htm\nhttp://byst.southcn.com/sdbd/content/2020-07/06/content_191124235.htm\nhttp://byst.southcn.com/sdbd/content/2020-07/01/content_191103416.htm\nhttp://byst.southcn.com/pwgd/content/2020-07/30/content_191244572.htm\nhttp://byst.southcn.com/pwgd/content/2020-07/24/content_191213617.htm\nhttp://byst.southcn.com/pwgd/content/2020-07/23/content_191206686.htm\nhttp://byst.southcn.com/pwgd/content/2020-07/22/content_191200940.htm\nhttp://byst.southcn.com/pwgd/content/2020-07/16/content_191172891.htm\nhttp://byst.southcn.com/xzsj/content/2020-07/28/content_191233005.htm\nhttp://byst.southcn.com/xzsj/content/2020-07/27/content_191225646.htm\nhttp://byst.southcn.com/xzsj/content/2020-07/20/content_191189764.htm\nhttp://byst.southcn.com/xzsj/content/2020-07/17/content_191179249.htm\nhttp://byst.southcn.com/xzsj/content/2020-07/16/content_191172888.htm\nhttp://byst.southcn.com/mswy/content/2020-07/29/content_191237560.htm\nhttp://byst.southcn.com/mswy/content/2020-07/24/content_191213616.htm\nhttp://byst.southcn.com/mswy/content/2020-07/24/content_191213615.htm\nhttp://byst.southcn.com/mswy/content/2020-07/23/content_191206685.htm\nhttp://byst.southcn.com/mswy/content/2020-07/22/content_191200939.htm\nhttp://byst.southcn.com/fxzx/content/2020-07/30/content_191244577.htm\nhttp://byst.southcn.com/fxzx/content/2020-07/30/content_191244576.htm\nhttp://byst.southcn.com/fxzx/content/2020-07/30/content_191244575.htm\nhttp://www.chinafxj.cn/c/2018-12-14/534848.shtml\nhttp://www.chinafxj.cn/c/2017-09-14/535097.shtml\nhttp://byst.southcn.com/ystm/content/2020-07/30/content_191244571.htm\nhttp://byst.southcn.com/ystm/content/2020-07/30/content_191244570.htm\nhttp://byst.southcn.com/ystm/content/2020-07/30/content_191244569.htm\nhttp://byst.southcn.com/ystm/content/2020-07/30/content_191244568.htm\nhttp://byst.southcn.com/ystm/content/2020-07/29/content_191237559.htm\nhttp://byst.southcn.com/ystm/content/2020-07/29/content_191237558.htm\nhttp://byst.southcn.com/ystm/content/2020-07/29/content_191237557.htm\nhttp://finance.southcn.com/f/2020-07/21/content_191196721.htm\nhttp://finance.southcn.com/f/2020-07/01/content_191103969.htm\nhttp://finance.southcn.com/f/2020-07/29/content_191237171.htm\nhttp://finance.southcn.com/f/2020-07/29/content_191237161.htm\nhttp://finance.southcn.com/f/2020-07/29/content_191237155.htm\nhttp://finance.southcn.com/f/2020-07/28/content_191225099.htm\nhttp://finance.southcn.com/f/2020-07/26/content_191194950.htm\nhttp://finance.southcn.com/f/2020-07/23/content_191206695.htm\nhttp://finance.southcn.com/f/2020-07/23/content_191201275.htm\nhttp://finance.southcn.com/f/2020-07/18/content_191178854.htm\nhttp://finance.southcn.com/f/2020-07/20/content_191153714.htm\nhttp://finance.southcn.com/f/2020-07/20/content_191189730.htm\nhttp://finance.southcn.com/f/2020-07/19/content_191186157.htm\nhttp://finance.southcn.com/f/2020-07/15/content_191160823.htm\nhttp://finance.southcn.com/f/2020-07/23/content_191208894.htm\nhttp://finance.southcn.com/f/2020-07/23/content_191208716.htm\nhttp://edu.southcn.com/jygd/content/2020-07/27/content_191226768.htm\nhttp://finance.southcn.com/f/2020-07/22/content_191202900.htm\nhttp://tech.southcn.com/t/2020-07/07/content_191131240.htm\nhttp://tech.southcn.com/t/2020-04/10/content_190724461.htm\nhttp://tech.southcn.com/t/2020-02/29/content_190461036.htm\nhttp://finance.southcn.com/f/2020-07/28/content_191232214.htm\nhttp://finance.southcn.com/f/2020-07/27/content_191228607.htm\nhttp://finance.southcn.com/f/2020-07/22/content_191202805.htm\nhttp://finance.southcn.com/f/2020-07/10/content_191146531.htm\nhttp://finance.southcn.com/f/2020-07/30/content_191244502.htm\nhttp://finance.southcn.com/f/2020-07/22/content_191202343.htm\nhttp://finance.southcn.com/f/2020-07/22/content_191200338.htm\nhttp://finance.southcn.com/f/2020-07/20/content_191190716.htm\nhttp://sports.southcn.com/GDsports/content/2020-07/30/content_191242934.htm\nhttp://sports.southcn.com/sportsnews/content/2020-07/29/content_191237158.htm\nhttp://sports.southcn.com/sportsnews/content/2020-07/29/content_191237154.htm\nhttp://sports.southcn.com/sportsnews/content/2020-07/29/content_191237150.htm\nhttp://sports.southcn.com/sportsnews/content/2020-07/29/content_191237147.htm\nhttp://sports.southcn.com/sportsnews/content/2020-07/28/content_191231358.htm\nhttp://sports.southcn.com/sportsnews/content/2020-07/28/content_191231356.htm\nhttp://sports.southcn.com/sportsnews/content/2020-07/28/content_191231354.htm\nhttp://sports.southcn.com/sportsnews/content/2020-07/28/content_191231352.htm\nhttp://sports.southcn.com/sportsnews/content/2020-07/27/content_191225112.htm\nhttp://sports.southcn.com/sportsnews/content/2020-07/27/content_191225107.htm\nhttp://sports.southcn.com/sportsnews/content/2020-07/27/content_191225105.htm\nhttp://sports.southcn.com/sportsnews/content/2020-07/27/content_191225103.htm\nhttp://sports.southcn.com/sportsnews/content/2020-07/26/content_191221406.htm\nhttp://sports.southcn.com/sportsnews/content/2020-07/26/content_191221405.htm\nhttp://sports.southcn.com/sportsnews/content/2020-07/26/content_191221404.htm\nhttp://sports.southcn.com/sportsnews/content/2020-07/26/content_191221403.htm\nhttp://sports.southcn.com/GDsports/content/2020-07/25/content_191220758.htm\nhttp://sports.southcn.com/sportsnews/content/2020-07/25/content_191218955.htm\nhttp://sports.southcn.com/sportsnews/content/2020-07/25/content_191218953.htm\nhttp://sports.southcn.com/sportsnews/content/2020-07/25/content_191218951.htm\nhttp://sports.southcn.com/sportsnews/content/2020-07/25/content_191218947.htm\nhttp://sports.southcn.com/sportsnews/content/2020-07/24/content_191212753.htm\nhttp://sports.southcn.com/sportsnews/content/2020-07/24/content_191212751.htm\nhttp://sports.southcn.com/sportsnews/content/2020-07/24/content_191212749.htm\nhttp://sports.southcn.com/sportsnews/content/2020-07/24/content_191212747.htm\nhttp://sports.southcn.com/sportsnews/content/2020-07/20/content_191189154.htm\nhttp://sports.southcn.com/sportsnews/content/2020-07/19/content_191185918.htm\nhttp://sports.southcn.com/sportsnews/content/2020-07/15/content_191166443.htm\nhttp://sports.southcn.com/sportsnews/content/2020-07/15/content_191166437.htm\nhttp://sports.southcn.com/sportsnews/content/2020-07/10/content_191145672.htm\nhttp://sports.southcn.com/sportsnews/content/2020-07/09/content_191140096.htm\nhttp://sports.southcn.com/sportsnews/content/2020-07/05/content_191121653.htm\nhttp://sports.southcn.com/sportsnews/content/2020-07/04/content_191119062.htm\nhttp://sports.southcn.com/GDsports/content/2020-07/01/content_191103367.htm\nhttp://sports.southcn.com/sportsnews/content/2020-06/27/content_191082380.htm\nhttp://sports.southcn.com/sportsnews/content/2020-06/24/content_191071280.htm\nhttp://sports.southcn.com/sportsnews/content/2020-06/22/content_191059323.htm\nhttp://sports.southcn.com/sportsnews/content/2020-07/16/content_191172375.htm\nhttp://sports.southcn.com/SportsEconomy/content/2020-07/10/content_191148365.htm\nhttp://sports.southcn.com/sportsnews/content/2020-07/04/content_191119060.htm\nhttp://sports.southcn.com/hdfl/content/2020-07/08/content_191135465.htm\nhttp://sports.southcn.com/hdfl/content/2020-07/16/content_191174491.htm\nhttp://sports.southcn.com/sportsnews/content/2020-05/21/content_190932938.htm\nhttp://sports.southcn.com/SportsPlus/content/2020-06/17/content_191038824.htm\n"
    },
    {
     "output_type": "execute_result",
     "data": {
      "text/plain": "1091"
     },
     "metadata": {},
     "execution_count": 41
    }
   ],
   "source": [
    "\n",
    "for article in south_paper.articles:\n",
    "    print(article.url)\n",
    "\n",
    "len(south_paper.articles)      # 查看新闻链接的数量，与south_paper.size()一致"
   ]
  },
  {
   "cell_type": "markdown",
   "metadata": {},
   "source": [
    "# 提前其中一篇文章"
   ]
  },
  {
   "cell_type": "code",
   "execution_count": 19,
   "metadata": {
    "tags": []
   },
   "outputs": [
    {
     "output_type": "stream",
     "name": "stdout",
     "text": "标题： 中央军委举行晋升上将军衔仪式 习近平颁发命令状并向晋衔的军官表示祝贺\n正文： 中央军委晋升上将军衔仪式29日在北京八一大楼隆重举行。中央军委主席习近平向晋升上将军衔的火箭军政治委员徐忠波同志颁发命令状。\n\n.\n\n新华社北京7月29日电（记者梅世雄）中央军委晋升上将军衔仪式29日在北京八一大楼隆重举行。中央军委主席习近平向晋升上将军衔的火箭军政治委员徐忠波同志颁发命令状。\n\n下午4时30分许，晋衔仪式在庄严的国歌声中开始。中央军委副主席许其亮宣读了中央军委主席习近平签署的晋升上将军衔命令。中央军委副主席张又侠主持晋衔仪式。\n\n晋升上将军衔的徐忠波军容严整、精神抖擞来到主席台前。习近平向他颁发命令状，表示祝贺。佩戴了上将军衔肩章的徐忠波向习近平敬礼，向参加仪式的全体同志敬礼，全场响起热烈的掌声。\n\n晋衔仪式在嘹亮的军歌声中结束。\n\n中央军委委员魏凤和、李作成、苗华、张升民，以及军委机关各部门、驻京大单位领导等参加晋衔仪式。\n"
    }
   ],
   "source": [
    "one_article = south_paper.articles[3]       # 选择第四条新闻链接\n",
    "one_article.download()                      # 下载网页\n",
    "one_article.parse()                         # 解析网页\n",
    "print(\"标题：\",one_article.title)\n",
    "print(\"正文：\",one_article.text)"
   ]
  },
  {
   "cell_type": "code",
   "execution_count": null,
   "metadata": {},
   "outputs": [],
   "source": [
    "import pandas as pd         # 导入pandas库\n",
    "news_title = []\n",
    "news_text = []\n",
    "news = south_paper.articles\n",
    "for i in range(len(news)):    # 以新闻链接的长度为循环次数\n",
    "    paper = news[i]\n",
    "    try :\n",
    "        paper.download()\n",
    "        paper.parse()\n",
    "        news_title.append(paper.title)     # 将新闻题目以列表形式逐一储存\n",
    "        news_text.append(paper.text)       # 将新闻正文以列表形式逐一储存\n",
    "    except:\n",
    "        news_title.append('NULL')          # 如果无法访问，以NULL替代\n",
    "        news_text.append('NULL')          \n",
    "        continue\n",
    "# 建立数据表存储爬取的新闻信息\n",
    "south_paper_data = pd.DataFrame({'title':news_title,'text':news_text})\n",
    "south_paper_data"
   ]
  },
  {
   "cell_type": "code",
   "execution_count": null,
   "metadata": {},
   "outputs": [],
   "source": [
    "south_paper_data.to_csv(\"/Users/manmanzhang/Library/Mobile Documents/com~apple~CloudDocs/MyProject/InferenceSystem/src/I5_algorithm/NLP数据集合/新闻数据专区/南方周末杂志/南方周末杂志01.csv\")"
   ]
  }
 ]
}