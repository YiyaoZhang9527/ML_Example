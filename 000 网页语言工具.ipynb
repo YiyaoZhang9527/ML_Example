{
 "cells": [
  {
   "cell_type": "markdown",
   "metadata": {},
   "source": [
    "<form action=\"http://vip.biancheng.net/login.php\" method=\"post\">\n",
    "     年龄区间：\n",
    "     <select>\n",
    "         <option>18岁以下</option>\n",
    "         <option>18-28岁</option>\n",
    "         <option>28-38岁</option>\n",
    "         <option>38岁以上</option>\n",
    "      </select>\n",
    "</form>"
   ]
  },
  {
   "cell_type": "code",
   "execution_count": null,
   "metadata": {},
   "outputs": [],
   "source": []
  },
  {
   "cell_type": "markdown",
   "metadata": {},
   "source": [
    "<form action=\"http://vip.biancheng.net/login.php\" method=\"post\">\n",
    "     <input type=\"image\" \n",
    "      src=\"https://ss0.bdstatic.com/70cFuHSh_Q1YnxGkpoWK1HF6hhy/it/u=1789448540,836075780&fm=26&gp=0.jpg\" \n",
    "      alt=\"此处为提交按钮\"\n",
    "     />\n",
    "</form>"
   ]
  },
  {
   "cell_type": "markdown",
   "metadata": {},
   "source": [
    "<!DOCTYPE html>\n",
    "<html>\n",
    "<body>\n",
    "\n",
    "<button onclick=\"playVid()\" type=\"button\">播放视频</button>\n",
    "<button onclick=\"pauseVid()\" type=\"button\">暂停视频</button>\n",
    "<br />\n",
    "<br />\n",
    "<video id=\"video1\">\n",
    "  <source src=\"/example/html5/mov_bbb.mp4\" type=\"video/mp4\">\n",
    "  <source src=\"/example/html5/mov_bbb.ogg\" type=\"video/ogg\">\n",
    "  Your browser does not support HTML5 video.\n",
    "</video>\n",
    "\n",
    "<script>\n",
    "var myVideo=document.getElementById(\"video1\");\n",
    "\n",
    "function playVid()\n",
    "  {\n",
    "  myVideo.play();\n",
    "  }\n",
    "\n",
    "function pauseVid()\n",
    "  {\n",
    "  myVideo.pause();\n",
    "  }\n",
    "</script>\n",
    "\n",
    "</body>\n",
    "</html>\n",
    "\n"
   ]
  }
 ],
 "metadata": {
  "language_info": {
   "codemirror_mode": {
    "name": "ipython",
    "version": 3
   },
   "file_extension": ".py",
   "mimetype": "text/x-python",
   "name": "python",
   "nbconvert_exporter": "python",
   "pygments_lexer": "ipython3",
   "version": 3
  },
  "orig_nbformat": 2
 },
 "nbformat": 4,
 "nbformat_minor": 2
}