{
 "nbformat": 4,
 "nbformat_minor": 2,
 "metadata": {
  "language_info": {
   "name": "python",
   "codemirror_mode": {
    "name": "ipython",
    "version": 3
   },
   "version": "3.7.3-final"
  },
  "orig_nbformat": 2,
  "file_extension": ".py",
  "mimetype": "text/x-python",
  "name": "python",
  "npconvert_exporter": "python",
  "pygments_lexer": "ipython3",
  "version": 3,
  "kernelspec": {
   "name": "python37364bitd3fa9c7d8c8c4748af3c9ef1d4949f2b",
   "display_name": "Python 3.7.3 64-bit"
  }
 },
 "cells": [
  {
   "cell_type": "code",
   "execution_count": 304,
   "metadata": {},
   "outputs": [],
   "source": [
    "import numpy as np\n",
    "import pandas as pd\n",
    "import matplotlib.pyplot as plt"
   ]
  },
  {
   "cell_type": "code",
   "execution_count": 305,
   "metadata": {},
   "outputs": [
    {
     "output_type": "execute_result",
     "data": {
      "text/plain": "         date       code  open  high   low  close  preclose    volume  \\\n0  2019-07-01  sz.002484  6.19  6.28  6.14   6.27      6.06  16357932   \n1  2019-07-02  sz.002484  6.27  6.29  6.19   6.23      6.27  10547447   \n\n         amount  adjustflag      turn  tradestatus    pctChg  isST  \n0  1.012276e+08           3  2.142080            1  3.465347     0  \n1  6.576962e+07           3  1.381194            1 -0.637958     0  ",
      "text/html": "<div>\n<style scoped>\n    .dataframe tbody tr th:only-of-type {\n        vertical-align: middle;\n    }\n\n    .dataframe tbody tr th {\n        vertical-align: top;\n    }\n\n    .dataframe thead th {\n        text-align: right;\n    }\n</style>\n<table border=\"1\" class=\"dataframe\">\n  <thead>\n    <tr style=\"text-align: right;\">\n      <th></th>\n      <th>date</th>\n      <th>code</th>\n      <th>open</th>\n      <th>high</th>\n      <th>low</th>\n      <th>close</th>\n      <th>preclose</th>\n      <th>volume</th>\n      <th>amount</th>\n      <th>adjustflag</th>\n      <th>turn</th>\n      <th>tradestatus</th>\n      <th>pctChg</th>\n      <th>isST</th>\n    </tr>\n  </thead>\n  <tbody>\n    <tr>\n      <th>0</th>\n      <td>2019-07-01</td>\n      <td>sz.002484</td>\n      <td>6.19</td>\n      <td>6.28</td>\n      <td>6.14</td>\n      <td>6.27</td>\n      <td>6.06</td>\n      <td>16357932</td>\n      <td>1.012276e+08</td>\n      <td>3</td>\n      <td>2.142080</td>\n      <td>1</td>\n      <td>3.465347</td>\n      <td>0</td>\n    </tr>\n    <tr>\n      <th>1</th>\n      <td>2019-07-02</td>\n      <td>sz.002484</td>\n      <td>6.27</td>\n      <td>6.29</td>\n      <td>6.19</td>\n      <td>6.23</td>\n      <td>6.27</td>\n      <td>10547447</td>\n      <td>6.576962e+07</td>\n      <td>3</td>\n      <td>1.381194</td>\n      <td>1</td>\n      <td>-0.637958</td>\n      <td>0</td>\n    </tr>\n  </tbody>\n</table>\n</div>"
     },
     "metadata": {},
     "execution_count": 305
    }
   ],
   "source": [
    "df = pd.read_csv('history_A_stock_k_sz.002484.csv')\n",
    "df.head(2)"
   ]
  },
  {
   "cell_type": "markdown",
   "metadata": {},
   "source": []
  },
  {
   "cell_type": "markdown",
   "metadata": {},
   "source": [
    "### 字符串提取07月数据"
   ]
  },
  {
   "cell_type": "code",
   "execution_count": 306,
   "metadata": {},
   "outputs": [
    {
     "output_type": "execute_result",
     "data": {
      "text/plain": "         date       code  open  high   low  close  preclose    volume  \\\n0  2019-07-01  sz.002484  6.19  6.28  6.14   6.27      6.06  16357932   \n1  2019-07-02  sz.002484  6.27  6.29  6.19   6.23      6.27  10547447   \n\n         amount  adjustflag      turn  tradestatus    pctChg  isST  \n0  1.012276e+08           3  2.142080            1  3.465347     0  \n1  6.576962e+07           3  1.381194            1 -0.637958     0  ",
      "text/html": "<div>\n<style scoped>\n    .dataframe tbody tr th:only-of-type {\n        vertical-align: middle;\n    }\n\n    .dataframe tbody tr th {\n        vertical-align: top;\n    }\n\n    .dataframe thead th {\n        text-align: right;\n    }\n</style>\n<table border=\"1\" class=\"dataframe\">\n  <thead>\n    <tr style=\"text-align: right;\">\n      <th></th>\n      <th>date</th>\n      <th>code</th>\n      <th>open</th>\n      <th>high</th>\n      <th>low</th>\n      <th>close</th>\n      <th>preclose</th>\n      <th>volume</th>\n      <th>amount</th>\n      <th>adjustflag</th>\n      <th>turn</th>\n      <th>tradestatus</th>\n      <th>pctChg</th>\n      <th>isST</th>\n    </tr>\n  </thead>\n  <tbody>\n    <tr>\n      <th>0</th>\n      <td>2019-07-01</td>\n      <td>sz.002484</td>\n      <td>6.19</td>\n      <td>6.28</td>\n      <td>6.14</td>\n      <td>6.27</td>\n      <td>6.06</td>\n      <td>16357932</td>\n      <td>1.012276e+08</td>\n      <td>3</td>\n      <td>2.142080</td>\n      <td>1</td>\n      <td>3.465347</td>\n      <td>0</td>\n    </tr>\n    <tr>\n      <th>1</th>\n      <td>2019-07-02</td>\n      <td>sz.002484</td>\n      <td>6.27</td>\n      <td>6.29</td>\n      <td>6.19</td>\n      <td>6.23</td>\n      <td>6.27</td>\n      <td>10547447</td>\n      <td>6.576962e+07</td>\n      <td>3</td>\n      <td>1.381194</td>\n      <td>1</td>\n      <td>-0.637958</td>\n      <td>0</td>\n    </tr>\n  </tbody>\n</table>\n</div>"
     },
     "metadata": {},
     "execution_count": 306
    }
   ],
   "source": [
    "dfstr_contains = df[df.date.str.contains('-07-')][0:10]\n",
    "dfstr_contains.head(2)"
   ]
  },
  {
   "cell_type": "markdown",
   "metadata": {},
   "source": [
    "### 查看列名"
   ]
  },
  {
   "cell_type": "code",
   "execution_count": 307,
   "metadata": {},
   "outputs": [
    {
     "output_type": "execute_result",
     "data": {
      "text/plain": "Index(['date', 'code', 'open', 'high', 'low', 'close', 'preclose', 'volume',\n       'amount', 'adjustflag', 'turn', 'tradestatus', 'pctChg', 'isST'],\n      dtype='object')"
     },
     "metadata": {},
     "execution_count": 307
    }
   ],
   "source": [
    "df.columns"
   ]
  },
  {
   "cell_type": "markdown",
   "metadata": {},
   "source": [
    "### 修改列名date为日期"
   ]
  },
  {
   "cell_type": "code",
   "execution_count": 308,
   "metadata": {},
   "outputs": [
    {
     "output_type": "execute_result",
     "data": {
      "text/plain": "           日期       code  open  high   low  close  preclose    volume  \\\n0  2019-07-01  sz.002484  6.19  6.28  6.14   6.27      6.06  16357932   \n1  2019-07-02  sz.002484  6.27  6.29  6.19   6.23      6.27  10547447   \n\n         amount  adjustflag      turn  tradestatus    pctChg  isST  \n0  1.012276e+08           3  2.142080            1  3.465347     0  \n1  6.576962e+07           3  1.381194            1 -0.637958     0  ",
      "text/html": "<div>\n<style scoped>\n    .dataframe tbody tr th:only-of-type {\n        vertical-align: middle;\n    }\n\n    .dataframe tbody tr th {\n        vertical-align: top;\n    }\n\n    .dataframe thead th {\n        text-align: right;\n    }\n</style>\n<table border=\"1\" class=\"dataframe\">\n  <thead>\n    <tr style=\"text-align: right;\">\n      <th></th>\n      <th>日期</th>\n      <th>code</th>\n      <th>open</th>\n      <th>high</th>\n      <th>low</th>\n      <th>close</th>\n      <th>preclose</th>\n      <th>volume</th>\n      <th>amount</th>\n      <th>adjustflag</th>\n      <th>turn</th>\n      <th>tradestatus</th>\n      <th>pctChg</th>\n      <th>isST</th>\n    </tr>\n  </thead>\n  <tbody>\n    <tr>\n      <th>0</th>\n      <td>2019-07-01</td>\n      <td>sz.002484</td>\n      <td>6.19</td>\n      <td>6.28</td>\n      <td>6.14</td>\n      <td>6.27</td>\n      <td>6.06</td>\n      <td>16357932</td>\n      <td>1.012276e+08</td>\n      <td>3</td>\n      <td>2.142080</td>\n      <td>1</td>\n      <td>3.465347</td>\n      <td>0</td>\n    </tr>\n    <tr>\n      <th>1</th>\n      <td>2019-07-02</td>\n      <td>sz.002484</td>\n      <td>6.27</td>\n      <td>6.29</td>\n      <td>6.19</td>\n      <td>6.23</td>\n      <td>6.27</td>\n      <td>10547447</td>\n      <td>6.576962e+07</td>\n      <td>3</td>\n      <td>1.381194</td>\n      <td>1</td>\n      <td>-0.637958</td>\n      <td>0</td>\n    </tr>\n  </tbody>\n</table>\n</div>"
     },
     "metadata": {},
     "execution_count": 308
    }
   ],
   "source": [
    "df.rename(columns={'date':'日期'},inplace=True)\n",
    "df.head(2)"
   ]
  },
  {
   "cell_type": "markdown",
   "metadata": {},
   "source": [
    "### 字符统计"
   ]
  },
  {
   "cell_type": "code",
   "execution_count": 309,
   "metadata": {},
   "outputs": [
    {
     "output_type": "execute_result",
     "data": {
      "text/plain": "<bound method IndexOpsMixin.value_counts of 0      3\n1      3\n2      3\n3      3\n4      3\n      ..\n190    3\n191    3\n192    3\n193    3\n194    3\nName: adjustflag, Length: 195, dtype: int64>"
     },
     "metadata": {},
     "execution_count": 309
    }
   ],
   "source": [
    "df['adjustflag'].value_counts"
   ]
  },
  {
   "cell_type": "markdown",
   "metadata": {},
   "source": [
    "### 缺失值处理(将空值用上下值的平均值填充)"
   ]
  },
  {
   "cell_type": "code",
   "execution_count": 310,
   "metadata": {},
   "outputs": [],
   "source": [
    "df['adjustflag'] = df['adjustflag'].fillna(df['adjustflag'].interpolate())"
   ]
  },
  {
   "cell_type": "markdown",
   "metadata": {},
   "source": []
  },
  {
   "cell_type": "markdown",
   "metadata": {},
   "source": [
    "### 提取大于3的值"
   ]
  },
  {
   "cell_type": "code",
   "execution_count": 311,
   "metadata": {},
   "outputs": [
    {
     "output_type": "execute_result",
     "data": {
      "text/plain": "           日期       code  open  high   low  close  preclose    volume  \\\n0  2019-07-01  sz.002484  6.19  6.28  6.14   6.27      6.06  16357932   \n1  2019-07-02  sz.002484  6.27  6.29  6.19   6.23      6.27  10547447   \n\n         amount  adjustflag      turn  tradestatus    pctChg  isST  \n0  1.012276e+08           3  2.142080            1  3.465347     0  \n1  6.576962e+07           3  1.381194            1 -0.637958     0  ",
      "text/html": "<div>\n<style scoped>\n    .dataframe tbody tr th:only-of-type {\n        vertical-align: middle;\n    }\n\n    .dataframe tbody tr th {\n        vertical-align: top;\n    }\n\n    .dataframe thead th {\n        text-align: right;\n    }\n</style>\n<table border=\"1\" class=\"dataframe\">\n  <thead>\n    <tr style=\"text-align: right;\">\n      <th></th>\n      <th>日期</th>\n      <th>code</th>\n      <th>open</th>\n      <th>high</th>\n      <th>low</th>\n      <th>close</th>\n      <th>preclose</th>\n      <th>volume</th>\n      <th>amount</th>\n      <th>adjustflag</th>\n      <th>turn</th>\n      <th>tradestatus</th>\n      <th>pctChg</th>\n      <th>isST</th>\n    </tr>\n  </thead>\n  <tbody>\n    <tr>\n      <th>0</th>\n      <td>2019-07-01</td>\n      <td>sz.002484</td>\n      <td>6.19</td>\n      <td>6.28</td>\n      <td>6.14</td>\n      <td>6.27</td>\n      <td>6.06</td>\n      <td>16357932</td>\n      <td>1.012276e+08</td>\n      <td>3</td>\n      <td>2.142080</td>\n      <td>1</td>\n      <td>3.465347</td>\n      <td>0</td>\n    </tr>\n    <tr>\n      <th>1</th>\n      <td>2019-07-02</td>\n      <td>sz.002484</td>\n      <td>6.27</td>\n      <td>6.29</td>\n      <td>6.19</td>\n      <td>6.23</td>\n      <td>6.27</td>\n      <td>10547447</td>\n      <td>6.576962e+07</td>\n      <td>3</td>\n      <td>1.381194</td>\n      <td>1</td>\n      <td>-0.637958</td>\n      <td>0</td>\n    </tr>\n  </tbody>\n</table>\n</div>"
     },
     "metadata": {},
     "execution_count": 311
    }
   ],
   "source": [
    "dfamount=df[df.amount>3]\n",
    "dfamount.head(2)"
   ]
  },
  {
   "cell_type": "markdown",
   "metadata": {},
   "source": [
    "### 按列进行去重"
   ]
  },
  {
   "cell_type": "code",
   "execution_count": 312,
   "metadata": {},
   "outputs": [
    {
     "output_type": "execute_result",
     "data": {
      "text/plain": "           日期       code  open  high   low  close  preclose    volume  \\\n0  2019-07-01  sz.002484  6.19  6.28  6.14   6.27      6.06  16357932   \n1  2019-07-02  sz.002484  6.27  6.29  6.19   6.23      6.27  10547447   \n\n         amount  adjustflag      turn  tradestatus    pctChg  isST  \n0  1.012276e+08           3  2.142080            1  3.465347     0  \n1  6.576962e+07           3  1.381194            1 -0.637958     0  ",
      "text/html": "<div>\n<style scoped>\n    .dataframe tbody tr th:only-of-type {\n        vertical-align: middle;\n    }\n\n    .dataframe tbody tr th {\n        vertical-align: top;\n    }\n\n    .dataframe thead th {\n        text-align: right;\n    }\n</style>\n<table border=\"1\" class=\"dataframe\">\n  <thead>\n    <tr style=\"text-align: right;\">\n      <th></th>\n      <th>日期</th>\n      <th>code</th>\n      <th>open</th>\n      <th>high</th>\n      <th>low</th>\n      <th>close</th>\n      <th>preclose</th>\n      <th>volume</th>\n      <th>amount</th>\n      <th>adjustflag</th>\n      <th>turn</th>\n      <th>tradestatus</th>\n      <th>pctChg</th>\n      <th>isST</th>\n    </tr>\n  </thead>\n  <tbody>\n    <tr>\n      <th>0</th>\n      <td>2019-07-01</td>\n      <td>sz.002484</td>\n      <td>6.19</td>\n      <td>6.28</td>\n      <td>6.14</td>\n      <td>6.27</td>\n      <td>6.06</td>\n      <td>16357932</td>\n      <td>1.012276e+08</td>\n      <td>3</td>\n      <td>2.142080</td>\n      <td>1</td>\n      <td>3.465347</td>\n      <td>0</td>\n    </tr>\n    <tr>\n      <th>1</th>\n      <td>2019-07-02</td>\n      <td>sz.002484</td>\n      <td>6.27</td>\n      <td>6.29</td>\n      <td>6.19</td>\n      <td>6.23</td>\n      <td>6.27</td>\n      <td>10547447</td>\n      <td>6.576962e+07</td>\n      <td>3</td>\n      <td>1.381194</td>\n      <td>1</td>\n      <td>-0.637958</td>\n      <td>0</td>\n    </tr>\n  </tbody>\n</table>\n</div>"
     },
     "metadata": {},
     "execution_count": 312
    }
   ],
   "source": [
    "dfdrop = df.drop_duplicates(['日期'])\n",
    "dfdrop.head(2)"
   ]
  },
  {
   "cell_type": "markdown",
   "metadata": {},
   "source": [
    "### 平均值"
   ]
  },
  {
   "cell_type": "code",
   "execution_count": 313,
   "metadata": {},
   "outputs": [
    {
     "output_type": "execute_result",
     "data": {
      "text/plain": "open           7.464974e+00\nhigh           7.644103e+00\nlow            7.325795e+00\nclose          7.492974e+00\npreclose       7.477795e+00\nvolume         1.636751e+07\namount         1.349782e+08\nadjustflag     3.000000e+00\nturn           2.142974e+00\ntradestatus    1.000000e+00\npctChg         2.511292e-01\nisST           0.000000e+00\ndtype: float64"
     },
     "metadata": {},
     "execution_count": 313
    }
   ],
   "source": [
    "df.mean()"
   ]
  },
  {
   "cell_type": "markdown",
   "metadata": {},
   "source": [
    "### open列均值"
   ]
  },
  {
   "cell_type": "code",
   "execution_count": 314,
   "metadata": {},
   "outputs": [
    {
     "output_type": "execute_result",
     "data": {
      "text/plain": "7.464974358974359"
     },
     "metadata": {},
     "execution_count": 314
    }
   ],
   "source": [
    "df['open'].mean()"
   ]
  },
  {
   "cell_type": "markdown",
   "metadata": {},
   "source": [
    "### 计数"
   ]
  },
  {
   "cell_type": "code",
   "execution_count": 315,
   "metadata": {},
   "outputs": [
    {
     "output_type": "execute_result",
     "data": {
      "text/plain": "195"
     },
     "metadata": {},
     "execution_count": 315
    }
   ],
   "source": [
    "df['open'].count()"
   ]
  },
  {
   "cell_type": "markdown",
   "metadata": {},
   "source": [
    "### 求和"
   ]
  },
  {
   "cell_type": "code",
   "execution_count": 316,
   "metadata": {},
   "outputs": [
    {
     "output_type": "execute_result",
     "data": {
      "text/plain": "1455.67"
     },
     "metadata": {},
     "execution_count": 316
    }
   ],
   "source": [
    "df['open'].sum()"
   ]
  },
  {
   "cell_type": "markdown",
   "metadata": {},
   "source": [
    "### 平均绝对方差"
   ]
  },
  {
   "cell_type": "code",
   "execution_count": 317,
   "metadata": {},
   "outputs": [
    {
     "output_type": "execute_result",
     "data": {
      "text/plain": "0.9904299802761344"
     },
     "metadata": {},
     "execution_count": 317
    }
   ],
   "source": [
    "df['open'].mad()"
   ]
  },
  {
   "cell_type": "markdown",
   "metadata": {},
   "source": [
    "### 方差"
   ]
  },
  {
   "cell_type": "code",
   "execution_count": 318,
   "metadata": {},
   "outputs": [
    {
     "output_type": "execute_result",
     "data": {
      "text/plain": "open           1.514540e+00\nhigh           1.706726e+00\nlow            1.355253e+00\nclose          1.536890e+00\npreclose       1.535223e+00\nvolume         1.872347e+14\namount         2.092942e+16\nadjustflag     0.000000e+00\nturn           3.210741e+00\ntradestatus    0.000000e+00\npctChg         9.372311e+00\nisST           0.000000e+00\ndtype: float64"
     },
     "metadata": {},
     "execution_count": 318
    }
   ],
   "source": [
    "df.var()"
   ]
  },
  {
   "cell_type": "markdown",
   "metadata": {},
   "source": [
    "### 中位数"
   ]
  },
  {
   "cell_type": "code",
   "execution_count": 319,
   "metadata": {},
   "outputs": [
    {
     "output_type": "execute_result",
     "data": {
      "text/plain": "7.1"
     },
     "metadata": {},
     "execution_count": 319
    }
   ],
   "source": [
    "df['open'].median()"
   ]
  },
  {
   "cell_type": "markdown",
   "metadata": {},
   "source": [
    "### 最大值"
   ]
  },
  {
   "cell_type": "code",
   "execution_count": 320,
   "metadata": {},
   "outputs": [
    {
     "output_type": "execute_result",
     "data": {
      "text/plain": "11.8"
     },
     "metadata": {},
     "execution_count": 320
    }
   ],
   "source": [
    "df['open'].max()"
   ]
  },
  {
   "cell_type": "markdown",
   "metadata": {},
   "source": [
    "### 最小值"
   ]
  },
  {
   "cell_type": "code",
   "execution_count": 321,
   "metadata": {},
   "outputs": [
    {
     "output_type": "execute_result",
     "data": {
      "text/plain": "5.62"
     },
     "metadata": {},
     "execution_count": 321
    }
   ],
   "source": [
    "df['open'].min()"
   ]
  },
  {
   "cell_type": "markdown",
   "metadata": {},
   "source": [
    "### 能够获取到的最小值索引"
   ]
  },
  {
   "cell_type": "code",
   "execution_count": 322,
   "metadata": {},
   "outputs": [
    {
     "output_type": "execute_result",
     "data": {
      "text/plain": "28"
     },
     "metadata": {},
     "execution_count": 322
    }
   ],
   "source": [
    "df['open'].argmin()"
   ]
  },
  {
   "cell_type": "markdown",
   "metadata": {},
   "source": [
    "### 弄够获到的最大值索引"
   ]
  },
  {
   "cell_type": "code",
   "execution_count": 323,
   "metadata": {},
   "outputs": [
    {
     "output_type": "execute_result",
     "data": {
      "text/plain": "159"
     },
     "metadata": {},
     "execution_count": 323
    }
   ],
   "source": [
    "df['open'].idxmax()"
   ]
  },
  {
   "cell_type": "markdown",
   "metadata": {},
   "source": [
    "### 每列最小值索引"
   ]
  },
  {
   "cell_type": "code",
   "execution_count": 324,
   "metadata": {},
   "outputs": [
    {
     "output_type": "execute_result",
     "data": {
      "text/plain": "<bound method DataFrame.idxmin of              日期       code  open  high   low  close  preclose    volume  \\\n0    2019-07-01  sz.002484  6.19  6.28  6.14   6.27      6.06  16357932   \n1    2019-07-02  sz.002484  6.27  6.29  6.19   6.23      6.27  10547447   \n2    2019-07-03  sz.002484  6.22  6.22  6.08   6.10      6.23   6266504   \n3    2019-07-04  sz.002484  6.11  6.14  6.06   6.08      6.10   3610427   \n4    2019-07-05  sz.002484  6.09  6.38  6.05   6.17      6.08   8952717   \n..          ...        ...   ...   ...   ...    ...       ...       ...   \n190  2020-04-10  sz.002484  8.87  9.28  8.65   8.93      8.80  24176109   \n191  2020-04-13  sz.002484  8.80  8.80  8.43   8.53      8.93  15172049   \n192  2020-04-14  sz.002484  8.65  8.88  8.65   8.88      8.53  13085732   \n193  2020-04-15  sz.002484  8.89  9.26  8.83   9.03      8.88  19425910   \n194  2020-04-16  sz.002484  8.95  9.12  8.83   9.02      9.03  13838813   \n\n           amount  adjustflag      turn  tradestatus    pctChg  isST  \n0    1.012276e+08           3  2.142080            1  3.465347     0  \n1    6.576962e+07           3  1.381194            1 -0.637958     0  \n2    3.835492e+07           3  0.820602            1 -2.086679     0  \n3    2.201540e+07           3  0.472787            1 -0.327869     0  \n4    5.530906e+07           3  1.172363            1  1.480266     0  \n..            ...         ...       ...          ...       ...   ...  \n190  2.161476e+08           3  3.158100            1  1.477300     0  \n191  1.300821e+08           3  1.981900            1 -4.479300     0  \n192  1.147434e+08           3  1.709300            1  4.103200     0  \n193  1.760790e+08           3  2.537500            1  1.689200     0  \n194  1.244921e+08           3  1.807700            1 -0.110700     0  \n\n[195 rows x 14 columns]>"
     },
     "metadata": {},
     "execution_count": 324
    }
   ],
   "source": [
    "df.idxmin"
   ]
  },
  {
   "cell_type": "markdown",
   "metadata": {},
   "source": [
    "### 每列最大值索引"
   ]
  },
  {
   "cell_type": "code",
   "execution_count": 325,
   "metadata": {},
   "outputs": [
    {
     "output_type": "execute_result",
     "data": {
      "text/plain": "<bound method DataFrame.idxmax of              日期       code  open  high   low  close  preclose    volume  \\\n0    2019-07-01  sz.002484  6.19  6.28  6.14   6.27      6.06  16357932   \n1    2019-07-02  sz.002484  6.27  6.29  6.19   6.23      6.27  10547447   \n2    2019-07-03  sz.002484  6.22  6.22  6.08   6.10      6.23   6266504   \n3    2019-07-04  sz.002484  6.11  6.14  6.06   6.08      6.10   3610427   \n4    2019-07-05  sz.002484  6.09  6.38  6.05   6.17      6.08   8952717   \n..          ...        ...   ...   ...   ...    ...       ...       ...   \n190  2020-04-10  sz.002484  8.87  9.28  8.65   8.93      8.80  24176109   \n191  2020-04-13  sz.002484  8.80  8.80  8.43   8.53      8.93  15172049   \n192  2020-04-14  sz.002484  8.65  8.88  8.65   8.88      8.53  13085732   \n193  2020-04-15  sz.002484  8.89  9.26  8.83   9.03      8.88  19425910   \n194  2020-04-16  sz.002484  8.95  9.12  8.83   9.02      9.03  13838813   \n\n           amount  adjustflag      turn  tradestatus    pctChg  isST  \n0    1.012276e+08           3  2.142080            1  3.465347     0  \n1    6.576962e+07           3  1.381194            1 -0.637958     0  \n2    3.835492e+07           3  0.820602            1 -2.086679     0  \n3    2.201540e+07           3  0.472787            1 -0.327869     0  \n4    5.530906e+07           3  1.172363            1  1.480266     0  \n..            ...         ...       ...          ...       ...   ...  \n190  2.161476e+08           3  3.158100            1  1.477300     0  \n191  1.300821e+08           3  1.981900            1 -4.479300     0  \n192  1.147434e+08           3  1.709300            1  4.103200     0  \n193  1.760790e+08           3  2.537500            1  1.689200     0  \n194  1.244921e+08           3  1.807700            1 -0.110700     0  \n\n[195 rows x 14 columns]>"
     },
     "metadata": {},
     "execution_count": 325
    }
   ],
   "source": [
    "df.idxmax"
   ]
  },
  {
   "cell_type": "markdown",
   "metadata": {},
   "source": [
    "### 众数"
   ]
  },
  {
   "cell_type": "code",
   "execution_count": 326,
   "metadata": {},
   "outputs": [
    {
     "output_type": "execute_result",
     "data": {
      "text/plain": "0    6.70\n1    6.76\n2    6.86\ndtype: float64"
     },
     "metadata": {},
     "execution_count": 326
    }
   ],
   "source": [
    "df['open'].mode()"
   ]
  },
  {
   "cell_type": "markdown",
   "metadata": {},
   "source": [
    "### 标准差"
   ]
  },
  {
   "cell_type": "code",
   "execution_count": 327,
   "metadata": {},
   "outputs": [
    {
     "output_type": "execute_result",
     "data": {
      "text/plain": "open           1.230666e+00\nhigh           1.306417e+00\nlow            1.164153e+00\nclose          1.239714e+00\npreclose       1.239041e+00\nvolume         1.368337e+07\namount         1.446700e+08\nadjustflag     0.000000e+00\nturn           1.791854e+00\ntradestatus    0.000000e+00\npctChg         3.061423e+00\nisST           0.000000e+00\ndtype: float64"
     },
     "metadata": {},
     "execution_count": 327
    }
   ],
   "source": [
    "df.std()"
   ]
  },
  {
   "cell_type": "markdown",
   "metadata": {},
   "source": [
    "### 均方误差"
   ]
  },
  {
   "cell_type": "code",
   "execution_count": 328,
   "metadata": {},
   "outputs": [
    {
     "output_type": "execute_result",
     "data": {
      "text/plain": "0      1.625560\n1      1.427964\n2      1.549961\n3      1.835956\n4      1.890554\n         ...   \n190    1.974097\n191    1.782293\n192    1.404286\n193    2.030698\n194    2.205301\nName: open, Length: 195, dtype: float64"
     },
     "metadata": {},
     "execution_count": 328
    }
   ],
   "source": [
    "np.power(df['open']-df['open'].mean(),2)"
   ]
  },
  {
   "cell_type": "markdown",
   "metadata": {},
   "source": [
    "### 标准误"
   ]
  },
  {
   "cell_type": "code",
   "execution_count": 329,
   "metadata": {},
   "outputs": [
    {
     "output_type": "execute_result",
     "data": {
      "text/plain": "open           8.812984e-02\nhigh           9.355449e-02\nlow            8.336676e-02\nclose          8.877774e-02\npreclose       8.872959e-02\nvolume         9.798867e+05\namount         1.036004e+07\nadjustflag     0.000000e+00\nturn           1.283173e-01\ntradestatus    0.000000e+00\npctChg         2.192331e-01\nisST           0.000000e+00\ndtype: float64"
     },
     "metadata": {},
     "execution_count": 329
    }
   ],
   "source": [
    "df.sem()"
   ]
  },
  {
   "cell_type": "markdown",
   "metadata": {},
   "source": [
    "### 偏峰度"
   ]
  },
  {
   "cell_type": "code",
   "execution_count": 330,
   "metadata": {},
   "outputs": [
    {
     "output_type": "execute_result",
     "data": {
      "text/plain": "open           0.939653\nhigh           0.989638\nlow            0.813814\nclose          0.916476\npreclose       0.937299\nvolume         2.426108\namount         3.191337\nadjustflag     0.000000\nturn           2.426638\ntradestatus    0.000000\npctChg        -0.365956\nisST           0.000000\ndtype: float64"
     },
     "metadata": {},
     "execution_count": 330
    }
   ],
   "source": [
    "df.skew()"
   ]
  },
  {
   "cell_type": "markdown",
   "metadata": {},
   "source": [
    "### 分位数(0.3分位)"
   ]
  },
  {
   "cell_type": "code",
   "execution_count": 331,
   "metadata": {},
   "outputs": [
    {
     "output_type": "execute_result",
     "data": {
      "text/plain": "open           6.760000e+00\nhigh           6.922000e+00\nlow            6.672000e+00\nclose          6.784000e+00\npreclose       6.772000e+00\nvolume         8.245704e+06\namount         5.615325e+07\nadjustflag     3.000000e+00\nturn           1.079800e+00\ntradestatus    1.000000e+00\npctChg        -8.217978e-01\nisST           0.000000e+00\nName: 0.3, dtype: float64"
     },
     "metadata": {},
     "execution_count": 331
    }
   ],
   "source": [
    "df.quantile(0.3)"
   ]
  },
  {
   "cell_type": "markdown",
   "metadata": {},
   "source": [
    "### 累加"
   ]
  },
  {
   "cell_type": "code",
   "execution_count": 332,
   "metadata": {},
   "outputs": [
    {
     "output_type": "execute_result",
     "data": {
      "text/plain": "0         6.19\n1        12.46\n2        18.68\n3        24.79\n4        30.88\n        ...   \n190    1420.38\n191    1429.18\n192    1437.83\n193    1446.72\n194    1455.67\nName: open, Length: 195, dtype: float64"
     },
     "metadata": {},
     "execution_count": 332
    }
   ],
   "source": [
    "df['open'].cumsum()"
   ]
  },
  {
   "cell_type": "markdown",
   "metadata": {},
   "source": [
    "### 累乘法"
   ]
  },
  {
   "cell_type": "code",
   "execution_count": 333,
   "metadata": {},
   "outputs": [
    {
     "output_type": "execute_result",
     "data": {
      "text/plain": "0       6.190000e+00\n1       3.881130e+01\n2       2.414063e+02\n3       1.474992e+03\n4       8.982704e+03\n           ...      \n190    2.437888e+165\n191    2.145341e+166\n192    1.855720e+167\n193    1.649735e+168\n194    1.476513e+169\nName: open, Length: 195, dtype: float64"
     },
     "metadata": {},
     "execution_count": 333
    }
   ],
   "source": [
    "df['open'].cumprod()"
   ]
  },
  {
   "cell_type": "markdown",
   "metadata": {},
   "source": [
    "### 累计最大值"
   ]
  },
  {
   "cell_type": "code",
   "execution_count": 334,
   "metadata": {},
   "outputs": [
    {
     "output_type": "execute_result",
     "data": {
      "text/plain": "0       6.19\n1       6.27\n2       6.27\n3       6.27\n4       6.27\n       ...  \n190    11.80\n191    11.80\n192    11.80\n193    11.80\n194    11.80\nName: open, Length: 195, dtype: float64"
     },
     "metadata": {},
     "execution_count": 334
    }
   ],
   "source": [
    "df['open'].cummax()"
   ]
  },
  {
   "cell_type": "markdown",
   "metadata": {},
   "source": [
    "### 累计最小值"
   ]
  },
  {
   "cell_type": "code",
   "execution_count": 335,
   "metadata": {},
   "outputs": [
    {
     "output_type": "execute_result",
     "data": {
      "text/plain": "0      6.19\n1      6.19\n2      6.19\n3      6.11\n4      6.09\n       ... \n190    5.62\n191    5.62\n192    5.62\n193    5.62\n194    5.62\nName: open, Length: 195, dtype: float64"
     },
     "metadata": {},
     "execution_count": 335
    }
   ],
   "source": [
    "df['open'].cummin()"
   ]
  },
  {
   "cell_type": "markdown",
   "metadata": {},
   "source": [
    "### 协方差矩阵"
   ]
  },
  {
   "cell_type": "code",
   "execution_count": 336,
   "metadata": {},
   "outputs": [
    {
     "output_type": "execute_result",
     "data": {
      "text/plain": "          turn      open      high\nturn  3.210741  1.560767  1.790040\nopen  1.560767  1.514540  1.589599\nhigh  1.790040  1.589599  1.706726",
      "text/html": "<div>\n<style scoped>\n    .dataframe tbody tr th:only-of-type {\n        vertical-align: middle;\n    }\n\n    .dataframe tbody tr th {\n        vertical-align: top;\n    }\n\n    .dataframe thead th {\n        text-align: right;\n    }\n</style>\n<table border=\"1\" class=\"dataframe\">\n  <thead>\n    <tr style=\"text-align: right;\">\n      <th></th>\n      <th>turn</th>\n      <th>open</th>\n      <th>high</th>\n    </tr>\n  </thead>\n  <tbody>\n    <tr>\n      <th>turn</th>\n      <td>3.210741</td>\n      <td>1.560767</td>\n      <td>1.790040</td>\n    </tr>\n    <tr>\n      <th>open</th>\n      <td>1.560767</td>\n      <td>1.514540</td>\n      <td>1.589599</td>\n    </tr>\n    <tr>\n      <th>high</th>\n      <td>1.790040</td>\n      <td>1.589599</td>\n      <td>1.706726</td>\n    </tr>\n  </tbody>\n</table>\n</div>"
     },
     "metadata": {},
     "execution_count": 336
    }
   ],
   "source": [
    "df[['turn','open','high']].cov()"
   ]
  },
  {
   "cell_type": "markdown",
   "metadata": {},
   "source": [
    "### 相关系数"
   ]
  },
  {
   "cell_type": "markdown",
   "metadata": {},
   "source": [
    "### spearman：非线性的，非正太分析的数据的相关系数"
   ]
  },
  {
   "cell_type": "code",
   "execution_count": 337,
   "metadata": {},
   "outputs": [
    {
     "output_type": "execute_result",
     "data": {
      "text/plain": "          turn      open      high\nturn  1.000000  0.684100  0.757201\nopen  0.684100  1.000000  0.985015\nhigh  0.757201  0.985015  1.000000",
      "text/html": "<div>\n<style scoped>\n    .dataframe tbody tr th:only-of-type {\n        vertical-align: middle;\n    }\n\n    .dataframe tbody tr th {\n        vertical-align: top;\n    }\n\n    .dataframe thead th {\n        text-align: right;\n    }\n</style>\n<table border=\"1\" class=\"dataframe\">\n  <thead>\n    <tr style=\"text-align: right;\">\n      <th></th>\n      <th>turn</th>\n      <th>open</th>\n      <th>high</th>\n    </tr>\n  </thead>\n  <tbody>\n    <tr>\n      <th>turn</th>\n      <td>1.000000</td>\n      <td>0.684100</td>\n      <td>0.757201</td>\n    </tr>\n    <tr>\n      <th>open</th>\n      <td>0.684100</td>\n      <td>1.000000</td>\n      <td>0.985015</td>\n    </tr>\n    <tr>\n      <th>high</th>\n      <td>0.757201</td>\n      <td>0.985015</td>\n      <td>1.000000</td>\n    </tr>\n  </tbody>\n</table>\n</div>"
     },
     "metadata": {},
     "execution_count": 337
    }
   ],
   "source": [
    "df[['turn','open','high']].corr(method='spearman')"
   ]
  },
  {
   "cell_type": "markdown",
   "metadata": {},
   "source": [
    "### kendall：用于反映分类变量相关性的指标，即针对无序序列的相关系数，非正太分布的数据"
   ]
  },
  {
   "cell_type": "code",
   "execution_count": 338,
   "metadata": {},
   "outputs": [
    {
     "output_type": "execute_result",
     "data": {
      "text/plain": "          turn      open      high\nturn  1.000000  0.516301  0.581112\nopen  0.516301  1.000000  0.910610\nhigh  0.581112  0.910610  1.000000",
      "text/html": "<div>\n<style scoped>\n    .dataframe tbody tr th:only-of-type {\n        vertical-align: middle;\n    }\n\n    .dataframe tbody tr th {\n        vertical-align: top;\n    }\n\n    .dataframe thead th {\n        text-align: right;\n    }\n</style>\n<table border=\"1\" class=\"dataframe\">\n  <thead>\n    <tr style=\"text-align: right;\">\n      <th></th>\n      <th>turn</th>\n      <th>open</th>\n      <th>high</th>\n    </tr>\n  </thead>\n  <tbody>\n    <tr>\n      <th>turn</th>\n      <td>1.000000</td>\n      <td>0.516301</td>\n      <td>0.581112</td>\n    </tr>\n    <tr>\n      <th>open</th>\n      <td>0.516301</td>\n      <td>1.000000</td>\n      <td>0.910610</td>\n    </tr>\n    <tr>\n      <th>high</th>\n      <td>0.581112</td>\n      <td>0.910610</td>\n      <td>1.000000</td>\n    </tr>\n  </tbody>\n</table>\n</div>"
     },
     "metadata": {},
     "execution_count": 338
    }
   ],
   "source": [
    "df[['turn','open','high']].corr(method='kendall')"
   ]
  },
  {
   "cell_type": "markdown",
   "metadata": {},
   "source": [
    "### pearson：Pearson相关系数来衡量两个数据集合是否在一条线上面，即针对线性数据的相关系数计算，针对非线性数据便会有误差。"
   ]
  },
  {
   "cell_type": "code",
   "execution_count": 339,
   "metadata": {},
   "outputs": [
    {
     "output_type": "execute_result",
     "data": {
      "text/plain": "          turn      open      high\nturn  1.000000  0.707775  0.764677\nopen  0.707775  1.000000  0.988702\nhigh  0.764677  0.988702  1.000000",
      "text/html": "<div>\n<style scoped>\n    .dataframe tbody tr th:only-of-type {\n        vertical-align: middle;\n    }\n\n    .dataframe tbody tr th {\n        vertical-align: top;\n    }\n\n    .dataframe thead th {\n        text-align: right;\n    }\n</style>\n<table border=\"1\" class=\"dataframe\">\n  <thead>\n    <tr style=\"text-align: right;\">\n      <th></th>\n      <th>turn</th>\n      <th>open</th>\n      <th>high</th>\n    </tr>\n  </thead>\n  <tbody>\n    <tr>\n      <th>turn</th>\n      <td>1.000000</td>\n      <td>0.707775</td>\n      <td>0.764677</td>\n    </tr>\n    <tr>\n      <th>open</th>\n      <td>0.707775</td>\n      <td>1.000000</td>\n      <td>0.988702</td>\n    </tr>\n    <tr>\n      <th>high</th>\n      <td>0.764677</td>\n      <td>0.988702</td>\n      <td>1.000000</td>\n    </tr>\n  </tbody>\n</table>\n</div>"
     },
     "metadata": {},
     "execution_count": 339
    }
   ],
   "source": [
    "df[['turn','open','high']].corr(method='pearson')"
   ]
  },
  {
   "cell_type": "code",
   "execution_count": 340,
   "metadata": {},
   "outputs": [
    {
     "output_type": "execute_result",
     "data": {
      "text/plain": "0      130.0\n1       81.0\n2       36.0\n3        7.0\n4       64.0\n       ...  \n190    161.0\n191    121.0\n192    101.0\n193    142.0\n194    112.0\nName: turn, Length: 195, dtype: float64"
     },
     "metadata": {},
     "execution_count": 340
    }
   ],
   "source": [
    "df['turn'].rank()"
   ]
  },
  {
   "cell_type": "markdown",
   "metadata": {},
   "source": [
    "### DataFrame转字典"
   ]
  },
  {
   "cell_type": "code",
   "execution_count": 341,
   "metadata": {},
   "outputs": [
    {
     "output_type": "execute_result",
     "data": {
      "text/plain": "{'日期': {0: '2019-07-01',\n  1: '2019-07-02',\n  2: '2019-07-03',\n  3: '2019-07-04',\n  4: '2019-07-05'},\n 'code': {0: 'sz.002484',\n  1: 'sz.002484',\n  2: 'sz.002484',\n  3: 'sz.002484',\n  4: 'sz.002484'},\n 'open': {0: 6.19, 1: 6.27, 2: 6.22, 3: 6.11, 4: 6.09},\n 'high': {0: 6.28, 1: 6.29, 2: 6.22, 3: 6.14, 4: 6.38},\n 'low': {0: 6.14, 1: 6.19, 2: 6.08, 3: 6.06, 4: 6.05},\n 'close': {0: 6.27, 1: 6.23, 2: 6.1, 3: 6.08, 4: 6.17},\n 'preclose': {0: 6.06, 1: 6.27, 2: 6.23, 3: 6.1, 4: 6.08},\n 'volume': {0: 16357932, 1: 10547447, 2: 6266504, 3: 3610427, 4: 8952717},\n 'amount': {0: 101227590.56,\n  1: 65769623.2,\n  2: 38354919.96,\n  3: 22015399.29,\n  4: 55309059.72},\n 'adjustflag': {0: 3, 1: 3, 2: 3, 3: 3, 4: 3},\n 'turn': {0: 2.14208,\n  1: 1.381194,\n  2: 0.820602,\n  3: 0.472787,\n  4: 1.1723629999999998},\n 'tradestatus': {0: 1, 1: 1, 2: 1, 3: 1, 4: 1},\n 'pctChg': {0: 3.465347,\n  1: -0.637958,\n  2: -2.086679,\n  3: -0.327869,\n  4: 1.480266},\n 'isST': {0: 0, 1: 0, 2: 0, 3: 0, 4: 0}}"
     },
     "metadata": {},
     "execution_count": 341
    }
   ],
   "source": [
    "df.head().to_dict()"
   ]
  },
  {
   "cell_type": "markdown",
   "metadata": {},
   "source": [
    "### 列转list"
   ]
  },
  {
   "cell_type": "code",
   "execution_count": 342,
   "metadata": {},
   "outputs": [
    {
     "output_type": "execute_result",
     "data": {
      "text/plain": "[6.19, 6.27, 6.22]"
     },
     "metadata": {},
     "execution_count": 342
    }
   ],
   "source": [
    "df.open.head(3).to_list()"
   ]
  },
  {
   "cell_type": "markdown",
   "metadata": {},
   "source": [
    "### 查看行列"
   ]
  },
  {
   "cell_type": "code",
   "execution_count": 343,
   "metadata": {},
   "outputs": [
    {
     "output_type": "execute_result",
     "data": {
      "text/plain": "(195, 14)"
     },
     "metadata": {},
     "execution_count": 343
    }
   ],
   "source": [
    "df.shape"
   ]
  },
  {
   "cell_type": "markdown",
   "metadata": {},
   "source": [
    "### 拼接提取"
   ]
  },
  {
   "cell_type": "code",
   "execution_count": 344,
   "metadata": {},
   "outputs": [
    {
     "output_type": "execute_result",
     "data": {
      "text/plain": "           日期       code  open  high   low  close  preclose    volume  \\\n0  2019-07-01  sz.002484  6.19  6.28  6.14   6.27      6.06  16357932   \n1  2019-07-02  sz.002484  6.27  6.29  6.19   6.23      6.27  10547447   \n2  2019-07-03  sz.002484  6.22  6.22  6.08   6.10      6.23   6266504   \n\n         amount  adjustflag      turn  tradestatus    pctChg  isST  \n0  1.012276e+08           3  2.142080            1  3.465347     0  \n1  6.576962e+07           3  1.381194            1 -0.637958     0  \n2  3.835492e+07           3  0.820602            1 -2.086679     0  ",
      "text/html": "<div>\n<style scoped>\n    .dataframe tbody tr th:only-of-type {\n        vertical-align: middle;\n    }\n\n    .dataframe tbody tr th {\n        vertical-align: top;\n    }\n\n    .dataframe thead th {\n        text-align: right;\n    }\n</style>\n<table border=\"1\" class=\"dataframe\">\n  <thead>\n    <tr style=\"text-align: right;\">\n      <th></th>\n      <th>日期</th>\n      <th>code</th>\n      <th>open</th>\n      <th>high</th>\n      <th>low</th>\n      <th>close</th>\n      <th>preclose</th>\n      <th>volume</th>\n      <th>amount</th>\n      <th>adjustflag</th>\n      <th>turn</th>\n      <th>tradestatus</th>\n      <th>pctChg</th>\n      <th>isST</th>\n    </tr>\n  </thead>\n  <tbody>\n    <tr>\n      <th>0</th>\n      <td>2019-07-01</td>\n      <td>sz.002484</td>\n      <td>6.19</td>\n      <td>6.28</td>\n      <td>6.14</td>\n      <td>6.27</td>\n      <td>6.06</td>\n      <td>16357932</td>\n      <td>1.012276e+08</td>\n      <td>3</td>\n      <td>2.142080</td>\n      <td>1</td>\n      <td>3.465347</td>\n      <td>0</td>\n    </tr>\n    <tr>\n      <th>1</th>\n      <td>2019-07-02</td>\n      <td>sz.002484</td>\n      <td>6.27</td>\n      <td>6.29</td>\n      <td>6.19</td>\n      <td>6.23</td>\n      <td>6.27</td>\n      <td>10547447</td>\n      <td>6.576962e+07</td>\n      <td>3</td>\n      <td>1.381194</td>\n      <td>1</td>\n      <td>-0.637958</td>\n      <td>0</td>\n    </tr>\n    <tr>\n      <th>2</th>\n      <td>2019-07-03</td>\n      <td>sz.002484</td>\n      <td>6.22</td>\n      <td>6.22</td>\n      <td>6.08</td>\n      <td>6.10</td>\n      <td>6.23</td>\n      <td>6266504</td>\n      <td>3.835492e+07</td>\n      <td>3</td>\n      <td>0.820602</td>\n      <td>1</td>\n      <td>-2.086679</td>\n      <td>0</td>\n    </tr>\n  </tbody>\n</table>\n</div>"
     },
     "metadata": {},
     "execution_count": 344
    }
   ],
   "source": [
    "df[(df.open > 6) & (df.open < 10)].head(3)"
   ]
  },
  {
   "cell_type": "markdown",
   "metadata": {},
   "source": [
    "### 交换列位置"
   ]
  },
  {
   "cell_type": "markdown",
   "metadata": {},
   "source": [
    "### 只有两列"
   ]
  },
  {
   "cell_type": "code",
   "execution_count": 345,
   "metadata": {},
   "outputs": [
    {
     "output_type": "execute_result",
     "data": {
      "text/plain": "        code          日期\n0  sz.002484  2019-07-01\n1  sz.002484  2019-07-02",
      "text/html": "<div>\n<style scoped>\n    .dataframe tbody tr th:only-of-type {\n        vertical-align: middle;\n    }\n\n    .dataframe tbody tr th {\n        vertical-align: top;\n    }\n\n    .dataframe thead th {\n        text-align: right;\n    }\n</style>\n<table border=\"1\" class=\"dataframe\">\n  <thead>\n    <tr style=\"text-align: right;\">\n      <th></th>\n      <th>code</th>\n      <th>日期</th>\n    </tr>\n  </thead>\n  <tbody>\n    <tr>\n      <th>0</th>\n      <td>sz.002484</td>\n      <td>2019-07-01</td>\n    </tr>\n    <tr>\n      <th>1</th>\n      <td>sz.002484</td>\n      <td>2019-07-02</td>\n    </tr>\n  </tbody>\n</table>\n</div>"
     },
     "metadata": {},
     "execution_count": 345
    }
   ],
   "source": [
    "clos = df.columns[[1,0]]\n",
    "df[clos].head(2)"
   ]
  },
  {
   "cell_type": "markdown",
   "metadata": {},
   "source": [
    "### 整体调整"
   ]
  },
  {
   "cell_type": "code",
   "execution_count": 346,
   "metadata": {},
   "outputs": [
    {
     "output_type": "execute_result",
     "data": {
      "text/plain": "   open          日期       code  high   low  close  preclose    volume  \\\n0  6.19  2019-07-01  sz.002484  6.28  6.14   6.27      6.06  16357932   \n1  6.27  2019-07-02  sz.002484  6.29  6.19   6.23      6.27  10547447   \n\n         amount  adjustflag      turn  tradestatus    pctChg  isST  \n0  1.012276e+08           3  2.142080            1  3.465347     0  \n1  6.576962e+07           3  1.381194            1 -0.637958     0  ",
      "text/html": "<div>\n<style scoped>\n    .dataframe tbody tr th:only-of-type {\n        vertical-align: middle;\n    }\n\n    .dataframe tbody tr th {\n        vertical-align: top;\n    }\n\n    .dataframe thead th {\n        text-align: right;\n    }\n</style>\n<table border=\"1\" class=\"dataframe\">\n  <thead>\n    <tr style=\"text-align: right;\">\n      <th></th>\n      <th>open</th>\n      <th>日期</th>\n      <th>code</th>\n      <th>high</th>\n      <th>low</th>\n      <th>close</th>\n      <th>preclose</th>\n      <th>volume</th>\n      <th>amount</th>\n      <th>adjustflag</th>\n      <th>turn</th>\n      <th>tradestatus</th>\n      <th>pctChg</th>\n      <th>isST</th>\n    </tr>\n  </thead>\n  <tbody>\n    <tr>\n      <th>0</th>\n      <td>6.19</td>\n      <td>2019-07-01</td>\n      <td>sz.002484</td>\n      <td>6.28</td>\n      <td>6.14</td>\n      <td>6.27</td>\n      <td>6.06</td>\n      <td>16357932</td>\n      <td>1.012276e+08</td>\n      <td>3</td>\n      <td>2.142080</td>\n      <td>1</td>\n      <td>3.465347</td>\n      <td>0</td>\n    </tr>\n    <tr>\n      <th>1</th>\n      <td>6.27</td>\n      <td>2019-07-02</td>\n      <td>sz.002484</td>\n      <td>6.29</td>\n      <td>6.19</td>\n      <td>6.23</td>\n      <td>6.27</td>\n      <td>10547447</td>\n      <td>6.576962e+07</td>\n      <td>3</td>\n      <td>1.381194</td>\n      <td>1</td>\n      <td>-0.637958</td>\n      <td>0</td>\n    </tr>\n  </tbody>\n</table>\n</div>"
     },
     "metadata": {},
     "execution_count": 346
    }
   ],
   "source": [
    "temp = df.open\n",
    "df.drop(labels=['open'],axis=1,inplace=True)\n",
    "df.insert(0,'open',temp)\n",
    "df.head(2)"
   ]
  },
  {
   "cell_type": "markdown",
   "metadata": {},
   "source": [
    "### 查看末尾数据"
   ]
  },
  {
   "cell_type": "code",
   "execution_count": 347,
   "metadata": {},
   "outputs": [
    {
     "output_type": "execute_result",
     "data": {
      "text/plain": "     open          日期       code  high   low  close  preclose    volume  \\\n192  8.65  2020-04-14  sz.002484  8.88  8.65   8.88      8.53  13085732   \n193  8.89  2020-04-15  sz.002484  9.26  8.83   9.03      8.88  19425910   \n194  8.95  2020-04-16  sz.002484  9.12  8.83   9.02      9.03  13838813   \n\n           amount  adjustflag    turn  tradestatus  pctChg  isST  \n192  1.147434e+08           3  1.7093            1  4.1032     0  \n193  1.760790e+08           3  2.5375            1  1.6892     0  \n194  1.244921e+08           3  1.8077            1 -0.1107     0  ",
      "text/html": "<div>\n<style scoped>\n    .dataframe tbody tr th:only-of-type {\n        vertical-align: middle;\n    }\n\n    .dataframe tbody tr th {\n        vertical-align: top;\n    }\n\n    .dataframe thead th {\n        text-align: right;\n    }\n</style>\n<table border=\"1\" class=\"dataframe\">\n  <thead>\n    <tr style=\"text-align: right;\">\n      <th></th>\n      <th>open</th>\n      <th>日期</th>\n      <th>code</th>\n      <th>high</th>\n      <th>low</th>\n      <th>close</th>\n      <th>preclose</th>\n      <th>volume</th>\n      <th>amount</th>\n      <th>adjustflag</th>\n      <th>turn</th>\n      <th>tradestatus</th>\n      <th>pctChg</th>\n      <th>isST</th>\n    </tr>\n  </thead>\n  <tbody>\n    <tr>\n      <th>192</th>\n      <td>8.65</td>\n      <td>2020-04-14</td>\n      <td>sz.002484</td>\n      <td>8.88</td>\n      <td>8.65</td>\n      <td>8.88</td>\n      <td>8.53</td>\n      <td>13085732</td>\n      <td>1.147434e+08</td>\n      <td>3</td>\n      <td>1.7093</td>\n      <td>1</td>\n      <td>4.1032</td>\n      <td>0</td>\n    </tr>\n    <tr>\n      <th>193</th>\n      <td>8.89</td>\n      <td>2020-04-15</td>\n      <td>sz.002484</td>\n      <td>9.26</td>\n      <td>8.83</td>\n      <td>9.03</td>\n      <td>8.88</td>\n      <td>19425910</td>\n      <td>1.760790e+08</td>\n      <td>3</td>\n      <td>2.5375</td>\n      <td>1</td>\n      <td>1.6892</td>\n      <td>0</td>\n    </tr>\n    <tr>\n      <th>194</th>\n      <td>8.95</td>\n      <td>2020-04-16</td>\n      <td>sz.002484</td>\n      <td>9.12</td>\n      <td>8.83</td>\n      <td>9.02</td>\n      <td>9.03</td>\n      <td>13838813</td>\n      <td>1.244921e+08</td>\n      <td>3</td>\n      <td>1.8077</td>\n      <td>1</td>\n      <td>-0.1107</td>\n      <td>0</td>\n    </tr>\n  </tbody>\n</table>\n</div>"
     },
     "metadata": {},
     "execution_count": 347
    }
   ],
   "source": [
    "df.tail(3)"
   ]
  },
  {
   "cell_type": "markdown",
   "metadata": {},
   "source": [
    "### 删除某行数据"
   ]
  },
  {
   "cell_type": "code",
   "execution_count": 348,
   "metadata": {},
   "outputs": [
    {
     "output_type": "execute_result",
     "data": {
      "text/plain": "(194, 14)"
     },
     "metadata": {},
     "execution_count": 348
    }
   ],
   "source": [
    "df.drop([len(df)-1],inplace=True)\n",
    "df.shape"
   ]
  },
  {
   "cell_type": "markdown",
   "metadata": {},
   "source": [
    "### 追加一行数据"
   ]
  },
  {
   "cell_type": "code",
   "execution_count": 349,
   "metadata": {},
   "outputs": [
    {
     "output_type": "execute_result",
     "data": {
      "text/plain": "   open          日期       code  high   low  close  preclose    volume  \\\n0  6.19  2019-07-01  sz.002484  6.28  6.14   6.27      6.06  16357932   \n1  6.27  2019-07-02  sz.002484  6.29  6.19   6.23      6.27  10547447   \n2  6.22  2019-07-03  sz.002484  6.22  6.08   6.10      6.23   6266504   \n\n         amount  adjustflag      turn  tradestatus    pctChg  isST  \n0  1.012276e+08           3  2.142080            1  3.465347     0  \n1  6.576962e+07           3  1.381194            1 -0.637958     0  \n2  3.835492e+07           3  0.820602            1 -2.086679     0  ",
      "text/html": "<div>\n<style scoped>\n    .dataframe tbody tr th:only-of-type {\n        vertical-align: middle;\n    }\n\n    .dataframe tbody tr th {\n        vertical-align: top;\n    }\n\n    .dataframe thead th {\n        text-align: right;\n    }\n</style>\n<table border=\"1\" class=\"dataframe\">\n  <thead>\n    <tr style=\"text-align: right;\">\n      <th></th>\n      <th>open</th>\n      <th>日期</th>\n      <th>code</th>\n      <th>high</th>\n      <th>low</th>\n      <th>close</th>\n      <th>preclose</th>\n      <th>volume</th>\n      <th>amount</th>\n      <th>adjustflag</th>\n      <th>turn</th>\n      <th>tradestatus</th>\n      <th>pctChg</th>\n      <th>isST</th>\n    </tr>\n  </thead>\n  <tbody>\n    <tr>\n      <th>0</th>\n      <td>6.19</td>\n      <td>2019-07-01</td>\n      <td>sz.002484</td>\n      <td>6.28</td>\n      <td>6.14</td>\n      <td>6.27</td>\n      <td>6.06</td>\n      <td>16357932</td>\n      <td>1.012276e+08</td>\n      <td>3</td>\n      <td>2.142080</td>\n      <td>1</td>\n      <td>3.465347</td>\n      <td>0</td>\n    </tr>\n    <tr>\n      <th>1</th>\n      <td>6.27</td>\n      <td>2019-07-02</td>\n      <td>sz.002484</td>\n      <td>6.29</td>\n      <td>6.19</td>\n      <td>6.23</td>\n      <td>6.27</td>\n      <td>10547447</td>\n      <td>6.576962e+07</td>\n      <td>3</td>\n      <td>1.381194</td>\n      <td>1</td>\n      <td>-0.637958</td>\n      <td>0</td>\n    </tr>\n    <tr>\n      <th>2</th>\n      <td>6.22</td>\n      <td>2019-07-03</td>\n      <td>sz.002484</td>\n      <td>6.22</td>\n      <td>6.08</td>\n      <td>6.10</td>\n      <td>6.23</td>\n      <td>6266504</td>\n      <td>3.835492e+07</td>\n      <td>3</td>\n      <td>0.820602</td>\n      <td>1</td>\n      <td>-2.086679</td>\n      <td>0</td>\n    </tr>\n  </tbody>\n</table>\n</div>"
     },
     "metadata": {},
     "execution_count": 349
    }
   ],
   "source": [
    "element_for_row = df[1:2].to_dict()\n",
    "row = {k:list(v.values())[0] for k,v in element_for_row.items()}\n",
    "#追加\n",
    "df.append(row,ignore_index=True).head(3)"
   ]
  },
  {
   "cell_type": "code",
   "execution_count": null,
   "metadata": {},
   "outputs": [],
   "source": []
  }
 ]
}