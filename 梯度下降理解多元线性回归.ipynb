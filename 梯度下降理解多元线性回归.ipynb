{
 "cells": [
  {
   "cell_type": "code",
   "execution_count": 1,
   "metadata": {
    "colab": {},
    "colab_type": "code",
    "id": "YWkG6q930kyn"
   },
   "outputs": [],
   "source": [
    "import numpy as np\n",
    "import matplotlib.pyplot as plt\n",
    "\n",
    "import matplotlib\n",
    "matplotlib.rcParams['font.sans-serif'] = ['SimHei']\n",
    "matplotlib.rcParams['font.family'] = 'sans-serif'\n",
    "matplotlib.rcParams['axes.unicode_minus'] = False"
   ]
  },
  {
   "cell_type": "code",
   "execution_count": 2,
   "metadata": {
    "colab": {
     "base_uri": "https://localhost:8080/",
     "height": 34
    },
    "colab_type": "code",
    "id": "dE7YXvJJ0ky7",
    "outputId": "842f17c0-358c-449c-8cb1-66b2105e72dd"
   },
   "outputs": [
    {
     "data": {
      "text/plain": [
       "((47, 2), (47, 1))"
      ]
     },
     "execution_count": 2,
     "metadata": {},
     "output_type": "execute_result"
    }
   ],
   "source": [
    "originX = np.array([[62.47, 2.0], [65.78, 3.0], [58.05, 2.0], [52.09, 2.0], [74.98, 3.0], [55.87, 2.0], [90.66, 3.0], [113.68, 3.0], [97.92, 2.0], [46.33, 2.0], [134.55, 3.0], [151.15, 3.0], [63.01, 2.0], [65.66, 2.0], [108.81, 3.0], [66.19, 3.0], [54.1, 2.0], [73.44, 2.0], [51.78, 2.0], [92.42, 3.0], [59.13, 2.0], [49.49, 1.0], [51.68, 2.0], [52.87, 2.0], [69.46, 2.0], [76.41, 2.0], [63.1, 2.0], [197.37, 5.0], [93.53, 3.0], [91.35, 3.0], [103.49, 3.0], [45.12, 2.0], [59.59, 2.0], [174.66, 4.0], [35.8, 1.0], [91.35, 3.0], [55.07, 2.0], [119.44, 3.0], [65.85, 2.0], [72.05, 3.0], [85.98, 3.0], [103.29, 4.0], [184.05, 5.0], [90.87, 3.0], [38.83, 1.0], [51.65, 1.0], [50.14, 1.0]])\n",
    "Y = np.array([[213.0], [226.0], [179.0], [188.0], [215.0], [152.0], [290.0], [375.0], [305.0], [166.0], [385.0], [500.0], [195.0], [200.0], [310.0], [205.0], [158.0], [270.0], [150.0], [310.0], [180.0], [200.0], [155.0], [178.0], [303.0], [250.0], [218.0], [630.0], [326.0], [310.0], [530.0], [138.0], [230.0], [560.0], [115.0], [400.0], [140.0], [547.0], [240.0], [250.0], [315.0], [330.0], [680.0], [302.0], [130.0], [162.0], [140.0]]) \n",
    "originX.shape, Y.shape"
   ]
  },
  {
   "cell_type": "markdown",
   "metadata": {
    "colab_type": "text",
    "id": "KW9YOHUH0kyx"
   },
   "source": [
    "## 假设函数：\n",
    "$$ h_\\theta (X) = X \\theta $$\n",
    "$ X : m*n $ <br/>\n",
    "$ \\theta : n*1 $ <br/>\n",
    "$ h_\\theta(X)=Y : m * 1 $\n",
    "\n",
    "## 这个过程其实就是在尝试求 $ h_\\theta(X) = X_0 * \\theta_0 + X_1 * \\theta_1 ...... X_n * \\theta_n = Y $ 这个式子的解"
   ]
  },
  {
   "cell_type": "code",
   "execution_count": null,
   "metadata": {},
   "outputs": [],
   "source": []
  },
  {
   "cell_type": "code",
   "execution_count": 3,
   "metadata": {
    "colab": {},
    "colab_type": "code",
    "id": "aIXpfnJw0kyy"
   },
   "outputs": [],
   "source": [
    "def h(theta, X):\n",
    "    '''定义函数模型'''\n",
    "    \n",
    "    return np.dot(X, theta)"
   ]
  },
  {
   "cell_type": "markdown",
   "metadata": {
    "colab_type": "text",
    "id": "sk3BTFsB0ky0"
   },
   "source": [
    "## 损失函数： $$ J(\\theta_0,\\theta_1,\\theta_2,...,\\theta_n) = \\frac{1}{2m} \\sum_{i=1}^{m} (h_\\theta(x^{(i)})-y^{(i)})^2 $$\n",
    "\n",
    "## 损失函数的原理是利用平方误差和的值的变化来求出每一次下降的时候得到的值不断缩小这个值，理论上，当 平方误差和的值 = 0 的时候，这一点的导数也等于0，这时候得到的就是误差最小的值，所以在下降的过程中，我们用学习率来控制下降的步长，最终无限逼近误差为0"
   ]
  },
  {
   "cell_type": "markdown",
   "metadata": {
    "colab_type": "text",
    "id": "dMC8obM91yxj"
   },
   "source": [
    "## 这里的分母的 1/2m 中的 2 其实可以改一改，2的位置值越大，迭代次数越少，收敛越快，原因是，当分母的m倍数扩大越快的时候,损失函数J被缩小的比例就越小，最终迭代判断是否拟合的时候 abs(J^(n-1) - J^(n))的值之间的距离就越近\n",
    "## (上面这种优化其实是负优化，因为1/2m的位置是最小二乘法的位置，为了保持在求导过程中的同等约束所以改了2后还是要在下降的损失函数里除以相等的数 ，而如果不除以相等数，也不过是加大的学习率而已，没有起到优化收敛最小值的意义）"
   ]
  },
  {
   "cell_type": "markdown",
   "metadata": {},
   "source": [
    "# L1，L2正则化\n",
    "\n",
    "## 一般回归分析中回归ww表示特征的系数，从上式可以看到正则化项是对系数做了处理（限制）。L1正则化和L2正则化的说明如下：\n",
    "\n",
    "## L1正则化是指权值向量ww中各个元素的绝对值之和，通常表示为||w||1||w||1\n",
    "## L2正则化是指权值向量ww中各个元素的平方和然后再求平方根（可以看到Ridge回归的L2正则化项有平方符号），通常表示为||w||2||w||2\n",
    "## 一般都会在正则化项之前添加一个系数，Python中用αα表示，一些文章也用λλ表示。这个系数需要用户指定。\n",
    "\n",
    "## 那添加L1和L2正则化有什么用？下面是L1正则化和L2正则化的作用，这些表述可以在很多文章中找到。\n",
    "\n",
    "## L1正则化可以产生稀疏权值矩阵，即产生一个稀疏模型，可以用于特征选择\n",
    "## L2正则化可以防止模型过拟合（overfitting）；一定程度上，L1也可以防止过拟合"
   ]
  },
  {
   "cell_type": "code",
   "execution_count": 4,
   "metadata": {
    "colab": {},
    "colab_type": "code",
    "id": "1s5zljFV0ky0"
   },
   "outputs": [],
   "source": [
    "def J(theta, X, Y):\n",
    "    '''定义损失函数'''\n",
    "    m = len(X)\n",
    "    return ((h(theta,X)-Y)**2).sum()/(2*m)\n",
    "    #return np.sum(np.dot((h(theta, X) - Y).T, (h(theta, X) - Y)) / (2 * m))"
   ]
  },
  {
   "cell_type": "markdown",
   "metadata": {
    "colab_type": "text",
    "id": "LYPegwjF0ky3"
   },
   "source": [
    "## 梯度函数\n",
    "梯度下降公式： $$ \\theta_j := \\theta_j - \\alpha \\frac{1}{m} \\sum_{i=1}^{m}(h_\\theta(x^{(i)}) - y^{(i)}) \\cdot x_j^{(i)} $$\n",
    "$ x_j^{(i)} : m*1 $ 即所有样本的第j列<br/>\n",
    "$ h_\\theta(x^{(i)}) - y^{(i)} : m * 1 $\n",
    "\n",
    "\n",
    "## 偏导数是函数某一点沿着任意方向上因变量与自变量的变化率的比值，是一个向量，有大小也有方向，那么既然偏导数既有大小也有方向，则肯定存在一个偏导数，其模值（即大小）最大。这个最大的模值就是梯度的模值，模值最大的偏导数的方向就是梯度的方向。梯度的定义如下：\n",
    "## 学习率是实际步长与梯度模的比值，偏导与梯度模的比值就是梯度在参数方面的余弦值，这么一来，在参数只有一个的情况下，梯度下降法可以用几何的方式很好地解释了。"
   ]
  },
  {
   "cell_type": "markdown",
   "metadata": {},
   "source": [
    "# 下面是一个基本的BGD类型的梯度下降算法，\n",
    "# 其实也可以在cost损失函数后面加一个分母，然后加大学习率来提高收敛速度（因为分母减小了损失函数的结果,这就减少了函数在的摆动范围，而学习率加大了近似极限的实数域，从而加大了训练速度）这种算法也叫 --- RMSprop"
   ]
  },
  {
   "cell_type": "code",
   "execution_count": 5,
   "metadata": {
    "colab": {},
    "colab_type": "code",
    "id": "Ewyj5DOh0ky3"
   },
   "outputs": [],
   "source": [
    "\n",
    "def bgd(alpha, X, Y, maxloop, epsilon):\n",
    "    '''定义梯度下降函数'''\n",
    "    m, n = X.shape # m 是数据矩阵的高，n是数据矩阵的宽\n",
    "\n",
    "    theta = np.zeros((n,1))  #初始化参数为定义为0\n",
    "    \n",
    "    count = 0 # 记录迭代次数\n",
    "    converged = False # 是否已收敛的标志，如果收敛则最后两次的迭代的损失函数之间的差值会小于学习率\n",
    "    cost = np.inf # 初始化代价值为无穷大\n",
    "    \n",
    "    costs = [J(theta, X, Y),]#[cost,] # 记录每一次的代价值，里面放一个初始的损失函数，保证下降最后两次相互减少不会报错，其实放无穷大也是一样的\n",
    "    \n",
    "    thetas = {}  # 记录每一次参数的更新\n",
    "    for i in range(n):\n",
    "        thetas[i] = [theta[i,0],]\n",
    "\n",
    "    \n",
    "    #开始梯度下降，满足以下条件则停止 1.达到最大次数 count <= maxloop 2. 两个梯度的损失函数差值小于学习率的值 abs(cost[-1]-cost[-2]) < epsilon\n",
    "    while count <= maxloop:\n",
    "        if converged: #假如直接满足收敛值，就终止迭代，指出现极端情况第一次预期函数就直接满足了，可以得到方程解或者足够精度的解\n",
    "            break\n",
    "        count += 1\n",
    "\n",
    "        '''用 alpha * （1.0 / m） 来控制 alpha 和（1.0 / m） 的两个点 间的距离 ， 从而控制 损失函数斜率的变化逼近 斜率为 0 得到 近似解'''\n",
    "        theta = theta - alpha * 1.0 / m * np.dot(X.T, (h(theta, X) - Y))#n个参数同时计算更新值\n",
    "        \n",
    "        for j in range(n): #添加到thetas中\n",
    "            thetas[j].append(theta[j,0])\n",
    "        #print('theta:',theta)\n",
    "            \n",
    "        \n",
    "        cost = J(theta, X, Y) # 记录当前参数的函数代价，并存入costs\n",
    "        \n",
    "        costs.append(cost)\n",
    "        print({'cost':[count,cost],\"costs\":abs(costs[-1] - costs[-2])<epsilon})\n",
    "            \n",
    "        if abs(costs[-1] - costs[-2]) <= epsilon : #当两次损失函数的值小于收敛的值时，则完成函数的收敛，得到近似的最小值，也就得到了行列式的近似解，拿到了每项的参数\n",
    "            converged = True\n",
    "    \n",
    "    return theta, thetas, costs"
   ]
  },
  {
   "cell_type": "markdown",
   "metadata": {
    "colab_type": "text",
    "id": "CNyWBI6a0kyu"
   },
   "source": [
    "## 标准化数据"
   ]
  },
  {
   "cell_type": "code",
   "execution_count": 6,
   "metadata": {
    "colab": {},
    "colab_type": "code",
    "id": "hMYoCsGG0kyv"
   },
   "outputs": [],
   "source": [
    "def standarize(X):\n",
    "    '''\n",
    "    特征标准化处理：\n",
    "    Args:\n",
    "       X 样本集\n",
    "    Returns:\n",
    "      标准后的样本集\n",
    "    '''\n",
    "    m, n = X.shape #m是行，n是列\n",
    "    values = {}  # 保存每一列的mean和std，便于对预测数据进行标准化\n",
    "    for j in range(n):\n",
    "        features = X[:,j] #分别拿出每一列的特征值\n",
    "        meanVal = features.mean(axis=0) #特征值的均值\n",
    "        stdVal = features.std(axis=0) #特征值的标准差\n",
    "        print(\"特征值\"+str(j),features,'特征值的均值',meanVal,'特征值的标准差',stdVal)\n",
    "        values[j] = [meanVal, stdVal] \n",
    "        if stdVal != 0: #如果标准差不等于0就把数据归一化\n",
    "            X[:,j] = (features - meanVal) / stdVal #数据归一化\n",
    "        else: #要不就直接=0\n",
    "            X[:,j] = 0\n",
    "    return X, values\n",
    "    "
   ]
  },
  {
   "cell_type": "markdown",
   "metadata": {
    "colab_type": "text",
    "id": "d7YjNPzj0ky6"
   },
   "source": [
    "## 运行"
   ]
  },
  {
   "cell_type": "code",
   "execution_count": 7,
   "metadata": {
    "colab": {
     "base_uri": "https://localhost:8080/",
     "height": 204
    },
    "colab_type": "code",
    "id": "m4ge2iR80ky_",
    "outputId": "e4e92c90-6c5b-4196-a2c3-711bf66fe890"
   },
   "outputs": [
    {
     "name": "stdout",
     "output_type": "stream",
     "text": [
      "特征值0 [ 62.47  65.78  58.05  52.09  74.98  55.87  90.66 113.68  97.92  46.33\n",
      " 134.55 151.15  63.01  65.66 108.81  66.19  54.1   73.44  51.78  92.42\n",
      "  59.13  49.49  51.68  52.87  69.46  76.41  63.1  197.37  93.53  91.35\n",
      " 103.49  45.12  59.59 174.66  35.8   91.35  55.07 119.44  65.85  72.05\n",
      "  85.98 103.29 184.05  90.87  38.83  51.65  50.14] 特征值的均值 81.07574468085106 特征值的标准差 36.96655980199384\n",
      "特征值1 [2. 3. 2. 2. 3. 2. 3. 3. 2. 2. 3. 3. 2. 2. 3. 3. 2. 2. 2. 3. 2. 1. 2. 2.\n",
      " 2. 2. 2. 5. 3. 3. 3. 2. 2. 4. 1. 3. 2. 3. 2. 3. 3. 4. 5. 3. 1. 1. 1.] 特征值的均值 2.4680851063829787 特征值的标准差 0.895641071482944\n",
      "(47, 3) (47, 1)\n"
     ]
    }
   ],
   "source": [
    "# 对特征X增加x0列\n",
    "m,n = originX.shape #m是数据的行 n是数据的列\n",
    "X, values = standarize(originX.copy()) #标准化数据\n",
    "X = np.concatenate((np.ones((m,1)), X), axis=1) #给 X 添加一列 1方便后面的函数中直接用J\n",
    "print(X.shape, Y.shape)"
   ]
  },
  {
   "cell_type": "markdown",
   "metadata": {
    "colab_type": "text",
    "id": "pB06FOaS0kzB"
   },
   "source": [
    "## 模型训练\n",
    "定义梯函数的 学习率 最大迭代次数 收敛精度"
   ]
  },
  {
   "cell_type": "code",
   "execution_count": 8,
   "metadata": {
    "colab": {
     "base_uri": "https://localhost:8080/",
     "height": 34
    },
    "colab_type": "code",
    "id": "cMhI42Dx0kzC",
    "outputId": "12799409-b6cd-4b90-cd4f-855b7e6a7352"
   },
   "outputs": [
    {
     "data": {
      "text/plain": [
       "(47, 3)"
      ]
     },
     "execution_count": 8,
     "metadata": {},
     "output_type": "execute_result"
    }
   ],
   "source": [
    "alpha = 1 # 学习率\n",
    "maxloop = 5000 # 最大迭代次数\n",
    "epsilon = 0.000001 # 收敛精度值\n",
    "X.shape"
   ]
  },
  {
   "cell_type": "code",
   "execution_count": 9,
   "metadata": {
    "colab": {
     "base_uri": "https://localhost:8080/",
     "height": 1000
    },
    "colab_type": "code",
    "id": "5Oe7Nigt0kzE",
    "outputId": "e2d75b7a-39df-4f1b-cd6f-e7515f4318ba",
    "tags": [
     "outputPrepend",
     "outputPrepend",
     "outputPrepend",
     "outputPrepend",
     "outputPrepend",
     "outputPrepend",
     "outputPrepend",
     "outputPrepend",
     "outputPrepend"
    ]
   },
   "outputs": [
    {
     "name": "stdout",
     "output_type": "stream",
     "text": [
      "CPU times: user 1e+03 ns, sys: 0 ns, total: 1e+03 ns\n",
      "Wall time: 3.34 µs\n",
      "{'cost': [1, 7115.266326086189], 'costs': False}\n",
      "{'cost': [2, 5513.134871859729], 'costs': False}\n",
      "{'cost': [3, 4330.663689355221], 'costs': False}\n",
      "{'cost': [4, 3457.9275017190353], 'costs': False}\n",
      "{'cost': [5, 2813.794719052398], 'costs': False}\n",
      "{'cost': [6, 2338.385256738651], 'costs': False}\n",
      "{'cost': [7, 1987.503943227839], 'costs': False}\n",
      "{'cost': [8, 1728.5320338933502], 'costs': False}\n",
      "{'cost': [9, 1537.3948965140357], 'costs': False}\n",
      "{'cost': [10, 1396.323977357424], 'costs': False}\n",
      "{'cost': [11, 1292.204995015456], 'costs': False}\n",
      "{'cost': [12, 1215.35880624219], 'costs': False}\n",
      "{'cost': [13, 1158.6416102405913], 'costs': False}\n",
      "{'cost': [14, 1116.7808442919372], 'costs': False}\n",
      "{'cost': [15, 1085.8850340378726], 'costs': False}\n",
      "{'cost': [16, 1063.082032955044], 'costs': False}\n",
      "{'cost': [17, 1046.2520209208062], 'costs': False}\n",
      "{'cost': [18, 1033.8304407944115], 'costs': False}\n",
      "{'cost': [19, 1024.6625535390401], 'costs': False}\n",
      "{'cost': [20, 1017.8960909898348], 'costs': False}\n",
      "{'cost': [21, 1012.9020270191018], 'costs': False}\n",
      "{'cost': [22, 1009.216101801543], 'costs': False}\n",
      "{'cost': [23, 1006.495663138953], 'costs': False}\n",
      "{'cost': [24, 1004.4878127133235], 'costs': False}\n",
      "{'cost': [25, 1003.0058960698273], 'costs': False}\n",
      "{'cost': [26, 1001.9121507837052], 'costs': False}\n",
      "{'cost': [27, 1001.1048997442055], 'costs': False}\n",
      "{'cost': [28, 1000.5090990134122], 'costs': False}\n",
      "{'cost': [29, 1000.0693615668877], 'costs': False}\n",
      "{'cost': [30, 999.7448083868023], 'costs': False}\n",
      "{'cost': [31, 999.5052682531712], 'costs': False}\n",
      "{'cost': [32, 999.3284729569269], 'costs': False}\n",
      "{'cost': [33, 999.1979871953115], 'costs': False}\n",
      "{'cost': [34, 999.1016807078323], 'costs': False}\n",
      "{'cost': [35, 999.0306006189725], 'costs': False}\n",
      "{'cost': [36, 998.9781391580193], 'costs': False}\n",
      "{'cost': [37, 998.9394193853033], 'costs': False}\n",
      "{'cost': [38, 998.910841820517], 'costs': False}\n",
      "{'cost': [39, 998.8897498266374], 'costs': False}\n",
      "{'cost': [40, 998.8741826427597], 'costs': False}\n",
      "{'cost': [41, 998.8626931071923], 'costs': False}\n",
      "{'cost': [42, 998.8542131259313], 'costs': False}\n",
      "{'cost': [43, 998.8479543801566], 'costs': False}\n",
      "{'cost': [44, 998.8433350422755], 'costs': False}\n",
      "{'cost': [45, 998.8399256878735], 'costs': False}\n",
      "{'cost': [46, 998.837409375419], 'costs': False}\n",
      "{'cost': [47, 998.835552182643], 'costs': False}\n",
      "{'cost': [48, 998.8341814605758], 'costs': False}\n",
      "{'cost': [49, 998.8331697837012], 'costs': False}\n",
      "{'cost': [50, 998.8324231041776], 'costs': False}\n",
      "{'cost': [51, 998.8318720089362], 'costs': False}\n",
      "{'cost': [52, 998.8314652668812], 'costs': False}\n",
      "{'cost': [53, 998.8311650663218], 'costs': False}\n",
      "{'cost': [54, 998.8309434999138], 'costs': False}\n",
      "{'cost': [55, 998.8307799703288], 'costs': False}\n",
      "{'cost': [56, 998.8306592754748], 'costs': False}\n",
      "{'cost': [57, 998.8305701952771], 'costs': False}\n",
      "{'cost': [58, 998.830504448633], 'costs': False}\n",
      "{'cost': [59, 998.8304559235811], 'costs': False}\n",
      "{'cost': [60, 998.8304201091194], 'costs': False}\n",
      "{'cost': [61, 998.8303936758517], 'costs': False}\n",
      "{'cost': [62, 998.8303741664811], 'costs': False}\n",
      "{'cost': [63, 998.8303597673699], 'costs': False}\n",
      "{'cost': [64, 998.8303491399436], 'costs': False}\n",
      "{'cost': [65, 998.8303412962517], 'costs': False}\n",
      "{'cost': [66, 998.8303355071266], 'costs': False}\n",
      "{'cost': [67, 998.8303312343978], 'costs': False}\n",
      "{'cost': [68, 998.8303280808615], 'costs': False}\n",
      "{'cost': [69, 998.830325753359], 'costs': False}\n",
      "{'cost': [70, 998.8303240355193], 'costs': False}\n",
      "{'cost': [71, 998.8303227676487], 'costs': False}\n",
      "{'cost': [72, 998.8303218318822], 'costs': True}\n"
     ]
    }
   ],
   "source": [
    "%time\n",
    "resault = bgd(alpha, X, Y, maxloop, epsilon)\n",
    "theta , thetas, costs = resault"
   ]
  },
  {
   "cell_type": "code",
   "execution_count": 10,
   "metadata": {},
   "outputs": [
    {
     "data": {
      "text/plain": [
       "array([[275.55319149],\n",
       "       [125.4886707 ],\n",
       "       [  3.7666334 ]])"
      ]
     },
     "execution_count": 10,
     "metadata": {},
     "output_type": "execute_result"
    }
   ],
   "source": [
    "theta"
   ]
  },
  {
   "cell_type": "markdown",
   "metadata": {},
   "source": [
    "进行梯度下降"
   ]
  },
  {
   "cell_type": "markdown",
   "metadata": {},
   "source": [
    "## 因为数据当中有三列数据，所有有三个参数去拟合我们的对应的Y向量的结果，所以参数当中有三个向量分别对应了这种情况"
   ]
  },
  {
   "cell_type": "markdown",
   "metadata": {},
   "source": [
    "求出期望参数，也就是方程的近似解为"
   ]
  },
  {
   "cell_type": "code",
   "execution_count": 11,
   "metadata": {},
   "outputs": [
    {
     "data": {
      "text/plain": [
       "array([[275.55319149],\n",
       "       [125.4886707 ],\n",
       "       [  3.7666334 ]])"
      ]
     },
     "execution_count": 11,
     "metadata": {},
     "output_type": "execute_result"
    }
   ],
   "source": [
    "theta"
   ]
  },
  {
   "cell_type": "code",
   "execution_count": 12,
   "metadata": {},
   "outputs": [
    {
     "data": {
      "text/plain": [
       "[998.8303597673699,\n",
       " 998.8303491399436,\n",
       " 998.8303412962517,\n",
       " 998.8303355071266,\n",
       " 998.8303312343978,\n",
       " 998.8303280808615,\n",
       " 998.830325753359,\n",
       " 998.8303240355193,\n",
       " 998.8303227676487,\n",
       " 998.8303218318822]"
      ]
     },
     "execution_count": 12,
     "metadata": {},
     "output_type": "execute_result"
    }
   ],
   "source": [
    "costs[-10:]"
   ]
  },
  {
   "cell_type": "markdown",
   "metadata": {},
   "source": [
    "所有的下降过程得到的损失值"
   ]
  },
  {
   "cell_type": "markdown",
   "metadata": {
    "colab_type": "text",
    "id": "A1WMxH410kzH"
   },
   "source": [
    "##  4.预测价格"
   ]
  },
  {
   "cell_type": "code",
   "execution_count": 13,
   "metadata": {
    "colab": {
     "base_uri": "https://localhost:8080/",
     "height": 34
    },
    "colab_type": "code",
    "id": "XgSsbtcr0kzH",
    "outputId": "530dd5c2-5fba-4e99-8c3f-00de6479fc8e"
   },
   "outputs": [
    {
     "data": {
      "text/plain": [
       "(matrix([[ 1.        , -0.29961524, -0.52262577]]), -0.5226257719601379)"
      ]
     },
     "execution_count": 13,
     "metadata": {},
     "output_type": "execute_result"
    }
   ],
   "source": [
    "normalizedSize = (70 -values[0][0] ) / values[0][1] \n",
    "normalizedBr = (2-values[1][0]) / values[1][1]\n",
    "predicateX = np.matrix([[1, normalizedSize, normalizedBr]])\n",
    "predicateX,normalizedBr"
   ]
  },
  {
   "cell_type": "code",
   "execution_count": 14,
   "metadata": {},
   "outputs": [
    {
     "name": "stdout",
     "output_type": "stream",
     "text": [
      "70㎡两居估价: ￥235.9863万元\n"
     ]
    }
   ],
   "source": [
    "price = h(theta, predicateX)\n",
    "print('70㎡两居估价: ￥%.4f万元'%price)"
   ]
  },
  {
   "cell_type": "code",
   "execution_count": 15,
   "metadata": {},
   "outputs": [
    {
     "name": "stdout",
     "output_type": "stream",
     "text": [
      "{0: [81.07574468085106, 36.96655980199384], 1: [2.4680851063829787, 0.895641071482944]}\n"
     ]
    }
   ],
   "source": [
    "print(values)"
   ]
  },
  {
   "cell_type": "code",
   "execution_count": 16,
   "metadata": {},
   "outputs": [
    {
     "data": {
      "text/plain": [
       "array([235.98633364])"
      ]
     },
     "execution_count": 16,
     "metadata": {},
     "output_type": "execute_result"
    }
   ],
   "source": [
    "reduction_standardization = np.array([values[i] for i in values])\n",
    "h(theta,np.r_[np.ones(1),(np.array([70,2])-reduction_standardization[:,0])/reduction_standardization[:,-1]])"
   ]
  },
  {
   "cell_type": "code",
   "execution_count": 17,
   "metadata": {},
   "outputs": [
    {
     "data": {
      "text/plain": [
       "(array([[275.55319149],\n",
       "        [125.4886707 ],\n",
       "        [  3.7666334 ]]),\n",
       " array([ 1.        , -0.29961524, -0.52262577]))"
      ]
     },
     "execution_count": 17,
     "metadata": {},
     "output_type": "execute_result"
    }
   ],
   "source": [
    "theta,np.r_[np.ones(1),(np.array([70,2])-reduction_standardization[:,0])/reduction_standardization[:,-1]]"
   ]
  },
  {
   "cell_type": "markdown",
   "metadata": {},
   "source": [
    "### values 里的分别是 mean , std 下面要将需要预测的数据也标准化"
   ]
  },
  {
   "cell_type": "markdown",
   "metadata": {
    "colab_type": "text",
    "id": "dQLPzVov0kzK"
   },
   "source": [
    "5.绘制拟合平面"
   ]
  },
  {
   "cell_type": "markdown",
   "metadata": {},
   "source": [
    "### 整理出标准化的后的新X向量，在用求出来的行列式近似解通过期望函数的计算拿到预测的价格"
   ]
  },
  {
   "cell_type": "code",
   "execution_count": 18,
   "metadata": {},
   "outputs": [],
   "source": [
    "predicateX = np.matrix([[1, normalizedSize, normalizedBr]])\n",
    "price = h(theta, predicateX)"
   ]
  },
  {
   "cell_type": "code",
   "execution_count": 19,
   "metadata": {},
   "outputs": [
    {
     "name": "stdout",
     "output_type": "stream",
     "text": [
      "70㎡两居估价: ￥235.9863万元\n"
     ]
    }
   ],
   "source": [
    "print('70㎡两居估价: ￥%.4f万元'%price)"
   ]
  },
  {
   "cell_type": "code",
   "execution_count": 20,
   "metadata": {
    "colab": {
     "base_uri": "https://localhost:8080/",
     "height": 1000
    },
    "colab_type": "code",
    "id": "rUjwSR8q0kzK",
    "outputId": "f3269984-7f4d-443c-ab5a-7b8febb2ee02"
   },
   "outputs": [
    {
     "name": "stderr",
     "output_type": "stream",
     "text": [
      "findfont: Font family ['sans-serif'] not found. Falling back to DejaVu Sans.\n"
     ]
    },
    {
     "data": {
      "image/png": "[encoded data removed]",
      "text/plain": [
       "<Figure size 720x576 with 1 Axes>"
      ]
     },
     "metadata": {
      "needs_background": "light"
     },
     "output_type": "display_data"
    }
   ],
   "source": [
    "from mpl_toolkits.mplot3d import axes3d\n",
    "from matplotlib import cm\n",
    "import matplotlib.ticker as mtick\n",
    "\n",
    "# 打印拟合平面\n",
    "fittingFig = plt.figure(figsize=(10, 8))\n",
    "title = 'bgd: rate=%.3f, maxloop=%d, epsilon=%.3f \\n'%(alpha,maxloop,epsilon)\n",
    "ax=fittingFig.gca(projection='3d')\n",
    "\n",
    "xx = np.linspace(0,200,25)\n",
    "yy = np.linspace(0,5,25)\n",
    "zz = np.zeros((25,25))\n",
    "for i in range(25):\n",
    "    for j in range(25):\n",
    "        normalizedSize = (xx[i]-values[0][0])/values[0][1]\n",
    "        normalizedBr = (yy[j]-values[1][0])/values[1][1]\n",
    "        x = np.matrix([[1,normalizedSize, normalizedBr]])\n",
    "        zz[i,j] = h(theta, x)\n",
    "xx, yy = np.meshgrid(xx,yy)\n",
    "ax.zaxis.set_major_formatter(mtick.FormatStrFormatter('%.2e'))\n",
    "ax.plot_surface(xx, yy, zz, rstride=1, cstride=1, cmap=cm.rainbow, alpha=0.1, antialiased=True)\n",
    "\n",
    "xs = originX[:, 0].flatten()\n",
    "ys = originX[:, 1].flatten()\n",
    "zs = Y[:, 0].flatten()\n",
    "ax.scatter(xs, ys, zs, c='b', marker='o')\n",
    "\n",
    "ax.set_xlabel(u'm^2')\n",
    "ax.set_ylabel(u'Number of the bedroom ')\n",
    "ax.set_zlabel(u'The expected price')\n",
    "\n",
    "plt.show()"
   ]
  },
  {
   "cell_type": "code",
   "execution_count": 21,
   "metadata": {
    "colab": {
     "base_uri": "https://localhost:8080/",
     "height": 296
    },
    "colab_type": "code",
    "id": "YqqeaBC-0kzM",
    "outputId": "63c1f7a9-1cf8-4f7a-c4b3-63c584f59cee"
   },
   "outputs": [
    {
     "data": {
      "text/plain": [
       "Text(0, 0.5, 'cost')"
      ]
     },
     "execution_count": 21,
     "metadata": {},
     "output_type": "execute_result"
    },
    {
     "data": {
      "image/png": "[encoded data removed]",
      "text/plain": [
       "<Figure size 432x288 with 1 Axes>"
      ]
     },
     "metadata": {
      "needs_background": "light"
     },
     "output_type": "display_data"
    }
   ],
   "source": [
    "%matplotlib inline\n",
    "errorsFig = plt.figure()\n",
    "ax = errorsFig.add_subplot(111)\n",
    "ax.yaxis.set_major_formatter(mtick.FormatStrFormatter('%.2e'))\n",
    "\n",
    "ax.plot(range(len(costs)), costs)\n",
    "ax.set_xlabel(u'count')\n",
    "ax.set_ylabel(u'cost')"
   ]
  },
  {
   "cell_type": "markdown",
   "metadata": {},
   "source": [
    "在图中查看函数收敛的速率"
   ]
  },
  {
   "cell_type": "markdown",
   "metadata": {
    "colab": {},
    "colab_type": "code",
    "id": "1Wb01fnw0kzP"
   },
   "source": [
    "## 更多优化方法:\n",
    "1. https://www.jianshu.com/p/548049548fb9\n",
    "2. https://www.cnblogs.com/maybe2030/p/5089753.html"
   ]
  },
  {
   "cell_type": "code",
   "execution_count": null,
   "metadata": {},
   "outputs": [],
   "source": []
  },
  {
   "cell_type": "code",
   "execution_count": null,
   "metadata": {},
   "outputs": [],
   "source": []
  },
  {
   "cell_type": "code",
   "execution_count": null,
   "metadata": {},
   "outputs": [],
   "source": []
  },
  {
   "cell_type": "code",
   "execution_count": null,
   "metadata": {},
   "outputs": [],
   "source": []
  }
 ],
 "metadata": {
  "colab": {
   "collapsed_sections": [],
   "name": "理解多元线性回归.ipynb",
   "provenance": []
  },
  "kernelspec": {
   "display_name": "Python 3",
   "language": "python",
   "name": "python3"
  },
  "language_info": {
   "codemirror_mode": {
    "name": "ipython",
    "version": 3
   },
   "file_extension": ".py",
   "mimetype": "text/x-python",
   "name": "python",
   "nbconvert_exporter": "python",
   "pygments_lexer": "ipython3",
   "version": "3.7.9"
  }
 },
 "nbformat": 4,
 "nbformat_minor": 4
}
